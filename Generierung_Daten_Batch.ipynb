{
 "cells": [
  {
   "cell_type": "code",
   "execution_count": 1,
   "metadata": {},
   "outputs": [],
   "source": [
    "import pandas as pd\n",
    "import numpy as np\n",
    "import scipy as sp\n",
    "import random\n",
    "import plotly.graph_objects as go\n",
    "import plotly.express as px\n",
    "\n",
    "from scipy.integrate import solve_ivp"
   ]
  },
  {
   "cell_type": "code",
   "execution_count": 2,
   "metadata": {},
   "outputs": [],
   "source": [
    "import warnings\n",
    "\n",
    "warnings.filterwarnings(\"ignore\")"
   ]
  },
  {
   "cell_type": "markdown",
   "metadata": {},
   "source": [
    "# Modellierung des 3-Tank Systems in Python"
   ]
  },
  {
   "cell_type": "markdown",
   "metadata": {},
   "source": [
    "gegeben: <br>\n",
    "x(t) : Füllstand in cm -> Füllstände der 3 Tanks stellen Zustände des Systems da <br>\n",
    "u(t) : Flüssigkeit in den Tank -> in Linken und Rechten Tank kann über Stellgröße u Flüssigkeit gepumpt werden <br>\n",
    "v(t) : Auströmgeschwindigkeit -> Abfluss ist am Rechten Tank, Abflussgeschwindigkeit ist abhängig vom Füllstand <br>\n",
    "$$v(t) = \\sqrt{2*g*x(t)}$$\n",
    "Konstanten und Fixe Werte:<br>\n",
    "g = 9.81 : Erdbeschlunigungskonstante<br>\n",
    "A : jeweilige Fläche der Tanks<br>\n",
    "q_{1,2} : Querschnitt der Verbindungsrohre, q_{3} : Querschnitt des Ausflussrohrs"
   ]
  },
  {
   "cell_type": "markdown",
   "metadata": {},
   "source": [
    "## Einflussgeschwindigkeit"
   ]
  },
  {
   "cell_type": "markdown",
   "metadata": {},
   "source": [
    "Flüssigkeit in den Tank stellt die Messgröße des Prozesses da<br>\n",
    "Es existiert dabei die Einflussgeschwindigkeit in den Ersten und in den Dritten Tank<br>\n",
    "Zur Simulation werden beide Einflussgeschwindigkeiten mit einer Funktion modelliert"
   ]
  },
  {
   "cell_type": "markdown",
   "metadata": {},
   "source": [
    "Funktion $u_1(t)$ sowie $u_2(t)$ werden in diesem Beispiel durch ein zufällig ausgewähltes Polynom 6. Grades dargestellt. Die Funktion soll dabei durch die zufällige wahl der Extrempunkte und durch die Wahl der Nullstellen erstellt werden. Die Beispielmodellierung verläuft durch das lösen eines LP. <br>\n",
    "Das Ergebnis des LP sollen die Koeffizienten für $p_6(t)$ sein, also die Werte $X: [x_1, x_2, x_3, x_4, x_5, x_6]$"
   ]
  },
  {
   "cell_type": "markdown",
   "metadata": {},
   "source": [
    " modelliere anhand eines lgs <br>\n",
    "$f(t) = x_1 t^6 + x_2 t^5 + x_3 t^4 + x_4 t^3 + x_5 t^2 + x_6 t$ <br>\n",
    "$f'(t) = 6 x_1 t^5+ 5 x_2 t^4 + 4 x_3 t^3 + 3 x_4 t^2 + 2 x_5 t + x_6$ <br>\n",
    "$f''(t) = 30 x_1 t^4 + 20 x_2 t^3 + 12 x_3 t^2 + 6 x_4 t + 2 x_5$ <br>\n",
    " -> Formulierung der Bedingungen <br>\n",
    " -> Nullpunkte sollen bei 0 und bei 140 sein  <br>\n",
    " $f(0) = 0 -> d = 0$ <br>\n",
    " $f(140) = 0 -> 2744000a + 19600b + 140c + d = 0$ <br>\n",
    " $f'(0) = c = 0$<br>\n",
    " -> ein Hochpunkt hp soll sich an einer Stelle zwischen den Nullpunkten befinden, z.B hp = 100<br>\n",
    " $f`(hp) = 30000a + 200b + c = 0$<br>\n",
    " $f´´(hp) = 600a + 2b < 0$<br>\n",
    " -> Hochpunkt sollte bestenfalls nicht größer als 15 sein<br>\n",
    " $f(hp) = 1000000a + 10000b + 100c <= 15$<br>\n",
    " -> gelöst werden kann das ganze mit Scipy indem das Problem als Lineares Programm ohne Zielfunktion(schon minimiert) betrachtet wird<br>\n",
    " -> bei der Modellierung wird ausßerdem ein Trick verwendet, da die Werte der Koeffizienten negativ sein können<br>\n",
    " -> somit wird beispielsweise $x_1$ ersetzt durch $x_1^+$ und $x_1^-$"
   ]
  },
  {
   "cell_type": "code",
   "execution_count": 3,
   "metadata": {},
   "outputs": [],
   "source": [
    "# Funktion welche das LP für die vorher angegebenen Bedingungen löst\n",
    "def create_random_polynomial(hp1, hp2, y_hp1, yhp2, np1):\n",
    "    c = np.zeros(12)\n",
    "    a_eq = np.array(\n",
    "        [\n",
    "            [\n",
    "                np1**6,\n",
    "                -(np1**6),\n",
    "                np1**5,\n",
    "                -(np1**5),\n",
    "                np1**4,\n",
    "                -(np1**4),\n",
    "                np1**3,\n",
    "                -(np1**3),\n",
    "                np1**2,\n",
    "                -(np1**2),\n",
    "                np1,\n",
    "                -np1,\n",
    "            ],\n",
    "            [\n",
    "                4 * np1**5,\n",
    "                -4 * np1**5,\n",
    "                3 * np1**4,\n",
    "                -3 * np1**4,\n",
    "                4 * np1**3,\n",
    "                -4 * np1**3,\n",
    "                3 * np1**2,\n",
    "                -3 * np1**2,\n",
    "                2 * np1,\n",
    "                -2 * np1,\n",
    "                1,\n",
    "                -1,\n",
    "            ],\n",
    "            [\n",
    "                4 * hp1**3,\n",
    "                -4 * hp1**3,\n",
    "                3 * hp1**2,\n",
    "                -3 * hp1**2,\n",
    "                4 * hp1**3,\n",
    "                -4 * hp1**3,\n",
    "                3 * hp1**2,\n",
    "                -3 * hp1**2,\n",
    "                2 * hp1,\n",
    "                -2 * hp1,\n",
    "                1,\n",
    "                -1,\n",
    "            ],\n",
    "            [\n",
    "                hp1**6,\n",
    "                -(hp1**6),\n",
    "                hp1**5,\n",
    "                -(hp1**5),\n",
    "                hp1**4,\n",
    "                -(hp1**4),\n",
    "                hp1**3,\n",
    "                -(hp1**3),\n",
    "                hp1**2,\n",
    "                -(hp1**2),\n",
    "                hp1,\n",
    "                -hp1,\n",
    "            ],\n",
    "            [\n",
    "                4 * hp2**3,\n",
    "                -4 * hp2**3,\n",
    "                3 * hp2**2,\n",
    "                -3 * hp2**2,\n",
    "                4 * hp2**3,\n",
    "                -4 * hp2**3,\n",
    "                3 * hp2**2,\n",
    "                -3 * hp2**2,\n",
    "                2 * hp2,\n",
    "                -2 * hp2,\n",
    "                1,\n",
    "                -1,\n",
    "            ],\n",
    "        ]\n",
    "    )\n",
    "    b_eq = np.array([[0], [0], [0], [y_hp1], [0]])\n",
    "\n",
    "    a_ub = np.array(\n",
    "        [\n",
    "            [\n",
    "                -(hp2**6),\n",
    "                hp2**6,\n",
    "                -(hp2**5),\n",
    "                hp2**5,\n",
    "                -(hp2**4),\n",
    "                hp2**4,\n",
    "                -(hp2**3),\n",
    "                hp2**3,\n",
    "                -(hp2**2),\n",
    "                hp2**2,\n",
    "                -hp2,\n",
    "                hp2,\n",
    "            ],\n",
    "            [\n",
    "                hp2**6,\n",
    "                -(hp2**6),\n",
    "                hp2**5,\n",
    "                -(hp2**5),\n",
    "                hp2**4,\n",
    "                -(hp2**4),\n",
    "                hp2**3,\n",
    "                -(hp2**3),\n",
    "                hp2**2,\n",
    "                -(hp2**2),\n",
    "                hp2,\n",
    "                -hp2,\n",
    "            ],\n",
    "        ]\n",
    "    )\n",
    "    b_ub = np.array([[-yhp2], [20]])\n",
    "    X = sp.optimize.linprog(c, A_eq=a_eq, b_eq=b_eq, A_ub=a_ub, b_ub=b_ub).x\n",
    "    return X"
   ]
  },
  {
   "cell_type": "markdown",
   "metadata": {},
   "source": [
    "Die Koeffizienten welche erhalten werden durch das lösen des LP werden nun weitergegeben an folgende Funktion, welche für jeden Wert an der Stelle $t$ den dazugehörigen Wert $f(t)$ ausrechnet. Hier gilt es außerdem zu beachten, dass die erstellten Werte später für das trainieren eines ML Models verwendet werden sollen. Der Wertebereich der Funktionen sollte sich nicht gravierend unterscheiden(z.B von 0-250000 statt 0-25) weswegen eine harte obere Schranke für die Funktion festgelegt wird. Die Schranke befindet sich bei dem Wert 25. Desweiteren kann die Zulaufgeschwindigkeit für den Tank nicht negativ werden weswegen der Wert 0 mit Rauschen zurückgegeben wird falls der Wert negativ ist. "
   ]
  },
  {
   "cell_type": "code",
   "execution_count": 4,
   "metadata": {},
   "outputs": [],
   "source": [
    "def poly_func(t, x):\n",
    "    val = (\n",
    "        x[0] * t**6\n",
    "        - x[1] * t**6\n",
    "        + x[2] * t**5\n",
    "        - x[3] * t**5\n",
    "        + x[4] * t**4\n",
    "        - x[5] * t**4\n",
    "        + x[6] * t**3\n",
    "        - x[7] * t**3\n",
    "        + x[8] * t**2\n",
    "        - x[9] * t**2\n",
    "        + x[10] * t\n",
    "        - x[11] * t\n",
    "    )\n",
    "    if val >= 0 and val < 25:\n",
    "        return val\n",
    "    elif val < 0:\n",
    "        return 3 * np.random.random()\n",
    "    else:\n",
    "        return 25"
   ]
  },
  {
   "cell_type": "markdown",
   "metadata": {},
   "source": [
    "Folgende Zelle plottet ein Beispiel für eine solche Funktion mit zufällig ausgewählten Parametern für das erstellen einer Funktion."
   ]
  },
  {
   "cell_type": "code",
   "execution_count": 5,
   "metadata": {},
   "outputs": [
    {
     "name": "stdout",
     "output_type": "stream",
     "text": [
      "20.31664819987709\n",
      "13.07151923383087\n"
     ]
    },
    {
     "data": {
      "application/vnd.plotly.v1+json": {
       "config": {
        "plotlyServerURL": "https://plot.ly"
       },
       "data": [
        {
         "name": "u1(t)",
         "type": "scatter",
         "x": {
          "bdata": "AAAAAAAAAAAAAAAAAADwPwAAAAAAAABAAAAAAAAACEAAAAAAAAAQQAAAAAAAABRAAAAAAAAAGEAAAAAAAAAcQAAAAAAAACBAAAAAAAAAIkAAAAAAAAAkQAAAAAAAACZAAAAAAAAAKEAAAAAAAAAqQAAAAAAAACxAAAAAAAAALkAAAAAAAAAwQAAAAAAAADFAAAAAAAAAMkAAAAAAAAAzQAAAAAAAADRAAAAAAAAANUAAAAAAAAA2QAAAAAAAADdAAAAAAAAAOEAAAAAAAAA5QAAAAAAAADpAAAAAAAAAO0AAAAAAAAA8QAAAAAAAAD1AAAAAAAAAPkAAAAAAAAA/QAAAAAAAAEBAAAAAAACAQEAAAAAAAABBQAAAAAAAgEFAAAAAAAAAQkAAAAAAAIBCQAAAAAAAAENAAAAAAACAQ0AAAAAAAABEQAAAAAAAgERAAAAAAAAARUAAAAAAAIBFQAAAAAAAAEZAAAAAAACARkAAAAAAAABHQAAAAAAAgEdAAAAAAAAASEAAAAAAAIBIQAAAAAAAAElAAAAAAACASUAAAAAAAABKQAAAAAAAgEpAAAAAAAAAS0AAAAAAAIBLQAAAAAAAAExAAAAAAACATEAAAAAAAABNQAAAAAAAgE1AAAAAAAAATkAAAAAAAIBOQAAAAAAAAE9AAAAAAACAT0AAAAAAAABQQAAAAAAAQFBAAAAAAACAUEAAAAAAAMBQQAAAAAAAAFFAAAAAAABAUUAAAAAAAIBRQAAAAAAAwFFAAAAAAAAAUkAAAAAAAEBSQAAAAAAAgFJAAAAAAADAUkAAAAAAAABTQAAAAAAAQFNAAAAAAACAU0AAAAAAAMBTQAAAAAAAAFRAAAAAAABAVEAAAAAAAIBUQAAAAAAAwFRAAAAAAAAAVUAAAAAAAEBVQAAAAAAAgFVAAAAAAADAVUAAAAAAAABWQAAAAAAAQFZAAAAAAACAVkAAAAAAAMBWQAAAAAAAAFdAAAAAAABAV0AAAAAAAIBXQAAAAAAAwFdAAAAAAAAAWEAAAAAAAEBYQAAAAAAAgFhAAAAAAADAWEAAAAAAAABZQAAAAAAAQFlAAAAAAACAWUAAAAAAAMBZQAAAAAAAAFpAAAAAAABAWkAAAAAAAIBaQAAAAAAAwFpAAAAAAAAAW0AAAAAAAEBbQAAAAAAAgFtAAAAAAADAW0AAAAAAAABcQAAAAAAAQFxAAAAAAACAXEAAAAAAAMBcQAAAAAAAAF1AAAAAAABAXUAAAAAAAIBdQAAAAAAAwF1AAAAAAAAAXkAAAAAAAEBeQAAAAAAAgF5AAAAAAADAXkAAAAAAAABfQAAAAAAAQF9AAAAAAACAX0AAAAAAAMBfQAAAAAAAAGBAAAAAAAAgYEAAAAAAAEBgQAAAAAAAYGBAAAAAAACAYEAAAAAAAKBgQAAAAAAAwGBAAAAAAADgYEAAAAAAAABhQAAAAAAAIGFAAAAAAABAYUAAAAAAAGBhQAAAAAAAgGFA",
          "dtype": "f8"
         },
         "y": {
          "bdata": "AAAAAAAAAADYY3kVRB0BQFWpA8LTQRBAPPqX3uwbF0AGqrEK1iAdQN3IY5UEKyFA+RSQgUhhI0AwoBQdhDclQG5Ly9vLsiZAELYjMPrYJ0ANd3kXrrAoQOLKzVRJQSlAX7bkWe6SKUAsnsXefa4pQCRTnyeUnSlAfJMP+YVqKUDAAM46XSApQIqKukjVyihADk5P8lZ2KECE6nUo9C8oQEhKwFljBShAuOAEffoEKEAsXV7KqT0oQEDSjiL2vihAdFLGJPOYKUAgAc3yPNwqQHCYkKPxmSxAVGQVZKrjLkDiWGUjuuUwQLRZoWDksTJAQO0m7MLfNECO0jz98ng3QAAAAAAAADlAAAAAAAAAOUAAAAAAAAA5QAAAAAAAADlAAAAAAAAAOUAAAAAAAAA5QAAAAAAAADlAAAAAAAAAOUAAAAAAAAA5QAAAAAAAADlAAAAAAAAAOUAAAAAAAAA5QAAAAAAAADlAAAAAAAAAOUAAAAAAAAA5QAAAAAAAADlAAAAAAAAAOUAAAAAAAAA5QAAAAAAAADlAAAAAAAAAOUAAAAAAAAA5QAAAAAAAADlAAAAAAAAAOUAAAAAAAAA5QAAAAAAAADlAAAAAAAAAOUAAAAAAAAA5QAAAAAAAADlAAAAAAAAAOUAAAAAAAAA5QAAAAAAAADlAAAAAAAAAOUAAAAAAAAA5QAAAAAAAADlAAAAAAAAAOUAAAAAAAAA5QAAAAAAAADlAAAAAAAAAOUAAAAAAAAA5QAAAAAAAADlAAAAAAAAAOUAAAAAAAAA5QAAAAAAAADlAAAAAAAAAOUAAAAAAAAA5QAAAAAAAADlAAAAAAAAAOUAAAAAAAAA5QAAAAAAAADlAAAAAAAAAOUAAAAAAAAA5QAAAAAAAADlAAAAAAAAAOUAAAAAAAAA5QAAAAAAAADlAAAAAAAAAOUAAAAAAAAA5QAAAAAAAADlAAAAAAAAAOUAAAAAAAAA5QAAAAAAAADlAAAAAAAAAOUAAAAAAAAA5QAAAAAAAADlAAAAAAAAAOUAAAAAAAAA5QAAAAAAAADlAAAAAAAAAOUAAAAAAAAA5QAAAAAAAADlAAAAAAAAAOUAAAAAAAAA5QAAAAAAAADlAAAAAAAAAOUAAAAAAAAA5QAAAAAAAADlAAAAAAAAAOUAAAAAAAAA5QAAAAAAAADlAAAAAAAAAOUAAAAAAAAA5QAAAAAAAADlAAAAAAAAAOUAAAAAAAAA5QAAAAAAAADlAAAAAAAAAOUAAAAAAAAA5QAAAAAAAADlAAAAAAAAAOUAAAAAAAAA5QAAAAAAAADlAAAAAAAAAOUAAAAAAAAA5QAAAAAAAADlAAAAAAAAAOUAAAAAAAAA5QAAAAAAAADlAAAAAAAAAOUAAAAAAAAA5QAAAAAAAADlAAAAAAAAAOUAAAAAAAAA5QAAAAAAAADlAAAAAAAAAOUAAAAAAAAA5QAAAAAAAADlAAAAAAAAAOUAAAAAAAAA5QAAAAAAAADlA",
          "dtype": "f8"
         }
        }
       ],
       "layout": {
        "template": {
         "data": {
          "bar": [
           {
            "error_x": {
             "color": "#2a3f5f"
            },
            "error_y": {
             "color": "#2a3f5f"
            },
            "marker": {
             "line": {
              "color": "#E5ECF6",
              "width": 0.5
             },
             "pattern": {
              "fillmode": "overlay",
              "size": 10,
              "solidity": 0.2
             }
            },
            "type": "bar"
           }
          ],
          "barpolar": [
           {
            "marker": {
             "line": {
              "color": "#E5ECF6",
              "width": 0.5
             },
             "pattern": {
              "fillmode": "overlay",
              "size": 10,
              "solidity": 0.2
             }
            },
            "type": "barpolar"
           }
          ],
          "carpet": [
           {
            "aaxis": {
             "endlinecolor": "#2a3f5f",
             "gridcolor": "white",
             "linecolor": "white",
             "minorgridcolor": "white",
             "startlinecolor": "#2a3f5f"
            },
            "baxis": {
             "endlinecolor": "#2a3f5f",
             "gridcolor": "white",
             "linecolor": "white",
             "minorgridcolor": "white",
             "startlinecolor": "#2a3f5f"
            },
            "type": "carpet"
           }
          ],
          "choropleth": [
           {
            "colorbar": {
             "outlinewidth": 0,
             "ticks": ""
            },
            "type": "choropleth"
           }
          ],
          "contour": [
           {
            "colorbar": {
             "outlinewidth": 0,
             "ticks": ""
            },
            "colorscale": [
             [
              0,
              "#0d0887"
             ],
             [
              0.1111111111111111,
              "#46039f"
             ],
             [
              0.2222222222222222,
              "#7201a8"
             ],
             [
              0.3333333333333333,
              "#9c179e"
             ],
             [
              0.4444444444444444,
              "#bd3786"
             ],
             [
              0.5555555555555556,
              "#d8576b"
             ],
             [
              0.6666666666666666,
              "#ed7953"
             ],
             [
              0.7777777777777778,
              "#fb9f3a"
             ],
             [
              0.8888888888888888,
              "#fdca26"
             ],
             [
              1,
              "#f0f921"
             ]
            ],
            "type": "contour"
           }
          ],
          "contourcarpet": [
           {
            "colorbar": {
             "outlinewidth": 0,
             "ticks": ""
            },
            "type": "contourcarpet"
           }
          ],
          "heatmap": [
           {
            "colorbar": {
             "outlinewidth": 0,
             "ticks": ""
            },
            "colorscale": [
             [
              0,
              "#0d0887"
             ],
             [
              0.1111111111111111,
              "#46039f"
             ],
             [
              0.2222222222222222,
              "#7201a8"
             ],
             [
              0.3333333333333333,
              "#9c179e"
             ],
             [
              0.4444444444444444,
              "#bd3786"
             ],
             [
              0.5555555555555556,
              "#d8576b"
             ],
             [
              0.6666666666666666,
              "#ed7953"
             ],
             [
              0.7777777777777778,
              "#fb9f3a"
             ],
             [
              0.8888888888888888,
              "#fdca26"
             ],
             [
              1,
              "#f0f921"
             ]
            ],
            "type": "heatmap"
           }
          ],
          "histogram": [
           {
            "marker": {
             "pattern": {
              "fillmode": "overlay",
              "size": 10,
              "solidity": 0.2
             }
            },
            "type": "histogram"
           }
          ],
          "histogram2d": [
           {
            "colorbar": {
             "outlinewidth": 0,
             "ticks": ""
            },
            "colorscale": [
             [
              0,
              "#0d0887"
             ],
             [
              0.1111111111111111,
              "#46039f"
             ],
             [
              0.2222222222222222,
              "#7201a8"
             ],
             [
              0.3333333333333333,
              "#9c179e"
             ],
             [
              0.4444444444444444,
              "#bd3786"
             ],
             [
              0.5555555555555556,
              "#d8576b"
             ],
             [
              0.6666666666666666,
              "#ed7953"
             ],
             [
              0.7777777777777778,
              "#fb9f3a"
             ],
             [
              0.8888888888888888,
              "#fdca26"
             ],
             [
              1,
              "#f0f921"
             ]
            ],
            "type": "histogram2d"
           }
          ],
          "histogram2dcontour": [
           {
            "colorbar": {
             "outlinewidth": 0,
             "ticks": ""
            },
            "colorscale": [
             [
              0,
              "#0d0887"
             ],
             [
              0.1111111111111111,
              "#46039f"
             ],
             [
              0.2222222222222222,
              "#7201a8"
             ],
             [
              0.3333333333333333,
              "#9c179e"
             ],
             [
              0.4444444444444444,
              "#bd3786"
             ],
             [
              0.5555555555555556,
              "#d8576b"
             ],
             [
              0.6666666666666666,
              "#ed7953"
             ],
             [
              0.7777777777777778,
              "#fb9f3a"
             ],
             [
              0.8888888888888888,
              "#fdca26"
             ],
             [
              1,
              "#f0f921"
             ]
            ],
            "type": "histogram2dcontour"
           }
          ],
          "mesh3d": [
           {
            "colorbar": {
             "outlinewidth": 0,
             "ticks": ""
            },
            "type": "mesh3d"
           }
          ],
          "parcoords": [
           {
            "line": {
             "colorbar": {
              "outlinewidth": 0,
              "ticks": ""
             }
            },
            "type": "parcoords"
           }
          ],
          "pie": [
           {
            "automargin": true,
            "type": "pie"
           }
          ],
          "scatter": [
           {
            "fillpattern": {
             "fillmode": "overlay",
             "size": 10,
             "solidity": 0.2
            },
            "type": "scatter"
           }
          ],
          "scatter3d": [
           {
            "line": {
             "colorbar": {
              "outlinewidth": 0,
              "ticks": ""
             }
            },
            "marker": {
             "colorbar": {
              "outlinewidth": 0,
              "ticks": ""
             }
            },
            "type": "scatter3d"
           }
          ],
          "scattercarpet": [
           {
            "marker": {
             "colorbar": {
              "outlinewidth": 0,
              "ticks": ""
             }
            },
            "type": "scattercarpet"
           }
          ],
          "scattergeo": [
           {
            "marker": {
             "colorbar": {
              "outlinewidth": 0,
              "ticks": ""
             }
            },
            "type": "scattergeo"
           }
          ],
          "scattergl": [
           {
            "marker": {
             "colorbar": {
              "outlinewidth": 0,
              "ticks": ""
             }
            },
            "type": "scattergl"
           }
          ],
          "scattermap": [
           {
            "marker": {
             "colorbar": {
              "outlinewidth": 0,
              "ticks": ""
             }
            },
            "type": "scattermap"
           }
          ],
          "scattermapbox": [
           {
            "marker": {
             "colorbar": {
              "outlinewidth": 0,
              "ticks": ""
             }
            },
            "type": "scattermapbox"
           }
          ],
          "scatterpolar": [
           {
            "marker": {
             "colorbar": {
              "outlinewidth": 0,
              "ticks": ""
             }
            },
            "type": "scatterpolar"
           }
          ],
          "scatterpolargl": [
           {
            "marker": {
             "colorbar": {
              "outlinewidth": 0,
              "ticks": ""
             }
            },
            "type": "scatterpolargl"
           }
          ],
          "scatterternary": [
           {
            "marker": {
             "colorbar": {
              "outlinewidth": 0,
              "ticks": ""
             }
            },
            "type": "scatterternary"
           }
          ],
          "surface": [
           {
            "colorbar": {
             "outlinewidth": 0,
             "ticks": ""
            },
            "colorscale": [
             [
              0,
              "#0d0887"
             ],
             [
              0.1111111111111111,
              "#46039f"
             ],
             [
              0.2222222222222222,
              "#7201a8"
             ],
             [
              0.3333333333333333,
              "#9c179e"
             ],
             [
              0.4444444444444444,
              "#bd3786"
             ],
             [
              0.5555555555555556,
              "#d8576b"
             ],
             [
              0.6666666666666666,
              "#ed7953"
             ],
             [
              0.7777777777777778,
              "#fb9f3a"
             ],
             [
              0.8888888888888888,
              "#fdca26"
             ],
             [
              1,
              "#f0f921"
             ]
            ],
            "type": "surface"
           }
          ],
          "table": [
           {
            "cells": {
             "fill": {
              "color": "#EBF0F8"
             },
             "line": {
              "color": "white"
             }
            },
            "header": {
             "fill": {
              "color": "#C8D4E3"
             },
             "line": {
              "color": "white"
             }
            },
            "type": "table"
           }
          ]
         },
         "layout": {
          "annotationdefaults": {
           "arrowcolor": "#2a3f5f",
           "arrowhead": 0,
           "arrowwidth": 1
          },
          "autotypenumbers": "strict",
          "coloraxis": {
           "colorbar": {
            "outlinewidth": 0,
            "ticks": ""
           }
          },
          "colorscale": {
           "diverging": [
            [
             0,
             "#8e0152"
            ],
            [
             0.1,
             "#c51b7d"
            ],
            [
             0.2,
             "#de77ae"
            ],
            [
             0.3,
             "#f1b6da"
            ],
            [
             0.4,
             "#fde0ef"
            ],
            [
             0.5,
             "#f7f7f7"
            ],
            [
             0.6,
             "#e6f5d0"
            ],
            [
             0.7,
             "#b8e186"
            ],
            [
             0.8,
             "#7fbc41"
            ],
            [
             0.9,
             "#4d9221"
            ],
            [
             1,
             "#276419"
            ]
           ],
           "sequential": [
            [
             0,
             "#0d0887"
            ],
            [
             0.1111111111111111,
             "#46039f"
            ],
            [
             0.2222222222222222,
             "#7201a8"
            ],
            [
             0.3333333333333333,
             "#9c179e"
            ],
            [
             0.4444444444444444,
             "#bd3786"
            ],
            [
             0.5555555555555556,
             "#d8576b"
            ],
            [
             0.6666666666666666,
             "#ed7953"
            ],
            [
             0.7777777777777778,
             "#fb9f3a"
            ],
            [
             0.8888888888888888,
             "#fdca26"
            ],
            [
             1,
             "#f0f921"
            ]
           ],
           "sequentialminus": [
            [
             0,
             "#0d0887"
            ],
            [
             0.1111111111111111,
             "#46039f"
            ],
            [
             0.2222222222222222,
             "#7201a8"
            ],
            [
             0.3333333333333333,
             "#9c179e"
            ],
            [
             0.4444444444444444,
             "#bd3786"
            ],
            [
             0.5555555555555556,
             "#d8576b"
            ],
            [
             0.6666666666666666,
             "#ed7953"
            ],
            [
             0.7777777777777778,
             "#fb9f3a"
            ],
            [
             0.8888888888888888,
             "#fdca26"
            ],
            [
             1,
             "#f0f921"
            ]
           ]
          },
          "colorway": [
           "#636efa",
           "#EF553B",
           "#00cc96",
           "#ab63fa",
           "#FFA15A",
           "#19d3f3",
           "#FF6692",
           "#B6E880",
           "#FF97FF",
           "#FECB52"
          ],
          "font": {
           "color": "#2a3f5f"
          },
          "geo": {
           "bgcolor": "white",
           "lakecolor": "white",
           "landcolor": "#E5ECF6",
           "showlakes": true,
           "showland": true,
           "subunitcolor": "white"
          },
          "hoverlabel": {
           "align": "left"
          },
          "hovermode": "closest",
          "mapbox": {
           "style": "light"
          },
          "paper_bgcolor": "white",
          "plot_bgcolor": "#E5ECF6",
          "polar": {
           "angularaxis": {
            "gridcolor": "white",
            "linecolor": "white",
            "ticks": ""
           },
           "bgcolor": "#E5ECF6",
           "radialaxis": {
            "gridcolor": "white",
            "linecolor": "white",
            "ticks": ""
           }
          },
          "scene": {
           "xaxis": {
            "backgroundcolor": "#E5ECF6",
            "gridcolor": "white",
            "gridwidth": 2,
            "linecolor": "white",
            "showbackground": true,
            "ticks": "",
            "zerolinecolor": "white"
           },
           "yaxis": {
            "backgroundcolor": "#E5ECF6",
            "gridcolor": "white",
            "gridwidth": 2,
            "linecolor": "white",
            "showbackground": true,
            "ticks": "",
            "zerolinecolor": "white"
           },
           "zaxis": {
            "backgroundcolor": "#E5ECF6",
            "gridcolor": "white",
            "gridwidth": 2,
            "linecolor": "white",
            "showbackground": true,
            "ticks": "",
            "zerolinecolor": "white"
           }
          },
          "shapedefaults": {
           "line": {
            "color": "#2a3f5f"
           }
          },
          "ternary": {
           "aaxis": {
            "gridcolor": "white",
            "linecolor": "white",
            "ticks": ""
           },
           "baxis": {
            "gridcolor": "white",
            "linecolor": "white",
            "ticks": ""
           },
           "bgcolor": "#E5ECF6",
           "caxis": {
            "gridcolor": "white",
            "linecolor": "white",
            "ticks": ""
           }
          },
          "title": {
           "x": 0.05
          },
          "xaxis": {
           "automargin": true,
           "gridcolor": "white",
           "linecolor": "white",
           "ticks": "",
           "title": {
            "standoff": 15
           },
           "zerolinecolor": "white",
           "zerolinewidth": 2
          },
          "yaxis": {
           "automargin": true,
           "gridcolor": "white",
           "linecolor": "white",
           "ticks": "",
           "title": {
            "standoff": 15
           },
           "zerolinecolor": "white",
           "zerolinewidth": 2
          }
         }
        },
        "title": {
         "text": "Einlaufgeschwindigkeit in den Tank"
        },
        "xaxis": {
         "title": {
          "text": "t"
         }
        },
        "yaxis": {
         "title": {
          "text": "v(t)"
         }
        }
       }
      }
     },
     "metadata": {},
     "output_type": "display_data"
    }
   ],
   "source": [
    "t = np.linspace(0, 140, 141)\n",
    "hp1 = np.random.random() * 80\n",
    "print(hp1)\n",
    "hp2 = np.random.random() * 120\n",
    "print(hp2)\n",
    "y_hp1 = random.choice([x for x in range(10, 20)])\n",
    "y_hp2 = random.choice([x for x in range(10, 20)])\n",
    "np1 = random.choice([x for x in range(135, 150)])\n",
    "X = create_random_polynomial(hp1, hp2, y_hp1, y_hp2, np1)\n",
    "ft1 = np.array([poly_func(x, X) for x in t])\n",
    "\n",
    "fig = go.Figure(\n",
    "    data=[\n",
    "        go.Scatter(x=t, y=ft1, name=\"u1(t)\"),\n",
    "        # go.Scatter(x = t, y = ft2, name = 'u2(t)')\n",
    "    ]\n",
    ")\n",
    "fig.update_layout(\n",
    "    title=\"Einlaufgeschwindigkeit in den Tank\", xaxis_title=\"t\", yaxis_title=\"v(t)\"\n",
    ")\n",
    "fig.add_annotation\n",
    "fig.show()"
   ]
  },
  {
   "cell_type": "code",
   "execution_count": 6,
   "metadata": {},
   "outputs": [],
   "source": [
    "# Weitere Funktionen welche für die Einlaufgeschwindigkeit verwendet werden könnten\n",
    "# Rauschen kann hier beachtet werden, damit sich die Funktionen mehr unterscheiden\n",
    "def p2(t):\n",
    "    return -1 / 500 * (t - 0) * (t - 140) + 0.5 * np.random.random()  # Nullpunktform\n",
    "\n",
    "\n",
    "def sin(t):\n",
    "    return 5 * np.sin(1 / 10 * t) + 5 + 0.5 * np.random.random()\n",
    "\n",
    "\n",
    "def cos(t):\n",
    "    return 7 * np.cos(1 / 30 * t - 10) + 8 + 0.5 * np.random.random()\n",
    "\n",
    "\n",
    "def sin2(t):\n",
    "    return 6 * np.sin(1 / 15 * t) + 6 + 0.5 * np.random.random()\n",
    "\n",
    "\n",
    "def cos2(t):\n",
    "    return 5 * np.cos(1 / 15 * t - 7) + 8 + 0.5 * np.random.random()\n",
    "\n",
    "\n",
    "def exp_b(t):\n",
    "    return 10 - (10) * np.exp(-0.5 * t) - 0.0005 * t**2\n",
    "\n",
    "\n",
    "def exp(t):\n",
    "    return 10 * np.exp(1 / 60 * -t) + 0.5\n",
    "\n",
    "\n",
    "def compl(t):\n",
    "    return 10 * np.exp(1 / 60 * -t) + 10 / t * np.sin(t)"
   ]
  },
  {
   "cell_type": "markdown",
   "metadata": {},
   "source": [
    "Folgende Zelle plottet zwei Beispielfunktionen aus der oben definierten Menge von Funktionen. Diese werden allerdings im ersten nicht verwendet, da zur Erzeugung der Daten die zufällig erzeugten Polynome 6. Grades verwendet werden sollen. "
   ]
  },
  {
   "cell_type": "code",
   "execution_count": 7,
   "metadata": {},
   "outputs": [
    {
     "data": {
      "application/vnd.plotly.v1+json": {
       "config": {
        "plotlyServerURL": "https://plot.ly"
       },
       "data": [
        {
         "name": "u1(t)",
         "type": "scatter",
         "x": {
          "bdata": "AAABAAIAAwAEAAUABgAHAAgACQAKAAsADAANAA4ADwAQABEAEgATABQAFQAWABcAGAAZABoAGwAcAB0AHgAfACAAIQAiACMAJAAlACYAJwAoACkAKgArACwALQAuAC8AMAAxADIAMwA0ADUANgA3ADgAOQA6ADsAPAA9AD4APwBAAEEAQgBDAEQARQBGAEcASABJAEoASwBMAE0ATgBPAFAAUQBSAFMAVABVAFYAVwBYAFkAWgBbAFwAXQBeAF8AYABhAGIAYwBkAGUAZgBnAGgAaQBqAGsAbABtAG4AbwBwAHEAcgBzAHQAdQB2AHcAeAB5AHoAewB8AH0AfgB/AIAAgQCCAIMAhACFAIYAhwCIAIkAigCLAA==",
          "dtype": "i2"
         },
         "y": {
          "bdata": "0iquLQO4wj8S/tb5WPjYP6o8QH6RNOw/bd19OzBd6z8vTvBeb03zP9Qa36+yP/w//M7zZotpAECsoQ8MFUv+P1xImva+hQFAEI7CIsOFA0CSNF/NnywHQIROiMqezglAEphAzMjtC0BHgkzobt8NQNVIlFWM5A5AK7I3Un31EEAOm+wprR4RQIsBB49d4RBAI7cZCX3TEUDVWMFtByUTQCUI21hswBNA/7QkrPssFUAVrFySmfYUQG6dYk3AlxZAYF/E/gffFkC25QVwrlAXQFDwsiNBLBlAMdlC/UD/GEAsXAZIgCYZQEZZdLFkmhtA3M4EebbmGkAvxSLmRlwcQP0ZkEytBh1A8XSJYNvTHUCn/RsHYhodQIjz6BEGgh5A7Sw6Qc8KH0CVHNJ+AbweQDXKXlnDuB9AgqYRJwF+IEB9Vf3rjhYgQL48McWa8yBA+tqLOxDZIEDV5eenF30hQHDt2wUIJSFAY5bvmgghIUCMWPG8pmghQJc8sQa/OCJATjkrSO6PIkA3xP0LTBMiQMMT20iMaiJAEqMa/9J2IkAG5Rl+KoIiQNd/6lrgniJAFY66GJdaI0DDPeMGMX4jQGTjCOjBOSNAwLXkKKQWI0CViqQDqtMjQHMypZEUuiNAGyGnDN+BI0AGSNQKoOEjQOmIrtDhuCNA+puy1UKsI0Agv3c54eQjQFS5rmxJOyRA9MfAaL1hJEAINmMuYa4jQHwTTYex0iNANeg95jOOJECHoicCGCMkQIgp2nY4viNAkgKjjR0gJEAOQe972gckQLk7UlJl8iNAWaJbkus8JEBl27m3VgIkQD3OicbPdiNAd3RqhAGeI0C8uWGcjgIkQLsOR8TCjyNAruVR8Jf9I0Dz3W0rbXYjQAsazV4QIyNAXawBTjgSI0CV5SbZ2IwjQADztAlhJiNA8pCO+MwLI0BfASr9FrwiQDpaF/ogAyNAq6DjPCGnIkBljG2qUQUiQOpzN4mQrCFAcAImDsabIUBcCc5iDJEhQKyrpIPTpyFA8pLiNP4PIUDEuHZ8b2YhQAsM2PPgDCFA7YWubYu0IEDEeIBLNWsgQIY2k5dtsx9A5UHg2BE5H0BmtgGrhvEeQCBCR4seJB9ANmZXDD5/HUAZtZrNTdMdQAV+D7fICh1AoqsegOOEHUD1c/HkwrwcQFeBkZQBdBtA2clgrNeBG0Cv9FH4XokaQGmUOqn1QxlACnaS+GRQGUCQaqFE34YXQIbcBvZsthdAKLX4huMEFkA3vvRqqaoWQNU/B53S2hRAC7jGvCZzFECGUf4mE3cSQMBfKWtsPBJAmFlilUv1EUCzbmjlWVoRQAS7Ymi1VQ9AJARzRMNiD0AcvnfR2PkNQN/XbEScnQhA1BiVJ7uACEAzY507eUQIQIYeQF0+1ANAVjtA5llJAUCOpxnblXYBQERYmGji0/w/hiGwO8Q4+D8L2EvM0zvyP2o8qh+QP/A/LrifP96l4j9b/EPSozbhPw==",
          "dtype": "f8"
         }
        },
        {
         "name": "u2(t)",
         "type": "scatter",
         "x": {
          "bdata": "AAABAAIAAwAEAAUABgAHAAgACQAKAAsADAANAA4ADwAQABEAEgATABQAFQAWABcAGAAZABoAGwAcAB0AHgAfACAAIQAiACMAJAAlACYAJwAoACkAKgArACwALQAuAC8AMAAxADIAMwA0ADUANgA3ADgAOQA6ADsAPAA9AD4APwBAAEEAQgBDAEQARQBGAEcASABJAEoASwBMAE0ATgBPAFAAUQBSAFMAVABVAFYAVwBYAFkAWgBbAFwAXQBeAF8AYABhAGIAYwBkAGUAZgBnAGgAaQBqAGsAbABtAG4AbwBwAHEAcgBzAHQAdQB2AHcAeAB5AHoAewB8AH0AfgB/AIAAgQCCAIMAhACFAIYAhwCIAIkAigCLAA==",
          "dtype": "i2"
         },
         "y": {
          "bdata": "EKwM6NrcFECwlnByhMIWQLHrTyEYNxlANWsmBjGIG0BTy4ZdwJ0cQK2pWccO6R5A3gt53cNRIED5SHlrvlIhQIynOwwBVCFA+cLwq5KKIkAi992JkygjQNXrWdwhRyNAUj//xL+1I0BwTaOL4/UjQMxym/ORRCRAnG5k6a0uJEAzDgjalYwkQC47ww/EnSRAUB7t/zhjJEC20TwP6yUkQDYLyQVhjiNAftfKr2Q2I0DbaxUXUsMiQNhpa48XwyFAjy1yX90+IUAbAfYLkr8gQEJbV8YOHCBAZ+wJZLU5HkC+mPVUblkcQDZpxulNiRpAPMp6b+cmF0DCsmCSP6oWQIC8oNxvxRRARS7auPE6EUBQXr3/eB8PQK9FdCmxFApAk6Gq7qmwCUANAmzOf94EQJz9G3K0BAFAmASkt6VU/z/3zcM9q3r0P0rhqBkmFfE/qqRT0KJ66j/D+P9JMxPqP8URJwcqS+E/fL26CXVxzD+cgnEFKMvOP3f4/TJGTdU/aGZfdjPFxj+e4l3hjsrDP51zec/cKuE/mo1GEwT74j8z7THvxhvlP9MzBOnlD/I/aYCu97Fr9T/OsQTZPOr7P9dNsH7MSQJAW8XS9tBLBUAGB/5i6lsJQDUfKPx0aApAO+8S2NWID0Des+MLls0RQMGwE+qZRRNALzSetS/PFEDbP69uRykXQGgg+ZFkdRlARNb85bclHEB7S0pvaycdQB57VtV2wR5AGO5mi40OIEAlJOcNW7EgQPfr1PddVyFAAqjwsEEZIkA34eR7xPUiQA2w4nwjXSNAoqfJ4KjTI0A6UyP42rQjQCF71wSAJSRAQvCQH1PEJECpj3Or/gckQKprVOSDpiRAhJGFAeeKJEDS+IEVoVYkQJ6A4ZKXxCNAHpK5FXE0I0DrujKziIAiQNoKcb5T1yFARedAMWB9IUBR8/7/gTIgQJEWuVAvIB5AtLW2KKg4HkBLxS7R3HEbQJ5uBOdvkxhAZ9o2cX1XGED+aW9fhkkWQLpsGXrVNBRAtDKvZfi7EEAvz6dwgK8NQIRLJ0dtGg1AYsYva3dTCEAhGD+PPQcDQDe2Zkb5MP8/CdDHTOSI+z9XL8A3nDz0P6iVyhjpSfE/nhy/LlM85D9S3+eDkBbjP8YpgBtIbNI/wXaIf7vn0j/I+/ak6QDTP0LuiUUjD9k/mGQLElu4rz+u24SVWObIP1qb33lzoOQ/3X3jhWQm6T888Yy6LlrlP+RikNdibe4/ShTXIhHj9T9umvzjilf+P2O9a0WC/f8/YjEh8+R7A0B+usOlFxIIQLP+/lN3NwxAqkkiszcZDkA/4sqfYl4SQKA+BfQ4RRRAoPaGRrDiFEArEFHCqvIXQAJ6Y9h6vRhAIawZV18/HEC0SI+guPkdQOqz1iGjwx9AWTUPnSjRIEDOVwYWmd8gQMAymfWcriFAzG4XEJVTIkA836jY0MciQM+ik+Fq4SNAm4RO2RhfJEA3ydiX6P0jQA==",
          "dtype": "f8"
         }
        }
       ],
       "layout": {
        "template": {
         "data": {
          "bar": [
           {
            "error_x": {
             "color": "#2a3f5f"
            },
            "error_y": {
             "color": "#2a3f5f"
            },
            "marker": {
             "line": {
              "color": "#E5ECF6",
              "width": 0.5
             },
             "pattern": {
              "fillmode": "overlay",
              "size": 10,
              "solidity": 0.2
             }
            },
            "type": "bar"
           }
          ],
          "barpolar": [
           {
            "marker": {
             "line": {
              "color": "#E5ECF6",
              "width": 0.5
             },
             "pattern": {
              "fillmode": "overlay",
              "size": 10,
              "solidity": 0.2
             }
            },
            "type": "barpolar"
           }
          ],
          "carpet": [
           {
            "aaxis": {
             "endlinecolor": "#2a3f5f",
             "gridcolor": "white",
             "linecolor": "white",
             "minorgridcolor": "white",
             "startlinecolor": "#2a3f5f"
            },
            "baxis": {
             "endlinecolor": "#2a3f5f",
             "gridcolor": "white",
             "linecolor": "white",
             "minorgridcolor": "white",
             "startlinecolor": "#2a3f5f"
            },
            "type": "carpet"
           }
          ],
          "choropleth": [
           {
            "colorbar": {
             "outlinewidth": 0,
             "ticks": ""
            },
            "type": "choropleth"
           }
          ],
          "contour": [
           {
            "colorbar": {
             "outlinewidth": 0,
             "ticks": ""
            },
            "colorscale": [
             [
              0,
              "#0d0887"
             ],
             [
              0.1111111111111111,
              "#46039f"
             ],
             [
              0.2222222222222222,
              "#7201a8"
             ],
             [
              0.3333333333333333,
              "#9c179e"
             ],
             [
              0.4444444444444444,
              "#bd3786"
             ],
             [
              0.5555555555555556,
              "#d8576b"
             ],
             [
              0.6666666666666666,
              "#ed7953"
             ],
             [
              0.7777777777777778,
              "#fb9f3a"
             ],
             [
              0.8888888888888888,
              "#fdca26"
             ],
             [
              1,
              "#f0f921"
             ]
            ],
            "type": "contour"
           }
          ],
          "contourcarpet": [
           {
            "colorbar": {
             "outlinewidth": 0,
             "ticks": ""
            },
            "type": "contourcarpet"
           }
          ],
          "heatmap": [
           {
            "colorbar": {
             "outlinewidth": 0,
             "ticks": ""
            },
            "colorscale": [
             [
              0,
              "#0d0887"
             ],
             [
              0.1111111111111111,
              "#46039f"
             ],
             [
              0.2222222222222222,
              "#7201a8"
             ],
             [
              0.3333333333333333,
              "#9c179e"
             ],
             [
              0.4444444444444444,
              "#bd3786"
             ],
             [
              0.5555555555555556,
              "#d8576b"
             ],
             [
              0.6666666666666666,
              "#ed7953"
             ],
             [
              0.7777777777777778,
              "#fb9f3a"
             ],
             [
              0.8888888888888888,
              "#fdca26"
             ],
             [
              1,
              "#f0f921"
             ]
            ],
            "type": "heatmap"
           }
          ],
          "histogram": [
           {
            "marker": {
             "pattern": {
              "fillmode": "overlay",
              "size": 10,
              "solidity": 0.2
             }
            },
            "type": "histogram"
           }
          ],
          "histogram2d": [
           {
            "colorbar": {
             "outlinewidth": 0,
             "ticks": ""
            },
            "colorscale": [
             [
              0,
              "#0d0887"
             ],
             [
              0.1111111111111111,
              "#46039f"
             ],
             [
              0.2222222222222222,
              "#7201a8"
             ],
             [
              0.3333333333333333,
              "#9c179e"
             ],
             [
              0.4444444444444444,
              "#bd3786"
             ],
             [
              0.5555555555555556,
              "#d8576b"
             ],
             [
              0.6666666666666666,
              "#ed7953"
             ],
             [
              0.7777777777777778,
              "#fb9f3a"
             ],
             [
              0.8888888888888888,
              "#fdca26"
             ],
             [
              1,
              "#f0f921"
             ]
            ],
            "type": "histogram2d"
           }
          ],
          "histogram2dcontour": [
           {
            "colorbar": {
             "outlinewidth": 0,
             "ticks": ""
            },
            "colorscale": [
             [
              0,
              "#0d0887"
             ],
             [
              0.1111111111111111,
              "#46039f"
             ],
             [
              0.2222222222222222,
              "#7201a8"
             ],
             [
              0.3333333333333333,
              "#9c179e"
             ],
             [
              0.4444444444444444,
              "#bd3786"
             ],
             [
              0.5555555555555556,
              "#d8576b"
             ],
             [
              0.6666666666666666,
              "#ed7953"
             ],
             [
              0.7777777777777778,
              "#fb9f3a"
             ],
             [
              0.8888888888888888,
              "#fdca26"
             ],
             [
              1,
              "#f0f921"
             ]
            ],
            "type": "histogram2dcontour"
           }
          ],
          "mesh3d": [
           {
            "colorbar": {
             "outlinewidth": 0,
             "ticks": ""
            },
            "type": "mesh3d"
           }
          ],
          "parcoords": [
           {
            "line": {
             "colorbar": {
              "outlinewidth": 0,
              "ticks": ""
             }
            },
            "type": "parcoords"
           }
          ],
          "pie": [
           {
            "automargin": true,
            "type": "pie"
           }
          ],
          "scatter": [
           {
            "fillpattern": {
             "fillmode": "overlay",
             "size": 10,
             "solidity": 0.2
            },
            "type": "scatter"
           }
          ],
          "scatter3d": [
           {
            "line": {
             "colorbar": {
              "outlinewidth": 0,
              "ticks": ""
             }
            },
            "marker": {
             "colorbar": {
              "outlinewidth": 0,
              "ticks": ""
             }
            },
            "type": "scatter3d"
           }
          ],
          "scattercarpet": [
           {
            "marker": {
             "colorbar": {
              "outlinewidth": 0,
              "ticks": ""
             }
            },
            "type": "scattercarpet"
           }
          ],
          "scattergeo": [
           {
            "marker": {
             "colorbar": {
              "outlinewidth": 0,
              "ticks": ""
             }
            },
            "type": "scattergeo"
           }
          ],
          "scattergl": [
           {
            "marker": {
             "colorbar": {
              "outlinewidth": 0,
              "ticks": ""
             }
            },
            "type": "scattergl"
           }
          ],
          "scattermap": [
           {
            "marker": {
             "colorbar": {
              "outlinewidth": 0,
              "ticks": ""
             }
            },
            "type": "scattermap"
           }
          ],
          "scattermapbox": [
           {
            "marker": {
             "colorbar": {
              "outlinewidth": 0,
              "ticks": ""
             }
            },
            "type": "scattermapbox"
           }
          ],
          "scatterpolar": [
           {
            "marker": {
             "colorbar": {
              "outlinewidth": 0,
              "ticks": ""
             }
            },
            "type": "scatterpolar"
           }
          ],
          "scatterpolargl": [
           {
            "marker": {
             "colorbar": {
              "outlinewidth": 0,
              "ticks": ""
             }
            },
            "type": "scatterpolargl"
           }
          ],
          "scatterternary": [
           {
            "marker": {
             "colorbar": {
              "outlinewidth": 0,
              "ticks": ""
             }
            },
            "type": "scatterternary"
           }
          ],
          "surface": [
           {
            "colorbar": {
             "outlinewidth": 0,
             "ticks": ""
            },
            "colorscale": [
             [
              0,
              "#0d0887"
             ],
             [
              0.1111111111111111,
              "#46039f"
             ],
             [
              0.2222222222222222,
              "#7201a8"
             ],
             [
              0.3333333333333333,
              "#9c179e"
             ],
             [
              0.4444444444444444,
              "#bd3786"
             ],
             [
              0.5555555555555556,
              "#d8576b"
             ],
             [
              0.6666666666666666,
              "#ed7953"
             ],
             [
              0.7777777777777778,
              "#fb9f3a"
             ],
             [
              0.8888888888888888,
              "#fdca26"
             ],
             [
              1,
              "#f0f921"
             ]
            ],
            "type": "surface"
           }
          ],
          "table": [
           {
            "cells": {
             "fill": {
              "color": "#EBF0F8"
             },
             "line": {
              "color": "white"
             }
            },
            "header": {
             "fill": {
              "color": "#C8D4E3"
             },
             "line": {
              "color": "white"
             }
            },
            "type": "table"
           }
          ]
         },
         "layout": {
          "annotationdefaults": {
           "arrowcolor": "#2a3f5f",
           "arrowhead": 0,
           "arrowwidth": 1
          },
          "autotypenumbers": "strict",
          "coloraxis": {
           "colorbar": {
            "outlinewidth": 0,
            "ticks": ""
           }
          },
          "colorscale": {
           "diverging": [
            [
             0,
             "#8e0152"
            ],
            [
             0.1,
             "#c51b7d"
            ],
            [
             0.2,
             "#de77ae"
            ],
            [
             0.3,
             "#f1b6da"
            ],
            [
             0.4,
             "#fde0ef"
            ],
            [
             0.5,
             "#f7f7f7"
            ],
            [
             0.6,
             "#e6f5d0"
            ],
            [
             0.7,
             "#b8e186"
            ],
            [
             0.8,
             "#7fbc41"
            ],
            [
             0.9,
             "#4d9221"
            ],
            [
             1,
             "#276419"
            ]
           ],
           "sequential": [
            [
             0,
             "#0d0887"
            ],
            [
             0.1111111111111111,
             "#46039f"
            ],
            [
             0.2222222222222222,
             "#7201a8"
            ],
            [
             0.3333333333333333,
             "#9c179e"
            ],
            [
             0.4444444444444444,
             "#bd3786"
            ],
            [
             0.5555555555555556,
             "#d8576b"
            ],
            [
             0.6666666666666666,
             "#ed7953"
            ],
            [
             0.7777777777777778,
             "#fb9f3a"
            ],
            [
             0.8888888888888888,
             "#fdca26"
            ],
            [
             1,
             "#f0f921"
            ]
           ],
           "sequentialminus": [
            [
             0,
             "#0d0887"
            ],
            [
             0.1111111111111111,
             "#46039f"
            ],
            [
             0.2222222222222222,
             "#7201a8"
            ],
            [
             0.3333333333333333,
             "#9c179e"
            ],
            [
             0.4444444444444444,
             "#bd3786"
            ],
            [
             0.5555555555555556,
             "#d8576b"
            ],
            [
             0.6666666666666666,
             "#ed7953"
            ],
            [
             0.7777777777777778,
             "#fb9f3a"
            ],
            [
             0.8888888888888888,
             "#fdca26"
            ],
            [
             1,
             "#f0f921"
            ]
           ]
          },
          "colorway": [
           "#636efa",
           "#EF553B",
           "#00cc96",
           "#ab63fa",
           "#FFA15A",
           "#19d3f3",
           "#FF6692",
           "#B6E880",
           "#FF97FF",
           "#FECB52"
          ],
          "font": {
           "color": "#2a3f5f"
          },
          "geo": {
           "bgcolor": "white",
           "lakecolor": "white",
           "landcolor": "#E5ECF6",
           "showlakes": true,
           "showland": true,
           "subunitcolor": "white"
          },
          "hoverlabel": {
           "align": "left"
          },
          "hovermode": "closest",
          "mapbox": {
           "style": "light"
          },
          "paper_bgcolor": "white",
          "plot_bgcolor": "#E5ECF6",
          "polar": {
           "angularaxis": {
            "gridcolor": "white",
            "linecolor": "white",
            "ticks": ""
           },
           "bgcolor": "#E5ECF6",
           "radialaxis": {
            "gridcolor": "white",
            "linecolor": "white",
            "ticks": ""
           }
          },
          "scene": {
           "xaxis": {
            "backgroundcolor": "#E5ECF6",
            "gridcolor": "white",
            "gridwidth": 2,
            "linecolor": "white",
            "showbackground": true,
            "ticks": "",
            "zerolinecolor": "white"
           },
           "yaxis": {
            "backgroundcolor": "#E5ECF6",
            "gridcolor": "white",
            "gridwidth": 2,
            "linecolor": "white",
            "showbackground": true,
            "ticks": "",
            "zerolinecolor": "white"
           },
           "zaxis": {
            "backgroundcolor": "#E5ECF6",
            "gridcolor": "white",
            "gridwidth": 2,
            "linecolor": "white",
            "showbackground": true,
            "ticks": "",
            "zerolinecolor": "white"
           }
          },
          "shapedefaults": {
           "line": {
            "color": "#2a3f5f"
           }
          },
          "ternary": {
           "aaxis": {
            "gridcolor": "white",
            "linecolor": "white",
            "ticks": ""
           },
           "baxis": {
            "gridcolor": "white",
            "linecolor": "white",
            "ticks": ""
           },
           "bgcolor": "#E5ECF6",
           "caxis": {
            "gridcolor": "white",
            "linecolor": "white",
            "ticks": ""
           }
          },
          "title": {
           "x": 0.05
          },
          "xaxis": {
           "automargin": true,
           "gridcolor": "white",
           "linecolor": "white",
           "ticks": "",
           "title": {
            "standoff": 15
           },
           "zerolinecolor": "white",
           "zerolinewidth": 2
          },
          "yaxis": {
           "automargin": true,
           "gridcolor": "white",
           "linecolor": "white",
           "ticks": "",
           "title": {
            "standoff": 15
           },
           "zerolinecolor": "white",
           "zerolinewidth": 2
          }
         }
        },
        "title": {
         "text": "Einlaufgeschwindigkeit in den Tank"
        },
        "xaxis": {
         "title": {
          "text": "t"
         }
        },
        "yaxis": {
         "title": {
          "text": "v(t)"
         }
        }
       }
      }
     },
     "metadata": {},
     "output_type": "display_data"
    }
   ],
   "source": [
    "t = np.linspace(0, 139, 140).astype(\"int\")\n",
    "ft1 = np.array([p2(x) for x in t])\n",
    "ft2 = np.array([sin(x) for x in t])\n",
    "\n",
    "fig = go.Figure(\n",
    "    data=[go.Scatter(x=t, y=ft1, name=\"u1(t)\"), go.Scatter(x=t, y=ft2, name=\"u2(t)\")]\n",
    ")\n",
    "fig.update_layout(\n",
    "    title=\"Einlaufgeschwindigkeit in den Tank\", xaxis_title=\"t\", yaxis_title=\"v(t)\"\n",
    ")\n",
    "fig.add_annotation\n",
    "fig.show()"
   ]
  },
  {
   "cell_type": "markdown",
   "metadata": {},
   "source": [
    "Außerdem wird später die Funktion für die Außlaufgeschwindigkeit aus dem Dritten Tank benötigt. Diese wird in der folgenden Zelle definiert."
   ]
  },
  {
   "cell_type": "code",
   "execution_count": 8,
   "metadata": {},
   "outputs": [],
   "source": [
    "# Funktion für die Ablaufgeschwindigkeit v\n",
    "def v(x3):\n",
    "    return np.sqrt(2 * 9.81 * x3)"
   ]
  },
  {
   "cell_type": "markdown",
   "metadata": {},
   "source": [
    "Die erzugten Einlaufgeschwindigkeiten sollen nun im Kombination mit dem oben beschriebenen Versuch dazu verwendet werden um Daten zu generieren. \n",
    "Im Folgenden werden die dfg des Systems modeliert"
   ]
  },
  {
   "cell_type": "code",
   "execution_count": 9,
   "metadata": {},
   "outputs": [],
   "source": [
    "def dfg(t, state, A1, A2, A3, q1, q2, q3, u1_arr, u2_arr):\n",
    "    x1, x2, x3 = state\n",
    "    # calculate dx1\n",
    "    if x1 >= x2:\n",
    "        d_x1 = (1 / A1[int(t)]) * (\n",
    "            u1_arr[int(t)] - q1[int(t)] * np.sqrt(2 * 9.81 * (x1 - x2))\n",
    "        )\n",
    "    else:\n",
    "        d_x1 = (1 / A1[int(t)]) * (\n",
    "            u1_arr[int(t)] + q1[int(t)] * np.sqrt(2 * 9.81 * (x2 - x1))\n",
    "        )\n",
    "\n",
    "    # calculate dx2\n",
    "    if x2 >= x1 and x2 >= x3:\n",
    "        d_x2 = (1 / A2[int(t)]) * (\n",
    "            -q1[int(t)] * np.sqrt(2 * 9.81 * (x2 - x1))\n",
    "            - q2[int(t)] * np.sqrt(2 * 9.81 * (x2 - x3))\n",
    "        )\n",
    "    elif x2 >= x1 and x2 < x3:\n",
    "        d_x2 = (1 / A2[int(t)]) * (\n",
    "            -q1[int(t)] * np.sqrt(2 * 9.81 * (x2 - x1))\n",
    "            + q2[int(t)] * np.sqrt(2 * 9.81 * (x3 - x2))\n",
    "        )\n",
    "    elif x2 < x1 and x2 >= x3:\n",
    "        d_x2 = (1 / A2[int(t)]) * (\n",
    "            q1[int(t)] * np.sqrt(2 * 9.81 * (x1 - x2))\n",
    "            - q2[int(t)] * np.sqrt(2 * 9.81 * (x2 - x3))\n",
    "        )\n",
    "    # elif x2 < x1 and x2 < x3:\n",
    "    else:\n",
    "        d_x2 = (1 / A2[int(t)]) * (\n",
    "            q1[int(t)] * np.sqrt(2 * 9.81 * (x1 - x2))\n",
    "            + q2[int(t)] * np.sqrt(2 * 9.81 * (x3 - x2))\n",
    "        )\n",
    "\n",
    "    # calculate dx3\n",
    "    if x3 >= x2:\n",
    "        d_x3 = (1 / A3[int(t)]) * (\n",
    "            u2_arr[int(t)]\n",
    "            - q2[int(t)] * np.sqrt(2 * 9.81 * (x3 - x2))\n",
    "            - q3[int(t)] * np.sqrt(2 * 9.81 * x3)\n",
    "        )\n",
    "    else:\n",
    "        d_x3 = (1 / A3[int(t)]) * (\n",
    "            u2_arr[int(t)]\n",
    "            + q2[int(t)] * np.sqrt(2 * 9.81 * (x2 - x3))\n",
    "            - q3[int(t)] * np.sqrt(2 * 9.81 * x3)\n",
    "        )\n",
    "\n",
    "    return [d_x1, d_x2, d_x3]"
   ]
  },
  {
   "cell_type": "markdown",
   "metadata": {},
   "source": [
    "Die Funktion create_random_poly_array erstellt durch zufällige wahl der Parameter und lösen des oben aufgestellten LP ein zufälliges Polynom"
   ]
  },
  {
   "cell_type": "code",
   "execution_count": 10,
   "metadata": {},
   "outputs": [],
   "source": [
    "def create_random_poly_array():\n",
    "    t = np.linspace(0, 139, 140)\n",
    "    hp1 = np.random.random() * 80\n",
    "    hp2 = np.random.random() * 120\n",
    "    y_hp1 = random.choice([x for x in range(10, 20)])\n",
    "    y_hp2 = random.choice([x for x in range(10, 20)])\n",
    "    np1 = random.choice([x for x in range(135, 150)])\n",
    "    X = create_random_polynomial(hp1, hp2, y_hp1, y_hp2, np1)\n",
    "    return [poly_func(x, X) for x in t]"
   ]
  },
  {
   "cell_type": "markdown",
   "metadata": {},
   "source": [
    "Aus Physikalischer Sicht ist es möglich anhand der Auslaufgeschwindigkeit aus dem 3. Tank und den Zulaufgeschwindigkeiten in den ersten und in den dritten Tank die Füllstände zu schätzen. Aus dem Grund soll als eine zusätzliche schwere in den Daten der Anfangsfüllstand zufällig ausgewählt werden. Die Folgende Funktion gibt einen zufälligen Wert zwischen 0 und 6 als Füllstand für das System zurück. "
   ]
  },
  {
   "cell_type": "code",
   "execution_count": 11,
   "metadata": {},
   "outputs": [],
   "source": [
    "def sample_start_f():\n",
    "    return 6 * np.random.random()"
   ]
  },
  {
   "cell_type": "markdown",
   "metadata": {},
   "source": [
    "Festelegung der Standardparameter für den Versuch, eine Messreihe hat jeweils eine größe von 140 Messungen<br>\n",
    "A1 = A2 = A3, Grundfläche der Tanks<br>\n",
    "q1, q2, q3 : Querschnitt der Durchflussrohre<br>\n",
    "q1 = 2, q2 = 2, q3 = 2<br>"
   ]
  },
  {
   "cell_type": "markdown",
   "metadata": {},
   "source": [
    "Neben den Standardparametern lassen sich für den Versuch auch Funktionen für die Flächen A und die Querflächen q auswählen. Dies verändert die Prozessdynamik an verschiedenen Stellen und führt sogar ein Rauschen der Prozessdynamik ein. Dies soll es für das Modell weiterhin erschweren die Werte vorherzusagen."
   ]
  },
  {
   "cell_type": "code",
   "execution_count": 12,
   "metadata": {},
   "outputs": [],
   "source": [
    "def q1_func(t):\n",
    "    return 3 * np.sin(1 / 15 * t) + 3 + 0.5 * np.random.random()\n",
    "\n",
    "\n",
    "def q2_func(t):\n",
    "    return 4 * np.cos(1 / 15 * t) + 4 + 0.5 * np.random.random()\n",
    "\n",
    "\n",
    "def q3_func(t):\n",
    "    return 5 - (5) * np.exp(-0.03 * t) + 0.5 * np.random.random()\n",
    "\n",
    "\n",
    "def A1_func(t):\n",
    "    return 50 - (50) * np.exp(-0.3 * t) + 1 + 2 * np.random.random()\n",
    "\n",
    "\n",
    "def A2_func(t):\n",
    "    return 55 - (55) * np.exp(-0.03 * t) + 1 + 2 * np.random.random()\n",
    "\n",
    "\n",
    "def A3_func(t):\n",
    "    return (30 / 140) * t + 20 + 2 * np.random.random()"
   ]
  },
  {
   "cell_type": "code",
   "execution_count": 13,
   "metadata": {},
   "outputs": [
    {
     "data": {
      "application/vnd.plotly.v1+json": {
       "config": {
        "plotlyServerURL": "https://plot.ly"
       },
       "data": [
        {
         "name": "q1",
         "type": "scatter",
         "x": {
          "bdata": "AAABAAIAAwAEAAUABgAHAAgACQAKAAsADAANAA4ADwAQABEAEgATABQAFQAWABcAGAAZABoAGwAcAB0AHgAfACAAIQAiACMAJAAlACYAJwAoACkAKgArACwALQAuAC8AMAAxADIAMwA0ADUANgA3ADgAOQA6ADsAPAA9AD4APwBAAEEAQgBDAEQARQBGAEcASABJAEoASwBMAE0ATgBPAFAAUQBSAFMAVABVAFYAVwBYAFkAWgBbAFwAXQBeAF8AYABhAGIAYwBkAGUAZgBnAGgAaQBqAGsAbABtAG4AbwBwAHEAcgBzAHQAdQB2AHcAeAB5AHoAewB8AH0AfgB/AIAAgQCCAIMAhACFAIYAhwCIAIkAigCLAA==",
          "dtype": "i2"
         },
         "y": {
          "bdata": "HZ+umtfJC0DCrvkRiVAMQKuUCZmITwtAXPTZbUMjEEBfEPjGV/IQQGyjk8tOyxFAFJSMf7FfEUA0Zjae8R0SQKFBJTcdlBNADbGa40XeE0AJaxQ7VpMTQENcGchpcxRAse9ieXg5FkDn11Ii1g4WQDuT1fgscxZAJo4L2goiFkAdyEx7Ly4XQH87//PZghhAFo0b8c0zGEBmEt5Y8jsYQNoN+EBZRBhAqFFOP+VJGUBGI3YlRUMZQFzp14EAoBlAMbx9UK5AGUDXLLDiprUZQAQEv3UagRhAjrj1veRbGEBkKrkh2RcZQNsxXeQj9BdA3/GHBX+aGEA5RjODfLAWQOD3SLoy2xZAqlP9qonBFkCASTIABcoVQFO3SGOpghZAhaV62GWsFECmw2qZNGoUQHWFb561xRNAFW9M+ea1E0C5ILncUwATQJmPUNfpIxFA7zd6RS9sEEBVGxfTyjUQQDHm+XVaSw1AxEIDsR3uDUAK8spcuCAMQPqoOSh5jQtA5XrX5432CEBgReptaZEHQFBw16oZrAZAxfQDtGDOAkAIeDEFzfUBQIgk5HPn0wFAWDKUfGae/D8JDbdRBHb5P1iu0tIY6PU/QgDqh2p+9j+B4jYSIBX1P9zPdHzvevI/VEgFl3dU6j9bxTe+LCTpP9s8SC4wbOY/0XyznVab5D8IvcUUiYjgP0jfKKEtlcw/siAwdVuNxj8QcbqcWQbfP2bYxzcvadQ/8sGzH+8AxT/4wFW5+2CqP7ogWno/n9A/XrjlIIvAyT8yCr7cuFfXP+oBoXUWmso/u9jfQJza2T8ijeiB8SnXP9cN1yo399o/kjksM4yo5T9ydqLzRK3nP5NTy/Vo7+c/+GX9VPWF8T/TeZgGoAb0PyPWEKxL8/M/x1t7j+tA9z+8MFaZ6fr5P1ah6x/Op/o/wSe52uLH/T8QgbRcgO8AQI0Zu1UZ0wBAaCxvcf8iBUBeYbx1jzIFQHcCX3VtuQRAUhvNJ1RLBkAo1Mxb5xoJQNi72Hmx9QlA+V0sm4YiDkBWdL4a7dUNQJ29Qg8hChBA3oypiQ/SEEC+nD+WbHMSQJDr94DW4RFAIJsVz5SeEkCgVWCCksUTQMBpaAApJxRAW2ibWUZ+FEDFBKcUqAEVQLqzlLk9whZA/Vdmpb6lFUAXutICtLoWQGF4TgRa3BZAo9WCD3qkGEBHybLIjRoZQIgqXv+wGhlAiXZ9A1lbGUAekaavYewXQLQB30XAZhlA6p8H8vJZGUD/PYeRqSEYQNLzi3ulzBhA1TSxYVW/GUA109KtJ0gYQFbn3R8A4RdAObHkimXAF0AKwfwQ9wUYQDzowu8FwxZA0YXrK1FTFkAeu/k/xNMWQCYrYdqMQBZAjq+st129FUC/Wj/s2fcUQHSt9ERiEhVAamDFHV/qE0CHH+n2CZYSQGgOpymvCBNAxDsSQP8BEUA3sA7gBfwRQA31vVu2VRFAb+bc3zQjD0Co6EZwd6EOQA==",
          "dtype": "f8"
         }
        },
        {
         "name": "q2",
         "type": "scatter",
         "x": {
          "bdata": "AAABAAIAAwAEAAUABgAHAAgACQAKAAsADAANAA4ADwAQABEAEgATABQAFQAWABcAGAAZABoAGwAcAB0AHgAfACAAIQAiACMAJAAlACYAJwAoACkAKgArACwALQAuAC8AMAAxADIAMwA0ADUANgA3ADgAOQA6ADsAPAA9AD4APwBAAEEAQgBDAEQARQBGAEcASABJAEoASwBMAE0ATgBPAFAAUQBSAFMAVABVAFYAVwBYAFkAWgBbAFwAXQBeAF8AYABhAGIAYwBkAGUAZgBnAGgAaQBqAGsAbABtAG4AbwBwAHEAcgBzAHQAdQB2AHcAeAB5AHoAewB8AH0AfgB/AIAAgQCCAIMAhACFAIYAhwCIAIkAigCLAA==",
          "dtype": "i2"
         },
         "y": {
          "bdata": "2O2AX0mPIEAPF4mUbf4fQPKtElxHjiBA/LdJZTl8IEAUUaTZV1ggQAXO+0etKyBA7/H4SNXuHkD30i/rUyMfQGa6qudFpx9AqMCZ2nQnHkAIe1pL02IeQIi13Ke/QhxAtAvXjKWTG0CkxySpWaAaQMo9fLmwnhpANx+3tKQFGUAHMd9PanYZQGwBgPJEGxhAnUy7XN69FkDKsdvfffMUQOy1nL7PPRVAy4JhZH8QFECM34d47sISQMk7H8V5fBFAmU0cG/HREEDMzdLkTMwNQJEsFPGyWgxAOw/7s6r3CUBMG+EDPXoJQKYO+ZczpQZAXe1RBgbbBEA7DyVdgxkEQP61HALLkP4/dDbo3BXh+j9GDPUQM1n3P0KSPxhyIvc/4/t3pjUv8T+ezLU6S231P+QQT0GNKPE/2+ubHk2x7z9Mgyxo1xXsPzMz6fKS69U/WRCbgfAC0z+8HowFMMnkP5CeZdQ0Sc0/imuf83NQ1j8M4AzAUjrTP4Ih0DGIZd4/SOd/c4N12z88LFWMYtDGP+Ss1rqHZ8s/pGPOXz8o3j87dKGnuCDUP744VZC8peg/cvZiGgvm5z/0zou9IQ3uP36RC4LqfvE/eADaEiF79D9ModuQd2H3PzR9nPaZJvQ/oGoIbbW9+D9nAhAghWT6P3ZlKJRfZgJAo8/SzW1CAkBc9wekrtQCQIrmR9soQgRABvLEAhqgCED5tC2BipILQD7asObCXw1AQnr2Quk9D0DRHetENywRQJy838RcMhJAmL5N34YAE0Dg6CVUIDoUQLHxmLEeUhVAqEHenBZLFkCjAzRcgxMWQBv1nY9WZBdAXSIJxqNcGECAJ/RJWc4YQMqrFvJ4gRlAg2TU/EnYG0AGF8gl+HcbQK2z8stLVxxAW9twmRVHHkAhszbTiz8eQL8UN32zzx1AfHJShMdlH0BJO+u/GlAgQHDrYwrIwh9ATS9osw6WIEAVfGfbnbofQLnNPPPumyBA29TJaiGtIEDadrgj8aIgQEkpcu2gXSBAX+PHR0YFIEABOVsFzLcgQO6IYHEVRiBAmZcB5CUsIEBf0fKzeQkfQOdKibIY8x9A3rHtUHJuH0DSJrSb1IseQBp2rvnhCx5AyxySig86HECvP+tDW7IbQFAuDkp43RtAycG7hTEdG0C/ob2J6zMZQDgyrLTnExlAM+TNAW5lF0C/IrSfd1gWQGY58OjDSBVAJ/nVzr6WFUARWyXZkdETQETqu8DLwRJAAp2qlwrGEUCgL/7WGd4PQFLceRWOtw1AjSVkWiYyDkAWcYXAgAkMQNf/0EwtywlAve6O5xHnBkAh4Emr9RYGQDJlHNJeXQNALtuQ4OU2AUBKYHjSs+T9P6z75fiPxvs/vyIMKX0j+D/4C8TpHHTzP0hFxpEFMvQ/YlkWLTsH9D9YB75VI9XmP4zwPoTSy+g/w2zqMqos3z8cv0AcvjzbP7sQ/TTzcuI/fNWzhiBL1j/fCJqJ95bePw==",
          "dtype": "f8"
         }
        },
        {
         "name": "q3",
         "type": "scatter",
         "x": {
          "bdata": "AAABAAIAAwAEAAUABgAHAAgACQAKAAsADAANAA4ADwAQABEAEgATABQAFQAWABcAGAAZABoAGwAcAB0AHgAfACAAIQAiACMAJAAlACYAJwAoACkAKgArACwALQAuAC8AMAAxADIAMwA0ADUANgA3ADgAOQA6ADsAPAA9AD4APwBAAEEAQgBDAEQARQBGAEcASABJAEoASwBMAE0ATgBPAFAAUQBSAFMAVABVAFYAVwBYAFkAWgBbAFwAXQBeAF8AYABhAGIAYwBkAGUAZgBnAGgAaQBqAGsAbABtAG4AbwBwAHEAcgBzAHQAdQB2AHcAeAB5AHoAewB8AH0AfgB/AIAAgQCCAIMAhACFAIYAhwCIAIkAigCLAA==",
          "dtype": "i2"
         },
         "y": {
          "bdata": "HNHrfgH8xT/ryiSUGsveP7qOj5tgMOQ/kVQ2TtZz4D9A8bCGPz3vP0CKCKS4H/M/mkw+fkPy8z/ImtJ0p+H0P033viWGwvg/amxzdh0S9z87Li7dVgD8P1VqaS2zNf0/deOvv9CV+z8SK3p2rnb/P052ipL4IABAQKvrGyiDAUB7c9otNh8CQAFdmQz97wFAHmFC1EUJAkAUfc/nnfkBQNu+JADJsQJAPiYi2+PBBEAkjvm4ul4DQKo+OSDRhgZAi6TMiszJBEC8StbdC14FQPkRWyjDLwZAEQAYwdWyCEARBe0x0/8GQDR4OHDuZwhAIonbFDVsCkApz21jFEUJQK0y13VLKwtARgBVKlMdCkD26P3H/ggMQIUGxTY6dgxA2qP1lE43DEBoO0JRTikMQMrE2ANs1wtASc4mDqbiC0DM1mOWRQYOQJyY+B0Qdw1A+ZJiQmgkEEA5gvYpaKENQOY2yTvDNA9ARICDJZLnD0ByMZZ09+IPQKJ3M+Ak4g9Atpg724PMDkB9FaQRSU4QQNwxaUk4bxBAMqxTE09iEUBY0mYJ+AUQQOVoMfKMYRBAWehVfoNBEECzN6AKq8kRQJhJmQESaBBAv2m1BNQ9EkDtHPqFfUQSQMj/fzG2DhFA6sj1WAC2EUAaw1sp5FwRQLLkKN6gYBJAxecCOvncEUBfBSioWVMSQO4/GQXrKBFAov0fLnukEUBudmt1m30SQJ1kMVdAQBNA1GyjDQSlEkDVgb2tgMwSQIhPg1kAwhJAZ3lXzyQZEkB1H8bgy8sRQF+BbV90ARJAvyYUoEw1EkA9QAuOhSkSQB1qflOBrBJA1ZF39fc8E0D8QVHcCJ0SQERS373DYBJASN/D3xPkEkCtjWjO/6QTQDqOk3RqFBRAUp4IPsZhE0CZ+EiAmXITQNHSpF61khJABnLe0rgPFEDfyqyUNAsUQPof94gqXRRAQjArfG1wE0AdsokWJu8SQMgxMdnLvRNAcIE4l1BLFECkMshOX9QTQNM3kEcY2hNAtdTfSXLHE0DEjrFm/w8UQMZpJz5RSxRA/L7a3mlVE0DCWSvoKJ4UQDxMaAtmrBRAMHRVrEIiE0Ad+gCh0EcTQOhkWuqE6hNAKsqVsTQbFEDIV/w51kMTQCd8vNCXBRVAbIxV2GOlE0AV6/g8Vw8UQKGcws2QTRNAv3KK2jkKFUA81hc9dJEUQIsFzyrU5BNAC5JBQ6spFEAFR2gVSn4UQKYLaRfk+xRAHHCujNnrFEAqsFExufcUQJ+eRp7WrBNAIRjAvjdSFEB9DhPpeAIVQIm2aVRrtBNA9pPvcGUlFECjjzwwTHMUQATdxbLz6xRAnjMVQWliFEBBOBZ2NgUVQKbsk+ZlUhVATsRed4H9E0CyWL5nhnsVQKopeMF6/hNAmL8g+B4UFEBaHPKGIHkUQMj0a7mD2xRAc0SsSc1kFEB5bj5g6OYUQJml1SsZ4xNA6s5VobdsFUBN0lqps7oTQA==",
          "dtype": "f8"
         }
        }
       ],
       "layout": {
        "template": {
         "data": {
          "bar": [
           {
            "error_x": {
             "color": "#2a3f5f"
            },
            "error_y": {
             "color": "#2a3f5f"
            },
            "marker": {
             "line": {
              "color": "#E5ECF6",
              "width": 0.5
             },
             "pattern": {
              "fillmode": "overlay",
              "size": 10,
              "solidity": 0.2
             }
            },
            "type": "bar"
           }
          ],
          "barpolar": [
           {
            "marker": {
             "line": {
              "color": "#E5ECF6",
              "width": 0.5
             },
             "pattern": {
              "fillmode": "overlay",
              "size": 10,
              "solidity": 0.2
             }
            },
            "type": "barpolar"
           }
          ],
          "carpet": [
           {
            "aaxis": {
             "endlinecolor": "#2a3f5f",
             "gridcolor": "white",
             "linecolor": "white",
             "minorgridcolor": "white",
             "startlinecolor": "#2a3f5f"
            },
            "baxis": {
             "endlinecolor": "#2a3f5f",
             "gridcolor": "white",
             "linecolor": "white",
             "minorgridcolor": "white",
             "startlinecolor": "#2a3f5f"
            },
            "type": "carpet"
           }
          ],
          "choropleth": [
           {
            "colorbar": {
             "outlinewidth": 0,
             "ticks": ""
            },
            "type": "choropleth"
           }
          ],
          "contour": [
           {
            "colorbar": {
             "outlinewidth": 0,
             "ticks": ""
            },
            "colorscale": [
             [
              0,
              "#0d0887"
             ],
             [
              0.1111111111111111,
              "#46039f"
             ],
             [
              0.2222222222222222,
              "#7201a8"
             ],
             [
              0.3333333333333333,
              "#9c179e"
             ],
             [
              0.4444444444444444,
              "#bd3786"
             ],
             [
              0.5555555555555556,
              "#d8576b"
             ],
             [
              0.6666666666666666,
              "#ed7953"
             ],
             [
              0.7777777777777778,
              "#fb9f3a"
             ],
             [
              0.8888888888888888,
              "#fdca26"
             ],
             [
              1,
              "#f0f921"
             ]
            ],
            "type": "contour"
           }
          ],
          "contourcarpet": [
           {
            "colorbar": {
             "outlinewidth": 0,
             "ticks": ""
            },
            "type": "contourcarpet"
           }
          ],
          "heatmap": [
           {
            "colorbar": {
             "outlinewidth": 0,
             "ticks": ""
            },
            "colorscale": [
             [
              0,
              "#0d0887"
             ],
             [
              0.1111111111111111,
              "#46039f"
             ],
             [
              0.2222222222222222,
              "#7201a8"
             ],
             [
              0.3333333333333333,
              "#9c179e"
             ],
             [
              0.4444444444444444,
              "#bd3786"
             ],
             [
              0.5555555555555556,
              "#d8576b"
             ],
             [
              0.6666666666666666,
              "#ed7953"
             ],
             [
              0.7777777777777778,
              "#fb9f3a"
             ],
             [
              0.8888888888888888,
              "#fdca26"
             ],
             [
              1,
              "#f0f921"
             ]
            ],
            "type": "heatmap"
           }
          ],
          "histogram": [
           {
            "marker": {
             "pattern": {
              "fillmode": "overlay",
              "size": 10,
              "solidity": 0.2
             }
            },
            "type": "histogram"
           }
          ],
          "histogram2d": [
           {
            "colorbar": {
             "outlinewidth": 0,
             "ticks": ""
            },
            "colorscale": [
             [
              0,
              "#0d0887"
             ],
             [
              0.1111111111111111,
              "#46039f"
             ],
             [
              0.2222222222222222,
              "#7201a8"
             ],
             [
              0.3333333333333333,
              "#9c179e"
             ],
             [
              0.4444444444444444,
              "#bd3786"
             ],
             [
              0.5555555555555556,
              "#d8576b"
             ],
             [
              0.6666666666666666,
              "#ed7953"
             ],
             [
              0.7777777777777778,
              "#fb9f3a"
             ],
             [
              0.8888888888888888,
              "#fdca26"
             ],
             [
              1,
              "#f0f921"
             ]
            ],
            "type": "histogram2d"
           }
          ],
          "histogram2dcontour": [
           {
            "colorbar": {
             "outlinewidth": 0,
             "ticks": ""
            },
            "colorscale": [
             [
              0,
              "#0d0887"
             ],
             [
              0.1111111111111111,
              "#46039f"
             ],
             [
              0.2222222222222222,
              "#7201a8"
             ],
             [
              0.3333333333333333,
              "#9c179e"
             ],
             [
              0.4444444444444444,
              "#bd3786"
             ],
             [
              0.5555555555555556,
              "#d8576b"
             ],
             [
              0.6666666666666666,
              "#ed7953"
             ],
             [
              0.7777777777777778,
              "#fb9f3a"
             ],
             [
              0.8888888888888888,
              "#fdca26"
             ],
             [
              1,
              "#f0f921"
             ]
            ],
            "type": "histogram2dcontour"
           }
          ],
          "mesh3d": [
           {
            "colorbar": {
             "outlinewidth": 0,
             "ticks": ""
            },
            "type": "mesh3d"
           }
          ],
          "parcoords": [
           {
            "line": {
             "colorbar": {
              "outlinewidth": 0,
              "ticks": ""
             }
            },
            "type": "parcoords"
           }
          ],
          "pie": [
           {
            "automargin": true,
            "type": "pie"
           }
          ],
          "scatter": [
           {
            "fillpattern": {
             "fillmode": "overlay",
             "size": 10,
             "solidity": 0.2
            },
            "type": "scatter"
           }
          ],
          "scatter3d": [
           {
            "line": {
             "colorbar": {
              "outlinewidth": 0,
              "ticks": ""
             }
            },
            "marker": {
             "colorbar": {
              "outlinewidth": 0,
              "ticks": ""
             }
            },
            "type": "scatter3d"
           }
          ],
          "scattercarpet": [
           {
            "marker": {
             "colorbar": {
              "outlinewidth": 0,
              "ticks": ""
             }
            },
            "type": "scattercarpet"
           }
          ],
          "scattergeo": [
           {
            "marker": {
             "colorbar": {
              "outlinewidth": 0,
              "ticks": ""
             }
            },
            "type": "scattergeo"
           }
          ],
          "scattergl": [
           {
            "marker": {
             "colorbar": {
              "outlinewidth": 0,
              "ticks": ""
             }
            },
            "type": "scattergl"
           }
          ],
          "scattermap": [
           {
            "marker": {
             "colorbar": {
              "outlinewidth": 0,
              "ticks": ""
             }
            },
            "type": "scattermap"
           }
          ],
          "scattermapbox": [
           {
            "marker": {
             "colorbar": {
              "outlinewidth": 0,
              "ticks": ""
             }
            },
            "type": "scattermapbox"
           }
          ],
          "scatterpolar": [
           {
            "marker": {
             "colorbar": {
              "outlinewidth": 0,
              "ticks": ""
             }
            },
            "type": "scatterpolar"
           }
          ],
          "scatterpolargl": [
           {
            "marker": {
             "colorbar": {
              "outlinewidth": 0,
              "ticks": ""
             }
            },
            "type": "scatterpolargl"
           }
          ],
          "scatterternary": [
           {
            "marker": {
             "colorbar": {
              "outlinewidth": 0,
              "ticks": ""
             }
            },
            "type": "scatterternary"
           }
          ],
          "surface": [
           {
            "colorbar": {
             "outlinewidth": 0,
             "ticks": ""
            },
            "colorscale": [
             [
              0,
              "#0d0887"
             ],
             [
              0.1111111111111111,
              "#46039f"
             ],
             [
              0.2222222222222222,
              "#7201a8"
             ],
             [
              0.3333333333333333,
              "#9c179e"
             ],
             [
              0.4444444444444444,
              "#bd3786"
             ],
             [
              0.5555555555555556,
              "#d8576b"
             ],
             [
              0.6666666666666666,
              "#ed7953"
             ],
             [
              0.7777777777777778,
              "#fb9f3a"
             ],
             [
              0.8888888888888888,
              "#fdca26"
             ],
             [
              1,
              "#f0f921"
             ]
            ],
            "type": "surface"
           }
          ],
          "table": [
           {
            "cells": {
             "fill": {
              "color": "#EBF0F8"
             },
             "line": {
              "color": "white"
             }
            },
            "header": {
             "fill": {
              "color": "#C8D4E3"
             },
             "line": {
              "color": "white"
             }
            },
            "type": "table"
           }
          ]
         },
         "layout": {
          "annotationdefaults": {
           "arrowcolor": "#2a3f5f",
           "arrowhead": 0,
           "arrowwidth": 1
          },
          "autotypenumbers": "strict",
          "coloraxis": {
           "colorbar": {
            "outlinewidth": 0,
            "ticks": ""
           }
          },
          "colorscale": {
           "diverging": [
            [
             0,
             "#8e0152"
            ],
            [
             0.1,
             "#c51b7d"
            ],
            [
             0.2,
             "#de77ae"
            ],
            [
             0.3,
             "#f1b6da"
            ],
            [
             0.4,
             "#fde0ef"
            ],
            [
             0.5,
             "#f7f7f7"
            ],
            [
             0.6,
             "#e6f5d0"
            ],
            [
             0.7,
             "#b8e186"
            ],
            [
             0.8,
             "#7fbc41"
            ],
            [
             0.9,
             "#4d9221"
            ],
            [
             1,
             "#276419"
            ]
           ],
           "sequential": [
            [
             0,
             "#0d0887"
            ],
            [
             0.1111111111111111,
             "#46039f"
            ],
            [
             0.2222222222222222,
             "#7201a8"
            ],
            [
             0.3333333333333333,
             "#9c179e"
            ],
            [
             0.4444444444444444,
             "#bd3786"
            ],
            [
             0.5555555555555556,
             "#d8576b"
            ],
            [
             0.6666666666666666,
             "#ed7953"
            ],
            [
             0.7777777777777778,
             "#fb9f3a"
            ],
            [
             0.8888888888888888,
             "#fdca26"
            ],
            [
             1,
             "#f0f921"
            ]
           ],
           "sequentialminus": [
            [
             0,
             "#0d0887"
            ],
            [
             0.1111111111111111,
             "#46039f"
            ],
            [
             0.2222222222222222,
             "#7201a8"
            ],
            [
             0.3333333333333333,
             "#9c179e"
            ],
            [
             0.4444444444444444,
             "#bd3786"
            ],
            [
             0.5555555555555556,
             "#d8576b"
            ],
            [
             0.6666666666666666,
             "#ed7953"
            ],
            [
             0.7777777777777778,
             "#fb9f3a"
            ],
            [
             0.8888888888888888,
             "#fdca26"
            ],
            [
             1,
             "#f0f921"
            ]
           ]
          },
          "colorway": [
           "#636efa",
           "#EF553B",
           "#00cc96",
           "#ab63fa",
           "#FFA15A",
           "#19d3f3",
           "#FF6692",
           "#B6E880",
           "#FF97FF",
           "#FECB52"
          ],
          "font": {
           "color": "#2a3f5f"
          },
          "geo": {
           "bgcolor": "white",
           "lakecolor": "white",
           "landcolor": "#E5ECF6",
           "showlakes": true,
           "showland": true,
           "subunitcolor": "white"
          },
          "hoverlabel": {
           "align": "left"
          },
          "hovermode": "closest",
          "mapbox": {
           "style": "light"
          },
          "paper_bgcolor": "white",
          "plot_bgcolor": "#E5ECF6",
          "polar": {
           "angularaxis": {
            "gridcolor": "white",
            "linecolor": "white",
            "ticks": ""
           },
           "bgcolor": "#E5ECF6",
           "radialaxis": {
            "gridcolor": "white",
            "linecolor": "white",
            "ticks": ""
           }
          },
          "scene": {
           "xaxis": {
            "backgroundcolor": "#E5ECF6",
            "gridcolor": "white",
            "gridwidth": 2,
            "linecolor": "white",
            "showbackground": true,
            "ticks": "",
            "zerolinecolor": "white"
           },
           "yaxis": {
            "backgroundcolor": "#E5ECF6",
            "gridcolor": "white",
            "gridwidth": 2,
            "linecolor": "white",
            "showbackground": true,
            "ticks": "",
            "zerolinecolor": "white"
           },
           "zaxis": {
            "backgroundcolor": "#E5ECF6",
            "gridcolor": "white",
            "gridwidth": 2,
            "linecolor": "white",
            "showbackground": true,
            "ticks": "",
            "zerolinecolor": "white"
           }
          },
          "shapedefaults": {
           "line": {
            "color": "#2a3f5f"
           }
          },
          "ternary": {
           "aaxis": {
            "gridcolor": "white",
            "linecolor": "white",
            "ticks": ""
           },
           "baxis": {
            "gridcolor": "white",
            "linecolor": "white",
            "ticks": ""
           },
           "bgcolor": "#E5ECF6",
           "caxis": {
            "gridcolor": "white",
            "linecolor": "white",
            "ticks": ""
           }
          },
          "title": {
           "x": 0.05
          },
          "xaxis": {
           "automargin": true,
           "gridcolor": "white",
           "linecolor": "white",
           "ticks": "",
           "title": {
            "standoff": 15
           },
           "zerolinecolor": "white",
           "zerolinewidth": 2
          },
          "yaxis": {
           "automargin": true,
           "gridcolor": "white",
           "linecolor": "white",
           "ticks": "",
           "title": {
            "standoff": 15
           },
           "zerolinecolor": "white",
           "zerolinewidth": 2
          }
         }
        },
        "title": {
         "text": "Fläche q zum Zeitpunkt t"
        },
        "xaxis": {
         "title": {
          "text": "t"
         }
        },
        "yaxis": {
         "title": {
          "text": "q(t)"
         }
        }
       }
      }
     },
     "metadata": {},
     "output_type": "display_data"
    }
   ],
   "source": [
    "q1 = np.array([q1_func(x) for x in t])\n",
    "q2 = np.array([q2_func(x) for x in t])\n",
    "q3 = np.array([q3_func(x) for x in t])\n",
    "fig = go.Figure(\n",
    "    data=[\n",
    "        go.Scatter(x=t, y=q1, name=\"q1\"),\n",
    "        go.Scatter(x=t, y=q2, name=\"q2\"),\n",
    "        go.Scatter(x=t, y=q3, name=\"q3\"),\n",
    "    ]\n",
    ")\n",
    "fig.update_layout(title=\"Fläche q zum Zeitpunkt t\", xaxis_title=\"t\", yaxis_title=\"q(t)\")\n",
    "fig.show()"
   ]
  },
  {
   "cell_type": "code",
   "execution_count": 14,
   "metadata": {},
   "outputs": [
    {
     "data": {
      "application/vnd.plotly.v1+json": {
       "config": {
        "plotlyServerURL": "https://plot.ly"
       },
       "data": [
        {
         "name": "A1",
         "type": "scatter",
         "x": {
          "bdata": "AAABAAIAAwAEAAUABgAHAAgACQAKAAsADAANAA4ADwAQABEAEgATABQAFQAWABcAGAAZABoAGwAcAB0AHgAfACAAIQAiACMAJAAlACYAJwAoACkAKgArACwALQAuAC8AMAAxADIAMwA0ADUANgA3ADgAOQA6ADsAPAA9AD4APwBAAEEAQgBDAEQARQBGAEcASABJAEoASwBMAE0ATgBPAFAAUQBSAFMAVABVAFYAVwBYAFkAWgBbAFwAXQBeAF8AYABhAGIAYwBkAGUAZgBnAGgAaQBqAGsAbABtAG4AbwBwAHEAcgBzAHQAdQB2AHcAeAB5AHoAewB8AH0AfgB/AIAAgQCCAIMAhACFAIYAhwCIAIkAigCLAA==",
          "dtype": "i2"
         },
         "y": {
          "bdata": "NkIIufydBEAyY4XU6SgvQPr8X9MTsjhAR4R5k+wVQEBCwuv3cAZCQKBoNmdMKURA0WBw+0k0RkDP/yCZvmtHQDFMMXYCD0hAoTMpUboQSECHk3Y2CNFIQI5NfvlN1EhA4KkHocmySUBRvwO6MANJQLLsTRHMJElAul3OwqVPSUDgYWLqVpJJQP3cbOT3/ElAAdlVcREHSkA/FoBuSBFKQMVGwxsKVkpAHRP6YxK/SUBKwDKKFV5KQIwCEsCoLkpAS6QtXlu1SUCSCL89hFRKQInnouQruklA7EB36fvySUAa75Xb9HlKQDQvowAE3klAFDE+hqCUSUBnauJ6gpdJQCsgQsFKD0pAIjBSS/ctSkBjOmpHwIJJQL8Otehj5ElAXwNsIPTBSUC3KKkhePpJQAh1POa0TEpA8ni6i0MCSkCgcqlJL31KQE1PK2/+9ElAxWk7oA06SkCod8iG1zFKQEtYt8O9SUpAmuC3+N2aSUCjooibZfpJQIT80Itq20lAVmX5Dr7XSUBAgPunGBNKQB10AhsXq0lA290RhyBOSkC69rKdkiJKQCLlc98IrElAidRaZn4cSkC33ltyPudJQJT0R+yBfkpAjeZPmR6TSUC/BOBRlRFKQMHHQkdfoklAsBhnYxNLSkDFvaVQzNhJQCjVHMRlCEpAXOFw1z++SUBOTWb8cFJKQL4WJGp1qElASJxTOABqSkDvrddcRZhJQM8T851ZY0pAzE7DayAlSkA/9APETQBKQJAvai3BZkpAaiV0oofZSUCvEKpzQ0BKQDLM7lGQ9klAD9m7baqzSUBbmJV+Y4xJQCGjxOjJUUpAGLmpRZQISkDL1QU8Q1tKQJ6PbLhf0klApCVsXgN7SkDZVpU6c1FKQFekpUUXKkpAHMYtdYYbSkBXMwU0pIhJQGQ1covAnUlAQCoJDvYLSkB7WpXi2/pJQL7sE5uFuElAgCkPFO7/SUBuQPE7xXxKQMLBvV4oEkpAnvcSA9cxSkCiMBVpxAxKQHTI5YUqs0lAgPRKhzFASkATEw0l8oNJQIc1p429+0lAmU8cftHVSUCAfCegNvRJQH5Wg8jBCEpAFkbJbIa5SUA1j2C6hB1KQA6dXsSfNkpAVxx/bB9pSkCAAjrHkelJQEGltj9PX0pAZuv3RmerSUAGG4ctIKRJQLyp2nt1iklAjhfGMpJLSkDuhr0XoO1JQJuVJLuNZkpArs6/cW/BSUC8kMx0u2BKQMIC+Dt6H0pAU5DUmgccSkCYmJmY9BVKQIoJpxQYb0pA0uK3h8hUSkAVwY266npKQB+SIqyB30lAYiDroR26SUDaDwFFodZJQLIjlgXk/0lAEI01n7YISkDKesIH8xBKQN6d4RG0BEpAruYEt7lWSkBaArVSattJQAoWhhP32UlAlHNbqOFVSkAqprrmRrlJQOQ/00+L3ElAMydOg3zVSUB6C1nLSf9JQH3GaWHR/klAwkSc9HzwSUDAXiCQzd5JQA==",
          "dtype": "f8"
         }
        },
        {
         "name": "A2",
         "type": "scatter",
         "x": {
          "bdata": "AAABAAIAAwAEAAUABgAHAAgACQAKAAsADAANAA4ADwAQABEAEgATABQAFQAWABcAGAAZABoAGwAcAB0AHgAfACAAIQAiACMAJAAlACYAJwAoACkAKgArACwALQAuAC8AMAAxADIAMwA0ADUANgA3ADgAOQA6ADsAPAA9AD4APwBAAEEAQgBDAEQARQBGAEcASABJAEoASwBMAE0ATgBPAFAAUQBSAFMAVABVAFYAVwBYAFkAWgBbAFwAXQBeAF8AYABhAGIAYwBkAGUAZgBnAGgAaQBqAGsAbABtAG4AbwBwAHEAcgBzAHQAdQB2AHcAeAB5AHoAewB8AH0AfgB/AIAAgQCCAIMAhACFAIYAhwCIAIkAigCLAA==",
          "dtype": "i2"
         },
         "y": {
          "bdata": "Pv9RRIh8AED0wfcZHLMIQPbevIwbxBJAoZ7nyFS4HECy+8TUqiUdQNNH3/28viJA9rnoXkDHJ0AgMvDeb6ooQNk7VJIHsCxAUG5ZoGfzLECAW7yxw24vQN8oNulGVjJAGVXEOo3wMUCaMZfgoOoyQLhkpq0hjTRAvEyO23URNkBZ8UtIxNk2QOy/GQ8PUjhAaq0YS2GeOUCekH6xsIw6QMb+hsXsXjpA4Y6ed65sPEB+8ei1nzY8QBH+ve2kmj1ADoNZkhweP0DNkcY2Rtc/QOyqnK7FWkBAQsZfo3ZRQEA2njdAP0lAQDeAib6eiEBAr2Qtl9dVQUDSlk5Q7rdBQITRNcAW+EFAvvbXM9f1QUBwFTUu+L5CQJtKUxT4tUJAhrQJOqu7QkBRfP2RNuNDQLV/kgTxO0NA7npYagW1Q0DPLDsk1GREQI9hQA22fURAwTmmIyjEREB87rGfgblEQIGLvFU2SEVAo/5KqZeJRUDmS0UFSVlFQOoLLUGkMkZA8CQVBilCRkBSff0n9cxFQCiXQLlKzkZAfOPeq3SYRkC+nh38dNlGQJzdhXgCg0ZALojBQNsMR0DFnj5d25tHQIGHkzQnwEdA2FQh93KcR0D5QT93poJHQPPmfulNGEhAE346rvHrR0Ckf/78V4NIQBYikASzaUhAizWe+HUsSEChLDDmRn1IQFWwz3JF/UhAG1Y7tpXrSEBcJKbPTLBIQE3AP9vGAElAKNnp69cGSUC14tXZOHBJQFMt2Tl6A0lAW46taJN8SUAENYD5MuJJQGbg7AsQ1klA4RDBWNBQSUDWaa2sEI5JQGU/DoBO4ElAZghQJh6bSUCW0cLFIB1KQHAw+Hbg2klArZLm9Nn1SUB+Y/nKpFVKQIX7SMblQUpARYz1ksHVSUDFiIbnrb9KQO8KfMlE2kpAIN7a2Cp+SkC23ysJcApKQNmMiSjS8kpAJ5lH8I3aSkAqFWtov+pKQA08+Mn4aUpAWCfWSEpVSkCaEZ4Ig/BKQD+SmJDNgEpAUNM7Q5HrSkDXKi2an0tLQD4UBzt4k0pAq/XpFMhgS0BW4bk61XtLQLZX54AjuEpAhfWibGqwS0ChL4lEv5tLQGynJm1P+0pATj2F1BnqSkChvuZjxitLQPLiUtwN5UpATy1mFLxjS0DMEq1tb8hLQFstRJ3maUtAqnza8JLNS0BiCoggrtRLQM9l45iT/EtAanSjtL/3S0AeHcOdgiBMQBk96R7AIExAJUcoc1uDS0ALpFE4C3xLQEHbUXkZ0ktArR2ag8InTEDh4Wm6S81LQOK9XFqSQExALtQv9IU4TEDD7ocmU2dLQGMgCOwdLExAtkSJ8+7QS0CbCFxCIzFMQFF1RUOl1ktAnRaYxpMOTEAK2vONGmlMQDHOEtdvK0xAELWg6Dl0TEBsQ7LWW99LQO7EWAzxVExA+AScKiKoS0BEk/0szcZLQLYaMeyUlktAcT6fgJ73S0BbB6E2Q75LQA==",
          "dtype": "f8"
         }
        },
        {
         "name": "A3",
         "type": "scatter",
         "x": {
          "bdata": "AAABAAIAAwAEAAUABgAHAAgACQAKAAsADAANAA4ADwAQABEAEgATABQAFQAWABcAGAAZABoAGwAcAB0AHgAfACAAIQAiACMAJAAlACYAJwAoACkAKgArACwALQAuAC8AMAAxADIAMwA0ADUANgA3ADgAOQA6ADsAPAA9AD4APwBAAEEAQgBDAEQARQBGAEcASABJAEoASwBMAE0ATgBPAFAAUQBSAFMAVABVAFYAVwBYAFkAWgBbAFwAXQBeAF8AYABhAGIAYwBkAGUAZgBnAGgAaQBqAGsAbABtAG4AbwBwAHEAcgBzAHQAdQB2AHcAeAB5AHoAewB8AH0AfgB/AIAAgQCCAIMAhACFAIYAhwCIAIkAigCLAA==",
          "dtype": "i2"
         },
         "y": {
          "bdata": "Yc/i9XDnNUAyzXbLns00QL0wRYxzuTRAjADsjxirNUAW6lgSybA1QKcjKvip6DZAIxn4FNQyNkA5vNi/3742QOKcRPbynzdAw7K8GvYIN0BYte689lg3QHzdMJdU1DdAQI8Qye5FN0D3JIE5cwo4QEbQE6vavThAYljUDswbOUCv/IZVkFM5QCvw+iIUOTlAPXQ7Kzl3OEDqaUAFkcQ5QAv/0LEGaTlAlNG+y6ACOUAIdxPfOEQ6QJITBaE/ETlAUcf3F3AKO0Akvn1J4dA6QEKichHcpjlAgxxJBiRmOkA5waGMOgg6QJZHFtVdyDpAGanDmgPTOkARjeSbV1s8QKJS3frqnzxA2j0z4eBeO0DhUKaiyQ88QH4j5JEEdzxAuzViI4DCO0AwMjTz8PY7QCVp6hiE7T1A1kUwHPmLPEBtkuBdTr89QBX7iIQuID5AzWI+w8D+PkBiDNTgzlY9QB54wKaCxz5AykFSSl/8PUDLyw6nweE9QJN1YinsWj9AbbYnQeUXQEA450F874g/QFtmqxp0NT9Alm0ipbqXP0CqmTQQaYRAQPnlb30/vT9AoagZ5ztoQECe4YxX4bdAQKoirqJR6kBACizesZIaQUBjG4bYoNtAQOzrMdnzBkFAFSXUG35mQUBxhRnSzpVAQLaW190KMUFAHgHDnZHqQEAtfxSUsHRBQKHpI8SGOUFAZMZV+PGhQUDeEVcka2VBQPzdUyWN8kFAQuwYx6Z7QUALp9CkLVxCQBIH2G1ytUFAQQ7V0/gQQkCrEarnvpdCQJ/lX6+3z0JARHzkfteRQkCuUZeXyW5CQGRJOqIMq0JAmWw1sz7eQkBawsbfoD1DQMqMPBRjW0NAhv6X1YJPQ0CM9ZZEDoVDQPrygxFeiENAe2dmLn70Q0AkXxB9emlDQINNrg9L+0NA+u9z4p4ZREBb04WL4K9DQAPFK7GYhERAaKju/4lNREAgGExYug5EQJ+1zhDzCURA0rjsqI62REAd8fnXWFFEQDxijSmIaURA3zzQq7aPREDw+shKR0VFQOnXbf2D80RAcke5UOIJRUDMLOvGUrhEQL7vFDBWlEVAQmFe0CGgRUB7cLfmPIpFQDnhqRTtZEVArMhsgq0mRkDHP+xjz3dFQDiO3OMZyUVAGnjNmFbwRUB03Gp8jONFQLRHvvvelkZA90TzVhBeRkCX/mz2WBxGQD6bSFoCUEZAHLmbMroER0BKhlJVqGRGQOEZfz/wDEdAkwCLHJnTRkDAx+6ts2FHQCfI6J7jXkdA422nZw2TR0DljoMJK6lHQMQheohXakdA3gLXI7qgR0CEyOtZpKRHQMp2kRLnf0dAKjEjI9+vR0D7LxgPIf1HQG26XJS3aUhAZDO/uASFSEAdFt7KRT1IQKTNlCBEEEhA0b1k0AFISEBmsbMCz2pIQKvSfScstEhAVkH2EluVSEAC/Ei/kGZJQGQ/VSi1YklAwBaz7d6gSUDo1xcAgF9JQA==",
          "dtype": "f8"
         }
        }
       ],
       "layout": {
        "template": {
         "data": {
          "bar": [
           {
            "error_x": {
             "color": "#2a3f5f"
            },
            "error_y": {
             "color": "#2a3f5f"
            },
            "marker": {
             "line": {
              "color": "#E5ECF6",
              "width": 0.5
             },
             "pattern": {
              "fillmode": "overlay",
              "size": 10,
              "solidity": 0.2
             }
            },
            "type": "bar"
           }
          ],
          "barpolar": [
           {
            "marker": {
             "line": {
              "color": "#E5ECF6",
              "width": 0.5
             },
             "pattern": {
              "fillmode": "overlay",
              "size": 10,
              "solidity": 0.2
             }
            },
            "type": "barpolar"
           }
          ],
          "carpet": [
           {
            "aaxis": {
             "endlinecolor": "#2a3f5f",
             "gridcolor": "white",
             "linecolor": "white",
             "minorgridcolor": "white",
             "startlinecolor": "#2a3f5f"
            },
            "baxis": {
             "endlinecolor": "#2a3f5f",
             "gridcolor": "white",
             "linecolor": "white",
             "minorgridcolor": "white",
             "startlinecolor": "#2a3f5f"
            },
            "type": "carpet"
           }
          ],
          "choropleth": [
           {
            "colorbar": {
             "outlinewidth": 0,
             "ticks": ""
            },
            "type": "choropleth"
           }
          ],
          "contour": [
           {
            "colorbar": {
             "outlinewidth": 0,
             "ticks": ""
            },
            "colorscale": [
             [
              0,
              "#0d0887"
             ],
             [
              0.1111111111111111,
              "#46039f"
             ],
             [
              0.2222222222222222,
              "#7201a8"
             ],
             [
              0.3333333333333333,
              "#9c179e"
             ],
             [
              0.4444444444444444,
              "#bd3786"
             ],
             [
              0.5555555555555556,
              "#d8576b"
             ],
             [
              0.6666666666666666,
              "#ed7953"
             ],
             [
              0.7777777777777778,
              "#fb9f3a"
             ],
             [
              0.8888888888888888,
              "#fdca26"
             ],
             [
              1,
              "#f0f921"
             ]
            ],
            "type": "contour"
           }
          ],
          "contourcarpet": [
           {
            "colorbar": {
             "outlinewidth": 0,
             "ticks": ""
            },
            "type": "contourcarpet"
           }
          ],
          "heatmap": [
           {
            "colorbar": {
             "outlinewidth": 0,
             "ticks": ""
            },
            "colorscale": [
             [
              0,
              "#0d0887"
             ],
             [
              0.1111111111111111,
              "#46039f"
             ],
             [
              0.2222222222222222,
              "#7201a8"
             ],
             [
              0.3333333333333333,
              "#9c179e"
             ],
             [
              0.4444444444444444,
              "#bd3786"
             ],
             [
              0.5555555555555556,
              "#d8576b"
             ],
             [
              0.6666666666666666,
              "#ed7953"
             ],
             [
              0.7777777777777778,
              "#fb9f3a"
             ],
             [
              0.8888888888888888,
              "#fdca26"
             ],
             [
              1,
              "#f0f921"
             ]
            ],
            "type": "heatmap"
           }
          ],
          "histogram": [
           {
            "marker": {
             "pattern": {
              "fillmode": "overlay",
              "size": 10,
              "solidity": 0.2
             }
            },
            "type": "histogram"
           }
          ],
          "histogram2d": [
           {
            "colorbar": {
             "outlinewidth": 0,
             "ticks": ""
            },
            "colorscale": [
             [
              0,
              "#0d0887"
             ],
             [
              0.1111111111111111,
              "#46039f"
             ],
             [
              0.2222222222222222,
              "#7201a8"
             ],
             [
              0.3333333333333333,
              "#9c179e"
             ],
             [
              0.4444444444444444,
              "#bd3786"
             ],
             [
              0.5555555555555556,
              "#d8576b"
             ],
             [
              0.6666666666666666,
              "#ed7953"
             ],
             [
              0.7777777777777778,
              "#fb9f3a"
             ],
             [
              0.8888888888888888,
              "#fdca26"
             ],
             [
              1,
              "#f0f921"
             ]
            ],
            "type": "histogram2d"
           }
          ],
          "histogram2dcontour": [
           {
            "colorbar": {
             "outlinewidth": 0,
             "ticks": ""
            },
            "colorscale": [
             [
              0,
              "#0d0887"
             ],
             [
              0.1111111111111111,
              "#46039f"
             ],
             [
              0.2222222222222222,
              "#7201a8"
             ],
             [
              0.3333333333333333,
              "#9c179e"
             ],
             [
              0.4444444444444444,
              "#bd3786"
             ],
             [
              0.5555555555555556,
              "#d8576b"
             ],
             [
              0.6666666666666666,
              "#ed7953"
             ],
             [
              0.7777777777777778,
              "#fb9f3a"
             ],
             [
              0.8888888888888888,
              "#fdca26"
             ],
             [
              1,
              "#f0f921"
             ]
            ],
            "type": "histogram2dcontour"
           }
          ],
          "mesh3d": [
           {
            "colorbar": {
             "outlinewidth": 0,
             "ticks": ""
            },
            "type": "mesh3d"
           }
          ],
          "parcoords": [
           {
            "line": {
             "colorbar": {
              "outlinewidth": 0,
              "ticks": ""
             }
            },
            "type": "parcoords"
           }
          ],
          "pie": [
           {
            "automargin": true,
            "type": "pie"
           }
          ],
          "scatter": [
           {
            "fillpattern": {
             "fillmode": "overlay",
             "size": 10,
             "solidity": 0.2
            },
            "type": "scatter"
           }
          ],
          "scatter3d": [
           {
            "line": {
             "colorbar": {
              "outlinewidth": 0,
              "ticks": ""
             }
            },
            "marker": {
             "colorbar": {
              "outlinewidth": 0,
              "ticks": ""
             }
            },
            "type": "scatter3d"
           }
          ],
          "scattercarpet": [
           {
            "marker": {
             "colorbar": {
              "outlinewidth": 0,
              "ticks": ""
             }
            },
            "type": "scattercarpet"
           }
          ],
          "scattergeo": [
           {
            "marker": {
             "colorbar": {
              "outlinewidth": 0,
              "ticks": ""
             }
            },
            "type": "scattergeo"
           }
          ],
          "scattergl": [
           {
            "marker": {
             "colorbar": {
              "outlinewidth": 0,
              "ticks": ""
             }
            },
            "type": "scattergl"
           }
          ],
          "scattermap": [
           {
            "marker": {
             "colorbar": {
              "outlinewidth": 0,
              "ticks": ""
             }
            },
            "type": "scattermap"
           }
          ],
          "scattermapbox": [
           {
            "marker": {
             "colorbar": {
              "outlinewidth": 0,
              "ticks": ""
             }
            },
            "type": "scattermapbox"
           }
          ],
          "scatterpolar": [
           {
            "marker": {
             "colorbar": {
              "outlinewidth": 0,
              "ticks": ""
             }
            },
            "type": "scatterpolar"
           }
          ],
          "scatterpolargl": [
           {
            "marker": {
             "colorbar": {
              "outlinewidth": 0,
              "ticks": ""
             }
            },
            "type": "scatterpolargl"
           }
          ],
          "scatterternary": [
           {
            "marker": {
             "colorbar": {
              "outlinewidth": 0,
              "ticks": ""
             }
            },
            "type": "scatterternary"
           }
          ],
          "surface": [
           {
            "colorbar": {
             "outlinewidth": 0,
             "ticks": ""
            },
            "colorscale": [
             [
              0,
              "#0d0887"
             ],
             [
              0.1111111111111111,
              "#46039f"
             ],
             [
              0.2222222222222222,
              "#7201a8"
             ],
             [
              0.3333333333333333,
              "#9c179e"
             ],
             [
              0.4444444444444444,
              "#bd3786"
             ],
             [
              0.5555555555555556,
              "#d8576b"
             ],
             [
              0.6666666666666666,
              "#ed7953"
             ],
             [
              0.7777777777777778,
              "#fb9f3a"
             ],
             [
              0.8888888888888888,
              "#fdca26"
             ],
             [
              1,
              "#f0f921"
             ]
            ],
            "type": "surface"
           }
          ],
          "table": [
           {
            "cells": {
             "fill": {
              "color": "#EBF0F8"
             },
             "line": {
              "color": "white"
             }
            },
            "header": {
             "fill": {
              "color": "#C8D4E3"
             },
             "line": {
              "color": "white"
             }
            },
            "type": "table"
           }
          ]
         },
         "layout": {
          "annotationdefaults": {
           "arrowcolor": "#2a3f5f",
           "arrowhead": 0,
           "arrowwidth": 1
          },
          "autotypenumbers": "strict",
          "coloraxis": {
           "colorbar": {
            "outlinewidth": 0,
            "ticks": ""
           }
          },
          "colorscale": {
           "diverging": [
            [
             0,
             "#8e0152"
            ],
            [
             0.1,
             "#c51b7d"
            ],
            [
             0.2,
             "#de77ae"
            ],
            [
             0.3,
             "#f1b6da"
            ],
            [
             0.4,
             "#fde0ef"
            ],
            [
             0.5,
             "#f7f7f7"
            ],
            [
             0.6,
             "#e6f5d0"
            ],
            [
             0.7,
             "#b8e186"
            ],
            [
             0.8,
             "#7fbc41"
            ],
            [
             0.9,
             "#4d9221"
            ],
            [
             1,
             "#276419"
            ]
           ],
           "sequential": [
            [
             0,
             "#0d0887"
            ],
            [
             0.1111111111111111,
             "#46039f"
            ],
            [
             0.2222222222222222,
             "#7201a8"
            ],
            [
             0.3333333333333333,
             "#9c179e"
            ],
            [
             0.4444444444444444,
             "#bd3786"
            ],
            [
             0.5555555555555556,
             "#d8576b"
            ],
            [
             0.6666666666666666,
             "#ed7953"
            ],
            [
             0.7777777777777778,
             "#fb9f3a"
            ],
            [
             0.8888888888888888,
             "#fdca26"
            ],
            [
             1,
             "#f0f921"
            ]
           ],
           "sequentialminus": [
            [
             0,
             "#0d0887"
            ],
            [
             0.1111111111111111,
             "#46039f"
            ],
            [
             0.2222222222222222,
             "#7201a8"
            ],
            [
             0.3333333333333333,
             "#9c179e"
            ],
            [
             0.4444444444444444,
             "#bd3786"
            ],
            [
             0.5555555555555556,
             "#d8576b"
            ],
            [
             0.6666666666666666,
             "#ed7953"
            ],
            [
             0.7777777777777778,
             "#fb9f3a"
            ],
            [
             0.8888888888888888,
             "#fdca26"
            ],
            [
             1,
             "#f0f921"
            ]
           ]
          },
          "colorway": [
           "#636efa",
           "#EF553B",
           "#00cc96",
           "#ab63fa",
           "#FFA15A",
           "#19d3f3",
           "#FF6692",
           "#B6E880",
           "#FF97FF",
           "#FECB52"
          ],
          "font": {
           "color": "#2a3f5f"
          },
          "geo": {
           "bgcolor": "white",
           "lakecolor": "white",
           "landcolor": "#E5ECF6",
           "showlakes": true,
           "showland": true,
           "subunitcolor": "white"
          },
          "hoverlabel": {
           "align": "left"
          },
          "hovermode": "closest",
          "mapbox": {
           "style": "light"
          },
          "paper_bgcolor": "white",
          "plot_bgcolor": "#E5ECF6",
          "polar": {
           "angularaxis": {
            "gridcolor": "white",
            "linecolor": "white",
            "ticks": ""
           },
           "bgcolor": "#E5ECF6",
           "radialaxis": {
            "gridcolor": "white",
            "linecolor": "white",
            "ticks": ""
           }
          },
          "scene": {
           "xaxis": {
            "backgroundcolor": "#E5ECF6",
            "gridcolor": "white",
            "gridwidth": 2,
            "linecolor": "white",
            "showbackground": true,
            "ticks": "",
            "zerolinecolor": "white"
           },
           "yaxis": {
            "backgroundcolor": "#E5ECF6",
            "gridcolor": "white",
            "gridwidth": 2,
            "linecolor": "white",
            "showbackground": true,
            "ticks": "",
            "zerolinecolor": "white"
           },
           "zaxis": {
            "backgroundcolor": "#E5ECF6",
            "gridcolor": "white",
            "gridwidth": 2,
            "linecolor": "white",
            "showbackground": true,
            "ticks": "",
            "zerolinecolor": "white"
           }
          },
          "shapedefaults": {
           "line": {
            "color": "#2a3f5f"
           }
          },
          "ternary": {
           "aaxis": {
            "gridcolor": "white",
            "linecolor": "white",
            "ticks": ""
           },
           "baxis": {
            "gridcolor": "white",
            "linecolor": "white",
            "ticks": ""
           },
           "bgcolor": "#E5ECF6",
           "caxis": {
            "gridcolor": "white",
            "linecolor": "white",
            "ticks": ""
           }
          },
          "title": {
           "x": 0.05
          },
          "xaxis": {
           "automargin": true,
           "gridcolor": "white",
           "linecolor": "white",
           "ticks": "",
           "title": {
            "standoff": 15
           },
           "zerolinecolor": "white",
           "zerolinewidth": 2
          },
          "yaxis": {
           "automargin": true,
           "gridcolor": "white",
           "linecolor": "white",
           "ticks": "",
           "title": {
            "standoff": 15
           },
           "zerolinecolor": "white",
           "zerolinewidth": 2
          }
         }
        },
        "title": {
         "text": "Fläche A zum Zeitpunkt t"
        },
        "xaxis": {
         "title": {
          "text": "t"
         }
        },
        "yaxis": {
         "title": {
          "text": "A(t)"
         }
        }
       }
      }
     },
     "metadata": {},
     "output_type": "display_data"
    }
   ],
   "source": [
    "A1 = np.array([A1_func(x) for x in t])\n",
    "A2 = np.array([A2_func(x) for x in t])\n",
    "A3 = np.array([A3_func(x) for x in t])\n",
    "fig = go.Figure(\n",
    "    data=[\n",
    "        go.Scatter(x=t, y=A1, name=\"A1\"),\n",
    "        go.Scatter(x=t, y=A2, name=\"A2\"),\n",
    "        go.Scatter(x=t, y=A3, name=\"A3\"),\n",
    "    ]\n",
    ")\n",
    "fig.update_layout(title=\"Fläche A zum Zeitpunkt t\", xaxis_title=\"t\", yaxis_title=\"A(t)\")\n",
    "fig.show()"
   ]
  },
  {
   "cell_type": "code",
   "execution_count": 15,
   "metadata": {},
   "outputs": [],
   "source": [
    "# Werte für den Versuch\n",
    "t = np.linspace(0, 139, 140)\n",
    "A1 = np.array([A1_func(x) for x in t])\n",
    "A2 = np.array([A2_func(x) for x in t])\n",
    "A3 = np.array([A3_func(x) for x in t])\n",
    "q1 = np.array([q1_func(x) for x in t])\n",
    "q2 = np.array([q2_func(x) for x in t])\n",
    "q3 = np.array([q3_func(x) for x in t])\n",
    "\n",
    "# Werte für die erste und zweite Funktion der Zulaufgeschwindigkeit\n",
    "u1_arr = create_random_poly_array()\n",
    "u2_arr = create_random_poly_array()\n",
    "\n",
    "# Werte für den Anfangszustand der Tanks\n",
    "y0 = [sample_start_f() for x in range(3)]\n",
    "\n",
    "# args erhält der solver als Input\n",
    "args = (A1, A2, A3, q1, q2, q3, u1_arr, u2_arr)"
   ]
  },
  {
   "cell_type": "markdown",
   "metadata": {},
   "source": [
    "Mit einem vom Scipy implementierten Solver kann das System der Dfg gelöst werden. Dieser wird im Folgenden mit der Funktion implementiert."
   ]
  },
  {
   "cell_type": "code",
   "execution_count": 16,
   "metadata": {},
   "outputs": [],
   "source": [
    "def solve(dfg=dfg, t=t, y0=y0, args=args, t_eval=t):\n",
    "    res = solve_ivp(dfg, t_span=(0, max(t)), y0=y0, args=args, t_eval=t)\n",
    "    return res"
   ]
  },
  {
   "cell_type": "markdown",
   "metadata": {},
   "source": [
    "Der Solver gibt mit dem y Attribut die Lösungen des DFG zurück, y ist ein Array welches in diesem Fall die Füllstände für Tank1, Tank2 und Tank 3 beinhaltet.\n",
    "Das Array enthält die Füllstände für alle 140 Zeitpunkte "
   ]
  },
  {
   "cell_type": "code",
   "execution_count": 17,
   "metadata": {},
   "outputs": [
    {
     "data": {
      "text/plain": [
       "(140,)"
      ]
     },
     "execution_count": 17,
     "metadata": {},
     "output_type": "execute_result"
    }
   ],
   "source": [
    "res = solve(args=args, y0=y0)\n",
    "res.y[0].shape"
   ]
  },
  {
   "cell_type": "markdown",
   "metadata": {},
   "source": [
    "Die Ergebnisse des Solvers lassen sich mit Plotly in einem Diagramm visualisieren"
   ]
  },
  {
   "cell_type": "code",
   "execution_count": 18,
   "metadata": {},
   "outputs": [
    {
     "data": {
      "application/vnd.plotly.v1+json": {
       "config": {
        "plotlyServerURL": "https://plot.ly"
       },
       "data": [
        {
         "name": "Füllstand1",
         "type": "scatter",
         "x": {
          "bdata": "AAAAAAAAAAAAAAAAAADwPwAAAAAAAABAAAAAAAAACEAAAAAAAAAQQAAAAAAAABRAAAAAAAAAGEAAAAAAAAAcQAAAAAAAACBAAAAAAAAAIkAAAAAAAAAkQAAAAAAAACZAAAAAAAAAKEAAAAAAAAAqQAAAAAAAACxAAAAAAAAALkAAAAAAAAAwQAAAAAAAADFAAAAAAAAAMkAAAAAAAAAzQAAAAAAAADRAAAAAAAAANUAAAAAAAAA2QAAAAAAAADdAAAAAAAAAOEAAAAAAAAA5QAAAAAAAADpAAAAAAAAAO0AAAAAAAAA8QAAAAAAAAD1AAAAAAAAAPkAAAAAAAAA/QAAAAAAAAEBAAAAAAACAQEAAAAAAAABBQAAAAAAAgEFAAAAAAAAAQkAAAAAAAIBCQAAAAAAAAENAAAAAAACAQ0AAAAAAAABEQAAAAAAAgERAAAAAAAAARUAAAAAAAIBFQAAAAAAAAEZAAAAAAACARkAAAAAAAABHQAAAAAAAgEdAAAAAAAAASEAAAAAAAIBIQAAAAAAAAElAAAAAAACASUAAAAAAAABKQAAAAAAAgEpAAAAAAAAAS0AAAAAAAIBLQAAAAAAAAExAAAAAAACATEAAAAAAAABNQAAAAAAAgE1AAAAAAAAATkAAAAAAAIBOQAAAAAAAAE9AAAAAAACAT0AAAAAAAABQQAAAAAAAQFBAAAAAAACAUEAAAAAAAMBQQAAAAAAAAFFAAAAAAABAUUAAAAAAAIBRQAAAAAAAwFFAAAAAAAAAUkAAAAAAAEBSQAAAAAAAgFJAAAAAAADAUkAAAAAAAABTQAAAAAAAQFNAAAAAAACAU0AAAAAAAMBTQAAAAAAAAFRAAAAAAABAVEAAAAAAAIBUQAAAAAAAwFRAAAAAAAAAVUAAAAAAAEBVQAAAAAAAgFVAAAAAAADAVUAAAAAAAABWQAAAAAAAQFZAAAAAAACAVkAAAAAAAMBWQAAAAAAAAFdAAAAAAABAV0AAAAAAAIBXQAAAAAAAwFdAAAAAAAAAWEAAAAAAAEBYQAAAAAAAgFhAAAAAAADAWEAAAAAAAABZQAAAAAAAQFlAAAAAAACAWUAAAAAAAMBZQAAAAAAAAFpAAAAAAABAWkAAAAAAAIBaQAAAAAAAwFpAAAAAAAAAW0AAAAAAAEBbQAAAAAAAgFtAAAAAAADAW0AAAAAAAABcQAAAAAAAQFxAAAAAAACAXEAAAAAAAMBcQAAAAAAAAF1AAAAAAABAXUAAAAAAAIBdQAAAAAAAwF1AAAAAAAAAXkAAAAAAAEBeQAAAAAAAgF5AAAAAAADAXkAAAAAAAABfQAAAAAAAQF9AAAAAAACAX0AAAAAAAMBfQAAAAAAAAGBAAAAAAAAgYEAAAAAAAEBgQAAAAAAAYGBAAAAAAACAYEAAAAAAAKBgQAAAAAAAwGBAAAAAAADgYEAAAAAAAABhQAAAAAAAIGFAAAAAAABAYUAAAAAAAGBhQA==",
          "dtype": "f8"
         },
         "y": {
          "bdata": "BhUTtJUgBkBxqcn5xhAEQCvJKhkd8ARA1elttzKZBkDH8vlss5cIQMgdYmmn9wpAUrLY9AaQDUD2jpim/AIQQKcdhOHSKxFAtl83CCpXEkD36uuDQmATQJuwuM3mSBRATfcxWS46FUDRjpFdIi4WQP9LVXpHBxdA5xSRele8F0Cnf69kUWEYQH/S/cok/hhAhV4RNNGSGUBafL7WiQIaQFeCKsaMdBpAaICj3x/SGkClqwrzqDMbQGkPulTIiBtAtNPUZ7u+G0BhoUBKbfwbQNLRyA3cOxxASaeLeQtuHECjnkuxV7AcQA/aHREp5xxA8TlMKmEcHUAw8BEtQ08dQGlDUYrPhh1AV1qgG6TAHUCGT7BhDQMeQPKYW51NSh5AI266NimOHkBolFioH+0eQBid59wWTB9AXnUAJ/WmH0DtJE0cgfAfQKvEZlMFNiBA/422WeN8IEB7zI1f6sMgQLvzZSGwECFAw+i9TvtfIUAcyNeDS7YhQKaFkx/kDyJAMzsFZh15IkD1jU6fY+ciQGNyJ9X4UyNA8GbN/V27I0Cx1Lp2PSEkQCUamdQclyRAHAxTFsgUJUBWm7FuEJslQD2e6nvnJiZAC31dEly1JkCvhLpD1z8nQHnz2vEPxydAVp9jXKhNKEDn0Vh74+QoQNJgtyOXcylARUAhQUcFKkCn9HUk5KsqQIy14NedXytApkhvU+vyK0BSzivahnIsQDupFAK2Ci1AfK4ooJS3LUCqAt9SiUcuQNs9B/fltS5AOA4T7v0UL0D327NHuVIvQK6f+wStgS9Ak3/AJFanL0Bq8QONZG8vQBGYR/U7KS9AcUMcun/6LkBIyXwqia4uQDmtzEbzaS5A+sg3XsclLkBhtZurzKotQFjT6Kv/BC1Arnb9E8tOLECK52Jhq6wrQKKZw2ldECtAD/Wdk5s7KkD4G1I95DgpQDrfM0t2LihAkPbbWH8oJ0Cndj1DJfolQG8Tsgw51CRAfxu2VoqsI0B11ThLnJYiQA5PEbmbhSFAJexplKhxIEAlOiMcudkeQB1R6mKU/RxALGXU+cfwGkDFq4VAmBoZQJ/k8WCPkRdALghQxIQBFkCPF1sUiJoUQGe1EtGtRxNAZUMkIc4dEkA1brGbXvIQQPPutx+2pw9A6YA9DR6yDUCwjOOQMtgLQIZhJ5KG/glAlKuHbrEmCECeAmfBRzsGQOaqWyNirwRAX/v0oHNbA0DsqZx6JvkBQGEjC/kengBAusdcNrET/z+L9XrLK/z8P6qzLtG84fo/oY1jxdVy+D8VhYicos/2P+RlHz2PJ/U/dF2sIF+i8z8dPzzksHPyP1V+qqrzYfE/bqtHj+pb8D88B/WzC5juP6JMnljW0Ow/R1j/keGz6j/GxIrAvdvpP3kNO0/J2Og/Aykf2kWo5z8gKLE3fejmP9orxG973+Y/6NdERzW05T9UHX0Xy8XlP8XiDt+Iv+U/7ZifKGvi5T8gcl6PRVrlPw==",
          "dtype": "f8"
         }
        },
        {
         "name": "Füllstand2",
         "type": "scatter",
         "x": {
          "bdata": "AAAAAAAAAAAAAAAAAADwPwAAAAAAAABAAAAAAAAACEAAAAAAAAAQQAAAAAAAABRAAAAAAAAAGEAAAAAAAAAcQAAAAAAAACBAAAAAAAAAIkAAAAAAAAAkQAAAAAAAACZAAAAAAAAAKEAAAAAAAAAqQAAAAAAAACxAAAAAAAAALkAAAAAAAAAwQAAAAAAAADFAAAAAAAAAMkAAAAAAAAAzQAAAAAAAADRAAAAAAAAANUAAAAAAAAA2QAAAAAAAADdAAAAAAAAAOEAAAAAAAAA5QAAAAAAAADpAAAAAAAAAO0AAAAAAAAA8QAAAAAAAAD1AAAAAAAAAPkAAAAAAAAA/QAAAAAAAAEBAAAAAAACAQEAAAAAAAABBQAAAAAAAgEFAAAAAAAAAQkAAAAAAAIBCQAAAAAAAAENAAAAAAACAQ0AAAAAAAABEQAAAAAAAgERAAAAAAAAARUAAAAAAAIBFQAAAAAAAAEZAAAAAAACARkAAAAAAAABHQAAAAAAAgEdAAAAAAAAASEAAAAAAAIBIQAAAAAAAAElAAAAAAACASUAAAAAAAABKQAAAAAAAgEpAAAAAAAAAS0AAAAAAAIBLQAAAAAAAAExAAAAAAACATEAAAAAAAABNQAAAAAAAgE1AAAAAAAAATkAAAAAAAIBOQAAAAAAAAE9AAAAAAACAT0AAAAAAAABQQAAAAAAAQFBAAAAAAACAUEAAAAAAAMBQQAAAAAAAAFFAAAAAAABAUUAAAAAAAIBRQAAAAAAAwFFAAAAAAAAAUkAAAAAAAEBSQAAAAAAAgFJAAAAAAADAUkAAAAAAAABTQAAAAAAAQFNAAAAAAACAU0AAAAAAAMBTQAAAAAAAAFRAAAAAAABAVEAAAAAAAIBUQAAAAAAAwFRAAAAAAAAAVUAAAAAAAEBVQAAAAAAAgFVAAAAAAADAVUAAAAAAAABWQAAAAAAAQFZAAAAAAACAVkAAAAAAAMBWQAAAAAAAAFdAAAAAAABAV0AAAAAAAIBXQAAAAAAAwFdAAAAAAAAAWEAAAAAAAEBYQAAAAAAAgFhAAAAAAADAWEAAAAAAAABZQAAAAAAAQFlAAAAAAACAWUAAAAAAAMBZQAAAAAAAAFpAAAAAAABAWkAAAAAAAIBaQAAAAAAAwFpAAAAAAAAAW0AAAAAAAEBbQAAAAAAAgFtAAAAAAADAW0AAAAAAAABcQAAAAAAAQFxAAAAAAACAXEAAAAAAAMBcQAAAAAAAAF1AAAAAAABAXUAAAAAAAIBdQAAAAAAAwF1AAAAAAAAAXkAAAAAAAEBeQAAAAAAAgF5AAAAAAADAXkAAAAAAAABfQAAAAAAAQF9AAAAAAACAX0AAAAAAAMBfQAAAAAAAAGBAAAAAAAAgYEAAAAAAAEBgQAAAAAAAYGBAAAAAAACAYEAAAAAAAKBgQAAAAAAAwGBAAAAAAADgYEAAAAAAAABhQAAAAAAAIGFAAAAAAABAYUAAAAAAAGBhQA==",
          "dtype": "f8"
         },
         "y": {
          "bdata": "ab9Tqh9gF0BwjXFBZskDQH3/9nNf0ARAZP4Whou/BkBeEbouurwIQOkfDucsjgtAqo6eBofzDUCH+alkgTIQQIa20l1VYRFAvpuSsMJ7EkDKcc5YbGsTQP5pENB9RxRAP7shTPtQFUA/kNWwgk0WQEl+ZdOO+RZAVbKb1uq6F0C4Y3ewNUcYQHhYq5e5FBlAzjw7OONAGUCrrQfbOtwZQIxX7OC6TRpARVWw8/mGGkBxmbrpLtoaQGcK7l7nGhtA48tB4cBIG0BoGHiG6okbQLNHkHZPtxtAGi7LbtUOHEBODmoudDUcQImnUSOSYBxAEyTeR12HHECOgLmp5MEcQGh9p5Lh7RxAOHAx9RkjHUAt21KZHVIdQJQFKmgElh1Aa9Dsmd/hHUDLtvBa3hQeQLFwVKfWTh5A1gKJ/bytHkBStrMXgEYfQFfJvLNZpx9AyjCgR+j3H0AgePXRjzogQJSa7Bo2dSBAZxaeyiK2IED5LKzVz/cgQDuYAlBeUSFA3dIlpp2hIUCYrHyxseMhQGLM8jDRCSJAd5JPtPJMIkDGaRZzZ4IiQJ2cB876qiJAI++/q+XJIkAT9J0iR+EiQJiVG6Vk7iJAmEY/Kw25IkD6WnwddIEiQK4F1xfLMiJAg6ZGfqDFIUDbK00Ahi8hQBapZRSAlCBAgwbmE7fUH0BapZlr6jseQGmfklW6kBxApbggUyj8GkD5nUm0LHkZQB46eYHxsRdA4Glf49fGFUD5DiYBJ/ATQB6qXS7OeBJAjZrt3iMzEUCHshqbERYQQC5v6C6TAQ5AFm1lrNA3DEBAM5Ci22kLQANAy1EDbApA8dmFDsQ8CUCilUBZ1qEIQPS7imo07AdAAXFbzHW6B0DtoHiLg+MHQO9gy14UuAhAPfdjjd14CUBBY+LZv94JQE9mhwFnJgpAiy3erUCBC0BLuI/BOOsMQAeYyA+bPQ5ADQmMqECWD0Cr1iJ0LGkQQP/VDvCNAxFApJXzf52TEUCFQMHUiwISQBbg9dn1LBJAHWZyXJ2QEkAGhnyqS8MSQInfkQ+swRJAtN+HFgWREkBs1EVkSoMSQAupFM1iOxJAHoOj7jXpEUCOZgz1y3cRQI3v+PV33xBAhPWyCLYaEEBr352PYrEOQDTmNwBx8AxAfhTqgIwPC0CtzY8/MWgJQHMmC0zSuQdAAVpPEbtABkCDRDhIytAEQHKHw8VHVwNAiVXfJTrrAUB1ccgfDbEAQMKSRPDVgf8/3BwidEZv/T+QmyW0b0/7P0bHAo7dVfk/HWdHzS1D9z/GH6EFooT1P1xED3DTJvQ/uvqKMra88j+knRRvW5fxP5Fy4hoEnvA/vs346hmL7z+lX65rGpntP1JJstJDw+s/VahM5HMm6j+9RyweyCjpPy+EmrCwQeg/CrF6L46C5z+UazVln6TmP/canOFUK+Y/+JZB0BGD5T/B7eD6vl/lP9Qc3vHWUeU/LVcuEp6c5T9W3SHHeEblPw==",
          "dtype": "f8"
         }
        },
        {
         "name": "Füllstand3",
         "type": "scatter",
         "x": {
          "bdata": "AAAAAAAAAAAAAAAAAADwPwAAAAAAAABAAAAAAAAACEAAAAAAAAAQQAAAAAAAABRAAAAAAAAAGEAAAAAAAAAcQAAAAAAAACBAAAAAAAAAIkAAAAAAAAAkQAAAAAAAACZAAAAAAAAAKEAAAAAAAAAqQAAAAAAAACxAAAAAAAAALkAAAAAAAAAwQAAAAAAAADFAAAAAAAAAMkAAAAAAAAAzQAAAAAAAADRAAAAAAAAANUAAAAAAAAA2QAAAAAAAADdAAAAAAAAAOEAAAAAAAAA5QAAAAAAAADpAAAAAAAAAO0AAAAAAAAA8QAAAAAAAAD1AAAAAAAAAPkAAAAAAAAA/QAAAAAAAAEBAAAAAAACAQEAAAAAAAABBQAAAAAAAgEFAAAAAAAAAQkAAAAAAAIBCQAAAAAAAAENAAAAAAACAQ0AAAAAAAABEQAAAAAAAgERAAAAAAAAARUAAAAAAAIBFQAAAAAAAAEZAAAAAAACARkAAAAAAAABHQAAAAAAAgEdAAAAAAAAASEAAAAAAAIBIQAAAAAAAAElAAAAAAACASUAAAAAAAABKQAAAAAAAgEpAAAAAAAAAS0AAAAAAAIBLQAAAAAAAAExAAAAAAACATEAAAAAAAABNQAAAAAAAgE1AAAAAAAAATkAAAAAAAIBOQAAAAAAAAE9AAAAAAACAT0AAAAAAAABQQAAAAAAAQFBAAAAAAACAUEAAAAAAAMBQQAAAAAAAAFFAAAAAAABAUUAAAAAAAIBRQAAAAAAAwFFAAAAAAAAAUkAAAAAAAEBSQAAAAAAAgFJAAAAAAADAUkAAAAAAAABTQAAAAAAAQFNAAAAAAACAU0AAAAAAAMBTQAAAAAAAAFRAAAAAAABAVEAAAAAAAIBUQAAAAAAAwFRAAAAAAAAAVUAAAAAAAEBVQAAAAAAAgFVAAAAAAADAVUAAAAAAAABWQAAAAAAAQFZAAAAAAACAVkAAAAAAAMBWQAAAAAAAAFdAAAAAAABAV0AAAAAAAIBXQAAAAAAAwFdAAAAAAAAAWEAAAAAAAEBYQAAAAAAAgFhAAAAAAADAWEAAAAAAAABZQAAAAAAAQFlAAAAAAACAWUAAAAAAAMBZQAAAAAAAAFpAAAAAAABAWkAAAAAAAIBaQAAAAAAAwFpAAAAAAAAAW0AAAAAAAEBbQAAAAAAAgFtAAAAAAADAW0AAAAAAAABcQAAAAAAAQFxAAAAAAACAXEAAAAAAAMBcQAAAAAAAAF1AAAAAAABAXUAAAAAAAIBdQAAAAAAAwF1AAAAAAAAAXkAAAAAAAEBeQAAAAAAAgF5AAAAAAADAXkAAAAAAAABfQAAAAAAAQF9AAAAAAACAX0AAAAAAAMBfQAAAAAAAAGBAAAAAAAAgYEAAAAAAAEBgQAAAAAAAYGBAAAAAAACAYEAAAAAAAKBgQAAAAAAAwGBAAAAAAADgYEAAAAAAAABhQAAAAAAAIGFAAAAAAABAYUAAAAAAAGBhQA==",
          "dtype": "f8"
         },
         "y": {
          "bdata": "sOPcdYZjAUDpB72gcP8DQC/0uAZH6ARAZQ7OhWnNBkDXLU53PekIQAV5vME64gtAficMUTFjDkDnU+XTc18QQCO2WQykcRFAKhqwLs6qEkDa/frT3X4TQEKu+ByEUBRAViGTM69jFUCP3fJlLTkWQPZYsvzq9BZAvk3jRGV/F0AFuiNFFA0YQGYcMjHcxxhArWNUjtUqGUAmLMJu34YZQDw/zaY3gRlANSlPaGdIGkBXnnI4n5IaQOiF0uw+kxpAV20250iDGkAVfSIO3tsaQHs5PwyHRhtAxz6GX77RGkDvkQ80ptAaQOWNlK8X2RpA0A212hnqGkB03TDl9pMaQG7v9vcQFxpA5lBM2P6CGUB7Gq7+a6gYQBuO2b2sFhhAaGGgBIBnF0DXoQratXQWQO/WqHOecRVAjTbWPxNlFECtBat20/YSQDE2X5umfRFAklqdEOMgEEDt8w/XA/MMQBSDQCfMowlAnCKytSBBBkCQ2Kb9BhwDQF/AfqB9EwBAlwZZ/0mV+j94VGiqtW/2P3DbFc4mcfQ/iRLD4r8P8j8m/p7nDhfxPwihe8Rhg+8/xNJxBKUg7j9y59AOchXuP8Zv+kJbC+4/0jiaigAi8T/kaQ7GQMPyP/WIJV08PvU/+ZOK8LOO+D+b3wvtiO37P8Q7+e0B7f8/UJKhE/+fAUB3lQnYZi8DQCE86rzdHARAhMKhx8VLBUA9bQsOKWYGQBYyTx0OWwdAxpixznyLCEB99vqZ+msJQICI+gx6IgpAX2o3HhYvCkCXLE0vbR8KQNFn2aAc1AlAtHYnFUMxCUBpMkc715MIQPFTpqjPDAhANnDkmx5dB0Ax3pHOYOUGQHtTywHT0wZAzJDuep+6BkAik42wFKEGQFGhZquq7AZAG/5zlXSzB0DbGV6LQVMIQGw1NqWQkAlA3KbeQryfCUASguGp6mgKQEb73J9PkQtAQIDk+wOZDEA0EG8lwLUNQPoLBb4ofA5AQcbeojR7D0B2sDE1ZzAQQG08kZn9sxBAEQJ1srugEEDfMULtjJAQQARS4wa2fhBAyb7tu/XFEECs618yjngQQH/jl7tQBhBAU8UO1u8DD0BGjb6DB9ENQCCw87/TcQxA6/tjwnb3CkAqrgobF/8IQBvXfpUwHAdAjfNlwNY7BUAelArqLNoDQLI+NSn6PwJAUwrXlBRxAEALyZfwZmT+PwYW96Ljbfs/UbSkwaHP+D8Pe+aqVIP2P9QIWz2ZdPQ/Vyqs1Lox8j9vlgefi7fwP3JLg/D2ge0/ZsAQzUAo6j+lcC423qPmP1LbScrTL+M/0d/upHqM4D/ilzVkOebcPycLABNhfdc/oraAhjkw0j+SQMxNq43NP2qk1cCCB8w/2+Rv7xR4xj8McpnUiFC+P4bNQ/Gl57k/w3j76m2AtD8K2wjLtDawP174EoYKzKQ/EhTtPoePrj/gwDWEIQOiPwjp5X84/qA/5ilBhClTlj+DuYb9vOKaPw==",
          "dtype": "f8"
         }
        }
       ],
       "layout": {
        "template": {
         "data": {
          "bar": [
           {
            "error_x": {
             "color": "#2a3f5f"
            },
            "error_y": {
             "color": "#2a3f5f"
            },
            "marker": {
             "line": {
              "color": "#E5ECF6",
              "width": 0.5
             },
             "pattern": {
              "fillmode": "overlay",
              "size": 10,
              "solidity": 0.2
             }
            },
            "type": "bar"
           }
          ],
          "barpolar": [
           {
            "marker": {
             "line": {
              "color": "#E5ECF6",
              "width": 0.5
             },
             "pattern": {
              "fillmode": "overlay",
              "size": 10,
              "solidity": 0.2
             }
            },
            "type": "barpolar"
           }
          ],
          "carpet": [
           {
            "aaxis": {
             "endlinecolor": "#2a3f5f",
             "gridcolor": "white",
             "linecolor": "white",
             "minorgridcolor": "white",
             "startlinecolor": "#2a3f5f"
            },
            "baxis": {
             "endlinecolor": "#2a3f5f",
             "gridcolor": "white",
             "linecolor": "white",
             "minorgridcolor": "white",
             "startlinecolor": "#2a3f5f"
            },
            "type": "carpet"
           }
          ],
          "choropleth": [
           {
            "colorbar": {
             "outlinewidth": 0,
             "ticks": ""
            },
            "type": "choropleth"
           }
          ],
          "contour": [
           {
            "colorbar": {
             "outlinewidth": 0,
             "ticks": ""
            },
            "colorscale": [
             [
              0,
              "#0d0887"
             ],
             [
              0.1111111111111111,
              "#46039f"
             ],
             [
              0.2222222222222222,
              "#7201a8"
             ],
             [
              0.3333333333333333,
              "#9c179e"
             ],
             [
              0.4444444444444444,
              "#bd3786"
             ],
             [
              0.5555555555555556,
              "#d8576b"
             ],
             [
              0.6666666666666666,
              "#ed7953"
             ],
             [
              0.7777777777777778,
              "#fb9f3a"
             ],
             [
              0.8888888888888888,
              "#fdca26"
             ],
             [
              1,
              "#f0f921"
             ]
            ],
            "type": "contour"
           }
          ],
          "contourcarpet": [
           {
            "colorbar": {
             "outlinewidth": 0,
             "ticks": ""
            },
            "type": "contourcarpet"
           }
          ],
          "heatmap": [
           {
            "colorbar": {
             "outlinewidth": 0,
             "ticks": ""
            },
            "colorscale": [
             [
              0,
              "#0d0887"
             ],
             [
              0.1111111111111111,
              "#46039f"
             ],
             [
              0.2222222222222222,
              "#7201a8"
             ],
             [
              0.3333333333333333,
              "#9c179e"
             ],
             [
              0.4444444444444444,
              "#bd3786"
             ],
             [
              0.5555555555555556,
              "#d8576b"
             ],
             [
              0.6666666666666666,
              "#ed7953"
             ],
             [
              0.7777777777777778,
              "#fb9f3a"
             ],
             [
              0.8888888888888888,
              "#fdca26"
             ],
             [
              1,
              "#f0f921"
             ]
            ],
            "type": "heatmap"
           }
          ],
          "histogram": [
           {
            "marker": {
             "pattern": {
              "fillmode": "overlay",
              "size": 10,
              "solidity": 0.2
             }
            },
            "type": "histogram"
           }
          ],
          "histogram2d": [
           {
            "colorbar": {
             "outlinewidth": 0,
             "ticks": ""
            },
            "colorscale": [
             [
              0,
              "#0d0887"
             ],
             [
              0.1111111111111111,
              "#46039f"
             ],
             [
              0.2222222222222222,
              "#7201a8"
             ],
             [
              0.3333333333333333,
              "#9c179e"
             ],
             [
              0.4444444444444444,
              "#bd3786"
             ],
             [
              0.5555555555555556,
              "#d8576b"
             ],
             [
              0.6666666666666666,
              "#ed7953"
             ],
             [
              0.7777777777777778,
              "#fb9f3a"
             ],
             [
              0.8888888888888888,
              "#fdca26"
             ],
             [
              1,
              "#f0f921"
             ]
            ],
            "type": "histogram2d"
           }
          ],
          "histogram2dcontour": [
           {
            "colorbar": {
             "outlinewidth": 0,
             "ticks": ""
            },
            "colorscale": [
             [
              0,
              "#0d0887"
             ],
             [
              0.1111111111111111,
              "#46039f"
             ],
             [
              0.2222222222222222,
              "#7201a8"
             ],
             [
              0.3333333333333333,
              "#9c179e"
             ],
             [
              0.4444444444444444,
              "#bd3786"
             ],
             [
              0.5555555555555556,
              "#d8576b"
             ],
             [
              0.6666666666666666,
              "#ed7953"
             ],
             [
              0.7777777777777778,
              "#fb9f3a"
             ],
             [
              0.8888888888888888,
              "#fdca26"
             ],
             [
              1,
              "#f0f921"
             ]
            ],
            "type": "histogram2dcontour"
           }
          ],
          "mesh3d": [
           {
            "colorbar": {
             "outlinewidth": 0,
             "ticks": ""
            },
            "type": "mesh3d"
           }
          ],
          "parcoords": [
           {
            "line": {
             "colorbar": {
              "outlinewidth": 0,
              "ticks": ""
             }
            },
            "type": "parcoords"
           }
          ],
          "pie": [
           {
            "automargin": true,
            "type": "pie"
           }
          ],
          "scatter": [
           {
            "fillpattern": {
             "fillmode": "overlay",
             "size": 10,
             "solidity": 0.2
            },
            "type": "scatter"
           }
          ],
          "scatter3d": [
           {
            "line": {
             "colorbar": {
              "outlinewidth": 0,
              "ticks": ""
             }
            },
            "marker": {
             "colorbar": {
              "outlinewidth": 0,
              "ticks": ""
             }
            },
            "type": "scatter3d"
           }
          ],
          "scattercarpet": [
           {
            "marker": {
             "colorbar": {
              "outlinewidth": 0,
              "ticks": ""
             }
            },
            "type": "scattercarpet"
           }
          ],
          "scattergeo": [
           {
            "marker": {
             "colorbar": {
              "outlinewidth": 0,
              "ticks": ""
             }
            },
            "type": "scattergeo"
           }
          ],
          "scattergl": [
           {
            "marker": {
             "colorbar": {
              "outlinewidth": 0,
              "ticks": ""
             }
            },
            "type": "scattergl"
           }
          ],
          "scattermap": [
           {
            "marker": {
             "colorbar": {
              "outlinewidth": 0,
              "ticks": ""
             }
            },
            "type": "scattermap"
           }
          ],
          "scattermapbox": [
           {
            "marker": {
             "colorbar": {
              "outlinewidth": 0,
              "ticks": ""
             }
            },
            "type": "scattermapbox"
           }
          ],
          "scatterpolar": [
           {
            "marker": {
             "colorbar": {
              "outlinewidth": 0,
              "ticks": ""
             }
            },
            "type": "scatterpolar"
           }
          ],
          "scatterpolargl": [
           {
            "marker": {
             "colorbar": {
              "outlinewidth": 0,
              "ticks": ""
             }
            },
            "type": "scatterpolargl"
           }
          ],
          "scatterternary": [
           {
            "marker": {
             "colorbar": {
              "outlinewidth": 0,
              "ticks": ""
             }
            },
            "type": "scatterternary"
           }
          ],
          "surface": [
           {
            "colorbar": {
             "outlinewidth": 0,
             "ticks": ""
            },
            "colorscale": [
             [
              0,
              "#0d0887"
             ],
             [
              0.1111111111111111,
              "#46039f"
             ],
             [
              0.2222222222222222,
              "#7201a8"
             ],
             [
              0.3333333333333333,
              "#9c179e"
             ],
             [
              0.4444444444444444,
              "#bd3786"
             ],
             [
              0.5555555555555556,
              "#d8576b"
             ],
             [
              0.6666666666666666,
              "#ed7953"
             ],
             [
              0.7777777777777778,
              "#fb9f3a"
             ],
             [
              0.8888888888888888,
              "#fdca26"
             ],
             [
              1,
              "#f0f921"
             ]
            ],
            "type": "surface"
           }
          ],
          "table": [
           {
            "cells": {
             "fill": {
              "color": "#EBF0F8"
             },
             "line": {
              "color": "white"
             }
            },
            "header": {
             "fill": {
              "color": "#C8D4E3"
             },
             "line": {
              "color": "white"
             }
            },
            "type": "table"
           }
          ]
         },
         "layout": {
          "annotationdefaults": {
           "arrowcolor": "#2a3f5f",
           "arrowhead": 0,
           "arrowwidth": 1
          },
          "autotypenumbers": "strict",
          "coloraxis": {
           "colorbar": {
            "outlinewidth": 0,
            "ticks": ""
           }
          },
          "colorscale": {
           "diverging": [
            [
             0,
             "#8e0152"
            ],
            [
             0.1,
             "#c51b7d"
            ],
            [
             0.2,
             "#de77ae"
            ],
            [
             0.3,
             "#f1b6da"
            ],
            [
             0.4,
             "#fde0ef"
            ],
            [
             0.5,
             "#f7f7f7"
            ],
            [
             0.6,
             "#e6f5d0"
            ],
            [
             0.7,
             "#b8e186"
            ],
            [
             0.8,
             "#7fbc41"
            ],
            [
             0.9,
             "#4d9221"
            ],
            [
             1,
             "#276419"
            ]
           ],
           "sequential": [
            [
             0,
             "#0d0887"
            ],
            [
             0.1111111111111111,
             "#46039f"
            ],
            [
             0.2222222222222222,
             "#7201a8"
            ],
            [
             0.3333333333333333,
             "#9c179e"
            ],
            [
             0.4444444444444444,
             "#bd3786"
            ],
            [
             0.5555555555555556,
             "#d8576b"
            ],
            [
             0.6666666666666666,
             "#ed7953"
            ],
            [
             0.7777777777777778,
             "#fb9f3a"
            ],
            [
             0.8888888888888888,
             "#fdca26"
            ],
            [
             1,
             "#f0f921"
            ]
           ],
           "sequentialminus": [
            [
             0,
             "#0d0887"
            ],
            [
             0.1111111111111111,
             "#46039f"
            ],
            [
             0.2222222222222222,
             "#7201a8"
            ],
            [
             0.3333333333333333,
             "#9c179e"
            ],
            [
             0.4444444444444444,
             "#bd3786"
            ],
            [
             0.5555555555555556,
             "#d8576b"
            ],
            [
             0.6666666666666666,
             "#ed7953"
            ],
            [
             0.7777777777777778,
             "#fb9f3a"
            ],
            [
             0.8888888888888888,
             "#fdca26"
            ],
            [
             1,
             "#f0f921"
            ]
           ]
          },
          "colorway": [
           "#636efa",
           "#EF553B",
           "#00cc96",
           "#ab63fa",
           "#FFA15A",
           "#19d3f3",
           "#FF6692",
           "#B6E880",
           "#FF97FF",
           "#FECB52"
          ],
          "font": {
           "color": "#2a3f5f"
          },
          "geo": {
           "bgcolor": "white",
           "lakecolor": "white",
           "landcolor": "#E5ECF6",
           "showlakes": true,
           "showland": true,
           "subunitcolor": "white"
          },
          "hoverlabel": {
           "align": "left"
          },
          "hovermode": "closest",
          "mapbox": {
           "style": "light"
          },
          "paper_bgcolor": "white",
          "plot_bgcolor": "#E5ECF6",
          "polar": {
           "angularaxis": {
            "gridcolor": "white",
            "linecolor": "white",
            "ticks": ""
           },
           "bgcolor": "#E5ECF6",
           "radialaxis": {
            "gridcolor": "white",
            "linecolor": "white",
            "ticks": ""
           }
          },
          "scene": {
           "xaxis": {
            "backgroundcolor": "#E5ECF6",
            "gridcolor": "white",
            "gridwidth": 2,
            "linecolor": "white",
            "showbackground": true,
            "ticks": "",
            "zerolinecolor": "white"
           },
           "yaxis": {
            "backgroundcolor": "#E5ECF6",
            "gridcolor": "white",
            "gridwidth": 2,
            "linecolor": "white",
            "showbackground": true,
            "ticks": "",
            "zerolinecolor": "white"
           },
           "zaxis": {
            "backgroundcolor": "#E5ECF6",
            "gridcolor": "white",
            "gridwidth": 2,
            "linecolor": "white",
            "showbackground": true,
            "ticks": "",
            "zerolinecolor": "white"
           }
          },
          "shapedefaults": {
           "line": {
            "color": "#2a3f5f"
           }
          },
          "ternary": {
           "aaxis": {
            "gridcolor": "white",
            "linecolor": "white",
            "ticks": ""
           },
           "baxis": {
            "gridcolor": "white",
            "linecolor": "white",
            "ticks": ""
           },
           "bgcolor": "#E5ECF6",
           "caxis": {
            "gridcolor": "white",
            "linecolor": "white",
            "ticks": ""
           }
          },
          "title": {
           "x": 0.05
          },
          "xaxis": {
           "automargin": true,
           "gridcolor": "white",
           "linecolor": "white",
           "ticks": "",
           "title": {
            "standoff": 15
           },
           "zerolinecolor": "white",
           "zerolinewidth": 2
          },
          "yaxis": {
           "automargin": true,
           "gridcolor": "white",
           "linecolor": "white",
           "ticks": "",
           "title": {
            "standoff": 15
           },
           "zerolinecolor": "white",
           "zerolinewidth": 2
          }
         }
        },
        "title": {
         "text": "Füllstände zu Zeitpunkt t"
        },
        "xaxis": {
         "title": {
          "text": "t"
         }
        },
        "yaxis": {
         "title": {
          "text": "x(t)"
         }
        }
       }
      }
     },
     "metadata": {},
     "output_type": "display_data"
    }
   ],
   "source": [
    "fig = go.Figure(\n",
    "    data=[\n",
    "        go.Scatter(x=t, y=res.y[0], name=\"Füllstand1\"),\n",
    "        go.Scatter(x=t, y=res.y[1], name=\"Füllstand2\"),\n",
    "        go.Scatter(x=t, y=res.y[2], name=\"Füllstand3\"),\n",
    "        # go.Scatter(x = t, y = u1_arr, name = 'Zuflussgeschwindigkeit1'),\n",
    "        # go.Scatter(x = t, y = u2_arr, name = 'Zuflussgeschwindigkeit2')\n",
    "    ]\n",
    ")\n",
    "fig.update_layout(\n",
    "    title=\"Füllstände zu Zeitpunkt t\", xaxis_title=\"t\", yaxis_title=\"x(t)\"\n",
    ")\n",
    "fig.show()"
   ]
  },
  {
   "cell_type": "markdown",
   "metadata": {},
   "source": [
    "# Datengenerierung"
   ]
  },
  {
   "cell_type": "markdown",
   "metadata": {},
   "source": [
    "Der Versuch soll nun dazu verwendet werden um Daten für die Soft Sensor implementierung zu generieren\n",
    "hierfür werden die DFG mit unterschiedlichen Werten für die Einlaufgeschwindigkeit benutzt werden, außerdem unterscheidet sich der Anfangswert. Die Sequenzen welche erstellt werden beinhalten 140 Messpunkte. Am Ende der Simulation erhält man einen Pandas Dataframe welcher die beiden Einlaufgeschwindigkeiten $u_1(t)$ und $u_2(t)$ enthält. Außerdem enthält der Dataframe die Füllstände der 3 Tanks $x_1(t), x_2(t), x_3(t)$ und die Auslaufgeschwindigkeit $v(t)$"
   ]
  },
  {
   "cell_type": "code",
   "execution_count": 19,
   "metadata": {},
   "outputs": [],
   "source": [
    "def create_sample(n_samples=100):\n",
    "    df = pd.DataFrame()\n",
    "    for i in range(n_samples):\n",
    "        # da Rauschen in den Einlaufgeschwindigkeit enthalten ist werden sich jedes mal neue Daten gesampled\n",
    "        t = np.linspace(0, 139, 140).astype(\"int\")\n",
    "        A1 = np.array([A1_func(x) for x in t])\n",
    "        A2 = np.array([A2_func(x) for x in t])\n",
    "        A3 = np.array([A3_func(x) for x in t])\n",
    "        q1 = np.array([q1_func(x) for x in t])\n",
    "        q2 = np.array([q2_func(x) for x in t])\n",
    "        q3 = np.array([q3_func(x) for x in t])\n",
    "        u1_arr = create_random_poly_array()\n",
    "        u2_arr = create_random_poly_array()\n",
    "        args = (A1, A2, A3, q1, q2, q3, u1_arr, u2_arr)\n",
    "        y0 = [sample_start_f() for x in range(3)]\n",
    "        res = solve(args=args, y0=y0)\n",
    "        df_sample = pd.DataFrame(t, columns=[\"t\"])\n",
    "        df_sample[\"Sequenz\"] = i + 1\n",
    "        df_sample[\"u1(t)\"] = np.array(u1_arr)\n",
    "        df_sample[\"u2(t)\"] = np.array(u2_arr)\n",
    "        df_sample[\"x1(t)\"] = res.y[0]\n",
    "        df_sample[\"x2(t)\"] = res.y[1]\n",
    "        df_sample[\"x3(t)\"] = res.y[2]\n",
    "        df_sample[\"v(t)\"] = np.array([v(x) for x in res.y[2]])\n",
    "        df = pd.concat([df, df_sample])\n",
    "\n",
    "    return df"
   ]
  },
  {
   "cell_type": "markdown",
   "metadata": {},
   "source": [
    "Mit der definierten Funktion für eine Simulation sollen nun Daten von 100 Sequenzen, also 100 Durchläufen des Versuchs generiert werden. "
   ]
  },
  {
   "cell_type": "code",
   "execution_count": 20,
   "metadata": {},
   "outputs": [],
   "source": [
    "res = create_sample(n_samples=200)"
   ]
  },
  {
   "cell_type": "markdown",
   "metadata": {},
   "source": [
    "Da die Daten in der Realität in den meisten fällen rauschen enthalten kann hier nun auch Rauschen auf die Daten hinzugefügt werden. Folgende Zeile fügt den Spalten der Füllstände sowie der Auslaufgeschwindigkeit einen geringen Rauschterm hinzu. "
   ]
  },
  {
   "cell_type": "code",
   "execution_count": 21,
   "metadata": {},
   "outputs": [],
   "source": [
    "r = lambda a: a + 0.5 * np.random.random()\n",
    "res[\"x1(t)\"] = res[\"x1(t)\"].apply(r)\n",
    "res[\"x2(t)\"] = res[\"x2(t)\"].apply(r)\n",
    "res[\"x3(t)\"] = res[\"x3(t)\"].apply(r)\n",
    "res[\"v(t)\"] = res[\"v(t)\"].apply(r)"
   ]
  },
  {
   "cell_type": "code",
   "execution_count": 22,
   "metadata": {},
   "outputs": [
    {
     "data": {
      "application/vnd.plotly.v1+json": {
       "config": {
        "plotlyServerURL": "https://plot.ly"
       },
       "data": [
        {
         "type": "scatter",
         "x": {
          "bdata": "AAABAAIAAwAEAAUABgAHAAgACQAKAAsADAANAA4ADwAQABEAEgATABQAFQAWABcAGAAZABoAGwAcAB0AHgAfACAAIQAiACMAJAAlACYAJwAoACkAKgArACwALQAuAC8AMAAxADIAMwA0ADUANgA3ADgAOQA6ADsAPAA9AD4APwBAAEEAQgBDAEQARQBGAEcASABJAEoASwBMAE0ATgBPAFAAUQBSAFMAVABVAFYAVwBYAFkAWgBbAFwAXQBeAF8AYABhAGIAYwBkAGUAZgBnAGgAaQBqAGsAbABtAG4AbwBwAHEAcgBzAHQAdQB2AHcAeAB5AHoAewB8AH0AfgB/AIAAgQCCAIMAhACFAIYAhwCIAIkAigCLAA==",
          "dtype": "i2"
         },
         "y": {
          "bdata": "yGmx61UKEEBgjK7xXasSQKJns+sOHRFADPOO/4YcEkAKKX/4PYoTQJHoPb7trhVAwPci5sTtFEBCAnkvnxIXQCCHXvKN5BhACosrct8AGECmQ9fWIMEZQDua44ss1BlAYZbeK2NeG0D1e/D1k38cQJpSKL6ZTR1AR7HiwdQGHUCHal76eIMeQMPwlzOllh1A+kunQDz0HUCeWJ0gVtIeQPAMlFiDGyBAPDcuZORFIEDhbz1rPU8gQOPFquz8diBAN4gj+71sIEDQFaqUYgQgQBwWm85TPiBA2GNHDiZzIECVF+UjWMwfQPKzSpfSpSBA0SkC5jRSH0B4QaFkqPIfQNgMFTzbfB9A1psPFKfjH0D2eIZM7hweQNHSUIKlcx5AENjk2VknHUDwj8lhsGccQHVnfp3YaR1Ac6vXJZ49HUBTyir/yUkdQBu1LzNUiRxAkXHZ2RWIHECAI3Hw2oUcQIKNm0JROxtADzBZ1opVG0CLAI3doIscQGl+Y/vEuBtAg38G7u45HEBRi6kn5iccQB3lMAx4xhtAony4oP1jHECHCZ/3kq0bQGmnLvN39htAO7x9L6t2GkCIQt/c79EaQKgpMq0x9xlA5Vfa4tNkGUByyt/Q+MMYQMOCDIR1vBhAdj2zB44/F0AtuuOsRxEXQGCNvp8SUxVA2+/cYOajE0Bay1HZCVcTQHrswMn7thJA5EanRFX/D0DQpuuke2cNQLnMsHonxghAJHqJIznhBkAFMjx2+EQCQKyv97wp6/8//cx8oeoDAUCHYx4PA3H9P5up3iXoLfg/EUFC9bUx8D+8CjQOHMXpP3MTweCkffI/wqiT7Hdq6T9Y877g3MLmP+r1aBoIve0//lSBv9DC5z9hrI06GgXqP4mz4DfW8eM/5C0ASbY16j/6Ho/fk6njP8wNxah6d+k/ylEfmwQu5D84fFe8ovfrP/RCL8hFW+k/VC12TI898D8kv9eJXXDsP+iALualafI/SC1azM3E8j9oKepEj5/0P4TV4B5lvPE/OAfGYXAV8T8rUFvTzr/uP8p+3AApYes/am6FYMCR8j9IudKfrwTyPzrAxmjjD+c/ZOr2D3Sh6z9cdqyxT9njP0AWskO9Vuk/UqIW+mYd4T+wrpzt8tDSP+ITqCKCWt4/R2MJq0Ua3z+EkJgZ0jvaPxCRMtLkKdQ/wkU954zzwj/SNfJLNmHVP0EC9qsncdc/XussGK1OzD+u4knf+cy6P9+5k7DDabk/kNINetg6xT9gYvQWi3fWP8abR2p3SN0/AtnWsTVhxT+Q6z/mL3nXP+qZR1ZtZds/hqyaPTOYzD+qCYMFfuq/P4IaJL67ONo/QEk/8IPM0D9C7pRgFD7cP0GdPBBMX9M/m+QOzo9F0D+JQOHbaEvHP9n58uj99dA/DpmNAkxDwT+sSKClEl/HP0/m3mtoiNI/3AWxbzsd4j/pdW1c0XfSPzCfagPpsM0/x0JDB4kuxT+Ujw+TD5nPPw==",
          "dtype": "f8"
         }
        },
        {
         "type": "scatter",
         "x": {
          "bdata": "AAABAAIAAwAEAAUABgAHAAgACQAKAAsADAANAA4ADwAQABEAEgATABQAFQAWABcAGAAZABoAGwAcAB0AHgAfACAAIQAiACMAJAAlACYAJwAoACkAKgArACwALQAuAC8AMAAxADIAMwA0ADUANgA3ADgAOQA6ADsAPAA9AD4APwBAAEEAQgBDAEQARQBGAEcASABJAEoASwBMAE0ATgBPAFAAUQBSAFMAVABVAFYAVwBYAFkAWgBbAFwAXQBeAF8AYABhAGIAYwBkAGUAZgBnAGgAaQBqAGsAbABtAG4AbwBwAHEAcgBzAHQAdQB2AHcAeAB5AHoAewB8AH0AfgB/AIAAgQCCAIMAhACFAIYAhwCIAIkAigCLAA==",
          "dtype": "i2"
         },
         "y": {
          "bdata": "NHuscV3yE0BO559YfjjwP0rUuXD6x/E/tPUqE0619z84LQsMC4H7P2Lpi10af/o/3LTnAutM/z+X1I/f4B0EQC2UpDOaAgNAYfEY7D/yBECgYeP2TLMFQP6oQO9h6QdAkBZ3Si6bB0BefXa0I9wJQFob0jFqEAxAsfgc1y/WCUDjKrmgFWwMQCeWVQdajwxARWvOEZhbCkDM7243PKQMQJYV4etLQQpA9IoFMBWACUCgi2ZFNgELQNGeWJgAFgxA9IuqX0eZCUC2nH7kskkKQO49oKtZkghA/eJ0m1swCECOoHkHUwoIQPQGWUM3BgpAivrHXiy/BkCaDMaK+sIJQGV4BMJn/ghAY9Ca2soxC0DYSkncLrAKQFlWB7NptAlAQkwcea8vCkCCaGnCEuALQIY02bZGfg9A7ryu/6fdDkBmHxYy3wsRQN5nC+hQuQ9AfzcLmIHoEUDpKnHbkFsRQNbL3B5H3hFAxv3nKWo3EUB9APxaSDASQIsVdPyWBBJAeHIJcUrCEECRQLIxeU8RQFZIzWlXKRJAtTAjerVWEEAYvGqValMQQJFjHhX+lRFAPiN/4oU7EUBMLvvtmM0PQKuOnqssXw9Ad+bcBeMWEEBEr71rhYoOQEdmvaPdjA1AFqFCJ4YiDkBc5YhMUwoMQC6aGpXWlgpAHxWqYVH0B0CCY63UTpYFQGR68aG7MgRANKXX3jigAEAKYDnoqmn8PyM/B/OYFv4/PzneCvgJ+T98q4PY0nrwPxusVz/vVPE/HghoxhtB6D+cG+t9zkXpPyKuVx/K4uU/fwpCY2dY3j+KNj2TvJzTP6drLGXvyuA/jAnfNo9B4j+YKs/2tm/gP+b6OuOmSNU/oUQ9lqFM5T+2mdzsbqngPzl+yjRFMuM/poPMGpbs4j/aO0RL5O3iPxhzea7WHuw/hfmejWcD6j/cwVoamZvyP5hKzwOFjO4/2PgShWeX7D/CWNuOlW3vP2OAqbpkw/Y/TUpbvMTP9j+EtTHZk1LzPymJqc2FfvI/DOsNHful8D+gXkOhbND2P4t4KXxsL/E/pBLxi89g8T9gWEIdOO/2P1l7Jh//y/U/vSSVXo/e8z+zF75IBbz1Pxzq4TtRPvI/VUzP6gC07T94gc1ivm/uP4t57hD63+8/gE0nBuo/8z8M81wNXGzwPyWI6ylKp/E/znJ+BJUY7T8Cr0iogOX1P24o7GNkIO8/Gee/uTVH8j9mWtTvL1zwPwlM1MqxS+s/lqHdGQFm8D+2OOSTQVTzP9x0TQwVF/I/ZWjtGdHR5z8gMG6NFN/xP65N7kGn2ec/ZNKNXGJz5T9q6hXSv5fmPwIJ6JT5kvE/RtKa0Ojk7j/0mgrpdqTwP1on+Ek6aOg/vuI2S82a8D9Yb7UnNCLkP5AHRrh4r+w/pbaOo9+t4T8sS9Kd3zPsPzlQk1p5teg/cOIuJSM/5T9GC5kjTjroP5jxMp6CFuw/AloQSW/Q7D82wUtYJL/pPw==",
          "dtype": "f8"
         }
        },
        {
         "type": "scatter",
         "x": {
          "bdata": "AAABAAIAAwAEAAUABgAHAAgACQAKAAsADAANAA4ADwAQABEAEgATABQAFQAWABcAGAAZABoAGwAcAB0AHgAfACAAIQAiACMAJAAlACYAJwAoACkAKgArACwALQAuAC8AMAAxADIAMwA0ADUANgA3ADgAOQA6ADsAPAA9AD4APwBAAEEAQgBDAEQARQBGAEcASABJAEoASwBMAE0ATgBPAFAAUQBSAFMAVABVAFYAVwBYAFkAWgBbAFwAXQBeAF8AYABhAGIAYwBkAGUAZgBnAGgAaQBqAGsAbABtAG4AbwBwAHEAcgBzAHQAdQB2AHcAeAB5AHoAewB8AH0AfgB/AIAAgQCCAIMAhACFAIYAhwCIAIkAigCLAA==",
          "dtype": "i2"
         },
         "y": {
          "bdata": "yGmx61UKEEBgjK7xXasSQKJns+sOHRFADPOO/4YcEkAKKX/4PYoTQJHoPb7trhVAwPci5sTtFEBCAnkvnxIXQCCHXvKN5BhACosrct8AGECmQ9fWIMEZQDua44ss1BlAYZbeK2NeG0D1e/D1k38cQJpSKL6ZTR1AR7HiwdQGHUCHal76eIMeQMPwlzOllh1A+kunQDz0HUCeWJ0gVtIeQPAMlFiDGyBAPDcuZORFIEDhbz1rPU8gQOPFquz8diBAN4gj+71sIEDQFaqUYgQgQBwWm85TPiBA2GNHDiZzIECVF+UjWMwfQPKzSpfSpSBA0SkC5jRSH0B4QaFkqPIfQNgMFTzbfB9A1psPFKfjH0D2eIZM7hweQNHSUIKlcx5AENjk2VknHUDwj8lhsGccQHVnfp3YaR1Ac6vXJZ49HUBTyir/yUkdQBu1LzNUiRxAkXHZ2RWIHECAI3Hw2oUcQIKNm0JROxtADzBZ1opVG0CLAI3doIscQGl+Y/vEuBtAg38G7u45HEBRi6kn5iccQB3lMAx4xhtAony4oP1jHECHCZ/3kq0bQGmnLvN39htAO7x9L6t2GkCIQt/c79EaQKgpMq0x9xlA5Vfa4tNkGUByyt/Q+MMYQMOCDIR1vBhAdj2zB44/F0AtuuOsRxEXQGCNvp8SUxVA2+/cYOajE0Bay1HZCVcTQHrswMn7thJA5EanRFX/D0DQpuuke2cNQLnMsHonxghAJHqJIznhBkAFMjx2+EQCQKyv97wp6/8//cx8oeoDAUCHYx4PA3H9P5up3iXoLfg/EUFC9bUx8D+8CjQOHMXpP3MTweCkffI/wqiT7Hdq6T9Y877g3MLmP+r1aBoIve0//lSBv9DC5z9hrI06GgXqP4mz4DfW8eM/5C0ASbY16j/6Ho/fk6njP8wNxah6d+k/ylEfmwQu5D84fFe8ovfrP/RCL8hFW+k/VC12TI898D8kv9eJXXDsP+iALualafI/SC1azM3E8j9oKepEj5/0P4TV4B5lvPE/OAfGYXAV8T8rUFvTzr/uP8p+3AApYes/am6FYMCR8j9IudKfrwTyPzrAxmjjD+c/ZOr2D3Sh6z9cdqyxT9njP0AWskO9Vuk/UqIW+mYd4T+wrpzt8tDSP+ITqCKCWt4/R2MJq0Ua3z+EkJgZ0jvaPxCRMtLkKdQ/wkU954zzwj/SNfJLNmHVP0EC9qsncdc/XussGK1OzD+u4knf+cy6P9+5k7DDabk/kNINetg6xT9gYvQWi3fWP8abR2p3SN0/AtnWsTVhxT+Q6z/mL3nXP+qZR1ZtZds/hqyaPTOYzD+qCYMFfuq/P4IaJL67ONo/QEk/8IPM0D9C7pRgFD7cP0GdPBBMX9M/m+QOzo9F0D+JQOHbaEvHP9n58uj99dA/DpmNAkxDwT+sSKClEl/HP0/m3mtoiNI/3AWxbzsd4j/pdW1c0XfSPzCfagPpsM0/x0JDB4kuxT+Ujw+TD5nPPw==",
          "dtype": "f8"
         }
        }
       ],
       "layout": {
        "template": {
         "data": {
          "bar": [
           {
            "error_x": {
             "color": "#2a3f5f"
            },
            "error_y": {
             "color": "#2a3f5f"
            },
            "marker": {
             "line": {
              "color": "#E5ECF6",
              "width": 0.5
             },
             "pattern": {
              "fillmode": "overlay",
              "size": 10,
              "solidity": 0.2
             }
            },
            "type": "bar"
           }
          ],
          "barpolar": [
           {
            "marker": {
             "line": {
              "color": "#E5ECF6",
              "width": 0.5
             },
             "pattern": {
              "fillmode": "overlay",
              "size": 10,
              "solidity": 0.2
             }
            },
            "type": "barpolar"
           }
          ],
          "carpet": [
           {
            "aaxis": {
             "endlinecolor": "#2a3f5f",
             "gridcolor": "white",
             "linecolor": "white",
             "minorgridcolor": "white",
             "startlinecolor": "#2a3f5f"
            },
            "baxis": {
             "endlinecolor": "#2a3f5f",
             "gridcolor": "white",
             "linecolor": "white",
             "minorgridcolor": "white",
             "startlinecolor": "#2a3f5f"
            },
            "type": "carpet"
           }
          ],
          "choropleth": [
           {
            "colorbar": {
             "outlinewidth": 0,
             "ticks": ""
            },
            "type": "choropleth"
           }
          ],
          "contour": [
           {
            "colorbar": {
             "outlinewidth": 0,
             "ticks": ""
            },
            "colorscale": [
             [
              0,
              "#0d0887"
             ],
             [
              0.1111111111111111,
              "#46039f"
             ],
             [
              0.2222222222222222,
              "#7201a8"
             ],
             [
              0.3333333333333333,
              "#9c179e"
             ],
             [
              0.4444444444444444,
              "#bd3786"
             ],
             [
              0.5555555555555556,
              "#d8576b"
             ],
             [
              0.6666666666666666,
              "#ed7953"
             ],
             [
              0.7777777777777778,
              "#fb9f3a"
             ],
             [
              0.8888888888888888,
              "#fdca26"
             ],
             [
              1,
              "#f0f921"
             ]
            ],
            "type": "contour"
           }
          ],
          "contourcarpet": [
           {
            "colorbar": {
             "outlinewidth": 0,
             "ticks": ""
            },
            "type": "contourcarpet"
           }
          ],
          "heatmap": [
           {
            "colorbar": {
             "outlinewidth": 0,
             "ticks": ""
            },
            "colorscale": [
             [
              0,
              "#0d0887"
             ],
             [
              0.1111111111111111,
              "#46039f"
             ],
             [
              0.2222222222222222,
              "#7201a8"
             ],
             [
              0.3333333333333333,
              "#9c179e"
             ],
             [
              0.4444444444444444,
              "#bd3786"
             ],
             [
              0.5555555555555556,
              "#d8576b"
             ],
             [
              0.6666666666666666,
              "#ed7953"
             ],
             [
              0.7777777777777778,
              "#fb9f3a"
             ],
             [
              0.8888888888888888,
              "#fdca26"
             ],
             [
              1,
              "#f0f921"
             ]
            ],
            "type": "heatmap"
           }
          ],
          "histogram": [
           {
            "marker": {
             "pattern": {
              "fillmode": "overlay",
              "size": 10,
              "solidity": 0.2
             }
            },
            "type": "histogram"
           }
          ],
          "histogram2d": [
           {
            "colorbar": {
             "outlinewidth": 0,
             "ticks": ""
            },
            "colorscale": [
             [
              0,
              "#0d0887"
             ],
             [
              0.1111111111111111,
              "#46039f"
             ],
             [
              0.2222222222222222,
              "#7201a8"
             ],
             [
              0.3333333333333333,
              "#9c179e"
             ],
             [
              0.4444444444444444,
              "#bd3786"
             ],
             [
              0.5555555555555556,
              "#d8576b"
             ],
             [
              0.6666666666666666,
              "#ed7953"
             ],
             [
              0.7777777777777778,
              "#fb9f3a"
             ],
             [
              0.8888888888888888,
              "#fdca26"
             ],
             [
              1,
              "#f0f921"
             ]
            ],
            "type": "histogram2d"
           }
          ],
          "histogram2dcontour": [
           {
            "colorbar": {
             "outlinewidth": 0,
             "ticks": ""
            },
            "colorscale": [
             [
              0,
              "#0d0887"
             ],
             [
              0.1111111111111111,
              "#46039f"
             ],
             [
              0.2222222222222222,
              "#7201a8"
             ],
             [
              0.3333333333333333,
              "#9c179e"
             ],
             [
              0.4444444444444444,
              "#bd3786"
             ],
             [
              0.5555555555555556,
              "#d8576b"
             ],
             [
              0.6666666666666666,
              "#ed7953"
             ],
             [
              0.7777777777777778,
              "#fb9f3a"
             ],
             [
              0.8888888888888888,
              "#fdca26"
             ],
             [
              1,
              "#f0f921"
             ]
            ],
            "type": "histogram2dcontour"
           }
          ],
          "mesh3d": [
           {
            "colorbar": {
             "outlinewidth": 0,
             "ticks": ""
            },
            "type": "mesh3d"
           }
          ],
          "parcoords": [
           {
            "line": {
             "colorbar": {
              "outlinewidth": 0,
              "ticks": ""
             }
            },
            "type": "parcoords"
           }
          ],
          "pie": [
           {
            "automargin": true,
            "type": "pie"
           }
          ],
          "scatter": [
           {
            "fillpattern": {
             "fillmode": "overlay",
             "size": 10,
             "solidity": 0.2
            },
            "type": "scatter"
           }
          ],
          "scatter3d": [
           {
            "line": {
             "colorbar": {
              "outlinewidth": 0,
              "ticks": ""
             }
            },
            "marker": {
             "colorbar": {
              "outlinewidth": 0,
              "ticks": ""
             }
            },
            "type": "scatter3d"
           }
          ],
          "scattercarpet": [
           {
            "marker": {
             "colorbar": {
              "outlinewidth": 0,
              "ticks": ""
             }
            },
            "type": "scattercarpet"
           }
          ],
          "scattergeo": [
           {
            "marker": {
             "colorbar": {
              "outlinewidth": 0,
              "ticks": ""
             }
            },
            "type": "scattergeo"
           }
          ],
          "scattergl": [
           {
            "marker": {
             "colorbar": {
              "outlinewidth": 0,
              "ticks": ""
             }
            },
            "type": "scattergl"
           }
          ],
          "scattermap": [
           {
            "marker": {
             "colorbar": {
              "outlinewidth": 0,
              "ticks": ""
             }
            },
            "type": "scattermap"
           }
          ],
          "scattermapbox": [
           {
            "marker": {
             "colorbar": {
              "outlinewidth": 0,
              "ticks": ""
             }
            },
            "type": "scattermapbox"
           }
          ],
          "scatterpolar": [
           {
            "marker": {
             "colorbar": {
              "outlinewidth": 0,
              "ticks": ""
             }
            },
            "type": "scatterpolar"
           }
          ],
          "scatterpolargl": [
           {
            "marker": {
             "colorbar": {
              "outlinewidth": 0,
              "ticks": ""
             }
            },
            "type": "scatterpolargl"
           }
          ],
          "scatterternary": [
           {
            "marker": {
             "colorbar": {
              "outlinewidth": 0,
              "ticks": ""
             }
            },
            "type": "scatterternary"
           }
          ],
          "surface": [
           {
            "colorbar": {
             "outlinewidth": 0,
             "ticks": ""
            },
            "colorscale": [
             [
              0,
              "#0d0887"
             ],
             [
              0.1111111111111111,
              "#46039f"
             ],
             [
              0.2222222222222222,
              "#7201a8"
             ],
             [
              0.3333333333333333,
              "#9c179e"
             ],
             [
              0.4444444444444444,
              "#bd3786"
             ],
             [
              0.5555555555555556,
              "#d8576b"
             ],
             [
              0.6666666666666666,
              "#ed7953"
             ],
             [
              0.7777777777777778,
              "#fb9f3a"
             ],
             [
              0.8888888888888888,
              "#fdca26"
             ],
             [
              1,
              "#f0f921"
             ]
            ],
            "type": "surface"
           }
          ],
          "table": [
           {
            "cells": {
             "fill": {
              "color": "#EBF0F8"
             },
             "line": {
              "color": "white"
             }
            },
            "header": {
             "fill": {
              "color": "#C8D4E3"
             },
             "line": {
              "color": "white"
             }
            },
            "type": "table"
           }
          ]
         },
         "layout": {
          "annotationdefaults": {
           "arrowcolor": "#2a3f5f",
           "arrowhead": 0,
           "arrowwidth": 1
          },
          "autotypenumbers": "strict",
          "coloraxis": {
           "colorbar": {
            "outlinewidth": 0,
            "ticks": ""
           }
          },
          "colorscale": {
           "diverging": [
            [
             0,
             "#8e0152"
            ],
            [
             0.1,
             "#c51b7d"
            ],
            [
             0.2,
             "#de77ae"
            ],
            [
             0.3,
             "#f1b6da"
            ],
            [
             0.4,
             "#fde0ef"
            ],
            [
             0.5,
             "#f7f7f7"
            ],
            [
             0.6,
             "#e6f5d0"
            ],
            [
             0.7,
             "#b8e186"
            ],
            [
             0.8,
             "#7fbc41"
            ],
            [
             0.9,
             "#4d9221"
            ],
            [
             1,
             "#276419"
            ]
           ],
           "sequential": [
            [
             0,
             "#0d0887"
            ],
            [
             0.1111111111111111,
             "#46039f"
            ],
            [
             0.2222222222222222,
             "#7201a8"
            ],
            [
             0.3333333333333333,
             "#9c179e"
            ],
            [
             0.4444444444444444,
             "#bd3786"
            ],
            [
             0.5555555555555556,
             "#d8576b"
            ],
            [
             0.6666666666666666,
             "#ed7953"
            ],
            [
             0.7777777777777778,
             "#fb9f3a"
            ],
            [
             0.8888888888888888,
             "#fdca26"
            ],
            [
             1,
             "#f0f921"
            ]
           ],
           "sequentialminus": [
            [
             0,
             "#0d0887"
            ],
            [
             0.1111111111111111,
             "#46039f"
            ],
            [
             0.2222222222222222,
             "#7201a8"
            ],
            [
             0.3333333333333333,
             "#9c179e"
            ],
            [
             0.4444444444444444,
             "#bd3786"
            ],
            [
             0.5555555555555556,
             "#d8576b"
            ],
            [
             0.6666666666666666,
             "#ed7953"
            ],
            [
             0.7777777777777778,
             "#fb9f3a"
            ],
            [
             0.8888888888888888,
             "#fdca26"
            ],
            [
             1,
             "#f0f921"
            ]
           ]
          },
          "colorway": [
           "#636efa",
           "#EF553B",
           "#00cc96",
           "#ab63fa",
           "#FFA15A",
           "#19d3f3",
           "#FF6692",
           "#B6E880",
           "#FF97FF",
           "#FECB52"
          ],
          "font": {
           "color": "#2a3f5f"
          },
          "geo": {
           "bgcolor": "white",
           "lakecolor": "white",
           "landcolor": "#E5ECF6",
           "showlakes": true,
           "showland": true,
           "subunitcolor": "white"
          },
          "hoverlabel": {
           "align": "left"
          },
          "hovermode": "closest",
          "mapbox": {
           "style": "light"
          },
          "paper_bgcolor": "white",
          "plot_bgcolor": "#E5ECF6",
          "polar": {
           "angularaxis": {
            "gridcolor": "white",
            "linecolor": "white",
            "ticks": ""
           },
           "bgcolor": "#E5ECF6",
           "radialaxis": {
            "gridcolor": "white",
            "linecolor": "white",
            "ticks": ""
           }
          },
          "scene": {
           "xaxis": {
            "backgroundcolor": "#E5ECF6",
            "gridcolor": "white",
            "gridwidth": 2,
            "linecolor": "white",
            "showbackground": true,
            "ticks": "",
            "zerolinecolor": "white"
           },
           "yaxis": {
            "backgroundcolor": "#E5ECF6",
            "gridcolor": "white",
            "gridwidth": 2,
            "linecolor": "white",
            "showbackground": true,
            "ticks": "",
            "zerolinecolor": "white"
           },
           "zaxis": {
            "backgroundcolor": "#E5ECF6",
            "gridcolor": "white",
            "gridwidth": 2,
            "linecolor": "white",
            "showbackground": true,
            "ticks": "",
            "zerolinecolor": "white"
           }
          },
          "shapedefaults": {
           "line": {
            "color": "#2a3f5f"
           }
          },
          "ternary": {
           "aaxis": {
            "gridcolor": "white",
            "linecolor": "white",
            "ticks": ""
           },
           "baxis": {
            "gridcolor": "white",
            "linecolor": "white",
            "ticks": ""
           },
           "bgcolor": "#E5ECF6",
           "caxis": {
            "gridcolor": "white",
            "linecolor": "white",
            "ticks": ""
           }
          },
          "title": {
           "x": 0.05
          },
          "xaxis": {
           "automargin": true,
           "gridcolor": "white",
           "linecolor": "white",
           "ticks": "",
           "title": {
            "standoff": 15
           },
           "zerolinecolor": "white",
           "zerolinewidth": 2
          },
          "yaxis": {
           "automargin": true,
           "gridcolor": "white",
           "linecolor": "white",
           "ticks": "",
           "title": {
            "standoff": 15
           },
           "zerolinecolor": "white",
           "zerolinewidth": 2
          }
         }
        }
       }
      }
     },
     "metadata": {},
     "output_type": "display_data"
    }
   ],
   "source": [
    "# Diagramm von unterschiedlichen Sequenzen um die unterschiede Festzustellen\n",
    "seq1, seq2, seq3 = np.random.randint(18), np.random.randint(18), np.random.randint(18)\n",
    "fig = go.Figure(\n",
    "    data=[\n",
    "        go.Scatter(\n",
    "            x=res[res[\"Sequenz\"] == 1].index, y=res[res[\"Sequenz\"] == seq1][\"x2(t)\"]\n",
    "        ),\n",
    "        go.Scatter(\n",
    "            x=res[res[\"Sequenz\"] == 1].index, y=res[res[\"Sequenz\"] == seq2][\"x2(t)\"]\n",
    "        ),\n",
    "        go.Scatter(\n",
    "            x=res[res[\"Sequenz\"] == 1].index, y=res[res[\"Sequenz\"] == seq3][\"x2(t)\"]\n",
    "        ),\n",
    "    ]\n",
    ")\n",
    "fig.show()"
   ]
  },
  {
   "cell_type": "code",
   "execution_count": 23,
   "metadata": {},
   "outputs": [
    {
     "data": {
      "application/vnd.plotly.v1+json": {
       "config": {
        "plotlyServerURL": "https://plot.ly"
       },
       "data": [
        {
         "hovertemplate": "t=%{x}<br>v(t)=%{y}<extra></extra>",
         "legendgroup": "",
         "line": {
          "color": "#636efa",
          "dash": "solid"
         },
         "marker": {
          "symbol": "circle"
         },
         "mode": "lines",
         "name": "",
         "orientation": "v",
         "showlegend": false,
         "type": "scatter",
         "x": {
          "bdata": "AAABAAIAAwAEAAUABgAHAAgACQAKAAsADAANAA4ADwAQABEAEgATABQAFQAWABcAGAAZABoAGwAcAB0AHgAfACAAIQAiACMAJAAlACYAJwAoACkAKgArACwALQAuAC8AMAAxADIAMwA0ADUANgA3ADgAOQA6ADsAPAA9AD4APwBAAEEAQgBDAEQARQBGAEcASABJAEoASwBMAE0ATgBPAFAAUQBSAFMAVABVAFYAVwBYAFkAWgBbAFwAXQBeAF8AYABhAGIAYwBkAGUAZgBnAGgAaQBqAGsAbABtAG4AbwBwAHEAcgBzAHQAdQB2AHcAeAB5AHoAewB8AH0AfgB/AIAAgQCCAIMAhACFAIYAhwCIAIkAigCLAA==",
          "dtype": "i2"
         },
         "xaxis": "x",
         "y": {
          "bdata": "VYBP7luHCkDgz3XTf6YQQHTnMZJAphJA/Mhu9WcYE0APuwzmh9gUQBI5bU3qchZACvdK2utPF0BcahIRE9EYQE/N7KojyxhAqeN7l4kJG0B0R6sPY6EaQCmCqvH8DR1Ah+yACXEhHUB3lTld7ZoeQLDgfVzdWx5AxSSrHaCsHkD+LmpYS/wfQH2BRIbINSBAoR23YwmnH0CKndFL9YofQE9DPnIArCBAdZ1NLgzyH0AFktF2H9EgQPv2r1JV6h9AIyIKb3vVIED/rxXfg68fQFsP+ROcECBAiOX1dxuNH0DYxftk1+wfQCsnqhhgPx9AITFKxLwoIECouTm0VW4fQA/1S9eLSR9ALcVEAtL8H0AmKvu0yskeQF0A/zPY0x1AWF18fnf+HUDHbfHhyNMcQD8PChIHNh1A8pwqre0pHUAHMhb5994bQBuL4c1CDRxAT4iblOPFGkBtINKT7/gaQBYaEiYX5hlAmYS/0fFwGEC4K/Fra9gXQBLRdQ2r9RZAJzY4K6QEFkCWs443gpUUQGFf2TIMRhRAyupfd6TsFEAy9pQ7T6ITQBE0y0zfHBRAdFoZIgTdFEDu3fulrSgTQEpAwEToYBNAaega9FwFE0CYl13c9eERQHy/RxhW1BBAXL02wAwuEEA4he9BmGIPQOJpb/J+uBFApdLIPj/bEEBaZA2co14RQPCGf+tykhJAcTj145LRE0B319UBwkQUQIudk6aNThRApOjprWBwFEBrW6OpLfsUQLZfwPnrDxVALQgvqFvwEkAsle0L57sSQD5/y/XypxFAzHfjsOwYEUD+VUx3wSsQQIHvA7koxQxAhaoOH9+HCkAqi3iMkqwIQBNdyxqN4QdAcBFKaYQJBUAwhi2SigQGQAshTIyZLAdAmm3dluAjBkBq2d5lnCUIQBiRwaQ6XgdAOXXTbOKKC0DKi7sP1CQKQIIghwuP0QxAyxfUQDa9CkAR4eNU474LQAcKmLgY6Q5Apk68rTO1DkABDWDKVAkNQEGCTOwg/A9Ar0U8UYEQEECjUUqkVTcQQHAHEtCZoA1ANIdgBw3ODUA5XIxzbiIPQMK0PbtGQw1A6KGe/GwqCUDwQ2FOnLoJQBLb0PkJbQlAs1jqD4VkBECQfAx990MEQDIcRVn6fANAZO7mNx0hAUCrK6WDmxoAQIPubHiGK/s/zmiic/AR+D8HZSTOj2/3P1YXAkdw8vY/5qlUZ5KJ9D+yWso2GHDxP1YKxyCBufA/OLU38U2m6j8WvMmlm0rxP4JmOKdjr+k/KOvvTUBL6z8MtVxKdansPwMCJFCHte8/3G6Olm9Z8D+wh3SIJwPsP0Irt1+n1vA/4R+/eGQv4j8WBA5W9bPlP9rJgSWh2+w/bsLi9jbd5j+naN7zzZfZP+qnpEP+qvA/ceXARrYv2z/XeuqBGu/mP9NzSJ+g3+Y/uvoKi4Yr5D+IrFbZJ4HiP6KYqTQqXOA/EMKzLUYC4T+FdCE7bjDlPw==",
          "dtype": "f8"
         },
         "yaxis": "y"
        }
       ],
       "layout": {
        "legend": {
         "tracegroupgap": 0
        },
        "template": {
         "data": {
          "bar": [
           {
            "error_x": {
             "color": "#2a3f5f"
            },
            "error_y": {
             "color": "#2a3f5f"
            },
            "marker": {
             "line": {
              "color": "#E5ECF6",
              "width": 0.5
             },
             "pattern": {
              "fillmode": "overlay",
              "size": 10,
              "solidity": 0.2
             }
            },
            "type": "bar"
           }
          ],
          "barpolar": [
           {
            "marker": {
             "line": {
              "color": "#E5ECF6",
              "width": 0.5
             },
             "pattern": {
              "fillmode": "overlay",
              "size": 10,
              "solidity": 0.2
             }
            },
            "type": "barpolar"
           }
          ],
          "carpet": [
           {
            "aaxis": {
             "endlinecolor": "#2a3f5f",
             "gridcolor": "white",
             "linecolor": "white",
             "minorgridcolor": "white",
             "startlinecolor": "#2a3f5f"
            },
            "baxis": {
             "endlinecolor": "#2a3f5f",
             "gridcolor": "white",
             "linecolor": "white",
             "minorgridcolor": "white",
             "startlinecolor": "#2a3f5f"
            },
            "type": "carpet"
           }
          ],
          "choropleth": [
           {
            "colorbar": {
             "outlinewidth": 0,
             "ticks": ""
            },
            "type": "choropleth"
           }
          ],
          "contour": [
           {
            "colorbar": {
             "outlinewidth": 0,
             "ticks": ""
            },
            "colorscale": [
             [
              0,
              "#0d0887"
             ],
             [
              0.1111111111111111,
              "#46039f"
             ],
             [
              0.2222222222222222,
              "#7201a8"
             ],
             [
              0.3333333333333333,
              "#9c179e"
             ],
             [
              0.4444444444444444,
              "#bd3786"
             ],
             [
              0.5555555555555556,
              "#d8576b"
             ],
             [
              0.6666666666666666,
              "#ed7953"
             ],
             [
              0.7777777777777778,
              "#fb9f3a"
             ],
             [
              0.8888888888888888,
              "#fdca26"
             ],
             [
              1,
              "#f0f921"
             ]
            ],
            "type": "contour"
           }
          ],
          "contourcarpet": [
           {
            "colorbar": {
             "outlinewidth": 0,
             "ticks": ""
            },
            "type": "contourcarpet"
           }
          ],
          "heatmap": [
           {
            "colorbar": {
             "outlinewidth": 0,
             "ticks": ""
            },
            "colorscale": [
             [
              0,
              "#0d0887"
             ],
             [
              0.1111111111111111,
              "#46039f"
             ],
             [
              0.2222222222222222,
              "#7201a8"
             ],
             [
              0.3333333333333333,
              "#9c179e"
             ],
             [
              0.4444444444444444,
              "#bd3786"
             ],
             [
              0.5555555555555556,
              "#d8576b"
             ],
             [
              0.6666666666666666,
              "#ed7953"
             ],
             [
              0.7777777777777778,
              "#fb9f3a"
             ],
             [
              0.8888888888888888,
              "#fdca26"
             ],
             [
              1,
              "#f0f921"
             ]
            ],
            "type": "heatmap"
           }
          ],
          "histogram": [
           {
            "marker": {
             "pattern": {
              "fillmode": "overlay",
              "size": 10,
              "solidity": 0.2
             }
            },
            "type": "histogram"
           }
          ],
          "histogram2d": [
           {
            "colorbar": {
             "outlinewidth": 0,
             "ticks": ""
            },
            "colorscale": [
             [
              0,
              "#0d0887"
             ],
             [
              0.1111111111111111,
              "#46039f"
             ],
             [
              0.2222222222222222,
              "#7201a8"
             ],
             [
              0.3333333333333333,
              "#9c179e"
             ],
             [
              0.4444444444444444,
              "#bd3786"
             ],
             [
              0.5555555555555556,
              "#d8576b"
             ],
             [
              0.6666666666666666,
              "#ed7953"
             ],
             [
              0.7777777777777778,
              "#fb9f3a"
             ],
             [
              0.8888888888888888,
              "#fdca26"
             ],
             [
              1,
              "#f0f921"
             ]
            ],
            "type": "histogram2d"
           }
          ],
          "histogram2dcontour": [
           {
            "colorbar": {
             "outlinewidth": 0,
             "ticks": ""
            },
            "colorscale": [
             [
              0,
              "#0d0887"
             ],
             [
              0.1111111111111111,
              "#46039f"
             ],
             [
              0.2222222222222222,
              "#7201a8"
             ],
             [
              0.3333333333333333,
              "#9c179e"
             ],
             [
              0.4444444444444444,
              "#bd3786"
             ],
             [
              0.5555555555555556,
              "#d8576b"
             ],
             [
              0.6666666666666666,
              "#ed7953"
             ],
             [
              0.7777777777777778,
              "#fb9f3a"
             ],
             [
              0.8888888888888888,
              "#fdca26"
             ],
             [
              1,
              "#f0f921"
             ]
            ],
            "type": "histogram2dcontour"
           }
          ],
          "mesh3d": [
           {
            "colorbar": {
             "outlinewidth": 0,
             "ticks": ""
            },
            "type": "mesh3d"
           }
          ],
          "parcoords": [
           {
            "line": {
             "colorbar": {
              "outlinewidth": 0,
              "ticks": ""
             }
            },
            "type": "parcoords"
           }
          ],
          "pie": [
           {
            "automargin": true,
            "type": "pie"
           }
          ],
          "scatter": [
           {
            "fillpattern": {
             "fillmode": "overlay",
             "size": 10,
             "solidity": 0.2
            },
            "type": "scatter"
           }
          ],
          "scatter3d": [
           {
            "line": {
             "colorbar": {
              "outlinewidth": 0,
              "ticks": ""
             }
            },
            "marker": {
             "colorbar": {
              "outlinewidth": 0,
              "ticks": ""
             }
            },
            "type": "scatter3d"
           }
          ],
          "scattercarpet": [
           {
            "marker": {
             "colorbar": {
              "outlinewidth": 0,
              "ticks": ""
             }
            },
            "type": "scattercarpet"
           }
          ],
          "scattergeo": [
           {
            "marker": {
             "colorbar": {
              "outlinewidth": 0,
              "ticks": ""
             }
            },
            "type": "scattergeo"
           }
          ],
          "scattergl": [
           {
            "marker": {
             "colorbar": {
              "outlinewidth": 0,
              "ticks": ""
             }
            },
            "type": "scattergl"
           }
          ],
          "scattermap": [
           {
            "marker": {
             "colorbar": {
              "outlinewidth": 0,
              "ticks": ""
             }
            },
            "type": "scattermap"
           }
          ],
          "scattermapbox": [
           {
            "marker": {
             "colorbar": {
              "outlinewidth": 0,
              "ticks": ""
             }
            },
            "type": "scattermapbox"
           }
          ],
          "scatterpolar": [
           {
            "marker": {
             "colorbar": {
              "outlinewidth": 0,
              "ticks": ""
             }
            },
            "type": "scatterpolar"
           }
          ],
          "scatterpolargl": [
           {
            "marker": {
             "colorbar": {
              "outlinewidth": 0,
              "ticks": ""
             }
            },
            "type": "scatterpolargl"
           }
          ],
          "scatterternary": [
           {
            "marker": {
             "colorbar": {
              "outlinewidth": 0,
              "ticks": ""
             }
            },
            "type": "scatterternary"
           }
          ],
          "surface": [
           {
            "colorbar": {
             "outlinewidth": 0,
             "ticks": ""
            },
            "colorscale": [
             [
              0,
              "#0d0887"
             ],
             [
              0.1111111111111111,
              "#46039f"
             ],
             [
              0.2222222222222222,
              "#7201a8"
             ],
             [
              0.3333333333333333,
              "#9c179e"
             ],
             [
              0.4444444444444444,
              "#bd3786"
             ],
             [
              0.5555555555555556,
              "#d8576b"
             ],
             [
              0.6666666666666666,
              "#ed7953"
             ],
             [
              0.7777777777777778,
              "#fb9f3a"
             ],
             [
              0.8888888888888888,
              "#fdca26"
             ],
             [
              1,
              "#f0f921"
             ]
            ],
            "type": "surface"
           }
          ],
          "table": [
           {
            "cells": {
             "fill": {
              "color": "#EBF0F8"
             },
             "line": {
              "color": "white"
             }
            },
            "header": {
             "fill": {
              "color": "#C8D4E3"
             },
             "line": {
              "color": "white"
             }
            },
            "type": "table"
           }
          ]
         },
         "layout": {
          "annotationdefaults": {
           "arrowcolor": "#2a3f5f",
           "arrowhead": 0,
           "arrowwidth": 1
          },
          "autotypenumbers": "strict",
          "coloraxis": {
           "colorbar": {
            "outlinewidth": 0,
            "ticks": ""
           }
          },
          "colorscale": {
           "diverging": [
            [
             0,
             "#8e0152"
            ],
            [
             0.1,
             "#c51b7d"
            ],
            [
             0.2,
             "#de77ae"
            ],
            [
             0.3,
             "#f1b6da"
            ],
            [
             0.4,
             "#fde0ef"
            ],
            [
             0.5,
             "#f7f7f7"
            ],
            [
             0.6,
             "#e6f5d0"
            ],
            [
             0.7,
             "#b8e186"
            ],
            [
             0.8,
             "#7fbc41"
            ],
            [
             0.9,
             "#4d9221"
            ],
            [
             1,
             "#276419"
            ]
           ],
           "sequential": [
            [
             0,
             "#0d0887"
            ],
            [
             0.1111111111111111,
             "#46039f"
            ],
            [
             0.2222222222222222,
             "#7201a8"
            ],
            [
             0.3333333333333333,
             "#9c179e"
            ],
            [
             0.4444444444444444,
             "#bd3786"
            ],
            [
             0.5555555555555556,
             "#d8576b"
            ],
            [
             0.6666666666666666,
             "#ed7953"
            ],
            [
             0.7777777777777778,
             "#fb9f3a"
            ],
            [
             0.8888888888888888,
             "#fdca26"
            ],
            [
             1,
             "#f0f921"
            ]
           ],
           "sequentialminus": [
            [
             0,
             "#0d0887"
            ],
            [
             0.1111111111111111,
             "#46039f"
            ],
            [
             0.2222222222222222,
             "#7201a8"
            ],
            [
             0.3333333333333333,
             "#9c179e"
            ],
            [
             0.4444444444444444,
             "#bd3786"
            ],
            [
             0.5555555555555556,
             "#d8576b"
            ],
            [
             0.6666666666666666,
             "#ed7953"
            ],
            [
             0.7777777777777778,
             "#fb9f3a"
            ],
            [
             0.8888888888888888,
             "#fdca26"
            ],
            [
             1,
             "#f0f921"
            ]
           ]
          },
          "colorway": [
           "#636efa",
           "#EF553B",
           "#00cc96",
           "#ab63fa",
           "#FFA15A",
           "#19d3f3",
           "#FF6692",
           "#B6E880",
           "#FF97FF",
           "#FECB52"
          ],
          "font": {
           "color": "#2a3f5f"
          },
          "geo": {
           "bgcolor": "white",
           "lakecolor": "white",
           "landcolor": "#E5ECF6",
           "showlakes": true,
           "showland": true,
           "subunitcolor": "white"
          },
          "hoverlabel": {
           "align": "left"
          },
          "hovermode": "closest",
          "mapbox": {
           "style": "light"
          },
          "paper_bgcolor": "white",
          "plot_bgcolor": "#E5ECF6",
          "polar": {
           "angularaxis": {
            "gridcolor": "white",
            "linecolor": "white",
            "ticks": ""
           },
           "bgcolor": "#E5ECF6",
           "radialaxis": {
            "gridcolor": "white",
            "linecolor": "white",
            "ticks": ""
           }
          },
          "scene": {
           "xaxis": {
            "backgroundcolor": "#E5ECF6",
            "gridcolor": "white",
            "gridwidth": 2,
            "linecolor": "white",
            "showbackground": true,
            "ticks": "",
            "zerolinecolor": "white"
           },
           "yaxis": {
            "backgroundcolor": "#E5ECF6",
            "gridcolor": "white",
            "gridwidth": 2,
            "linecolor": "white",
            "showbackground": true,
            "ticks": "",
            "zerolinecolor": "white"
           },
           "zaxis": {
            "backgroundcolor": "#E5ECF6",
            "gridcolor": "white",
            "gridwidth": 2,
            "linecolor": "white",
            "showbackground": true,
            "ticks": "",
            "zerolinecolor": "white"
           }
          },
          "shapedefaults": {
           "line": {
            "color": "#2a3f5f"
           }
          },
          "ternary": {
           "aaxis": {
            "gridcolor": "white",
            "linecolor": "white",
            "ticks": ""
           },
           "baxis": {
            "gridcolor": "white",
            "linecolor": "white",
            "ticks": ""
           },
           "bgcolor": "#E5ECF6",
           "caxis": {
            "gridcolor": "white",
            "linecolor": "white",
            "ticks": ""
           }
          },
          "title": {
           "x": 0.05
          },
          "xaxis": {
           "automargin": true,
           "gridcolor": "white",
           "linecolor": "white",
           "ticks": "",
           "title": {
            "standoff": 15
           },
           "zerolinecolor": "white",
           "zerolinewidth": 2
          },
          "yaxis": {
           "automargin": true,
           "gridcolor": "white",
           "linecolor": "white",
           "ticks": "",
           "title": {
            "standoff": 15
           },
           "zerolinecolor": "white",
           "zerolinewidth": 2
          }
         }
        },
        "title": {
         "text": "Beispiel, Auslaufgeschwindigkeit"
        },
        "xaxis": {
         "anchor": "y",
         "domain": [
          0,
          1
         ],
         "title": {
          "text": "t"
         }
        },
        "yaxis": {
         "anchor": "x",
         "domain": [
          0,
          1
         ],
         "title": {
          "text": "v(t)"
         }
        }
       }
      }
     },
     "metadata": {},
     "output_type": "display_data"
    }
   ],
   "source": [
    "px.line(\n",
    "    res[res[\"Sequenz\"] == 9].reset_index(),\n",
    "    x=\"t\",\n",
    "    y=\"v(t)\",\n",
    "    title=\"Beispiel, Auslaufgeschwindigkeit\",\n",
    ")"
   ]
  },
  {
   "cell_type": "markdown",
   "metadata": {},
   "source": [
    "Nun kann der erstellte Dataframe zu einer CSV exportiert werden. Zuvor wird noch die Spalte t als Index des Dataframes gesetzt um im folgenden einfacher damit umzugehen. "
   ]
  },
  {
   "cell_type": "code",
   "execution_count": 24,
   "metadata": {},
   "outputs": [],
   "source": [
    "res = res.set_index(\"t\")\n",
    "res.to_csv(\"3Tank_Experiment_Batch.csv\")"
   ]
  }
 ],
 "metadata": {
  "kernelspec": {
   "display_name": ".venv",
   "language": "python",
   "name": "python3"
  },
  "language_info": {
   "codemirror_mode": {
    "name": "ipython",
    "version": 3
   },
   "file_extension": ".py",
   "mimetype": "text/x-python",
   "name": "python",
   "nbconvert_exporter": "python",
   "pygments_lexer": "ipython3",
   "version": "3.11.12"
  },
  "orig_nbformat": 4
 },
 "nbformat": 4,
 "nbformat_minor": 2
}
