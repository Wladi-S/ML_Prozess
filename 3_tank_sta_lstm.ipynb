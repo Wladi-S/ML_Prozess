{
 "cells": [
  {
   "cell_type": "markdown",
   "id": "235e5a8b",
   "metadata": {},
   "source": [
    "# Imports"
   ]
  },
  {
   "cell_type": "code",
   "execution_count": 1,
   "id": "133ac073",
   "metadata": {},
   "outputs": [],
   "source": [
    "import pandas as pd\n",
    "import numpy as np\n",
    "import random\n",
    "import plotly.express as px\n",
    "import plotly.graph_objects as go\n",
    "\n",
    "from sklearn.preprocessing import StandardScaler\n",
    "from sklearn.model_selection import train_test_split\n",
    "from sklearn.metrics import (\n",
    "    mean_absolute_error,\n",
    "    mean_squared_error,\n",
    "    mean_absolute_percentage_error,\n",
    ")\n",
    "\n",
    "import tensorflow as tf\n",
    "from tensorflow.keras.models import Model, load_model\n",
    "from tensorflow.keras.layers import Input, LSTM, Dense, Dropout, Layer, RepeatVector\n",
    "from tensorflow.keras.optimizers import Adam\n",
    "from tensorflow.keras.callbacks import EarlyStopping, ModelCheckpoint\n",
    "from tensorflow.keras.preprocessing.sequence import pad_sequences\n",
    "\n"
   ]
  },
  {
   "cell_type": "markdown",
   "id": "21309089",
   "metadata": {},
   "source": [
    "# 3-Tank-Prozess"
   ]
  },
  {
   "cell_type": "code",
   "execution_count": 2,
   "id": "2d018917",
   "metadata": {},
   "outputs": [],
   "source": [
    "res = pd.read_csv(\"3Tank_Experiment_Batch.csv\")"
   ]
  },
  {
   "cell_type": "code",
   "execution_count": 3,
   "id": "2b6a6e9a",
   "metadata": {},
   "outputs": [
    {
     "data": {
      "text/html": [
       "<div>\n",
       "<style scoped>\n",
       "    .dataframe tbody tr th:only-of-type {\n",
       "        vertical-align: middle;\n",
       "    }\n",
       "\n",
       "    .dataframe tbody tr th {\n",
       "        vertical-align: top;\n",
       "    }\n",
       "\n",
       "    .dataframe thead th {\n",
       "        text-align: right;\n",
       "    }\n",
       "</style>\n",
       "<table border=\"1\" class=\"dataframe\">\n",
       "  <thead>\n",
       "    <tr style=\"text-align: right;\">\n",
       "      <th></th>\n",
       "      <th>t</th>\n",
       "      <th>Sequenz</th>\n",
       "      <th>u1(t)</th>\n",
       "      <th>u2(t)</th>\n",
       "      <th>x1(t)</th>\n",
       "      <th>x2(t)</th>\n",
       "      <th>x3(t)</th>\n",
       "      <th>v(t)</th>\n",
       "    </tr>\n",
       "  </thead>\n",
       "  <tbody>\n",
       "    <tr>\n",
       "      <th>0</th>\n",
       "      <td>0</td>\n",
       "      <td>1</td>\n",
       "      <td>0.000000e+00</td>\n",
       "      <td>0.000000</td>\n",
       "      <td>5.988230</td>\n",
       "      <td>2.331288</td>\n",
       "      <td>1.212181</td>\n",
       "      <td>4.544362</td>\n",
       "    </tr>\n",
       "    <tr>\n",
       "      <th>1</th>\n",
       "      <td>1</td>\n",
       "      <td>1</td>\n",
       "      <td>2.194408e+00</td>\n",
       "      <td>2.394381</td>\n",
       "      <td>1.467460</td>\n",
       "      <td>1.213719</td>\n",
       "      <td>1.478458</td>\n",
       "      <td>4.936056</td>\n",
       "    </tr>\n",
       "    <tr>\n",
       "      <th>2</th>\n",
       "      <td>2</td>\n",
       "      <td>1</td>\n",
       "      <td>4.196763e+00</td>\n",
       "      <td>4.603298</td>\n",
       "      <td>1.314415</td>\n",
       "      <td>1.622736</td>\n",
       "      <td>1.535122</td>\n",
       "      <td>5.327472</td>\n",
       "    </tr>\n",
       "    <tr>\n",
       "      <th>3</th>\n",
       "      <td>3</td>\n",
       "      <td>1</td>\n",
       "      <td>6.017419e+00</td>\n",
       "      <td>6.635741</td>\n",
       "      <td>1.491854</td>\n",
       "      <td>1.677920</td>\n",
       "      <td>1.598870</td>\n",
       "      <td>5.335756</td>\n",
       "    </tr>\n",
       "    <tr>\n",
       "      <th>4</th>\n",
       "      <td>4</td>\n",
       "      <td>1</td>\n",
       "      <td>7.666488e+00</td>\n",
       "      <td>8.500489</td>\n",
       "      <td>1.719355</td>\n",
       "      <td>1.564766</td>\n",
       "      <td>1.889846</td>\n",
       "      <td>5.568579</td>\n",
       "    </tr>\n",
       "    <tr>\n",
       "      <th>...</th>\n",
       "      <td>...</td>\n",
       "      <td>...</td>\n",
       "      <td>...</td>\n",
       "      <td>...</td>\n",
       "      <td>...</td>\n",
       "      <td>...</td>\n",
       "      <td>...</td>\n",
       "      <td>...</td>\n",
       "    </tr>\n",
       "    <tr>\n",
       "      <th>27995</th>\n",
       "      <td>135</td>\n",
       "      <td>200</td>\n",
       "      <td>2.500000e+01</td>\n",
       "      <td>3.015062</td>\n",
       "      <td>7.120053</td>\n",
       "      <td>6.206604</td>\n",
       "      <td>0.558532</td>\n",
       "      <td>3.198816</td>\n",
       "    </tr>\n",
       "    <tr>\n",
       "      <th>27996</th>\n",
       "      <td>136</td>\n",
       "      <td>200</td>\n",
       "      <td>2.500000e+01</td>\n",
       "      <td>2.565913</td>\n",
       "      <td>6.950856</td>\n",
       "      <td>6.501144</td>\n",
       "      <td>0.482466</td>\n",
       "      <td>3.168365</td>\n",
       "    </tr>\n",
       "    <tr>\n",
       "      <th>27997</th>\n",
       "      <td>137</td>\n",
       "      <td>200</td>\n",
       "      <td>1.775956e+01</td>\n",
       "      <td>2.096692</td>\n",
       "      <td>7.062912</td>\n",
       "      <td>6.718728</td>\n",
       "      <td>0.375799</td>\n",
       "      <td>2.985077</td>\n",
       "    </tr>\n",
       "    <tr>\n",
       "      <th>27998</th>\n",
       "      <td>138</td>\n",
       "      <td>200</td>\n",
       "      <td>7.673862e-13</td>\n",
       "      <td>1.606469</td>\n",
       "      <td>7.550670</td>\n",
       "      <td>6.683511</td>\n",
       "      <td>0.640433</td>\n",
       "      <td>2.220530</td>\n",
       "    </tr>\n",
       "    <tr>\n",
       "      <th>27999</th>\n",
       "      <td>139</td>\n",
       "      <td>200</td>\n",
       "      <td>2.841470e+00</td>\n",
       "      <td>1.094281</td>\n",
       "      <td>6.974917</td>\n",
       "      <td>6.754377</td>\n",
       "      <td>0.127193</td>\n",
       "      <td>1.492240</td>\n",
       "    </tr>\n",
       "  </tbody>\n",
       "</table>\n",
       "<p>28000 rows × 8 columns</p>\n",
       "</div>"
      ],
      "text/plain": [
       "         t  Sequenz         u1(t)     u2(t)     x1(t)     x2(t)     x3(t)  \\\n",
       "0        0        1  0.000000e+00  0.000000  5.988230  2.331288  1.212181   \n",
       "1        1        1  2.194408e+00  2.394381  1.467460  1.213719  1.478458   \n",
       "2        2        1  4.196763e+00  4.603298  1.314415  1.622736  1.535122   \n",
       "3        3        1  6.017419e+00  6.635741  1.491854  1.677920  1.598870   \n",
       "4        4        1  7.666488e+00  8.500489  1.719355  1.564766  1.889846   \n",
       "...    ...      ...           ...       ...       ...       ...       ...   \n",
       "27995  135      200  2.500000e+01  3.015062  7.120053  6.206604  0.558532   \n",
       "27996  136      200  2.500000e+01  2.565913  6.950856  6.501144  0.482466   \n",
       "27997  137      200  1.775956e+01  2.096692  7.062912  6.718728  0.375799   \n",
       "27998  138      200  7.673862e-13  1.606469  7.550670  6.683511  0.640433   \n",
       "27999  139      200  2.841470e+00  1.094281  6.974917  6.754377  0.127193   \n",
       "\n",
       "           v(t)  \n",
       "0      4.544362  \n",
       "1      4.936056  \n",
       "2      5.327472  \n",
       "3      5.335756  \n",
       "4      5.568579  \n",
       "...         ...  \n",
       "27995  3.198816  \n",
       "27996  3.168365  \n",
       "27997  2.985077  \n",
       "27998  2.220530  \n",
       "27999  1.492240  \n",
       "\n",
       "[28000 rows x 8 columns]"
      ]
     },
     "execution_count": 3,
     "metadata": {},
     "output_type": "execute_result"
    }
   ],
   "source": [
    "res"
   ]
  },
  {
   "cell_type": "markdown",
   "id": "3a3a1e3a",
   "metadata": {},
   "source": [
    "A1 = A2 = A3, Grundfläche der Tanks<br>\n",
    "q1, q2, q3 : Querschnitt der Durchflussrohre<br>\n",
    "q1 = 2, q2 = 2, q3 = 2<br>"
   ]
  },
  {
   "cell_type": "code",
   "execution_count": 4,
   "id": "4ce7343e",
   "metadata": {},
   "outputs": [
    {
     "data": {
      "application/vnd.plotly.v1+json": {
       "config": {
        "plotlyServerURL": "https://plot.ly"
       },
       "data": [
        {
         "hovertemplate": "Sequenz=1<br>t=%{x}<br>v(t)=%{y}<extra></extra>",
         "legendgroup": "1",
         "line": {
          "color": "#636efa",
          "dash": "solid"
         },
         "marker": {
          "symbol": "circle"
         },
         "mode": "lines",
         "name": "1",
         "showlegend": true,
         "type": "scattergl",
         "x": {
          "bdata": "AAABAAIAAwAEAAUABgAHAAgACQAKAAsADAANAA4ADwAQABEAEgATABQAFQAWABcAGAAZABoAGwAcAB0AHgAfACAAIQAiACMAJAAlACYAJwAoACkAKgArACwALQAuAC8AMAAxADIAMwA0ADUANgA3ADgAOQA6ADsAPAA9AD4APwBAAEEAQgBDAEQARQBGAEcASABJAEoASwBMAE0ATgBPAFAAUQBSAFMAVABVAFYAVwBYAFkAWgBbAFwAXQBeAF8AYABhAGIAYwBkAGUAZgBnAGgAaQBqAGsAbABtAG4AbwBwAHEAcgBzAHQAdQB2AHcAeAB5AHoAewB8AH0AfgB/AIAAgQCCAIMAhACFAIYAhwCIAIkAigCLAA==",
          "dtype": "i2"
         },
         "xaxis": "x",
         "y": {
          "bdata": "OPuROm0tEkCDq7Bjhb4TQNIEL/NUTxVAoeHvVdBXFUAaSZioOUYWQNAyJ9x7KBhArKf0ZkSvGEALscitMpsaQFCaOFWyJhxAiYebxWgoHEBGTlYUSQkfQNnSlDDxvB9AE/TE3BehIEBmeQ7HynQgQGDkg+RSeSFA0HNXXfJtIUD8xTGg8G0iQP/MmhcRLyJArJ8QbJRvIkBgMp6UJ1UjQCwZFBScBiNA5pKvy/ipI0Byxxz/zvMjQLKVpyFPoSRAlaiPMJQwJEAJ1G2iBYkkQIRJNi+7iiRAet0+y63nJEC9Lse6leUkQLbaFeS4GCVAN/ZbaqtjJEDtIDsaVvUkQCHfRwzIUiRAyqyHxrzrI0CaX8+anq4jQGbVLeMJXyNA2e6ixDeGI0Dt2npQ3BYjQIPzwoBi4yJAWqpABZnEIkDSwYsr+jEiQMiCIDSVXSFAF0NdDrGkIEBpTqen3aIgQI19xuEwCB9ArDjL/DFlHkBixuZWdwQeQMvg6WE+xRtArikjw/OKGkAbr+3G8HEaQNi33Cq8PxpAONE5pCUqGEDD5GLTha4WQMeME98YNBhAYWzFKrUEF0AJL2wsxTkXQNkvF6IrXxZA2pCEouz2FkCSQD2ccbwXQEK8kIIM5hdAAqwLlHhRGUCKVyfDZEUZQA78g4LXQRlA/OaxZfjsGkAEO8tDvCYcQCDL5urRlx1Aig6VZ4y5HUCXgK53jW8eQJMXJQHsRR5AbRhDt6YMH0DY4k54YPgeQMYV8YHlzB5AHVYDyK4OHkA80Q/Psl0dQD8hGgVEyh1Ab4NBr5pPHEAlI7nD6qIbQA81Z6yJwxpAO2PjduhPGUBU9szmkFkYQJoul0i36RZAYyolk6ePF0BpKtzsRQgWQFw5VKExPhZA6GEtFpDcFECUgcRFXGsVQEUMQ/6t8xRAUo0BddQNFUDdM8c27xMVQCg+tspRuBZA54g5pjE1FkCON2JRDCsXQNtHnTgw/hdAYXNY7GQmGECK4qqVMDIaQPN+IcWHKBpAxLgxSDZ3HECD43aQ9FwbQPcIxbagFBxAbZe1AQ3DHEBhQKcR+RYdQHgyKvT6dB5A94D/SR5nHkAqSCgctpMeQOjnbJfvHx5AnnFqodcfHUB1NQtiBIEcQBCNFcG0XxxAdx40l3GrHEBeiPSHISUcQAE5txQpqBtADY57RlTvGkA4RwtDkokYQGbgveMiihdAjbL9INMRFkBEHLZy360WQHCzdsDqaxVABg+i310xE0BdG7qNG60RQH+K2em+mRFASro/OhXWEEBlwCT5PFMMQEnU4tqriwpAyxU2Blj2CUB2qj85YuIHQC2XxSPs7QNAJjQaCJWTBEAy/7pNE80CQJa60q0G3fw/T6dfeg3X/T/Hn33PhdL5P5avFcwHWvo/5HW3/O+Y+D+CyE5exFH3P+l9D2p6uew/pWHTSeh+8z8n9dJUIQrqP2ItDQNm4OI/YOIGdDJG6D9k+gnlnDrgPw==",
          "dtype": "f8"
         },
         "yaxis": "y"
        },
        {
         "hovertemplate": "Sequenz=2<br>t=%{x}<br>v(t)=%{y}<extra></extra>",
         "legendgroup": "2",
         "line": {
          "color": "#EF553B",
          "dash": "solid"
         },
         "marker": {
          "symbol": "circle"
         },
         "mode": "lines",
         "name": "2",
         "showlegend": true,
         "type": "scattergl",
         "x": {
          "bdata": "AAABAAIAAwAEAAUABgAHAAgACQAKAAsADAANAA4ADwAQABEAEgATABQAFQAWABcAGAAZABoAGwAcAB0AHgAfACAAIQAiACMAJAAlACYAJwAoACkAKgArACwALQAuAC8AMAAxADIAMwA0ADUANgA3ADgAOQA6ADsAPAA9AD4APwBAAEEAQgBDAEQARQBGAEcASABJAEoASwBMAE0ATgBPAFAAUQBSAFMAVABVAFYAVwBYAFkAWgBbAFwAXQBeAF8AYABhAGIAYwBkAGUAZgBnAGgAaQBqAGsAbABtAG4AbwBwAHEAcgBzAHQAdQB2AHcAeAB5AHoAewB8AH0AfgB/AIAAgQCCAIMAhACFAIYAhwCIAIkAigCLAA==",
          "dtype": "i2"
         },
         "xaxis": "x",
         "y": {
          "bdata": "a/04TRYzFEAWdRtJ4I4XQFeODIxBIhhA+Ua3c/tRGEAVxnxDbBEaQE/fZW4TtRtA5qmNO2JBHEC21R0pitccQMHrRGs6Ox5AINPsgcTgHkDUCywq8n8gQP/A+ENdwyBAgROC0j5KIUDzNe1bpWwhQF8un8vA4CFATkpCkSUSIkCGh+z/HjoiQHrfhAWEjyJAApJrgEdSIkDBfVGpqdIiQG/nFkuTYSNAq6uIgoRuI0AF3GqIY8ciQIYeaBmh/iJA5WZ+fJU9I0BEqWBdRbcjQISRGz/BOSNA6T12SRqRI0BjpOj6Sd8iQCqhqO0QeCNAmfWpBxqDI0Do+Cs6E5MjQE+uyZoCmyJAk2k14Z7jIkBxO/pDYZciQM6/RS7/LyJAWeAaO/ZgIkBAJvRrQ9khQGO3nM6SFCJA37NftmaxIUBDYQCKqQ0hQEbyTt+XHyBAhHnzMCtEH0C33TKDIOweQOCAutqL5hxAgmZ7l+PcG0A0BVF6W6oZQLDv6D1PoxVA5EskOXXKEkBoM0SNu4YOQCJDibrlGAtASD0b3pAVBkCCJYqfvp8BQCFsVdUewQBAeus1EX94AUB0H3CERz8CQJAA0pyeWANAXJBVpdIBBUAARgwWJMgIQPfpcjuzGwxA+vrj4ofGDUByNEEe0OgPQExyiJENgxFANqMOLFLQEUBjxZK5z+QTQBWh/p23wBRAzy/23oZ5FUAv4vyZWHQWQCyP/jmVlBZAbyKIYtdsFkCZc78vuA4XQMN9t9514BdASFSxIp9UF0DmOZTPZ0UWQC7j9XIzNxZAJh8tvKVJFEAX0Mh9tSEUQIbxaLh/ExNA9MSucKGuEUDCJXNxvIARQEUbXgW8jBBA9vQbJfHtDkAGnuJlxGoOQDhVMt5d3A1Ad7ZFWm8vDkD0Jrc+IWYQQKydxovuvxBA6JxKM5jSEEAJBg3nXewQQGvnvSFH4BJAkQTXDw4FFEAzO/6q9vQTQCRi0EVLehNALiqL5BWnFEDMmjr8dUMUQN2PW6ZAmxRAvvJ13DpoFUBSs8GPWZIWQAIX4TJayxZADB1cXckqFkDE9j+Phv0VQFTeoV2k6hdABgJw0EhGFkCzIvp+oIgVQCL1eInSaxRAybJRo+hgFECDi+iY4PUTQKAU9BDzGRNAC89/L0/SEUBJb6evjkwSQDp/k4MbBQ9AdRLeU0H5DUBiMRWIBuwNQAir1qyMJQtAIScdZsPPCkBzxJn626gGQIDtxd8d8gRARv4nmgWKBEDgUPrYYZQDQNFTflhbMwNAg3ylQbKWAUDMAjDo7iT/P47UFFquV/o/QORFPwUl+z8Emij7r7H4P5Z4fiUTVPU/R9lBC1Am8z+WI07oY0zwP7GWWdHowvA/dcf0AvZD8z+blnjWzh30Pz80/vAsgPI/vOybq6pj4D98I7aohl/jP0n9G1fid+w/b1jGM0E64D/shOl65zDlPznrerk1A+0/3/USFesp3D8T2yAKCOwEQA==",
          "dtype": "f8"
         },
         "yaxis": "y"
        },
        {
         "hovertemplate": "Sequenz=3<br>t=%{x}<br>v(t)=%{y}<extra></extra>",
         "legendgroup": "3",
         "line": {
          "color": "#00cc96",
          "dash": "solid"
         },
         "marker": {
          "symbol": "circle"
         },
         "mode": "lines",
         "name": "3",
         "showlegend": true,
         "type": "scattergl",
         "x": {
          "bdata": "AAABAAIAAwAEAAUABgAHAAgACQAKAAsADAANAA4ADwAQABEAEgATABQAFQAWABcAGAAZABoAGwAcAB0AHgAfACAAIQAiACMAJAAlACYAJwAoACkAKgArACwALQAuAC8AMAAxADIAMwA0ADUANgA3ADgAOQA6ADsAPAA9AD4APwBAAEEAQgBDAEQARQBGAEcASABJAEoASwBMAE0ATgBPAFAAUQBSAFMAVABVAFYAVwBYAFkAWgBbAFwAXQBeAF8AYABhAGIAYwBkAGUAZgBnAGgAaQBqAGsAbABtAG4AbwBwAHEAcgBzAHQAdQB2AHcAeAB5AHoAewB8AH0AfgB/AIAAgQCCAIMAhACFAIYAhwCIAIkAigCLAA==",
          "dtype": "i2"
         },
         "xaxis": "x",
         "y": {
          "bdata": "/80GaE8nG0DjYkGMFmweQHy23N4p2h1A4Ha0iB8cHUBc3htPdLQdQD5GNSYVix1ArvW+C82NH0BxrISgo0wfQCXTluo7/h9AtYe2SPqtH0C14jzByxMgQMy3RiP27B9A3/LiWvPAIECEpAJnFkAhQNKduMSptCBAH4Iy/S+7IUBYVsJ73Q4hQLGevs7JFCFAQgGnN9m3IUBR+JxBXhwiQJlsp3+p6yFAwFQnCwfCIUDyqdzASaYhQB58W2lP4SFAbbzP8IB4IkB+qCM8LK0iQHVf4XXb5yFAYMZ9kBmrIUDLs0XPcOghQN1IdJZ9qyFARDD6htpeIUAwak9XemIhQJaHVjmALCFA6FCKcSaiIUD8VfxAjSghQA0S8zfyXiBAM5chfVkdIEAg/FBh6n0fQB0bdpgqpx1A/vqSRlwKHkCm+vQgJpkdQErWmNgNlhpAJ2OQlVafGUB4HD4gmh8YQKftZ5e8/BhAybhJnhIhF0DNGoMwcjYXQASudc0HHhVAXNJ9/+GdFED0HI9W060TQMJBHtKfoRNAIxpycYIeFUDLQJeVtGQUQNfLU5ojzRNAdBr3jy/CE0Arw+U/7K4VQIUm6nOdHBZAtDkU+eveFECLC8PAzzQXQM+njMEWyhZAhgwyyvGyF0A5IyG6aFUZQHWHVQjMgRhAnfE0XhFIGUD/35rPJNIZQLH/oj2IQhxAS5wYenVuHEDipdd/fZEcQFjwvZWAxh1AL6l9CFbXHEA4j6q3IgccQI5z7plBJh1AjGnxJILAG0DIF8UT/zYbQBA316dXAxtA0VerXBnMG0C4YPoSz9QZQFM9BrLVXhpAPPg5Gq2zGUAspwraC2gaQLUOC32zlRpAOE1wnxeHGUCrzMAEhkYbQLI0sCvnxhpATkZ1Kka0GkCyiUUlO00cQJBJpho+KxxAvJqQ5ctuHEASZNioDeIdQKHpTzLiAB9AOTBfBhuTH0C66MS3FHAfQDaCEjwuoR9A6hOPYN/MIEDiOGKh54kgQPHxjwWZYCFA1EFOgzMEIkBKTetDtqUhQBF1/glE6CFAvMVp1MQ9IkC/y2UlThIjQFSnnXNhrSJAi2ehITqdI0DOuHnqUd4iQCAX98WXsiNAExuQtPFSI0AaRAWeE8wiQGM/9TcXcSNAMb2pGOuWI0BMuQ0Y7wcjQME79jyWZyJANZwYTK/jIkCk1IoziZkiQKlSTaqVsiJASWGEH4nnIUAQEhaI8xoiQDvnyuMC3iBAwN/OiBoQIUCTFvwiH10gQEGVReXhciBAaebbf14VIEAOc19rLV0fQH/w2aWuoxxAwAnDAWdMHUCVzmB0y64aQHxQcIPg5BpAdC5ZVeX4GEASgGgBNswXQCfC2Yuz5BZAJp6FyTSPFECInVKovqMRQHKVx7SvyBFAagFvIv2XDUCOt44ly5IIQDlhhzyP6QNAzwn2nkbKAEA2d98Hy+/7P1H00AtNifo/fTaHqEkT9D+DDLYLE9zxPw==",
          "dtype": "f8"
         },
         "yaxis": "y"
        },
        {
         "hovertemplate": "Sequenz=4<br>t=%{x}<br>v(t)=%{y}<extra></extra>",
         "legendgroup": "4",
         "line": {
          "color": "#ab63fa",
          "dash": "solid"
         },
         "marker": {
          "symbol": "circle"
         },
         "mode": "lines",
         "name": "4",
         "showlegend": true,
         "type": "scattergl",
         "x": {
          "bdata": "AAABAAIAAwAEAAUABgAHAAgACQAKAAsADAANAA4ADwAQABEAEgATABQAFQAWABcAGAAZABoAGwAcAB0AHgAfACAAIQAiACMAJAAlACYAJwAoACkAKgArACwALQAuAC8AMAAxADIAMwA0ADUANgA3ADgAOQA6ADsAPAA9AD4APwBAAEEAQgBDAEQARQBGAEcASABJAEoASwBMAE0ATgBPAFAAUQBSAFMAVABVAFYAVwBYAFkAWgBbAFwAXQBeAF8AYABhAGIAYwBkAGUAZgBnAGgAaQBqAGsAbABtAG4AbwBwAHEAcgBzAHQAdQB2AHcAeAB5AHoAewB8AH0AfgB/AIAAgQCCAIMAhACFAIYAhwCIAIkAigCLAA==",
          "dtype": "i2"
         },
         "xaxis": "x",
         "y": {
          "bdata": "YM2s3eFdIEBYvEBd6KQeQMYBT1OE+R5A7kpqhdgJIED9R4W5eU4gQEeY5F3/giBAY4qQFRptIUBLl0OkHaQhQMEid3JnNyFAyr1xZ/sRIUDG1EhrPckgQEb+QvRMSiFA9d9NOPRmIECh+z1DIOsgQAwmyejKiiBAAgpSjcbNH0Cz2iOz6fYeQDQ6/klN5h1AuCMosZkpHUCtMvP05J4cQHKJZwL2kR1AEDoxhnWLHEA3KZSp45MaQKE0Ft0o8hlAzZxIs83DGkCSxOPXIMgZQDTXy3zqUxhAAOEPb/WtGEDoB6f+tuMXQNlb6p9QHxdAK4+tylINF0DGQ3Sj4AgWQIgLeRHaFxdAzrtOK7C/FEAlBWLvnnYVQCN9zkwJIBZA3DecsDwGFUBLWBNJutkUQGXUZP2FoxRA44GocU8IE0BXj13ORaoSQGys5bNPrBJApB9tuE/oEkDRfbT9WNoRQEBpC9Vw7Q9AMhy5hz0UEECmP9U/r5cQQO31f8hxJQ5AIjqSlRtADkBpSqkStBcQQCUI3pwgKxBA2+oDWFH5D0Cto8TG+KgPQEe8XWRIyg9AdZBfwzNjD0B2EeQgDhkOQAr2+Z88VRFAofJefuQBEEDbrOBvUkQQQOM/+3hSjBJAZkWSXhDSEkBatbBSax0SQLlQcnNujxJA8UAMgR3DEkDUk75aiQ4UQEEiqBPeuRNAd6nzsFLhEkDVnCmkxkETQO3BlpTfKhNA5ale0LdUEkC2h0/UgLISQLtAFwScohFAJCMkDYFoEUC74jc2XEEQQL3ZsmBBoRBA9/UgpYz7EEBuiN/WmAUQQNWEpebzExBA6Is9A2/EDkASHvVViIoQQKNzOeYNDxBAZUSuKjVvDkDSiVft9JAQQB7pgwjqTg9ASRHTcQoKD0BtGYmQv3ERQPJXOFY7bRBAcZlekzFtEEBDJF2bVmcQQB/rRG/awxFAILh0DUKeEUBoDk2N3vYRQFVDetphmhBAJC72RaKxEECcTG1Jw4UQQKaRClmPVBFA4jIZIjXLEUAqtoAX4vkQQKkuBrXtARBA6v5n52dlEUBdvwLuLF0RQGFV4THcXBBAtUPOkvQfEUCcXPj67DERQFmnpXxx8A9AL3kGJMA8EEAhgvDwdvYRQArFUH5RixBAAicWyVFsEUCxH/XXO90QQBuLYP/MeRFAVyGfor1WEUBRr0/krzMSQJRgks9IYBJAREa+g/M7EkAVeOHn5PASQCB5cXKb9xJA8mY2pU68EUDjyQJC6ywTQNm1rAz9ZxNAabAYV9xUE0BzkVYCCjMTQFAiJr+tBxRAf8n/Qo88FEAPrNVByg0UQEvNLWaCSxNABG/U8B5fE0DH5jrQgVIUQLGV0YfhIhNAcd99gk1YFECUcE6OWpsSQOyrGubMzhFAMl7aiT75EUDUN0HT8E8SQKAS8b5NFRJApqRYoVE7EEBaCbK3PkgQQMagurWTRAtAsJeWynCrCUAr6M9FigIJQA==",
          "dtype": "f8"
         },
         "yaxis": "y"
        },
        {
         "hovertemplate": "Sequenz=5<br>t=%{x}<br>v(t)=%{y}<extra></extra>",
         "legendgroup": "5",
         "line": {
          "color": "#FFA15A",
          "dash": "solid"
         },
         "marker": {
          "symbol": "circle"
         },
         "mode": "lines",
         "name": "5",
         "showlegend": true,
         "type": "scattergl",
         "x": {
          "bdata": "AAABAAIAAwAEAAUABgAHAAgACQAKAAsADAANAA4ADwAQABEAEgATABQAFQAWABcAGAAZABoAGwAcAB0AHgAfACAAIQAiACMAJAAlACYAJwAoACkAKgArACwALQAuAC8AMAAxADIAMwA0ADUANgA3ADgAOQA6ADsAPAA9AD4APwBAAEEAQgBDAEQARQBGAEcASABJAEoASwBMAE0ATgBPAFAAUQBSAFMAVABVAFYAVwBYAFkAWgBbAFwAXQBeAF8AYABhAGIAYwBkAGUAZgBnAGgAaQBqAGsAbABtAG4AbwBwAHEAcgBzAHQAdQB2AHcAeAB5AHoAewB8AH0AfgB/AIAAgQCCAIMAhACFAIYAhwCIAIkAigCLAA==",
          "dtype": "i2"
         },
         "xaxis": "x",
         "y": {
          "bdata": "8TCDdvK3JEBdRcVIUnAjQM4p5Hde/SNAg9YgTnbHI0BFUA9/vx0jQARH544HVSNAazuholLFIkBwzsucdKcjQD96Ay4JCCNAX4y3lcUAI0ASIi+KDrwiQPSpIjrkQSNA1ZxafygHI0DhO+HQnuQiQJyp8zZReSJAMsUGm/tDIkBMnW94gEwiQBlOIq3gMCJA/K0bZD9BIkCgvOzZYx4iQP1dRQ2WjiJAyOZj7Nk8IkD7z3hXxyMiQBJNyoZtRCJANrXHDWzGIUABtI3KblchQH7RAsfthyFAykdDl9SLIUCTtQgly6YhQLexKKjgNCFA5QdLpm1tIECnQNi8+v8gQKSsxvrIDCFAvy6v9XHAIECNB2+IAoogQL+E86bzSSBAjQbq1nhEHkBGFGzFI8keQEk8mOqLdx1Aqv48SgJEHUCU3ijUtBwbQJPgQml4xBpANo6RJgvwGUBuaj/0yc0XQEaXNsxqnhZAvE7yvqT8FkDHrS/PhdIVQFK5jJSM7BVAv2SILXqIE0DMac/4aC0UQCh4B+HaPxNAtpiA/LrhE0AZ7pNceEcTQOuPetJsBRRATZs8AnGYE0CDVQ9uZsEUQK4p1t2MABVA12DkEhLjFUCocrPMCj4WQMVwvAqf+xZATbhXZy1HGEBtp2WUcd4YQPG97R3VPxpA8sA9wFpAGkAO4snyE0MbQDBIczMrBB1AtWo720azHUCJFk4ZUOEcQHCoPY4VOx1A8MHLtItMHkAE1UU4Nt4eQGyhw8TZpB1ASUUZ2IxwHkDfPo7mSw4eQOZV6Rmrnh1AgXibOdwpHEAHjQ/NOBsbQDTBexP3IxtAaS2ootqIGUDOZrydbjEZQBM7AcPKvBhA8U17UHOxGEAZApX3ayoZQGaUDAe+YhhAsEVKan4tGUCjhYC5l0oaQEkc/SMroxpAdjsmIMSuGUACnCJ/wGcaQJz4UsYXNxxAERSvdIjdG0BwkSwwenscQJecUONUfh1AtpRPXIrJHUDldG+bwMoeQMOIBGfZix9A/BFlheHTH0BJ3QmGOBYgQMlu7kheGiBAOSCXaQNNIECcxpI3YBAhQDq4NY2C6iBAjjx57xYaIUCcHiXXozUhQJwSrGH4xyFAExdIeO36IED5xV6y6ZUhQAOPDM8ztiFA5Em4YxHLIEBii5B+lPEgQP/WdLq9/iBAr3U555yCIECAizYPDAAgQH6HiHSbrx9A2tf6L5DMH0Cu3ChJoAweQOOkjRBRMB5AzDC5r0DyHUCZ5zYJUH0cQDw4z8CHKhxAv1JRJS+HG0AmEsxVBOQZQOiiCndTmBlA8a7kFguHF0BiNdKxDiUXQMqBq5u6/BVA5B/sefFnFUDTHblxaeMSQHyqJin9uRJAu3QBXK30EEAs6bo487kOQNDfs05jDg5ALQY0LvPDC0BId5mFwWMHQOxWJLK47wdAU28jQy7wA0CCTu2QHMr+P3KrYS5Qw/g/qnrmudHW9z9mIgFuo3D3Pw==",
          "dtype": "f8"
         },
         "yaxis": "y"
        },
        {
         "hovertemplate": "Sequenz=6<br>t=%{x}<br>v(t)=%{y}<extra></extra>",
         "legendgroup": "6",
         "line": {
          "color": "#19d3f3",
          "dash": "solid"
         },
         "marker": {
          "symbol": "circle"
         },
         "mode": "lines",
         "name": "6",
         "showlegend": true,
         "type": "scattergl",
         "x": {
          "bdata": "AAABAAIAAwAEAAUABgAHAAgACQAKAAsADAANAA4ADwAQABEAEgATABQAFQAWABcAGAAZABoAGwAcAB0AHgAfACAAIQAiACMAJAAlACYAJwAoACkAKgArACwALQAuAC8AMAAxADIAMwA0ADUANgA3ADgAOQA6ADsAPAA9AD4APwBAAEEAQgBDAEQARQBGAEcASABJAEoASwBMAE0ATgBPAFAAUQBSAFMAVABVAFYAVwBYAFkAWgBbAFwAXQBeAF8AYABhAGIAYwBkAGUAZgBnAGgAaQBqAGsAbABtAG4AbwBwAHEAcgBzAHQAdQB2AHcAeAB5AHoAewB8AH0AfgB/AIAAgQCCAIMAhACFAIYAhwCIAIkAigCLAA==",
          "dtype": "i2"
         },
         "xaxis": "x",
         "y": {
          "bdata": "IVEpCW5MIkCdZTFIV0EiQG0hMdKGVCFAFi2knjv6IUAZ37QpzMYhQESWgGOg6yFAgsjDdb2AIUDowhclTDchQBGvyAdrgSFAdH8zJpqGIEB2ATqYj1wgQPbAaN0/0iBAQAOjJnc0IEDSlYgNGpogQBzs+ITCZiBA0iTGm8ypH0A5yoALA1QgQM86LejlMB9A6cyLtUeqHkAuSjMo/vYeQAFidYsLeR5ABJBV/SBgH0B2avLERMseQG5oI/mBLx5A/3QZ8DQ4HECUsgk3JHAdQO+ACmLbEBxA3faQhB96G0CdYIOTaHIbQCsJEir38xpAH6G4FYFmGkCw03JPijMbQCT2OQ4sbRlA2b0F3Oy7GEBmbn047AcZQPZ4EMu5sBhAisBWqG/OF0Av1IQtxDwXQHojhVkJpRdALPkEFP7pFUC1aWRmNNAVQOjCYtCpeRVAD/+eB4hCFEBAhELMaRQUQIK4xk75sBRAi+VJhr7qE0CFsaMhbqoSQEeLXZlFSxNAZHT0oVTLEUANBvMG2lARQC5OinlKBBJAJkyGs07sEECSCZKrmj8RQO/TfvXmhBBA3yQFtSvOEEApEk/GJAsSQCFzRmlhvxBAeSlhtGvgEECTpRK9NTwRQGl8tyrbIBJAaTYecYbyEkCdNnO2F50SQJK0yV13bhJAYztLjwzSEkBguvONxJcSQGZQJSaushJANE9xJwHWE0Bsam+H50ITQAwO4lnpLhJAFb5A7OMAEkBIg3DTRfQRQFHuZ7beiBBAF3dNm2ZzEEDnJek8zsUQQDBb4uQp3Q9AAgingqSADkB99lWxXuoMQNq6MWTNRAxA0KWsv+/qDECyo1G3fmINQCEZuEs5swtA8waQ3PUSDkC+fFiXDxUQQKsX+vev2A9ApWnbfZEzD0AhayHmnIgRQP4Py0tYnxFA+O6DVeXNEUCtqPRKG68SQO74+tpjTBJAUHWGYXfPE0DG56CIK3AUQOu82rdu2RRAnUtcfwQCFkAp5OcEXPUVQA+OachXVRdA1ujPqlGiFkBL206ePrEWQNo+fjdcDhlAjw5ah6J1GEDtm2sUC48YQPuuoW6ewBlAbP3GElzzGECIwqwwWEsaQONQk8vXdBpA5jl/7gmXGkCm3IW+QskaQAxVOG3wbBpAHYFr2DwHG0ARR8n/2ikbQIxuCtxcMhtA8vCYPF6eGkDTWK8YyFcaQNkbsL/IfhpAwL62Ttg4GUCp1iyObcEZQHaSgRFN7hlAJmJf5JZOGEBktG6ZnSEZQLVH2CgZmRdA5MMZIX+oFkCNqWQgKlQXQOPFlNQreBZAbPQY3WO6FkCp9ALV/tUVQFs+bDkduhNAJ8yUWwsuE0CorPseB+ISQB/omAloYhNA4npCbPBrEkD0mFKEfD8RQJR7wWn+Hw9ADSQKZfmpDECCV+WkWtMMQGARqm2IbAxAhsLP5WPRCUBXNXubNUcFQI3VQC+L2wNAfEFu4Fk1AEBB/NEfCZr5Pw==",
          "dtype": "f8"
         },
         "yaxis": "y"
        },
        {
         "hovertemplate": "Sequenz=7<br>t=%{x}<br>v(t)=%{y}<extra></extra>",
         "legendgroup": "7",
         "line": {
          "color": "#FF6692",
          "dash": "solid"
         },
         "marker": {
          "symbol": "circle"
         },
         "mode": "lines",
         "name": "7",
         "showlegend": true,
         "type": "scattergl",
         "x": {
          "bdata": "AAABAAIAAwAEAAUABgAHAAgACQAKAAsADAANAA4ADwAQABEAEgATABQAFQAWABcAGAAZABoAGwAcAB0AHgAfACAAIQAiACMAJAAlACYAJwAoACkAKgArACwALQAuAC8AMAAxADIAMwA0ADUANgA3ADgAOQA6ADsAPAA9AD4APwBAAEEAQgBDAEQARQBGAEcASABJAEoASwBMAE0ATgBPAFAAUQBSAFMAVABVAFYAVwBYAFkAWgBbAFwAXQBeAF8AYABhAGIAYwBkAGUAZgBnAGgAaQBqAGsAbABtAG4AbwBwAHEAcgBzAHQAdQB2AHcAeAB5AHoAewB8AH0AfgB/AIAAgQCCAIMAhACFAIYAhwCIAIkAigCLAA==",
          "dtype": "i2"
         },
         "xaxis": "x",
         "y": {
          "bdata": "aeEtzsatGECW+k0+cUUaQMUOeTdzgBtAy9dXvgZ3G0AQJ/NMcKccQD9zGTbbJx5AncipjAbRHkD7Tb92mYQfQIR3qO3uxR9A8qLZaOk3H0D61sLySMIfQKX3zC8vPSBAIie/dnheIEBPPVDI07sgQHEBG5FHViFAV9QNh+oOIUD+rNpHqYYhQM6DcSyENiFAqMTIN4NxIUD/iBk3djshQI1VNia8kCFAmvrW1QlfIUDHpnUqilQhQFE/XBkDiyFAGghhQtvLIEDc7hVuNO8gQEoEtqFP+iBAtGWGmfrWIEBZhOZ/GOIgQJ115T0iHyFAgEAypK2AIEAQbw5xDWwgQD96QkoiAyBAGs2Bc45eIEDCHHd5rawfQBgDTNmUcyBApNLAasToH0AiscSa45QeQMQJWGE2UB5ApfZAjAV/HkByO1w4Uz0dQC1Ry0MniRxAgHiA1RIGG0DfCT0DhTsaQFF8YhPlpBZAEWppgbmAFUCf7MDCwUwSQJ99wnDgvA1A9miw42u6B0CdUCM0uVgAQIM8wvlVaPs/25m5TVZH9T9Sr3OYTZHpPyyWSjJzFPo/baMGPAN6/z/+NwhwZzz8P5GFxQAM3AFAUTstwAupAkByFcRbwRoEQGZPAzOHKQVAHnTBQkZ5CEBkeyJK4pYMQKvMsT2+rQ1A0/0nLHB8DUDTV+GWSkQOQKRx06jeARBAnE4pt5SyD0AU5ahvjKUQQJTlj17qohBAIU0WjP37EECV38Fm+P0NQIpb25iw3A9Ag11hEzKpDEBku5TsKp0JQPrO7T9KSwlAcbsO7AHgB0DAeCL5mDgGQPvFEDA+NARAtjsAZMFr/j/vAC9ggAcCQHAR1BXC0gFAsO5q+VGUAEAg5wEparYBQH5Dnp8nkwFAdEbGKzY3BEDWMWbMXnYEQEGXjIh9GQNAsLHEtKAJBEBDjL3xpWoFQJBELF2RgAZA4Tk/dYhvB0Dgr3/hS0gGQA7AAcCOyAZAUgtpz1NTB0DCE10aJ/kJQN2smh/u8QZASGv8zUaeCUARRyHRaIAIQCHjIIHo7AVAoK9Ib94OB0A0qY63xpEEQM+vz6ZbWAVAZlqKsS9eAEBGXVp+Rd3+P7N/Q+XbBP8/+g+etEvp+D+4gAaUu+X7P6gxEvyIt/o/wslx+5lz8j+uHIB8rof2P7JmFF26VvE/AP3qX7WH9j+yvgkvCtjyP1J3WN6G1OU/4/eC2Hnp4T+0zvW3MKbnP2DAAr4g0+w/+lf6PV3a6z8SrIDF5FzmP2NgRZk0Duk/NYmY6u144j8gsT4eqXblPy2gnyXH7uY/dDb82N/64z+6LIy+PX3tP1b+w8qhxu0/Ftubwyul5z+tBIwgWRnwP6AZ7r6P8/E/Xtlc4tnL6j/QO/sxJFzxP3DBlX+mDPQ/dmgL9tZH6D/j5GPZWm3uP95agMFwIOw/miY4hV585z9daDqPdJHiP3KG/FTW/+g/IX7sLnMK2z+DFvB73WbiPw==",
          "dtype": "f8"
         },
         "yaxis": "y"
        },
        {
         "hovertemplate": "Sequenz=8<br>t=%{x}<br>v(t)=%{y}<extra></extra>",
         "legendgroup": "8",
         "line": {
          "color": "#B6E880",
          "dash": "solid"
         },
         "marker": {
          "symbol": "circle"
         },
         "mode": "lines",
         "name": "8",
         "showlegend": true,
         "type": "scattergl",
         "x": {
          "bdata": "AAABAAIAAwAEAAUABgAHAAgACQAKAAsADAANAA4ADwAQABEAEgATABQAFQAWABcAGAAZABoAGwAcAB0AHgAfACAAIQAiACMAJAAlACYAJwAoACkAKgArACwALQAuAC8AMAAxADIAMwA0ADUANgA3ADgAOQA6ADsAPAA9AD4APwBAAEEAQgBDAEQARQBGAEcASABJAEoASwBMAE0ATgBPAFAAUQBSAFMAVABVAFYAVwBYAFkAWgBbAFwAXQBeAF8AYABhAGIAYwBkAGUAZgBnAGgAaQBqAGsAbABtAG4AbwBwAHEAcgBzAHQAdQB2AHcAeAB5AHoAewB8AH0AfgB/AIAAgQCCAIMAhACFAIYAhwCIAIkAigCLAA==",
          "dtype": "i2"
         },
         "xaxis": "x",
         "y": {
          "bdata": "W7v6lW5PI0Dtaq3bSMQjQGslYiz9GSNAopdyjHoQI0CDg9btmnQjQF70LZoNZyNAmh6SLvFjI0Ds6HsHgvgjQLpNFmN6eCNAFGaLO0N5I0CspN/6Wv8iQJdIwQGhGSNA4fhZlHj3I0CleRxWchkjQBY77/pj/CNABeOEYfwJJECVJH6w7/4jQEOQKeMrQSRA6xpiq5gZJEB8ERQq8zMjQKLoY4mR5CNAMOVcFzs3JECcXWq1VwUkQJ/xuuUCnyNA6TRhlEDgI0DIGmribYsjQEAEe09XsyNAms7oKqHEI0DRAOXokEUjQNba9RGg5SJAcL2fFRxpI0A5TpJfr4siQLjqjHr4fyJASwx5XeHmIUAvQpAjjuYhQPjCnEV0+iFAU2uSbEv2IEA6U4DXM+8gQN91hdjyFyFAkBt6AXBVIEBXKNcAfZofQF+Ccsm8fh1A8JTYp3D6HECPyNnocPsaQDJn58/hehpA1RcsjCtyGkAeG9UNwroYQFRKXWS29xhAUw4ZIy76F0AcNe3iwjsXQKSOOBrRtxVAVxkalfbLFUCGWU64L4cVQEy3Kc7osxVAKEMWpNw3FkBv/GZyqQUWQFcWedaGlRZAwNiVG8MLGEDaELyB33IZQBT6gDMf3BlAGuae+Hx9GkDCbOMiJbUaQMW3udt6HBtAzNYAo7/pG0AjJ88Y6FEdQKs2fsHnCB5AEnUVj4s3HkCtWMFAwmcfQKIHiD+KXh9AvWwefYPLHkC5dx94nQEfQHw3Nkwv9x1AucxI8UBMHkCk2lMlM18dQLG2i7RJdB1A72xFj7oGHUD0A0SYKbIcQCKKr9g1QRtAJqfKWauiG0D0BZocCM4bQIAfOqZ32RpA3hJZ40whGkAIr/+y7QoaQPtFb7agrhpAdVsc2cEnHECHEuCCrHocQDlEaho0xxxAx/oDkWG3HUA5YXpLC/8cQLy/baq3WR9A5BIgYSo4IEDS3rzMiqMgQB19BAj0QiBAXl0XyRzSIUBhnGa8GoYhQDm5D848WCJAoth9vgefIkD2DToDsZojQPo/lZvOgCNA3+0npMv9I0DSdnT4aBUlQCV7B+zJNSVAi2tY7Xl8JUDjJXXJOqglQFiyWRSmOiZAmtPugS+JJkCherzrXvIlQB4K+g2EHSZAwmEnzagEJ0DPOGdfTQAnQJZ7t9ogAydAyVJhHGkRJ0C9kR+yLckmQH4i643c+iZAAmpjEWTvJkDB8gH+hJImQPQE8xYxXSZAbDLdSf2LJkDJ9i/Qj3QmQIFxctI1ZSZAjLdrEEsGJkAf4GXY8zclQGoff3o50CRA7LaiIlkkJUAs3dLaZYwkQOrrdqnnNiRAdDKxtp01JEAVEnJmVRUkQGE7HmF8QCNAWJ0FO3afIkAO8VlsG8IiQDVTCJyOWiJAawXIjHswIkBqkjPOkjQhQIKutv4eFyFAkuyo8C+pH0DSLjjYPY0eQMw6AmdwYx5AtkkIkBcCHkDRTS7harIaQA==",
          "dtype": "f8"
         },
         "yaxis": "y"
        },
        {
         "hovertemplate": "Sequenz=9<br>t=%{x}<br>v(t)=%{y}<extra></extra>",
         "legendgroup": "9",
         "line": {
          "color": "#FF97FF",
          "dash": "solid"
         },
         "marker": {
          "symbol": "circle"
         },
         "mode": "lines",
         "name": "9",
         "showlegend": true,
         "type": "scattergl",
         "x": {
          "bdata": "AAABAAIAAwAEAAUABgAHAAgACQAKAAsADAANAA4ADwAQABEAEgATABQAFQAWABcAGAAZABoAGwAcAB0AHgAfACAAIQAiACMAJAAlACYAJwAoACkAKgArACwALQAuAC8AMAAxADIAMwA0ADUANgA3ADgAOQA6ADsAPAA9AD4APwBAAEEAQgBDAEQARQBGAEcASABJAEoASwBMAE0ATgBPAFAAUQBSAFMAVABVAFYAVwBYAFkAWgBbAFwAXQBeAF8AYABhAGIAYwBkAGUAZgBnAGgAaQBqAGsAbABtAG4AbwBwAHEAcgBzAHQAdQB2AHcAeAB5AHoAewB8AH0AfgB/AIAAgQCCAIMAhACFAIYAhwCIAIkAigCLAA==",
          "dtype": "i2"
         },
         "xaxis": "x",
         "y": {
          "bdata": "v7G0+22yIED0/IVyayQhQB7yqVBd8yBAkqGWZlEAIUBvXWyr6eAhQG65qPHieCFANOt0bR9UIkB6j9vb/YIiQBMd/psw7iJAsvsfZ7GgI0AELvKa2ecjQCODNg/XLCRAmdShbGyAJEBHDEhk3UElQKosQX8lyiVAct/BdKwNJkCKwCbIQKElQFwAI6DywiZAjCoULA1iJkDyKg2kqp0mQBCs0M3GvCZAt6D7k5PwJkDz3C7w4yknQJecT0vtJydAusrDnHkBJ0CVFYSE6N8mQEPz9djVTSdAGVFgCVDvJkBUdNkg+PgmQHswI32ddCZA6SLOEbVlJkDzMFQgLSEmQM97z99VkiZAk6ld/LG/JkBGr+ZaWNwlQF2Nt0OQryVATCxbJpQnJUAfXafSD5ElQOmxAsEDBSVAvTsHaeBIJEB0pEEfnGMjQEKOh7Yi8iJA7pjDLmOYIkA/Mo/vpS4hQOXEct+mkCFAuY1q3FkaIUAt7cqwb4sfQJ1xcR290h1A5KFNfng+HUCWm0zxY5ocQKSPdcuHnBpAPlfzIGAEGUBO91FgSIEYQBIDm3BYShhAvIh7q+T1FkDbX4Wh0j8XQBkKS2rDNRhAFtjVeYPnFkBRxsRwMxYYQHpXdiyLDBhAKWYDgkFTGUCsrPPtIOQaQGtBshb7JBpAgNj/mJ2jG0BO1yr9aAMdQFQu2FYIIR5A2fdFxQ6PHUBCXvioG3UfQNWsGCAUfx9ALXBsA9I3IEA7pWMazD4gQAwjPoHPrh9AxkwHE4OMIEDjDSsJlpkfQF6JUXuXNiBAJMCT1YRoHkAg5qe3p5weQDiQJKbrjBxAhzFvVbRIHEAfGzcyWBYdQBNceBiUDB1As4cK8R/+G0CKEktEekEdQBqgxGyQJhxARnrRdthMHEBXIAHtsBwdQJTHxSWDeh1AvWCUdGe+HUDUnifUY1cdQO80TwK5Nh9AK2I+2EQnIEBi3YJyUAogQJTnEI4JbCBAdsYu3Qq7IEBI8NcZ5SohQJPA4LF/3yBA3TuYCoJfIUCqEe37G+4hQITiDg4A3yFAzhygjva7IUALLlEG3bsiQIMkj6DSwyJATDbPsEdgIkDg/SrZrJ4iQNuEpVwZxyJA0+Z1gXwwIkAv0naWjPohQB4SeoNFtiFAozi36hAjIUAJeRIQg9UhQF3KXhu7lCBAeHv5bToSIUB+MAKnQ2ogQK5cnlwgGB9Aek+1IRpwHUCQG2bSTuscQD5ApMWlKh1A3xJXda03HED6XbBVET8bQL1gFD/4BhlAfiGG8T9eGEC03vGSVlkXQAL7Jnk6WxRABnHlOCEKE0BgVvHjb4IRQIQhZc6dmBBAeOpum65tDUC+dAe5idQMQKg0bShj6wlAz8hAm4XPBkBaAaHrfzsEQNUsf5EKyANAI+4tCM9fAEBZF5uIDv7/PyFZD1RrOfY/0K7vnOnu+T8NT4pQOPD2P5txm4uH5fE/xADdqs115j/8y8zGwvXoPw==",
          "dtype": "f8"
         },
         "yaxis": "y"
        },
        {
         "hovertemplate": "Sequenz=10<br>t=%{x}<br>v(t)=%{y}<extra></extra>",
         "legendgroup": "10",
         "line": {
          "color": "#FECB52",
          "dash": "solid"
         },
         "marker": {
          "symbol": "circle"
         },
         "mode": "lines",
         "name": "10",
         "showlegend": true,
         "type": "scattergl",
         "x": {
          "bdata": "AAABAAIAAwAEAAUABgAHAAgACQAKAAsADAANAA4ADwAQABEAEgATABQAFQAWABcAGAAZABoAGwAcAB0AHgAfACAAIQAiACMAJAAlACYAJwAoACkAKgArACwALQAuAC8AMAAxADIAMwA0ADUANgA3ADgAOQA6ADsAPAA9AD4APwBAAEEAQgBDAEQARQBGAEcASABJAEoASwBMAE0ATgBPAFAAUQBSAFMAVABVAFYAVwBYAFkAWgBbAFwAXQBeAF8AYABhAGIAYwBkAGUAZgBnAGgAaQBqAGsAbABtAG4AbwBwAHEAcgBzAHQAdQB2AHcAeAB5AHoAewB8AH0AfgB/AIAAgQCCAIMAhACFAIYAhwCIAIkAigCLAA==",
          "dtype": "i2"
         },
         "xaxis": "x",
         "y": {
          "bdata": "QqzQ1Ka4IECnkUJSuBQgQIj3CnwE/x9AgHa5Pl75H0DLG4bV6wofQNYN7hZE8x5AavdDayX7H0BiKYmEY0IeQICa48kQLR9AruZ1xVSyH0Cucrw7djAeQJCb3WZIUh9AuReFkg+dHkByY6FLtBIeQID2ZG3PKh9Ajr1LJkoEH0DVZL6aC1ofQOxrwi4t9x5A1HuKHzyqH0BOzUmViUMgQLFGvf9BRh9AjTOlUDAnIECJYegxkdUgQIUSdigzMyBAeOKjBuTMIECmgkvsIJMgQPfpZrSZ5SBA2R6UsSX5IEB+SDTia58gQIxsZPc9MyFADgcxnXIqIEBI6FP4a8MgQK+IAa6FfCBAGcPO7n9BIEDy/qrpZ2EfQPe7b5hvER9AMOiS6R2vH0ABj301XTkgQPSNTV5GAiBA+v+ICqtfIEDbO+lebgogQOubgX1BcyBAyICmYKw8IEB1hwVzEtMeQHfn4fbpBR5AuqH8zQg7H0BTGGmbKD0eQFtrb1QgVR1A1OXzeC/9HUDNh11m/94bQGpFwtI+fBtAxJUPSduGG0DWJlU3ckobQC3jNLlc1RxAIXxCAwwhHEDkYYEKRUIcQGhdeTXishtAU9aLtfLoHEBRt8ihAFgdQN/kclPbBB9AUEfzZLAcIEANxZp9r2EgQKO0c6lloCBAAQOLzUo2IEBc2sc0J8EgQJRyKj7RLiFA0kz3waU3IUDc1CYvj8QhQKx1PqpaPCFAKNLz13DRIUAcXm0M64chQIh2oqfphCFAXGzTQzx8IUD7QZyh4OogQCrQaEWm3CBAVSvXdyNJIEDWE6qmEDAgQDQXbHLu1x9AEtzjCJHfH0CiMMEtKx0gQLe/E/0kfB9Avls6yovDH0B0mc4QCmMgQD85o202eyBATepWtAUoIEAXNIwl35YgQJvZTyAq2CBATUD3dVluIECKZinPi2ghQG/WvPGxdSFAU8HUJOboIUAm3XM81qoiQHdRfrYHTiJAKdvSxQ+vIkCQbmfUJLEjQNcQyCwQgCNAQGUFEKVbJEDLCSqkV4EkQHbpNcEkVCVA2cE/C2pcJUBD7Ym6SJIlQBbTLzmD5SVAmm4ZJYWnJkC/NyW5dbsmQI9I9kE6liZAeWMQvM6WJkBNHvNnwTAnQJK5g+3etydAnJnJf4j2J0AT/i1s2YYnQA7kSsUkUCdATou0HtlAJ0BlZOEdMxInQGwnGFhOSydApnyumAmuJkCKGEN83tMmQPGEG2fPTSdAh0C5gOrEJkBu36K/NDgmQCSKkAYr3iVAEbGdf5CnJUAT0PkOaP4lQMrP3tTCiCVA0fki+xVHJUB6IU4VPkQlQAfLckGNYCRAgMJk8269JECNW1iIBR8kQL883WCpViRAC1pTrIHSI0A0CUk6QsMiQC0z6Je1qyJAaUE1Uh83IkAhE0Jp/GMiQMLNi9/4/iFAixsTQojiIEBAqFVO1kEgQMRLe1U+1B9AdhaiAdglH0Cq76Qqs0QeQA==",
          "dtype": "f8"
         },
         "yaxis": "y"
        },
        {
         "hovertemplate": "Sequenz=11<br>t=%{x}<br>v(t)=%{y}<extra></extra>",
         "legendgroup": "11",
         "line": {
          "color": "#636efa",
          "dash": "solid"
         },
         "marker": {
          "symbol": "circle"
         },
         "mode": "lines",
         "name": "11",
         "showlegend": true,
         "type": "scattergl",
         "x": {
          "bdata": "AAABAAIAAwAEAAUABgAHAAgACQAKAAsADAANAA4ADwAQABEAEgATABQAFQAWABcAGAAZABoAGwAcAB0AHgAfACAAIQAiACMAJAAlACYAJwAoACkAKgArACwALQAuAC8AMAAxADIAMwA0ADUANgA3ADgAOQA6ADsAPAA9AD4APwBAAEEAQgBDAEQARQBGAEcASABJAEoASwBMAE0ATgBPAFAAUQBSAFMAVABVAFYAVwBYAFkAWgBbAFwAXQBeAF8AYABhAGIAYwBkAGUAZgBnAGgAaQBqAGsAbABtAG4AbwBwAHEAcgBzAHQAdQB2AHcAeAB5AHoAewB8AH0AfgB/AIAAgQCCAIMAhACFAIYAhwCIAIkAigCLAA==",
          "dtype": "i2"
         },
         "xaxis": "x",
         "y": {
          "bdata": "Lip9JxlRHUBfUmwE6RAdQGuTzZq8tBtAi4qiqW8dG0CI+oRV5A0cQFo7jts1oxpAQCYdQTRwGkCXxeYmBDEaQEIjVbFuXRpAAgDGdj0/G0BnDWfBWx8aQFASN3qFyRlA49hWWjsoGkDgyk87CCcZQA3F5uwNTBlA5zvfsrTiGEC2SW3toJkZQFKHQLc3khpAH9R1MsmvGUCsfZ7a2ewYQIwHATzWVRlAGGrlpqkfGkAx+La1LTAZQD3bVyoV1xhAeT5+IiZSGkBOGz1XquEZQIxfjs9w8RhAUxawWXgxGkAfRJbgU08aQMuhH+HkQRlADeO/pqNoGkCCYAHZcYgaQBUX+STrnhpAl2AiaxT8GUAdGccqAkkZQLd2ZTCpURlAhB++wk6sF0BNbSgjDMYXQI5sz/ghRBlAEFiF69TjGEAiwt7oPM4WQEz93CnopBdA/vHIQELhFkB4C0cjswcWQHSTERAAQxZAo1KK5qgtFUACjJVuSDgVQHs5SjT+mBRAPq5ln6AOFUAxXWXry/MVQNbaonliYRVA5gjERneUE0ApaKhtpZgTQJM/1jlywBNABFBQDpl9FECuM/1qggkVQDiSs5ccghRAXhnnFo1DFkBciadVWToVQAK0e942iRZA2MttuxNWFkDxYL0WVPoYQIaSCl1mWBhAElZMWv3cGUB0B/BojxoZQJzzqvCQpRpAvMstLjYZGkBKgKWixCwaQCSBi8/X9RpA7TrdTJLdGUCT9+DRJQMZQCc/FeJF1BhAYjZq5Qt1GECEM2OAvYgXQFC0gpoFlRdA7PAJw8xGF0Dn1gKUmVUXQFoIfXQ9rRZAQ8vRi4CpFkABDLRaO9EWQHbX3QJ1mRVA7DJwFWMVFUCoRaE9CZIVQFkV6JVYwRVAAV9BaoKlFkC/Tki8OtcWQDjNPuZSKBZA29W93BhlGED4VwC6eJcXQGSTOq26RRhASpEv7FrQGEAKxibhu5kaQMwIHL7WTxpAhCoMkGu6G0BxMyVTMxEdQGzc+eDqNBxAxUKnl5KUHUBLPoQu7cYeQMGVBSWPph1A3BiQ9UlwHkDsHKGQiGEfQLWzwuMlCh9Aokknj/P2H0BMOBlxZ8IfQEoVjqzHBCBAadcx0IRAH0DcgeicjCsgQHv7fzcf0h5AKW2ND5yrH0CEXMTL3Z8fQOPC8rw2RB9AYqzNVUlXHkBVwPGRnYQfQK9TRmoq7B1A+8BJkuvAHkA8FRVhc0ceQCYah6Xc2B1AHSdKfq51HkCUB6I6+6scQMutgA97pRxA53hidtptHECqlrMrsGYdQAjNAoo7uBtA21s26yPzHEDUrLqY+SsbQBeez3gWURtAIITFyw7cGkCMNpN+2DQaQGAjUhN1WhlAEFN1Lo3nGkBaX6KGxgsZQOQS/sBAFRhAevVRFkMEGECG4TSSXVwXQHXfVdtR9BVAsFT/vgW9FkAokRwUo8EUQIQ6OKTk2xNA7/rZhxn8EUDP3sa1BG4QQA==",
          "dtype": "f8"
         },
         "yaxis": "y"
        },
        {
         "hovertemplate": "Sequenz=12<br>t=%{x}<br>v(t)=%{y}<extra></extra>",
         "legendgroup": "12",
         "line": {
          "color": "#EF553B",
          "dash": "solid"
         },
         "marker": {
          "symbol": "circle"
         },
         "mode": "lines",
         "name": "12",
         "showlegend": true,
         "type": "scattergl",
         "x": {
          "bdata": "AAABAAIAAwAEAAUABgAHAAgACQAKAAsADAANAA4ADwAQABEAEgATABQAFQAWABcAGAAZABoAGwAcAB0AHgAfACAAIQAiACMAJAAlACYAJwAoACkAKgArACwALQAuAC8AMAAxADIAMwA0ADUANgA3ADgAOQA6ADsAPAA9AD4APwBAAEEAQgBDAEQARQBGAEcASABJAEoASwBMAE0ATgBPAFAAUQBSAFMAVABVAFYAVwBYAFkAWgBbAFwAXQBeAF8AYABhAGIAYwBkAGUAZgBnAGgAaQBqAGsAbABtAG4AbwBwAHEAcgBzAHQAdQB2AHcAeAB5AHoAewB8AH0AfgB/AIAAgQCCAIMAhACFAIYAhwCIAIkAigCLAA==",
          "dtype": "i2"
         },
         "xaxis": "x",
         "y": {
          "bdata": "qPil77jYJEC8wmVL2F0jQKpl/uPY0yNAWuGEzkvAI0DApvfwIj4kQA1Ose3EkCRARMH6kuODJECdoOMUMV4kQBVimBJhaSRAAsu7WV98JECwxDAfs4gkQAYaUSkF0yNAitlerBAbJEDWbQEB3MgkQDesLQ5MFCVATerOYvGqJEAq87JU1dEkQBBvf7TtpiRApwbe3ZCwJECLC9SbBXUkQBAaVGxUNSRAJN/ZgKyyI0BrUiG7GyYkQMu1vA4IfCNAPwhTO18UI0ANecpHL0sjQI1ZDttRNyNAtS+1PkuDIkDJdJ+/oYoiQCJ0Is/gCyJAwdlV1Am2IUCutg6UUCohQLZSPk2n7SBAdetsEIq2IECIp/qL7xQgQB1JMP7ovh1A7R6UQdpZHUBO+Q8N4agcQEzJRiIkQBxA61GaaPxaGkBEw0bHgEkZQH4f9r5mQRdAypCjABN6F0CNQpfD6IcVQKObvEmVlxVAUaTwfe6oFEDebdDe0K4TQDDLiIRvyhFAUzpsYusoEkCrczWQYZwQQNaVR/q+6RBA2k1V6o8KDkDLhLvsdTYQQMlwHf0SkxBAW41I8TWVEECvS4Ucg30QQNlmmNMB0hFACqJbkZSfEUBOVLwXL98SQNSqHPIgsRRAWPgmLLKUE0BmsyYuKP0UQL/en/En3xVAADZjN9lAFkD+TpdBCCYXQFp3Mzq2yhVAihWaV8eIF0DxY0hJm6gXQFnY+HnPlhdAFLYt/c2JFUCX1e0/Vr0WQJAAmUhTKBZAw9gwKDqcFEB/vIHgs6YUQMGOOK01ohRAGGgvOf85FUCAGzot34YUQF/U1uWYvBNA5Bz5Tk25E0CjnDgasvMSQM+DyiL9KhNAbmmRqquSFEC2725a09ETQO/YoJuTLBNAmLNrLQrjFEBYYrXZaQgUQFYUAKEXchRAmNhefmUAFUAEjTnWaIMUQOxqfgiavxVAlqJzpiO7FUD3j2Ch7soUQGwlF9X+ZRRA8qHICO9gFEAxrgRf67cUQOi+VOUVuhRAPf+rWyZ+FED2dqHqoiYUQGuKKhIzVBNAXtAZ3su8EkBqCUfu+eYSQLfDen4yzxFAZoKL3WkOE0Db+D6iy0IRQKXk9//u4xBA4GyVKqNUEEDvLBn3KkMQQCyX1XOXhw9AzJwDyyAkDED6lnAVW9gJQKM0ILqiRQlAdrQbqT+PCEB8FPnyXXoHQNATqC/SeANAj79PYzIwA0DEeEwUUi4CQGqbEicVkQFAviAhDvDf/j8ZV7bXOhT9P88NQRUBAPY/Z8M1B/vs8j/0eZH9V2v3P+BFSzJ+tPQ/glGkiRlT8z8bzfJBUhv3P3Q8jAnFY/Q/isJuaQ4H7D+BKUYFd/nwPxodsxU+5Os/1cSf2KdF8D8uV4V6IAjiP3/dQdRhyuw/0T/KkQdW5z8jDkqCM6zmP5FumMMBuN4/0hzwpgsL4j8CspCmQW7LP8LVW2fSOuk/iKHuaGbf6z8GgooT7QTyPw==",
          "dtype": "f8"
         },
         "yaxis": "y"
        },
        {
         "hovertemplate": "Sequenz=13<br>t=%{x}<br>v(t)=%{y}<extra></extra>",
         "legendgroup": "13",
         "line": {
          "color": "#00cc96",
          "dash": "solid"
         },
         "marker": {
          "symbol": "circle"
         },
         "mode": "lines",
         "name": "13",
         "showlegend": true,
         "type": "scattergl",
         "x": {
          "bdata": "AAABAAIAAwAEAAUABgAHAAgACQAKAAsADAANAA4ADwAQABEAEgATABQAFQAWABcAGAAZABoAGwAcAB0AHgAfACAAIQAiACMAJAAlACYAJwAoACkAKgArACwALQAuAC8AMAAxADIAMwA0ADUANgA3ADgAOQA6ADsAPAA9AD4APwBAAEEAQgBDAEQARQBGAEcASABJAEoASwBMAE0ATgBPAFAAUQBSAFMAVABVAFYAVwBYAFkAWgBbAFwAXQBeAF8AYABhAGIAYwBkAGUAZgBnAGgAaQBqAGsAbABtAG4AbwBwAHEAcgBzAHQAdQB2AHcAeAB5AHoAewB8AH0AfgB/AIAAgQCCAIMAhACFAIYAhwCIAIkAigCLAA==",
          "dtype": "i2"
         },
         "xaxis": "x",
         "y": {
          "bdata": "aak52xIs7j+Yuapkd0oEQOJwEMY12A1ACdVw5qXcEUBn6v2UII4RQBSd398KRBBAuLsITx0oEEBI0S9X1UsRQBOIaduM7RBAQMWTvR2JEEBDtNJtZMwPQPBPFBuCUxBAV1w+hAzwEEAJR5bhmGUPQN74otTqrQ9A2Ua1M+MjEECPU2ZYfioRQBjvajWwDhBAdYZ1rsJREUA3Whu2rKgRQKig5K1/RhJAVLfM19zNEUAENnyEfVwRQNyR5dgVsg9AaH1SgBtLEECdoANpJfQNQAO7YfX1KBBAPbG2EhhADEA25yCZ3cIOQJ60Ym1CqgtAzQC+Vy4sDEC9F06QlOcLQEg98Ug+nQ1Ayn4qWHLBCEBOEPssLPEGQKKS3uJ3qgZACa+E0ZvlCED4pYLKx6cEQJJ7RWkC+QVANm5GnH0GAkDZKfZturj/Pz9kyxFGU/w/q3p2JG6g/z/+L082FSD3P3gxYVC+t+8/XDOyB6zG9D+DsNg3Qb7vP2lXYSdh2fI/DMwQbRxt+j9T8+pO64b6P2ARkneUwvE/AXFe6f8b8T8ZakPqlFb1P/IR/bSDrvY/h1VbqVX5+z+O4ZBelJQAQBmZm7TH8/0/+seh1cJvAEDu0K6PHJoDQJvfMnkOGgJA0jbPgKQHBUCdhXKwG+AFQEVugxKATQhAXK3zZBg9CkCXE8zTo8MLQH84yKkf8wtAMSLcjuJQDEDkg6Yv12kNQFYM7RnXhw5ArQ/Sh2/jCUCzzhf7Zm0MQCPAeTrwEwlA12tuLThgCECADBN9r2YFQAZE3rEyEQRAtBl0h6RpA0AaD33njML/P3HnIOoKogBAqbVDhjYbAUC8HQWu6TH+P4AvmvF7p/s/gUC8ISvXAUCeMmAZusMDQIY3nzAFxwJAhvtXrE94A0DVpfmMZk4IQBUBRPwmZghASeSyJKGeCUCdVRiA4pYMQJfWpWu1AA1AEunHIVa3DkAkagMN2ngOQCoZKkb7hxBAPxkZ6JgCEkBFoHAzHL0SQOMz+kptaBJAubijimELFEAZkmg8WnkTQIwmSE4xwRRA9tvKtIitFUAzhLU1RGAUQBqm9+OHhBVAPWRSGAYbFkCvg3UA3/cUQLgjl9QYZxRANdj3qwaOFUAQFQr+E+wTQO1PGf/iihNAYyIXBVmdE0DA1iQixEwSQIJcnrp4XxJAhWm1B/XpEUBS0XuTcBkRQKxVNQ5VKRFAFbk358q7EUAt7rJwkSMPQNt93YhZfBBAKuNkh4HlDEAYMHOSpysNQB1kSrZqIwxAt6dxwwrCCkApEl1A5O8IQNoUSMmFbwZA7Kw8o5aACECei+m09hAFQOpyWz5J4QRAj01zwsMiBUAwp/8qhh4BQKW8HCn86QBAWET+4N1B/T8LbhLnzYL4PyQYA9iuSvg/xO17TJSh+T8+pPs/DEX0P/WUmBMRh/c/HM1mIn8N8z81waS4PDP0P8J0BelHiPA/GnWcU4Gn6j8p5Tfj2nfuPw==",
          "dtype": "f8"
         },
         "yaxis": "y"
        },
        {
         "hovertemplate": "Sequenz=14<br>t=%{x}<br>v(t)=%{y}<extra></extra>",
         "legendgroup": "14",
         "line": {
          "color": "#ab63fa",
          "dash": "solid"
         },
         "marker": {
          "symbol": "circle"
         },
         "mode": "lines",
         "name": "14",
         "showlegend": true,
         "type": "scattergl",
         "x": {
          "bdata": "AAABAAIAAwAEAAUABgAHAAgACQAKAAsADAANAA4ADwAQABEAEgATABQAFQAWABcAGAAZABoAGwAcAB0AHgAfACAAIQAiACMAJAAlACYAJwAoACkAKgArACwALQAuAC8AMAAxADIAMwA0ADUANgA3ADgAOQA6ADsAPAA9AD4APwBAAEEAQgBDAEQARQBGAEcASABJAEoASwBMAE0ATgBPAFAAUQBSAFMAVABVAFYAVwBYAFkAWgBbAFwAXQBeAF8AYABhAGIAYwBkAGUAZgBnAGgAaQBqAGsAbABtAG4AbwBwAHEAcgBzAHQAdQB2AHcAeAB5AHoAewB8AH0AfgB/AIAAgQCCAIMAhACFAIYAhwCIAIkAigCLAA==",
          "dtype": "i2"
         },
         "xaxis": "x",
         "y": {
          "bdata": "SvLXX7TLIEBkVJGUe70eQO/oFzGQFx9Aeoe8WyD6HkAGLGt8JmAeQCLJ+1/Veh9AVsxhrgbZHkBbAfaXX40fQJ2KlzGMeB5A0QsBsQnxHUC5VJAnllEfQLahb9fXvR1AvhnrUesZHUCDp6Ec9GYeQESai369wBxA/7tu07ETHUBhKbvNS9kdQNNSqqxBjBtAoA+ru9QkHUB8+kv5A+YbQPx+54jerRpAEtVoF9QlGkAKBZna03wZQKOEfSDY4RpArIrUffiNGUCDwwZVOeYZQBYVP6rWaBhAW8d+3LQ+GEBSo6xlCKEYQE1j/nDqVxZAXWcoSmXSFUDvIBiex/YUQJPnuNX5xBVAM96Y7LSAFEAaI1scBYUSQH/tbFgESRFAmEB5iWoCEkDHIb0BvOsQQEFN53VC8gtA8lWHnOn+C0DB5CVF5x0HQGDgHas5MgVAgCkfAri9A0D0Z50UiFH6P/pDWHfCQf8/4e9Co29C+j+NU0l0eLv9P9kbjOhaV/c/os9/Kwnd5j+Lnj4Yg3b0P3RraFt7jfY//lfoyeoW9j+7iKJIKlPxPxvAySMjuvc/DrEGffDX8j+4SQPE7Tj7PxoVuopy1/0/nLy2YOKgAUAkruIBVYAGQC4t79AbOQlA5t5eQiGECEDXAZO4nGUOQD05XMIilwxA4HT94oY6DkAN1Us+sy0QQPVfODZ/cBJAS1kMmCPrEkBeC37q/aoRQMC2c9/6ARJANSA6QrinE0ARAF7slxsVQHekmnEvwhRA9gc9XB/dFEBUYvIB2LQUQMlcUlBbUBZABT3YwE8aFUA17DZlAx0WQKBeQrzBPRZA9316jmmzFkDtnb4bMeIXQJU9aYBjERhAElxQiFgJGUDu92YAhEQYQLptEXBO5RlAXHJiP9iVGkB3veoUMK8bQGmf3T29FRtAx91fnAtrHEBHzUKl3uUcQA4vuMQdiR5A8rt0QtOaH0Ae17Rv5LgfQNhI+kktgiBAgXWi+dbcIED1HB+oHoghQM2dnyuK2iFA++956UAiIkBcNX2qe+AhQCuhAv0zuyJAVOx+CY7RIkDz4bdGoAgjQFA6bOra8yJARyycZEHEI0BPVdjxZJsjQFL/QDVUTyNAU9b+H2joI0B3ysMjZVMjQOT5U5W15CNABav0JVGUI0DOTXk6SZwjQKydX/OgPyNAkivyNIf3IkABn66YEFgjQFveoHOcliJAOrlVpEGEIkAOWv9nTG8iQOv/0D3cVCJAN4r/4eqjIkDJeNsphO8hQLB+LdKHPSJALcixaArxIUCKsfetFdAhQPElmnUlviFAqCqcYaBrIUAuLP6xNt0gQCdBXj2fjCBAcWg+M+bpIECTWBgR+scgQOgZfSAH8h9ATgf9vdsOH0DXiXOsu28fQNZFcbuaQh9A/ZAAxCWMHUCopenvdvkdQG9xUOgN7BtAC/D/xltEHED/tj2OsakaQPPxxluDlhpAiiQJ8JbwGUC3RTD6aRMZQA==",
          "dtype": "f8"
         },
         "yaxis": "y"
        },
        {
         "hovertemplate": "Sequenz=15<br>t=%{x}<br>v(t)=%{y}<extra></extra>",
         "legendgroup": "15",
         "line": {
          "color": "#FFA15A",
          "dash": "solid"
         },
         "marker": {
          "symbol": "circle"
         },
         "mode": "lines",
         "name": "15",
         "showlegend": true,
         "type": "scattergl",
         "x": {
          "bdata": "AAABAAIAAwAEAAUABgAHAAgACQAKAAsADAANAA4ADwAQABEAEgATABQAFQAWABcAGAAZABoAGwAcAB0AHgAfACAAIQAiACMAJAAlACYAJwAoACkAKgArACwALQAuAC8AMAAxADIAMwA0ADUANgA3ADgAOQA6ADsAPAA9AD4APwBAAEEAQgBDAEQARQBGAEcASABJAEoASwBMAE0ATgBPAFAAUQBSAFMAVABVAFYAVwBYAFkAWgBbAFwAXQBeAF8AYABhAGIAYwBkAGUAZgBnAGgAaQBqAGsAbABtAG4AbwBwAHEAcgBzAHQAdQB2AHcAeAB5AHoAewB8AH0AfgB/AIAAgQCCAIMAhACFAIYAhwCIAIkAigCLAA==",
          "dtype": "i2"
         },
         "xaxis": "x",
         "y": {
          "bdata": "2wR8UTFmI0DYAPvUbAwjQD7NJOkIzSJAro1QMteQIkCK1NO71FAjQFMZK9UZgiJANWta4GBzIkDgDghBTN0hQPbi5dq23CFA0hdKe47CIUDeiJgTAUkhQGoGlwmVmSFANMNemjrzIEAPfY/bxGQgQHWJTjzIaSBAA2jbxx8TIEBfyZg+4mweQMQmEbKllx5AM0R1oMsBHkDb5L0DLfodQPsbf3Ul1RxA7lFbcqoiHEC1dlsxoVAbQA/5lM1U9BpAIL/JjXBvGkCXcJ2cnvcaQBBNbr86LxpAcDI+fQpAGUBjb/Ty/y0ZQK3IEXPtbBhAbkmffFuVGEAkMSmaFQsZQOoxweuBFhdA/vBEs/e1F0Cm6goykrwXQOVHB/l7/RZA8CoHt8djF0DUJ/ZJ6PYXQM47RangeBdAcaarX3bWFkAt0fZ05LEWQJAW7dvnEhZAik9rz49/FUBLHO0X6sUUQKuJaakyJxZAYmhtUnVSFUCkR5zMWr8VQCB6UrgM6BNAAd/rAU/3E0BlDJJFYu4UQFMmmH0lBRRAFTDmaqZJFEAvDAAd+EwTQFug7OETtBNATr7QUzybE0D5A6njPWAUQCp9dc+2ohNAPhkfi9FiE0CtKI0dNz8TQGeTIMy+xhRAX32I+iY5FEALEPXC+kcUQN62LyctWRNA75uzbJevFEDhHXycWmwUQNNWTYBsKhVAsE2gX38tFEArv97xQtMUQBS8ApG6HxNAaITp2wOwE0BlZa64iYUUQBUWcvu2LhNAndfNaSz5E0C2c6sxHvwRQAmD/Ih33xFAeavWtAfpE0C5Zb6CmboTQJ348IDC9xJAtHbHOKjgEkCkjrTcaEgUQPQ2+RnS5xNA/N5uGzVGFEAfrrwOeuoVQJA2c0zn4hZAgdvqmDbLFkCc3IGvIYoXQFu5vrlE2BlARF2UAjDsGUDVVdFR0OMaQL9ncyd3rxtAX4g/G04GHUD7qixl3BgeQMVgDT+5AyBAuTS2khaPIEDdpy1KKnYgQHVGvRwp9iBAlKN7plGzIUBK8z0g5LEhQNA31yQBLSJAs5PGd3YgI0DXY5dEh0QjQLxTa73U4iJAkFZaUcuUI0A33qz9XuojQCAd/BXljyNAi0SZzBsPJECYPAoDPxwkQG7l3SYc5yRAiOviz55IJEAUxQu5rhgkQJbclde0cSRABv5D4JPHJECaau6fCe8kQBXLTpGz/SNAX1oKEElvJEBu+O/saO8jQBZbExDPqCRAdXh0Dy84JEDh3iqGA9IjQCvtOsnPFyRAQN8uQ/5vI0CK9I10L5gjQLcFBgepGyNAEjwLDlxYI0BG492HDrkjQBhbOzDxhyJA05WodkM7I0CZYffKPdciQHratwTb6yFACjJIXVofIkDNOvuOlMEhQD/X+J99aCFA4sUvxKChIEACAB2p0Y8gQJnN9lnvhh9AInCvWsXXHkDeB9XZOModQCBtPAF34RpAWLJUJ9hLF0CS2xWj24sUQA==",
          "dtype": "f8"
         },
         "yaxis": "y"
        },
        {
         "hovertemplate": "Sequenz=16<br>t=%{x}<br>v(t)=%{y}<extra></extra>",
         "legendgroup": "16",
         "line": {
          "color": "#19d3f3",
          "dash": "solid"
         },
         "marker": {
          "symbol": "circle"
         },
         "mode": "lines",
         "name": "16",
         "showlegend": true,
         "type": "scattergl",
         "x": {
          "bdata": "AAABAAIAAwAEAAUABgAHAAgACQAKAAsADAANAA4ADwAQABEAEgATABQAFQAWABcAGAAZABoAGwAcAB0AHgAfACAAIQAiACMAJAAlACYAJwAoACkAKgArACwALQAuAC8AMAAxADIAMwA0ADUANgA3ADgAOQA6ADsAPAA9AD4APwBAAEEAQgBDAEQARQBGAEcASABJAEoASwBMAE0ATgBPAFAAUQBSAFMAVABVAFYAVwBYAFkAWgBbAFwAXQBeAF8AYABhAGIAYwBkAGUAZgBnAGgAaQBqAGsAbABtAG4AbwBwAHEAcgBzAHQAdQB2AHcAeAB5AHoAewB8AH0AfgB/AIAAgQCCAIMAhACFAIYAhwCIAIkAigCLAA==",
          "dtype": "i2"
         },
         "xaxis": "x",
         "y": {
          "bdata": "Wqz2Sn5sIkC8ypgeylIhQPq+hBOmPiFAKt3Oa9BpIUBr7/dad3YhQMXcAA1F/yFAn718JUjQIUA764REt7giQH4GcjinRyNAeNHOkgO9IkA7GqRXoywjQJj3gVB+JiNA+yuj0YhBJECx/hrGnAQkQAgCabFBcCRA6dYFGVZJJEAX6aIJS0skQKpwts37RSRALIZUEmM6JUCLLGB1i+UkQN5bYvPQciRA1ekyFBCMJEC53muUkCAlQBmRzvtbbyVAHAFKiKWYJUCVgg0cEcEkQFMGQvksFyVAbca4qvskJUDHPdfhJHYkQCdoi3JLhiRA7K9V2sq1I0DjDJaEKOIjQJi9oR/d3SNAebOXB0RrI0Cdl+ztT5oiQPwwwPSxtSJAk2F+s+nSIUBQTdNxotMhQMLe37NSTCFADYnM55cAIEDXQ68FJLsfQErg2azwWB9AIA5/a6J7HUBnnksaXFccQLlS+0RJLBpAKqREs7xCGUAkWks/vLIYQPVBinRPPRhAoSCPcuUbFkAhwDsLMscXQOmardXxTRZAZnu0ZVo6GEBp1vDLDh8YQLvIcuu6lRhAt8VERaDrGECoUhI5Uf4ZQFwqeIjUfhlAwWF/1XHQGkCPNyO715EcQJ68sEAmQxxAxxwYs8eyHECLkPD444keQHyoKG94OSBAgygRshCSIEDF9+gBBgQgQGStxrs3RSBAX2ims3eDIEDXM9BLNU0gQN9CepuBgCBAxD8XTEB5IEB6RYx7QI8gQFwd6OYiXSBANOpn/0F0IEASmF9TMEkgQPJ51iKYKCBAHZcmeJZSIEBB2zrTChQgQKsCzhvkISBAWKc2UribHkADJ4Q9QZQeQAMitHfCfx9Ajbr/Jh3sH0BL+HkOCcIfQMEPt35X+B5A2vfnq5/nH0A3ZjurBPofQDoxSPKQkx9AZL3LKNccIEBBNmKBiFcgQDEnS7p9XSBAekEyxlLxIEDiaQmaioQhQHXnf6BT/SFAeBT3oLO1IUDuOrnM1YoiQKnHuPty6CJAWyS0khIPI0DWIZG/DS4jQORWBckzaCNA03hPoJLtI0DCYl8zVVojQCqEaFXsmSNAq17JHXa9I0BB2QU7OOYjQIhJqUfd8CNA4M1If5jgIkBwrm7z9qIjQCJFUqjUqyJA2vAPIf5DI0AjhQogZEUiQENgSYpRUiJAxBQUYnmwIUBcdkaD8REiQMY2ByW+NCFAwZennSffIEBynpikD7cgQNUHNHKgByFAKuGrqioBIUCPpzt3vbsfQElrwP6cKSBAPcHs0eEHIEAXC8z7M+EeQPkj3G3OZB5Aglsx61/WHUBzY9P07YYeQAEJEIVH5RxAsfgaKLZuHUA9+NS+oSAcQIqHgL8iwBxAnuuanTgHG0CRuvRs9YgbQKKUGxQc4BlAiSEpRP/QGkAwswGXuGMaQKCBFeniSRpAzlWZcABgGEDdGnbwK0sZQNK9esZ15hdAXRihoaGrGEDgmj+hqGgYQA==",
          "dtype": "f8"
         },
         "yaxis": "y"
        },
        {
         "hovertemplate": "Sequenz=17<br>t=%{x}<br>v(t)=%{y}<extra></extra>",
         "legendgroup": "17",
         "line": {
          "color": "#FF6692",
          "dash": "solid"
         },
         "marker": {
          "symbol": "circle"
         },
         "mode": "lines",
         "name": "17",
         "showlegend": true,
         "type": "scattergl",
         "x": {
          "bdata": "AAABAAIAAwAEAAUABgAHAAgACQAKAAsADAANAA4ADwAQABEAEgATABQAFQAWABcAGAAZABoAGwAcAB0AHgAfACAAIQAiACMAJAAlACYAJwAoACkAKgArACwALQAuAC8AMAAxADIAMwA0ADUANgA3ADgAOQA6ADsAPAA9AD4APwBAAEEAQgBDAEQARQBGAEcASABJAEoASwBMAE0ATgBPAFAAUQBSAFMAVABVAFYAVwBYAFkAWgBbAFwAXQBeAF8AYABhAGIAYwBkAGUAZgBnAGgAaQBqAGsAbABtAG4AbwBwAHEAcgBzAHQAdQB2AHcAeAB5AHoAewB8AH0AfgB/AIAAgQCCAIMAhACFAIYAhwCIAIkAigCLAA==",
          "dtype": "i2"
         },
         "xaxis": "x",
         "y": {
          "bdata": "MLSdjr10JUCmudfXjEkkQOkdHdOqciRAanZE0507JEBkJC9bE+AkQDsGEiRDTyRALBhnM7W8JEBfdpU4WEskQHSimBHnUCRAHJukHHSFJEDpXgiLOTElQD6kgEIXVSVA6Fm2eN+dJEB88JS25u4kQOtr1XdK+yRA7UUQxfmmJUApJErsLJglQKIP0Mw0nSVAG0LJylo2JUAjj3FxBtAlQGP4eoPwRiVAoTq85HACJUCe3DuvP10lQJ8sxCG9WCVAVAUJCQ1jJUB4N1T/9QglQBTz7Gam+SRA1H4gz92fJECeabKpVdojQD/P3XKvyCNAcrHrwOvCI0BQvMcyPe4iQEdganO+9CJApek2ZO7tIkCguX7e9jYiQIsgXWlvCCFApU40UAbPIECSXOQBUqUfQDT5NaULAh9A8x5Rfy/jHEBJtskPqg0cQFCm3EAPDRpA4LYitYI5GEByMLQifKwWQD2gwZ75nRRAHhfwFvB8E0DzC/AVNQcQQDNbpqmIuRBAuk4iJOCIC0DgDikaflsHQJ6sPw92sQhAiQz4ZUz4CUCuAb+uzNIIQGDgJGwgXAZAM7cAG/ndCEDnIMiVemgJQM7SRNr2GwtAmId49DifDkCX0FGdOl8RQKU6vpfXmBJA9KJDN8DeE0B7IzxlVFgVQBlpzWcDJxVA+phh3Y9CFkBXP+rDN4EWQLWUSksO8RlAbotCar63GkCu9TBIYhobQASNxCZozxxAisbz6NY+HECptcrMkwMdQEDJ9LIi4xxAPfI7t0qeG0Dc0R5aQ3IdQAE/Lji2hRxARgBZvDBlGkD0dZttLlUaQB9mwWB08BlAou5EB+F+GkC4l0HfcTIZQDwOxmcyBxhAnNyaMlNsGUC4kF1sRogZQJIESl3AjBhAygb9LipCGUCC6kyy5z0aQMq0ylf4vhpA4EOl1KzKGkC+rhDIpUsbQM4w4exeExtAkNq4hZNuHED0oBt+2lgdQKaZTUoMyx9AoEmIxT7vHkBrLbNCv6UfQA7C6PxKASFAuQLbe3JpIUCaVloPnyohQBeQwVc5CyJALRgFVIF4IkAj6k+dcgwjQIXEbI8fiSNAz52DUt01I0AGUfKEYL8jQIYCq06IBCRACCoWF4XJI0CiJpJzIFwkQDVkx0q49iNAEJDqpjCoJED4Pw2KVDYkQGROraZl8CRAk/t9u774I0A6Fmii1P0jQHg3vgN95CNA/QstHJuhI0AOlbo8FdQjQGSwOnomRCNAvXzBa/dMI0C0h4il8NsiQOSUqIB/iyJAjyOVXzmTIUDNbF9x5OkhQD7gt721JiFA/9bAdYaKIEDcmwu5YI4fQD21FLb6eh9A0nRGVRPoHEAmzlNgNNEcQFTpgJK63BlAQy9otDWnGEBtJ4bPVfYXQPdoCvZNPRZAV4U1aBqXFECBiHH0xIcRQLit4tOTgQ9Apy/+UxVvDUD9yQ642vQKQEdzAZIecQZADXXQyn1BAkB410UHd/YBQA==",
          "dtype": "f8"
         },
         "yaxis": "y"
        },
        {
         "hovertemplate": "Sequenz=18<br>t=%{x}<br>v(t)=%{y}<extra></extra>",
         "legendgroup": "18",
         "line": {
          "color": "#B6E880",
          "dash": "solid"
         },
         "marker": {
          "symbol": "circle"
         },
         "mode": "lines",
         "name": "18",
         "showlegend": true,
         "type": "scattergl",
         "x": {
          "bdata": "AAABAAIAAwAEAAUABgAHAAgACQAKAAsADAANAA4ADwAQABEAEgATABQAFQAWABcAGAAZABoAGwAcAB0AHgAfACAAIQAiACMAJAAlACYAJwAoACkAKgArACwALQAuAC8AMAAxADIAMwA0ADUANgA3ADgAOQA6ADsAPAA9AD4APwBAAEEAQgBDAEQARQBGAEcASABJAEoASwBMAE0ATgBPAFAAUQBSAFMAVABVAFYAVwBYAFkAWgBbAFwAXQBeAF8AYABhAGIAYwBkAGUAZgBnAGgAaQBqAGsAbABtAG4AbwBwAHEAcgBzAHQAdQB2AHcAeAB5AHoAewB8AH0AfgB/AIAAgQCCAIMAhACFAIYAhwCIAIkAigCLAA==",
          "dtype": "i2"
         },
         "xaxis": "x",
         "y": {
          "bdata": "YMJ6weE5BkB7USr2t/0SQFmkiW5gxBFAl/zU36JKFEDFDoqGKDsVQHqkgeGjGhVATLIDLE+NFkBkVQNYTMgWQFGUFLoVIxhAYAaef8TbF0BvOLrHkoAYQKvuipJZJxpAnnXbB4LJG0BljY7042IaQPa4r6QxwRxAVePYuysLHUDjr/Y7d1wcQHIm3hip1xxAQdwePCUwHkBK5Z70wtkdQO9h0P2YsR1A0OU+ytbhHkBXFl/7o2sdQBYrMAFZ9x1ABkYirgFlHUAw8YCi/4AeQOJbOK+4+x1ATrUQWA6mHUAMrPnUuUgeQBd8mHv7yxxAdX3Vw53GHUBURB+IltQcQO2zrheR3xtAwT+Zyb7YHED5puWI07IbQN0BI7sSNBtA+HbT6AbkGkAAXqoBCaoaQC7jrN//8hhAQUusKPw/GkCL3yHxPxMYQE3fhKssahhARBwja5t1GEAo3ekgG1EYQOoOIHMyTBdADAps7qJaF0A94H0izT4YQNfTkvauZBdAJP8zk35dF0DXfyF1B8YWQHKEZUTCdRZA631VpY2sFkAVdnVeTgwWQCB+bKdpnRZATdqwK2kbFkB5c4zRkUkXQGzq79ks7hdAwtRfGAsVGEBDNFt13xAYQPV0AbH9jRhAl3pvWER4GEADxfdYmUMaQPfmYKzupRlA8fASC1NKG0AHWJd8qHIbQOaKqrgO/hpAHDuqv7ZhGkBDlBHaMS0bQGfqpRfp+RtAL+3AYmPaG0DFadS1vA4bQOco+ReIkRlADYJpY2aKGkDENDx65vYZQPpOpvZu4RlAB/Df8JmyGEDA3E2qZpIYQBW10EcjqBdAn3Q8DOosF0Ciij5g4uEXQI5T2Zp/8xdAC6q8ROdqF0AML4URZ6QYQEwsJ936mRdARgmQJiP4GECgnIW1nggZQO8CGEM1ZBlAHScVKMVuGUAT4bfNn00aQGwmJg7VkxpAiDWW/y2xGUAShzxIdjkaQIdoTxo5XBtALT3+0W8xG0C77At1wHEcQCkDY1SPoRtAupnlVsGkG0BheIU6iBccQEOI81U9qxtAwOjkSv/fHEAcHPQgjXIcQHfxKFmrEBtACpfY9NDpGkDcoflCQqgaQHX5tdN3ABtA2fAGZWZoGkBgRDvAevEZQAGgj8o0RRhAEzdtkZO4GEDeBZuivCgXQI0YKYUx4RZA2zdHB2ywFUBCrUCaOdQVQFkQfPcR0xRAedYNIdxFFUD5Z052vv0TQMb/bJhKoRJAIps8XUGkEkAWKmKmzwYSQFG6bPewLRJA63CVAq/EEEDzKc58vtsQQNJH/vb8LA5AIy6uTPATDUAjA13qztEOQP9eOTI4eA1A6134l+8zCkAjYzqOSrsIQNWlM+hjUAZApMozIz2LB0DJ9FpqY+AEQGfuNMBFOAVA6NkEphdvAkAdQzdBLF0AQMJYFpS3N/s/IGlv/Niz9T/W3ehkfcHxP/rs3ZAZkec/wKvE6E445z8Y23qWOwLaPw==",
          "dtype": "f8"
         },
         "yaxis": "y"
        },
        {
         "hovertemplate": "Sequenz=19<br>t=%{x}<br>v(t)=%{y}<extra></extra>",
         "legendgroup": "19",
         "line": {
          "color": "#FF97FF",
          "dash": "solid"
         },
         "marker": {
          "symbol": "circle"
         },
         "mode": "lines",
         "name": "19",
         "showlegend": true,
         "type": "scattergl",
         "x": {
          "bdata": "AAABAAIAAwAEAAUABgAHAAgACQAKAAsADAANAA4ADwAQABEAEgATABQAFQAWABcAGAAZABoAGwAcAB0AHgAfACAAIQAiACMAJAAlACYAJwAoACkAKgArACwALQAuAC8AMAAxADIAMwA0ADUANgA3ADgAOQA6ADsAPAA9AD4APwBAAEEAQgBDAEQARQBGAEcASABJAEoASwBMAE0ATgBPAFAAUQBSAFMAVABVAFYAVwBYAFkAWgBbAFwAXQBeAF8AYABhAGIAYwBkAGUAZgBnAGgAaQBqAGsAbABtAG4AbwBwAHEAcgBzAHQAdQB2AHcAeAB5AHoAewB8AH0AfgB/AIAAgQCCAIMAhACFAIYAhwCIAIkAigCLAA==",
          "dtype": "i2"
         },
         "xaxis": "x",
         "y": {
          "bdata": "zInbLNQzG0CUtr5HUgsdQAZfzLZxHx1AL1tVohUtHkCYUd6rZaQdQNj5E8t6QB9A5PrMT6mzHkAzlUNoOmAfQPON4dtdNyBAyOu3l+lqIEBNg9HL11QgQAnrI0yQ1yBAdKIto1p7IEDSRdLSpYUhQEHXyL6leCFAPjdpbC+BIUAAwfiogW8hQAHh7jpWNSJA/cC7Vz4FIkC6HbMl8lsiQL7p5Y01uCJAynVCiHVLIkBZuZ6SrckiQDBT/rV17iJAM6HH1tceIkBTyLDC7MsiQCzdahtI2CJAk82gvvbIIUB7lHvmNrshQOFtxwJXUiJA4mWI/oy9IUAEyejH29ohQOVVJrRmSiFAFYLLIBzwIEAuNSlYboAgQPa/1u/0gCBAA0dtb5VOIEApi2ESgXsfQP6OHnJ+0h1ArjcJxEhxHUC50kmq/OkbQIfv8JxsKBtAg5gs4Yi+GkDjNvrBVlEZQEI8VpcM5xhAYAjYeoO3GED2N0zmHKYWQNcdlb6RXBZAM9654WFRFkDrmE1hm6MVQCnbj7RFXBRAxBt0RYWpFEBarlj9/OMWQJNjBSYlrxZAcinxkuPPFUCvKEg8wNwVQFgkKxjTChhAtOaIH8lWGEDMvg2lASEZQGU1w1EakhlAd9C458OEG0BxzaD4CEAbQPLv0ReGKhxA8iGSam1mHUCGhYTeS3YdQEe+iTDrcx5AuKDLIvm8HkAOc/GpdOgfQAD7dRJhuh9ALPPHNIPoHkAmwGkmBtodQC66QTRfsR5Abvnx4OhFHkCnWkAVomQcQKXX1Mqk+BtAaEkTvv+OG0DYo50pqfkZQLRIdOVihBpASzttTMi7GECZ6gIRUfkWQLkkFtxwChdAhIGPeDIBFkBsLMQhHYMUQPok5CR1+BNA//FcQg61E0Af5IYMahcUQMPjSwCKPxRAEByWf5eAE0ANzLDkhOcTQFkdxPlCxxNA1gJTbnAZFUAvltWcFv0VQGtNz+YfSBZAnyFSVaI+FkCOcdgC8yUXQFVnHDXlIBdA6r41GDzTF0A38UQ+srgXQNteg2SNuBlAQEGYM7g0GEDBhokxzM8ZQO9WhOuusBpAyC+wNlSpGkCIJIPiyhsaQJLRkCtRshpAhVOLDL8EGkCH8uMQIlUZQF4CqF2HsxhA3pkoYgB5GEDUkkDW/CkYQEVBLN8yjBdA9iDQkKBVFkDONohuwHsWQNTNWm/kSRVAHl1gGqfXFUDVWHBN2EoTQOxxeJCqqBNAYMo5BFgGE0DgYMx+Bv4QQLcMrH9dNRBA1OvLaO39D0ADI61MXQ4PQNBCnyWUOQ9ABLkhA/swDkALwHbM+wMLQDrvelfO8wdAAoXiKDq2CUBLE+m0EgsHQPZRMc7GpARAcBEKKptNA0CQjDnRAFMDQAflRqwsNv4/B+83qg4h/j+kI0c2Xc31PzFsKOnSQPY/omqG7kAj7D8l2V31+RLyP6gVw14Lg/I/vsHF6chS8j/ig0gh34PoPw==",
          "dtype": "f8"
         },
         "yaxis": "y"
        },
        {
         "hovertemplate": "Sequenz=20<br>t=%{x}<br>v(t)=%{y}<extra></extra>",
         "legendgroup": "20",
         "line": {
          "color": "#FECB52",
          "dash": "solid"
         },
         "marker": {
          "symbol": "circle"
         },
         "mode": "lines",
         "name": "20",
         "showlegend": true,
         "type": "scattergl",
         "x": {
          "bdata": "AAABAAIAAwAEAAUABgAHAAgACQAKAAsADAANAA4ADwAQABEAEgATABQAFQAWABcAGAAZABoAGwAcAB0AHgAfACAAIQAiACMAJAAlACYAJwAoACkAKgArACwALQAuAC8AMAAxADIAMwA0ADUANgA3ADgAOQA6ADsAPAA9AD4APwBAAEEAQgBDAEQARQBGAEcASABJAEoASwBMAE0ATgBPAFAAUQBSAFMAVABVAFYAVwBYAFkAWgBbAFwAXQBeAF8AYABhAGIAYwBkAGUAZgBnAGgAaQBqAGsAbABtAG4AbwBwAHEAcgBzAHQAdQB2AHcAeAB5AHoAewB8AH0AfgB/AIAAgQCCAIMAhACFAIYAhwCIAIkAigCLAA==",
          "dtype": "i2"
         },
         "xaxis": "x",
         "y": {
          "bdata": "OR8tXcTNGUB73N5PTTwaQCqhVS512BpAfU5WlkAvGkDa10vKGDIaQDvs2wdVixpAZWKNS+4hGkCY2GRTHVcaQFeGedpLkBpA2t1FuMSSGkBTYFBhO58aQAg63FbfsBpAGTw92a/1GUB5hqFvKpAaQA5eHNw7zRpAT9MSQaXGGkANBtD1ohcbQDguf7C0zhpAwBwBqWs8GkDoseqFhuoZQFuw+kpxThlA5AXmOx6tGUCOwswThqYYQHGPyZjTOhpABr0YpfngGUCLPdIctO0YQDHyLV98vxdA74GWCvIBGEBUv285H/UXQAXGwgdLXhdAfIt67IijF0C20lzzAXgXQIYxe8lRWRdAfGG0vSSNFkAqj7g6kAEWQFVBxVwK2RVAK5GjwNCaFUAfoUwSlhkVQLJH3J3l4hNAyjkDCL67E0Ba2v3LY08UQKuU9QcIFhNAOMSEJhFlE0AbfP9lpzASQKywXg1J8RFANuzz3OkgEEBprKD5l1cPQDAoXzgMFQ9ASqRx16tnD0AfTDcXwmMPQNPrHc78Tg1AoKC2gw20C0CNBPHkCx8OQGZymEEjTgxAgQf7JckdC0CCLCS3tmgNQM9/WjBp6QxAoKkv3riyDEDXHs4EOHoNQGfbkb+5wg9A4uHYslWvDUB4+Wwd8Y0PQPMPsKyW3RBA8judUi3QD0DkxcujPokPQKT1oz2ClhFARaPl/xxkD0D+BapMROAOQIYb0vxApA5AdOyfN6jJDkDbsrKx5Y4OQJuX4WnZVhBAuAmkiZEyEEAogJxX/noNQPo0h4nABA9AqEWZGA3iDkD92+KzLTINQG7uMYPRBg5AQhjQxcucDkDmQjz4ZzAPQA6I6PgsxBBAPrsfBx9sEUD10qz9iV0RQJb1mWkfIhFAN12vQmmLEUB9PkP7Rc8SQI/wYgF6fRFA9eeGngsrEkBnW/24x08TQAYJkTrwShNARdN6SaMjE0CZYr1k+oQTQPs18nbJhRRAVZrke5D1E0BO72rw0HwVQPd5IjYBMxVADAFAWJRYFUCYP1EJKNsUQBhhlrLxXRVA18aywQuFFUCtI/InZf0VQI0Nn/NG/xRANET73gf1FEDvWeySfmwUQCzQA7fT0RRAcL0iyvI2FkDLMNbXq4YUQPouSDhUghVAD9v7ND1aFUAM21oxUagVQHPKtawh9BVAjlAtQ8O1FkBeZbsq6vAVQGn1K/tT7xZA6coUL382GEBRHXeyadoZQPC+TFx6PhpAg6LAdDbLGUBkg/BoXasZQK6klhmTEBtAzxXKcbcxG0ACZK8TMe4ZQBvyuwr8RRpA15ravxU6G0COCZ86yvIZQO0Lv5k+ZRpA3BXGArrdGkBOfz40KEQZQFO5Ai9wdxlAuWRRXxd/GUA8OJ35aXUYQLt+rE7N2RhA4IrNZ78kGEAtzVxqX4kYQBxiwKpLHhdAXarJJQSwF0C807dXsj8YQOQWT3l28RZAnBbqdAbTFkCEHfuoUp8WQA==",
          "dtype": "f8"
         },
         "yaxis": "y"
        },
        {
         "hovertemplate": "Sequenz=21<br>t=%{x}<br>v(t)=%{y}<extra></extra>",
         "legendgroup": "21",
         "line": {
          "color": "#636efa",
          "dash": "solid"
         },
         "marker": {
          "symbol": "circle"
         },
         "mode": "lines",
         "name": "21",
         "showlegend": true,
         "type": "scattergl",
         "x": {
          "bdata": "AAABAAIAAwAEAAUABgAHAAgACQAKAAsADAANAA4ADwAQABEAEgATABQAFQAWABcAGAAZABoAGwAcAB0AHgAfACAAIQAiACMAJAAlACYAJwAoACkAKgArACwALQAuAC8AMAAxADIAMwA0ADUANgA3ADgAOQA6ADsAPAA9AD4APwBAAEEAQgBDAEQARQBGAEcASABJAEoASwBMAE0ATgBPAFAAUQBSAFMAVABVAFYAVwBYAFkAWgBbAFwAXQBeAF8AYABhAGIAYwBkAGUAZgBnAGgAaQBqAGsAbABtAG4AbwBwAHEAcgBzAHQAdQB2AHcAeAB5AHoAewB8AH0AfgB/AIAAgQCCAIMAhACFAIYAhwCIAIkAigCLAA==",
          "dtype": "i2"
         },
         "xaxis": "x",
         "y": {
          "bdata": "LFLxJPPjJEDKh30UFC0kQPqQoFla9iNAB0RP8Tt3JECsOlQyIGAkQP00ybq9UyRAzl2FQnZ9JECMl1v7HCMkQGUexdLDvSRA2bEGx99tJEB5cQowwgAlQN06GfoqECVAWlgJ6b7sJEDIw3stfqYkQAcs2M+9sCRAPqPDw/70JEA2rKyHIqMkQBKLU6jMrSRAyz/N/SP2JEAaqAPAlr8kQJojEIAnDiVAzND+E9MxJECOlHeacP4kQJer81MJ8CRAjDf6cjT3I0AiRRwyrmckQC77lrf9zyNA6f7hMex0I0AzfaRVt7MjQNe4iLTPqiNAGhoyFZ7wIkAO92kqUCsjQKTz8DuxZyJA6y21e1Y1IkAedxFbc3UhQCmt3BA7GSFAfUNM1E9AIEDC4i8j8zQfQKvaEGS0eR5AMxD5bQLCHUDiGpB4ekYbQHcPhjJiwRpAn5A/MDfUGUDCxRvZoWcYQGPT6jlEtxdAhXic4GW2F0B85CpmCaEUQJXwSgGLIRRAtCfUXH7WE0DPlBsQs9oTQLeIzidfrxNAg1RQlVjWE0Dfx6uGWgwTQETSMEVm4xFAyOthMtF1E0DaTRo7aNkSQEoGiNmihhRAMZLk43dIFEC+IT/QpDcVQCoEUgiUARhAh4vjgFpLGEDHpBWeVKcYQHLisluqJxlAtYefZmsJGkCmE+h5wnoaQHJRsujqJRxA0fGFXnDwGkC0UTN28/sbQPotVCAWZxtAw7SL2p+KHED/g1ERSIQbQN74eFTeXxxAnJPXARiqGkDQSrhEmaEZQKcImiOE3RhA3sMUN5Y7GEC3827Yie0WQHlhdrifUBZA7y5RcVzUFUBZfUUy55ETQICywejYAhNASDtMkgPKEkDpwKLEwn0SQCEEaZdNjRJAA8OBEd1PEkDViCGOfcASQKbq2bnoJBFACtkMhGvnEkD4umXAzQETQEACS/XwORNA0jWHpzTVFEC7vQgvNBsWQJ9ZPCcNvRZAO5AF6a5aF0BtqBrSqnQWQEllA5WikhdAuk1MiXJVGUBE7tR/U0IZQBo/oqwF1xlAYz03YLvxGkCHI303RIgcQI4mCiQehxxALwn4DORaHUAZrH8s0XMdQBWHy2GOvhxAnPdBidpfHEAYDL2Cj44cQHnRo0D9lB1AImJTyIrkHECNT25cdgYcQM964qTX+RtA4gOwQp5DHEAJgkBp828cQB2H8XuPQhxAV910AusQGkBhiuUC3OYaQNF2bN/KFxpAK72zTkrmF0AbrZHxgloXQN5NewaIahdAdlU8+aZrFkD2ZCjo8xMVQL/fenHbehNAOEoq2rK5EkC7Rw2nvKsTQLdO1HIzdxJAla2m0zLYEEDSsabyKwcOQEQenj3IkwxAEmMr0/EHDUDVqpCNYroKQKiIeskRmwdAmpCOll9aBUAUobf9k2kCQBtTVkGmkf4/NsmoW+r6+D8/5tDeGpz8Pwm1K+MXIfU/0TlBvIBo9T9Cm6p4jYLyPw==",
          "dtype": "f8"
         },
         "yaxis": "y"
        },
        {
         "hovertemplate": "Sequenz=22<br>t=%{x}<br>v(t)=%{y}<extra></extra>",
         "legendgroup": "22",
         "line": {
          "color": "#EF553B",
          "dash": "solid"
         },
         "marker": {
          "symbol": "circle"
         },
         "mode": "lines",
         "name": "22",
         "showlegend": true,
         "type": "scattergl",
         "x": {
          "bdata": "AAABAAIAAwAEAAUABgAHAAgACQAKAAsADAANAA4ADwAQABEAEgATABQAFQAWABcAGAAZABoAGwAcAB0AHgAfACAAIQAiACMAJAAlACYAJwAoACkAKgArACwALQAuAC8AMAAxADIAMwA0ADUANgA3ADgAOQA6ADsAPAA9AD4APwBAAEEAQgBDAEQARQBGAEcASABJAEoASwBMAE0ATgBPAFAAUQBSAFMAVABVAFYAVwBYAFkAWgBbAFwAXQBeAF8AYABhAGIAYwBkAGUAZgBnAGgAaQBqAGsAbABtAG4AbwBwAHEAcgBzAHQAdQB2AHcAeAB5AHoAewB8AH0AfgB/AIAAgQCCAIMAhACFAIYAhwCIAIkAigCLAA==",
          "dtype": "i2"
         },
         "xaxis": "x",
         "y": {
          "bdata": "U/Lz4zJVG0Ci8bWd0zQaQKKTB4fGCBpAPA+e+w3RGkB28j2/UHgbQOhmF3rQLBxAfuun4FlqG0A3/taxd4ocQBC6ygVomxtA51O9XvERHEBXG3Qm59ccQBF3hmy7uBxAKUNwEhGGHUDRJS3dZ2EdQPe4odQoYR5AjHZwU3UFH0BhkOEvSG4fQCzU6aYCQB5AEpY6cBy8HUCfiWni20EeQCucXNu1qh1A5160jmgjHkDax7PgMkgdQJ5Jx7GBWR5AP54guSacHUDET4Znwy4fQPOtP4RtZx9AAMyL7eqNH0AfCYSmM/ofQOaD084XdyBARcrhnCuPH0Amsjv5atYfQAL1+Tiy9h9A4GfJxnaXHUC3KZKiCZUdQFeohbATpxxAywyoHYd1GUCYRwbc5EoYQAWSEGA0JhdAha0qR3b3FECOt4g0AQQTQA26cf39pA5A8EyRrXsbDUD8aBYIKtsIQGfXhg2c0gZAk/0B1r/TAUDG43AnvNj5P4Q9v5dMvPc/18CZ+4k7/j+fpXnDsGsDQNcplIFSpwpAcgGljb/HEEBkXUHe5pMUQPPdOKCFFxVAEl40qHTpF0AWCe8v2QAZQDiSIRD23BlAnpe0yDlcGkC3u7cYyOsbQHo6NatnxhtAnLtxlgnnHEDdaBjUinseQLIDN63Wsx5AKcvMlGhjHkDRpe++u78eQF9M663/ayBA2qkfu4OfH0CwRApAzj4gQICB4bXgJCBAUThBTT4XIECEMbBXwQgfQFCe9Q4IFR9AEqADXPROHkCKlp+XIcYeQGVaUQ7JAB9A7rxlkfidHkBtgHMqzZ4dQNN0t3dDFh1AwtZBaE9mHUAQvJzv2kcdQCHP6DvQXB5Avk5DhL/xHUA+CDU40L4eQFIqvjIQmB5Ap0HKPfcVHkBqy5jzPC4eQKkHwCXXdB5ATqySMzFGIEAAPbd2y8EgQKo60XPpfCBAhYgN6/19IUCWMrdiV6ohQNADGpuS8iFAgoxd3T7oIUDUM1Uj5YEiQKXKeFxYMyNAEUBL37vHIkCYpyISMVsjQF4CJRdJNSRAm/Gm93l4JECcmoLHdRkkQHP+Cqtt9CNAubn6t6jqJEAOMirvwMIkQLi+MSCWAyVADol0tFXrJEBpg/HMx5gkQAM60bxmOyRAKr/SB4WOJEBpTit/NwgkQKd8zkcp2SNAfY4gLIJ5I0AyYetIhVAjQFYpd9k+/yJAQv3JpNlNIkBN439KhlEiQLPpFCU3hiJAFLp+EL3AIUB+1IumD+ghQEkw2uM3jCFAfV6PUcIcIUD0Hk8MUnwgQEWqI8fmSiBA3m5nm5EUIED2H1QkaDUfQLQWniplyx5AMZ8kjMicHkCGa6fgS/8dQM35iYsHKh1AbwyhiCYgHEDw064VPK8dQMnrcb66GxxAlNgDp71wHEDHb89Ud3oaQKp3eqxw4RlApTYKx+wGGkBxJAfJZwUaQCDfQp2uyxhASsjIs4kXGUDTJEPd0poXQA==",
          "dtype": "f8"
         },
         "yaxis": "y"
        },
        {
         "hovertemplate": "Sequenz=23<br>t=%{x}<br>v(t)=%{y}<extra></extra>",
         "legendgroup": "23",
         "line": {
          "color": "#00cc96",
          "dash": "solid"
         },
         "marker": {
          "symbol": "circle"
         },
         "mode": "lines",
         "name": "23",
         "showlegend": true,
         "type": "scattergl",
         "x": {
          "bdata": "AAABAAIAAwAEAAUABgAHAAgACQAKAAsADAANAA4ADwAQABEAEgATABQAFQAWABcAGAAZABoAGwAcAB0AHgAfACAAIQAiACMAJAAlACYAJwAoACkAKgArACwALQAuAC8AMAAxADIAMwA0ADUANgA3ADgAOQA6ADsAPAA9AD4APwBAAEEAQgBDAEQARQBGAEcASABJAEoASwBMAE0ATgBPAFAAUQBSAFMAVABVAFYAVwBYAFkAWgBbAFwAXQBeAF8AYABhAGIAYwBkAGUAZgBnAGgAaQBqAGsAbABtAG4AbwBwAHEAcgBzAHQAdQB2AHcAeAB5AHoAewB8AH0AfgB/AIAAgQCCAIMAhACFAIYAhwCIAIkAigCLAA==",
          "dtype": "i2"
         },
         "xaxis": "x",
         "y": {
          "bdata": "HlwyuFHsG0DQLV0SPTsdQLVvMyBishtAQuejdL7KHECSbqyRKrkcQJ8te+pFXxxA/su0JHA0HkBXozbxigMdQMJfOb/ezxxAXJHtjeplHUB+wILL9iUdQHibP/ZO5R5A9L9n03dnHkA60r3TCPweQFaWY08tSx1Avhflp9pDHkA6ZiphMzweQAiGgD9J3B1AUFzMDefFHkBl7itSVpweQN1ysTITPR9AebWGHk28HUAUBtkjy0keQKtU57gNhh1A4ipkhRSMHkDagnDAifwdQNDPKu9RKB1AJAVlEHdoHkAUlTTeh8odQGuV044iNx5AvDBke8cYHEDpUnqkFPkdQEZ8Fn38hh1A0XAlKOWjHUDVWua/U3kcQOTaWE6CQRtA7bUq+qVzHEAOIArivwAbQP+r7QaJqBtAc+4/Bnz+GUClpbR/hDMZQDIvMvHUiRhAK7ZZDbh5GEAbpRJyJeEYQJ8fE6kSShhAO+rrDQExF0Bx5TWhoiYVQE3I8lWVJRZAqrEAIGSNFUCXD5xgWj8UQCtMH+Eh8hRArq0Z/NyvE0Do/KzVYtwTQHcXG6YT7RJA7SqMknibE0BFrUeSAcQTQPRqSZasnhNA6no+aXdXE0AwXDhC0VwVQFItIy7McxVAPGpQXPJ/FEAMp8900AYVQOGiDYvzJxVADkkXwrKJFUDZxpkCiUEWQKyjMHwQbxVAeh8xN3ESFkCjPdpI2kkWQJ5IviVu/BZAMCTZNKBRFkCpKSZPGlcVQMyAW+L9VxVAsFCnfFu3FUBeQvN98ukUQHQWkXdVShNAGQ9a0wS7FECOvhCCoacSQAt+vaB/uRNAJjswkgr9EkAEmYy+w7wSQP3w7P5o1BNAygUEmpDlE0BzB9XpLCQUQE49XzFGnxRAIVbEfZabFEB3ystJMVAVQLAbGuYb2xRANplCPQajFkCRjS5+b1AVQDJjvlihnxdAru7MlEcFGEBHEMMWhDAZQGxXjVMRDRlAxhET8zxqGUAkXMshakgZQPbEvlSP8RpAgXZw95VYGkD9syhFFpsbQFlHwbg3jxtAlnWozTh/HEBQTM0wvUscQEMNR0PouRxAdAAajfH0HEDgT6CGTqEbQEKugy2y3BtA/7R0tNkAHEB0UmCfJXgbQPBEw7XbdRtAaP1aIbkaHEBcNxAWGXYbQLJrUr+IfBpAKzng8S9UGkDaYEP9LhoZQPpdSoiv1hlA5C+fvrU1GECEhO1DmvgXQPu5SY4k1BZAuz8Fo7QCFkDW642gacYVQNImv1jBiBRAqSFT5Do1FEDxRIMTP+MSQMYbnq0qehJAuDblLE5iEUBQd6O/POkQQEEpgxydUg9ATzNLVfvjDUAuF9HRSGYOQA+uqahhfghAXPucosSDCEAgafTf92YEQJgmi78QSgBAbiHoO725AEA4Ya3am8/7P59BBqtG8/M/qLOyZD9U9D9ULgvKYIz0P9FefcI7rfE/t2v4YKfR8j/moAPkesnmPw==",
          "dtype": "f8"
         },
         "yaxis": "y"
        },
        {
         "hovertemplate": "Sequenz=24<br>t=%{x}<br>v(t)=%{y}<extra></extra>",
         "legendgroup": "24",
         "line": {
          "color": "#ab63fa",
          "dash": "solid"
         },
         "marker": {
          "symbol": "circle"
         },
         "mode": "lines",
         "name": "24",
         "showlegend": true,
         "type": "scattergl",
         "x": {
          "bdata": "AAABAAIAAwAEAAUABgAHAAgACQAKAAsADAANAA4ADwAQABEAEgATABQAFQAWABcAGAAZABoAGwAcAB0AHgAfACAAIQAiACMAJAAlACYAJwAoACkAKgArACwALQAuAC8AMAAxADIAMwA0ADUANgA3ADgAOQA6ADsAPAA9AD4APwBAAEEAQgBDAEQARQBGAEcASABJAEoASwBMAE0ATgBPAFAAUQBSAFMAVABVAFYAVwBYAFkAWgBbAFwAXQBeAF8AYABhAGIAYwBkAGUAZgBnAGgAaQBqAGsAbABtAG4AbwBwAHEAcgBzAHQAdQB2AHcAeAB5AHoAewB8AH0AfgB/AIAAgQCCAIMAhACFAIYAhwCIAIkAigCLAA==",
          "dtype": "i2"
         },
         "xaxis": "x",
         "y": {
          "bdata": "TrUDT/YqHkAyA0igoM8eQDqFbClKrh9ApAwsUjDzIEDCC+6IYRwhQM86HzQk8SFAZI9Ff7DxIUBG7ghbu00iQGjX/4fQXyJAQ/pWZrl6IkDFQUW99LkiQHhaiiL/5iJABcTSP5jmIUAnQndEiUgiQEzNF99hcyJAl4QrXGgzIkCFqioswGMiQHjIcX4KpiFAfTymxycQIkD8SB2XfZohQC9up64MjSBA4MP89zoSIUALOwfvO2EgQChcHj0RRyBAPMLOX6sDH0CACDSG6fUdQKYH1rKylh5Aqoe/c/+8HEAWDB/w3EYbQGM4rwpjPBpAH2SK3bAaGkA4pTgMHwUYQLkJeA3r3RZAApu5j9MQFkAMeFI3HK4UQEHRIPoAzxJAplWawp8dEUCFzze7qakPQB/HPoH/Rw5AGixMhmVxC0D1Tq/ewKIGQBxWVwxsBANABGZhkHUzAEBNr+aGgFIAQGHOx/WuA/U/5IgHbnTB8z9kZyn87R3xPySznKo8wPA/ntMSy2fV+T/ZziBysjjyP8IJE0T4+PE/mnroTVvG8j+kqT+1bY73Pwx9yWcvs/o/r63szdkjAEBuNtm6FG4DQNr6tQP8vwJAxOBqbZu7BEDRab7ty+YCQOvjoG7j2wJA0iNdl7CeBECJuo7o0csGQGBh1pZP6whAAbEOeHGRC0CkNwsqVDUNQH8Je41b3A9Af0JuFrH0D0B9j3IIu1wQQHQR+MjbHRJATKRGKswuFkB4C4ujSlAXQOuPpfOEDxhAf03wM/n+FkA5MlRoiF4XQA0s+r+anhdAg/fCq7KVGECX2sLy1ZMXQOwAZVN9wRhAhKsPD1/ZF0CvpLmGfoYYQLBxAR+EChpA2J/t6JiZGUBnUSikiHsaQCHKUFWSLhtApP2drBrnGkCoev8oJukcQM7AO9CK3xpAWnLfGYOgGkCir+pNsPwaQGtOK9GMqhlA1C2d/wRFGkDdGK+TWKcaQI/weHqzuxhA3g8vAhNoGUD/1tOyGPUYQJqI+ACriBlAxNFAg7JbG0BVcUR9bOcZQHh8q1+zmxpA/qBkiI8IGkBe/Fi5dgEbQKdcxZbPZRpAe3VPxukkG0CmUOQUbn8aQAe5vZsKKhpAEmcc3XoDGUBOhzermeEXQHr9eIXwsBdAF0oPrF1nFkAF7VK7y24WQPzvni6NjRRAlBALPBnhFEBPFFu5I3UTQMH3QBV9ixJAOa8MKQhXEUAEZK1rNRkPQPY3OpQJTw5ATKCmLy7cC0Cc9Kou71cLQPjSO7BCUwhA/5OfDA7DB0A30QiXB2IEQO/6ClvN+ANAlZKniTav/z8va4Lw2fMAQGDe1ojgsfo/ent2eaUE/j+/XIb1bQr7P3pGRQQd2Pc/7HPisu+k8z9LsSiY1Tb0P/hW5zaH0/U/r7TJEONB8z+sQXHG97DxP2lXraFi9fI/rkKj5aXh5T9+B1ExSwnxPxYFGpKUyOA/BIsWoK+e7T/bUGUndjPWPw==",
          "dtype": "f8"
         },
         "yaxis": "y"
        },
        {
         "hovertemplate": "Sequenz=25<br>t=%{x}<br>v(t)=%{y}<extra></extra>",
         "legendgroup": "25",
         "line": {
          "color": "#FFA15A",
          "dash": "solid"
         },
         "marker": {
          "symbol": "circle"
         },
         "mode": "lines",
         "name": "25",
         "showlegend": true,
         "type": "scattergl",
         "x": {
          "bdata": "AAABAAIAAwAEAAUABgAHAAgACQAKAAsADAANAA4ADwAQABEAEgATABQAFQAWABcAGAAZABoAGwAcAB0AHgAfACAAIQAiACMAJAAlACYAJwAoACkAKgArACwALQAuAC8AMAAxADIAMwA0ADUANgA3ADgAOQA6ADsAPAA9AD4APwBAAEEAQgBDAEQARQBGAEcASABJAEoASwBMAE0ATgBPAFAAUQBSAFMAVABVAFYAVwBYAFkAWgBbAFwAXQBeAF8AYABhAGIAYwBkAGUAZgBnAGgAaQBqAGsAbABtAG4AbwBwAHEAcgBzAHQAdQB2AHcAeAB5AHoAewB8AH0AfgB/AIAAgQCCAIMAhACFAIYAhwCIAIkAigCLAA==",
          "dtype": "i2"
         },
         "xaxis": "x",
         "y": {
          "bdata": "9Hvt8y6oJECVHiT/MhgjQC+4D0yRyyNAY+XFlXnwIkBZDClw1LAjQM3YQJwvByNAfGR63jBVI0DE+d/U8QAkQKNaaqfGfCNAMpog3ZIlI0BubMjQ1HUjQN7WxbzzgyNAxv4p+eyuI0AnxdkVTGQjQFTcC32HNCNAUxtPmfJdI0B4EMPLaowjQFGwVo97kyNAkjDEtLNnI0B3JB2SjFUjQEL1LFelziJATG0UmtGZIkBYo/u2ACQiQMpkV99EjiJAqP8KLx1BIkDjEggmWoAhQHLsEqQCfSFAXDrEMv9oIUAafKFn+RYhQOfOLy/NjyBAXc1w75KRIECcsuUqG7EgQNXTMbGRISFAmwWbxzCkIED4mm7/dqUgQJpS05/OHiFAkp3HwBj6IECBOkSqwwghQJrWioNBFyFAkNCF7tJZIEDajfhLkoUfQLI8FrPAKx9A+ZHt6OVQIECDonsAOz4fQCnGQOgS7B5AvcudmrYkHUAOcRdvfQgeQPb0A62pxRxA81pMuA36HEB9JaDMTm4cQHRplfuVzxpAphkTa4UAG0B3sSHysocaQOjEB0XavBpAkLcpxPHZG0AKtlTiL1kbQGN5usQFfRtApVqnpRArHEBG/H1sYbscQNEo6NM99RxAHN5nGYcCHkCR4ogF1DkdQCRED6Vdwh1AKuSgV3ceHkB1mKP+5NIeQOsU+3OjCx5Ah3NI4KQ3H0ANRhFSNJofQE1AGg82Ah9A9uWUxcB+HkDyzXHQUOseQPWifMqjeh1AZsW59A4WHkDPUzFS/d0cQCX11e/tpB1AqRYEFRAyHUCPCSBzNrYcQM1CjfOOyBtAnaSicyxdHEDXDgRuWCkcQB2GoPWzABxAT5YFifRgHECIgpKLogMcQLi2VWwLuRtAkIyIOW2HHUDlFwhAhu4dQEkRC0HEQh1AwgcKrvD7HkAqGa9KuA4eQBFm7Ed98R9AtT4d4iVpH0BrJgv740gfQEHWxalgkSBA3Aef8xN/IEDitHvO66IgQMQ+TDPFsCBA/yGwdvMLIUA4Se/HEHEhQLYr3zQkUSFALc8zoaPoIUD+tD9KCWEhQKe3YsRUACJA7ohPECFpIUDW2qgjevUhQB5VvqDfYiFAAjtobxRhIUAIndPq1LYhQJCLA79C/iFA1ql23NEGIUAgBfAhJoghQPrd+XMm3SBAZ9YoGZZrIUCvptNxexYhQCB1EZT+YyFATfW98ZexIUB/nOQh65IhQIv1MDtiYCFAZPqRBNvVIUAnfve/LnchQJWRhyveUiFA6FujpgE6IUCm84cVp5whQKG2AlRaVyFAoS1UkOnhIEDeNif1n2khQG5cqe1TxyBA87/r2WQLIUC24v043BYgQA4XTysvVyBAS9AOj/6jIEAPJIZF4iogQEy3pKCd6h9APSh+YTnfHUDAeFcmkqUeQI6uSTweMR1ABNOs388GHUD6nzmpkxYdQGxywIdeBRtAid40EUOOGkAJLPVLq9AaQA==",
          "dtype": "f8"
         },
         "yaxis": "y"
        },
        {
         "hovertemplate": "Sequenz=26<br>t=%{x}<br>v(t)=%{y}<extra></extra>",
         "legendgroup": "26",
         "line": {
          "color": "#19d3f3",
          "dash": "solid"
         },
         "marker": {
          "symbol": "circle"
         },
         "mode": "lines",
         "name": "26",
         "showlegend": true,
         "type": "scattergl",
         "x": {
          "bdata": "AAABAAIAAwAEAAUABgAHAAgACQAKAAsADAANAA4ADwAQABEAEgATABQAFQAWABcAGAAZABoAGwAcAB0AHgAfACAAIQAiACMAJAAlACYAJwAoACkAKgArACwALQAuAC8AMAAxADIAMwA0ADUANgA3ADgAOQA6ADsAPAA9AD4APwBAAEEAQgBDAEQARQBGAEcASABJAEoASwBMAE0ATgBPAFAAUQBSAFMAVABVAFYAVwBYAFkAWgBbAFwAXQBeAF8AYABhAGIAYwBkAGUAZgBnAGgAaQBqAGsAbABtAG4AbwBwAHEAcgBzAHQAdQB2AHcAeAB5AHoAewB8AH0AfgB/AIAAgQCCAIMAhACFAIYAhwCIAIkAigCLAA==",
          "dtype": "i2"
         },
         "xaxis": "x",
         "y": {
          "bdata": "Hvw1u+qKI0C2a0x3kssiQItTjDn7cSNAfZazILZ/I0DM6Y/hWoAjQGWVVF+GKyNASgTGnDwRI0Cu04Yxc80iQCCDgKlTbCNAvDYonc0eI0BurNIjW1kiQAgrwYdiyiJAHOR7MC/ZIkA+a0TkdCIiQEwe8WzlQCJAzjK+MUQUIkCmQTUSDcQhQPAnstbrXSFAXkEaI9t2IUBsGvFE4oggQGDyuNKavSBACTfDo+eIIEDc9IYrDqMfQAa5rBVVSR9Awtl412ESIED38Sv9xfseQLmAytYLgx1ASsBjBOoEHUAToJK7pKMcQGKPL/FTXxtAP083CltgHECOXXm7aPcbQA3az2c0ARtAUJRbv5sfGkBV7ytoXOkYQATcfP/adBdAEPuWLoUOF0DOyRuw63QYQI5YYP4tEhdAMyGkuzOrFUDk1FMlm/YUQNlzMSE3uBNATCLKBKClEkAvhkGxSEISQOnkNGFI7hJAjX0tXsp/EUDfrbJZ2eYRQF9P2xssThFAd5jba8MaEUCcNHL5+eYQQFOjio5YsxBAJaTTLfZfEUBB2iF/msoQQL5H6pa8CBFAwJPQCLw6EUALRfY9JGIRQGaGfDRdvQ9AyS8eHgETEUAOcsmIjKQRQKrPWD1gORJA9xJKzNPrEkB5f1szotgRQPcWrTGGyhNAEbRsVTbeEUDRqwWCa1oTQHq6aD3ZeBNAVenf+xviEkCzYYwxQLUTQP1msQMTgRJAkjNEPCaSEkAvG6zgQXoRQCgLlp1dNRFA3jtssJ60EUAzK2J2zl8QQKyMYDTprhBAMh82+ykGEEDysUIcZGIRQOBTUmvIQBBAu0Un2oA8EEAQjNH9Q8kQQB6jpZirARFAKBYJqiW6D0BdyXPlWDQRQPeExJShjRBAkR0IlG2rEUA5vKm4YwMTQNfhHhFAFBJAuz3BSqfRE0AkmBx4Q04TQJmHxRjqJhVAvnALmKA9FkCKR2Xn9GIVQEFB7qey6xVAxHCdVi+3F0A/oPUuVnwYQKpITYvZexdAEvDFzz90F0D589181IsYQNK2vZyh0RdAqhZtx9+nGEDGu0/e6qkXQOXkQzBTZBhAnVIBTLoXF0Ba5CK7kbQVQCehiR6irhZA3BHhych7FECeNC+sZbIUQHc+G8UwZRNAcP6SQdM4FEDeuUkTxncSQMTc0Y8lSBJAzVFr8j12EkDWNKxiHr4RQDvljRaE3BBARFHBgQYmEEA7ht/jIQ0QQKrRR02llw1Akn5UbZXcC0D1sudvR2MMQPLaHl0j+AtAWpKcwo72CEB95agRob8JQNh3UtpBHApAR+Frje74BUAagg7CKPcFQKKF82g6igZA0evC55egBEDyB2pZZ5QBQA3xeg6KRAJAEF9CN6De/z+kTMWDrvcAQLPkoM8gX/w/wGshGhJy+T+3Accz6ub1P1U80leohPY/JzAuubJS8T+6rJwkmKLxP5h2wt67Zuc/+P6I/3sU6T/++dKfwkflPw==",
          "dtype": "f8"
         },
         "yaxis": "y"
        },
        {
         "hovertemplate": "Sequenz=27<br>t=%{x}<br>v(t)=%{y}<extra></extra>",
         "legendgroup": "27",
         "line": {
          "color": "#FF6692",
          "dash": "solid"
         },
         "marker": {
          "symbol": "circle"
         },
         "mode": "lines",
         "name": "27",
         "showlegend": true,
         "type": "scattergl",
         "x": {
          "bdata": "AAABAAIAAwAEAAUABgAHAAgACQAKAAsADAANAA4ADwAQABEAEgATABQAFQAWABcAGAAZABoAGwAcAB0AHgAfACAAIQAiACMAJAAlACYAJwAoACkAKgArACwALQAuAC8AMAAxADIAMwA0ADUANgA3ADgAOQA6ADsAPAA9AD4APwBAAEEAQgBDAEQARQBGAEcASABJAEoASwBMAE0ATgBPAFAAUQBSAFMAVABVAFYAVwBYAFkAWgBbAFwAXQBeAF8AYABhAGIAYwBkAGUAZgBnAGgAaQBqAGsAbABtAG4AbwBwAHEAcgBzAHQAdQB2AHcAeAB5AHoAewB8AH0AfgB/AIAAgQCCAIMAhACFAIYAhwCIAIkAigCLAA==",
          "dtype": "i2"
         },
         "xaxis": "x",
         "y": {
          "bdata": "JfCJkb2gG0BL5yJFpYEcQIp9hcoCkx1ANq1HdGanHUCJXvCWLRoeQL7ygFT2JB5AcFDe5M7DHUAW4BVsdfkdQPCweXOioB1ASRyDt+pGHUBi2Nzv/xAdQAEGjeq7Mh1AjpOfeiIFHUBODnSJd/gdQBE1jo7dUR1AbKzSos+NHUAPnhLwSFwfQAFsp4tQ8R5Ag/rDvDFdH0Bm4Wjcz8EfQHDv3bKoeyBAYmQCzcZaIUAt5L2gBgUiQMGxO4rUUCJAyBDodm9PIkDccnw2wpYiQKtGGcpR6yJAH2XNWRsSI0B7y+Tbxw0jQJpBaCJMaCNAeeoa6/bEI0AQTOe/1b8jQOPymus0byNAW6+hK2PSI0C8jqWfZmEjQLt4vqkrOCNAGAR+/YhAI0AktuRCxZcjQIGvAczzgiJA0rj67speIkAliXeNa/4hQKMxofFJNCJA3C1UNH6kIUBjgcb70p0hQOtx5oHG2iBAEKvLi14dIUBALCzpIeEgQCJ4jrdTYR9AbqTTvxYIIEAJvTT5YYEeQLimxmuLgh1A+mEiEoZcHUCne1RGq1AeQNwXxD8CGR9AtAr0vis3HkAkXzibQnYdQPFpPocGiB9ADKtY3T//H0Bng3tERu0fQP9x6zG3hCBAT7kR9eWOIEDOx1GPSWYgQKXGaslq2iBAjjudnBrYIEDaKw9p6Z0hQOQw58pwdyFAmIOZRJS1IUBb4Ruqug4iQDeVYvDjVCJAqlZYByenIkBKimhgODAiQOkOoc81IyJAg8LMRCOzIkDnfsY+3uchQFFnCWJoHiJAErfuh3OFIUBKnDpnrMshQEmJ5ADcFSFAUK39WUidIED68ZHPuU0gQP1qSpKOTCBAD78KLzfFIECXKwwA1MYgQCuvBu1+ayBArHlTl+dRIEAsoqw2bt4gQDB8kkDKTCFAyDoCPnhgIUDdffnSxE0hQMNXiHYDjSFAJeahPnj9IUBYvmI6dLIiQDiDFYp+ISJA4flxaT48I0BigKTirA0jQFd6kkGakCNAQCxFfJaAJECNckkpYv8kQLjWetI13CRAoucCjlGdJUARr9keXEslQFfnpx8JlSVARKpY/POVJkBOi4v/l1omQCX8iTmBNiZApAUHTJJqJkD2pkxQNXQmQIrrQXK6ISdAsNg9saejJkBNXpxZlOMmQEAua1JybydAQF9ZwKcxJ0ArqUKhoMEmQLCbu7amDydAnzQbal5IJ0C1/4NYuywmQGdeJ6QpmCZACkWoQUc1JkDAmRgRogsmQCFDfj8f+iVAHJpHGsDIJUCuolDWjyolQAt7KF4aTiVA2RuavKZLJUAeDq2KY8AkQNi2qd9xNiRArJpozLfEI0A7K6CFkBIkQPuGmjUyayNAHMn2/4GiI0B6VSIONW8jQFgTFR6jWCJA3XrLmMcCIkAMeVlBMfohQJrgCK9ixSFAB35RYpuHIUB/zefUEKggQHYVNNAgDx9ADrit3jZ7G0AgCYIHiV8XQA==",
          "dtype": "f8"
         },
         "yaxis": "y"
        },
        {
         "hovertemplate": "Sequenz=28<br>t=%{x}<br>v(t)=%{y}<extra></extra>",
         "legendgroup": "28",
         "line": {
          "color": "#B6E880",
          "dash": "solid"
         },
         "marker": {
          "symbol": "circle"
         },
         "mode": "lines",
         "name": "28",
         "showlegend": true,
         "type": "scattergl",
         "x": {
          "bdata": "AAABAAIAAwAEAAUABgAHAAgACQAKAAsADAANAA4ADwAQABEAEgATABQAFQAWABcAGAAZABoAGwAcAB0AHgAfACAAIQAiACMAJAAlACYAJwAoACkAKgArACwALQAuAC8AMAAxADIAMwA0ADUANgA3ADgAOQA6ADsAPAA9AD4APwBAAEEAQgBDAEQARQBGAEcASABJAEoASwBMAE0ATgBPAFAAUQBSAFMAVABVAFYAVwBYAFkAWgBbAFwAXQBeAF8AYABhAGIAYwBkAGUAZgBnAGgAaQBqAGsAbABtAG4AbwBwAHEAcgBzAHQAdQB2AHcAeAB5AHoAewB8AH0AfgB/AIAAgQCCAIMAhACFAIYAhwCIAIkAigCLAA==",
          "dtype": "i2"
         },
         "xaxis": "x",
         "y": {
          "bdata": "aA18dnyLFkAbvUTFIUwZQCx2FeQowhlAmtCUWip3GkAVPw2/LnIZQLYR7vWB5RpACIPAZqEYGkA0MWq1vGobQD0n8+i8rRtAseSonxwKG0BsXDc6LTAbQEj9/C+LmBpAyWtysao0G0ASNnPEpq8bQBly/X6EpRtAW10f2wqkG0DLGZvq6VobQGzMeDpPKBpAUAn6AmRGG0D0qaEHO/IaQMvRgmtsYBlAYjEJ14tHGED7N/RrC50ZQJBrG8Bb2BdA3ly5i3UEF0BKr8kk+9AVQHM0f5cJ8RRAlkgsN5iaE0AwKY4+cdATQJtcen9u9BBAmzdJge2BEECgN7dNE+UNQFOliBbbGAxAXwZMeS1bB0DK9kIwZZUGQDYIPMsqEAdAzA+DX7ZqBEAYKKtXTgMCQBFTqR4u7vk/S1gI0CGU+j+T0PGcVTb0P+SJdA3Pp/Y/An17fkpG8z+I6m4CI2rxPw19xeF4Puw/Fn1MuoBG7D/zzlI/HR3mP4m+SofQ8vE/d9QEApZY+D9YASIDugf4P5/QX8PD2fs/dIgkDAtfAECheiUmSbwDQF2JHAZZewVAR0iSZBhcBEBOzE3TOegJQES5d9k+xQtA+JAiaRY/DUAj3ZFPm7APQCsS1afo7BBA0nfPelIoE0BVLOUJwagSQNE9r785HRVASvVXfBjYFUDtpdFz+4oVQNPMcFi9ahdA1snyasQWF0AY/ENM7yoWQL6MiEYFBRdA5CjVcRaEF0CUd2rgPOUVQE5AJ87MgBZAUESUlKEOF0BHG55+om8XQA4XYmqh4hZAGTu+CCY1F0DOJ+7Xcp8XQHTSt9sQ/RZAjUoM6WdhFkCXwIwQWc4XQMi/yHxdzxdACrf5nhDIF0BCJNZgcl8XQMWN7WcN4RZAvdSwTr1VFkAfxIbN4WYXQB12SInekBVAanMxKRJ6FkDVotO0D0AVQH3voCaFARRAcFfm4xmUFECjr4QJ6IASQEYZuuXSSBFA2dr1bdbtEEDM5RGPRT0PQN+JwMqLIg5ASdyuKgcxC0BP42TXwwQMQESe4nCEpwhA7XqSCitYCEA2tXIdvU0IQMaKlCpEwANAxRKqiCRmBUD87uz63/ECQEbVLLDZyABAN4IY43wI/T/c8zBhfE7+P8LHn019MPk/WpNO8t5W9T9p1ubmiZnzP0wXCqt9wfI/TlzUOvD08z9ruci3Fzv0P3WQU/UxfvA/iMdR5RET8z+ek/xjbSbtP0FrZllVJfI/7O6v9+Mf8D+CuzkqBw3wP3o9ewaDgek/vkiUikRv5T80ge6W4d/oP+EuCUf2eO4/sCZyuXVr4D/dIs6qYBPtP7ZzqHa7e/Q/TitSNv8+7z/3uW5+vU3uP7By8yUNFOc/75bbIKI26j+Qzoao5VfPP9jm+SOSSeU/mfcyrcS75D+5Lo4m5HDlP9N0YLTuNOk/ZAkPsvXe4j/Q3Z14sPzrP1B+BFLhaOI/5oZMRRwA3D9c5cv9MVPlPw==",
          "dtype": "f8"
         },
         "yaxis": "y"
        },
        {
         "hovertemplate": "Sequenz=29<br>t=%{x}<br>v(t)=%{y}<extra></extra>",
         "legendgroup": "29",
         "line": {
          "color": "#FF97FF",
          "dash": "solid"
         },
         "marker": {
          "symbol": "circle"
         },
         "mode": "lines",
         "name": "29",
         "showlegend": true,
         "type": "scattergl",
         "x": {
          "bdata": "AAABAAIAAwAEAAUABgAHAAgACQAKAAsADAANAA4ADwAQABEAEgATABQAFQAWABcAGAAZABoAGwAcAB0AHgAfACAAIQAiACMAJAAlACYAJwAoACkAKgArACwALQAuAC8AMAAxADIAMwA0ADUANgA3ADgAOQA6ADsAPAA9AD4APwBAAEEAQgBDAEQARQBGAEcASABJAEoASwBMAE0ATgBPAFAAUQBSAFMAVABVAFYAVwBYAFkAWgBbAFwAXQBeAF8AYABhAGIAYwBkAGUAZgBnAGgAaQBqAGsAbABtAG4AbwBwAHEAcgBzAHQAdQB2AHcAeAB5AHoAewB8AH0AfgB/AIAAgQCCAIMAhACFAIYAhwCIAIkAigCLAA==",
          "dtype": "i2"
         },
         "xaxis": "x",
         "y": {
          "bdata": "+z1O0tzdEkA68CXvH5EQQAeK7S8hohJApKKZN4V1EkCyVFUUuhEVQHtSIRhNTxdAjzC5uz3SF0BIs12PBigZQLdc0AtynRtAIU+9aV1ZG0DyT1uiiG4dQMlyQ2738h1AHs3HxHHLHkDibVS4ceoeQK1UVw0V/B5Am9h3rDQRIEDAg3QRz2UgQDlnpyUlISBAab4VgkvtIEBCKvNChbkgQBVoGt/gRCBAjz8M/+8LIUCVdjV/ZMogQArOcOKu0iBAv1G/kUM0IECkjbCF4qcgQPcy8wrzJiFAIos9rUCiIEAC3Re8708gQLbcZiXuxyBAEwA0/gs2IEAn0L2/nt8fQJcydGVSKSBAOoBuFziDIED8/+mdOJMgQO0lZRcIHCBAFsDqulNkHkC2/+jo7P8eQMLEb14TUx5AswKNdxf3HEAx+GDMlSQaQJmGzMa+mxlApEO7f/hgFUBDFBfJXFcRQP6B5nQ4cA9AhAAdz/RrA0CaO/ckoSj+P/0zWLJPQPk/rn/GbBke8z/YjjAvfRPwP46rJmNyLvQ/44gX0Hw6/T8+1IYatkH7PzL/EPfpdvw/sL4m3osn/j8sEse581H/PyuTDIXOAgFApsFsj5YUAEAyJA3+7IAEQHmpBg7vuAVAM1TIu19DB0Apnrfy4xwKQGZkMCTHtA5AOmYNpy8UEEDsNCHbIwERQNijW6YuqhBAiB72A54oEkClI1yr+s8RQK4o0iH2JRJA+/+2qi5tEkBoKGnm2LwSQOL7EncR1hJAp1OnHGD6EUB2L2PILN8RQK51vjhnXBBAYt3RRG5MD0D2QdoQGWEOQN1O1kkXKwxAQhuC6sROCUAl+4iPRa4IQPQuDBEheQZAue1i3DrqB0DlC6oIYF0KQMX+cfV7egpAjpOg1EJXCkBWCPaJjesNQBn25kebfw1A2j2BxMZAEUA9+gj1eSQSQDY55zLbfBJAnkwKT8LvEkBBbMSViYgUQETOZNz0zBNAX0U+Q1hrFkDeW2RspxgWQNShnCmrTBdAyQS1Jq4EGUCroeojAnkZQCqCKYzqNBlAlNqOO/wxGkCNYSVsbgkbQHfNUV9wDRpANUtVjmvRGkCnwDKFfSgbQDGZtGVRghpA03THEdqBGkAaSlftiWMbQHH+q9uXfhlAgV2FcoqwGUAJehS6G6cXQPWtF8MDQBhAsQdbaZ9NFkCs906IENQWQPKWnixFYxVAm/yo05dGFEBAf0TtfU4SQCvbJKwY4hFArCes7rjSEUABQD8x0zsPQNchaBazvw1AzF+aedUtDUD7JXpBiuAHQGmTIqWXTwZANjQezWBBBkC6GIl66LYFQCHEYumFhwRAGZgRH/81AEAw9Gp/9VUBQE9oVjhgMfo/9v1q9oW89z+cFnA8Q/f7Py0az7lXG/k/B7qlj5wA8z9a31TUmzTpPxG6/Q5kvOs/3CDkI9jM8j/Ab8MioDLxPxxEvj6QKfM/KDtHgMjg8j9aFf0tbx7zPw==",
          "dtype": "f8"
         },
         "yaxis": "y"
        },
        {
         "hovertemplate": "Sequenz=30<br>t=%{x}<br>v(t)=%{y}<extra></extra>",
         "legendgroup": "30",
         "line": {
          "color": "#FECB52",
          "dash": "solid"
         },
         "marker": {
          "symbol": "circle"
         },
         "mode": "lines",
         "name": "30",
         "showlegend": true,
         "type": "scattergl",
         "x": {
          "bdata": "AAABAAIAAwAEAAUABgAHAAgACQAKAAsADAANAA4ADwAQABEAEgATABQAFQAWABcAGAAZABoAGwAcAB0AHgAfACAAIQAiACMAJAAlACYAJwAoACkAKgArACwALQAuAC8AMAAxADIAMwA0ADUANgA3ADgAOQA6ADsAPAA9AD4APwBAAEEAQgBDAEQARQBGAEcASABJAEoASwBMAE0ATgBPAFAAUQBSAFMAVABVAFYAVwBYAFkAWgBbAFwAXQBeAF8AYABhAGIAYwBkAGUAZgBnAGgAaQBqAGsAbABtAG4AbwBwAHEAcgBzAHQAdQB2AHcAeAB5AHoAewB8AH0AfgB/AIAAgQCCAIMAhACFAIYAhwCIAIkAigCLAA==",
          "dtype": "i2"
         },
         "xaxis": "x",
         "y": {
          "bdata": "voARb1RvCUCFpgqXWxgSQIq1eGsRLhJAOULZKHn+EkBtIMXnTvoSQLv0J9mK3BRAekq737JOFEAB1U7UVqsVQCac8FiRShVA7vvaMkWFFkCgonV0NIAVQBFYm+JCNhdAhbaVJuZ/F0DSOXozUNQWQMmHUJmdyRhAYtENZRNCGUCCWJX1ddcZQKJHUhKOShpAoh5S7DgmG0DxixU7ELMcQLkqfW++oBtAdWoVPF0fHEBIPf1wvL8dQIf0LZVAiB5A/XyydTSqHUB/3C8w3HQdQHaNUg0HiB5Ac+O1rMufH0B/FNolBTUeQLOmr12KnB9ATziipItkHkCHBc5rTuMeQB9ZWeh4GR9Aqakn+GR5H0BU92Uu4eIeQN7euz/iUx9AXV6m5vffH0DPNjgnkcceQDhn5iA6TB9Az/Xh1tvhHkAVgfMgavAeQO+QT16T1x1A5e2KfUaFHkDrlFGJEhQdQKXyhcKX/x1Asdi2uCNtHEAylKjXOcscQKR7H8D3OhxAplwLOfuPHUDfRUIhJscbQDkjk1MqbRxAuMcx8yBUG0Ar0XevlTAbQDYDyCwhRhtAtoimP4ExHEBDAu7Ea8obQLNSp3GKxBpAEXKlWEtXHEDgOhzrYokbQH0P1opeHx1AMqp3p1KPG0AwDEBEvFgcQJdBZfNOyBtAlVOVhK++HEC0NB+7hqIdQPaGhPsW3B1AkvvtrsoAHkD0ZOV+jyIeQDFVrMuatx1AFnSdMclHHUCMH4JiwtEbQFXtIIt1KR1AUQCuqiYXHEDDVIrgRa0bQAwSzqGdhRtA4+qCuh6pHEA4RRUBTGQbQFT+RVjzeRxAy6+XbXtBG0BWVAdfjNccQNcjlPWe4xtAZziG49/BG0CjQOfk270bQHNJ9qx62xxAJjfrqJ60HUCs/NZN1y8dQN1A1fz2gB5AE2ubUjZBHkAWXwrqFRseQLM4AbPV0x5AnXqjXBqOH0CRL9R5YsUgQHob0AX/UCBAUvKfeambIEAwAyNDvwQhQFLWyjEvaSFAI9XGjAi8IUD9ljPn000iQJnTANDg6iJA49rhLMipIkDBYid3HZwjQLHCsyNntiNAan6KsCeRI0DbUp1l250jQJIo+IPC/CNAmgXF+NLfI0BFoVJSa/0jQC3gSRlXqSNABZbhvQb4I0Ahxqm7mYIkQFtm+lyDVyRAhDSoEACmI0DTthpmI1gkQDj7/qyQfSNAvrcLUcnVI0CCQTsk1JIjQOPezS1s5SJAE15bT7PAIkCyawGTrN0iQBn57G65TSNAUlrnNI6FIkAH9yG8oy4iQNwRA6LhKSJA+qB5lpOPIUAnPbxKpl0hQKIa1pFP8CFAlLjN726RIUBFGr9Id1whQMzB2REzhSBAqk+6lpfKIEBfjU0R8D4gQJ81fsUqPyBAa4auzLAWH0ArrGdYV9UdQD4vAkMuhx5AVuZOPsKtHUCSnBVfCOEbQEK3bCOCnhtA3tA1xzokG0BUo9t9xzYaQA==",
          "dtype": "f8"
         },
         "yaxis": "y"
        },
        {
         "hovertemplate": "Sequenz=31<br>t=%{x}<br>v(t)=%{y}<extra></extra>",
         "legendgroup": "31",
         "line": {
          "color": "#636efa",
          "dash": "solid"
         },
         "marker": {
          "symbol": "circle"
         },
         "mode": "lines",
         "name": "31",
         "showlegend": true,
         "type": "scattergl",
         "x": {
          "bdata": "AAABAAIAAwAEAAUABgAHAAgACQAKAAsADAANAA4ADwAQABEAEgATABQAFQAWABcAGAAZABoAGwAcAB0AHgAfACAAIQAiACMAJAAlACYAJwAoACkAKgArACwALQAuAC8AMAAxADIAMwA0ADUANgA3ADgAOQA6ADsAPAA9AD4APwBAAEEAQgBDAEQARQBGAEcASABJAEoASwBMAE0ATgBPAFAAUQBSAFMAVABVAFYAVwBYAFkAWgBbAFwAXQBeAF8AYABhAGIAYwBkAGUAZgBnAGgAaQBqAGsAbABtAG4AbwBwAHEAcgBzAHQAdQB2AHcAeAB5AHoAewB8AH0AfgB/AIAAgQCCAIMAhACFAIYAhwCIAIkAigCLAA==",
          "dtype": "i2"
         },
         "xaxis": "x",
         "y": {
          "bdata": "FFmfhTzAI0DE+hRfDOAiQKeoVwBehiJA1h2F6XddIkCw2usZWgsiQALvIhx/fyJAvPdClq4/IkC0DshiyyIiQBY7dliv3SJA72r7gmq4IkDNSHQjsy4iQMReHaR37CFAJiqs7BDZIUBqLbIoE70hQILzgwwmXSFANt6T2HGTIUCfGIKWPJshQKuZekDgICFAHMSYw9qIIUBlz81zepsgQLc7WZWrBSFADUSsfYW4IEACOvb2er4gQL8SuFe/PyBAvygzLeAMIEAtvq86uyIgQEZFbILefh5A4EmVr6lfHkA6gZNz4kYdQCsoVtIRtR1A9FMkIKeGHED/xOVBLcEbQNO6l3tR/RpA7NAQlGUcG0DYjbtO/5EaQFnvdk+YPhlA1W3hgqqCGEAIryu62sIXQDq03JDpQRVAeCf9NBPUFUAsBUJauzIUQIc2dyDTjxNAauDbpCAfEkA4lmcZn8IQQFd6rWQd1BBAOf4/t7GED0A7qEbx1m4QQIxwsFQz5w5AnjAWC7DUDkA6TQjHO1UOQHXFx3FwxApAUobHtGbRC0CHvadbLwkOQKEg7a2znw5A73RJScHxDECT6j/s8VMOQBd9lkUcGxBAstsjfPllEUAG3LJReTwRQMAfdRFAZRNA7dFxUSECFEB0HUHpzQATQFtDXQtSuhNABz766griFEARqNAAecgVQDV2kW+kIxZAkYESZcSkFkC4l7WRdtAVQJYVNS7/oxVAp5lpDsHNFUD5qU9BXPUUQC9L/qmzmBRAyvBhoocHFUCUB+5YTVMVQBbWe/3yORVAKo2C2XarFUBX33SC+mUVQCg41maKcBVAFnsgnmyNFUCCzL1ieRcWQE2992WKChZAgSehMkMqFkDl+79MOwEWQEIFxTshwxZAM3ZqEs68F0A9NLTl/l8XQIBP+nIB5hdA/wiSQXnTGUCFrWlaWr4ZQB0TcGwQChpA+DLs0nppG0BlhIxosSYaQKdg5XQ0uxpAyvtXOLwFG0AMA3Y1qQIdQAbYdfo2WxxAetGXahAnHUCgcXERWhEeQCHhBWQ+zRxAAIlypTXyHUA8OWUCA/UcQK7feGeJXx1ATzMT2PlIHUBR8SurAqceQDMityUJ6R1A/JaaV9VZHUDV1vecGjAeQOR2+lm0TR1AQOxO0vIEHUAPlUjgU8cbQGS78KmpYBtAPLZvbGZbHECaT9gNAmcbQFOBmVgQhBpAH0ayVSHMGkAxE0MFDd4ZQOAS2+/TuhhA+BxB1Tj/GEB8ClBoUI0YQFix6Nc6shdAC9BjpsWEFkDZxPIaxpsWQIbzkTkzwBZAW9xLj1NTFEDTFuqjlasTQPrF8HY9rhJA7g0T0JJ5EkCXXsrMbJMRQDPnnGF0rhBAASzbKeL6EEDmn2sQynkNQEIwQOkQfwpAGFX26OzFCEBeJ4lAYFYGQJv8iYhIzwNAoAmYmBQ3AkD41CvldhsCQEsF1Nnravk/ADLqUpoq9z+0qkC9k/r5Pw==",
          "dtype": "f8"
         },
         "yaxis": "y"
        },
        {
         "hovertemplate": "Sequenz=32<br>t=%{x}<br>v(t)=%{y}<extra></extra>",
         "legendgroup": "32",
         "line": {
          "color": "#EF553B",
          "dash": "solid"
         },
         "marker": {
          "symbol": "circle"
         },
         "mode": "lines",
         "name": "32",
         "showlegend": true,
         "type": "scattergl",
         "x": {
          "bdata": "AAABAAIAAwAEAAUABgAHAAgACQAKAAsADAANAA4ADwAQABEAEgATABQAFQAWABcAGAAZABoAGwAcAB0AHgAfACAAIQAiACMAJAAlACYAJwAoACkAKgArACwALQAuAC8AMAAxADIAMwA0ADUANgA3ADgAOQA6ADsAPAA9AD4APwBAAEEAQgBDAEQARQBGAEcASABJAEoASwBMAE0ATgBPAFAAUQBSAFMAVABVAFYAVwBYAFkAWgBbAFwAXQBeAF8AYABhAGIAYwBkAGUAZgBnAGgAaQBqAGsAbABtAG4AbwBwAHEAcgBzAHQAdQB2AHcAeAB5AHoAewB8AH0AfgB/AIAAgQCCAIMAhACFAIYAhwCIAIkAigCLAA==",
          "dtype": "i2"
         },
         "xaxis": "x",
         "y": {
          "bdata": "02jFBNaRI0DtlIt+cB0jQCmcaD4UQSJAxvQ/r1YMI0DKfhX9twwjQFTgJLULPyNAss76kCmWIkB8KFVw8rAiQNu6MZ6gmSJAFXpMRYewIkCK7ZTq+aEiQHDTpugirSNAMdMSxEncIkDPtJmITx4jQANbKHZ9NSNAyv21vW1WI0CesbdFgEAjQGdfyo73TiNAdQebOo34IkA9yAed6GojQACQKZia8iJAwIvPUlIcI0D8dlcJ+ewiQA8omMb7fyNAbrf4HzFoI0CQqPvkQNEiQLiUZvqCHSJAw8PRN3+iIkDZj/B0WUMiQDlJeV8NIyJAZfo2gORYIkCL6A/uTLQhQJOMsVysuiFAaIT+PoTMIEBYYSLMsbQgQNaJoe1m0CBAr3FmyQBAIEDSNBK18xIfQMjfBVqYMR9AcYb/YCGeHUCriu+FxssbQEQw5YYJohpAMWyBNpxUG0D+Ux2PLtIZQChMei5YfBlAwPw44D0fGEAwfzvJ+9UXQN9MRAbvUBdA1OahKJ/TFUAN9DGtUC8UQEAqizwmNBNA/9h+bwuzEkCJcA6XflQTQDFq8lI8PBRA9sCwGY7OFECyXJAKGKsVQLBta9817xRAQ8f6nhEGFkC6oHZvOGIXQMx+MKTX+xdAR2WN7oGpGEDJrNSBlQUZQLOpMSql3hlAWHFlbLbbGUCzKDevdzQbQGQ4TEc3pRtAoEND2+EGHEAKsb4BtWkcQCnxF6h4WxtAIDNwZQyfG0CQspBVrAgaQMcwhinjBxpA20LN5zoqGkBh/nW7urgYQDLmaAZa+RhAfUDlPDZcGECzXSjKj4wWQEpAyUqnVxdAnQGGCEmTFkDLcMEUPcUVQN55/8DD9hRA9fAWRuwwFUBpEC6KsnAVQEUoQeQooBRAZ10/9f6cFkCmBz9dxWQWQAlH32hqzRVAeTF2fiBVFUCcM9RxgtoWQBqKmkwalhdAv/SWDLnfF0AA6zi1xuAWQBtBpUXadhdAYPMDHl4EGECS5pY0OqYYQKwUKBL+1xdAYboTZZWFF0D50ipOqh0YQPDz2cXE+BhAzITFlbX+FkAsbUgGcRkYQBicfQBVrBdA7LCZjR08F0CkwEv8ovsVQApaCOqhAxZALl5L2RFbFkB85tzCu1UWQK0KBo1TPBZAKMH/PtPHFUBNgG9w248VQM+RBFrkdxVA3MIvJAxbFEA11a0fPekVQG8CLhu/pBRAHcY2tT5XFUBCzHo8tX0UQJ7DafSnWhVA323nPKVeFUAmT6WunmMTQEkw26KDFBVARqP3Qx/2FEBZWHNXoSsUQMe3NBQFrxNA4RSnmvGWE0CP888rH8ISQK+0ejDslhNAHiwUJsG6EkAhTxM6WvUSQE9awLK3tBFApOb0jxdOEkCDOtcYGTAQQGwmMAOkgw9AraahFUbBEECx+0OnPoIPQKaLibV1igxAAv2bBWQJCUDfRcN8ZSkHQBUTdL6O/QJAyRTIuLO9AUCuS61/wSP3Pw==",
          "dtype": "f8"
         },
         "yaxis": "y"
        },
        {
         "hovertemplate": "Sequenz=33<br>t=%{x}<br>v(t)=%{y}<extra></extra>",
         "legendgroup": "33",
         "line": {
          "color": "#00cc96",
          "dash": "solid"
         },
         "marker": {
          "symbol": "circle"
         },
         "mode": "lines",
         "name": "33",
         "showlegend": true,
         "type": "scattergl",
         "x": {
          "bdata": "AAABAAIAAwAEAAUABgAHAAgACQAKAAsADAANAA4ADwAQABEAEgATABQAFQAWABcAGAAZABoAGwAcAB0AHgAfACAAIQAiACMAJAAlACYAJwAoACkAKgArACwALQAuAC8AMAAxADIAMwA0ADUANgA3ADgAOQA6ADsAPAA9AD4APwBAAEEAQgBDAEQARQBGAEcASABJAEoASwBMAE0ATgBPAFAAUQBSAFMAVABVAFYAVwBYAFkAWgBbAFwAXQBeAF8AYABhAGIAYwBkAGUAZgBnAGgAaQBqAGsAbABtAG4AbwBwAHEAcgBzAHQAdQB2AHcAeAB5AHoAewB8AH0AfgB/AIAAgQCCAIMAhACFAIYAhwCIAIkAigCLAA==",
          "dtype": "i2"
         },
         "xaxis": "x",
         "y": {
          "bdata": "+rLFcm8m/T9UBIh5TWAGQDQTtFsT7gtAOClBQ2+GCUCiU0yn4ooHQBQkuPaqbQdAPtQLW7GDB0ADkSIjIYsHQGgIpW2LrgZAlEW/wLVbBUC4q2aaql4FQMa53YUGRQZAMAbAQkI+BEAoMK+9KUIGQC49TpSFgAZA7cLMEBlEB0AfJjekMz0HQDmT0+J9ygVATXGzI9M4CECcpWKf0GEKQM9KyIG4sgpASRcaH+zpDEBIi80i+/UNQOOp15hvigxAMnrZqPKZDkAbnPkkJ3UQQCp03D5zNBBAy/tj2PfAEEDmYC0b8DsSQEZrMDToSBJAZre75sNAE0CCyHmeHZcTQPRVl5BKOBRAIre8B3rvE0DDC+KezTkUQFagvrAk7RNAyTgpbMOPFUDCFGk+j2EWQKHrxFJ0TRVAOTrjq6AzFUB6mTaiafUUQLDKGyYJDRVAYW3EMlFGFEDEx/1wwYMUQCQ1pYpSuxRAVeTkqYu1E0BYtc2Kr00UQPSKyZvg4xJA3XgtJOtQFEBImLPUBIESQC3sZ9sDhBJAaIj01cioE0AKtg7OdBUTQKqYPmaxmxJA3aQJL5TyE0CtwDjfgtMSQKHGJcbHZRJArr3q3U76E0ClgcIcI/YTQPCSB0UOsBRAMwQ5rOSVFUDiKuJAHhIWQLnxTdPmCBhA70f1VdB3GUCyOMQkz7sZQBJX3jg6gRpABj0o5ItIG0DX1JeDWicaQIjyxVs8rRpA0mwqCLDqGUAMMHDW+rQZQCTQdNoKEBpA+6v0Sv+gGkDNL0Ps86kaQEZegTWY6xlApO5DIWgzGkDdynHJIzcZQEduPd2G5hlAYpQDFX52GUCUbFMV+BMbQGBoz36+yhpAG9R2mL9EGkAWp8P8qp8aQG6hNq47zxpAwmA1OUQkG0DUFGjjuXgcQKr7Wf0QzB1AfSv7RAQ1HkCMphe72vkdQKDhrzAUJh5AqoiAVA9xH0BP1yNY1nIgQFPJ1nniASBAsi/89BVQIEBAbgMsMyYhQJIg7JA2yCFALQkzk6zlIUB3+5ourVoiQCv9CiwnQyJAARxSMUb4IkDjOIddAZ0iQHwnacH/dCNAitqDRcKiI0A+P7x0MAAjQHp25M4C2SNAOFa3AQXOI0BQDk8oaAMkQNNbNTX8+iNAyV3nMyWmI0DtIQkt/YgjQEI2WOqltSNAzGMw7obKI0CCoqJUTMEiQAeW+bcsCSNAQ9pTup7uIkBy5CqpO0IiQEZEX5JtOyJArvrh/oWLIkBdjkiptNwhQB83HW6Y4yFAfoS4CS+3IUDegtltpE0hQNy5V0dBwiFAKuaA3eYoIUCbHxI2DkghQI+F02aQbiFAjPp9TibGIEANhSK2YxIhQKtwF0OZViBAGMZJ/S99IEBYCK364eweQGmXVa07Lh5AK6+NntKnHUAly1agDEseQBgYgzyNOxxAGs3aV2EHHUCkJiL+LUocQJSU7CsltBtAaFQ+VE4sGkB+2ytha90YQA==",
          "dtype": "f8"
         },
         "yaxis": "y"
        },
        {
         "hovertemplate": "Sequenz=34<br>t=%{x}<br>v(t)=%{y}<extra></extra>",
         "legendgroup": "34",
         "line": {
          "color": "#ab63fa",
          "dash": "solid"
         },
         "marker": {
          "symbol": "circle"
         },
         "mode": "lines",
         "name": "34",
         "showlegend": true,
         "type": "scattergl",
         "x": {
          "bdata": "AAABAAIAAwAEAAUABgAHAAgACQAKAAsADAANAA4ADwAQABEAEgATABQAFQAWABcAGAAZABoAGwAcAB0AHgAfACAAIQAiACMAJAAlACYAJwAoACkAKgArACwALQAuAC8AMAAxADIAMwA0ADUANgA3ADgAOQA6ADsAPAA9AD4APwBAAEEAQgBDAEQARQBGAEcASABJAEoASwBMAE0ATgBPAFAAUQBSAFMAVABVAFYAVwBYAFkAWgBbAFwAXQBeAF8AYABhAGIAYwBkAGUAZgBnAGgAaQBqAGsAbABtAG4AbwBwAHEAcgBzAHQAdQB2AHcAeAB5AHoAewB8AH0AfgB/AIAAgQCCAIMAhACFAIYAhwCIAIkAigCLAA==",
          "dtype": "i2"
         },
         "xaxis": "x",
         "y": {
          "bdata": "99ygjPwLFUAvTezXbuQYQDx73oVhixlAMjQ2lVtOGUC864FdCykaQExNm+YcdxpAzXp9AS4yHEARtojNfY4cQOMfhMw4wBxAX0rB110fHUCP1w9dFEkdQGRPc35gfR1A/IsITmfCHkBspr6xUJ4eQJJOsKTtNyBAHdRuxJf7H0CLXk6DRF4gQIAt4aRzZiBAVbLWCmS7IEAhLsTuXcIgQG4fHgSDWSBAal8pGYwVIUCqo1Uo7OQgQImtf2QC6SBA5ETyWJhQIEBHSiB4WpggQCnJtSObayBA/Ke0asfiH0B6AHwtwnwfQKgZSRvQDCBAa40KXQQXIEBpODOYISggQE8q84ySWB9A7K3LAxfVHUCqzaQQSaodQJg0GHex6RtA6eDmmSVKG0BnH9zbpO0aQEsRToIbDRpAxMXRy/K2GkBMCEz/LgwaQJcdBwFPMRhAhRhE+aUpF0DkUyT7KnwXQBSglTLSXBZABDTUd2j4FEAIHUOljzQUQKDvfHDG0xJAv2tMxBLME0Dblc6xtPkSQKe2XxWnMBJAbi/vD/rjEkChOdcjWOYSQGvLyL8lahNAlD4zzCrlFEBMA7rVSpQVQAcgI1nOSRZA0BHD4sJEF0AYIWGfqPIYQD4xi6dQ8xhAOheVnJuDGkDWYQ4SiKAbQClXR+K3yRxAiHd6XEPaHUBKkd3Rg9MeQLIWQVDgNh9AuMGmKeSCH0CoB30T1Z0gQHgQuVTiFiBA0TIEv5q9IECMWv4sl1ogQGpyGoaZ9yBA+ln+X/vIIEByD8NrvsUfQAYa3CxHaSBABxAFUT8DH0DcXi/6+1UfQC4Djw6W3B5ATg3STb5XHkBPQyDL+w8eQBqZfWL2HB1AGc89bStjHUCGZypyxXobQG0TaKnpoRxAIAUsAbv7G0BKpM2ZxvIaQCL8ixRsmBlA/OYz0kMmG0B4geVoi34aQF18lR5Z1hlATLtZesefGkBFaiVnHMQaQNyQt1RoyRpAMMdzUYV2G0AGYuDJ7YQbQCceRCheBhtAug7gakBBG0DlfHQC5uIcQG9kQo5QNR1ABxj+Jl0NHEAGn8SNpj8eQN0/LySOPR5AmWNF2V4aHUBJgPsrq+gdQAO380/qjR5AWB0LX0leHkCnkl1xQAQdQOk4nTnfEh1ASol2iITfHUAerN5DDLYcQJZ/xS5+shtAcxqZ16kVG0BMWr2tEXcaQMwCAft0GBpAIkpa8Mo8GEAz4QOrzgIZQAr+Smsr0BZA82VktyQEFkBkgWNveX4WQLm3heovWRRACFjjLAiDE0BDT8LtBeMSQNvYMA36oxJA9lHA55IbEEBYiVZhS9cQQEeI0Yl31gxA1cl8lIocDUBuU3GQYXwIQNwWXqtN/AhAgNTqTAs4BEDKPFVK+bMDQEi3vYQnYQNAIEnLfj8/AUDOoI00U778P2PfyMcLnvU/paCunbdS8T9dS2AujlL1P7GXbsYyoO0/JG8k9QTe7T9YF4tnSl//Pw==",
          "dtype": "f8"
         },
         "yaxis": "y"
        },
        {
         "hovertemplate": "Sequenz=35<br>t=%{x}<br>v(t)=%{y}<extra></extra>",
         "legendgroup": "35",
         "line": {
          "color": "#FFA15A",
          "dash": "solid"
         },
         "marker": {
          "symbol": "circle"
         },
         "mode": "lines",
         "name": "35",
         "showlegend": true,
         "type": "scattergl",
         "x": {
          "bdata": "AAABAAIAAwAEAAUABgAHAAgACQAKAAsADAANAA4ADwAQABEAEgATABQAFQAWABcAGAAZABoAGwAcAB0AHgAfACAAIQAiACMAJAAlACYAJwAoACkAKgArACwALQAuAC8AMAAxADIAMwA0ADUANgA3ADgAOQA6ADsAPAA9AD4APwBAAEEAQgBDAEQARQBGAEcASABJAEoASwBMAE0ATgBPAFAAUQBSAFMAVABVAFYAVwBYAFkAWgBbAFwAXQBeAF8AYABhAGIAYwBkAGUAZgBnAGgAaQBqAGsAbABtAG4AbwBwAHEAcgBzAHQAdQB2AHcAeAB5AHoAewB8AH0AfgB/AIAAgQCCAIMAhACFAIYAhwCIAIkAigCLAA==",
          "dtype": "i2"
         },
         "xaxis": "x",
         "y": {
          "bdata": "6ACmJOQuI0Dv9fi0EHgjQCdmmpS0liNAMtXenO+YI0DeQxX0uxkjQGjJ38aBPSNAyzqn95f5IkAzWxH2HxAjQP5l16TewCNAMnmH6FefI0AQYBV8j0MjQPijOQN/YyNADnXVNv9VI0Aw7oyfENkjQLz6kqVusCNAQ3oDY+ixI0DMbA8a7xQkQE2bvPzhTCNAMKM4k02/I0AsVi43NKYjQHURk8ge5yNAgX+r13TxI0ByuK25B8MjQG2eOlqngCRAPjMZJwgoJEBRJvP8dukjQJNrObZZFiRA4f+BTbj6I0DZ+QlcMBIkQH9v87XSnyRAakvyrKLxI0DoDu4W+kIkQAlPLx/ywCNA2FcIcSrXI0BM1Yp2RlkjQIrvPdHpSSNAqEIGwRZuI0DHzGk7RQEjQAhFDP8QFiJAbXz/fIxkIUCkUdQVDJ0hQMgdyW0ZbyBA9X+S5/PNH0COo9wi32IfQPXqA64dDx9AD/w9CvkOHUAQy5zwXFYcQKsXHDIPzhtArtux2ztAGkCXVogxF98YQPbuu1VYkBdASDWH8b6SGEDLTOXHjloYQOhhalNJpBhASpEhfg3NGEAf4z/TCI4XQErOdZT0EBlAMuy7BHBlGUD+ha+rjSEZQNwHCt/VxhlAl0aePgnhGkDCxDI260QcQOtzYwojoBxAxKBr42SJHkC+DxIIixQeQDaoubOR/x9Azc0HNgkSIEAcgZ2ooLkgQFPp9lK6OCFAEmpn5w+AIUBRATgpyF4hQN8HlO9EKyFAXm982/54IUCm86J5fB8hQPd5VbcqKyFAuujtRO8DIUDDd7cqEDggQIM6i2kp+h9Aaun7+zK4H0CutuCnX0wgQBsymx4mdx9A0tI9K+rQHkA1RctqGS4gQDht0hkt9x9ATpBmn5NWH0AwHuE10pQfQEtLlvzu6h9AobGIGQSvIEAvBObVN3YgQDshDforPiFAuAvJEQiCIUC7dQIDNx8iQE91raZ/EyJAWUNAiyoVI0CTtpnA/4EjQPaDLOf0wiNANMiDDQisI0DAg6sIk50kQLI8q9kBviRAoNdr1zd8JUBQ9iJYdqUlQDNmYxlLfCVARYTJhErRJUCmoMLZ70kmQDDooT0npCZACCNp3MAPJkBIySpj0REmQMlCRadSwCZALAtN9WzdJkBL2Lkb3pEmQFX+bl8cwSZAKyN4acIIJ0AIbegHje0mQCSq7nut4CZASdXJRGVxJkADfnq+A7ImQPGG3mXIfSZAr8Xdwc5UJkCBLLwKY7slQGx5qaORSCZAfN1CAHBLJUB/o71Z9+wkQJPgw96EdyVATfzsXFBEJUBK7ovw72ckQIY3xzbOFSRAGTwb2WKVJED9m7YKMtsjQFK4TVVfrCNAsKeWHkcAI0DzUD3kTV4iQMBNf2fO8CFA20w1DKAIIUDujUFpkjMhQHfbQkpu1R5AU//JAfc+HECMBPhKy0waQHEVGnGHjhVAfpXeLIDHEkAiU8EFdqARQA==",
          "dtype": "f8"
         },
         "yaxis": "y"
        },
        {
         "hovertemplate": "Sequenz=36<br>t=%{x}<br>v(t)=%{y}<extra></extra>",
         "legendgroup": "36",
         "line": {
          "color": "#19d3f3",
          "dash": "solid"
         },
         "marker": {
          "symbol": "circle"
         },
         "mode": "lines",
         "name": "36",
         "showlegend": true,
         "type": "scattergl",
         "x": {
          "bdata": "AAABAAIAAwAEAAUABgAHAAgACQAKAAsADAANAA4ADwAQABEAEgATABQAFQAWABcAGAAZABoAGwAcAB0AHgAfACAAIQAiACMAJAAlACYAJwAoACkAKgArACwALQAuAC8AMAAxADIAMwA0ADUANgA3ADgAOQA6ADsAPAA9AD4APwBAAEEAQgBDAEQARQBGAEcASABJAEoASwBMAE0ATgBPAFAAUQBSAFMAVABVAFYAVwBYAFkAWgBbAFwAXQBeAF8AYABhAGIAYwBkAGUAZgBnAGgAaQBqAGsAbABtAG4AbwBwAHEAcgBzAHQAdQB2AHcAeAB5AHoAewB8AH0AfgB/AIAAgQCCAIMAhACFAIYAhwCIAIkAigCLAA==",
          "dtype": "i2"
         },
         "xaxis": "x",
         "y": {
          "bdata": "XxkXA5+VHEAs6ifKm+8dQLbXTyCYPh5ATrcMjGxGHkApJhdWTA8gQLRMZOk5jSBAzlzSRQlhIUDv2UwZvKwhQMdciCgUOyFAzq5cPDxXIkAfpqT54dEhQL0ou94wpCJAz9r4lV4eI0AxssBs3doiQGSqOm/jiyJAyb1IRnE7I0Axz+72kN8iQAbO3O4UxiNA12G9yt2ZI0Cl7EcYiLIiQAaYrymrUiNAbBioowYEI0BRDF4dbj8iQFZdPzWrKSJAXkfI3ZPBIUBNZM9CAGQgQIFdrgHEjSBAg0mzxZVsIEDYagB4EnseQFy/My6XhR5APM4XAEIyHUDEQfwXl+gcQMRiYCHWBxpA7LC+20vQGECCwrh5/jIYQK62s4WoPBdA/siS2VMbFUCfNymYyN8SQEOATRY7FhFAxCXwYqrHDkD1otBTPhUMQMJI7SyQLwdA/sNvjRA+BkAg5+Zmj/UBQLg9nnwi9QFATEx9g4rz+z/Xypc0rrr8P/Ysn5x6j/8/oHAlnlZC9T8gLRT6EBz0P/buY8jBEuw/BrrW47Rs9z90rjMtVZX5PyShsUwEEvs/p1ZKmV759j8YZAE963L+P4LJpv1erQBAmrUMXmRABECtb5YkcfcEQFZCnSGl7QdA33mdHN0wCkBloOM44YwKQChojCaQQw1AqMsT9boEDkDgYFduItgQQPgrLC4/lBFA9CuvPo6fEUDe8Q8HTlgSQPmQaw0hiRFAdeHGa94JEkBnsxVWg1cSQLETCR2lZxBASw390fQTEEDvpZ+ELngPQJI8YmSqWw5AdFsu927HC0AytQnIwrwIQEajwsAFpAhAheOIJr+OB0BjxKcZ9qAFQAg/VgLqRgFAl2D017MjAUDRFu4YDAoDQEixgQy91gFAbhlGBsStAUCpYWo34awDQHyWvgfRswJAONMjETjOBEDaIIuEBd4HQGqD4hk5hAhAijCwNuKOCECMiGTIOK0LQESaD2TDdgpAVd1uBZ/ACEB1K9UCv4kJQDYsWEIsZQlAS2zb4inqCUA6I0Gas9AMQO4RvbiilQhAu9TFXdodB0D8eWUA2hwGQB2VwvhemQVAH2amNBmGAkAv9e6ccu4EQCaSWDs3HQJAI3I7e7MsAUAePxjwSCIAQEo21iBbSfc/RmllnhJQ9j//44loMKL2P0/DDirITew/QVRU6Ide8D+MVT9bqoLxP6GE0/ema/A/VWcQIirQ6z+e57SoAsviP8S9Qa1L1+U/mTtlgKxN3z8Ss4NJEgTwP9fwRG6mzuY/cs16dla13j+PwGSFI/XqP8jeWodY4Oc/0dZfXISr3j8+WXZz26/nPwCWcIvk4+U/BSPKSQa16z+XtdwSlDzoPxryA21wdtc//JsQPGha7D8UcHloM9LkP/U6i1TlZu0/cLjIfnsn4T96wM3TVfjtP3Ivq4TNdOw/INqLx22x6T88t7GU5UjoPwPoA0LeHto/niwWdnec4D/NBw81sGbhPw==",
          "dtype": "f8"
         },
         "yaxis": "y"
        },
        {
         "hovertemplate": "Sequenz=37<br>t=%{x}<br>v(t)=%{y}<extra></extra>",
         "legendgroup": "37",
         "line": {
          "color": "#FF6692",
          "dash": "solid"
         },
         "marker": {
          "symbol": "circle"
         },
         "mode": "lines",
         "name": "37",
         "showlegend": true,
         "type": "scattergl",
         "x": {
          "bdata": "AAABAAIAAwAEAAUABgAHAAgACQAKAAsADAANAA4ADwAQABEAEgATABQAFQAWABcAGAAZABoAGwAcAB0AHgAfACAAIQAiACMAJAAlACYAJwAoACkAKgArACwALQAuAC8AMAAxADIAMwA0ADUANgA3ADgAOQA6ADsAPAA9AD4APwBAAEEAQgBDAEQARQBGAEcASABJAEoASwBMAE0ATgBPAFAAUQBSAFMAVABVAFYAVwBYAFkAWgBbAFwAXQBeAF8AYABhAGIAYwBkAGUAZgBnAGgAaQBqAGsAbABtAG4AbwBwAHEAcgBzAHQAdQB2AHcAeAB5AHoAewB8AH0AfgB/AIAAgQCCAIMAhACFAIYAhwCIAIkAigCLAA==",
          "dtype": "i2"
         },
         "xaxis": "x",
         "y": {
          "bdata": "w/WxgNraIUAwKKYudqwhQBAfYUCxOCJANWz1N0zpIUDxkZeGj34iQNbjRVklJSNAeOMm1/VHI0ABwaA/60UjQFwxId6QGSRAAowUFmkbJEASByTf+TYkQNxMAn1YbCRAX7RXf8viJEC1YgxvSgwlQLDm3X8QCCVATLtYwyTdJEDQqLoCfKMkQILg1RVisyRAqvCb/IJ8JEALDLMDgCIkQG9jbfsY0iNA7B7OxWhjI0DaTOU43R4jQDCBrray3iJAJLgjycjYIUCH5BRJLyQiQCbjB/vlUSFA3sBc6TtpIUAe7mg1l+ogQOVtdH153h9AdxoN1ufZHkDtOH4EPa0dQPzYf/C4kB1A++Ho2N87HUBtDi1rCxMaQJUoPk4tXBhAcuErrkwYGEANHsd5OOwWQCGvcq5HgRVA3urctynEE0AFLrPsJ1wRQDH0yB7g5Q5AlLmhqqgmCkAtlS1yJM4AQMzqq2JtJf8/wgUguZ4s+D/+twU7aNrqP0WwkRzjn/Q/3yjKWFl8AEDVHGZ6IiwEQK9sJsgppQVAbpHVx97cCkAe2jOQ9bMNQJ4UreMphRBAFUG2xSbFE0BsAdE88I8VQAuYPX3tOBdAXxNDo27VF0C4X5GuYvUZQNzelxHiVBpARauiY34xHECOy++Bu+cdQIciZ2PPIR9ASOZXuAmoH0DVm8yExukfQES5gMI6piBAK/lh1yYUIUCKmI3geN0hQF7lNd6NcyFAJDfzl3GMIUD29W2fWschQH0sZ9C+0yFAf4tbrZ3mIEA0QlzAxGEgQGxU2D6tvR5AfJwaYL7aHUDmPs+hDxcbQBfHLnxbtRpAqb1H7VCyGUD3SAREO3YZQC6UtTdPWRdA9EMW5BuNFkBw9fVm9qIVQOVlTCq+PBVARzghMwtoFECstT5eaiEVQOUAhYNEchNAc/IaOxrSFECf/hSAOR4UQFSzE9Pb7xVAgxJa6DwcFUAWR+Bqz3gVQGBHMxCwaBZALxkI8tiGFkCGm/xts1kXQFogjyFZexlABjHl3ln9GED2uPOJ8psZQOFl0nzpeBtAjk/zGMjKG0A4Pe9nQE0bQBFM7GVLlhtAlu86aP/XG0C/bqeCiowcQPLOjuMnphxAfnyik1e0HEBFzJbg/awcQLVlkJ+8oxtAuXjgkvgZHUBCcjxgXhccQO/2zMfyLxtArTQkdx86GkCT9CAvH/sZQF+NcGPjdRpALAkkQQpdGUB7j1M9rf0YQHKnvjA6AhdA8l8BdUbPFUBA0rV7zPgUQEYcG+kgtRVAOJd0T/I2E0CLEr7nPccSQH4wyIZvSBJAzTX4wQZcEkCnvki5tE4RQNk/T122QQ9AWUqm7YNyDUCgRb9FLn4MQGxCpE3CDAhADOyzWj9qCEBAnMWyNvkHQLwtCXJ08QVAQ/d9cdo5AkCmvSh3k1D8P4E9ZpmgvPo/pKmHHllE+j/zcO1pa0TwP/AbbLtubPU/0MaS0Tyg9D/tAAGpWODjPw==",
          "dtype": "f8"
         },
         "yaxis": "y"
        },
        {
         "hovertemplate": "Sequenz=38<br>t=%{x}<br>v(t)=%{y}<extra></extra>",
         "legendgroup": "38",
         "line": {
          "color": "#B6E880",
          "dash": "solid"
         },
         "marker": {
          "symbol": "circle"
         },
         "mode": "lines",
         "name": "38",
         "showlegend": true,
         "type": "scattergl",
         "x": {
          "bdata": "AAABAAIAAwAEAAUABgAHAAgACQAKAAsADAANAA4ADwAQABEAEgATABQAFQAWABcAGAAZABoAGwAcAB0AHgAfACAAIQAiACMAJAAlACYAJwAoACkAKgArACwALQAuAC8AMAAxADIAMwA0ADUANgA3ADgAOQA6ADsAPAA9AD4APwBAAEEAQgBDAEQARQBGAEcASABJAEoASwBMAE0ATgBPAFAAUQBSAFMAVABVAFYAVwBYAFkAWgBbAFwAXQBeAF8AYABhAGIAYwBkAGUAZgBnAGgAaQBqAGsAbABtAG4AbwBwAHEAcgBzAHQAdQB2AHcAeAB5AHoAewB8AH0AfgB/AIAAgQCCAIMAhACFAIYAhwCIAIkAigCLAA==",
          "dtype": "i2"
         },
         "xaxis": "x",
         "y": {
          "bdata": "eZsS82hJFkBqpIxM/TgZQMNdAhzOSRlAFb3LfFvqGUDZSx37gQMaQE976nLRDBlAH78qPnx/GUCwbKP/iQ4bQEab4U4vbBpAJWkQA6XrG0CgcZy4OlMbQH3xg7nZRxtAm3orM9gGHEBqMovVKFMdQDw8wt141BxAIJG2OkjFHUDvS+OQfkcdQETHEPnBnBxAY/elmoHKHEDZjENINgUeQEhl0VT4vx1AOpnYNutyHEAtCjCsPgQdQBF3w6K08RtA/Hx38ruzG0CMmpWrl0AdQEDvPluhcBtAkC34HWm3GkDYURDHtXYaQC4WFl2QfBtAo1inavBrGkBMLRTTOqEaQI7JdVi/0BhA2PclhS8pGUAdeSe5LigZQLe+ur+s8RdA5OU0UJViF0C3gSFkqqgVQD71mAxifhVAsCouYId8E0CWVyPKcm8TQNwT9IhcyBFAqLaTygr9EEBaiqk3KNsOQJrfJ0lHZA1A+1NSvQS9CEA2EGcRbGkFQN86JUQ2YgNA+xjiy+Qn+j8SO3qaSmbyPwJyFz9e+e4/DSUo+TG74z9swoFeBvX4P0Nc0EQAt/c/vOrkRLrl8T/tuwJ/WmLyP4/+aFyNGPo/fycro8K9+T8ff+IG3OYAQA0HxG8q5ABAf6Pi7gdKAkA1vVFo62EGQEDEOHax9ghAMaeoaxv1B0D/7So+4PoGQMZNB5+mzwhA5/E7XPzTCkAVbFExvY0MQPy4i6RCXg1AkcEGobqVCkBU+L0xrZsJQJ1iceUJVQdAQhPahhP1CECfFRdpCVsFQHUs+b1UlgJAFBTPPdIHA0DCVCKtyYv/P4WcdE9UO/8/29AsrAFW/T+fbR4rWdz8P7Dx/OpFUP8/31SBkpgo/T+kWBeX7YcBQLiLL5cYtAJAwQFTdhI3AkBiVMf/eb8CQEJP5yLwMwdA9BsaMh6rB0DddB5hLksJQMxVWpT1EglAd2W2tuBJCkDeMz/TIr4MQNdgNaFEvAtAgoCcdVFbCkAe4skjpK8KQG9rpLHNqgpAkMqE5LjwDEAkDEyHs7YLQJqI/j4fYApAKyI+c+rrCkAoRcJg5LwJQKQ4UvatmAhAtfB4GjO6BUB7zcNtjr0FQLSTAjpWCwRAnwqFZH7JAUAHq1iIfwgAQHvQIeGxpPw/ncwuxMdy/z8sk4q3pQb6P4R+/zm1afg/49Pmpg1z9j+bURSercPyPxCDiAYZMvU/wprYpUZ08z8yl4ULu0/xP/PtY//1XPE/RHKP6ASW6z/tCTvcsvPzP5DHH+GZNuo/FS+gKFRV4z+cnK/31xXqP46TpnKA0Oc/NtViE+Bq6j8I7IZwioPlP/Xfz7Sd1eE/Lf1pLnCe8z/Zf6GL19jtP97kLRk++/E/C/9XwptG8j8JJmkDrRPuPwNVVAEJieE/4oi8aKUh6z95UkXTlO3sP6bFRnMYj+c/P0vxB/D34T8SVvzBvFfpPwDi8eFM0Oo/6iKdLWym4D/gwwgDCl/fPw==",
          "dtype": "f8"
         },
         "yaxis": "y"
        },
        {
         "hovertemplate": "Sequenz=39<br>t=%{x}<br>v(t)=%{y}<extra></extra>",
         "legendgroup": "39",
         "line": {
          "color": "#FF97FF",
          "dash": "solid"
         },
         "marker": {
          "symbol": "circle"
         },
         "mode": "lines",
         "name": "39",
         "showlegend": true,
         "type": "scattergl",
         "x": {
          "bdata": "AAABAAIAAwAEAAUABgAHAAgACQAKAAsADAANAA4ADwAQABEAEgATABQAFQAWABcAGAAZABoAGwAcAB0AHgAfACAAIQAiACMAJAAlACYAJwAoACkAKgArACwALQAuAC8AMAAxADIAMwA0ADUANgA3ADgAOQA6ADsAPAA9AD4APwBAAEEAQgBDAEQARQBGAEcASABJAEoASwBMAE0ATgBPAFAAUQBSAFMAVABVAFYAVwBYAFkAWgBbAFwAXQBeAF8AYABhAGIAYwBkAGUAZgBnAGgAaQBqAGsAbABtAG4AbwBwAHEAcgBzAHQAdQB2AHcAeAB5AHoAewB8AH0AfgB/AIAAgQCCAIMAhACFAIYAhwCIAIkAigCLAA==",
          "dtype": "i2"
         },
         "xaxis": "x",
         "y": {
          "bdata": "y/tXQFg7EkC1vrLjM6AVQGNqkUsk2RRAoq/3NvejFEB33wTxlrIUQErRlvFCIRZA+IeolwKwFUBXssOtBHkWQEBaQQODuhZAMajCGbjsF0Dph7nsv3YYQIQtf46oiBhAGfPRNPWfGUBMgA5CTiwaQMh4zk6rexlAhdhYyXZvGUCmd0sLqpMaQHyvaFADYxpApSjBgXMiHEB1Cycgy/cbQB+XSEV0kxxAVLkkjjbuG0AhkPyglrobQEGIMOzxmRxAXH/YdSDCG0Djr0/RNMMcQD5ooYO0qBtAuChkSyzmG0A4m/76c40cQNwn1Uty/xtAr3Wa7391G0BjqkEJYGkcQLz7GKZnsxpAawTTJV6GGkDqFzPmL8gaQNTOMnStPRpAwFimZkObGUBDB5FB0MoZQJpsqJzD3hdAE5JaeA7CFkDk1qahRCEXQPAMCmeqNBVA8gOwCXfHE0AE4DUF86kSQN2UaKmrzxFAVsxpD2gAEkAmtCiCxOIQQBO6+wk3Ig5ATfht+zqkDkBGI8jPFOINQJu6DDPWLQxAickJHnz+CkCYOGD8W8gKQHmOdtMvMQtA9M9E90IxC0CoqlFuCO8LQP3kPXfA2AxABxHGsdT3C0AXUcS0IVAOQE8FFQS40BBALpnsjMxGEUAnBVy9IWYSQCpcwyJpyhJAaynrGTZME0CG52/0RuUUQHmIHRQeNBVAkBP8Qhi3FUCuLFfBmX8XQE1P/xbpthZAUCiL1LqAF0CW7V7CwKIWQDKyS3YbERdAtHlE/V37FUAeNjqYgAsVQBW/N/s2cBRAgse4QpocFEAiK/1/1gQTQBrwB65p4BNA/pYhZgGmE0AjNkKhZK8TQLM3fatRaBNAEdli3tV7E0ALRP4XEb0TQPXbcLFv9RNAjaApmEoyFEAbfazBseoTQJxoYB85shVAhl8pjyn8FUCpdbPhurkVQAp7SQFDrhdA4Rnph5wKGEDKc8V1lv8YQOYUu/E0PBlAlWr0JJ/vGUAJHQz47ZsbQHLHxFWpdhxA+n/ATSwAHECu7XbLqh4cQNUShvdXFR1A1jeIFzNmHkC56vpRpyceQJ+271NfjB5AjggQQzxyH0C5vKZASAAeQG0wksZcux9ADQfHvQHOHkA4ZegBj+EeQBpcJbqZUB5AClP2aqEKHkB1Y5exT6YdQCYjZN2wxB1A1llAT82RHECzqwKFNMgbQN/CAe+U9hpA0K1ZwZ3KGkBwuNiBsp4aQFzCaA1wYhpAgpkkUQOxGkDAKn8RRpMYQGUQq7UIsxdAtit7Iq1eGEDiaJkxrhsWQEZn/+lBgRZAdpLHwBDMFkBTN77BQDsVQF532eAnTRRAmejJXN3SEkDW50XvF6gRQOnuqTgLkRFAGoBwQofoD0CarFDI2HoNQO+Bm3kpjw1AHIFaMV5eCkAaosdNeywHQPUCX+b8RARAzxoMFCLkAEA4+m85WeX7PxOUrr+BGfw/dgpB9x+l9z++DnApfUf0Pw==",
          "dtype": "f8"
         },
         "yaxis": "y"
        },
        {
         "hovertemplate": "Sequenz=40<br>t=%{x}<br>v(t)=%{y}<extra></extra>",
         "legendgroup": "40",
         "line": {
          "color": "#FECB52",
          "dash": "solid"
         },
         "marker": {
          "symbol": "circle"
         },
         "mode": "lines",
         "name": "40",
         "showlegend": true,
         "type": "scattergl",
         "x": {
          "bdata": "AAABAAIAAwAEAAUABgAHAAgACQAKAAsADAANAA4ADwAQABEAEgATABQAFQAWABcAGAAZABoAGwAcAB0AHgAfACAAIQAiACMAJAAlACYAJwAoACkAKgArACwALQAuAC8AMAAxADIAMwA0ADUANgA3ADgAOQA6ADsAPAA9AD4APwBAAEEAQgBDAEQARQBGAEcASABJAEoASwBMAE0ATgBPAFAAUQBSAFMAVABVAFYAVwBYAFkAWgBbAFwAXQBeAF8AYABhAGIAYwBkAGUAZgBnAGgAaQBqAGsAbABtAG4AbwBwAHEAcgBzAHQAdQB2AHcAeAB5AHoAewB8AH0AfgB/AIAAgQCCAIMAhACFAIYAhwCIAIkAigCLAA==",
          "dtype": "i2"
         },
         "xaxis": "x",
         "y": {
          "bdata": "CIssynRHJEAzX3qTZCEkQLtlDuf/HSRACVeN/ZsKJEAbrYIGS00kQD838iEjDSVAsVdDwg8xJUCntgQbq5klQHz8CWdlZSZA+7LAF7tqJkDdgfJr2AonQOO9LwVjOidABN1WgY+bJ0Afa5K6nHMnQGuONhmwuSdA8Z+L1j7MKECx7BfmkbcoQPE8le1dRihAmXz8ScafKEDfKapFvlEoQMTk8vyLzyhAc3dxJXNuKUBaxMq6RPAoQMbeZkmRvihAjMbceXGNKEC2UeRo0AkpQHAuBul3WyhAxFqixNRcKEAH8eizlYYoQPN1yHBbkCdAKCNqv6V2J0DFBq+PIpcnQJCfgcAjUSdABZH8NTxuJkA4GLhaheQlQMx0HUcv/SVAFnbv7zRQJUBnxDhyJigkQCE4xsmjxSNA2rwi+88OI0AY9pUVyhQiQAn1utHn9SFAauS9Ydg+IECgWokpnbkfQO5Q3RagnRxAufGK0Ps/GkDzJAx57ukXQMTAg3GAsBZAC04UtonYFEAirNso8xYSQIYZ6NX4rA5AtFe5cJgfC0D3oNn+iLMHQCuEtrosfQJACpGvoML0BEAkjwHAX10GQI3VGr1VIwZALGBTWn8yCEAKgrL4bB0JQMpQ3MghwQhAdHRIQ+GODUAU464K76UNQIg2mUKnTBFA8/1y31PCEUDk+dO9fo8SQPBjT5ccZBVAeJQfnkBwFUBD6pfVz3AWQAlBHR6pFRZAFCjgo6e+FUDgPzwaUp4WQJGsbpnkDhZAUSx4NAkzFUCchwl3hwMVQPxsR/UxwxNA4BrTnub2EUCKtJZq5c0RQBB0go3pohBAVo2bRCwEEUBf7UDq7p4PQDC4RepqjQ1AGxB1vnRIC0Ab+m5wg+0KQHB/q9QGjAtA09YpG4g/CUDE8zJyHa0IQESYXH1eqwxARDKzBRjwCkAy1vgXYkUMQGDDI4H9gAtApcNlu95uD0AW3otcL8QNQKzJl/MjOBBAzuoIkFB7DUCO2wRttd4NQDhdv+u9RRBACFFXnc6KEEBpdj6vF1QOQAKFu3jW/hBApj3+ejWAEEBeMk2Ua2EQQMAZnP3LOA1AkApBnuyHDEBoHV+5PYsMQC9Z1B5/dQtA3rg0uP4BCkDCLEV682sIQN8vnLupoQVAvZQA1Ul2AUA+B78CQr/+P4xdrgKmQwBAgiS0oU4A+z9WG/7v7RX7P2pIoXgd2/g/o3aR2/mF9j8SXayUXC71P/pZWBsR4/Q/Q5lyDA0O7z99PjQt5tnpP+hL3+kly+s/TJdsZyXn7j/BiyftZhroP0FH6SvgnvA/lHQzMhYq8T+jpZl00UXwP/wfynzkEeU/ynCdw1iO4T8QyG5zHwjoPxKv/aq1kd0/DLYE72VT6j/jhFPRwnbtP7ZXw5M9V+4/1Eq2zgqZ5T+sqM0n+QjlP8doO3bgIeA/nYKkhWIi8T8mtUMGoifsP/kRuoR8ld4/WrfcBTQ/3T+M1i1qlQ/ePw==",
          "dtype": "f8"
         },
         "yaxis": "y"
        },
        {
         "hovertemplate": "Sequenz=41<br>t=%{x}<br>v(t)=%{y}<extra></extra>",
         "legendgroup": "41",
         "line": {
          "color": "#636efa",
          "dash": "solid"
         },
         "marker": {
          "symbol": "circle"
         },
         "mode": "lines",
         "name": "41",
         "showlegend": true,
         "type": "scattergl",
         "x": {
          "bdata": "AAABAAIAAwAEAAUABgAHAAgACQAKAAsADAANAA4ADwAQABEAEgATABQAFQAWABcAGAAZABoAGwAcAB0AHgAfACAAIQAiACMAJAAlACYAJwAoACkAKgArACwALQAuAC8AMAAxADIAMwA0ADUANgA3ADgAOQA6ADsAPAA9AD4APwBAAEEAQgBDAEQARQBGAEcASABJAEoASwBMAE0ATgBPAFAAUQBSAFMAVABVAFYAVwBYAFkAWgBbAFwAXQBeAF8AYABhAGIAYwBkAGUAZgBnAGgAaQBqAGsAbABtAG4AbwBwAHEAcgBzAHQAdQB2AHcAeAB5AHoAewB8AH0AfgB/AIAAgQCCAIMAhACFAIYAhwCIAIkAigCLAA==",
          "dtype": "i2"
         },
         "xaxis": "x",
         "y": {
          "bdata": "dvvfYBrTIUAwMzL/V5YhQGhtZNy82CBApZeXdLuVIEDYI9JYt3QgQANab38NciBAQxnQ3r7kIED6qaQ87kogQAdBLu76aiBAtVvOZpwaIEA2Jx+qjFggQOE3A/thcR9AatyOfQ+uH0DuFQnbzSofQHu+Fj/0Uh5A3Z/Q9hwtH0AW+HlHifsdQDDjo0Ws0R1AEz0NcubXHUB+wwDbtekcQFTECrfzJR5AChviS0QCHUABc30+uuccQHT8YwiNWxxAOtteScDDG0CjubXdtNgbQKeza3SuIxtADasIPi2fGkAUTofDA7IbQA4UpQ/9wxpAraQOqn5WGkAuQIcId8YaQGF93qUVvxlAq9BPPbVjGUDAmHZaKVkZQI2PDajSshdAVSH67vp+GEBBrhDrNwEXQGS6a1vbMBZA8zPawNFqFUDmDqK1gIUUQCDzDbKKlhRAetfvw65+FEDNW9Gj4IATQDSnelraShJAUKhBAcL/EUBrvPWCvVMSQIY/KiqQvxBAXoe2oal/EUBmUi7bAOcQQGGA68mW2A9AMl+ZneyREECwcFHONHYQQFoknRAyERFAHkOzscfjEUD1hnII4IgSQEndWewuAxNA4LuBhS5MEkCIBoP4I00UQMLc0pnJtxRAElW/Y+19FUDzSDPUhZwVQD59GFdjIRdAWnWM3jpjGEBEok6BnicYQHroSaxPzBlAiY+5xhV4GUCAkPzGtbYaQN8ehtDd/RlAy6HJ4XKaGUCfv8eI5fgZQOz8/E8xWhlAidYfmWP8GUAGazzUMeIYQF7AlBUYORhA7d3zcC6YGECHqpICG/4XQN3nLI2a5xZAaSqZL1/OFkCTCyxJdqMVQJDnqiKwCRdAxWqwjAruFEA1ddGwO9UUQBU7uwfMIxZAeARrVqOLFUC3Pjt63IsXQDRixtWAPhdAup7TAfCzGEBVe5/iFyUZQHYM6x4DzRlA797BtlyhG0AFpQH8FWwcQBIM6mvGIR1A/HCHMZxHHkD3QMNmrRIeQMFVrf2wFyBAWlYjqszaH0C4Yxg903UgQCYpqNFtOSFAs/HJptFdIUCDBe8jRTQiQPpVF5oAxyJAydaMOCqlIkCiRaOt2zQjQIJJHI1XWiNAlAShL835IkCwaS4uCE4jQBT0fuNv3yNAKyQITptWJEDbjNTiZTIkQOcht0bNDCRAMQmhiWd4JEDy4RPwfMMjQPkyFnjp3iNApFemm9bTI0CeUF45QyYkQKq6ORxxsyNA6lWX8C0pJEDCroeeEQAkQKv08HQxyyNAauM1A84NI0CykABR9bQiQDRePtq9CSNA1SVOujAHIkBwFaZ0nFoiQF3egiJenyFAbndHJNNiIUChQdZk21chQNyHHl0edSFAV8fvm1xBIEDVFo2paXwgQPo7cp7y7x5An7hw4bcOHkAIVbkmHWEdQDPV3mmQMhtAoRwFQ6dxGEAG/jx5EGEWQBhSvvqwURVAnL7DMhhnEkDyh5dMJokOQA==",
          "dtype": "f8"
         },
         "yaxis": "y"
        },
        {
         "hovertemplate": "Sequenz=42<br>t=%{x}<br>v(t)=%{y}<extra></extra>",
         "legendgroup": "42",
         "line": {
          "color": "#EF553B",
          "dash": "solid"
         },
         "marker": {
          "symbol": "circle"
         },
         "mode": "lines",
         "name": "42",
         "showlegend": true,
         "type": "scattergl",
         "x": {
          "bdata": "AAABAAIAAwAEAAUABgAHAAgACQAKAAsADAANAA4ADwAQABEAEgATABQAFQAWABcAGAAZABoAGwAcAB0AHgAfACAAIQAiACMAJAAlACYAJwAoACkAKgArACwALQAuAC8AMAAxADIAMwA0ADUANgA3ADgAOQA6ADsAPAA9AD4APwBAAEEAQgBDAEQARQBGAEcASABJAEoASwBMAE0ATgBPAFAAUQBSAFMAVABVAFYAVwBYAFkAWgBbAFwAXQBeAF8AYABhAGIAYwBkAGUAZgBnAGgAaQBqAGsAbABtAG4AbwBwAHEAcgBzAHQAdQB2AHcAeAB5AHoAewB8AH0AfgB/AIAAgQCCAIMAhACFAIYAhwCIAIkAigCLAA==",
          "dtype": "i2"
         },
         "xaxis": "x",
         "y": {
          "bdata": "yWslQd5pHUBixMNdn6kdQIPnuw4tJh1AFQf8FCItH0D4iYOI/PsdQDI+qstRSR9AlUHPq6BDHkAJx3tRJHQfQIhGIVcQ7B9AO1PieHRrHkC8lFeUkvIeQFKuLuHGRR9A9C7I4Cx0H0BysSOxJs0dQLzxp9aZfR1AHzvZOaF8HkA0bgTGc8wdQFsd72C3Eh1A3AofezTCHUBhISTQS0YdQO6zOHA7Rh1ANTZ/CVC6HED37cxAUmscQOTxXUYobxtAXmW4vDbZGUB0BZXCX1saQGhUroRf+hlAjTQG27UKGUCR16+TVEYYQNG2oB/bPxhAMVAFRzQcFkBVWABnu8UVQNbZcSRQ3hVAItl1YRlBFUA1GLn2Ie0SQGuc/8TrIxJATS9gbyNwEEARZFj0aaIQQFgKnu6wxQtA0qYGX+fVCUANHbiAHQgHQJ4cgNui7gRAgrhSVSOjAkBiudXdU4j3PyyALIi3Pfo/zNs20uEr9j8AdTaU3UX4Pxyzf90F4/A/aPg4JBJx6T+U/wNMkl7nP0DHEW8Xc/M/ltNZG3wy6j/MzQVkdUvtPxjJUSx8RfU/Nup5JDrH9T808aUotQL5P4ZeXAhAjQBAX42Vf+70/z/ywedmsVcAQNBJg2xHdwJAgPAvKwVpA0C37u6sILIGQNMTgKJUewVAOTDpTCbBBUCR6Sr5RG8GQJgsoTPq8wZAjiXG/HnpCkAo8ZJKrwENQMziifnMmA5A3JVZY7v+C0DQYkn0pcAMQM/wmtRmeQxAwtseAOqsDEClogkliykLQG/Zx4F1bgtAKMCNjk2cCkAQui1hdwENQAY9ZWiPkAxA+pHsbNJRDEB8+9IqzN4PQPNnYSVxBg9AC38VLE95EEBG5fRbY5gQQKWUq4u9OxFARVgNH+CfEkCjEG92ezcTQPeRLNSYCBJAV+8dlpYVFECOOeP1PIUTQLDenBpuBxNA0+p8uIRjE0B6qPQpcokTQMckeDbKOhRA2ydxEZQIFUD5IPJD298TQKxLe42Z1RNAXC+rfsDXE0BHWBObZ34TQLIg6vUJ2RNAXkuJU/TnEkBZf1U1zR8TQA57iuA9LBRAJCY6M9kDFEACW1BwcFQUQCg3dyRZRhRAW//QyOO2EkD5BCk6JjoTQILMWhtfShJAdLi6ftLYEUAhq9tSAkISQLxdwdavfhJAiDhGi0fVEkCp0Z4nmzgRQPrDY4Zr0RFAdkVMJur5EEAiYUnoGeoQQHx03cjszRFAmZ75zoGMEUDWOg+3GaUQQAauWWHTpBBA3S0S9MMkEUBEGzvx/AoQQGJyvNu6Ag9A5qMDKh5CD0B0oBIhLMAMQE4Ty7Ke0w9AyI1jqf4JDkC2xA/fK6kKQNhGF0XGSQtAqYvvYeWJCUBWDnS1YCUKQJX6CjBKAAlA9qMsK8wvCEDMVtRsPmgJQF2ckz4DLgZAa+wphmOGBkCDU3nOYooEQNodwnHdxANApQNvkP19/z9/hA1DC+3+Pw==",
          "dtype": "f8"
         },
         "yaxis": "y"
        },
        {
         "hovertemplate": "Sequenz=43<br>t=%{x}<br>v(t)=%{y}<extra></extra>",
         "legendgroup": "43",
         "line": {
          "color": "#00cc96",
          "dash": "solid"
         },
         "marker": {
          "symbol": "circle"
         },
         "mode": "lines",
         "name": "43",
         "showlegend": true,
         "type": "scattergl",
         "x": {
          "bdata": "AAABAAIAAwAEAAUABgAHAAgACQAKAAsADAANAA4ADwAQABEAEgATABQAFQAWABcAGAAZABoAGwAcAB0AHgAfACAAIQAiACMAJAAlACYAJwAoACkAKgArACwALQAuAC8AMAAxADIAMwA0ADUANgA3ADgAOQA6ADsAPAA9AD4APwBAAEEAQgBDAEQARQBGAEcASABJAEoASwBMAE0ATgBPAFAAUQBSAFMAVABVAFYAVwBYAFkAWgBbAFwAXQBeAF8AYABhAGIAYwBkAGUAZgBnAGgAaQBqAGsAbABtAG4AbwBwAHEAcgBzAHQAdQB2AHcAeAB5AHoAewB8AH0AfgB/AIAAgQCCAIMAhACFAIYAhwCIAIkAigCLAA==",
          "dtype": "i2"
         },
         "xaxis": "x",
         "y": {
          "bdata": "NOkBZhXwI0CEp+iHeD0iQMyIESYwEyNAPUxsqSubI0BkO6a8pdIjQMyaxTKVLCRAzcypH7UDJEBXVf2pU+MjQLz3sPgxryNAIeyWWrYCI0AIeYiyJAUjQIMwEugZgCJAiQ+vBmv0IUAJaso4PYwiQFkXt7eKJSJAdQaUEZjIIUCsFjQlwLohQEMvp3IFKyJADoo6Z5/SIUDbovsVJ18iQILGKuf1GiJA+asJo85tIkDumTTVtw8iQGSe5DagWSBAEK03mzEvIEDQMxroQdEfQLx1eU/pnh1AAtqPUmiNHUA9ZQUIDksdQOjtRcxdPhtAeME3R9V2GUDBlFGiaEUZQOPCvaErbBhAtboJ3G8rF0DL2krLoqkWQGm027RIBhNAvJJ7EYzCEkBwKrzlrtwRQAz2GHc3HA5A/kKsFUeFDUBF/fNdyhELQLV+JahdeQZAusU8MgQQBEAhdo4sx/j/P/ND0xsMXP8/JeugkYdN+j9rRi2N3iDuP5gr0EmeQvE/T9QgndQB6j9++uzXD8bxP1nodZFfCOw/GhvAfgbe9D+L/iqmhG74P5S3iNzvs/U/y3XsFqQ9/D/YEljfuKIBQNpCJ2FcKwRAdckj/UVuA0AIcBkI9QgGQEDk704R0wVA0kUJHvdrBkAOSn0eiOsHQEtX6sOUWApAEuziBHFIDEDPtan5J+0QQIAv/43LOA9AzS+a7eHiEEDIm+a4L1YRQAaChkQGhxFA031hA3FyEkAp8FIGbRARQBo+OI/9aBFAXNANJCuGDkBOs3MdwLMQQNJZRt4avQ1Auu6px1eWDUBIZ7oOblsJQBgVTBHgxgZA2cLxJjhFCECYFo8mlegGQOIGG+hcQgVAg411vU5fBkB2LFD4/jEJQBai+Q15RAxAXVSsp3deDUBGXc1hrtsKQHIqwSg9Dg1A5XZ1WDJiDkDd0LHv698PQPDWYA5G4BFAnxS/Gpu0E0Cc0I5csDkUQGwDGrYtJxVANCmb1qLMFUDppz/5M+YXQOm+E/OV4BdA//O3i1BtGUA4/kQc3sEYQPhoIwDJIBtAPkLRnQ9qGkAoKc7mgZIbQEL7mOwYGhxAuuk4PUYMHUBN9N72JyUeQJsE04j1hB5AVq3cSddsHkDM30wOL7MeQNnCTSeHbB9Ahh7lhjsPH0CyNZMHNggfQKXZwJcfXB9AJ3FuBkPGHkCY6bnQOKIeQM5/ElLokx5Advvr7Lj3HUA0Dhd36xEeQPioiEm82RxAnRNnfAB2G0DWdkvv3scaQCiHP0QpFhpA873/sRWMGkCALtKs5MUZQE1vzPNRCBhAwJNxu1p0F0D4FpbJonoWQHwc11g4yxVAzm75QSxHFUBB7Lsf2zsTQMLvXWvMZRNAiAOh4g7jEUBY6HwIpgoQQBWOS4Z6jw9AlLypYfbhCkDuzkxL+gsHQGBLhGq2ygVARQGrTg3cBECNO7JCzzMBQP0mMPBQYv4/30u3CmmQAEBicyGTT1/6Pw==",
          "dtype": "f8"
         },
         "yaxis": "y"
        },
        {
         "hovertemplate": "Sequenz=44<br>t=%{x}<br>v(t)=%{y}<extra></extra>",
         "legendgroup": "44",
         "line": {
          "color": "#ab63fa",
          "dash": "solid"
         },
         "marker": {
          "symbol": "circle"
         },
         "mode": "lines",
         "name": "44",
         "showlegend": true,
         "type": "scattergl",
         "x": {
          "bdata": "AAABAAIAAwAEAAUABgAHAAgACQAKAAsADAANAA4ADwAQABEAEgATABQAFQAWABcAGAAZABoAGwAcAB0AHgAfACAAIQAiACMAJAAlACYAJwAoACkAKgArACwALQAuAC8AMAAxADIAMwA0ADUANgA3ADgAOQA6ADsAPAA9AD4APwBAAEEAQgBDAEQARQBGAEcASABJAEoASwBMAE0ATgBPAFAAUQBSAFMAVABVAFYAVwBYAFkAWgBbAFwAXQBeAF8AYABhAGIAYwBkAGUAZgBnAGgAaQBqAGsAbABtAG4AbwBwAHEAcgBzAHQAdQB2AHcAeAB5AHoAewB8AH0AfgB/AIAAgQCCAIMAhACFAIYAhwCIAIkAigCLAA==",
          "dtype": "i2"
         },
         "xaxis": "x",
         "y": {
          "bdata": "RfFXInzmG0CkWl/xC0kdQOV+Tan/vxtAb/5Os8dXHUAbzL64WQ0eQDN1PxFmix5AkzvLDZ0gIECIgmfK3HcgQDRSriSoDiBAcyuQ2JfQIEDfjGrbedQgQBYh0acxeCFAWrZhs1/0IUB1gwmTwlIiQP8n+TorACJAj/s8KzrWIkAaBgnw0lgjQMZgOxAn9SJAPDUW9iLYIkDWcqg4zQIjQEJDgc9mhyNAt/VlblpLI0AyxSiL+uQjQJeVDq41+CNA2FkyLuFbI0DxaqDsIxIkQHkMV/PIxiNAWS6An59kI0D+vQaMAKMjQNKdmIJUDCNAzhfKRxp/IkAFa3bJtqIiQOcxDXg/RiJAnw8ZwfyvIUAF0QOAyBciQEt+B7AxHiFA4MopI8kGIUBzyyTlbHUgQOxvy2F9MiBAsXHO2rYFIEChdeV6zgAeQPoqtTBl7hxALQ4CMnBVHUAyqs0ef9IbQEihcHVOHRpA3IBvM0JWGUCZKkSzS54ZQMYj9OBnExlAvbnhlNl5GECoosWpbqQWQForRI2wnhdAhGmVvw6iF0BUycVQo00XQFQ172NWJRhAXizI8dbiGEBjgT8MyZkZQDtXaC2EuxlArfAP5VkUGkCBW3Gu+ogbQJKEL3oUhR1AmR2an36sHkAwxTYL7H8eQPMvD9zQhSBAsuXSZlSJIECgzw0tzw4hQGtUpy2iYCFAUw8w2jmcIUDmYgdaKkwiQOv1WXhcGCJARiVr82VZIkDDk+SnK3ohQOLyZiu4KiJATNIuUwBPIUCNInklookgQEWZvOqt2iBABrqDIRozH0BWMs+Ov9odQMiu9DSyQB5AuC5R63+rG0DmJqi9wgQaQIqUduq2CBlAu/BZI6JhGUAqADtLyHQXQCXTHEQADRZAVGy2qdyyFUCe4tLJzr0VQKjBajuA8RVA/xuVh6+0FUB85Rpn0zoVQLj6Ks9p+hRASnOh+WxTFEDAs3rRWyIVQPLjiZnrTRVA77gAJ56iFUDtd20Ma1gXQD6TAETueBdAIDpSbzwVFkDCadFGfC4WQMPyq02B7hZAbl5oll1bFkCvWXtSFBEXQHSxYa1B0xdAEgun/N5eFkC3eZDA2isWQMQsEDAYSRVA3VXRJSwEFEB1VjL/F9gUQMBbK6EiYhJA6ZwpPWJKE0DzD/+G/20SQBJ/JO3uqRBAXILLiq5tD0DwY5YwmLwMQDTnuHD4UQpAXkDDUpPnC0AKRAkNzdIKQKAQbaP7rgdAZHMZjFz3A0DerWS12NQEQDa5aNkuXgJAxeDWqEaEAEBjBGaNk6wBQPpLu9CFXPg/RNWuty3l9z/nA2L2YlP7P1e+kG6dZfY/GuQlOi5C9T85tyQ0hjHzP/ohzHVDEPI/wjBz7GDb8T86CL8af2PwP0VoMnxDQeo/uuHqIE265j++Ucf3ED/rPyItHPP/Oeg/WByxvT7P4D9170Q7pq/jP1FxmZGbgec/U14I6K0O6z9I/yH0dmboPw==",
          "dtype": "f8"
         },
         "yaxis": "y"
        },
        {
         "hovertemplate": "Sequenz=45<br>t=%{x}<br>v(t)=%{y}<extra></extra>",
         "legendgroup": "45",
         "line": {
          "color": "#FFA15A",
          "dash": "solid"
         },
         "marker": {
          "symbol": "circle"
         },
         "mode": "lines",
         "name": "45",
         "showlegend": true,
         "type": "scattergl",
         "x": {
          "bdata": "AAABAAIAAwAEAAUABgAHAAgACQAKAAsADAANAA4ADwAQABEAEgATABQAFQAWABcAGAAZABoAGwAcAB0AHgAfACAAIQAiACMAJAAlACYAJwAoACkAKgArACwALQAuAC8AMAAxADIAMwA0ADUANgA3ADgAOQA6ADsAPAA9AD4APwBAAEEAQgBDAEQARQBGAEcASABJAEoASwBMAE0ATgBPAFAAUQBSAFMAVABVAFYAVwBYAFkAWgBbAFwAXQBeAF8AYABhAGIAYwBkAGUAZgBnAGgAaQBqAGsAbABtAG4AbwBwAHEAcgBzAHQAdQB2AHcAeAB5AHoAewB8AH0AfgB/AIAAgQCCAIMAhACFAIYAhwCIAIkAigCLAA==",
          "dtype": "i2"
         },
         "xaxis": "x",
         "y": {
          "bdata": "G3h+EgpDJUDVL5fW78kkQIU77CAmaiRAMNA6z6C2JEARy/hVgUckQL1hjtxVXSVAJtu42kfgJEDBDpQt5zElQGlrfjwAliVA+JIFnKrJJUDZelIB290lQPlWokrMqyVAXJROdwoRJkDiBUhtTKwlQJP+W9CsCiZAObImgTwNJkAvTwKIwU4mQKVHsExA0iVA20JFyi68JUDHYMA6HMglQEQakE0W+iVADqRjnkMFJkAl+4TUmj0lQBL0vURV9SRAAstRfeQqJUCSD5YU/pgkQIYqrUE6hCRAPz53nBtZJEDQ8OdZdCMkQPARzPlY9iNAcWc1/GzLI0ADOQQSHbEjQEKOR9FiSSNAiiN1P+rRIkDMrFW+j9AiQCS9wsxgBiNAl9YlykZ6IkCsBiZAbrQhQAUCj1FHWyFAY5lZ+DGEIEChvRpSMR0fQJ0TOmLJ5B5ALbMhRvaJHUAOFtfFYwEcQKIiUJJRHxtAa/iihfWAGEBslCJAqV8XQD9TkjjIjRZAlnzLz9+IFkD+PnJnv0YWQIUsW8NHuRNAVE3jEytOFECfCHgwoNIUQKXuL/TG9BNA0taB+R/aE0DPDS7HTmMUQAw+8HsMkhRA/5CBfWEuFkBy1MYpifAVQFRzjtG5/BZAkWTtZGeXGECJ7/oHmvcXQL59O92aKxpAWXNK5BKGGkDSs1TpafMaQCmVg3TD5BtAJetzXKV1G0B2n7NfhOAcQHCvLJi80RxA0wLDr8faHUAG/xhSCkEcQFOa781NxxtAQi1AMB55G0CxHJ4HByUcQL+zkU0hOxtAvl34lC0IGkAehYTInoQaQJXUjKRhgBlA4zwn7+a4GEBehMvQo2sZQEbzPmh8ehhAhUWW5L1UGEBcdy6k5wgZQOCLpQxBMxlAAS0+fqe6GUDPID0B00AZQEo6qymEcxpAdvwbOxWgGkDJxnEFWj0ZQKn5EURs1hlA7uFBk/DaGkBR275WbNQaQLFhyKEViBtAktr4F2QJG0ARV4ZLpM4cQO8nDJBT5RtASDv5k8zYHECDlPsWnLIcQCfBbyki+BxAGKHB5s+7G0AReeptxhgbQNpazdU40hpAOQSl0bPxGkDLIs4nqs8ZQBjuaO9EkBpAZTD3PpTBGkCRqZX9KrcZQILspCghQhpAjE0DUWt4GUDHTuARG9MZQOhv48SWXhhAtf0+1GzMF0C8KOCpfTQZQMmhvmPe1hZA9CupK7RpF0BwVxv3eDQYQHWpSlkIYBdAaQSMOFp4FkAdwSzQsaoVQE6qFU8GVRZAB782cVctFUBCXDlLmfUTQBfwN3kuShRAP8MVXMivE0CMzPkeodgSQNMiK4j3KBNAxu9fs8CQEUBK//qURGESQGYin1f1sxFAI1x6NCtZD0CfsMSnvwUQQHX3PufoRQxAy5xd2VxNDUAINE+bzAQJQBnoYd2ZygdAL3ZPtHcPB0DSd6sT/jIFQG4kG8QZLgFAnengqW5Z/z9ammBTYYr6Pw==",
          "dtype": "f8"
         },
         "yaxis": "y"
        },
        {
         "hovertemplate": "Sequenz=46<br>t=%{x}<br>v(t)=%{y}<extra></extra>",
         "legendgroup": "46",
         "line": {
          "color": "#19d3f3",
          "dash": "solid"
         },
         "marker": {
          "symbol": "circle"
         },
         "mode": "lines",
         "name": "46",
         "showlegend": true,
         "type": "scattergl",
         "x": {
          "bdata": "AAABAAIAAwAEAAUABgAHAAgACQAKAAsADAANAA4ADwAQABEAEgATABQAFQAWABcAGAAZABoAGwAcAB0AHgAfACAAIQAiACMAJAAlACYAJwAoACkAKgArACwALQAuAC8AMAAxADIAMwA0ADUANgA3ADgAOQA6ADsAPAA9AD4APwBAAEEAQgBDAEQARQBGAEcASABJAEoASwBMAE0ATgBPAFAAUQBSAFMAVABVAFYAVwBYAFkAWgBbAFwAXQBeAF8AYABhAGIAYwBkAGUAZgBnAGgAaQBqAGsAbABtAG4AbwBwAHEAcgBzAHQAdQB2AHcAeAB5AHoAewB8AH0AfgB/AIAAgQCCAIMAhACFAIYAhwCIAIkAigCLAA==",
          "dtype": "i2"
         },
         "xaxis": "x",
         "y": {
          "bdata": "xdY95tO9I0Bfsc5NOEgiQM1e4yTYVSJAokMBP2gfI0DfyD4V5+EiQPb0fuH17SJANgrm/ssSI0APGPpuNYEjQIMEj02NqiNAcEWGvD0HJEBCe8Oq0U0kQMuMRGX2kiRAzpDW72TjJEByYIIVHM8kQERQk+VYfCVACeEuuCCvJUCwv5RSNGIlQIID4Px5RyVAEbmkDgRPJUDDotmbD6MlQAu78jZbfCVAN1iMZz1AJUBNa6Pq7EYlQEgmIDo94CVAz1KqiueKJUCJ9WnjejklQLnvdyUwJCVAxLTjVFXXJECxGNRr4WUlQLKBnhXzEyVAc8/2szDCJEBK0VXK6NckQEde/cMBdSRApO06NOCEI0BvF4MHK98jQBovbEc0kyNA5740AhoKI0CTnYpEDL4iQLREVd+YKSJAG3+XiPu+IUCyGPcD1KwgQN4k+gfrKyBA+mXnKpfoHkArHXVwyWwfQDG3op6WbR1A8YvdqebnGkAo1c3kEWsaQCzlI2PQ7xhARcUN+dGzF0BuK+wH2bYWQKzghAZD3RRAzTQWjNKoFEBjwfLKx3YUQGnwyf2TSBVAroyl10t4FUB5/XwMdkkVQBSrXGbIkRZA/ZcsbpSrFUB2WxeulQ8YQD6aJWBvbBhAgNINTaxRGEBgV8BoP6UbQG6pLdyRqRxAxK6x4iOHHEC8c36S5JocQPHWlPkX7h1AWEj6LxeiHkCJg/jwD9sdQE//k/lYDB9AeTZ7IrFRHkBIH+g0a54eQLBPYzKiTh9AKZk/NfE9HkA9u3C2ylYeQMhyZU/Ldx1A2WwMNFNhHUAUrTvCQTUbQDWiuX0eLxtAltbceNagG0CNjm82SkcbQBWlS65gzhpA/0idCyYFG0BCP7PfWXQZQMJSzuBEJxpA54IggnUCGUAd+tzchKkZQO3vwxYfzhhAErksBCYxGUCKwd3dHygZQAuf//iFZRlAHIU/2cL8GUDj15z6JOkZQH6qNqwkwBpA148PkTmEGUCoBEX1KoUbQO4+v9mFWBpA45qYJ0vBGUDIKcXofLYZQEkGO8OEpRlADmwWelfbGUBQT7m3VjcYQP+QdXEppRhAZkF+b+9jGEAWwV6HCDUXQE34sO2niBZAcf06Z4XfFUDzCOy0CH0VQOeUTRkjZhRAEbCghDebE0A84u8swZoTQEAaVH53JRJAYAcWUaMLEUB/aO9ZaokQQGsQR2Gz0hBAFAMdrwcLEEDUc4YOBJoMQPCvKCcAQQtAnQ8/oOmfCkCKy3PBDCUIQPCokSsR/AJAE0Ofj48/AkA7mVBeeSkCQLDDjf9Rpfo/ii0QGheG+z8KMsnThm/8P+hkGhWHwfo/zgih6rKc8j/KMdifEXP0P5a8wVe53fQ/nDDWcAl58z981MM59VXyP4y25X9TzO0/Qe2vJEsW7T/Ir1uU+EPtP8WhtK1EVew/lyoi8+2X4z8vzv8wdVDSP9zH+8Jpk9Q/Bn2RO8y94j+OHTFU19TmPw==",
          "dtype": "f8"
         },
         "yaxis": "y"
        },
        {
         "hovertemplate": "Sequenz=47<br>t=%{x}<br>v(t)=%{y}<extra></extra>",
         "legendgroup": "47",
         "line": {
          "color": "#FF6692",
          "dash": "solid"
         },
         "marker": {
          "symbol": "circle"
         },
         "mode": "lines",
         "name": "47",
         "showlegend": true,
         "type": "scattergl",
         "x": {
          "bdata": "AAABAAIAAwAEAAUABgAHAAgACQAKAAsADAANAA4ADwAQABEAEgATABQAFQAWABcAGAAZABoAGwAcAB0AHgAfACAAIQAiACMAJAAlACYAJwAoACkAKgArACwALQAuAC8AMAAxADIAMwA0ADUANgA3ADgAOQA6ADsAPAA9AD4APwBAAEEAQgBDAEQARQBGAEcASABJAEoASwBMAE0ATgBPAFAAUQBSAFMAVABVAFYAVwBYAFkAWgBbAFwAXQBeAF8AYABhAGIAYwBkAGUAZgBnAGgAaQBqAGsAbABtAG4AbwBwAHEAcgBzAHQAdQB2AHcAeAB5AHoAewB8AH0AfgB/AIAAgQCCAIMAhACFAIYAhwCIAIkAigCLAA==",
          "dtype": "i2"
         },
         "xaxis": "x",
         "y": {
          "bdata": "qkOFrKNXJEAlSlvup1QiQOWd5lXmdiJA8TNvUeOmIkD7nYzytgAjQK5YknQSxCJAdlqCGQEvIkDtEqSLWVUiQH6ah5LSfiJAw31FlBzJIkBObrwLty8iQH8hP/Q8jCJAsf2kDGYsIkBy3UTmQ5YiQIPc8F5eQCJA0xGy3FfmIkBTxfj7v64iQPQS5VXGFyNAM7YEvC/uIkDLNp3VPlkiQL8LEVPmlSJAeY0rguRrIkC/rxDVLN4iQN0X8U8e+SFACOK8B6gHIkD1KJAUV+YhQBtWS+nySCJA/ODbVOj4IUC1ihz8UbEhQBH/ZWxT0iFAXeOg9/yEIUDfdYxmX9ghQFcLLTZ/YyFADANkzFT4IEAdfRGLTcUgQAB7qg9RQiBAWGKR1WevIEC+QvcVbDEgQGJzPcp8Jh9AeZrX2ilWHUDC3OVs25gcQNgLJcDmiBxAexWL/hHKGUDTdGXKx+MZQB8xlOdW5hhAFJoHIrCDF0AXEb96neMWQGCGL2ma5RdAWj9vo1hGFkBaJhqpVFQVQA0Qe9V8lRRAMUR1U3+aFUA9Y+xVRW4UQOQIT7JOGRZAceqeaQRuFUD6qlkX90sVQOjeJCm+fBVABRvzLQUPFkB8g2jiYg8WQDZcBFPWlBhAwHP5Tja5F0CeEIrBvSAZQJZcONWGjRlArgGx0AGDGkAW0YNbT2AcQJWQsAHdrRtA+qnMWaoCHUAZbepQUjccQCxGo2L9zRxA2PI7/wXaHUCxwxSUCRMdQIScx6U5sRxAJpLVyTWWG0BIkXeywU0cQDL+v9QujxpARt8CTFL5GkDtiD9HG5sZQMwViKMQjxlA5iZ8GrNjGECnj7UiYMUYQAGwugzGChdAFykM/b+lFkDVbhq75rcWQK1u6W25gBdAG/05MhdWF0A8poYXfB8XQLYFRCYjthdA3bB9X0XCF0CyEmE5cTsZQP2/2u4o5hhAB0+q6m88GkBFGzuLJlkZQNqjHfMeGxpAf0nZpdmrGkBIlRIFVB0bQDaFn/XjFxxA8FmmO2XTG0AjZJUZzFUcQOS5l46lBBxAJEN84BdXHEDSF/I73fAcQI5nr2KHbh1A6y0jTiG/HECY39W+an8cQLq2AiN0ABxANIFvOoWSGkDTMveGorEbQOufem19sxpAkOsxQ+OBGUB2nxHJp2wYQB15aVjZGxdAQWu+qXnoF0DTK7fGI1IWQFqgnRBGVRZAlpoU5I/CFEBlux7/rxwUQDTXTHlecRNAq/Crh9fdE0CLe9QlfDcSQB4v+RUryhBAcIAejJeBEUDDU7tj+wIRQKg4b5GwWQ5A/rKAnkUTDkAssbmfqSgMQJ4LcIDSygtA7wfs+P7mCUBrpY7Qzt8IQJCJfdlAyAZA2W1D9HfmBEDLQaWIinwGQNdObQ49MgNATEga7n8dBEB4ilbgpp4CQEkVXa2gWABAAKdus8Ly+z8/Q37WguD2P9vBTQrmcPU/tU6JmoKv9T8567DI4MDxPw==",
          "dtype": "f8"
         },
         "yaxis": "y"
        },
        {
         "hovertemplate": "Sequenz=48<br>t=%{x}<br>v(t)=%{y}<extra></extra>",
         "legendgroup": "48",
         "line": {
          "color": "#B6E880",
          "dash": "solid"
         },
         "marker": {
          "symbol": "circle"
         },
         "mode": "lines",
         "name": "48",
         "showlegend": true,
         "type": "scattergl",
         "x": {
          "bdata": "AAABAAIAAwAEAAUABgAHAAgACQAKAAsADAANAA4ADwAQABEAEgATABQAFQAWABcAGAAZABoAGwAcAB0AHgAfACAAIQAiACMAJAAlACYAJwAoACkAKgArACwALQAuAC8AMAAxADIAMwA0ADUANgA3ADgAOQA6ADsAPAA9AD4APwBAAEEAQgBDAEQARQBGAEcASABJAEoASwBMAE0ATgBPAFAAUQBSAFMAVABVAFYAVwBYAFkAWgBbAFwAXQBeAF8AYABhAGIAYwBkAGUAZgBnAGgAaQBqAGsAbABtAG4AbwBwAHEAcgBzAHQAdQB2AHcAeAB5AHoAewB8AH0AfgB/AIAAgQCCAIMAhACFAIYAhwCIAIkAigCLAA==",
          "dtype": "i2"
         },
         "xaxis": "x",
         "y": {
          "bdata": "W/S+n/x0IkAN5U9V5K4hQOx0bxCARyFA2CHX8FjBIUCHG2N1CS4iQH76WfB1YSJANFhbv5xKIkDayCy3FggiQNZ8IDUirCJAvflTEp8gI0B2druRqiIjQJ27pg+6LSNANx8I+5KlI0D5S63vSEMkQELKJ6u+vCNAR68GSrtHJEC+vSJCFQQlQEjs4ZIE2iRA256fUJKpJECIuD6i0FMlQFevQQJ90CRA5atdFYaDJUDiba0CCRclQCR3d3abNSVAuKZIB2kdJUBeqJD3Mg4lQMgHyCofbyVAV1BDYVDbJEDcUAO0GDElQDeCiPCt9SRAjEw1p7AWJEDNo1h2vdEjQMQZNCZb2yNAsE1K09J2I0BavTvC2J4jQFNcFbtVbyNAsmjI6kyrIkAMsqyBH40iQDQy4H/HcyJATqttKz12IkCYnSooUWgiQO4xuBmc9SFA58nW2aAuIkBSGo9OeoYhQBLrlXj/mCFAbMslIOc4IUDgua6JlLcgQKSzUJeZrh9ANH5A/fqVH0A1bA7QwKgfQJ190o614R5AmeAAFrjGHUB1ZTAksIAcQMJ62/XTdR5AYAZyq1aDHkBgtLF4qvkdQPYN7SQqaR1AL7k8lqn1HkAJ8Mp7i8EeQBwNp6Y4WB9APqqxNi9KIEDa/Nv5moMgQLk1r+y3GSFAilDg8GreIED33cKFtFQhQJ5PapgrcyFAwey3BAbcIUCfqCPO4EgiQF/GA3L2XyFAkQil2tl7IUCrZalrRtghQOrsyO9O3CFA1RpZ9W69IUCgbX7Xs3IhQJ8bLB2sWSFAtEGj2bv1IEB48LPXAuogQIAxwkdoiSBA5DnbBKj9HkBaTt1j2j4fQPMU+MGxCCBA/hLF1FkcH0BE6VdLAiofQJuRRff0ZB5AzITC2ZJWHkAtBbUzx+4eQFVBSJZlbB9AFBjW2cQVH0D42zn7TwogQHmbdbdPdh9AUWwaV5CtHkDFZlzCjr4eQCTcai/KQiBABFV7QbleIEAoeY4UYlggQFtwyC/COSBAtCGQJ9ybH0DxlkV6x3UfQLo4tEMJ4B5AbnSqhljAHkA1AdRpa1AeQIfiolKmgR9AY+r8DF2SHkB6kKR3reEdQLfq3Auhfh1Acg9Q4jnEHEB81t7ShdgdQDjHQp+GoB1AOV5krCNsHECBpsJ/fdIbQOZHpfh/XRtA84Lm78g7G0BEYxGpijkbQBgd08shaxtA1I5fb+PrG0A4+rnIcL0aQE9eSgwMhhpA9Nj19zTUGUDP2PoqNEcZQD9lpzEL7xlAKArv/DpIGUAHm8nEcNcZQBl7Z6NilRlAajzsLuKRGUAGMsDbbDwZQBRKRJTvbhlAhfjHilpCGEAy8FUt85AYQF7+qFO+fxdAH4LoPX5HGEAqM9UCVWoXQIr+uip+aRdAcSVIG6OHFkCr2qkbY+EWQJ83aq8S5RVAqmBFU0QIFkBcsAzSVvsWQO/xXdW9KxZAdAvi5gCSFkCBkWhxopEVQA==",
          "dtype": "f8"
         },
         "yaxis": "y"
        },
        {
         "hovertemplate": "Sequenz=49<br>t=%{x}<br>v(t)=%{y}<extra></extra>",
         "legendgroup": "49",
         "line": {
          "color": "#FF97FF",
          "dash": "solid"
         },
         "marker": {
          "symbol": "circle"
         },
         "mode": "lines",
         "name": "49",
         "showlegend": true,
         "type": "scattergl",
         "x": {
          "bdata": "AAABAAIAAwAEAAUABgAHAAgACQAKAAsADAANAA4ADwAQABEAEgATABQAFQAWABcAGAAZABoAGwAcAB0AHgAfACAAIQAiACMAJAAlACYAJwAoACkAKgArACwALQAuAC8AMAAxADIAMwA0ADUANgA3ADgAOQA6ADsAPAA9AD4APwBAAEEAQgBDAEQARQBGAEcASABJAEoASwBMAE0ATgBPAFAAUQBSAFMAVABVAFYAVwBYAFkAWgBbAFwAXQBeAF8AYABhAGIAYwBkAGUAZgBnAGgAaQBqAGsAbABtAG4AbwBwAHEAcgBzAHQAdQB2AHcAeAB5AHoAewB8AH0AfgB/AIAAgQCCAIMAhACFAIYAhwCIAIkAigCLAA==",
          "dtype": "i2"
         },
         "xaxis": "x",
         "y": {
          "bdata": "U4AKesolIECMvniOhcgeQARt6WPQiCBAMFeDWt9XIUA7LrfyV0khQA4SPsUEqCJAiXLKP72IIkDqPIEcmgUkQJl2Xx/FrCRAtcRTpDpgJUBThL/lfnglQGzUYrWSlyZAahzkvtqyJkDeN3lMInYmQBWT8j6SxyZAAzEafbunJ0AhzcXQgi8nQFjw9SB10idAmYaqneSlJ0DdzcXQgIUnQJe/a5s/HyhAnxUSpyFhKEBJi64MeVQoQB4SiiPrVCdAdYB831VMJ0BEHXDS7nUnQMeZuMSnGydASljdFQjHJkCN8CzIQ8omQLlMqCPjhiVAFJouAULdJUCfTAl9iqwlQI65AysBtSRANWQpEIDzI0DDy4vDlYQjQO8BXWdG/CJAqM5P3QAxI0AWZlnfKlQiQKGAF9d+zSFAlF9/HGQTIUADJcYioGcgQECWSlwAQB9AW+vCqozRH0AdaBT5tDsdQDgqsyeRNxtAamu2ZwVzGkDIqZzMh60ZQGg4OzVbuhlAnfYAmvDcF0AW8jxffeQVQAi9JZDjVRRAfW7/P9+JFECtPM1Z4RETQHKAsfe3HhNA2aIdObMTE0C/Z6SxxG8QQE2JaR9vXxBAaV/naEp6EEDGiMNuNh4RQFSzPftgjQ9A9bShD2vIEUAR1HZzxzETQMxmydl2wRVAOAD7z41dFkBoVPzgskIYQB9bmO2owxhAlugX5grxGUBXIS619DgaQEaxNebhSxtAOWFmUnFWHUDWwascDZIdQEUw2MDpLR1AiX6btC5JHUB5PjglpxAcQIJCYXkmRBxA3EdZ2rAdHEDtC6595YkaQNH1b7SZMxpA86g0cENxGECEpJrsO4UYQH3wdcCA8RZA8H9Q4vpaFUA1RbidkI0WQHeDi1JvZhZAYlmOoK4bFEDEnhfBibcTQNcUVLZU+RNAdH72X8pEFUCesEcszCUVQB6SPZ30qBVA220ucuDkFECygYJT1EoVQLIKhcWpJxZA151OlZbHF0DJwdTloN4WQCeE3Nz3exdAVgTW7R24GECe6Nj+zBoYQAwaKsG25BdAVJwZ6NHTGECtPwTXP1EYQL/P23pRiBdA8FSDF5T1GEDKNvSQaJEYQNLuacnghRhAUZPFFOdoF0CsDjm4tOsVQKmU5LnJXRVA/J3XDkd3FEDyP+oqNWQUQIZR8FPX6BFAXwlpof1gEkAmCK+k1h4QQEbulgoteRBA7yG18eCnDUCXissklDMNQLtNnoO3VQxA6rdiGlevCECIRCQKquUFQJzs8SIj6wRAE+vwA9ksBECma2Zp5PL/P1/KKUCS3P0/2SVm08i//z8oR1TnSI77P3UDYm5Lq/s/yZCMyJSi+D91JK47r7X4P67AZbp/bPI/pTVO/Bh79D/Fk+k5HlXzP+dNwYwcNPA/8ChsBQUh6j8p6dHfj5HwPx89A4eV8NU/i0vEvNub4z+UucQq9BbmP1FFEbtXFOI//B/MX0Gt4j9vK+hRI1TrPw==",
          "dtype": "f8"
         },
         "yaxis": "y"
        },
        {
         "hovertemplate": "Sequenz=50<br>t=%{x}<br>v(t)=%{y}<extra></extra>",
         "legendgroup": "50",
         "line": {
          "color": "#FECB52",
          "dash": "solid"
         },
         "marker": {
          "symbol": "circle"
         },
         "mode": "lines",
         "name": "50",
         "showlegend": true,
         "type": "scattergl",
         "x": {
          "bdata": "AAABAAIAAwAEAAUABgAHAAgACQAKAAsADAANAA4ADwAQABEAEgATABQAFQAWABcAGAAZABoAGwAcAB0AHgAfACAAIQAiACMAJAAlACYAJwAoACkAKgArACwALQAuAC8AMAAxADIAMwA0ADUANgA3ADgAOQA6ADsAPAA9AD4APwBAAEEAQgBDAEQARQBGAEcASABJAEoASwBMAE0ATgBPAFAAUQBSAFMAVABVAFYAVwBYAFkAWgBbAFwAXQBeAF8AYABhAGIAYwBkAGUAZgBnAGgAaQBqAGsAbABtAG4AbwBwAHEAcgBzAHQAdQB2AHcAeAB5AHoAewB8AH0AfgB/AIAAgQCCAIMAhACFAIYAhwCIAIkAigCLAA==",
          "dtype": "i2"
         },
         "xaxis": "x",
         "y": {
          "bdata": "7AAGoFJkFECLSDC2KpoSQEdoYrhQlRVAVoxzmEAwFUCh13/Zq2AVQBwLbUmDzhZAZfGFoBFZFkANxsfqEy0VQAhXamuEBRdA7c4bDFTaFUBGTxxPuFwWQDisj+1o9RVAs7zDiBquFkAkncUBlOQWQNHZ4ifqvRZABcfyeJ1FFkCrg0ycqzoXQHgmCIsPdRdAyPvm1KT3FkAjOVMK+EYYQMPl37FPPxdAEkEBtwFVGEArdsA32t8XQAI4JPMjcBhAWZW5cVcjF0CiyZRczi4XQKdoSRB8/RZAI9lJfR7WF0BSjq6FTV8YQC2KuTT9ghlAgXltSJMwGUBQy995HToaQKivoY9wKxtAYaAuDkzqG0CLHlVs87sbQJXO4l/cahtA6BeILr+cG0CXl5mxZ5IZQOCi0LQvxBpAnIrLvppgGUDtMz/6Y2gZQA+bdjmbsBhAO3v/1tAtGEDHEhqxJbwXQFmfvfcTtBdAmZbXM6CZFkBIzUtKvAsWQJQG6O47KRZArktyJ/NwFUDLiaKQT1sWQEx+J4StKhVAneBhps+xFUALFe6x0hUWQLpsOBEQ5xRAVOxth4EGFkCLgeb3U04VQE/j+EvJGBZAkIImQwx9FEDzvbnz3SUWQISvKybhKBZAnHX7jgpBFUCNBHVerPgWQDBVAsMMJBZAPg758V6vFkApzH0bw+MVQJhFt4Sr2BVARGvZeXqrFkBho1BGW94WQI3djx2uwRZA3ovejdLiFUCGphw+tKYVQHFJ4HKapxZA2+CfgXYPFUBgijSbDE0WQLFX6EB3QBZA6iTY3Z/lFUB75xOvJkMVQMh7aNmHFRZAX2b8Udu6FkBxSBMVd6MVQCxYRg6CexZA/jKViqPbFkB+yMRQqWcXQN1D0LAc8xdALa6yzEWAFkCTGxa8F6sXQMrpyahdOxhAlDaVqmtqF0DctvkAawEYQA6ZG+A9jRdAEBIFVK1qF0DzGQq3qSQXQP8Unba/UhhAUdQFAk4lF0DFusdx+xUYQM1FW8CxHBdAwr+2PeMYGEAUGEBkGjUXQC7n/F5nJhdAe69D4LtoF0CudG7ddj0YQHOjxh6dRBdASTA9G740GEBKjb3KnN4WQB7bRxcjmBZA3kxRoHreF0CXlXs1y3IWQC/P7g/qhxZAIkqx6jDdF0AC8AQnVCsWQLuStg3iSRdAglxb70dqFkAXxBxUXiwXQKoD02LwmRdAZ80L9whTFkDVjJ2pJgoWQGpoWTNKuBZAnOotRkDsFkD6t4X65ygWQEngj+95jhZA3GARpdedFkBvvj13SIMWQNSSdRjKsRZACOBThh74FkDHVRp9BpIVQHC8/RGjqhVAsFndWf93FkCg3BxL1KwWQIN4mvEWLBVAJtEUPhCgFUDFK7xnnTwWQAdongM8ChZA7n0mXL2eFUA5wNteeLcVQJ/HZkbP1RRAT3ftQErMFUCKIPXuoxgVQIGCI7BpnhRAT9tE8AZVE0CPV632aFkRQA==",
          "dtype": "f8"
         },
         "yaxis": "y"
        },
        {
         "hovertemplate": "Sequenz=51<br>t=%{x}<br>v(t)=%{y}<extra></extra>",
         "legendgroup": "51",
         "line": {
          "color": "#636efa",
          "dash": "solid"
         },
         "marker": {
          "symbol": "circle"
         },
         "mode": "lines",
         "name": "51",
         "showlegend": true,
         "type": "scattergl",
         "x": {
          "bdata": "AAABAAIAAwAEAAUABgAHAAgACQAKAAsADAANAA4ADwAQABEAEgATABQAFQAWABcAGAAZABoAGwAcAB0AHgAfACAAIQAiACMAJAAlACYAJwAoACkAKgArACwALQAuAC8AMAAxADIAMwA0ADUANgA3ADgAOQA6ADsAPAA9AD4APwBAAEEAQgBDAEQARQBGAEcASABJAEoASwBMAE0ATgBPAFAAUQBSAFMAVABVAFYAVwBYAFkAWgBbAFwAXQBeAF8AYABhAGIAYwBkAGUAZgBnAGgAaQBqAGsAbABtAG4AbwBwAHEAcgBzAHQAdQB2AHcAeAB5AHoAewB8AH0AfgB/AIAAgQCCAIMAhACFAIYAhwCIAIkAigCLAA==",
          "dtype": "i2"
         },
         "xaxis": "x",
         "y": {
          "bdata": "Tddc60mAJUCg0HZ6p6IkQKVL88LdTSRAOtIDcjnJJEBTpaWcv8okQFuILwLrCSVA/wT+V9J7JUAicD3IxcAlQOcQDm46dyZAeF1b99kJJ0DYOEwE2wgnQLqdixDeHidASie2971yKECYz71x61EoQDq8Hg7CWyhA51btxQP1KEA/JTkGqjMpQFgC1kYutClA6aG47zntKEBBX3eXPlgpQI48S3P7fSlAbB728ferKUAY7nlH+lcpQP6xvqmrMSlAsimnAWcfKkB4pWNkLkwpQIRf4uj2kylAP3bu59meKUA5ihGtSWQpQArcWk3R8yhAwLlwJz7XKEDNJ8D2sygoQBW94IZJMydAKlrqrj+VJ0AZThs3WBUmQHx83yPHNiZAnhcbWxlbJUB/5rtDaUckQGb4wZcTRCNAuF4hD43NIkAWbO9OhWMhQKGLsIyxRiBA4gcZN+KlHkBC5tulr4odQI5pPLmNTxtA0lI2Gl9VGkD84/ps+dwWQDVhcLEQsBVAk+TWMKGmEkAZ4hm6RFYSQHuE79P3WxBAXRqsRoU6EEAxi201WTEPQCyYNKYd5w1AR1GSCGbuEECbrvycngkSQPUjgynskhJAgBpMmfE8FUDuyWZhDqQWQLIB3RM7+xdAFkGyFMOTGUD3vk09CeYZQFCKsaomZBxAM3+ZsnmCHUADc6hJ134fQOel23VtQB9A+8fyDQxOIECV1NHKKdkhQA3hiaO4myFAVJUe78syIkCgLPzBBXUiQC1DWDRlxSJALS3DMcwtI0AFtkEGVrIiQE/eWnNqRCJAiw0C4gm8IkC2ZGhQZNYiQJyX0k8geSJAplFX/G9WIkBFX6YNAjQiQGJ8/LvROiFAm24D+VChIUAYT/KGf3whQKYb2wJNeiFA/x5WkITXIUAPadwdRTUhQGwVCB7NhiFAGmDhnR5TIUCNSIFCAQwiQGNySWb+fSFA5UUJh+TlIUCEU8Wdg8YhQNs/ffkJ1yJALEacp1sGI0BscDavnNoiQCaff3eSpyNAqwL5T6YLI0Bkye6FftMjQPZK3u8IoiNAD7E970slJEBSvxDj6g4kQJh4YBqUkCNAxxM7nTANJEA+6nAx/eAjQN4UeGk6ZiNAIXxnRwWnI0Bf+bT4xEAjQMNooF7KoSJAKTErIzgNIkBRUt/mSe4hQBcxA2TvJCFAf/hvMtIZIECA9OxMPX8fQEYNBCKLwB9A2dMKptumHUBkwxp38U4bQBjYEtacVBtAjg2HTG0MGUDxi8KhO/IYQM0DusvDgxZAcJFY1+wtFkAE8RB2A9ETQLWL+d/B9BNAI5EgCfbGE0AK4VliDM0RQAt34129KA5AxJbM/qwPDkBqh4y4KX0MQGZDcMiChgpAJ6nlvJTTB0Bbb+dcYHoEQNK4m9yJNQRAsXUD8slfAkAwn4Z1COT+P4vPnaqD5/0/fgScTGSh8z/fbbzlzvrtP9ZVKrBTdvQ/3hfAOIpX+T+pLclihd4BQA==",
          "dtype": "f8"
         },
         "yaxis": "y"
        },
        {
         "hovertemplate": "Sequenz=52<br>t=%{x}<br>v(t)=%{y}<extra></extra>",
         "legendgroup": "52",
         "line": {
          "color": "#EF553B",
          "dash": "solid"
         },
         "marker": {
          "symbol": "circle"
         },
         "mode": "lines",
         "name": "52",
         "showlegend": true,
         "type": "scattergl",
         "x": {
          "bdata": "AAABAAIAAwAEAAUABgAHAAgACQAKAAsADAANAA4ADwAQABEAEgATABQAFQAWABcAGAAZABoAGwAcAB0AHgAfACAAIQAiACMAJAAlACYAJwAoACkAKgArACwALQAuAC8AMAAxADIAMwA0ADUANgA3ADgAOQA6ADsAPAA9AD4APwBAAEEAQgBDAEQARQBGAEcASABJAEoASwBMAE0ATgBPAFAAUQBSAFMAVABVAFYAVwBYAFkAWgBbAFwAXQBeAF8AYABhAGIAYwBkAGUAZgBnAGgAaQBqAGsAbABtAG4AbwBwAHEAcgBzAHQAdQB2AHcAeAB5AHoAewB8AH0AfgB/AIAAgQCCAIMAhACFAIYAhwCIAIkAigCLAA==",
          "dtype": "i2"
         },
         "xaxis": "x",
         "y": {
          "bdata": "Tw6CYB/2IkAdYNdeMmEiQIkQd58wbSJAcGzHmfJXIkDt+bAR2aEiQK2XBQFK5yFAk143+mpJIkAeuf3Q6qwiQNP21pHkWSJAH/+/eBwdIkDBWAyTJTQiQKvhSjn70CFA5skEIQunIUBt8z1T9qQhQA+qOISPvCFA+nwFcqpWIUCuZN+5ztshQPxfSzkQIyFA+vr/Rz6mIUC6hIoIjVshQNCYxVBJECFA4EtbsNyKIUDLBXh2X7YgQA3kNgMB5iBAC98RZpNwIEAC2bD/PsMgQM5e8hPjCSFA2BXgegejIEDco1wAa9YfQCbZMJlCIyBAamISZZQcH0AcmICxqp8eQDCy+mvDpR5AJr2YnSayHkBSaJsB7rQeQKTxVxEnrB5A4rVHIwSvHEDawAD8DCscQBKeW5rCOhtAN/f1VdOiG0Br8kWHolUbQA0JIQJDpxpAG1I1gVYSGUC4pIDq/RIYQHy5WXABWhdAXN3ElaZiFkDlVTR5y10WQBJENrcGGRZAN2FjWnO7FUACsmNjzY0TQPLaiTSojxJA7eWqL9fnEkAAlUZxzDoUQCCbROZCnhNAVzfFGzWtE0DI80c7Su0TQKdJCIW+VhJAXkfl0UJbE0CuHQGl05YTQDZYN9IzDRRAR7cpa/lMFEDub0pMblAUQC9ymQ6xKRRAYN89UzBaFUCvGxjzrecVQIgs5+Yr5hVAk1lUw2F8FUBYDwVLt58UQJbCa7Jz0hVA0ldw6+9FFEDt/Wif+pEUQJh91C1PcBRAR96A6drwE0AbDzKOCiMUQId8Tm/+/RNA7PFeDS06EkC8UhWBGuMRQArPXRb3bRJAKQYlGhr8EkCPJSGrZ3oSQE+qQJAopBNAtoE1csquEkBP66LZDZETQFMBAIAmARVA2gP/xA1hFUBQ38uD+SoWQHb19Cq5eBZA/LAXKGBfGEAU7KAc1LMYQAHyImH9BhpAgpzE87jfGkAcerLwh5YaQEf5LBrwzBxAIbl3DnKKHUDZ7Oz+fOIdQBdI+y3LIR9Ae49pj8QZH0C0z5+fdIofQJNN76LhJCBAKE64i8HFIEDqj1Ceg98gQO5YRDgFsSBAmYscvdqNIUCdxGATi/sgQA107qQvSiFAWa6IwVMMIUBDvlnsfVIhQHQG8jj4giFAbio9Q4ROIUAYJykJ2VkhQPTN61E/dyFAV6750Y4wIUDHKUq9E6khQDajLQZK2iBAjlfoElZpIUB539VRt8UgQKHdJ58KbCBAHimjfNhlIECpJLJh0sIgQNidQzBm7R9AfmS3Fui+IEAb4yHYt54gQP5Y0jH4dCBAd7lAgUTfHkDKOGfkfVEfQOHADpjO7x5AnxvNMoSFHkBWS12bQzIfQHjd1zTRjx5AgmlRty0dHUDJAxG8OA4eQDybsUp2xRxAkucQNCnwHEAPX5bxtpsbQGYq6AvxlxtAnPpIikgsGkCFw/4qX0gZQD5OpNeo1RdAVwdecr0XFUDIFVWEhB0UQA==",
          "dtype": "f8"
         },
         "yaxis": "y"
        },
        {
         "hovertemplate": "Sequenz=53<br>t=%{x}<br>v(t)=%{y}<extra></extra>",
         "legendgroup": "53",
         "line": {
          "color": "#00cc96",
          "dash": "solid"
         },
         "marker": {
          "symbol": "circle"
         },
         "mode": "lines",
         "name": "53",
         "showlegend": true,
         "type": "scattergl",
         "x": {
          "bdata": "AAABAAIAAwAEAAUABgAHAAgACQAKAAsADAANAA4ADwAQABEAEgATABQAFQAWABcAGAAZABoAGwAcAB0AHgAfACAAIQAiACMAJAAlACYAJwAoACkAKgArACwALQAuAC8AMAAxADIAMwA0ADUANgA3ADgAOQA6ADsAPAA9AD4APwBAAEEAQgBDAEQARQBGAEcASABJAEoASwBMAE0ATgBPAFAAUQBSAFMAVABVAFYAVwBYAFkAWgBbAFwAXQBeAF8AYABhAGIAYwBkAGUAZgBnAGgAaQBqAGsAbABtAG4AbwBwAHEAcgBzAHQAdQB2AHcAeAB5AHoAewB8AH0AfgB/AIAAgQCCAIMAhACFAIYAhwCIAIkAigCLAA==",
          "dtype": "i2"
         },
         "xaxis": "x",
         "y": {
          "bdata": "pGGAKrcUGkDRY5P2NPsZQE6R50pqIhpA3Wdp1l8FG0A/AqUJXHIaQAapKOXAahtAaGE79bV7G0CeLKJFITgbQBfABmFW3RtADNRDxagFHUD74fg3pGweQGcETYEfHB5AmAhs59kzH0Cd+3NHFoMeQLHB8ETsgh9A6vh+Bs0YIECGZtHMjnkfQK0S7QVWXiBAy8VN58xuIECQv9ZvAPUgQFkMOsgzViFAwRc2QrqDIUD2GzbTphohQMmFhnynaCFABmx2SXmeIUBj4AyPDJ0hQLvabc/3/CBAmrSb6gsQIUDjUnlUi6chQJEncnwEjSFAERBsN4QsIUBfNf614nEhQDUOVdkL4CBA7/vryYcMIUCgVOOGYMkgQCErzYKnuSBAVYGPw2pAIEA7ELfEWTogQFtkqP9mmx5APJ2dIBTuHUB30AET9DIdQDr0dyiujR1AKfkbF2PWHEA4mcHH/RcbQH/KY1/nGBpA4SCGZl0wGUAVBHecsOUXQBk5XOj8bRdAhH+nLHYqGEAlGOFqargWQL31h7XSjRZACiyEZWZ8FkALLcuUnlgVQKsdpETJbBZAW2wOOryAFkDPWndWZOIWQEydWItZnRdAqrVnibX9FkAc2gOslqoYQLGpqw4RxhlAw+qnPSlHG0CAxyH1VDocQBnH/3jMlR1AeQjKC91jHkCgnpyRwcMdQKSHpH+78h9AiPtV3fjdH0Bnd2fIt28gQAl5IO4WqyBAxD7QCuwbIEATcUJLVeggQPGsOQpqwyBAVQK6VuCWIEBhKIXkVn4gQJjitHRzvB9AhCbD/Sy3H0AgC0Tf9jweQFVnyQnKmR1AMnobdvJPHkB6waYQ6XMdQEdvQQq+txxAnNsQmqCsHEDVmc+IANwbQGGcka6i6RxA4JWdvesuHEC5HhmP/VgdQDXC5qfriRxAnrOPEx6NHkC/VMaa838dQAypOK+Lvx5AmuDTQXPTHkC9CQR84o8fQH/CEi6GdSBARPp98AvAIEBa6rmPetYhQC1jTirXpCFA1wrwNycpIkA1GGMMdwMjQOjqHQi24CJA34CZEIu/I0CIAtH2sFMjQARKR+QqMyRAg5HZywR2JEB/e2EYKiokQGiUIp7RuCRAUUlnv0waJUBiAjlFN8skQO05JQo1EiVAv6up4gi+JEAK3mdttQElQOtWXkUvECVAjVpHxrjGJEBnCpUQ16QkQGuY0ZNHUCRAlM5DHwPYI0CsxjzngKMjQONYxaWjeSNA7sQSJJxKI0BPL3lPriYjQLVQcSbAmyJAMv7sYKkDIkAFK3XhplYhQFtrtbCrwiFAxhMhWgCEIEA7H41sMJEgQFw6SGKRvh5Aonn/Gz1DH0CzGORQZP8dQECY+6YO/BpAxrKxM4xHGkAvTLVJREoZQHIuo+/8bRhAUOFbUHQ6FkAeGpNP/GkUQGMX108EGhJA8oz7wx9qEECi1xkC4kMNQK5fp5dB2whA5d1pw5uNBEAZPkhFCnECQA==",
          "dtype": "f8"
         },
         "yaxis": "y"
        },
        {
         "hovertemplate": "Sequenz=54<br>t=%{x}<br>v(t)=%{y}<extra></extra>",
         "legendgroup": "54",
         "line": {
          "color": "#ab63fa",
          "dash": "solid"
         },
         "marker": {
          "symbol": "circle"
         },
         "mode": "lines",
         "name": "54",
         "showlegend": true,
         "type": "scattergl",
         "x": {
          "bdata": "AAABAAIAAwAEAAUABgAHAAgACQAKAAsADAANAA4ADwAQABEAEgATABQAFQAWABcAGAAZABoAGwAcAB0AHgAfACAAIQAiACMAJAAlACYAJwAoACkAKgArACwALQAuAC8AMAAxADIAMwA0ADUANgA3ADgAOQA6ADsAPAA9AD4APwBAAEEAQgBDAEQARQBGAEcASABJAEoASwBMAE0ATgBPAFAAUQBSAFMAVABVAFYAVwBYAFkAWgBbAFwAXQBeAF8AYABhAGIAYwBkAGUAZgBnAGgAaQBqAGsAbABtAG4AbwBwAHEAcgBzAHQAdQB2AHcAeAB5AHoAewB8AH0AfgB/AIAAgQCCAIMAhACFAIYAhwCIAIkAigCLAA==",
          "dtype": "i2"
         },
         "xaxis": "x",
         "y": {
          "bdata": "Xk8BiWN8IkAGfzRhhRIiQDqwk66SLCJA0dCBPwVBIkBRUzUpsQYjQJ95x+HBtCJAU2xE15soI0Cyt9kj1jIjQAdfYZ2OQiNA+BKBWmOHIkCd/XwVZpMiQC5YduBETSNAT0rvOB01I0CNnjxZWlMjQItTSLxOPCNAJb5DFK2nIkDRgYcjp18iQHgp6U23giJAaG03ZLCuIkAnuVpg+B8iQIslk67INCJAVwFslBkuIUB78cUNfYEhQOnS2TJkRSFAnwhRjnUmIUCvSh8atEogQOEDtK9pdiBAxyH43/QDH0DtYkjwAW0fQK5SqEyD2R5AAteXs3DVHUBauNrQPC0dQA5FEDhNkhxACz875rx4G0CAfnWE1iscQMOkzeR2khpA4BJiEGSKGkCnOKi9LwIZQGWt0UvzdxhAxpnn44GwF0DopGAgkfQXQBOu0pXysxdAxPe1eCXfFUC1LSwESgoUQJB+LhR3wRNAeprHwNoNFEC8riWNuLMRQFxSDoA6ZRFA4JSakCFyEUARxAt9whASQF7ysx+7sBBABOHRgb9vEED1AJ0R6aAQQPJPTnST9xBASJBJirlnEEDA9U0CmxwRQB59XXsr9hFArfJq3lU1EkCmOBT9v9IRQAy2Edu5kxFAxb1F/fiUEkBFEzpqb8cTQHoSJlGC2RJAzjBri04rEkBjYO4xpLYTQGTJji90dhNAFAiavecxE0DI+SnY3hETQPEFedwT0BFAAgW4dYmqEUB/PIS+oRUSQISEaOV/pBFAgc5wdGcIEkA1g3W9Ix4QQCNov4I4/BBAw+zPeRCAEECZbix5hcYNQDaNfcr2QQ5AoqY/sdQ2DUCNXLJdlX8PQK+Z0LiHzQ9AcuX0FNmZDEDXrr2hW50OQG84bxXh2gtAacOz9yOWC0BCVZRy0A0OQOHCaSPF5g5Arqhjd+ZKDUB88w4dK2UQQJPj9zRXYQ1A4pinrAZHDkDH3CCLCtIPQCCuzz3hXg5Aj5uvX8vsDkA0NTd3lAoPQI3GyLM3+A5AFQyjbM4mD0Ac+ycF0vkNQGCvleD9YA1AcVq57FmzCUCo9pm0qWEIQB5TjjyaIglAsKysnPhEB0Ax3z7E+ZAJQDHUxR0CeQdASMyLQD5RB0BoCRxWCHIHQCjeBn6bMAVAPuS431yvBUDXWBfAkqIEQDxPKVG83QJAm/1FS0h8BEB9ucpc1ocAQBQTEhKehQFA92FwyF0MAkBcbn/9wTD9PySP6X/PqPw/Qi/ZYdWw/D9pzkisH+r4P9n6aBe4F/w/mF2hggXp+D+rHzr9m/D8PyNCHeIEtvk/I7rRzTOI+D9iAXvePAb0P0SIdKYCoPU/vpl2E4Cx9D/mrKxSddzyP80UfTPFEPM/lLlkuaqW9D+Rynwq3rnuP1mE4FGkP+0/dyn0yijf7T9cvuNIssfrPxjLJiUO1+A/6pwH8ar71T/qorhL4ovYP8jHkfkpUeU/qvAOtwPI7T99mdZ10k/vPw==",
          "dtype": "f8"
         },
         "yaxis": "y"
        },
        {
         "hovertemplate": "Sequenz=55<br>t=%{x}<br>v(t)=%{y}<extra></extra>",
         "legendgroup": "55",
         "line": {
          "color": "#FFA15A",
          "dash": "solid"
         },
         "marker": {
          "symbol": "circle"
         },
         "mode": "lines",
         "name": "55",
         "showlegend": true,
         "type": "scattergl",
         "x": {
          "bdata": "AAABAAIAAwAEAAUABgAHAAgACQAKAAsADAANAA4ADwAQABEAEgATABQAFQAWABcAGAAZABoAGwAcAB0AHgAfACAAIQAiACMAJAAlACYAJwAoACkAKgArACwALQAuAC8AMAAxADIAMwA0ADUANgA3ADgAOQA6ADsAPAA9AD4APwBAAEEAQgBDAEQARQBGAEcASABJAEoASwBMAE0ATgBPAFAAUQBSAFMAVABVAFYAVwBYAFkAWgBbAFwAXQBeAF8AYABhAGIAYwBkAGUAZgBnAGgAaQBqAGsAbABtAG4AbwBwAHEAcgBzAHQAdQB2AHcAeAB5AHoAewB8AH0AfgB/AIAAgQCCAIMAhACFAIYAhwCIAIkAigCLAA==",
          "dtype": "i2"
         },
         "xaxis": "x",
         "y": {
          "bdata": "YSj7oZx6BkAi1wBBR/wUQO6hNlQv/xNAqydAarK5FEDzwnhCiV8VQD5Wfw9GNRZA5XuJ8ID5FkCx++1wsP0WQN/X/1uh6xdAL6oclHr0FkCV1sGoN5sYQAbOjreMlhhAIIs4epM6GUArk4OA8OMZQI4HUE0aixpAlYmsrKt3G0A3fiyPFTIbQDqP6d1DDBxA0R866KSlHEDy7zGCvEcdQC7rv6UCDhxAY13QlVAsHUCQKBQytPYdQK2+0aDyaB1AsJf/+nc2HkDE/Ri3Hw8dQCLlVvwJ8x1AgijD42pTHkD55c23gw8dQEKCrZ7JRx1Ao9bUO5zjHUDUfs1DK1ocQGTbwyBGFh1A2Rn4ADhTHECGdEtK7bMbQKLVcsf+OBtAHJ/reCPVGUAdHNTYSxUbQMzQnge8bhpAaZ9fIciJGEC2k77ovzAZQB7AFytc/xZAQZSskjP7FkCYZrpem+cWQM08vutuaRZA3g7OKnfqFUCIPPuDSUUWQCjOe5CtnhRAlD5tSef4E0DWcE5rC3sTQJ8KfmBRPRNAA6zy+BHtFEBR66wksk0VQKrI1xkUeRRAgm1LndzuFUDcJyBoU5sUQL4fpbZXfRVA5reXxkUQGEARIkJlglMXQK2CyB34NxlA2LoHwFxtGEBKHnqqY7QaQCWAffTW/BlA2/eNCSAZHEBvmu6+CusaQIVKRVVCjxtA4o0YVWtWHUBnEr3l7UUdQKmhXrGMVBxAhKTh6saJHEACpGOB6GUcQGklaWGWOxxA/92q/dy6GkAG8O6l7zsaQBVfvw7UNxhAmHmafb1rFkC+xpTRWu4UQBi7XS+m4BNA2+K8RUstE0BH5Cc3yV4SQMIYJetruhJA9ovvRfqeEkDgGcn39ugRQOdx/yLizhFAkGsGA2wyEkC2kluq6X4QQI38kfdqEBFA3XbdpC3mEECY4JnfkY0SQDsadHaXVhRAcIbWEq9bFEA+HTqjg68VQIxU5VjzphVA5kre9ImDF0AakgZfJkYWQGL2Gjnf8hdAsmmUeQsWGEClB0B7TLEZQE00cAdz9hpALOjUpxRoG0AOuDdA8EYcQAsOA9UuExxAv4mXll6mG0Co3P+j+LAcQEtgl4uZAxxAftkmmCiAHEAzmVW54dAcQGqFKQbVRBxA30fRGyQWHEDaDtqLUqIcQBtIXEIXRhxAYha+rSIKG0A2lQPiGN4aQAjIMCTXWxpAaBeCnD2QGEC5R5DceKcYQNYchO4gjBhAtsj34Zg3F0Cp8WWNEcQVQAVaOy2yzRRAWq6Xe1WEFEBzgF2GPKcTQIMQgyhiQBNA20oT1lwFEUDd9z9JABgQQFjh29YO/Q9AQKCHjIqNDEDwW/AuzaMMQLkXQKaGBglAFxTVlgEGB0BDK0pGOCcHQDbQ+vutnQRAK3e635PU/z9+jDWw4Ij/PwolTqV/vvo/b/1xjVDl9j8vWHKK/+36P9wv2yTZFu4/zM4nfFnN5z9Wzb+C/G7pPw==",
          "dtype": "f8"
         },
         "yaxis": "y"
        },
        {
         "hovertemplate": "Sequenz=56<br>t=%{x}<br>v(t)=%{y}<extra></extra>",
         "legendgroup": "56",
         "line": {
          "color": "#19d3f3",
          "dash": "solid"
         },
         "marker": {
          "symbol": "circle"
         },
         "mode": "lines",
         "name": "56",
         "showlegend": true,
         "type": "scattergl",
         "x": {
          "bdata": "AAABAAIAAwAEAAUABgAHAAgACQAKAAsADAANAA4ADwAQABEAEgATABQAFQAWABcAGAAZABoAGwAcAB0AHgAfACAAIQAiACMAJAAlACYAJwAoACkAKgArACwALQAuAC8AMAAxADIAMwA0ADUANgA3ADgAOQA6ADsAPAA9AD4APwBAAEEAQgBDAEQARQBGAEcASABJAEoASwBMAE0ATgBPAFAAUQBSAFMAVABVAFYAVwBYAFkAWgBbAFwAXQBeAF8AYABhAGIAYwBkAGUAZgBnAGgAaQBqAGsAbABtAG4AbwBwAHEAcgBzAHQAdQB2AHcAeAB5AHoAewB8AH0AfgB/AIAAgQCCAIMAhACFAIYAhwCIAIkAigCLAA==",
          "dtype": "i2"
         },
         "xaxis": "x",
         "y": {
          "bdata": "oGUSFaFRFECgQ/MqEkEWQCOdZfcXcxdAul72mVApGEBOkFK17wsYQHOe/R6VyBpAjHkIdXNSHEDiZN9/tXccQNonI/Fn0BxAP9/59YZiHkDk9U5eXBUfQEtUYP6sliBAUSGyOsKmIEAwpntFxjshQKpxcghEfiJA8RFkwuYWIkC4q/HGsnciQPOSvewYoyJAVbcEdjAHI0CcL5Yf9FojQI+nFYCRRSRA9gm3SzRCJEDdSO0ZnRUkQAqMjpAPDCRAhkNjLy8XJEDukvoTwmokQJ3+pf6RhSRA+dd9nlxBJEDYjDXbtGYkQAVSJN6/YiRAhPT6b1FNJEChqNlkORMkQNXhiQwxOCRABEJRD2VAJEAfI9T1UT4kQLZgFC3J4iNA8KPNBdVQI0DHAXY8PXAjQPTv25z1nyJAgVUJ6jRPIkAlfDABSngiQIevdMeUDyJAoZloDAwiIUDW26h2OgwhQKrg2Vu4Zx9AsFv57nn4HkAPc11Rx+EdQJE4JgXU9h1AWEefqXvoHEAkw4kkPuoaQN36IlsaABpAk8HN+bboGUAzw4E0gksaQNt8rbFOKRlAefTUv2OuGUCpkBveBusXQDi5RsUkqhdAXRKq3ygJGECzuMLa828YQIH0pjDDHxlAPAOL9FNhGECRMLwo3A8YQJs3syy9bxdAunRPh5WZFkDI417HvigXQPKAMRpwbhdA0riQJEa8FkAZfKZfJE0XQBLfcuMwIRhAmJBqOnb0F0AkdjzomGUZQLlNXdFa/BdAr8Wfhq7RGECqUEBxyBgYQGfLirOh+hdAbF0ael/kFkCuW/kb2/kUQHrT3UA2qhRAcbrVEqlAFEA8q+fxBJETQDvjDN/7FBNAu99RyySDE0AoAl9Y8moRQK2S21LtNRFAWc8zCcgOEkAfHYR1v48TQI/bgeq9pBJAHIP82vH5E0C5hp//ePYUQB216cyWsxVA1eTPeuy8FUAyn7cSHooXQDyCinZ8kRdARoDjrkngGEAB6Lms3qIaQFu/Ms6QARxAXShkg+3sHEDjSOdI8OsdQCVNFeRLYh5AAUbBvxOVHkBbE2RZw1MfQEf6c4PbYSBAXVb6/g8QIUC7PWR1WqggQN99nxna8yBAe5Ot5r0aIUCZF6tUOS8hQPaIQ7xTKSJAp8bh8zBLIUCa8qJwokQhQNir8TvOEiFA/71tSIy5IUB2clXV89UhQEibggJsiCFANLtJ+L7JIEA9Z886i9EgQPkBYI+9ziBAiMduqVJmIEDJq4sN4QYgQPowIXLoAiBApOy+AkOTHUDuljzeuqUdQJgN0CBlJBxAb8P4GxviG0CRSH797XIbQLSUvKkN0xpAYIjHiRGWGEA+a17o5U0XQO5zmBLT0xZAFEP2JVtZFUCXFD9xf80SQGaYV8oNnxFA4mJy1P3iEEBXVqZZBCENQKDB/2NOfA1ADWSgAGECB0BJ9ybvCH0FQGlc1to1BgNAfV9wkfEMBUDGPMLzwrgBQA==",
          "dtype": "f8"
         },
         "yaxis": "y"
        },
        {
         "hovertemplate": "Sequenz=57<br>t=%{x}<br>v(t)=%{y}<extra></extra>",
         "legendgroup": "57",
         "line": {
          "color": "#FF6692",
          "dash": "solid"
         },
         "marker": {
          "symbol": "circle"
         },
         "mode": "lines",
         "name": "57",
         "showlegend": true,
         "type": "scattergl",
         "x": {
          "bdata": "AAABAAIAAwAEAAUABgAHAAgACQAKAAsADAANAA4ADwAQABEAEgATABQAFQAWABcAGAAZABoAGwAcAB0AHgAfACAAIQAiACMAJAAlACYAJwAoACkAKgArACwALQAuAC8AMAAxADIAMwA0ADUANgA3ADgAOQA6ADsAPAA9AD4APwBAAEEAQgBDAEQARQBGAEcASABJAEoASwBMAE0ATgBPAFAAUQBSAFMAVABVAFYAVwBYAFkAWgBbAFwAXQBeAF8AYABhAGIAYwBkAGUAZgBnAGgAaQBqAGsAbABtAG4AbwBwAHEAcgBzAHQAdQB2AHcAeAB5AHoAewB8AH0AfgB/AIAAgQCCAIMAhACFAIYAhwCIAIkAigCLAA==",
          "dtype": "i2"
         },
         "xaxis": "x",
         "y": {
          "bdata": "6fQrI4RVCEDWP1JnQQQQQH9PePBE6Q1AtF6VmIVqEEDym4VC/Q8RQGZjUseHlRFAnQQfeaKsEkAKmPWtphsVQC+bCz24KBZAkq2nh+ncFkBdVHvS/2AXQD5G5Zw6nxhALoKfYJRMGEDZ50sIwlwZQIl39510lhlA0a33PN5DG0A4Y4ezrOAbQF2dhCGeTRxAxIkeFZy6HEDZHmFBfWEcQHatlZZpsRxAdPitYTYUHkAilJaubF4dQPgHNH1i3x1AYnXwS5j1HUBuoldnb1YdQLCTaiX84R5AeuaqtZuBHkAcn+TiseAdQCzTbe9X3R1AlUKiyKQrHkBmzGbq0yEdQD0Hfh4ccR1A3TdDUZC9HUB8c/SQ7G8dQB1oF5PO5BtAuqpLx/XvG0DZJ9QID+8cQHejaHf3ehtArnGCBusEG0AfQJnnyvQaQCJJ/bEuDBtAKkBGVMT/GUC63/Y6X5cZQEzl2FGW5xhARV0j0RpoGEAub5CpaZgWQPsWDfDJHBdA3SdOMlBGFUDJF0MyAv8VQKICIRb1VxRAqG/0grF7E0DxBCBikNATQBEYre6mrRJARX9yfrOKEUDqRlxwTbcPQIMdpwPVLwxACITyQyx3CkB6etP4wcgIQA00SO8eaghAPE5vt9PqCkCQEmskalkMQLIrRotucw1AtZbhPIvsDEClKZu96ZIOQBsOHTpZJBBA/+U8LF7ZD0CxHR5LwoIQQPwZMQf4BhJAL6vVZzT0EUDfsZSTrK4QQLzKBdolwxBAjk6A4qQKEEA6viIGFuYMQCgsy5dc0wtADUHSeDfXCkAHSKe5R0YFQDRo6K4xHQRAEOqXiQaOBECNLGpfKnwFQF1zfjzMoARAwH9KjQfEBECMMBeEqGADQJBCwJ7+IgZASMHibSIxCECSb22pScYIQFi3FP6+PAlAjLspEAbCCUBlJBQFCfQLQPUWF9WxyQ5AgsSHkgOXD0Da4qe8N1AQQJnV/cZv0RBAO9q+rcDpEED6TSZCaX4TQDVVrnp9WxNAbYlAjY4dFEDhxJeiFQIVQLCQMP4ChhRALpPRywvQFEAAw96t4tYUQIfN3NpSQhVAlzyUYQkkFkBKOWFUIrcVQGJmDTmneBVAnSivI40mFEB8C+WvRUkVQDPczR93ZBVA39dNAiqiFEDahS24ctIUQDezXrOb8hRAvliX3MF4E0C1IqefWz0TQE+PzYSN6BJAgUF4aUQ6EkADmtrcXSMTQFPWFXFi5BFAhYxE9YeQEEDSuck4g8ERQFkKD11YrhBAe1id6RIZEEAneThpebMPQIaexQZs2gxAUnbnRhefDUD2g3mVcEYNQL0HW1rlPwlAoFukRUmPCkBAL5sjDosIQPe2fcR2XwhAcr5sxA3hAkAWFJ7j7bgCQHUXgFMprARA2tn+MRxmAkDVcNpDKCX6P8Y0YiTGHPg/Bm2eDpJo+T+sTOPfOQP8P76rfaiWp/M/idnBmw7P8j+XkYsX0OrpPw==",
          "dtype": "f8"
         },
         "yaxis": "y"
        },
        {
         "hovertemplate": "Sequenz=58<br>t=%{x}<br>v(t)=%{y}<extra></extra>",
         "legendgroup": "58",
         "line": {
          "color": "#B6E880",
          "dash": "solid"
         },
         "marker": {
          "symbol": "circle"
         },
         "mode": "lines",
         "name": "58",
         "showlegend": true,
         "type": "scattergl",
         "x": {
          "bdata": "AAABAAIAAwAEAAUABgAHAAgACQAKAAsADAANAA4ADwAQABEAEgATABQAFQAWABcAGAAZABoAGwAcAB0AHgAfACAAIQAiACMAJAAlACYAJwAoACkAKgArACwALQAuAC8AMAAxADIAMwA0ADUANgA3ADgAOQA6ADsAPAA9AD4APwBAAEEAQgBDAEQARQBGAEcASABJAEoASwBMAE0ATgBPAFAAUQBSAFMAVABVAFYAVwBYAFkAWgBbAFwAXQBeAF8AYABhAGIAYwBkAGUAZgBnAGgAaQBqAGsAbABtAG4AbwBwAHEAcgBzAHQAdQB2AHcAeAB5AHoAewB8AH0AfgB/AIAAgQCCAIMAhACFAIYAhwCIAIkAigCLAA==",
          "dtype": "i2"
         },
         "xaxis": "x",
         "y": {
          "bdata": "yB9KmcmCIkCb5/wsyzUhQJZ5Xd8oBSFASb7irM/cIUCGVLWpEcEhQBr+BYTEtyJASa/8qldXI0D947l/+iYjQJLe4ZjiriNAHniR7R1BI0B8Lo8KsWQjQLXVcMANVCNAdWlWutk4JEBaDbOIhjYkQG+uR4lJ1yNAAMI7zk+jI0BNX4we/7giQIvdrEhMySJAzWuPgF3oIUC+ZvItISoiQM+HbvJokSFABOVXaX9nIUBrOnyppGUgQPEVXvtWlh9A6kMn4eFLH0BibmsNkKUeQMOmX2sCBCBAHSS0r3ODH0ClOLLu49QfQM6c2x/O2B1ApDzIKdhIH0Bsza+nqp8fQB7krWypQB5AW1JgvSSHHkAkqphL18ofQLKy4WNGux9ARFtEz6ZvH0AgS+t4Tu8eQCOYLpyW1B1AuUE8iFjsHUDaDE40xTUdQL+jpaCNphlApcgqNMVWF0D0mDPiy60TQPqVJdGA1xBAgMwEoyJ6CkD8Afw+PskCQBzj/R/6MPU/POmhWY1G8z8gr/7tK376P9QbBiOB6vU/rMWkcyTy8z9dqOk7rhT8P1zvWxCV3/w/ug/AlVRfA0C+cCN04+QDQASpB3eUrAhAcVbZljVEDED0QnXq/a4JQH3RWZjgChBA7ubfCZmdEECGDWlXmqEPQDWG6+Q5+BBA1bhJy9AvEkDcKufOYVcTQFKRXG7arxRA+ngjTM7OFUB3BZD3ZiIXQDg0Ov6fwBdAtEq5aTkpF0BmKfFKGzsYQIR/EuxixxdA9nDjKfUyGEA3uWTUZn0YQMpmtf17VBhAf6I3EDD2FkAiuAnAPBMVQLLIO8pNjBNAJx4UlAf9EkCwTHX0f38SQJpQbVFW/xBAKXDWRQXtEECPSKq7I1kRQDkqmxOf6RFAc02XZBHwEUA3PA/oiY4SQA49pdOlBhJAashxFqhnEkD3ijxhyr8TQBhHlbq0bRRATUGxs8ADFUDVmuIH31UXQBYEgj7tbxhAPJ3tp6GUGkBxvl4ge2kaQJHa4uFyUhtAiNIaYf8BHEBke2wCDQMdQDRLt6WJjx5A1+k7ZoVWH0CLGtGm4VkgQP9ms/Z3OCBAz31RBQ2kIEC5An/A8ZkhQBeIy6t5iCFAYQyXbIx4IUDZcDjYRVMiQPomQuBapCFAJE5TqF8vIkDccHc826ohQPbm11i6FSJAxmb35C1xIUApvLb9hM0hQJhDc8DazSFAlpQdPOeiIUAoNvZmL24hQNwuOUVIbSBA8SKg8f6bIEBUxCa0DgUgQClMuvH5BCBAG0g2dNq9HUAWh5H0WVQdQDO82ymT/RtA7cHtYBPuG0AU9oyHLX4bQL2F+sUa+hhADV3gHllUGUAFtUCYMD8XQMgxIR7LNRZAik6qrei5FEBcBS4vOO0TQDKfKD+ZZhFA4VeN/UC3EUCFSRl9grkPQDYvlU+mugpANmysFvblB0DTJILkZ4EDQLuPpahs6gBA18NprXtD/T8NPX8a+t/+Pw==",
          "dtype": "f8"
         },
         "yaxis": "y"
        },
        {
         "hovertemplate": "Sequenz=59<br>t=%{x}<br>v(t)=%{y}<extra></extra>",
         "legendgroup": "59",
         "line": {
          "color": "#FF97FF",
          "dash": "solid"
         },
         "marker": {
          "symbol": "circle"
         },
         "mode": "lines",
         "name": "59",
         "showlegend": true,
         "type": "scattergl",
         "x": {
          "bdata": "AAABAAIAAwAEAAUABgAHAAgACQAKAAsADAANAA4ADwAQABEAEgATABQAFQAWABcAGAAZABoAGwAcAB0AHgAfACAAIQAiACMAJAAlACYAJwAoACkAKgArACwALQAuAC8AMAAxADIAMwA0ADUANgA3ADgAOQA6ADsAPAA9AD4APwBAAEEAQgBDAEQARQBGAEcASABJAEoASwBMAE0ATgBPAFAAUQBSAFMAVABVAFYAVwBYAFkAWgBbAFwAXQBeAF8AYABhAGIAYwBkAGUAZgBnAGgAaQBqAGsAbABtAG4AbwBwAHEAcgBzAHQAdQB2AHcAeAB5AHoAewB8AH0AfgB/AIAAgQCCAIMAhACFAIYAhwCIAIkAigCLAA==",
          "dtype": "i2"
         },
         "xaxis": "x",
         "y": {
          "bdata": "7BDtmjrcH0AQ4szELyogQJt0hW0GTiBA8bgqVhs7IUCORQ/goE4hQMFQB2wenyFA2Q8YgM/pIkAoWDQKx/4iQFTTWJOMciNAGFdO4pkMJECdvPNPhY8kQIU1W4e/cyVACcc2vPZrJUCf/dEXJFwlQMOitSpXhSZAVQUC1TodJkA/lUxPtGUmQORy0089ZyZAGhkIvTaXJkDJMwMStaImQC0XVwMpeCdAyB9tiZGZJ0AuxmTEZ2UnQPhFJuGTOSdAgSY1PLFPJ0BGRqDZQWEnQBcq2xSN+CdAMHDZo6xDJ0Dm6m1muhknQDHiooDGACdAMAK4JxoyJ0DEVcG4ZLEmQOrczvvbISdAwYXV+hxgJkCdClV7iU8mQEEXrTchoSVAjwGLbGeOJUAuo2Z1opUlQEIzDs2KNSVAhgdFnJ+MI0CCGjam4NIjQI18rWBqiCJAb07OeBgLIkBgRXnJykwhQPNBnEpGZCBAAjm3uZQTH0DKJdlh6yAcQGamhefiKBtAgrtSqxQCGkCEABYDbHEXQEdMaZVswxVAd2KYdGZSFECCQxMvchwVQCd1YUmBjBNAQ5u7cEgrFEB74aKABqwUQOQth8oBAxRAO6sdkySKE0BqRLoZ8jsUQGNRD1FpdhRAHtGV2LOqFkBoqA6kYkIXQDIEXykNThhAnjHT9NgNGUCBGZTQIXcZQD8H4I2vHRxAFllDWTnjG0CkTJUjQPobQLyreMP+gRxAggm1CUO5HUCXf0vLxYgeQPg5RSm9jR5AiX45qGO5HUAhR9EIN9EdQE5uE1ycQBxAdGTayVWGHEDC3KBfHmQbQMdiTLh9VBpAaev+QVkLG0C3rxIsMIcaQKeTte9Q5hpAmr6+mhk6GkCunZWhHNoZQKmPDuZRMxpAXuMvje8AG0C4tPnz3OQbQL7g58FDUhxAH8yRdMCDG0BD3ymU3Y4cQDVTVTYQ5RxAWu05/8/3HUDzy9UqSrUdQKif/RF6yB1AM6n3ho++HkB/h02qIjwfQGbw6KCQmB5AgBYs+M4qIEDRBBy6uyggQCzg1ovHOB9AoWBrTLh5IEBkrxlajjcgQLkhkhkz4B9A8zJIrxuLH0Cqnxr05DkfQEc3gFZpoR1ALyY6Jb7yHEBdSsvUD6kdQM5tW71GoRxAXBNVg4z+G0APqh2zRNQaQArGgLotnhhArx5siiA9GUCk4H3j2IkYQFlIt5hwfhVAt65HKuf9FEAYT7CCtRAUQKUlR788UhNAGV53hu8nEUCXEVPZzyIPQGjgFyeCNw1Av3e390iYDEAaYYHXElQJQA75IriMggpAM49agHCGCUB8zrNe/7sDQEGRWXbrJwRAD7X0fjd3AEDLOVDP97b+P2/WcMRFEvk/jsOd5Eq8/T8SDFWfjBr2P2/HCNZPn/k/+KPjHZHI9D/MPgxKstr0Pz9Tey/CCOo/CJhYHg638T+0KchzzWXuP0qH7p4JQeY/BKX9yzsr7D9sD3/IcqPnPw==",
          "dtype": "f8"
         },
         "yaxis": "y"
        },
        {
         "hovertemplate": "Sequenz=60<br>t=%{x}<br>v(t)=%{y}<extra></extra>",
         "legendgroup": "60",
         "line": {
          "color": "#FECB52",
          "dash": "solid"
         },
         "marker": {
          "symbol": "circle"
         },
         "mode": "lines",
         "name": "60",
         "showlegend": true,
         "type": "scattergl",
         "x": {
          "bdata": "AAABAAIAAwAEAAUABgAHAAgACQAKAAsADAANAA4ADwAQABEAEgATABQAFQAWABcAGAAZABoAGwAcAB0AHgAfACAAIQAiACMAJAAlACYAJwAoACkAKgArACwALQAuAC8AMAAxADIAMwA0ADUANgA3ADgAOQA6ADsAPAA9AD4APwBAAEEAQgBDAEQARQBGAEcASABJAEoASwBMAE0ATgBPAFAAUQBSAFMAVABVAFYAVwBYAFkAWgBbAFwAXQBeAF8AYABhAGIAYwBkAGUAZgBnAGgAaQBqAGsAbABtAG4AbwBwAHEAcgBzAHQAdQB2AHcAeAB5AHoAewB8AH0AfgB/AIAAgQCCAIMAhACFAIYAhwCIAIkAigCLAA==",
          "dtype": "i2"
         },
         "xaxis": "x",
         "y": {
          "bdata": "rEQebD04IkAnGa6k7R4hQDnyA6tcpSBAUHAdVdqvIEC7MGqrJzohQLFUgS125yBADsIQstDaIUA91nTHEJ4hQBUkOEqScyFAs5TLUMfmIUABDro5i2siQNYRcgjeGiJA8rZkYb9zIkAt7iSDAsgiQC0vf77zOSJApFnbLgyjIkCBqBRWKRYiQGNXYw4tjiJASp3pjSHOIkDTYffEnOgiQCQdhWlQnyJAmwbcIjRFIkBv07YzPOwiQEYh7TesCyJAWtIUTQlAIkASdUxQgsciQMuRJWQrXiJAb3b/N2wxIkDhoo+DuywiQBk1pLUDviJAo4xx65ITIkCaMxnAib0iQFlPKwQo6CFAOBNLfKi3IUD25zef/rshQONJmcqauiBA7ZSiQjY+H0AaDmVR/BUdQBS8F64aKBxAsRtY4dqbGEAVHO6eG/wTQGet5Tu3URJAfKmlievuD0BC4HOqZ9ULQPgQWt9OYAZA5mIxAP2mBEDEru8y2MIAQGoMTMLaPPg/wxVvgmO79T9tdzgmuOn7Pzh9sCW5Xf4/RA4AfnV5+z9UK8TYLaj9P0S1Kn84swBARBK3BfQ0AEDAzRSlr04CQPxwzT/oxwJAXh6722miBkBgOotWYg8HQBbukHmjqAlAzf95KLx6C0DNFWpkYpoOQAj6cltHgA5AvYwjKnyoD0DaYBZLFH8SQMlsMCxeiRNA0RkvsM6VE0DEwXohA+gTQG5/6oivoRVAruEay7IiFECEfHFMu7UTQBZS7RyR7xRAX4om8cirE0BIc8SpmRkSQD4DZ6JXwhFA9FOlyxWGEUDQECGJIskOQB/i+QIWfw5AspjYFObAC0DZG5d9D2MLQKqNB+gU8glAv51wB68KCECgKKzufZMIQO8FaO2ugghAfuVlEKDoCUAMcHRRRG4LQOB4fkX6Fw5AeSnZgz39DkDvYiZhOvMQQE76VYuFjBFArF5VNF5QEUAsoVKnmOwSQMs3FTLkhhNAhm+UcGwHFUBCT+Qso90VQN5aZVeT3RVADeSFQFNIF0DqTczW8E4XQMpGZJlLuxdA4ixUVWK2GED1j0Tl158YQEevodPG9BpAkxpOTnIwG0Aotb2G+Q0aQDUJ4hxUVRlAzqakYirvGUDCPyCG4LEaQPbj0HzyJRtAcELhZZ8CGUAUDP+4umYYQAMOgrPSzBhAQX4dgQ0EGUAekwVJGmIYQHcfEDQiMBZAIoxyuge0FUD8CFLZA7MVQMfCb2boIxRAZ11XUeGrE0BDK5dQICETQEUNjo1n5hJA41L9JO4BEUB38XRyOF4RQMMqU90+9Q1A/mVAzkHgDUBnDloyqkMNQFt37NAhtA1A/vD6p+htCkB5g7bYsqIIQGS0H+wE8QZAXU+lQeFsBUCAyFATsYIBQDh/RIYanwBAcJSEswojAECqa7eCgn77P4k+Cyj6/fs/pqLNB78A+T+++OO5p87uP+DhKoRwBOw/Y0L5SNr18z9yoAirTbPvPw==",
          "dtype": "f8"
         },
         "yaxis": "y"
        },
        {
         "hovertemplate": "Sequenz=61<br>t=%{x}<br>v(t)=%{y}<extra></extra>",
         "legendgroup": "61",
         "line": {
          "color": "#636efa",
          "dash": "solid"
         },
         "marker": {
          "symbol": "circle"
         },
         "mode": "lines",
         "name": "61",
         "showlegend": true,
         "type": "scattergl",
         "x": {
          "bdata": "AAABAAIAAwAEAAUABgAHAAgACQAKAAsADAANAA4ADwAQABEAEgATABQAFQAWABcAGAAZABoAGwAcAB0AHgAfACAAIQAiACMAJAAlACYAJwAoACkAKgArACwALQAuAC8AMAAxADIAMwA0ADUANgA3ADgAOQA6ADsAPAA9AD4APwBAAEEAQgBDAEQARQBGAEcASABJAEoASwBMAE0ATgBPAFAAUQBSAFMAVABVAFYAVwBYAFkAWgBbAFwAXQBeAF8AYABhAGIAYwBkAGUAZgBnAGgAaQBqAGsAbABtAG4AbwBwAHEAcgBzAHQAdQB2AHcAeAB5AHoAewB8AH0AfgB/AIAAgQCCAIMAhACFAIYAhwCIAIkAigCLAA==",
          "dtype": "i2"
         },
         "xaxis": "x",
         "y": {
          "bdata": "rG+GEAgvJkAdRcW1VN8jQG2nPAe+GiRA9XsckYBkJEAmt4MfBzMkQEOnsJQYDiRAM/OSiYBhJECc4bPTkn0kQN8apIMZciRAMPiBEeARJEARzcOV1G4jQPzXjwDK+CNAuzBgixqNI0AtsKgKEc8jQDPCOzefkyNA4py7n+4dI0AMELGBQnkjQNI//BjcNyNAZ8G1tRGNIkCvDQuYcnoiQK9sgF1xQyJAaUSKFroiIkCHfaHuE7QhQGfmcspvXyFAX7qwWVwJIUDdzQRLZNMgQFCCq8nXZCBAR4f6rfRIIEC7a1QChQ0gQDCB7KZDlh1Ax7mqVAXPHEB4/sHbm3cdQMDHCJCA7BpA98hLnunYGUA3leqw3k4YQG4XME/SPxZAl5X544j+FED2K+R0DS8TQCne4CVb3BFAoZsq5FWDEEC2qrmjhHEMQP9fMSCKzwlAvvcPMLqEBkBcrZ7coDsDQG8fj7bR0/0/q+HzaSkG9j/6Nn+M03biP9Iewr6m4fA/5gPOOkbD5D+JttrbX7fzP6KgbD/kf/8/pCFjSq7++j+dzeBCNT0BQL1DBEmZHghAw46yQzHFBUDwzxg5KHUNQJ/Af+nflw5AoiDZCKVkDUAn6kAvnbQRQKg2DmfxkhNAs03OeuyeFUBeenwULgwXQHUiO0C7uRhAfF/XBvMuGUAL4o9vDO8aQCLzAdxMkxtALH37PiLXHUC3b7xzShYeQLbNYI5HTB5ASugXHIJFH0CD8Drg/fsfQH6x6BKv6h5A7wB2gmeSHkBKPEWBzdsdQC5dnv7V/h5A++oG9KICH0DDaSrJC2AeQAhcIYS6Ex5AUsBdR0kFHEDhHrr5BzUdQGriz7EoCh1ASjKUC38oHECDQLLxXDQdQIX1JTVUmhxAkXFU3m+jHED1BBrXKHQeQFRhkKup0x5AC36xOlKBHkA1JbkhUEYfQHiHi0KMbyBARwBVTthFIEAP199Q34EhQCyLzs2FuyFAiqOIrawEIkDC4iS6FoIiQA5ZiBmiuCJAYA7Qkz4AI0AUmXYSY2AjQMOuRWnweSNAiC188ajvI0ARc9o6Ar8kQMR9g57K1SRA+cnEilKqJEBmlxO8Np8lQH4GsL22piVA8jzlBFJ1JUBlxtGPuUEmQGrt8NC8+CVA7+JObh8kJkCtwcbhl10mQADy+HjHRyZANgfaYJCkJUDwFVOtBrklQIk7pF1RviVA1it/wna7JUA0Wpor7BolQA5kFJRQrCVApsxIORm6JEBzEyttNDIlQOGCV2V+uyRA5xy+GJoXJEAuy/oy9H4kQDKM2+3J7iNA8R5VbXk3I0As1qnJhAMjQGtRMHD+7iFAnhHXJdukIUA47CN4g/QgQKyZLSHtGCFAmRCJd3OTIED4F0MUhqgeQA0d9QzhSx5AdOc0YCA/HECTMT1nnrMZQABpDfkhcBhAh1XAZIBeFkCanrEjqHEVQHlTCefI+hJAceDN8iiHDkA5RGMyrF0KQA==",
          "dtype": "f8"
         },
         "yaxis": "y"
        },
        {
         "hovertemplate": "Sequenz=62<br>t=%{x}<br>v(t)=%{y}<extra></extra>",
         "legendgroup": "62",
         "line": {
          "color": "#EF553B",
          "dash": "solid"
         },
         "marker": {
          "symbol": "circle"
         },
         "mode": "lines",
         "name": "62",
         "showlegend": true,
         "type": "scattergl",
         "x": {
          "bdata": "AAABAAIAAwAEAAUABgAHAAgACQAKAAsADAANAA4ADwAQABEAEgATABQAFQAWABcAGAAZABoAGwAcAB0AHgAfACAAIQAiACMAJAAlACYAJwAoACkAKgArACwALQAuAC8AMAAxADIAMwA0ADUANgA3ADgAOQA6ADsAPAA9AD4APwBAAEEAQgBDAEQARQBGAEcASABJAEoASwBMAE0ATgBPAFAAUQBSAFMAVABVAFYAVwBYAFkAWgBbAFwAXQBeAF8AYABhAGIAYwBkAGUAZgBnAGgAaQBqAGsAbABtAG4AbwBwAHEAcgBzAHQAdQB2AHcAeAB5AHoAewB8AH0AfgB/AIAAgQCCAIMAhACFAIYAhwCIAIkAigCLAA==",
          "dtype": "i2"
         },
         "xaxis": "x",
         "y": {
          "bdata": "WKD88MAcGUC2ClBCyV8aQHd1+vTr6xtAHCQTzUf9HEAImNmLkKgfQFWyL/UHZCBAlwcJqbCbIUBV5YH2+H0iQECTvn5vPSJAakCq6gsNI0DC6z771T4jQN8BchQvAiNA7ZFQorFVI0AxdjUCiAQjQJJwMc6f1iJAbBtVLrJjIkAYnyjUAqEhQBWvg/FXUCFAQg7C1hICIUAnYBchpTQhQBcNISQOQSBAGQ8Sl39FIECnJ6hF/EIfQILKU1zEzR1Aii69arcEHkBvmBqRbgwbQJAlQT4ZVxpAAqbW4lyWGUBbQHsPHlMZQN14aASkvBdAHRbn54e1FUCY4ijAtgYVQIkmKtbBMBRAZNliii2NE0DGgIeN7qARQOPjuWw/9g5AI562xMSAC0AupR6szRYKQCFEV49aWAhAAcWhCWQMBECbbZf83ysAQFOY5hfxMPs/5sDfcmfT/j87+VxJolP8P+eZnS75J/4/V2qZE7abBEAsqdINLaYJQNA7NQCPMxBAX8pK3+YwEkDN7J15B+YTQE+yRRsGzhVAetkxsAuBFkDurb4QDn0WQKR97+UvBRdAN1tD4e7yFkDzN4BJPiQYQF7gOsPuSRhAfyoy7dujGEDoHLg5lUQYQJU5ZdqWwRdAI7mpZR4EFUDDicKUJ+sSQDOJTWugwxBAl8vyxZELC0A8YrqRhO4JQOqB0fGlnwdAuIgdFOJLCECDvWhhba4FQPSUdGQm8gNAk2WpMGocBkCuL809PjcGQI/JOq8a6wBAiYpxGWGpAEB28s3PRbH5P32+g5Tnaf0/jI1UcVCP+z8cFYZCEiD1Py2fvwf1NfY/zpEkBlV08z+WaMxy/jXyP9s/BJ+OMvU/hqzpWfyb9D+onE/PhKn2P15i0JxBiPc/qnDehMl5+D9RKJC77QL7P9rnso4xgv0/61K0wXmVAECiBLXoccD9P2c0143S6ABA57NjiEAf/T+NuSq+48r+P27i+yOpjwBAnsVZSebpAEBU4xMU5ab6P4VtqffLeQBAL0s3zJ7T+D/OmjbezCL3P8jw55MDm/U/xgExW3xz8j9hGcdv/MD1P5rQIKTydvU/kxocnJh+8D+yt/EjixnnP6I3RwPzJ/E/uanH44j56D9eBeNjjVXrP6fe9LwemOI/IGWsdkZh6D9QCAvLaFDcP/BppOk13es/mlph3ppJ7j83UnL/qhnjP8eqDE8l2+U//+38+cl18T+3oCX9WAnxP5YsN8RQUO4/2cHoMOsn8T9C9uDea3jxP8h4X2gfYuw/9PPK+Yiz7j8gKApUzxHmP7xdR3Q+0PI/87HJnVqb5j9uM/prE8vmPwzVPpeJpuw/BaPMqhf06j+OuK9FGQnlP7uqoczNJ+k/HUjFhGbu4z8MTJmbkVnwP7oHEa5VOek/MC5Od0kY7T/jPv10Q8fiP/Der7aY5Ok/YCHUP+N96j8jYPH5cuHqP963VelZo+Y/lk0PPT3q2z/Y8TuCA7ngPw==",
          "dtype": "f8"
         },
         "yaxis": "y"
        },
        {
         "hovertemplate": "Sequenz=63<br>t=%{x}<br>v(t)=%{y}<extra></extra>",
         "legendgroup": "63",
         "line": {
          "color": "#00cc96",
          "dash": "solid"
         },
         "marker": {
          "symbol": "circle"
         },
         "mode": "lines",
         "name": "63",
         "showlegend": true,
         "type": "scattergl",
         "x": {
          "bdata": "AAABAAIAAwAEAAUABgAHAAgACQAKAAsADAANAA4ADwAQABEAEgATABQAFQAWABcAGAAZABoAGwAcAB0AHgAfACAAIQAiACMAJAAlACYAJwAoACkAKgArACwALQAuAC8AMAAxADIAMwA0ADUANgA3ADgAOQA6ADsAPAA9AD4APwBAAEEAQgBDAEQARQBGAEcASABJAEoASwBMAE0ATgBPAFAAUQBSAFMAVABVAFYAVwBYAFkAWgBbAFwAXQBeAF8AYABhAGIAYwBkAGUAZgBnAGgAaQBqAGsAbABtAG4AbwBwAHEAcgBzAHQAdQB2AHcAeAB5AHoAewB8AH0AfgB/AIAAgQCCAIMAhACFAIYAhwCIAIkAigCLAA==",
          "dtype": "i2"
         },
         "xaxis": "x",
         "y": {
          "bdata": "PP8GODnZG0Clh9N6nB0cQK7Es0Bj0h1AxW3TEAelHkAHZWfXG3wgQEOkYvxYUiBASW45LVn3IECsMuMf29ohQIAxTzJ0UyJAW5xaoTzLI0CiZ5XrBOwjQDiow7uERyRAhXGEXBa9JEA7VT8xR0UlQHGKnrZtzCRAMCYebePFJUB2LnMXH6ElQIqhgWc+iyVAUOZVPOkzJUCo+DEib/4lQItdlE6MXiVA1dR3oEmtJUC6TAjp88IkQFCxTXv3tCRAmeRPWnROJECkwaWSS4kjQGEW2N9ObiNA8rLPWJf5IkAbmK2PTnYiQFl3lkKlnCFAmWreGxcoIEAHYkvhhbAeQKTmjkkNWR1AI+VxP5vxG0BcHTry0OUbQIANJ27dCRpA13bsV8j8F0DeHRef9OYVQGcm4T2g3hNATiYiTyhYE0BGFxsIyj0OQOlCc4q7nAtAb9u/0LoFCUBgUBOgf48EQHNZfZFilQBAnv+Scy68AUA61M7zXsT4P4AwOBED0+s/lIneE9aa9T+f9lsRvWb4P50BbaUfw/c/22IBABKw+z9j/akBWJXxP1f4qUnvQ/U/yui20clcAEA6GRvuv2wBQH1UcLjSowFAFFj0zbV6BECAI3vCM1wEQLolP4ivIQlAs6hu31NrCUCBcONwZIcNQPKnPZz4Hw9A/yxBDjHtEECxsoZ+r80SQCHvr60ZvRNA82VjdWvHFEDLYN+VAwIUQEJtQFfI1xNAVYmAgIXNFECnZ289cB0UQC7GiT2jwRNAd2WRjR/tEkAUB59xMzsTQIhjPUaGYxJAhNKZNCNPEUDWZqVPsg0SQMf6nmDdFBBAwn9HmFZMD0BuRvWJdGARQH1ujdgb8hBAVZvLaiG6EEBnK4bglNEQQIlGFcBCNhFAzelJRLD5EkBlz3gcMngTQJQVTSo6GBRAhiOxa7mhFEDoxdg3wj8UQNEpRCQSLRVAPSsWEm3uFkB/BR2mCSEWQNLpR8JXeRdAMvgm3XXsF0AGD1PyOWIXQKTolbPZHxlA9Qv+5htqGEClprEi32gYQJ7wdOnhiBdA1nEAwbumF0BWEbYQ1fcXQONq8xgyVBhAlr4Ly1KtF0CrC7i3ui4WQEjdoXo8cxVABOZ5E86DFkAHjX49jw8UQGJsls7mLhVA9PD5JKeVE0AU6Q/l5nQTQE0Rhtod3RJAm69gJ33bEECntOGIim8PQCnX70S1TxBAKErUbsa6DUCLTQnxCF8IQAKIaZhhUQdA0znzQEKIBkBiyHJNx6MCQM2Ds1yIWAJAGneOyvUb/z+oitwM6ID8P0VkATvTevk/6eVhwaeg/z/cqfnZPjP6PxclIdIemfE/goGLp/oH8z/em0c1pt/zP8aGiUzsZfA/ZO7wh6wn7D/+F8dVjmTwP1D4iP2/q+E/trpMGykW4j/WWEFnGzjuP0h21zFBvOs/1DEwdXGp7T9ADyjHtNngP+zMxN487+w/gpUN3o2f8D8g8bk1rjXqPw==",
          "dtype": "f8"
         },
         "yaxis": "y"
        },
        {
         "hovertemplate": "Sequenz=64<br>t=%{x}<br>v(t)=%{y}<extra></extra>",
         "legendgroup": "64",
         "line": {
          "color": "#ab63fa",
          "dash": "solid"
         },
         "marker": {
          "symbol": "circle"
         },
         "mode": "lines",
         "name": "64",
         "showlegend": true,
         "type": "scattergl",
         "x": {
          "bdata": "AAABAAIAAwAEAAUABgAHAAgACQAKAAsADAANAA4ADwAQABEAEgATABQAFQAWABcAGAAZABoAGwAcAB0AHgAfACAAIQAiACMAJAAlACYAJwAoACkAKgArACwALQAuAC8AMAAxADIAMwA0ADUANgA3ADgAOQA6ADsAPAA9AD4APwBAAEEAQgBDAEQARQBGAEcASABJAEoASwBMAE0ATgBPAFAAUQBSAFMAVABVAFYAVwBYAFkAWgBbAFwAXQBeAF8AYABhAGIAYwBkAGUAZgBnAGgAaQBqAGsAbABtAG4AbwBwAHEAcgBzAHQAdQB2AHcAeAB5AHoAewB8AH0AfgB/AIAAgQCCAIMAhACFAIYAhwCIAIkAigCLAA==",
          "dtype": "i2"
         },
         "xaxis": "x",
         "y": {
          "bdata": "KDnaiSFaF0Cel3UNmSUYQF+vdkXabRdAatfV+TcdGEBSgWLQCSkYQI3MWKeTfhlA+llisSNcGUAC69yDOKUZQD3dksjbahhATbvM2l8AGUCy46HTkGsaQKWa+SmsURpAQvAsFTuTGUBqMB0b9GcbQF6EwHnmbBpA0v8XRa56G0Cx+wKeRc0bQNKjXSnw0hpA/z/675J9GkBP8tRGafUaQIKQqBpiexpAP15Q73XQG0CMwiztpF8aQFaKV3ECuBtAUDv2EkpVGkA7bhKdyxEaQIyu+i5lnxpAoymDiTmsGUAvQEShYXcaQCUDL+NBORtAsRfGh/3+GkC3Ez51v0IbQBeKoouvdxpA9jlRDEqUGkCX6PwXueEZQHx9q5zMfhlAwR8OpGjcGUA8XWn/2bEaQB3rKUR70hlAPnw5ToRYGkAMSx89RXwZQLRm6RjgihhAmNl0bKzPGECKd3jYNMMWQJS5fHvArxdAkD1qKzjPFUDGRGXdHC8VQFDStqdmFRZA1XW18PqHFUDWo7O64zMVQOX8B8hSQxVAyFJQ5OcuFUBDJq5Dp5sTQFaQMzrzSRNAbTZRdohdE0Da5JqVlxUTQM1UlS5V0BRAw2ScE8fgE0CvpjJKQs4TQCuModE4ERVAgXwFsQ4LFkAMyEivKxEWQATe/OTQJhdAnq2y6pWmF0ANanbCYTsYQFVrVGCYhxhAU22x4+WUGUB/ygb065UZQJBY8DN3OBpA0MsLQDUcGUDYg4HGJSsaQErlpHpxYhtAEKJurOPRGUAFY8Wwr1oaQGOMdKIV3BlAWmCqb8qIGEC17G3KT2MZQJ8Bv947TRhA5AdsYlPQGEBbytBoEVUZQIFtIEtHAxpAlW5iJJKcGUC/cP26zd8ZQDeSFKyKDBtAmMsbrANqHECs6QQCC4IdQOtfUQVeuR1AATgBtWGjHkAPVRjSDIEfQPtyrH/05B9ACc/NeJ+SIECjk6mNgVMhQJYU7HIYcCFA8P+HBAS+IkBu+l5+PXgiQOonvMa+3yJAmNntu4VjI0A3VTmgWOkjQMMktVAPfyRAfj5pnbDVJEAy4PnHydckQPtdSExgdyVAkrPAjYhcJUCeDG2223UmQEBamBQvRyZAJmSjowLdJkAbyoGbZ3EmQJ26MAe5rSZAky47JKiCJkB6mnJ5+2EnQE7kW6d+JidA85VQoOY0J0CUBSfZ8YEmQKqu2FTmNydANE7gSXnCJkC9CtvXhhknQKWtHbb+IyZAQuxcMkbFJkDKytL6K94lQPkJZ8I2kyVA31G3zfUmJkBgUVYDKXolQCA8QrhVniVABja9OwBuJUA+3Pn0i8YkQL6EwdRfcSRAbhZuozV7JEAP3kihhVEkQJaue/9nWyNA7ypUCviaI0An50I2D+oiQLixoE4o2SJAcu5LZMqRIkB1m+OMwhMiQAe7TKBsViFAVoPtKeIUIUDdkbKLIhYgQIT98dbYVyBAAh6C5yn4HkCoMAOoz+gdQA==",
          "dtype": "f8"
         },
         "yaxis": "y"
        },
        {
         "hovertemplate": "Sequenz=65<br>t=%{x}<br>v(t)=%{y}<extra></extra>",
         "legendgroup": "65",
         "line": {
          "color": "#FFA15A",
          "dash": "solid"
         },
         "marker": {
          "symbol": "circle"
         },
         "mode": "lines",
         "name": "65",
         "showlegend": true,
         "type": "scattergl",
         "x": {
          "bdata": "AAABAAIAAwAEAAUABgAHAAgACQAKAAsADAANAA4ADwAQABEAEgATABQAFQAWABcAGAAZABoAGwAcAB0AHgAfACAAIQAiACMAJAAlACYAJwAoACkAKgArACwALQAuAC8AMAAxADIAMwA0ADUANgA3ADgAOQA6ADsAPAA9AD4APwBAAEEAQgBDAEQARQBGAEcASABJAEoASwBMAE0ATgBPAFAAUQBSAFMAVABVAFYAVwBYAFkAWgBbAFwAXQBeAF8AYABhAGIAYwBkAGUAZgBnAGgAaQBqAGsAbABtAG4AbwBwAHEAcgBzAHQAdQB2AHcAeAB5AHoAewB8AH0AfgB/AIAAgQCCAIMAhACFAIYAhwCIAIkAigCLAA==",
          "dtype": "i2"
         },
         "xaxis": "x",
         "y": {
          "bdata": "QlO0phqPHkBSbOZt+80eQIx2I7m9qR5AN4Ok4XAFIEAC+lS5iwQgQKg03tex3SBAgMS0GeLEIEBzGCxntQAiQH+0l9LUDSJAT3ouEzxKIkArKcmjYyAiQI/LkpoXCyNA6vNbMuUdIkCrrUjI370iQO61KUiVhSJAGx/KkEroIUCUX3vjC4EhQLR8ZU6L0yFA/6RISlj1IEB1Elpvb8UgQPog8pJnmiBAHR0b04MDIUDAaGuRhfkfQM9u5ljrfh9AFzdsXQefH0B0k8Wwgd0eQNHCPFR4Px9AuCUyJFoTHkByW/ctjM0eQOK1ngvTRh1AO3fZB6CNHEDmN/PhFUUcQDAWmwWwJBxAYCjzmXrxGkBO95qqBGsaQPwiuIdCmBpATFV4q4J/GUD3fIK9ccQYQGea+n6pYxdAjzp4F7T/FkDYDIKWKfQWQC0i2ZFKExVA0SARV2fsFUC9x98o6KMTQLX//7UXLBNAIhzEnTvlEkCNCdS+6csRQEK+mSCd3xFAkxp0PcfJEkDt0rS88zoRQDHW1DihdhJAo5L6Ii+XEkD480UAGo4SQKeOMqE4SxFAsLf2ebe4EkDwRO7xbbMSQKxbR1LZiRNAktIsNMEJE0B7HOMV6v8TQLM2M4TnkBNAqr+XbTssFUC5XgT1k9YUQHI/Gw6cFRZADyrK8u1YFkDH+liI9MwXQM3xvq0+WhdAFuy9cyzgF0CmLtSE4U8YQEW0Lc70WRlAyNDcMIXWGEDiJc2/XNAXQMpEcGHNBBdAkM9DZh8NF0B2km/1n6gWQO0s+QoDvxRAUDOX1q0WFUDrRzBUh1cUQJFtwQNLuBNAvyvJkJyjEkDb323fzwgSQCXIV/yN2RFA8LjUB1BLE0DoPBuaUkcSQKQDayb3iBJAOJsZWGPfEUCjl1Rhde8SQII5WdewCBJAIsQF9C4JEkDGJOxE8akSQCohz+OGbBNArHDqWFtCE0A++RbDPAATQKeS3fGREhRAXHyRQWePE0Byd3tEIqQUQAwP8233axRAGdeQsXrcE0DMbLatekcTQEQ3PEJo6RJA7kpH/SRaE0C6GX9G/8YSQP9dJLPOkBFA5hqoME8/EUCAazoZ3RISQDDzlOCnXRFAoLOSosVCEED29vPzAtgOQMCMjG3oow5ACsq+J9EYEEAurNCyTW0NQNODW0PEhQxA1/bOkSogDEAA9yDvPggLQGSyDsiY8AtAD8r+JSeDCUCzKOl/qRQLQLRd1q/TPApAJFkWDGzdCUDwOpxCwMwGQIACWoVHHwZAzL8GvLAeCEAhQaL83KAHQLvLJYi3VAdAl6lMCvYuBkAW2CZHvtIFQBUh7+bJHARAcIuVEef0BUB7NqR+faIDQGwFYjK4xQNAD2miMV+HAkBSpOYLMugEQDceemBudQNAeZGGgQk7A0As7NMTvSsDQPrXsoYlEf8/eO7UU5PZAUCt2OORj0P+P3oH9eDTq/4/nLyKwG7h/T8uF2AHFK/6Pw==",
          "dtype": "f8"
         },
         "yaxis": "y"
        },
        {
         "hovertemplate": "Sequenz=66<br>t=%{x}<br>v(t)=%{y}<extra></extra>",
         "legendgroup": "66",
         "line": {
          "color": "#19d3f3",
          "dash": "solid"
         },
         "marker": {
          "symbol": "circle"
         },
         "mode": "lines",
         "name": "66",
         "showlegend": true,
         "type": "scattergl",
         "x": {
          "bdata": "AAABAAIAAwAEAAUABgAHAAgACQAKAAsADAANAA4ADwAQABEAEgATABQAFQAWABcAGAAZABoAGwAcAB0AHgAfACAAIQAiACMAJAAlACYAJwAoACkAKgArACwALQAuAC8AMAAxADIAMwA0ADUANgA3ADgAOQA6ADsAPAA9AD4APwBAAEEAQgBDAEQARQBGAEcASABJAEoASwBMAE0ATgBPAFAAUQBSAFMAVABVAFYAVwBYAFkAWgBbAFwAXQBeAF8AYABhAGIAYwBkAGUAZgBnAGgAaQBqAGsAbABtAG4AbwBwAHEAcgBzAHQAdQB2AHcAeAB5AHoAewB8AH0AfgB/AIAAgQCCAIMAhACFAIYAhwCIAIkAigCLAA==",
          "dtype": "i2"
         },
         "xaxis": "x",
         "y": {
          "bdata": "9FiTYGAZEEBOrvlvVb0RQLZNv5Bt2hJAN1hW99IdFEBfPrK9AFwVQL6kJI3Y0xZAGP9ufLebF0AjhYCWJuYXQPvs0McVXhdA1K380XdFGEAL3BVldYwZQIIfUEmjDhlASJdF6kRQGkADMSc7xWMaQBGfa40LCBpAOyft3KIFGkCUuK8ha1EaQGweUiUFJhtAeYKIOuoVGkCd4s19kM8aQFg+HkJbIBxAnwBRh0krGkAKjFSjsDwaQOWCPiBYghpAEULs7sCDF0AR1+ouBzMWQL5K8Nnr3hVAcPReJ8ZIFEBO4Zb3iZgTQICtak/X7xNAZE25mK2YEkAEfHvNhxcSQP7pWCH98Q5AKekVVnS9DEAYkpZLA4MIQIP8kbxEMgZA68oqf5gdBUDFszV0YcQDQIlm4c5VRAJAIfXPDa4EAkCnP3iHT/D/P4HSt1GLRPg/5LHEf4Nf+T9VFrQyGTbuP3zQ+7/HbeY/oV78BZW08j9Lz5EIOH7zPxUGcnPSWPQ/DsfGgxGi6T+aWoliiIfsP37jQqEDh/E/jQynkRXI9T/Msjv898LxP8a/eE2uDfQ/INj8CEcT/T857Zf41fL5PzROWB5JWPo/6O2sQHNQ9j/6z+Nudff+P/utl0hD3wFAJv9ahTOGAECiDmS9XrcEQHx3goVpsAVAk5E7M9H7BEBHphCAHRYHQOD8pkdPiAhACvNsQNDOB0BbuXVKlVgKQAIEXQgabgdAcjnI0UqzCUBmz9qmO3cGQAC7yeNk1QZAfcqRQQfYA0CHq95Q3UMDQLjSbeqBgf4/DMjjiZmIAEBPpwW6BJT+P4nLYzOEXf8/11/HTZWF+j/iJQ5ODnIAQMtC4dDXuwJAdMbT8eu1A0AGl9VMnTADQBK/u1fMmgJABYfBFmwKA0Acle3aDH0FQBrr3W9bsAhAqgffHi6mCkCZzYOlAXgMQMCWdj64Uw9AiKdJ4O1cD0BSU0dN0bAQQCgcOChDVhFAY1/oOaGdEUCOga99dgsSQDu/rs0C+xJABmlX/JrZFEAYldf392sUQJLRsuGQ8RRAK6buNIDaFUDPrWSnJhYWQD4pnjsN4xZA48Cp4xl1F0CW45fFOooXQIo4n3L0vxhA93qApa4+GUB1OS1GgicZQDDQB/yazxdALxuKpE5lGEDIJzOhOgMYQFG2UM1EiRhAHUMfCCe9GUD1JGk3IWYZQFstcBvGYhhAVVZ7Dd/bFkCe9YyilasXQGhfiZp2AhhAbGt5V90kFkBhK7OuxLQVQOoUBjn4KxZA0P/iw+lOFEC9DE8Pai4VQIDUB0pMZBVA97XE6hWkFEDj0HQiX6sSQJAYvau4ZhJAkOctNbp4EUD3q1GwtCMQQEpwQGnfLRBAfMviMRMSD0AI/l3xKk0OQDAxJKjv6QtAymMHwgcOC0DphpwqSaYHQCXPmOlZUwRAKPqCO47TAUALCnAN32sBQJBQSDPeIf8/DkV9xsJv+D8WbE9dHaHsPw==",
          "dtype": "f8"
         },
         "yaxis": "y"
        },
        {
         "hovertemplate": "Sequenz=67<br>t=%{x}<br>v(t)=%{y}<extra></extra>",
         "legendgroup": "67",
         "line": {
          "color": "#FF6692",
          "dash": "solid"
         },
         "marker": {
          "symbol": "circle"
         },
         "mode": "lines",
         "name": "67",
         "showlegend": true,
         "type": "scattergl",
         "x": {
          "bdata": "AAABAAIAAwAEAAUABgAHAAgACQAKAAsADAANAA4ADwAQABEAEgATABQAFQAWABcAGAAZABoAGwAcAB0AHgAfACAAIQAiACMAJAAlACYAJwAoACkAKgArACwALQAuAC8AMAAxADIAMwA0ADUANgA3ADgAOQA6ADsAPAA9AD4APwBAAEEAQgBDAEQARQBGAEcASABJAEoASwBMAE0ATgBPAFAAUQBSAFMAVABVAFYAVwBYAFkAWgBbAFwAXQBeAF8AYABhAGIAYwBkAGUAZgBnAGgAaQBqAGsAbABtAG4AbwBwAHEAcgBzAHQAdQB2AHcAeAB5AHoAewB8AH0AfgB/AIAAgQCCAIMAhACFAIYAhwCIAIkAigCLAA==",
          "dtype": "i2"
         },
         "xaxis": "x",
         "y": {
          "bdata": "P+T89OvuH0AQ4hjXDwggQFu1LiBixR9AP5u3785OIEDINapUBIwgQK61tZmWxyBA9XFQ4tFvIUD/6nGMfuAhQIhJq5vlGyNAwn7mYW5GI0BHMOt4JrIjQJQTS4aIgSNA/KQPE2zzI0AvgdLcFPEjQPQtvOcG1CRAaeClf8YJJUAvK9REGB8lQK4lLm42qCVA0CjqDldKJUA+U1Z14uAlQCsmdWAOFCZAkB/L/zY/JUCFxAKJkyklQHBFpnxhCSZAD2TzZC6aJUBa6b94PC8lQMtJsjyl9SVAYMefiBCMJUAxizrVw64lQN/8FmPygyVALh/ws7h9JUCUFdZI14MkQHQQTOglRCVA9tsc3PlDJEA8g1f1/I4kQHCOoaE8SyRAEs6t8knXIkA60fxFDmsiQDWHM8/JzyFAL/cSQec+IUCtvhTe5owfQEe9V3cxVx1AF8cNTA2UHEB7JGZR85wZQN+LXC64KRZAozgNXEEyE0D6Bn158VkPQJBYg7dDSQhAb8ooZ9dWAED6dG9/cor0P7GhwnFfhfM/VOqub1rc+z9oesLqniL7P0zPUDi8RQNA/BqK9OpO/j9dLkWkH/0BQMnctfQuggFAy7z6ROmkAkDap5yaAy4IQDDJxW5P3QlADlLEAVCgC0BTrcOdNCQQQGNf3zBzlRBA7al6IwrQE0CxmF4pKTcTQIeOCc5kthRAJxFnpddJFUCttRw8vGYVQMnxi6Cq7BZA1MBbjAzhFUA65C/fzl4WQOvL5jgQ8xVArDeICaNvFUBVPlpr384UQP6Ki3QNOxRAlljnwPQAFUDYHMnbEHgSQEgXAW3gYxFACicQBCgzEEBA22y9bfEPQMJ0TQ9UiA1A0J/FUaQgD0CZSmSq4ocNQPmG7NRH/g1AF7RQk7xFEEC+vY2nh9AOQJfw/dJHuw9Avtzcn4P8EEBvwgrr4joRQLCUjlV/LRFAAO7mrNimEUDkJ4B8LI4TQJpWVKCzcRJAS10DEEpGFEBza3JhL0QVQNiiR90bzBVAdGi02zvAFECi+NxdnW4VQI8al9djchZAdcgvX6UJF0DJ+L5azagVQM3bN52rTBZA/ro2SATfFkAyDTUfo98WQKFNO2ykMxZAtxwBrkUqFUDXUaOpWF8UQPdGQnSFzxNA/qEGBtCfEUBl/U1pQwQSQLCw7Bk15BFASposZuFPEED7QYbaZBkNQHgo63mfBwtAB+U1D9L8B0BgkObGxdQGQEO5mbv3FgVApkP+Z6ihBkDLF9V7CuACQAGdBInRhgJARNqxXNAVAECPuH0uxfX/PxJpUbPYlfo/faxxi79k+j+qIwS+zLL5P43JdGG+LPg/wwH4npAp9D88ix0q6DX0P5rnRVJb8vA/P9a0Q6ZW6D/XRSco/znxP4h7Ac14u+w/uVJo0udG7j9NF++OzJrpP8oBnQiGdug/mynUrH5J5D9QlIZ6mRzwP7RQCAPUv/A/zpYx779H5T+uvutbhZ7kPw==",
          "dtype": "f8"
         },
         "yaxis": "y"
        },
        {
         "hovertemplate": "Sequenz=68<br>t=%{x}<br>v(t)=%{y}<extra></extra>",
         "legendgroup": "68",
         "line": {
          "color": "#B6E880",
          "dash": "solid"
         },
         "marker": {
          "symbol": "circle"
         },
         "mode": "lines",
         "name": "68",
         "showlegend": true,
         "type": "scattergl",
         "x": {
          "bdata": "AAABAAIAAwAEAAUABgAHAAgACQAKAAsADAANAA4ADwAQABEAEgATABQAFQAWABcAGAAZABoAGwAcAB0AHgAfACAAIQAiACMAJAAlACYAJwAoACkAKgArACwALQAuAC8AMAAxADIAMwA0ADUANgA3ADgAOQA6ADsAPAA9AD4APwBAAEEAQgBDAEQARQBGAEcASABJAEoASwBMAE0ATgBPAFAAUQBSAFMAVABVAFYAVwBYAFkAWgBbAFwAXQBeAF8AYABhAGIAYwBkAGUAZgBnAGgAaQBqAGsAbABtAG4AbwBwAHEAcgBzAHQAdQB2AHcAeAB5AHoAewB8AH0AfgB/AIAAgQCCAIMAhACFAIYAhwCIAIkAigCLAA==",
          "dtype": "i2"
         },
         "xaxis": "x",
         "y": {
          "bdata": "qDBQIxPuHUDUoJP8mAgcQP1xifBnQx1ASAoqY3YiHkCkbbyOjicgQA/pk/Y3sSBA8oRnJdUWIUChA7+bQIggQAUiChnT5CBAVfaBFCCmIEDDPZHcGJQgQDNLbUm7gCBA0BDtKucTIUB/rdUFGXwhQFBQ7ML2+yBA3TzaYcKvIEB77a2mTcggQLInR+8eQyFAqTC/McYTIUDsCpiog+cgQHQBTc63oSBAiPL6+YMQIUCB7DrHxIcgQG/5okuTuCBAezAuDhhYIEAq9pG5RIUfQGBm22IsEiBAwrrBO+znH0CLJEw2YrQfQFt1iDvdQx9AArgA5uA2H0C4wpYMIEEfQMW9L0J0Eh9AYk29B/93H0DQwcSiKKYeQL/s9B5u8x5AfaG80x9RH0Dy8mAp9boeQHyaexGDHh5ARFRn4q/5G0ADWMWNR78aQHiAWJlsuhlAfWmaSxBzGECECmjc/z0XQJhUGHfrqBdA4Nzz8Yv0FkADLQznGG8UQLXnnYJxhRRAKxp6fU1JE0DJh6jfVL8TQD6uWNh+jBJAkxqG3FUxEUD+D08CKVoRQDdadsaPVhNAZCx0XUhAEkCfSuthoDgSQJowl/zvYhNAKKUJIi4rEkC7hNWgz6YTQKJhucVKRxRAkocg8xrUFEAJHoiILPQVQGRBTKsjlBRAjPRZiML6FUA60FULF5sWQHNEsziy2xVA1j+VUDarFkCWuKJbABUWQLXjKMxFjBZAV07Rq0JIFUCQuKhWBl0VQJmweQRg6xRAdDruQGAQFEAriTk6M9YTQHpiKnQzzBJAWC3YliEqE0Clyt3kBnsSQAFsCxzk4BFAisQ9Y/qZEkB0gX478wMRQOf/2onzOBFARAJ9R49lEUA2vgFN70UQQL5T1oohuBBA0jJenfOXEEDQYm8guPcQQLR/yDJRSBBA72xck8aREEDxC7UdvgoRQPG38t+E3BFA0Wn/jIBnEEBD0kjwHXoQQIdwd3ArfBFAwBwk5A6KEECmIY0C5yURQBuA0NW2VBBAwG39ACFwEEDBR24gi3wNQD/l/zjOCxBAngK2c/E8DUB3X5JCMFsMQLSaJk7afghAxP9ZYd+YCEBag6XMWE4JQJPMd4qmXQRA2byxEE76A0AsCmg7umwBQIqzTUGwoPw/hE1NDty1/D+Oa+x2HwD3P4puJ+5PZ/E/TW2pBHYb8z809ORfk5T2P5jx2n3JAvA/LUdyQ6gn7j+feTaImt3uP3uz8x0kZfE/J5mmJBjZ6j/aOV2tjPfjP2onWxxe0+U/QN8hhGA04T9k9eaaLIDuP7ecp/+mxd8/OZQSSSUT4T8+jjX/LMnxP0XNk+8NvOE/Wv2BTk4z5j/5SGmwGVXmPybBRvUF5uQ/jGhubUif7T8XQk4PoPvvP82XuCiNV+4/BlI82W3K5j+LqEEwyunpP9L3QOrzm+w/rP0UKou/6j9z41R1R/PiP+9KUxHdLtI/HgitvHOq4D9qRFAPoQTYPw==",
          "dtype": "f8"
         },
         "yaxis": "y"
        },
        {
         "hovertemplate": "Sequenz=69<br>t=%{x}<br>v(t)=%{y}<extra></extra>",
         "legendgroup": "69",
         "line": {
          "color": "#FF97FF",
          "dash": "solid"
         },
         "marker": {
          "symbol": "circle"
         },
         "mode": "lines",
         "name": "69",
         "showlegend": true,
         "type": "scattergl",
         "x": {
          "bdata": "AAABAAIAAwAEAAUABgAHAAgACQAKAAsADAANAA4ADwAQABEAEgATABQAFQAWABcAGAAZABoAGwAcAB0AHgAfACAAIQAiACMAJAAlACYAJwAoACkAKgArACwALQAuAC8AMAAxADIAMwA0ADUANgA3ADgAOQA6ADsAPAA9AD4APwBAAEEAQgBDAEQARQBGAEcASABJAEoASwBMAE0ATgBPAFAAUQBSAFMAVABVAFYAVwBYAFkAWgBbAFwAXQBeAF8AYABhAGIAYwBkAGUAZgBnAGgAaQBqAGsAbABtAG4AbwBwAHEAcgBzAHQAdQB2AHcAeAB5AHoAewB8AH0AfgB/AIAAgQCCAIMAhACFAIYAhwCIAIkAigCLAA==",
          "dtype": "i2"
         },
         "xaxis": "x",
         "y": {
          "bdata": "xbGRPOoxFECJS9OmB0oSQGwevclOmRNAevIiRGDvEkBaSfyEZcETQBtEfUQkOhRA02XoOyzEE0BYOzLrQrcTQIQvs/+85xNAVfKoY4RKFEDp1DFcGOcTQO7oXWN69hRACQFKNat4FUAIgGI5VgUVQJcwZhnn9BVAKAKNZN7NFUC2OFc0BysVQCCrGnokThZAPBs/rBnxFEBTLewsOHIWQORbUDJouxVA53CjsP3VFkCPApUcEd0WQM3rnoNEkBVASMbb+9a2FUCnHbRa53MVQHSBnwIbTxVA8RgrfjVMF0A0BduBJkIWQHcU895f9hVA+MjCd8wsFkBWNe7AGiYXQGsfzzXL2xVAu9zBudt1FkBbTTYrUmkWQB0RyWRQPxdAZjnNgx0NFkAOlKTHduEXQJorAQQewxdAZwNGXooNFkAMOsSX7yEWQC9S2EKogRdAthtnUmY4FkBovx6WDL0WQBb6vdK/kBZAI2SMezpsFkDSKfPEx6IWQNn/Uki6SRVA4wSYRUbcFEDTLoK86TcUQPEkZfSUbBVAMjUBt/fRFUDp3D90CgUWQBMINkEENBVA4TLJgZGrFEBawdR0cm8UQBLW7BHIyBVAE10WHHfvFECnibBOky8WQDH8mEm0zRVALwjJpg7ZFkCX5IFqfUMYQPJ6uPdT0RhAz/G4PPsYGUAzvjbVFSEZQCZ3nUYs7xlAJe+wCrz2GEC7jQHEGioaQHqStLaNZRhAQpcGj/EcGEBY6yfBr/wXQBZUp3Yg/xhAyGjxrwZbF0C8d0ZOAvMWQDyIeWluHBZACixd4ek+FkCRlTgn45cVQPbNL+MD3RVAITNASh2qFUCpBoNI9AMVQG7h0jG6fxRAfuMJ4K8CFUDEeQy/vxgVQFNrkvzY4xZAPoB9RtDyFUCqLsaknrwXQDI71vRJSRhAKTFI+d5aGEBKdLszK7AYQGFMTfliWhhAYCt6Xn+NGEAOKSAqIS8ZQNlbhu4mkRtAqG0yffGdGkC1d9Mydz8bQNk4YUk6GRxAVrp/uGnPHEAEz84ZULAeQNbAShZgoR1AfzV6DU1oH0AwK45MkToeQIALnU5zrh9AKkjrNC0nIECP9eXnC9kfQAlS4k+TNCBAEybdxhyOH0AgSx3PS/MeQDhcT0PiMh9A7+0QcBgSIEC8Du6Y8bYeQL9jwFLo4h5AABQq9GFcHkAl3P9EwzkfQDikrdgVZB5A6OAWeZUmH0DVfwwZJpQeQBSnGwipHh9AqpF4URZVHkBkQ+OEXSweQBIucMcunhxAPZ9Dn3o9HUAzujivqGscQA1Hawj8MhxA8i3xPjcEG0AsceEcGl0bQKlewH7NthlAihxpeKTTGEAdAQgQPG4YQGxJUBgXLRdAcDC0ARGgF0Ah7VVqEcAWQAhIhD3QPBVAoSNRD9lEFEAKEPYMjcQSQNsSpLNnWhJAad1NjOApEECc7QgxebkOQF3/SxRoRQxAxlqEns2iCkBRiLlQA90GQA==",
          "dtype": "f8"
         },
         "yaxis": "y"
        },
        {
         "hovertemplate": "Sequenz=70<br>t=%{x}<br>v(t)=%{y}<extra></extra>",
         "legendgroup": "70",
         "line": {
          "color": "#FECB52",
          "dash": "solid"
         },
         "marker": {
          "symbol": "circle"
         },
         "mode": "lines",
         "name": "70",
         "showlegend": true,
         "type": "scattergl",
         "x": {
          "bdata": "AAABAAIAAwAEAAUABgAHAAgACQAKAAsADAANAA4ADwAQABEAEgATABQAFQAWABcAGAAZABoAGwAcAB0AHgAfACAAIQAiACMAJAAlACYAJwAoACkAKgArACwALQAuAC8AMAAxADIAMwA0ADUANgA3ADgAOQA6ADsAPAA9AD4APwBAAEEAQgBDAEQARQBGAEcASABJAEoASwBMAE0ATgBPAFAAUQBSAFMAVABVAFYAVwBYAFkAWgBbAFwAXQBeAF8AYABhAGIAYwBkAGUAZgBnAGgAaQBqAGsAbABtAG4AbwBwAHEAcgBzAHQAdQB2AHcAeAB5AHoAewB8AH0AfgB/AIAAgQCCAIMAhACFAIYAhwCIAIkAigCLAA==",
          "dtype": "i2"
         },
         "xaxis": "x",
         "y": {
          "bdata": "Y+gtZh0CJkC22/M5bpMkQK6lQeP7diRAhneELH9CJEDkpwetEgckQDNSzY6gqSRASqrLZ2R1JEAAzjuqgpIkQDo8r4+sTiRAoRDVibZtJEAem8wy+gIkQLyIHQmvJCRAHkb2A5MnJEDvAa/liRskQGVxwMFZ8SNAMEe/Q1jmI0APVDuDMlckQBMXyk209iNAiYzFPHzBI0DefeOcCMEjQD2Kw8/vHiRAKhHFGfoXI0DY+rraht4iQI9MU7WMgCJAO0Ca1viqIkBhCM9t5JIiQGf79rEwfyJAnMJOxvajIUDekC/fVeUhQGT0Qv/kkSFADXk+8HQXIUAwSBWoHM4gQKPrCc5uFSBA1v0FoYh4H0Dcg8XZFoMeQOpwGZuvwh1AiquAmj91G0BN4YCsEPMaQPby4/9E0xlA7x5hM0ecGUAWbvWskL8YQD+Kzb5VPxhAWypgDMgaF0Bavo+0mccVQIreXqMZRRRA+As0e7zJFEBl7UwoPP0TQIGaXHoXtRNAerLNqmxrE0BC1I14ft8TQLIOBNjVPxVAGmge2fTqE0Cf8iNZCAsVQJRZoU7dTRVAIyRKqz7EFkAUCSii0o0WQOVyi69grhZAHnaGakZ9F0AXjnphKtkYQMY889R1LBlAwk5z8RoyGUDVyjNDWisaQJnqpm7k7RxAAfH7bD+WHEDhXAx3t5ocQOkfib8NYx5APjVxcMilHkCKFww9Xj4eQG6MFheD8h5AGDKIVYCWHUC4w4iKDi0eQFJRDuZ4ahxAo0MJk/pVG0DWUPiI9d8bQNNliETynBlAgBPjRVKJGED7jgfRiv8WQEdpLMpnOxVAp7imguAuFUAL0q8gGDQUQAkdE6+KDBJAbY8Z9EfWEUDx3QcovZkRQBRTjbUFhhFAJFKf2T1qEUDR67kZgVsQQIU7ekP+ghFAmsVsqC/6EUCRBAkXX+oRQIcUFvesaRJAzbkG43cpEkDMZE5Cj+YSQDAt1dXqOhRAsQITXtiJFUDDCQzXQegUQIeNsBplbRZAJz/EaakzFkB6iU2ZwyEWQBbDtwlQtxZAm5I40oNoF0BNuDq2d70YQJIowVqGthhAX2/w3nEnGEBdzzk+HZcYQMJuqysd3BdAHRsyQ+ozGEA6bC0WcBgYQC8w3/aw1hdA2sqWuIOIF0BwXcZJrOIYQBFUhsC+9hdABgCr2NbbF0BP+99ljVkXQE6Igdj4XRZA2tr8/TX+FUCsQAZ4FBIVQM/SWZlijRRA6zmmYrcBFUAL6O3P7ZkUQLZlXxqZDxRAuNjyh5oUEkDD/adiXJQSQNzGNpQxEhJAIyOhQPfJEEBYP0UKw5cQQJq4DdRWbhBA46rx0gWuD0CrmBwoKBYMQB+rr8EwnwxAPIV0V/EICkDgkWiBia0FQIRmLhKZ5wNAjpatNWZxAEAJVQrCkGwBQDd1M4g2Ev0/YbcXmP6F+z9fxtjqxA/1PzVEDuouB/Q/9/8C0d228D/Ai/1IbbrnPw==",
          "dtype": "f8"
         },
         "yaxis": "y"
        },
        {
         "hovertemplate": "Sequenz=71<br>t=%{x}<br>v(t)=%{y}<extra></extra>",
         "legendgroup": "71",
         "line": {
          "color": "#636efa",
          "dash": "solid"
         },
         "marker": {
          "symbol": "circle"
         },
         "mode": "lines",
         "name": "71",
         "showlegend": true,
         "type": "scattergl",
         "x": {
          "bdata": "AAABAAIAAwAEAAUABgAHAAgACQAKAAsADAANAA4ADwAQABEAEgATABQAFQAWABcAGAAZABoAGwAcAB0AHgAfACAAIQAiACMAJAAlACYAJwAoACkAKgArACwALQAuAC8AMAAxADIAMwA0ADUANgA3ADgAOQA6ADsAPAA9AD4APwBAAEEAQgBDAEQARQBGAEcASABJAEoASwBMAE0ATgBPAFAAUQBSAFMAVABVAFYAVwBYAFkAWgBbAFwAXQBeAF8AYABhAGIAYwBkAGUAZgBnAGgAaQBqAGsAbABtAG4AbwBwAHEAcgBzAHQAdQB2AHcAeAB5AHoAewB8AH0AfgB/AIAAgQCCAIMAhACFAIYAhwCIAIkAigCLAA==",
          "dtype": "i2"
         },
         "xaxis": "x",
         "y": {
          "bdata": "Y/D+/1JOGUA0g/ZAaUYbQHrzjAjVYBxA3s7vX2vMHECBUR3awSYeQBrQXeCoGx9ALbrJQGcSH0Bqk6PVJM0gQEvydOFyESFAUNq33eP5IECfaYoh6akhQNX7Bu3s9SFAR0BGa4NEIkCd4RgPycAhQFG7Ax9u0yJAUPcqjt6gIkBJ9nJ3nEAiQMoC/CfkuyJAep0uwZ47IkArUnJRYzEiQJb82kLpGSJA8DvNzziRIkDdhaW5zXEiQLT8otwdQyJAhimEIsRHIkAvRDjFuCgiQLqL5H4laCJA6g/iiOE/IkDBrcTyO5EhQMp2MM81xiFA49tNpG3WIUDbJjRLBeEhQDH5rzoSuCBABGVNa9r+H0AuoOMoHwYfQMBtmHEE3RxANkLce+lCG0CaYF16IVwYQLBc49BGSxVAjZ/3OiXaE0DY5NwyjqoRQPkoG0YcCRBA/dkwrkzyC0AH3y4Ni3gFQIfKXvjHqwJAP/XfE96OAUABFO+g5Jb/Pz4AzISbRPk/DIQihhY4/j/Li5ETMsvfP+pkVNfkyOQ/vKPriJpb8D8y6E3GKDP5PygIEsF9Mfw/lynBn65U/j+Pdsxiy6v9PwGTm4YRgwNAhsOPpmzMA0Bq27Wo0kAIQDy5ayifSQtAOv3syys3CkAv9nkiW/UKQHQA9F0pTg1ALik264RUD0BAV1vTXRMRQHwkCS/NdxJAG7eocEXyEUCYfK8RLgETQC74oJkATRJANKMfoQ2fE0AvCdJhkHkTQH9E+fg8DRNAJy7zkvBQEUBnzmC7wq4QQCMN6Vb22w1AcH2oJRLtC0BHRgcQ7GQLQAmE7oymVAhAQ+VNcsdYB0BRv5YdET0FQKBKWougXwZA04nR2BfrBUDWgARcwOwHQLQwOys+EwdAjG2bf9o6CEAoEs+QsFUJQNq2SJPTyQhAvOlORcB/CkDlAjDtLnEPQPUQ4Nh1UQ5A1rE0+14GEUC7j4FZBasRQBvNKxXP3xJALUgM/vTpEkBGPdHe8r4UQMmPVpyQMxRARZf6mwz7FECiK8bwRS4WQPAKuy5iQhdAz1TMJ0iWF0DwrMLAF5AXQDafiHYS4xhAJFbFdoxcGECqRs31TcUYQCxjHeWwnhhAKX2eOfZDGECOXybxF6wYQEg7308Y5BdA2cgW0RcLF0BNnqA5FoYXQA3m8uC6gxVAc7Z4UJ2IFUC/0zLku64VQNmh43h9NRRAOemfqUNhE0A+vhl5GxYSQJLFM44dnQ9AaXTs6iU4EEAaz8NfXn0MQLEKOKUAIwtAZIr8+5OlBkDeZ12wepEGQExLdeDM9gRASC3gJR9UAkCEVvKzmEEAQE0x0oYfPQFAKeZ9AEum/T8/hmG2/o/+P9LqKSQA7vo/YQ4F2NSC+z9LjQUaYJ/4P5rKRgBOEPY/q6v1OHVz9T8iNVqTuizwP80uvCGfF+0/4Pueztkj3D9Xoygra4HqP9AgeTVV/uw/DC5Or0n51z+y2fUhZ+PqPw==",
          "dtype": "f8"
         },
         "yaxis": "y"
        },
        {
         "hovertemplate": "Sequenz=72<br>t=%{x}<br>v(t)=%{y}<extra></extra>",
         "legendgroup": "72",
         "line": {
          "color": "#EF553B",
          "dash": "solid"
         },
         "marker": {
          "symbol": "circle"
         },
         "mode": "lines",
         "name": "72",
         "showlegend": true,
         "type": "scattergl",
         "x": {
          "bdata": "AAABAAIAAwAEAAUABgAHAAgACQAKAAsADAANAA4ADwAQABEAEgATABQAFQAWABcAGAAZABoAGwAcAB0AHgAfACAAIQAiACMAJAAlACYAJwAoACkAKgArACwALQAuAC8AMAAxADIAMwA0ADUANgA3ADgAOQA6ADsAPAA9AD4APwBAAEEAQgBDAEQARQBGAEcASABJAEoASwBMAE0ATgBPAFAAUQBSAFMAVABVAFYAVwBYAFkAWgBbAFwAXQBeAF8AYABhAGIAYwBkAGUAZgBnAGgAaQBqAGsAbABtAG4AbwBwAHEAcgBzAHQAdQB2AHcAeAB5AHoAewB8AH0AfgB/AIAAgQCCAIMAhACFAIYAhwCIAIkAigCLAA==",
          "dtype": "i2"
         },
         "xaxis": "x",
         "y": {
          "bdata": "l2ObCfaBEkCaegBp4isVQJygUXWRlRRAfatmZQv0E0CViAthAP4TQGZGU8w9DBVA4cZSYYM2FkCGe2jCXS0VQF75CSNaPxdAPQVyUc0/FkCYUwCduzoXQHupbQwBcBhAsjlDvCw+GUBbiDLK7okZQJf5QMzVihlAd4fyvBpyGUA8yegt+hwaQC50BHbtFxtA1T8quSOpHEDMMPn+tRAcQIfLU8g+5BxA+H6k6b4JHUAWmwVhTfEdQJU7hftR1BxAutvPYge8HUD5WguPHkMeQB63kpVpvx9Ahu6qoOADIEAgF0Qqlm8eQOALLkRvIiBAujYvZfP/HkDyVejbVIcfQDGIvqaFzh9AGWz4q0UBHkB1LG0sDOAeQC/QaXYP3B5A/3fW7RKSHUDFG8IKO3keQFlcDnXSsR1AiNdfwa5YHEBI4z/RRmYcQJjtSNkBRBtA1XcvFotpG0D/+3ldZYQbQLYYOo1OoRpAC+kzUHUhGEDB3MFNKlkYQOEtWWPqMRhAOCTG13EJF0Bnb0LUmzQWQNs6gl+LmhVADI2PSRSfFUBx3ykLpsgUQKwikv4pxRNAqrUPEy7VFECq3KbY/S0UQGfU65gxhBZAYhdYp77fFkB64odK7OkXQNmaaocVgBhALJZNzsIOGUD+dmDgw2wbQLnyrAVAXBpAEHAYOCufGkDBX0swBzMcQBoKrnM5AR5AyVkkaZFpHkB8cXVYv5sdQKM17KMXjh1ALifbM2XaHEDVD23zUOgdQJW4E+0qJB1AvvoEyeV6HUBG42UYtEgdQEwjd/hdtxxAGpkiHgURG0BCl/Azs1IbQKA7l9K9CBtAaZeAOu3dGUCBaEskbsIZQC04Kzzo8xlAvH/YvM6AGUAXFZXQGvQYQILmTPowcxlAJWH35SSEGUC5CvMnvSwaQLg9ArfzUhlA5qck9r1lGUAmfrT2NmcbQFGOumg21RpA2CqguFVoHED/OCUXpiwdQFh5yyGvCh1AE1IeQ9mZHUBt6JpI5eodQFpZYSPOeR9AglgJ9Nw5IEC0K/0PJVkgQL6N5Le5HSFAHohK6ttAIUDtjjT1YRMhQEe5EdSCiiFAI30u4G0DIkAbKuQgYu8hQAr7iZU4lyJABUzl5BH6IUBSsHcUEcQiQGJEDsj7qiJAiKhu04DOIkBAcaRfC0ciQMuJqyCDMyJAc67amaXqIkDxCyS+7xAiQJR0m8/ROSJAVsQRL9+OIkCrIyI4GJshQLzq0Hnn5CFAMn2H9bMtIUApjCI5v60gQEVhFJnhfiBABL8HipypIEDY+yIyRIMgQFi+gjHi1h9AiBcZvbQWHkBiLfS37WMeQOCdRPRWjx1Ac/yQcdBkHEBZMh1jj/0bQNEHIfDfBhpAbR2hSIQLGUC2PGJ1nwwXQImt+2afEhZAAId6edsUFEAap9O/8SgSQHYlgwkYuRBAWESPXrtTEEAh+SGJOksNQDRx/TTvlQpAvMmPuTLcBUBkcSErWzYFQA==",
          "dtype": "f8"
         },
         "yaxis": "y"
        },
        {
         "hovertemplate": "Sequenz=73<br>t=%{x}<br>v(t)=%{y}<extra></extra>",
         "legendgroup": "73",
         "line": {
          "color": "#00cc96",
          "dash": "solid"
         },
         "marker": {
          "symbol": "circle"
         },
         "mode": "lines",
         "name": "73",
         "showlegend": true,
         "type": "scattergl",
         "x": {
          "bdata": "AAABAAIAAwAEAAUABgAHAAgACQAKAAsADAANAA4ADwAQABEAEgATABQAFQAWABcAGAAZABoAGwAcAB0AHgAfACAAIQAiACMAJAAlACYAJwAoACkAKgArACwALQAuAC8AMAAxADIAMwA0ADUANgA3ADgAOQA6ADsAPAA9AD4APwBAAEEAQgBDAEQARQBGAEcASABJAEoASwBMAE0ATgBPAFAAUQBSAFMAVABVAFYAVwBYAFkAWgBbAFwAXQBeAF8AYABhAGIAYwBkAGUAZgBnAGgAaQBqAGsAbABtAG4AbwBwAHEAcgBzAHQAdQB2AHcAeAB5AHoAewB8AH0AfgB/AIAAgQCCAIMAhACFAIYAhwCIAIkAigCLAA==",
          "dtype": "i2"
         },
         "xaxis": "x",
         "y": {
          "bdata": "j6HitcG6EEAk4z/+3wAUQNc3JHbkMRRAhkyka5xuFkBTgHDNvPMWQJGKIqUemxhAvBp412jXGED5tSva80EZQLU6+CP/vBpAIrAatCC4G0CfL6Mmr0QcQECihOdqIxtAVRUANbBFG0A20yE/vPYaQLqQd2Bi1xpA9I+zFiBAGUA4wS7CEeAZQCGtTyhy2xhAcZ3I89s3GECIF+f8jG8WQKt4wq/KhBdA/sXsayspFkARdnnnSKoVQI/MLPR19hVA+/x12632FEChv5yh64AUQFc341duLBRAtHL7wTuYEkC5IjATSa8SQN2hiXZGYRFAPJo+gtGyEUCllh8AhA4RQFPwEom/2BBAef3uj936D0AMPqsXKLgLQN0XdGiBgAtA0DXtZ6MmEEBAjlilMwQPQD5YY+pPnRBAkJp0eVLaEUAd7KMSSyEUQIzxZ0wQ4xRAiPxhyYjrFUAV/X+XO2oXQIYQpYYfmxdAC8edquC7GEDg3qVM6vkZQGw2onemfBpA8aeQYLMNGUAJ986BKVMXQEGPsPII3BZARDdbq3jGE0CvUqU1VagMQJgcQwPzWwhALaPJz/mOAEDmdARTSckBQH4Ao9/mjQFAb9ApMib1BUDojN/M1S8FQA2L1nNKhgRA0JL3xu5ZBUDggbIHMe4GQEBr16f4YwlAegdfChGrDkCowl3+rz0NQIkJ6TlCnhBA1bMNwT2xD0CbBa9WF6IQQP926mKF6xFAvRIOSPK4EUA/VDWOZsYQQHaKp6EAfA9ALO/49ZcaD0DhJ06tKD4QQIQVXMKBdAxA6po1l0f1CkDp7bpAOHgKQC2Fj/IkCQdA+BRKkRDfBkBrYcg0omAHQPVrEcO4eQVALvm8ZMfXBkCUbxQVz40IQPDXmSl4iQpASVK80ijBCUBelj8I5SAMQLHaqTyYXA5AfVUL3TaWEEBqm3iJx/cQQL5wqn09thJAxxqP55EVE0CQisTbgkAUQErKUw8HHBZAEmxqDjdcFUABaJsNM+cWQIRudjHO5RhA3qeaTRp/GEDkzs1rOskbQEj1EKs/pBtAKspHSPWOG0CftppRkrEdQM8VnnuQzx1AUMTfqbUbHUCejiNb5G0dQEhO4qnchR5ANMWV5yYEIEBmepPFZbYeQNKAwF0g8x5AR0tzdfrTH0A9LImwDyEfQMkPuyLgOyBA//tr3laZHkAxSxPg5bseQBq4whr4Dh9AqxBownNMHUBS0rhsPzcdQPqPF9aslh1AfZ4eVzihHEDKhYtze0UbQDtE2A+XuhpA6NHnruFpGUBn+ZxURWgZQCrQS1sB9hdArRemYpj6GEDWYWrvoDQXQJ1HQ3CJqhdAlGdtUr22FUDeIdp0bzUUQIq3Q2IJnRRA3hyOg/p8EkCt5erJwjoRQPRxilrZ8xBA2mlFTzx0DUAC7n7088cIQKib1nLA7wdAN5O+2gr0AkAIGfoXf1kEQPmPSQq6CgNAJezI4WQ3/j/lFQRJvqYKQA==",
          "dtype": "f8"
         },
         "yaxis": "y"
        },
        {
         "hovertemplate": "Sequenz=74<br>t=%{x}<br>v(t)=%{y}<extra></extra>",
         "legendgroup": "74",
         "line": {
          "color": "#ab63fa",
          "dash": "solid"
         },
         "marker": {
          "symbol": "circle"
         },
         "mode": "lines",
         "name": "74",
         "showlegend": true,
         "type": "scattergl",
         "x": {
          "bdata": "AAABAAIAAwAEAAUABgAHAAgACQAKAAsADAANAA4ADwAQABEAEgATABQAFQAWABcAGAAZABoAGwAcAB0AHgAfACAAIQAiACMAJAAlACYAJwAoACkAKgArACwALQAuAC8AMAAxADIAMwA0ADUANgA3ADgAOQA6ADsAPAA9AD4APwBAAEEAQgBDAEQARQBGAEcASABJAEoASwBMAE0ATgBPAFAAUQBSAFMAVABVAFYAVwBYAFkAWgBbAFwAXQBeAF8AYABhAGIAYwBkAGUAZgBnAGgAaQBqAGsAbABtAG4AbwBwAHEAcgBzAHQAdQB2AHcAeAB5AHoAewB8AH0AfgB/AIAAgQCCAIMAhACFAIYAhwCIAIkAigCLAA==",
          "dtype": "i2"
         },
         "xaxis": "x",
         "y": {
          "bdata": "37RulXq8A0Ba3pXLoogOQHyQqRxmnw5ArV1ugioOEUDPwYLNRqwRQK9haProYRFAiG7jb7tREUBsbf/12loRQD29uAD9fxJAtlJkaZUBFEBASJ8Dc2YUQJzYb0qkrxRAsh+NKMs1FkB4ZHcLCZ8WQPC7k08OWxdAlLo4WwvVF0C96odWFXYXQJU3yTTDTxdAAPYZ5Ec9GEAsNYswMj4YQE6gQzv9whdAhGHklvekGEAJa47c0SQYQMLcIPVWNRlASMbhHLRlGUDc+KwHlDoZQFy3Vl/5BBlAFDtkcDgqGkDcaNvVUw8aQA95yOpQlBhAJJi6ZlbQGUBVpFQ+GqcZQINUeNifHxhA+uVaBGU0GUBp72OZHvYYQDTLZW6ryxdAdxLhQvq4FkB7cWxwTbkVQEKIw+3oJRVAxKt824gPFUBCLhlVP8AUQGXE1PUqXxRAaNaML/WtE0BWYZMsCNoTQPyYn9obChNAfLQ94yfoEUDF1M1OqQkSQJTwmlumHRBATrv0FfSdEEDeQmkFZ+sQQKM0I/v43g5ADQ/Vce6bDkBa0mADKaEPQJWXHJN/OxFAX2wyX7TdEEBdnJm/cooRQCKTNwDcyhBAjy1633qrEkA10bHfryATQOrPwwQttxNAYulgswH3FEB11WQndVMWQO1CAOEBHxZAwp0mtrJGF0CMy5aSRJkXQD4ZDfMOyxhAjsFGtzriF0C9zX3dz2kYQEthgiKHLRhAmAAe2s41GEAD+7RNMGAYQPY5OkQK3hdAdFlF0acaF0DUUVXuOVYWQKjTiZkoHxVAcI2sRdhRFEBtNOjcdKYVQOA7wlafoxNABcD4d6QIFUBRo5Ui/q4UQHJU35LH/BRALqKt8K0sFEDOMNDRexEUQD332r2VsRRAoh63wGqCFEBupr/QXvIUQCyMMWmoGRVAGvKae+KSFkCgcM0/yOcVQOfPLbhEPRhAP3eKBCG3F0Dzl1VLBqAYQDWDZpgm9BhAMO6LFiDiGkDMEe9YPBgbQGpbvsQR/xtAz6zw14xsHEAVxx+tMeAdQGLIo7aLlx1A2LSs6/u+HkBIViYta7cfQA5tyrA9bSBAY9xmz7bzH0DKNviOn98fQJqJ+JI3sCBA5iyDs3u6IEBGuVubQnsgQEbgqSHOyx9Aqh2JHgO9H0C+1qJo3UcgQLdFbrjVdx5Ad3fOg+eKH0Cn9hFWqmoeQAn+ixYQ3RxAgbuDNLtQHEA7Yr4sdoUcQM3gzTSYAhxAD+VgChR0GUBntKbdxz0aQPDkqls5sRdA40GjDReTFkDii18o8dcVQJv/zq/OUxRAe615nQETFEA+bH5SklISQMJ6ruSVhRFAgj9X9r+1EEAqxa+J3KkOQDW1OY/FMApAr3T8mrssB0C8kEZxNZ8HQI51ugiR0wRA+64+p/xtAEAvCMlw3Pz6P3wI9vsYwPo/4Ddj4Szt9z+mhWd5TkXzP0EZcDTlZew/8rzeNDvG6j/SogQyW0z1Pw==",
          "dtype": "f8"
         },
         "yaxis": "y"
        },
        {
         "hovertemplate": "Sequenz=75<br>t=%{x}<br>v(t)=%{y}<extra></extra>",
         "legendgroup": "75",
         "line": {
          "color": "#FFA15A",
          "dash": "solid"
         },
         "marker": {
          "symbol": "circle"
         },
         "mode": "lines",
         "name": "75",
         "showlegend": true,
         "type": "scattergl",
         "x": {
          "bdata": "AAABAAIAAwAEAAUABgAHAAgACQAKAAsADAANAA4ADwAQABEAEgATABQAFQAWABcAGAAZABoAGwAcAB0AHgAfACAAIQAiACMAJAAlACYAJwAoACkAKgArACwALQAuAC8AMAAxADIAMwA0ADUANgA3ADgAOQA6ADsAPAA9AD4APwBAAEEAQgBDAEQARQBGAEcASABJAEoASwBMAE0ATgBPAFAAUQBSAFMAVABVAFYAVwBYAFkAWgBbAFwAXQBeAF8AYABhAGIAYwBkAGUAZgBnAGgAaQBqAGsAbABtAG4AbwBwAHEAcgBzAHQAdQB2AHcAeAB5AHoAewB8AH0AfgB/AIAAgQCCAIMAhACFAIYAhwCIAIkAigCLAA==",
          "dtype": "i2"
         },
         "xaxis": "x",
         "y": {
          "bdata": "j0tnzUV59j/vFO7hwJ8AQAzkm51EJAVAKt2FI/9/CUCAvuEyzogLQDZZ8BABVw5APgZZWrxlEUBQ2M0odq8TQLd1VygTJhZAZZ7rv2rMF0AdkNxjE8IYQDZZBbq1qBpAJe5lP1YYG0BVorZmtPEcQOprWzGcnx1AMcVbscJ9HkAaIz8kIJggQIVF2WsxfyBAW5LmEvJzIUDSrpLR9AohQLltSySTciFAMXyV4CxlIUBDZf0I70MiQJeSjgzeGyJAGTXj5aM9IkBcHTo/2AUjQBG1I/e4vCJAfk2W7dmBI0D3xPiXFbUjQLhO1KOYAiNAWj0kQgeXI0CaHvt8hQkjQIAOn4FZHyNAT5JVtgTqIkC90fl8pmUiQHbOJplBkyJAaoxaAsxqIkByLbxA6XEiQKN04bvOCiFAwX4sdPgzIUC1zxhcrgQhQC5Wnd/vPCBAVuZcrdidHkDHfx1thAMeQFMCyFbT3BxAAg6hn7R/G0AQIw05z1IaQNi9HrdjAxpAcEY/TsypGUBOxtAqEUYYQFMd3JB4oRZAbRl/GVmuF0CkXzNyjkUXQMKNkloW3xdA48OR6DBBFkABIHPlOAgXQDDIJVSehhdAqcAfFbGUF0DwZjORSSYZQBuIr03IAhlADpMKcXV0G0CeiBOZQAkdQMJ0POfNkhxAcsh7P1CeHUD4GCMfDs8fQIY+Mmr1zyBAYPPqZqnbIEADjYoMAz4hQI71inhY7SBAlWPGQLVOIUDjG6cVknkhQAhD3byR1yBAjtgcLJCUIUAPhiU375AgQNzBgmSADiFAq1cbvgE2IEDkY0VUTTQgQI0r/Au8EyBAsdxfcpxjHkDL69sarpoeQLhPvlt25x5ALEwaXMjpHkABVtAO3CAeQIUHGuVuwxxA3Xy8tlRnHUBxS5q3SeQdQIgDzugEwxxA8OO45Fh7HUBi5tKLcxsfQKD9UDTv0B5AeVAI9ZTsH0Acx85rT1MgQOtCRlQVFiBArQ661U+aIEDhNV6HgF4gQHb3NjkGMSFAxwonozaTIUB3pR37yzIhQNUrmXZNWCFA4F7bFhhNIkB9qNx9pociQCd4og/+aiJA6Ipl0IBPIkCb+ym0JaoiQFgNZGdIQCNAuiwZUmttI0CB7IVRG9kiQDqZkQBrlSNAEFxX+5UwI0DqqdFlX80iQAbjAWhY4CJA6F37PWS3IkC+APqTtxsjQIkfkNdRgiJA8nYcbj2BIkCV9POrhqEhQGagg4VaNSJAAljyyf/QIUDrCBUxGuggQD6Bm23rMyBAWrB5wciKIEBfrTplNc8fQGg6PpQ5oh9ADj7TWNDmHkBMTRrCD+obQPVwcDdElxtAMaVDqQ27G0BaqozcGt0aQLpPAVbegRlA5lwfoW+PF0D0L42UnSEWQAkAnDpn/BVAz/tsvqXaE0AQ93ktTFwSQPSnLWSTsBBAnhUk23SMEEDF0whaa94KQKqZA+Z/xQhAXkKLzdfNBkBx83Cj2FYAQA==",
          "dtype": "f8"
         },
         "yaxis": "y"
        },
        {
         "hovertemplate": "Sequenz=76<br>t=%{x}<br>v(t)=%{y}<extra></extra>",
         "legendgroup": "76",
         "line": {
          "color": "#19d3f3",
          "dash": "solid"
         },
         "marker": {
          "symbol": "circle"
         },
         "mode": "lines",
         "name": "76",
         "showlegend": true,
         "type": "scattergl",
         "x": {
          "bdata": "AAABAAIAAwAEAAUABgAHAAgACQAKAAsADAANAA4ADwAQABEAEgATABQAFQAWABcAGAAZABoAGwAcAB0AHgAfACAAIQAiACMAJAAlACYAJwAoACkAKgArACwALQAuAC8AMAAxADIAMwA0ADUANgA3ADgAOQA6ADsAPAA9AD4APwBAAEEAQgBDAEQARQBGAEcASABJAEoASwBMAE0ATgBPAFAAUQBSAFMAVABVAFYAVwBYAFkAWgBbAFwAXQBeAF8AYABhAGIAYwBkAGUAZgBnAGgAaQBqAGsAbABtAG4AbwBwAHEAcgBzAHQAdQB2AHcAeAB5AHoAewB8AH0AfgB/AIAAgQCCAIMAhACFAIYAhwCIAIkAigCLAA==",
          "dtype": "i2"
         },
         "xaxis": "x",
         "y": {
          "bdata": "a/ZHtmu9H0A8ZFmB8YsgQKLr3ZEUqCBAZmY7tRYgIUBdVuJ1YxUiQCq9z0U6IyJAeoqufraYIUAm7bgUNCUhQJeMSZyPhyFAQlB92F1DIEDpZm4ssYsgQN7A88gbXCBApimFJW/yHkCiZ2KuBnMfQP27HOdllx5AI+rjzBu9HUAz7955gCEdQFCDX9s8SRxA1krjjP2TG0CljYeFOKAaQDOpFDiyehlAG2nJQUScGUCNsSWJy9IYQM8m78mSxhdAhJQeH0EoGEAvrEy1IO4VQKmm3kpEfRZAiFYQBLT/FECGwIl/P2oUQMuUWLfekxNA5Eorly1UE0C4pLg6sAsTQGawhq8iPxNAktEiMlrbEUC6u/Vv84cRQB3JG3YIBhJAE5EkiUogEkBi5UEgwwYRQNHtdf/mMBFAGvY+YSidEkBtBGCEC1QQQMntaNKePxBASW3ppxZqEECpaBpjWkUPQDVbgzBJkwtAYRX+r9WGD0BHyeH/HuYLQJ1N2ZzK0AtAupNKtgHIC0C22yQW0aIKQHDeaJ7veg5A652IXyFzDkCPmWMktWoMQDrCUi2VbQ5AEjzwvt0dD0AgyPNyzfoPQKu0wbWwHg9APFvcJUKwEEC2bZ/IDfgQQId+DJJw8BFAvgBYg/G/EEBffMYQKXUSQObAPa/zSBNATG3VfsBQEkDVY4PQh14SQLOd6uvG/RNA4yW12Sm+EkBvSXUSXq4SQBi9EAnGKRRAX2HJwF/jEkBNNOzqa8QSQIzx2eWuQRJAWwGC7WfCEECWWlcjqJIQQKGsXkeRqBBAq/yG54b9D0CvCg9sZYMRQO+hgovmgxBAvalecL99EEAeyO7ClxwRQLiO7fw1HBBAsybez0o8EUBGZRLJNDYRQB96zbcggRBAmuQqEPBrEEAfXaRcs+sQQJEuLTTZdRFAIdSwnyrCEEDxEPuWL74RQEMPuTxXvxFAe0UOFHIAEUD8LadmDfAQQOCd+5tonBFA69jFN2cXEUDlJl2aI2IRQIepUEW9DBJAJLJfXrSDEUB/W6AMH20QQHO3Xlp/nBBAjYNIZFABEUDHptTGYekQQELwCBb2DhBAN4BMHNk9EECbDDbXvqoQQFex0F8kow9A4Vw2+cSzEEDRxX5goAcQQAoG0l7QlhBAMaErKSL/DkCl5hvq4rQOQKHed0M+mw9Ai0AwHHKwD0Cd7KJ7xHcPQIa0Vpm9BBBAx+cB0nx8DkDIWXWcXPYNQI3MrAZrMQ5AtkIJmk0PD0BpF5YyJaENQNFY9rtwtBBAW3zTe3wID0CHpD2KP4IQQJE606cTJA9A5zvKx5eTEEBz+pOAjOoOQKtBplKMcQ5A4wO+nkFuDUD/Wz/74XoPQPMYIauNIhBA3ATDk0csDUBxk9QaAx4NQPizeNiZRQ9AHEAeMpDFCkCNYAyHRuMNQAaeUcc08QlAxBigZ58QC0BWu4ZdI+AJQCiwPfC9mgdAAVYOZAefB0AtuCI/hYwIQA==",
          "dtype": "f8"
         },
         "yaxis": "y"
        },
        {
         "hovertemplate": "Sequenz=77<br>t=%{x}<br>v(t)=%{y}<extra></extra>",
         "legendgroup": "77",
         "line": {
          "color": "#FF6692",
          "dash": "solid"
         },
         "marker": {
          "symbol": "circle"
         },
         "mode": "lines",
         "name": "77",
         "showlegend": true,
         "type": "scattergl",
         "x": {
          "bdata": "AAABAAIAAwAEAAUABgAHAAgACQAKAAsADAANAA4ADwAQABEAEgATABQAFQAWABcAGAAZABoAGwAcAB0AHgAfACAAIQAiACMAJAAlACYAJwAoACkAKgArACwALQAuAC8AMAAxADIAMwA0ADUANgA3ADgAOQA6ADsAPAA9AD4APwBAAEEAQgBDAEQARQBGAEcASABJAEoASwBMAE0ATgBPAFAAUQBSAFMAVABVAFYAVwBYAFkAWgBbAFwAXQBeAF8AYABhAGIAYwBkAGUAZgBnAGgAaQBqAGsAbABtAG4AbwBwAHEAcgBzAHQAdQB2AHcAeAB5AHoAewB8AH0AfgB/AIAAgQCCAIMAhACFAIYAhwCIAIkAigCLAA==",
          "dtype": "i2"
         },
         "xaxis": "x",
         "y": {
          "bdata": "Js3CDRc8GkAkXSuKZeQaQFPjhMHx0RtAaKqIVPG0HEAOowfy2codQATVnARKbR5ArVDBLKW6HkDS4K+ll0sgQB16Co8FoyBAOOBulgMLIUDxBujqZcchQAaWiRoRfiFAyoGXHrg8IkBZDJAEbhEjQNH6WsfzJSNAGi74KyxcI0BNvcZNcS8kQLUkidE7oSNAML4deELhI0CkHsQClwYlQC+fKKNxdCRAIpJEk/LRJECWLcSfmeskQFVXaKfEgSVA6qh2gDOTJUAP/8/1gHclQLduXjRVRyVAdxnfi078JEByjnhIFJUlQMuJju++wiRAi4tdIM7DJEDF1G4iv/4kQMQb3MmSxyRAof5JGBc4JEBAUo3U+LojQN+jCvyzxyNAuqzegZs+I0DrCQ/leoYjQA/91FXH0SJATpAmljmWIkBgbw4nozciQECK63F9niFA7J3FSenUIEBJWrUneEsfQIEuZQvdkh5Auf3jjNFXHkB/UHQvE9IcQI1TKoV+IRtANewNSVYOHEDAlvLKg2sbQGf9WAjfoRpAhfuRL8DiGUD1DWkbnuQZQCAcUE/+hRhAr+EaFNI6GUBnXRf5M/AZQOX0JbLOGhpAMJ1F+SR2G0D1ECFzxlscQJenRy4HexxAGRMxjmi6HUBjR0foN9UfQH2XMxf8vB9ARvM4MEyTIECIsLFy7EYhQFter19Y/SBA4DbrPj5VIUDs9Hgg9xsiQBzqmnn0zSFAXqE61vafIUDdB+vpF94hQHtY5Nh7vSFAfgaMSc9pIUCcleP/3cwgQOUdYLZM5yBA9X+eHfG4IECg+NfInrMfQItKwU5CpB1AZW6d7EpGHECunlnJk0UbQAKTqIdtNBpAF0mgk83IGEDnthbaRjcYQHfE5Nn/1RhAdRmE1R2HF0B80TEVs4MWQPg2MaOpJhZAVTucWAbTFUC96TgpvcEWQBmGgwAtDhZAbk6DuB62FUBx2lG+kwcWQNSoKNjGZRZA92D/ywvKFkBCHJ/V9/oWQEcLmxVNuxdApxeI6VXzF0AmDuZgvqcXQC0ycIILTRdANeei3jazF0C88NeeljkZQGv8ht9eNxdAT//rdZegFkAuZwdGogQYQO3vQG1L7hVAEb/gNwLfFUCCWK2Zp2AWQHrv/SZGHxVAv1gRy+nWFEDU4pxm/gsUQHvBZAp8BRJAWjo8RZLbEEAw+jBF9vYQQMDSrb83HA5Aw3yKLfW0DEA45guTFfYLQLWw3biTyglAY2UnKr9PCUCIU3dyUF8FQKX1hsWBYwVAoMDAOO8QA0BOACoG47QDQCNczUEbkAFAjBgz1EJH/j8DB8Zqi84AQCROFaQc4Pc/aft40aNb9j+kTYQfoEnyPwQrJF4WWPA/crLBWjH99j99qxA9x/bwPzbjmxT69uo/R//rkVfd5D+yvq3pKBPuP5RVKSPkKuw/EFYWjZiZ7z+EW/Q6bVTkPxC45VcXuOg/YFbSByjP3D/szQpmJq3qPw==",
          "dtype": "f8"
         },
         "yaxis": "y"
        },
        {
         "hovertemplate": "Sequenz=78<br>t=%{x}<br>v(t)=%{y}<extra></extra>",
         "legendgroup": "78",
         "line": {
          "color": "#B6E880",
          "dash": "solid"
         },
         "marker": {
          "symbol": "circle"
         },
         "mode": "lines",
         "name": "78",
         "showlegend": true,
         "type": "scattergl",
         "x": {
          "bdata": "AAABAAIAAwAEAAUABgAHAAgACQAKAAsADAANAA4ADwAQABEAEgATABQAFQAWABcAGAAZABoAGwAcAB0AHgAfACAAIQAiACMAJAAlACYAJwAoACkAKgArACwALQAuAC8AMAAxADIAMwA0ADUANgA3ADgAOQA6ADsAPAA9AD4APwBAAEEAQgBDAEQARQBGAEcASABJAEoASwBMAE0ATgBPAFAAUQBSAFMAVABVAFYAVwBYAFkAWgBbAFwAXQBeAF8AYABhAGIAYwBkAGUAZgBnAGgAaQBqAGsAbABtAG4AbwBwAHEAcgBzAHQAdQB2AHcAeAB5AHoAewB8AH0AfgB/AIAAgQCCAIMAhACFAIYAhwCIAIkAigCLAA==",
          "dtype": "i2"
         },
         "xaxis": "x",
         "y": {
          "bdata": "R8hx7QZ1JEAvBAz2b18kQOoYXTMFpCRARvt0bXgzJUD9AtYqlm0kQGARZGXfTyVAyU+qNT2OJUD2MBATRcYlQKmieANzjCZANDBblruNJkCP+YshofAmQJyK0bx1vSZAhyHnz74pJ0AVRF8WvVsnQB8c/lKvsidApZWh7NvKJ0ArDlCJ3TgoQE8fCoG81SdAmKt8OcpCKEA6BZChG/snQMV49dMhzSdAIvvk5KaBKEBHG29UcfAoQFDO1UiZTChA5VEYnUMbKECg8jTMS7gnQBaw7u6MWCdA9WbYl7/AJ0DZWEs/Y6EnQAeby6gqfSdAyr3n8elCJ0CjVawoee4lQJvXIcN2DCZAaMoXqDnLJEA8V145UikkQKL9m+VZYyRA9vDAI92fI0BOnG+SsIQiQJG36TTmiyFA74oK4XqVIEDxXsLP/uweQJ9DIZyYGR1A5AKRHzG/G0AeKmz2V2EYQFuo/JkctRZA0m9h9+QLFEBhLrR5EyIUQP+P/27FshBAo5I5d8ZAD0A8HJUCv+QMQDYfMsztoA1ACYIAXbR3C0B5WNgifCoMQLi5kFxbLQ1AO+1yUDELC0DfTq8YEQEMQF394bYm2A5Awjswm03BEECIl1dnQ0ERQC8IJtu97xNAxn/dXPL2EkDY817uGwMWQCYUquk4uRdA4Ulec78YGEANmPXYilwaQJ8/qiv2iRpA1v7OzMveHECRZyMTX7IdQPXMzi5GqR1A66B8KmfiHUDlMG+NICUeQPSBvhoLrB5A4SOXpZmOH0BICaXsVNYfQODFCcDfMR5AiXQyAzNNH0DhC3EuidoeQFTLCifoFx5Awq3+UR/FHEB5u9tlwAQdQNTXU30AqhxAdUtppduEHEDwNXbD5UMcQHxSsMgatBpAgdvBtyYXG0AsTSyIDYQbQKzLGTBVlBtAVqEDs2c/HUDJv817nY4dQMBtsmYILR1Ag7yJEfv4HUCuv9oh6XIeQBt3zglSax9An+Sd6iq1IEAG6lS1moYgQBCVFA6WniBABZDGK3ZjIUCMdG998xshQFrn4STxICFAOzrA8KumIUDP4oXCdMUhQMQGtMgCcCFAKHl7gTgYIkDWfQOmX3IhQIp/EisRfiFACowzJUbkIUDrA0krTskgQGlWWE57ySBAe4BgYykSIUCtYqcJmsAfQOWgJvi5DCBAPoA1WtOUH0A7WIey4ckeQNTH4onwMB1A3XN5tYhZG0CbG0cdcCUaQEaBhNEQQxlA3mfv5eBeGUDE/0dWmdwWQNpQe3UX8hZAbdZof+U1FEAWmWnGRGYTQM5ZO+ysJhJA0eL+Adj5EUBvIyH0IRkOQM7WKqQI3wxA2zo1dLJNDEBsXxHvno8LQCuFrThSLwZAcwZ3Hb5wBkDI0Qy8iYoBQMn+1KM0zAFA89SqrDTK+z8GMmi1XoT4P+cvT5KQ5fc/0xAzb3h0+D9PzGafN6D3P96q38nj2fY/afUR/pPp7T+cyol5ToDnPw==",
          "dtype": "f8"
         },
         "yaxis": "y"
        },
        {
         "hovertemplate": "Sequenz=79<br>t=%{x}<br>v(t)=%{y}<extra></extra>",
         "legendgroup": "79",
         "line": {
          "color": "#FF97FF",
          "dash": "solid"
         },
         "marker": {
          "symbol": "circle"
         },
         "mode": "lines",
         "name": "79",
         "showlegend": true,
         "type": "scattergl",
         "x": {
          "bdata": "AAABAAIAAwAEAAUABgAHAAgACQAKAAsADAANAA4ADwAQABEAEgATABQAFQAWABcAGAAZABoAGwAcAB0AHgAfACAAIQAiACMAJAAlACYAJwAoACkAKgArACwALQAuAC8AMAAxADIAMwA0ADUANgA3ADgAOQA6ADsAPAA9AD4APwBAAEEAQgBDAEQARQBGAEcASABJAEoASwBMAE0ATgBPAFAAUQBSAFMAVABVAFYAVwBYAFkAWgBbAFwAXQBeAF8AYABhAGIAYwBkAGUAZgBnAGgAaQBqAGsAbABtAG4AbwBwAHEAcgBzAHQAdQB2AHcAeAB5AHoAewB8AH0AfgB/AIAAgQCCAIMAhACFAIYAhwCIAIkAigCLAA==",
          "dtype": "i2"
         },
         "xaxis": "x",
         "y": {
          "bdata": "RgahCLi3JUAKg2s7TdEjQA+pMQzbjiNAKhYKXndAJEBMfwoocEgkQOmQLSpKySRA7zRuqj+fJEAWh8i04SIlQB4/bS8XuiRAgHx+DrZpJUClycMucx0lQCEDN/6f1yVAkjyxjLBzJUCrxo4BkrslQL6ofF4NFyZAsIEO0VQcJUBnntUd65UlQKewvsZvUSVAju9vCdMyJUAmGYguDEIlQGplhJ9zIiVAXJauIavvJEA6cmw0Z+ojQCMJYZVrqyNAjEcA4l6FI0AGb95OgjsjQCmy5ABBLSNAGO22dYIII0DC7VyDeYsiQN3tBFgg5iFAKUtRqZjXIUDK6byaRFYhQO0cY8iTgCBARroBhyYLIEBASkK+vsMfQHFBlE/tgR9AKDbneYcGHkAOKoHSuqQcQMpaI289VBpAdM87Ih+4GUB8pIMvcKcYQL/yrGQSYRdAGePaAhTQF0Ac3BIrNeUUQFHry5WzChVAahV1OsE/EkD9OZ0udGwSQNguzEvVEhBACyZTGGhSDkDgW8B5EhEQQIPTxRDLjw1AJfzylvQQDEBjSMgQ2zEOQCGmvQLRyg5A9gmAqapSD0Dufj8RtO4PQJzrXkqbThJAFC7lRn18EUCVsWSf6gkUQLrYOBDjvxNAUo9MWlJ1FUCVHgBtgogVQHKehlJi6hdAHoKM1mw2GEDnLUB0Qq4XQMFZU1xWuhhAMz+HxsR7GEAl4ZN/REcaQPT3bSwlVxlAgMrUfdTYGUCRQZskRWoZQC4EwcSHehlA0Hn2jERiGUDSq6WBhxkYQPA4F6CfFhhAJJ1sDs3NF0Dri0fcHN4WQMHRmTc31RVAJDs2O9AaFkCPeH3IRYUVQLbN/SoNjRVAsqvrakVSFUDLIUb64Y0WQDDg2wYdZBZA5OZIFjcVFkD2DbC+LxYXQG/mZdC1wxdAkI3jBVTSF0DoTM/3xKkYQM7GkfPWNBlAE+ZxcW0aGUBU1vHJlcwZQISkqVhVBBlAzRC88lU1GkDPhXzX8lUaQHp0HyzB6htAfUWKsJ9rG0AKeIXImQkbQEoAD9zfJRtAWHZ4M6EbGkBul5m6R0YbQFjskP3qLRpA/q++srBdGkDRbPqcIzUaQJ2/5PQNCxlA7F01/etZGkCk+sBnEosYQC1Jciy1aBpAjyIXezPnGECABE51jRMaQF1QDL5kGRlATxDTTXcxGECtx08wOcgZQKbWUHw0thlA3QEbuSC1GED2Moy824gXQONlwkMWgRhAKYpi5WU7GED4ew/ZtwkYQHFky7VR3BhAAiP0sHO3GEC9GIzD+sAYQB90icWRVhdA5rJ9KnRIF0CbNowRn8UXQEAIgP4PfRZAooWUQpoMF0Bi1EVOvhIWQKAEFlRB8hVAv66qMNiiFkDXEp04L3kXQGWdB4EIuBZAI02KIb+tFkCzZJ9MQGYVQF7VWChx4hVAURALKcMJF0C4V7ApZQAWQJ7E/q0gahVAVp8ilK3hFED8C7esxSEUQA==",
          "dtype": "f8"
         },
         "yaxis": "y"
        },
        {
         "hovertemplate": "Sequenz=80<br>t=%{x}<br>v(t)=%{y}<extra></extra>",
         "legendgroup": "80",
         "line": {
          "color": "#FECB52",
          "dash": "solid"
         },
         "marker": {
          "symbol": "circle"
         },
         "mode": "lines",
         "name": "80",
         "showlegend": true,
         "type": "scattergl",
         "x": {
          "bdata": "AAABAAIAAwAEAAUABgAHAAgACQAKAAsADAANAA4ADwAQABEAEgATABQAFQAWABcAGAAZABoAGwAcAB0AHgAfACAAIQAiACMAJAAlACYAJwAoACkAKgArACwALQAuAC8AMAAxADIAMwA0ADUANgA3ADgAOQA6ADsAPAA9AD4APwBAAEEAQgBDAEQARQBGAEcASABJAEoASwBMAE0ATgBPAFAAUQBSAFMAVABVAFYAVwBYAFkAWgBbAFwAXQBeAF8AYABhAGIAYwBkAGUAZgBnAGgAaQBqAGsAbABtAG4AbwBwAHEAcgBzAHQAdQB2AHcAeAB5AHoAewB8AH0AfgB/AIAAgQCCAIMAhACFAIYAhwCIAIkAigCLAA==",
          "dtype": "i2"
         },
         "xaxis": "x",
         "y": {
          "bdata": "VDcWJtNAJECtG7u+hEAjQGNicAd+QiNACD46BTR9I0COFVeloUAkQLUzIdRd3CNAKxSiv/HRJEDmtEhXbvIkQKy/cQ8wESVAoEMSKWqJJUA8XuztnHgmQII4marF1yVAylfFXL9xJkA4hGx3pEgmQH+qqhBKaSZAl2mEgAyWJkC1neQI/M0lQOi8iP/hACZAcfe68aIUJkBUNhrHmfMlQFWweaciryVA7URkJUWPJUAFo32kyw4lQLPbL+D49yRAeY2sAbo5JEBeJ1QdDs8jQJvwGlaE1SNAJz8vzNfFIkDkpubAre4iQBidtF/l/iFA3Ff8HIyBIUD+W5YKuDggQBR+oZovASBA2h/gvJTWHkDnW+8fKKYbQIsQjKEhjRlAFC6viqGtGEA0Ffw0540VQAJhZezKDxRAJSEO1zAtEECFBlZpVlYNQLlndrSGTAlAaZEZrGZACUA9WDg5znwBQDlK8QcEefo/EFmo7cJ38j8vLdqwIID5P929vgwJufM/AuYSA6Nz6D8N9IXcognwP7s7yEJtk/E/+YWV1igM8T9kDwQnjbz0P0Og/yyZ3PY/MUWy02bl/T89TFZNKUP+P0yjp3ZM6v0/Tns+6WBu/z9OBeoLSrMEQNzft3yMeQRAkICex/4LAkCOT/6kTI8GQKnT64djYghAx/r+YJkqBkDD/yXRsiEJQDkN7d4SbgtAJ9Fp1Yt8DECQdmOwBvQMQGvv29wCpQ5AGtpNGMPVDUBFPOVlYeQNQI96NMQ8wA5AQt34ddxJDEBWiiI8wEwNQN6kVHe5vwlAvpyBd47MCEDRPx6oyPoLQEXULriOBAxAcWdS4BV/CkAXPraXCfYKQOGT1fDY/wpA+y1PGe8ADEAcXw8hhecOQDqOeq4MVg1A6hwMyqZiEECXKe4UjhEQQKG7tS4vwBBADyb4Zb8rEkCBd+XPxqoRQM3r7fjEURJAfxHo4HvEEkDFI3uvo8QRQEDiYtMBZxJAfC6hOyhLE0DJlmip7CgSQPIlkE2N0hFAf6FQCPqdEkCxbY/G/VsSQKPbTUERtBBAOXi+lQr7EECFl/ITbc8QQLPhKWvdaxBABz+L0KNkEEAxxxW/2bwOQHIe7dv/HxBAfWm5ItkyDUAuwQ2SpwAQQCJnYqLeUAxAr3vESFbfDkDwG+f7yg0NQNH0mIxWAQ1AdMxM9mPPC0A5eEryifcNQK3SzLmGGA5AahDBV9H1DEDyqZPxLfAJQB7DjrEIOgtAVAKiQ5H1BUDP9iO5+MsEQIN9+ZJqzQNAqqQbK6t+AkAADNZkLSb/PwecyHDeCfw/poeLVjA//D/e4GgkSzf1P6Y0k57vofY/xwFJOoJy9D/MkMjVyh7xP/t1433igfI/2mvl3jUP+D9SHaixHmPyP/GG7jrKvuM/BLnKc+847j/0gSsJM9TzPxxRybGX5vA/XcgpEptL4j8QHp9Nm4bsPyAqFe1Creg/NMjpTUVn4T9SHuBGWEnqPw==",
          "dtype": "f8"
         },
         "yaxis": "y"
        },
        {
         "hovertemplate": "Sequenz=81<br>t=%{x}<br>v(t)=%{y}<extra></extra>",
         "legendgroup": "81",
         "line": {
          "color": "#636efa",
          "dash": "solid"
         },
         "marker": {
          "symbol": "circle"
         },
         "mode": "lines",
         "name": "81",
         "showlegend": true,
         "type": "scattergl",
         "x": {
          "bdata": "AAABAAIAAwAEAAUABgAHAAgACQAKAAsADAANAA4ADwAQABEAEgATABQAFQAWABcAGAAZABoAGwAcAB0AHgAfACAAIQAiACMAJAAlACYAJwAoACkAKgArACwALQAuAC8AMAAxADIAMwA0ADUANgA3ADgAOQA6ADsAPAA9AD4APwBAAEEAQgBDAEQARQBGAEcASABJAEoASwBMAE0ATgBPAFAAUQBSAFMAVABVAFYAVwBYAFkAWgBbAFwAXQBeAF8AYABhAGIAYwBkAGUAZgBnAGgAaQBqAGsAbABtAG4AbwBwAHEAcgBzAHQAdQB2AHcAeAB5AHoAewB8AH0AfgB/AIAAgQCCAIMAhACFAIYAhwCIAIkAigCLAA==",
          "dtype": "i2"
         },
         "xaxis": "x",
         "y": {
          "bdata": "ynU3KPiXJkDgIG+/C9MkQIS2Vnld3yRAXK+FP1sKJUCZ2QM4GIclQC+zzTgyWiVAyDdpw2GTJUBf9uMvZHwlQN9B4AQcwyVARCdWKpJVJUBISAcv4nUlQEfHSD4RTSVAGJQbQuZ5JUAZqLy4wM0kQKR/BDOwlCRAszeqqTbUJEDFyyyqFsojQBcQ1D/7MiRAFxhvKfzsI0C2UNc2XgsjQEJbNQ+bSSNAjeHL95BkI0CqZIawM3IiQEmMa++3diJA5E9kQGSnIkC1QDvcNYgiQOzNtRk6viFAZqbJLOJrIUAG/oV8ui4gQCNHWH7mdB9AJeI1TnI6HUAAp9P95D8bQM7hWMk6yxpAdUb2Kq9uGECz6MO0lY0WQJydf86AxhVAEabJwKtsFEDQwObmsZsRQGzmsrKzag5Ar6VI4L3QDECqJkBxZWcMQB8uACNs2wVACTLfvQ/wA0C25SqR6oL/PxYjs1GY8fk/92H1sKMY8j8WM+zR2L32P7YnmJMsJvU/ihBfTwOJ+T+y8IfugMj1P3Yg3PDdrfQ/iZdagKUn8z+OzpxR/UH6P9JtuiEIKvM/GO5/VTvEAEAaVE8a+oYCQFeqpuCkkwVAechUAVxxA0BZZZljpSIDQFykODB3ygdACl3/r8IhCkBD2jY9eyoJQJKwOIhaxg1A8ZxXv8xfDkCd5lb509sPQH53GtAYfBBAdYU90skEEEAs0vS12i4RQLHz3EaZjBBAJqgYItmjEUBoMJJyoPwQQFdG2+ZBHBFAKsWv8SHoDUBUTjDVKhUPQG5LYyI1rgpABjUUdqvGCEDmYfHJgRkJQI+Lb+fE7AVAvP4mMarNBUC1+EXSZ9ADQB9Pg8thhwFA4mr1hBxJAkDwIIH+MTkFQA8GA6QvFwhAW03TG7PbBkDgJdo4p8gIQCuxIiZgRwlAmyrRagwTC0AVQn29cZUMQLrlaksz2A1AyVqu6flBD0AkjGgXNQYQQJRrUO9J6RFAkUV+jBt8EkDIdAKYRfQSQOLj5N04LhNAVte483OkFEBiW1DxBkwUQICaHySDzxRA2ctNNXtrFUCUwIWVkuUUQEnEOslB+RVAZ9Po2ofbFUBa7bEzXEEWQMbhVo4jZxVAlq5eOEFLFUBPr99tD30VQCX8luem9xRAOvSnbwBOFEBwbLxIsc8TQF9ZkVxHvRNAdpUMskRjE0ASI2rVmTgRQF7QzkF4wRFAPs2vFB9cEkCEdJxs0FURQOqNpFSsbQ9ANDVMmohzDUAo91yNwrgOQAwcAwVS9w1AAcq467dRDEB8I1mg9+cKQKKCCQFRAQhAFJHvK63JCEBnBEPX0M4HQBDaCLeErwVAsGBN12+2BECHtY7+1CIDQPmejpQo2QJAAPAxuOH0A0AqyMSVk9oCQGS/CMdqlQFAaxUZ46Fo/z9X7EL6dJb1P+puDC2S+/g/zBNRGZQk+D+nKFD2MfT0P8pFwC/RJ/A/zD1g2JNK6z/CpYLyMhrmPw==",
          "dtype": "f8"
         },
         "yaxis": "y"
        },
        {
         "hovertemplate": "Sequenz=82<br>t=%{x}<br>v(t)=%{y}<extra></extra>",
         "legendgroup": "82",
         "line": {
          "color": "#EF553B",
          "dash": "solid"
         },
         "marker": {
          "symbol": "circle"
         },
         "mode": "lines",
         "name": "82",
         "showlegend": true,
         "type": "scattergl",
         "x": {
          "bdata": "AAABAAIAAwAEAAUABgAHAAgACQAKAAsADAANAA4ADwAQABEAEgATABQAFQAWABcAGAAZABoAGwAcAB0AHgAfACAAIQAiACMAJAAlACYAJwAoACkAKgArACwALQAuAC8AMAAxADIAMwA0ADUANgA3ADgAOQA6ADsAPAA9AD4APwBAAEEAQgBDAEQARQBGAEcASABJAEoASwBMAE0ATgBPAFAAUQBSAFMAVABVAFYAVwBYAFkAWgBbAFwAXQBeAF8AYABhAGIAYwBkAGUAZgBnAGgAaQBqAGsAbABtAG4AbwBwAHEAcgBzAHQAdQB2AHcAeAB5AHoAewB8AH0AfgB/AIAAgQCCAIMAhACFAIYAhwCIAIkAigCLAA==",
          "dtype": "i2"
         },
         "xaxis": "x",
         "y": {
          "bdata": "JUk0xTTbEEAfm604D8UVQIrtyKZ9kxdA6rOyWfBNGEAZMrIUu54XQGRBW9gSJRlA41HQK7u0GEDcVN30FN4aQDI5ID39kBpAPJiyAKBqG0DdhcPclZ8cQBTUW8sunBxAgS2eQ0raHEBpGpLbuHUfQJJP4ZLKWR9ARpez4fUBIEBle5YvbKAfQEQUg1EkMyBAs5eZ6hY7IUBIkQA0YasgQGZry0ZDFCFAP7pzCEiwIUDJCEWGwK8hQFDwFmPoniFAF9LBoP9TIUBRJElRa1EhQPHhU8eaCiJADtwZNBUEIkDrETcMUj0hQFJalDaqUSFA9/VMo9d2IUCcYDLoRrggQIJUMeGXPyBAGTti9HiGIEDO37Xq3RkgQC1rrqiFBSBACHwTDjWaHkBHa7hxLRodQK9gI2wrOR1AwBTQoBYIHUDBGIvSR24aQM/o//wSzhpAGVDC4v2NGEDvy9xSbVAXQPuQImlxQhdAX9n6WEHUFkCkXxjPBlcVQAp4QsI3UBVAA1PwGwIIFEAai4BVQ70TQCaI4kbcAxRAgAJabtLKE0DqzPeixEIVQBd9rSN9fxZAXU2T+XrwFkC9YG1hED8ZQLf7ziwP7RpAquTVXvR9GkC6ZPyzfUQcQIdTxsimUh5AYeKQf1c1H0C8FnUr6EMfQLXVZKmJZiBAWMn42hewIEDVz8DRB+sgQM3Wcw9pgSFAbgm/xkQRIkCjfgi9WGQiQNgW+DfpJiJAdUe0BQs2IkCAoodG0XsiQITgPLI5rSJAdTpHa5TMIUCt8ABlQl4hQDsHmGuynSFA26jmR7T7IUBjIf7mVDAhQPYXYuTliiFAMb3LVJ9EIUAAKwHVcbogQEv6H9eqGyFAONCZgZj1IEBcvJd5Ce4gQCiumbqlSyFALlygoZv0IEBQAJUS4l4hQFU/M7TVnyFABSZYRiVLIUBBxOGR9oYhQM3b6EjQyiJA1DMUpcE4IkDgFcVmM3YiQCB6bP1DKCNAMWCqQheWI0A47ZEIHVgkQHQAOwN5byRApFif/AkIJUA6zBa+lgElQE4aRAjTtyVAbtPt4gB/JUCxJYOQVzomQKWVdpre8CVAB1IdVwKEJkAsv2BXsAMnQKDFfidR9SZA8aVzCqeFJ0CLQwc/ULcnQJzQKomuCidArs+QBMfBJ0CA2Y4bCCgnQKOHb7OVCihAEnMDwDxcJ0C1Z9wduKYnQBdTm/TYUSdA62K05wYGJ0DpgJQgeP8mQJ5PSljqPidANy4mjNSuJkCw2g/gPBUnQFApzGKIwSZA2iPftTgVJkCBp8V16HAmQIy03R+lFiZAy8+qNlXhJUC6RE1yOO4kQCz3buMKfiVAWIDDx8VZJECWdjLwVywkQIepAmN14yNA0EgX9SRMI0Ac9+XC3V4jQCOty9cNYSJAzT6+Pp3gIkADh4YoF3UiQKyXojqweSFAGKCLPNNjIUDjCnrll5QgQKEV+51u+x9AZw0SbtCVHkDfiJixoSAeQA==",
          "dtype": "f8"
         },
         "yaxis": "y"
        },
        {
         "hovertemplate": "Sequenz=83<br>t=%{x}<br>v(t)=%{y}<extra></extra>",
         "legendgroup": "83",
         "line": {
          "color": "#00cc96",
          "dash": "solid"
         },
         "marker": {
          "symbol": "circle"
         },
         "mode": "lines",
         "name": "83",
         "showlegend": true,
         "type": "scattergl",
         "x": {
          "bdata": "AAABAAIAAwAEAAUABgAHAAgACQAKAAsADAANAA4ADwAQABEAEgATABQAFQAWABcAGAAZABoAGwAcAB0AHgAfACAAIQAiACMAJAAlACYAJwAoACkAKgArACwALQAuAC8AMAAxADIAMwA0ADUANgA3ADgAOQA6ADsAPAA9AD4APwBAAEEAQgBDAEQARQBGAEcASABJAEoASwBMAE0ATgBPAFAAUQBSAFMAVABVAFYAVwBYAFkAWgBbAFwAXQBeAF8AYABhAGIAYwBkAGUAZgBnAGgAaQBqAGsAbABtAG4AbwBwAHEAcgBzAHQAdQB2AHcAeAB5AHoAewB8AH0AfgB/AIAAgQCCAIMAhACFAIYAhwCIAIkAigCLAA==",
          "dtype": "i2"
         },
         "xaxis": "x",
         "y": {
          "bdata": "uFnlYwzVFECt+9hzf9MWQACO/LDbSRlAhuMXu6VcGkD1RHwa/cocQKGCx4OkOR9AYmGJxl9jIED8jQv+6E0hQDooWt8QNCJAHjn9Dw7AIkBnJhZ2ovwjQDwQeQ3IiCRAyubxAFkMJUC/KDevikYlQCRUda7QeiVAKvULsmeEJUDve9PeQ1ImQDng5l9KYyZAThQTE2vOJkARLPiV2t8mQGtPu9ycMSdAqrPx8EwAJ0DxO1gi93QnQAQyN1OXUSdAMaic7ccqJ0A+xwfClLImQNu2XO+MzCZAyT+R5f4FJkA/s9Cuhb4lQFw831rFjSVArHOHyZfYJUBH37hOvl8lQHYmqAmEDyVA6Xy6V3yAJEAWFCsNaJMkQJOc5nsfZiNAv7ee4wk7I0CfNrQsjJQiQK7SJ8UobSFA8rvkWvC+IUBiOlCbIccgQBUsza0Kmh9ALat247ARHkAnbD/At/AdQDzOz2EAOB1AX21syT/8G0CG+S9/nyAbQMr9cpqKSBpAxeCQv7tFGUCLvtDIQr0ZQPN38gyzBxpAnjptyMXbGEB10xkEEJMaQKUCbMzeuxlA/5bAV8fLGUD4uOQTy/obQKewbL6wUB1A6JKcwGauHkABWHuOA3oeQIGELwIS6B5Ak1Jm7J56H0C1mj+mRPYfQF/kXDrJoCBAxY8TKhsXIUCwGTSiXY0hQPlZWAX8/yFA/P8xBJLHIUBb0u4vbzMiQEsLEj/o/CFAoqfsPgjGIkARwprpo3giQEbTp164MSFA63RMjB6WIECatdmOIIEgQM6hVrleJh5AyJuVqGU0HUDJltMymw0dQObfrXvcpBpAlaQsOV2wGUC56UgrbB8YQBQ01G+r7BdAd2PL5i7rFUBhQaHGk/YVQJ+j7irbrhVA9wuWIJLGFUCaWaj67egUQISU+aMFqxVAfTQgcwDJFUBVUZeNrPUUQAWec6qY9RRAfforcVw5FkDqAq7O9+EWQCmn76+JUxdAftmCQaE+GECXKlFnzSsYQLSgtU/G+xlApkC4iapeGkAF0jOmErwaQNWLePl0sBpAR83p/j/0HEAtbh69k+AcQBe/5b/xoBxAZJFoAWSZHEBwXDwFmwoeQIN/gzJG9x5ACnb8/p1uHUCvGjKomuEdQD3VXRlh+B1ASBaPOnqYHUBgYNCa4yQdQBHHWw90qxtAjZ10BqEwG0CJKxUYCFsbQKafNt03ixpAg45Lc/GBGUBG1JUKn1oXQKdGOE1whhZAOjHhY5+LFUCajEPsG8AVQN7GxXZg8xNAIpB4neDQEkDwFmpxseUQQPcbATXxJQ9AuB0aMGvUDkCFI4aMgcgLQDbYDSVxvgtAf4Fuy1hrCEAA4hrJrP0GQJ1re1kpTANAYYKk1s2BAUBaj0VE26b+P072Nh8YFfw/Aoo0Vw6U+j977XbZymnxPzQarOX26u0/nII59DP18D/YpDiZM2LuP9QUzlb0AfA/lmOj/PHX4D8MK7jrjrHuPw==",
          "dtype": "f8"
         },
         "yaxis": "y"
        },
        {
         "hovertemplate": "Sequenz=84<br>t=%{x}<br>v(t)=%{y}<extra></extra>",
         "legendgroup": "84",
         "line": {
          "color": "#ab63fa",
          "dash": "solid"
         },
         "marker": {
          "symbol": "circle"
         },
         "mode": "lines",
         "name": "84",
         "showlegend": true,
         "type": "scattergl",
         "x": {
          "bdata": "AAABAAIAAwAEAAUABgAHAAgACQAKAAsADAANAA4ADwAQABEAEgATABQAFQAWABcAGAAZABoAGwAcAB0AHgAfACAAIQAiACMAJAAlACYAJwAoACkAKgArACwALQAuAC8AMAAxADIAMwA0ADUANgA3ADgAOQA6ADsAPAA9AD4APwBAAEEAQgBDAEQARQBGAEcASABJAEoASwBMAE0ATgBPAFAAUQBSAFMAVABVAFYAVwBYAFkAWgBbAFwAXQBeAF8AYABhAGIAYwBkAGUAZgBnAGgAaQBqAGsAbABtAG4AbwBwAHEAcgBzAHQAdQB2AHcAeAB5AHoAewB8AH0AfgB/AIAAgQCCAIMAhACFAIYAhwCIAIkAigCLAA==",
          "dtype": "i2"
         },
         "xaxis": "x",
         "y": {
          "bdata": "7wrBvoSEHkCe+crt3GAeQA8V8gTtix5AOUYFro4AIEDWA/k4XsEgQP4laGsNiyBAZZ5pggIPIECEwbdwJSwgQOZK30oHFiBAtOnTEf1SH0CBk4SNVwIfQL8hXEptbB5A0E+noVL5HkCH2qR1VdQdQCBpN7v1Ih1A/civ5lJrHUBYHC1wnPAdQL1d58ChyRxAiFdj99aPG0A5/uRHK5IcQHW44IwvPxpAn6uC5Bp6G0D2N5awDFIaQOVHXsr0AhpAUYco4dGtG0DEkncKgC0cQBNuvrkxvRxA7vTd6RDeGUBVRMThT7YZQIu5qhrlLxhAe6C0shsHGEB6+nN6kO4WQGh16AQbzBNAbyhCZay0FEBBEV/qLoERQGGFJ3eoEBFA7Cm4rapzEED+BHxjMl4OQIfrvgtmqwtA1EBVfHwvC0Awhi+aoQsHQOH3ds5BkwZA5Hjpic6UAEAfonR6ZW37P3XUUUecxPY/mNtuKbUH7z+8wWPiUR77P43t0zgMjPQ/tiZTNvkK8j8RwgghGIf1P1yyY7QsJPQ/TpXyyDNk+T+emo+ce4n1P3G/QQq3hPI/Pp+Uwz609T/oJwzrZ5oAQIZbbxtT6AFAOJc0MHA9BUD4lFwvpusGQEpqpDYi4gZAXL0+gBezCkA+830GuBUKQOn203GXtQ1A2aed/6ghEEBWbBkaCTEQQBVekgZ81hBA2Y1UBqEDEUBuUkVrxH0SQPcJB1ZPdhFArRlfP9GTEkAgnRZCBzQSQEn1oR0QQBBARF7F/38iEUDbKVw3XnQPQBLak2ds8QxAHSrUHd4IDUDq6jJ0AYQIQJFazXaVkwdA2bH0rlfCB0Co48CSm9EFQA/8ByFWuQhAnE4hggkICUDkBEpFYR8FQGkudKUiOgdAX2dnr+aCCEAsmP4IuBgLQAgmloJ5HQpAqWqqgZtlDkB9P0fGWvgNQLC5e5o6HBFAkr1KWibgEEBBMzcF9Y0RQIFxmoWUVxJAdiIUDPELFEBRxsgpkmgUQMgeg1JrXRZAbYjBcl4tFkA5u8riP+UXQGi5hnv6/hZAeEIJ3AStF0Bswp9fKksYQN3aRvcCMhlAtFAStEZ2GEDYAfhL+Q0YQElmCKT+UhhAhLL6APDcGECRv+M7vFUYQFAyErmVCBlA0G3rDryMF0BSX7wWXBQZQDTMR4WUDxhAQBhhoadZFkBQ2XRxCpsWQFzDgGYXzhVANhiZ3zggFUD6zrXDSx0VQKFuws1MRxRA8pdERdqXFEBLT5yke1oSQJjUvowHShJA9nVcQSm9EEBd8xuRBIgRQO/d0IE4jRBAnemDRbdtEEDPvbAgk+oLQLIDyY2yqgxAuc0w0bITCUDJ/nd3QfkJQK3vJEbwCQVAYnk+O3ZKBUCmvbry9WECQFa33/EQTgJAOA5MDxWH/T+x1GSOBFT6P/6uB0O0S/c/qEOO/Nn+9j+m6xGWZVHwP7CN5r6h2/I//3dFhEPd6D97TYUnYewGQA==",
          "dtype": "f8"
         },
         "yaxis": "y"
        },
        {
         "hovertemplate": "Sequenz=85<br>t=%{x}<br>v(t)=%{y}<extra></extra>",
         "legendgroup": "85",
         "line": {
          "color": "#FFA15A",
          "dash": "solid"
         },
         "marker": {
          "symbol": "circle"
         },
         "mode": "lines",
         "name": "85",
         "showlegend": true,
         "type": "scattergl",
         "x": {
          "bdata": "AAABAAIAAwAEAAUABgAHAAgACQAKAAsADAANAA4ADwAQABEAEgATABQAFQAWABcAGAAZABoAGwAcAB0AHgAfACAAIQAiACMAJAAlACYAJwAoACkAKgArACwALQAuAC8AMAAxADIAMwA0ADUANgA3ADgAOQA6ADsAPAA9AD4APwBAAEEAQgBDAEQARQBGAEcASABJAEoASwBMAE0ATgBPAFAAUQBSAFMAVABVAFYAVwBYAFkAWgBbAFwAXQBeAF8AYABhAGIAYwBkAGUAZgBnAGgAaQBqAGsAbABtAG4AbwBwAHEAcgBzAHQAdQB2AHcAeAB5AHoAewB8AH0AfgB/AIAAgQCCAIMAhACFAIYAhwCIAIkAigCLAA==",
          "dtype": "i2"
         },
         "xaxis": "x",
         "y": {
          "bdata": "QIMUKtzVHUBNY1w8wV8dQN5848P0Dx1AztEVXIdKHkCzykugiOgdQO14VBHBUR9AA1JhZPVfHkAFonxVoE8fQNC1BqmFLCBASVL7SL78IEDQqHEXU2ohQNywvc3qIiFAMOFxIHuTIUBZg8lC/nkhQJGvKnxXlSJAZWvXURzdIkBJRbqG8l4iQCPgHIaY+SJAa92oZ/g6I0CzK6pt5K4jQKMM0Yrw7yNAFw1KZ6EMJED7csVRoVEjQNVHn1VAJyRAjJwNgWjvI0DzCPiWb9IjQHGLQcDfESRAaKGG4z5RJEA8JLAg1HEkQHzEL3x2zSNAechD+nuAI0CTD9fBAu8jQFHrSIVtDiNAtRFikv9pI0BmoqLWkN0iQDM7nZorKCNA1bksKGjyIkD7D0mV+AgiQDyqRxCjWSFAm1L1lS8fIUCCayMutT4gQBCU5F3HVR9AS2GkRxbMHkBgX0kpE+AcQNxn/kUp/RxAqzWGUg10GkAAy06xgSkaQEUjzbHkWhhA5EnknXu2F0AnzYlcr2sXQPxtnuur9RZAM+tKSpyBF0D7Y3GidN4XQLs2jSYjJRhAzimlNaRxF0A2rhzHbqkWQH1r4Kl7fBdAXaPajTRvGEA1sEZPbi0aQMDilF5BCBxAZIyJfjWZG0DtB0OsO5kdQIfE5mHjnB1AzDc1NU9+HkDZZB9ufesdQId3UBF82R9AVoup3PraH0CoelFpPIQgQC21jzkdBSFAx8lXUwvMIEA4FYwecb4hQN1tKG/wayFA8nFYm99HIUDaM0K9M8AgQCGgDHUgtiBAoB562KGlH0DGEpxEawwgQFSjq1qC+x5AcUNRQxgzH0D4dhUdSCMeQH7NF4E6th5Ax8a3r6h9HkD3vVJ1ZmYeQJwAZ73JIx5AlxJKq8yGHkCelrbtRsgeQH1/wengHx5AHiGJKPfAH0Cc4UGph24fQGg3P7zyDiBALypHLDhOIEBHj4aH/YQgQASfalPkTSBAN4CgQTwEIEAuRe88APogQBrGGfPFMyBAfHGUnFKKIEDKrTLVUpggQKtSpS0Q0yBA7lY46tLJIEDZfhWfwVMgQJ6KV8pEvCBAs/4zb9iiIEDuwyzJmUIgQHZcCwPknh9A1EP2baqbH0CjB7k/++UfQKVKvbkJXB5AE7m7iQY8H0BsUV/puOMeQB4iY1FToh1AefkzmLITHUCdNmtnKn0dQMSAlIc3mBxAs/1d3lOcHEAnUleQPW8cQDow9AXV+xtA4lveodGuGkCM7sZyr5waQPPIfRYjJBpALarsFVZSG0B63x27/TMbQDTYh4gQXRpAkjcgaW3YGUBrtXZMDAIaQOmiSsDcghhACP/QfUJ3GECALXkW+gcZQDJ5rzoMyRhAPJexQ5DtF0C5NLOjfb4YQOw7kKm28BdALa4MaDsqF0CNbDsrY+YXQHMKJ6S1+hdAEvlosDwrFkBnz7ac/GcVQHgo9BomIxRApPXw2GKKEkATZ7twDEsQQA==",
          "dtype": "f8"
         },
         "yaxis": "y"
        },
        {
         "hovertemplate": "Sequenz=86<br>t=%{x}<br>v(t)=%{y}<extra></extra>",
         "legendgroup": "86",
         "line": {
          "color": "#19d3f3",
          "dash": "solid"
         },
         "marker": {
          "symbol": "circle"
         },
         "mode": "lines",
         "name": "86",
         "showlegend": true,
         "type": "scattergl",
         "x": {
          "bdata": "AAABAAIAAwAEAAUABgAHAAgACQAKAAsADAANAA4ADwAQABEAEgATABQAFQAWABcAGAAZABoAGwAcAB0AHgAfACAAIQAiACMAJAAlACYAJwAoACkAKgArACwALQAuAC8AMAAxADIAMwA0ADUANgA3ADgAOQA6ADsAPAA9AD4APwBAAEEAQgBDAEQARQBGAEcASABJAEoASwBMAE0ATgBPAFAAUQBSAFMAVABVAFYAVwBYAFkAWgBbAFwAXQBeAF8AYABhAGIAYwBkAGUAZgBnAGgAaQBqAGsAbABtAG4AbwBwAHEAcgBzAHQAdQB2AHcAeAB5AHoAewB8AH0AfgB/AIAAgQCCAIMAhACFAIYAhwCIAIkAigCLAA==",
          "dtype": "i2"
         },
         "xaxis": "x",
         "y": {
          "bdata": "uem8qM50IUBK+YMNez8hQFV/2fqY3CBAy4wstKfUIEDLYUWKXzwhQD4uY/lv7CBAD+5uHWDvIUCKG1FYaOEhQLhB4IjnYyFAJG+aWMoeIUCidbOo4xAhQPIUWPrHASJAuYE8/ZyyIUBRvUq6No8hQMYy3h44ryFAX00BP+M0IUCWJ71ympYhQLf1qK1kTiFANlF4lzEvIED+kdw3KMggQDQsYy/ahx9AdKo1gNIsIEB66dBjIV8eQCca8SjbWh9AB75Gacn1HUAWomG+HKMcQFkBfjJQ3RtAQfEv6TMOG0Aj4hn+kaMaQCzh6BX6KRpAykLxYs8eGEBjVwqCR+8XQGt2UiLMxRZALfO8cxCpFEDuMWftKy4UQEA/Ss0TmxNAzdfRTg7aEUAxz/wZkD0QQICIFn+7fgpA+Awhhf44CUAimuRVu7ADQFKu3P+PwQRAjlBG7JogA0CAzFyOVX0BQC8/m6MRQ/w/Ln0hsqm2AkAK8wDnfYoCQJ7BUX7KEwNAA+hWhvTwAECK6KqgeWcDQIomORViygJA8wnd53t0BECCb8uDoFICQDeBapYCoQdA5TAnv2L6BkAdQtwezd4KQH5dNY0uFg5A4WglyCNrDkDYBtkbNB4RQCknXPuYTBJAc/jb+vctFEAACc9T0x8UQI+xa4fSnxVAZ/XIkwvOFkAWOFRUqOYWQAbahIXD6xdAGcRgWTqKF0AGxe78KCgaQKjpRtlGuRlAP+l1bV0RGUCOCIuYFyEZQPSvka8fNBlAnteckvYNF0ACtBLZR+cWQLDqIRUj3RZAu+afcC21FUDY0H9dbooUQIjJi9emBBRAjFZaADqBE0AgXu6pp3sTQIu+FTKtAhRAIv4KN/YzE0CeDFMiDdQTQOsLJO6QsRNAxOMn7eG8FEA5J9EY91EUQAQahNKMUxRAoH+L+dWhFUBi/mjOS4UUQEht1rhlJxVA15+LneqMFUAztg5w6FsVQFzATqhBqRVAk7iBhLN3FkDkxc9tBCwWQLYsOQ1b3BZAPsX7SN9ZFkChk+nbXwcXQI7gekzvKBZALRqaCpGSFkCcVT5miikVQIthY93RSBZAVNZzDLoBFUBFNOQUbLsTQGiYZhPWyxRA9S5euwRBE0DPDvOPgn4TQBvkPELYFBRAezKfskgoE0DYUs8N2t8SQNeit9CQ0xFAZVUTIKWoEkBe9jkMB4kSQFwLxMRPLBFA81RFo5Z4EEDq79k74T4RQLZg5B5uixBA9WhRXdxJEUBZODekrxwQQJoB3VOKvhBAhTg0PC6zDkDS+XGRVFAPQHaU+gzeoQ9AlQIThlybEECzsVhLP/sOQIehSqxY1g1ApG6iJ0YUEEByjugi1T8PQEtuilKTtw1Anjp+azLxDUCDMRx8k9QMQBlOYusRzwxAw/7PM1VlDECpRMFwdqQMQCzkzccmxglAODzSxmbWCUDFMwUaLMQHQESpXJlEdwZA53pnjKnJA0B5bD9NECUEQA==",
          "dtype": "f8"
         },
         "yaxis": "y"
        },
        {
         "hovertemplate": "Sequenz=87<br>t=%{x}<br>v(t)=%{y}<extra></extra>",
         "legendgroup": "87",
         "line": {
          "color": "#FF6692",
          "dash": "solid"
         },
         "marker": {
          "symbol": "circle"
         },
         "mode": "lines",
         "name": "87",
         "showlegend": true,
         "type": "scattergl",
         "x": {
          "bdata": "AAABAAIAAwAEAAUABgAHAAgACQAKAAsADAANAA4ADwAQABEAEgATABQAFQAWABcAGAAZABoAGwAcAB0AHgAfACAAIQAiACMAJAAlACYAJwAoACkAKgArACwALQAuAC8AMAAxADIAMwA0ADUANgA3ADgAOQA6ADsAPAA9AD4APwBAAEEAQgBDAEQARQBGAEcASABJAEoASwBMAE0ATgBPAFAAUQBSAFMAVABVAFYAVwBYAFkAWgBbAFwAXQBeAF8AYABhAGIAYwBkAGUAZgBnAGgAaQBqAGsAbABtAG4AbwBwAHEAcgBzAHQAdQB2AHcAeAB5AHoAewB8AH0AfgB/AIAAgQCCAIMAhACFAIYAhwCIAIkAigCLAA==",
          "dtype": "i2"
         },
         "xaxis": "x",
         "y": {
          "bdata": "XrroJUSNIUAwfBTAYAIhQNKY6xhA5CBAwtrgyX4xIUBY+YUxdxIhQHnyePeDiSFAvh2ED6zNIEACDor1KXshQKOvwXUnVCFAtH5zWTPPIEB2kmErEyIhQKkHUsnBaCFApBtiBgYDIUACS+DL1rkhQCpzxa26NyFAROkzTIzYIUBJjMSnTAIiQMUkB2vruyFAWrX5YicZIUBZ3CYRpAUhQOX/6VnvGiFAQourzmZGIUAe95lihekgQG4RjYeEWCFAs3juXbKdIUA/BvXpp6EgQH1no4mDYCFAMci5wDA6IUDDDJmUqrQgQFbqrzKWEiBAYxjtjSmvIEDLrwaOhFsfQF1JyJfxrh9A6dEvg8PIH0B3dyy7AU4eQEA5KCYjQR1AbUTt5bGoG0AyMkJdE9UZQATYY3nlqhlAsrEBv6oTF0AE4H6b0okWQDTjgSYDNBZAdbK6q0y3E0CYO3YzD3MSQHpX/yo+iRJA4lcX7XmtD0DpfIYopbUPQNlmx6ytRBBALFdNncQCD0AEDqsc5ncOQLzK9mkuUQtAzgU9oN/WCUAlrs5vMLELQJKSYdZOxQpAGtLl3M3WC0BAUzI32jgPQLHYBoIUGBBAGJolzRXWEUA/LepVv74SQPNEKgt/lBJAKFZ5/OsGE0DVV0kfk0gUQCC6uOwiThZABO4s69biFkAVACrmz78YQGTkg/0HVRlAHigZe7N3GUDTLA7McNcYQJV0eujSZRpAUrXXykiqGUAQ5MYzTi8ZQLsScBRwjxpA/VA8fCanGUCvVKOLGSUYQHrNGn62axdA6/ROfbhOGEDY4G7vuL0WQDxFHq4o0BZApJTWt2m2FkCyOQeZ3fgVQAT6dTZmqBVANPkSqL++FUDZq0wvNfkVQNCtStBzRBVA5QA75zInFUAB+aBdWi4WQB24kodmvxZASo7zt00GFkDE27dfzcwXQFOsO3wssBhAHSsCpBnOGUDz0e/cozwaQHkH+hdIBhlAtYCvt8WTGkB9g4ufJrgbQOpKgH76sRpA6q9GQolKG0BwChG8l6AbQKPpRNTE1RtAOlSo5VtdHEC4xmh/6nMcQBViy1t6pRtABJ4fVIYzHUBlWfkR6KEcQCXEdfe5dhtAoN/stMCcG0BT850VzPgaQEKZtVhnORpAaEUOylLMGUBjrFrDNUUYQFpAj362fBdAmoS/5otcGEAHT0URETwXQODH5MVfaRVANuehDNGdFUBvuwj8QqYTQEi+6XUUFBJA19ITTEJFEUCO4YXbnFUQQJOhYXolhQ1AK7QlTZOrDkD/Ps523IkLQG1+8f3F/ApATAUSxlnABUBNyE3GQwUFQLvSfLl4bgJA2a49VlbMAUChkaCzrgMBQHmgyNnu0fo/8sxOHk8L+j+YijBnvmv+P142KEyz6/I/PCbolupG9T9snvHNtl32PzwuSbyC8u0/PhQwozAi7D8BPr38ojTzP6S7TXQOpuY/XJFPFjwE4D+8iyleNh3hPw==",
          "dtype": "f8"
         },
         "yaxis": "y"
        },
        {
         "hovertemplate": "Sequenz=88<br>t=%{x}<br>v(t)=%{y}<extra></extra>",
         "legendgroup": "88",
         "line": {
          "color": "#B6E880",
          "dash": "solid"
         },
         "marker": {
          "symbol": "circle"
         },
         "mode": "lines",
         "name": "88",
         "showlegend": true,
         "type": "scattergl",
         "x": {
          "bdata": "AAABAAIAAwAEAAUABgAHAAgACQAKAAsADAANAA4ADwAQABEAEgATABQAFQAWABcAGAAZABoAGwAcAB0AHgAfACAAIQAiACMAJAAlACYAJwAoACkAKgArACwALQAuAC8AMAAxADIAMwA0ADUANgA3ADgAOQA6ADsAPAA9AD4APwBAAEEAQgBDAEQARQBGAEcASABJAEoASwBMAE0ATgBPAFAAUQBSAFMAVABVAFYAVwBYAFkAWgBbAFwAXQBeAF8AYABhAGIAYwBkAGUAZgBnAGgAaQBqAGsAbABtAG4AbwBwAHEAcgBzAHQAdQB2AHcAeAB5AHoAewB8AH0AfgB/AIAAgQCCAIMAhACFAIYAhwCIAIkAigCLAA==",
          "dtype": "i2"
         },
         "xaxis": "x",
         "y": {
          "bdata": "1EIBcmG+FUC9/u9ZkuIZQGhUiAisxxhACVXYmHZ5GkACNcZFqB0bQEZqteKrHx1Av4nj/m2qHkCoxoV+rc8dQAAkR7npZCBAmL0TTTYHIEDUBNHHDW0gQHBjE4zH0yBA+qNau0VEIUCZmxrH9dkhQN8cZJ5/HiJAo1nfUcwUIkA/aNbO0MgiQNVgBWLgwyJAvjcqOo+XIkCpfg/JHHAiQA8wf53ylSJAxteLXXRaIkCm/pb1kaEiQEiGpdaNyyJAcTFAgv3ZIkCn144ZYZoiQK06pk5FNiJAnG1li8qDIUAKJhNndGYhQIkK5bteiiFADhS/E6YyIUCkkRQCkcUgQEubS3YcHSBAc/bv6Mk1H0Dl+oVcNTsfQJEnLfXErx5Akpnuhd2YHkB/pF+DPtgbQNfRSo/QIhtA3UYp4sA7GkCo1AiCLgAbQIUFcQmZXxlAxr/aq/0IGUDJy99Og9oXQFimvRoywxZA6JPId7xZFkC6pEkujr8WQCFvJucl4hRAqeka84OyFEDGYYfA3P4TQMQhpEoHexNAOP/xEOiAE0BJgCp16OITQAwEXTIRABNAuuvGcB4WFEDtF5i7QRIVQBpIEq70khVAT2fiIYF1FkCLaloln5QWQPMn+ivArhVAPaHupkH0FkDsM94tNrgWQAzYNtiqBRhANMnaF/qfF0CKkl87npcYQBl5hFGwWBlAO8ZiIPtUGUBxzfV7KWcXQC0L2X0/ThhAwBrRSFG5GEBOQF4+oRgXQEHs4tTZfhZAju+612GtFkAMDa0B71AXQOuOCtMd9BVAnCwoB2rNFUCYPD1iQAQVQC7rcWBgaxRAIvHSbCdkE0BdBY4mBeATQK8WpH6bvxJA3yeTOffjE0BxM02SJaITQH6kM1VQhxNAYp1LrxWUE0C6W7f4SMYSQNOnPMVPghNA1xkfYneLEkD7zl1XVXgSQDmyw6C2VxJAD6sCfUH6EEAumQGQ2bsRQAENtrAWHBJAewkzHh4JEkAX1wytSTATQBXQ4HSBvBNA8zKIWdueFECRbpZtIq4TQEaOiVvqUhRAa6Rb1T/aFED/R1rBZFkVQJYn6EFJERVAbKhgW7FZFUDSMHXVOMgWQJ5IQX+fuBZAlhjk90sOFUC+uSCwzkwVQP+wND8jWxVAXKdbvoYLFUBg1Li/40YTQKNfTPLgxRJAqJjlP79sEkA6l09D5t0RQOvDf+kMAQ5Ad6fT6/+NDUACFLvkqVoLQCr+jdSokgtAwaYMmdozCkCuoEjpQFEGQOPwoprpzAZA0yPGL5KtA0DSWlN1RMb/P2Affn04PAFADsX/96Ej/T8OCeXf1GX1Py4GA01DyfM/lMZt5SIm9D+BBR8VqZ30P9yUaawAHe0/Jr+RX6JZ8T+awf3qJQDsP9i87IEWJuw//kP/VL/a6D/u3FcIhp7jPzLruSPnaec/NrcJzegF8D8K3tqUiankP827kz0w1Ow/q6CQivZH4j/ryLze+Z/YPw==",
          "dtype": "f8"
         },
         "yaxis": "y"
        },
        {
         "hovertemplate": "Sequenz=89<br>t=%{x}<br>v(t)=%{y}<extra></extra>",
         "legendgroup": "89",
         "line": {
          "color": "#FF97FF",
          "dash": "solid"
         },
         "marker": {
          "symbol": "circle"
         },
         "mode": "lines",
         "name": "89",
         "showlegend": true,
         "type": "scattergl",
         "x": {
          "bdata": "AAABAAIAAwAEAAUABgAHAAgACQAKAAsADAANAA4ADwAQABEAEgATABQAFQAWABcAGAAZABoAGwAcAB0AHgAfACAAIQAiACMAJAAlACYAJwAoACkAKgArACwALQAuAC8AMAAxADIAMwA0ADUANgA3ADgAOQA6ADsAPAA9AD4APwBAAEEAQgBDAEQARQBGAEcASABJAEoASwBMAE0ATgBPAFAAUQBSAFMAVABVAFYAVwBYAFkAWgBbAFwAXQBeAF8AYABhAGIAYwBkAGUAZgBnAGgAaQBqAGsAbABtAG4AbwBwAHEAcgBzAHQAdQB2AHcAeAB5AHoAewB8AH0AfgB/AIAAgQCCAIMAhACFAIYAhwCIAIkAigCLAA==",
          "dtype": "i2"
         },
         "xaxis": "x",
         "y": {
          "bdata": "3wgD5ZXuHUAZxp28cxgcQGgZlY7pkhxAnlvo1hm/H0AqatAK/xwgQLsbOKezByJAL/NI7NpOIkAOcGO0jqIjQHeddLGEFSRAiCkhGfBsJEDzNd6Y9W8lQIvouHvIEiVAtKmfBLiHJUA3csLZXaomQJb6kTbPxyZAw8MeyrbWJkBvi3EouggnQMmwPIy4NCdA8Apf+apSKEA7S0xEZc0nQKZ+sXl4FihAbdbn0hJuKEDwk/5C0D0oQKwGlzPB5yhA/iMaDGVgKECpMPZqQMooQKvskakhhChAOarKICTOJ0DUQ8hMq0MoQA9WuSRVmCdAHU+RBhU2KEBtILyGU1gnQA80DCeNxiZA7dT2GC2uJkD0bsdnvZYmQOXGNbJ1ByZAsWpjwfw9JUCzLjnqnDQkQIH49VSJNyRAH4QRW0D7IkDzmBtlL30iQLeanWKXNyFAN7IihZKJIEA79LwfSuMdQF6NWaAN5B1AtXYkp80THED5nGZJAv8aQC41dt7IOxlAha49EG92GEDt34RzqCsXQAc6g57+VRdAhzpN+NMWF0BL6kQnFkgWQAaMsMR3RRdAm64e/O7DGEC8L7FA/bsZQJ8nbxNAAxxAafExIrLyHED+jVU+YugcQCTeS/GHHR9AfT7upkp1IECiZ0gp8fYgQBqBAiC55CFAwv3D7vCLIkDua9v8rh0jQLO33F3DhiNAMGh62sCqI0DmEVrO5qYkQMAFHTqufCRAxHtIsaIpJUAqLQTQHPYkQIL7VEWzdCVAtuJpvlidJUAGVz396aUlQHk+fJ0aaCVA7/VAeQk1JUB/D046fH8lQH8HXRxLkiRAuIRaViPsJEBCWs8oBsYkQMuqXTES1CNAy5GnDTAtJED7PBjrACwkQH0FMakVMCRAHIZBQA9PI0CS/rFewdQjQI4CET8niSNAchJgjqjAI0DY6CLB2nEkQH6mAydZiiRAQ1XKSAt6JEAcZVSUqRokQEExSde5ayRABStemir4JEDd033rlLgkQKsU4dAooiVAnBN6eVS1JUDCOQPUbUMlQHHZOqaSkyVA7CSFcrAAJUBfdeM6L/olQBFG2VcDmiVArWA0v+SnJUAmwM45OaslQPlQRUj1kyVA9S+v4+sLJUDNSREEqJslQIaxIRksxSRAQS7v7rFeJEAOr6nZIQskQIfjYalouyNA8TwCu8cyJEDcy3Cu0VYjQP8XnhzxzSNAl0GlTax9I0AAJmM+f8wiQGbb01i3tiJAFdooC+LXIUB/AgxCUBQiQMKeNnLt8yFAz9GZ4WEmIUDuQYo+PgEhQIdOKZusNCFAQ0/ea2owIECBhZfb2l8fQIEdK2bMpB9Agl5vD1/qH0B+uBP+4E8eQCyHbCRCGh5A7uu4nOa6HEDDsyeseZ4cQJveJ/WizBtA+O5nNtmMHEDIn1XNCjcbQCEl8OwQdhpA1CU4fdWYGkD+dzEdaAMZQPigM/fa3BlAD7Ovhp/zGEAs9Qs02eQYQA==",
          "dtype": "f8"
         },
         "yaxis": "y"
        },
        {
         "hovertemplate": "Sequenz=90<br>t=%{x}<br>v(t)=%{y}<extra></extra>",
         "legendgroup": "90",
         "line": {
          "color": "#FECB52",
          "dash": "solid"
         },
         "marker": {
          "symbol": "circle"
         },
         "mode": "lines",
         "name": "90",
         "showlegend": true,
         "type": "scattergl",
         "x": {
          "bdata": "AAABAAIAAwAEAAUABgAHAAgACQAKAAsADAANAA4ADwAQABEAEgATABQAFQAWABcAGAAZABoAGwAcAB0AHgAfACAAIQAiACMAJAAlACYAJwAoACkAKgArACwALQAuAC8AMAAxADIAMwA0ADUANgA3ADgAOQA6ADsAPAA9AD4APwBAAEEAQgBDAEQARQBGAEcASABJAEoASwBMAE0ATgBPAFAAUQBSAFMAVABVAFYAVwBYAFkAWgBbAFwAXQBeAF8AYABhAGIAYwBkAGUAZgBnAGgAaQBqAGsAbABtAG4AbwBwAHEAcgBzAHQAdQB2AHcAeAB5AHoAewB8AH0AfgB/AIAAgQCCAIMAhACFAIYAhwCIAIkAigCLAA==",
          "dtype": "i2"
         },
         "xaxis": "x",
         "y": {
          "bdata": "l8cpq4B5JUAjKx/10xMkQJSTwfnAciRA9ywEZfX4I0Bh6qd4A/IjQAt0jBl/RSRAPDy/PIgvJEBHiUxRllskQIDJHoz8MCVAIghjLJBFJUCiXoRRUMYkQIjH8aadHSVAFVWlos4mJUDK4YVIawsmQJmscRoD2CVAw7mGwRXeJUBW/hPxbEcmQDobe8ivYCZA0WCzbS7aJUCYGb9C3AMmQHCWcSnVjSZAqFB8MBzzJUCm8LO90RUmQKHbrjlH7CVApY6nDutpJkCXWldjRMslQOj97fk7VSVATYyhMAhvJUCHJ/Ay8LolQOVN5AheAiVAa12v8/RAJUC8YVPyUj8kQFzLOQy/dyRAoY0p4JjdI0BZExl+bl0jQIyGpc6PQSNAJeFdC2M/I0DIjNdou4siQDOtf6awbyFAuhTNmreuIUAfynKv2yggQHWezytxUx5AtxX68WfUHkDMt/K68h8dQEKTfZ5KyxpAVr/OJ8cjGkCCM4szUKgYQGHeLWd7fhlAkddfhod6F0CrxxF87DgVQNwNMfKCkxVAHptrRbmCFEBDZw43m9oUQJBFXgyzyBRAJtQvR2CWFUBM8xCe2isVQGR6Mt8OmRVAls4N9rgfFkDyBAPrh2kYQOOQ9VzpPRpA31jGpxqLG0CUjRnxPA8cQCDJ5UlS4hxAHsbGsoKfHkCvoAYglLwfQABLHnqfrSBA4jzIFyEFIUCIfE2y85AhQDRdYSnjiyFASoQMz7GAIUB94wUsFXwhQGE0qXVToSFAB4PAFOmQIUB1bqqHXW4hQFx8H1MXJCFACnVnXeCMIEDvLW3NxCIgQKaQmfmfgyBAnGqjOPkYIEBkkS0BmRIgQPxRDgzT8h5AL6WXBu0sHkDbbtjyFb4eQMMqCOBAwR5AmSC4WiblHkDP2weM0GkeQIxCZb/Nqh9A48uYK9w3H0DWPmOLwCMeQHRNFKNFgR9AfN9/u539H0BydCblxBEgQHCyEg0CASBA4cn+m9tUH0Bbtg1F7yAgQJ+ScJQl1x5ARp26oYc5IEB+0mtyZS4gQH0lSfo4th9AX5Vx5nrqH0Bk4GUoOGYeQIbCJcLRiR9Aahb6F9beHUCgHzQiEi4dQOjhFZKywR1AET6Tf9d0HEAtd+tPqi4dQFmuQJBLZhxAQAfclTHNG0Dw17JfhvkcQEr7Ku0MjxtAngWAykBDG0DC5bE3Y5waQDh6uK1PqBtA+kbE+JnEG0DLiCnbpvcZQHCvKiouNhpAunSipJ+UGkBJBVYaTawZQOBfDLe/xBlAcPTp46YdGkADdFWhNNwZQKyaRN/BnRlAdbu6ClKjGEBR8/0j4rQYQH+FeYfa9BhA6BytLDXZF0CrhGTsLTAZQIcbr60/JBdA9bdOlN1TGEChgzbMyXUYQME0VscNeBdA2DC7a8aCFkBi2oAlSOAXQGHxwvBVZBZA32VBheczF0DE62mlQJUWQFjY5b6T2RVAhj90X6cBF0Cq49XyWEYWQA==",
          "dtype": "f8"
         },
         "yaxis": "y"
        },
        {
         "hovertemplate": "Sequenz=91<br>t=%{x}<br>v(t)=%{y}<extra></extra>",
         "legendgroup": "91",
         "line": {
          "color": "#636efa",
          "dash": "solid"
         },
         "marker": {
          "symbol": "circle"
         },
         "mode": "lines",
         "name": "91",
         "showlegend": true,
         "type": "scattergl",
         "x": {
          "bdata": "AAABAAIAAwAEAAUABgAHAAgACQAKAAsADAANAA4ADwAQABEAEgATABQAFQAWABcAGAAZABoAGwAcAB0AHgAfACAAIQAiACMAJAAlACYAJwAoACkAKgArACwALQAuAC8AMAAxADIAMwA0ADUANgA3ADgAOQA6ADsAPAA9AD4APwBAAEEAQgBDAEQARQBGAEcASABJAEoASwBMAE0ATgBPAFAAUQBSAFMAVABVAFYAVwBYAFkAWgBbAFwAXQBeAF8AYABhAGIAYwBkAGUAZgBnAGgAaQBqAGsAbABtAG4AbwBwAHEAcgBzAHQAdQB2AHcAeAB5AHoAewB8AH0AfgB/AIAAgQCCAIMAhACFAIYAhwCIAIkAigCLAA==",
          "dtype": "i2"
         },
         "xaxis": "x",
         "y": {
          "bdata": "ZLu8ac2EFUDtu8w81OAXQJpe7JUnEBlA3KvzOHTAGEA27Nh3VIcZQK64XIpR2BtA3nVoqJ9UHEA7ob3sy3ocQEq6kMc6rh5ArdmYF2GDH0Dt32P7wyEgQCMmZrziIiBAIGpuz4erIEDd8l4VezohQPlgdlGpLiJAsRdSdM7jIUDgRv+xyyojQFIPkrPV6CJADv3zd359I0DjAo2SKIwjQK0+QUqyESRAkYfKTx2nI0DFmw2fjXgkQGL9Mgd2dyRAzTkA+SUWJEDKusuD93EkQAth3Hu5kyNAPbOTDzziI0DOHHdY3HkjQC6WRDQ4tSNA143ijnNdI0CbltPBAuYjQBMWT0ZCqyNANlnjOavRIkAJWX3YQn4iQLP9nP15LyJAI+UawTjgIUAAU7Kaz6ohQIxnzx4ZByFAtJUGaYsdIEBu6kKN+iIgQGOVvlyAaB5AyzelaFYqHkBs+iiQtB8dQG3mOCwDmhtAfv+eiylpGkCSYQV7EnsZQDRdx0z1XxhA/q+rJfHmF0BDPxRw0sIWQN9P0MM3VhdAkRzjuFOEFkCga93s5/sWQPj7FNvavhZAfgYl+D/VFkCyqdFhHSMXQOybNFtEJRlAlP8Hxk3+GEB3Gxw0avAYQC1kt5YRehpABpUblAOMGkC+9xAP0iocQBJkvBWYih1AgC86+VDGHkATCr64F5kfQON2oSF5Yh9AKhsfsRinIEDPFk4ULxghQEa25nNEHCFAeB9j9fhWIUByYpQ3BUQhQHhRRDLrISFAvNULX2M3IUDsRUr0+XkgQOG4I0kngCBANyOlmsJ7IECV7SqdqPIeQMvVwiBlRR5A7ZJBOOJxH0A3yC9tuQ8dQLAD5FSm+x1AUzU2vBD7G0BOIYkRRcIaQLii3RkVMBtARdkTf/OxGkAkFT7oq8YZQKgwC1vMAxlAPqSVecs2GECRMaNO71IZQHQWyVRnoxhAQ+KbpznfF0CQB6WUQT4XQOwaWX3YpBZAdVUe3FaHFkBgDoy9yTsVQLxkvO49VxVA12J1OLRwFkA4kTndp6IUQHaiOxoYEhZAVl9QkhCHFUCioLDN7EUUQNINiHaSPRRA3szH95W5EkC+x/VSwI8TQDeMRlOzPRJAHlCDIWkGEUDKQYF8aBMPQPTJmoFX7w5A8zTrnrydDECQt+kTF0kJQItO68w+TQhAjagC2m+1BkAFBEcxMG0GQDdec805+AVACWwZWqOtAkBEowApoxUBQAkBOpqq3wBAQ4Evafmt+z9GvXjneeX2P178sHPEsPc/xFpNbFwZ+D8msOsOG6HxPxTjTbkVlOg/9ZC9nxBs6T/ZWzV4VwXtP1W3t5gS8OI/DMFaU52Z8D8C+8JhZBbnP277PyHYReg/fojSRTws6D8IHjYI/EfvP5QAHZ7Btu4/zhUPRJSM4j/GOoYlYFHxPxYDVbenr+A/yDDq445H7z+oJSJJiAXnP7EhWJHQ4OM/7oYdYHhz6D/kOuIM3o7kPw==",
          "dtype": "f8"
         },
         "yaxis": "y"
        },
        {
         "hovertemplate": "Sequenz=92<br>t=%{x}<br>v(t)=%{y}<extra></extra>",
         "legendgroup": "92",
         "line": {
          "color": "#EF553B",
          "dash": "solid"
         },
         "marker": {
          "symbol": "circle"
         },
         "mode": "lines",
         "name": "92",
         "showlegend": true,
         "type": "scattergl",
         "x": {
          "bdata": "AAABAAIAAwAEAAUABgAHAAgACQAKAAsADAANAA4ADwAQABEAEgATABQAFQAWABcAGAAZABoAGwAcAB0AHgAfACAAIQAiACMAJAAlACYAJwAoACkAKgArACwALQAuAC8AMAAxADIAMwA0ADUANgA3ADgAOQA6ADsAPAA9AD4APwBAAEEAQgBDAEQARQBGAEcASABJAEoASwBMAE0ATgBPAFAAUQBSAFMAVABVAFYAVwBYAFkAWgBbAFwAXQBeAF8AYABhAGIAYwBkAGUAZgBnAGgAaQBqAGsAbABtAG4AbwBwAHEAcgBzAHQAdQB2AHcAeAB5AHoAewB8AH0AfgB/AIAAgQCCAIMAhACFAIYAhwCIAIkAigCLAA==",
          "dtype": "i2"
         },
         "xaxis": "x",
         "y": {
          "bdata": "B3+zIf66JUDdIevBl1EkQEgDoqImWyRAq4WO5VW2I0BetAdJmmckQBzfkLN1XSRAs/tspXGjJECMw7iYgT0kQGo/WbrqzyNAM5mCJgEAJEAhF0pbFqIjQKtgGpDOwCNAqb5nbdDFI0CgR4aDcmQjQOhmojJCQCNAld0i0dPZIkBPddSjPpAjQBKqxA0qLSNA5j7+3vtMIkAr9dqrtz0iQLi5Um7ZGiJA504uRrtGIkDCgX3WlBsiQIdu5sQvnCFAeVCe/N1mIUDBGEehc/QgQPmdWeEbzCBAZ+SNp1cqIEC3hcYjOyUgQMMQknBICx9AsWXxBHWfH0CND2YG3LQfQNR2OhbljB1AEMvcqVGKHkBwdZvhHq8bQCbVdC5qhxtARh83y03SG0B5qkGIfFYaQPBj38EaOhlAhaquVUDhGEDmao8HiKsXQJ+AfHRrTxdAPoD5+mElF0B6+TDELzsVQLW/ro4QLxVAGUIO/7uKFUDKDd9fwD8UQBRvk8R+RxRAfWFve8s0EkBiJDGp1ZkSQFgJUmaO6RFAfwA67RxeD0CPKewPiMkMQJ8AiT9/fwxAjo0v4s+vC0DmsnqEBwAKQGSnZZsXZwlA9zfzN1UVAUBHDNZF+sn/P4qVbew/zwBACHp4qAixAkBA4woPICIIQA1eg3yyYwVAtlmWO0rDCEAgkXB1b4ALQFSHFy/2iglAyA14k8xMCkAeC1V7VfAHQLbuO8nmRAlAV8Pf0cnRBkAJb69OlIIHQOqk21lYrwRACCoCmkwnBUA2q5mK+lr/P8j9p01Ppv4/bdIHX6L2+j/7bEqF8nT5P3Xq7LCIyvo/9PLh5Qsv+D8brI7O/5/7P38cS9l+CPY/vvcaVywG+T+t9tUZ49/2P6Rvn3vp4/g/MvgjJGWg/D+B73Lsezr9PzrG2l0GaPo/uHeA7zYS+z8ykW2NVwv9P9qzWkv7kwBAnMi2KD8TAUCZnc1+eUcAQAhxIOIQ+wBA5CPiIb+zAUAyBNqw90MDQDx4cIZyAwFA6xzL6x0wAkAUd+AJB+sAQPy/ukUWA/0/KVKNc1wH/j8YdJfRvTX5PxXzwqy8v/g/TqAr7u3a8T+8NYr+TN3zPwHJZ3Cz3+0/vfKrEN/18T82t0CybqXwPwBHjLG5G+w/TEd1wpNb6T8c4a0ceVXvP05ZIq7I6uQ/6B3MMq4w6D/c7VVTHtXgP/3VOsWrFvE/2NPFPNuH8j9WEuEIkwvwPzC+TRIe/eM/snVzTuow7T8gdmu1naroP4yUVEqo3t4/9yX1R/SD3T/30UMnG5baP6xBjQV6K+Q/GP8cufv87z9qx6oxxpvZP1xkd8+219o/st8B+ShS3j+NUOS4QQPuP0CL4fFh7ew/tpdpC63M8D9CiJozlEzuP9W03DunFvM/6m9I91gi6j/2QznJjW7mP+d0s/Yp5OE/08Q75BZs4j8Q8Mz0s+3lP5OaoXE4twdAu1TS25nzDEAp6V6MOHYMQA==",
          "dtype": "f8"
         },
         "yaxis": "y"
        },
        {
         "hovertemplate": "Sequenz=93<br>t=%{x}<br>v(t)=%{y}<extra></extra>",
         "legendgroup": "93",
         "line": {
          "color": "#00cc96",
          "dash": "solid"
         },
         "marker": {
          "symbol": "circle"
         },
         "mode": "lines",
         "name": "93",
         "showlegend": true,
         "type": "scattergl",
         "x": {
          "bdata": "AAABAAIAAwAEAAUABgAHAAgACQAKAAsADAANAA4ADwAQABEAEgATABQAFQAWABcAGAAZABoAGwAcAB0AHgAfACAAIQAiACMAJAAlACYAJwAoACkAKgArACwALQAuAC8AMAAxADIAMwA0ADUANgA3ADgAOQA6ADsAPAA9AD4APwBAAEEAQgBDAEQARQBGAEcASABJAEoASwBMAE0ATgBPAFAAUQBSAFMAVABVAFYAVwBYAFkAWgBbAFwAXQBeAF8AYABhAGIAYwBkAGUAZgBnAGgAaQBqAGsAbABtAG4AbwBwAHEAcgBzAHQAdQB2AHcAeAB5AHoAewB8AH0AfgB/AIAAgQCCAIMAhACFAIYAhwCIAIkAigCLAA==",
          "dtype": "i2"
         },
         "xaxis": "x",
         "y": {
          "bdata": "XQ7iFoG2HUA3XCdSSjAdQBg5Tknlbx5AmULMA21GH0ArCFdEjPcgQJpNqMNSeSFAQn2nSyTSIUBfwneMYHsiQIRBvcOfFiNAlnCAj7DoI0CQoWK0A3YkQGSLGqHkQyRAxu2bbWscJUCEJ4vnau0kQGUREumkbCVAwRuuadCnJUBleJvGrDImQPHJGBpuFyZASK/FGsgUJkB8SQMA/hgmQD2UBMI3zCZAzhdmChtsJkA+p36UbXYmQFgJ3iqoRydACnU3zR2SJkBKpXh/RMcmQK/fKxlbPCdARZZlRePqJkDViR9kcTwnQLKAKF2IbiZA9B9om5YSJkBIg7Yv3m8mQA4KA3xpziVAjxoeM64fJUBsWU05S5klQPxHtB4awyRAws7Ex59YJEBW1zmlCrIjQAME1wRK9SNAaxxrXQFSI0BRq9OqtuEiQK96Dn9iniFAvc8bkppiIUC3M/OnYZcgQJ+wjmR8MCBAbHJl/5ugHkClKgXn6QcdQDFnkCot7BlASrCRcZhBGkDtIMsp6gUYQNi29vRBVxhAVT+D9Nd7GEDZLP1PzQkXQBfxx9o8IhdA8rofGbkHGEBTqI40QaMXQAdFf0CTmhdArMzOQzP/GEAw7GPjAxYaQMMIJpHgFRxA37ayb0+ZG0DRbd60bbUdQMTtjiyO0x5A0aZMfp4fH0C3tTPg24wgQNlGmq/gqiBAQg8OavvsIEAeSWYhpyIhQJzNslXvwCFAAw5S8WvFIUBZ+MfEROwhQJbW9myhDiJAPI9LoTu1IkDrSqdR5ikiQGl+ozE6kSJA/2MixRhYIkBu7X+Yd7EhQKesZeiIlyFAtAzJaYZ3IUAMJ+93amIhQAtO65xHIyFA7pRddq1/IUCbYvPtPPQgQIIyV/sOwCFAQgGruKWuIUB+/rziJWohQN56e8c2yCFAqxipv1PGIUCn/2X7PokiQKLoqH8k7SJAW2+VYDxqIkCPwCfKqIUjQDnuyFx04yNAYt02K47zI0AkAVP8BYYkQBcscl0m5SRAN7ftolPfJECdIQ6tFpUkQCQnTkgdJSVANzgSD2DwJUBQ9+XVp3slQDuMCsK6lyVA4PNaUWpcJkA12aq2vysmQMFI7al/LCZAcDUERHxCJkAFRh3yafIlQCLA2e2LyCVAKcYdUkuuJUCbEyvJy2clQMXcrsxHvyRAmuEG/bI1JEBAWrxgnnkkQLqHY30QPSRA+hzl+MDQI0B+WRI6QIojQDuna06c5yJAUa0udxSlIkDHD6kul4YiQIcGs1B2lyJAkfQHPH7eIUAJXQA4bjYhQL9J0QGKXiFAM1kFQNXkIEDN8RDUprsgQMU/k1HHOSBAjnSaivkJIECJfdYkddQeQBVhCAJD/h9AxSrn5vKLHUAfw6BQaJAdQG+LAUJWbh1A+uUsfcMxHECSOhf7cqUcQIom+7PBWRtA1BL530f2GkBsb2k08ikaQIXLdyYSnBlAwKHlZNN6GEBccTRAfKAYQA==",
          "dtype": "f8"
         },
         "yaxis": "y"
        },
        {
         "hovertemplate": "Sequenz=94<br>t=%{x}<br>v(t)=%{y}<extra></extra>",
         "legendgroup": "94",
         "line": {
          "color": "#ab63fa",
          "dash": "solid"
         },
         "marker": {
          "symbol": "circle"
         },
         "mode": "lines",
         "name": "94",
         "showlegend": true,
         "type": "scattergl",
         "x": {
          "bdata": "AAABAAIAAwAEAAUABgAHAAgACQAKAAsADAANAA4ADwAQABEAEgATABQAFQAWABcAGAAZABoAGwAcAB0AHgAfACAAIQAiACMAJAAlACYAJwAoACkAKgArACwALQAuAC8AMAAxADIAMwA0ADUANgA3ADgAOQA6ADsAPAA9AD4APwBAAEEAQgBDAEQARQBGAEcASABJAEoASwBMAE0ATgBPAFAAUQBSAFMAVABVAFYAVwBYAFkAWgBbAFwAXQBeAF8AYABhAGIAYwBkAGUAZgBnAGgAaQBqAGsAbABtAG4AbwBwAHEAcgBzAHQAdQB2AHcAeAB5AHoAewB8AH0AfgB/AIAAgQCCAIMAhACFAIYAhwCIAIkAigCLAA==",
          "dtype": "i2"
         },
         "xaxis": "x",
         "y": {
          "bdata": "8ftGxSBME0BVXzndtuwSQOjuR7woBBlAre9Hn6h6G0DzOYdTDhodQJUyGY3UpB1Atl1R/rg1HkC5FTTjYjMcQMtktw5IYx1Aupu73V5eG0BP4bDBw20bQAvpsBIU+RlATl5D+X2OGkBtBhFQ6zwaQFYJgtZJdxlA3EdZ9/7+GEC2I01mUsIYQB0KN0oiUhdAHRyZQ24LFkDgr2DP72EVQFz7lGw5RxdAcfU6KhiCF0Cfl8S2Wc8WQL7Jbe8kXxhAUVO9MVXkFUDWgn3AVooUQEufAtttaxNAntF/KOq8EUCcRqAmndkQQMqD/1JZ5BBATx3Lxb/+DUDiHxV2V0oPQL7K0SFisQtAuVvGQZu+CUCyyBwMN0QHQEXLLmF87QJAtsXmlwDLAUD/0Iw5t9r+P4TuNexfoABA9gn6jASf8z8yBZMBrtryP6b1ppDZQvA/ZUL4yu1U8j+mgInCpy/1P2/WD8VIn/Y/8gpQ6bqm8T8qIvAujxHnP48l+o+pjvA/YjDFgKYa9j+MansXJ4HqP7Qznkp8lus/8sWEA0uL6j9oY/PSYUvzP6z0X68WK+0/5d87gcdU7j+Ct+U99FXuP7If+AM+8uo/2dT9T3BJ+D8bkPFxV0/6Pxu7Lc5lWPM/Yv+dTnxS+T+N7BRV8Oz5P+GPCmjX3fQ/tyQGJQ/n/D+ywFr4Pw70P80Nuok1BfM/3hJJRJuJ+D8q61f0mWXxP1jDVSQhFfQ/vf6HGqyu7D9S0KvBpiLrP4kebKldW9E/riGef/w25j+QtNqQmzrtPy3yFPMs0u4/+wJqFQm88T/YQ0C8vvrvP2hM5KCk8uc/H9FlAesX7j8emUtUgfHzP2F3MF8tFO0/tJJV1XL29T/cVxeY23vzP2MYD9MP1fQ/yizxom5x9T+u8fuPKg/vP4Z6zPjCBvU/vIfHlDPX+j/SqkjU0pL3P3rpLkKCLvQ/+8h1xPbf+j8ClZ/0saP2PwJDy8XLgfM/9tn2nRgj8j/7EeT4EnrxP6T9ESd1H/M/TEj/NG7y9D9cWH/vU4P1PyIf0G7osfI/5IHHcPhY7z+0nhHDqKnpP3MjGrqBM+0/d8gbW8fy2z/ElFl3tgvnP4FYbChFouU/OoyUUvHA6T/6hMTZMa/zP1TdMMCE//A/1Pj1OB4e6T+8CaZ00kDoP/aaD7fkefE/9XCoCrsr7z+YPpmkqSnmPyieUdk25u0/cCz0OYst6D/B6v5nUqnuP/DmlPrQc+Q/Bn41ZtYR5T/ZZR6xHwjiP9rU/nBgvOM/jKd+Cszd5j+NNFfsZQfcP8ofwpARAew/XSO+PAen3z+ua9jVsqPtP++oPxD/4Oo/Uk9wlCNJ7D/mUWcieuvmPxKCdtirmes/+7goGAHi4j9qhGmNuqjjPzHwen5kSds/wAfe8Jsk5z/g6AX9dlPhP+BL1ZDIjfA/pIAS61B35z+O1h+bJHbnPx1rrrgBBQRACOzJnGy3C0BQvChWH/IOQA==",
          "dtype": "f8"
         },
         "yaxis": "y"
        },
        {
         "hovertemplate": "Sequenz=95<br>t=%{x}<br>v(t)=%{y}<extra></extra>",
         "legendgroup": "95",
         "line": {
          "color": "#FFA15A",
          "dash": "solid"
         },
         "marker": {
          "symbol": "circle"
         },
         "mode": "lines",
         "name": "95",
         "showlegend": true,
         "type": "scattergl",
         "x": {
          "bdata": "AAABAAIAAwAEAAUABgAHAAgACQAKAAsADAANAA4ADwAQABEAEgATABQAFQAWABcAGAAZABoAGwAcAB0AHgAfACAAIQAiACMAJAAlACYAJwAoACkAKgArACwALQAuAC8AMAAxADIAMwA0ADUANgA3ADgAOQA6ADsAPAA9AD4APwBAAEEAQgBDAEQARQBGAEcASABJAEoASwBMAE0ATgBPAFAAUQBSAFMAVABVAFYAVwBYAFkAWgBbAFwAXQBeAF8AYABhAGIAYwBkAGUAZgBnAGgAaQBqAGsAbABtAG4AbwBwAHEAcgBzAHQAdQB2AHcAeAB5AHoAewB8AH0AfgB/AIAAgQCCAIMAhACFAIYAhwCIAIkAigCLAA==",
          "dtype": "i2"
         },
         "xaxis": "x",
         "y": {
          "bdata": "kWQKqlunIkDaBvO20/0hQGn9jEuuKyJAdQIx9KTXIkAFbZZ+xG8iQBCrcPJx9yJAygz/wrn7IkAI8/bITC8jQIMIdzI9/iJAdyDrBaTfIkAlqS3TlMAiQNF9J0OQ3SJAitMfbEjaIkDmrYO3FNwhQK/EpER7PyJAw9QBgBJQIkAUwGpaAqchQC6m+vv4/iFAbOMFQwvyIEBhSxRBqfAgQO/SDXA/wyBAzAsr2gGkIEA18Ei7oLAfQFa0mztahSBAeMZSPP87H0CpdIFrScQdQG8s+efjHB9ABSAON05GHkDhPoRquZkcQEPiFBKBeR1A2E4ZAJuPHEDewSFYvyMcQH49BSN0LBtAUpVavZfdGkBUkNgJ7QIZQEwpiDLHKxhA247tr368GED/HkqXdtYWQHH3YXpJthZA6VeffAwhFkCygzcHFFYUQOljiorJLRRASBj0Q8GME0BKwqrNHCYTQCf2L2WyfxJA5McxPr0pEkCHl8Jw+LgSQI816fbDHRJAQIycCOUeEUCV4DfPqA8SQCnMyLNPLhBAScI4o3FgEUDuIZI8878PQLcpynkTaxFAioGfysdbEUD6rGt+1gwRQERTDWsEnBFANtCCLK51EUCDeJOzDnMSQGYyceYJlhJAiJdQkat/EkDHalCg2C0TQALsv3PGCBRAWs39MM4bE0BzKzo9cu8UQFC0HXMgvBRArUvBhBurFUDcDH83rzUVQF6UGYVFBxVAhhAOgQjGE0DSsUkIrhYUQEqZrm231hJAyHZjgQkxE0Byyyya7scSQNrsVCdNxBJA2Cgq17XzEUASIjLnPSwTQB6HWph2gRFA+UAtCZUeEUA8yKe7scAQQGHhkTWDnxJAGGG3sYiMEUD0l+cJOOcRQO/zWVdoXxJAq8mycTSwE0B9tBsWmGUUQMhX+cwmPRNAcCapBbKkE0A9Whk6jXUUQM0UUWdxdhZARfQgvKB8FkADOqX0JccWQJE7H18xMBdAqbL0MJ0CGEBst2MiibUWQDWoAFGDrBdAgWYQV/XAF0AiwyWVwrkYQPQ8kPip4RhAmZ1/wPnXGEAwi7oYDPAWQLrnUPkeKBdASvps1rZfF0AHaOoMqd8WQPZ72hanHRZAcfCUxsnEFUCS3srbSFoVQBJZwt+ZhRRAklEOS9grFECSQt9KqBwTQO4Kj9/VURFAIDEObeObEUAT54OvtDkQQNbFbP0BORBAOut/K5Z5EEDEv7Gj/VsQQLH5xKAJ5w1AKvLlqq39C0AzdhswhFMKQD523hihAQpApyIZjwCRCkBLE/sQB3YJQAesde3KFQdA1vy91zB+CUCCeJrI46cHQIclJMxKpgdA5oO5v8DIBUAxAYBtE+IDQKBttJgeYANA+Cx/skBeAkB5P4ucuUoDQECUSB9ouwBAKnGpLApK/j+0MTEcP6H9PytfIGDKH/8/kKg8DheQ9z9IZzuG0aT3Px4ig5PPpvk/Vd6f0eJR9j9jiZ2aVFXzPw==",
          "dtype": "f8"
         },
         "yaxis": "y"
        },
        {
         "hovertemplate": "Sequenz=96<br>t=%{x}<br>v(t)=%{y}<extra></extra>",
         "legendgroup": "96",
         "line": {
          "color": "#19d3f3",
          "dash": "solid"
         },
         "marker": {
          "symbol": "circle"
         },
         "mode": "lines",
         "name": "96",
         "showlegend": true,
         "type": "scattergl",
         "x": {
          "bdata": "AAABAAIAAwAEAAUABgAHAAgACQAKAAsADAANAA4ADwAQABEAEgATABQAFQAWABcAGAAZABoAGwAcAB0AHgAfACAAIQAiACMAJAAlACYAJwAoACkAKgArACwALQAuAC8AMAAxADIAMwA0ADUANgA3ADgAOQA6ADsAPAA9AD4APwBAAEEAQgBDAEQARQBGAEcASABJAEoASwBMAE0ATgBPAFAAUQBSAFMAVABVAFYAVwBYAFkAWgBbAFwAXQBeAF8AYABhAGIAYwBkAGUAZgBnAGgAaQBqAGsAbABtAG4AbwBwAHEAcgBzAHQAdQB2AHcAeAB5AHoAewB8AH0AfgB/AIAAgQCCAIMAhACFAIYAhwCIAIkAigCLAA==",
          "dtype": "i2"
         },
         "xaxis": "x",
         "y": {
          "bdata": "QRjIs5TrD0B3x4gmuVARQB/5eQg+ABJA2DqcM8UXFUB+2/lh8bIVQNrgp0ZTjRdAdiWbdPyZGECIHa7b+AcaQNyzRK59yRxAc3JbpZUiHUBwOt5faaseQN+RcwmmnB5AHvh4/ej3H0Dz9Q8uaTUgQJc/ulyGiyBAgxyDqYXDIEDENV7PJ84hQM/0faOj2SFAEfDsd1+OIUA+fypkRoMhQLsyahpPfCJAugvQpYNqIkCE54anDSUiQJg+wRWpHSJAHe595veeIUAHVCz/0FAiQEGX4IdCwSFAnZHaw/bZIUDBNT4Ap0AhQLIjqPcpViBA+ePH1uA8IED9SxWuAVAgQKwyZTHRaR9A91voh20PHkDduSwAUnkdQAiRfU5IHhxAu59Uosn1GUDzx4KpdpgZQCy9YfjkmhhA6TNwRKLOFUB379LxYhEUQCHjJSF5yxNAy+3oOhX/EkCxaYScdq4RQAVC9b3RpxBAEWQRR6IfDUAgyWo0kUAKQDzhCjuk/AZA8xMd7Z0CBkBAfqoTOfMFQMAnRCqvTgZAMldclXb2BEDdjwYic70IQKUftle54gdAAHR+0kT7CUC2R1LPjfsMQN90FbA75A1AEXHqY7c5EUBM+TZ0l8UQQJ50UBQXnRFA6vH96NsMFECmRyNCXQkVQE7XLKqapxVAQthG5ZPqFUC7I4naMrcVQHPybh/jABdAaKAJimTiFUACDGPAA+IWQDmYY16dRRdAn9vVUtm0FkAr6u4rY7cXQF/mQ/NEcxZAYZ4HDxNiFkDWj6tf7BgVQDRWozShRhVAimaZHqCjFEB4SRTseBMWQCFJk1VczRVA7uKID1v5FECbig47b34VQP7DHzB1GhZAIQWO7yH6FUBUzn5ahcYVQGjTE9WpMxVAlfTq/dcHFkCchiC1LOUWQL9wZXvLHxdANFba+cglFkATQpNAWp8WQDxaPDT3bxVAZIA8Vp/6FEA0xgpKgv4VQJtTMq5pNxZA9WmOezJ4FEDaGyp3l8YTQHtnS2KXgBRABERSCIkbE0DE2tqItjkTQOP9S7khVhJAJy2pU+g/EUC5cCMhtWQPQC32PY2KqA5ANOSIKbyqDEBbeBA/gAgKQFrKcRU1gAdAtO2xB+8/BEAKmGQeD20DQFWAaw3H5AJAyyGf79RuAUAQAL3UEXIBQF3dIqLNofg/RmQedeZn/T/Y608M1Fn7P698LhUPK/g/9D0wIEQ78D99uTorAHHwP9hKz/DfsPU/BcU3Rf378z+Wq8nePtbsPyE92hjNvfE/7D02R0dK8T/uwpD8LUnnP0afc99rKOc/gpdBj2TB8D8oZNXg4nzxP5SGwFHlgu0/xjqAnriF5z8slzg8eXTiPzw+8PcFAeM/ZD77Ao+s6D8+F5pW3GPfP7zN0O22ouc/Qvj6k6ud5j94MlzvipjrP6GC7NTxzeI/gIdjoPF72z/8pwCqCnPbP7GjU4d3ytM/zh91BTeo5D+Oks8YRX3lPw==",
          "dtype": "f8"
         },
         "yaxis": "y"
        },
        {
         "hovertemplate": "Sequenz=97<br>t=%{x}<br>v(t)=%{y}<extra></extra>",
         "legendgroup": "97",
         "line": {
          "color": "#FF6692",
          "dash": "solid"
         },
         "marker": {
          "symbol": "circle"
         },
         "mode": "lines",
         "name": "97",
         "showlegend": true,
         "type": "scattergl",
         "x": {
          "bdata": "AAABAAIAAwAEAAUABgAHAAgACQAKAAsADAANAA4ADwAQABEAEgATABQAFQAWABcAGAAZABoAGwAcAB0AHgAfACAAIQAiACMAJAAlACYAJwAoACkAKgArACwALQAuAC8AMAAxADIAMwA0ADUANgA3ADgAOQA6ADsAPAA9AD4APwBAAEEAQgBDAEQARQBGAEcASABJAEoASwBMAE0ATgBPAFAAUQBSAFMAVABVAFYAVwBYAFkAWgBbAFwAXQBeAF8AYABhAGIAYwBkAGUAZgBnAGgAaQBqAGsAbABtAG4AbwBwAHEAcgBzAHQAdQB2AHcAeAB5AHoAewB8AH0AfgB/AIAAgQCCAIMAhACFAIYAhwCIAIkAigCLAA==",
          "dtype": "i2"
         },
         "xaxis": "x",
         "y": {
          "bdata": "2kWilI63EkAycWq6QxwVQKvazmIgrRVAlHbhZfotFkB5sIDsNXgYQJvhq0QifhlAtk43jF54G0CGetHa9kobQD8lV1Uroh1AiDM74tmkH0C6kzzD9C8gQHzTGqRnziBAsG3aRavoIEDhHxLRW9ghQN21nZPM6iFAQnnuIIy0IkCurkE3mFQiQKAsmmzntCJAaxMFhk6eI0AFgFW6k2gjQCRbtBNaZSNAwoG87qZYI0B5zPb8aSAkQOY9vk2C2yNA43I+Yz/qI0BaR7N2mWQkQFy9dyP3oyNA0tOE+gEXJEBVICKe3HgjQMElclaEaCNAi+sOAainI0A216w3l4siQIdfslWK5CJAFljF3lhtIkDBKHDzBrwiQOzmGGwymiFAZ63zWHdMIUAzvLJ4150gQEKgHBzbHSBAn9wwuBPIH0C+lR5SHTQfQOwwhz4SjR5ANDKmJwTYG0DBKyuDKbkbQIgTqveQeBlAmzz4avgjGUDgUqal1OwYQLsL6wwZuRhA0/ju2rIZGEDWrQbbiHUWQGiIaO+4txRAweA+WXkpFED2nOj6SpUTQN5haTh8BBRApFzaGsmGFEBNdo5U3BEVQPmfhWoRLRZAdzDFWv41FUAEHxjyQyEWQN2PAr86jRZAkjGp3cJXF0CbEKGOaRkYQDmb0cybphZA7EuHLrHKF0B2nfmKRCEYQCm7redWChpAJ0jurKSSGkDzY8lcztEaQDUtc0YHLxtA+7/Y7k87G0B4mKP6BOUZQN+Jn+qczxpAJNCxXlVJGkDhotAvdxYbQGrlkATkBhpAdHHPFsMYGUDayqAI7DgYQElMCTmHCRdAZGWQUEdgF0Ay770ZA9YVQFweaz8IRhRAYsRiJ//DE0AJT0XUNN8UQFru5vVgZRRAxtMfPnebEkBlf7dq9IUSQKURlCmJMhRAhu2D/HdUE0Bq4XHnEmgUQBN7FrGuuBVAndcw+j2BFUDXTRQBvEwVQLDRLP/8SRZAHG9PS+A5F0CGh625dhgYQNQN+EqAJxhAr2fLHQvHGEAZm5ZaVtYZQLmmroMNKxlAv6MnipzZGUBYXwoNJ+YaQCotJqkD9RlASvuDKW0XGkB7MTf/VyUZQM2xiHAsNhlAfUT1zrHhGEAnp9xLNG0XQDU0+6zT7BZAqPkVkGbXFkD2o+tLkT0WQKqz9RCDRBVARKBFz3v+FEA6pUoW10MTQM1VUZRlPhFAtOH+KDH5EECoMX9bWZIQQE3/XvoIqgtAy1Or08fIDUD6uzU4VfwIQANSbisD1AlAmMcInc70BUARF+fzVvMDQAm50ASsJwVAysZIidHAAEACMk9fIk4BQLjaEF/GfwBALJTx2SP9+z8aWfhjr2T6P4cHlHOmy/Q/FYYSKnKk9j8jqlgbgSj0P66UMPuxjuc/jjH2R5DR8D9b8ig4rpHsP8KX4yp6o+k/dxqvInt78D94g4wOV1TwP2EnEVkWS+w/BFKt4Tv95T+Lzntxa6PkPw==",
          "dtype": "f8"
         },
         "yaxis": "y"
        },
        {
         "hovertemplate": "Sequenz=98<br>t=%{x}<br>v(t)=%{y}<extra></extra>",
         "legendgroup": "98",
         "line": {
          "color": "#B6E880",
          "dash": "solid"
         },
         "marker": {
          "symbol": "circle"
         },
         "mode": "lines",
         "name": "98",
         "showlegend": true,
         "type": "scattergl",
         "x": {
          "bdata": "AAABAAIAAwAEAAUABgAHAAgACQAKAAsADAANAA4ADwAQABEAEgATABQAFQAWABcAGAAZABoAGwAcAB0AHgAfACAAIQAiACMAJAAlACYAJwAoACkAKgArACwALQAuAC8AMAAxADIAMwA0ADUANgA3ADgAOQA6ADsAPAA9AD4APwBAAEEAQgBDAEQARQBGAEcASABJAEoASwBMAE0ATgBPAFAAUQBSAFMAVABVAFYAVwBYAFkAWgBbAFwAXQBeAF8AYABhAGIAYwBkAGUAZgBnAGgAaQBqAGsAbABtAG4AbwBwAHEAcgBzAHQAdQB2AHcAeAB5AHoAewB8AH0AfgB/AIAAgQCCAIMAhACFAIYAhwCIAIkAigCLAA==",
          "dtype": "i2"
         },
         "xaxis": "x",
         "y": {
          "bdata": "qj45WubBJEAKRd9hv6wiQE8BeAOhtCJAGT0Dy//QI0AED/prPvMjQLWMoTdQ8SNATxm20FnHJEAIlfU/5SokQP0fmr5bFSVASMxJidozJUChANQpri0lQEnF7KZZTiVALlct6sJJJUABfPRoSP8kQKEFxh02siRAwze7Z/yBJEAV+xdcWeEkQOUmfnzSqCRAy7thNb6ZI0C2rg8Lo+wiQGgKk3GUbSNAWXQNLLFwIkBEJWXQsxEiQCISjoZQ3iFA++DeBoCBIUDdELoY9HwgQKruWdyW5CBAe5SOvgT+H0CVwYENYfodQCWDdg+AJR1AO7ZGRBcrG0DkYcxVsB0bQGXMk7cWURlArQI9Bub1F0A+jvoSROcVQJQ4UE9bRhVArNAo34lLFEAEjbSh82ITQHwQgDjH0BJA0rlA6KIbEkAjVA3QL1wQQO7aymMCWw5Aj34s33BVDECFAWQJi4gLQPB1QIANcwpAJ8GSfkSEC0BUdqoxNCELQJjoV4n52Q1AtpIxQrAHDUBsW8nfKJgNQIqC3m+3QBBAiiDFwtwhEUB6UKAUJMYRQFI+CX5xvxFAXUsGPtDvEkApy/7r92oTQGagpkKnhBRAIYgAm2QWFUDKBvek95UWQHzswFKgkBdATI6D0bh6GEDiVb2kjxgYQPBo6wpXpRhAHocKaMZoF0D0fa+hQAwYQK3AC8q0+RdAmQe/m6b+F0CrCgT2EjoYQFXhMLbsgBZAQkA/2egSFkC25Ya3RCsWQJGsf7NQfRRADVIKLafKFEDxtMuOOdURQElKzCghmRBAxmwk0UNnDUCWViW9DHwNQEme3spbzgpAdxjK3qjpCEB5GgCrIwIGQOhny4/zXANAcjw4YuKcA0CiQo9wRNQAQHKvfshal/8/jiH6ddlR/z9hBSnWxgUAQPlEAJ0OegBAzyqff1U/AUCBHdjZMW8AQEd3YBlaZABAeD4Lq8bIA0D1Eta+R8ECQLEc85fZdwNAcYgmmmotAkC9kJ8upVoCQO+JTJqRyQJAgeYFlEX+AUAnwLSiY9QBQN1QvGNmDAJA3jxdQH4PAUBzZ9rbA78DQLgxKQ61UgJAnZ2SiRGwBUBrONTmtywFQBBbiPRfSgdAJGZJQ9fxBUChnUaWxDUHQNuO87lLqghArRSS6af+BUBNMRzKwpcIQFrqUy9zhwdABP5H5UTmB0CJxcWolR8GQGiUg8S+PQRALDibKXzGAUDObCyPKpH+P6FhnJPYhP8/0LknaUx3AEAg55ptofb9Pz7aejy9N/c/DRDIVTI99D9OdTOfwUT5P49fmKGyWvI/J9ZrfJtx7z9ASYXpYY3oP80KdA7wJOU/J2R25nDO5z+7kkDCUSLhP0w/tuGu3+Q/qIs13RXH6z/e+9nwF7ToP4J6ehJBUeI/JhWjru3a4T9qCXwsXgfoP1Q5h+YYqes/SO7eJsJL6D8K3OmhKdPlP36UvnZjR+U/rg26Gdds4D8er2yYh6vpPw==",
          "dtype": "f8"
         },
         "yaxis": "y"
        },
        {
         "hovertemplate": "Sequenz=99<br>t=%{x}<br>v(t)=%{y}<extra></extra>",
         "legendgroup": "99",
         "line": {
          "color": "#FF97FF",
          "dash": "solid"
         },
         "marker": {
          "symbol": "circle"
         },
         "mode": "lines",
         "name": "99",
         "showlegend": true,
         "type": "scattergl",
         "x": {
          "bdata": "AAABAAIAAwAEAAUABgAHAAgACQAKAAsADAANAA4ADwAQABEAEgATABQAFQAWABcAGAAZABoAGwAcAB0AHgAfACAAIQAiACMAJAAlACYAJwAoACkAKgArACwALQAuAC8AMAAxADIAMwA0ADUANgA3ADgAOQA6ADsAPAA9AD4APwBAAEEAQgBDAEQARQBGAEcASABJAEoASwBMAE0ATgBPAFAAUQBSAFMAVABVAFYAVwBYAFkAWgBbAFwAXQBeAF8AYABhAGIAYwBkAGUAZgBnAGgAaQBqAGsAbABtAG4AbwBwAHEAcgBzAHQAdQB2AHcAeAB5AHoAewB8AH0AfgB/AIAAgQCCAIMAhACFAIYAhwCIAIkAigCLAA==",
          "dtype": "i2"
         },
         "xaxis": "x",
         "y": {
          "bdata": "LHF0gXU/IECM0MrxA/8fQAxKipnX9h9ASzURTYoTIUDIuCb8LTohQN2EcHOGMiFAxrZPeuScIUCSwBg+aP8gQMkAdukjeyFAcCQOK7ZtIECZxmY2rOIgQJINSltMiiBAf+oPg9p6H0DrdC1zmiEgQD7E451e6R5Ax8sy3UWXHEDQfr590JIdQEo4WkenmhxAJ12F6NOdG0BKWPCt+SkbQH9CmQjihRlAG92oZtd/GUCK09/OBPsYQA68rgSLFRhAaHxXHO9yF0AHQz3UXcgWQBVRDpV5hhVAl618PyNPFEAX0moGnSsSQG/3gsfdGBJAI04iAxVMEEDcI9uPu8YPQJra/Qg4XwxAhr88rse/CkBh//hcY2sJQL5e6c2v9ghAYX0OJMkvBUCxqGnSyY4FQOQ550UnOv0/tQ+MF9SjAUAsrur6e639P28+sKhXuvk/dFpVvuuyAEDkpQO1xFIJQFqB4C7aFRJAJVr35ZsfE0Cg3Oo+2UgWQCJsR44iohVAWY0g1Fe6FUCpSC1j+2YXQDTD4mktZhdAQ0/3V5NdGEDNiy7+r4kXQLSkiwNBbxhALw8T4W98FEBggttFHrAOQHG+3PQ8HAdAWqOXMFYYA0Dq+USsBKT8P1DMHz1t7f0/sZbr/4VZ/D8D4QZxEOz6P8GUUNoCrP0/z8adyttT/z85ZGeN1dAAQBAWuDOtZ/4/xco4vvvP/j+9Wr86VKP8P8WOpzyecwFAmqWTncZv+j+kPmppWsf2P4auI51xY/Y/3GDX23ha9D/cn+taWD3zPxft66TcxOo/mxR8V3iG9T+xSaKSXN3xP5Q8xsHfmfU/g1NTZhOX+D9RUAUzJar8PyrHHkiUoPc/EJLk6oQx/j9ycDr700wBQGWuEyDHwwJAqFrBm3kgA0COJcnEd6MFQFrCYB4rIQZAiOjZI/YwB0A2+BlDJSMLQHvu3kdogwxABd3I+njOC0A64bppSlwQQMzMhVqRQBBAzIjlMt3XEECGYXG4S58QQJcWjAdPgRJAfjDCAN3VEUDiWq5MvRcUQENxr8FOqhNAPK61p7pWFEAqvztCjsITQKeL0HSBrxRAWG7DdR3iFUAXMtI2axcVQBWR+9Jw1BRAxfxClzb2FEA4aAFreF8VQAv6Q7O9FBVADFnaEjB6FEAuidKT2rsTQIC27lwndRNAWJlavcc8FEBQR7194dYSQA2BNuaaURNAf9EuWy2aEkBBErVQDRoSQOeqYJ7a5hFACo/8Ccr7EkB29+3xaogRQKceoIVGBxJAlJKdB7PEEED4WcQZOhUPQE6qAoYi/g1AQKbYZaDWC0BVLmmBtt0MQC3nfwu+0g1AJgjQoNNLDEBZep55T8kJQHYEAKwAqglA55l1xo0ZCUACMEkylWQFQD+2MLMwxAVAhMl8FeFmBEAiAgPJSqMBQCM4f6LynP8/Z6K7q83P/j+RfOCNnbr4P+/qybH5mfo/ULA+PBvk8D8IONf/q43wPw==",
          "dtype": "f8"
         },
         "yaxis": "y"
        },
        {
         "hovertemplate": "Sequenz=100<br>t=%{x}<br>v(t)=%{y}<extra></extra>",
         "legendgroup": "100",
         "line": {
          "color": "#FECB52",
          "dash": "solid"
         },
         "marker": {
          "symbol": "circle"
         },
         "mode": "lines",
         "name": "100",
         "showlegend": true,
         "type": "scattergl",
         "x": {
          "bdata": "AAABAAIAAwAEAAUABgAHAAgACQAKAAsADAANAA4ADwAQABEAEgATABQAFQAWABcAGAAZABoAGwAcAB0AHgAfACAAIQAiACMAJAAlACYAJwAoACkAKgArACwALQAuAC8AMAAxADIAMwA0ADUANgA3ADgAOQA6ADsAPAA9AD4APwBAAEEAQgBDAEQARQBGAEcASABJAEoASwBMAE0ATgBPAFAAUQBSAFMAVABVAFYAVwBYAFkAWgBbAFwAXQBeAF8AYABhAGIAYwBkAGUAZgBnAGgAaQBqAGsAbABtAG4AbwBwAHEAcgBzAHQAdQB2AHcAeAB5AHoAewB8AH0AfgB/AIAAgQCCAIMAhACFAIYAhwCIAIkAigCLAA==",
          "dtype": "i2"
         },
         "xaxis": "x",
         "y": {
          "bdata": "52A2TEaoIkBku9z3jHkhQP3154e2iSJAZ4uGCudVI0BwQIvBxW8jQGo9KHcvciRAC4P6XmRFJECweo//9f8kQKRvfc197SRAVrjcm6LVJECBYde8iKolQIZux4LaayVAc7j6fNb7JEBSAPv5fd0kQKnDayf+yiNAaF63pATrI0CaxoCts8UjQJSQ5zBm4yJA07mH9IUlIkADQlak9VMiQDkK1GoRRSFAzjspdVynIECRCXcUV8MgQEf7LXBeiCBAqZttPN9THkBK+o0K+XsdQF3FZ62iexxAGjh5/xnvG0BIwqotlTAZQNsXUDPmwRhA+UqwKfkIGEBLu9NJ9RYXQAhCdWwLIhVAo/HhUycBFEBZKZMgFCISQPCGMPo0SxFAszj/UrhSDEB9gb8zgugLQCLn0VYkyAhA6TkNj8kbCEDCRpkWH9YCQIg6As1VagFAH8MrVu3W9z/m0uZrq4H3PxvZ+EC/ivI/wDfiJkYD7j/cRlmfLFLyP4XjZ0OxmPI/sat8UKdx9T/qUl0JAtzoP77U2cVa6fU/LgjxgdYb9D+C5CMfl6vzPy1o1ieMjPY/7+/13Cr3+D82a+BsUy35P8aFaqdUFPU/J0wTEl7Q/T/VqAyBdboCQEgVlkkIqgJACi1krepqBUBEFDHqaewCQIrB1XK0UAdARJvTirR8BkBfDohkBOMKQHUmd0XrGAtAF0Uht5tpC0Dk0lUKc3kJQIQUovYl9AxAu/LryfOjDEDoLd3awy0KQJbb5vgTpAhAfTr3nMz9B0Bo8qUgjQsMQDJK2BziTQtAwPMCdRnICkBeQwRyBHkPQEOYPdmNhRBAqapNIS50EED69/x+V1ERQAM8SYO1qRJA86aRiS0NFUDralAPhZwVQKSWEnYs/BVAd9PA1V/WF0BmsrE0pxMXQDiWiEJaDhhAhmQ7YrN/GUAjqfrFoKMYQLkMLv6IgxpA4QAxbTO0GkALGmlW200bQNaqN5hZ4BpAmjVGnhu8HEBHffaVEVUcQPVeQ/HfxBtACQskYlfvGkD7HSeAG7AZQAO+DhNFFxhAJq4LilCZF0AzESbZTpsVQIiBpmNTixRAQccTTsaQFEDMG55aiYUTQMjuqMXu0hFAqV05MXXlEEBJYjdU6PoQQHwQIdEMKhFAkvTC2HSfDEBrHIqp3dQMQIJVgWz5NwxAZRZpBnfMCEC8DPpM9VcGQNxhlp1m8QNAXyHwGV/+BEDgWuEEZ4H/P3NqgMPdbwBAfgYi8vvP/D+3mZE88sD+P0Jh7y2WbfY/CzCxTeek9j+49ZjpipnxP2xNBX8u2/M/mbDWgUay9j9glj8hX97yP7YvHXD8Ruc/+itcZ2o86D/G6DlBpvjxP5U8FUF94/E/TF/OdKTp8D8OvX5W7TrsPzQIM2jfOPA/kK0MTsA+6j9H8KJrdrXuP43gy4CtIuU/NACe+rK55D+ckZVsPDTsPzzfk5AFdfE/LvH3VlH04z+u7MFjLNXXPw==",
          "dtype": "f8"
         },
         "yaxis": "y"
        },
        {
         "hovertemplate": "Sequenz=101<br>t=%{x}<br>v(t)=%{y}<extra></extra>",
         "legendgroup": "101",
         "line": {
          "color": "#636efa",
          "dash": "solid"
         },
         "marker": {
          "symbol": "circle"
         },
         "mode": "lines",
         "name": "101",
         "showlegend": true,
         "type": "scattergl",
         "x": {
          "bdata": "AAABAAIAAwAEAAUABgAHAAgACQAKAAsADAANAA4ADwAQABEAEgATABQAFQAWABcAGAAZABoAGwAcAB0AHgAfACAAIQAiACMAJAAlACYAJwAoACkAKgArACwALQAuAC8AMAAxADIAMwA0ADUANgA3ADgAOQA6ADsAPAA9AD4APwBAAEEAQgBDAEQARQBGAEcASABJAEoASwBMAE0ATgBPAFAAUQBSAFMAVABVAFYAVwBYAFkAWgBbAFwAXQBeAF8AYABhAGIAYwBkAGUAZgBnAGgAaQBqAGsAbABtAG4AbwBwAHEAcgBzAHQAdQB2AHcAeAB5AHoAewB8AH0AfgB/AIAAgQCCAIMAhACFAIYAhwCIAIkAigCLAA==",
          "dtype": "i2"
         },
         "xaxis": "x",
         "y": {
          "bdata": "LBH6LF7uI0ARYQ2EdYwjQOdArMWRWyNA2wXxjbqlI0B9WdW/7VcjQFb0H/ScfiNAk2Wcss1LJED679IUBjokQMBkuW5+biRA0oQ1G5h6JEBJ5FxknIYkQIfW8aEHvSRAHCdEbXHiJEAzEvB9yz8lQExiWc2xSSVArAtpByhAJUDkCaW6aoQlQLmAh3wCXyVAu4gk1mB5JUADzYcNlTwlQO4YPiKKnSVAYxbS4PR2JUB6N+w15A0lQPm7rx2QnyRAyWH20iGgJEAIPYRxYFQkQNT8+26I+SNAW4bVdNJ5I0CYfeDm1v4iQBkdmLF9pSJAfd2ufljfIkAqxY++GYkiQDoiWzOqiyFA83NCxDhRIUDBjeymp24hQBT66G+ybCBAUIhHd6nAIEBzYca7yLgfQDMH0hu3ex1A7xbfMoKoHEAO9LqDRFscQA88M8yafBxAmt1a1RovGkAglKI29pkYQNnlgQUNoBhAq7DBAoj6F0DZErkXDh4VQOukiWcW0RRAN3GJCgIAE0BYWTo92DgTQKIHK/WzaBRALi0m3KSKEkBMk+6g7V4SQKd+3l/8VhNA7tUs3BA7E0Cd/DsAbsMTQCvZK5ymKhNAKdmm87G3FEDOIDPqinUVQIIKWDflVhVA/2Ahu4fzFEC4y8KdqdEVQJXESQPc/RVAKVzpOaN7FkAkL79jtgcXQIijDiSfeBhAlk/AWV60GECLLLfxU6AXQBVRAgSaGhdAhCde7KisF0Cxva4H2tsXQLXnPVyBqxZA09LraRZyFUBKCttG5K0WQGBaWlhVtBVAai98Wit+FUDmwdEjtTMVQBp/ijOBfRVAxdE021rMFEASGUuFxVsVQNP4DTcjvRRA68wovvgqFUCw+LXusjUVQIeSzpd6DBVAf9+lDGRCFkC5j002UgkWQLBYOyxtoBdALq10wPSGGECnEuEagNYXQJlpvnyyrRlAgYyezFWWGUDldx2LCfIaQGCE2s7fphpAaYDdpbl0HUBIaFjVJSodQI8Cwbps2B1AdF8SRkhFHkA84ZvWp0kfQGGyiC/z0R9AKmh4Lhz7H0DuiJ89hfQfQK45mFjD4h5AquujF7UsH0B7SOpc2ZMeQNyurSbDbh9ANCbi8DBfH0BwlLGYHtsdQByN1OP+pR1AIsUBcKnBHUCR2tAXh9kbQCtj32QC6htAw+sCBXKKG0CPDKoKgzoaQOtrcA06ZBpA0zNLTCUZGUBPqULMlcMZQLT9dnE7UhhADBR9oWW6F0CyA/AGP9AXQBGyor8goRhAzelTECKbF0BdAeVkj78WQAk0tOJ7wxZAUiOV0W5RFUC5f4ZZ2rsUQBr+BpgIZhNAHJBWnhozFECclb2cLDATQETAIgIRLRNAUSum3eeAEkCZuCuNUC4QQJT0dE5A0RBAo2vWgU2VDkCnbHlPT1gLQEFAeSZrYwhAeTHYd+DeBUCGj6UcFIYEQFamSbOt9vs/6MivsmT09D9RhXEphyjxPw==",
          "dtype": "f8"
         },
         "yaxis": "y"
        },
        {
         "hovertemplate": "Sequenz=102<br>t=%{x}<br>v(t)=%{y}<extra></extra>",
         "legendgroup": "102",
         "line": {
          "color": "#EF553B",
          "dash": "solid"
         },
         "marker": {
          "symbol": "circle"
         },
         "mode": "lines",
         "name": "102",
         "showlegend": true,
         "type": "scattergl",
         "x": {
          "bdata": "AAABAAIAAwAEAAUABgAHAAgACQAKAAsADAANAA4ADwAQABEAEgATABQAFQAWABcAGAAZABoAGwAcAB0AHgAfACAAIQAiACMAJAAlACYAJwAoACkAKgArACwALQAuAC8AMAAxADIAMwA0ADUANgA3ADgAOQA6ADsAPAA9AD4APwBAAEEAQgBDAEQARQBGAEcASABJAEoASwBMAE0ATgBPAFAAUQBSAFMAVABVAFYAVwBYAFkAWgBbAFwAXQBeAF8AYABhAGIAYwBkAGUAZgBnAGgAaQBqAGsAbABtAG4AbwBwAHEAcgBzAHQAdQB2AHcAeAB5AHoAewB8AH0AfgB/AIAAgQCCAIMAhACFAIYAhwCIAIkAigCLAA==",
          "dtype": "i2"
         },
         "xaxis": "x",
         "y": {
          "bdata": "jus1JO99GUBNsiZl5RgcQB2iLkO7PB1AZQjmd2q4HUCc+yg0b5YgQFRdgGlswyBA8e3xuw0fIkCu7Sy2bGEiQDqX/Nb6ASNAfXK65SptI0AwOkTycRgkQL3DV0sXnSRAPGcBd7IBJECY06PuS8gkQAkW6JbasSRAZKG71VofJUD7t/4Gv+8lQC4rVfkkhSVA9OE0GdqNJkCz0YqgI64mQLmC7cy1qiZA53PPn/e1JkCNtvt2KUEmQFI4UWhfQyZA0kDUkucYJ0AKhcqdEhUnQBxdSLWgriZA0l6PNLltJ0Bewcen/3smQOeOm6v/3iZAWcFK29FEJkAFXOApwqYmQImIywoSKCZA+2vmu5AHJkD68ddFmkAmQAeHOrnV7SVAF6Qn7XOtJUB3HFt/xo8kQB9hu/b+TCRAd/erRPx7JEBkVzo3+28jQKWgsb/i/yJAHHvyTmsOI0CdiJ+Ovf0hQLA+nG64+SFA4b+CyeU6IUCNPJZuA8wgQMCcMzhK8yBA/Bu5VfJFIEDSFD46fgQgQM7bAif7Zh5AdUK/PBfZH0BDPg/AaxgeQFnwmq/E7x1A8IqGlSlMHUA/UFZugO8eQFS8mcZJPB9AlhJfFxH5HUCY68+X1JwfQBAWPRNIBCBAxLjtAUanH0AMxTUduKcgQODMclrcUyBAEXaISPjCIEA0pt5jKYYgQISLO2GTIyFAvy0HmYWaIUDRDlBKyxUhQI2vGhyhYiFA5+gsBdKDIUCcTkJq+rUgQAhIXvskfSBATPNWbjavIEDuRR0iajAfQCbJXfnWyx5AslZ66V7GHkCpreHUzusdQN6TsbAUrxxAVEjFeLEEHUACuHHgWh0cQPiUXKtaqhlAZ/GeIKKdGUBVaxyRJVoaQLiSqcEI6BhAG6S65VFxGUCidm1JImMZQDUW49EIlhhAJQz1qyzWGECrvE6lvKUYQFhnPrsbTxpA90xGJRFCGkDOfo6zutAaQPN97XlVbBpAb0/qpyC8GkDzszrQoMobQPUc0DvR9BtAYWdl+B1dHEAmfXJXnkAdQDCvBOwNqB1AO8u89ECYHUBqGwbQmXUfQO+PeFncih5AGqTf3TFBH0DvUoh7QHEfQBU4w0f70x5AcseD3QYKHkCa7QrCQEgeQI5STdlN+R1A8u2p0n5wHEDRfBAi6yMcQFwg2w7CQBxAqB6GilyJG0AY080JtaUbQMZRTdUq0BlAF1yvaFKVGEB4dmasZi0ZQBeMXj7cXxhA+zILT/pAGECvlyEbC7cXQCJx8H4MrhZAPxRBpUJsFUDRhOjckeIUQKI0d5Ku7hRA2IyErS2mEkBu8Xh5PAMSQGxbo9QAmBFABUGg0xkJEUBmfPytS+EQQI7OWoGyjBBA3blaU6gcDkAdHkIjMZ0KQLsV1ZSxNApAe7HnybfyCEAsFm0SFhMEQHH52NEzzgBApn573/OP/j9V6eQBal/3P0KbBkG9i+c/XAUBJYqv1D+J1B6Kj230Pw==",
          "dtype": "f8"
         },
         "yaxis": "y"
        },
        {
         "hovertemplate": "Sequenz=103<br>t=%{x}<br>v(t)=%{y}<extra></extra>",
         "legendgroup": "103",
         "line": {
          "color": "#00cc96",
          "dash": "solid"
         },
         "marker": {
          "symbol": "circle"
         },
         "mode": "lines",
         "name": "103",
         "showlegend": true,
         "type": "scattergl",
         "x": {
          "bdata": "AAABAAIAAwAEAAUABgAHAAgACQAKAAsADAANAA4ADwAQABEAEgATABQAFQAWABcAGAAZABoAGwAcAB0AHgAfACAAIQAiACMAJAAlACYAJwAoACkAKgArACwALQAuAC8AMAAxADIAMwA0ADUANgA3ADgAOQA6ADsAPAA9AD4APwBAAEEAQgBDAEQARQBGAEcASABJAEoASwBMAE0ATgBPAFAAUQBSAFMAVABVAFYAVwBYAFkAWgBbAFwAXQBeAF8AYABhAGIAYwBkAGUAZgBnAGgAaQBqAGsAbABtAG4AbwBwAHEAcgBzAHQAdQB2AHcAeAB5AHoAewB8AH0AfgB/AIAAgQCCAIMAhACFAIYAhwCIAIkAigCLAA==",
          "dtype": "i2"
         },
         "xaxis": "x",
         "y": {
          "bdata": "p4WNbCVyE0Cv1RbgQaIWQDuxXRhA0hZAk1dKq3rrF0APnmUrCEAaQGpvjeJL3xpA3RcpawEfHEDeTRfi6l4eQB7x5f7erB1AXfLmi6P1H0DO7AIFlf8gQBDpYjVZ0SBAnMLWa5SnIUCWkZWFhZUhQB67Mfv9ZiJA8xkK/kr0IkAJHk3Ie5oiQDBDGZvvbCNAB92+meV4I0DFIh+oalEjQGGIrlkRmyNAn3j3r+2/I0BPnxrZ8qwjQOhVKhRjkyNAbePt37sxI0DR2RkWrtEiQMTDKE8hHSNAy0JC8DnDIkDAoQt5/lwiQL2gA80N8iFACSM6BOaWIkDpsOY+UsEhQP1iahlU6iBAB7uJUw6oIED4wDzKUmsgQDkwoJzAYiBAwwTVw0bIH0AuOAkwXEceQEUTJO+Sth5AwjYpjSSBHUDVV/eRSJkcQGrdSMI4oRtATwKiyARcGkBNWhImwyIZQCZcc1nxaRlA8XigJTnBFkDRUdVjw4AXQKLnfRv7KhZAT9Wr3TZDFkA8ZWGLNYQWQLJx8LNDmhZAuiCHMvI/F0BiauCMdD8XQInt5+VO9hhAXZU9iW9xGkB42r1ADkUbQOYzh9XQ2xtAh6/gWGjfHEBzVuWbSnYcQLzoQaOlrx1ATYawZAzTHkAsQDyE61kgQBgAD2rT1x9AD2kGWZhSIEAtxqb479UgQA1FRpLuNiFAVeZB5oGCIUDDU7l5IoghQCUCk3jR3CFAtpefJAQYIUAJ8UZCn7ggQBdPyHXBhyBAFC3bGjbWHkC7zeL9iHQfQAn4cC307BxA30Ysof/dG0B/Lp8hd2AZQALEDpIlGBlAOVkEXwXxF0BNOXArLqIVQKwJCFJ4dhRAhQ4XtzK7EkDE6CwsNhwTQLuVH+g4thFA70MtP6h5EUABgaIRq/gRQNGx/WMUwhFALvLvH0RuEkB4/h/XTWoRQDeE3BYqGxFAE94MrJeUEkAm6vxqz6USQKEls64+fRFALxDTsPsYE0BTkE2aS+gSQAhMJ6vuvxNAXlTT8HenE0As3xNvlMwTQImGrWNrVhNAygaqPnGUEkBcbF9rYnwSQCEBsChAfhNAZir4nO17EkDcixVXIUURQHS9OxK8sA9Av845pfVhEEA8c5LRmkEPQPhqLGaRZAxAgQBYEVzeDEB0LkFB/54IQFXjtDxINAdAt6VOqP6FB0DnY3y+LzIDQGznF0iKrQNApAO+rUJmAUDCnnHcPLr+P+4zw6pz5/s/mg5WjUZy9z843jplkSP4P0GSY8+uAfY/PP8eOZMA9T+yk9i8ofD0P+dm6hDMa/Y/8C0O/G1A6z9AmLZifcfxP/YDaSH3ju4/wv3hgCOb6D8ohI38K9XqP07qrReXxOo/GKSwqkaE5T/efR6ucUbyP7x6kGkzxuc/QBhhy6LW4T/ylqtxyNbxPxwkL/itj+M/UztuanNp3z/JlIdJQdDjP130qRqbk+0/SoYVJuO48T+cm+46H7TwPw==",
          "dtype": "f8"
         },
         "yaxis": "y"
        },
        {
         "hovertemplate": "Sequenz=104<br>t=%{x}<br>v(t)=%{y}<extra></extra>",
         "legendgroup": "104",
         "line": {
          "color": "#ab63fa",
          "dash": "solid"
         },
         "marker": {
          "symbol": "circle"
         },
         "mode": "lines",
         "name": "104",
         "showlegend": true,
         "type": "scattergl",
         "x": {
          "bdata": "AAABAAIAAwAEAAUABgAHAAgACQAKAAsADAANAA4ADwAQABEAEgATABQAFQAWABcAGAAZABoAGwAcAB0AHgAfACAAIQAiACMAJAAlACYAJwAoACkAKgArACwALQAuAC8AMAAxADIAMwA0ADUANgA3ADgAOQA6ADsAPAA9AD4APwBAAEEAQgBDAEQARQBGAEcASABJAEoASwBMAE0ATgBPAFAAUQBSAFMAVABVAFYAVwBYAFkAWgBbAFwAXQBeAF8AYABhAGIAYwBkAGUAZgBnAGgAaQBqAGsAbABtAG4AbwBwAHEAcgBzAHQAdQB2AHcAeAB5AHoAewB8AH0AfgB/AIAAgQCCAIMAhACFAIYAhwCIAIkAigCLAA==",
          "dtype": "i2"
         },
         "xaxis": "x",
         "y": {
          "bdata": "8h4/Ue48CkCGr4zYGlsSQDdR4oJSvhFAWo5gLlh4E0BYNcqbNi4UQKS78KrwHxZAWwfsicZIGEDUhF11R9MYQD5U/nWUgRpAb6nPsAyAGkAHHxxKysodQN10ZhgFCx5A7S29J5DGHkB/se3e7JkfQBO8BjLtRCBAr8ob02TYIECIWzH//bshQPqouf90QyFAbHjVwBp/IUCRseCtTS8iQLHolBBWZSJA5srr3nSdIkB/OkPgQq8iQLwg0UTAqCJAekEICq8sI0DjOKtdYIsjQPTp6PYkmiNAg5KRL7oAI0CwslampMIjQPZwVW86HCNAQLVuigzZIkBbZz+RITQjQMevnUTNViNAir5AKtPwIkArocQ08j0iQLbQQY1PPCJABwILdlDOIUBFVJvrShMhQHO9SxhVnyBAHITv6a3OH0DuqSOf+fQeQD9J+OCdOB1Awspjo28LHUA0Z8bx4usaQKMLXL1WZhpA1/hYv4/5GEDgYWZIuIEXQIpFpU8BMhdAGmvAf+E9F0BNUl2fDFEXQGcx8eiGyhRAfXQ4vzszFUA3MJtsQFIUQG7I+sqcdBRAMEzUFI6AFUCjeaVjQtgUQPeFV9kguxVAQsM3bEFRFkA+upyq5WEWQLXTb7O0yRdAGyXn22CyGEBMkSJ+arUaQFIASK0JtRtAoSZAU8z9G0A76ofsTIIdQKTHmdyi2BxAccPnKa1hHkCzCIxc+s8eQPY4lAI3sh9A4zVafcAfIEAUOSSGPnYfQCCKkVoqRiBA9rARhPAEIEBawDc6sDwfQOfMz6K48h5A20W1nYodHkBr4OOkob0cQOD4c9xdFB1AzWH2R46NG0C6NC/i/doaQMX0vAmlChtAKuEPPnj5GUAIn7muhlUZQFGb09kprxlAVwgahCtgGUAwe5WTgzAaQLDtGjbplBpAJNiCPZOXGUAdDKEz7KYaQFm6ra5PfRlAcDivc1rAGkBeVx8svQgbQFCO2kUoEBpAJ0XN2e8eGkAJW7OOFHAaQHDio+t60RpAQPiBjsaRGkCmlBbnPLQbQOrEXtoCkRlA4paebuRIGkDdOT4syxwaQA73r4EUQRhA1kLZIQPpGEBjiliQf/QXQGfmMJjmqxVAzPtQRa83FkD0w6b7gHsTQH2/u63HqBJA18N58W4sE0CYK42sRvoQQMZp763rtxFAQEBfSpqREEAGUOO70+APQKvWzDUlKwxAqaLiDO0AC0BIeiHcM5cIQIl7//pvfQRA4NPUsb2HA0C9UMeE5FIEQByC7s59AgFAcRD2d21S/z847asT0R/9Px7xGgxkG/k/PsIWM+gD+T8ojpAhE0n0PznnFMkN7PM/A9H/RtTm7D/zVB3tS0XwP8CjaRSdCuU/slLCAQR06j9wMXHQrLbhP2yB6RyjV+s/BadCGnZx7T9qfElu/qnuPwJenjM6VPA/wbXd9DhQ5j96E1WX5ibpP/hNJLVneOY/MvBdp+UE4D+c57C44IjoPw==",
          "dtype": "f8"
         },
         "yaxis": "y"
        },
        {
         "hovertemplate": "Sequenz=105<br>t=%{x}<br>v(t)=%{y}<extra></extra>",
         "legendgroup": "105",
         "line": {
          "color": "#FFA15A",
          "dash": "solid"
         },
         "marker": {
          "symbol": "circle"
         },
         "mode": "lines",
         "name": "105",
         "showlegend": true,
         "type": "scattergl",
         "x": {
          "bdata": "AAABAAIAAwAEAAUABgAHAAgACQAKAAsADAANAA4ADwAQABEAEgATABQAFQAWABcAGAAZABoAGwAcAB0AHgAfACAAIQAiACMAJAAlACYAJwAoACkAKgArACwALQAuAC8AMAAxADIAMwA0ADUANgA3ADgAOQA6ADsAPAA9AD4APwBAAEEAQgBDAEQARQBGAEcASABJAEoASwBMAE0ATgBPAFAAUQBSAFMAVABVAFYAVwBYAFkAWgBbAFwAXQBeAF8AYABhAGIAYwBkAGUAZgBnAGgAaQBqAGsAbABtAG4AbwBwAHEAcgBzAHQAdQB2AHcAeAB5AHoAewB8AH0AfgB/AIAAgQCCAIMAhACFAIYAhwCIAIkAigCLAA==",
          "dtype": "i2"
         },
         "xaxis": "x",
         "y": {
          "bdata": "NT6vaJq2/D+4fza1VEkNQCixc9h73AtAM4DBc6nLDUAa7TbzeKMPQGJoVrgQKxBAcLUI7NFiEEDHT0eSpAsRQDe6jjJ25BBADsRDSd33EECB8a3e3QsSQIjMG8kDbRNAaAc4C3rWEkBW5dPMwosUQMqYC4D1JBRAwuS/5NETFEAwg3uD5lkVQIv9JZT6NBZAY8h6UqMvFkCv776yt+0WQFCOE02hAxdAEl3g5HKKF0CYsgni4NwXQLSuYeKowRdA+bVRVn+EGECELpcQ4UEYQLxbbArJOhhAwTTcO6rqGUClIi55Gh4YQLDoHtZrvxlA24eUWtlvGkAg1WqOVnIZQGFga6/SBhlAeltCY/GZGUBMfl0ejMkZQCUEmaNgbBpAlC+j+yZtGkCM7YEg+AkaQFhqJUzRmxhAG280vtTUGUCBejzp1DoYQOi6hQAjOBhAikP2l5G7F0CtHfRojUsXQPqT0JjTuBdAhutd4hTvF0CXo5cYX5gWQHGZkeAF5xRA4PHSFxejFEBkDiqawU8VQKXPjH8ahRVAXsGJ/vktFECdj8XrKQoUQH8qFEWQxBVA5HIZLBVWFUCYaoxKVzQVQAd9/rK7jRVAGaxTKixkFUCt3AcYZnsXQAJxW/82NxZAvMrDmvThFkB2Jg+fa54YQPsanE3uKhhATp+3hqSrGUBxNu3/+iMZQGvZaA+hGxlAWN/APvpvGEB8jJk1hH4ZQMh0LDGApRlAzLMjapGAGEBawi7NtwUZQLCNlEbSohdAA221ORpyF0COCW73X0EYQJ1aCMFDmRZAwgbWrYSmFkBZhJ2erd0WQAcST0FsZhVAEmCtSFxLFkAJvycMDRkWQGfdlexqRBZAAluVvRQhFkB6daQwpxMWQEnksQIkJxZAHtGlLnOgFUDoFWoi2rUVQGHw2QsH9xZASvx3NkdHFkCgIY0+HJ4XQFSi2y8IfBdAuVEDxlVlGEDeiilWVWMaQKfjT4frkhlAgvz0SaW4G0D+cH+0DHocQK0HYJ+L9RtAlN1RAubQG0AgIL6Ft+IbQP4X9fTaDR1Ao4/zO1qnHEB/KeS3/rkdQOE5I5TgLB1A7WFAeU2kHkBghAYN7f4dQLfHJJkxjh5AvzYXfczxHEBGwY2KnbYeQJTs3NAAxx1Ac3Pzq0bMHUDC0RzglFweQHtG1/y0+h1AN4I4H+8rHkB0IZPpwl8cQAl+90CQ5RtAdmTaJo4/HEAv12aqxfEcQPuTCPKCwhxAjH+DDcpVG0CGR+WXVnobQMHOUtYDcxpAFqakK0WcGkCOxKZyMcYaQAZKz1tG3BlARlMWeqN4GUArZp1v//AYQIqhPkaUfBhAa/KfjUvIF0DhIqKkCPgVQD4fQn+fQxZACMwTze6AFUDzILj9RP4SQKl9Z8Zp4hBAhu4XAXV0D0CwtDtV8k4OQHwh4enPxQtA8rjld7FJBkDYsUDbmHgBQCheuRgMHwBAIrmByykl+z+CnHiAjdbyPw==",
          "dtype": "f8"
         },
         "yaxis": "y"
        },
        {
         "hovertemplate": "Sequenz=106<br>t=%{x}<br>v(t)=%{y}<extra></extra>",
         "legendgroup": "106",
         "line": {
          "color": "#19d3f3",
          "dash": "solid"
         },
         "marker": {
          "symbol": "circle"
         },
         "mode": "lines",
         "name": "106",
         "showlegend": true,
         "type": "scattergl",
         "x": {
          "bdata": "AAABAAIAAwAEAAUABgAHAAgACQAKAAsADAANAA4ADwAQABEAEgATABQAFQAWABcAGAAZABoAGwAcAB0AHgAfACAAIQAiACMAJAAlACYAJwAoACkAKgArACwALQAuAC8AMAAxADIAMwA0ADUANgA3ADgAOQA6ADsAPAA9AD4APwBAAEEAQgBDAEQARQBGAEcASABJAEoASwBMAE0ATgBPAFAAUQBSAFMAVABVAFYAVwBYAFkAWgBbAFwAXQBeAF8AYABhAGIAYwBkAGUAZgBnAGgAaQBqAGsAbABtAG4AbwBwAHEAcgBzAHQAdQB2AHcAeAB5AHoAewB8AH0AfgB/AIAAgQCCAIMAhACFAIYAhwCIAIkAigCLAA==",
          "dtype": "i2"
         },
         "xaxis": "x",
         "y": {
          "bdata": "IZP397+9GkDLH4SfA28bQDq1KBegGRxAoBRNNe+pG0DBup9CeXYbQJEGNVdU/RlA/Kfm51GpGkAjxaNsQlQaQFk2JZuOnBtAQ5wuDMacG0ACFethz1MbQEifBEnzYRxAnx4X7+qeG0CVXAw20agbQMC9sSIzcBtARDeHZr2uG0AQRzPk2bocQEDF6mDpZBtATIX4pX2sG0Ba9P/2aFAcQPd+Lhtm9xxAPmDyCwjvHUAj6kDjZBgdQCCkZ7ovlBxA21/BRsz8HUB/Qb/jVmoeQGq72KHKbx5AZ4XxiuJjHUBoPHX3NQMeQJTqboKJxB5Aqv0ltFwWHkCrmtYJiwIfQGnb7ykMGR1AwAjbVhcBHUAoqoJkq9gcQKLb32b8JB1APMIYtMUZHEAZ1iGnA6scQJg7cNCznxtARWvCXqaXHECoU0s7BcEbQOLessx1hxpAv1+ud+FdGUAWIJbiJhoaQMfRiBnpJhlA+0fvxBrhF0CxBrpSGOsYQCSzNOtwQhhAFCc9qdM3F0ARVZiy5IoVQMe/hTGV/xVAVCG87ZFaFkAM5dKj/KsVQEFUgEDUgRdAbu7hjdJdF0AADrBruhoYQHTtkF7Z8RZA+kiIBvXNF0B0i58rGCYZQD3nhO7glxpAwBuM0+ItGkAOVvIOGU4bQCxdpNNjphtAqpI5qE+JHECxCiHx8d0dQF4mXE71iR1ASJSip2kqHUCi9FVZLqMdQDVtG4cHxB5At0lBvc23HkDc+DMHTVgeQH2Y7z+mhh5Azp90+wCKHEDmFl6lTfAcQObB7Uw2zhxAbPz9vFMgG0CVWj3mh+cbQG6dCRhy7xtA1QzpjYsXG0BHGmig3wsbQH8EsPDaphpA8COH+3qIGkAEc67VdS4bQJS64kjDHxtAJYdIDRwYG0Cf8jOc3yYcQCVGICp6wRpAoOe7HzC7G0B+X61oM2UcQLHLmySLnh1AAsGYP5FjHkBPC60XtZUeQCKs28mlOh9AkIbALxeuHkAO/6uuLvYfQDrPvyrUNyBAUDrVYrdnIEC1su9+3nYhQFF6Sk7H9yFAoml5Ze1aIUDWUPVjVa0hQKPB4Hm7lSJAL1WFFf9zIkBwxMhgQekiQC6bwjXvqyJAeuST52FtIkDClK3WzFMiQFQLGPZG7yJAh9bEgjHiIkC8iAAIg/0iQCwc+ii2fyJAzawULbTgIUCBTc2nAMYhQIT/GxX+VCJAYOnqlvt+IUBD25C0sTAhQH7vQtNybSFAE7/e/gMhIUB3dzn9EWsgQD+6WwI/rSBAlySvFL0PIEA7oBq4uHYfQLMhiIS4AyBALz86h3X1HUB2RxrD2+odQPPEpX3QcxxAyfdvOU/FG0Cc2VEfdCocQGjoaKvVyRpAhhepvw53GkDUBfCB5U4ZQKM29i6bphdAreKZpJVGF0BOXveQEPsUQO2p++zoxxNAOH/ZuUygEkC2Y3UMcU8RQK6FBUjmnxFAC0EdesIWDkCRhWU+GXoMQA==",
          "dtype": "f8"
         },
         "yaxis": "y"
        },
        {
         "hovertemplate": "Sequenz=107<br>t=%{x}<br>v(t)=%{y}<extra></extra>",
         "legendgroup": "107",
         "line": {
          "color": "#FF6692",
          "dash": "solid"
         },
         "marker": {
          "symbol": "circle"
         },
         "mode": "lines",
         "name": "107",
         "showlegend": true,
         "type": "scattergl",
         "x": {
          "bdata": "AAABAAIAAwAEAAUABgAHAAgACQAKAAsADAANAA4ADwAQABEAEgATABQAFQAWABcAGAAZABoAGwAcAB0AHgAfACAAIQAiACMAJAAlACYAJwAoACkAKgArACwALQAuAC8AMAAxADIAMwA0ADUANgA3ADgAOQA6ADsAPAA9AD4APwBAAEEAQgBDAEQARQBGAEcASABJAEoASwBMAE0ATgBPAFAAUQBSAFMAVABVAFYAVwBYAFkAWgBbAFwAXQBeAF8AYABhAGIAYwBkAGUAZgBnAGgAaQBqAGsAbABtAG4AbwBwAHEAcgBzAHQAdQB2AHcAeAB5AHoAewB8AH0AfgB/AIAAgQCCAIMAhACFAIYAhwCIAIkAigCLAA==",
          "dtype": "i2"
         },
         "xaxis": "x",
         "y": {
          "bdata": "qt28f3+aHkBVw3iJArkfQBHb+FGJ9x9A5ulyYB9DH0DwpzbiAB0gQMPOrrpnvh9AemeF4Y4VIEABT3YJG1cfQB6KTE0ZVh9AxbWLu7QqIEAHkfkGHy8gQP6RP3URmB9A2a0FsioBIEBKz87jsCggQK/uSBrCMR9ATHUO7bzrH0Dq7qtcqS0gQHh5BUsCGh9A33U3+5pGIEDyDIW2bkUgQGavUqFXfh5ADiHW2t24H0CRRC0ow5weQDHe74KB7h5AT99NdS/uHkAkHE3DudUeQMxVStt5Dh5ADPHSysJUHkCjXTHiHLEcQO1q4HkOSB5AFxHR1xbZHEBYRD4b6uscQLi87iJnyBtAlw15WkukGkADkEljXxYaQJQv0G1e8BpAFHzLx+MaGkAewUZxhLwYQM7z5zfy+BhAGSpeShykFkAbiiSYv5oWQOiAToRq6hVA3ucrvW+aFUA21+6ROo8UQIGXumo78RJAA541gMaJEUA/afPT0DYRQISi7XRiKhJAkMvVlxnGEEADYDilYVAPQCPYNoGO2A5A/Z9/+7DlD0CKiZMsuQkOQF3Xlce3lRBApzcxfX0AEUDeLztDbTIQQPmElUkQABJAxJQ3ao6PEUBlZWqv3WoTQNhBz7LXTRRA0C1VZ0AUFECg45k6M0YUQCa9Hcd1kxVAMiSuh2mXFkD2L3jV1hAWQOVf4OTuRhhA/myHawoFF0B35bMgsrsYQOwLHA5NnBdAJlhkTI27GEACzw542hAYQIcVeVui8BdAD8KcOfKiF0AWaj1P6iMYQJ0ZNu1unBhAEoocjy/TF0AIGxh0YJwYQOMuRyNeKhlAqMs/qhqPGEAT8o3ZG1cYQGm1XpaIEhlAENfEJrcoGUAqcD3KrE8aQBi6Stg53hpAXsFt92JuGkBp7p8AeugaQJAeuH8h1htA/9bVFwt2HEBkEMdGVfUbQEE3Wf89wR1AZtUIIZnZHEBzoWdqTwsfQHopK5NQHB5AinXgA37bHkBqEdNBhMcfQNSpf5b/UiBA6B/ey1xVIEA2OnZOeLUgQFhWvbAfEyFAeEShxXeaIUB9PJGSi4chQMky1e/p9SFASph5jBpFIkBXNNrLlushQDXb3xcIpSFADvp9mN51IkBYhdutcqwiQAM67esGeiJAjaLUsUu+IkA116GpgdYhQJyIzTdJcCJAYyin6rUHIkAWmqK+EB8iQD/JHjfcBiJAE5QaSedEIkCvEs+oO6ghQHe2W3VRHyFASZESFyDTIUD4YWz/2tEhQN0bsaoVlCFAlElsodxpIUCxaEdqG4ggQPNnikgviSBAFxWtvGRAIECXiJY5n2MgQBgPgFFbdCBAUTEVDeX8HkDcWO8tPfMeQPdQZfZDyx9A925SfmmDH0DzwIoJ/SYeQObuVW59tR1ARUjFpniiHUAR2RXFJQcdQLbAueN1sxxA6DomYU2nG0DrT6eNz9QZQC5+FRocXRpAi69zmWyIGUAbk6+XnV0ZQA==",
          "dtype": "f8"
         },
         "yaxis": "y"
        },
        {
         "hovertemplate": "Sequenz=108<br>t=%{x}<br>v(t)=%{y}<extra></extra>",
         "legendgroup": "108",
         "line": {
          "color": "#B6E880",
          "dash": "solid"
         },
         "marker": {
          "symbol": "circle"
         },
         "mode": "lines",
         "name": "108",
         "showlegend": true,
         "type": "scattergl",
         "x": {
          "bdata": "AAABAAIAAwAEAAUABgAHAAgACQAKAAsADAANAA4ADwAQABEAEgATABQAFQAWABcAGAAZABoAGwAcAB0AHgAfACAAIQAiACMAJAAlACYAJwAoACkAKgArACwALQAuAC8AMAAxADIAMwA0ADUANgA3ADgAOQA6ADsAPAA9AD4APwBAAEEAQgBDAEQARQBGAEcASABJAEoASwBMAE0ATgBPAFAAUQBSAFMAVABVAFYAVwBYAFkAWgBbAFwAXQBeAF8AYABhAGIAYwBkAGUAZgBnAGgAaQBqAGsAbABtAG4AbwBwAHEAcgBzAHQAdQB2AHcAeAB5AHoAewB8AH0AfgB/AIAAgQCCAIMAhACFAIYAhwCIAIkAigCLAA==",
          "dtype": "i2"
         },
         "xaxis": "x",
         "y": {
          "bdata": "SHK0yNoLIUCtH8pee1QhQEYplFUU8iBA0XkEvnEqIUCm+7ibsA8hQN9fPa7vbSBABR4eGd7NIEBGohlnJkQgQMMbClAFbSBAvpYRhsIXIECoqfQR4dIfQNQYNrv0WB5A43liZwBiH0BW/uqd8Q0dQIxwHWuwaRxADSYBHZOaG0BFuOJwUcobQN4iCL61ORpAU1UNpkFkGUAbGNzOQDAZQHf2e2krVhlAXPFaswouGEATH4VmgyAZQN76BbceRRhAW1LT5+DeFkD0Xq4lSV8WQAFhCzMDXhdAII3HzbTJFUD/uPNa7XAVQKAbvwKb9hRAgj7+CvCaFUDvuNGDw5kUQLANUVvrNhRAlS1Vys8uFEBYvg58O/kSQKkno2WwhxJAp3tJvHxKFEChVByNYdsRQD90/+dEOxJAAjIzmeONEECHFX1yqqIRQMdRRmC+Tw9Af6rq/GYsD0AyUs5farUQQJHEiFbChg1ARY/f84u3DkBicHOHEzoMQKs/P0/O6A1AXq9EN8fVDEB7XQelwIENQEj7YridpA5AWeyzAvJ7D0B0G+br0mgOQC23g7EqpA9AZhwdYVJZEEDTheOcunkSQBqLY83EQxNAyiRoNDnTE0DyCEZaWZkWQCP+SffkVBdA0Ovi0iuBFkCFk413MO8YQByy40a0aBlADs/BkVapGkCwafe/r1EaQA8Pv0Wi+hpA8xuPBkcQG0A0LdqnVBQdQBZ3HW8L+RxA8lX1oWmvHECEzDQ2/h8dQPI1oykdxxxACS1SGdbvG0B7BABMH1UcQPIyei/hyxpAS/eyh4hoGkDym83GNicaQJgthA0gqxlANeR7iVrdGkAGQnSZXyEZQN5uH1RKeRpAy2mn+Le1GkC42aprml4ZQNISqXuxUBtAkRvsdHKRG0BLk19xCscbQH6BezAxQxxA5fw8xkXnG0DK6CdoQ1IeQIaIePXIwh1AJENMz//QHkBzYbf+jRkgQLEzXnaQmSBAukGqQDXZIEAbf2wUJyUhQNlr0DB3viFAwkq/XG5PIkCg4L5yJRsiQEzcJMJDPiJA4GBMB+eGI0CZZEdSSeEiQOFqGg0B+CNAAX6sdCGaI0C2QZvJHO0jQE7SGdDXqiRAPLRw882IJEChf0iTzfkkQKc2ANk3LSVAFiFj6bEmJUB9S8Q85CElQHRJeFn+dyRAfa1PaGHLJECysCNhCzUkQJ/Vq7vI5SRAsCuiOUSTJECCx1Wv5bUjQHWwV4rcpSNAooxBbRm7I0CpIQuOk08jQIvAQBr00iJAqXkroNIGI0BfafZF+XMiQDDxoIsGoiFAkxo/W5Q5IUCOxRdVGQIhQJ3gM9AuViBAMbfh1lVrIEDhCS22nZEfQIwsTCzMNx5ANB2ROWYmHkC1IvEhRQAcQHu5vuv/0RtAEwKJ4V8TGUDIkd/jAJwXQGRnUxn6exZA15w63Sw6FUCm76+y6OoSQIdRurzr5RBAu2PEkTK0D0DVs8y0y2MJQA==",
          "dtype": "f8"
         },
         "yaxis": "y"
        },
        {
         "hovertemplate": "Sequenz=109<br>t=%{x}<br>v(t)=%{y}<extra></extra>",
         "legendgroup": "109",
         "line": {
          "color": "#FF97FF",
          "dash": "solid"
         },
         "marker": {
          "symbol": "circle"
         },
         "mode": "lines",
         "name": "109",
         "showlegend": true,
         "type": "scattergl",
         "x": {
          "bdata": "AAABAAIAAwAEAAUABgAHAAgACQAKAAsADAANAA4ADwAQABEAEgATABQAFQAWABcAGAAZABoAGwAcAB0AHgAfACAAIQAiACMAJAAlACYAJwAoACkAKgArACwALQAuAC8AMAAxADIAMwA0ADUANgA3ADgAOQA6ADsAPAA9AD4APwBAAEEAQgBDAEQARQBGAEcASABJAEoASwBMAE0ATgBPAFAAUQBSAFMAVABVAFYAVwBYAFkAWgBbAFwAXQBeAF8AYABhAGIAYwBkAGUAZgBnAGgAaQBqAGsAbABtAG4AbwBwAHEAcgBzAHQAdQB2AHcAeAB5AHoAewB8AH0AfgB/AIAAgQCCAIMAhACFAIYAhwCIAIkAigCLAA==",
          "dtype": "i2"
         },
         "xaxis": "x",
         "y": {
          "bdata": "vYxbjBk6JEBrzXFzn5UjQFURYVMHPCNAxKLvyMCKI0Catri/afEiQAYIKSvZGSNAFGa1qXB7I0CTzirqLGEjQB4nBzFXDiNAY+x8QtxBI0D2KNcEyIoiQKIiblcY8iJArd6RoVlfI0CRG6EGln8iQONSqhNv8CJATdTKGDtNIkA5G1lulVkiQKlxHDB5WSJAB15P9J8JI0DfP1+deJciQIWWud8veCJAMCczp8V8IkC5pFS/E7QhQHkI4A6kGCJABm1FpzOUIUApKkWSbLkhQJJTlnnqJyFA9ESbnT9eIUBftepZXCshQEKf0IX1HCFA+JQiv97DIEB817ELQgQgQIehWrNTGSBA2XhJHbW6IECu/0rv1oAgQDRWveWYDR9AIMaTKIpYHkDvsV6g8WEeQHw+KBEzUB1ADpcMF/hrHUCKUQpr5KUbQAC8DkH+ABtAel2o20VwGkAeQHierToaQHUINu1bqhhAp9nhVDDSGEDv6qIk19QXQMY3QhCs6hZAQRA6PPR7F0Ch79XS+8EWQHYsWy62FRdAHEGf7NCdFUBl0/wWfS0VQEp7SUPozhVALqQu+YWXFUD3LP1p8GAVQMm9s1OCAxVA7/8nGDWuFEDOYJLv8AYUQF4thNN2+RRAEpXgDekyFUDSOxzVveQUQK2aTY/9MxVAn0iTkvwkFkAO/YypHxAWQAiHISxbwBZAaDA907s9FkBC6ZWmc5YWQO8TuAuDoRdAZIDVUHBMFkBhGIu7qxgXQPJEa2xKNxdAh7JSnQ6qFUDAEEollJoVQLLDfLMxJBRAVBKlMhZWFEDZDVWRwtwTQAW6sas1ZhNAOK2LObFwE0CNCIbAzoUUQJlQtLyaaBNAUUNjYmTXE0Cb0dIUyqsUQFRmEZEBohRAJA7vbQjyFECn8Gvzp30UQKBw9n7DORVAePQzd819FkCIXf2zIz8XQEpvJVyR/hZAeG6oa0xPF0CFWoQ+/fEYQJ3a9HYy4RhAdxkILMafGUDCuYQZWn4bQI8LFGG7QxxAe4lnevqPHEC6/32VLOQbQE7VDyByvxxAl8caX0oTHkByXkuAargdQPrvgShXbB5AI68XmcLfH0DQ+E3Gq2UfQJ4rwpIEESBAzGaFDqJGH0AV9pBJnb0fQN38aEhSLB5AmtPnFNy0H0AsPr4msM8dQJMJJOdT6h5AZueh4zQRHkBgJ44QAXYcQBy+PcKhiBxA9SOTyNLpG0DVu0VFUzcbQLv9guEIlxlAbiRRM09FGkD7fZmDQzIaQBCqLU64SBlANfE9jNvfGEBLj8SuyU8YQFMlefeARxdAOpvuNg9PFkD9n0fvVCEVQHPRmvXDrRVAAMXvjee7EkBFefXZlgsSQEFEeqtIyxBAWUgSw6uoEED9OWd8QW8MQBkwYVGWYwtAjdGaI0gAC0CaK+Qv6CMJQNV/aKjIOgNAgpdx3F+HAkCc4yi2XHz+PwrHSI1uDPo/eWe2H9dq/T+DWcVGfa32Pw==",
          "dtype": "f8"
         },
         "yaxis": "y"
        },
        {
         "hovertemplate": "Sequenz=110<br>t=%{x}<br>v(t)=%{y}<extra></extra>",
         "legendgroup": "110",
         "line": {
          "color": "#FECB52",
          "dash": "solid"
         },
         "marker": {
          "symbol": "circle"
         },
         "mode": "lines",
         "name": "110",
         "showlegend": true,
         "type": "scattergl",
         "x": {
          "bdata": "AAABAAIAAwAEAAUABgAHAAgACQAKAAsADAANAA4ADwAQABEAEgATABQAFQAWABcAGAAZABoAGwAcAB0AHgAfACAAIQAiACMAJAAlACYAJwAoACkAKgArACwALQAuAC8AMAAxADIAMwA0ADUANgA3ADgAOQA6ADsAPAA9AD4APwBAAEEAQgBDAEQARQBGAEcASABJAEoASwBMAE0ATgBPAFAAUQBSAFMAVABVAFYAVwBYAFkAWgBbAFwAXQBeAF8AYABhAGIAYwBkAGUAZgBnAGgAaQBqAGsAbABtAG4AbwBwAHEAcgBzAHQAdQB2AHcAeAB5AHoAewB8AH0AfgB/AIAAgQCCAIMAhACFAIYAhwCIAIkAigCLAA==",
          "dtype": "i2"
         },
         "xaxis": "x",
         "y": {
          "bdata": "ywmmtpwDJUAAeGIdu1MjQLb+sCDdKiNAui7JmC8+I0CzRQEnwRMkQJxmVJoNkSNA6G+55GUwJEAvjC9LF0ckQLxKgU06VSRATIwhbTw2JEDkzgHyCgYkQA6pT7vnGiRAQr3iqQD2JECrwMAPoaYkQF68AHOJxCRAfHbTw3ptJEB0tKPBsdgkQNSnx7Ww7SRAv5bZTB+YJECv9DiwpBQlQH2QZKX9IyVAknhBf5HKJEAsw7+tf/IkQJbie6Y6JiRAVylMigZRJEDYUZTZIXMkQJMluVYE9iNANszUpYvqI0CkjS6AxpkjQOUFxmlNDCNAkoWjFwHdIkCzb/KUE2QiQKm14jJcvyFA+wrrHUh7IUD9YB/avfggQJSfhuO1dyBAxEjpAMtmHkDEWmv+F5kdQEmxRdefGhxApli6B1mMG0DSxdMXzKkYQOtYmvE7sRhAlL6xUKHyFkBkH31jkSUUQEn2tqh8zRNAllQ1RsV+EkCA9Z8ex6URQPW1GXMKdRFA68RwxpuAEED/MJFQnDcPQB0o0Xt5UxBAgt3SdMklEEBCmX1RvvcPQMvR26SecA1A2b/8sLD/DkAydWCWu10PQHaiLRCZjhJAIXBaSz7lEkAU86WJS7UUQKYoSXWGOhZAN+eqWVScFkBkaEsztIoXQE6sxoMi+hhAmxvjbuolGkD+U68xeHQbQMh7OYK6tx1Agt9fNUamHkBID2f7XC8fQOwUFFRp1x9Av6cr31MCIEAl74+06mQfQLsLMOQphB5AwLfdfyYJIEAOjwTGm0IeQISj5vf9kh5A+qGR6OGpHkAz0IrjxI0dQITyDBUfgB1Alwpmt80EHUDcbo8O+sobQHjRYwq5CR1APfGREKcyG0CEgD6f+tgbQDFdLckyTxxA3E3UZe0yHEDbrR8tyHEbQNEmA1reGxtAvsG9ucu3G0C8xKpOinIbQO2UuJXbPR1A73WaTx+1HUAFlaPY0ZQdQM6wrgGXKB5AAL826S8/HkC5/y1BfqQeQLN90XTV+B1APE4WpGb1H0BDY/873mUgQGIPgXKBjh9Aox0JYeWjIECrktEWri0hQFSGsTxAiCBA+tz0qAIOIUBitg659l4hQOErwAYJkSFAdWgDaiDqIUCET09K778hQErTPt0wGyJA1xb1v6XuIUCQg0B7bGAhQK8HNFwqwCFAhBYKBYgsIUD7mC/5PyYhQAx3FI9BsyBAAGvZK3/xIEAYAT2Uu+sgQArSLe2psx9AzZGQYgHKH0D8cEQXEVUeQGEIPM5Xhh5AeA4Os+0dHkB+V6pJ08McQO0wL7/bhRxAohs6hJZnGkCHIkuGPuoaQDvcx5ILJRhAAqZxvToiGEBAvs5GsyMWQK0EmQs7TBZAiWlbEndKE0AFT/LM4jsSQKwvkrl0sxFAKrYF93MPEEBNEL0ZrXQPQIxSL94rSg1AbATs4borB0C08OwK9W8FQKnsXzdb8P8/Qag4+QBC+D+lRICbdRn4Pw==",
          "dtype": "f8"
         },
         "yaxis": "y"
        },
        {
         "hovertemplate": "Sequenz=111<br>t=%{x}<br>v(t)=%{y}<extra></extra>",
         "legendgroup": "111",
         "line": {
          "color": "#636efa",
          "dash": "solid"
         },
         "marker": {
          "symbol": "circle"
         },
         "mode": "lines",
         "name": "111",
         "showlegend": true,
         "type": "scattergl",
         "x": {
          "bdata": "AAABAAIAAwAEAAUABgAHAAgACQAKAAsADAANAA4ADwAQABEAEgATABQAFQAWABcAGAAZABoAGwAcAB0AHgAfACAAIQAiACMAJAAlACYAJwAoACkAKgArACwALQAuAC8AMAAxADIAMwA0ADUANgA3ADgAOQA6ADsAPAA9AD4APwBAAEEAQgBDAEQARQBGAEcASABJAEoASwBMAE0ATgBPAFAAUQBSAFMAVABVAFYAVwBYAFkAWgBbAFwAXQBeAF8AYABhAGIAYwBkAGUAZgBnAGgAaQBqAGsAbABtAG4AbwBwAHEAcgBzAHQAdQB2AHcAeAB5AHoAewB8AH0AfgB/AIAAgQCCAIMAhACFAIYAhwCIAIkAigCLAA==",
          "dtype": "i2"
         },
         "xaxis": "x",
         "y": {
          "bdata": "tak6zLUlI0Du+tcGZ2wiQArXRsaY/iFA/MD7QGczI0AQf3+DwTUjQAxwAho8viNAtdxFZoxNJEDmR/yQcQolQLvqLHKS1yRAY8iGa0o+JUDIHefRhrUlQIbJo2eQ9CVAiEKu1Rw7JkDX67gqSdsmQKhEHA+CLSdA92ic5xwvJ0D6RPgsmMAmQITqsdP6XydAtBoeTyseJ0Dzc4gB8n0nQF2AZvJ9RihAzhwtGr0OKEBr+eH33o8oQHzRpYk3xyhAJagY6IvKKEBmZk+aySgoQFf9eSV6BChAwdtOfvysKEA8lg1CC+0nQMXrxacndShAh+6jfGnTJ0DwdO0WBl0nQDiyFqHorSdAO+xHIVtEJ0Bh1qMsnE0mQLm9zQDzJyZA0PzQVB4lJkBQpctK8SclQFns25BsDSVAzQqKCTvyI0CyS3JLIeAjQEJsehEvUiJAZZpy/VFLIUD12ehNeEohQGES5M+QUiBAV6sapZY2H0BgRFwQhOUcQBCoABB0/BpAQIcOqC7nGUAb28IfLOQYQCECrHTDbRlAhNmBx3K8GUBRFu7nm7QZQM4hUw52AxlAXcjXqYkIGUB31aVSGaYYQDiLXmKemRpA+7D62rz2G0Bwr9knx3ocQAA5WHFxhB5AIJO3b/ylH0C3ITO2TewgQPZu9lW3MSFARh4jqjeFIkCefM9QDa8iQEIbvfYDliNAJf63dud0JECEgDyx5dckQHcv+NskMyVAnXs/otf4JEDMkbzvf24lQBbq+8QYQiVAiRKPn+UMJUBNJwLAGeIkQEe5b1jaJCVAwF9TScpVJUCKuKvaPhglQNIBMcfOBSRAM/AJQrFVJEB+fBeuGDMkQKemGzgAjiNAPad4V+X5I0CDNQXN+akjQKOv4ta6CyRAgtpeD1CNI0B4O6N6+5QjQLRAaUDCWCNAF3TKccwkJEBEmjRs72YkQGdahU3qESRArplT9KIlJUAb9Ujke5IkQMa7pcZZOiVArW4tmaVzJUDPrAYGDqIlQPxdT6NZXyZAdaO8phXiJkDg1xIJ+SUnQLjk4MsXPCdASGlPpOJ3J0BGU3vDGN4nQFPVgbav3ShA3EbV50RaKEDGVg9U5M4oQMPYxA2piSlAhGWfRfCaKUAySsSd0VIpQGqMMm4XyClAdtuylEhgKUDdoZ+i8gMqQIlx1AWisylAMKM2evbdKUDnnpOgmDMpQMQ5VMkGjilAntfT9VGTKUBUoZhFpEMpQGnly3FieChA3CgV2LUCKUB8u+0LQPsoQNnCxEEW7ChANz+GU2l3KECIKIWcE0QoQOOhG6tKTSdA6p8sl6lcJ0A2Q14HF5onQKH2Ag6jUidA3g98OqeoJkAzBk0TqE0mQJzeZNLdkSVA/yVwxnW+JUADypxsZYMkQHXTN/0CRSRAkPWkZ1joI0BQ4pGRvjUjQLxeMdDJXyNA0U60QHiKIkCgAi9biZchQLsh0fPVTSFA+IClHh3gH0DKV8e1dJ4cQA==",
          "dtype": "f8"
         },
         "yaxis": "y"
        },
        {
         "hovertemplate": "Sequenz=112<br>t=%{x}<br>v(t)=%{y}<extra></extra>",
         "legendgroup": "112",
         "line": {
          "color": "#EF553B",
          "dash": "solid"
         },
         "marker": {
          "symbol": "circle"
         },
         "mode": "lines",
         "name": "112",
         "showlegend": true,
         "type": "scattergl",
         "x": {
          "bdata": "AAABAAIAAwAEAAUABgAHAAgACQAKAAsADAANAA4ADwAQABEAEgATABQAFQAWABcAGAAZABoAGwAcAB0AHgAfACAAIQAiACMAJAAlACYAJwAoACkAKgArACwALQAuAC8AMAAxADIAMwA0ADUANgA3ADgAOQA6ADsAPAA9AD4APwBAAEEAQgBDAEQARQBGAEcASABJAEoASwBMAE0ATgBPAFAAUQBSAFMAVABVAFYAVwBYAFkAWgBbAFwAXQBeAF8AYABhAGIAYwBkAGUAZgBnAGgAaQBqAGsAbABtAG4AbwBwAHEAcgBzAHQAdQB2AHcAeAB5AHoAewB8AH0AfgB/AIAAgQCCAIMAhACFAIYAhwCIAIkAigCLAA==",
          "dtype": "i2"
         },
         "xaxis": "x",
         "y": {
          "bdata": "VNR90ggVIkCYJ00vZkIhQAOFu2nHxyFA3mEygde3IUBiVyq5TRUiQHCI3MIcmSFAeCVnVSbbIUBVfO3qCn8hQPwLlkqnRyJATN7H6lCXIUAlVpL9duchQEirQbgLtyFA9q2lgqnEIUByFxj1uSgiQHyKSC2o5SFAATlN91n+IUALnMe7wOghQEETn0vtdiFA/VjmhFFvIUA1MWqWSJshQM7OxBfeGyFAdrKC4jrSIEB84UfmTpcgQKI9pbL3aB9ADS+w3oZnH0DHqKRt2UYeQJfl82a4vRxA5Q5GMBuKHUBjpUVfZgsbQHAa6WpwAxpAprz/P1bUGUBMA/YmLuIYQNw7Kc+InhhArF8wiry2FkCWUnsLhVIVQKd9gSNDQBNA0LdYaC0PEkBEe7PR/kQRQEdMuXQMXg1AUTZx/1e8DUA1ikD+560KQEwRm8vAxgZAKVz7CC1KAkDam1srFBEAQNr6dxreNP8/Kh3SoTVm8D92ymUYUGvxP42/uScOufg/NkKqOq1k9j+jbHMlcrv2P2DwYwGljuc/30FZmDO89D+ps0UYaxH9P2Fw6Qj1KABAP7CQ4qA2AUA4CTAH0EsBQCrhVVE82gBAihRT2PQSBEDupBiB6fYDQMXAfKGNOQZAOVVCgPIjC0Aulzjir4EMQKGjn3Y1Sw1AIpUasr/sEEAQldCy/3gQQOQcOr4ewRFAfUYdOTffEkAtwxGN3oITQHMJU2//MhJAHOLPE/vAEkDuz5x8dC8UQLE9xs0njRNAVaWONCLmE0ASB01gcsMSQIsid8EF/BJAP726GT7WEkC+TcIYzfwRQKzakOLrIBFAC7XvNZrNEUDOpwKGMBwTQHkdVgehJBNAMCgAEoZhE0D61zIVAV4TQK/3E7NO5hRAkPyTcTdnFkBq9P4RUYEWQAkfcnevFRdAA4X0UcYaGECk+ogUPR0aQGSi0QBN/BpAxPIdsb8RG0BXoSjVjUAcQEMs5FIQ6BxA/DGfJlydHkDEB6KTnEcfQGgLdl2GKiBA7AGPdYBXIEAEGB4PDTYhQG6OyTN8ZyFARgwgLacvIUAp6TAa5/YhQIakwPa00yFAHfrB7kvtIUC1bieKUz0iQIXK/m5PYiJAwnu7UovqIUCvEasyiWUiQPzGFq0V2SFAR8jiD1S/IUCijua7+gchQAKKrnma+CBA1SlWDk/VIEAqGsNUH1MfQFv1V/T1bx5A3+B0JcmVHkBKMEpoqJ8dQCQltQqD4B1AlD4XaWDSG0BH10gCAKIbQD/zkdHdYRxAFysJzk9FG0BurPwZVxYZQF3HI+F5zBhAyAdwBFGUGEAPhtJiWusWQFVIOm5CTRVAw1pjOX6qFUDLblKDtmEUQHVzLiYk/BFAJeXKOFp7EEBPvQCaXpUQQFpX0D8LGQ1ADXAOv8SsCEAVolQbCWkHQNKBF5paAwZAiZp3oHTeA0Bb5dzpWzUDQPQfNt5Ah/8/2MHR47IE+j+2icH3evX0Pw==",
          "dtype": "f8"
         },
         "yaxis": "y"
        },
        {
         "hovertemplate": "Sequenz=113<br>t=%{x}<br>v(t)=%{y}<extra></extra>",
         "legendgroup": "113",
         "line": {
          "color": "#00cc96",
          "dash": "solid"
         },
         "marker": {
          "symbol": "circle"
         },
         "mode": "lines",
         "name": "113",
         "showlegend": true,
         "type": "scattergl",
         "x": {
          "bdata": "AAABAAIAAwAEAAUABgAHAAgACQAKAAsADAANAA4ADwAQABEAEgATABQAFQAWABcAGAAZABoAGwAcAB0AHgAfACAAIQAiACMAJAAlACYAJwAoACkAKgArACwALQAuAC8AMAAxADIAMwA0ADUANgA3ADgAOQA6ADsAPAA9AD4APwBAAEEAQgBDAEQARQBGAEcASABJAEoASwBMAE0ATgBPAFAAUQBSAFMAVABVAFYAVwBYAFkAWgBbAFwAXQBeAF8AYABhAGIAYwBkAGUAZgBnAGgAaQBqAGsAbABtAG4AbwBwAHEAcgBzAHQAdQB2AHcAeAB5AHoAewB8AH0AfgB/AIAAgQCCAIMAhACFAIYAhwCIAIkAigCLAA==",
          "dtype": "i2"
         },
         "xaxis": "x",
         "y": {
          "bdata": "HLq+HkbvHUDlzx4KG8QeQG8JomBvlRxA02BaGaoTHUDCKAMb2MMdQEQKvyRHlh1AzwBmGYryG0DePn9zZrocQO9y78DmkxxAkVugh5cQHEDyu1STXBAcQOL5j023vBpA2ZcY6W3IGkBGoxckmfgaQKYtTpA6YhpAFwGzTCSfGkAnQsPEQDEbQDFL1ZHR6BpAAjh+OqetGkBSLrg3paYaQNEJ5ok2wBlAw6/O0n+cGkB4YQHpAZsaQNNc+tkTpRpATIBSz7fmGEBCpF/YLhIZQAsHZKQMYhlAdJOTlqIdGkC6p2hA7nMZQHY2jqmQMBlAj/wLF8UhGkDw7UQzdIoZQPalAh9OTBlATOIM5ijsGUAP5wdumbIYQBNb3cSAQxhA+ugUN2FEGEBq8T9Q9icZQKOfIs+3SxhAApgf8aN/F0CJINGQZ+QWQCdbtwwUdhZAXscV4MEHFkAtosKtDUoXQCyoVPJRFRZAsdS0FfPWFUAuypmeflEUQJSulBS+cxVAfZ2S6hV2FEB/qGuRNqcTQK3xF6ZbCBVAis4ajnV0FEAhmWKHSiMUQEGqepkfxRNA+DFTHoEJFEBXarpdZCcWQMgRLFX5rxVAyMZr9zKRFUCBrPUncpUWQCJU8ojOjRVAInvsPTS5FkCWcWw7lqMWQItyiqRn6hdA3j1q4anZGEAOf0924s0XQCilq3ZkQRlAppdqMixWGUCkRXvQ/z8ZQChN5b+GSBhAgrrmUpRsF0AqhaLiLtUYQMczWEEukRdAF+/Mqq0DF0BNL97fp6QWQFBuTgDUHRZAZPeHRSpQF0BJFNoUW4QWQD+pyaDJqhVAnxaBc1YsFEAAomT/MEIUQLx0rZjiORRAd2ClmsWuFUB4DNja7gYVQC/zS2m6axVA+MpjpilpFkB5nzIYj8UWQBk/3gxlPxZAbVV7ZiVFFkB3UoMGt6oXQI6ezj/lSxhAoeH/AkefGEC5hgSPQ+IZQDVkJ7XjfhlAR9bDWPBdGkBKYwe7bDQbQAMDzLaCFxtA5Q2aVfbpHEC6y+m3mCEcQG0lFLR3Ph1Az+1KkDM+HkCawvMKcqkdQBZvQTLctR1A5gYy0csuHkBkB4xhIQgeQEY58IvnPB1ANv/pYhS4HUAsX1TxBhseQLUQG5AW7RxAdKcuSikNHkA4rRk/U+wdQPyU7Y/rHhxAwoNYJ1rMHUB5as0FkUIcQKCSPMaGMB1A36ukqWjhHEB4/2X2WtIcQB9VEPCiyBpAbtqc8yfWG0CyyoFx6lYbQHKfyr+43BtAoIUI4v+9GkBE9/cBDc8ZQAPt/INCfBlAna2YtjSZGUB3VqjAdCEYQJ5cuQxowRhAn6kKogIeGEBVQ9m5jGMYQJEMQ0x2/xZA+r/fL4ooF0DmT+Uy5EsVQIE6WV3hCRVAzCYsWu5YFEAm1EHblMoSQJtfKN7C+RFAoNxCpnNfEUCWGDOPtFERQMDwrX43Og9A0ioStDhwCkAPWGCH9dEHQA==",
          "dtype": "f8"
         },
         "yaxis": "y"
        },
        {
         "hovertemplate": "Sequenz=114<br>t=%{x}<br>v(t)=%{y}<extra></extra>",
         "legendgroup": "114",
         "line": {
          "color": "#ab63fa",
          "dash": "solid"
         },
         "marker": {
          "symbol": "circle"
         },
         "mode": "lines",
         "name": "114",
         "showlegend": true,
         "type": "scattergl",
         "x": {
          "bdata": "AAABAAIAAwAEAAUABgAHAAgACQAKAAsADAANAA4ADwAQABEAEgATABQAFQAWABcAGAAZABoAGwAcAB0AHgAfACAAIQAiACMAJAAlACYAJwAoACkAKgArACwALQAuAC8AMAAxADIAMwA0ADUANgA3ADgAOQA6ADsAPAA9AD4APwBAAEEAQgBDAEQARQBGAEcASABJAEoASwBMAE0ATgBPAFAAUQBSAFMAVABVAFYAVwBYAFkAWgBbAFwAXQBeAF8AYABhAGIAYwBkAGUAZgBnAGgAaQBqAGsAbABtAG4AbwBwAHEAcgBzAHQAdQB2AHcAeAB5AHoAewB8AH0AfgB/AIAAgQCCAIMAhACFAIYAhwCIAIkAigCLAA==",
          "dtype": "i2"
         },
         "xaxis": "x",
         "y": {
          "bdata": "XSh+wrRNEUAI7qCoyToXQP5qGGHJtBhALIMSyIMWGUC5eZC5r4wYQGL4o7XzJBhAW0fgddPYGUAS3g+w6acZQNwBVHsRchpADZmHz/QNGkBLSfO+fiMaQLdBBza3yhtAQda9nirvG0BaanNOhsYaQNhntqDB9xpAa/x/KvQlHEBM73Rvl1obQJNJN8LZTBxAjHkk2y/8HEAjsk+iF+QbQJ6e6c5V0BtAomvbyk8bG0BZZpLgaMIbQEww84BCVxtAG+I00qoJG0Dc0QU2uUMcQCITbK3eKhtA/L+/O2iCGkAckDwgecYaQPsHMw5pgxpAxkgg77kTGkBmHvtAxcsZQBlR+hp6nBhAuvBqps81GEAHhqIFesMYQNshxUhYJxlAmm2xGOShGEBeEzH5PZQXQLQcnHl66BdAiMRHxINdFUD+3ACWMMEVQOnYlmH5OBNAuy2kS7L8EkBnHbR4dPEQQDXsfCkGJxFAln5QgSgOEEDxkkOVD2MOQADG+//Ygg9AQaIqvlFhDUDK3wal+PEOQK7u6remvw1AQVwcxaH2CkAXxcs2aHAOQBeOY16cMAxARO0SMaXeD0AFCmHaK4AMQDAhg2zJvw9ANCYfW2EDEEBsGsSE0w8SQM7AO5vTxRJAHRgg0YR3FEAd6Kq35QQWQPK4RhlKHhVATCISFzNzFkBiHFibjw4XQEy0mTyu0hZAhtGd45ngF0CtVeVLQccWQKlMZHyHMBhAjQFS6egdF0AkuTs52QoXQDqNKPu32RVAt3aElJvEFUDXB0BjZ/oUQC6p4rhMLRRAb05Bb+kEE0D1+vG4564SQLFhMP0uPhFA7aUTFaMSEkBet8se4kQQQDQxnme3nxFA9o+nkK59EEAzCndEdJERQFNtAuBOhhBAYnO4G/dEEEBB6va1sHQRQBEtnE92QhBAUhVsg5OUEEA4wNuSq9MQQMjqS11GXRBAfmP7Jp2XEkC8egztU9URQLDhftN6eBJATdfNHq9aE0C5a9fYV8MSQOHW0HsvzBJA7I+MXjdqE0DKRmg4hbESQOxGnJm7lRJA6hR/TRBSEkBNKpO+lLARQIGMU7DTZg9AHtLU9I2ZDkCgsh425AoQQEAsMp/Zkw1Ar4IV65X8CkDFs9g7fRYKQH7CyQrG6AlA5ug4yTVNCUAea4ZAEEgGQIFUsbER0wVAms+54Sj2A0AcYnilxv0CQJCu2bN7ZgRAd/bWH4yxAkBOfucsmwUBQBM/yZOKPgFA4IbBerK+AEC7fl4iLFQBQG76oGAiTABAHusNj1oZ/j8Qyvz4l2z6P7A1iJbApfs/D5mc0Xxx/D9Xu8e6fIH0P27XoYUmkfM/8aNXLCRi8z9vIYlQFcP1P3LuA+ptVu4/frIPQBp/7j8B7dZnHmvyP/GdeCxwq/I/UCLVEOfQ6z+XWXcun2fwP2xfUC5W4+Q/cS0eHuKC3T94saeqs9riP/VsW+uHXuQ/jHSnwtqC4T/Z+rgxs+XMPw==",
          "dtype": "f8"
         },
         "yaxis": "y"
        },
        {
         "hovertemplate": "Sequenz=115<br>t=%{x}<br>v(t)=%{y}<extra></extra>",
         "legendgroup": "115",
         "line": {
          "color": "#FFA15A",
          "dash": "solid"
         },
         "marker": {
          "symbol": "circle"
         },
         "mode": "lines",
         "name": "115",
         "showlegend": true,
         "type": "scattergl",
         "x": {
          "bdata": "AAABAAIAAwAEAAUABgAHAAgACQAKAAsADAANAA4ADwAQABEAEgATABQAFQAWABcAGAAZABoAGwAcAB0AHgAfACAAIQAiACMAJAAlACYAJwAoACkAKgArACwALQAuAC8AMAAxADIAMwA0ADUANgA3ADgAOQA6ADsAPAA9AD4APwBAAEEAQgBDAEQARQBGAEcASABJAEoASwBMAE0ATgBPAFAAUQBSAFMAVABVAFYAVwBYAFkAWgBbAFwAXQBeAF8AYABhAGIAYwBkAGUAZgBnAGgAaQBqAGsAbABtAG4AbwBwAHEAcgBzAHQAdQB2AHcAeAB5AHoAewB8AH0AfgB/AIAAgQCCAIMAhACFAIYAhwCIAIkAigCLAA==",
          "dtype": "i2"
         },
         "xaxis": "x",
         "y": {
          "bdata": "pGu7mbuCH0BqMi3Yfy4fQJLLXcQZeSBAt3ZcZQ0qIEDjgVeHtnsgQLVsaz29/h9A+yXOQ0I4IEA7E7BBYz8gQN4qwigKKCFAJl99fUsgIUDOnwGGj+UgQALRKEIBeCBA4ZPo25UyIUCR/yjuhcUgQCLlCQQoOSFAdR4DR1PkIEDOqXPrNpogQHSf30eX5SBAJOPqisocIUC0bPH6NI8gQCzO0cQw7iBAeLVfaaBqIEATVpA5mKggQDRUxLUJuiBA91NZLs5oIECuPLhtO2kgQJu7BsprXCBAT5fT9mguH0Dwpm6C/NIeQHdQAMCZ/h5AWxzzARqAHkAqZYWR0fcdQMlIT3qpqh5ABinXp8RFHUB9FkcUXjcdQBMwa4c9gxtAy67fpj+LG0DMimBt80EaQLu6DNigzRlACWhTY6j5F0DreceL1fcYQM1rXMYgURdAZWFJSWzIFkAMVlStjMMWQA2ArpxAExVAexV5B7FbFUD8AgO+j0IUQFLdXa10VRJAkvRky17sE0BfZWkxLTATQIDUBKcwmxFAM+f9zBTBEUCti+mP5q0SQKhVS43jTxRAzw+X/kKZFEB6M8Jil+8UQF548jX6ShRAILnnTlwGFkCwNJGM2UYWQC3NJ6BvvxZAX392tvhkGUCI3pg/OhkZQCBmcZiHyBpAoPwaI18CGkDQrT8pwsAcQHqX5gHhOB1A/iNr4jO6HECZnKg1dpUdQBq1yjRvgBxA8Bd0CfXVG0BOAwx9V14cQALgbMQTWRxAgY180T5sG0B7W0zcGPkZQJvpsCHMShpAcSBeoLuCGECgz0JR5boYQE/VKG3PWBdAfShEhHdEFkCg2wPXDpoWQNW7QugYKxVAB4UpOUrIFUCbJ3JsyXsVQDJYbo/lfRRAfIA8zls4E0AA1fFD5GgSQPvUZlFhnhNAw3UVwWgrE0ATw8r6Fo8TQOKEmke9VhNA9tZOrCHOE0Czmzlx51MUQAhXDpW/0RVAO9+Q6lH7FUCvxJM9yScWQLBCzkfyExdAcSvC7i+CGEC2fgRBJ60XQHjN4nTa0hdAoC6gQgOgGEB+YPrphbkZQEZjEQl1DhpA4IssQzjuGUD9PoeNoU0aQDA546Sw/RtA/SyI1gfFG0A87Z64D1YcQMcKwUkuFhxA2DGqzV9CG0BKGFSHk+UaQIGwHugx4RpAuaX0Mz96G0ADcn7L5EUaQJTyR1mZ1xpABZ4/BpfLGUCFi3BbK9YaQCWLRi6g0RlAnHGUw8jeGECkJAS10UoZQJDqP5yvURdAKnMlOTm2F0Ai22nyPXUXQCKMbTP4GRdAiOE52rLxFUDUMAYy1E4TQImNXB1+9BNA6osRkBzeEUDElMTuMHERQNY0Du857BFAim5vlmkfEECdUQqhvboNQNLlkEzbww1AvgLt0PQPCUCayg6aGAMGQMvJ4JS5hgRAgk6UVpdGBEAeCWgz84AAQBTeBnXBiPw/XdH9o9w0+T9FHqxGTAv3Pw==",
          "dtype": "f8"
         },
         "yaxis": "y"
        },
        {
         "hovertemplate": "Sequenz=116<br>t=%{x}<br>v(t)=%{y}<extra></extra>",
         "legendgroup": "116",
         "line": {
          "color": "#19d3f3",
          "dash": "solid"
         },
         "marker": {
          "symbol": "circle"
         },
         "mode": "lines",
         "name": "116",
         "showlegend": true,
         "type": "scattergl",
         "x": {
          "bdata": "AAABAAIAAwAEAAUABgAHAAgACQAKAAsADAANAA4ADwAQABEAEgATABQAFQAWABcAGAAZABoAGwAcAB0AHgAfACAAIQAiACMAJAAlACYAJwAoACkAKgArACwALQAuAC8AMAAxADIAMwA0ADUANgA3ADgAOQA6ADsAPAA9AD4APwBAAEEAQgBDAEQARQBGAEcASABJAEoASwBMAE0ATgBPAFAAUQBSAFMAVABVAFYAVwBYAFkAWgBbAFwAXQBeAF8AYABhAGIAYwBkAGUAZgBnAGgAaQBqAGsAbABtAG4AbwBwAHEAcgBzAHQAdQB2AHcAeAB5AHoAewB8AH0AfgB/AIAAgQCCAIMAhACFAIYAhwCIAIkAigCLAA==",
          "dtype": "i2"
         },
         "xaxis": "x",
         "y": {
          "bdata": "cB71clW6I0AfLZ/kZeAiQDmOXdCUwiNATaR6pPUFI0C/0+uCSfUiQBj82a71iiNAjG5mRlu3I0A8fB0p0W8jQCoi9NT+ziNADojqO0JrJEAXbsBcd4cjQEFxxHsUjiRA0+JaIySlI0CYZqiPn7MjQCrcaA67hiNAVw8MOwwWJEBN/FEYsKIkQMMk5890+iNAZCUOyz/cI0B7RUH9MQQkQNytsubUGyRAPk+iLoyrI0Awxt4uDMYjQMKJ+7PO0CNANXNpK7dwI0D7HI0n8dUjQNfbVSES/CJAVx7DwHy+IkC3hbRpFPEiQFoaOX/r8CJAwX+kNcXpIkD6YA45DPohQMgoQ6YLjSFApEnBBIb4IUD6zUg25/4gQHFbebFw6iBAmWGbQopBIECvXTu8038gQFBVyhCDHCBAYZaOp+tLH0Dg+12S188cQFj7X4aaPhxA4FQPCbXjG0CGSplThEcbQHixMzoYExlAJx0idDKYGECRWneMT4IXQAn4gogC9hZAR4JA9XHtFECPqSSlNS0VQK5hHSljHxZAou7lgOfIFUDQKa79PzMWQCs8hhZOXhVApqvZL/eJFUBP7pfx0B8XQO8P2FDivhZALFj3TW+9FkAGxhKfBukWQDzOdX7kahlAeIGJx5O5GUAhCWgAEFoZQNQ9MeuWcRpA3EyD812KHEA0arZPG5sbQEOKPNpIcBxAx8tj8zrYG0AI1NZeNP0dQJuRGzCFJx5AB0dED6goHkB7DzRatRcdQMjaObYO8hxA7E0qBeHDHEBrAO6CQUgcQNUtzh/MhxtAGQ+gupa3GUDffPzTJBoZQFFrPOH7HhhA3Rs9RMDNGEBac7hUKR0XQIUP1VY6pxZAzl3Je8wwFkBe9PwP8awVQJr7qxG7yxZAazfG4Hh8FkB6jXBp3ucWQLn+vM3xRRZAjleNLVp8FUBvLsvr7LYVQPv4MUDnAxZALFtr5f0zFkAL+u1GaBMXQGhTVGJAZBdAnstUc04IF0CgN9ek05sWQMoEothO/hdA3H/SM/5uFkBsHhP1SaEWQOeqPZxPoBZAbTERzhBcFkCfwYvymkoVQCYx+b2zeRVALUttN6PGFUDGvNjHapwUQPvI6ZvwHBRAqDwquHyTFEBTK7v0pAIUQGBg90GXBhNAtlGkeDcoEkArujxK1gcRQGc3NsHzEhBAkOlKWXlYD0BN8EnLUrUQQHHvtMOdog9Ab6RAhgwiDUCHmQSm07oMQNnnV/5qbApAbuFBxn01CkDgPJ9ZBeMHQH4YCY5sJAdAoBVwYgoCB0BoUhuXquMGQCqTkz9GQAZA3/bnkD4gB0CMSTC2qw0GQFzltbqLtwVA28ONgxMEAUAgVTasoWwAQAMovb3hIwBAqrIudLcjAEByogfn/WD+P1aRP2Sdffo/zDIunxjd/D9E3KIreS35P83l0wmHVfM/9bPquFMx8z/o7dadkLnxP0JAeTYuVfE/5VBpOtKv7j/gFGutmOziPw==",
          "dtype": "f8"
         },
         "yaxis": "y"
        },
        {
         "hovertemplate": "Sequenz=117<br>t=%{x}<br>v(t)=%{y}<extra></extra>",
         "legendgroup": "117",
         "line": {
          "color": "#FF6692",
          "dash": "solid"
         },
         "marker": {
          "symbol": "circle"
         },
         "mode": "lines",
         "name": "117",
         "showlegend": true,
         "type": "scattergl",
         "x": {
          "bdata": "AAABAAIAAwAEAAUABgAHAAgACQAKAAsADAANAA4ADwAQABEAEgATABQAFQAWABcAGAAZABoAGwAcAB0AHgAfACAAIQAiACMAJAAlACYAJwAoACkAKgArACwALQAuAC8AMAAxADIAMwA0ADUANgA3ADgAOQA6ADsAPAA9AD4APwBAAEEAQgBDAEQARQBGAEcASABJAEoASwBMAE0ATgBPAFAAUQBSAFMAVABVAFYAVwBYAFkAWgBbAFwAXQBeAF8AYABhAGIAYwBkAGUAZgBnAGgAaQBqAGsAbABtAG4AbwBwAHEAcgBzAHQAdQB2AHcAeAB5AHoAewB8AH0AfgB/AIAAgQCCAIMAhACFAIYAhwCIAIkAigCLAA==",
          "dtype": "i2"
         },
         "xaxis": "x",
         "y": {
          "bdata": "M4tnqTNVDUAfzd7qjV8RQIIoSpwjwhJA6pnZPIePFEB5Bjg4+rIVQBzo+TpN7xVAHT6hLENCGECEKDDnfm4ZQBN2DZi6ixlA/Ek6PdatGkB6fHTyWbwcQKdv2veOCx1AaVBnF5WgHUCz2cA5cN8eQJLK1TcAUx5AW5qHwTIRIECBZiqMv2AfQDijzjhvnR9ASIeK+iQpIEDhKyWdwvQfQAjSpL7gVh5AuI6B2AcuHkDpJhLTkAYfQEvgrKljZxxAAGlrnbSbHUBza7IV69kbQNPV8p5CDxxAE7/O4NexG0CN1WDBDfMZQIVE+KcAjBpA+4bRArEgGUBYPNRItQoYQGMWUKD3GhhALxFVhUdFFUBhYq7gONAUQKOu6mwjNBRACpLGwpBqE0D2uNmGQlYQQLAquK2t0Q5Ao2cxjWo2D0Ak/6D4LH0LQCbHJAwWlQRAiAFyQ+RIBUABsXA/zAwBQD2LK26UVvo/r/ECHNwi9z+VQoiIevf5P7Kukmaad/0/IKI7nsxr/z+Fq0ZcPQD+P+zr1FiAQgJA8PXkYNyBB0A4AbB/baQMQMv6LNxY5A1An/dXqgMrEEA/SxHfY5oSQOsJecusSRVAcYtA88HfFUASg6vkafYYQLqfieAV7xlAMlC8jxM/G0A1ZuCwTCEcQCYmC0SIVx5AfcsWB8vKHkAUqfP1e4AfQE4FDxk4fyBAVxWrF52ZIEAB9Gv9RY8gQBgqBuDUOyBAXbufO3yAIEBt4c0CiqsgQNMq/EfjbSBACv1gKHHeH0DeVZVTt1MfQA2sctuUQB9A9teHcqXXHUCoWXtS7YYdQH01FnWoExtAaBOd2SAsGkD8iDJNIvkZQBQ3Q0inPxdA/oMTKZWWFkC9EcjuRv8UQLLDZ93sDRRALjrYLUeBFUAC4ma1T5gTQFrPsxSBVxRAdlv1Y2rfFEBsor8VoaMUQH2HVnHxiRRAQzI2oiVQFUDHceDFpm0VQPl+G+75GhdAHux6W9pYFkAY2F+eA0YXQB7cpPqAKhlAvlmwv5b3GEBVs1d26MgYQLv20vhkfxlAuDh+B++BG0Bv/HeBI8gbQLYPPytgDRtAgfLy6/N9G0DqzatqnXobQDwoHWBaDh1A3palybmgHUAksBr+eLAcQJr978tKyRxAZeuS+lchHUC39/x9NpAcQN1+SEp5Uh1ABy6slqu3HEB64mT9DwobQLd4Ph40oRtAERMRzb8aHEA3ORf6SC8bQPG4zH89GRtApSZEyhYJG0AlLbF9PrIZQMgjJgRAmBlAa0iO5W29GEDAFoUQc/wXQOkeaeD6LBdAWQ3Dx8BzFkCp/G/85oMVQKBwRXW6mxVAggXC/XqsFEBOVuZFSiQSQCxE8qwDEBFAmKqJH/ZpEEAJAP6XI3QQQFxUYaAzcgxAzCZQiXFnCkBncS3U6X0IQFe8/7GkwQVA5v/v5YAyBEBO8XfOwyADQGQHjzSZV/4/xuySLWyjCUDkYwE9pkURQA==",
          "dtype": "f8"
         },
         "yaxis": "y"
        },
        {
         "hovertemplate": "Sequenz=118<br>t=%{x}<br>v(t)=%{y}<extra></extra>",
         "legendgroup": "118",
         "line": {
          "color": "#B6E880",
          "dash": "solid"
         },
         "marker": {
          "symbol": "circle"
         },
         "mode": "lines",
         "name": "118",
         "showlegend": true,
         "type": "scattergl",
         "x": {
          "bdata": "AAABAAIAAwAEAAUABgAHAAgACQAKAAsADAANAA4ADwAQABEAEgATABQAFQAWABcAGAAZABoAGwAcAB0AHgAfACAAIQAiACMAJAAlACYAJwAoACkAKgArACwALQAuAC8AMAAxADIAMwA0ADUANgA3ADgAOQA6ADsAPAA9AD4APwBAAEEAQgBDAEQARQBGAEcASABJAEoASwBMAE0ATgBPAFAAUQBSAFMAVABVAFYAVwBYAFkAWgBbAFwAXQBeAF8AYABhAGIAYwBkAGUAZgBnAGgAaQBqAGsAbABtAG4AbwBwAHEAcgBzAHQAdQB2AHcAeAB5AHoAewB8AH0AfgB/AIAAgQCCAIMAhACFAIYAhwCIAIkAigCLAA==",
          "dtype": "i2"
         },
         "xaxis": "x",
         "y": {
          "bdata": "3srJib7NHEAfqy0srEQfQDQ5EfBjpB1Ash5ohh0BH0A3NxhZQJ0fQIyJMUTlux9A8r9rNETUHkAVzwVclIceQOOI+OoZQiBAG4YM7fR8IEBhnVH4ALUgQM+YQ9LLNSBA8QjLhzm8IEDlEWPzwPQgQCaDWMlceSBAi3gs/Xi6IEAX5gpo//sgQPYy5Oo7AiJAzGcYUjkcIkCWndVYSOQhQEBl9qCYzSFA9yd9iRr2IUAObtH6UmYiQIEbf54YRyJAZmH2SJ5XIkCOYkLXAtghQJCM1PRwGyJAxrGLJoJ6IUD8HysyvsghQC7fdLTE2CFAs0Wczx5xIUDzRrgMpFshQPT8udZkxiFAGbZlfXMzIUBDmvIaH34gQDhLArNc8x9A20nQcvFjH0Dy6dHC9gsfQK557imUgx5AxWUrL4lBHkC2iPRqMmsdQJ/NY2RPMBtA1JJNHkDcGUBg9kYAGxoaQNYCg853NRhAQYR64PvSFkByHzljqmYXQK5DX71dDRZAkhONq4DHFECo18DXKmQTQCo7quRXWBNAjDuavSToE0Ai5P17YKATQP4/rICSrBRAGwusXItKFkDpTOofiqYVQLf/bfWMYBZAbHbI8riuF0CqVT1CLkAYQHRfrLLgqhlAVBawLsILGkAwOnC+TSQbQByGS4fW/hxAmIR1h6NhHUDZYrebuhAeQIKAYTzmQR9AYaLqSVQuIEByTNbP92kgQKKg6X1ZbiFAljl+MumtIEBNLVfwCAMhQMHcwUcYsiBAu4DUta2bIUDBV8PDWnQhQPhl2TjNWCFANr0nf1VCIEA52jR4TK0gQN5Hc8QaHiBAXlP9yj5xH0ALNv5QvnYfQFmAj9J4Nh9AONVc5FLFH0A3AiUacUMgQPuKp98fKSBAouBD+7VGH0DGLBIpYOMfQNhm75jr+R9ASAOG0PucIECpXizVFVMgQLszA8Ax/yBAasDXk3AZIUCbJU1euBMhQKdd7o2KvCBAzIwCWRs9IUDYEfv9Mb4gQJSWtQz+gyFA2wyl7gGVIUDXA3Q/68ghQODjtMAT8yFA/yGEXVm/IUDsQbXM3YQhQGjVsajcpiFAqH+WxPY+IUDzA5LcsnIhQCaPZaXmGCFAIDVJeCUoIUAw6ptINGggQCzDwcaVoyBAkqM5w2v/H0CV0EPmSlEfQNG4nwnPNyBAix7h4FkPH0DDnCDKPqQeQFjcp2XaVB5A5Hvop79AHEBK7w+per0bQJHnusZGehpAGdgHxk3GGUAnjJiACk4YQFfKmwUEKBhAtH/I6AY+F0DCdLEMWDEXQB4DtxAVXBRAs4zJcaNrFECQkjQ3If4TQAGvMMRRNxFA9OUljrVBEUCJ937VR8oQQELukfqIqw9AKqwIGxQDDUDJjZHGIHkJQERrBTCYqQhA9gaJ7qL0BEDJtxTBBLgBQHOQNk/5zv4/bPXTeXPX+T+vFDJ7vIH7P9v0nz07hPY/81smPSwm9D+OPyyN2/j2Pw==",
          "dtype": "f8"
         },
         "yaxis": "y"
        },
        {
         "hovertemplate": "Sequenz=119<br>t=%{x}<br>v(t)=%{y}<extra></extra>",
         "legendgroup": "119",
         "line": {
          "color": "#FF97FF",
          "dash": "solid"
         },
         "marker": {
          "symbol": "circle"
         },
         "mode": "lines",
         "name": "119",
         "showlegend": true,
         "type": "scattergl",
         "x": {
          "bdata": "AAABAAIAAwAEAAUABgAHAAgACQAKAAsADAANAA4ADwAQABEAEgATABQAFQAWABcAGAAZABoAGwAcAB0AHgAfACAAIQAiACMAJAAlACYAJwAoACkAKgArACwALQAuAC8AMAAxADIAMwA0ADUANgA3ADgAOQA6ADsAPAA9AD4APwBAAEEAQgBDAEQARQBGAEcASABJAEoASwBMAE0ATgBPAFAAUQBSAFMAVABVAFYAVwBYAFkAWgBbAFwAXQBeAF8AYABhAGIAYwBkAGUAZgBnAGgAaQBqAGsAbABtAG4AbwBwAHEAcgBzAHQAdQB2AHcAeAB5AHoAewB8AH0AfgB/AIAAgQCCAIMAhACFAIYAhwCIAIkAigCLAA==",
          "dtype": "i2"
         },
         "xaxis": "x",
         "y": {
          "bdata": "GmKThb+lI0AyFPxN5kkiQIMjBkbrRSNA8YibTYUTI0CsxDKvy60iQBhVrj7YYyNAzSrCz+mCI0D5nE+4ZxwjQBN9gupb9iJAzHklf/3jI0AMYMS7foEjQCGUIgHlByRAzIEESVnuI0AburSL/M0jQFhglGg9kSNAgSOxVAIxI0CcKUvxtp4jQFmx/BmtRiNA30bUWLKjI0BONr/Rp34jQOYor0tTrSJA6Ae1gBazIkDm+nEBXcUiQCyZf6Xc/iFAeR7E2z91IkCzgDB8OfchQP/Z02Wu6SFA4brIC9oWIkA15ZIQDXAhQGX5mr1MaSFAFgCUZL0gIUAQvG1U2DAhQPhNbYHlaSFAUmbvSbBiIECwYMVSPM8gQFIaIucmpCBADDyUhDbBIEAbFLC1R/ofQBaJdLDTTx9AvFIA+e3/HUA+RYnN5oUeQHQJ8xwhqBxAsuvG5lsdHEAupBlDZKQcQPIteZUjaRtA4GgVSwA2GkAz+NEXnA4bQF8XPZa7bBlAho+a2jlvGUDvHaDfz9YYQFiLk4GslRlAP+e00fFAGkDZCrgG9YcYQAm1nb9UGhlAYbWcxt0tGUBLJxniJ60aQIXOr1C4HxpATGZU1oGQGUDGAApm29UaQDQFPhrPvhpAkn0nHgtyG0BVgKlcWrAaQMN/ExtHchpA3sSCTOLzGUDFM+XxkV0bQMtXF9dbFBtAO6rwrgVHGkDdgeAQvGgYQITYfI3jfhZAlAHANLtOFkB1GcBeFIQWQBr1rqX5UxRAAn+p6R+RE0DJ9R1YJzgUQDQikY3WoxJAzFoEkQU2EUDH/T2z9OMQQIQVemuSug9AcaUB4pY4D0DUeYqqKF0NQJQU6SB6mgxA0Ilkr6uqC0A9WbogUEYOQMe6kjSXUAxAyVefNFuODUDQckH3UoUQQDhEddU3ZhBARQNcf8b2EUDJqxmZPqMSQDHrs9gB4RJAlfFWoLXAE0DTNa3r23YWQDPljIIzERdAWgC89O01F0CqkwwdrjAZQC9Nj+lZyRhA8fFTngdvG0Bz9n3EC0MaQAaYazvDQxtA0v9EvGqxHEDfevgBpZseQCoPwZ2oix9Airlmd7poHkDZH0X/JwogQINf9vHECx9AmAvxX0ZdH0A0AEcrbLsgQEn60eQwYyBAqVxeMNDMH0DYsHsVbqcfQE95ygQckyBAW2PkGamkIEC6gjw//HQfQHgQdSdVpR5Ap0To7QABH0DFw3P1rrEdQPgoHhzGNB5A02nbpecWHUA+ZY8N5AMcQP3qsa0aIhxAhE9i89aVGkBjyuCaIn4ZQABcgThxGxlAfMFwAwSuGEAM/E5W710YQNe8E1OYbRZAv32I375PFkApWJopWxsUQMxOWeeaoxNAqrYxklftEUBXXaUeAd4QQFBwLuRNkhFAumj63MU5EEBbNTKMo3wMQGkkUXZaNQlAl5hYDBb4BkA1/Ofs7sMDQOZ1YBIckAJAIYyicfsk+z/GyqCei9j4Pw==",
          "dtype": "f8"
         },
         "yaxis": "y"
        },
        {
         "hovertemplate": "Sequenz=120<br>t=%{x}<br>v(t)=%{y}<extra></extra>",
         "legendgroup": "120",
         "line": {
          "color": "#FECB52",
          "dash": "solid"
         },
         "marker": {
          "symbol": "circle"
         },
         "mode": "lines",
         "name": "120",
         "showlegend": true,
         "type": "scattergl",
         "x": {
          "bdata": "AAABAAIAAwAEAAUABgAHAAgACQAKAAsADAANAA4ADwAQABEAEgATABQAFQAWABcAGAAZABoAGwAcAB0AHgAfACAAIQAiACMAJAAlACYAJwAoACkAKgArACwALQAuAC8AMAAxADIAMwA0ADUANgA3ADgAOQA6ADsAPAA9AD4APwBAAEEAQgBDAEQARQBGAEcASABJAEoASwBMAE0ATgBPAFAAUQBSAFMAVABVAFYAVwBYAFkAWgBbAFwAXQBeAF8AYABhAGIAYwBkAGUAZgBnAGgAaQBqAGsAbABtAG4AbwBwAHEAcgBzAHQAdQB2AHcAeAB5AHoAewB8AH0AfgB/AIAAgQCCAIMAhACFAIYAhwCIAIkAigCLAA==",
          "dtype": "i2"
         },
         "xaxis": "x",
         "y": {
          "bdata": "zysUE0wPHEBIR6u/r20bQKYvc/RJrBxAlyI+o+GWHUC1AVA5zI8eQB07GMPUUR5A4vjmBwmIH0CUNBTErmcgQJF8tbtd+yBAODnsg+AaIkC1rbwYo0oiQHQx8j2+qCJAMJRQnJ3dIkBpt/o3JWsjQBuq/t0UiiNAVUwwpwmsI0BcktqSyrsjQF5zl1mLFSRAvFHUOuf2I0BUMG8KMwQkQKrJtmIEPSRASjlOMPJXI0DcaXxEsFIjQFvfNhwnNyNA8zrnpeqlIkAvBZXFV5siQJxpA/ndXyJAOpqPs6jXIUAMgFpLY7YhQM0r7z+ErSBAN9p7rFPCIEC+PdTsQXkgQMMk6havox9AvH5ZuU29HkB63UoLn8McQAFbmH6GtRtAZxny6invGUC3+8s1ZqQaQKnE5CWDGBhA5z80DXANGED2AXP7vsEWQKTrnuIydhVA0wt8fF6kFEAEL2ynlMsTQFWUb/pPkRNAILbLOQc7EkA610Cr6b4QQEytkPPkrRBA8PINifOND0CuxMfj7ngNQMOr8NnrHQ1AJ1u6vvwDD0CpBkWC1LMPQG1b+/Cj4A9AEcYqjdSyEECmM5C6fZ8QQGdNO6PRnBBAxn0FC0dQE0A4WMQXZD0SQLCjiV53LBNAMnCWUPXcFEDG5C7jjLcVQM/0EUzcSRZA2aoLtORTFkBhAk4jQAUWQEREbfNiyhVAW2iYQvpUF0BDg92fCv8WQKG6zcXFYxZAZLyGaMSqFUA16zCoaDkVQE7wIHfZFRRAPJBwG/s7E0DlBGLqrvoRQFUH+r2dxhFAAYjjO7M/EECsPxfCMlkPQFc+MBjnAgtAZKuEKLNtCkClOpYLRTIHQNQmYg2nWwlAVOGZbdHyBUBxneYchdYGQC+bwN8lHwpAzegxykNXCEChXm8CqeUJQM81gQ2xfAxAFcyPq4YmDEAtBN0s4z8OQAB+SY+ApxBA387VRBMTEEAW7z++W24RQGTj93yK7RJA2d+18uUQEkCYApyu1QkTQGmG+Umh2xRA6bPkpqWFFEBMKxG7dyoWQPDnbFqJTxZAjSmmITUwFUDeLwQ6QGcWQKVDCR78yhVA8riJmr3NFUDlgNkp/G8VQABVVoqdeRVAxpA1uyXbE0BtYDoXzKoSQDgEepi0gRJAOJBaDwTREkAxfN+X9+4QQGFCA1nw1hBAcyTvckNeDkCFA9LBY3cNQMQDHK01TApAOFDTw6e2B0DtpsxX/vwGQCQcwPzr9QNAkvovNH4nBEBsQjaw+HsDQIp+Fc6rFgBAMXH29GViAUB4tQ3Q0OH/P9BViALHX/s/TbR8pkZf9T8yqs43Pd71P6aqEfLl9vM/XdVBmgbL9D/SeSfNiuX1P84W+LEhQPY/YGL4z1Mm8z/Ovh79TAXxP6BZWrT18+I/7mUj3cvc6z/MZaP44qXmPzvAGWsdtuw/pvyHMCUU5T8wJnqD+OnkP4AqSqQnBds/xHfrHnK21D+4s/RT3yrxPw==",
          "dtype": "f8"
         },
         "yaxis": "y"
        },
        {
         "hovertemplate": "Sequenz=121<br>t=%{x}<br>v(t)=%{y}<extra></extra>",
         "legendgroup": "121",
         "line": {
          "color": "#636efa",
          "dash": "solid"
         },
         "marker": {
          "symbol": "circle"
         },
         "mode": "lines",
         "name": "121",
         "showlegend": true,
         "type": "scattergl",
         "x": {
          "bdata": "AAABAAIAAwAEAAUABgAHAAgACQAKAAsADAANAA4ADwAQABEAEgATABQAFQAWABcAGAAZABoAGwAcAB0AHgAfACAAIQAiACMAJAAlACYAJwAoACkAKgArACwALQAuAC8AMAAxADIAMwA0ADUANgA3ADgAOQA6ADsAPAA9AD4APwBAAEEAQgBDAEQARQBGAEcASABJAEoASwBMAE0ATgBPAFAAUQBSAFMAVABVAFYAVwBYAFkAWgBbAFwAXQBeAF8AYABhAGIAYwBkAGUAZgBnAGgAaQBqAGsAbABtAG4AbwBwAHEAcgBzAHQAdQB2AHcAeAB5AHoAewB8AH0AfgB/AIAAgQCCAIMAhACFAIYAhwCIAIkAigCLAA==",
          "dtype": "i2"
         },
         "xaxis": "x",
         "y": {
          "bdata": "QULTdhXnJEANkD35LDIkQPlUvq4kziNAYXE1qeC0JEBbbSZ9IyEkQAmgUfI5SSVA7/jwuq/MJEAhywej0f0kQNX7P9bjRCVAYmS1ne0sJUDljEK3SPIlQL0Jlc12hSVAaOEnPoU8JUBy0OtpV30lQEfoK1gYcCVAcsL0tOsxJUD/EzW7VNslQNjggro6iiVAYClkVsDaJEBFxHCOFcUkQK1Qe86pAiVAjph8J+HhJEDGmp7X0k0kQNNh8SacDSRAJAWOL6ifI0A2dD4H9lojQPsVf7J98iJA9M+8sQgFI0CkgWZFtjAiQNOOlwwuIyJAVNcwvcnRIUDA7xSXaYwhQC1Go7jXWSBAcAjmvcFYIECz7HYszF0fQHE3HASwTB5A0IgMUf1GG0AlSlLU5pAZQNmtt/6rXBdAuhV0JRqpE0CXToMpLmgQQAibL+zImQxAs8wcWmsoCkD1Ek/gFK0EQGamm11j3Pw/Ew8dYF7f/j//3sdrvXn2P5wcehBgxu8/IBKbDjIv7T+F7+mt4eTyP+J8xIdPduI/lAGYJCyc9j+EAcQm6Q71P297Yd4w1PI/uhwhZgUe9D8T0F/zssX9PwLhlmW7EwJAE8XwdHwoA0DGBhNvsi4IQPRLrjrBuQdAmQhQPU/hCUC5oZWI2M0JQLXneJ58xQxAj9T2OvbEDED7DFBEMHYOQK3SJevxig9A+P6ZoAG/EEAu6PJvrpoRQBQLgMMBGhJALSXoWGW5EUBiKGgHLBwRQBF43uZLsxBA+ipHvezRDUBeXBipw1YMQEKNAZ0qFgxAp9ggfEcDCkA4LD/TCSsGQGZinhbUxwdAoSlY0QCQB0ATlFOmlVgIQAmG5TZ8DAVAEgW+Wo4oB0BmIGGCRWsHQF5eWXvxDwVANSl5wAyACkBF3rMiDowKQD8KpvIccA1AeiAc/DDkDkAEUjb9+iwPQMf+HfznbRFAXn5OlgaEEUBzqAa0sngSQJXT3jz7BRRANQvr8FlcE0CUQJZUKLcUQPPuOyvnKxVABXJlZZfOFkDRhDcbdekWQFwevZWN2hdA+Kk0cQbzGED6Si3va/oZQKZNJ7wXsRlAauHBQbY1GkAnE4DlOOMZQB5MwPmE7BpA6W7eMvhaG0DUyOeHQwoaQP0D/pEzYBpAW4YQk+IHG0AWZLYaf1caQP9Q4VYJQBlAodIqh/eDGEBstN2JHFoYQKtf6tYzXxhALd3OrggqF0BDbK7eZFMYQHjDfkyo+hZAAkHO1dL2FkBt4qAG/3sVQCfO5/nDKRVAyRDSNFryFEDHAxBCfFMUQP/nG5S2LhRAW3D8yCo8E0Bc9yt4XtsSQClc3eLR/hBAYNEY4vH9D0D7TmyeEVsPQEl1pD6M6A1AtuKcjhErDEBXmJ4vb9IJQAJmE4GXAghAZizDW1RfA0DGTqSFVvwCQAdP5CKRCP8/EeNSy+tf+z8ImPszkqr7P6iLGmBAWPE/IounqwIG8z/1SpdmVNT1Pw==",
          "dtype": "f8"
         },
         "yaxis": "y"
        },
        {
         "hovertemplate": "Sequenz=122<br>t=%{x}<br>v(t)=%{y}<extra></extra>",
         "legendgroup": "122",
         "line": {
          "color": "#EF553B",
          "dash": "solid"
         },
         "marker": {
          "symbol": "circle"
         },
         "mode": "lines",
         "name": "122",
         "showlegend": true,
         "type": "scattergl",
         "x": {
          "bdata": "AAABAAIAAwAEAAUABgAHAAgACQAKAAsADAANAA4ADwAQABEAEgATABQAFQAWABcAGAAZABoAGwAcAB0AHgAfACAAIQAiACMAJAAlACYAJwAoACkAKgArACwALQAuAC8AMAAxADIAMwA0ADUANgA3ADgAOQA6ADsAPAA9AD4APwBAAEEAQgBDAEQARQBGAEcASABJAEoASwBMAE0ATgBPAFAAUQBSAFMAVABVAFYAVwBYAFkAWgBbAFwAXQBeAF8AYABhAGIAYwBkAGUAZgBnAGgAaQBqAGsAbABtAG4AbwBwAHEAcgBzAHQAdQB2AHcAeAB5AHoAewB8AH0AfgB/AIAAgQCCAIMAhACFAIYAhwCIAIkAigCLAA==",
          "dtype": "i2"
         },
         "xaxis": "x",
         "y": {
          "bdata": "lBfV2hv7A0CKBnu6T/UNQCc/ZG7siA1A0cKVDXt1DkAuPGz666IQQFZm4q+wYRBAtD24rJZ6EUDip7Xr4X8SQELHa7PqSBNAaNZ8Onl6EkD66+PKN4AUQHQB98o/+hRAeNZc3MsaFEAKv0PXAhMVQKXabp5sqBVAOmLdjhaJFkDcgr0LbqIXQPgObidXnBdAMuB/HMF7GEAx4XceqyAYQLsw3TzdoxhAVNhZ87g/GEBG/C135rsZQIB3EKUHPRlA4m104OmLGEAGMTyDyCIZQBWJPm8MLhlAKy1y1DbsGEA7KAsalpcaQJZxIHnmaxpAqTZFzokzGkCSxqgdC74aQI3kqrN+OhlAbW1s649IGkAowPrG6JcaQDB2uW0SdhlAqribrxzEGECTjsUwYkEZQE6e5JI0PxhAIPekmLaTGUCD+kCEjU8ZQC8199XbABhA8itt4zptFkBEoY5GwVwXQA3fNXY3nhZAifxPZaYWF0B16TxREqcVQM7/Y/eb1BRABFYFwMuRFUCKMt1WydMTQATPZ2GnRhVAQHGEEmFgE0BFi8fkngIUQGTxWYDhmRNARZh9XqJME0B+P1c78xwTQBp0KvZW7hJA8ERcPPE5FEBERWUr62UTQBbgpTz08hNA78wtGfN/E0CfSOKRAVMVQKpT6bO8VxVAW8Wu1RiWFUCfzp3fqa8UQKuku8ko2RVAcwzw9y+TFEC+fCJYQEsUQLhza/Us4BRAqgthczz9FEBDhem8t8YTQBQkOa4fTBNAib8Z76WKEkDTxxykjNASQNDynNtP6BFAedx5v++hEUCTi7LzYU0SQAyca2inQRNA4+LJIfTxEkDdRvwm590RQNoJzsf7URNAktWHhdTnEUCWd5S50kQSQIusaDVKjhJAcyGLy3OnE0CN8esnxDYVQP7gxWtmFRRATIe1H5wwFkBV8C/VUqoVQJr+Ccf8ohdAjtpU1ckVGEAoEbuUKrIXQBveMXzYqxhAn+NqgzPOGUDXgdivCbMaQNk7Ot9u7xpAT860VzzLGkBjRe2p9RscQHQFum3vEx1AX4NbRv2CHECg3IGqK3wdQJe9d648fh5AxJsxugsiH0Dr58TKI9MeQMyo3mEx9B5AUxNt/FCjHkCryLQF4hsfQBbi5PzLsR5AJovozr0UHkAGZ7CqDHsfQPb+lY3LSB9AM95PCAmgHUDJIljtbE0fQF5PNWPD6B5AMyGkDN/vHUBg7usz4PMdQFSISlnKHBxAEkDpd0gCHUBr3z5X/v0aQIjfRboV9BpA53IYIwsFG0BN52afMHgYQJbXFXhUThhASuGN48+cGEAdEMlUGDUXQIGkpg3r/BRAmeMIwniwFEAg5qsVzVYUQJcUd0wllxJAb5MaUESHEUDhP4MeOWsQQJqFYt2M1QlATzY2L6qNCEC/NwhYxEUHQAtSK8OnoQVAVN88Kh16BEC+hPM3/CMDQI7Y6enAX/s/pr/fEM57/T/dXqfqyz/0Pw==",
          "dtype": "f8"
         },
         "yaxis": "y"
        },
        {
         "hovertemplate": "Sequenz=123<br>t=%{x}<br>v(t)=%{y}<extra></extra>",
         "legendgroup": "123",
         "line": {
          "color": "#00cc96",
          "dash": "solid"
         },
         "marker": {
          "symbol": "circle"
         },
         "mode": "lines",
         "name": "123",
         "showlegend": true,
         "type": "scattergl",
         "x": {
          "bdata": "AAABAAIAAwAEAAUABgAHAAgACQAKAAsADAANAA4ADwAQABEAEgATABQAFQAWABcAGAAZABoAGwAcAB0AHgAfACAAIQAiACMAJAAlACYAJwAoACkAKgArACwALQAuAC8AMAAxADIAMwA0ADUANgA3ADgAOQA6ADsAPAA9AD4APwBAAEEAQgBDAEQARQBGAEcASABJAEoASwBMAE0ATgBPAFAAUQBSAFMAVABVAFYAVwBYAFkAWgBbAFwAXQBeAF8AYABhAGIAYwBkAGUAZgBnAGgAaQBqAGsAbABtAG4AbwBwAHEAcgBzAHQAdQB2AHcAeAB5AHoAewB8AH0AfgB/AIAAgQCCAIMAhACFAIYAhwCIAIkAigCLAA==",
          "dtype": "i2"
         },
         "xaxis": "x",
         "y": {
          "bdata": "BLzF0lC2D0DYPFsU4hUTQI6T03g/zxRAlvX2KM/nE0AGbIweuekTQPfntbmy6hJAwZkIJPyCEkB0hcHyVGASQCjueP4dIhNAnf6raFW6EUAo/TeS2R8RQMNGbhRN8xBAfH0T6qeAEECYUEhIKDcRQBge+TajLhBAbxIOVYOFEEB9Ld0yueANQIws9kLpFA5AxcJsQuXtCkBVqsuy2LMNQOe/Mlfx/QpA+c+3CbYQDEA7wJYbUewIQHWJRul2bwhA0nG0HdR7CECVIXaaRRcJQMuGZidk6wVATRaemkvCBUB0onFZhC0EQIegl0NL7wNAzaHv51YqBECimi5WjCUDQHc7yWKZnANAmf4fSXyvAUBhfMpT1MMBQKZ7GzpDJwBARnTk8HwQAEBiA1Uo9yUCQB7L9NKGxf8/izf/UTyj+j9LjZlhIDj7P8Qv8EucUPk/AcW8+hkr9D/c8J/holvzPy40bSDJFO0/oEu6kYBM6T+8Rs2TG+/wP1R4L27/xPU/lHkfx9Jc/T+ONh57wt/7P38/bRi/hv0/uEGTxYeW/T+/rfIkljgBQO6qdYIeygJARIYIluVTAkDYfaiElBgEQJILqLJjQAZApOG+CJF1C0CBYm4ZKwYKQOu0Wm88hgxAluTqaE8QDkAIfme5WxgPQG1Q4jvIPxBAezWPItIPEEC9bKy5EcERQDtwPtkdehJAEvZmQLmmEkBvEdrvATQSQJDcSYkjOxJAjHze0Zp7EUAe83QN9agRQFgEjRddgxBA0tM1iGmZEUCArr9YEHYQQMH8L6A8yxBAfJK2LQByEEBE8mekWngQQAcI5VxitBFAl26LtDsCEkCSvHnCEuMQQPC4GNI/CBJAdrqGeHvKEUDihzgc64wRQEzBykUfLhJAq99PR3WkE0BBbVspXXgUQKG6yo44rxRASRg9SF/EFEAjYMO2fSwWQDplOelqIhZAf/3EIs2gFUCr/lfD7r8XQIjO0O8agBhAYFKMPkrcGECImhr92OcYQOgKREU0FxlAY4cmT4PxGEAUS9KOBEkZQL+IoHK6jBpAEnDLmVEuG0Bwz2+7qBobQFp4JBoZrRpAS/wkfoMtGkCTYYbiPQ0aQJBDvjcLJxtAt8mr14Q+GkAe4TJB51IZQAdkGMqyERpAkKWwh+R6GECWLUFVXF0YQPXH+ZnBmhdAQB87Qv6PGED7I7yIyNkYQCoykaa4TBdAmTEXcoAwF0CYYfC+5DMWQIypM8DFfRVAW+4UJ5bxFUC4w1liyw4VQHiMBP1xCRZA9qIfZUQjFEAGmfiAm8oUQAZ0QjNznBRAXJ6K2uXJE0DaoCNVrlITQFHlieI5yhFAQvxpa7YkEkB5K8lsm50RQIIhy4jJpxBAJG/P0SrOD0Co0Hoe+LYMQFsp2zFoNAtA5vZgO+v1DECChoLxCe0JQCV3c16gbApAOyFQRHQPBkB767plgHsGQOvVfJ18HgRAdQyb4B82AUDVNTSjGvb9Pw==",
          "dtype": "f8"
         },
         "yaxis": "y"
        },
        {
         "hovertemplate": "Sequenz=124<br>t=%{x}<br>v(t)=%{y}<extra></extra>",
         "legendgroup": "124",
         "line": {
          "color": "#ab63fa",
          "dash": "solid"
         },
         "marker": {
          "symbol": "circle"
         },
         "mode": "lines",
         "name": "124",
         "showlegend": true,
         "type": "scattergl",
         "x": {
          "bdata": "AAABAAIAAwAEAAUABgAHAAgACQAKAAsADAANAA4ADwAQABEAEgATABQAFQAWABcAGAAZABoAGwAcAB0AHgAfACAAIQAiACMAJAAlACYAJwAoACkAKgArACwALQAuAC8AMAAxADIAMwA0ADUANgA3ADgAOQA6ADsAPAA9AD4APwBAAEEAQgBDAEQARQBGAEcASABJAEoASwBMAE0ATgBPAFAAUQBSAFMAVABVAFYAVwBYAFkAWgBbAFwAXQBeAF8AYABhAGIAYwBkAGUAZgBnAGgAaQBqAGsAbABtAG4AbwBwAHEAcgBzAHQAdQB2AHcAeAB5AHoAewB8AH0AfgB/AIAAgQCCAIMAhACFAIYAhwCIAIkAigCLAA==",
          "dtype": "i2"
         },
         "xaxis": "x",
         "y": {
          "bdata": "LoYyUyiYIEC4lCVVDE8gQCChCUuy6B5AzByAn9k5HkC6rD0sjwAgQD3Cd8Q66R5AlqPuX/TjHUB1qc59BfceQNAL6suLiBxAdVzsZnlBHUC+Q5IlOewbQLtm+05xhBxAL4UD0mkeHEBYyshUpHgbQPgZWpbHtBpAOucH4iftGkDKx9UkYQIZQJOrHIGcUBhAi1wtXx9sFkAEPn7ixecWQAMDTq33uRVAkQ6PGKlmFECXegFYfb4TQB1gKpmpHhNA1j0IEWsbEkCWnD7c25IRQHRYQ+OkqBBAjbAWGrmzDUBS3uDujvwOQHMwj8GTMwtAYWyoK2LHDEC24m0f7ysJQIEUiBhU6gVAts1GZ713BkC623YaxDUGQPgnsjOG/wVAxcLu2IcGBUDmaskx3JoFQGNh4Ysv9ANAskBtDa0iAEA+7oQGIr//P2vsqaE5mfw/irel8w88+j/uskC4d8z7P5+k9WP+xP0//FTqnP1I+z8RD+RoUEMAQGxkWuBIqQBA99cWk4gaAECNObHDuvkAQOpEZcNNywNAbSHmyVtwAkDgX9EI5kYFQIAMUGvyKQVAxwfivOu3BUDybW9yaU0IQDLhrX/uNQdA83kRdx1HCkCZntMgXjMOQKZahw+N+Q9AT2JhN6w1EEAsk101okQRQN+8eDELEhBAePUwD2f7EUDL7tvE9yUSQLH/qIjthxJAxGpwW2agEkCWYZFl0qcRQA9pwxxkhRJAOemrN8W5EUDjj628XxgRQFCHVZnoJxFA7fM2/qbeEEAbs3bMsRESQJV0g9o6ThFAcMqmn3A+EkD3+LHqH38SQO5mhqMl0BFANFAjZ+AhEkAB3dA48/ETQAVZtN/fmRRAoIUqwWp4FEAWDVyyvsQVQD+tMuQzPRVAH+ztr5rSFkD+xwtr1TMYQGOPFjf7/hhACwJ7wgb8GUDjdE3qDukZQJQtranFihxAU7WzwCGbHEBRZLQ3LGEeQHUDP60YDR9AxHj8OllQHkBy81/dlFIgQCNxki7LyiBAdymlsgSMIED/xtbFzUchQLqBKXdHaSFAeSJKARBIIUDctJAQtV0iQLKgSm8KmSJAzHTRgQIRI0DVgj7r7xEjQJSg2KNyLSNARWda+InuIkBczFzPhGIjQF1Xwx29nyNAJO/BeoOLI0B63y6Qgy8jQCSjnvZCBSRAt6rQsZLqI0BZ4kYL0lkjQCPvq7IYKyRAN7Xs7nrVI0AQ52HfdxskQDXdVSbArCNAltPYCsDuI0BPePvXL9ojQECULbS7eiNA4Lnw1+BNI0CSZ0OSoQIjQJZEtLaMiiJA6iUtvce0IkBaDOrzboMiQP0AN9AABCNAfZNc6Mj8IUA4+MdTMoohQBGBe8S4ISJAmNKvfF+aIUCth0iSytEgQAGdTOCBnyBAjWX/JA6rIECe7+Z9oBkgQGjd3vlpCCBAY7ACqlHGH0Cb8i1+llsfQIsxeWNUdx1AfpmzU9OjHUDGbS9IntobQA==",
          "dtype": "f8"
         },
         "yaxis": "y"
        },
        {
         "hovertemplate": "Sequenz=125<br>t=%{x}<br>v(t)=%{y}<extra></extra>",
         "legendgroup": "125",
         "line": {
          "color": "#FFA15A",
          "dash": "solid"
         },
         "marker": {
          "symbol": "circle"
         },
         "mode": "lines",
         "name": "125",
         "showlegend": true,
         "type": "scattergl",
         "x": {
          "bdata": "AAABAAIAAwAEAAUABgAHAAgACQAKAAsADAANAA4ADwAQABEAEgATABQAFQAWABcAGAAZABoAGwAcAB0AHgAfACAAIQAiACMAJAAlACYAJwAoACkAKgArACwALQAuAC8AMAAxADIAMwA0ADUANgA3ADgAOQA6ADsAPAA9AD4APwBAAEEAQgBDAEQARQBGAEcASABJAEoASwBMAE0ATgBPAFAAUQBSAFMAVABVAFYAVwBYAFkAWgBbAFwAXQBeAF8AYABhAGIAYwBkAGUAZgBnAGgAaQBqAGsAbABtAG4AbwBwAHEAcgBzAHQAdQB2AHcAeAB5AHoAewB8AH0AfgB/AIAAgQCCAIMAhACFAIYAhwCIAIkAigCLAA==",
          "dtype": "i2"
         },
         "xaxis": "x",
         "y": {
          "bdata": "YB6mgPmRH0DyYJXUqekdQGiz8Lks8h5AMuduIIynHUBlx/qXwLgdQH4cYAjRLB9Aba8ufBSCH0CAvJelz4AfQKvPL9KA4R9AtnPvB+ZSH0BhekkX628fQLpxKj5Mpx5ApdWNgSrcH0BLV7ujqt8eQD/aoCAASR5ATsLhtuvFHUCEUc6i028dQLEGMm9TNx1AnCHRHua3HUBchA6o5w8cQBe8mu4MFBxAN9xARROmG0Ckcj+INvkbQLFylQTf7hpA9LzMZCQuGkCeZ/QsncwZQGIkjTF7xBhAxrixOUbSGEBF2OMTBD0WQOK+zxE/FhZAeEGSwbikFED9b50809gSQP1FK++1PxNAZDu0xbZGEkAr9GT7XpMQQAU4EMe1NQ5AZtwcsln8C0DWmKAc61kIQIHxP/aLPgNA4LShAXJdBEDknPI9tK0BQGBWtVyXFANAy6jaY2HWA0BlJNMRyOwBQNtStdxxb/8/7SDS2zmK/z8iHQjcWusAQB7GCEbzrgBA47IalW+P/D/L9kBxSI4CQAaAaYccKANAE/Myb8uAAECCRfL2lvgEQChcPEJR+gNASq5rMpsbCEB62AT2mVMGQNlfeUIRDgpAcpIvrYrGB0AVWbdY7mYIQOfLyr1OUAtAdkox1/IgDkAqXOasv44NQEllCG3tkA5AVkSkJe8YEUC6bLeNP1kRQA+AH2OTAxBAtKx9+wZOEUA8XdeODyQRQD0PSn66wxBAV7kSXi4rEEC+HnSdXCMQQKTwtPxoJBFASZf15p9vEEDtYqRCjpMQQLqQgirqMBBAT8CUjsQ1D0D4nnAKoy8PQMb9R2+rbRBAOKqaVYE3EEBlami+POAPQNHTM/+7DBBAqV7i7qK0EUCDjvPQM6cRQMDFRFp8SRNAoZeh8fQxE0D0X/ALocAUQLefGfHy0hRAVt4cmEdhFkAqOMzhjzcWQE0ql/2XOxhAaj/KC1YaGkBnFScpXicaQPryJryCxhpALWSrfPcKHEDquxrrOgwdQIQd3vdV6x1AGF7Vr5QsH0ApzJoo2pEeQKX7B3Kxbx9AIx2NrLR3IEDKIGOzZDAgQKEcBovHQSBA5Ufd+qmzIEDFIaXlzXsgQOwOzYpoViBAnBIzfwUNIUCRYnS+RpMgQGDRrH9WhiBAByOU0ahfIEBivzH/El8gQCnViBiMSCBAOGgQF2UgIEAU7Pzd8usfQBEHGm9I8R1AyHuzeDVjHUA81txdSHceQNO3rKxUjB1AlFrk/YL1HEDR35lfi6scQL3J9e4dwBtAjI1pI1o/HED5gPEJsUsbQEvYPa8kpBtAh+HS6HnpGkBGPv98jNgaQGg41k555hlAMwPJXYdVGkD/xiUwLcQZQFGynMSyNBdAB9WNtL2QFkAdvnBb8DUWQDgC/wuf9RNALpNiWRqBEkA+Nh0uCe0QQObjCaO/UhBA1eCNGmURCUD465Ek8OUFQCKL6Osywfo/pjcPG38T8z9foLVrqEXxPw==",
          "dtype": "f8"
         },
         "yaxis": "y"
        },
        {
         "hovertemplate": "Sequenz=126<br>t=%{x}<br>v(t)=%{y}<extra></extra>",
         "legendgroup": "126",
         "line": {
          "color": "#19d3f3",
          "dash": "solid"
         },
         "marker": {
          "symbol": "circle"
         },
         "mode": "lines",
         "name": "126",
         "showlegend": true,
         "type": "scattergl",
         "x": {
          "bdata": "AAABAAIAAwAEAAUABgAHAAgACQAKAAsADAANAA4ADwAQABEAEgATABQAFQAWABcAGAAZABoAGwAcAB0AHgAfACAAIQAiACMAJAAlACYAJwAoACkAKgArACwALQAuAC8AMAAxADIAMwA0ADUANgA3ADgAOQA6ADsAPAA9AD4APwBAAEEAQgBDAEQARQBGAEcASABJAEoASwBMAE0ATgBPAFAAUQBSAFMAVABVAFYAVwBYAFkAWgBbAFwAXQBeAF8AYABhAGIAYwBkAGUAZgBnAGgAaQBqAGsAbABtAG4AbwBwAHEAcgBzAHQAdQB2AHcAeAB5AHoAewB8AH0AfgB/AIAAgQCCAIMAhACFAIYAhwCIAIkAigCLAA==",
          "dtype": "i2"
         },
         "xaxis": "x",
         "y": {
          "bdata": "u3/kYD9sI0A4m6neh1gjQG5JYpaEFSNA1HjYWgtcIkAHc7sxj6AiQJKHd2I9jyJAqGKTxvj1IUA3ZGS7Bw0iQOwJHPeLAiJAzrx0rZCZIUB96KmlAGohQB0jmiJmUiFAe22L7ZCMIEBYlNuRDckfQKgQtQ25NSBApSoB+rj0H0BuEOBljJQeQOiuxBTXZh5Ae/fQx/RsHUAVtZ7F+lkeQLZLk2U7ahxAYF/eca1jHED2Q1r3e3gdQD8/o0BsFhxAfJ302LI4G0BuzxAW8i0cQBfHhM4q1BtAGUlMajVlG0BAlpJyLlsZQFyJZEsO4RlAQ656/vPOGUAM+NH0bFAZQJ4Z4fdAUxlAfy/RsKonGUASxKL/pbgXQNhVKGCeGhhAAkTaZfc8GUCt4KZX0oMXQJWM/ILwChhAJXB6MeqgF0AN8mWvvnsXQC1iRsbhIhdAH/jP9QMMF0CZnuKo0sYWQHAyZJsuihZAMc0zoXnfFkBVa3aqANwXQMG/hknUVxZA7yGQT97cFkCUIfs+YtYWQO7w3vuoHxhAivQsJY+EGECA/COmekQYQAN4PkvHNBhArF9miIoYGEBmcb5oV6gYQHHdyceCkxlA9UhgFwjzGEAt0e0kry0ZQOkL1VWynRhAdMX9JbVNGkCafE9bMAkaQHNLMgXKuhpAQyoZhYIdGkDJTzqmAxoaQHwdRnZAWRpAUn/kpHD2GUCMarnvM/EaQNtFfbxARRtAaMzzYKEaG0CxIHBAJSUaQCPjTKg6kxlA9DFoolv7GEA5ExBQc+sZQLPxQoStqBlAU3cnWxmaGUCQccj/OsQaQDKNXqL74BlAeAZJuuNAGkDfsytx2YQZQMvLt9kuPhpA11VOWn2cGkBs4o3/ZPwaQKAQ2jyOZxpAPfGkzkwfG0DoDg+Nm9wbQAFD/JUiKB5A3Gq513MHHUBFBIhvtp4eQOxe+0Renh5Af4SSM+yzH0AnnyN2KkcgQA4uak5CyyBAvmXBgOONIEB3CtTAkHwhQAUZO4BJ/CFAD2S4ejGeIkAGVxJ0SbkiQOhwjhE2tCJAuQo5qqwhI0AEkR+RybkjQE8rgKcYFiRA50bKcJrwI0CR3hONUW4kQHMddrymTiRASdMnZHdIJEDURsIc1aokQBb22D9/sSRAaYpUOObyJEA6ps5yIDQlQJXxeykvBCVAfxrOS/B3JUBfzBia8sEkQCvRFS6J1iRAMJJRS57bJEDfwq/8yE4kQEWQKNpEFSVAtu8wj/84JEDnXrfX53AkQHY356sKCyRAsXgy9id6JEDBuVRLEXojQAT4EvZmliNAHtvytVVbI0BrB7MU9Q0jQARr7lBbbiNAKGp8+oOkIkDHJSbU9eYiQOne0tGsnyJAx6+XYZOPIUATZU2KR8shQIE2zsCCbiFAGI142uzLIEA7NHMyG6sgQBQu/4SEgx9A//0sB8eMH0CJpO0nI+AeQAc2Ec93Vx1APRede8z3HED21lS6GVkdQA==",
          "dtype": "f8"
         },
         "yaxis": "y"
        },
        {
         "hovertemplate": "Sequenz=127<br>t=%{x}<br>v(t)=%{y}<extra></extra>",
         "legendgroup": "127",
         "line": {
          "color": "#FF6692",
          "dash": "solid"
         },
         "marker": {
          "symbol": "circle"
         },
         "mode": "lines",
         "name": "127",
         "showlegend": true,
         "type": "scattergl",
         "x": {
          "bdata": "AAABAAIAAwAEAAUABgAHAAgACQAKAAsADAANAA4ADwAQABEAEgATABQAFQAWABcAGAAZABoAGwAcAB0AHgAfACAAIQAiACMAJAAlACYAJwAoACkAKgArACwALQAuAC8AMAAxADIAMwA0ADUANgA3ADgAOQA6ADsAPAA9AD4APwBAAEEAQgBDAEQARQBGAEcASABJAEoASwBMAE0ATgBPAFAAUQBSAFMAVABVAFYAVwBYAFkAWgBbAFwAXQBeAF8AYABhAGIAYwBkAGUAZgBnAGgAaQBqAGsAbABtAG4AbwBwAHEAcgBzAHQAdQB2AHcAeAB5AHoAewB8AH0AfgB/AIAAgQCCAIMAhACFAIYAhwCIAIkAigCLAA==",
          "dtype": "i2"
         },
         "xaxis": "x",
         "y": {
          "bdata": "DuIDQpZqHUDLbSirCRUfQE1jsjzevx9AaKRGgKWNIECKdKKt2WshQPd7o+VOTCJATFm9201ZI0AAyvy/drcjQPeQ2lBa5CRAyODkNC5+JEDqfouUZqokQFDFIw4fFCVA54bmKm/rJEBIZckPm7skQEwW/7XmfCRAp7B/kztXJUB3dBHvxjclQNNsuaQeTiVA9IAS3XBlJUCxchm67KskQFxFzigwQiVAwOJzruTCJEDKwxclgJ4kQMvZm5F+fyRAXUCK3xLEI0DKA3sqg6UjQFBd3h9GgSNA1iOYfKJuI0C3xHvDLi0iQH1oM62SCSJAIW2K3x9sIUDLXLFfUXUgQA0tSrWuGSBAAy0BA1zVHkBibmlysBQfQIIrsiDbOR1Av3c+Mhu6GUC0zH/7/yAaQNuqL+CdmxZAqICZJfutE0Arkf7ySpASQIfxlUSoSQ9AWmEIaBzSC0DIdjYOc58GQOq+EQVtSQNAA8VH+DNh/j/2bZDUdV0AQJVcBDraVwBAyMzUjSKHAUCDyHAxnEnqP6t+2Wio2/Y/+jAEtVWvAUBv4s1qQr3zP0SnzgenU/w/c34b/bPEAEBtrD7EcosEQCfDkp2NyAVAFw+pquW/BUCGDKs+03EKQHr/NluD5Q5A4AjT808JEEB+lWjtLd4QQBEhk5b/KhVAUAf9rgwgGUDqJkilByocQJCYkQRXSB9AUs+BCn7FIEBn4d9/QlchQEL/G2owbyJAYcBNj/Q5IkDjjlsPQIoiQGRC+xcqriJAXX2e8V6ZIkA8JgKwVughQA/E5Uf+RiJA3y0GGbPYIUAhBvxiyJohQKAHx4UpQCFA34CfXyhnIUD2OYAqFM0gQM7uWYPJXiBAztIH0/UGIED660lUcbgeQN8qMz7iOh1AfoL7USCrG0BK0JlHS64bQMNCBZfugxlAfKfPRdSnGUCmkc8muwwaQHq9V5HGvRlAZ8m1u77TGUCGJT1DICYbQMywSx4g8xpARYhmk4l7G0DHK9uPI/4bQBvnHM3tKxtAD0Z2ULjYGkASeKPaI6IcQBjgldWQWBxAHKupfKJeHUD6JoKwzX4cQKDNDGVM2hxA3tltMgFDHUAUa22QZQccQPy70qV/2RpA026XCCQzHEDLlzcp0rkZQEAjQKxj6BhA+KmnAcqWGUAGLB52EX8XQMYEDwrBphdAGgThjRjnFkBnA8uvXG4UQLacvb+mmRRAExiP4jtZE0CiEwan5hoSQOobtIwfLxFAY/HsMEQIEUB+5qRgbksNQFlUbHpOIQtA6Er6BFSUC0De4EdmSAsLQKsqYWSIcwdAaKun8/9iBkA17txM0SQDQAkD9AruOQBAm42A5O1K/j964Y9OjfD8P3eVh69nrvo/vLrw3EUZ+T9w7j59e3L6P9xh3JVv8PY/Mu1D5qDj8j8SAmUnUp/uP8YDP3AAnfA/Q7zMtjSG6T+CwJhoNtbuP9a7k4rOHfE/1saUGKu56D9WBcVDA6rrPw==",
          "dtype": "f8"
         },
         "yaxis": "y"
        },
        {
         "hovertemplate": "Sequenz=128<br>t=%{x}<br>v(t)=%{y}<extra></extra>",
         "legendgroup": "128",
         "line": {
          "color": "#B6E880",
          "dash": "solid"
         },
         "marker": {
          "symbol": "circle"
         },
         "mode": "lines",
         "name": "128",
         "showlegend": true,
         "type": "scattergl",
         "x": {
          "bdata": "AAABAAIAAwAEAAUABgAHAAgACQAKAAsADAANAA4ADwAQABEAEgATABQAFQAWABcAGAAZABoAGwAcAB0AHgAfACAAIQAiACMAJAAlACYAJwAoACkAKgArACwALQAuAC8AMAAxADIAMwA0ADUANgA3ADgAOQA6ADsAPAA9AD4APwBAAEEAQgBDAEQARQBGAEcASABJAEoASwBMAE0ATgBPAFAAUQBSAFMAVABVAFYAVwBYAFkAWgBbAFwAXQBeAF8AYABhAGIAYwBkAGUAZgBnAGgAaQBqAGsAbABtAG4AbwBwAHEAcgBzAHQAdQB2AHcAeAB5AHoAewB8AH0AfgB/AIAAgQCCAIMAhACFAIYAhwCIAIkAigCLAA==",
          "dtype": "i2"
         },
         "xaxis": "x",
         "y": {
          "bdata": "RCjhRrlWFEBFGgLUOMUUQPw3TEYIjxZA9ndXZCrLFUAR8hG/+XEWQM/+cf8a2BdAn0kmJEzdF0Cos/p09d8YQACKO7EejRhApKrF3y9jGUBGIn6VKKcaQGR9C5GOrRpAHcLczFJWG0Dn+wt6NDEbQKpXc7CeNhpAHm4auD8sG0A16QnUooMZQKxdoCXOMBpApCIsH/MoGUAyhkPHimsYQOa+6ojMjBlAQPIbEYrcF0DarufIfDMYQCI7Sfi5+xhAo7Zt2dXNGEDMW48mFhgYQF0x5PwaGRdAjplH7B+AFkCFvRaPASoXQNkWxsTiYRdATyzliigVF0AOoYdekfUWQCKJOiRJ8xVAxrM1z8jsFkBljxo+z70XQNp0ZvedAhdAnETKVIYIGEDCwJ+97e8WQNSzq0QCsRdA/F8g2Aa+F0DMNTdCCp4YQOqnnfHqJhhA0mcVlEw3GEC2JCetuwQXQJybvXVVKxdAOpEYcfBFFUAyJpqXzfwTQJ86WnGpORJAlpxtXjBnDEBciLxHdvwGQBJZDt5x3/8/MNbboHm89j9BuvJybWrxPwCOAt07Wfg/IpnhicHpAEAmc9zH56MBQBmRUt+LHwBA4VQ6nwpMAUBiAiJhipUEQP7DR31XkQRAENPXh2E7BkDI0AwdB5IIQNwUZRAUUQdAQQH/n9X9DUAFVJzgR90MQP0XJ/n5SBBAyEefi5LDEEB23g71HtoOQICDPxd8YxBAXlcksxClEUBQs/FQrWYPQBupA4DQ1g9AH67FRlgyDED1bCRw6UYNQAf1Dgbk7ghAF2N1gnujBkBQuEwqO3YGQOVYqlgUSgZAIHNljGd9A0D9yq9cY4UCQOek90XG5gJAFWB5v5B7AkAOUBXim/MDQKwiLeK17gNADPZePPZNB0Bn9c31smsHQCEYsqOgZglAZh7LtqwNDEDlnC0BDeULQD/KzYpiLQ1ABzq+dC6CEEBjJumrxPERQLTGcvHMVxFAlez9+pkNE0A6K1a50/MSQNhNUJMzUxRAVrGWWb7qFUBQBJFQq/YVQM//3D7iUhZAKrDiAbiWF0BB0nrtP0IXQE4/E79fXBhAI6Aui5uwF0AdoMfRXrAYQF/yRKPLuBdA5UtDVradGEAnTakYA9YXQNGhOlVzthZAGmzAcaUhF0Br7hNGVbYWQBx9pFXvxxVAmssoH0dIF0BO34hsUlkXQH6Xu4sVHxdA9NEVVDzWFkBeDFZywYUUQAoHNUsJ4xRA/05tXJ6yE0DmoDbnEaoTQI1QwKo0uRNAe2GIxa+cE0C3MK97R98RQE6liKaF7RFAEXehlh4TEUAYIceM42YRQBltMYnokxBAhKRTNK8wDkDN6EOsY84MQHnqYcC5BQpAzBzcVhViCEDHZu5798cHQIrdxt5BtAdAZnzz5iJ/AkC//2kxdxAAQAZBC/Q5Mvs/im7kTSuGAEBgkhJZSi78P+AX372kmPA/L2xBkN4A+D+ANGzk/kXtPw==",
          "dtype": "f8"
         },
         "yaxis": "y"
        },
        {
         "hovertemplate": "Sequenz=129<br>t=%{x}<br>v(t)=%{y}<extra></extra>",
         "legendgroup": "129",
         "line": {
          "color": "#FF97FF",
          "dash": "solid"
         },
         "marker": {
          "symbol": "circle"
         },
         "mode": "lines",
         "name": "129",
         "showlegend": true,
         "type": "scattergl",
         "x": {
          "bdata": "AAABAAIAAwAEAAUABgAHAAgACQAKAAsADAANAA4ADwAQABEAEgATABQAFQAWABcAGAAZABoAGwAcAB0AHgAfACAAIQAiACMAJAAlACYAJwAoACkAKgArACwALQAuAC8AMAAxADIAMwA0ADUANgA3ADgAOQA6ADsAPAA9AD4APwBAAEEAQgBDAEQARQBGAEcASABJAEoASwBMAE0ATgBPAFAAUQBSAFMAVABVAFYAVwBYAFkAWgBbAFwAXQBeAF8AYABhAGIAYwBkAGUAZgBnAGgAaQBqAGsAbABtAG4AbwBwAHEAcgBzAHQAdQB2AHcAeAB5AHoAewB8AH0AfgB/AIAAgQCCAIMAhACFAIYAhwCIAIkAigCLAA==",
          "dtype": "i2"
         },
         "xaxis": "x",
         "y": {
          "bdata": "SNzeF54mJUBLgNK8MCckQHp5noYuRCRAEnxKW0AtJEBAXraILSYkQJH+WkuYvSNA/IHpc86/JEB3xH2DqIskQC5zZH7E9iRANiOgFF4yJUCk4Xf/MgslQLTB9hOlQSVApGPcTVquJEATvZf6l+wkQISejhiPzyRADE1Lsh7vJECY2byErlIlQNLobmSUFyVA3qbv5yqYJUCgMMjIBX0lQMnpyDn3oiVAGoHGoEVAJUDJ4xnjfvgkQFB7SA4ObiVAsMFA3qziJECFXtM+5zElQMF2583fJyRAeZdPk8KSJEAO/lFebhUkQFJBjAq1ECNAiKurs/hsI0Bog923wpAiQK0q08DaMiNADcBBfRlAIkB63Nf+/zQiQIe7ffbUpSFA6WY1D5c0IUD2h0EXp2wgQA0qek8pPR9A0Kp9AwVBIEDw/sU4YisfQADSGKThdh5AVHuc8RuMHEBqEaMz+pQbQOnZu22LuxpArABLH7t3GkDxAOqZ97wZQPTWOkZ65RhApxFlvlEbF0DSHjhZMLMYQJRAO4Xp3BZAKXVeb2e0GEBKfwwbPvwXQNGhgoIXThhA4+7bBCGdGUDWU98+fXsaQP48mCz+kBpAyaUs4iIcG0BKi1z2CZkbQHtCGKRmfBxArvlws6+WHEDc2AmWPPkcQHi6TuqOUR1AGHQrtRTXHUATyErqf88dQDDd/jzjeh5Ae3BSpEKKH0DXwAd6F14fQPXVciRFwB9Ars/Af8ofH0CPczV9wGwdQHt7Vl60txxAc74pPSQjHECiSWqkO3cbQOBjRiILRBlAAzZHVqg7GEAWToT3y4MXQDk/Ts/LxhVAXHufkYRGFkDdXYdW/AkVQPjOFkcJ+BRA1YzqgqoNE0B4nGhd3d4TQHkhTuFUoBJAEObJlad1E0DXmfV+A9wTQLcJJycVORRAvBGL4+edFEBikvZV7nsUQIOdzTBm4BVAq9a91aQjFkA2qqzExrgWQP+Id9N24hZAfH4kgKBBGUDreiiqMf0ZQPssypD7expAeuxXRUUDHEAAgnIF92wbQCoikkL71x1Ad2TB0faMHUA4E1KWLeAeQJLTuk/c5h9ATegQDGYIIED5gObKpdAeQFAtyjLPnh9ArcmfpIJ2IEAfvVSD7BQgQBCglTUWpCBAZpJf4oX5H0DAymwLvY4gQJqOSOsahCBArNKJQGuwH0D0VafFpj4fQJwsMIGMBiBAKsfCK8n8HkDE0aNj5IEeQCBEc1DwlhxAsnk6BTidHEDqB9jO9cUaQJOnQ/zdPxtAppzYx9sjGUA+/APPlhQaQAG6y5JQJxdADAoDXEUIGEAr8bnlpc8WQHV0ictcJxRAnjB7c764E0Cg9DZtNRYTQCgjbmRXvBFA8EHLO8VfDUDcZTwgs/YMQOibUlXCWQtA2boQqH1VBkDgDQbWlyMGQOq6KBpvjgJAMDYc6RTLAkAuS8KcatX4P+Ov9lShd/M/I5HudGHs9T8fw+my5sb1Pw==",
          "dtype": "f8"
         },
         "yaxis": "y"
        },
        {
         "hovertemplate": "Sequenz=130<br>t=%{x}<br>v(t)=%{y}<extra></extra>",
         "legendgroup": "130",
         "line": {
          "color": "#FECB52",
          "dash": "solid"
         },
         "marker": {
          "symbol": "circle"
         },
         "mode": "lines",
         "name": "130",
         "showlegend": true,
         "type": "scattergl",
         "x": {
          "bdata": "AAABAAIAAwAEAAUABgAHAAgACQAKAAsADAANAA4ADwAQABEAEgATABQAFQAWABcAGAAZABoAGwAcAB0AHgAfACAAIQAiACMAJAAlACYAJwAoACkAKgArACwALQAuAC8AMAAxADIAMwA0ADUANgA3ADgAOQA6ADsAPAA9AD4APwBAAEEAQgBDAEQARQBGAEcASABJAEoASwBMAE0ATgBPAFAAUQBSAFMAVABVAFYAVwBYAFkAWgBbAFwAXQBeAF8AYABhAGIAYwBkAGUAZgBnAGgAaQBqAGsAbABtAG4AbwBwAHEAcgBzAHQAdQB2AHcAeAB5AHoAewB8AH0AfgB/AIAAgQCCAIMAhACFAIYAhwCIAIkAigCLAA==",
          "dtype": "i2"
         },
         "xaxis": "x",
         "y": {
          "bdata": "jLu7hOSXHUDQCFo+pS0cQAJeZGSomRpA+3af57+5G0CytqP/+xocQOF4zKGzihxA0eii456rHkAPtf0eAHQeQH34CuBtVR9A7QPSCzszIECW484OqjQgQAWCvg5LKiBAnKuBHK09IUCOE0QRNwghQNWwLZKneiFApPySyWIMIUC937H0txohQA9pR6QTryFABLoLdL/uIUAdCeDPG9QhQJDXl9JC0SFANi0C6NXJIUAfMxRzWSwhQPhkQ0XKnCFADTOz04RjIUDEN/umjZ0hQOh2MuEMxyBAVWvmDHqCIECg4KH/asQgQOO4MDvzMCBA26X6vLzlH0DAK3UGSD8eQHGOYcG7yx1AW8UcAcTPHUCsMHHk9dodQONp7Z662htANuxmoamdG0CEPBneqQsaQLc8CGFJtxpAuepZpd8GGkBwY2DghNIZQJq571ZqORhAQB9LOR3FFkBU+zVQ2mMWQE4hia2vPBVA856TZ4xMFUCWO3G5Qi0VQEsHqh6jnhVAVACRPU7RFEAXVRG4dKoUQB+ewUfEDhRAXZg285NLFEC+RccjCr4TQAYmCuv3dBRAY7dQ6vgeFUDTpsKqfzwVQJpeLXDMsBZAZ/o7xF15FkCoG3TmMTMXQD76Pu8UNhhAWjIpLvknF0AG2U2JffwWQAkvwxcIDRdAopqn6UdIGECOHQxyBnUYQIUTJxA39xdAGLh6iuQDGEBe+YtCDDMXQL/5V0vP+RZAdT7xOi6pFkAD4yhF/0gUQFIY5fLt9hRAvLdpKcGFE0D8w5MTHbYSQBWg2772kRBAx0SSKG1ZEEBm4SecffMNQBdr213UTgxAXohL8In1CUD6Cv7Ts+IHQL+mq/8qtwhAeOR5BKloB0ALj9wvKBQIQBIqhYmH3QRAzw2xZgV1BED346AZgekFQO63pv/DPgZAxzra85E+CEBi/Z4f3zsHQOmKIRb0mQpAuf91w3N+CkD8SJ+ysnoJQGvrDiBOywlA84v5qjokCkDj8uuFnUEJQJzEYr9LhApALzBZN+mqCkB4X7OdCXAKQGsDvFWyCQhAi2TaqGgLCUCE2C79iE8KQNCiSf4VpghAxK7VU1luB0DP3me44BwFQGFGQx0RjwNA4aDKgwIRA0DzoazrQ1sAQF3Sua9QcAFA1n3YoKZr/D8Qo/JJcyX1Px9C8OlBSvY/hNCyx1JQ8T+msHtX3+/1P0jY3xsMzPE/be4jhGUD7z8FPSoUwM7wP2gCFb7HiPE/oxf67dLO8j/UFUS/oPXzPzGuZ7Ut7t8/HIvjb+Jf4D+oaziC4G/sP+QeUaM1KuM/eXKjnNy65j+Lw4ntbOfqP5XRgWZGKfI/sAVNlr667j8id5M1NNvwP0N7Hen25+U/o62LqTde4D/UlyALwJvlP3xEcLmcOPA/PN21fLk05D88fkQndGrsP98ox7Qdcug/tGSUkPmy4j8yeFWCN0viP0QIlt0H8eE/HfVc4xbbzz9RVh6ZZobhPw==",
          "dtype": "f8"
         },
         "yaxis": "y"
        },
        {
         "hovertemplate": "Sequenz=131<br>t=%{x}<br>v(t)=%{y}<extra></extra>",
         "legendgroup": "131",
         "line": {
          "color": "#636efa",
          "dash": "solid"
         },
         "marker": {
          "symbol": "circle"
         },
         "mode": "lines",
         "name": "131",
         "showlegend": true,
         "type": "scattergl",
         "x": {
          "bdata": "AAABAAIAAwAEAAUABgAHAAgACQAKAAsADAANAA4ADwAQABEAEgATABQAFQAWABcAGAAZABoAGwAcAB0AHgAfACAAIQAiACMAJAAlACYAJwAoACkAKgArACwALQAuAC8AMAAxADIAMwA0ADUANgA3ADgAOQA6ADsAPAA9AD4APwBAAEEAQgBDAEQARQBGAEcASABJAEoASwBMAE0ATgBPAFAAUQBSAFMAVABVAFYAVwBYAFkAWgBbAFwAXQBeAF8AYABhAGIAYwBkAGUAZgBnAGgAaQBqAGsAbABtAG4AbwBwAHEAcgBzAHQAdQB2AHcAeAB5AHoAewB8AH0AfgB/AIAAgQCCAIMAhACFAIYAhwCIAIkAigCLAA==",
          "dtype": "i2"
         },
         "xaxis": "x",
         "y": {
          "bdata": "fRynL/l/G0AXyeqpGVYcQBfvIY5NtxxABxQ2CAVEH0CqvqSiSBIgQPgx6io/4CBAX/V/NrYNIUAcYvk7W9MhQFkGpbaQWCJAxN1WnVgJI0DVABHX0CQjQAwJdD2yoSRAacJxFHskJUD1kFJIw48lQNNpZWAAFSZAkTklZQRCJkDQozxmBmgmQN/HmvPzwSZApasdov4lJ0DXLCG01IQnQEKqbrVn+SdAiwk3LCkuKEDpu+Jmot0oQNTgUn+N1yhAdd9E408bKUDH/jJ2QuEoQBMgV2bypyhAjTo5BK73KEAjgnwqpRwpQNmm6zaU+ShApk8Bp4NoKEDhdWv16cAoQJd0A42RYShABKsTexi4KECHYJv51w4oQCqsBi7sTSdAtd9cvMJAJ0B9dzD6CrImQIgeBvpe1iVAIrymbaWJJUASgSQvxpQkQGtGQZEZVCRADVCw6dWfI0DkfFDAMlwiQJhzNjf/qSFAgbFY0dq4IUCzErjHwX8gQGm/44u5ax9ABczj5Fa+HUDll7RgcgcdQOkSNF/YchtALcUP4Ky1GkAUr95HrjIYQOWsg8OrHhhAEgAYn9xyGEBZ616alBMYQARD9icaJBlA42mFR6XdGUA8eraO8J4bQCz7sStDgBxA+iYqFkt7HUBUEIXnNd0eQKzx4gyTdx9AUV6F0gZkIEBFLljN5pIfQJ9Caaxg6SBAwLXumkNiIUDwQWPnKWIhQDSvwsYcxiFA2ur7C2MuIkD5VlY0RQwiQI6BFsTPlSJArKQlkeniIUAd0Bb6jToiQJcI/CBVECJABEJrt4TdIUCarj4Pcx8iQHSliA6/HCFA8TVjFn8xIUBmO5CvyjsgQARDeKFCrCBAC4E3Np4nIEA4wQKjO6cfQOwq0MjiTR5AvaBLoq+jH0DPfd/da70fQE+u3gAfGR9Ax/g+ArH4H0CGCsKHHdkfQOxosNNr8x5Axh5nUNr7H0BioRvgJ2IfQD5+mgVK3R9AkAnCkkWLIEA9ywuqVvgfQFj2kjq6tSBAl5bc/l2nIEDxweh8oUQgQNN4s1Jq0yBAxatZtWCyIEAmpDIJ8HEgQFIB5CRDjyBAguVUvwXJH0BURlJT7/IfQDQTmr3JbyBA1+WFHoA7H0A83nx6F5MeQMlHKwWrBx5AlDBPVw+9HUDCOMuM+/odQEGGqspb+RtAGv+WoOsUHUAd3dT7w7EbQGPrZ2+PGhtA/gRzvQl6GUAKqZIpFYwZQHf1VQF9FBlAJkd0m1k8GEBQr3/mKV8XQIOpSUIIBRZAOUnR92rkFkC268NMUaEUQL0OfUtTcxVAn8xaaIGSFEA86GNpFNsSQDZBnvSsChFARK1d6gYPEED5tsMbQYAQQFqd05GZYQ5AX2AbJvj8C0B6uIdVavQKQIYH67vVEAhAsHDstZ0iAkB3GwRXvoUBQIQOWz0K2/4/N3S1qdZ7+T9qOevXvZHxPw32cPUM/e8/B5ktMECnzT+hvfUUD9LpPw==",
          "dtype": "f8"
         },
         "yaxis": "y"
        },
        {
         "hovertemplate": "Sequenz=132<br>t=%{x}<br>v(t)=%{y}<extra></extra>",
         "legendgroup": "132",
         "line": {
          "color": "#EF553B",
          "dash": "solid"
         },
         "marker": {
          "symbol": "circle"
         },
         "mode": "lines",
         "name": "132",
         "showlegend": true,
         "type": "scattergl",
         "x": {
          "bdata": "AAABAAIAAwAEAAUABgAHAAgACQAKAAsADAANAA4ADwAQABEAEgATABQAFQAWABcAGAAZABoAGwAcAB0AHgAfACAAIQAiACMAJAAlACYAJwAoACkAKgArACwALQAuAC8AMAAxADIAMwA0ADUANgA3ADgAOQA6ADsAPAA9AD4APwBAAEEAQgBDAEQARQBGAEcASABJAEoASwBMAE0ATgBPAFAAUQBSAFMAVABVAFYAVwBYAFkAWgBbAFwAXQBeAF8AYABhAGIAYwBkAGUAZgBnAGgAaQBqAGsAbABtAG4AbwBwAHEAcgBzAHQAdQB2AHcAeAB5AHoAewB8AH0AfgB/AIAAgQCCAIMAhACFAIYAhwCIAIkAigCLAA==",
          "dtype": "i2"
         },
         "xaxis": "x",
         "y": {
          "bdata": "1TBbh/o5HUCZZ8x07TgcQOxDHp5a6hpAiayrdmSEG0DD1jPzthEdQILOlYui5RxAEE6z/GVGHUDTvJgW0ccdQLmHhGTTaR1AbuL+9KZ3HkAHnXzx4+weQNFuE9jRRiBA50tcrbFrIECdmSUgqkUgQEOpfwqgnCBAqwpa0XskIUCI7h6poiwhQBRnkHDJFiFAsEkEQoPIIED+Y6wGPNohQHwEs7GBUiFA5SgW+PUZIkC6xUXpxHIhQOxIB6pVSCJAFGMCU2jeIUByQlx7ChMiQLIi/PA5iyFAT1qraDuuIUBiRH4zU/AhQEWQCjA2DyFA0MEXu+vRIEDZTUXfYrogQOeWfCVYTyBA0gL5SsdYIEDbYXN1UaIeQDChIxoZfB9AV2xCR4PJHkC5F56KXi8dQPK4ihxcWBxAL5nAIdDCGkCKZrL0VEUZQDvpj51aMxhAZfYmikF/F0BPQDhn7okVQHPAjAM1BBZAah1VvK3cE0AI1X4d6ugTQFDalcGpYxJAuZWi5p6xEkBXIqWubhARQJWVROo/YRBAete/AX/LEEBb5BlfShwRQHSUEGCxrBBANLw6KuLCEUBQDzNjBJERQKFnAzLOYRRANTfPc5qkFEDFikX/WfAUQCKYcCOzjxdAQCIrQpx4F0BIdL7yjFwZQBwxlTU8RhpAKbjzHFWPHECQz7SVZiweQAqCaTGohx5AN7hzmZ96HUBhingbL0ceQDLUCZFm1R1A1cha0UcyH0CwTLlUcKwfQBg05ffBBx5Au4PprCmMHkCusQERwKoeQA9VsYX+Lh1AoO7VaPviHEDvpXnG70UbQM5MwjDXmhtAhUT3ACD+G0Cn86ufiDEaQFRcWbIrLxtA8qbrLJA2GUCYWyJAwlEZQHLRmvIx6hlAufntNFrpGED62dIbfvIYQJOQIE4nWBpAjrX3fZg2GkCNBBNgmgAaQLo/PyKI+BlAtZNN2NIxGkBhH+y9YA8aQFSZP6/bahpAcgkxYVrmGkDNaLrCKgUcQOhjSlmfFhtAni6FYXlHG0BA7U4Mq44cQMML0MxrWhtAXzu+lc6gHEDbc1eRXaobQBqE9bIQsxtAY8mq5bD/HECUS2S9LzscQMqmXXLG4xtApZnSkoYWHEAoUR8a3F4cQDXmiFQieRtAx31LpUiuGkBooN/bBxIbQPY9TmDRnRpAVbLnAOAcG0By1ne7jcYaQBnajN79YhlAE38mAP+HGkCwj1ocDsEZQLjwf8maRRhAgx+uyBSfGUBuxIZsZtkXQBuPSrXvNRhAp/VUSZSDGECt5L1fr6oXQHA9dduX5BVAt8RP2OcAFkANs8T0/OsTQGJI0y4eBxRA+LfPCxXIEkCRRzsPiCASQANVG6idGxFAhGLJ+wQxD0CDX599kVUNQHsBLcEuBgtA+EoZVUtACEDIdmZCeBAEQNh9jFWEggRAHWOMy1ywAEB5wuE2ylACQAFjcsJ6cvw/1hTU973x/D8nKmprYXv0Pw==",
          "dtype": "f8"
         },
         "yaxis": "y"
        },
        {
         "hovertemplate": "Sequenz=133<br>t=%{x}<br>v(t)=%{y}<extra></extra>",
         "legendgroup": "133",
         "line": {
          "color": "#00cc96",
          "dash": "solid"
         },
         "marker": {
          "symbol": "circle"
         },
         "mode": "lines",
         "name": "133",
         "showlegend": true,
         "type": "scattergl",
         "x": {
          "bdata": "AAABAAIAAwAEAAUABgAHAAgACQAKAAsADAANAA4ADwAQABEAEgATABQAFQAWABcAGAAZABoAGwAcAB0AHgAfACAAIQAiACMAJAAlACYAJwAoACkAKgArACwALQAuAC8AMAAxADIAMwA0ADUANgA3ADgAOQA6ADsAPAA9AD4APwBAAEEAQgBDAEQARQBGAEcASABJAEoASwBMAE0ATgBPAFAAUQBSAFMAVABVAFYAVwBYAFkAWgBbAFwAXQBeAF8AYABhAGIAYwBkAGUAZgBnAGgAaQBqAGsAbABtAG4AbwBwAHEAcgBzAHQAdQB2AHcAeAB5AHoAewB8AH0AfgB/AIAAgQCCAIMAhACFAIYAhwCIAIkAigCLAA==",
          "dtype": "i2"
         },
         "xaxis": "x",
         "y": {
          "bdata": "TVm4tGAvJECRcmiXBl8iQJNDo77T2yFAzogjkBHRIUBLiOUmXMEhQNcVjvaIuiFAgQpJ9lSGIUDi1OMiCJ8hQL51HFtXqyFAQ54o89ysIUB+fxiv/1khQHNR1Y6sdCFAOZlVrT81IkAoS+qZo8QhQKVRCeNbUiJA1Qq086DBIUBrnWpKGEEhQHhfUqXB2SFA0wzkHPYSIkCaEWDM3fghQBamhnXPDSJAOvLIa4TJIUA+g6lZFWkhQO8TjMe0sCFAi71AM4K2IUCZd5D+7IchQOw+8H8b2CFAwvarrUdmIUAIffc40h0hQC0cZQekMiFAU6Ida47HIEDmiiA5jRAhQFU2hwoyASFAz69+E0VVIEBk95BwkDwfQEOiVUX3gh9A0/T3p9U+HkB81IWExcIeQDpf9L/uTB1APFJcjbPzHUAas8pT7lsdQNeZHBw1eBtAgeyLk/qgGkCvAEmSjDgZQCF1/ulBIxhAAEjl6Uc1GUCNS4SlCvoXQJIqqJRiORdAp4WWBBlRF0AwjFTjZlwWQJ5AAsbU7xVA079TqxRiFEBlC7312SgUQBrxPQu87RJA8qEs0WEeFEAQbOCq2+8UQNR9HYWikBRA7yGNYMxaFUBK2pNhvLcWQCzylb1HDxZAZflDjbDUF0Dzj88q4KMYQOzYUMahgBpA7VUBU8OnGkD2+GekeLYaQAr546kwwxtA0pBVj2fvHUBwmyM9kFQdQCS1bsHpPR5AfTu1bWoEH0BbFxwqBs8dQP+DB2CHsh5Abfs1aZ0CHUAjX6kcR8UcQKG4JFxOQRxAaseuKTKeHEBOoFPmub4bQLcZ/A0dbhtA0r5wrG47GkA4IGdF7JkaQMJtV3KGsRlAAZEMFJBVGEALfMjTcBQYQEwz8ntgMhhANWTRrc1nGUA5xXhzEJ8ZQI4pfA7KhxlAkmOT8clPGkBaVYMbvvcZQKtD0REbaxtAFa1+v879GkAi73B24NUcQCoNdRALKR1AFn9KWNuoHUAliwxviuQfQNS5O8KxHSBAz9jZ0sL0H0DZqhYkPaMgQGGspzqLGCFAUHYJITegIUAhyQGkISQhQFEFc6wOvCFA57OgUXq1IUBGhRg2vNwhQBsAnDXsHyJAHCHydu/OIUCR17i1+20iQNAADFDzRSJAYnvDApccIkBwSWeUqsAhQOt7CtAeriFAAz4AhT/PIUBkhESUL6MhQNERmdgbWyFAatub4F5xIECbxcdLtaUgQB4hOAGOyCBAzaCRi2jOH0Bxu10GXb0eQLj8+VUMIx5AjzAGQ/IlHkBUi3Wda+ceQJa/bSxlhx1A0JItDjekHUAY7U+gZlccQIH0tDXovhpAiVohYHrcGUAaarmAV20ZQNDpF9dmCRhAFp2qBHdyGEBxP64Sb9gVQDEVcRpLFBVA+pjLT/z6FEBFW4+XoPETQH2eXXVlqBNAN40sK/ehEkAnxnvlPuoQQGht0jUf3A9ABKn9rP9ACkAHxMhK2gIIQA==",
          "dtype": "f8"
         },
         "yaxis": "y"
        },
        {
         "hovertemplate": "Sequenz=134<br>t=%{x}<br>v(t)=%{y}<extra></extra>",
         "legendgroup": "134",
         "line": {
          "color": "#ab63fa",
          "dash": "solid"
         },
         "marker": {
          "symbol": "circle"
         },
         "mode": "lines",
         "name": "134",
         "showlegend": true,
         "type": "scattergl",
         "x": {
          "bdata": "AAABAAIAAwAEAAUABgAHAAgACQAKAAsADAANAA4ADwAQABEAEgATABQAFQAWABcAGAAZABoAGwAcAB0AHgAfACAAIQAiACMAJAAlACYAJwAoACkAKgArACwALQAuAC8AMAAxADIAMwA0ADUANgA3ADgAOQA6ADsAPAA9AD4APwBAAEEAQgBDAEQARQBGAEcASABJAEoASwBMAE0ATgBPAFAAUQBSAFMAVABVAFYAVwBYAFkAWgBbAFwAXQBeAF8AYABhAGIAYwBkAGUAZgBnAGgAaQBqAGsAbABtAG4AbwBwAHEAcgBzAHQAdQB2AHcAeAB5AHoAewB8AH0AfgB/AIAAgQCCAIMAhACFAIYAhwCIAIkAigCLAA==",
          "dtype": "i2"
         },
         "xaxis": "x",
         "y": {
          "bdata": "MZ3cC4H8E0ALiwkpufIWQBdJauuE1BhAdoHd4qP0F0BAnGHsj8QZQGhxbXfD6xpAr3EhSyK3GkB1h3dmP4obQKjRoqJsshxAoLWRKMtYHUAnM/w0uqIeQAJ7QhbUDiBAUWZ96CktIEC8DJ+nbQIgQG/wnA0n9yBA7Tj4WZSVIEAjvni7InUhQLuJFVYXwiBAL84ZpPowIUDV66gxu2chQEJht+ei6yFAY9pXzBpoIkDExxff6sMhQOc22bepOiJARdzWBPKJIkBACHiEWu4hQIOBIt7bsyJAj6+0keMBIkBznBfls1ciQJrM012kISJAVZ+CLYI0IkAQoe9JbmoiQDpNsg5W6yFA81x9aoz7IUAXJ94WN/IhQHzGWX7+zyFA9hrxaKZNIUAGKmHMxFIhQCOuyMo4jiBA83lpAlJxH0BD4QCU/8AfQE9jy0ekXh1AhYZs+URvHUAazdi+fIUdQNMtwnVnpxtA2OGbTFIIG0AIJap/iXUaQFqjWJQt3BlA5wHqIsyoGECuO/0FAfwWQK9058nf2hVALAvdAGrbFUAFQwoZbAsVQOfOD5cGdhZAAXXdKzO8FEA0vYVCprQUQCdwGA80LxZAcUWE4KAWFkC+NrHxymsWQD+2LTjmexZAeDOLaMS3F0Bs7+ywrcYYQEkRzfJqvhlAiifR6hYzGkBL5iZIt/oZQFXumkvzuxlA896bhLhTG0AWr0NigTwbQLtSEq19wxpAYBGv03EAG0AwR2wABuwbQIbf94vunxpA5grMAdFjGkAgWqg3B2AaQMLKwwUNjRlAD2novbr6GECutXwFlrIXQOIspih5oBdAtEeuLkKeF0DDFutRcowWQF62JQKz0hVALxYgq/FJFkBpcb52lkAXQKhl/VpE1hVAnll2LWlUF0Df/qyvpsoWQM8CTle3iBdAV9xPiy+1FkCb7DFQSQgYQK27R6d31BZAwpJdHApjF0Aiy4cbwFMZQNPLj5mTsxlAks+g21ItGUB/o/ijM+AZQNzjP0gBPhlAFrAhdP6DGUCJTAj1PPgZQOHZf5SC1RpAPOM4qpT3GkBb3EKr/LgaQGtbih5TlRlAx2wYA6l4GUChDyH7AtsYQL6aAZh7zhlANO0gjqgiGUA4HoTQd8QYQBiVgZLvfBlAKLuxTSd9GUBcDsdII2UXQH+S4voyORhAbbBKLOVwGECHgcQNn6IYQG2nLGe/3BdAd5/boa9XF0AsDZc8LaMWQA7ozK2l9BdA5g4p07XJFkCZU3MfzOwXQDVhqSu/IRhAYw9M7zC6F0B3ll9fAmYWQASQr/b6ehdA2+DHK8wkFkDKXhfM37gWQPEiMTfxPxZAONYI2KEhFkDA/uly4j8XQDJIb8+/lhZAJKdOvKmXFUCf8TDbrhQWQM0ALlT9uBVAHa1y1ldKFkC49ia6CY4VQJq5qrP9XRZANBK8m2MmF0AecK96wTMVQFxxKnwwhxVAPst8Xk5aFUB+d4vwFp8UQA==",
          "dtype": "f8"
         },
         "yaxis": "y"
        },
        {
         "hovertemplate": "Sequenz=135<br>t=%{x}<br>v(t)=%{y}<extra></extra>",
         "legendgroup": "135",
         "line": {
          "color": "#FFA15A",
          "dash": "solid"
         },
         "marker": {
          "symbol": "circle"
         },
         "mode": "lines",
         "name": "135",
         "showlegend": true,
         "type": "scattergl",
         "x": {
          "bdata": "AAABAAIAAwAEAAUABgAHAAgACQAKAAsADAANAA4ADwAQABEAEgATABQAFQAWABcAGAAZABoAGwAcAB0AHgAfACAAIQAiACMAJAAlACYAJwAoACkAKgArACwALQAuAC8AMAAxADIAMwA0ADUANgA3ADgAOQA6ADsAPAA9AD4APwBAAEEAQgBDAEQARQBGAEcASABJAEoASwBMAE0ATgBPAFAAUQBSAFMAVABVAFYAVwBYAFkAWgBbAFwAXQBeAF8AYABhAGIAYwBkAGUAZgBnAGgAaQBqAGsAbABtAG4AbwBwAHEAcgBzAHQAdQB2AHcAeAB5AHoAewB8AH0AfgB/AIAAgQCCAIMAhACFAIYAhwCIAIkAigCLAA==",
          "dtype": "i2"
         },
         "xaxis": "x",
         "y": {
          "bdata": "k7pMLvIwHkC6eWp4uT4dQCS949fbhh5AGaZdCikSH0BSHU4/PSAgQNyROH4qKyBA57YJj/BKIEC05Sq8u+IgQPe09Y7HvCBASAa14vN3IUAc8mZ4j3MhQOkek2//0yFAgmeLdhX7IUC4QrDHW+khQMth3m0OOyJA/NCKWCubIkD5RpZgpT8iQEw9n/AFPiJAmP1RtM+zIkAibhpwm7AiQDA1xihT0yJAooKidBDtIkCxP/Jev/oiQLAnS6Z8+SJATL5cfCQCI0AaJVG6W3oiQMa0oi/xbiJAtxGU/C0TI0CmcYgrUg8jQF/EdeEW7iJAN9z/sY9tI0B2yoduHfAiQO2RVe+6iSJAP9zZk1hqIkDfLB5lLH0iQDcaAWEKByJAdTmy9fFRIUBXVMv1fkkhQBiemNgF9R9AFqsMaXeGHUA3LfVAzCsbQBDWEmjkcRhA9J5L9AYiFEC1gv085+ERQP0EmC29CA9A+rXWfpF6CUCi35/j45QDQLkGhFot0fk/PYAst8wY9j+atpPr3rv4P8wgKDQZPfk/wcH6WNMq7T9TRxrD9bT1P/W9WiFXRQJA7qbC/f9X/T9rzoq6N/n8P72kLb4IYQRAWO2P2zhXCUC9ct6AwiQMQO/nh7cwzA1A0wJRibZ+DUCGjzI4qWARQJck8BPkuxBAf6Pq3O/6EkBcgtWPgYYTQM3R4EmYJhRAFnfrI6SbFUDLzdreG38VQE0yWQiaDhZA0pup6vn2FkBM97IP2GIWQHGjgBHRlhZAU1pcxZgNFkBlCAljbJwVQPzdc49isBNAKMrLtOVjE0CHgbgujJASQDou+YR/ahJA/91mY9JxEUBxq7cFGwUQQLUs7KtuBxBAirHVDDQyDkA9Q9MKj1AQQDXNhprj1g1ACVF9p3NREED3qlE3qo0QQOcpzgu90xFAOOFvFnFMEkC8fiBKQWkSQPj/8fBx9hNAdB9Q+EZtE0BM/usf9A4VQKfkC52m6RVAkyPOgUxOF0ALiAO1PocYQNzq634lFxlAVb2+FqG5GUC56a7W/HAcQPAxSCh3lRtAR8uQ81aWHEAKac6FzdIdQE5ZWvxqTR9ACdvVR7FPHkBNEIZgt24fQHswDbDzkx9A4ALLM61bH0BrKcsnRFAgQK6u0BlPVSBADwJv4DKCIEAuAtRvAnAgQGIqNgIDxR9AMaP8p72NIEDBRo0xNdQeQN4/34UomB5AZedPUBOGHkB2Q4+98tkdQF7H8JNJ9h5A6AZo29RnHUDx5VN6EzcdQJH9zJw9Bh1AKJlnL9BLHEDo4Y08cUkaQL+TJ0U9YBpAmtLAOimZGUA7Iu5++/QXQE5CfeMDLBhAiX/95jHpFkDKJMQY3rcVQC8DSSzAaxNANKywOGJ9E0AZfkvoJBERQAGqV8i4PhFAnGTTjV5TDEBJiSx8u+cKQCJl0l+iLgpAnMEEciziBECVbKHubwECQBkKZjF84AFArBvHR86q/z9JBTzU2NP3Pw==",
          "dtype": "f8"
         },
         "yaxis": "y"
        },
        {
         "hovertemplate": "Sequenz=136<br>t=%{x}<br>v(t)=%{y}<extra></extra>",
         "legendgroup": "136",
         "line": {
          "color": "#19d3f3",
          "dash": "solid"
         },
         "marker": {
          "symbol": "circle"
         },
         "mode": "lines",
         "name": "136",
         "showlegend": true,
         "type": "scattergl",
         "x": {
          "bdata": "AAABAAIAAwAEAAUABgAHAAgACQAKAAsADAANAA4ADwAQABEAEgATABQAFQAWABcAGAAZABoAGwAcAB0AHgAfACAAIQAiACMAJAAlACYAJwAoACkAKgArACwALQAuAC8AMAAxADIAMwA0ADUANgA3ADgAOQA6ADsAPAA9AD4APwBAAEEAQgBDAEQARQBGAEcASABJAEoASwBMAE0ATgBPAFAAUQBSAFMAVABVAFYAVwBYAFkAWgBbAFwAXQBeAF8AYABhAGIAYwBkAGUAZgBnAGgAaQBqAGsAbABtAG4AbwBwAHEAcgBzAHQAdQB2AHcAeAB5AHoAewB8AH0AfgB/AIAAgQCCAIMAhACFAIYAhwCIAIkAigCLAA==",
          "dtype": "i2"
         },
         "xaxis": "x",
         "y": {
          "bdata": "L49vlsTeHkDeWh0lqPQfQGPtEdrJYR9Alz3MXt3vH0Aiu99PtrAgQCtJwgbj7CBAuRd4aP3VIED0GoROJDkhQKDY0yXDACFA8nad1H5UIECcSV8TmWogQP1E4JN/rR9ATPkJCPhbH0CEMN+6/uweQPRWLSbT0B5AgE3XK7t4HkBqSIipH6geQP6IGxiDVB1ALDN49bErHkDk4s9BFBQdQGhls3tFZh1AAGiWsmZMHUBuGRE6ajscQES8anA+ZhtAyNjVZ5q4G0DaZ8P22jgdQI86/ZawBx1AN46fjBxkHUDgL0rLgUMcQFP/EtgNiRxA4P0RYlO1G0DcubrTKHoaQAwaXxbRLBtA1FYJ0QsEGUBedx3vah8ZQM7Uw1bTUhhAxcy94CorGEBwyKdyWT4XQDaPfPnjERZAo6HH/2vZFUAf1t0JYB0UQNxZx3tznRNAxSIObXtQE0Cl0HcLXq0RQLdVpDhz6hFAxsuPMMj0EEBzPTVBdUMQQOhMU2AkYxBARjKV04R7DkBskawAAZgPQJ3A+FXGFAxAFqaxckk6DEBE/LB03SUJQMbsPCqvCwtASZO/IhhZCkC/9jGL7JkKQNh1y6nfBwxAqYmiOc7/CkAb4bOm0dYNQMVd02wrGw1A8O2y+g4TD0CsCn7mr6UOQMcyY2gnmBBAUUEGvC4iEUCp8U3fX7wQQHJmDb/IGRBANjigXKZSEEAcMowSS7IQQP+0siwm2w9A8mIwRd15EEAmtr+i+voOQHhzu7uLGQ9AtbK4CZ4vEEATjXVPyCMPQE6P+ASlZw5Arzyd/F2XDkD1d2ap1RgOQJBBYMbWRQ5AL1S8tKGBDkCrE2GgwbwOQLl3wog6LQ9AI0Sa0ID0EEAyRwD1yFsRQNl1szmw9BFA1ql1dhYsEUACrIayGhwTQCiceiP0JRNA2UW5lzisEkCZcU+kMFwTQPfBnpQ7fRVAQBMpD/JGFUBAEvEo+BAVQEVrxhxKLhZAvnOvni95FUD9IiHCnxgWQK0n6KPNCxZAH92O8mgHFUCEztYQ4wYWQAx4HF4uoxZAbXnA7NqvFUBtw1j7hWoWQJielCuePhZAIP10FkfAFUAby8D/sXUVQLohT8oSyRRAZYvcBRJYFkCecfAf+QEVQOEL2luelBVAK5ZxOTuqFUD7OqJdwDYWQMeFR0EChBVAXaTh9YgyFkCJCuqvJWkWQLoWoBPTchZAF5TaCE+2FUD29EJeQ78VQF5I8+ES0xZArAwGn9N7FUBfFkG3oWYWQNKPKgsH5BVAsD6J55HAFkBXI2KgQokVQK6+LQVMpBVANzlVa+n7FUCEXqkRSzwVQEf3kT60wRZAvaYvr4WVFUBs38IiEOEWQJ8VpMLQ/BZA8S4r4UHeFUB7+wvgY2AVQIKR13TUJhZA3igxkiaXFkDEFiWd1v0UQLyMdv8jsxVAkljKVqi6FUAkOYV3cOQVQJNI1lAfABVAXgen0++NFEAbDa3NxOoVQA==",
          "dtype": "f8"
         },
         "yaxis": "y"
        },
        {
         "hovertemplate": "Sequenz=137<br>t=%{x}<br>v(t)=%{y}<extra></extra>",
         "legendgroup": "137",
         "line": {
          "color": "#FF6692",
          "dash": "solid"
         },
         "marker": {
          "symbol": "circle"
         },
         "mode": "lines",
         "name": "137",
         "showlegend": true,
         "type": "scattergl",
         "x": {
          "bdata": "AAABAAIAAwAEAAUABgAHAAgACQAKAAsADAANAA4ADwAQABEAEgATABQAFQAWABcAGAAZABoAGwAcAB0AHgAfACAAIQAiACMAJAAlACYAJwAoACkAKgArACwALQAuAC8AMAAxADIAMwA0ADUANgA3ADgAOQA6ADsAPAA9AD4APwBAAEEAQgBDAEQARQBGAEcASABJAEoASwBMAE0ATgBPAFAAUQBSAFMAVABVAFYAVwBYAFkAWgBbAFwAXQBeAF8AYABhAGIAYwBkAGUAZgBnAGgAaQBqAGsAbABtAG4AbwBwAHEAcgBzAHQAdQB2AHcAeAB5AHoAewB8AH0AfgB/AIAAgQCCAIMAhACFAIYAhwCIAIkAigCLAA==",
          "dtype": "i2"
         },
         "xaxis": "x",
         "y": {
          "bdata": "EzjnfTclFUCEIEE9xRkWQLM1E/C33xRAbrAxM6BTFkBRsJbHiqwWQCgrLysNsxZANG4gZSeRGEDQzNiIYOkZQJkjnJo+0BlAHpLW8KJEG0BFcXh/u6UaQCT89SMH3xtAb0qpyrZMHEChHzy5VcseQCFJJaEAPR5A/+FMuvK7H0Douwfak0UgQER2v+mWnSBAgdhZpyZrIECWVamxESMhQA80nIGwrSFA9kQRLRCJIUBl5VyWV/EhQNfMkC7WGyJAcdelI33HIUBeDy0ZnbQhQAfpeuRWKSJA+e5d2PApIkCL8pdUlXwiQBGe1PNENSJAt+OA/UbtIUDXUru/wyMiQDKmdXxobSJAvoXF3oAYIkBXjjs69rEhQBc1sZ26ayFAxphBXCe9IEAMrIDxXV8hQJn3ZZ5+2iBANoYcxDpmIEDXmqmiMQAgQOFNPf8Vyx5AlIpZ5iAyH0BG2rdzrNMcQDvbLm748x1AnMgreY1fG0A+72jHr4QaQDgfQZZjSRpA1GMvc0FBGkA1/hJ7FJoZQNl8l5gvJxdAQuiI4yR7FkAGd6w7h3QXQGVQMYVaThhAH9WKx9WEFkCp6T2STzsXQAD8AW9QTRZAEaqdjoTxF0BfnR5PersYQCCnJ39HjRpAXoKNbWc2GkD3NshlU3EaQIW9jkw3DhxAZEpFl1YQHUDOoC+8PDgeQDM2COZK3R9Aol7niSlHIECgHjDOQn4gQGv8h09EQiBAeClPkf5MIEC+F+XAxB4gQNpJnx//vSBAaJqQ5QHnH0AB2n2UvJMfQPAOK2Q6xh5A20O2wzhnHkA1NAQI1x0eQLE4v+3KXR5ANs49Xq2yHUAIkls4ES8eQPYBXlWKDh1Am99W4nn9HUDparxf88EcQHmE6LTZ4hxAdXPV4K6jHUA3ZjLSmRgeQL6sm1JJTR1ABIHo6X8aHkBnvJL7xsoeQJ0dGjUwyx5A0FJWWZxFHkBhxV56C+YdQONCkvBmDh5AKqMfBGpdH0ABo0mQDhogQBXLY7SEmB5AW2vzKcm3HkBf6Vdi4YMfQHgTHXbLGR5AKnq57T9GH0A6IkR/rHEfQDxXZQODpx5AAWT9/uQOHkBZpNoLclUeQHxs7aA5jx1Ac+kqtBq8HEDJ9fdlE8gbQKNVbvhaURxAEANOMkeCHECTqKXwwQkbQI+61JRtHhtAK5SAYS3pG0CgLsjugLgaQJrkwY0G5hpA1pZkXUqoGkClkHahWFgZQGdK4xrShRpAuJe/jZtiGUDUBsK8rkEaQCloZcbl1hlA16rG4eWKGUBc21EpPngZQEKgeangxhdA+AXPS6nsGED9rwljSjUYQIRMYox8LRdAanB3MinyFkAh4poDfyAXQN2q+7DZKxdA1JJp6wMEGEAR4e+P6BcXQIqDVYhk6hdAuNSz6rZZF0DvTvfg+vMWQIBLCYp/yBVAR7F/LRwwFUCbF/IY2bsVQN78S7a9mhZAmtscN5IUFkCHnfFWQboUQA==",
          "dtype": "f8"
         },
         "yaxis": "y"
        },
        {
         "hovertemplate": "Sequenz=138<br>t=%{x}<br>v(t)=%{y}<extra></extra>",
         "legendgroup": "138",
         "line": {
          "color": "#B6E880",
          "dash": "solid"
         },
         "marker": {
          "symbol": "circle"
         },
         "mode": "lines",
         "name": "138",
         "showlegend": true,
         "type": "scattergl",
         "x": {
          "bdata": "AAABAAIAAwAEAAUABgAHAAgACQAKAAsADAANAA4ADwAQABEAEgATABQAFQAWABcAGAAZABoAGwAcAB0AHgAfACAAIQAiACMAJAAlACYAJwAoACkAKgArACwALQAuAC8AMAAxADIAMwA0ADUANgA3ADgAOQA6ADsAPAA9AD4APwBAAEEAQgBDAEQARQBGAEcASABJAEoASwBMAE0ATgBPAFAAUQBSAFMAVABVAFYAVwBYAFkAWgBbAFwAXQBeAF8AYABhAGIAYwBkAGUAZgBnAGgAaQBqAGsAbABtAG4AbwBwAHEAcgBzAHQAdQB2AHcAeAB5AHoAewB8AH0AfgB/AIAAgQCCAIMAhACFAIYAhwCIAIkAigCLAA==",
          "dtype": "i2"
         },
         "xaxis": "x",
         "y": {
          "bdata": "IPb9pT0PGkCxgea5lUsZQMTmFutM3xlAfJ4nsgphGUAGXyeDjg4aQIkudIuHvRpA4UGfc5asGkCQC1yv7IwZQKcVStPEPRlAk6qFOXw3GEBszfAAcDUZQEozhP62EBlAN+tsJuwhGEAWvzOduqoWQEY+YSng4hZAQi6nRcNWFkCw71pmEHQWQFVnWpNdHxZAyWXgmPMKFUBCcdxEnYcVQHiCDo1V1xRAxJSQ7JvpFEACaAVODLgVQFMnSZoI9RVAliRwDxYdFkDVk8v1IDEVQFtzuM6vURZAfwLhr/BnFUCyGeyKOMkWQD8k3Y+86RVAIt06Nyj9FUDXC+lFrzUWQAOReLnYlxZAomPs13qEFUCMzPJCJSAXQAXwut+YJRdAoyj9o89PF0ATOOlwg0QWQKLGo/VoThVA9tokH0wRFkD7O7fCup4UQK8FGxy5hBRAMjquz3aJFEAuy58vkHIVQC9Y8qqSlhRAT5+jCUCQFEBYj7P3VG0TQJzShWqJHhNAeKaX6NdyEkDRJ2PSkbcSQETJwGYsVBJA4Nojc+1SEkDCwUyRKj4SQHumhwwVchFAMyo1kTRgE0AQeJSh1CcSQGZuVS/rGhNA4MWfqes7E0CrARG9iQoUQFV8xTccChVARpjY5C8PFUD4sOzywEoWQEFw8OzGVxhADsEOosHgF0ADQ3qOrpYZQIXwy1qAOBhAiEN14nLxGUCJTaCq/0YaQDwbc1PaIRlANjixtRSzGUCRs1wqJaMZQBQzWwexIRlA+553saDrGEC7rvxDmn8ZQMU0eCrsGxlAM2nGV0xSGUC6nH9GM+UYQIiuDWcrghdAfCfSR+2pGEAx6peT1GAYQNbrrnuISBlAT2f86bpkGEBswA5CK44aQOjAk4PcjhtAG5Ai7Vy8G0DGMACt8wIcQHv1aYVRxhtA053hB9q5HUDxRCt2m1geQN6Qm2zRBB5ACDieWGxDH0CtD7DIdEsgQFfrwy4Y3CBAZON2MEhkIUCQxFK0GnohQFyIeyRHjCFASbCuAz+hIkBrcLwwwLwiQKgyf1OghCJAIk57Irn3IkC+xXw0p6kjQE9ZLAbYbyNA0nKKmuYjJEALUrI8CFIkQIOdQ+ce9CNA4nCsnV8QJEBNfkJhI7ckQOOVljKRSSRA26vHJULHJEA2IJHSHlskQOMHYAKTJyVAYHgAPEBuJEBa0THC09AkQC6AxOBMZSRAfQra6RNtJEB70lX3kGgkQFM9DdCD/SRAQf6a+TXFJEAbPCl7T38kQCQK/kKm+CNAJVx/AT6bJEBgcfnG16sjQADBkKcETiNAHj9t+DfrI0BRoF5mGe0iQD0rcJJ6FCNA/heqMcdXI0BOvDBxOOYiQMjLEvU+fCJAa+E3Rp6eIUBfN6HCuUYiQDVo7+ncXiFAtjpRPwM4IUAg1oqrJ+QgQFwyVZITsCBA8PxoXiR5IEDopaZppSIeQANqh9dJdx5AxYH1SWC5HUDuX3Qdy5IdQA==",
          "dtype": "f8"
         },
         "yaxis": "y"
        },
        {
         "hovertemplate": "Sequenz=139<br>t=%{x}<br>v(t)=%{y}<extra></extra>",
         "legendgroup": "139",
         "line": {
          "color": "#FF97FF",
          "dash": "solid"
         },
         "marker": {
          "symbol": "circle"
         },
         "mode": "lines",
         "name": "139",
         "showlegend": true,
         "type": "scattergl",
         "x": {
          "bdata": "AAABAAIAAwAEAAUABgAHAAgACQAKAAsADAANAA4ADwAQABEAEgATABQAFQAWABcAGAAZABoAGwAcAB0AHgAfACAAIQAiACMAJAAlACYAJwAoACkAKgArACwALQAuAC8AMAAxADIAMwA0ADUANgA3ADgAOQA6ADsAPAA9AD4APwBAAEEAQgBDAEQARQBGAEcASABJAEoASwBMAE0ATgBPAFAAUQBSAFMAVABVAFYAVwBYAFkAWgBbAFwAXQBeAF8AYABhAGIAYwBkAGUAZgBnAGgAaQBqAGsAbABtAG4AbwBwAHEAcgBzAHQAdQB2AHcAeAB5AHoAewB8AH0AfgB/AIAAgQCCAIMAhACFAIYAhwCIAIkAigCLAA==",
          "dtype": "i2"
         },
         "xaxis": "x",
         "y": {
          "bdata": "Vt8xPAFpH0D7gG2QDfocQLGyxpYw7x5AVWytbEESH0AYSjiTmNkgQPUW+nwyvSFAmpMC9rhbIkCemIgTyzoiQHbcOiXBSCNAV9qa74ToIkAtT8UsMWYjQHT/9kimVCNAOVE39+hBI0Ddl1BfbmsiQPFSEp7z3iJARbDs3pjPIkAWyMAkausiQDve5jptJCJA4Re7BvZoIkD/zDfP8JwhQA84MUEQ+SFAUKZ8rHH4IEBtOUS2MlchQFJF/lc9LiBA6O+7Ler8H0BrHpGxwKYfQP3c/vJIJB9ALYsbMreVHED5nZL/YR8dQEkdKbk1RhpA/olWihAqGkD6RN7kQrYYQEkZFWJglhZARWDFnwJUFUBq+FqfuD0VQA5mREO2wRNAKieZuevOEkBsmzkx5vcQQHD6y8DMUQtAplXBdvloCUAfPDGIYIQHQIzBRGMB5AVAp7AxfOgkA0AaP+azgCAAQF53eiDnPPs/do9fmetm/j8asqerfmP2PwVwN1AN9vE/MFnTU07K8T97Aml11M7xP55kJWgQr/Y/bBZX9Xi5+T/Tf23xaIn/P3UeyMLUPP0/RVJRJJgg9T8ue99gYmr9PzLOGX2ZAfo/dM2aKxizBEBNUTCdPS8GQOTna5I0ow5ARKU/pCaeEUBZkMAwZJQVQNDzF/sa8hdAHRhvvTlqGkCyKFnCb2kcQIUS2caFOx5A3NsJMyiFHkA4i28kB0QgQE3KsbIEXh9AFDkXJ1DyH0BPt3iomjIgQMi0tIocFyBAN+VvOQkpIEBZSSPNZEYgQFhzhh7SDyBATQBSKKrEH0Bibni56xQfQI8r4nJcSB5Aa0Qni1qjHEC24xeNRv8bQLNFVZsVnxhAqmlgy3y+GECM5eli4wsWQJ5xXf8YBxVADO7gVVTQFEAAvOIHcuwTQNIm30GZAhRAm5IZ6LHTE0DyDErGpfYRQIz602ilEBNA0eYu/UowE0DuS1U3TUITQMiTKrPhYhNARhC7M+IlEkBCIErZ5J8SQITe9kRojhFAsDtzyDOKEkATPj9H0SISQHhhRjKazBFAZUWsGTDfEUA1eVc9/DgSQI1OQgX05RBALGegp6NREUC742XOQVMQQFJ7kibfHQ1A6jCfd7S7DEBtOPoXQ5MLQFUuTAhJ9QlAmlPO0beDBkCiBgCMrCsDQNHgwkujNQNA2w7bXbIPAkCijakjACIAQJCkHxrPWABAIswFm6NF/D+GetBbFSH1P10bc3AuNfU/LG45tka59j+8YsrW6QbyP07sEVYyVO8/DNDEGgYk9j/0sRrPDbrzP6C0U+SFqfA/pPsRh/v56T/unXAnaj7mP87WI2zrt+w/Xqgny/Ye8T/y4jUAbRbrPwThyyU7yuI/Wlyduv3O5D+qFdxicinlP3J/9L5AudY/BkyWGSCC5j/o47mqb9fYP1oPxCq+EeU/i+CtaX7I0T+HEX33N6PiP+cFZ1p6XO0/YV9vCMmp0D/AGAwOXKPmPw==",
          "dtype": "f8"
         },
         "yaxis": "y"
        },
        {
         "hovertemplate": "Sequenz=140<br>t=%{x}<br>v(t)=%{y}<extra></extra>",
         "legendgroup": "140",
         "line": {
          "color": "#FECB52",
          "dash": "solid"
         },
         "marker": {
          "symbol": "circle"
         },
         "mode": "lines",
         "name": "140",
         "showlegend": true,
         "type": "scattergl",
         "x": {
          "bdata": "AAABAAIAAwAEAAUABgAHAAgACQAKAAsADAANAA4ADwAQABEAEgATABQAFQAWABcAGAAZABoAGwAcAB0AHgAfACAAIQAiACMAJAAlACYAJwAoACkAKgArACwALQAuAC8AMAAxADIAMwA0ADUANgA3ADgAOQA6ADsAPAA9AD4APwBAAEEAQgBDAEQARQBGAEcASABJAEoASwBMAE0ATgBPAFAAUQBSAFMAVABVAFYAVwBYAFkAWgBbAFwAXQBeAF8AYABhAGIAYwBkAGUAZgBnAGgAaQBqAGsAbABtAG4AbwBwAHEAcgBzAHQAdQB2AHcAeAB5AHoAewB8AH0AfgB/AIAAgQCCAIMAhACFAIYAhwCIAIkAigCLAA==",
          "dtype": "i2"
         },
         "xaxis": "x",
         "y": {
          "bdata": "zupgCLbQJUD7Oki0IqokQOH2u4+EYyRABgBKCcqsJEBI4oS2ghIlQN0YpREv5SRAHgM3FDW7JUCrZwA/zFAlQDV9tiZXXiVAnBxuGkoYJUAkifKV30klQLBssVSoESVANy8DjnO7JEC/zJaZsKwkQEgnsY0r6iRAIDDgEPn5JEBTziOqfSclQIF7omwRuCRABb/sR/+kJECddSQEd1wkQFXYv55mhyRATSsPNG18JECAsjAMjBskQDN6Bi9H6CNA0LF1iFHzI0BsCU0LWIgjQEa4onNFPyNA+wTyrGr5IkCXBcLwhNQiQLXoWTW17SFAW3fIrx4zIkBtF40O7pMhQH8YSLr6rSFAjyGyNSoKIUDtOnIgacAgQDg/E+K3gyBAyhgsDvHvHkDYneRyvAcfQDULjs8PgB1A04JSA/ubG0C6G1vCINcbQLIuk1HK2hpATPYgCHBSGEBp2KNhi3cYQAojw/EJGxZAgLqBpt2WFkC6gTdu+WkUQMt1uWiCexRApcz7/8h5E0DjDyNQ9usSQBujLthNqRFAIL8pDaOXEEAUw5WkWeUQQN0zYecocBJAdxIUX/paEkBf8jqzRqISQPSottDbyxFAZP0k8yjaEUDBgro1DIgTQF4qpELx3hJATmXgcNGLE0AeVw352tsUQOe/XnfxNBVA7BUwliRkFUDLOWWiUesUQIHn053NlxVAYZDl+aWCFUCmUuhtGXIVQDmcVQUZqRRAhAatUfyGFUDW1JZ5pq0UQKGxP5fSphNA13aEjuSCE0CWiWG0ncwRQBN3n87BPhJAjkeUrf1UEUDNZrN4sogPQM0mVT2MyQ1Ajnm0Kn7fDUDt/vEJ6xoQQPLEIqXRAw9AxBGXsIHXDUDvknAIJogLQKBZhDKmogtAQRC/UVTbC0CVgTkvClsLQKK7TXkZAQxAIXgtDNu9DkDmzAMSEJ8OQAk0EcQPOxBAh9Yf2IofEUC2xXYHGCkQQN5npoC0sBFApiaqAfRTEUC7dixCldoSQPVVhoIOJRNASyI4AozsEkDCUipGX8cTQBP4lof0FRJA9bK5IBJ7E0Dm/a4XlHMTQCc0e/AvVBNAwaBK+T2vEUDxIXC1Go0SQGz/R3dP8BBA/H7C/DhNEEC8K99gWDwQQHwxLL+T5wtAqtb50yUGCkBluQ3nk/MJQMd83uB/QQlAP2FZ68pGB0DA/sR7FukFQBDq8Og+MQJAcMIsXrpsAEBi1bQcCZcAQKNmENBbfvw/OsPZgARO9z9i6MUejbD2P9PKRb/C0fg/5qHcU3zm8D/FYGI1qwfzPynGBvjGB/I/zbGReDh48z/mYHFo3SXpP6NrolEPIus/TnWJDU0o7j9ODLz8yw/kP/xnR5WRM+g/6PSpDETc6z/OVtpAab7WP1SBLDydq+E/XlLMkOB51j/sGpySQ5jxP1IF4vQ1VPI/sPTSsUu55T+l713RWnntP4WWKCLlDuE/kBHwnaN49T9YJ/qSYSP6Pw==",
          "dtype": "f8"
         },
         "yaxis": "y"
        },
        {
         "hovertemplate": "Sequenz=141<br>t=%{x}<br>v(t)=%{y}<extra></extra>",
         "legendgroup": "141",
         "line": {
          "color": "#636efa",
          "dash": "solid"
         },
         "marker": {
          "symbol": "circle"
         },
         "mode": "lines",
         "name": "141",
         "showlegend": true,
         "type": "scattergl",
         "x": {
          "bdata": "AAABAAIAAwAEAAUABgAHAAgACQAKAAsADAANAA4ADwAQABEAEgATABQAFQAWABcAGAAZABoAGwAcAB0AHgAfACAAIQAiACMAJAAlACYAJwAoACkAKgArACwALQAuAC8AMAAxADIAMwA0ADUANgA3ADgAOQA6ADsAPAA9AD4APwBAAEEAQgBDAEQARQBGAEcASABJAEoASwBMAE0ATgBPAFAAUQBSAFMAVABVAFYAVwBYAFkAWgBbAFwAXQBeAF8AYABhAGIAYwBkAGUAZgBnAGgAaQBqAGsAbABtAG4AbwBwAHEAcgBzAHQAdQB2AHcAeAB5AHoAewB8AH0AfgB/AIAAgQCCAIMAhACFAIYAhwCIAIkAigCLAA==",
          "dtype": "i2"
         },
         "xaxis": "x",
         "y": {
          "bdata": "9c+92ypaFED3JMxnf1AVQJnhJBtCiBVAOTw8ftAXFkDRFlmH/e4WQCYT8p9ZGBdAA2LC6afeF0BM91kdIYoYQDknioQgkhhAG1khlh47GUCjwis0aRYaQMYPDpPr5RlAdbMGLt3wGkBD9E9movUaQEr4M9K4DxtAQCaji37vGUAtRm5/lM8ZQHN172KYQRtANvRqXYePGUDmpuCRhTMbQMo+iwvtUxpAAWcwW5EuGUAHEFXASkUaQOAesH+qQBpA/UeUp2VTGUDsdV+8eEkYQErMigqpQxhA3X1UWcUTF0BNCA7jDrEWQOFi1iuePhdA1Y3wjPOxF0Cfr8m39+AWQCKDRoXbiBZArTixF3iEFEBc6G5UPKgVQD91Rw6pMhVAQha3nOJ2FED2PJGl7YMUQAHh3Le1ARNAF7qmC0NLE0DDi7mtr8wTQL6tMQkLiRNAhAskdJWlEUBv6zYfkWoSQMRecHIjxxJApoIHMeGcEUBhDlGF0RoSQH9rqhrtbhJAEs30ckXzEkCEkMs6ErITQFF5zAimuhJAG0JBlEtME0Dydj8cE+QTQDwpLi8W6RJAeAs1RMM+FEBMRalm+GUTQHPCu6pihxNAONDb/UNLFEArvHDe6xMTQMr2FhzpFBNALCWc0KpfE0D4vN5F2MARQMSOuyMDcxJAfJJstvU5EUCR72JhNDcQQLT2zdSRQBFAMOIxaeNdEEB6+6e1ZF0SQCUHlIBKeRJAy5Xp/LODEUA90xnN/XYSQPdPMVbQGhFArf0xrnUvEECewsozovcQQD3xA+uSxwxAlN2d8NzWC0DWMM6drj4JQF+2HypxvwtACalyi8R9CUAEI4bRs3gIQPa7Of6uRwhAyWYABXbqB0B4ESll9LsGQHxn1oJI9QZAEIS8bnWACUAJoMolOh8JQIM7nRSJXglAH41Fx+G/DUDwQ7HLNM0MQAuaK6It5BBAI+7eWX9gEUB0UdSUh7MRQAuT6MMwWxNAOxQLGjYPE0CJ2nm7tBUVQEl0Uv+s6xVAJ0hKfPQ7FUAmVd7nHcYVQI9hu7keFxZA53orhiqhFkBvRnJEdZIXQPT8UwIC+xdAZOSVzJgCGEAiYTRygdEYQKj1b+02SRdAfwkwoo0+F0CStpZiu6oWQHC+W8/9PRZAkmG++CQDFkAlYCwRbjwVQMQ9yNQmmBRA/RtosIHQFEDnamujM8oUQFq1osCL5RRAUlR0KFzZEkCIx64ZvWESQBfVnEWP2hJAiF6ouaUZEUDOo3ZPF4kQQB01j4aAVg9AzViGVf4EEEBfg5ysjr0MQDADfxpCYg1ADMImTQrSCUD2WZoRvB4HQJvJEObhYgZAos4F8W2HBkAVlQtIuZQCQHGA6pwuqwRAO6F9V3sKAUDWC9pqq4UCQM2p9qu9VP4/6pVTp1VI+T+shlNxOQD0P8hIXHp2E/M/+xOwrSap9D/rWZExDKP1PwlTcgSQavI/uOepT3Yf8z8nKXQMl0nwPw==",
          "dtype": "f8"
         },
         "yaxis": "y"
        },
        {
         "hovertemplate": "Sequenz=142<br>t=%{x}<br>v(t)=%{y}<extra></extra>",
         "legendgroup": "142",
         "line": {
          "color": "#EF553B",
          "dash": "solid"
         },
         "marker": {
          "symbol": "circle"
         },
         "mode": "lines",
         "name": "142",
         "showlegend": true,
         "type": "scattergl",
         "x": {
          "bdata": "AAABAAIAAwAEAAUABgAHAAgACQAKAAsADAANAA4ADwAQABEAEgATABQAFQAWABcAGAAZABoAGwAcAB0AHgAfACAAIQAiACMAJAAlACYAJwAoACkAKgArACwALQAuAC8AMAAxADIAMwA0ADUANgA3ADgAOQA6ADsAPAA9AD4APwBAAEEAQgBDAEQARQBGAEcASABJAEoASwBMAE0ATgBPAFAAUQBSAFMAVABVAFYAVwBYAFkAWgBbAFwAXQBeAF8AYABhAGIAYwBkAGUAZgBnAGgAaQBqAGsAbABtAG4AbwBwAHEAcgBzAHQAdQB2AHcAeAB5AHoAewB8AH0AfgB/AIAAgQCCAIMAhACFAIYAhwCIAIkAigCLAA==",
          "dtype": "i2"
         },
         "xaxis": "x",
         "y": {
          "bdata": "SWk7thlTIkAXzOLetPggQNO0FH3p6CBAD+lNIlN5IECmzlp+HHMgQLNITAHGQSFA4KKjfMNGIECi124p+NkgQBDCqyT1ESFA2ip9zy25IEAlgei4F9sfQMwYIQWmoyBAMoCFzmRQIECeItAS02gfQCpOcr/6SiBAC/vu6fYtH0Cf2m9dYD0gQMJ32zrwJSBAGQTV7kg4H0BnGDoUrr8fQPv/elCSvR9AItSN0NUzIECunhtWYiMfQADgw73+Wh9AbafQnmDTH0Cpi9We4BAgQHk0D3/m+h5AEkheRMBfH0CGUqg1yZMeQO2z03PeCB5AbfnWLI4AHkDJ1OY3XuMeQDZXQIxPHR9AX4XG/dVKHUAI/iQQtlIeQPKFhcj+QR1AuE/1fKWRHEAbHymwey8dQPZ/TLE+1xtArNCA/BT9HEA98juGdb4aQDrStXhmFxtAMXNuitMXG0CbSPwUV+IZQPoipB19uhhAyeyJPFvHGED0CKZLXjgYQLiDMTuJQBdAViRiDJJKF0Cg1kC6drEWQJ/XFfbc6hdADh38244bFkDk++20rzYWQOnCQzbAJhdAzZL12KHHFUA0BbdnEVkWQKLi6KF9xxVAVgRqjpIpF0Bf6gX0iOgXQFCsclLClxhACPVHtWi2F0DH66SFnhsZQDMKonijQhpARKDfYSPiGkCsLnhb2qEaQFSsrkbpzRtAp7iGCDBfG0BCvYtSw/AaQCWu+8NmORtAGjh4NrJ5G0CVHYBVQMMcQAClmfdsKhtATK5XzMMqGkDgCKzKbD0aQFb9Lx9NmhpA5/L/CWSPGECq9djfkJYYQEYuUnDZMRhAjxutOd6hGUACx1/VoXIZQFxkPtjYZRlAa+MIs0ggGUBFC+aAmC0YQHoYfP5Q5hdAh6lih1ZOGUCtQ5IvcbAYQAaLDT700xhAyKVkGzd/GUAWUjcyB20aQEKoiFkh4xpAxpIBNZRvGkAbmqoze3QcQAUt0xuoURxAYjFhjYUgHUD+Ku3/XwQdQKh7R0QFkx1AL8pNB/WOHkD4CpwoleEeQNaq+Hgx3x5AhdkqquFHHkBusXVVixMfQAGARDORGR9AOBjgBD1TH0DaZsbUIzofQC38VYo0kB9ArmOn8s20HkDEYrKQn48eQHkE0nKICh9AT4wCjNi9HUDFKB/FKmYdQIZUc/+FOh1AYrWAAGuvHkBUCnFGxHkdQI8Vn/CUER1AnKzzzr5XHEBFHNWDn6obQG0csPNc2BtAdmu0saKfGkAL6QRCr3sbQCzr/CTJ5xlA42Ns4x+lGUDN/HMJA5IYQMXqGQbamxhAmbVZDwlvF0AJSIHUOSQXQCdvJXGTdhdAzyPWdP6wFkCGTrheFN0VQCp2c/o00BRAeAiQZWQoFEB0Dki6FkcTQF0FeZClXBFA8zQBc1s5D0B9sdDUBTcNQPKj6QyK/glA2ZcsGDp0BEB1KSe8RzsEQOaq6A83qfo//Mp3Rcyj8z9HqU+/KsLxPw==",
          "dtype": "f8"
         },
         "yaxis": "y"
        },
        {
         "hovertemplate": "Sequenz=143<br>t=%{x}<br>v(t)=%{y}<extra></extra>",
         "legendgroup": "143",
         "line": {
          "color": "#00cc96",
          "dash": "solid"
         },
         "marker": {
          "symbol": "circle"
         },
         "mode": "lines",
         "name": "143",
         "showlegend": true,
         "type": "scattergl",
         "x": {
          "bdata": "AAABAAIAAwAEAAUABgAHAAgACQAKAAsADAANAA4ADwAQABEAEgATABQAFQAWABcAGAAZABoAGwAcAB0AHgAfACAAIQAiACMAJAAlACYAJwAoACkAKgArACwALQAuAC8AMAAxADIAMwA0ADUANgA3ADgAOQA6ADsAPAA9AD4APwBAAEEAQgBDAEQARQBGAEcASABJAEoASwBMAE0ATgBPAFAAUQBSAFMAVABVAFYAVwBYAFkAWgBbAFwAXQBeAF8AYABhAGIAYwBkAGUAZgBnAGgAaQBqAGsAbABtAG4AbwBwAHEAcgBzAHQAdQB2AHcAeAB5AHoAewB8AH0AfgB/AIAAgQCCAIMAhACFAIYAhwCIAIkAigCLAA==",
          "dtype": "i2"
         },
         "xaxis": "x",
         "y": {
          "bdata": "ZvieYWEUG0ClIANUFEQfQJCXo6Ii7R9A/3xR6owgIUBE3kkA7hohQEb9+n5n6CFA9winjg3lIUCVvhOR/qUiQNPZC33t4SJAz2N4EaHvI0Cw+tNU9M8jQN2ivL3FOiRAyJ0tv2wQJEBM/+AUS24kQI1K3nAtDyRAroRJ0N9WJEAUA2OEVhYlQMY+603EniRAcGw3ofqyJEC8bL5/BiElQEEp8xU9GSVABWeIeH4YJUBm9CSClZEkQDQt70mQJiVAhJz2dSn0JEDO75WhUzIlQEyRQaIonCRA4A7z96KaJECnEtQwkUolQG9AmxHOEiVAjJLiaLmiJEBGEdJflXQkQKouJUMPACRA36ODnTLZI0CYlUdzUzQkQLZjC+HybiNAMwu0CWjuIkAJ4PQydCYjQPJp6vG28yFAtCPZBtibIUCuZRRaLeshQB6yshTLQyFAK7BS74icIEDRRcHoH4UgQN81tyJCsSBA7JuX4ZL5H0BgaQZbCIMfQEPrLKO+hh9Ai8jrIVYOH0BQVvWKRscfQPtG0SVcZR5A8/J/eAzLH0BtgPKlwIceQAlJYx82lx5ANLOKn4QSHkBHhGD5sg8gQAVdBuZkrx5A5Fu+2sYNH0DXxikt9+4fQGwkM9gSFSFAPk48Tx4VIUC/FNpuKy4hQPLshJIwkiFAqN/vKkd2IUBlPp1JWvkhQPzpswMsJCNAJ9lgOLJTI0DlYvHBQ/ciQJgXmsqXMyNAJUJ9CYWEI0AYpWU4cf4jQMRb4UfOvSNAPlAFagsuI0DkahnJj6wiQDTGoOqBwiJAteosiBL1IkC2ZPgOD1siQDyiwaYmhCJABPWmwfmIIUBipnWqOYIhQNUY0peKEyFAGKPopFaKIUCsufYuX2QhQG5n0KJ3rCBA0G1qH4HiIEB1VIV244AgQIGFHaIw+yBAG+Z3tyOeIUC/9rTfSdogQBj31O5g9yFA8ihVOSI4IUDGVsN1Tt8hQMKhFMrNLyJAhl4OFoxpIkBDpLwzpYgiQA499M8INiJAhvpO8Ga9IkCoOwlmF+oiQG9UQL9BJyNATXbia5nKI0AX5/AbEp4jQFfDyQsxpyNAxd4vBNiRJECj0Y33t5UkQLKbiR09TSRAEePDO3TYI0CHbEitd/MjQEGBR6lfZCRAPx6hRHhqJEABqtFC+T4kQCb4G5/hPiRAhot6xO/KI0CZXi7P58ojQAxH8nlm9SJAf7PowI/hIkAe83Bag5ciQB39lMwR3yJAB8Ln/aPbIUB/n+aoHYohQIkwlFla9CFAHPIAM/N5IUDEBtHN3IwhQFu319lMhSBAhlyXER7LIEAeVvA7ZqAgQPlM8JxMByBAIE54NrgUIECj2JWFMvcfQK16kOh6Ih9Am+idziPrHUCzzDVAce8dQFzxA4JUHRxAyQZaVFvuGkDtx75ZdrwaQOC3SgzkdhpATywsTurKGkCpoAD6uCIaQNw/n960ABpAHcg22BAqGECAftQTNLQYQA==",
          "dtype": "f8"
         },
         "yaxis": "y"
        },
        {
         "hovertemplate": "Sequenz=144<br>t=%{x}<br>v(t)=%{y}<extra></extra>",
         "legendgroup": "144",
         "line": {
          "color": "#ab63fa",
          "dash": "solid"
         },
         "marker": {
          "symbol": "circle"
         },
         "mode": "lines",
         "name": "144",
         "showlegend": true,
         "type": "scattergl",
         "x": {
          "bdata": "AAABAAIAAwAEAAUABgAHAAgACQAKAAsADAANAA4ADwAQABEAEgATABQAFQAWABcAGAAZABoAGwAcAB0AHgAfACAAIQAiACMAJAAlACYAJwAoACkAKgArACwALQAuAC8AMAAxADIAMwA0ADUANgA3ADgAOQA6ADsAPAA9AD4APwBAAEEAQgBDAEQARQBGAEcASABJAEoASwBMAE0ATgBPAFAAUQBSAFMAVABVAFYAVwBYAFkAWgBbAFwAXQBeAF8AYABhAGIAYwBkAGUAZgBnAGgAaQBqAGsAbABtAG4AbwBwAHEAcgBzAHQAdQB2AHcAeAB5AHoAewB8AH0AfgB/AIAAgQCCAIMAhACFAIYAhwCIAIkAigCLAA==",
          "dtype": "i2"
         },
         "xaxis": "x",
         "y": {
          "bdata": "qr393kuIIkBCK11KMcYhQOL/H3QKsyFAbEYRcrOfIUDHh9jApXchQBdGuUB7ACFA2ESPgW3gIED+UMlhXdMgQGvO4/IDnCBAeuPYPjDkIEAtkUzSgMIgQOygqnpYQx9A8DYfzi8GIECmnyHfrKkeQKvyzXtBuh5AMgqyhPltH0AUPAFdBpcdQGo+mvMHIB1AJ8//hMNcHUAd6BYKjOgcQFfT0BZfWhxAAkr2/fwpHEDEZShL59cbQEPrr3mTihpAg1pesf0+G0AIC5nik1sZQONBxHUgBBpAie3OODDGF0Dq2winPyEYQI9kDQHANxZANQe4cO2+FkAg6FZ+epoVQPSLaXsmuRVAgT2fpF/aFEAfxIl57bUSQIb9OrlpExFADtvIiCD7DUAXEPmaT84NQBtk6VW/LApA00pk7x1HCkBWCFjVyN4GQLoNXvNZ3P8/bDbj8RZn+z8a3es/JcX4P5y3sx3yrv4/AtbHrhG0/T9clhn2oyfdPxiC5oU+Ofg/qG6sFNJu7T+1ApHTlu/1P5RNZp8U1eU/Ho8AIbRu9D9S2cNJWfT7P6VUQ2G9R/c/NiVxVQCM9j+WzlCX7XQAQLbSUFNEHAFA5//ZVo9SAkAErwngkioGQLqNi/tz6wlAFd0/MFmYCUAyZL4mEf4MQPuCGzTENxBAxPB1Ca08E0C3gjuJ2ycTQEzKUOKteBRAzfE2+b5OFUCU/KN3XMkVQKcTV9KqqxVAcrZP8F3RFkDS7jc4ZXYVQEb4kirhzBVAL0qopb9vFkA9AKe233MUQBRqb+l/FBVA6I6OneqAFED9Vp79lKQUQLwNibXnhBNAJMpgXXWqE0A1/3md+Y8TQKw9DJtWgxVAJH55XPy6FUBCcFfFgXEUQKqWHvKhURZApAkGAqDUFUA6d3uL/A0YQM2JzxAeYxhAK4jejUqpGUB5NkszT6MZQCZhZyJnehpAEScdfqXGG0DVK5SYSyAcQCzMrXAJxRxAbyGXwROJHkByBgEsmOEfQKck4BgpUSBAr+0yLzT1IECJrkRLQY8gQEDtc0eewyFABnwlwVIkIkDITNhp6E0iQBLAkrFM3iFAn0FGAoRYIkBG3BjQcZsiQCWPQn+mMyNAQSQOU4KoIkDQPHMRkv4iQE7JuAzsliNAiJv5AF1+I0CHOB2P4vAjQMMAQ33kxiNAosjInEKlI0CTQEuyVW8jQPpDNLYn9yNAcQhc2id0I0DUKmQIkvgiQEoGFew8nSNAQt3mk+VmI0AhjYJjiJ8iQAIfFgAyeCJAqAoyZSHhIkCncb/c9yQiQCkcYtC2bSJATr9zDdzJIUBoB+DSM4whQO64DFpE1CBAwe9FSUxvIEAxDs80NnUgQJA8ViQpfh9AujpgEMrbHUBc2PIG12weQFf0ibje6RtA6bbqOkm6G0C+VjJ2rhAZQO3M3ftsShhAxGtLFYxKFUBMXDEemBkTQEUz1IXZiRBAoKsaWj/wC0BgaYVExIsJQA==",
          "dtype": "f8"
         },
         "yaxis": "y"
        },
        {
         "hovertemplate": "Sequenz=145<br>t=%{x}<br>v(t)=%{y}<extra></extra>",
         "legendgroup": "145",
         "line": {
          "color": "#FFA15A",
          "dash": "solid"
         },
         "marker": {
          "symbol": "circle"
         },
         "mode": "lines",
         "name": "145",
         "showlegend": true,
         "type": "scattergl",
         "x": {
          "bdata": "AAABAAIAAwAEAAUABgAHAAgACQAKAAsADAANAA4ADwAQABEAEgATABQAFQAWABcAGAAZABoAGwAcAB0AHgAfACAAIQAiACMAJAAlACYAJwAoACkAKgArACwALQAuAC8AMAAxADIAMwA0ADUANgA3ADgAOQA6ADsAPAA9AD4APwBAAEEAQgBDAEQARQBGAEcASABJAEoASwBMAE0ATgBPAFAAUQBSAFMAVABVAFYAVwBYAFkAWgBbAFwAXQBeAF8AYABhAGIAYwBkAGUAZgBnAGgAaQBqAGsAbABtAG4AbwBwAHEAcgBzAHQAdQB2AHcAeAB5AHoAewB8AH0AfgB/AIAAgQCCAIMAhACFAIYAhwCIAIkAigCLAA==",
          "dtype": "i2"
         },
         "xaxis": "x",
         "y": {
          "bdata": "HgRClS8THEADDvk2WsUbQOT9uwlP9RtAVU6B9D+8HEAFrUAaWaIcQPDF73PGmhxAMCQHUrx4HUCbuFQnHGQeQN0fu3k0gB1AgrymflbMHUBc/icrm2oeQMkW4N1IGB9APpCM/MPQHUBpvPAQe/kdQKteW2AQIh5AzOJ8ByX3HUBLDWAYiWQeQH5ltaIxLx1Aadaw2qfWHEAXv0qcGQwdQFIOQl5+aRxA2SZhJAE5HUB4ZioBPgodQN5ufeNG0BtAAc9UTGavHECRpYIBUKIbQDTT9w49ZhpAH773m1XBGEDQ5ay2xQ0YQD622mPwlRhAswUNQkK1FkDVH3HK960WQG1fDs7RYBZAnzXwny+4FECehztFxyMTQFRnInXw2BNABvNNDNNZEkAcUOQW3eQRQL0T9aMH/RBATnjiSlSmEEAk3fG9Rv0PQBEHHo9QmQ5AKCnKITwIDUAaoRxWNfUMQN+qMyr63QlAp41LW8nlBkAx5PgQZ/4IQHFdqSzpJgdAi5rJI+fFCED/JkHJQlYGQOI307R/EQpAtmJLuFKFCECIj5dtcDULQMBszxv0IQxAUotZ2QcVEEA3CqCV94sOQPuNg3OuCBFAWA1FdipIEEAdKUJa1ssRQINt17yphhFAKP4AIRs2E0C9/vFiSncUQBhJHeNRMxRAAr4F2mCQFUCQBMq/6gwXQH2Xklu0ehZAVAMx2RLPF0B6izwcwhEYQLWa0U/wohZAqHrWwn2yF0C1BqAdk7QWQIskPi7xDhZAEcLfVoB6FkDHPbfUoBYVQO4AnR0GThVAl/frsV+HFEB+V/ngsc4UQCz0s2NndhNAqCh4wx8oFECbOzFkVbsSQEhwsihmpxNAhAWfYtpJFEDoZRD+/+cTQEkbZRakshRAk8KYjgzPE0DOav1d2ncTQId9eoi97hRAYrDASUE0FUAmPv3mhjcWQMsdfqNEmBRAeInkjPaIFUDpMM7jYncWQN+0ijkm9RZAhidImbr/FUCw+PKZ1+MWQItccakGNRZAJLOowhJnFkAP/UMuQ1oXQH34fDsdLxdAfmEUmQRgFkBugEJTPPgVQPoVufNAexVAYG3kEM04FkAQ9vUxprIWQHTt48unxhVAyfCPID/pFEBhpP51eHUVQPqLE00O+RRA2jXfSfucFUDYeDWoCRIVQKIty9ebahVAVfr0UP3RFUAYwxu3J8QUQO8sxgVLWRVAg5P18IkwFUCvqfqoqIMVQIez1xW61hVAvklIPyBnFkALrMCxCmcWQDlr2VATcxZAW+awVRIWFUBMkQs9QAEVQH3Vof3sYhVAaANekckoFUBNZ9yzTwEVQGYR2YbGNxVAHOjw/EfLFEDzk6FKBgoWQBBMk4pfpRVAqj5dMCK2FUCgOcQRSmoWQGGQJuP/iRVAk/grwOUBFUAIZAif4NMUQMhdJ61+BxVAtI4MrmJpFUB3hh6SJ+sTQFM6EpEMmRNAIt/Go8vYEUBdr3SGJ4QQQA==",
          "dtype": "f8"
         },
         "yaxis": "y"
        },
        {
         "hovertemplate": "Sequenz=146<br>t=%{x}<br>v(t)=%{y}<extra></extra>",
         "legendgroup": "146",
         "line": {
          "color": "#19d3f3",
          "dash": "solid"
         },
         "marker": {
          "symbol": "circle"
         },
         "mode": "lines",
         "name": "146",
         "showlegend": true,
         "type": "scattergl",
         "x": {
          "bdata": "AAABAAIAAwAEAAUABgAHAAgACQAKAAsADAANAA4ADwAQABEAEgATABQAFQAWABcAGAAZABoAGwAcAB0AHgAfACAAIQAiACMAJAAlACYAJwAoACkAKgArACwALQAuAC8AMAAxADIAMwA0ADUANgA3ADgAOQA6ADsAPAA9AD4APwBAAEEAQgBDAEQARQBGAEcASABJAEoASwBMAE0ATgBPAFAAUQBSAFMAVABVAFYAVwBYAFkAWgBbAFwAXQBeAF8AYABhAGIAYwBkAGUAZgBnAGgAaQBqAGsAbABtAG4AbwBwAHEAcgBzAHQAdQB2AHcAeAB5AHoAewB8AH0AfgB/AIAAgQCCAIMAhACFAIYAhwCIAIkAigCLAA==",
          "dtype": "i2"
         },
         "xaxis": "x",
         "y": {
          "bdata": "J2kNIWJaEUAdrQsvVQ0UQPtW3/SxzRRAZ9fVdLdMFUDt0opL6rAVQFUgIEXh1xRA31P1T1zXE0AZISZxWg4WQMbHUiu6yxRAJf9L4Sw+FEDCMpqVMCgVQNJZmIvcNhVAWrr43QsfFUDcw/bUyc0VQNrA+5OU5hVACAgHURXkFUCTuppEb/oVQNadjEpxthVAA30BgKQqFkCIMMyBp0UYQHB6PfXS2RdAhIPmUkaTGUCR6rZsX40ZQP5A/EEYShlATi84jPojG0B1w8jvGXkbQLQ1QE6JyBxAMEdX6mL2G0CemEwXhwQcQPuqqpn9WR1A6S1BkdSIHkArc0XnRYkfQGFmrbktzB5AS3Zfjm+VHkDf/mNO2nEfQJYyozIkgx5Af8aAsp6dHkAWl0Md7mgeQGTHgqXVOB5AYJMtOnLMHUBYX058jwIdQLxolfm6ahxAeYsEE1qPHUDhe+d/ZbkcQG8cCOvLBhtAv09Qwfq1GkCDge+F/Z0ZQCUE1vjqMRlAxeNtS0wVF0A4zmWncY4WQJ1UAdJ+ChVAmmHFvZRbE0Cwy499sRoTQMIY0jFu7xJAAXPOAlqVEkA8HSTvMiITQLsNtSOu6BFA86tl7iifE0BHXEkZxXYUQO6J8A/S2RVA3UfJmUiNFkDQtrMxsz4XQJQ8JXW2kRdA4PF8D+7OGUDGmeV4FJUaQO5tTQvruhxAIpJSyZurHUC1wkbuaogeQB+3WO3bTB9A57L32woaIEBwagCoK24gQHvwUbfIgyBAJFgh/Kv4H0ArdeB+SjggQP9QvI4UKB9A+aiH6N0HIEAmvs8mKrQfQJbi/KfxsB9AO6q+pBV3HkBrM2shUhwfQKxzVW3DWx9ANEIuJCQkHkBaXR71OzQeQL25/pW0rx9AF8AAV/1qHkAOKoYeG/MfQCNeqTCAJh9A+NYea+aMIECU4dQliWQgQGJALasH2CBAgjUVPX+AIUBjbPOd7kIhQLU4AVfM3yFApMj1Xm5cIkCXLZpI5CYiQAuvRlAWPSNAmIg8B1hiI0Ax3jmORz8jQPupYldHViNAheiSdVjUI0AhI9J/5zckQBIzlKrBviRATkdkeOPhJEBFugnIOZAkQMDf4iEJzSRADaTnlbfuJEB/GZSIoYMlQGYAjUjouiVAslhh0f7hJUAFZwbHP6glQJA7/f4SGCVALDxd6OrJJUB4Tvj5+pAlQHBAR+hX9yRAiF06Is1jJUDDCosxcxQlQDGZ4rZXQSVAw2CcoskRJUBL6+NVK3EkQAIPFZh67yRAytc/u98rJUDaitC3kOkkQOQcQKkHOSRArA/XpGGJI0Dw/j8iKcwjQPskWN3wnyNADD4fded0I0CzzE79skcjQLTIodfBWyJA/R/3t7FFIkAxluwLxbEhQA2v2ilAfiFAuMEWr93YIEDUyshoNCYgQMLrSvP1QiBA2pezr5k5H0DoUclwDjYeQJCfWWgIVh5AU4Ag4lpFHEBDFyiAxhgbQA==",
          "dtype": "f8"
         },
         "yaxis": "y"
        },
        {
         "hovertemplate": "Sequenz=147<br>t=%{x}<br>v(t)=%{y}<extra></extra>",
         "legendgroup": "147",
         "line": {
          "color": "#FF6692",
          "dash": "solid"
         },
         "marker": {
          "symbol": "circle"
         },
         "mode": "lines",
         "name": "147",
         "showlegend": true,
         "type": "scattergl",
         "x": {
          "bdata": "AAABAAIAAwAEAAUABgAHAAgACQAKAAsADAANAA4ADwAQABEAEgATABQAFQAWABcAGAAZABoAGwAcAB0AHgAfACAAIQAiACMAJAAlACYAJwAoACkAKgArACwALQAuAC8AMAAxADIAMwA0ADUANgA3ADgAOQA6ADsAPAA9AD4APwBAAEEAQgBDAEQARQBGAEcASABJAEoASwBMAE0ATgBPAFAAUQBSAFMAVABVAFYAVwBYAFkAWgBbAFwAXQBeAF8AYABhAGIAYwBkAGUAZgBnAGgAaQBqAGsAbABtAG4AbwBwAHEAcgBzAHQAdQB2AHcAeAB5AHoAewB8AH0AfgB/AIAAgQCCAIMAhACFAIYAhwCIAIkAigCLAA==",
          "dtype": "i2"
         },
         "xaxis": "x",
         "y": {
          "bdata": "RV4Hzng4HkD0sKMYmlEdQBAva2dLbx1AlBVBQsHcHUBJMTTU5NAeQH3yVkvmZSBAHbM8+euOIECNSjlCzi8hQGB3OZumTSFAR/UkSVZ4IUBvKW1NRz8iQJyPrVtrBCJA4QRa/wndIUBpd/zceqYiQNlwjtTiQiJAZxAd/UnDIUALPg8FU98hQJbEAgjr/SFAuR4dRbrZIUCk7QbtqaghQNve7rTZdyFAnNejzgCyIEApNkYt6yMgQKZrOFPY/B9AwhUJfRSrHkDJgXDA8KUdQE+yQxZnBx5AlV7Uw+bbHUAJnIC2ylEcQAKPU+lXgRpApiEvmyIEGkD6aY2Pop8aQKvTwPLjJBlAZOlUFp8bGUDLLkpz84UXQCb/EgPlVxlAF4DPB64nGUB5GoVJe5MYQIp4Kbla7hhALqXJTWySGECpscRp4dEZQEF6sXAAkhpABZgn9JMnGkC8HXGASEYZQFVvW9cr5hlA6/8ety7WG0CRN5d88YsaQCNfMiwGVxxAeB26c4sqHEBg9MJENdsbQHgj96S5RBlADxdldUDUGUCzk/icXsIXQHbLHPgMxhRAiY2AtvvqEUCEJZs9MjEPQFMZHJ1yEwpAvVRoPFIfCkAq4E84GEwJQNYt8Z61iApASXcCKfqSC0DE1QY47UkQQIW3q6MGrxFAs6eOb0j2EECmNBHGYgISQAlWrFEGEhJAb+OHFT8PFEA62TuvINESQKkbTzDmbhNAEfo1Ri/0E0DLa6gnkiYUQHg4a4VnThVAhw4kHbavE0C+WelPI6QTQGqwZh7WFxFASfwR+ky9EUBwi1ervkcPQBZsvncDVA5A3/7SQCtGC0CeLkXBUQsLQIQhRFEGEw1A6CJ6v12ZCEBirSm9XSYJQGKYQjHPRAlAI40kP/8qC0Cy8N8xq+gNQP6pP0eIiQ1AerZKKkoaDkC8bpaVNDkQQN3Wy6UrFxJAZPk3GYPOEkAKWzXl5BMUQM4a2GcRsRVAszwOhJX/FUCDkEC83o8VQGHmUFg3jhhAmkQ3agsoGUAFim4DBmsZQMc/72fV3xpALbqg6FAIG0BTkuQiulIaQLLCKiNOxBtAz3Bj8ngzHEBodEJp/HccQG+kLHim4xtAb1xmGWVgHEBrZBfXZGQdQK9YnZ5wtxtAUUCz2yO7HEBv+KaWDyocQGGgYWRHshpAjg3zhoggGkDEWyz3xsQaQH6l66koghlAnWfbMPf3F0AmLZCn2UUXQDMI/3venhZAkbEEeBZIFkAuyVPQNX0VQOzv4R4w0BRA+e9FOSBiFECpT6ZJPmATQHXgcJqGWxNAi6KjkQCdEUCvBm/xMDcQQC5muUAGsg9ATGbavOl2DkCqGoU5JEkLQFd4nLoB/gtAASFVInEZCEBuF4hUfpgIQIgaYJL/twRA546FuqC1AkADEBmouMQCQERnoJiAzwFAWor5vf9Z/z8/r5bdsAb/Pzk2/wE7uvM/gNwF58916j9f19H+nQT0Pw==",
          "dtype": "f8"
         },
         "yaxis": "y"
        },
        {
         "hovertemplate": "Sequenz=148<br>t=%{x}<br>v(t)=%{y}<extra></extra>",
         "legendgroup": "148",
         "line": {
          "color": "#B6E880",
          "dash": "solid"
         },
         "marker": {
          "symbol": "circle"
         },
         "mode": "lines",
         "name": "148",
         "showlegend": true,
         "type": "scattergl",
         "x": {
          "bdata": "AAABAAIAAwAEAAUABgAHAAgACQAKAAsADAANAA4ADwAQABEAEgATABQAFQAWABcAGAAZABoAGwAcAB0AHgAfACAAIQAiACMAJAAlACYAJwAoACkAKgArACwALQAuAC8AMAAxADIAMwA0ADUANgA3ADgAOQA6ADsAPAA9AD4APwBAAEEAQgBDAEQARQBGAEcASABJAEoASwBMAE0ATgBPAFAAUQBSAFMAVABVAFYAVwBYAFkAWgBbAFwAXQBeAF8AYABhAGIAYwBkAGUAZgBnAGgAaQBqAGsAbABtAG4AbwBwAHEAcgBzAHQAdQB2AHcAeAB5AHoAewB8AH0AfgB/AIAAgQCCAIMAhACFAIYAhwCIAIkAigCLAA==",
          "dtype": "i2"
         },
         "xaxis": "x",
         "y": {
          "bdata": "nE3QJvJhEUC42kyBpIAUQKMRdeUDUBRAj+fYq76jFEBig4LPD2cVQPgv8qWrKBZAczEZrr3eFUCqxC8ztiIXQF9Wh53IbBhANWXd6AzLGEBADtSreE0YQHvLHsJEJRlAuQUSAA4aG0Bn6B6kOrIaQAaU6j2TUhtAnx2ps0nzG0A7Qlk/85MdQESBOrWVBx5AybvKHhMJHkAYR1MpUbwfQMp+JUbAhx9Ah1ElEt91H0A2SrpninAfQNDVl6GiVSBAWsZzKr85IEDOQ9gaEgkhQAWaOxV2qiBA57VOCglKIUC/1AfFN7EgQAcGGSqY2CBAwp/gEy2HIEA4tnwBJ40gQCf7vwAAfSBAWGMiTKjYIEB/FAGW/ZsgQARIxaAu6B9AkwnDlDutH0AiUJ+iZh0fQDzCgikYuB5ATGSuvVEQH0Ci9G2I3KsdQEIw+/Qc5xxAkxsGno0vHEDif9KEUlEbQEujUC5Y7RpAMX8xYPF8GUCV5pUZissXQC6ByL4k3RZAdkw0Wrl6FUA/oHP26pwUQNuuUg/n3hVAK2K4Rpo4FECwR+u+FU0UQGJZ8Hle6BNAzraVmIb2FEB9H75w6lMWQJaBv6tZoRZAGQBC6EtCFkB8pX/55ZQXQO2dRHRVQxlAMhTQVv7cGUC1woe50UkZQMTwpzUwlBlAyw6Z3/5KGkBM1dergvAbQEFxitLIBh1AFoYXeg9uHEDwQ1ukV0ocQBRK1mDGRR1ArLsbmD/yHEDdvOj8lKccQH6fd9suGB1ArQXZD/cwHECDv/2tTMQbQP4I0NqoohtAa8jCtdRBGkAgWEewUQAZQBqdf5UvMxlALM9wph93F0DwldhTMUQYQC+N2XQvlxdA40OasbS8FkA46kL2STUXQGwLctLMjRdAbDIrtmZ5FkBYDEYaBegWQO9tTP222hZAy5ap2KIxF0CCSHTjBpYXQL2vwLAkyhhA5FFe30f/GECnn/tcep8YQGHbZKqbKRlAMqIgqX5JGkDk8LjLuu8ZQPxGWuCQphtAfixE5Dr8G0B8qPgbCjsdQCMiwHOIYBxAp9/b1N8iHUCbGRIJrpIeQIEhPomh9B5AUuXqd8Z9HkDj2dYKIk0fQAHZtckvrR5AWhfhrB88IEC5eNS9bQAgQNKUDq3ajyBA6zUHX4t3H0A6gB/R9jggQNVPpqtKCCBAvUamwVyfHkDUzzoplKoeQPgA51w/LB9AEXdebk6LHkCZ161qBsMdQDAaQFfNbx1AmGT1dPt1HUCtRzC78PkbQPCNTi5z5RpAQNDJP3iyGkBuzzIY6UEbQFntzrfX5hlAzYgzkiKYF0A2Yfo1mwIXQA88iRhGaRdA77lmXSD6FEC41IqHak0UQFJjN8BmPxRAV5EIgUwqEkA/2j3gGo4QQIrqOs/JWA5AkdaxMs7iC0A1zXd4dScIQMPgRGR0fwdAs/Q0tKgcBkDBMiri/TQEQD/Rbj4DigFAeaairpFE/j9MmHoPwqn9Pw==",
          "dtype": "f8"
         },
         "yaxis": "y"
        },
        {
         "hovertemplate": "Sequenz=149<br>t=%{x}<br>v(t)=%{y}<extra></extra>",
         "legendgroup": "149",
         "line": {
          "color": "#FF97FF",
          "dash": "solid"
         },
         "marker": {
          "symbol": "circle"
         },
         "mode": "lines",
         "name": "149",
         "showlegend": true,
         "type": "scattergl",
         "x": {
          "bdata": "AAABAAIAAwAEAAUABgAHAAgACQAKAAsADAANAA4ADwAQABEAEgATABQAFQAWABcAGAAZABoAGwAcAB0AHgAfACAAIQAiACMAJAAlACYAJwAoACkAKgArACwALQAuAC8AMAAxADIAMwA0ADUANgA3ADgAOQA6ADsAPAA9AD4APwBAAEEAQgBDAEQARQBGAEcASABJAEoASwBMAE0ATgBPAFAAUQBSAFMAVABVAFYAVwBYAFkAWgBbAFwAXQBeAF8AYABhAGIAYwBkAGUAZgBnAGgAaQBqAGsAbABtAG4AbwBwAHEAcgBzAHQAdQB2AHcAeAB5AHoAewB8AH0AfgB/AIAAgQCCAIMAhACFAIYAhwCIAIkAigCLAA==",
          "dtype": "i2"
         },
         "xaxis": "x",
         "y": {
          "bdata": "eWqDuVFbGUDGXkjGKa0YQLaw31HVuhdAf/yuRp2IGECbg8tm3S8ZQILNnLZm8hdArxdVHx8VGEAF8lkc1dIXQEVOT1LM0RZA77AxTLXXFkAHSAIu5LwWQDpuGKt+QxZA8posDMpfFUC6Axf9oKsWQCAIjxqAeRVAEGJ34PPuFEDIn1r74FoTQF0Ay0NldhJALodVCZFxEkBF56SlOg4SQIzkeuO2qxBA2+SKiboGEEDEZ1C1C/kOQKezR7Ts2AxA1G96DqFiDkA7kKdr8cMMQHTaE07l/Q1A0OnS4rGZEECRuXIJFnwQQANItDwARxFACrtOI/wxEUCXMPEqk5QTQAKMpP8PphNABCCz5XXuE0DJwbFOjVoVQNc4ZwqPzRVA74ZDpMCjFUAceLnDpJQVQDWaHxAvFRZAonqEOjiyFUD2PsY6sI8TQLxWz2uaJBNAPnPc8n7WEUBnoS1GowMRQPH8qqm3xw5AZzKE2pXOB0DiCQqQkP4CQH7PPGGaKP4/ClTIb6pm9T/jDPp02KH0Pxg1alffvvc/WNA5YcyR8z9W4wmh9UT1P2TGnmXYNfI/3QengocY/z/0TAKCCrQCQMTcYwj6yARA2aGZDEtDA0DzJo5OeocEQC2BMEvhmwZAjekoxskxCUAwz/XKCwUPQPE9oQ6YwhJAfSyWV9oqFUCiesS8D3cYQG82Og6opxpALSH/Q39mG0BVlhtZQmAbQHjMJAojRhxAayU71IYfHUBLzDy/dEIdQHtC56oMqhxAcitaSZpFHECEHXQQIiwcQLTc0tsIIxxA9WCMimm1G0CChbEfg9gaQCWPaGBL8RlAx85ux86mG0BQFLQe89UaQI78Ds5HPhpAQCGw3tZjGkDg8P7cYdoaQBZc9G6uqBxALK6zSuRfG0DjHYlf3iQcQHCWXtqSthxAjKVJXk2JHUBcKuUJKZQeQDgFgGRZ1B5A1z2teY9BH0BBEN7V4K4gQHe0FbRT/CBAtQcHSAv2IEDn/1jOg80gQJgjgIT23CFANDk+hJhiIkCAmtGKtd8hQD+nNfOzhSJAj2znCfk8I0BsUQqLYtgiQDETYTe7fCNABdr7+i2wI0Aw8AER5VUjQECQJq8NrSNAi1T/Yg5HJEB3GHJqe6MkQGQp8s7OGSRAdf4qQOvDJEAMv8YaSSckQJDp8BUHrSRAhMNH1AEoJEDOY+XNmsgkQB1Tp3EKFiRA90P98XQGJEC2uiIGp/gjQOBiOXfRACRA8voMhD/yI0CokL50aRgkQGjilhrnxCNA8HHBhcvWI0BvV5bl5PUjQKAL2ATMWSNA8iVOVbKxI0BO6mH8SlgjQCQA4FPY1iJA1Eq5BGhGIkDfbTU6xVEiQFPDYd7noCFAREpp2iV6IUBAybiUDI4hQC5aTDuEjiBASAzaJdXJIEAoozj3Fg8gQBUVl6P/0B9Ammaw6+LUHUBjLhLHIngeQMFSMhjABR1AdDuavyDBG0BDOEU9tNwcQA==",
          "dtype": "f8"
         },
         "yaxis": "y"
        },
        {
         "hovertemplate": "Sequenz=150<br>t=%{x}<br>v(t)=%{y}<extra></extra>",
         "legendgroup": "150",
         "line": {
          "color": "#FECB52",
          "dash": "solid"
         },
         "marker": {
          "symbol": "circle"
         },
         "mode": "lines",
         "name": "150",
         "showlegend": true,
         "type": "scattergl",
         "x": {
          "bdata": "AAABAAIAAwAEAAUABgAHAAgACQAKAAsADAANAA4ADwAQABEAEgATABQAFQAWABcAGAAZABoAGwAcAB0AHgAfACAAIQAiACMAJAAlACYAJwAoACkAKgArACwALQAuAC8AMAAxADIAMwA0ADUANgA3ADgAOQA6ADsAPAA9AD4APwBAAEEAQgBDAEQARQBGAEcASABJAEoASwBMAE0ATgBPAFAAUQBSAFMAVABVAFYAVwBYAFkAWgBbAFwAXQBeAF8AYABhAGIAYwBkAGUAZgBnAGgAaQBqAGsAbABtAG4AbwBwAHEAcgBzAHQAdQB2AHcAeAB5AHoAewB8AH0AfgB/AIAAgQCCAIMAhACFAIYAhwCIAIkAigCLAA==",
          "dtype": "i2"
         },
         "xaxis": "x",
         "y": {
          "bdata": "RrZD6cJDIUBd7tJVfYsgQJoaFl/69iBAHqOSNt91IEA+HnbGrt8gQN7bye+8/yBAHxYwW0w1IkB2g/QbdJgiQCDeWhzXdSJACFIFzG99IkCtICnpdmIiQE2JD76nziJAfd75tjzCI0AuQLNOhAojQKOgRDyt1CNA3soJ3XmOI0BJKilMtBUkQO5aoz0HbSNAtL1rSPE1JEA6wSex/IAjQNfkDSaeMiRAvlwFQCvkI0AdRZXQxk4jQAyXdhqdayNAoI/8fnxGI0AepSPJLOgiQGI0zZD1zCJA33m/TJy+IkAOtqhESCkiQAQZHgl7/CFA4OAVPVypIUDwZ/MXsvIgQBrKpQHvlCBApnOgne2uIECdzrekQkggQHFIIJUhGiBAks0TqJGLHkAQyFSUcswcQBTWtI3Q4hxAlvboFCIwGkBdYm6YVhkYQG7xKqhS7hdAMirgYEaHFUB1ehVs+u8TQA5AuKZvGhJAokE2kvJnEEA5DiiD10cQQL79fDg5URBALSBt+FgAEEBd/bUo3V8NQCeZtZ09VwtAH5czRpATDEDUnnyb4LkNQBVz0NffhgtA53IiZcnTDkCrwFKGhLsNQC+fIH6tJhBAXgKlDIBmEUC3Rd+32moRQMUJ43CiMxJAbPHU/ZGFFECmaFW02/4UQCbgFSBpCRZA25WQxariFkDSPOvsEw8XQAXgI4vefxdANVOTUXLlF0DJmSBIw1MYQDN0pCJhghdAlOMUXIpOF0AOVuDi9xEXQFb3fR2G9xdASoTStFnVF0ANVM4Wa+8VQMz1ICCqFxdAkXgPmdZ6FUDO2Ko//BMVQJPS1uJIHBVAi05SY06jFUAH4AtgJeEUQD1k+aRBrBRADj8jnGzbFEDAR8UQ7CcVQObU7+8I6xVAWP7nqYezFUBUevKbzQYWQLvgvUDzxhZAHPEwA7zLFUA226z6nIYWQA8oCQnxARdA1bSmsW4+F0AQg7cWb1gXQP4Ao0al5hdAWsPzoavuF0CmPvC4F9oXQF6iz/w33RdAGmtm5TduGEAM66mY7c0YQOgxDR1yhxhAWdXd62neF0DT1Xw5VnMXQMxZxa/jARhATO7D39zBF0BUR7fKSysXQEkz4M1zgBVAwgT0ccypFUBnDk2MgzcWQGGO2H52/xVAdSbkc25tFkC+gvcJZ+oVQPqp0ssBGRVA+YSCRht5FEDX+ClqPRgVQKBmKVGxhBNAFlcl/hXTEkADo9rfNOMSQEWlZdYwKBNANGXDX8j6EUBpv2AWWcgRQHQ3Vg6BYRFAEzdicqliEUCNeKotBXkQQLfrpNIKqA9A6WdRJgQ7D0BCt3GQbbwLQO1T/UyEAw1A4V9d7hzlC0AgY61wznAKQP5mdlxXGAdAThudTedzA0CK8ZYhzKEEQAU1GWVuSgFAoJp/L1c2AEAcUvjoz9z7PyDuhYDLtfU/GySNdn0r7j8ykmBCaDPvP4rucuxzHOE/sYG4DkuA5j9fQREjo7TvPw==",
          "dtype": "f8"
         },
         "yaxis": "y"
        },
        {
         "hovertemplate": "Sequenz=151<br>t=%{x}<br>v(t)=%{y}<extra></extra>",
         "legendgroup": "151",
         "line": {
          "color": "#636efa",
          "dash": "solid"
         },
         "marker": {
          "symbol": "circle"
         },
         "mode": "lines",
         "name": "151",
         "showlegend": true,
         "type": "scattergl",
         "x": {
          "bdata": "AAABAAIAAwAEAAUABgAHAAgACQAKAAsADAANAA4ADwAQABEAEgATABQAFQAWABcAGAAZABoAGwAcAB0AHgAfACAAIQAiACMAJAAlACYAJwAoACkAKgArACwALQAuAC8AMAAxADIAMwA0ADUANgA3ADgAOQA6ADsAPAA9AD4APwBAAEEAQgBDAEQARQBGAEcASABJAEoASwBMAE0ATgBPAFAAUQBSAFMAVABVAFYAVwBYAFkAWgBbAFwAXQBeAF8AYABhAGIAYwBkAGUAZgBnAGgAaQBqAGsAbABtAG4AbwBwAHEAcgBzAHQAdQB2AHcAeAB5AHoAewB8AH0AfgB/AIAAgQCCAIMAhACFAIYAhwCIAIkAigCLAA==",
          "dtype": "i2"
         },
         "xaxis": "x",
         "y": {
          "bdata": "f2cAZI3vHEA3SF0k9ukaQNzmPzOBBRxAkEKt3mScG0CwpOjNGbQaQEbDzJWRdBtAlVSpVUcQHECSbiFN4vEaQJ0tAIu+BR1AY9Vni+8/G0AXZZyPNoUcQF3TRBRsbR1AkrnQdxu8HEAkTqkPS6wdQOZfc15fOh1Aef1K/UxXHUCitQ3O+10cQJIy4ZImbx1AdPPkhxJBHUAeexuLo4weQPcxpv/gfR5AqRHmi6GyHkCkceVAj8wdQGs16VFtbh1AmkGmByNjHkAaDjp0ORgfQCbgRJGlfB9AL4w+GFWHH0DtY4W+W5sfQFdcJDdwQB9AnPb53N/bH0BNrQSz5tAeQFisu4CXIx9ARUCAEWC/HkBMoHQ1PXQeQF+dpNHt/B5AKQBoXUvBHUCAVxiT5AcdQNZrHSc7fR1AcFtwaQBnHUA+qPF7d6wbQMbeotxFqxpAZc/fCkNJG0BWl3eLFSwbQOTqW93+WhtA3DRK+PtIGkBMp9JpkaoZQHK/86s1KhhAsSgA26hdGEDWr+JbWSIXQL8SaxCdPhhAPgWUGz+8FkAA2apDMP8WQBKqWcmgChhAW3y0EZlzF0DzY+NUmWQXQANWIr9RVhhAiC+UiIIlGkB3xN/GLJ4aQMcepc5l5hlARU1X/67/GkBpJ1EehxAcQHjlYoAhuhtAcCXLFKNEHUC8Ci84UrwdQBE47WRf/B1ArrHXBlncHUCS3yU4WAofQJ5iojnmEh5A38CzZbtNH0BAiePxH7QdQN7wHvA6bB5Aoy6sWvTpHUCVqu3+QmIdQNPf51XwOhxAGnFKgZuPG0BD6wpSL50bQP3rw9e7HxtADKpT0SoPGkAt8D5PbM0ZQLDIPZuzXxpAtQIzCQ1tGkB0oo4Qo8gZQOV8+hpWRRtAFaiGMoSjGkDBA/SQ1XsaQEZbpi71eRtAftMTLKZzG0Cp1NPvqZwcQI0uh7ijGxxAWYujQwZEHUA4wJEz9FQeQHYsgPZXNx1Abz2abhNWHkBo0m4+dkMfQDK1/QjpXyBACunE/9ICIEAhT6WHM68gQMY9znXPoiBAzTHRhGq9IEBNT2MzXZshQK4wrIMLOiFAQQgBEtchIkDWy6iz49MhQGzYRC6FoSFAzcOPVnlZIUDzWkNvrWQhQKmtfx3u8iFARgqBJd+tIUDkTXZ5A4khQJknLnDjFSFAPnVjGUMzIUBWiPEnBOMgQBAEExsy7R9AFvYx7SQpIEDcxFARekogQCoX+0gMFR5A1JUhuccaHkAgfBwcYrAcQJtwEm0JcB1AwuYmPbZZG0DmlYlFZGoaQGKy8K3N9BlADQaaGcRyGUCS4Dne0r4YQL7juU4RhhZAXNlHRQgbF0Ci3DoQbxEUQGR704hqshNA0d+6gB3cEkDxeEdvIKMQQG8u1kmxFw5ASg80ypvtC0BLA17+J64MQPNmQolwjwZAPhoy6hOoB0Bp1qAHeTkAQANMfWrZhfo/8Gmlix7J8z8U3vM+XcHyPw==",
          "dtype": "f8"
         },
         "yaxis": "y"
        },
        {
         "hovertemplate": "Sequenz=152<br>t=%{x}<br>v(t)=%{y}<extra></extra>",
         "legendgroup": "152",
         "line": {
          "color": "#EF553B",
          "dash": "solid"
         },
         "marker": {
          "symbol": "circle"
         },
         "mode": "lines",
         "name": "152",
         "showlegend": true,
         "type": "scattergl",
         "x": {
          "bdata": "AAABAAIAAwAEAAUABgAHAAgACQAKAAsADAANAA4ADwAQABEAEgATABQAFQAWABcAGAAZABoAGwAcAB0AHgAfACAAIQAiACMAJAAlACYAJwAoACkAKgArACwALQAuAC8AMAAxADIAMwA0ADUANgA3ADgAOQA6ADsAPAA9AD4APwBAAEEAQgBDAEQARQBGAEcASABJAEoASwBMAE0ATgBPAFAAUQBSAFMAVABVAFYAVwBYAFkAWgBbAFwAXQBeAF8AYABhAGIAYwBkAGUAZgBnAGgAaQBqAGsAbABtAG4AbwBwAHEAcgBzAHQAdQB2AHcAeAB5AHoAewB8AH0AfgB/AIAAgQCCAIMAhACFAIYAhwCIAIkAigCLAA==",
          "dtype": "i2"
         },
         "xaxis": "x",
         "y": {
          "bdata": "PRze+lSmJUAXua4zyx4lQGGtaiT4VCRAAPyUlsL8JEApWVzY7ywkQNYTOtTxlSRAm2owW3woJEBMrJFlGRQkQHXoCpmkACRABdzmFtjuI0CekLJPOxIjQHeUcoXpDSNAoDYvjqIaI0C4XGEBQXIiQBQa+gUsaiJAb9HuDPLqIUBm+hJ0qsIhQIXbM2XPjiFA/LCZay7AIUC+2RN2U3MhQCWOLh2xLCFAnf06zZfiIUDVw3n91KAhQGkHkEjNHyFA9u7OcbhCIUD/H9b4nW4hQPRy6sHtRSFAGKx1wcf8IEB0l1BUeAYhQLiG/GohWiBAopT8SZivIEC+GZWIORsgQOc4+HMxix9A7cAHar3SH0BBWgLUijUfQJejANJcWB9AjNu7lZRAHkAYr4n7WfccQIW0MNESZxxAQC82sg7RG0BOpaSomscbQL8+FlhlYRxAq17X6/xoG0DkoZEIOnwbQDiM3zfPlhlARS3rEkOXGUAWmRd4MrAYQKw7WRVmdBdAxrBUb9cpGEB1l6C4T+8WQN+C0TzIsBVAKIqGoEqzFUCR/sqI1CUXQBpSUiE+AxZAO7SDRVqHFUDbM4LjKNwVQK+P1uapaBRAPWSvQv1rFUBlNTtHphkXQEI5+SkONxhAFg6OdYSPGEDqIe3E52kZQKY9z3FkixhAaPa1NknjGUCXH7GlNhMaQHGqpf1XFBtA/TXykz6sG0AeTw+aZf8bQMSvO/JoBx1AHM67e6vVHEBcMskK9qodQOV36yQNgBxAg1sSYAycHEDl4ayYYlwcQOpsWMCO/RtABeZgSBQFG0CB78365IEZQBnssCyJShpAs7VIEwB5GUDxLCaMVAoYQA1fyKZIthdAsd7nqN/4GECqoRG49hUXQLCX5UAmSBhA0Hd7GcfYF0Bd+kmIdOsYQInl6rrqaRlAb3/Wa1jwGUBgrW36sZIbQEoygyPvPBxA0iHoa3fGG0C4d7xlqUAcQIXNW4IgIR9AfBxSzxZbHkCFAHUg5usfQKV9ouSghyBA3ZbyN7AAIUBLv9wGJWohQIWQfWm8ASJAvngmb8tSIkCIYc6fK6ciQDzghOq6jSNAEoSH8mubI0Bum+DjwtkjQOuaYqySPCNAlHk79WwUJEAz0v+0l5ojQLjJexUIWSRAxGEdup6PI0DpFPMKwbkjQLbcFGpkPSNAEoWmLXQ9I0A55ywNpz0jQJtswYj5ZSNAUCGcP2evI0CnX6q+CvciQCtF/stfjyNA/v8FG+ApI0Dp6wk0070iQC2dmBaXLCJAIaJojFEBIkCKK2VwrDIiQC+8T6QEmyFA76AWTIoUIkCamL+pu7ohQNpFzH8zsSFA7SHCmCjeIEAXPCYsmW4gQPgu8QzagSBACboBYz5KIECBAkQ+0A8gQIBvZQ+3CCBArkz5dAnmHkCVGloOm7EeQHX2rvltdR1ABQrZCOb+G0D0tQ78bjkcQDiGuSQQ8BpAz66ZLFhUG0CYiPkdFbwaQA==",
          "dtype": "f8"
         },
         "yaxis": "y"
        },
        {
         "hovertemplate": "Sequenz=153<br>t=%{x}<br>v(t)=%{y}<extra></extra>",
         "legendgroup": "153",
         "line": {
          "color": "#00cc96",
          "dash": "solid"
         },
         "marker": {
          "symbol": "circle"
         },
         "mode": "lines",
         "name": "153",
         "showlegend": true,
         "type": "scattergl",
         "x": {
          "bdata": "AAABAAIAAwAEAAUABgAHAAgACQAKAAsADAANAA4ADwAQABEAEgATABQAFQAWABcAGAAZABoAGwAcAB0AHgAfACAAIQAiACMAJAAlACYAJwAoACkAKgArACwALQAuAC8AMAAxADIAMwA0ADUANgA3ADgAOQA6ADsAPAA9AD4APwBAAEEAQgBDAEQARQBGAEcASABJAEoASwBMAE0ATgBPAFAAUQBSAFMAVABVAFYAVwBYAFkAWgBbAFwAXQBeAF8AYABhAGIAYwBkAGUAZgBnAGgAaQBqAGsAbABtAG4AbwBwAHEAcgBzAHQAdQB2AHcAeAB5AHoAewB8AH0AfgB/AIAAgQCCAIMAhACFAIYAhwCIAIkAigCLAA==",
          "dtype": "i2"
         },
         "xaxis": "x",
         "y": {
          "bdata": "nK3FHeaHJUAK1vJs1AwlQEyI6b5JlCVAs8VrkhUxJkDCbUMADYclQLFBjTqavSVAGAjmDicVJkCHet4XRHYlQLundNs5pSVAdersNFZRJUAI+yJwhB0mQJOoOMkHOiZAvy0Pd2JfJUC1/vm9KM4lQNfLU5C6aiVALFXBdYM8JUAh5Wq63aUkQFaGRa9GICVAoA+0D64aJUAyIsxERHskQKZ4O2xNPSRAHco5ZwAmJECd7M3kMfQjQBq9uR/H0iNAmM61snsPI0DshkrQHBsjQBOhEMuz7CJA+5V9rXh3IkB1vl4x7p8iQKurw2nD/iFAoYCyaQrZIEDj9vQ0LkogQNGtJQV4jiFAc4tO1LeAIkB60EKpzmsiQFfU2gh1fiJAT22nb4k2IkBWdFXMD9YfQOCcJmxBwBxAT9ey3fytGUB5BkJo8WMWQPG95o83pBRABLR+Dh+aEUDr0KGV+9wNQOYrQ+vBmAhAoC+b89FGA0A7kOCs4xsAQC5C2S799Ow/qDVsPcvB3z/EtKj+5Zz+P0eyFm134fk/Gd5EH+Wr/D8AUJGIQ+8AQKr78rMFGwJA99oY8WlE/z/Kp8N2ziQCQKPt+plU6gVAAoM4qR2xCUBdelaLPWkJQBclQcxzuAxA/utFlQ7xDkAyU3x9pCkRQB/nvAGUQRJAXsZa5z+KE0CijLhGyEUVQAG7TTLD/xVAVLn3Fh26GEDRz6sHiJoZQCmkrASmyhhAgg8VLFHmGUCVAywQHC4ZQHm3JLqxWxlAIC82dis5G0C4kJQv6d8ZQECa/TKcTBlA5R6ICxfCGEC3zu0j64wYQLvNb+VtiRdAoEPPvDv4FUDUXc7PwrsVQKFaTwC2UxRASf0UIrYnFUDgMHkuIsoUQK4iVqfWjxNAo+apgA19FECS+eoOf9sTQI7q/uC3zxRAF5Upnr8eFUDexVxnxRoVQFPE1+ui0hZAepfuCZAMGEBkR7JuMkYYQL+xOlU1CBpAttkPt1LVGUCBSznzk6EbQCIBbTt79hxAAcrcydUtHkAj7PDy+xkfQBtJVJejKh9A8k6kR56bIEDvDirNykQgQCae/QkrwyBAXRes6xU/IUAduQw6zSchQOBW++wLLCJA1UMpu6eyIUA6nyBdWoYiQMoU11X1PyJAeVLrvwayIkDFUrk/+zciQLzjI2dCTCJAHPjGpNETIkAbKa1reCEiQOsnQ5RVUiJAHCgGs484IUDkzxQFxm8hQKwO6ZP1BCFA426+TPweIUDQnSe/Q20gQGtxjIXnPCBAC9QSaeROH0DqNbXFsRMfQCvC0Xgr+xxAGMhfs/fjHEBebOJYv0gbQFCsNjS0YBlAcfc1dhp0GEBfZbKmX+oXQDms7C4O3hVA9Ku+HPxoFUBWNmYPO+UUQFcH0V40ABJAKcT6VvzBD0D9lbzbM2gPQCck+iRXCg5AZvVUUixTCECo+GtiyZYGQMwgHtmyXwRAF5Zsqs5QAUARp8SN7UH8Pw==",
          "dtype": "f8"
         },
         "yaxis": "y"
        },
        {
         "hovertemplate": "Sequenz=154<br>t=%{x}<br>v(t)=%{y}<extra></extra>",
         "legendgroup": "154",
         "line": {
          "color": "#ab63fa",
          "dash": "solid"
         },
         "marker": {
          "symbol": "circle"
         },
         "mode": "lines",
         "name": "154",
         "showlegend": true,
         "type": "scattergl",
         "x": {
          "bdata": "AAABAAIAAwAEAAUABgAHAAgACQAKAAsADAANAA4ADwAQABEAEgATABQAFQAWABcAGAAZABoAGwAcAB0AHgAfACAAIQAiACMAJAAlACYAJwAoACkAKgArACwALQAuAC8AMAAxADIAMwA0ADUANgA3ADgAOQA6ADsAPAA9AD4APwBAAEEAQgBDAEQARQBGAEcASABJAEoASwBMAE0ATgBPAFAAUQBSAFMAVABVAFYAVwBYAFkAWgBbAFwAXQBeAF8AYABhAGIAYwBkAGUAZgBnAGgAaQBqAGsAbABtAG4AbwBwAHEAcgBzAHQAdQB2AHcAeAB5AHoAewB8AH0AfgB/AIAAgQCCAIMAhACFAIYAhwCIAIkAigCLAA==",
          "dtype": "i2"
         },
         "xaxis": "x",
         "y": {
          "bdata": "q2Em54O8FUD8aercipYZQDjj25ss3RtAsKUdvxQ4HECh3P0+fWoeQIc2szdAhR9ALL9reyqnIEDqqUiBDUohQG7aunERXSFAn9LxNMDXIUBqjZI5LLciQEy3vnCu3iNAW2kZ6POSI0AKnIFmOD8kQO43hKV90SRANWQ53YApJUAY2IIwiPMkQAb151D7BSZAhEpgC6z0JUAj0Je2PEwmQFkAXlzpoSVAbSQhTcvHJUAikNN4jKwmQFuhGsIDVSZA66k5TF3CJkDQqnAmRJUmQF+H+zuTZSZAVRp9eDjwJUD0eZ2UtzUmQGWY6qSuGiZAyJ2QKijXJUAf7rA1QTYlQA2n+NJQLCRAdQlpjTnLI0CgOJr8HuMjQOZ52sr1MiNApUVNghW4IUDb7gFgqIchQAhQoa6bWCBAzK0qFW3ZHkDGPAxu3uQdQKiQULv+XBtAy9A8xRDsF0C0vPQskgMXQCra0NPHnBRAQQKdDULcE0A7eh0zrJASQID0J1El7BBALPS9LiLSD0DkoNTnu4IOQImmryiDfA9A3fthcaDpDUDieaeO+nUQQMjWziVPcw9AsI5uZG6tD0CErz2GxTQSQKmx6KvrfhJAtRYUvA6xE0CC3qORqN0TQLlGHTzFBBZAXAnmC38hFkCuE2ngG1QYQNkBDKpnVBhAr1hCCtZDGUBMN3wCVBkaQDgiht77wBxAoMcPgzhNHEDHMjGuX0gcQFij7BYGFB1AfG5hF+81HEAqSDzDKX0cQJ7TjtZo9BxA8IGSCa1CHEAtzAmJmwccQBZ+Cs+7XBtAJIKlDXnrGkAzp6sk6wQaQIX/Kd3gmhlAYjPP78BnGUCWeIvPs4UZQBi1bYIuOBhASf9aiA0vGUAX45jhuuEXQI/RRcFL6hdAI+OKdI26FkA4ExIztGAWQEt6QjLUzhVAO/vdQGsJFkC84Z1oK3QVQILRb9PsKBRAYJ6CdeNQFECo5H+xAOkRQM/xFV0V1RFA76YsY7yPEkDF9TiqzcsRQBWkx9ZJqxFAag+9Of65EEAS1ofCqpcRQAcE1YKU2RBAPPWynnaqDkAg2cT8QQQQQKrW2rb9bgtApjDssjk2CkCiXCnCPMQJQIM/lGfpTQZA5Tw44zYqBkD2xJ3CKzIFQDh4Y6lBGQJAKSBTybx5A0CaeHzwd+X9P9jcD8HWzvo/QGRKUwU3+j+xSdjhEoX4P/FFE0GKKPM/S0UyulFY8T8XqzS2a3f0Pz9AA360/+4/eLscWNsR9D8Lbf9noerlP8CpGraPUeY/rpOdU+bN5z9v50y1ygzxP7TqcM/JK+0/1G4fspPB7z9sOe0aB+vhP7XG/w3SjOo/w5Z/tmNM6T9nxWC/azHrP/gLwSRFY+0/qUhzVYrf7j8/oCQm7rvhP4x3G5zdnOM/+Oop+srn3T89fwUfSl7XP7A7RpQqoew/Xp5LxoRW2T/U1k2gUELkP7LLOS/Hoe8/gvyefmsj6D8GnS0LbkPLPw==",
          "dtype": "f8"
         },
         "yaxis": "y"
        },
        {
         "hovertemplate": "Sequenz=155<br>t=%{x}<br>v(t)=%{y}<extra></extra>",
         "legendgroup": "155",
         "line": {
          "color": "#FFA15A",
          "dash": "solid"
         },
         "marker": {
          "symbol": "circle"
         },
         "mode": "lines",
         "name": "155",
         "showlegend": true,
         "type": "scattergl",
         "x": {
          "bdata": "AAABAAIAAwAEAAUABgAHAAgACQAKAAsADAANAA4ADwAQABEAEgATABQAFQAWABcAGAAZABoAGwAcAB0AHgAfACAAIQAiACMAJAAlACYAJwAoACkAKgArACwALQAuAC8AMAAxADIAMwA0ADUANgA3ADgAOQA6ADsAPAA9AD4APwBAAEEAQgBDAEQARQBGAEcASABJAEoASwBMAE0ATgBPAFAAUQBSAFMAVABVAFYAVwBYAFkAWgBbAFwAXQBeAF8AYABhAGIAYwBkAGUAZgBnAGgAaQBqAGsAbABtAG4AbwBwAHEAcgBzAHQAdQB2AHcAeAB5AHoAewB8AH0AfgB/AIAAgQCCAIMAhACFAIYAhwCIAIkAigCLAA==",
          "dtype": "i2"
         },
         "xaxis": "x",
         "y": {
          "bdata": "/wpJOup0IUC672eSXO4gQFfW132VESBAq10yApSYH0DUSRwHrJcgQJnrlUI0th9AZZqlxar6H0BAXNUFwckfQLTbf55RSh5AKM1woYJ2HUAqOFlmihEeQN0jGMnqJB5AQOFTIby3G0BaDv0PmvEbQO5ZRrlz3xtAzP3iOOcOGkDIatF8NLwaQJN4OwEkTRpA7+4Xu4uiGEC1nEr0coQXQI/2jVpGtRZAFvVPQwGiFUC7D4rvoWcWQFKwXv2CwxRAYKM6DlWLE0CzD5wvi/8TQP/GaOeZZBRAMLc2005OEkD8u57slNASQBuEgjrj+xJA3SvEDfA4EkDFxNxQ3doQQJImP1DrLhBAU39Sqpc8EED09naybG0RQFLXNDCqeRBAz3kIF/OODUA0FFCj32gPQHXjSpCnZw9ArZ33Djt8D0CkvS/Q+fQOQAwFm52gURBAQrQa2l89DEC5VxTxGBcMQN+nRvk5Kw9ANajqfB3jDUBrPoZXoRYNQJQzcAC6KgpAeYbdwmSCDUBvyYIYQ9ENQAJ+7UYLig9An/Vz2qgVDUBKqW53CfUOQPVi0JOIoRBAhA0ee3x7EUC9AvVi+68QQK5Cm3YzPBFAyojCqgtaEUDi9ajhtBYTQN+s6qui/RJAqKPIZVvvEkDyIhfC18YUQJR5SwR8rxZAUa449U4bFkDw60H9nUgXQOdlfhEocBZAtnfnpQPSFkDA8goM/CoYQCXA4FALVRhAQ5Hpfs/MF0A3T3FpkqAYQNTH5N6qQhdAUaU24epeF0CS5IkJnkwXQDeP7igz3RdA41ZwZbIkF0B4nX7t9WcXQGRxcdLJBhhAZnS4VR2BGEB1fvh8jsEYQMb7o37XNxhAiX0sP/vHGUAx4K45vhIZQEbbxcm+7RhAGmtaKkHkGkA9ZAOF7P8ZQP7z8K7V+RtAmlMLHSKxG0DMiEqNj74dQA9ODgMNqxxAcWnCKO4GHkCxe2t7qE4fQNf9XQqcux9ABecehjA3IEChryGJBykgQKeq75ytnSBAZP+AqRreIEATqTE5Qh8hQEtLoF7eKSFAoSVydk8OIUA/6VsEEGIhQA8laCYOSiFAswjpJ/QkIkCdSANs9zciQDkNEPKmXCJAwg8/QGnQIUCZ+uklk7AiQLrH8jg/ZiJAU0tx2p7aIUAzb3KEN0EiQOC9jpVCfSJANFe0hcUkIkDtesJU4VAiQFoV6PaCKSJAQsv8C/5NIkBCLvrtt6EiQJtRfzLQzSJAaq4dPUpxIkC22p4AGlMiQOGJRRTu3iFAYtkMh7gWIkDfcs0KtE0iQOhNb+SATyJA/F1QVXMuIkCu9v/lmdEhQEYU9MU1ISJABTuOhtOIIUAnrdwRAS4hQNCmRxuLWiFABW+whNp6IEAsPaO4t5cgQJnP2ZpGrx9AOgC7ra3yH0C2wgl+N7ceQG1qwX5OfR5AVOqGBCXZHEBiwqxm7H0bQG4XIEB1ohdA2wpKiyhlFUCQAP6W540RQA==",
          "dtype": "f8"
         },
         "yaxis": "y"
        },
        {
         "hovertemplate": "Sequenz=156<br>t=%{x}<br>v(t)=%{y}<extra></extra>",
         "legendgroup": "156",
         "line": {
          "color": "#19d3f3",
          "dash": "solid"
         },
         "marker": {
          "symbol": "circle"
         },
         "mode": "lines",
         "name": "156",
         "showlegend": true,
         "type": "scattergl",
         "x": {
          "bdata": "AAABAAIAAwAEAAUABgAHAAgACQAKAAsADAANAA4ADwAQABEAEgATABQAFQAWABcAGAAZABoAGwAcAB0AHgAfACAAIQAiACMAJAAlACYAJwAoACkAKgArACwALQAuAC8AMAAxADIAMwA0ADUANgA3ADgAOQA6ADsAPAA9AD4APwBAAEEAQgBDAEQARQBGAEcASABJAEoASwBMAE0ATgBPAFAAUQBSAFMAVABVAFYAVwBYAFkAWgBbAFwAXQBeAF8AYABhAGIAYwBkAGUAZgBnAGgAaQBqAGsAbABtAG4AbwBwAHEAcgBzAHQAdQB2AHcAeAB5AHoAewB8AH0AfgB/AIAAgQCCAIMAhACFAIYAhwCIAIkAigCLAA==",
          "dtype": "i2"
         },
         "xaxis": "x",
         "y": {
          "bdata": "uiDOcH+wIUCwNTKfLM0gQGGcdQ9dzCFAjfnQHr4JIUBvSmtPPA8iQBBtKkNLiSJAhcGJxNneIkDkSt/YMLEiQEt8vdMy/CJA3ZmGIeGjI0AJ3GsEQBskQLJzPRXWaiRADO99CAFPJEBL9QxeLX8kQB4nEW7rgyRAzBrvV/+2JEAdUgvc6AUlQOK1ZeBB5CRAkIfKBB68JECm7dAwi80kQPW2OGw+HiVAgB8CSP5lJUCbZzrw460kQCpn63gWhiRAUxTAEtSKJED00uP8Z5QkQNjY32vUDCRAVRVXZR41I0Djw47TD50iQKuygK1ueyJAwxoBuJ38IUBTHP7+fIohQIWNNklr9CBAgdf4DlikIEBjS2LKlUYfQFcaTe3lkx9Ax5UvK5gpHkBQJcAOk+obQOdag217extAk1PgpzasGkBV0Ail5OEZQJXx31fN0BlAdJxYA1PlFkAPlReSrCUXQGJlil+oOBdAbQ8KyQ8QFkCwpP41l5YWQKZiG2aYXxZAn8ruWAlhFkBg2mzDpaUVQKhZEe4BORZAxO24G2XKFkAddbsnnTgXQMRBV6xPQBlAxwO9aLTOGUBKUEDmFnYbQLKMPirf/htAPbhcrfCFHkACkMZjeOEdQPXLh5uWASBAd715P+E3H0CKirsdYrQgQGIPiu2MySBA3T+uNo+FIUAV0lKXwA4hQO28og0c9SFAvD+eTDo7IUDY/XWp0UUhQITUlTofqyFAWRIEvwn+IEBJwymNeeUfQOdV9ZFB1x9A8sTMZoFAH0B8AwqVQfMdQGlYe088xBtA2QvzVssbHECpRMPmWNMZQNVRGVOLwRlAcBVH3RHwGECPnIkMGokYQFdCNM/BbBdA5R0hFnMPF0Cb4O8MRy4VQMoMBEkOlRVAygzwsDYWFUCGULc0F40UQMgFShn+JBRA7LAmpItYFUBHGV2dOwAXQNajh2Q+RxZAVjKtQdolGEBAkEAqYmgYQJW/OABHahlAqqOqPPwoGkCy4F3vVYEcQKowEIpwIx1AufSK4reFHUCbm2POMK4eQBfp9O6meB5AyCSeFi5gIECHYLKBhxggQHTN7FATpyBA0Jrn1B6IIUBK0Z7BUgciQH72lDRzAyJAuPecwjuJIUAujkKlXuEhQC1hlIZwHyJAoao/fWk1IkCgshqzbr0hQN3Vmlq43iFAOqvdM8amIUBGodAj0RkiQAgQmHOo5SFAWybcla/IIUBgKcpxjD8hQEV4jzZS6yBAr+SftCXQIEDqOHHrFJ8gQOYqd3avWR9A7ft5mMzJHUAMj8+OhqsdQAwLjFGB4R1AYYshPDc/G0DKG5Eb0DAaQK+lKqywvRlAKkB53B/ZGEA2ta+rs4UXQMTM7cLDmRZABh/d9Gn/FEADxBIBfXwTQId5cILxcxJAPh0gyOINEkB79NQhPTwQQLgcG2FMIQtABJsURb9kCkDg/KcC0qMDQBmaXXkBVwNAxvGfxQZ5AED2WR7PHCD/Pw==",
          "dtype": "f8"
         },
         "yaxis": "y"
        },
        {
         "hovertemplate": "Sequenz=157<br>t=%{x}<br>v(t)=%{y}<extra></extra>",
         "legendgroup": "157",
         "line": {
          "color": "#FF6692",
          "dash": "solid"
         },
         "marker": {
          "symbol": "circle"
         },
         "mode": "lines",
         "name": "157",
         "showlegend": true,
         "type": "scattergl",
         "x": {
          "bdata": "AAABAAIAAwAEAAUABgAHAAgACQAKAAsADAANAA4ADwAQABEAEgATABQAFQAWABcAGAAZABoAGwAcAB0AHgAfACAAIQAiACMAJAAlACYAJwAoACkAKgArACwALQAuAC8AMAAxADIAMwA0ADUANgA3ADgAOQA6ADsAPAA9AD4APwBAAEEAQgBDAEQARQBGAEcASABJAEoASwBMAE0ATgBPAFAAUQBSAFMAVABVAFYAVwBYAFkAWgBbAFwAXQBeAF8AYABhAGIAYwBkAGUAZgBnAGgAaQBqAGsAbABtAG4AbwBwAHEAcgBzAHQAdQB2AHcAeAB5AHoAewB8AH0AfgB/AIAAgQCCAIMAhACFAIYAhwCIAIkAigCLAA==",
          "dtype": "i2"
         },
         "xaxis": "x",
         "y": {
          "bdata": "9dKt+2rJFUBkJx6igrgWQOWsQZJUKBZA5vo+oe7SF0Cp5Sv7eGEZQEAxk0ztxBlA53RWhcTBG0Arl0l8wHkbQB2sRdqzlBxA4fWRjodTHUBVrpzs7BofQEPs/L0TBR9AIF5PdS/FHUBqB1JWTPEeQD9wc7qWSx9AuANhjDUUHkBz3Ciq548cQAuLGzIQgh1Af7YkyMKZHUCIsa008G0cQFdpdmNlIx1A7PGFwsAdHUBGL2O7NzEcQKPWLtm2JRxA5exBd/aUGkAD/vHcWz8aQD5tuUh3OhpA5pNEo2z/GUD7Nul+49wYQFWL9ddNEhlAsEeS40IdGEC09JmQDA4WQB2coBJ7HBVAomjIzJq9FEA6g1IOUqYSQOQJErm2WBFA4jGeHDWaEECqp1WslhYQQGzZO6IZxQ1ApAfOPN/pCkD+IsLreVAJQJSM57Mj2QVAz/H/jFTDAEDjnUAiRzAAQCDGPEdvvv0/opml0jcy9j+uf52Qmu70Pwzjcs21zOA/FPC7OMn96j+T7Evs6Mr1P9lc1m2WXPo/oPR7r7edAEB0eqtHsTsBQI3O19JCBvs/MbpsmTw48z/PZDU875r/P4qXzHQi1ANArEw7KB0yBUBqGE7YIk4KQDhoPk68xgpArK2j2rhTC0AwddleYDMMQEaqh+pkQg9A2TOtH3eOEEB50JU2lgESQPf7C7Y5WBNA347Fwu5IFEDzjjNtk28VQB4d9p3wMRVAhZ2iyRJhFUCWQJJZassUQE4ZHwgpRBRAqXmnqfJOFUAp+let8HQUQIiFY0S0wRNAb1aGpaPhEkB0EwvwxA8RQFP0F83r1BFAjpeYG/WOD0BAqVHxTfMPQJm4GFolhw5AJD4ZmFaUDUDeZSSIwA8PQJoqAPKzeA9A2NLJ44oREEDPiSjjI54PQBr6XVcz+hBAFstLoVneEkCDZC+xy5cSQBDh2er6DxRAC1UmvpWgFEDFuPXhznUUQL+z3YNpJhVA+wWw31D7FkC5TE2+ZfsXQBbn4GWp+BlAaQHXEnhmGkDwvscAYYAbQBQ9w2Qt9BtAhwJY1jCqHEDcslYRuyEeQELEnITU/h1AXm1iGYchIEBCOljdmLwgQKC/vHe4yiBAF1TZvE3SIEAGr56Y3H0gQBBPw//5ayBAkT/3KUIcIUA85s+54DEhQNPtDdIxISFAuVF+jMLxIEDI2OnDdBohQNC5LMUISyFAF8aA4R22IECFH8SMFD0gQC3+HC03hyBAy/ju6ppXH0AbVi7bsI4fQCXNA7Yb4R1AhMz7ubPwHUBF4X+Px7IbQHmdU4rNMhxAYHfFw3mYGkB5gMCcuHsZQBGt5rfgThlA8M4jtRSqF0CSM5nfcnUXQB33uOfhlRZAZvhDcwMCFUDQ9fcyhXUTQIS3uNXwMRJAU0GX7UdMD0AUz2/Q4QAOQHnckORUHQhAhDf9q60qBkAZce9wG14CQHPF+mrUggRAyNwNGXs3DEBbmIOGOf4QQA==",
          "dtype": "f8"
         },
         "yaxis": "y"
        },
        {
         "hovertemplate": "Sequenz=158<br>t=%{x}<br>v(t)=%{y}<extra></extra>",
         "legendgroup": "158",
         "line": {
          "color": "#B6E880",
          "dash": "solid"
         },
         "marker": {
          "symbol": "circle"
         },
         "mode": "lines",
         "name": "158",
         "showlegend": true,
         "type": "scattergl",
         "x": {
          "bdata": "AAABAAIAAwAEAAUABgAHAAgACQAKAAsADAANAA4ADwAQABEAEgATABQAFQAWABcAGAAZABoAGwAcAB0AHgAfACAAIQAiACMAJAAlACYAJwAoACkAKgArACwALQAuAC8AMAAxADIAMwA0ADUANgA3ADgAOQA6ADsAPAA9AD4APwBAAEEAQgBDAEQARQBGAEcASABJAEoASwBMAE0ATgBPAFAAUQBSAFMAVABVAFYAVwBYAFkAWgBbAFwAXQBeAF8AYABhAGIAYwBkAGUAZgBnAGgAaQBqAGsAbABtAG4AbwBwAHEAcgBzAHQAdQB2AHcAeAB5AHoAewB8AH0AfgB/AIAAgQCCAIMAhACFAIYAhwCIAIkAigCLAA==",
          "dtype": "i2"
         },
         "xaxis": "x",
         "y": {
          "bdata": "EdSyevH8EEDdEVgmpbcTQNMa1xg0TRdAVEQ4/nn6FkDX2A4grfYXQLaqDZY9bBhABDBmo60WGEDFNWWqdeIYQErOqRhp/hdANNX2ygJxF0BlTj5ltjMYQNeUsS3JaxhAUMv70dBFGEBUH/xvXy4YQHYeP+VBrhlANpbWSpSUGECtPs/xQ1gZQAQfKGOP9BhAIiIEYyUHGEAhfRsR4kwZQBpap0AGsBhAd8oCUFqPGEA6WFo/0gIYQBr63LtgDhdADeWHfAKoFkA266wlBg0YQG3p/+yTwBVAB2CeR2gYFkDSJQONWCYWQHD7OkNuvhRAHwGASk1/FEBmQ7MHstoTQB++OCSc4BJATFT4EZdaEUCznQbQowIRQJrH0JfGOw5A7+/BfezPDUD0RsFo/z0KQMUBAR6+ugtAPjzQIyc/CEBwA96R0zQFQCa9T18KfQNArVFQWqxEAEDX1C9CnFLyP6l5aLhCgP4/VEKO7yIR+D8gKKn9ZRLxP7n6klo/RPE/7nSxzYbF8T88zR1pKST1P4khUXp65/A/tujwOncY9D+ObA8rL63yP2mw/vt6FwBA+10yhBNI/j+kQZ9XqsgAQGh3Akdwt/4/u9ycNmmAEEC0ljL5a1IUQFBDpurRthZA+5BmA5ZbGUDTGzrjjL8bQEru/Ha8nxtA8R+1hfkSHUCqEy0z6RYfQN+Fyg4u8B5AekgVzCpJIECxlQPHyQ8gQIL2+NklNSBAtLVTbLyCH0CQfP6/fQAfQLVR30belhtANThm2HjoGkDfG4Gl4FcYQEWNbHkz8RZAryfAlLj+FEA60lTEREoVQMg+tBxbfBNA8V66q9ROEkAnIckTV7IRQMavrb5GFRFAzB8UmW8CEkDkc7gQSpAQQBDtYtpMoxFA70mw0fPuEEDV+5H/084RQKOmfus5HBFAkQ5HWML+EkAIfuvYg1MTQDeOFehRlRNAZNhOmvPvFEBnHFWMIP8VQMvKXydGIxdAAA2lFqTcF0DwjGa5H/kZQCscKhdrKhlA3WdIbpg7GkCYcsK+OtUcQHktxSvwcBxA8m2VgWY4HkC5GOGVfvYcQLzFTuud3h1AjOZ3z7GXHkDIn33ea3ofQCWIWzM3UyBAUJLf/M92IEAwJPmfyRkgQP8LJ5fYAiBAB3CdL1o8IEA9Y4iwtZggQPXG7IPfDSBA5IQw2gQSIEBk+4lz3VYfQG6bwxQYDx9A+mBqrohbH0BJ4h25X+MfQAhlbL+A+x5AiALxk1utHkAWP2tzbu8dQNN/KNsnex1AaenvFlURHEA80XtYUQgbQAM1fLOx8xpAX/syd24EGUB0OiQeh+QYQCXPDzv1AxdA+eDAw8VjFkDbf8kX1ckVQKxjlLkkGBRArY94YSaIEkDHWdFNsXISQBqC/6j1HRBAzXfPZBn+D0A+qdUYDrMOQAIW21kRgQxAny48Z05iCEAYRU6UY4QDQLBxyp9izwJAe84nArjU/z9TQWVHt3b6Pw==",
          "dtype": "f8"
         },
         "yaxis": "y"
        },
        {
         "hovertemplate": "Sequenz=159<br>t=%{x}<br>v(t)=%{y}<extra></extra>",
         "legendgroup": "159",
         "line": {
          "color": "#FF97FF",
          "dash": "solid"
         },
         "marker": {
          "symbol": "circle"
         },
         "mode": "lines",
         "name": "159",
         "showlegend": true,
         "type": "scattergl",
         "x": {
          "bdata": "AAABAAIAAwAEAAUABgAHAAgACQAKAAsADAANAA4ADwAQABEAEgATABQAFQAWABcAGAAZABoAGwAcAB0AHgAfACAAIQAiACMAJAAlACYAJwAoACkAKgArACwALQAuAC8AMAAxADIAMwA0ADUANgA3ADgAOQA6ADsAPAA9AD4APwBAAEEAQgBDAEQARQBGAEcASABJAEoASwBMAE0ATgBPAFAAUQBSAFMAVABVAFYAVwBYAFkAWgBbAFwAXQBeAF8AYABhAGIAYwBkAGUAZgBnAGgAaQBqAGsAbABtAG4AbwBwAHEAcgBzAHQAdQB2AHcAeAB5AHoAewB8AH0AfgB/AIAAgQCCAIMAhACFAIYAhwCIAIkAigCLAA==",
          "dtype": "i2"
         },
         "xaxis": "x",
         "y": {
          "bdata": "7AnZuYWhH0BgixiyWnEfQKCXCbQDEh5AeOv+eob0H0DgKpmEunUfQKKSiFunUyBAVjFg05HuIEAjlnyQWjkhQIaJGlNhXiFAx++WWQZEIkAI1Lnw4QwjQIlOg/cw7iJA58S/GDDXIkA20hGaIhEjQO58pwNBpyNAhDv1zXuXI0C+Mi8KLMsjQNQ9FUx9SCRAFjA6uuubI0C4wAGAAmQjQKGzpB9hgiNAX6iumIwMI0BzytIUGYoiQGZsu7rh5yFACMMF6MrzIUBSpjcmH7chQPZ9DNv9oCFA+GPjJj7OIEDWSDPfO0wgQA5Aaw0UcyBA7usMde5xH0BpvHBCQHYeQCVz3CY+Wh1ArchD1PuIG0D/T0+em2UZQFzZtm0HXBlAgB8XvpKcF0AnvD7ZnC4WQLlXFigO/BNA3R8vpq6WEUB2j5nP434QQOKjVyN+Hw5AGA/HJimPCkCm2pj8INMGQLoShuAgggBAP00RDWNc/T/nBmI90RbwP8/uWF4Bzf8/xvcnDj9k8z/TGtuKSTbyPwk6q+2FQfQ/qsCvvtCy9T/uMP9MmkX4PxpKkduah/Y/XHOTtdcLAECDBvsUfxkCQCddcvzopwBAHYxARuULBUD1mmKso8EFQCydlv5ZighAiNPH/OlvDEDAbXvJ+6YOQA8X3j2xthBA3ChmfSqAEUATjvIsw10TQDOMoOfoiRRAyKrTR5A6FkAvAEZZfQ8VQI/dUqHPMhZARxBflAW6FkBmY1noBrwXQE22U7PJZBhAThgtC7DLGECvMO2En8oYQPp9pRRb0xhAyrmZ9G1iGUB00swX4S0YQKrDR3XpfRhAjS/v1bY3GEBo/I5wxNoYQD1/ZUA+khhAVXYc8sWiGUCslfamaOQZQPsRq9/fuhtA2eyxWO12G0CcuNWbREEdQEerD43WgR1AAJpI9uy/HkArDYIar6EfQGRzudqRbR9AILmRT/v5H0Dkjpb1/vcgQPMt1gJDUSFAlqFJEzBMIUDz+oiBhe0hQEeR0+5oIiJA5xErEwFnIkD0FLsZgfEiQMXug92opCJAz/KTjMcOI0DgXi2CijQjQOiKAyI0RyNAXHYeRTBfI0DgChtiWz4jQNeQdkPdgyJAG6vePUKRIkBMrFQwTPghQOAB6lnsPCFAVuLdjNAHIUCPLqiOhE8hQG9e/zSF1CBAkbp9psJxIEBVLcQGr1cgQPcWN077SSBADdfGMv+YHkCBZdVEcsMdQMj8lMrPcR1AzkyGJVSLHUCGOzhYEFMbQH3an8jrGhpAYeaBmPyeGUDms90TMpwYQJi8GIpQnhdA2FrJ7LH9FUDdbmSMww0WQD1KW2W9IxRAjALBWbDdEkBHH3VAp0ISQJBp8/p0VxBAKsTU6PQoEECcnYxguFAOQKhBDA8kzQlAW8q1hpPoCECPSkZ8xKgEQFuJhpVpWQRAK5IfgJ7j/z9sJ3xaHSb6P1yT56php/o/0Fk8vNjl8D8S0yOqeqvzPw==",
          "dtype": "f8"
         },
         "yaxis": "y"
        },
        {
         "hovertemplate": "Sequenz=160<br>t=%{x}<br>v(t)=%{y}<extra></extra>",
         "legendgroup": "160",
         "line": {
          "color": "#FECB52",
          "dash": "solid"
         },
         "marker": {
          "symbol": "circle"
         },
         "mode": "lines",
         "name": "160",
         "showlegend": true,
         "type": "scattergl",
         "x": {
          "bdata": "AAABAAIAAwAEAAUABgAHAAgACQAKAAsADAANAA4ADwAQABEAEgATABQAFQAWABcAGAAZABoAGwAcAB0AHgAfACAAIQAiACMAJAAlACYAJwAoACkAKgArACwALQAuAC8AMAAxADIAMwA0ADUANgA3ADgAOQA6ADsAPAA9AD4APwBAAEEAQgBDAEQARQBGAEcASABJAEoASwBMAE0ATgBPAFAAUQBSAFMAVABVAFYAVwBYAFkAWgBbAFwAXQBeAF8AYABhAGIAYwBkAGUAZgBnAGgAaQBqAGsAbABtAG4AbwBwAHEAcgBzAHQAdQB2AHcAeAB5AHoAewB8AH0AfgB/AIAAgQCCAIMAhACFAIYAhwCIAIkAigCLAA==",
          "dtype": "i2"
         },
         "xaxis": "x",
         "y": {
          "bdata": "7MrZNyk1JECmcIOt9H0jQOreRoS1jSNAzPzsnOddJEBZIwWIUNUkQFabTILjxCRAkPupEYXOJEBnNarXTPQkQFFPweqbSyVAZnQ1zBUIJUCI8rrSzIAlQOUTtGzYhiVATUuWovvXJEA95cQ1sswkQJoWD9k6diRAwVoz72JBJECHa6As8sUjQDBzIDcz2iNAvZJdEqBHI0DE7tNGQdAjQIJ+QVAYByNAi6g9NtgjIkBXt7H0JkwiQPstmCTKMiJAyIwwxreWIUDkZVB4+8AgQFAgkHCnoSBAWyEw6mQlIEA6eP/f1jcfQAFIX14XoB1AQv2p9AAkHUCS2yRPvhUbQGfgCC1cZxtAA7DiB45UGUB8gnUt59kYQPNgKbRvKBZAO7Txc6VDFECncBL8sV4UQOAgEn3SuhFAsCC/mrS+EUCyuQC0470QQEWqQoP1SwtAzjo+SN9ABkCVciJ2WUgBQK9iCXTe6vs/znjAsDsu9j/4T1YxC/jwP8OfD2pFnPY/BJ2Z5Jps+z8ReDQXN038P8AgNAG+af0/THabk1P9AkDVDwjFs8kGQK9jSdK12gxApOfq28zXEUBKirUkCCgUQFKoA86r6hVA/zbsGId5GEDX0M1L0kwbQH57lzEh8BtAjk3X1Z6MHUBjyC8POIMeQLse4RY7gx9A4auw1d9gH0AQORwq0RcfQGYAxKHknCBAO+eLoaMOIEBCNNyc+RcgQOTrYMW+GSBAKBuYHV8uIECpKWVBF50eQGZmuPKDLR1AL14oVv0zGkBcjryLRAQZQL6jZ/8RfxdAhii5UrquFUB6Ud63ZFYTQHWWU6yCERNA2WlnQQShEkCV4YDWgUQQQByYZNajMxBAuTttKfCNDECxMdWR0F8LQJ5/5tz1JwtAzcbEMp4FCECGuiH6+W0JQGoYHC96kAhAqHrlSwNnCECq2oEhQHYHQFG3Vsos6wlAWJ1JwjmaCkAr2YY7Ti4LQFWd3vszWAtAfshe4fI4CkDUKqlkqr8LQK7Pzj6o2wpAvFfYk1w/CkBPx83ckHIMQO5ci/DWeQxA4zyFsFWZCkB7LftIxIAIQB1+1PKwFAdATe/3O6XkBkBKEvsXLLQDQDyS3o+xQgNA8tWo7PMTAkC928yvPtb/P5Cu9UqF7/w/3OVspUIG+z+6NiSS1Y75P0G/J7XbGfg/l8pFItK79T8XdEFh29DwP1Dy4v4Oq/E/cnjSoHVR8j9h1oOzK2zsP65cYT73quY/LME000h17T8YRV3RW57lPwHdDZKB5PA/cblEc3c17T+WSsF5IoXlP1ihMnQzg+c/eLP+PCZG5T+hn866GjTvP6h/jxBkCO0/Gg7S85qi7z+55JdJ40nsP5xFd5Wwke4/jPqLPt4Y4j8qMviwRu3kP1a1B6hrmO8/YZezUuYO5z/0MEvEvTzsP48myw0Z+/E/E4Bbknpd5j9YHq5QvIPrP5dhhCm/L9U/CbLX1ZTJ8D/Ad976OgXvPw==",
          "dtype": "f8"
         },
         "yaxis": "y"
        },
        {
         "hovertemplate": "Sequenz=161<br>t=%{x}<br>v(t)=%{y}<extra></extra>",
         "legendgroup": "161",
         "line": {
          "color": "#636efa",
          "dash": "solid"
         },
         "marker": {
          "symbol": "circle"
         },
         "mode": "lines",
         "name": "161",
         "showlegend": true,
         "type": "scattergl",
         "x": {
          "bdata": "AAABAAIAAwAEAAUABgAHAAgACQAKAAsADAANAA4ADwAQABEAEgATABQAFQAWABcAGAAZABoAGwAcAB0AHgAfACAAIQAiACMAJAAlACYAJwAoACkAKgArACwALQAuAC8AMAAxADIAMwA0ADUANgA3ADgAOQA6ADsAPAA9AD4APwBAAEEAQgBDAEQARQBGAEcASABJAEoASwBMAE0ATgBPAFAAUQBSAFMAVABVAFYAVwBYAFkAWgBbAFwAXQBeAF8AYABhAGIAYwBkAGUAZgBnAGgAaQBqAGsAbABtAG4AbwBwAHEAcgBzAHQAdQB2AHcAeAB5AHoAewB8AH0AfgB/AIAAgQCCAIMAhACFAIYAhwCIAIkAigCLAA==",
          "dtype": "i2"
         },
         "xaxis": "x",
         "y": {
          "bdata": "PcNx9p8pDUADnIqaIbwNQNLGier78BNAZCicpv1IGEC87xMDq6AYQJVGmLKgdxpAGFWcpwJmG0DdaesET5QaQGzmI50AtxtAjjWLqNJGG0A7PpWrKEEZQGCUJ/b0qhlAqmjuwsqiGUBGi58FXLQYQIGKo6uOARdABZW7Oc3aF0AoTlwHuNcWQN2NwhmHPBVAcuE2MBqIFUBsa3mEy3MUQPl10JmQ2hNAwepdSpQnFECjPr6RXWcSQGcd3MBZkBFAmmGh4uTsD0DofGb/1bwQQBssR+Y9MQ9Asib/8lQNDUCCa0Sw2lwMQCXY0BQbLwtAMFbivus7B0AeF2xD/zIFQKNnW9FYBAZA3H/QnjAyA0ArEfwXwCIBQGbyjIK+ov0/ad9aQQQB+j/j0kAHKw/+PwNgT5IiAPU/SwVUNoSZ8z+ZdISq7nD1PzhdptMpT/U/4bcROPMl8D9PIutMS0nxP4dzdU6Tj98/btv8TZCm7D+EuMWp8RnsP3GCcnt+x/E/Cri1XiOP9T+mdoMtQ2HjP4hM8XKaZe8/9HQQzAiJ6j++vjgObTnmP2i/FJgZjuU/VCloSW136j8A5u4HFHPXPz+BFOERs/E/2slxzXoQ8z+p5ycPAMnxP54xiWKy2fM/VgSasjBt/D8+l6TkOgf4PxB7T9IlUfk/ZZqMMAdhCEA7igpVfzIPQKk0R1cOVg5A/DVvwO9OD0D0tnsKtw8QQIRFxmKo5BFAK6jhyKokEUAHR7qMUcYSQDP3+77TCxNAS4Ctdry3E0Al0o1EfFISQFRpEeQwWhNAu4BEDKqHE0BtmCvP9S4UQNf2cf46JhRAkCJfHAnxFEC1qv+ILi4SQHsWECeYwhBAuxon0LlDC0CYRupyLP0KQFL1kefvDAhAl/3VnYmQBkAjkwxxFiADQHC27GlFeAFAYA4TvifpAEAdkva5WlsBQFrorhVpUvs/rhY3Sitc/j8g6Loz0zMAQC4Hev7SSfw/FUsYEqjc9z82S/m2iMv/PwTIY2toFvw/NMC+P7Aq+z+sYKkIeNT4P582KytVDvg/0mwxs11g9j9clhgGIbv1P4bT/nL9UvE/a9pgxRDz+D8QoNzbxH/7P8ILrjBOBfw/CcnriRlCAEBXI+0uJY8BQN7IZ05fOwNAPxF6oA6JBEAmowpKXLgGQOdlD+zhrQZAk/qhUcdMBkDof7NnYI4FQHQY+oLVRQJAAMyWKYPCAEDZ5hPzhPUAQOOYsKWPbQBARoI5alwA+z/ORhM50+X8Px8ANddblPo/nb1FApOX+D8wfZopamP1Pwfl70Yq4/Q/qGdeC01p7T8O0Fjgu8PxPxaaqQR3WPQ/iqRpz0tt7T9Vy8HRc97qP4PikMhhbPM/PKM4VvNc8D/IWksDVU/lPxht9pmkSNY/EmGnjiFP5T+k2itMn9/UP+mepvxqQeQ/pkO804Ug6z+wQlZAHsbjP3jUwNnM9OM/4CNNDsP86j9ktBznQcjnPw==",
          "dtype": "f8"
         },
         "yaxis": "y"
        },
        {
         "hovertemplate": "Sequenz=162<br>t=%{x}<br>v(t)=%{y}<extra></extra>",
         "legendgroup": "162",
         "line": {
          "color": "#EF553B",
          "dash": "solid"
         },
         "marker": {
          "symbol": "circle"
         },
         "mode": "lines",
         "name": "162",
         "showlegend": true,
         "type": "scattergl",
         "x": {
          "bdata": "AAABAAIAAwAEAAUABgAHAAgACQAKAAsADAANAA4ADwAQABEAEgATABQAFQAWABcAGAAZABoAGwAcAB0AHgAfACAAIQAiACMAJAAlACYAJwAoACkAKgArACwALQAuAC8AMAAxADIAMwA0ADUANgA3ADgAOQA6ADsAPAA9AD4APwBAAEEAQgBDAEQARQBGAEcASABJAEoASwBMAE0ATgBPAFAAUQBSAFMAVABVAFYAVwBYAFkAWgBbAFwAXQBeAF8AYABhAGIAYwBkAGUAZgBnAGgAaQBqAGsAbABtAG4AbwBwAHEAcgBzAHQAdQB2AHcAeAB5AHoAewB8AH0AfgB/AIAAgQCCAIMAhACFAIYAhwCIAIkAigCLAA==",
          "dtype": "i2"
         },
         "xaxis": "x",
         "y": {
          "bdata": "Erw/qFcPJECMda9Mp4gjQIl7vl5fniNAHqJ/DSfhI0DGp8BB68wjQASUhHVKqiRAc0D25LBwJED8EIebpLkkQLlvOuo01iVATeVtKEXUJUDEx4pbxAImQFiGwM0mBCZAC0xEjVjcJkBgENEsjL8mQJeG6tfdFSdA0kIx+BH9JkBRX98Xrr4mQHcdHliUfydAZb8xMLyCJ0AVT0+9UXMnQGf7+lY1lCdAY2Kp/0QcJ0C8rAybPCQnQEw23XGPEydAehh0fJE9J0BoweH6shAnQDoL2xRX8yZA5WKS9lVrJkB88wL2a34lQICV/acbkyRA0nw1+j9zI0DKzLvS03UjQH31KW6XbSJAJs7CYRzyIEDVTv7tSXkgQBbPqNbKJCBAb7eyPeEfHUAQKvhC680bQOFQ80vwqRhA4WretCv/FkDl29sHV9oUQOZlnEVrkRFAviTONiJpDkB9YP5CyjELQJKpuuPWFwhA8ubfL4agBkAmobyQPXsAQE+EHuOipfc/muLPhbbf8T/3DG4zfEb/P4iFrkkbbf8/KxnzNcgK/D/JHgKPpvICQNDINE7BEgBAxHfAVmmfAUCkRHg8r2AAQFJ12nBHoQBAvB+f0Ds9BkAD8y0JQhAIQEV7SAga3wlA+1GKPb+TDEDM3JzsfN4QQDuzrtuY8hFACX4CJcMMEkBxhe4C0KITQMeRBrnKFxRAlyiWHzqDFkBOymRTfIsXQBPph/h2bhdAqyBJwlj2F0B4laNxN/wYQJeyYIQxthlAesmlp9gRGUDt+6NHQ8AYQHiFX8ui5BhAmZaUssyOFkBjkE7q+/sVQLKeUoAcsRVASaj6mNT2FED2FPhj+AUUQLouzkEVTRNAtowAbS3AEUBCu7rv2pQRQCzt+CuEqRFAWrxg2VMLEEChEeZdkckRQJmDy2jTMBFA8aKLBY6MEEC5GIdny7kSQFILOy+/2RFAw/bFNf+TEUB/ZIhsMBYTQF3cht6ZsxJAprstIifEEkCCOE1pVk0TQMB0S3vjPRVA3wjnoL0oFEDWWY+eogAVQGPMtASYpRRAkPJqO+KRFEBLk1vZ7fEVQOpYN8vrDhVA3e50wOWLE0DvUjYgPKgTQNf0n5QlOBRAkcbLDyacEkDeRKIBT4URQNqaOp6bXw9A21LVQYgLEUAjBG6fOGQPQJ5iCqgWag1AJxvDba0BCUDioDWxFXMHQPoEQBW8SQdAZ537q+uNA0B55T6QtxAGQAUW+zNIjAJA2Ofov24v/z8AxQqY/DL7PxV1LousYf0/Mc5pHsP3+z9q6M8VUSD3Pyqa5v07OvM/NltKIxTd8z9m2wJK6u7wPzrKbHNK9Oo/c3SVHK0G8z86WDYWZfTnP9QpUWc09+E/hcYcC8+l4T+mlJ+hwonmP48ZJkk+4eg/Me5cD62a4j9D/+uPACvdP8jVmEQv7OU/mJGIGna44j+v9QTD1/7YP+TmxAetPtc/gNK88cy+3j8ccQdgFyLnPw==",
          "dtype": "f8"
         },
         "yaxis": "y"
        },
        {
         "hovertemplate": "Sequenz=163<br>t=%{x}<br>v(t)=%{y}<extra></extra>",
         "legendgroup": "163",
         "line": {
          "color": "#00cc96",
          "dash": "solid"
         },
         "marker": {
          "symbol": "circle"
         },
         "mode": "lines",
         "name": "163",
         "showlegend": true,
         "type": "scattergl",
         "x": {
          "bdata": "AAABAAIAAwAEAAUABgAHAAgACQAKAAsADAANAA4ADwAQABEAEgATABQAFQAWABcAGAAZABoAGwAcAB0AHgAfACAAIQAiACMAJAAlACYAJwAoACkAKgArACwALQAuAC8AMAAxADIAMwA0ADUANgA3ADgAOQA6ADsAPAA9AD4APwBAAEEAQgBDAEQARQBGAEcASABJAEoASwBMAE0ATgBPAFAAUQBSAFMAVABVAFYAVwBYAFkAWgBbAFwAXQBeAF8AYABhAGIAYwBkAGUAZgBnAGgAaQBqAGsAbABtAG4AbwBwAHEAcgBzAHQAdQB2AHcAeAB5AHoAewB8AH0AfgB/AIAAgQCCAIMAhACFAIYAhwCIAIkAigCLAA==",
          "dtype": "i2"
         },
         "xaxis": "x",
         "y": {
          "bdata": "BFfML8ZtFUDWmvn1jnMXQMbz4KYnkRdANWKa2iycFkDO9Va6q54WQHQ3PNrbKRdAt1eQVWHMF0Bf5MHkaEAWQHTFqvdElRZAkzFXCfyMFUAj0AE4nCAVQBZ8KuqliRVABdNhsDnUFEBYGZpidmcUQGhzS8237RNAe/sosjcGE0BOKIGtorYRQFEyJMYK+xBA0nsy2Z+sEECgPbgwtmcOQBVa9GZtpg1AYdeVE/UoDUCiljc2liQLQJUhOe9ilwtAtZVZ+LGnC0DeyHxYkiwKQGhlZwg6GQZAQY0WJZzvBUBn3i72NewGQKzfiVwECANArO0A0Ho3AUAJ14TOcoz9Pyv13+bWWPk/7BcGrsgg+T8ksrkAbp77P4KRGsj3qP0/rtO/9Lr8/D8Qlkk8FWv4P+0I9CYwcPg/4lONAbS3+D9RgQcVEYv2PwCc4cyXaO4/uyLYIAm69T+V0rJxvLnrP2zVW9NMl+Y/ACW9OT0E7D9iFQxWmZTkPwhIQe/UmOs/6M7Wq4f18z+smb0+LdXyP7U2aPA9d+M/JTgGSBr84j+ojIczv7fgP2LthuhLVvY/10dEuhMR+T9qVCP2RXL+P02QOIQyl/s/fmlesJ4IAUACTKYBEwYBQHSwfSCRuAVAtjdSEkebB0ATSTVeLp0JQJV97M9rRApAPSV7WkjqDEBp0GzdGZwNQHRH2duaaQtAc9kG0gghDkAP7Xb1CbYNQN84632PggxA5le0v1doDkB6d8lsp94MQP/vupiCmg5Ap6Go7Na7DUDYwyG4+g0OQMi/6ZEekwxAuxSV4ZXnDUAuU6zWGpIMQC59XxdVoQ5AHUMjI6UXDkBImuOjtWYNQA2/nKBa0A5Al1Pn0g9xEEBaRhtSlRkRQJ1+GWiejBFAtSZyPNrdEkDFOVUynlgTQLml0gx4yhRAqZD2mNuTFECETFXyzKoVQMuhKj9azxVAE+4rWnexF0CDadetL+0XQAOVIF0LoxlARwaabkCQGkAKYF0fz5QZQBPgBX7QkBpAKZD5QH4KG0BYZlY3T+McQDsscXRBCB5AKy1PlNfZHkBBJUvrl64dQGf8s4A6DB9A/7nwOk2hH0AazD/lcxggQISzw6FQGyBA/zWmgbRXIEBWz1b/3YYgQCCKehPM3h9A6P15ZsBvIECng++tmIQgQG00VxIrQSBAqBQMJwY0IEDgRJzN2JYgQGK2K/uQoSBAyMyhvfmcH0DyItcCBS8gQN9bSZOneCBAyKScre6qIEDKXgQx/pYgQCZllSseBCBAg2AmMRz9H0DTz9vhUi8gQHnsx3itwB9A5fMgMhPzH0DOizU6SvEeQLzUTMxd8x5AQPjBGgTZHkBuXcr97+AcQMfSDUkXIBxA73jrfsqzG0AtQLC9MOEaQNP4wFO14RpAlKUq7Rg/GUDsUPCOTO8YQE/HYsqRoRZAdLZcPEivFUCkYsvxueoTQAgtArTDShFA0ERkxXoEDkAlv6Xf2SAJQA==",
          "dtype": "f8"
         },
         "yaxis": "y"
        },
        {
         "hovertemplate": "Sequenz=164<br>t=%{x}<br>v(t)=%{y}<extra></extra>",
         "legendgroup": "164",
         "line": {
          "color": "#ab63fa",
          "dash": "solid"
         },
         "marker": {
          "symbol": "circle"
         },
         "mode": "lines",
         "name": "164",
         "showlegend": true,
         "type": "scattergl",
         "x": {
          "bdata": "AAABAAIAAwAEAAUABgAHAAgACQAKAAsADAANAA4ADwAQABEAEgATABQAFQAWABcAGAAZABoAGwAcAB0AHgAfACAAIQAiACMAJAAlACYAJwAoACkAKgArACwALQAuAC8AMAAxADIAMwA0ADUANgA3ADgAOQA6ADsAPAA9AD4APwBAAEEAQgBDAEQARQBGAEcASABJAEoASwBMAE0ATgBPAFAAUQBSAFMAVABVAFYAVwBYAFkAWgBbAFwAXQBeAF8AYABhAGIAYwBkAGUAZgBnAGgAaQBqAGsAbABtAG4AbwBwAHEAcgBzAHQAdQB2AHcAeAB5AHoAewB8AH0AfgB/AIAAgQCCAIMAhACFAIYAhwCIAIkAigCLAA==",
          "dtype": "i2"
         },
         "xaxis": "x",
         "y": {
          "bdata": "W6gOY6Ej/z/22T2Q33UFQCnC1+WvDwhAtc2ZG5z1DEBbisNqPKcLQGM/Qq8qnw5AhK4VA887EUA628FxYbISQOJmcsWLLhVAS4V9aQcNFUBnzRpSD60VQMVM5tn/qRVA3cTO1miSF0C98Rx6PjUYQOCxWe49WhhAk60uIiN+GEDoPGmFpmQZQHTi/Sd2AhpA9NUntOf9GEDdQQU8GxAaQP7Er2IWXxlAmhweeFO2GUAQqx8sBp4ZQL4YtE/4ZxlAQXkgwUKKGUBnbYigY4YZQLMm8PUVyhpAnDu7QAZyGkCsByA15+4YQM3jCatfhxhAGY8xWoeiGUAwdErMX1wYQHeNulRC9BhAONBYvCwcF0DXWSS3a+YXQLcjXKhtOxdA2MGVbwu5FkDN1ZntPYsXQINiSoCIgRdARAgcBodpGEB2NMAl9LIXQN9J/XwJJBlAjBFTCrOYGEBIkhXLrLIZQA5tA0dURBtAplIbqPuEGkCNv2LEFa0ZQG7mnwMFFhtA3Jo8b+oHGkAI4JAG5U0aQD1/YXwuqRtAMiDRDOq1GkB/GMgG5ncaQKLZeDtfHxpAEucDLsyLG0ACjmO6zKsaQBmsSfw7hRtAk37x3SsPHEDHYdGxsuwbQDzuyw3+sB1A8OidoggWHUAqiNbSmpodQIEFRImSuxxAct1lPp6iHECYf+rE6JEdQMtPWXWFcB1AR2hZwk/JHUAfoAiApTYeQJ06FeCzfx1Ap8kXB0dAHUDSJOY0PQEdQImj94E7uR1AI1TLNUAfHkCviXS21c0cQEuJMs7FmxxAsWzxpDQ3HEC7PRv61Q8cQACnNUlEohtAwwlWtL0QHEA7kPFrh2IcQDxhTcmdbRtAU12etVjwG0D46q5EJhwdQKxjoFvPIBxAtOgpQFYHHEC32QU0QE0dQJFYGMSp3B1ASjInKqqxHUC6jK9btS4fQKTml6hlAB5AUmBZ7J54H0B8N+LhKFofQI0Dxrs0OiBAGYpmQ2nQIECVbehFadggQNyy4/IPVCFAGROAQU1qIUBxSAojdT8iQPySHYHyLSJAKQOIiYCFIkBAGmOtaggjQPWr3krPaiJAsvspJOqgIkAd2sTbAS4jQArBHMQc0iJApXVKxVm2I0DmQj40tWgjQAloisEZ7iNADGvBppAAJEDz9XONrMkjQNW1Jw16USNAyEYKcGFmI0Bzkj6bGkgjQDvOaQQSISRAhuwjp7fqI0AVzj5AG9QjQBNoJ+awvSNAEXLVnF+tI0DZ3np6vcwjQE0Oe75sniNAgklLxSvyIkBkG3eOJoojQEqiKq6K4iJA5yQ+7fJMI0A9upHcZJsiQCZpmY7kISJAmVSqAMBHIkDEJ+ZZvdchQPjjjH+vvCFAdmhHIHyDIUAvWK9IiJkgQGcdtH+d0CBAESCqO32VH0BYcvGX1zIfQKBrMTgSeR5ARWFh7PDVHUDUvdc3OQ8dQCzOD4ICzBxA91BtEfxGG0CdNL5/GO8WQA==",
          "dtype": "f8"
         },
         "yaxis": "y"
        },
        {
         "hovertemplate": "Sequenz=165<br>t=%{x}<br>v(t)=%{y}<extra></extra>",
         "legendgroup": "165",
         "line": {
          "color": "#FFA15A",
          "dash": "solid"
         },
         "marker": {
          "symbol": "circle"
         },
         "mode": "lines",
         "name": "165",
         "showlegend": true,
         "type": "scattergl",
         "x": {
          "bdata": "AAABAAIAAwAEAAUABgAHAAgACQAKAAsADAANAA4ADwAQABEAEgATABQAFQAWABcAGAAZABoAGwAcAB0AHgAfACAAIQAiACMAJAAlACYAJwAoACkAKgArACwALQAuAC8AMAAxADIAMwA0ADUANgA3ADgAOQA6ADsAPAA9AD4APwBAAEEAQgBDAEQARQBGAEcASABJAEoASwBMAE0ATgBPAFAAUQBSAFMAVABVAFYAVwBYAFkAWgBbAFwAXQBeAF8AYABhAGIAYwBkAGUAZgBnAGgAaQBqAGsAbABtAG4AbwBwAHEAcgBzAHQAdQB2AHcAeAB5AHoAewB8AH0AfgB/AIAAgQCCAIMAhACFAIYAhwCIAIkAigCLAA==",
          "dtype": "i2"
         },
         "xaxis": "x",
         "y": {
          "bdata": "dJtg4T0jHUBu1m8uCWodQKf6NVTGOx1A++suXYiXHUBRsM+z5CwdQPJaRAxEah1A3qirEc/CHUDY2AxhxHYdQOZmYF38IB9AOoHEmxYMH0DYpidyDfQeQG4pxNirDiBALAxb5wIYIEAJ4RdHj9UfQA+hCjjoVyBA5p4BaxiCIECjsLiAIYYgQOGppdXl3CBAtBUcUUgZIUBjcESjs70hQACTbuqyhCFASJNyKRhOIkB0i8XNqiEiQPooAmrIASJATICEd2pUIkAqFXyr9/khQFFNBBEPlSJA519eJgNlIkA6s1RSHe8hQAYWCIMXtyJAUWDV6/nsIUD3uf3hvOAhQAhVQSNXCCJADKknmCndIEBdUHMTudAgQKD4aRjjHiFA5bMj/Sm9IECdZ30XsQ4gQEDplfh31B9AkmBD86C3HUC0WnbWLG4dQMjQbbgpHR1A7OmmoZm3G0DBtFr4NCsaQCf7f5GcDhlAuv4fl0c/GEAuyhfF/iAYQGQ5i9IzpBZAmqWMSkyKFkCSTIPDo8EWQLpYYR7TchVAHsLh3ybsFkCkMjhN7foWQA8a82AwgxdA8A19PyllGEBP292C8PoYQE2YGJ1X4BtA1A1aKJl+HEBM7pM2K1keQLK+86z18x1AVJJMi/tRH0CAwKDPvJwfQOQYaq2KKSFAk39vE4ZdIUD8mNwYDP8gQCCCZY8jySFA/UPPXCZUIkALeK4CdPIhQLl0huwh2iFA21sWmcPAIkCUsZCS3JUiQC3WNserTyJAAJWGSZCZIkAVxyGr6A4iQJq/ZcXRSSFAuDdT0LvbIECATDD07sogQD7LRSrXIyFApiQphpw/IECJmBW7eqQgQHSqRLEmnSBAu0xjE+qEIECAV20gSlEgQDOU++Popx9A9F3Wg09FIEDn9zo98lwgQBi31KAoACFAmYIhnkz8IED9bATAxIQgQKWogxkkdCFA3effS1tVIUA7hr6Rn0ghQPaDVv+aAiJAoGCzPZVdIkAPGD027GMiQEn0EtAGuSJAc++QF5M3I0Akov15W/kiQGABsfR1LSNAFKRrSo0zI0BVrmAWLy0kQOPgO2wIlyNADsx8D3oRJEBc2JI6NUUkQGjjCTBSjyRApnIUaU+fJEDB3SjrtiUkQJzIjCxbbiRA0sVf0fY5JECXd4BIusckQGK4B7c6GiRAorHAagk6JEAhQ8qO2RAkQHBvtwO/YyRA/UdmnnamI0ADu6dU2RUkQB6RUzv7SCNAdvE5EbI2JEDW94NFahIjQB/kXzT5lCNA0tCKD5ryIkD8PBNw+swiQLiqa0xaXSJAQfS3VtpfIkBum1nOp8MiQKeW3HsHTCJAYFCsC+asIkC54AbsmYkhQEK6pJkpICJAAnuDLaC+IUB/8XbXBxchQL/6LpYJMiFA8JrvuyVcIEC7HOuEHmQgQHc+XFPgLB9ARvUuEYQiH0A1jwxvYu4cQEcJnzpxUB1AUxBiipkZG0CuhClEMTgbQA==",
          "dtype": "f8"
         },
         "yaxis": "y"
        },
        {
         "hovertemplate": "Sequenz=166<br>t=%{x}<br>v(t)=%{y}<extra></extra>",
         "legendgroup": "166",
         "line": {
          "color": "#19d3f3",
          "dash": "solid"
         },
         "marker": {
          "symbol": "circle"
         },
         "mode": "lines",
         "name": "166",
         "showlegend": true,
         "type": "scattergl",
         "x": {
          "bdata": "AAABAAIAAwAEAAUABgAHAAgACQAKAAsADAANAA4ADwAQABEAEgATABQAFQAWABcAGAAZABoAGwAcAB0AHgAfACAAIQAiACMAJAAlACYAJwAoACkAKgArACwALQAuAC8AMAAxADIAMwA0ADUANgA3ADgAOQA6ADsAPAA9AD4APwBAAEEAQgBDAEQARQBGAEcASABJAEoASwBMAE0ATgBPAFAAUQBSAFMAVABVAFYAVwBYAFkAWgBbAFwAXQBeAF8AYABhAGIAYwBkAGUAZgBnAGgAaQBqAGsAbABtAG4AbwBwAHEAcgBzAHQAdQB2AHcAeAB5AHoAewB8AH0AfgB/AIAAgQCCAIMAhACFAIYAhwCIAIkAigCLAA==",
          "dtype": "i2"
         },
         "xaxis": "x",
         "y": {
          "bdata": "yMIXEssUGkBzdiVV+VkaQMsRaJc13RpAHt+N/nCeG0DN7WGgxL0bQC7J0uPhKhpAU8scDZYlGkAtu8HfGF8ZQJOQ9Ua8yhlAWcTVrtx8GEBRkose7LAYQLMw+EeoAhhA4L3vj62LFkBbaUFh3boWQBIUOEhw3BZA23i/20/nFkADR+vZ7CgWQL6YLojDsxRAdqNV+wL7E0ClomdV9pgVQGCA0TMbvhRAkG6qmbQ/FED9ZWmiMYETQGEtNl77AxVA2wh8qKpvFUDM4rkV//MTQObF+8PmmxRAYdpDPtxZFEDXtnvTnEsUQIw3pdq8zBVA8i49WbF9FECPZbC+ZUsWQP/RDCznkhdA6tZNsMgDGUDU01gAMYwZQI58sKJkBxtAJEtDL6PsGkCmVGFIgMIbQF6rDNE8JxxAX4UWqborHUA/SfdmXkUcQPq8h4i5RhxAs+YMBPjWG0BCrzt3FKAcQJsyUC3d2hxASoRbKLaCHECQmU5IV5YcQLf6158duBtAd2Vn+aeYHEAAex7ZV/UaQBPnDPUq9RtAhzK6TOQHG0BY9+zNLgkbQEOmRxWvMhpAW7sVJRGJGkC4l71ZOJAaQCvl7DHXbxtAEMuvjLWaG0BN2Jjhq58cQOTkfb3gjBxA4bN34r+sG0CkrJnS14scQCzTFZ03yhxA6KOr+w24HEBH21GLwcwcQH/A7+K/shtA7dEmx+xVHEAWUXmu3wkcQEAHYiw/qBtALDDHkUZDG0AZq7fbopUaQJSbk6GrGxtAZcPlhTVzG0CQ7yejsDgbQFeT3hEu4BpAK3GHN4PJGUAYCvzuXZkZQBvGIdmqLxtAxaD3aF7TGkBulFqwwt4ZQIPswhyGdxlAktYDgWcjGkBDX+2+hBQbQGgqpIjFWRpAKz31qsL7GkAUVZ+rg1MbQIjuA6meThtA+DsPzbrhHEBOJ1tl4F4eQFLUW/CbMx9Ajjdl3jX1HkB/eGOg/74fQENM1Emj1CBAcb6177t3IEBmVuxLb4QhQDeXS+qWCiFAqO6lYyl1IUDrSM1nEJoiQGRlM7vZmiJAkbApqglpIkBmL4BVjeAiQPbvVw8JDiNA0hk9+XEhI0A6d25BUeUjQLYtuKjHiSNAIxDGCgQHJEDCIoaocQYkQCDDHsefQCRAZxdlAzZoJEDsC8yqWyokQMGme//7yyNAHw0yUQY+JECPJJDoIc0jQBl+FDTN8yNALq8EvwSDJEAxdUzWcfgjQNa8SgWtnCNAL9U4gGWHI0BLhDhYo9gjQM36G6IgYiNAFpEdWGAJJEC9sf/qpX0jQO2k5zmumiNAe3X8/zenIkCXlbp5eg4jQMyYLalWcyJAFVLz2+ndIkAT6To36UciQLmlvT8EhyFA7C3TG5TSIUDQ1uJkiNogQGHrsGdLjCFAy1Y5sBlVIECFV4xHJewfQGSFEPHEOyBA9wDekDtaH0C9RTrwqm0fQDQek2+TAh1A+HzJegP1GUAjYHvt/cYWQA==",
          "dtype": "f8"
         },
         "yaxis": "y"
        },
        {
         "hovertemplate": "Sequenz=167<br>t=%{x}<br>v(t)=%{y}<extra></extra>",
         "legendgroup": "167",
         "line": {
          "color": "#FF6692",
          "dash": "solid"
         },
         "marker": {
          "symbol": "circle"
         },
         "mode": "lines",
         "name": "167",
         "showlegend": true,
         "type": "scattergl",
         "x": {
          "bdata": "AAABAAIAAwAEAAUABgAHAAgACQAKAAsADAANAA4ADwAQABEAEgATABQAFQAWABcAGAAZABoAGwAcAB0AHgAfACAAIQAiACMAJAAlACYAJwAoACkAKgArACwALQAuAC8AMAAxADIAMwA0ADUANgA3ADgAOQA6ADsAPAA9AD4APwBAAEEAQgBDAEQARQBGAEcASABJAEoASwBMAE0ATgBPAFAAUQBSAFMAVABVAFYAVwBYAFkAWgBbAFwAXQBeAF8AYABhAGIAYwBkAGUAZgBnAGgAaQBqAGsAbABtAG4AbwBwAHEAcgBzAHQAdQB2AHcAeAB5AHoAewB8AH0AfgB/AIAAgQCCAIMAhACFAIYAhwCIAIkAigCLAA==",
          "dtype": "i2"
         },
         "xaxis": "x",
         "y": {
          "bdata": "Ir3n7lqXF0BeyZBMplQZQC+XpF+usRpAl7dQjCfjGkCG6a07JxscQPArU9Y34RtAewCCGj0pGkC3fSIVsuUaQGxmn99iyxlAqpFQaGH4GkCRf/ANCKQYQDbdKfc0PBlA245x5kRsGEB1w7O5JU0ZQBUHh6FjXRdAZAXlKKNtF0CTmKxPgZMWQFFlBAQfzhZAJW5yefKuFkAz09rcvZYVQIbBIng0bhVA+LxTLlAGFEB53pEPGl4UQLBNFeJpPBRALDmbwzeYE0CIczsH/QYTQHtgSRu/DxNAEe1K499WEkADQLriI7cQQJb2CiVbVBBA4Zot2kyEDkCm6A/eiiIPQHr+oPF0pgxAT8nDp4RGCkCauAERPtYIQHh9oscTdQhAB2zvCP64B0BPApffgQIEQJxh3HU+ZgNAvJj+gy+ZAkCPirclsij+PyF/H50NGAFADpuPV+RE+T8g0QLGQpXzPwqsdi1sxPg/XrZlKkdY9T+CxXtF1qjoPybvYMVhJvY/0bYuUIUr+z8XEMwUhNP4P+SgqMsMb/E/ZggB/DXl8T/4aqbSyOrwP7dKXrhjs/k/vW2tcxI9/D9zkzUJ99r9PzljLVplTgJAev7suacyAkDOANdOwXEBQHCAHbL4nQFAKHdjT0F1BUCj3hsMTX8HQILCvmJ1ygpAo0VKExMuCUBqMxZO340JQAVGIEzyqQxAMglIYUKoD0AFtsdzNKsNQEsGnEzTzg5ABKgrTIWVDkAz/Iiu0K4OQPPyYbxPBAtAmztVY95QDEDDLN2wzb8LQD1PSauZJwdAisiI/HaDBUCS0ZREqFwFQGLTmGEMygVA5lxUZ+qTBUB59B487awDQBeCXJY6CQJAt89hPdZKBEBVXsgOjosCQE5tlPTM7AZA0UUaCKlYBkAWpALKzOIJQFFzZ6xkKwtA0Vtv1F56DUCCHWuRkMsMQC3tTJd/JxFAb8oKMZLWEUBbiDeicnsSQDOJLngZFRNAnj96IhcAFEDr8MpWLVAXQJGCx9GhyRlAamqHGu0nGkC0udOHttMcQJZIgHmZBB5AEjiP8no2H0D6Cs1OO4MfQAAQCFukWiBAWAjX9sohHkAhHm7oBXMeQPWaek5LjR1Auyd0LKe1HUCSBmEB0zUdQNJrfzv/aBtA5ppvNs2wG0AL27vL47MaQFXd6kWUehlAB1cvbSSOGkAsKi5SOAAZQHaPpjRn2BhAeInxVOiLFkAfbJJfHN8WQCgMiVpoAxdAHZHlXCl9FUCknlb6GeEVQFXNNbXGwhRAQMXxUzb8E0DuEpLFOioTQCLBMeS2wRFAzknW7f77EEBl37pIxE8QQDL96FtFIw1Ag5LBv8HQC0DhH0jLMHsMQLfO432VwwZAlYOEJvjlBUBdvbogGMQEQMVZUbB27QZADF5mbNkRBEBrVK1gsYwCQHqDTSvJXwBA4vz+nzOI+D+osyjQIcv3P1MEsV/ejQdAsMwtHHbFDkCqlO3DWuYQQA==",
          "dtype": "f8"
         },
         "yaxis": "y"
        },
        {
         "hovertemplate": "Sequenz=168<br>t=%{x}<br>v(t)=%{y}<extra></extra>",
         "legendgroup": "168",
         "line": {
          "color": "#B6E880",
          "dash": "solid"
         },
         "marker": {
          "symbol": "circle"
         },
         "mode": "lines",
         "name": "168",
         "showlegend": true,
         "type": "scattergl",
         "x": {
          "bdata": "AAABAAIAAwAEAAUABgAHAAgACQAKAAsADAANAA4ADwAQABEAEgATABQAFQAWABcAGAAZABoAGwAcAB0AHgAfACAAIQAiACMAJAAlACYAJwAoACkAKgArACwALQAuAC8AMAAxADIAMwA0ADUANgA3ADgAOQA6ADsAPAA9AD4APwBAAEEAQgBDAEQARQBGAEcASABJAEoASwBMAE0ATgBPAFAAUQBSAFMAVABVAFYAVwBYAFkAWgBbAFwAXQBeAF8AYABhAGIAYwBkAGUAZgBnAGgAaQBqAGsAbABtAG4AbwBwAHEAcgBzAHQAdQB2AHcAeAB5AHoAewB8AH0AfgB/AIAAgQCCAIMAhACFAIYAhwCIAIkAigCLAA==",
          "dtype": "i2"
         },
         "xaxis": "x",
         "y": {
          "bdata": "3M9zEeIiDEAQ06CgPNoUQAx+RolnahVA0BeN5R3dFUBac1gCY3UYQISLNlYXZxlApDzo+yHoGUBTZv12Tj8aQMkk/9c6JhtAjR3rPKdeG0BQHUBxCUYbQNkRuuNiBBtA9SFmWWZxGkCEPTydjSEaQKUN7CfJhxpAgmOxhGHfGUB6dHThwkUaQI6eylex2xlAyPf5DM0zGECFQ0JAk28ZQKeAYq0/bBhAc0FwZQ6/F0BnzKdVObEYQGL0sDB8vBZAOALQw1E4FkCjK1IMRNYWQD5u3SsGCRZAAbngz3o6FUCKqUy+sEsVQLTuLcZwihRAbIdzMfy0E0DG6rM2HW8UQIlNqfUJmhJAa6bVyqgUEkAae8b5h6EQQDEScRFOQhBA7W/RrC9XDUDGTrEIN8YOQIKFMl68sg1A5AcNTpc0CkBMRLhgA4cGQGTM7BE0Jw1ACJ9il2ixEECVmHQeHscTQK5J+j6ZaxRAIfqv6YXGFUCeUKvchWAXQF+4xHBNaRhAHe7aOCURGkCU8wTooIAZQHn+GnUuVRlA52TDh/nnGkBalqg16tUXQKBQzje8cBVABH9SKU79E0CaSifUuYEQQGh1ti5sVgxAJOPFwoVPCEA4VPQkfuAIQHHa5/fhlQhAVrIPbXbFCUBiTJl/KQUJQKYvYQZ5Jg5AWQFiJxHxDEDZ7eEdsJYNQCmSzCgZ8xBADoHCJtQtEEC7I6yqHIwRQFEzDaKIZxFAdMDt2jyFEkCQzDsqookRQIM3AXmCZRFANGVnVz9MEUDb2RMzQ6ENQJBj7ip6gA1A1SxiDJ+qDEAEWiF1sEYJQN0mkxMhKQhAfj2Y8/2XBEC+Z+XHb2sDQFxLomLRvAZAaizpVeoNB0B0kaLaCr8FQC++shdFMghAsNeH/JLuCEB/hc3X7QYLQKww6dcOOg1AU/VTWZfEDUD+jr/QrbQQQKhQ5cLdQhBAoQRedzkJEUDNLglMPhsSQHQy44rh4xJA5jUxqM83E0BU3lwuNiEUQAwEcHP0axVAAHzP2tRqFUD4QY6p434WQPPMSsfq1xZAiHPOqc5ZF0A6ZsR67oQWQE+zHUrYBRdA+JkaGwR2F0ANLAo6js8XQMRmdOaRlhhADgTs3lxDF0CbV/ddZ/UWQBrrMeTJghZAs6jgGo1hF0BDBrWQJIUWQA1EKmb1dhZAV1iZZqlHFEAd4F5fd0MVQHgF9q8PbRNA8KLgDZBYFEAUiEOC39ARQLIQTJ1jZhJA+PLFJXpKEUChAfHcQz4PQFDRRhFlsBBAUiH2BzKIDUBcmhls6zgLQPCOStrecAtAO47JzIMkDEBRQTplQ34HQEbd069NswRAZCIOTi+AB0ARpW8dk2oFQLKdwyRIYwNAzwHN6CnFA0BIFt+hHZkCQAoBbNqB6wBAuk3fxaUI+T+wuFLrfbT1PxddwX0mBPc/2IjwFLVw9D+JQnvtYsf0P9RJ/BYdgPE/s9+gasAeB0CAbR2/D3QNQA==",
          "dtype": "f8"
         },
         "yaxis": "y"
        },
        {
         "hovertemplate": "Sequenz=169<br>t=%{x}<br>v(t)=%{y}<extra></extra>",
         "legendgroup": "169",
         "line": {
          "color": "#FF97FF",
          "dash": "solid"
         },
         "marker": {
          "symbol": "circle"
         },
         "mode": "lines",
         "name": "169",
         "showlegend": true,
         "type": "scattergl",
         "x": {
          "bdata": "AAABAAIAAwAEAAUABgAHAAgACQAKAAsADAANAA4ADwAQABEAEgATABQAFQAWABcAGAAZABoAGwAcAB0AHgAfACAAIQAiACMAJAAlACYAJwAoACkAKgArACwALQAuAC8AMAAxADIAMwA0ADUANgA3ADgAOQA6ADsAPAA9AD4APwBAAEEAQgBDAEQARQBGAEcASABJAEoASwBMAE0ATgBPAFAAUQBSAFMAVABVAFYAVwBYAFkAWgBbAFwAXQBeAF8AYABhAGIAYwBkAGUAZgBnAGgAaQBqAGsAbABtAG4AbwBwAHEAcgBzAHQAdQB2AHcAeAB5AHoAewB8AH0AfgB/AIAAgQCCAIMAhACFAIYAhwCIAIkAigCLAA==",
          "dtype": "i2"
         },
         "xaxis": "x",
         "y": {
          "bdata": "7xC54R2bHEARMqhvA2UcQN5z7VWutxxAt8uwANmkHEB9Z2UrcVQeQETR0QMD/R1AZL0dSz5sHkA0YMDJSAceQLz6BcGVIB9AHFQrg53qHUCOp07dEPUfQDxkg6SOeB9A59fCvq82H0DxppRblf0eQNOlaVxWFiBA2Q80o/cEIEDWeX8U1wAgQFl+L51vXSBAe+wa/kNJIEAUX8tfsIcfQJRnh/3NjR9AUx/1826VH0AVbQeS6uIeQAjZ+qIOah9AuwviZq5WHUBDTYTCuXseQCqLATm/bR5Aisk093ZMHUBd3BejMPQcQKGqLAv/TxtAywgu/M2jGkBc5JS+j5gZQEg7e9ancxpAWddrd6STGED636HPpAQXQAB/R2Je0BVA8zG1EwBVFEAAwt51nf0SQFrsrM2qBBFAHV925dq4DUBbk0xChOQLQNRdWxfnyglAr6ggAMWsBEBrwySFPsH8P+rzoVLinvs/OXbsM2KE/D/MMyXRcKP4Py7CH+1ApvQ/DxxM1LNg8D+is3m731v2P69TtKIAUvU/c6qF4HUK9z9lRp3bEXD4P/iyK4l2Bfg/5cw6H1Io+D97vGbClr3+P2c99/3TNQRAU38fHMxDCEAC+CfAnF4LQEh6AK7P5AxAd9hjU9Y4EEDugKg9+EURQPJJQid9SRJAYkhUo6bmE0D3IN6EQSAWQCGoSGcV/BZA8I6tg5AOGEAuqJeJgvoZQCNOPPxFRxpAEmqH0XY0GkCma8KQ7jAZQAmnNhjrfhpAqQ/0PyTBGkAwaBl8nkMZQO9t1XNi3xhAr8tozewNGkDQ1hybyrwYQMZ2Cjf7FRhA8vRFEoQ5F0BYBTnaoBsXQI5AJaS2hBdA8h5TUlJPF0BRaK1868oWQDkv0cMZfBdAKvzt8nqYFkA69dzZKwsXQJbeyhm9JBdA7LJ9OGlbF0DaQepS9HEYQLGmq+XJbBhAzNj0/55eGUA4jRs5aaMZQClXPho2cRhAi00H0kPBGkDSj3E4je4aQIsn8Gm8zBlAoP5GSghHGkC06VpsiIsaQMOEs+v9dRpA1xUVuu+SGUAzVYGkCoAaQK8DirhVGBpAWIpXpdcnGUDoSD30IDEaQONGbCyVKhlAVih3ju3fF0BmO7dUXE4ZQFyobmyG7xhAQ9HVK09+GED2DG7ciQgXQHUNcvbRQxdA2Rhmq2fCFUBdxKTGDnoVQCpoxJFkNBZAn6Wu7dLVFUBJ8CrKkH8VQBpbFC0Y9hVAV13OqTQWFkA4txMAd4IVQKKKN+A2qRRADL5Ml5PoFUB2RE6CdUwVQLGMEuZK6RRAy4VwgzG1FEC4wqVjMP0UQG8q6Wb+uBRAVfozmDqaFEDBakukWMQUQDl/PYoJKBRAYz7xqnFZE0BWwmrjUjMUQMJ/yrfE0hNAffQ+BAebE0CWCZ80FDoSQHxXzel+QhJAO7mgtZ/xEUDnznM42tERQAj0l3+ZZw9A1LkGIoKLDkDiMgPcMqsOQA==",
          "dtype": "f8"
         },
         "yaxis": "y"
        },
        {
         "hovertemplate": "Sequenz=170<br>t=%{x}<br>v(t)=%{y}<extra></extra>",
         "legendgroup": "170",
         "line": {
          "color": "#FECB52",
          "dash": "solid"
         },
         "marker": {
          "symbol": "circle"
         },
         "mode": "lines",
         "name": "170",
         "showlegend": true,
         "type": "scattergl",
         "x": {
          "bdata": "AAABAAIAAwAEAAUABgAHAAgACQAKAAsADAANAA4ADwAQABEAEgATABQAFQAWABcAGAAZABoAGwAcAB0AHgAfACAAIQAiACMAJAAlACYAJwAoACkAKgArACwALQAuAC8AMAAxADIAMwA0ADUANgA3ADgAOQA6ADsAPAA9AD4APwBAAEEAQgBDAEQARQBGAEcASABJAEoASwBMAE0ATgBPAFAAUQBSAFMAVABVAFYAVwBYAFkAWgBbAFwAXQBeAF8AYABhAGIAYwBkAGUAZgBnAGgAaQBqAGsAbABtAG4AbwBwAHEAcgBzAHQAdQB2AHcAeAB5AHoAewB8AH0AfgB/AIAAgQCCAIMAhACFAIYAhwCIAIkAigCLAA==",
          "dtype": "i2"
         },
         "xaxis": "x",
         "y": {
          "bdata": "tFah7auyFUC/RraZQdcVQJvZmMIi7RRAXd59CyZ3FkCEraVvgSQWQAP+20FPrBZAuZU01cmPGEChG/vsr7IYQMiUnSby3xhAhCAVhBX5GUBaiPOOtJ0aQGNqCEYH5BtAhJK9N8cdG0DtTipi274bQLzrzI50FR1AYwXjqXwKHEB+nwy7mDkcQPa9nDpb2xxAvtuBXsIaHEBC7ALfIkAdQPjc2W8qohxAYRM/6+0dHEA3/Yk7r8EbQCuh7yRh+hxAelG3AfG5HEDLsyrt45kcQFaz3XQ8TRtAVFHDgz/RGkAL3qsQj4YbQIeNd1LJ9RpANM/cZ4MkGUCQX907hZgYQCLmw/x4FRlAjIGtRX9+GEAsrYoy+uQXQB6lXXjWuhVAbLZEMdhqFUCq4dIlopYUQGX7VCmcORRA4aAq9I7KEkDrJojGqNYQQOUJ9zjIZw5AIHNDiT3yCUAS7FIL4QMIQDgkhdUi9QVAiglnMNJMBECQYhzKD0oCQKN80QHPQQFARavrdYytAUBqpn/lusAAQJ1w/zA7WQNA6XVD4Z7aAkDNOI8u12gFQHjNvp/cdANAKOvPqulkBkD0/Bx7rIMJQNiSWtrEyQhAsHPGiEQ6DUApEFB9NWMMQILTq5Ufsw9A1i3sdOz4D0C/uJP/nPYQQEwGJqjoABNA0nuIhrurE0DU47JKSK8TQJL48fYNSBVA9DRKJNRwFUAdoXsIRu4WQJ3Gyr98DBdASwz1ii2cFUAWmMykb0sVQMYJuGfYARZA5g/ZAOspFUBMEaKyyDEWQCZz/lMOKxVA52eXASJtFEBbOR36ofkUQJ1X7LlJ0xRAPDAtV2wqFEB2B24L2w8VQCv+ef7sDhVAt4nrlCnbFEABIl51yDMVQC8JIDQCtBZA2C4XIvjCF0CSuAe/0xwXQCS3pnb3ihdA1JkwBH8YGUBgX+X+m08aQLB+UiKpjRlAN6KBS/m9GkDT1fd0MaMaQDgp7LG5QBtA9QfcxjobG0BS3wN7/uMbQLBP7wiBhh1ABFpqJSdRHECWyY2zcIAdQEnXArTRoR1A6C89boANHUDhQ5tabJ8dQBaobAIqLRxA6Jt0TvlVG0A/NcJIzjQbQIBRjLsxPxpAnFXDt++WGkBel0CFgaYaQPlYZiHphBpAvNAmXzBhGUD7JE4AxNsYQGgH/lC/oRdABkPa0N26FkAfM9K4WO4WQHuVKuzGVRVAsyx2TkKvFEBRvpn9yzcVQJrIU04boBRAmjh7tIEHFEC036KOlLYTQItV+/PjaRJADiPYvE9xEUCK+3/gHzoQQPpf2+BUeg5Ar96qIMMID0B8Q3srWwoOQNf9WEEAtQtAWhWxKfZCCUB3e1sjmK0HQMFxx5K3hwlA6I4xakL4BUAhX9cHJY4FQNv7OqCcSQNAePHousy8AUDmLTQRdhr7P0YQttW0r/k/wvwKS1i79j8XeeDoaFn4P4DWd0WgRO8/VMZQKN4/8T/2cl8ZigbzPw==",
          "dtype": "f8"
         },
         "yaxis": "y"
        },
        {
         "hovertemplate": "Sequenz=171<br>t=%{x}<br>v(t)=%{y}<extra></extra>",
         "legendgroup": "171",
         "line": {
          "color": "#636efa",
          "dash": "solid"
         },
         "marker": {
          "symbol": "circle"
         },
         "mode": "lines",
         "name": "171",
         "showlegend": true,
         "type": "scattergl",
         "x": {
          "bdata": "AAABAAIAAwAEAAUABgAHAAgACQAKAAsADAANAA4ADwAQABEAEgATABQAFQAWABcAGAAZABoAGwAcAB0AHgAfACAAIQAiACMAJAAlACYAJwAoACkAKgArACwALQAuAC8AMAAxADIAMwA0ADUANgA3ADgAOQA6ADsAPAA9AD4APwBAAEEAQgBDAEQARQBGAEcASABJAEoASwBMAE0ATgBPAFAAUQBSAFMAVABVAFYAVwBYAFkAWgBbAFwAXQBeAF8AYABhAGIAYwBkAGUAZgBnAGgAaQBqAGsAbABtAG4AbwBwAHEAcgBzAHQAdQB2AHcAeAB5AHoAewB8AH0AfgB/AIAAgQCCAIMAhACFAIYAhwCIAIkAigCLAA==",
          "dtype": "i2"
         },
         "xaxis": "x",
         "y": {
          "bdata": "miAsFqK1EkBcvyhm3N0RQOH+e7aDlRFAcmi62rnkE0A0cU+oxt4SQL3fgUb5dhRAswHdAKcwFUBmpTd8jogUQEdYt250uRRA0vp08GBmFUAJNzKhiMgWQBoi8XEYixdAbLdDmLf0F0Bt3N4pBs8XQL2C4ziOOBhAXjYXhCF+GEDQugFtzroYQI5V4zSF8RhAn8r0ky6NGkAb36cZKhAbQJJzaJ5IyBlAHfsIvzOFG0CPeiHHpQAbQBxQWspOMRtA337tmTEaHEAIrbs1K6kbQPK5hgqBZhtAHptqYIqBG0BeNtS2T+MZQBWNarPKDRtAz4cp3C99GkDi2YaifLgaQKna/Yh9CBpA59115aVMGEB4ysiHrDYYQLTQItBXDBhAtI0n/clNF0Agke/igL0VQOZHbO4O7BRA43ORAmRRFUBmqdlRIYASQPgC4YPmuRJAh2CsO8MAEUDMvnznBBsQQHz850lEOBBAk4HqjXIBD0Aa3WVg2MUNQLbNx9KRcgtAsA4lMhZ+DUBzclnhUlwKQHdKv8m2mwlAZQXaFo5eCEA16VvhOwsIQBYddYEPIgpA+h2WTNRxDEBWMuX28qgMQGzifsPZDxBAcvw7/ZcxEEA0PqIT/AoSQJCsc8dpbBNAYOuYXdrzEkDQIVIh/A4VQNo/1gWmpxZAKZOfByq2FUD/bF1Q46cWQJAD60mgiBhAySqbl8RjGEDh5EdePlUYQHdfOmrhbBpAx0YKtFb0GEBff+XKDScZQAPeR30XDRlAiJ0h3UzjGEDxKIh6wPQZQHLiBbaAvxhA7L7Wjcg/GUBYQ+0iN44YQIv0k8c87hZAdSGtogY2GEDkBs+1D6AXQCMFJWWpwRhAzH7u3DgaGUDw1XVTynoZQFL7fk8MVRhAPgeZg2pOGkBd95FcLxkbQGTFTY4DehtABm8fifBTG0A6VWMk6P4cQKORINjWCB1Adhw9c53nHkA6MlqcXb4fQJQCkBW/DB9AcOiL8dOPIECx381msVcgQMXn9Y242iBAFEkJhj0YIUDb2YXZ3NYhQHkmjW1v2SFA1iiQ0xgjIkBwDERk90giQAlGK9QcIyNAHbrhT22qIkDTscBY4t0iQMh/FSTzQCNAJw4rdVDfIkBIiB3ctbIiQOFwD65A9yJAL7ZGRgVSI0AUD+VtuGUiQAqj2Rj0WiJASStSCjYGIkBumyTaj3QiQPfURf4gayJAODbmpQhDIUCzNV+BYnYhQGGFYFahSyFAlvM5DTn/IEDQ8IZrcXIgQNvNs2+Qjx5AcPqudy5sH0C28tlDa30eQDCgMc95qxtA+0osLWErGkD+SYRzhZgaQE5ogmPu5hlAfSHKDxGfF0BjSawyaqMWQIT8wBJGRxZA9oSNOtmVFEDXP/pPN9ETQLwPri1UTBFA9Cr+P7MNEECZFn2g80UMQGAV1J3PwwdAUjqNuKaIBECeJwBnR4gBQBQb4cXIDwFA5mGC750O/T+e7bUpO4z2Pw==",
          "dtype": "f8"
         },
         "yaxis": "y"
        },
        {
         "hovertemplate": "Sequenz=172<br>t=%{x}<br>v(t)=%{y}<extra></extra>",
         "legendgroup": "172",
         "line": {
          "color": "#EF553B",
          "dash": "solid"
         },
         "marker": {
          "symbol": "circle"
         },
         "mode": "lines",
         "name": "172",
         "showlegend": true,
         "type": "scattergl",
         "x": {
          "bdata": "AAABAAIAAwAEAAUABgAHAAgACQAKAAsADAANAA4ADwAQABEAEgATABQAFQAWABcAGAAZABoAGwAcAB0AHgAfACAAIQAiACMAJAAlACYAJwAoACkAKgArACwALQAuAC8AMAAxADIAMwA0ADUANgA3ADgAOQA6ADsAPAA9AD4APwBAAEEAQgBDAEQARQBGAEcASABJAEoASwBMAE0ATgBPAFAAUQBSAFMAVABVAFYAVwBYAFkAWgBbAFwAXQBeAF8AYABhAGIAYwBkAGUAZgBnAGgAaQBqAGsAbABtAG4AbwBwAHEAcgBzAHQAdQB2AHcAeAB5AHoAewB8AH0AfgB/AIAAgQCCAIMAhACFAIYAhwCIAIkAigCLAA==",
          "dtype": "i2"
         },
         "xaxis": "x",
         "y": {
          "bdata": "mbhpPB/3EUCrss2TPSUVQDFKuOqitRVAX2rE5+vyFEAQfLIl2PUVQFC0ON67BhdAN0BzJfQrF0CnghxupzkYQPpxgDTaYhlAjwYtCQi3GkB1gGqTjeYZQA9P79ZXOxxAZzpFZDmrGkCsJ/FGEtwcQHPg0l7z/htAgObE34gvHEDdkg9DegAcQOY26odxFRxAAz46v6HXG0DOxTkKNscZQHq0EGGx6BhAShXZqdv4GEA/JpLg7UYYQPT5+4I9/RZAuuyKuBrmFEA0qoyQ9XoVQEMvasOOKxNA2pSP5lyoEkDYw3SickASQIRNcuAcJxBA9UfPyf8NEEAXlfnzTWsMQPqiEtOwigpA8vbjIHAmCkA29IWF49YHQHGbLtzwOAdAxOD+UGp5AkCFjC5TcfMCQAGmPFVb+wFAzVrko9TcAECWF4lUDXb5P2MZhLnzgvU/R38R5EMj9T9KE0SCx97yP5ySdfmZ/+8/KHSITry+6z/iblLBPJTtPxXf4TULw/Q/GxOpuBRC8D9wtQDvBbXyPxa6rBaj6/I/Wyt9I5y59D+svVd7u5n0P1enddo6Ufc/fo+zQ16k8D88oX7OJXb3P/N7JPwnMfc/kO6/n8bZ/D+u8fvgGQT7P0XpItUdtfo/ulMnmD0kAUBxieN/2kUBQFD9X+/POQNA3tSOPONHBkBB2R58Sv8IQAKI3yXKLgpAToBbJUeKDEDTD28AkNIMQBR5Nbq4GQxALgDtZZBxD0ChqZ+fE94MQNEQU68CaA9APpjpSVkyEUDkK7S0kc8QQOa4Q+OMLhFAmHaPJK19EUBA6EeORXITQDm83CaMrhJAfZVkRB8PFUBKEAY62rwUQKN4a/1BMRRA/ssnUv2kFEBdH3W4LF4VQB5Yp9nF5RVAJSIbI9pkFkBZ2AcqPnsXQNjRGm+4XhZAj4nX1C7AF0AufixDvS0XQCzjIgpKEBZAVjwmWKX5FUCLnEIy2rEWQFI4kMsrOBZAE4qiCgU+FkAhgeO0CL8WQEQ/lIhinBVAsrozxZ/LFkDnW+EhzQwXQCr5KAmavxVA+nOw0wWsFkDZ2626i9AVQFww/RfcNRZAmHqUfn+gFUCXEYVoOdEWQOiTbyGhUhVAfiqN69AXFkCZxk7FKMcUQC2ooEhp2xRAXERcov+DFEC7PJTBFJwVQO2efjyujRRAwKER1ah5E0BMbIia+B4TQF+C2+CvDhNAraRFt9eyE0AK7/0Lc4oSQHfcsxyohhFAhjD6EYlHEUAhkVi3tK4QQKmxHFHtBRJAbh8qP2ReEECr5JxtlTIPQF2bkI3ezw9AYqkmbilJDkDMsMpOtJ4NQHygMOpNmw1At5r9Aw+lDUCYjNG+zqkJQMotBy/rHwdAgn9eIgeUBkAlmL0WRMoFQOah/6CVcwZAsVsSHesCAkD0fQPvLBIEQNb2xSY35AJA6BzY/wQw+z+WfOZHpi0AQGwcPetr0f8/PKx8EFeK9D903D8DuurwPw==",
          "dtype": "f8"
         },
         "yaxis": "y"
        },
        {
         "hovertemplate": "Sequenz=173<br>t=%{x}<br>v(t)=%{y}<extra></extra>",
         "legendgroup": "173",
         "line": {
          "color": "#00cc96",
          "dash": "solid"
         },
         "marker": {
          "symbol": "circle"
         },
         "mode": "lines",
         "name": "173",
         "showlegend": true,
         "type": "scattergl",
         "x": {
          "bdata": "AAABAAIAAwAEAAUABgAHAAgACQAKAAsADAANAA4ADwAQABEAEgATABQAFQAWABcAGAAZABoAGwAcAB0AHgAfACAAIQAiACMAJAAlACYAJwAoACkAKgArACwALQAuAC8AMAAxADIAMwA0ADUANgA3ADgAOQA6ADsAPAA9AD4APwBAAEEAQgBDAEQARQBGAEcASABJAEoASwBMAE0ATgBPAFAAUQBSAFMAVABVAFYAVwBYAFkAWgBbAFwAXQBeAF8AYABhAGIAYwBkAGUAZgBnAGgAaQBqAGsAbABtAG4AbwBwAHEAcgBzAHQAdQB2AHcAeAB5AHoAewB8AH0AfgB/AIAAgQCCAIMAhACFAIYAhwCIAIkAigCLAA==",
          "dtype": "i2"
         },
         "xaxis": "x",
         "y": {
          "bdata": "2Hwei5Z9JED2YtgdXI4jQPDFjtl/JCRAmWUveLPHI0DOBJKAEJMkQPj5gvg1yyRAyLWb6b08JUCC9TzILGUlQIJDf0BHzyVA3TlFYjwYJkCqrTJG2FMmQMt9LdVQliZAjdlvkJk1JkBipIH1lhcmQAZSl4FY/CZAtNcKl4pcJkB6A2wlW4ImQFIK94Y1aCdAhNpNCVaDJ0AjKMIWGiwnQHoh5PMGrydAlvZ9Gn0UJ0DAfIG66fEnQBCQYB8GUSdAeDjkAwJlJ0B5KBnOD0wnQBIoRNQZ6ydA+u+q7BkAJ0A7eVFIJecmQHWtJH+oeCZAkpPb/1URJkAnndc3d40kQMGz08WJTiRA8j/o3fz5IkAn3lYv3PEhQLiZbUp8xiBAu1OLQcCjH0D0Mpt86FAdQCk8eTBSrRxAud+xRkDOGEBuBOavJeAXQEyObA0XxhRAce4VdYSZEkCmfK7KhgEOQLXEjxT4ywlANxBuYgoEBkBTqrcqaiMDQNRNl0rdCAFALLgmrCJYAkD2q2elRqn5P463+DFvE/w/C/60aLdN9D8cHaDDPSb2P1VoQ+tWb/g/6CP6KLFm+T9d/Bp7PWABQO3haBSgvAFA7NWU5Y22BUAHDW45DWEIQAtm0UmjCw5AGR8LcjpKDkDq69PN7SYRQKpbhg6kTBNACsmVCqQ/FUBIjCDydUwWQD6wvSkaFhZAIXsOG97SF0CkchG+8/AYQF0UeW601RlAO8BThNsjGkD0iBfGksIaQF4dwq/BeRtABqokHFqVGkBSVtYbtXsbQDJ6hJcDVhtAMgv50F/+GUBt/NECi70XQCUzCimYNBhAt7/mmHYtF0DaSvrCdEwVQNzMkDtvRhRAmzoERULsFEDopul08t8TQMayzn7/mRJAb3HURHb5EkCWXR0e0YQSQG54LrUZaRNAb+tCga2dE0AKxF63tpUTQOHnobl5HRVAKpe/cPqSFEC3j38weNYWQNKTAq3D0RZA2/dvqh3WFkAFS/tBBnIYQFuhd9YiXxhAzkgqGTMtGEBbJGPah7EYQMiURjt+JBpAgMuc3OudG0AKMH33r1AbQOQ+jy9HhxpAgSCc02voGkCiYx7EeqIaQLAheX6SDRpATAe3Wx21GkC/b85W8rAaQOseS/wAexhA8NYNA/OBGUCIZNXG254YQLUdO0eathZA+ZuKwpLVFUD6KDyACgAUQKTWAj5y5hNAtv8KXj9FEkCuuXUkbeoRQORcfCfQJhFA1mFQwnXCDkD9sfsCuigOQC4u427ZNg1ADIbkh2lzCkCsPbDo7nsIQAsBnfvDZwdA1Q0Z7g3VAkDvstVjor8EQNVDbSbriQJA99Km1s1WAUD+6UKHt6D9P8OoNCy9av4/xLZ5JByV+z9CcextTLfzP8jw/NyvoPc/2IV13B/28T/BRwE2ByXoP+iOCR5Xwec/8MK5L06U6T+X6jG0hkTgP/i8DKQOceg/EONNaxMB6j/Mt8MsA2TnPw==",
          "dtype": "f8"
         },
         "yaxis": "y"
        },
        {
         "hovertemplate": "Sequenz=174<br>t=%{x}<br>v(t)=%{y}<extra></extra>",
         "legendgroup": "174",
         "line": {
          "color": "#ab63fa",
          "dash": "solid"
         },
         "marker": {
          "symbol": "circle"
         },
         "mode": "lines",
         "name": "174",
         "showlegend": true,
         "type": "scattergl",
         "x": {
          "bdata": "AAABAAIAAwAEAAUABgAHAAgACQAKAAsADAANAA4ADwAQABEAEgATABQAFQAWABcAGAAZABoAGwAcAB0AHgAfACAAIQAiACMAJAAlACYAJwAoACkAKgArACwALQAuAC8AMAAxADIAMwA0ADUANgA3ADgAOQA6ADsAPAA9AD4APwBAAEEAQgBDAEQARQBGAEcASABJAEoASwBMAE0ATgBPAFAAUQBSAFMAVABVAFYAVwBYAFkAWgBbAFwAXQBeAF8AYABhAGIAYwBkAGUAZgBnAGgAaQBqAGsAbABtAG4AbwBwAHEAcgBzAHQAdQB2AHcAeAB5AHoAewB8AH0AfgB/AIAAgQCCAIMAhACFAIYAhwCIAIkAigCLAA==",
          "dtype": "i2"
         },
         "xaxis": "x",
         "y": {
          "bdata": "9SmEzY47JEBGnIQVvQkjQHOGCKsZ+iJAjZ8AoHyTI0BbMicUXs0jQDlmfFku8iJANUgl+R2kI0B8Baq/6a4jQMgOl0h63iJAx65KvjMPI0BYRngh7WwjQFLsf0RbiiNA5WCL55NmI0CNxCIpxl8jQEyodcYobiJAZitVDqNIIkD5Efpgi+8iQDW25EFkISJAlowE4jyvIUAOJySlY8YhQCdZ5C4CiyFA3WcdDtZKIUBHM31ZPRUhQMpzAsJeoyBAFOX2QvXZIEDOnjPtFrcfQDSBdVmVnh5AQLb9CO1rHkBxCxxkrT8cQE+d4sMZgRxARtUpA3ZUG0CHZmHWq3AaQEyr/KwxNBhAG5D9vDN0GECXhOJKuwwWQHU3y8N9ThRA4utmZeGXEkB98Gfw25cSQKZpEnFeVhBAIfzN9nD6DkAtnxEf3u4NQMQQB67pAQdAKwAYOGjJA0B0oJmOScoCQFaqr3eGbvk/x4I3Q0As8D8779mPIVbtP6maBcFaTu0/woTFAJbD9j92jRNoyS31P7o15GvAKfI/kqSgN1L+9T+37bmEp/DzP/YGIMpREgFA/duUUdTDAkA7QjdSeS0EQJVchFAUSQJAOrmd16faA0BtA8IPCVcHQH0S43k/SgtAPh3oO2waDUBaWM63j40NQE51DwHqThFALCf5FobAEEB9xm5oVgoSQOvj1Jae3xJAZpfQ7dbsEkDMqZ1MgngUQKldqMnC4RJA8Jm6FimxE0DGSVyT9TATQPK34fFvkhJAOvEZYrBEEkDZb14Ez94SQL6g/yZBxhJAssIpIvH/EUCpL84Pw28RQGN7dGwnwg9APep6xvWRD0ClykN6md4OQBvHSrcSSA9AJPTh6NT2DkB8Rv/DigEQQNqQs6T+IxFAvAC6CXS5EUCcxBHkm+sRQGq2KSGpPRNAM5Y/5tOlE0DeA8DiLR8VQINuKcSQkxVAyAIbtqeKFkA7jpYh/bEXQGuRz9wSYxhAfZ/PowyiGEASRnfHJZ0ZQJpKOsVymxlA2LrlTEneGECkiPQFLQMaQJ0+yINhURlAAgoUxSdbGUD1PPdlhqwaQOxwSbkA3RlAgLBq+uRqGkDRuPRfCYAaQPZHhJ1MmhlA74uOcX0JGUBAOGFo8eEYQNqTNBomfxhAqueNWTfEGUA+UBmB9i0ZQB0We21x2RdAEedLGFItGEA0UY79pAwYQKUNuxX/5hhAheYA7jwLGECh36+ZH6EXQM/howcenhdAR09/Thn2F0DYU7AA774XQBjzgYFA2RZAX2ntCQrjF0BfSRJvu7kXQMt2AQYULhdAHK0K8kIcFkBNT9Pl3gMXQM9VbyYfxBZA5D/QQOS3FUAlpVomB9oWQCuebwtrWhVAOmmXDf7oFUBPqJ5fdpQUQPaYJntWFhVAeyIiuBk6E0CD/wnQC9cRQA7EPouOvhBARsyRLG4qDkBkwMS5yzgGQDVkmxhiFwJAPHnAF/gx+j9Dy8MZnjDrPw==",
          "dtype": "f8"
         },
         "yaxis": "y"
        },
        {
         "hovertemplate": "Sequenz=175<br>t=%{x}<br>v(t)=%{y}<extra></extra>",
         "legendgroup": "175",
         "line": {
          "color": "#FFA15A",
          "dash": "solid"
         },
         "marker": {
          "symbol": "circle"
         },
         "mode": "lines",
         "name": "175",
         "showlegend": true,
         "type": "scattergl",
         "x": {
          "bdata": "AAABAAIAAwAEAAUABgAHAAgACQAKAAsADAANAA4ADwAQABEAEgATABQAFQAWABcAGAAZABoAGwAcAB0AHgAfACAAIQAiACMAJAAlACYAJwAoACkAKgArACwALQAuAC8AMAAxADIAMwA0ADUANgA3ADgAOQA6ADsAPAA9AD4APwBAAEEAQgBDAEQARQBGAEcASABJAEoASwBMAE0ATgBPAFAAUQBSAFMAVABVAFYAVwBYAFkAWgBbAFwAXQBeAF8AYABhAGIAYwBkAGUAZgBnAGgAaQBqAGsAbABtAG4AbwBwAHEAcgBzAHQAdQB2AHcAeAB5AHoAewB8AH0AfgB/AIAAgQCCAIMAhACFAIYAhwCIAIkAigCLAA==",
          "dtype": "i2"
         },
         "xaxis": "x",
         "y": {
          "bdata": "Su/23d1zI0BNWOrrqYYhQK/VEcf1iyFA0pa5PfQIIkC44BIff6shQEMFcWTh3CFAubPwxdytIUAyfAxnYAAiQMcMEZQW+CFA5DlLIEonIkCZ4AzTNNgiQMLtJWKWnSJAnVqM+U/tIkDhMJDkoesiQFf5tGHsGyNAvma8R3qGIkB017oYONIiQI3qRgEWnSJAJMHATBwJI0DSRlEbiowiQCdGrTAm6iJA+oF5MeMyI0CMh46p3qYiQK9e7ul6SCNAktlsI1p8IkAh2OF4XlAiQOpy+8wOESJA7MsjUcOvIUAbOlt/HFwiQLiZt6KLYCFA+H+oklRSIUCf/0di0RUhQDwZan7e/iBAvtnVo3qsIEBOQV+AhDQgQClbxRjH0R5AWBibDrG6HUBM8D8BThMcQEMnNvGJjxpA/ebAp+z9GECZYbCoJwUZQFlGa25NoBdAdg3xsyhwFUC1x9145rwVQD+BP0tv0hNA19hjl+eZEkC+H1QMjFgSQECD2BtuYRFAn/0X7ti2D0BEZpR2wcoQQHe0qrmhOQ1APgfKREjaDUBE4VRfq9QOQFG4rm3hMw1AvF4EuEO6D0AtW9Y/GQYRQJVFuGe/BBBAjKFpn0dGEkC73soI6pIRQM5HcRBu9RJAZhs5YXwAFEBUIDghAz8UQNjgFdA2ZBVAq3aOri2LF0C3LR8GXfoYQMWG2U7EoRlAfTrdaGwTGkClIXS2pNsaQDT541eGDRxAObk+k1i0GkAAMrwKD9MaQMfgPDgiLxtAx3lpcLXRGUDkB9crL8sYQJLbJo0jmRlAcxV21UjqGEDtz+F5fxcXQIwwOcXm9xdAkjqB1+5zF0Asks8//N8XQGrKpS/IixZAzLHatZHAF0D/QqgFv5YWQMhUGiiHEBZAQa6kbxZOF0BHupvkqOUXQGZ8ePNfHBhA3vzsqy9qGUA5aPx4DB8ZQMESYPiGiBpAUusa9UypGkDmKHAt72UaQC3XCmX+2hpAhsMwnpTnHEC3rYcKrccdQBTXtQ0Xhh1ApX5uVjytHUCwhyhuv48eQGKRf1Z9XR5A/euGXqkfIEDZ8vuWui4gQL/LJk0jZR9AO/DbGoaPH0DnU+XS1iIgQEtkPfu5LCBAHZd8TkNLHkBJkAdwZmoeQJEcjtVXXR5APubaS8WAHkDah5tqKIQdQKH/+nK8qRxAXXRcE253HEBGhscQTlgbQD7CsjTZ7BpAZBxcPfUFG0Ap+vB0ao0ZQFuGuOGA1xhA0qCnusJMGUB4JKZrW9YWQIJuBBD5aRdADUJB21kxFkDJfhZAW4IUQIb3r73Q0xRA8Tr5QgUBE0BkFUvkNQYSQLw6Mh0WiBBAfHIPieSQDkBVQpwySgsMQKWQs87AWwpAhgNp6WCSCkC9X2kvwvoIQNTBKvRIgAVAIF8QlfE+A0C2pMNBAEACQGgzH5KToPs/Chc3SFjH8z8rIXP5d638P4VnI4vZ0fA/e24dSx1E8D/7L05mASL0Pw==",
          "dtype": "f8"
         },
         "yaxis": "y"
        },
        {
         "hovertemplate": "Sequenz=176<br>t=%{x}<br>v(t)=%{y}<extra></extra>",
         "legendgroup": "176",
         "line": {
          "color": "#19d3f3",
          "dash": "solid"
         },
         "marker": {
          "symbol": "circle"
         },
         "mode": "lines",
         "name": "176",
         "showlegend": true,
         "type": "scattergl",
         "x": {
          "bdata": "AAABAAIAAwAEAAUABgAHAAgACQAKAAsADAANAA4ADwAQABEAEgATABQAFQAWABcAGAAZABoAGwAcAB0AHgAfACAAIQAiACMAJAAlACYAJwAoACkAKgArACwALQAuAC8AMAAxADIAMwA0ADUANgA3ADgAOQA6ADsAPAA9AD4APwBAAEEAQgBDAEQARQBGAEcASABJAEoASwBMAE0ATgBPAFAAUQBSAFMAVABVAFYAVwBYAFkAWgBbAFwAXQBeAF8AYABhAGIAYwBkAGUAZgBnAGgAaQBqAGsAbABtAG4AbwBwAHEAcgBzAHQAdQB2AHcAeAB5AHoAewB8AH0AfgB/AIAAgQCCAIMAhACFAIYAhwCIAIkAigCLAA==",
          "dtype": "i2"
         },
         "xaxis": "x",
         "y": {
          "bdata": "uwfuEXvo/j/VG2kyBsAGQDSFec9uVg9AlWMOaAHXEUCopsV8ii4SQCCQkGwhzhNAZK3Vsw/NEkASqLRCJ9QUQNdaD9xLVRRAQ4ZtHuO5FED43QQgcWcWQIwo6XvyzRVAEPY37pjCF0D5b+//RBAYQGZVAW3VZhhAs67HZ5cqGkBHhsHxplUZQKQxPFLyBhlA8ZQCr+BRGUAR84Z12j0bQLMqvr+GcxpAWcv1XDP/GkDEQBON/3MaQGOMh0pMVBtAd4W6s3OnGkD0gSkqrb4bQFXYwhSjHhxAimIxD3DEG0CUXgWzpqIaQGwiqT/KnhpA58kDVYnoGkDH1fPo898bQBbSNl5JqBpADUWkMpeoG0BopyH+d04aQLnI8IUtmBpA0QfMJzb/GEDknJGYPbQaQBxUu8R7FxlAI4o2xOJ4GUC+nPxipoMYQF4DLAr/XhdAxgSth2V0GEDM/Rm6+0QXQPB59oQfaRZASVLKzP8hFUD2JR29dXUVQOnPxnHAwxRAUzXtgcriE0Aw17UDsvEUQNU+a1nQsBJAncWnmaZ2E0BkEGY++l4UQATNsQGyzhJALU64ZOoDE0DpOxuPJw8TQHPJla6e3BJAaLs4Ja1bFEAB6bd8QFoVQPktTICVsxVAYJMX7HQAFUCn/B2dWTYVQMqHWXuZ1xRASCgfcFm1FEBsUyRr6VgWQIgOFQdqGBZA1kH/eTiBFUDVNes6AzAWQEXrxBivyhRAA6ooQD1oFEBvAuLYnRgUQBIzTJkJFBVAn480hmGeFEBN68i1aT8UQGHS+kxwoBVA15xm4dLJFECQCfr3U14UQC89Jz+vShVANq+W9+ShFECpXpX0J24UQOgDQFwjXBRAYDAJRg1SFUA0LeSnI+EUQPzVuRFnsxRAkGHVURntFEC4btEcyisVQKxhKpIWHhVABEuI6ovIFkALyedtaroWQAPt+eqJsRVAPaH8OErYFkCu4YozM+wWQHDTumQi0BVAtS4c8D1gFkBmgTARrdcVQPQWTjz3CxdAZNenLf//FUB+pzBHhuoVQEDPC5nmPBZA7Le3LY54FUBqmIBPZPsVQHPNo1JJshVA2w/l4Me0FUAPnnXYVHEWQLsY/iNKUxVAxcQvFNY3FkAMM1/dbuwUQHG+a5/TkBRAzMAvwNmPFECiPK1pxugTQDsT/zWEuRNAZzowbP3YE0AoijMJcvsTQIL0ke0/0hNA6+Kp1OPkE0BWEHohGxwTQI0YFmBFiRFAkjXKpHlPEkBR0GXAnlQRQI6n83ZtJBBAALhlJN98EEB3rpMPBy8QQEBBdQccDg5ASwlw6dkTDkCknLhZtCsKQDhjIB1J2QhAwmhJVWO3CUALgmqYBOEFQMiF76Jo/QRAcv27eO9mAkBlvr10xJQBQAV7y7VKpgFApIQaXS69/j8A0U3lehn3P/ulnOxeRvI/T0BxoP0S9D8MYwZ/i5fwP2cIWfFOwus/gdPeBDk/5T+kNWn8hXLjPw==",
          "dtype": "f8"
         },
         "yaxis": "y"
        },
        {
         "hovertemplate": "Sequenz=177<br>t=%{x}<br>v(t)=%{y}<extra></extra>",
         "legendgroup": "177",
         "line": {
          "color": "#FF6692",
          "dash": "solid"
         },
         "marker": {
          "symbol": "circle"
         },
         "mode": "lines",
         "name": "177",
         "showlegend": true,
         "type": "scattergl",
         "x": {
          "bdata": "AAABAAIAAwAEAAUABgAHAAgACQAKAAsADAANAA4ADwAQABEAEgATABQAFQAWABcAGAAZABoAGwAcAB0AHgAfACAAIQAiACMAJAAlACYAJwAoACkAKgArACwALQAuAC8AMAAxADIAMwA0ADUANgA3ADgAOQA6ADsAPAA9AD4APwBAAEEAQgBDAEQARQBGAEcASABJAEoASwBMAE0ATgBPAFAAUQBSAFMAVABVAFYAVwBYAFkAWgBbAFwAXQBeAF8AYABhAGIAYwBkAGUAZgBnAGgAaQBqAGsAbABtAG4AbwBwAHEAcgBzAHQAdQB2AHcAeAB5AHoAewB8AH0AfgB/AIAAgQCCAIMAhACFAIYAhwCIAIkAigCLAA==",
          "dtype": "i2"
         },
         "xaxis": "x",
         "y": {
          "bdata": "dqZM9jRkGUBEkLIJGrMcQOAua7fUoRtAUISZjPcoHEDocw2DrdgaQDND+b2aPhtAAiS9Od2yG0B/FRn2CHobQIpZ4ebbIRpAOqWD1HTtGUDq8nDKbsIZQPoCopAOAxtAT5CGkMxQGkC4I2RFJEcaQEqHO10cIhlAoFeehBN3GUBqRVaeRnsaQMxpTDHzdRlAfDARRI2SGUCuLgga7WoZQAuZmW9piBlAdNSoaOFHGECSYi2VlqcZQAv7Rttr/RhA0TOegPa+GUDN+fiKoWgYQDidfSi7SRhAjl4rt1WbGUA1H7zMKoIYQEKxSRZv6RdAksLqVU65GEAZykER43cYQOTTjhRAiBhANA9+uAoYGECnY3t3p0IXQI9KvsCzXhZAEC0OJOeaFUBMy/fi33cWQK82wMzuhxVA8+f8AGNFFUA/KpWlzXUTQNzxhjZXDhNAdVJ5AOGMEkCx+WuvL40TQBa8b0RlqRFAcg8S0EOUEEAJhYzjcf0PQNBMHMHLgRBArSZYXnBIDECCWHBV3+wOQO7fJaW1Hg5A693oraofC0BaeBEjPcgNQLibY+KgiQ5AfPI6EaOlDUCYx9aAt7ENQNqSdUI9GA5AK23frehFEEC7NFqBTC8RQKA9wZgXNhNAIpYlSlv4EkCyyFrQpL4UQPWUtxFi2xRAqVP+gvcDFkBLJss7QvYVQKutE5exXRdADJreP+vUFkAiPcJfuRcWQFqlUUTqkRdAZ0VPTpuWFkBLR+v7YBIXQKqBMJZmIBZAnlwQYJptFkCe+f2hh/wVQCwL9xcF4xRAXsOcJwV7FUC+mh0ITl8TQLTDV2g6oRNA+nYC0HnQE0CnIP6ZV7QSQJ+ja8QU+hNAEgYCjyXFEkDUQMDIj6oTQA8/bDS90hRALFlZpiucFUB8vDRZ/YsVQARLpd3v0hZA0GGiFE7CF0DjW+6rPFQXQAMIhmV1whdATUHZI2u6GEDHefPvlDsaQB4gHLMHDhpApB6eUP7BHEDHGrMNL2EdQM/aPgMI/B1AuiNEmkjKHkB/Npfkh54fQCQFXwibCx9AfPm0fYhSIECe14uYbkggQFjb7Wd3TiBAn7hqunfTIEDz4jEPg0UgQERI83RpziBAs2boEl0JIUCNp88yVGIgQPBmrX+rQiFAeBic/HqIIEAUiJvvbMAgQDbzWSZ5xyBA6fWg8czDIECZTwSGX8YgQH1KrBAWkCBA2nkg0ed1IEBEjh/iqfcfQMeuprb0JCBA5LV7MYOZHkBxk8lOZgEeQBRPrtf/6R1A+nxXVicnHkDpoFY3z20dQHdyanwHghxA41Z6c8eiHEBfoPPQUIsaQIun3vazpRpAIw+M4IAfG0C1ehDvZZ0YQOGV47tMWhhAHi5O+t9oGEBYjCfLK6cWQJnfomVvOBVAeaBrggoGFUDK5l2ImCwSQHfN8Ip4JBJAj/gmKs2tD0CsHGtCBVwLQKVBe5jE4AVA5I19QleB/j9esjo57Y/3Pw==",
          "dtype": "f8"
         },
         "yaxis": "y"
        },
        {
         "hovertemplate": "Sequenz=178<br>t=%{x}<br>v(t)=%{y}<extra></extra>",
         "legendgroup": "178",
         "line": {
          "color": "#B6E880",
          "dash": "solid"
         },
         "marker": {
          "symbol": "circle"
         },
         "mode": "lines",
         "name": "178",
         "showlegend": true,
         "type": "scattergl",
         "x": {
          "bdata": "AAABAAIAAwAEAAUABgAHAAgACQAKAAsADAANAA4ADwAQABEAEgATABQAFQAWABcAGAAZABoAGwAcAB0AHgAfACAAIQAiACMAJAAlACYAJwAoACkAKgArACwALQAuAC8AMAAxADIAMwA0ADUANgA3ADgAOQA6ADsAPAA9AD4APwBAAEEAQgBDAEQARQBGAEcASABJAEoASwBMAE0ATgBPAFAAUQBSAFMAVABVAFYAVwBYAFkAWgBbAFwAXQBeAF8AYABhAGIAYwBkAGUAZgBnAGgAaQBqAGsAbABtAG4AbwBwAHEAcgBzAHQAdQB2AHcAeAB5AHoAewB8AH0AfgB/AIAAgQCCAIMAhACFAIYAhwCIAIkAigCLAA==",
          "dtype": "i2"
         },
         "xaxis": "x",
         "y": {
          "bdata": "NpzVIAYoI0CgaQVd3zwiQHucMYYykCJAjlon709EIkBLIxdkQ14iQI2BG2t35SJAdMNbMQEnI0AiDe6f5IQjQBGwrmKlnSNA+MtlL3lhI0Du6sRFHH0jQBfDh7MLyCNA4ZBBCak2JECqayHjbc0jQLHNi+UAjiRAhNMc09mSJED4C2l0vNcjQFKQ3sw8BSRA+BHQNqfiI0ATCSvD40okQIJEB8Yu9CNAworryngqJEDc+PwQ4HMjQOpJkNqPhyNAj25cbAD3I0Ce5i75BpQjQBivgkA55CNAI4EJ5zLUI0AIVhovXnAjQEf1lVe4YyNADTt4yuvMIkCi/McnYE8iQHmp8qwtAiJATqkD2AKzIUBYCSUI/bMhQHPj4I0YNCBAzX0Mm58OH0BcjE9UJJ4cQGTtHnpaXBtA/u+q72k3GEDxR09Py2EUQAaX6LGf3RBACG9sEee/DEC5xhWln20JQGz/DVAu1wVAdAiAkFjDAEAcN0b1V3T8PxXP1VuP+/c/sJcoZrLa8T9Q1Dv7+CvyPyvH+n6oPvQ/ebkJBsHA9T/yNkpKVb7oP1bDxPPLV/Y/Y9N8vCkF9j8UCyhgBC4BQIMHyUoQugJA9JaKPwbiAkD23rh/BvoHQFuahTX1YAhAI9V3YaKADkAXrO57dC8RQG3AFEiRUhBAJIy3CMCBEkDrpOb6w1ITQD9syBCKYRNA5PmQk+EEFEBBsBdzMOcTQPMBKk02ShRAywLceIB/FECSbme20H4WQE7KlgxD4hVAxW+r1UzhFEAFYxai56kUQG3/9yev9BJAM9BE96hWEkBSRTlaOvERQEWGJZM5nBFAwLLNfDPSEEDAYrdBc1EPQPPT3USCkxBA0R6sOFAWDUCMrlzO8VkOQCpq8UByCxBAELpxIdFvD0Dl9mT1+HMMQLzt86a2xQ1ALRTlUwPvD0ALW/Ci+R8QQGmHKfGFahFAlitYDJoZE0D2TV5Jmu0SQInJAJwH9xNA2CxO7pUbFUCLwkd6ZAgXQBNm19CSsRZALGZ9gO+LGEBXjGuhiroZQGq9SWpbdRpAON0FkWUyGUAwEHq+FSwbQCkyuYQu4RpAk9BDIuMbHEBEXcYJ7vUaQM9KfLO2PBxA5kmrMymjGkDiUWJn9eMbQOnVdXV20xtAJ2YTtM3qGkA+vW9z07cYQMAdtfyw/RhA0l0sGK6FGEDc6iddQAQXQEJR5HNDeRVAroVJKBq0FUBGb9VR1HoUQDnJyF4YoRJAdNrDF25pEkBZNgLv6joQQOXEJa//+A9An535WOjhDkBurHJnbLYNQMijLbVA0glA8LsVRc6eBkCPNYLf7z0FQNt6UsUVEwJA+caiIqCRAEC/87X9PBYDQN81ku7NgwFAY4Ht9IHu+j9jR2ID8RQAQKX1LGcHuvk/aYPOmdll9z/aG8P0Ldv6P6sB8is2xfE/xPV+fTZR8T/OtozdXK/uP8tah+x+3e4/shF4852S5j8tB5RNVkjtPw==",
          "dtype": "f8"
         },
         "yaxis": "y"
        },
        {
         "hovertemplate": "Sequenz=179<br>t=%{x}<br>v(t)=%{y}<extra></extra>",
         "legendgroup": "179",
         "line": {
          "color": "#FF97FF",
          "dash": "solid"
         },
         "marker": {
          "symbol": "circle"
         },
         "mode": "lines",
         "name": "179",
         "showlegend": true,
         "type": "scattergl",
         "x": {
          "bdata": "AAABAAIAAwAEAAUABgAHAAgACQAKAAsADAANAA4ADwAQABEAEgATABQAFQAWABcAGAAZABoAGwAcAB0AHgAfACAAIQAiACMAJAAlACYAJwAoACkAKgArACwALQAuAC8AMAAxADIAMwA0ADUANgA3ADgAOQA6ADsAPAA9AD4APwBAAEEAQgBDAEQARQBGAEcASABJAEoASwBMAE0ATgBPAFAAUQBSAFMAVABVAFYAVwBYAFkAWgBbAFwAXQBeAF8AYABhAGIAYwBkAGUAZgBnAGgAaQBqAGsAbABtAG4AbwBwAHEAcgBzAHQAdQB2AHcAeAB5AHoAewB8AH0AfgB/AIAAgQCCAIMAhACFAIYAhwCIAIkAigCLAA==",
          "dtype": "i2"
         },
         "xaxis": "x",
         "y": {
          "bdata": "AB+b3n6RJUDIQdRYiz0kQCYrM2VDdiRAxaWotrW4JEDF5XSvhA0lQP0ChC2SziVAXXtA+qnMJUAstUYCE6MlQMhdlldhUCZAFw4XV2zvJUAoZyXPLlomQAXJ8XLcKiZAo7f7o57GJUBPMHgywsElQODWSx1u7SVAPxLYzPkuJUAczYUqlKslQF+PwStxRCVAeSyHKSsbJUALj2Qw4FUlQGR4dpsTKyVAZMGg1UpyJECejIoLB6EkQCdW0Ccq2SNAVOd/Sh8DJEDTmymHIkYjQGF7p5V8kCNA6+hLArMaI0ANuWSyRckiQObkUEnzRCJAWKmjqLpoIkAqPH5FE+MhQOjwG13CliFAeczzllojIUBdW5OfqvcfQNnSUhgggB5AnQcpJb/iHkDxXh9/eoceQCMhG7wuChxAoIzhPjuOG0ARmlvzsccaQCbDX20TcRlAl/iSYVflGUCOVNWpZgwZQCMypvOWghdA6ye8cCNQFkAT1W8Xt/IVQKZ+PbzgGxVAjLEA2tpvFEAb709xhXMVQHt+nvDTGRRAwA1N6LULEkA8mIf6eNgSQPeazuAOzBNAlI6wp6fzFEDUOUk1d7sVQKsLC2vfYBZA6YMLTbEfF0DEfSzeDFUWQB3fYlnxexdA2feYDxtDGUCQt/kyw4MZQG27wSwxThtAsASxuJORG0BsFAPw0o8bQC4mZRC+VR1AOLBQl9IwHkD8DE73mQoeQPQeNESo8h1AjJ+OP+f8HEAzSX8Cte0bQJs+Xko0kRxAvrQ+vQDeHECtM83kOYgaQFW1hkihMBpAf+T+MD0ZGUCIeP4IIB4ZQG0RTggKmBhAkZKoCgWWGEAsvJhNEpgXQNplXAlo+xZAcK0gJwKxFUD8gDhxUH0VQDyWekfJGBRAe6QGNALRE0AAUZokFrESQOmvYEfNiRJAko3oA8oaEkBQGHQG9FURQKyAMAOcoBBAQdxKa3WvEEDoRHVRq/MPQHYBjU4EBQ9AwrW8PX9YEEBDxg/kunUQQF56tdJUwg5AaJ5+eOMEEEBqdhLOgQUNQJaiO4QNKA5AZl7Bizl2DEAm1JqH4YUKQKgxk1cWPgtAba8LtGbZB0CWhA+NqIUGQFq3MpyhiwZAlvNC3oo/A0A2FrNERnMEQOmCIG+VHQBAcsSZ4phD/D/8xvdpqt//PxpV/fmLtfg/HGHpZZtz9z/ZMAasA3L3P0yJC1NUyPc/Te+1Jxuu7T8hKayiuMvwPxxZOMb6+eY/4Tt9E7Ym7D80xzuToXXtP3xRi72tIfE/D2R9MCDh5T8/VWmGEknwP0wngJ/dP/E/fzaKHtwL7j/nlwSOXKfnPwi2Yy+oyuk/M7mjfe8M8j+bNSQ/ExDsPyQBdlNLdfM/3c3iEI+i7D9wpp1NdWHnP/5eCxMnEeU/Iz9KuFHo7j9My+ewIJDqP5LwhiQZVOM/G4y/O9Bb3T9C3mk6EIfvP6tEAK2dM+8/vl/n+r1Q6j9Pdn9O+x/qPw==",
          "dtype": "f8"
         },
         "yaxis": "y"
        },
        {
         "hovertemplate": "Sequenz=180<br>t=%{x}<br>v(t)=%{y}<extra></extra>",
         "legendgroup": "180",
         "line": {
          "color": "#FECB52",
          "dash": "solid"
         },
         "marker": {
          "symbol": "circle"
         },
         "mode": "lines",
         "name": "180",
         "showlegend": true,
         "type": "scattergl",
         "x": {
          "bdata": "AAABAAIAAwAEAAUABgAHAAgACQAKAAsADAANAA4ADwAQABEAEgATABQAFQAWABcAGAAZABoAGwAcAB0AHgAfACAAIQAiACMAJAAlACYAJwAoACkAKgArACwALQAuAC8AMAAxADIAMwA0ADUANgA3ADgAOQA6ADsAPAA9AD4APwBAAEEAQgBDAEQARQBGAEcASABJAEoASwBMAE0ATgBPAFAAUQBSAFMAVABVAFYAVwBYAFkAWgBbAFwAXQBeAF8AYABhAGIAYwBkAGUAZgBnAGgAaQBqAGsAbABtAG4AbwBwAHEAcgBzAHQAdQB2AHcAeAB5AHoAewB8AH0AfgB/AIAAgQCCAIMAhACFAIYAhwCIAIkAigCLAA==",
          "dtype": "i2"
         },
         "xaxis": "x",
         "y": {
          "bdata": "ecclD9/VFkCXBN3cCQEWQERN0OzdihRA21G0wslpFkB1am93cK4WQAdZvajVIBhAH6z9bXfXF0AopdYd6xIYQOMJtMUcYRlAyqryEnoYGkDkCJ4CPN0ZQDMPLfMnfhtAbAlgnT2vG0BrZXWmtn4bQBDq7tirGRxAWzzf9CRIHUCIR1hYihQcQO4mGUcqRx1A+c+RWZTwHUBly/yRThceQI/MKPe0bR1AnBbWQqobHUAbBZJFY44dQIGndvhinh5AK6iSYtIXH0DOZjF7tqIdQNGTSPX9kx5AXH2VAB6sHUALjPmePj0eQOi0jaDiTR5AOPNgixQjH0Cg5EFCr9oeQCxC4ZAYdx9A79K1cDuMHUCoTtjCX/8eQD+HlkysFR1AWsj0dxnKHUCmwAfsUnQbQNm0hH+cgBpADaO9Z0cdGUBPCmurwywYQAP2vDHK7hZAgHAilRksE0CiJoOcc4URQLWFfs9+bQxAAydryLxHBkBVkNwyk+f6P2ijjIFCp/M/fely0wZy9T/SoUEN+X/vP2pyUKDFTvc/QY/WK0m2+T+unxgUkDP7P72R0ENBHgBAATU3Ftg8AUBa5PF4fI8EQHw0kJr89QFA4dkZ9ORnBkCnB6xJu0wIQMpV+8K5CwhADjBkW7GWB0BELE7BwrwLQIx2pufEUwtAVMLSkI5ZDUB8XHTeul8QQPDlsNW1cRBA3FnjRy1iEECQi6TqW3YQQJXLRtpQ1g9Aa6m+4wgxEED5TNZJLncQQOm4zdpspw5AH9XkTRdDD0A5dCljbKgPQEbLGwG+1QtAp1s0z9eyCEB0pkJbRy4IQPRxqVIKswRAFLvjMQTHBECxs6e1hB4GQNmN6Lu/5QJAcjXKBzWAAkAiWAXsoLUDQP2wJj93HAVAuqBRNAdoB0DYYlMN+xYIQP1eZiN7DQtAxRrEsrcDCkBSjix960sMQErUYUkv7A5AVENz20kmDkCOXF9iG6ERQAaAZqKGtBFAoj0RRYKiEUD28nUw81ESQCewxqRg8RNA8dG9xSnwFUDIYztJCoIVQHCjtg38SRZA2LkFcIE6FkATU9coImsXQKd6IcSTrRhAPiIv+ny9GUCV5cueRdkZQN4BjuLNPxhA7V7d93jOGEDfZaAMJx4ZQOk3REGNjRlAy1sL9NogGkAAirGQ3RYZQHhBcHiWRhpAPozB6io8GkDy70QIXeMYQIrK5IV1DBlAOdZ3LrwPGUD81M2Sl+cXQBLBe/UpWhhAEC6zoGr6FkCR7vS97gIYQFB1HiX3hxdAuICRoV9fF0BA29xNWVgWQBjCVQSNNxZAY1jsapHBFEDBxvdHdpwUQLgzGG/tghJAd6VaT2ijEkC2ZW4XC5YRQHkzQtJriRBAMkGiXEjVD0DXSa/9VEkOQJVzf10bPglA2tcXjnIpC0AIB+IbuZkEQDXCdbIQiQJAYVsQLHnwAkCVWHACDtD9P9SwB2vow/w/C8ds1QT8+T+Ab7/8kTr3Pw==",
          "dtype": "f8"
         },
         "yaxis": "y"
        },
        {
         "hovertemplate": "Sequenz=181<br>t=%{x}<br>v(t)=%{y}<extra></extra>",
         "legendgroup": "181",
         "line": {
          "color": "#636efa",
          "dash": "solid"
         },
         "marker": {
          "symbol": "circle"
         },
         "mode": "lines",
         "name": "181",
         "showlegend": true,
         "type": "scattergl",
         "x": {
          "bdata": "AAABAAIAAwAEAAUABgAHAAgACQAKAAsADAANAA4ADwAQABEAEgATABQAFQAWABcAGAAZABoAGwAcAB0AHgAfACAAIQAiACMAJAAlACYAJwAoACkAKgArACwALQAuAC8AMAAxADIAMwA0ADUANgA3ADgAOQA6ADsAPAA9AD4APwBAAEEAQgBDAEQARQBGAEcASABJAEoASwBMAE0ATgBPAFAAUQBSAFMAVABVAFYAVwBYAFkAWgBbAFwAXQBeAF8AYABhAGIAYwBkAGUAZgBnAGgAaQBqAGsAbABtAG4AbwBwAHEAcgBzAHQAdQB2AHcAeAB5AHoAewB8AH0AfgB/AIAAgQCCAIMAhACFAIYAhwCIAIkAigCLAA==",
          "dtype": "i2"
         },
         "xaxis": "x",
         "y": {
          "bdata": "v8bhHfNVJEBqiNisTcwiQJekBmgFoCNAHPeqcOR2I0DHn/Rn3N4iQBOv1FHgCCNA9qAwnZFSI0DHhKkTCvwiQPm4DI/MrCJA5gfxmkv/IkCuJOEciLYiQLT1+WKA+SFAK3/akGgJIkCiT8LF7xsiQPEw/0ATHyJAtydcqH+8IUA1ER/7NqUhQN9Nkv4XQCFA+uyU8Z2LIUCKDyuv1KkhQK00eab4eCFA5bTnxd5VIUC5bxE8ILIhQE1bFTBhPyFAerxNXQjxIEB5HBpuQREhQC+qPIGXQiFAirB6SOKXIEDA+gvlkIQgQIc+srDdVSFAfD3TCxwEIUAjFYle0uAgQLHQLmtb9x9ACrb8iw7IH0Bw9vYhCfUfQCIQh2QS4B9AGW4B1JwzH0COKDaHJW0fQFc4wsr7zB1AqJKGLmyyHkANLoUBzUAdQLwx9CnWVRxAwZtyT3ZQHUD662g2zmYcQFEwdub7chlAb0d2I9CfGkAWTRNsm7cYQASaCcshxBhAqXXVjur/F0AgR+sek48WQNlXRF9EcxdAZeUa38WqF0DbLTPqLZ8WQBtxj2cNARdAW4dQ/7WoF0C1VfLt7hEYQEELDIsg0RhAXUFvmjMxF0AkhYsA83cYQHMOBFt5axhA5Oumw1gKGkBne5fZtkUaQLix4pJ8iRtA+Ux7kwdAG0C/pAC2gw8cQNIkCigCZRtAxyq7+6gyHEAejz0Zs/0bQG2FTIbMZhxAcdzpy71AHUDxBFFLe5sdQHi4SOuYFx1AcQPPuOqbHECtQTZ3K6IaQJleaE/q1BtAIywDUhmIG0CdW0nd0ycbQMzTPdOFNRpAK6CWX8oBGkBEWTWW8Y8ZQGgfnRAFmBhA71k3tlzEGEAKXL5nPIwZQOCsI4ypCRlAXrQssuQ/GUB/OoMHhAYbQA6bgzXzKxtAV6dAPCnRG0AJ1NVgTjscQPzW3SmHLBxA8vaI8TRfHUA32U9Uw8YdQNODWaVwsx9AGMKPW45hIEBCtfsg9LsfQBDNAs6BxiBAlt+NYU0LIUBkteQMHNAhQONprU6+ZyFAW058wWCaIkBevbrLVmQiQMFeSs4+tSJAO7LWU//tIkBD1TOVAo8jQMIvpVEFRCNAY44A9CaUI0C9Ewem38gjQC1+lvgWsCNAkwPM71AuJEDOz603lyYkQJqoSI/vByRAdAutBBb0I0DsJmoHQ2wjQJIic4ZxwyNAITHFFaxQI0BH9e9bbp0jQL/4bs23KCNAnQvpbBt3IkBXFsTT5YkiQBy/3VixqyJABrGr6LaWIUAhXyJVm7AhQB6j30DKwyBAd7JZ76CTIED7ArfDT2ggQIOOE6aLNx9AMNxGCBagH0CzTNH8yuUdQA1YMbxjrRxAkfZKZ0PgGUBOXdAnIc4YQAE7qzuFYhhA0MoAx2NHFUApey05wxIUQI8T2n73MxNAJeROyzrhD0CwGl89ZnQLQFiAOEuj9gdA9ki26YJjBUAe+KSGXkX7Pw==",
          "dtype": "f8"
         },
         "yaxis": "y"
        },
        {
         "hovertemplate": "Sequenz=182<br>t=%{x}<br>v(t)=%{y}<extra></extra>",
         "legendgroup": "182",
         "line": {
          "color": "#EF553B",
          "dash": "solid"
         },
         "marker": {
          "symbol": "circle"
         },
         "mode": "lines",
         "name": "182",
         "showlegend": true,
         "type": "scattergl",
         "x": {
          "bdata": "AAABAAIAAwAEAAUABgAHAAgACQAKAAsADAANAA4ADwAQABEAEgATABQAFQAWABcAGAAZABoAGwAcAB0AHgAfACAAIQAiACMAJAAlACYAJwAoACkAKgArACwALQAuAC8AMAAxADIAMwA0ADUANgA3ADgAOQA6ADsAPAA9AD4APwBAAEEAQgBDAEQARQBGAEcASABJAEoASwBMAE0ATgBPAFAAUQBSAFMAVABVAFYAVwBYAFkAWgBbAFwAXQBeAF8AYABhAGIAYwBkAGUAZgBnAGgAaQBqAGsAbABtAG4AbwBwAHEAcgBzAHQAdQB2AHcAeAB5AHoAewB8AH0AfgB/AIAAgQCCAIMAhACFAIYAhwCIAIkAigCLAA==",
          "dtype": "i2"
         },
         "xaxis": "x",
         "y": {
          "bdata": "rw5X1pIKIkCjkmrOsiUhQHuQ4BiosiBAIobfkv2HIUBcFD9nXrUhQLz/1dVyhCFAIAX3eGOhIkC/AHiM+/wiQK2FtzXIbSJA7tZw+ur5IkA81CYxtiojQAy0RSa0QSNAC4gbU/0pI0DPfXcJNtMjQH4fnXU8DiRAwp23voHUI0BMq9no7Q8kQBR8MMr+ySNAjKF1W3a4I0CRFX/RjiskQN7slJqV/yNABv7dFuBwI0AGLLpgNq0jQHkNIqwkPSNA1gGXztutIkCDry7Xv6UiQIj3MyGKHiNA54RJ6RvnIkCXBrX4ZGsiQAIHOKvj3yFA+uWOqCE+IkDPX1i7QpIhQJGi82XDoiFA03Mpb8ePIECraopbdswgQPR3AEoJviBAxXzKBhJpH0C9XByCwT4gQKGv8+L0dR5A5a9yTKu/HUCQqVPxSGcdQIhkfXcuwR1A3oAOpPREHECnQfbka7UaQOxFsU4X0BpA84rIwMtuGUAuHQlUUFkYQKCfB4Cx4xdA4hCMqGvuF0Dst3C6qsYVQLVu3SgxBBNAVfH6HQJeEkB7UfpmUZURQNFM1r/H3AlAH0IeHc1NB0AKc6sK118FQJ8mCKp7GgRAxz8yEdiMBUAOROhvqGUFQBMcMfQIewlAxgxUoSB7CkBftpBzf5IKQLXKs8bKWQxAxUHTdIV9EEDscCnAUTQPQKR6r2Dm5xBAjL+Hw0qwEUAfn3dWxE0TQCOrAyr1GBNAoyxHJ7NEFED79NTqilETQBdmZa9cYxFAwXNX0dRHEkCbfSb8pBERQKg5wGmrFA5A9QUq8W/IDkD6VSobJ/EKQODip4BrdAtABDxS0cc/CEDYP5Gl+4QKQMBQGcqZ2QhAeLWI3BaYB0BkHZy1gxYKQGSWvXY+hgtAvH1qeAhVDECqW6YwHtIMQJri598Y0Q9Adv4pgdR9DkDhdSMgNlUQQIdJCP/TmBFAHF4S+U4VE0A1vovDGH0SQDGOGkYUPRVAXg4JwGv6FEAZSIn34vwVQBNMYcPzghZAMDMZ5At3GEA6nR+9Q1kZQKwgNmj5uhhAuZbJwgk/GUBa5XNCl9saQEm+9p1n0hlASGL+ZfLcGUDM3yfLpMYZQB47YM/bQRpAcoVbz84aGkB+xEtApAYaQOseZv5m5BdAT4p7Om5vF0BSkdJ9iN4WQIwxWRtJuxZAlI904LsWFkDcuXgBmC8UQJ5N5ASbExRAIHJd5H/wEkBog3juIMcRQAcWDTM3JA9Axx0xOx/rDkCkZKZ3l6cLQPI6eq05DQtAiazw2qPjBkCMP+73BtoGQAgBxhASUQVA/fDFK1DPAUDspiw2i14BQDzS/tOj4f8/2mYm1E2L+z94mxZ+8Hj5P2ZuGpJ+7vY/DPM7RPYY9j95vV9vLvb5P0XGHU7Y6vY/XLuB1Fja9D+sleNuPPD0Px14r2OmPvY/shVZ1eDR6D+5VyB+OGnaP2xvVFnnogdAlLX6BOxCCkBcMrO8kHYPQA==",
          "dtype": "f8"
         },
         "yaxis": "y"
        },
        {
         "hovertemplate": "Sequenz=183<br>t=%{x}<br>v(t)=%{y}<extra></extra>",
         "legendgroup": "183",
         "line": {
          "color": "#00cc96",
          "dash": "solid"
         },
         "marker": {
          "symbol": "circle"
         },
         "mode": "lines",
         "name": "183",
         "showlegend": true,
         "type": "scattergl",
         "x": {
          "bdata": "AAABAAIAAwAEAAUABgAHAAgACQAKAAsADAANAA4ADwAQABEAEgATABQAFQAWABcAGAAZABoAGwAcAB0AHgAfACAAIQAiACMAJAAlACYAJwAoACkAKgArACwALQAuAC8AMAAxADIAMwA0ADUANgA3ADgAOQA6ADsAPAA9AD4APwBAAEEAQgBDAEQARQBGAEcASABJAEoASwBMAE0ATgBPAFAAUQBSAFMAVABVAFYAVwBYAFkAWgBbAFwAXQBeAF8AYABhAGIAYwBkAGUAZgBnAGgAaQBqAGsAbABtAG4AbwBwAHEAcgBzAHQAdQB2AHcAeAB5AHoAewB8AH0AfgB/AIAAgQCCAIMAhACFAIYAhwCIAIkAigCLAA==",
          "dtype": "i2"
         },
         "xaxis": "x",
         "y": {
          "bdata": "JOKFgYqJBUD+SQV9sboQQOsfWNw7xRNAC8hjD4vvE0Ab6fTw5GkUQCWhy/qtgxNA9CF6TQqpE0CTvLAIMp8TQAa1hbMnExJAJNrJWMHuEkAUsjUYAqwSQN224hjGaxFAgWGFg0drEEA+kTupjSIRQIwJaMTdFhBAsz2Cw48wEEBrjakNnTIPQEUHLf7NmwpAmtsA2v7/CkBa3ng3R28LQHhurTyRswdAEg1F8LlnBkC72iv4l4oHQKDvvdos1wZAb5ibaR2BA0BFVtelCNAFQEjucrRuNwVA+GwGucN0AUD9c9Jh7UICQJ+ildVV2ABAqni2pD4Z/j9P2qdyAyD3P9o8YsDAXvg/6lFl+45x8j9Km/AIJqnzPy+tIIYIxvA/rlI0TBZu8z80fLfylwD2PwCmqmqscfI/Woi+2Iox6j9wT1m5pc3lP00eFXkuZ/Q/Y35SZeLm8T/rW2EQ4J7hP/V9p3c1z/M/qVPcjCA16T8oHkkMfLrrP7Y+PEm+XuM/PVfg3HZw7j+ylAy0naTvP+huwTyT4d4/43ek92me8D9MoScJRZfzP2nHEYCZNPI/a+T1fTHj8T+I1DxRTUHpP6gO2mY1mvE/ndNBYSJN+D9eUsCHwmb4P4g3UWA4s/c/OEOsRfpNAEBs6d7r0w78P/MRBX1jJAFALYDgbPH+AEAWOAl4/WkDQMAUK7UpgQBADBt9dqFPBEDkuG48S3kAQE8tUkZkwwFAQNMGKH6w/j8Pahl8vs7+P1mloTJx+AlAY31Xitg/D0D046qqBv4NQFZ3QcK0rRFAXHXyQfttEUDz6Ax+9nUSQLCptHPKChRAKU9xPH/vE0Bx3lHVFlMTQGQjl5LDDRVA1W6XO/p7FECGK5jQVC8XQHLNo0APPRZAYvpgCovJGEBjUdWRvqwVQPJN/qiTxRRAcJmw8KESFEDo+h/dlMETQApBGYay5hNAmp2qpN5gFEArXwDnmTAUQMghkyYKURRACtqyr7qZFEAnxoHreQsVQG9X+r1/aRRAGy4PSguiFUBHIxNnKewVQM84vps+IBVAiKhjah0cFkBkV6PSQZ0VQM7UZOtvaBZAeWak4em2FkDyDe4e/FcWQJYJmi87kBVAZ+F5BTn8FkAN8ksjFHwWQPSoUmTAixVAOh9hUiUaFUAo0eCgCbMUQFAqDrl40BRAUOYR/qziE0DG8CLmuSIVQFPf0gF22BRAJoo36NTLFECrR2M8JsAUQKqZLPi4HRRAjKtCV6csE0A3pA3GOtMRQOkdUn7AbxFAwWTp7m6kEUDEdE6bgaISQEZYpqrjWBFAnLU35bQQD0Cb0CWASowQQPR9CzWfDg9Ap7AK3gvSC0CF5Ii9p0sJQA3sY77GZQlAmgJLlc+8B0DOaNRbQasIQP95lOJcBwdAiAGpTMAjBEDRmoSC0MYCQEeYrJcEaABAiZziZxG1+j/Jjwjzgc7zPxoqHro9V/k/l3uvdHAGCkCZUv90flkMQA==",
          "dtype": "f8"
         },
         "yaxis": "y"
        },
        {
         "hovertemplate": "Sequenz=184<br>t=%{x}<br>v(t)=%{y}<extra></extra>",
         "legendgroup": "184",
         "line": {
          "color": "#ab63fa",
          "dash": "solid"
         },
         "marker": {
          "symbol": "circle"
         },
         "mode": "lines",
         "name": "184",
         "showlegend": true,
         "type": "scattergl",
         "x": {
          "bdata": "AAABAAIAAwAEAAUABgAHAAgACQAKAAsADAANAA4ADwAQABEAEgATABQAFQAWABcAGAAZABoAGwAcAB0AHgAfACAAIQAiACMAJAAlACYAJwAoACkAKgArACwALQAuAC8AMAAxADIAMwA0ADUANgA3ADgAOQA6ADsAPAA9AD4APwBAAEEAQgBDAEQARQBGAEcASABJAEoASwBMAE0ATgBPAFAAUQBSAFMAVABVAFYAVwBYAFkAWgBbAFwAXQBeAF8AYABhAGIAYwBkAGUAZgBnAGgAaQBqAGsAbABtAG4AbwBwAHEAcgBzAHQAdQB2AHcAeAB5AHoAewB8AH0AfgB/AIAAgQCCAIMAhACFAIYAhwCIAIkAigCLAA==",
          "dtype": "i2"
         },
         "xaxis": "x",
         "y": {
          "bdata": "5ELiWLICD0ACl3qLr0YRQPZPyoVsChBAaA9f1m2PEECcCsMmhoEQQFPCoBZRRBBAgJJmjCdkEUDQREPIpy0RQHVfcIAXARBAY+G50O4XEUBJ62JddhASQCie/44R/RFAGqTz7k3pEkA/eNxWk3gSQIV+NPlHURJAiGomxeqcE0DLZs9rimYTQBQOANfAoRJACzNuplVxE0Dropn9t8wTQPwcZmWqFRNAJ/hBG9qhE0CR7WmVeHIUQFY/u0wZTxRAHLlxoy5dFEDum5Ypxn8VQE7kltayDBVAjQffB/abFUCzwKyIY5kUQOBOo2OVMhVAjjMCXmz3FEASlDux89kUQPT4ow3OqxRAfcYQGvUcFkCZ9XN4roAVQIX4RF2BPhZAHvsDtbpqFUAgvPUS4ksUQBUlObwCDBVAboklQl9kE0Cxg66UIt0TQE9eHPEuEBNAb8y+5kyZEkAngb6YnUsRQDhkvasFZBFAZiOzbZGAEUBBzxJkcy8RQOj6S6kwXRFAmVc+kVOgEEBMq7fJAYAOQGPfporPXg1AYe9CDzvOD0DjJE+2eFAOQG4c8qgNAxBAZIeiK8RHEEB75qBCg7MQQO7fyY9bhxBAeRKJk0KpEkCXLev6Vq0RQC27TsRHahNARkrjU7JhE0Aa2bFdyWcTQHt1ESRvKxVAF8luxN/WFEBkGrDsZo0WQHx6dssO9hVAMdjZr2rcFECqcmxRJaIWQJ3lNCe46RZAWDWsnkOqFkDtC1eD0xUWQFG9yB0l8RVAS4KOoRNAFED19VBKWDIUQGktRk6kDBRAfjuex+/BEkAf92XJPy0TQHpABXN3lRJAiDbAgVlkE0D0nXkzI6cSQK9VaBaECxNAIWo3JAyQEkDzc6T3uiITQBeKuPWdwBJA0lyAzW0pE0AQFZypQgYTQM9jpUkWLRRA8h7n9AJzFEBT30LHMG0VQBu1RvzchBVA/Cw7a1Z0FkC6Za/KWZ0WQEBUfUD6OBhAwI304NbLF0DyuOOGx8wZQNkciuswuhpA34WexMY3G0DmVkQboEgbQLjLPnupjRpANJVwYbd2GkBifWwup9caQCJQZupCehxA9WtDWAKXG0CowVIl/gscQLZtJY9qaxtA+Mq1j7gBHECxfHXwnVAbQICkdCvh8RtAOdCKgcJjG0AiasiCmjAbQMNaAgHzuRlAkSQvOcBWGUDIvyGlzS0aQGdnnax23hlABleMyUTkF0Ds0r6yOQoYQJ+feghQOxdAeXclKhIZF0BY+orjm9sXQKvxziOaqRZAlo/DIhxXFkDajhYMKugUQOfjhnwTPRVAEAt7FWnLFEBh3N9IxI4UQMC6vF7q/xJAcN1Lhj9KEkACqDgJ9rQRQMw9CSu0jxJAD5XXh0dCEUBLYGuEpLgPQCA09WaATxBAh1ub/tgvD0B0Kz6GrfMOQGne427HAw1Ab76FGmGgC0BrLvJEt1oHQOPhUg9QdQVAH7l8Jk3cBEAUoh6cQBgCQA==",
          "dtype": "f8"
         },
         "yaxis": "y"
        },
        {
         "hovertemplate": "Sequenz=185<br>t=%{x}<br>v(t)=%{y}<extra></extra>",
         "legendgroup": "185",
         "line": {
          "color": "#FFA15A",
          "dash": "solid"
         },
         "marker": {
          "symbol": "circle"
         },
         "mode": "lines",
         "name": "185",
         "showlegend": true,
         "type": "scattergl",
         "x": {
          "bdata": "AAABAAIAAwAEAAUABgAHAAgACQAKAAsADAANAA4ADwAQABEAEgATABQAFQAWABcAGAAZABoAGwAcAB0AHgAfACAAIQAiACMAJAAlACYAJwAoACkAKgArACwALQAuAC8AMAAxADIAMwA0ADUANgA3ADgAOQA6ADsAPAA9AD4APwBAAEEAQgBDAEQARQBGAEcASABJAEoASwBMAE0ATgBPAFAAUQBSAFMAVABVAFYAVwBYAFkAWgBbAFwAXQBeAF8AYABhAGIAYwBkAGUAZgBnAGgAaQBqAGsAbABtAG4AbwBwAHEAcgBzAHQAdQB2AHcAeAB5AHoAewB8AH0AfgB/AIAAgQCCAIMAhACFAIYAhwCIAIkAigCLAA==",
          "dtype": "i2"
         },
         "xaxis": "x",
         "y": {
          "bdata": "bcy5jwZ4JUA0q6PyILwkQDIf0mlCiCRA1P+A55neJEDMWpifoqskQGdbesCevSRAuY5HIYjgJEAyORLcv/EkQO2TuFK/FCVAEtwikpCaJUARAHJ8N4clQKWtDv+lGSZA4o3opRilJUCamD5h0zYmQBlGwrdCGyZA5tkMTpqWJkDtxq3yL0YmQMJ9maCoAiZA7cOCPGrdJkDXv5OUbckmQD6vE0EB1iZARh0SK2u/JkBqKXjnZqcmQF1eSyOa0CZAr67yK61LJkDz+yPfL+wmQGAT0rFhTSZAtR4VA21xJkAqg2DThCsmQCRIN3rlfSVA1XqVFk92JUDNBaWJiU0lQA5+aqMariRAUUaSTcKOJEAjVuiLgnkkQO7h1f1LLyNA3YmKrEhLI0AARQwFZDwiQDoqotRUOyJA0HL3oDQrIUAcmp8CnnggQGcq8rCXpyBAk/vH5yksIEC7LuixDc4dQJ4kV55nIR1AG003qg7bGkCCn1VSLvMZQAENMTkSuhhAGS+RSaktF0CFxICbdQwXQKoFlBn9cBZAF370xk4RGEDKMcmtfzgXQPh5zzV7kRdAIfT07s3nFkAhFVHkhwkXQNfxOeQSqRZAsR5ecGNzGEDSmXevXowZQA2sb54QThlAk0KY7iB8G0DjAx68gpkaQPuZ+aKk0BtAb47GbpDDG0C81mvBbS0eQKT40zxGih5Ao+EAGRpqHkCG3RuCBcEeQDUGYoZh5B5A7mIu2WWCHkCKPmp2KQEfQAx5OKnuHh5APzyLIIj4HkAn+azaRbYeQM6p9g8G7R1AOEVoB/VmHUCeHzddbHwbQHS9TSSkyBpAXIzFlSyrGUBhWm2f6NQaQMAypBbv+xhAZWWjHFbxGEDZVRgEAzsYQMNYQg9xLhlAOo0Xz7XfF0C5J7KXlbcYQFmgckVLPBlAeexedlo0GEAOexBLfzgYQJpYIiSB0hhAvAyRPlR/GkDCitcvdo0ZQJzf8Gn6xBlAmEcCVOYdGUDqz6z0Pv0ZQB4Qxt7wwBpA+exPmw6DGkAmYlKwMEsbQLIFYtr5/RlA0nESxPK9GkA8vkUQ798aQEEaasHSwxlAZKsqBTITGkCc2D0f5tgZQHdjbtkrSxlA0vKeQnvMF0AOEb7gEmUXQAh6MlJo+xhASliAmaSQGEB1/0epplQXQHtLnAETMBdAeJd8ZgcLGEDubAfnlfoVQFID16d6eRZA2INghCNrF0Bd3FQlDQ0XQByl9ckGAxZARKfVRBSkFkB1fp1WpM8WQJL90FlCoBZAoaJnAiKXFkDxVcZRslEVQDu5zQ1srxRAzTq1DvQiFkApfjI9aa8VQCxiao5FvBRANtURNfqyFEDjrIqI+YwVQF3tIcZj2RNA5Jh00dM4FUDidKwdEAoTQNAzewmerxNAoRdoiA5LFECuzenGQqQTQEmO4cY5FhJAOfigpWIqE0Di0dcfnNUSQGG/w2odmRBAk51Wj8R6EEBw7kG/d80PQA==",
          "dtype": "f8"
         },
         "yaxis": "y"
        },
        {
         "hovertemplate": "Sequenz=186<br>t=%{x}<br>v(t)=%{y}<extra></extra>",
         "legendgroup": "186",
         "line": {
          "color": "#19d3f3",
          "dash": "solid"
         },
         "marker": {
          "symbol": "circle"
         },
         "mode": "lines",
         "name": "186",
         "showlegend": true,
         "type": "scattergl",
         "x": {
          "bdata": "AAABAAIAAwAEAAUABgAHAAgACQAKAAsADAANAA4ADwAQABEAEgATABQAFQAWABcAGAAZABoAGwAcAB0AHgAfACAAIQAiACMAJAAlACYAJwAoACkAKgArACwALQAuAC8AMAAxADIAMwA0ADUANgA3ADgAOQA6ADsAPAA9AD4APwBAAEEAQgBDAEQARQBGAEcASABJAEoASwBMAE0ATgBPAFAAUQBSAFMAVABVAFYAVwBYAFkAWgBbAFwAXQBeAF8AYABhAGIAYwBkAGUAZgBnAGgAaQBqAGsAbABtAG4AbwBwAHEAcgBzAHQAdQB2AHcAeAB5AHoAewB8AH0AfgB/AIAAgQCCAIMAhACFAIYAhwCIAIkAigCLAA==",
          "dtype": "i2"
         },
         "xaxis": "x",
         "y": {
          "bdata": "lu5bpX8TE0DarFEoyfEWQPchFnknaRdAxjN5FymxGUDCPf4NkhkaQCflcL/vAx1AmtguoSRuHkB+UvuAJhsgQMJr4SZmFiFAIG43D7aJIUA/HLh2WlohQIe8otGYxiJAcb6nW6oJI0AbZtpMzEEjQNM+8NwuuCNA/FWbGBiQI0DKm4CrAhokQGlfgV58zSRAXNWQ9JE4JEDmhtnW8P8kQDraVdthfCRAjFgqlsIlJUACnEQOgHgkQISS/gCeeCRAzS1m85iSJECAkaLnRKokQOzPy7m7tSNAiufepqBAJEDw+VT5UsEjQJLSxUA5CyRAtXiavQ4EI0B1IpHEZ5siQF4297afyiJAPVsyxdvNIUDlRMSLDRMiQDxhfZpVMSFAec8R4bz1IEAbjrs3BzAgQPg9YGAuBR9A1BVsh67SHkDwqr9fpLseQEiqusuIeBxATomCf5b+G0DdTAZvipsZQEJwmr3ruBlA3NCFV0ZpGEAphmakZkQWQGucISqpJhVAgQVKkgNqFUAA1g7UjdcSQNFpAbahwRJAQ4EZor+QEUB0fVuBUO8PQP/lhF6rvA1ArwiY3ttRDUDjDjxflcMMQBmq7cCERAtAhYeP7PylB0D70W73PDkFQM8+CnYFFQdAJ1zRJda5CUBtTmMdrYgKQPl5AnyxxQlAiBSzqJ/6CECG1cqYBmYNQKLoMKG7pA9A9ieqWfH9D0AsyD2xGAcQQNNlutLjIBBAgWLzAb06EEDjoCqA64IMQHBCLlbaQgxAfwNDpL9gDED3zOARhgIKQBDEkOaONwlAnpTC5UitB0AedxXBDnwFQDI+25hDLwdAxKErhVGrBUAgOhQPvNoDQGqxmAz+swJAjdHdcHuhBUAw6vowRkQIQNn0zuPu1AhAg1FhzafHCkA1Gzl4UHIJQJ1UYDM/hApAHh0EKa4IDkDFiYoAPbgPQJCgQ2YiHhFAZ2EyfBJJEkDWBcVkdT4TQDXXSONhzhJAbqIsyZk/E0BKmLsHy/MTQPDg6Gu1zxRA0ItdFo12FkAdV582NY4WQPXIiMTy6xVABhqMEi+cFkCP2NjsLl8XQH4MqP5AwRdAK5D8fGZBGEA24J79GZ4WQEnp6XVVjRZAzaaBZkRKFUAozSVgQf4UQKBetPHJyhNAVNVURdu6E0DXyqX4Nf0RQF0y15+OQhFANNRhNuYGEUDB0abwCl0PQEGXvgV9gg5Amctl4eWzDUB7MSqiCysLQOoDat+8IQtAEKHaAAPqB0CjNxQ1qo0EQJy7USDo4AJA0p0n7HF4AECYo8oX9TkBQGRyHGPVVgFAYYQ3S9Fl/z9Oc3G21H/4P/tMQ6zSBPc/lk32D1MQ+T/6WZg5mjH2P7GrYCvq1O4/mhN8WC/F8D/OGs0p4ezuP6YTzmuyGPM/mrMUVr8U6z+QxShbAuHvP/71jGEaies/jXS9z7tQ3T/wjKnFjjbwPxOk5sc8OOY/oUH77uf54z/4EtEevA7kPw==",
          "dtype": "f8"
         },
         "yaxis": "y"
        },
        {
         "hovertemplate": "Sequenz=187<br>t=%{x}<br>v(t)=%{y}<extra></extra>",
         "legendgroup": "187",
         "line": {
          "color": "#FF6692",
          "dash": "solid"
         },
         "marker": {
          "symbol": "circle"
         },
         "mode": "lines",
         "name": "187",
         "showlegend": true,
         "type": "scattergl",
         "x": {
          "bdata": "AAABAAIAAwAEAAUABgAHAAgACQAKAAsADAANAA4ADwAQABEAEgATABQAFQAWABcAGAAZABoAGwAcAB0AHgAfACAAIQAiACMAJAAlACYAJwAoACkAKgArACwALQAuAC8AMAAxADIAMwA0ADUANgA3ADgAOQA6ADsAPAA9AD4APwBAAEEAQgBDAEQARQBGAEcASABJAEoASwBMAE0ATgBPAFAAUQBSAFMAVABVAFYAVwBYAFkAWgBbAFwAXQBeAF8AYABhAGIAYwBkAGUAZgBnAGgAaQBqAGsAbABtAG4AbwBwAHEAcgBzAHQAdQB2AHcAeAB5AHoAewB8AH0AfgB/AIAAgQCCAIMAhACFAIYAhwCIAIkAigCLAA==",
          "dtype": "i2"
         },
         "xaxis": "x",
         "y": {
          "bdata": "68+AeJ4yI0Bj5YKqUwQjQJTYiBBk+CJAn1xvDswqJEBh75fBVDQkQKlPlp6UpiRAS8ZdPpR/JEDAyM6L1vEkQCWKRjuE5CRAVlnUiJKhJECeJPtgIb8kQGYyiiGfsSRALsCmScHKI0AVPGbIceojQHXw8VaymyNALgUzGkVqI0BegahGGYgjQJpCPVh9qCNA4EGYQB3+IkCAXcJAwf8iQHB+2ZqicyJAAVUwTEVgIkDvbaIPRNohQLqwgqpaJyJAuRxR3iO3IUAxgDroiSUhQO08ZdgediBAFSpGYstVIECQ0+jTDQQgQNIa1cZCiR9A/iSPQFBsHUCzwvacVm8dQKEuvdqu8RpAvPsN96mpGUC8S3Rb4cMZQF+w0TQTnRZALAdQF8asFUDaTK/7fygVQIjNgETeexJAz/14Qv1bEEB/NUNtqSUPQPYjbCW1IAxAnHtP0KtgBUBnSTUKL5UEQCfCknXawgJAK6T9VWkjAEA9k9qXPTf7P2cof36TfPY/v/11h16g5T9SgiPM/VD5P3TbIoJqEvo/KgB7g86r9j/AraXyMun6Pzh1hHI3U/4/RTgftEFyAkC+MKe4L90AQKJlGY4DTgNAwsrX3ElsBECOqQ95pOIHQADnky2UfglArgxLwsgrC0B08bCd+hEMQD5nloLR8A5AMawmZXX8DkDyBgxx1ccRQLRolzrglRNACn0Y3GTRE0Cjucv/sRITQCZDYqPRahRAJBRyIrrKE0DudFmR3GcUQCTuUHIOyRRAYGE0zvjmEkCNa5IkAToTQDqulbw+3xNAx/3G0wJkFUAau6dC5fkWQLjWFb7u4hVABlps4WqmF0CAm54n9wYYQD3tKo17tRdAiOgEsOwOGEAA0aFiwtMYQAToJZHJNhlA8Rtj9a+tGkDKSs0JVNoaQLqTv/UjVBxAhnt5RvRZHEADxvhcPx0dQLzmFGycxh1ANKbVVaHbHEDf+sozR4QdQFkyiKUZFh1AEjtenqfiHUCu0X9WuRYeQFCUPic9rh1A4T6mumRAHkCGBdeF1QgeQHxdMx2uGR5AW+FB8eKhHkATNwLXBLgeQNQ8hsfhqR9AIz9P8NKrHkCr7BO6dCUgQPRaF8jU9R9A92c+Hp7uH0CtBpJd9BgfQMerEsLm6x5AKNC+IW2LH0C73+Z932EeQKalHN/X8B5ApxHMkX3nHECcxSwAc4MdQLP2rpEhjhxAmmYmN1dPG0ChZISZrQcbQAYjGEI4bRpAvESw7QtyGkDMiUtF57sZQFUUwh3m1hdAfo4Uh0vSFkDyySB55+IWQB6btu6v2xRAfDTaLpBYFEBrZ1fZc2QTQPM+d+davBJAAi/w6lrDEED8woKOXSwPQPnI4+q1jQ1AtimiE+PnBkBxTaFx5UgIQFLcCDpBAQVA/u3CR/kEAEDikyjqV6oBQAXil/YyvwBAUx9Z8aZA/T8M7X+HcuP0Pz8rg5LPOPk/4X5eVwqh8z8ummS/XPwIQA==",
          "dtype": "f8"
         },
         "yaxis": "y"
        },
        {
         "hovertemplate": "Sequenz=188<br>t=%{x}<br>v(t)=%{y}<extra></extra>",
         "legendgroup": "188",
         "line": {
          "color": "#B6E880",
          "dash": "solid"
         },
         "marker": {
          "symbol": "circle"
         },
         "mode": "lines",
         "name": "188",
         "showlegend": true,
         "type": "scattergl",
         "x": {
          "bdata": "AAABAAIAAwAEAAUABgAHAAgACQAKAAsADAANAA4ADwAQABEAEgATABQAFQAWABcAGAAZABoAGwAcAB0AHgAfACAAIQAiACMAJAAlACYAJwAoACkAKgArACwALQAuAC8AMAAxADIAMwA0ADUANgA3ADgAOQA6ADsAPAA9AD4APwBAAEEAQgBDAEQARQBGAEcASABJAEoASwBMAE0ATgBPAFAAUQBSAFMAVABVAFYAVwBYAFkAWgBbAFwAXQBeAF8AYABhAGIAYwBkAGUAZgBnAGgAaQBqAGsAbABtAG4AbwBwAHEAcgBzAHQAdQB2AHcAeAB5AHoAewB8AH0AfgB/AIAAgQCCAIMAhACFAIYAhwCIAIkAigCLAA==",
          "dtype": "i2"
         },
         "xaxis": "x",
         "y": {
          "bdata": "yLbWYrZcJUA3FvtcChskQPqRIYBedSRA5bYrCpCVJECWSDspZMskQCgs1UeJkCRAMjmRDBS/JED7MyPs2t4kQAvPDOa00CRAvjrlLm9IJUBmS9E7CJMlQP5NwNDPdCVAMu29JYZhJkD1zIdKch0mQDJQx7u0NSZAhUjS6RZaJkB5RfYS4E0mQBB7zuVHEidA9beYdM8NJ0DmJp32PJwmQOS6DQmU+CZATyMVQgZFJ0DUfuyKjJUnQNghZ3fy4iZAr0ebj1soJ0BNm8YEp0cnQK5Yo/FmjSdA5jG0WcX1JkCjGUtkononQBHULoCbvidAiKSKvHCjJ0DTP+mFzFAnQJHXJ9W0DSdABn4okMh9JkBe4t0TrTAmQGEYOFs89iVAsfkEFB9kJUDpvgbern4lQBONKu+9dCRA3uF9pB8NJECwrVMkeFkjQGfVF2OsFSNA6EbqoT2RIkBLjCcHjF8iQNtu3y0/1iFArImqeBFLIEAV9M4Pb3QfQEKwIPlXKx9AnaQGv+AoHkBxE9tbpyMdQCjMb3Ab8hpAqX51A6VzG0AGI8rdrEAaQDNp2RUE8BdAPs99kNAuF0DYo9L0t6IXQAMBVVwlAhdAJqGU/zK+GEDODSVpSMUXQCTMxVJpehhAThRd7YUHGUCFqjkcd4saQIcEpibqIhtA09nDLLtNHEBE3M5VdQIdQMAb/LKcpxxAcPzXSiSOHUCJLMfxrMEcQLmy+NwmRx5Ai+LOLwYqHkCwkkZLd0AeQIy4OWxhLh5AZNZz4kKSHEBXzgMgi6McQGeAN11x8xlAk6wziItFGkBYPHHDfOgYQHvR0kQf3hZAFVCFIse8FUB3qx/ZfG0UQJomY4J4IhVAdZO/TnuBE0CboqiTykMUQKK9W5XceBJAt/VFyOyPE0A8jlRfkaASQAIxWN+rExRA5Jy7djz5EkDkyWHZAfQTQB0aiFPy0hVAhIRk4UvRFUCOUFjqSCcVQI3QpuVv7hVAqhQXf1gJGECYmjGmai8XQE8cNUNnmBlA7JvTX7dXGkDdSoEloFMZQGknaSsGhxtAipO/wVtZG0C/VQ4lCFobQKOdYWGuHB1AutJNeEhSHUDquzbohxcdQJ+HRQ0WBBxABC4Eaq3lG0CeAm8/uAQcQMkMyFzpTR1Aq+DDs4WkHEALaqjZrOwcQAzNEk35WhtAD7RwvunDG0DBcaAde2caQO5dSRtryhlAmWs8Ex56GUDJxXtKvH4YQL8Mnl3XjxhAyUkPwQHiF0DgmXQNxW0WQA55XOpEHxVAM1t9cvpfFUDsBesk+N4UQK5hfq6lFxRAcq37G6RTEkDRnzY07FsSQKzXsYpFORFACBW7EvUcD0CvGGvuS6YOQL5POY0h7AxAKDXqavrkC0AqA1p4G4IJQEZuUGvqrAdAvXms7U6FBEDWwHsAi2kGQCaE2YuXUQJAN+C/ez5T/T9D++grJCb+P+pSP0/fsvI/ep/zNPCL+T/0VFGtRWHsPw==",
          "dtype": "f8"
         },
         "yaxis": "y"
        },
        {
         "hovertemplate": "Sequenz=189<br>t=%{x}<br>v(t)=%{y}<extra></extra>",
         "legendgroup": "189",
         "line": {
          "color": "#FF97FF",
          "dash": "solid"
         },
         "marker": {
          "symbol": "circle"
         },
         "mode": "lines",
         "name": "189",
         "showlegend": true,
         "type": "scattergl",
         "x": {
          "bdata": "AAABAAIAAwAEAAUABgAHAAgACQAKAAsADAANAA4ADwAQABEAEgATABQAFQAWABcAGAAZABoAGwAcAB0AHgAfACAAIQAiACMAJAAlACYAJwAoACkAKgArACwALQAuAC8AMAAxADIAMwA0ADUANgA3ADgAOQA6ADsAPAA9AD4APwBAAEEAQgBDAEQARQBGAEcASABJAEoASwBMAE0ATgBPAFAAUQBSAFMAVABVAFYAVwBYAFkAWgBbAFwAXQBeAF8AYABhAGIAYwBkAGUAZgBnAGgAaQBqAGsAbABtAG4AbwBwAHEAcgBzAHQAdQB2AHcAeAB5AHoAewB8AH0AfgB/AIAAgQCCAIMAhACFAIYAhwCIAIkAigCLAA==",
          "dtype": "i2"
         },
         "xaxis": "x",
         "y": {
          "bdata": "y9FuRT1PHkDyPhgmBAAgQFHfBpo9LB5ABEaf7K/gH0B3X4zAxRogQGC2at+sIR9AqpzX0B9CIECzuq/+9oggQJkXaiknESFAiGG0hu/OIEA2GjXhjoghQK1pxLJWvyFA6bruLUcWIkA/TxfPTS0iQA+wC+FGICJAlJY2mEiMIkCwkAOKdqIiQK68CUkHYiNA2csm7M05I0BE/QZlUcgjQE19S3e0WCNAAoPfCHApJEBvjM8BNnckQCsuvpgCdyRAo7v0C3U7JEA87CizWucjQLeU/qzjNiRA7KdNTYt3JEAELJEv7OsjQMUnkmpkuSNA+kwuBMUnJEDsGZ2vwmsjQDpZ8I24YSNAF6kkITCUI0C3Wk+j1/AiQBvjBgd0VSNAsYdNlDR0IkAHDDTCSAYiQNCfNQXc7iFANDnUSppLIUAwQAiLcNggQLkOiqF5ySBAQnxnsMglIEBTEInDlsceQM3MQDdVuRxA/O4VvwLnHEBhx6pDpKQbQF0pLRfofRtATVC8UaJ0GUBDmFxEA8UYQMeIZFEW3xhAdp3tGfPNFkAmJ1V+BIoXQNUgOE8HshhAVDDW7QtIGECICIX7usMYQEV9/7cduBZAk8R5adpKF0BUosk6B4YZQHl2/IB5fxhACo3ddiRQGUCC91Br+dQZQI9ko5f5pxtA0mptmnqsHEBp8ZSmhvQdQH2P8sVwYx5AZ4g48EaLH0AVH4dcU+oeQC956k9azB5AhDI0Kmx7IEB0kOEtSaEfQOHGVGIeSSBA1THtlFEKH0BPjHaG9UAeQIb3zLUTWh5AoEcPgiqVHUArH0VbIxMcQMkPCc/r1RtAWScrg3uVG0Bbd3tQ8FAbQKRdNh2TvhpAnIpmKZK1GkDOt0J4wwcbQNu1JwIWaxpAmkAkhfRWG0DcD/r5HuUaQJ2UOB7nhxtAvCn+zGlCHUAPr0u+2kocQFroo2F8tRxAjAONChDoHkDyglYHTOEdQP2ySlqR5B5Aj3MKh7fVHkBqLYUyU/ceQL00ffMh2B9AEDrWClhGIEBvW63kTOAgQFX7YzrzEyFAW7hPsjjNIEBZsPTbG6AgQFtUTmGxlyBAXM6QgQWoIEARsNU49vAgQAZ33A7NYyBAo5+07L+VIEBpXgeXTQwgQPehzB6d1B9At+P/gALbH0DoQg1r3Q0eQH5NIbac+BxAq7kgKJC5HEC+k86q85AbQK4Vv71F4xpAUpX780ruGEBL067HOQUZQGg7ph0gQBdAKAJ5REUFF0Agekcwp7wUQHzKyqcUVRRApJ3BZdh8EkBQJpVlADMSQMdHUud77Q9Ag71fDdcUEED/qvZDVWENQLUsA5KOQgtAnaWitus0BkCO31FMH3cFQN9VWXo0kwJABQnxezF/A0BwV4kOV58AQGu6bqxBuwBAp6qlCMRZ/D/dcQkn0rj1PzCApmHMp/E/NsqqXqpp9z+B4sM6i8nyPy5Y14gdu+o/3nwweERg8j8jWyq3+tndPw==",
          "dtype": "f8"
         },
         "yaxis": "y"
        },
        {
         "hovertemplate": "Sequenz=190<br>t=%{x}<br>v(t)=%{y}<extra></extra>",
         "legendgroup": "190",
         "line": {
          "color": "#FECB52",
          "dash": "solid"
         },
         "marker": {
          "symbol": "circle"
         },
         "mode": "lines",
         "name": "190",
         "showlegend": true,
         "type": "scattergl",
         "x": {
          "bdata": "AAABAAIAAwAEAAUABgAHAAgACQAKAAsADAANAA4ADwAQABEAEgATABQAFQAWABcAGAAZABoAGwAcAB0AHgAfACAAIQAiACMAJAAlACYAJwAoACkAKgArACwALQAuAC8AMAAxADIAMwA0ADUANgA3ADgAOQA6ADsAPAA9AD4APwBAAEEAQgBDAEQARQBGAEcASABJAEoASwBMAE0ATgBPAFAAUQBSAFMAVABVAFYAVwBYAFkAWgBbAFwAXQBeAF8AYABhAGIAYwBkAGUAZgBnAGgAaQBqAGsAbABtAG4AbwBwAHEAcgBzAHQAdQB2AHcAeAB5AHoAewB8AH0AfgB/AIAAgQCCAIMAhACFAIYAhwCIAIkAigCLAA==",
          "dtype": "i2"
         },
         "xaxis": "x",
         "y": {
          "bdata": "YtWckFK6GkBvf2zz9ykcQJ1X7lY0BB1AyKqAoKRZHECAaN2mwFceQAoV4IZzwh5AK5ysiXv4HkBW8u5s+bEfQIW6G53lYyBA4gvqoKuLIEAypChemxchQEG/uQdNkyFAU8GQiDXFIUAKemNFuyIhQBcOmUZHxCFAKlOrUG2SIUAX12ZrMiQiQFaqyfUcFiJA8PVKKeLmIUBXMGZw3BIiQNnEq7GhdSJAAnNhFMTOIUCnb0/wt6wiQK7/kpSVMyJA6xG1501WIkBcIY/g/qchQPXG65nJOCJArU46Q+HPIUARYn6R8BUhQBNdn28URSFA3ORTd0uiIUAlMhFwfa4gQKu9UOJBgCBAJdRb0UJxIEA5oz5PzG8fQGpCStkGRSBAcPQfgPMGIEB4x6VxZPgdQIsMwXOzbB1Atag0lmijHUA9xV9kXyUcQIxTeuWGhBpAiNjI/i+pGkAX5aZPpOwXQMvX2hQlbhhAwEZBysKyF0BvJfGqg14WQH3D0b+uwhRAOa3Ipd50E0CKB/RG7MwRQFINOBn7cRFA576L3WhiD0DLFaRi754MQB8zUjdlSQ5A8SNzKOQuCUAV5HY4hVwHQLPdQBv0FgZAIIz0/j2ZB0AlMywjj/sGQIC2CNfQ5AlAJYu9NSf/CUAqRNG5JWoLQP2TV3ryhwxA2Eo1CuyAEUCb3NZfsGURQERPTGRtYxJAonhDUbHYEUBijc4mEA8SQPW+D3b/lhNASJH5hOPME0BBeB9iaw0UQK4jNDF1bBRAFeT2rJXFE0BfJQugxS8TQOF2IoJTMRJAlut7tczGEEAtCJxJVH8OQHMJ3P1Ibw1A0VZTgtrWB0B/V3CF+pgIQNa784UYuwVAPo4ztC7GBkB1h4CgSSIFQMMHKEOiAQZAuH1lTFbKBEDsV1U03IwEQDDkCoVr+gRA7acjB5EQCEDgeSNhqLsIQN9IRXQ8CghAVIBVx+ZOCUAHQTDUJx8NQB2MbsvUZgtAR9LbgpG3C0BSNiV3C4MMQAIRoySjcwxAnnDKytLBDkB0pRKHxlwQQHEsE9f5BA5Alvp4fCtbDEDWgGotKoAOQIit0Ig1yQtAuNUPkDPnCUC0Inoa5JkJQBrghbBG7wRAwtzv+cNQBkBE0hlkT8MDQDsJdEapSABAif6u+np3AUB0S6PLFe4AQOquUm0iSfg/N/8Ih/DM9z/4VFky4X33P5IgX9idpfc/rFscz6a38T9zGo40W6/zP2OGyEMMDus/2DJSNqr75D9HD0JAUp3pP2wyOhR7De0/fe0VJzea6j8KcJH93O7qPyp+QmRjluY/1e6UY8bt5D9II77F5i3YP+jHxpeeM+c/WOSUFqGu7j9u0emuRVjlP6Wgd4pH+eM/fR93usnu6T/o4DB7yX3lP8FbqAtVbec/5pkSao0l7D8YArDTzKTmP9ZBva087uw/GU419ebu6j/DWRtB/QrjP1oLuULTeec/ilVxUfY62z/lZJyaUuTaPw==",
          "dtype": "f8"
         },
         "yaxis": "y"
        },
        {
         "hovertemplate": "Sequenz=191<br>t=%{x}<br>v(t)=%{y}<extra></extra>",
         "legendgroup": "191",
         "line": {
          "color": "#636efa",
          "dash": "solid"
         },
         "marker": {
          "symbol": "circle"
         },
         "mode": "lines",
         "name": "191",
         "showlegend": true,
         "type": "scattergl",
         "x": {
          "bdata": "AAABAAIAAwAEAAUABgAHAAgACQAKAAsADAANAA4ADwAQABEAEgATABQAFQAWABcAGAAZABoAGwAcAB0AHgAfACAAIQAiACMAJAAlACYAJwAoACkAKgArACwALQAuAC8AMAAxADIAMwA0ADUANgA3ADgAOQA6ADsAPAA9AD4APwBAAEEAQgBDAEQARQBGAEcASABJAEoASwBMAE0ATgBPAFAAUQBSAFMAVABVAFYAVwBYAFkAWgBbAFwAXQBeAF8AYABhAGIAYwBkAGUAZgBnAGgAaQBqAGsAbABtAG4AbwBwAHEAcgBzAHQAdQB2AHcAeAB5AHoAewB8AH0AfgB/AIAAgQCCAIMAhACFAIYAhwCIAIkAigCLAA==",
          "dtype": "i2"
         },
         "xaxis": "x",
         "y": {
          "bdata": "sJeoY2niI0Bl1w07Q5QiQFqah0CxliJA1iDLhkZCI0Auc9CS+NUiQFe0sa5clyNAVnXRCyb1I0A+D4LLsm0kQCf40O8+zCRAv0gh1gAYJUBBXG7ozVclQJm8GlWzXiVAYzffsGCcJUATtkqziZsmQI1RORi/byZAMXp093IfJkDZO3i+698mQLrxKophVCZAosjLCGFHJkCqUpLl1+kmQD8u01y+PiZArUAaFv09JkDetklsm50mQGQnluUIhCZAgfj14nEVJkAPwGRTNwMmQB9Z0wXbjCVAdxGHc0tyJUAY9Bk1XxglQGTy9fQTISVAaGmH638VJUAYWvJHybMkQChfoZ71ByRAO/xFb2DhI0BYQREVHK4jQGaXfSti6iNAg6M91QfdIkA9X1AnPMsiQHUWH9BIjiJA1iqZ5lU4IkB3rmL5Vh0hQMmKGAkb8yBAC0LG7qNCIECR+FO96nUfQANV/xkyFSBAbpZ2BAEVHkBTeY3pDCgcQETusXgjJxhAhI3xJu2jFUAiZ46Q6WUUQH2O08579xBA5YhvCh9TCEDmJ9rj+70DQOecnOfcTAFARWazT8iYAUAm7wOm6H8EQDyIh7mlawVAlkKuv/39B0BeIKP4drwKQNwiYDrXmgtAazJwJwbUCkCoxw+uHscPQOrYh3EbPBBAPDivhg9mEUAeOQ1yRWARQFpVEUIVOBJA3ADAI0pAFEAvap09H84TQPsNs+xFZxRAfHnDe1pHFEBNlilRyLkUQAivBHM9yxRAMnIhqWSxFEAxaheHg9wTQG7wchpcWxNAL3nJCI5xEUAXTQdkfQQRQIkUHLtFaw5AiI+rlJZ1D0D0fkKOLrwPQAKD9/apdA1AqzYWZxlXC0C7UsnUeVQMQFoqAkqGGQpAYuYIC51cC0Ca84cLNgIMQJv3Kx9EFg1AGLLgvKyRD0D4u1PjktoOQDz4KlFfPBFAgCUB35gjEUDyz9rQqXcSQIjif1FlexJAe6vlkVZDE0CT/b0tSN0TQFKuwbTYFRRA/BGeg5BCE0C8aWiJU6oTQDxS65qtBhRATOj2dcdHFECGT/A5MfETQKRG1JnGFBVAVHzWPX6SE0BBGCsRwuASQFYVJLN+bBJABbx4MyfnEUD8cKKz1YQRQEdz1Zh+8RBAxFbIva8FEEAHPIw0b80NQPbqM5Ve1AtAJCA69lwyCUB2Uvm0j2MIQOdeLz/MvAVA1OmMHhWeAkCKbZ4JG7sEQHsWCBEKVwFAcxdoreGG/T8N7/GYKgX/P+Nt7SYzrvc/C7aYE4pg9z+NeCt8F6XtPzrfCyv7ZPY/DLy8dwj17z/mAllEU4nuP+sEpNurWPM/FrsG02Zg5j/kFKnMue3xP9Jo9H4smvE/0FB02Jtj6j8/zHnmNiXsP4SVGI1aNOs/V0GI7rGM5z9LMPQD+WvcP3M/DLgw2+U/YtarbQ+x6j/NfD2Zp1HXP1aJmb2Q7OI/551j6osT0T99hOTiTRHjPw==",
          "dtype": "f8"
         },
         "yaxis": "y"
        },
        {
         "hovertemplate": "Sequenz=192<br>t=%{x}<br>v(t)=%{y}<extra></extra>",
         "legendgroup": "192",
         "line": {
          "color": "#EF553B",
          "dash": "solid"
         },
         "marker": {
          "symbol": "circle"
         },
         "mode": "lines",
         "name": "192",
         "showlegend": true,
         "type": "scattergl",
         "x": {
          "bdata": "AAABAAIAAwAEAAUABgAHAAgACQAKAAsADAANAA4ADwAQABEAEgATABQAFQAWABcAGAAZABoAGwAcAB0AHgAfACAAIQAiACMAJAAlACYAJwAoACkAKgArACwALQAuAC8AMAAxADIAMwA0ADUANgA3ADgAOQA6ADsAPAA9AD4APwBAAEEAQgBDAEQARQBGAEcASABJAEoASwBMAE0ATgBPAFAAUQBSAFMAVABVAFYAVwBYAFkAWgBbAFwAXQBeAF8AYABhAGIAYwBkAGUAZgBnAGgAaQBqAGsAbABtAG4AbwBwAHEAcgBzAHQAdQB2AHcAeAB5AHoAewB8AH0AfgB/AIAAgQCCAIMAhACFAIYAhwCIAIkAigCLAA==",
          "dtype": "i2"
         },
         "xaxis": "x",
         "y": {
          "bdata": "vJ4vqTsDJkCpMQLfJ9MkQGx9XPHhGCVAmjj9u5myJUBjzdD5RdQlQCgFfKFb3CVAV4Ge0iGcJUC0Tsla63EmQGek4PCUsiZA0I3JG0vLJkBw6Wd0HhMnQJle58XNRidAPi6YL0UDKEC9spqjSeAnQKIFm32edyhAVnguXJWLKECH2PCQkRQpQHBokOHF4ChAvsFwaFAXKUDSVUeS2kEpQNYRs/QYpihAAboxhjyhKEB49O0mTz4pQDRORkNx8ihAE9mJsV/1KEBSYjywRL0oQLO4EVWTPyhAlvk6drbbKEAuH+tMDDYoQEJBgD1uxydA8VjNthMvJ0BQQ1oBOo4nQKCii+xDMidAdpj1gm8KJ0CTiG+H4jcmQLL38IZPhCVA3wTPrF2/JEDBWW2xXpQkQAhn9IZWbCRAcGrDMrYeI0CzMAnX9AIjQJmaWjWEySFA5DQY2FsAIkCSnonwsxghQIJoRFbKoB9AzSNpdlP0HUDFeQPVr0IcQAw8iKIfthtA1FYBeA+wGUC02B0c1ZQYQHe+dMjpoRdAJNT4nikgFUCBLMDIZhAWQNJZhXIcUhRA4Qr9kFIBFEDKQYmIlZoTQLEI39ZGsRNAIwzvUw7qEUDY5oM33lMSQCGtpMv85hBA7KvXKihlEEDIm5ATEMERQJy7kvc9AxNA+Z2LfEt/FEBQ3ZRuW4AVQPtHCo3vehZAjMTIQh95FkCr5V/dSkAXQODJUJrDjRlAtaq7hsh1GUAyIG5ghWQZQPaTgXWd+xlAPB4bnLUyGkAYR9Goc/caQF8svL/h9xlAqiLnwSIQGUCy9Cx6e+sXQMUbLxQr0BdAmeG4tEXAFkBy+EexhrIVQBV1+rn+dxRAvpeNo+NxFEChQKIEK3gSQM57scTBmBJAVo0UDopvE0CyRY7NCbcTQHMlV1ndSBNA+0Vldc/0FEDFG58TFnYUQLXynznz9BRAqKsVFj8lFUDrMtqjWXUWQLNat6m5uRdANGUXyyMbGUBOvnvM/lYYQMz3lYwG4xhAj+IFLJY1G0CS204DQK0bQNGaIJ+IzBtAg0Sbh2rBHECDC1a/h9YcQFqnhD+QyhxArQcnczdDHEBGPx0CPWQcQNbKgLcHhxxASKILy/c4HEAIq/ctIqQcQPsVYhJfMxxAbM5gYgbGGkAVfmonpqoaQDOUr5qDDRpAscVQ3JcxGUBdq2bXiCQYQMzR65e/5hZA0NKPSddVFkDQD15Ae6YVQCJ48z9efxRAD5ieE6VEEkDsxVMRkDMSQPoPYNolxBFA5Gijto/bDkBc2oAtXm0OQENpJLV6sQxA+Lzffv9iB0AMpL66ONkFQIW3khf96AZA1lyvKcBBBUCy63EuJ7sCQPdrGEDebwJANVHeEo2q/T/CqSknFC37PxeYruyqVfQ/3BQCGmFO8z8EIlOfkw/zP4g+EX4KoPI/WA4DqY+x7j9r7fNHtprxP5fFkRTYHOc/aA0gK9JG6j/pZNiFVV7uPw==",
          "dtype": "f8"
         },
         "yaxis": "y"
        },
        {
         "hovertemplate": "Sequenz=193<br>t=%{x}<br>v(t)=%{y}<extra></extra>",
         "legendgroup": "193",
         "line": {
          "color": "#00cc96",
          "dash": "solid"
         },
         "marker": {
          "symbol": "circle"
         },
         "mode": "lines",
         "name": "193",
         "showlegend": true,
         "type": "scattergl",
         "x": {
          "bdata": "AAABAAIAAwAEAAUABgAHAAgACQAKAAsADAANAA4ADwAQABEAEgATABQAFQAWABcAGAAZABoAGwAcAB0AHgAfACAAIQAiACMAJAAlACYAJwAoACkAKgArACwALQAuAC8AMAAxADIAMwA0ADUANgA3ADgAOQA6ADsAPAA9AD4APwBAAEEAQgBDAEQARQBGAEcASABJAEoASwBMAE0ATgBPAFAAUQBSAFMAVABVAFYAVwBYAFkAWgBbAFwAXQBeAF8AYABhAGIAYwBkAGUAZgBnAGgAaQBqAGsAbABtAG4AbwBwAHEAcgBzAHQAdQB2AHcAeAB5AHoAewB8AH0AfgB/AIAAgQCCAIMAhACFAIYAhwCIAIkAigCLAA==",
          "dtype": "i2"
         },
         "xaxis": "x",
         "y": {
          "bdata": "6z+megWL+j94815YsWsQQGVLjwaa7g9ATfcAZlbID0AMP6ZDg2gRQP34ny9aEBFAGwlavXmDEkB2fOo8qgISQCiT4ajZ9BJA8rJXUiNXE0B9lpd/QV4TQD+Yu5QoDRRAKKtGBo4BFUDSc5nUmX8UQBKPMir3lBVAgfGlXNPvFEBsqrFN9O4WQGUWmWbCdhdAtbX4i51SGEAO37x+QfYYQCfezPy3zhhAklpXlKh7GUB/luAE03UYQLk0iY+SVRlA41Y1U8VtGUDrK9FGzUcbQAY5hh+NTxpAhmYhxFbIGkCME7KwPY8cQGSkX9XRPhxA/IzYIMFyHUBT3ntTuXgeQE8cewqYuhxAOoJ+Prk+HUCRfFqPGYweQAUvZ65SeB5A7yf10TQiHkDuWUqp8iwfQDBMfD3GQR1AMd21P6UKHkBdABVE+XgeQAFCfts74BxAsXd/PvTiHUBUcUpanSEeQCzcX0uoKB1AyDkXEmZRHUB9vzhSi5IcQL6AkIGzxxtA4BgG7SDrG0CzIMMmqFscQNMUkQSl0RpAfHHrsDYhGkA2zFu7uZ0aQOq1d8Z8RBpA1hNUbdaYG0Ds2wfDJbgaQIN62udtjhpAqaicEPU3G0A2doO4gPoZQBCXVfNYnhtA7ifnogksG0ALTukG0+EaQCgwVE6dMhtAw7tnOkktHED3JYh3izQaQBeaH2dqOhpABxk3szTmGkC0gkzT1AwbQH3Bwl1MxRtAcCYGytjDGUBnWvw/RH4aQBPp8j2W4RlAw+UF6s1EGUBgGbgYmlUaQJiIhV5+zRlAuSsYuaFJGkBDa9wjdZ4YQE0CitssexlAXWs8upnZGUBEY9rcI1YZQLdTcGz2YhlAxlbPg/+xGEAtxeISQK8YQJC2ebqS2BhATWJkDZYmGUDhPwiGzQ8bQLHU8tSiaBtAbJywD3lgG0CLb/VzMBUbQMb16G6XuRtAG9Pm81fBG0AJvohc9DcbQLfHDw6UkhxA3vK9G6s4HUCpAiFcRk0cQEbR6GHsbB1AB1o5JbP6HUA2GofvGrMdQCQT0W12ih5A0NtaJP30HkCDZpgsfsofQJCxBBVZRCBAe6dclMdXIEDu10ucQYAgQML5GLExjCBA3+LXwFPYH0DFYkbLKNogQBAZlSVTUiBAKDUAKF4qIED4ephapEIgQBNX0C3QvCBAuGjBvmw5IEDnI4BSh5MgQGqydWXmniBA4HcINj8pIUCPPKQloD0gQGbKj8syXyBAzrf4hyRbIEBdF1fPKOgfQIucDWbENSBA3oavQMKpIEBn2+mEE3gfQOpC1FiXCiBAqxagcyctH0AU5Ni5s3QeQNWy0jULeB9AslJXpJk6H0AhXj/qE8keQKJZvUUhwR1AR/Y10nD/HEBOy9soJ5AdQJHfCfFjjhtAiVvbaqHxG0Dd5amdb44bQBEG4VfMWRpAt7+e6/IAG0Cl/JdAVLAYQHjnCRHlNRpAg1u5zio0GUBNSI1xw+IYQA==",
          "dtype": "f8"
         },
         "yaxis": "y"
        },
        {
         "hovertemplate": "Sequenz=194<br>t=%{x}<br>v(t)=%{y}<extra></extra>",
         "legendgroup": "194",
         "line": {
          "color": "#ab63fa",
          "dash": "solid"
         },
         "marker": {
          "symbol": "circle"
         },
         "mode": "lines",
         "name": "194",
         "showlegend": true,
         "type": "scattergl",
         "x": {
          "bdata": "AAABAAIAAwAEAAUABgAHAAgACQAKAAsADAANAA4ADwAQABEAEgATABQAFQAWABcAGAAZABoAGwAcAB0AHgAfACAAIQAiACMAJAAlACYAJwAoACkAKgArACwALQAuAC8AMAAxADIAMwA0ADUANgA3ADgAOQA6ADsAPAA9AD4APwBAAEEAQgBDAEQARQBGAEcASABJAEoASwBMAE0ATgBPAFAAUQBSAFMAVABVAFYAVwBYAFkAWgBbAFwAXQBeAF8AYABhAGIAYwBkAGUAZgBnAGgAaQBqAGsAbABtAG4AbwBwAHEAcgBzAHQAdQB2AHcAeAB5AHoAewB8AH0AfgB/AIAAgQCCAIMAhACFAIYAhwCIAIkAigCLAA==",
          "dtype": "i2"
         },
         "xaxis": "x",
         "y": {
          "bdata": "R7GMWkCsJUC/POA+fFgjQKvr+JXi7SNAytW8SMzvI0BBjrixtXokQLbanK4WRyRAbjsB7UhRJECEg2COsYQkQDpC06C5xyRAessFoB95JUCF7pGxe7skQJPcmjZnmSVAO4mrKlonJUCuPKaR18IkQMgnrN85QSVAY4OdQzT6JEByjRIDITIkQH4RsWzkKiRAYVQnI/pXJEBHJ0Ox2awjQPdjb07jqCNAkbJQshfSI0DRI1GYre8jQGYv+pm3SiNAV6V0tBwBI0BaYDazUYUiQFwPdPgoFyJAaqeu46HeIkDsPgJUzxwiQJlaRfRlriFAsGZDVGA7IUCCKaCy8ZohQDvNvAW7XCFAwj0xDJ5kIECBS4ECZksgQC5vD3cIvR9AELqp86yIHkA1VSe+7cQdQIUTsr+PCR1Aee9n+wIWHkCCuWQRt8AcQEQ6hd9TXhxAfSEyppXGG0ACKusAi28aQD6+FVjHRxpAVYQbcnmSGUABQp5v3s4ZQHPXINfA8xdAXaklFV1NGEBhhGNxUm0WQADU5Wk4VBdAzjIhghYCF0CIdUFdRKoVQMz78Ea66BVAKFUCsOU1F0BwM6bXYiUWQMqX6d4hKRZAEdXCbnCCFkDao1Rs8NAWQPqrqMMgphdAzdg4Se7oGEArdeBHGvwZQHZ0EpX/chhAzSYLl0/FGUABOEt7JPcYQDFHzEum/xdARdq9BsJsGUCVgCb6u18ZQLTeJ+Va1BhAktAbfmJ2F0CdcrobicYXQOhwjSFIbBdAcnEHmBE3GEDFrJgl+cIXQD/7TH1JhRZA/EaZ+cGaF0Aw2wKYsFwWQEkLPD2sDRZAxsYAGADlFkCi9TDwd/kVQPNflr5TjhZA+cw3i/ZUFUDFQnrlSDcXQN4RRHX20RVA/LymD1NfFkD2UsGGDvMWQG71kbYA9RdALOBxOiMJGEDpTFrBEFAaQO9ovtLZ0RpATQt4ed1EG0As0bAAnCAcQPzb9/jwqxxA0IfuIE0aHEAuUPjJE9AcQEwO2/0K7B1AEchZJ0j1HkCgMeqeSNgdQIxkOWwMxB1ANJiOJFh9HkB/gVtyoYYfQM8yXJQ1ER9AM7vSfLIAH0BLneELDl8eQGb0Q1tPLR5AMLiXOCdfHECgCw4QEJ8dQARr2mUlCB1AFW5Y6DMBG0DfFTMdvKIbQGW4qCO5FxpAzu3Cqmq1GUAfSjeUUZsYQLsAysuJOBhARa2IyWc+GEAt08P7iWoYQBCbr4K3FxdAYBaKyZ9WFkD7rtwrUDMWQOmrYSogDBZAYTcyZ0jKFEB0V4e0CPIUQHcabQXCxxRAsdRxLqzTEkAGLfqy0tISQIJrLQlsVhJAsGRNY9RZEUA5TfcBMw4QQPu1jhjS8w5AyMO9iXinD0CrPyyMHzYKQLQspS6MfwhAwgEIiKiUBECUzlFL6fwEQFtzjH4jBwBAJ64d+/Lt9T9qJxpSjmDuP/Jlb3EDE+4/ZhtAhOrB1D9c7KqP3O/wPw==",
          "dtype": "f8"
         },
         "yaxis": "y"
        },
        {
         "hovertemplate": "Sequenz=195<br>t=%{x}<br>v(t)=%{y}<extra></extra>",
         "legendgroup": "195",
         "line": {
          "color": "#FFA15A",
          "dash": "solid"
         },
         "marker": {
          "symbol": "circle"
         },
         "mode": "lines",
         "name": "195",
         "showlegend": true,
         "type": "scattergl",
         "x": {
          "bdata": "AAABAAIAAwAEAAUABgAHAAgACQAKAAsADAANAA4ADwAQABEAEgATABQAFQAWABcAGAAZABoAGwAcAB0AHgAfACAAIQAiACMAJAAlACYAJwAoACkAKgArACwALQAuAC8AMAAxADIAMwA0ADUANgA3ADgAOQA6ADsAPAA9AD4APwBAAEEAQgBDAEQARQBGAEcASABJAEoASwBMAE0ATgBPAFAAUQBSAFMAVABVAFYAVwBYAFkAWgBbAFwAXQBeAF8AYABhAGIAYwBkAGUAZgBnAGgAaQBqAGsAbABtAG4AbwBwAHEAcgBzAHQAdQB2AHcAeAB5AHoAewB8AH0AfgB/AIAAgQCCAIMAhACFAIYAhwCIAIkAigCLAA==",
          "dtype": "i2"
         },
         "xaxis": "x",
         "y": {
          "bdata": "q29ATmTgG0D2gqta9bscQCivztL0/BpA0qcLzo+wGkDFkOZDR1YcQNnqyYvkTRtAJi2B4tl3GkBxidY+KTsbQKbFNOQ69BlABncpxP4bGkBo1Jm/JK8YQPYbrFIhgRlA4R8xaswtGUD6RFvPvwAXQDykek7djBdAgZSHwhVtFkB/LiG6f5wVQO/OpIKEohRAzm7XtbffFECKNaa+iFYUQEzwQPqe9xNA5lc3QOOYEkDCR6kwWGETQDLny1N3AhNA7ISJKRZJEUCCEXwmirgSQOlhKywJeRBA5hPw+zbpEECKJ5Bx0BUQQG42MKR87BBAkIilhSbrEECKCVshjx4RQFHr7H9v+RBAto/UE9lCD0BuD23dQGUQQHl5UYkg8w5AkjuGPYAUD0CwTlDxor8QQJVsXqzQ5A9A/Wdb2JEpEEBblbCpVaAPQImXZ/uTcBBAnmGT0tqIDUDDLvcet+wPQACYGrNbrA9AZslGyC1REEBWIGNQk20OQMLJJvv7jBBAkSCyHk6TEEDmv8Qju+MPQKo5lh2e8g9AN4U72VRxEECc46Zff3sPQMUEggjLcRBABawU6lhgDkA0Sf9NCgcQQOC8qSY7yxBAEzY8XSVgEED5FlDvD/sOQKpYAkRc1BBA20QOlvxzDkBs+jr1QQEPQKvnTTnuxRBApnWxTWo2EEDcthg7mG0PQI3wWeyGehBAnfKTg0zbDkBHxkNz69QPQEfJsb0dQw9ALENZdsUGEUCorfZLz7wOQEWbnICW+w5ADPl1oj4aD0CuzesY4mEOQDSqhTiOeQ5ASpm6zhENEEA05r0hJDoOQMTUSsZwogxAZcpSL5P/DkAT/fCTBlsOQIQ2tcvpow9A1IfQZTntEEB5bb7LQUkRQEMvv29qdxBAYZ/nVKFWEkBL1VCjxQ4TQJJVCfpsURNAiDNZOavFE0AHNyyY2rQUQO5Oz9uPYRZAOrk1pS19F0ChWvMfqnsYQEvRZQTrwxlAH+9d23vRGUCeqJGoD+EaQDP9pO0j6xtAn56zHhj4HUAh8PFJNKEdQJfeMiP8tx9A5xU6ucFTH0ClbnXGBTwgQN7ER1gPBiFArrhFXUuEIED5DmIAjGAhQCDfe3Ic7iBAuVGWZ339IUCY0KS95yciQIAaPJe/cSJAOZzprKwzIkAEaMyztfwhQEhuYkWeMiJA03r05SA1IkCKxOrKHhUiQDqzTIk+wiFAYAZbW/5XIUCyZ9+9Gr4hQL+3X61kxSFAL4ovCSXIIUCKHVH3pC8hQMrakFtWzCBA50y+jpyMIUCKYvAm63UhQC0qss4ObiFAOuvdQaQUIUCZnN3NNp4gQInoTejqMSBAaniidsXVIEC146OXIkYgQJDK2QcHmCBA8a7dkv4vIEAcPg64coAfQJ2Ml90h/R5A8ML82BwhH0DW0mtCLfsdQN73x21IGxxA3115QZBuGkApQL0rI4kaQEJfjiudzxlABS+8OnXcF0DPxDKrf6UVQA==",
          "dtype": "f8"
         },
         "yaxis": "y"
        },
        {
         "hovertemplate": "Sequenz=196<br>t=%{x}<br>v(t)=%{y}<extra></extra>",
         "legendgroup": "196",
         "line": {
          "color": "#19d3f3",
          "dash": "solid"
         },
         "marker": {
          "symbol": "circle"
         },
         "mode": "lines",
         "name": "196",
         "showlegend": true,
         "type": "scattergl",
         "x": {
          "bdata": "AAABAAIAAwAEAAUABgAHAAgACQAKAAsADAANAA4ADwAQABEAEgATABQAFQAWABcAGAAZABoAGwAcAB0AHgAfACAAIQAiACMAJAAlACYAJwAoACkAKgArACwALQAuAC8AMAAxADIAMwA0ADUANgA3ADgAOQA6ADsAPAA9AD4APwBAAEEAQgBDAEQARQBGAEcASABJAEoASwBMAE0ATgBPAFAAUQBSAFMAVABVAFYAVwBYAFkAWgBbAFwAXQBeAF8AYABhAGIAYwBkAGUAZgBnAGgAaQBqAGsAbABtAG4AbwBwAHEAcgBzAHQAdQB2AHcAeAB5AHoAewB8AH0AfgB/AIAAgQCCAIMAhACFAIYAhwCIAIkAigCLAA==",
          "dtype": "i2"
         },
         "xaxis": "x",
         "y": {
          "bdata": "EmRbwH0BJEAMvKjRrCAiQJHFZSD6FSJAUZ+wjrHOIkDBrbC1eWkiQMj2a5/y9iFAbR5ayJcYIkDKaFJZcUQiQDE4cPv3xiFAlYgzSkRdIUCTSzXiTjohQB5IWuAYAiFAltB5TkyqIEAuuTSPlD4hQJnfQW4IsSBAh64+GeXrIEDNgdG0aUEfQLRKzuXeTiBA8Zrag7cQIEB3Vr8sk3QeQLkzzUkpwB1A5sOVwEh8HkCFPczYIrcdQPYobhXx1xxAtMdywN0/HUCF5M2bWC8cQFCYGhcFaRxAiMF6gEhHHECQMjVgslUaQEiNlbCQPRpAHn4FnDr0GUBnvxNL4JsaQA5HyMsS4BhAvdNZeiyWF0BA7907lI0XQKEPd/WnwxZAjQ9T6TJWFkBAJBa4Hk0XQNzxY935mBZA3BsuS/wMFUBTYlEmfzQWQKB94XdsrRVAzetKnkGXFUBl2XTrgx8VQDzqxn7owhNA5F6nG0SvFEBNM1mBMygUQGWaywA1MhNAguC71OxjEkCfKMrAPG4TQCufQZbrQhNAYO13bDNvE0AvUnGGvAgTQOmMGAH9vhJA6A5FSDIHE0AscRb3o5ITQN1PQGXroRNAfcxox+I7E0ClKBS8EKcTQKHr4/poORVATzLyRm/SFEA+BskIm6AVQBJeEY/2VxZAvm5tV6tUF0CRfpxX39QWQEa1z44COBdAf1mPyW+1F0BT1JJ3060WQEuxe9+WbxhADa6d5I7KFkBXp95EfisXQJDq79narRZAoWE0+Mm8FUA7vax0nekUQK/fJgTUiRVAFmFuDiMJFUD6hSMok+QVQEEVUYevGRVAzDz/eeraFEB/bzwY6a4UQJO0Mr+OhhRAJvbYS/nyE0BT8m1CjUUVQLsnouNj8BRAnt1sCTRHFEDPr35LWuAUQIksFODyhxZAb3FQU5zKFkC+63LtqYcXQHEGUCYHWhdA2iq+Qy2QGEA3Q9Qy2VkZQPUEz5P4YxhATpa5xtmiGUBDpUK2iAEaQNJtljkTrRpAffZylM3LG0BhB67QPHEbQP+Q48Ll0xpA0NkaEotZG0AKCqXWCugaQBBYlZ0nzxxAC7O7CfugHEDyR7I6TZ0cQJL20PF9phtA0g7BKzbHG0DWi0PuuNcaQB0qWBIjCBxA3uBYqd31GkBXrYExSsgaQB0Di4UnBBpAPBzkku9wGUD89bKVjb0YQLykYCkeOhhA7/pxOLxBGEDkYYANriMYQOlrAaOzehZAmIgMzVo5FkBnqJmTBtcVQOBBH71R5xVAQl7toanWFUC69TIQc4EUQA2DRbp6VBRAO/Ly5icQE0B8SW7EhOoSQJMUvVPNsRFA2wG5+So6EUBvpekuJCEOQDv/hzftVw1AqnpJB9sUCkA8zWNPiZwKQGss2r3nKgdApmp/TSkcBUAp291nynMBQAzGAZI8ff4/FlT7FquZ/D9MRhnLpt30P6/qwSvHH/Q/kAwB/qbV7z9TMzxyd+n1Pw==",
          "dtype": "f8"
         },
         "yaxis": "y"
        },
        {
         "hovertemplate": "Sequenz=197<br>t=%{x}<br>v(t)=%{y}<extra></extra>",
         "legendgroup": "197",
         "line": {
          "color": "#FF6692",
          "dash": "solid"
         },
         "marker": {
          "symbol": "circle"
         },
         "mode": "lines",
         "name": "197",
         "showlegend": true,
         "type": "scattergl",
         "x": {
          "bdata": "AAABAAIAAwAEAAUABgAHAAgACQAKAAsADAANAA4ADwAQABEAEgATABQAFQAWABcAGAAZABoAGwAcAB0AHgAfACAAIQAiACMAJAAlACYAJwAoACkAKgArACwALQAuAC8AMAAxADIAMwA0ADUANgA3ADgAOQA6ADsAPAA9AD4APwBAAEEAQgBDAEQARQBGAEcASABJAEoASwBMAE0ATgBPAFAAUQBSAFMAVABVAFYAVwBYAFkAWgBbAFwAXQBeAF8AYABhAGIAYwBkAGUAZgBnAGgAaQBqAGsAbABtAG4AbwBwAHEAcgBzAHQAdQB2AHcAeAB5AHoAewB8AH0AfgB/AIAAgQCCAIMAhACFAIYAhwCIAIkAigCLAA==",
          "dtype": "i2"
         },
         "xaxis": "x",
         "y": {
          "bdata": "MATXhv0cIUD/+uw6moYhQF6VXe3VpCFAzyv9n2w4IUBKmbBsFPQgQKPCXHf7OSFAl+RZdzXNIEDmAzep8hchQFq7srs38SBAsywilDBYIEBZSMvcpskgQNS8Du/o7yBA7LBw4+/zH0C8FsLiihsgQN7JN9M7MiBA/5HItam0H0CPv6nRyikfQAbgQngENx5A8rVfNuo2HkBkXl0KrlccQO5VV9P6kRxAVputCHJpHECJS0rHRm8cQApgl74zhxtA+dYP5NouGkC2f5bXAuoZQFTYUZbrYhlA3C2U0yYFF0BwnShmbvwXQAwqVRTTbBVAFsWt4WKHFUBuF4gfPI0VQGKwjgKYxRJAAxD5PowyEkA9ZTK3eGcQQFCUpYqeOw5AxuLzRY9lDEBZR9WZUKgIQCJVNdCJygdATAAYy+8eEkC6MJ6ybmMUQCPJQUiw2BZAMOEKFiMuGUB/cjghaEcZQLz6Y1l1rBlAC4iipe1HG0AUE1ROteMZQKfzbjbP+RVAT/Pg126HEUA21mLtWowNQEFZQBhJQQNAjEaqbdY6AkB6HJnIqoQAQOY4SoHLa/k/XR2lsZG3+j/ghWJFEDEAQKFj5duKSwJAaqOeP+sXAkDHDLFKxc8CQFjEXefujghAZMpySGeYB0AddNEOeSkLQJhYPC34PApAUp5xUKewCkBxqv/YKXYNQDBTsz+ASBBAjcxcxB0wEEAYcGao5ucRQCrY1SX4aBBA4FMF0AczEUCxpv6NIggRQNDXc3YEiBBAyut2US6QDkD/Jy42OTENQPZQoT8k/wtA3uJ0vn/3B0ACIOWwpPsFQF7iG8s4uwRAPEAEbVqlBkA+sMQK1CoHQHqivZf6UwZAz3eqnwdvBEAV8M30FsAFQCSkjwDulAVAko93nj1fBkCV5TQbqNUIQKYz2FjOMgtAschQd9TkCUA4u1E4JXkMQAecuE3wcBBAMy6c+jfuEECc4HYYc4ARQPEGWGNAfxFAr+FT4zxjEkBApFBPDk8TQLPpnDbbrRNAAr0Ntq6NFUAUDBavIwEWQBoVdk6PzhZA+HZLSDVLFkBD/iYvn1oWQCO0LdmamBdA8F4HkFKOFkCW5Lx/rcUWQI6CpsJf/RVAV7JUgg4wF0CBlvog7ToVQHh/dkmZ9BVA5CfBcMH2FUDDKIy9ykAVQFQzraVeVhNAYf18Ym0qE0C0MgppppkRQLjkvJTDtxJAbOx0ssOSEEA6ZVlal6YQQO+ANWTTOxFACsI84bowDkDXXnsVdRMOQH93c3RSVg1AdGCYnn+JDEBZwKhlMQULQGPIgu1zlgZAMoFI8hwiB0AP0Dvg05MFQFdSabsU3gNAxLVHED/hBECw3sO1x4UCQBcqmVPhxQFArcHcdnUb/T/FRtmXVkj4P1ECtCoEAvY/x6bUMcri9D+A6D8txCH4P/wPlcjAr+0/vCWoZdBY8D9k0EVqapHzP6CAZ/i2Aek//Bp4u+ld7D+EOxALxZTmPw==",
          "dtype": "f8"
         },
         "yaxis": "y"
        },
        {
         "hovertemplate": "Sequenz=198<br>t=%{x}<br>v(t)=%{y}<extra></extra>",
         "legendgroup": "198",
         "line": {
          "color": "#B6E880",
          "dash": "solid"
         },
         "marker": {
          "symbol": "circle"
         },
         "mode": "lines",
         "name": "198",
         "showlegend": true,
         "type": "scattergl",
         "x": {
          "bdata": "AAABAAIAAwAEAAUABgAHAAgACQAKAAsADAANAA4ADwAQABEAEgATABQAFQAWABcAGAAZABoAGwAcAB0AHgAfACAAIQAiACMAJAAlACYAJwAoACkAKgArACwALQAuAC8AMAAxADIAMwA0ADUANgA3ADgAOQA6ADsAPAA9AD4APwBAAEEAQgBDAEQARQBGAEcASABJAEoASwBMAE0ATgBPAFAAUQBSAFMAVABVAFYAVwBYAFkAWgBbAFwAXQBeAF8AYABhAGIAYwBkAGUAZgBnAGgAaQBqAGsAbABtAG4AbwBwAHEAcgBzAHQAdQB2AHcAeAB5AHoAewB8AH0AfgB/AIAAgQCCAIMAhACFAIYAhwCIAIkAigCLAA==",
          "dtype": "i2"
         },
         "xaxis": "x",
         "y": {
          "bdata": "V73cAmkBCUBoTLpn0EkSQKO/aDtVRxRAn5ndE54uFUAg90ucBB0WQOo1HCEuCxVAU7I/V+v+FEA5i+EU6L8VQETKVI6OHBVAnTDcnwltFUDgaAKAV08UQJz0YfgO3RNATxZJN4icFEDP3tN27bYTQCWhu4CXyBFAExGat30xEUBiW7ZzoZsQQEzzgECuGBFAjeXhzyHrD0DUOkkxFV8PQBoZYXkNIA9AJMWKyRA8DUBNdR/brjcKQENS7zhuTgpAGYt0DF0bB0DfnCMspmEHQAJJJZ16nAVAE8ad3uoTAkCdsTy47vYBQFmL1BeOTQBAL9jYGO4r/D+6/49zrTYBQOjjmrUGdwFAyd1iDeZg/z+UDuuE88z7PyY5Vz+CTfc/jA+NWQTt9T/tl3lxkpnzPyzfm1XYifY/eK+TW6fM6T+aU2q4LczpP6BWbdWNIOQ/4+DpCmeP8D/ISsj3W83oPwzQXcr7geY/X2+807684z84Dkjr7sTwP1GGolsoxuk/sILklMft0j8hG38P5UnlP7Ex6Kkua+8/mUqspMhc7j+5bkyYgSLbP+7LVyn3c+g/W3X2zaWC8D8eAp64smHxP7t+Mc3TXgtAJbO4pAYMEUAhPuYvbfoTQBkLbtMAQhVAx9UD10RlFUA1gy3LqmsVQDqKsXUfYxdAJ3kwg9UcF0BL/uVP0Y8XQMF2nFQjjhdAV6H17l2UGECckSBaM20XQJxJcwuMyBdA7hX6FJNXGECuY4ismTYWQAuV0ND4TRNASV8BcIqJEUBKJYS3ABkOQMo5NkMazA5Azhq2g3lNDUAbLLZwU18LQJ8pMSHgdQZATqiTrot8CECVriLAKDIGQDFqkq+x1QRAdp324PHFBkCFHlej2GUFQEDv+udS7gZAyixVc7JYCUC4DL7bx2UKQLxtfguZbAtAeg3PZ0lkDECJH9hjKGcPQNPR84+hARBAOjNC0VOcEUDuIzgq8asSQKYabPmssxJAYGBnZVm4E0CkxpNP4MIUQJJPStm6YBVAOftOLUfwFEBRYS2lh5cXQHXQvBzgaxdAEz5p6eQ2F0A2uaftJOAXQEtSY3IjNhhAu8zdBb65F0BlKwcSpsAXQPT3TC1TGBdAdU5fts4BGECFecDHGTMWQK7SVKt9iBZARzGpLSuKFkD/9lyBXhwWQG3zXmOU6xRAbpU1AJDzE0Dvy1Th+DsUQOsUjDQz8hJAG1U5DLXqE0BKLifZJM8TQKXp/j8lcxNAfHW3hqQVEkAvJPsXut4RQCxH+mx7sBFAVJ8nte5WEUAKDvFH9aQRQNKfN7Ql5hBAbi8C5kMIEUCOWPSz2oEQQO7y1bfivxBA75dPZv2VDEAANiAl/pMNQEb+FE0a6QpAbUtTBheOCUDkOjs/F4QGQKx6+OqFeAZAPjIW9MsDBkAyGv9iuAIEQJY1nlc0OwJARAr/B3DG/T8Gn2T54p/5P0pwRyV84fs/Dk0062NRCUDhWw71ovsNQA==",
          "dtype": "f8"
         },
         "yaxis": "y"
        },
        {
         "hovertemplate": "Sequenz=199<br>t=%{x}<br>v(t)=%{y}<extra></extra>",
         "legendgroup": "199",
         "line": {
          "color": "#FF97FF",
          "dash": "solid"
         },
         "marker": {
          "symbol": "circle"
         },
         "mode": "lines",
         "name": "199",
         "showlegend": true,
         "type": "scattergl",
         "x": {
          "bdata": "AAABAAIAAwAEAAUABgAHAAgACQAKAAsADAANAA4ADwAQABEAEgATABQAFQAWABcAGAAZABoAGwAcAB0AHgAfACAAIQAiACMAJAAlACYAJwAoACkAKgArACwALQAuAC8AMAAxADIAMwA0ADUANgA3ADgAOQA6ADsAPAA9AD4APwBAAEEAQgBDAEQARQBGAEcASABJAEoASwBMAE0ATgBPAFAAUQBSAFMAVABVAFYAVwBYAFkAWgBbAFwAXQBeAF8AYABhAGIAYwBkAGUAZgBnAGgAaQBqAGsAbABtAG4AbwBwAHEAcgBzAHQAdQB2AHcAeAB5AHoAewB8AH0AfgB/AIAAgQCCAIMAhACFAIYAhwCIAIkAigCLAA==",
          "dtype": "i2"
         },
         "xaxis": "x",
         "y": {
          "bdata": "SLjZ7X1eGECkzRJicbIYQHC9WohZdxpAeIM+HkpRHkBGZAys8CAgQIjWmW2uPSFAPtkydZG8IUDkg9yhKrwiQDRGxrtm8CJA+u/inLWVI0D867b0sWIkQFrhyTyOeCRAMEi2tBziJEA3jySRjcQlQLPrRlNi8SVAE6VHeRjLJkAhzQLS1QwnQCDMXi+3miZABuSqZzjXJkDAmSTqVoYmQFqtbW0vqiZA75d+T12lJUBL0spAdcYlQLcTd0+RYSVA1Qfq96FjJUC9BaopQQ0lQKdR8tlWDyVACFlv1fB/JEA+iTd0EyokQBW3DnpcoSNAF1LaI6uqI0B68YisfXMjQKjozonl4CJAHqnu08OlIUAxkhTq5PwhQDbsoyVxwiBAja7eP7CYIEADpMdSXhYgQHK4uUs1Ox9AK5iDoRyUHUClTjfhIIIdQD8Zx6DQ7htAWOZtglFuGUCfqQVtd7MYQB80JEaMrhdAucG/ldx+FkCAKth4BaIWQIrdYUQYFhZAx0ylfMFEFUAflSKKSmwTQKKdCv3K4BNALlW3rFXOFECrlSMPGYoTQOdR72GYhhJAtzuAXgnBEkAOt9TFDLMTQMIdY7FT2xRASeR8HmX+FEBQAUj2mjoVQA23IlyFuRZABjSm8NwFFkBEOala1fIWQO2gQSpWvhdA4+oIN/elGEDb1c4OfqUYQDMC3b1akBhA6U7yxYtgF0BOuYpY4RoYQMJzgmMciBZAxhHT7tJoF0BymcfEyaQVQJJqVZz1ZhVAgyFb6nzjE0CzMcHguZQSQLStsR2GRxJAcm4fym7yD0AYMUWkt8gMQACAlBl3PQlAZNHDtN7+CEAblGeowf4HQNI4a3EbLgZA4IXwaZAIBUDPkJkpvIQEQPe6G12qywNAjAQwNRTRAkCtOAlXIysEQBccciRBmgRABcxbMCd+A0BtxexSuucEQOtFEfLRqANAUVvU9JpKBUAbX0QBQpEFQMxZCH/EYwdAY6FNIDgfBEAxvHYS00QIQC7wL2mxNAdADbsnQrjRBkDt5QGWulcHQOkwJDFCVQRA75IK5Tc6A0BUlFAVbz4EQMeBrWoNPQBAXMJqyxwB/z9EuWihQ1MAQHG7hALCefo/F9outzex/T8W7jCX98z0P1E4rIoPe/I/bzeik1WL9z8yIfItcdfwPzqiIlLAkfA/m3WzzMb17z/WRWskaCr1P06F/g9pcvM/ThacGkUL8D/Z4sM5b2brPzFT1SmyOug/aJbQSXCY7z9GUH/Kp2TwP8zPpdGxCOY/K+ja2vof5D9AR+56PBHrP31jvs6rNuY/qpR/UJ1z7D9s9Lz3mqXnP29PdIYYMe4/ovJZHHDc6D8uj9YrYfzpP/vyVCoETvE/hpxKdNWs7D+EneZ2sADmP0G2nDpWgus/9R89FoQ36z/rvzTPrIvjP93fkYkouOU/dOKqghVZ8D98+z8RcYDsPxTNYAYZEe4/s3te3Zs9xT/ODsUHgTAFQA==",
          "dtype": "f8"
         },
         "yaxis": "y"
        },
        {
         "hovertemplate": "Sequenz=200<br>t=%{x}<br>v(t)=%{y}<extra></extra>",
         "legendgroup": "200",
         "line": {
          "color": "#FECB52",
          "dash": "solid"
         },
         "marker": {
          "symbol": "circle"
         },
         "mode": "lines",
         "name": "200",
         "showlegend": true,
         "type": "scattergl",
         "x": {
          "bdata": "AAABAAIAAwAEAAUABgAHAAgACQAKAAsADAANAA4ADwAQABEAEgATABQAFQAWABcAGAAZABoAGwAcAB0AHgAfACAAIQAiACMAJAAlACYAJwAoACkAKgArACwALQAuAC8AMAAxADIAMwA0ADUANgA3ADgAOQA6ADsAPAA9AD4APwBAAEEAQgBDAEQARQBGAEcASABJAEoASwBMAE0ATgBPAFAAUQBSAFMAVABVAFYAVwBYAFkAWgBbAFwAXQBeAF8AYABhAGIAYwBkAGUAZgBnAGgAaQBqAGsAbABtAG4AbwBwAHEAcgBzAHQAdQB2AHcAeAB5AHoAewB8AH0AfgB/AIAAgQCCAIMAhACFAIYAhwCIAIkAigCLAA==",
          "dtype": "i2"
         },
         "xaxis": "x",
         "y": {
          "bdata": "EO8vVl5RIUB19R3exuIgQMgklqY2LSFAxmmJVN5ZIECMIXyB5esgQLCRxsd5aCBAo6kz7H4/IECk4gOf9n4gQMVUrsxrwh9APavptz/kHkAyJ300p/QeQOSeNuonWh5ArnZYoHd+H0AR0fPlHyMeQP+xCH7DiR5AzH1ximMRHUCXw9RG3NIdQP05GuG26hxAxNKBjssFHUB97Ett810cQGDV0hztDxxALHlGlX1RHEBSdX44SNIbQJoF5V1T2RpALPfelk2JGkDz0tCOMfYaQDqrKLFfDRtAc3v91+5ZG0Dmmd+vBMcaQAhK6YDZyBpAKvUE2M3AGUBBcHT4i8sZQF6nMWs9EBlA1MVofMA1GkAJZRctF6UYQIlw9jKHfxhAibgQVIM8GECvfDHUte8WQIJoiIAJWhdANLeh2Ql2FkAMoqtpBgMWQONj5iyr9hRA3FA3q8dbFEB/ZNZZal8TQEepLpfA6hJAH7Y4/msNFEAsjJWcct8TQNvwJsyiShJAYfwKInSGE0C+xgO1tH8SQH5U014j3RFAKvtJoVL6EEB6dWpf7NgQQFbtGBiafRFA26GoTqUCEkA7Et3CDbwRQFXyMlpqWRNAp3e3lvR6E0CZOeiyDycTQD95VHJA+BRAXDYuNZoYFkAzKrcHqCcXQIjFHXrx+hZAltq/X6mUF0Dx/XIaqcUXQClWaHlSURhAYm5D5vKwGUAcCl1rWT0aQEMHLB99QBlARNJPP52jGUA02uYC2g4YQHDsVS5TnRdA0FGibY+tGED5Zqbt+wcYQCY09tBd6hZAyMGmNCHWFUDedkUw6MYWQBmoOdVdvhRAoXLSDMjFFUCCaFu/H5kTQMrYOktGPRRAEdXVigTsE0DuU+IzlQIUQOdtNOC3+RNAyeQz0PWMFEAxR9L+Qc8VQH5W4aMMXxZAyHGNBoTeFUC1lZR1R5UXQIGAGq1Z8hdAnKayB7paGUCFnpXks1EaQF441PVIkRlAeIkXi/wGG0BkeKJNE28bQCOhKi3qchtAqXd9X2Y9HEAyJW3dyrYcQEsth0gizx5AUzG620I2HkAqXn9AJq4fQHZP3BHwVSBA9YM7VktKIEDYz3G/UHUgQG9zsQ/g0iBAwJXK2zRSIEBDWj2AXaIgQBwnoLTYCiFAqCjpOJ1EIUDUqs2qeY8gQAl6ejmnpiBAaD72VYlHIUCsazfA0bggQD8M1DELVyBAmvlYImDVIEDALiGl9a0gQDlPhT0YQSBAsztllmoVH0DsUzWu0HUfQMUrtXb0fB5A7gq9EdskHkDKUhFMWH0eQDp13E8hkBxAppq/L1HnG0CgH4IfV0kcQLwy3XKd7RlAYFHFy6D0GECqdlmpbQgYQDIds+AjuxdAyQMHb7i3FkDFlqNbpV4VQJd2nWEqGhRAOGzN0rZAEUChjapHdZgPQDLBjuoIBQ5A2DilwyyXCUAS2xwC0FgJQHZ0QOlv4QdAgaRPB6XDAUAl3uZDN+D3Pw==",
          "dtype": "f8"
         },
         "yaxis": "y"
        }
       ],
       "layout": {
        "legend": {
         "title": {
          "text": "Sequenz"
         },
         "tracegroupgap": 0
        },
        "template": {
         "data": {
          "bar": [
           {
            "error_x": {
             "color": "#2a3f5f"
            },
            "error_y": {
             "color": "#2a3f5f"
            },
            "marker": {
             "line": {
              "color": "#E5ECF6",
              "width": 0.5
             },
             "pattern": {
              "fillmode": "overlay",
              "size": 10,
              "solidity": 0.2
             }
            },
            "type": "bar"
           }
          ],
          "barpolar": [
           {
            "marker": {
             "line": {
              "color": "#E5ECF6",
              "width": 0.5
             },
             "pattern": {
              "fillmode": "overlay",
              "size": 10,
              "solidity": 0.2
             }
            },
            "type": "barpolar"
           }
          ],
          "carpet": [
           {
            "aaxis": {
             "endlinecolor": "#2a3f5f",
             "gridcolor": "white",
             "linecolor": "white",
             "minorgridcolor": "white",
             "startlinecolor": "#2a3f5f"
            },
            "baxis": {
             "endlinecolor": "#2a3f5f",
             "gridcolor": "white",
             "linecolor": "white",
             "minorgridcolor": "white",
             "startlinecolor": "#2a3f5f"
            },
            "type": "carpet"
           }
          ],
          "choropleth": [
           {
            "colorbar": {
             "outlinewidth": 0,
             "ticks": ""
            },
            "type": "choropleth"
           }
          ],
          "contour": [
           {
            "colorbar": {
             "outlinewidth": 0,
             "ticks": ""
            },
            "colorscale": [
             [
              0,
              "#0d0887"
             ],
             [
              0.1111111111111111,
              "#46039f"
             ],
             [
              0.2222222222222222,
              "#7201a8"
             ],
             [
              0.3333333333333333,
              "#9c179e"
             ],
             [
              0.4444444444444444,
              "#bd3786"
             ],
             [
              0.5555555555555556,
              "#d8576b"
             ],
             [
              0.6666666666666666,
              "#ed7953"
             ],
             [
              0.7777777777777778,
              "#fb9f3a"
             ],
             [
              0.8888888888888888,
              "#fdca26"
             ],
             [
              1,
              "#f0f921"
             ]
            ],
            "type": "contour"
           }
          ],
          "contourcarpet": [
           {
            "colorbar": {
             "outlinewidth": 0,
             "ticks": ""
            },
            "type": "contourcarpet"
           }
          ],
          "heatmap": [
           {
            "colorbar": {
             "outlinewidth": 0,
             "ticks": ""
            },
            "colorscale": [
             [
              0,
              "#0d0887"
             ],
             [
              0.1111111111111111,
              "#46039f"
             ],
             [
              0.2222222222222222,
              "#7201a8"
             ],
             [
              0.3333333333333333,
              "#9c179e"
             ],
             [
              0.4444444444444444,
              "#bd3786"
             ],
             [
              0.5555555555555556,
              "#d8576b"
             ],
             [
              0.6666666666666666,
              "#ed7953"
             ],
             [
              0.7777777777777778,
              "#fb9f3a"
             ],
             [
              0.8888888888888888,
              "#fdca26"
             ],
             [
              1,
              "#f0f921"
             ]
            ],
            "type": "heatmap"
           }
          ],
          "histogram": [
           {
            "marker": {
             "pattern": {
              "fillmode": "overlay",
              "size": 10,
              "solidity": 0.2
             }
            },
            "type": "histogram"
           }
          ],
          "histogram2d": [
           {
            "colorbar": {
             "outlinewidth": 0,
             "ticks": ""
            },
            "colorscale": [
             [
              0,
              "#0d0887"
             ],
             [
              0.1111111111111111,
              "#46039f"
             ],
             [
              0.2222222222222222,
              "#7201a8"
             ],
             [
              0.3333333333333333,
              "#9c179e"
             ],
             [
              0.4444444444444444,
              "#bd3786"
             ],
             [
              0.5555555555555556,
              "#d8576b"
             ],
             [
              0.6666666666666666,
              "#ed7953"
             ],
             [
              0.7777777777777778,
              "#fb9f3a"
             ],
             [
              0.8888888888888888,
              "#fdca26"
             ],
             [
              1,
              "#f0f921"
             ]
            ],
            "type": "histogram2d"
           }
          ],
          "histogram2dcontour": [
           {
            "colorbar": {
             "outlinewidth": 0,
             "ticks": ""
            },
            "colorscale": [
             [
              0,
              "#0d0887"
             ],
             [
              0.1111111111111111,
              "#46039f"
             ],
             [
              0.2222222222222222,
              "#7201a8"
             ],
             [
              0.3333333333333333,
              "#9c179e"
             ],
             [
              0.4444444444444444,
              "#bd3786"
             ],
             [
              0.5555555555555556,
              "#d8576b"
             ],
             [
              0.6666666666666666,
              "#ed7953"
             ],
             [
              0.7777777777777778,
              "#fb9f3a"
             ],
             [
              0.8888888888888888,
              "#fdca26"
             ],
             [
              1,
              "#f0f921"
             ]
            ],
            "type": "histogram2dcontour"
           }
          ],
          "mesh3d": [
           {
            "colorbar": {
             "outlinewidth": 0,
             "ticks": ""
            },
            "type": "mesh3d"
           }
          ],
          "parcoords": [
           {
            "line": {
             "colorbar": {
              "outlinewidth": 0,
              "ticks": ""
             }
            },
            "type": "parcoords"
           }
          ],
          "pie": [
           {
            "automargin": true,
            "type": "pie"
           }
          ],
          "scatter": [
           {
            "fillpattern": {
             "fillmode": "overlay",
             "size": 10,
             "solidity": 0.2
            },
            "type": "scatter"
           }
          ],
          "scatter3d": [
           {
            "line": {
             "colorbar": {
              "outlinewidth": 0,
              "ticks": ""
             }
            },
            "marker": {
             "colorbar": {
              "outlinewidth": 0,
              "ticks": ""
             }
            },
            "type": "scatter3d"
           }
          ],
          "scattercarpet": [
           {
            "marker": {
             "colorbar": {
              "outlinewidth": 0,
              "ticks": ""
             }
            },
            "type": "scattercarpet"
           }
          ],
          "scattergeo": [
           {
            "marker": {
             "colorbar": {
              "outlinewidth": 0,
              "ticks": ""
             }
            },
            "type": "scattergeo"
           }
          ],
          "scattergl": [
           {
            "marker": {
             "colorbar": {
              "outlinewidth": 0,
              "ticks": ""
             }
            },
            "type": "scattergl"
           }
          ],
          "scattermap": [
           {
            "marker": {
             "colorbar": {
              "outlinewidth": 0,
              "ticks": ""
             }
            },
            "type": "scattermap"
           }
          ],
          "scattermapbox": [
           {
            "marker": {
             "colorbar": {
              "outlinewidth": 0,
              "ticks": ""
             }
            },
            "type": "scattermapbox"
           }
          ],
          "scatterpolar": [
           {
            "marker": {
             "colorbar": {
              "outlinewidth": 0,
              "ticks": ""
             }
            },
            "type": "scatterpolar"
           }
          ],
          "scatterpolargl": [
           {
            "marker": {
             "colorbar": {
              "outlinewidth": 0,
              "ticks": ""
             }
            },
            "type": "scatterpolargl"
           }
          ],
          "scatterternary": [
           {
            "marker": {
             "colorbar": {
              "outlinewidth": 0,
              "ticks": ""
             }
            },
            "type": "scatterternary"
           }
          ],
          "surface": [
           {
            "colorbar": {
             "outlinewidth": 0,
             "ticks": ""
            },
            "colorscale": [
             [
              0,
              "#0d0887"
             ],
             [
              0.1111111111111111,
              "#46039f"
             ],
             [
              0.2222222222222222,
              "#7201a8"
             ],
             [
              0.3333333333333333,
              "#9c179e"
             ],
             [
              0.4444444444444444,
              "#bd3786"
             ],
             [
              0.5555555555555556,
              "#d8576b"
             ],
             [
              0.6666666666666666,
              "#ed7953"
             ],
             [
              0.7777777777777778,
              "#fb9f3a"
             ],
             [
              0.8888888888888888,
              "#fdca26"
             ],
             [
              1,
              "#f0f921"
             ]
            ],
            "type": "surface"
           }
          ],
          "table": [
           {
            "cells": {
             "fill": {
              "color": "#EBF0F8"
             },
             "line": {
              "color": "white"
             }
            },
            "header": {
             "fill": {
              "color": "#C8D4E3"
             },
             "line": {
              "color": "white"
             }
            },
            "type": "table"
           }
          ]
         },
         "layout": {
          "annotationdefaults": {
           "arrowcolor": "#2a3f5f",
           "arrowhead": 0,
           "arrowwidth": 1
          },
          "autotypenumbers": "strict",
          "coloraxis": {
           "colorbar": {
            "outlinewidth": 0,
            "ticks": ""
           }
          },
          "colorscale": {
           "diverging": [
            [
             0,
             "#8e0152"
            ],
            [
             0.1,
             "#c51b7d"
            ],
            [
             0.2,
             "#de77ae"
            ],
            [
             0.3,
             "#f1b6da"
            ],
            [
             0.4,
             "#fde0ef"
            ],
            [
             0.5,
             "#f7f7f7"
            ],
            [
             0.6,
             "#e6f5d0"
            ],
            [
             0.7,
             "#b8e186"
            ],
            [
             0.8,
             "#7fbc41"
            ],
            [
             0.9,
             "#4d9221"
            ],
            [
             1,
             "#276419"
            ]
           ],
           "sequential": [
            [
             0,
             "#0d0887"
            ],
            [
             0.1111111111111111,
             "#46039f"
            ],
            [
             0.2222222222222222,
             "#7201a8"
            ],
            [
             0.3333333333333333,
             "#9c179e"
            ],
            [
             0.4444444444444444,
             "#bd3786"
            ],
            [
             0.5555555555555556,
             "#d8576b"
            ],
            [
             0.6666666666666666,
             "#ed7953"
            ],
            [
             0.7777777777777778,
             "#fb9f3a"
            ],
            [
             0.8888888888888888,
             "#fdca26"
            ],
            [
             1,
             "#f0f921"
            ]
           ],
           "sequentialminus": [
            [
             0,
             "#0d0887"
            ],
            [
             0.1111111111111111,
             "#46039f"
            ],
            [
             0.2222222222222222,
             "#7201a8"
            ],
            [
             0.3333333333333333,
             "#9c179e"
            ],
            [
             0.4444444444444444,
             "#bd3786"
            ],
            [
             0.5555555555555556,
             "#d8576b"
            ],
            [
             0.6666666666666666,
             "#ed7953"
            ],
            [
             0.7777777777777778,
             "#fb9f3a"
            ],
            [
             0.8888888888888888,
             "#fdca26"
            ],
            [
             1,
             "#f0f921"
            ]
           ]
          },
          "colorway": [
           "#636efa",
           "#EF553B",
           "#00cc96",
           "#ab63fa",
           "#FFA15A",
           "#19d3f3",
           "#FF6692",
           "#B6E880",
           "#FF97FF",
           "#FECB52"
          ],
          "font": {
           "color": "#2a3f5f"
          },
          "geo": {
           "bgcolor": "white",
           "lakecolor": "white",
           "landcolor": "#E5ECF6",
           "showlakes": true,
           "showland": true,
           "subunitcolor": "white"
          },
          "hoverlabel": {
           "align": "left"
          },
          "hovermode": "closest",
          "mapbox": {
           "style": "light"
          },
          "paper_bgcolor": "white",
          "plot_bgcolor": "#E5ECF6",
          "polar": {
           "angularaxis": {
            "gridcolor": "white",
            "linecolor": "white",
            "ticks": ""
           },
           "bgcolor": "#E5ECF6",
           "radialaxis": {
            "gridcolor": "white",
            "linecolor": "white",
            "ticks": ""
           }
          },
          "scene": {
           "xaxis": {
            "backgroundcolor": "#E5ECF6",
            "gridcolor": "white",
            "gridwidth": 2,
            "linecolor": "white",
            "showbackground": true,
            "ticks": "",
            "zerolinecolor": "white"
           },
           "yaxis": {
            "backgroundcolor": "#E5ECF6",
            "gridcolor": "white",
            "gridwidth": 2,
            "linecolor": "white",
            "showbackground": true,
            "ticks": "",
            "zerolinecolor": "white"
           },
           "zaxis": {
            "backgroundcolor": "#E5ECF6",
            "gridcolor": "white",
            "gridwidth": 2,
            "linecolor": "white",
            "showbackground": true,
            "ticks": "",
            "zerolinecolor": "white"
           }
          },
          "shapedefaults": {
           "line": {
            "color": "#2a3f5f"
           }
          },
          "ternary": {
           "aaxis": {
            "gridcolor": "white",
            "linecolor": "white",
            "ticks": ""
           },
           "baxis": {
            "gridcolor": "white",
            "linecolor": "white",
            "ticks": ""
           },
           "bgcolor": "#E5ECF6",
           "caxis": {
            "gridcolor": "white",
            "linecolor": "white",
            "ticks": ""
           }
          },
          "title": {
           "x": 0.05
          },
          "xaxis": {
           "automargin": true,
           "gridcolor": "white",
           "linecolor": "white",
           "ticks": "",
           "title": {
            "standoff": 15
           },
           "zerolinecolor": "white",
           "zerolinewidth": 2
          },
          "yaxis": {
           "automargin": true,
           "gridcolor": "white",
           "linecolor": "white",
           "ticks": "",
           "title": {
            "standoff": 15
           },
           "zerolinecolor": "white",
           "zerolinewidth": 2
          }
         }
        },
        "title": {
         "text": "Füllstand v(t) über die Zeit"
        },
        "xaxis": {
         "anchor": "y",
         "domain": [
          0,
          1
         ],
         "title": {
          "text": "t"
         }
        },
        "yaxis": {
         "anchor": "x",
         "domain": [
          0,
          1
         ],
         "title": {
          "text": "v(t)"
         }
        }
       }
      }
     },
     "metadata": {},
     "output_type": "display_data"
    }
   ],
   "source": [
    "px.line(res, x=\"t\", y=\"v(t)\", color=\"Sequenz\", title=\"Füllstand v(t) über die Zeit\")"
   ]
  },
  {
   "cell_type": "markdown",
   "id": "c19d761c",
   "metadata": {},
   "source": [
    "<br>"
   ]
  },
  {
   "cell_type": "markdown",
   "id": "aa5e0240",
   "metadata": {},
   "source": [
    "# Vorhersage der gesamten Abflussmenge aus Tank 3 am Ende jedes Batches"
   ]
  },
  {
   "cell_type": "markdown",
   "id": "dbf13ed6",
   "metadata": {},
   "source": [
    "## Feature- und Target-Generierung"
   ]
  },
  {
   "cell_type": "code",
   "execution_count": 5,
   "id": "b3bf3fda",
   "metadata": {},
   "outputs": [],
   "source": [
    "# # Annahme: Zeitabstand zwischen den Messungen in t ist konstant und beträgt delta_t (z.B. 1 Sekunde)\n",
    "# delta_t = 1  \n",
    "\n",
    "# def abflussmenge_pro_batch(grp):\n",
    "#     # Integral (Summe) von v(t) * delta_t für jede Sequenz\n",
    "#     return (grp[\"v(t)\"]*delta_t).sum()\n",
    "\n",
    "# # Neue Zielvariable erzeugen: gesamte Abflussmenge pro Batch (jedem Zeitschritt der Batch-Sequenz zuordnen)\n",
    "# abfluss_dict = res.groupby(\"Sequenz\").apply(abflussmenge_pro_batch).to_dict()\n",
    "# res[\"V_total_out\"] = res[\"Sequenz\"].map(abfluss_dict)"
   ]
  },
  {
   "cell_type": "code",
   "execution_count": 6,
   "id": "7d5f0efa",
   "metadata": {},
   "outputs": [
    {
     "name": "stderr",
     "output_type": "stream",
     "text": [
      "C:\\Users\\sinan\\AppData\\Local\\Temp\\ipykernel_22296\\1335688016.py:9: FutureWarning:\n",
      "\n",
      "DataFrameGroupBy.apply operated on the grouping columns. This behavior is deprecated, and in a future version of pandas the grouping columns will be excluded from the operation. Either pass `include_groups=False` to exclude the groupings or explicitly select the grouping columns after groupby to silence this warning.\n",
      "\n"
     ]
    }
   ],
   "source": [
    "delta_t = 1\n",
    "durchmesser = 2            # in LE\n",
    "radius = durchmesser / 2   # in LE\n",
    "A = np.pi * radius**2      # in LE^2\n",
    "\n",
    "def abflussmenge_pro_batch(grp):\n",
    "    return (grp[\"v(t)\"] * A * delta_t).sum()\n",
    "\n",
    "abfluss_dict = res.groupby(\"Sequenz\").apply(abflussmenge_pro_batch).to_dict()\n",
    "res[\"V_total_out\"] = res[\"Sequenz\"].map(abfluss_dict)"
   ]
  },
  {
   "cell_type": "code",
   "execution_count": 7,
   "id": "a34c1a8a",
   "metadata": {},
   "outputs": [
    {
     "data": {
      "text/html": [
       "<div>\n",
       "<style scoped>\n",
       "    .dataframe tbody tr th:only-of-type {\n",
       "        vertical-align: middle;\n",
       "    }\n",
       "\n",
       "    .dataframe tbody tr th {\n",
       "        vertical-align: top;\n",
       "    }\n",
       "\n",
       "    .dataframe thead th {\n",
       "        text-align: right;\n",
       "    }\n",
       "</style>\n",
       "<table border=\"1\" class=\"dataframe\">\n",
       "  <thead>\n",
       "    <tr style=\"text-align: right;\">\n",
       "      <th></th>\n",
       "      <th>t</th>\n",
       "      <th>Sequenz</th>\n",
       "      <th>u1(t)</th>\n",
       "      <th>u2(t)</th>\n",
       "      <th>x1(t)</th>\n",
       "      <th>x2(t)</th>\n",
       "      <th>x3(t)</th>\n",
       "      <th>v(t)</th>\n",
       "      <th>V_total_out</th>\n",
       "    </tr>\n",
       "  </thead>\n",
       "  <tbody>\n",
       "    <tr>\n",
       "      <th>0</th>\n",
       "      <td>0</td>\n",
       "      <td>1</td>\n",
       "      <td>0.000000e+00</td>\n",
       "      <td>0.000000</td>\n",
       "      <td>5.988230</td>\n",
       "      <td>2.331288</td>\n",
       "      <td>1.212181</td>\n",
       "      <td>4.544362</td>\n",
       "      <td>2863.896813</td>\n",
       "    </tr>\n",
       "    <tr>\n",
       "      <th>1</th>\n",
       "      <td>1</td>\n",
       "      <td>1</td>\n",
       "      <td>2.194408e+00</td>\n",
       "      <td>2.394381</td>\n",
       "      <td>1.467460</td>\n",
       "      <td>1.213719</td>\n",
       "      <td>1.478458</td>\n",
       "      <td>4.936056</td>\n",
       "      <td>2863.896813</td>\n",
       "    </tr>\n",
       "    <tr>\n",
       "      <th>2</th>\n",
       "      <td>2</td>\n",
       "      <td>1</td>\n",
       "      <td>4.196763e+00</td>\n",
       "      <td>4.603298</td>\n",
       "      <td>1.314415</td>\n",
       "      <td>1.622736</td>\n",
       "      <td>1.535122</td>\n",
       "      <td>5.327472</td>\n",
       "      <td>2863.896813</td>\n",
       "    </tr>\n",
       "    <tr>\n",
       "      <th>3</th>\n",
       "      <td>3</td>\n",
       "      <td>1</td>\n",
       "      <td>6.017419e+00</td>\n",
       "      <td>6.635741</td>\n",
       "      <td>1.491854</td>\n",
       "      <td>1.677920</td>\n",
       "      <td>1.598870</td>\n",
       "      <td>5.335756</td>\n",
       "      <td>2863.896813</td>\n",
       "    </tr>\n",
       "    <tr>\n",
       "      <th>4</th>\n",
       "      <td>4</td>\n",
       "      <td>1</td>\n",
       "      <td>7.666488e+00</td>\n",
       "      <td>8.500489</td>\n",
       "      <td>1.719355</td>\n",
       "      <td>1.564766</td>\n",
       "      <td>1.889846</td>\n",
       "      <td>5.568579</td>\n",
       "      <td>2863.896813</td>\n",
       "    </tr>\n",
       "    <tr>\n",
       "      <th>...</th>\n",
       "      <td>...</td>\n",
       "      <td>...</td>\n",
       "      <td>...</td>\n",
       "      <td>...</td>\n",
       "      <td>...</td>\n",
       "      <td>...</td>\n",
       "      <td>...</td>\n",
       "      <td>...</td>\n",
       "      <td>...</td>\n",
       "    </tr>\n",
       "    <tr>\n",
       "      <th>27995</th>\n",
       "      <td>135</td>\n",
       "      <td>200</td>\n",
       "      <td>2.500000e+01</td>\n",
       "      <td>3.015062</td>\n",
       "      <td>7.120053</td>\n",
       "      <td>6.206604</td>\n",
       "      <td>0.558532</td>\n",
       "      <td>3.198816</td>\n",
       "      <td>2791.727728</td>\n",
       "    </tr>\n",
       "    <tr>\n",
       "      <th>27996</th>\n",
       "      <td>136</td>\n",
       "      <td>200</td>\n",
       "      <td>2.500000e+01</td>\n",
       "      <td>2.565913</td>\n",
       "      <td>6.950856</td>\n",
       "      <td>6.501144</td>\n",
       "      <td>0.482466</td>\n",
       "      <td>3.168365</td>\n",
       "      <td>2791.727728</td>\n",
       "    </tr>\n",
       "    <tr>\n",
       "      <th>27997</th>\n",
       "      <td>137</td>\n",
       "      <td>200</td>\n",
       "      <td>1.775956e+01</td>\n",
       "      <td>2.096692</td>\n",
       "      <td>7.062912</td>\n",
       "      <td>6.718728</td>\n",
       "      <td>0.375799</td>\n",
       "      <td>2.985077</td>\n",
       "      <td>2791.727728</td>\n",
       "    </tr>\n",
       "    <tr>\n",
       "      <th>27998</th>\n",
       "      <td>138</td>\n",
       "      <td>200</td>\n",
       "      <td>7.673862e-13</td>\n",
       "      <td>1.606469</td>\n",
       "      <td>7.550670</td>\n",
       "      <td>6.683511</td>\n",
       "      <td>0.640433</td>\n",
       "      <td>2.220530</td>\n",
       "      <td>2791.727728</td>\n",
       "    </tr>\n",
       "    <tr>\n",
       "      <th>27999</th>\n",
       "      <td>139</td>\n",
       "      <td>200</td>\n",
       "      <td>2.841470e+00</td>\n",
       "      <td>1.094281</td>\n",
       "      <td>6.974917</td>\n",
       "      <td>6.754377</td>\n",
       "      <td>0.127193</td>\n",
       "      <td>1.492240</td>\n",
       "      <td>2791.727728</td>\n",
       "    </tr>\n",
       "  </tbody>\n",
       "</table>\n",
       "<p>28000 rows × 9 columns</p>\n",
       "</div>"
      ],
      "text/plain": [
       "         t  Sequenz         u1(t)     u2(t)     x1(t)     x2(t)     x3(t)  \\\n",
       "0        0        1  0.000000e+00  0.000000  5.988230  2.331288  1.212181   \n",
       "1        1        1  2.194408e+00  2.394381  1.467460  1.213719  1.478458   \n",
       "2        2        1  4.196763e+00  4.603298  1.314415  1.622736  1.535122   \n",
       "3        3        1  6.017419e+00  6.635741  1.491854  1.677920  1.598870   \n",
       "4        4        1  7.666488e+00  8.500489  1.719355  1.564766  1.889846   \n",
       "...    ...      ...           ...       ...       ...       ...       ...   \n",
       "27995  135      200  2.500000e+01  3.015062  7.120053  6.206604  0.558532   \n",
       "27996  136      200  2.500000e+01  2.565913  6.950856  6.501144  0.482466   \n",
       "27997  137      200  1.775956e+01  2.096692  7.062912  6.718728  0.375799   \n",
       "27998  138      200  7.673862e-13  1.606469  7.550670  6.683511  0.640433   \n",
       "27999  139      200  2.841470e+00  1.094281  6.974917  6.754377  0.127193   \n",
       "\n",
       "           v(t)  V_total_out  \n",
       "0      4.544362  2863.896813  \n",
       "1      4.936056  2863.896813  \n",
       "2      5.327472  2863.896813  \n",
       "3      5.335756  2863.896813  \n",
       "4      5.568579  2863.896813  \n",
       "...         ...          ...  \n",
       "27995  3.198816  2791.727728  \n",
       "27996  3.168365  2791.727728  \n",
       "27997  2.985077  2791.727728  \n",
       "27998  2.220530  2791.727728  \n",
       "27999  1.492240  2791.727728  \n",
       "\n",
       "[28000 rows x 9 columns]"
      ]
     },
     "execution_count": 7,
     "metadata": {},
     "output_type": "execute_result"
    }
   ],
   "source": [
    "res"
   ]
  },
  {
   "cell_type": "code",
   "execution_count": 8,
   "id": "71fc90f4",
   "metadata": {},
   "outputs": [
    {
     "name": "stdout",
     "output_type": "stream",
     "text": [
      "Features: ['u1(t)', 'u2(t)', 'v(t)', 'x1(t)', 'x2(t)']\n",
      "Target: V_total_out\n",
      "\n",
      "Erstelle 3D-Tensoren mit der Form (Batches, Zeitschritte, Features)...\n",
      "Form des Feature-Tensors X: (200, 140, 5)\n",
      "Form des Target-Vektors y: (200, 1)\n"
     ]
    }
   ],
   "source": [
    "# DATEN-PIPELINE\n",
    "features = [\"u1(t)\", \"u2(t)\", \"v(t)\", \"x1(t)\", \"x2(t)\"]\n",
    "target = \"V_total_out\"\n",
    "\n",
    "print(f\"Features: {features}\")\n",
    "print(f\"Target: {target}\")\n",
    "\n",
    "\n",
    "# Daten in Sequenzen umwandeln\n",
    "unique_sequences = res[\"Sequenz\"].unique()\n",
    "n_sequences = len(unique_sequences)\n",
    "n_timesteps = res.groupby(\"Sequenz\").size().iloc[0]\n",
    "n_features = len(features)\n",
    "\n",
    "# Initialisiere die leeren NumPy-Arrays\n",
    "X = np.zeros((n_sequences, n_timesteps, n_features))\n",
    "y = np.zeros((n_sequences, 1))\n",
    "\n",
    "print(f\"\\nErstelle 3D-Tensoren mit der Form (Batches, Zeitschritte, Features)...\")\n",
    "for i, seq_id in enumerate(unique_sequences):\n",
    "    # Extrahiere die Features für die aktuelle Sequenz\n",
    "    sequence_data = res[res[\"Sequenz\"] == seq_id][features].values\n",
    "    X[i] = sequence_data\n",
    "\n",
    "    # Extrahiere den Zielwert (ist für die ganze Sequenz gleich, also nehmen wir den ersten)\n",
    "    target_value = res[res[\"Sequenz\"] == seq_id][target].iloc[0]\n",
    "    y[i] = target_value\n",
    "\n",
    "print(f\"Form des Feature-Tensors X: {X.shape}\")\n",
    "print(f\"Form des Target-Vektors y: {y.shape}\")"
   ]
  },
  {
   "cell_type": "markdown",
   "id": "41501e97",
   "metadata": {},
   "source": [
    "## Aufteilen in Trainings-, Validierungs- und Testdaten (Batch-weise)"
   ]
  },
  {
   "cell_type": "code",
   "execution_count": 9,
   "id": "adf9f282",
   "metadata": {},
   "outputs": [
    {
     "name": "stdout",
     "output_type": "stream",
     "text": [
      "\n",
      "Daten aufgeteilt:\n",
      "Trainingsdaten: 160 Batches\n",
      "Validierungsdaten: 20 Batches\n",
      "Testdaten: 20 Batches\n"
     ]
    }
   ],
   "source": [
    "# Wir teilen die Indizes der Batches auf, nicht die einzelnen Zeilen!\n",
    "indices = np.arange(n_sequences)\n",
    "\n",
    "# Zuerst 80% Training und 20% für (Validierung + Test)\n",
    "X_train, X_temp, y_train, y_temp, indices_train, indices_temp = train_test_split(\n",
    "    X, y, indices, test_size=0.2, random_state=42\n",
    ")\n",
    "\n",
    "# Dann die 20% in 10% Validierung und 10% Test aufteilen (50/50 split von temp)\n",
    "X_val, X_test, y_val, y_test, indices_val, indices_test = train_test_split(\n",
    "    X_temp, y_temp, indices_temp, test_size=0.5, random_state=42\n",
    ")\n",
    "\n",
    "print(\"\\nDaten aufgeteilt:\")\n",
    "print(f\"Trainingsdaten: {X_train.shape[0]} Batches\")\n",
    "print(f\"Validierungsdaten: {X_val.shape[0]} Batches\")\n",
    "print(f\"Testdaten: {X_test.shape[0]} Batches\")"
   ]
  },
  {
   "cell_type": "markdown",
   "id": "af0aff5f",
   "metadata": {},
   "source": [
    "## Skalierung der Daten"
   ]
  },
  {
   "cell_type": "code",
   "execution_count": 10,
   "id": "35c31558",
   "metadata": {},
   "outputs": [
    {
     "name": "stdout",
     "output_type": "stream",
     "text": [
      "X_train_scaled: (160, 140, 5), y_train_scaled: (160, 1)\n",
      "X_val_scaled: (20, 140, 5), y_val_scaled: (20, 1)\n",
      "X_test_scaled: (20, 140, 5), y_test_scaled: (20, 1)\n"
     ]
    }
   ],
   "source": [
    "# Skalierung für die Features (X)\n",
    "scaler_X = StandardScaler()\n",
    "X_train_reshaped = X_train.reshape(-1, n_features)\n",
    "scaler_X.fit(X_train_reshaped)\n",
    "\n",
    "# Transformation anwenden und zurück in 3D-Form bringen\n",
    "X_train_scaled = scaler_X.transform(X_train_reshaped).reshape(X_train.shape)\n",
    "X_val_scaled = scaler_X.transform(X_val.reshape(-1, n_features)).reshape(X_val.shape)\n",
    "X_test_scaled = scaler_X.transform(X_test.reshape(-1, n_features)).reshape(X_test.shape)\n",
    "\n",
    "# Skalierung für den Zielwert (y)\n",
    "scaler_y = StandardScaler()\n",
    "y_train_scaled = scaler_y.fit_transform(y_train)\n",
    "y_val_scaled = scaler_y.transform(y_val)\n",
    "y_test_scaled = scaler_y.transform(y_test)\n",
    "\n",
    "\n",
    "print(f\"X_train_scaled: {X_train_scaled.shape}, y_train_scaled: {y_train_scaled.shape}\")\n",
    "print(f\"X_val_scaled: {X_val_scaled.shape}, y_val_scaled: {y_val_scaled.shape}\")\n",
    "print(f\"X_test_scaled: {X_test_scaled.shape}, y_test_scaled: {y_test_scaled.shape}\")"
   ]
  },
  {
   "cell_type": "markdown",
   "id": "cb515241",
   "metadata": {},
   "source": [
    "<br>"
   ]
  },
  {
   "cell_type": "markdown",
   "id": "e89c130b",
   "metadata": {},
   "source": [
    "## Modellerstellung und -training"
   ]
  },
  {
   "cell_type": "markdown",
   "id": "44ce5243",
   "metadata": {},
   "source": [
    "### STA-LSTM\n",
    "\n",
    "- Das Modell erkennt automatisch:\n",
    "    - **Welche Sensoren** zu welchem **Zeitpunkt** für die Qualitätsvorhersage wichtig sind.\n",
    "    - **Welche Zeitpunkte** im bisherigen Prozessverlauf besonders stark auf die Zielgröße wirken."
   ]
  },
  {
   "cell_type": "code",
   "execution_count": 11,
   "id": "b883bd49",
   "metadata": {},
   "outputs": [
    {
     "name": "stdout",
     "output_type": "stream",
     "text": [
      "WARNING:tensorflow:From c:\\Users\\sinan\\AppData\\Local\\Programs\\Python\\Python311\\Lib\\site-packages\\keras\\src\\backend\\tensorflow\\core.py:232: The name tf.placeholder is deprecated. Please use tf.compat.v1.placeholder instead.\n",
      "\n",
      "STA-LSTM-Modellarchitektur:\n"
     ]
    },
    {
     "data": {
      "text/html": [
       "<pre style=\"white-space:pre;overflow-x:auto;line-height:normal;font-family:Menlo,'DejaVu Sans Mono',consolas,'Courier New',monospace\"><span style=\"font-weight: bold\">Model: \"functional\"</span>\n",
       "</pre>\n"
      ],
      "text/plain": [
       "\u001b[1mModel: \"functional\"\u001b[0m\n"
      ]
     },
     "metadata": {},
     "output_type": "display_data"
    },
    {
     "data": {
      "text/html": [
       "<pre style=\"white-space:pre;overflow-x:auto;line-height:normal;font-family:Menlo,'DejaVu Sans Mono',consolas,'Courier New',monospace\">┏━━━━━━━━━━━━━━━━━━━━━━━━━━━━━━━━━┳━━━━━━━━━━━━━━━━━━━━━━━━┳━━━━━━━━━━━━━━━┓\n",
       "┃<span style=\"font-weight: bold\"> Layer (type)                    </span>┃<span style=\"font-weight: bold\"> Output Shape           </span>┃<span style=\"font-weight: bold\">       Param # </span>┃\n",
       "┡━━━━━━━━━━━━━━━━━━━━━━━━━━━━━━━━━╇━━━━━━━━━━━━━━━━━━━━━━━━╇━━━━━━━━━━━━━━━┩\n",
       "│ input_layer (<span style=\"color: #0087ff; text-decoration-color: #0087ff\">InputLayer</span>)        │ (<span style=\"color: #00d7ff; text-decoration-color: #00d7ff\">None</span>, <span style=\"color: #00af00; text-decoration-color: #00af00\">140</span>, <span style=\"color: #00af00; text-decoration-color: #00af00\">5</span>)         │             <span style=\"color: #00af00; text-decoration-color: #00af00\">0</span> │\n",
       "├─────────────────────────────────┼────────────────────────┼───────────────┤\n",
       "│ spatial_attention               │ (<span style=\"color: #00d7ff; text-decoration-color: #00d7ff\">None</span>, <span style=\"color: #00af00; text-decoration-color: #00af00\">140</span>, <span style=\"color: #00af00; text-decoration-color: #00af00\">5</span>)         │             <span style=\"color: #00af00; text-decoration-color: #00af00\">6</span> │\n",
       "│ (<span style=\"color: #0087ff; text-decoration-color: #0087ff\">SpatialAttention</span>)              │                        │               │\n",
       "├─────────────────────────────────┼────────────────────────┼───────────────┤\n",
       "│ lstm (<span style=\"color: #0087ff; text-decoration-color: #0087ff\">LSTM</span>)                     │ (<span style=\"color: #00d7ff; text-decoration-color: #00d7ff\">None</span>, <span style=\"color: #00af00; text-decoration-color: #00af00\">140</span>, <span style=\"color: #00af00; text-decoration-color: #00af00\">64</span>)        │        <span style=\"color: #00af00; text-decoration-color: #00af00\">17,920</span> │\n",
       "├─────────────────────────────────┼────────────────────────┼───────────────┤\n",
       "│ temporal_attention              │ (<span style=\"color: #00d7ff; text-decoration-color: #00d7ff\">None</span>, <span style=\"color: #00af00; text-decoration-color: #00af00\">64</span>)             │            <span style=\"color: #00af00; text-decoration-color: #00af00\">65</span> │\n",
       "│ (<span style=\"color: #0087ff; text-decoration-color: #0087ff\">TemporalAttention</span>)             │                        │               │\n",
       "├─────────────────────────────────┼────────────────────────┼───────────────┤\n",
       "│ dropout (<span style=\"color: #0087ff; text-decoration-color: #0087ff\">Dropout</span>)               │ (<span style=\"color: #00d7ff; text-decoration-color: #00d7ff\">None</span>, <span style=\"color: #00af00; text-decoration-color: #00af00\">64</span>)             │             <span style=\"color: #00af00; text-decoration-color: #00af00\">0</span> │\n",
       "├─────────────────────────────────┼────────────────────────┼───────────────┤\n",
       "│ dense_2 (<span style=\"color: #0087ff; text-decoration-color: #0087ff\">Dense</span>)                 │ (<span style=\"color: #00d7ff; text-decoration-color: #00d7ff\">None</span>, <span style=\"color: #00af00; text-decoration-color: #00af00\">1</span>)              │            <span style=\"color: #00af00; text-decoration-color: #00af00\">65</span> │\n",
       "└─────────────────────────────────┴────────────────────────┴───────────────┘\n",
       "</pre>\n"
      ],
      "text/plain": [
       "┏━━━━━━━━━━━━━━━━━━━━━━━━━━━━━━━━━┳━━━━━━━━━━━━━━━━━━━━━━━━┳━━━━━━━━━━━━━━━┓\n",
       "┃\u001b[1m \u001b[0m\u001b[1mLayer (type)                   \u001b[0m\u001b[1m \u001b[0m┃\u001b[1m \u001b[0m\u001b[1mOutput Shape          \u001b[0m\u001b[1m \u001b[0m┃\u001b[1m \u001b[0m\u001b[1m      Param #\u001b[0m\u001b[1m \u001b[0m┃\n",
       "┡━━━━━━━━━━━━━━━━━━━━━━━━━━━━━━━━━╇━━━━━━━━━━━━━━━━━━━━━━━━╇━━━━━━━━━━━━━━━┩\n",
       "│ input_layer (\u001b[38;5;33mInputLayer\u001b[0m)        │ (\u001b[38;5;45mNone\u001b[0m, \u001b[38;5;34m140\u001b[0m, \u001b[38;5;34m5\u001b[0m)         │             \u001b[38;5;34m0\u001b[0m │\n",
       "├─────────────────────────────────┼────────────────────────┼───────────────┤\n",
       "│ spatial_attention               │ (\u001b[38;5;45mNone\u001b[0m, \u001b[38;5;34m140\u001b[0m, \u001b[38;5;34m5\u001b[0m)         │             \u001b[38;5;34m6\u001b[0m │\n",
       "│ (\u001b[38;5;33mSpatialAttention\u001b[0m)              │                        │               │\n",
       "├─────────────────────────────────┼────────────────────────┼───────────────┤\n",
       "│ lstm (\u001b[38;5;33mLSTM\u001b[0m)                     │ (\u001b[38;5;45mNone\u001b[0m, \u001b[38;5;34m140\u001b[0m, \u001b[38;5;34m64\u001b[0m)        │        \u001b[38;5;34m17,920\u001b[0m │\n",
       "├─────────────────────────────────┼────────────────────────┼───────────────┤\n",
       "│ temporal_attention              │ (\u001b[38;5;45mNone\u001b[0m, \u001b[38;5;34m64\u001b[0m)             │            \u001b[38;5;34m65\u001b[0m │\n",
       "│ (\u001b[38;5;33mTemporalAttention\u001b[0m)             │                        │               │\n",
       "├─────────────────────────────────┼────────────────────────┼───────────────┤\n",
       "│ dropout (\u001b[38;5;33mDropout\u001b[0m)               │ (\u001b[38;5;45mNone\u001b[0m, \u001b[38;5;34m64\u001b[0m)             │             \u001b[38;5;34m0\u001b[0m │\n",
       "├─────────────────────────────────┼────────────────────────┼───────────────┤\n",
       "│ dense_2 (\u001b[38;5;33mDense\u001b[0m)                 │ (\u001b[38;5;45mNone\u001b[0m, \u001b[38;5;34m1\u001b[0m)              │            \u001b[38;5;34m65\u001b[0m │\n",
       "└─────────────────────────────────┴────────────────────────┴───────────────┘\n"
      ]
     },
     "metadata": {},
     "output_type": "display_data"
    },
    {
     "data": {
      "text/html": [
       "<pre style=\"white-space:pre;overflow-x:auto;line-height:normal;font-family:Menlo,'DejaVu Sans Mono',consolas,'Courier New',monospace\"><span style=\"font-weight: bold\"> Total params: </span><span style=\"color: #00af00; text-decoration-color: #00af00\">18,056</span> (70.53 KB)\n",
       "</pre>\n"
      ],
      "text/plain": [
       "\u001b[1m Total params: \u001b[0m\u001b[38;5;34m18,056\u001b[0m (70.53 KB)\n"
      ]
     },
     "metadata": {},
     "output_type": "display_data"
    },
    {
     "data": {
      "text/html": [
       "<pre style=\"white-space:pre;overflow-x:auto;line-height:normal;font-family:Menlo,'DejaVu Sans Mono',consolas,'Courier New',monospace\"><span style=\"font-weight: bold\"> Trainable params: </span><span style=\"color: #00af00; text-decoration-color: #00af00\">18,056</span> (70.53 KB)\n",
       "</pre>\n"
      ],
      "text/plain": [
       "\u001b[1m Trainable params: \u001b[0m\u001b[38;5;34m18,056\u001b[0m (70.53 KB)\n"
      ]
     },
     "metadata": {},
     "output_type": "display_data"
    },
    {
     "data": {
      "text/html": [
       "<pre style=\"white-space:pre;overflow-x:auto;line-height:normal;font-family:Menlo,'DejaVu Sans Mono',consolas,'Courier New',monospace\"><span style=\"font-weight: bold\"> Non-trainable params: </span><span style=\"color: #00af00; text-decoration-color: #00af00\">0</span> (0.00 B)\n",
       "</pre>\n"
      ],
      "text/plain": [
       "\u001b[1m Non-trainable params: \u001b[0m\u001b[38;5;34m0\u001b[0m (0.00 B)\n"
      ]
     },
     "metadata": {},
     "output_type": "display_data"
    },
    {
     "name": "stdout",
     "output_type": "stream",
     "text": [
      "\n",
      "Starte das Modelltraining...\n",
      "Epoch 1/50\n",
      "\u001b[1m5/5\u001b[0m \u001b[32m━━━━━━━━━━━━━━━━━━━━\u001b[0m\u001b[37m\u001b[0m \u001b[1m0s\u001b[0m 31ms/step - loss: 0.5596 - mean_absolute_error: 0.5996\n",
      "Epoch 1: val_loss improved from inf to 0.47253, saving model to best_model.keras\n",
      "\u001b[1m5/5\u001b[0m \u001b[32m━━━━━━━━━━━━━━━━━━━━\u001b[0m\u001b[37m\u001b[0m \u001b[1m3s\u001b[0m 155ms/step - loss: 0.5583 - mean_absolute_error: 0.5986 - val_loss: 0.4725 - val_mean_absolute_error: 0.4940\n",
      "Epoch 2/50\n",
      "\u001b[1m3/5\u001b[0m \u001b[32m━━━━━━━━━━━━\u001b[0m\u001b[37m━━━━━━━━\u001b[0m \u001b[1m0s\u001b[0m 32ms/step - loss: 0.4515 - mean_absolute_error: 0.5427\n",
      "Epoch 2: val_loss improved from 0.47253 to 0.20232, saving model to best_model.keras\n",
      "\u001b[1m5/5\u001b[0m \u001b[32m━━━━━━━━━━━━━━━━━━━━\u001b[0m\u001b[37m\u001b[0m \u001b[1m0s\u001b[0m 62ms/step - loss: 0.3778 - mean_absolute_error: 0.4826 - val_loss: 0.2023 - val_mean_absolute_error: 0.3684\n",
      "Epoch 3/50\n",
      "\u001b[1m5/5\u001b[0m \u001b[32m━━━━━━━━━━━━━━━━━━━━\u001b[0m\u001b[37m\u001b[0m \u001b[1m0s\u001b[0m 30ms/step - loss: 0.1573 - mean_absolute_error: 0.2925\n",
      "Epoch 3: val_loss improved from 0.20232 to 0.11948, saving model to best_model.keras\n",
      "\u001b[1m5/5\u001b[0m \u001b[32m━━━━━━━━━━━━━━━━━━━━\u001b[0m\u001b[37m\u001b[0m \u001b[1m0s\u001b[0m 63ms/step - loss: 0.1515 - mean_absolute_error: 0.2876 - val_loss: 0.1195 - val_mean_absolute_error: 0.2845\n",
      "Epoch 4/50\n",
      "\u001b[1m5/5\u001b[0m \u001b[32m━━━━━━━━━━━━━━━━━━━━\u001b[0m\u001b[37m\u001b[0m \u001b[1m0s\u001b[0m 35ms/step - loss: 0.0837 - mean_absolute_error: 0.2202\n",
      "Epoch 4: val_loss improved from 0.11948 to 0.06868, saving model to best_model.keras\n",
      "\u001b[1m5/5\u001b[0m \u001b[32m━━━━━━━━━━━━━━━━━━━━\u001b[0m\u001b[37m\u001b[0m \u001b[1m0s\u001b[0m 65ms/step - loss: 0.0820 - mean_absolute_error: 0.2183 - val_loss: 0.0687 - val_mean_absolute_error: 0.2255\n",
      "Epoch 5/50\n",
      "\u001b[1m5/5\u001b[0m \u001b[32m━━━━━━━━━━━━━━━━━━━━\u001b[0m\u001b[37m\u001b[0m \u001b[1m0s\u001b[0m 27ms/step - loss: 0.0747 - mean_absolute_error: 0.2141\n",
      "Epoch 5: val_loss improved from 0.06868 to 0.05837, saving model to best_model.keras\n",
      "\u001b[1m5/5\u001b[0m \u001b[32m━━━━━━━━━━━━━━━━━━━━\u001b[0m\u001b[37m\u001b[0m \u001b[1m0s\u001b[0m 57ms/step - loss: 0.0734 - mean_absolute_error: 0.2129 - val_loss: 0.0584 - val_mean_absolute_error: 0.1765\n",
      "Epoch 6/50\n",
      "\u001b[1m5/5\u001b[0m \u001b[32m━━━━━━━━━━━━━━━━━━━━\u001b[0m\u001b[37m\u001b[0m \u001b[1m0s\u001b[0m 29ms/step - loss: 0.0462 - mean_absolute_error: 0.1737\n",
      "Epoch 6: val_loss did not improve from 0.05837\n",
      "\u001b[1m5/5\u001b[0m \u001b[32m━━━━━━━━━━━━━━━━━━━━\u001b[0m\u001b[37m\u001b[0m \u001b[1m0s\u001b[0m 50ms/step - loss: 0.0460 - mean_absolute_error: 0.1726 - val_loss: 0.0622 - val_mean_absolute_error: 0.1637\n",
      "Epoch 7/50\n",
      "\u001b[1m5/5\u001b[0m \u001b[32m━━━━━━━━━━━━━━━━━━━━\u001b[0m\u001b[37m\u001b[0m \u001b[1m0s\u001b[0m 29ms/step - loss: 0.0742 - mean_absolute_error: 0.1803\n",
      "Epoch 7: val_loss improved from 0.05837 to 0.05050, saving model to best_model.keras\n",
      "\u001b[1m5/5\u001b[0m \u001b[32m━━━━━━━━━━━━━━━━━━━━\u001b[0m\u001b[37m\u001b[0m \u001b[1m0s\u001b[0m 62ms/step - loss: 0.0714 - mean_absolute_error: 0.1787 - val_loss: 0.0505 - val_mean_absolute_error: 0.1473\n",
      "Epoch 8/50\n",
      "\u001b[1m5/5\u001b[0m \u001b[32m━━━━━━━━━━━━━━━━━━━━\u001b[0m\u001b[37m\u001b[0m \u001b[1m0s\u001b[0m 30ms/step - loss: 0.0342 - mean_absolute_error: 0.1324\n",
      "Epoch 8: val_loss improved from 0.05050 to 0.04413, saving model to best_model.keras\n",
      "\u001b[1m5/5\u001b[0m \u001b[32m━━━━━━━━━━━━━━━━━━━━\u001b[0m\u001b[37m\u001b[0m \u001b[1m0s\u001b[0m 62ms/step - loss: 0.0351 - mean_absolute_error: 0.1342 - val_loss: 0.0441 - val_mean_absolute_error: 0.1496\n",
      "Epoch 9/50\n",
      "\u001b[1m5/5\u001b[0m \u001b[32m━━━━━━━━━━━━━━━━━━━━\u001b[0m\u001b[37m\u001b[0m \u001b[1m0s\u001b[0m 34ms/step - loss: 0.0327 - mean_absolute_error: 0.1346\n",
      "Epoch 9: val_loss improved from 0.04413 to 0.04362, saving model to best_model.keras\n",
      "\u001b[1m5/5\u001b[0m \u001b[32m━━━━━━━━━━━━━━━━━━━━\u001b[0m\u001b[37m\u001b[0m \u001b[1m0s\u001b[0m 67ms/step - loss: 0.0337 - mean_absolute_error: 0.1373 - val_loss: 0.0436 - val_mean_absolute_error: 0.1532\n",
      "Epoch 10/50\n",
      "\u001b[1m5/5\u001b[0m \u001b[32m━━━━━━━━━━━━━━━━━━━━\u001b[0m\u001b[37m\u001b[0m \u001b[1m0s\u001b[0m 32ms/step - loss: 0.0346 - mean_absolute_error: 0.1405\n",
      "Epoch 10: val_loss improved from 0.04362 to 0.04026, saving model to best_model.keras\n",
      "\u001b[1m5/5\u001b[0m \u001b[32m━━━━━━━━━━━━━━━━━━━━\u001b[0m\u001b[37m\u001b[0m \u001b[1m0s\u001b[0m 66ms/step - loss: 0.0341 - mean_absolute_error: 0.1396 - val_loss: 0.0403 - val_mean_absolute_error: 0.1465\n",
      "Epoch 11/50\n",
      "\u001b[1m5/5\u001b[0m \u001b[32m━━━━━━━━━━━━━━━━━━━━\u001b[0m\u001b[37m\u001b[0m \u001b[1m0s\u001b[0m 35ms/step - loss: 0.0354 - mean_absolute_error: 0.1330\n",
      "Epoch 11: val_loss improved from 0.04026 to 0.03524, saving model to best_model.keras\n",
      "\u001b[1m5/5\u001b[0m \u001b[32m━━━━━━━━━━━━━━━━━━━━\u001b[0m\u001b[37m\u001b[0m \u001b[1m0s\u001b[0m 65ms/step - loss: 0.0344 - mean_absolute_error: 0.1322 - val_loss: 0.0352 - val_mean_absolute_error: 0.1372\n",
      "Epoch 12/50\n",
      "\u001b[1m5/5\u001b[0m \u001b[32m━━━━━━━━━━━━━━━━━━━━\u001b[0m\u001b[37m\u001b[0m \u001b[1m0s\u001b[0m 30ms/step - loss: 0.0327 - mean_absolute_error: 0.1342\n",
      "Epoch 12: val_loss improved from 0.03524 to 0.03234, saving model to best_model.keras\n",
      "\u001b[1m5/5\u001b[0m \u001b[32m━━━━━━━━━━━━━━━━━━━━\u001b[0m\u001b[37m\u001b[0m \u001b[1m0s\u001b[0m 59ms/step - loss: 0.0325 - mean_absolute_error: 0.1335 - val_loss: 0.0323 - val_mean_absolute_error: 0.1291\n",
      "Epoch 13/50\n",
      "\u001b[1m5/5\u001b[0m \u001b[32m━━━━━━━━━━━━━━━━━━━━\u001b[0m\u001b[37m\u001b[0m \u001b[1m0s\u001b[0m 31ms/step - loss: 0.0268 - mean_absolute_error: 0.1251\n",
      "Epoch 13: val_loss improved from 0.03234 to 0.02456, saving model to best_model.keras\n",
      "\u001b[1m5/5\u001b[0m \u001b[32m━━━━━━━━━━━━━━━━━━━━\u001b[0m\u001b[37m\u001b[0m \u001b[1m0s\u001b[0m 71ms/step - loss: 0.0272 - mean_absolute_error: 0.1260 - val_loss: 0.0246 - val_mean_absolute_error: 0.1170\n",
      "Epoch 14/50\n",
      "\u001b[1m5/5\u001b[0m \u001b[32m━━━━━━━━━━━━━━━━━━━━\u001b[0m\u001b[37m\u001b[0m \u001b[1m0s\u001b[0m 40ms/step - loss: 0.0236 - mean_absolute_error: 0.1259\n",
      "Epoch 14: val_loss improved from 0.02456 to 0.02309, saving model to best_model.keras\n",
      "\u001b[1m5/5\u001b[0m \u001b[32m━━━━━━━━━━━━━━━━━━━━\u001b[0m\u001b[37m\u001b[0m \u001b[1m0s\u001b[0m 75ms/step - loss: 0.0240 - mean_absolute_error: 0.1260 - val_loss: 0.0231 - val_mean_absolute_error: 0.1119\n",
      "Epoch 15/50\n",
      "\u001b[1m5/5\u001b[0m \u001b[32m━━━━━━━━━━━━━━━━━━━━\u001b[0m\u001b[37m\u001b[0m \u001b[1m0s\u001b[0m 31ms/step - loss: 0.0200 - mean_absolute_error: 0.1139\n",
      "Epoch 15: val_loss improved from 0.02309 to 0.02246, saving model to best_model.keras\n",
      "\u001b[1m5/5\u001b[0m \u001b[32m━━━━━━━━━━━━━━━━━━━━\u001b[0m\u001b[37m\u001b[0m \u001b[1m0s\u001b[0m 61ms/step - loss: 0.0202 - mean_absolute_error: 0.1145 - val_loss: 0.0225 - val_mean_absolute_error: 0.1079\n",
      "Epoch 16/50\n",
      "\u001b[1m5/5\u001b[0m \u001b[32m━━━━━━━━━━━━━━━━━━━━\u001b[0m\u001b[37m\u001b[0m \u001b[1m0s\u001b[0m 33ms/step - loss: 0.0235 - mean_absolute_error: 0.1221\n",
      "Epoch 16: val_loss improved from 0.02246 to 0.01670, saving model to best_model.keras\n",
      "\u001b[1m5/5\u001b[0m \u001b[32m━━━━━━━━━━━━━━━━━━━━\u001b[0m\u001b[37m\u001b[0m \u001b[1m0s\u001b[0m 63ms/step - loss: 0.0232 - mean_absolute_error: 0.1206 - val_loss: 0.0167 - val_mean_absolute_error: 0.1006\n",
      "Epoch 17/50\n",
      "\u001b[1m5/5\u001b[0m \u001b[32m━━━━━━━━━━━━━━━━━━━━\u001b[0m\u001b[37m\u001b[0m \u001b[1m0s\u001b[0m 33ms/step - loss: 0.0217 - mean_absolute_error: 0.1162\n",
      "Epoch 17: val_loss did not improve from 0.01670\n",
      "\u001b[1m5/5\u001b[0m \u001b[32m━━━━━━━━━━━━━━━━━━━━\u001b[0m\u001b[37m\u001b[0m \u001b[1m0s\u001b[0m 58ms/step - loss: 0.0218 - mean_absolute_error: 0.1160 - val_loss: 0.0173 - val_mean_absolute_error: 0.1021\n",
      "Epoch 18/50\n",
      "\u001b[1m5/5\u001b[0m \u001b[32m━━━━━━━━━━━━━━━━━━━━\u001b[0m\u001b[37m\u001b[0m \u001b[1m0s\u001b[0m 37ms/step - loss: 0.0212 - mean_absolute_error: 0.1098\n",
      "Epoch 18: val_loss did not improve from 0.01670\n",
      "\u001b[1m5/5\u001b[0m \u001b[32m━━━━━━━━━━━━━━━━━━━━\u001b[0m\u001b[37m\u001b[0m \u001b[1m0s\u001b[0m 58ms/step - loss: 0.0212 - mean_absolute_error: 0.1102 - val_loss: 0.0195 - val_mean_absolute_error: 0.1012\n",
      "Epoch 19/50\n",
      "\u001b[1m5/5\u001b[0m \u001b[32m━━━━━━━━━━━━━━━━━━━━\u001b[0m\u001b[37m\u001b[0m \u001b[1m0s\u001b[0m 34ms/step - loss: 0.0201 - mean_absolute_error: 0.1034\n",
      "Epoch 19: val_loss improved from 0.01670 to 0.01630, saving model to best_model.keras\n",
      "\u001b[1m5/5\u001b[0m \u001b[32m━━━━━━━━━━━━━━━━━━━━\u001b[0m\u001b[37m\u001b[0m \u001b[1m0s\u001b[0m 64ms/step - loss: 0.0201 - mean_absolute_error: 0.1035 - val_loss: 0.0163 - val_mean_absolute_error: 0.0951\n",
      "Epoch 20/50\n",
      "\u001b[1m5/5\u001b[0m \u001b[32m━━━━━━━━━━━━━━━━━━━━\u001b[0m\u001b[37m\u001b[0m \u001b[1m0s\u001b[0m 30ms/step - loss: 0.0242 - mean_absolute_error: 0.1324\n",
      "Epoch 20: val_loss improved from 0.01630 to 0.01570, saving model to best_model.keras\n",
      "\u001b[1m5/5\u001b[0m \u001b[32m━━━━━━━━━━━━━━━━━━━━\u001b[0m\u001b[37m\u001b[0m \u001b[1m0s\u001b[0m 60ms/step - loss: 0.0242 - mean_absolute_error: 0.1319 - val_loss: 0.0157 - val_mean_absolute_error: 0.0924\n",
      "Epoch 21/50\n",
      "\u001b[1m5/5\u001b[0m \u001b[32m━━━━━━━━━━━━━━━━━━━━\u001b[0m\u001b[37m\u001b[0m \u001b[1m0s\u001b[0m 30ms/step - loss: 0.0250 - mean_absolute_error: 0.1215\n",
      "Epoch 21: val_loss improved from 0.01570 to 0.01274, saving model to best_model.keras\n",
      "\u001b[1m5/5\u001b[0m \u001b[32m━━━━━━━━━━━━━━━━━━━━\u001b[0m\u001b[37m\u001b[0m \u001b[1m0s\u001b[0m 64ms/step - loss: 0.0252 - mean_absolute_error: 0.1221 - val_loss: 0.0127 - val_mean_absolute_error: 0.0811\n",
      "Epoch 22/50\n",
      "\u001b[1m5/5\u001b[0m \u001b[32m━━━━━━━━━━━━━━━━━━━━\u001b[0m\u001b[37m\u001b[0m \u001b[1m0s\u001b[0m 31ms/step - loss: 0.0250 - mean_absolute_error: 0.1211\n",
      "Epoch 22: val_loss improved from 0.01274 to 0.01057, saving model to best_model.keras\n",
      "\u001b[1m5/5\u001b[0m \u001b[32m━━━━━━━━━━━━━━━━━━━━\u001b[0m\u001b[37m\u001b[0m \u001b[1m0s\u001b[0m 60ms/step - loss: 0.0246 - mean_absolute_error: 0.1200 - val_loss: 0.0106 - val_mean_absolute_error: 0.0744\n",
      "Epoch 23/50\n",
      "\u001b[1m3/5\u001b[0m \u001b[32m━━━━━━━━━━━━\u001b[0m\u001b[37m━━━━━━━━\u001b[0m \u001b[1m0s\u001b[0m 42ms/step - loss: 0.0151 - mean_absolute_error: 0.0932\n",
      "Epoch 23: val_loss did not improve from 0.01057\n",
      "\u001b[1m5/5\u001b[0m \u001b[32m━━━━━━━━━━━━━━━━━━━━\u001b[0m\u001b[37m\u001b[0m \u001b[1m0s\u001b[0m 54ms/step - loss: 0.0178 - mean_absolute_error: 0.1001 - val_loss: 0.0133 - val_mean_absolute_error: 0.0839\n",
      "Epoch 24/50\n",
      "\u001b[1m5/5\u001b[0m \u001b[32m━━━━━━━━━━━━━━━━━━━━\u001b[0m\u001b[37m\u001b[0m \u001b[1m0s\u001b[0m 27ms/step - loss: 0.0137 - mean_absolute_error: 0.0889\n",
      "Epoch 24: val_loss did not improve from 0.01057\n",
      "\u001b[1m5/5\u001b[0m \u001b[32m━━━━━━━━━━━━━━━━━━━━\u001b[0m\u001b[37m\u001b[0m \u001b[1m0s\u001b[0m 57ms/step - loss: 0.0140 - mean_absolute_error: 0.0899 - val_loss: 0.0106 - val_mean_absolute_error: 0.0747\n",
      "Epoch 25/50\n",
      "\u001b[1m5/5\u001b[0m \u001b[32m━━━━━━━━━━━━━━━━━━━━\u001b[0m\u001b[37m\u001b[0m \u001b[1m0s\u001b[0m 33ms/step - loss: 0.0217 - mean_absolute_error: 0.1023\n",
      "Epoch 25: val_loss improved from 0.01057 to 0.00704, saving model to best_model.keras\n",
      "\u001b[1m5/5\u001b[0m \u001b[32m━━━━━━━━━━━━━━━━━━━━\u001b[0m\u001b[37m\u001b[0m \u001b[1m0s\u001b[0m 67ms/step - loss: 0.0214 - mean_absolute_error: 0.1023 - val_loss: 0.0070 - val_mean_absolute_error: 0.0633\n",
      "Epoch 26/50\n",
      "\u001b[1m5/5\u001b[0m \u001b[32m━━━━━━━━━━━━━━━━━━━━\u001b[0m\u001b[37m\u001b[0m \u001b[1m0s\u001b[0m 29ms/step - loss: 0.0154 - mean_absolute_error: 0.0943\n",
      "Epoch 26: val_loss did not improve from 0.00704\n",
      "\u001b[1m5/5\u001b[0m \u001b[32m━━━━━━━━━━━━━━━━━━━━\u001b[0m\u001b[37m\u001b[0m \u001b[1m0s\u001b[0m 49ms/step - loss: 0.0154 - mean_absolute_error: 0.0944 - val_loss: 0.0095 - val_mean_absolute_error: 0.0677\n",
      "Epoch 27/50\n",
      "\u001b[1m5/5\u001b[0m \u001b[32m━━━━━━━━━━━━━━━━━━━━\u001b[0m\u001b[37m\u001b[0m \u001b[1m0s\u001b[0m 32ms/step - loss: 0.0125 - mean_absolute_error: 0.0859\n",
      "Epoch 27: val_loss did not improve from 0.00704\n",
      "\u001b[1m5/5\u001b[0m \u001b[32m━━━━━━━━━━━━━━━━━━━━\u001b[0m\u001b[37m\u001b[0m \u001b[1m0s\u001b[0m 53ms/step - loss: 0.0127 - mean_absolute_error: 0.0863 - val_loss: 0.0092 - val_mean_absolute_error: 0.0623\n",
      "Epoch 28/50\n",
      "\u001b[1m4/5\u001b[0m \u001b[32m━━━━━━━━━━━━━━━━\u001b[0m\u001b[37m━━━━\u001b[0m \u001b[1m0s\u001b[0m 25ms/step - loss: 0.0126 - mean_absolute_error: 0.0853\n",
      "Epoch 28: val_loss did not improve from 0.00704\n",
      "\u001b[1m5/5\u001b[0m \u001b[32m━━━━━━━━━━━━━━━━━━━━\u001b[0m\u001b[37m\u001b[0m \u001b[1m0s\u001b[0m 46ms/step - loss: 0.0135 - mean_absolute_error: 0.0876 - val_loss: 0.0117 - val_mean_absolute_error: 0.0782\n",
      "Epoch 29/50\n",
      "\u001b[1m5/5\u001b[0m \u001b[32m━━━━━━━━━━━━━━━━━━━━\u001b[0m\u001b[37m\u001b[0m \u001b[1m0s\u001b[0m 33ms/step - loss: 0.0156 - mean_absolute_error: 0.0931\n",
      "Epoch 29: val_loss did not improve from 0.00704\n",
      "\u001b[1m5/5\u001b[0m \u001b[32m━━━━━━━━━━━━━━━━━━━━\u001b[0m\u001b[37m\u001b[0m \u001b[1m0s\u001b[0m 54ms/step - loss: 0.0155 - mean_absolute_error: 0.0930 - val_loss: 0.0091 - val_mean_absolute_error: 0.0592\n",
      "Epoch 30/50\n",
      "\u001b[1m5/5\u001b[0m \u001b[32m━━━━━━━━━━━━━━━━━━━━\u001b[0m\u001b[37m\u001b[0m \u001b[1m0s\u001b[0m 38ms/step - loss: 0.0166 - mean_absolute_error: 0.1002\n",
      "Epoch 30: val_loss did not improve from 0.00704\n",
      "\u001b[1m5/5\u001b[0m \u001b[32m━━━━━━━━━━━━━━━━━━━━\u001b[0m\u001b[37m\u001b[0m \u001b[1m0s\u001b[0m 59ms/step - loss: 0.0160 - mean_absolute_error: 0.0985 - val_loss: 0.0086 - val_mean_absolute_error: 0.0672\n",
      "Epoch 31/50\n",
      "\u001b[1m5/5\u001b[0m \u001b[32m━━━━━━━━━━━━━━━━━━━━\u001b[0m\u001b[37m\u001b[0m \u001b[1m0s\u001b[0m 27ms/step - loss: 0.0105 - mean_absolute_error: 0.0772\n",
      "Epoch 31: val_loss did not improve from 0.00704\n",
      "\u001b[1m5/5\u001b[0m \u001b[32m━━━━━━━━━━━━━━━━━━━━\u001b[0m\u001b[37m\u001b[0m \u001b[1m0s\u001b[0m 47ms/step - loss: 0.0105 - mean_absolute_error: 0.0772 - val_loss: 0.0072 - val_mean_absolute_error: 0.0570\n",
      "Epoch 32/50\n",
      "\u001b[1m5/5\u001b[0m \u001b[32m━━━━━━━━━━━━━━━━━━━━\u001b[0m\u001b[37m\u001b[0m \u001b[1m0s\u001b[0m 29ms/step - loss: 0.0162 - mean_absolute_error: 0.0915\n",
      "Epoch 32: val_loss improved from 0.00704 to 0.00550, saving model to best_model.keras\n",
      "\u001b[1m5/5\u001b[0m \u001b[32m━━━━━━━━━━━━━━━━━━━━\u001b[0m\u001b[37m\u001b[0m \u001b[1m0s\u001b[0m 60ms/step - loss: 0.0161 - mean_absolute_error: 0.0914 - val_loss: 0.0055 - val_mean_absolute_error: 0.0540\n",
      "Epoch 33/50\n",
      "\u001b[1m5/5\u001b[0m \u001b[32m━━━━━━━━━━━━━━━━━━━━\u001b[0m\u001b[37m\u001b[0m \u001b[1m0s\u001b[0m 28ms/step - loss: 0.0159 - mean_absolute_error: 0.0980\n",
      "Epoch 33: val_loss improved from 0.00550 to 0.00487, saving model to best_model.keras\n",
      "\u001b[1m5/5\u001b[0m \u001b[32m━━━━━━━━━━━━━━━━━━━━\u001b[0m\u001b[37m\u001b[0m \u001b[1m0s\u001b[0m 58ms/step - loss: 0.0163 - mean_absolute_error: 0.0986 - val_loss: 0.0049 - val_mean_absolute_error: 0.0501\n",
      "Epoch 34/50\n",
      "\u001b[1m5/5\u001b[0m \u001b[32m━━━━━━━━━━━━━━━━━━━━\u001b[0m\u001b[37m\u001b[0m \u001b[1m0s\u001b[0m 33ms/step - loss: 0.0167 - mean_absolute_error: 0.0981\n",
      "Epoch 34: val_loss did not improve from 0.00487\n",
      "\u001b[1m5/5\u001b[0m \u001b[32m━━━━━━━━━━━━━━━━━━━━\u001b[0m\u001b[37m\u001b[0m \u001b[1m0s\u001b[0m 53ms/step - loss: 0.0163 - mean_absolute_error: 0.0969 - val_loss: 0.0073 - val_mean_absolute_error: 0.0571\n",
      "Epoch 35/50\n",
      "\u001b[1m5/5\u001b[0m \u001b[32m━━━━━━━━━━━━━━━━━━━━\u001b[0m\u001b[37m\u001b[0m \u001b[1m0s\u001b[0m 28ms/step - loss: 0.0151 - mean_absolute_error: 0.0898\n",
      "Epoch 35: val_loss did not improve from 0.00487\n",
      "\u001b[1m5/5\u001b[0m \u001b[32m━━━━━━━━━━━━━━━━━━━━\u001b[0m\u001b[37m\u001b[0m \u001b[1m0s\u001b[0m 46ms/step - loss: 0.0150 - mean_absolute_error: 0.0891 - val_loss: 0.0058 - val_mean_absolute_error: 0.0514\n",
      "Epoch 36/50\n",
      "\u001b[1m5/5\u001b[0m \u001b[32m━━━━━━━━━━━━━━━━━━━━\u001b[0m\u001b[37m\u001b[0m \u001b[1m0s\u001b[0m 28ms/step - loss: 0.0144 - mean_absolute_error: 0.0936\n",
      "Epoch 36: val_loss improved from 0.00487 to 0.00434, saving model to best_model.keras\n",
      "\u001b[1m5/5\u001b[0m \u001b[32m━━━━━━━━━━━━━━━━━━━━\u001b[0m\u001b[37m\u001b[0m \u001b[1m0s\u001b[0m 59ms/step - loss: 0.0143 - mean_absolute_error: 0.0939 - val_loss: 0.0043 - val_mean_absolute_error: 0.0445\n",
      "Epoch 37/50\n",
      "\u001b[1m5/5\u001b[0m \u001b[32m━━━━━━━━━━━━━━━━━━━━\u001b[0m\u001b[37m\u001b[0m \u001b[1m0s\u001b[0m 33ms/step - loss: 0.0146 - mean_absolute_error: 0.0888\n",
      "Epoch 37: val_loss did not improve from 0.00434\n",
      "\u001b[1m5/5\u001b[0m \u001b[32m━━━━━━━━━━━━━━━━━━━━\u001b[0m\u001b[37m\u001b[0m \u001b[1m0s\u001b[0m 54ms/step - loss: 0.0148 - mean_absolute_error: 0.0892 - val_loss: 0.0057 - val_mean_absolute_error: 0.0485\n",
      "Epoch 38/50\n",
      "\u001b[1m5/5\u001b[0m \u001b[32m━━━━━━━━━━━━━━━━━━━━\u001b[0m\u001b[37m\u001b[0m \u001b[1m0s\u001b[0m 27ms/step - loss: 0.0112 - mean_absolute_error: 0.0821\n",
      "Epoch 38: val_loss did not improve from 0.00434\n",
      "\u001b[1m5/5\u001b[0m \u001b[32m━━━━━━━━━━━━━━━━━━━━\u001b[0m\u001b[37m\u001b[0m \u001b[1m0s\u001b[0m 47ms/step - loss: 0.0115 - mean_absolute_error: 0.0828 - val_loss: 0.0068 - val_mean_absolute_error: 0.0570\n",
      "Epoch 39/50\n",
      "\u001b[1m5/5\u001b[0m \u001b[32m━━━━━━━━━━━━━━━━━━━━\u001b[0m\u001b[37m\u001b[0m \u001b[1m0s\u001b[0m 27ms/step - loss: 0.0113 - mean_absolute_error: 0.0793\n",
      "Epoch 39: val_loss did not improve from 0.00434\n",
      "\u001b[1m5/5\u001b[0m \u001b[32m━━━━━━━━━━━━━━━━━━━━\u001b[0m\u001b[37m\u001b[0m \u001b[1m0s\u001b[0m 45ms/step - loss: 0.0114 - mean_absolute_error: 0.0799 - val_loss: 0.0056 - val_mean_absolute_error: 0.0552\n",
      "Epoch 40/50\n",
      "\u001b[1m5/5\u001b[0m \u001b[32m━━━━━━━━━━━━━━━━━━━━\u001b[0m\u001b[37m\u001b[0m \u001b[1m0s\u001b[0m 26ms/step - loss: 0.0121 - mean_absolute_error: 0.0826\n",
      "Epoch 40: val_loss did not improve from 0.00434\n",
      "\u001b[1m5/5\u001b[0m \u001b[32m━━━━━━━━━━━━━━━━━━━━\u001b[0m\u001b[37m\u001b[0m \u001b[1m0s\u001b[0m 47ms/step - loss: 0.0120 - mean_absolute_error: 0.0821 - val_loss: 0.0061 - val_mean_absolute_error: 0.0560\n",
      "Epoch 41/50\n",
      "\u001b[1m5/5\u001b[0m \u001b[32m━━━━━━━━━━━━━━━━━━━━\u001b[0m\u001b[37m\u001b[0m \u001b[1m0s\u001b[0m 29ms/step - loss: 0.0152 - mean_absolute_error: 0.0898\n",
      "Epoch 41: val_loss did not improve from 0.00434\n",
      "\u001b[1m5/5\u001b[0m \u001b[32m━━━━━━━━━━━━━━━━━━━━\u001b[0m\u001b[37m\u001b[0m \u001b[1m0s\u001b[0m 50ms/step - loss: 0.0149 - mean_absolute_error: 0.0890 - val_loss: 0.0048 - val_mean_absolute_error: 0.0511\n",
      "Epoch 42/50\n",
      "\u001b[1m3/5\u001b[0m \u001b[32m━━━━━━━━━━━━\u001b[0m\u001b[37m━━━━━━━━\u001b[0m \u001b[1m0s\u001b[0m 28ms/step - loss: 0.0206 - mean_absolute_error: 0.1052\n",
      "Epoch 42: val_loss did not improve from 0.00434\n",
      "\u001b[1m5/5\u001b[0m \u001b[32m━━━━━━━━━━━━━━━━━━━━\u001b[0m\u001b[37m\u001b[0m \u001b[1m0s\u001b[0m 49ms/step - loss: 0.0180 - mean_absolute_error: 0.0981 - val_loss: 0.0044 - val_mean_absolute_error: 0.0503\n",
      "Epoch 43/50\n",
      "\u001b[1m5/5\u001b[0m \u001b[32m━━━━━━━━━━━━━━━━━━━━\u001b[0m\u001b[37m\u001b[0m \u001b[1m0s\u001b[0m 34ms/step - loss: 0.0141 - mean_absolute_error: 0.0915\n",
      "Epoch 43: val_loss did not improve from 0.00434\n",
      "\u001b[1m5/5\u001b[0m \u001b[32m━━━━━━━━━━━━━━━━━━━━\u001b[0m\u001b[37m\u001b[0m \u001b[1m0s\u001b[0m 57ms/step - loss: 0.0139 - mean_absolute_error: 0.0905 - val_loss: 0.0055 - val_mean_absolute_error: 0.0552\n",
      "Epoch 44/50\n",
      "\u001b[1m5/5\u001b[0m \u001b[32m━━━━━━━━━━━━━━━━━━━━\u001b[0m\u001b[37m\u001b[0m \u001b[1m0s\u001b[0m 31ms/step - loss: 0.0153 - mean_absolute_error: 0.0890\n",
      "Epoch 44: val_loss improved from 0.00434 to 0.00337, saving model to best_model.keras\n",
      "\u001b[1m5/5\u001b[0m \u001b[32m━━━━━━━━━━━━━━━━━━━━\u001b[0m\u001b[37m\u001b[0m \u001b[1m0s\u001b[0m 61ms/step - loss: 0.0148 - mean_absolute_error: 0.0878 - val_loss: 0.0034 - val_mean_absolute_error: 0.0419\n",
      "Epoch 45/50\n",
      "\u001b[1m5/5\u001b[0m \u001b[32m━━━━━━━━━━━━━━━━━━━━\u001b[0m\u001b[37m\u001b[0m \u001b[1m0s\u001b[0m 32ms/step - loss: 0.0113 - mean_absolute_error: 0.0781\n",
      "Epoch 45: val_loss did not improve from 0.00337\n",
      "\u001b[1m5/5\u001b[0m \u001b[32m━━━━━━━━━━━━━━━━━━━━\u001b[0m\u001b[37m\u001b[0m \u001b[1m0s\u001b[0m 55ms/step - loss: 0.0116 - mean_absolute_error: 0.0784 - val_loss: 0.0034 - val_mean_absolute_error: 0.0440\n",
      "Epoch 46/50\n",
      "\u001b[1m5/5\u001b[0m \u001b[32m━━━━━━━━━━━━━━━━━━━━\u001b[0m\u001b[37m\u001b[0m \u001b[1m0s\u001b[0m 29ms/step - loss: 0.0159 - mean_absolute_error: 0.0954\n",
      "Epoch 46: val_loss improved from 0.00337 to 0.00247, saving model to best_model.keras\n",
      "\u001b[1m5/5\u001b[0m \u001b[32m━━━━━━━━━━━━━━━━━━━━\u001b[0m\u001b[37m\u001b[0m \u001b[1m0s\u001b[0m 64ms/step - loss: 0.0156 - mean_absolute_error: 0.0948 - val_loss: 0.0025 - val_mean_absolute_error: 0.0396\n",
      "Epoch 47/50\n",
      "\u001b[1m5/5\u001b[0m \u001b[32m━━━━━━━━━━━━━━━━━━━━\u001b[0m\u001b[37m\u001b[0m \u001b[1m0s\u001b[0m 30ms/step - loss: 0.0156 - mean_absolute_error: 0.0905\n",
      "Epoch 47: val_loss did not improve from 0.00247\n",
      "\u001b[1m5/5\u001b[0m \u001b[32m━━━━━━━━━━━━━━━━━━━━\u001b[0m\u001b[37m\u001b[0m \u001b[1m0s\u001b[0m 51ms/step - loss: 0.0159 - mean_absolute_error: 0.0912 - val_loss: 0.0048 - val_mean_absolute_error: 0.0517\n",
      "Epoch 48/50\n",
      "\u001b[1m4/5\u001b[0m \u001b[32m━━━━━━━━━━━━━━━━\u001b[0m\u001b[37m━━━━\u001b[0m \u001b[1m0s\u001b[0m 28ms/step - loss: 0.0141 - mean_absolute_error: 0.0860\n",
      "Epoch 48: val_loss did not improve from 0.00247\n",
      "\u001b[1m5/5\u001b[0m \u001b[32m━━━━━━━━━━━━━━━━━━━━\u001b[0m\u001b[37m\u001b[0m \u001b[1m0s\u001b[0m 55ms/step - loss: 0.0144 - mean_absolute_error: 0.0866 - val_loss: 0.0035 - val_mean_absolute_error: 0.0477\n",
      "Epoch 49/50\n",
      "\u001b[1m5/5\u001b[0m \u001b[32m━━━━━━━━━━━━━━━━━━━━\u001b[0m\u001b[37m\u001b[0m \u001b[1m0s\u001b[0m 34ms/step - loss: 0.0137 - mean_absolute_error: 0.0917\n",
      "Epoch 49: val_loss did not improve from 0.00247\n",
      "\u001b[1m5/5\u001b[0m \u001b[32m━━━━━━━━━━━━━━━━━━━━\u001b[0m\u001b[37m\u001b[0m \u001b[1m0s\u001b[0m 55ms/step - loss: 0.0133 - mean_absolute_error: 0.0901 - val_loss: 0.0052 - val_mean_absolute_error: 0.0507\n",
      "Epoch 50/50\n",
      "\u001b[1m5/5\u001b[0m \u001b[32m━━━━━━━━━━━━━━━━━━━━\u001b[0m\u001b[37m\u001b[0m \u001b[1m0s\u001b[0m 30ms/step - loss: 0.0105 - mean_absolute_error: 0.0842\n",
      "Epoch 50: val_loss did not improve from 0.00247\n",
      "\u001b[1m5/5\u001b[0m \u001b[32m━━━━━━━━━━━━━━━━━━━━\u001b[0m\u001b[37m\u001b[0m \u001b[1m0s\u001b[0m 50ms/step - loss: 0.0106 - mean_absolute_error: 0.0839 - val_loss: 0.0026 - val_mean_absolute_error: 0.0385\n",
      "Restoring model weights from the end of the best epoch: 46.\n",
      "Modelltraining abgeschlossen.\n"
     ]
    }
   ],
   "source": [
    "# --- Custom Layer: Spatial Attention ---\n",
    "class SpatialAttention(Layer):\n",
    "    \"\"\"\n",
    "    Berechnet pro Zeitschritt eine Gewichtung für jede Eingabevariable (Feature).\n",
    "    Die wichtigsten Variablen pro Zeitschritt werden vom Modell gelernt.\n",
    "    \"\"\"\n",
    "    def __init__(self, **kwargs):\n",
    "        super().__init__(**kwargs)\n",
    "        self.dense = Dense(units=1)\n",
    "\n",
    "    def call(self, x):\n",
    "        # x: (batch, time, features)\n",
    "        attn_scores = tf.nn.softmax(self.dense(x), axis=2)  # Gewichtung über Features\n",
    "        return x * attn_scores  # Elementweise Multiplikation: Features gewichten\n",
    "\n",
    "# --- Custom Layer: Temporal Attention ---\n",
    "class TemporalAttention(Layer):\n",
    "    \"\"\"\n",
    "    Berechnet für die LSTM-Hidden-States eine Gewichtung über alle Zeitschritte.\n",
    "    So kann das Modell entscheiden, welche Zeitpunkte für die Qualitätsprognose am wichtigsten sind.\n",
    "    \"\"\"\n",
    "    def __init__(self, **kwargs):\n",
    "        super().__init__(**kwargs)\n",
    "        self.dense = Dense(units=1)\n",
    "\n",
    "    def call(self, h_seq):\n",
    "        # h_seq: (batch, time, hidden_dim)\n",
    "        attn_scores = tf.nn.softmax(self.dense(h_seq), axis=1)  # Gewichtung über Zeit\n",
    "        context = tf.reduce_sum(h_seq * attn_scores, axis=1)  # Kontextvektor: gewichtete Summe über Zeit\n",
    "        return context\n",
    "\n",
    "# --- STA-LSTM-Modell-Funktion ---\n",
    "def build_sta_lstm_model(input_shape, lstm_units=64, dropout_rate=0.3):\n",
    "    \"\"\"\n",
    "    Baut und kompiliert ein STA-LSTM-Modell:\n",
    "    - Spatial Attention (über Features)\n",
    "    - LSTM Encoder (über Zeit)\n",
    "    - Temporal Attention (über Zeit)\n",
    "    - Decoder: Dense-Layer für die Vorhersage\n",
    "    \"\"\"\n",
    "    inputs = Input(shape=input_shape)\n",
    "    # 1. Spatial Attention: Welche Variablen pro Zeitschritt sind wichtig?\n",
    "    x = SpatialAttention()(inputs)\n",
    "    # 2. LSTM Encoder: Zeitliche Verarbeitung\n",
    "    h_seq = LSTM(lstm_units, return_sequences=True)(x)\n",
    "    # 3. Temporal Attention: Welche Zeitpunkte sind wichtig?\n",
    "    context = TemporalAttention()(h_seq)\n",
    "    # 4. Optional: Dropout für Robustheit\n",
    "    dropout_out = Dropout(dropout_rate)(context)\n",
    "    # 5. Decoder: Dense-Layer, Ausgabe ist die Qualitätsvariable\n",
    "    outputs = Dense(1)(dropout_out)\n",
    "    # Modell zusammenbauen\n",
    "    model = Model(inputs=inputs, outputs=outputs)\n",
    "    model.compile(\n",
    "        optimizer=Adam(learning_rate=0.001),\n",
    "        loss=\"mean_squared_error\",\n",
    "        metrics=[\"mean_absolute_error\"],\n",
    "    )\n",
    "    return model\n",
    "\n",
    "# --- Beispiel-Nutzung (wie im Notebook) ---\n",
    "# input_shape = (seq_len, n_features), z. B. (140, 5)\n",
    "input_shape = (X_train_scaled.shape[1], X_train_scaled.shape[2])\n",
    "model = build_sta_lstm_model(input_shape)\n",
    "print(\"STA-LSTM-Modellarchitektur:\")\n",
    "model.summary()\n",
    "\n",
    "\n",
    "\n",
    "# Callbacks für ein besseres Training\n",
    "# 1. EarlyStopping: Beendet das Training, wenn die Validierungs-Loss sich nicht mehr verbessert.\n",
    "early_stopping = EarlyStopping(\n",
    "    monitor=\"val_loss\",  # Überwache die Loss auf den Validierungsdaten\n",
    "    patience=10,  # Anzahl der Epochen ohne Verbesserung, bevor gestoppt wird\n",
    "    verbose=1,\n",
    "    restore_best_weights=True,\n",
    ")  # Stellt die besten Gewichte am Ende wieder her\n",
    "\n",
    "# 2. ModelCheckpoint: Speichert das beste Modell während des Trainings.\n",
    "model_checkpoint = ModelCheckpoint(\n",
    "    \"best_model.keras\",  # Dateipfad\n",
    "    monitor=\"val_loss\",\n",
    "    save_best_only=True,  # Speichere nur, wenn 'val_loss' sich verbessert\n",
    "    verbose=1,\n",
    ")\n",
    "\n",
    "# Trainiere das Modell\n",
    "print(\"\\nStarte das Modelltraining...\")\n",
    "history = model.fit(\n",
    "    X_train_scaled,\n",
    "    y_train_scaled,\n",
    "    epochs=50,\n",
    "    batch_size=32,\n",
    "    validation_data=(X_val_scaled, y_val_scaled),\n",
    "    callbacks=[early_stopping, model_checkpoint],\n",
    "    verbose=1,\n",
    ")\n",
    "print(\"Modelltraining abgeschlossen.\")"
   ]
  },
  {
   "cell_type": "markdown",
   "id": "11cb89df",
   "metadata": {},
   "source": [
    "<br>"
   ]
  },
  {
   "cell_type": "markdown",
   "id": "0f27131e",
   "metadata": {},
   "source": [
    "## Visualisierung Modellverbesserung über Trainingsverlauf"
   ]
  },
  {
   "cell_type": "code",
   "execution_count": 12,
   "id": "a8bc3f46",
   "metadata": {},
   "outputs": [
    {
     "data": {
      "application/vnd.plotly.v1+json": {
       "config": {
        "plotlyServerURL": "https://plot.ly"
       },
       "data": [
        {
         "hovertemplate": "Datensatz=loss<br>epoch=%{x}<br>Loss (MSE)=%{y}<extra></extra>",
         "legendgroup": "loss",
         "line": {
          "color": "#636efa",
          "dash": "solid"
         },
         "marker": {
          "symbol": "circle"
         },
         "mode": "lines",
         "name": "loss",
         "orientation": "v",
         "showlegend": true,
         "type": "scatter",
         "x": {
          "bdata": "AQIDBAUGBwgJCgsMDQ4PEBESExQVFhcYGRobHB0eHyAhIiMkJSYnKCkqKywtLi8wMTI=",
          "dtype": "i1"
         },
         "xaxis": "x",
         "y": {
          "bdata": "AAAAYFKn4T8AAADAlabSPwAAAABITr8/AAAAYM/asj8AAACAfjKxPwAAAMCyK6c/AAAAQMKRrT8AAADA7E6kPwAAAEBDDaQ/AAAAwFtJoD8AAABgFp+dPwAAAKCL0Z8/AAAAYHuFnT8AAABAGHCaPwAAAICZXJU/AAAAYDr/lT8AAADAO/KWPwAAAMCl2pU/AAAAgC6plD8AAADArveYPwAAAABZSZo/AAAAAI8mlz8AAADg0lmWPwAAAMBQGZA/AAAAwEUilD8AAABgrKWPPwAAAMBIaIw/AAAAQI0Qjz8AAADAXZKOPwAAAKCcvIs/AAAAwBhyhT8AAADAdt6PPwAAACA10JI/AAAAoEJqjT8AAAAA2FSNPwAAAAC0C40/AAAAICkUkD8AAABgpGOKPwAAAGAQe4g/AAAAQGCZhz8AAACglxKMPwAAAEAby44/AAAAwMpYij8AAACgVGaJPwAAAMDsTYo/AAAAYLatjD8AAADAt8aRPwAAAMAInY4/AAAAAD72hz8AAADAlf2FPw==",
          "dtype": "f8"
         },
         "yaxis": "y"
        },
        {
         "hovertemplate": "Datensatz=val_loss<br>epoch=%{x}<br>Loss (MSE)=%{y}<extra></extra>",
         "legendgroup": "val_loss",
         "line": {
          "color": "#EF553B",
          "dash": "solid"
         },
         "marker": {
          "symbol": "circle"
         },
         "mode": "lines",
         "name": "val_loss",
         "orientation": "v",
         "showlegend": true,
         "type": "scatter",
         "x": {
          "bdata": "AQIDBAUGBwgJCgsMDQ4PEBESExQVFhcYGRobHB0eHyAhIiMkJSYnKCkqKywtLi8wMTI=",
          "dtype": "i1"
         },
         "xaxis": "x",
         "y": {
          "bdata": "AAAAAOU93j8AAADAfeXJPwAAAGD9lb4/AAAAYC+VsT8AAADAAuOtPwAAAED13a8/AAAAYDPbqT8AAAAgq5imPwAAAOAzVaY/AAAAoMWcpD8AAABARAuiPwAAAACPjqA/AAAAYJAnmT8AAABg96SXPwAAAKB//5Y/AAAAQNsYkT8AAACAs6+RPwAAAECu85M/AAAAoNGwkD8AAADA1xOQPwAAAGCiF4o/AAAA4BenhT8AAABgUjuLPwAAAABBsIU/AAAAwJzUfD8AAADg5V2DPwAAAMBj5oI/AAAAwKL+hz8AAABATqOCPwAAAEDTtIE/AAAAYKprfT8AAABAqId2PwAAAID+9HM/AAAAQCq6fT8AAACg4MZ3PwAAACDAxHE/AAAAQK5tdz8AAABgLOF7PwAAACAVAXc/AAAAgIPLeD8AAAAAfolzPwAAAEAu9HE/AAAAIBtpdj8AAADAXqBrPwAAAKD46Ws/AAAAoANAZD8AAADgcLFzPwAAAACAs2w/AAAAIHdfdT8AAACgEu9kPw==",
          "dtype": "f8"
         },
         "yaxis": "y"
        }
       ],
       "layout": {
        "legend": {
         "title": {
          "text": "Datensatz"
         },
         "tracegroupgap": 0
        },
        "template": {
         "data": {
          "bar": [
           {
            "error_x": {
             "color": "#2a3f5f"
            },
            "error_y": {
             "color": "#2a3f5f"
            },
            "marker": {
             "line": {
              "color": "#E5ECF6",
              "width": 0.5
             },
             "pattern": {
              "fillmode": "overlay",
              "size": 10,
              "solidity": 0.2
             }
            },
            "type": "bar"
           }
          ],
          "barpolar": [
           {
            "marker": {
             "line": {
              "color": "#E5ECF6",
              "width": 0.5
             },
             "pattern": {
              "fillmode": "overlay",
              "size": 10,
              "solidity": 0.2
             }
            },
            "type": "barpolar"
           }
          ],
          "carpet": [
           {
            "aaxis": {
             "endlinecolor": "#2a3f5f",
             "gridcolor": "white",
             "linecolor": "white",
             "minorgridcolor": "white",
             "startlinecolor": "#2a3f5f"
            },
            "baxis": {
             "endlinecolor": "#2a3f5f",
             "gridcolor": "white",
             "linecolor": "white",
             "minorgridcolor": "white",
             "startlinecolor": "#2a3f5f"
            },
            "type": "carpet"
           }
          ],
          "choropleth": [
           {
            "colorbar": {
             "outlinewidth": 0,
             "ticks": ""
            },
            "type": "choropleth"
           }
          ],
          "contour": [
           {
            "colorbar": {
             "outlinewidth": 0,
             "ticks": ""
            },
            "colorscale": [
             [
              0,
              "#0d0887"
             ],
             [
              0.1111111111111111,
              "#46039f"
             ],
             [
              0.2222222222222222,
              "#7201a8"
             ],
             [
              0.3333333333333333,
              "#9c179e"
             ],
             [
              0.4444444444444444,
              "#bd3786"
             ],
             [
              0.5555555555555556,
              "#d8576b"
             ],
             [
              0.6666666666666666,
              "#ed7953"
             ],
             [
              0.7777777777777778,
              "#fb9f3a"
             ],
             [
              0.8888888888888888,
              "#fdca26"
             ],
             [
              1,
              "#f0f921"
             ]
            ],
            "type": "contour"
           }
          ],
          "contourcarpet": [
           {
            "colorbar": {
             "outlinewidth": 0,
             "ticks": ""
            },
            "type": "contourcarpet"
           }
          ],
          "heatmap": [
           {
            "colorbar": {
             "outlinewidth": 0,
             "ticks": ""
            },
            "colorscale": [
             [
              0,
              "#0d0887"
             ],
             [
              0.1111111111111111,
              "#46039f"
             ],
             [
              0.2222222222222222,
              "#7201a8"
             ],
             [
              0.3333333333333333,
              "#9c179e"
             ],
             [
              0.4444444444444444,
              "#bd3786"
             ],
             [
              0.5555555555555556,
              "#d8576b"
             ],
             [
              0.6666666666666666,
              "#ed7953"
             ],
             [
              0.7777777777777778,
              "#fb9f3a"
             ],
             [
              0.8888888888888888,
              "#fdca26"
             ],
             [
              1,
              "#f0f921"
             ]
            ],
            "type": "heatmap"
           }
          ],
          "histogram": [
           {
            "marker": {
             "pattern": {
              "fillmode": "overlay",
              "size": 10,
              "solidity": 0.2
             }
            },
            "type": "histogram"
           }
          ],
          "histogram2d": [
           {
            "colorbar": {
             "outlinewidth": 0,
             "ticks": ""
            },
            "colorscale": [
             [
              0,
              "#0d0887"
             ],
             [
              0.1111111111111111,
              "#46039f"
             ],
             [
              0.2222222222222222,
              "#7201a8"
             ],
             [
              0.3333333333333333,
              "#9c179e"
             ],
             [
              0.4444444444444444,
              "#bd3786"
             ],
             [
              0.5555555555555556,
              "#d8576b"
             ],
             [
              0.6666666666666666,
              "#ed7953"
             ],
             [
              0.7777777777777778,
              "#fb9f3a"
             ],
             [
              0.8888888888888888,
              "#fdca26"
             ],
             [
              1,
              "#f0f921"
             ]
            ],
            "type": "histogram2d"
           }
          ],
          "histogram2dcontour": [
           {
            "colorbar": {
             "outlinewidth": 0,
             "ticks": ""
            },
            "colorscale": [
             [
              0,
              "#0d0887"
             ],
             [
              0.1111111111111111,
              "#46039f"
             ],
             [
              0.2222222222222222,
              "#7201a8"
             ],
             [
              0.3333333333333333,
              "#9c179e"
             ],
             [
              0.4444444444444444,
              "#bd3786"
             ],
             [
              0.5555555555555556,
              "#d8576b"
             ],
             [
              0.6666666666666666,
              "#ed7953"
             ],
             [
              0.7777777777777778,
              "#fb9f3a"
             ],
             [
              0.8888888888888888,
              "#fdca26"
             ],
             [
              1,
              "#f0f921"
             ]
            ],
            "type": "histogram2dcontour"
           }
          ],
          "mesh3d": [
           {
            "colorbar": {
             "outlinewidth": 0,
             "ticks": ""
            },
            "type": "mesh3d"
           }
          ],
          "parcoords": [
           {
            "line": {
             "colorbar": {
              "outlinewidth": 0,
              "ticks": ""
             }
            },
            "type": "parcoords"
           }
          ],
          "pie": [
           {
            "automargin": true,
            "type": "pie"
           }
          ],
          "scatter": [
           {
            "fillpattern": {
             "fillmode": "overlay",
             "size": 10,
             "solidity": 0.2
            },
            "type": "scatter"
           }
          ],
          "scatter3d": [
           {
            "line": {
             "colorbar": {
              "outlinewidth": 0,
              "ticks": ""
             }
            },
            "marker": {
             "colorbar": {
              "outlinewidth": 0,
              "ticks": ""
             }
            },
            "type": "scatter3d"
           }
          ],
          "scattercarpet": [
           {
            "marker": {
             "colorbar": {
              "outlinewidth": 0,
              "ticks": ""
             }
            },
            "type": "scattercarpet"
           }
          ],
          "scattergeo": [
           {
            "marker": {
             "colorbar": {
              "outlinewidth": 0,
              "ticks": ""
             }
            },
            "type": "scattergeo"
           }
          ],
          "scattergl": [
           {
            "marker": {
             "colorbar": {
              "outlinewidth": 0,
              "ticks": ""
             }
            },
            "type": "scattergl"
           }
          ],
          "scattermap": [
           {
            "marker": {
             "colorbar": {
              "outlinewidth": 0,
              "ticks": ""
             }
            },
            "type": "scattermap"
           }
          ],
          "scattermapbox": [
           {
            "marker": {
             "colorbar": {
              "outlinewidth": 0,
              "ticks": ""
             }
            },
            "type": "scattermapbox"
           }
          ],
          "scatterpolar": [
           {
            "marker": {
             "colorbar": {
              "outlinewidth": 0,
              "ticks": ""
             }
            },
            "type": "scatterpolar"
           }
          ],
          "scatterpolargl": [
           {
            "marker": {
             "colorbar": {
              "outlinewidth": 0,
              "ticks": ""
             }
            },
            "type": "scatterpolargl"
           }
          ],
          "scatterternary": [
           {
            "marker": {
             "colorbar": {
              "outlinewidth": 0,
              "ticks": ""
             }
            },
            "type": "scatterternary"
           }
          ],
          "surface": [
           {
            "colorbar": {
             "outlinewidth": 0,
             "ticks": ""
            },
            "colorscale": [
             [
              0,
              "#0d0887"
             ],
             [
              0.1111111111111111,
              "#46039f"
             ],
             [
              0.2222222222222222,
              "#7201a8"
             ],
             [
              0.3333333333333333,
              "#9c179e"
             ],
             [
              0.4444444444444444,
              "#bd3786"
             ],
             [
              0.5555555555555556,
              "#d8576b"
             ],
             [
              0.6666666666666666,
              "#ed7953"
             ],
             [
              0.7777777777777778,
              "#fb9f3a"
             ],
             [
              0.8888888888888888,
              "#fdca26"
             ],
             [
              1,
              "#f0f921"
             ]
            ],
            "type": "surface"
           }
          ],
          "table": [
           {
            "cells": {
             "fill": {
              "color": "#EBF0F8"
             },
             "line": {
              "color": "white"
             }
            },
            "header": {
             "fill": {
              "color": "#C8D4E3"
             },
             "line": {
              "color": "white"
             }
            },
            "type": "table"
           }
          ]
         },
         "layout": {
          "annotationdefaults": {
           "arrowcolor": "#2a3f5f",
           "arrowhead": 0,
           "arrowwidth": 1
          },
          "autotypenumbers": "strict",
          "coloraxis": {
           "colorbar": {
            "outlinewidth": 0,
            "ticks": ""
           }
          },
          "colorscale": {
           "diverging": [
            [
             0,
             "#8e0152"
            ],
            [
             0.1,
             "#c51b7d"
            ],
            [
             0.2,
             "#de77ae"
            ],
            [
             0.3,
             "#f1b6da"
            ],
            [
             0.4,
             "#fde0ef"
            ],
            [
             0.5,
             "#f7f7f7"
            ],
            [
             0.6,
             "#e6f5d0"
            ],
            [
             0.7,
             "#b8e186"
            ],
            [
             0.8,
             "#7fbc41"
            ],
            [
             0.9,
             "#4d9221"
            ],
            [
             1,
             "#276419"
            ]
           ],
           "sequential": [
            [
             0,
             "#0d0887"
            ],
            [
             0.1111111111111111,
             "#46039f"
            ],
            [
             0.2222222222222222,
             "#7201a8"
            ],
            [
             0.3333333333333333,
             "#9c179e"
            ],
            [
             0.4444444444444444,
             "#bd3786"
            ],
            [
             0.5555555555555556,
             "#d8576b"
            ],
            [
             0.6666666666666666,
             "#ed7953"
            ],
            [
             0.7777777777777778,
             "#fb9f3a"
            ],
            [
             0.8888888888888888,
             "#fdca26"
            ],
            [
             1,
             "#f0f921"
            ]
           ],
           "sequentialminus": [
            [
             0,
             "#0d0887"
            ],
            [
             0.1111111111111111,
             "#46039f"
            ],
            [
             0.2222222222222222,
             "#7201a8"
            ],
            [
             0.3333333333333333,
             "#9c179e"
            ],
            [
             0.4444444444444444,
             "#bd3786"
            ],
            [
             0.5555555555555556,
             "#d8576b"
            ],
            [
             0.6666666666666666,
             "#ed7953"
            ],
            [
             0.7777777777777778,
             "#fb9f3a"
            ],
            [
             0.8888888888888888,
             "#fdca26"
            ],
            [
             1,
             "#f0f921"
            ]
           ]
          },
          "colorway": [
           "#636efa",
           "#EF553B",
           "#00cc96",
           "#ab63fa",
           "#FFA15A",
           "#19d3f3",
           "#FF6692",
           "#B6E880",
           "#FF97FF",
           "#FECB52"
          ],
          "font": {
           "color": "#2a3f5f"
          },
          "geo": {
           "bgcolor": "white",
           "lakecolor": "white",
           "landcolor": "#E5ECF6",
           "showlakes": true,
           "showland": true,
           "subunitcolor": "white"
          },
          "hoverlabel": {
           "align": "left"
          },
          "hovermode": "closest",
          "mapbox": {
           "style": "light"
          },
          "paper_bgcolor": "white",
          "plot_bgcolor": "#E5ECF6",
          "polar": {
           "angularaxis": {
            "gridcolor": "white",
            "linecolor": "white",
            "ticks": ""
           },
           "bgcolor": "#E5ECF6",
           "radialaxis": {
            "gridcolor": "white",
            "linecolor": "white",
            "ticks": ""
           }
          },
          "scene": {
           "xaxis": {
            "backgroundcolor": "#E5ECF6",
            "gridcolor": "white",
            "gridwidth": 2,
            "linecolor": "white",
            "showbackground": true,
            "ticks": "",
            "zerolinecolor": "white"
           },
           "yaxis": {
            "backgroundcolor": "#E5ECF6",
            "gridcolor": "white",
            "gridwidth": 2,
            "linecolor": "white",
            "showbackground": true,
            "ticks": "",
            "zerolinecolor": "white"
           },
           "zaxis": {
            "backgroundcolor": "#E5ECF6",
            "gridcolor": "white",
            "gridwidth": 2,
            "linecolor": "white",
            "showbackground": true,
            "ticks": "",
            "zerolinecolor": "white"
           }
          },
          "shapedefaults": {
           "line": {
            "color": "#2a3f5f"
           }
          },
          "ternary": {
           "aaxis": {
            "gridcolor": "white",
            "linecolor": "white",
            "ticks": ""
           },
           "baxis": {
            "gridcolor": "white",
            "linecolor": "white",
            "ticks": ""
           },
           "bgcolor": "#E5ECF6",
           "caxis": {
            "gridcolor": "white",
            "linecolor": "white",
            "ticks": ""
           }
          },
          "title": {
           "x": 0.05
          },
          "xaxis": {
           "automargin": true,
           "gridcolor": "white",
           "linecolor": "white",
           "ticks": "",
           "title": {
            "standoff": 15
           },
           "zerolinecolor": "white",
           "zerolinewidth": 2
          },
          "yaxis": {
           "automargin": true,
           "gridcolor": "white",
           "linecolor": "white",
           "ticks": "",
           "title": {
            "standoff": 15
           },
           "zerolinecolor": "white",
           "zerolinewidth": 2
          }
         }
        },
        "title": {
         "text": "Trainings- & Validierungs-Loss (MSE)"
        },
        "xaxis": {
         "anchor": "y",
         "domain": [
          0,
          1
         ],
         "title": {
          "text": "epoch"
         }
        },
        "yaxis": {
         "anchor": "x",
         "domain": [
          0,
          1
         ],
         "title": {
          "text": "Loss (MSE)"
         }
        }
       }
      }
     },
     "metadata": {},
     "output_type": "display_data"
    },
    {
     "data": {
      "application/vnd.plotly.v1+json": {
       "config": {
        "plotlyServerURL": "https://plot.ly"
       },
       "data": [
        {
         "hovertemplate": "Datensatz=mean_absolute_error<br>epoch=%{x}<br>Mean Absolute Error=%{y}<extra></extra>",
         "legendgroup": "mean_absolute_error",
         "line": {
          "color": "#636efa",
          "dash": "solid"
         },
         "marker": {
          "symbol": "circle"
         },
         "mode": "lines",
         "name": "mean_absolute_error",
         "orientation": "v",
         "showlegend": true,
         "type": "scatter",
         "x": {
          "bdata": "AQIDBAUGBwgJCgsMDQ4PEBESExQVFhcYGRobHB0eHyAhIiMkJSYnKCkqKywtLi8wMTI=",
          "dtype": "i1"
         },
         "xaxis": "x",
         "y": {
          "bdata": "AAAAYC/+4j8AAABAC3PaPwAAAEDr2NA/AAAAADuoyj8AAAAAdYPKPwAAAABmYsU/AAAAwD/RxT8AAADg0lbCPwAAAODhUsM/AAAAQNNGwT8AAABgY1/APwAAAEBvr8A/AAAAAMKuwD8AAADA8S/APwAAAGCYAL4/AAAAAO/vvD8AAAAAmnK9PwAAAKCztLw/AAAAwPmIuj8AAABAbprAPwAAAKCACMA/AAAAoOpIvT8AAACgkJO7PwAAAAAsSbg/AAAAABsluj8AAADAqVG4PwAAAGAHp7Y/AAAAoPuftz8AAADAZba3PwAAAEAI+rY/AAAAgMC1sz8AAADAiUy3PwAAAAAcAbo/AAAAgCtEtz8AAACg9dK1PwAAAEDsT7g/AAAAgJZotz8AAACgGQi2PwAAAODYH7U/AAAAAFRbtD8AAADAqba1PwAAAKCCALc/AAAAQAzmtT8AAACAsuq0PwAAAMDHaLQ/AAAAwIGOtz8AAAAAmkC4PwAAAADWh7Y/AAAAoGUQtT8AAACgAhS1Pw==",
          "dtype": "f8"
         },
         "yaxis": "y"
        },
        {
         "hovertemplate": "Datensatz=val_mean_absolute_error<br>epoch=%{x}<br>Mean Absolute Error=%{y}<extra></extra>",
         "legendgroup": "val_mean_absolute_error",
         "line": {
          "color": "#EF553B",
          "dash": "solid"
         },
         "marker": {
          "symbol": "circle"
         },
         "mode": "lines",
         "name": "val_mean_absolute_error",
         "orientation": "v",
         "showlegend": true,
         "type": "scatter",
         "x": {
          "bdata": "AQIDBAUGBwgJCgsMDQ4PEBESExQVFhcYGRobHB0eHyAhIiMkJSYnKCkqKywtLi8wMTI=",
          "dtype": "i1"
         },
         "xaxis": "x",
         "y": {
          "bdata": "AAAAwE6e3z8AAABAGpPXPwAAAKD+NNI/AAAAoEnczD8AAADAJJbGPwAAAEBr88Q/AAAA4B3cwj8AAADgFifDPwAAAKBxmsM/AAAAgJO/wj8AAABAQY7BPwAAAMDHhMA/AAAAQBLxvT8AAABABaO8PwAAAKA5obs/AAAAwBPBuT8AAABAFCG6PwAAAKA06rk/AAAAYFBbuD8AAACg/ae3PwAAAKAKxLQ/AAAAQIUNsz8AAADAini1PwAAAMCgILM/AAAAYN0zsD8AAAAA+FWxPwAAAECr6a8/AAAAQAEItD8AAAAA9E+uPwAAAGAuNLE/AAAAYN8urT8AAADAfKqrPwAAAGBBoak/AAAAoDc6rT8AAADAwk+qPwAAAEBQzKY/AAAAYGLWqD8AAACg4yitPwAAAGBYRqw/AAAAQGqyrD8AAABAZSqqPwAAAACovak/AAAAQD5FrD8AAABAZW2lPwAAAEDqhKY/AAAAYNVHpD8AAABgJHKqPwAAAKD9cKg/AAAAYNvvqT8AAADAuLKjPw==",
          "dtype": "f8"
         },
         "yaxis": "y"
        }
       ],
       "layout": {
        "legend": {
         "title": {
          "text": "Datensatz"
         },
         "tracegroupgap": 0
        },
        "template": {
         "data": {
          "bar": [
           {
            "error_x": {
             "color": "#2a3f5f"
            },
            "error_y": {
             "color": "#2a3f5f"
            },
            "marker": {
             "line": {
              "color": "#E5ECF6",
              "width": 0.5
             },
             "pattern": {
              "fillmode": "overlay",
              "size": 10,
              "solidity": 0.2
             }
            },
            "type": "bar"
           }
          ],
          "barpolar": [
           {
            "marker": {
             "line": {
              "color": "#E5ECF6",
              "width": 0.5
             },
             "pattern": {
              "fillmode": "overlay",
              "size": 10,
              "solidity": 0.2
             }
            },
            "type": "barpolar"
           }
          ],
          "carpet": [
           {
            "aaxis": {
             "endlinecolor": "#2a3f5f",
             "gridcolor": "white",
             "linecolor": "white",
             "minorgridcolor": "white",
             "startlinecolor": "#2a3f5f"
            },
            "baxis": {
             "endlinecolor": "#2a3f5f",
             "gridcolor": "white",
             "linecolor": "white",
             "minorgridcolor": "white",
             "startlinecolor": "#2a3f5f"
            },
            "type": "carpet"
           }
          ],
          "choropleth": [
           {
            "colorbar": {
             "outlinewidth": 0,
             "ticks": ""
            },
            "type": "choropleth"
           }
          ],
          "contour": [
           {
            "colorbar": {
             "outlinewidth": 0,
             "ticks": ""
            },
            "colorscale": [
             [
              0,
              "#0d0887"
             ],
             [
              0.1111111111111111,
              "#46039f"
             ],
             [
              0.2222222222222222,
              "#7201a8"
             ],
             [
              0.3333333333333333,
              "#9c179e"
             ],
             [
              0.4444444444444444,
              "#bd3786"
             ],
             [
              0.5555555555555556,
              "#d8576b"
             ],
             [
              0.6666666666666666,
              "#ed7953"
             ],
             [
              0.7777777777777778,
              "#fb9f3a"
             ],
             [
              0.8888888888888888,
              "#fdca26"
             ],
             [
              1,
              "#f0f921"
             ]
            ],
            "type": "contour"
           }
          ],
          "contourcarpet": [
           {
            "colorbar": {
             "outlinewidth": 0,
             "ticks": ""
            },
            "type": "contourcarpet"
           }
          ],
          "heatmap": [
           {
            "colorbar": {
             "outlinewidth": 0,
             "ticks": ""
            },
            "colorscale": [
             [
              0,
              "#0d0887"
             ],
             [
              0.1111111111111111,
              "#46039f"
             ],
             [
              0.2222222222222222,
              "#7201a8"
             ],
             [
              0.3333333333333333,
              "#9c179e"
             ],
             [
              0.4444444444444444,
              "#bd3786"
             ],
             [
              0.5555555555555556,
              "#d8576b"
             ],
             [
              0.6666666666666666,
              "#ed7953"
             ],
             [
              0.7777777777777778,
              "#fb9f3a"
             ],
             [
              0.8888888888888888,
              "#fdca26"
             ],
             [
              1,
              "#f0f921"
             ]
            ],
            "type": "heatmap"
           }
          ],
          "histogram": [
           {
            "marker": {
             "pattern": {
              "fillmode": "overlay",
              "size": 10,
              "solidity": 0.2
             }
            },
            "type": "histogram"
           }
          ],
          "histogram2d": [
           {
            "colorbar": {
             "outlinewidth": 0,
             "ticks": ""
            },
            "colorscale": [
             [
              0,
              "#0d0887"
             ],
             [
              0.1111111111111111,
              "#46039f"
             ],
             [
              0.2222222222222222,
              "#7201a8"
             ],
             [
              0.3333333333333333,
              "#9c179e"
             ],
             [
              0.4444444444444444,
              "#bd3786"
             ],
             [
              0.5555555555555556,
              "#d8576b"
             ],
             [
              0.6666666666666666,
              "#ed7953"
             ],
             [
              0.7777777777777778,
              "#fb9f3a"
             ],
             [
              0.8888888888888888,
              "#fdca26"
             ],
             [
              1,
              "#f0f921"
             ]
            ],
            "type": "histogram2d"
           }
          ],
          "histogram2dcontour": [
           {
            "colorbar": {
             "outlinewidth": 0,
             "ticks": ""
            },
            "colorscale": [
             [
              0,
              "#0d0887"
             ],
             [
              0.1111111111111111,
              "#46039f"
             ],
             [
              0.2222222222222222,
              "#7201a8"
             ],
             [
              0.3333333333333333,
              "#9c179e"
             ],
             [
              0.4444444444444444,
              "#bd3786"
             ],
             [
              0.5555555555555556,
              "#d8576b"
             ],
             [
              0.6666666666666666,
              "#ed7953"
             ],
             [
              0.7777777777777778,
              "#fb9f3a"
             ],
             [
              0.8888888888888888,
              "#fdca26"
             ],
             [
              1,
              "#f0f921"
             ]
            ],
            "type": "histogram2dcontour"
           }
          ],
          "mesh3d": [
           {
            "colorbar": {
             "outlinewidth": 0,
             "ticks": ""
            },
            "type": "mesh3d"
           }
          ],
          "parcoords": [
           {
            "line": {
             "colorbar": {
              "outlinewidth": 0,
              "ticks": ""
             }
            },
            "type": "parcoords"
           }
          ],
          "pie": [
           {
            "automargin": true,
            "type": "pie"
           }
          ],
          "scatter": [
           {
            "fillpattern": {
             "fillmode": "overlay",
             "size": 10,
             "solidity": 0.2
            },
            "type": "scatter"
           }
          ],
          "scatter3d": [
           {
            "line": {
             "colorbar": {
              "outlinewidth": 0,
              "ticks": ""
             }
            },
            "marker": {
             "colorbar": {
              "outlinewidth": 0,
              "ticks": ""
             }
            },
            "type": "scatter3d"
           }
          ],
          "scattercarpet": [
           {
            "marker": {
             "colorbar": {
              "outlinewidth": 0,
              "ticks": ""
             }
            },
            "type": "scattercarpet"
           }
          ],
          "scattergeo": [
           {
            "marker": {
             "colorbar": {
              "outlinewidth": 0,
              "ticks": ""
             }
            },
            "type": "scattergeo"
           }
          ],
          "scattergl": [
           {
            "marker": {
             "colorbar": {
              "outlinewidth": 0,
              "ticks": ""
             }
            },
            "type": "scattergl"
           }
          ],
          "scattermap": [
           {
            "marker": {
             "colorbar": {
              "outlinewidth": 0,
              "ticks": ""
             }
            },
            "type": "scattermap"
           }
          ],
          "scattermapbox": [
           {
            "marker": {
             "colorbar": {
              "outlinewidth": 0,
              "ticks": ""
             }
            },
            "type": "scattermapbox"
           }
          ],
          "scatterpolar": [
           {
            "marker": {
             "colorbar": {
              "outlinewidth": 0,
              "ticks": ""
             }
            },
            "type": "scatterpolar"
           }
          ],
          "scatterpolargl": [
           {
            "marker": {
             "colorbar": {
              "outlinewidth": 0,
              "ticks": ""
             }
            },
            "type": "scatterpolargl"
           }
          ],
          "scatterternary": [
           {
            "marker": {
             "colorbar": {
              "outlinewidth": 0,
              "ticks": ""
             }
            },
            "type": "scatterternary"
           }
          ],
          "surface": [
           {
            "colorbar": {
             "outlinewidth": 0,
             "ticks": ""
            },
            "colorscale": [
             [
              0,
              "#0d0887"
             ],
             [
              0.1111111111111111,
              "#46039f"
             ],
             [
              0.2222222222222222,
              "#7201a8"
             ],
             [
              0.3333333333333333,
              "#9c179e"
             ],
             [
              0.4444444444444444,
              "#bd3786"
             ],
             [
              0.5555555555555556,
              "#d8576b"
             ],
             [
              0.6666666666666666,
              "#ed7953"
             ],
             [
              0.7777777777777778,
              "#fb9f3a"
             ],
             [
              0.8888888888888888,
              "#fdca26"
             ],
             [
              1,
              "#f0f921"
             ]
            ],
            "type": "surface"
           }
          ],
          "table": [
           {
            "cells": {
             "fill": {
              "color": "#EBF0F8"
             },
             "line": {
              "color": "white"
             }
            },
            "header": {
             "fill": {
              "color": "#C8D4E3"
             },
             "line": {
              "color": "white"
             }
            },
            "type": "table"
           }
          ]
         },
         "layout": {
          "annotationdefaults": {
           "arrowcolor": "#2a3f5f",
           "arrowhead": 0,
           "arrowwidth": 1
          },
          "autotypenumbers": "strict",
          "coloraxis": {
           "colorbar": {
            "outlinewidth": 0,
            "ticks": ""
           }
          },
          "colorscale": {
           "diverging": [
            [
             0,
             "#8e0152"
            ],
            [
             0.1,
             "#c51b7d"
            ],
            [
             0.2,
             "#de77ae"
            ],
            [
             0.3,
             "#f1b6da"
            ],
            [
             0.4,
             "#fde0ef"
            ],
            [
             0.5,
             "#f7f7f7"
            ],
            [
             0.6,
             "#e6f5d0"
            ],
            [
             0.7,
             "#b8e186"
            ],
            [
             0.8,
             "#7fbc41"
            ],
            [
             0.9,
             "#4d9221"
            ],
            [
             1,
             "#276419"
            ]
           ],
           "sequential": [
            [
             0,
             "#0d0887"
            ],
            [
             0.1111111111111111,
             "#46039f"
            ],
            [
             0.2222222222222222,
             "#7201a8"
            ],
            [
             0.3333333333333333,
             "#9c179e"
            ],
            [
             0.4444444444444444,
             "#bd3786"
            ],
            [
             0.5555555555555556,
             "#d8576b"
            ],
            [
             0.6666666666666666,
             "#ed7953"
            ],
            [
             0.7777777777777778,
             "#fb9f3a"
            ],
            [
             0.8888888888888888,
             "#fdca26"
            ],
            [
             1,
             "#f0f921"
            ]
           ],
           "sequentialminus": [
            [
             0,
             "#0d0887"
            ],
            [
             0.1111111111111111,
             "#46039f"
            ],
            [
             0.2222222222222222,
             "#7201a8"
            ],
            [
             0.3333333333333333,
             "#9c179e"
            ],
            [
             0.4444444444444444,
             "#bd3786"
            ],
            [
             0.5555555555555556,
             "#d8576b"
            ],
            [
             0.6666666666666666,
             "#ed7953"
            ],
            [
             0.7777777777777778,
             "#fb9f3a"
            ],
            [
             0.8888888888888888,
             "#fdca26"
            ],
            [
             1,
             "#f0f921"
            ]
           ]
          },
          "colorway": [
           "#636efa",
           "#EF553B",
           "#00cc96",
           "#ab63fa",
           "#FFA15A",
           "#19d3f3",
           "#FF6692",
           "#B6E880",
           "#FF97FF",
           "#FECB52"
          ],
          "font": {
           "color": "#2a3f5f"
          },
          "geo": {
           "bgcolor": "white",
           "lakecolor": "white",
           "landcolor": "#E5ECF6",
           "showlakes": true,
           "showland": true,
           "subunitcolor": "white"
          },
          "hoverlabel": {
           "align": "left"
          },
          "hovermode": "closest",
          "mapbox": {
           "style": "light"
          },
          "paper_bgcolor": "white",
          "plot_bgcolor": "#E5ECF6",
          "polar": {
           "angularaxis": {
            "gridcolor": "white",
            "linecolor": "white",
            "ticks": ""
           },
           "bgcolor": "#E5ECF6",
           "radialaxis": {
            "gridcolor": "white",
            "linecolor": "white",
            "ticks": ""
           }
          },
          "scene": {
           "xaxis": {
            "backgroundcolor": "#E5ECF6",
            "gridcolor": "white",
            "gridwidth": 2,
            "linecolor": "white",
            "showbackground": true,
            "ticks": "",
            "zerolinecolor": "white"
           },
           "yaxis": {
            "backgroundcolor": "#E5ECF6",
            "gridcolor": "white",
            "gridwidth": 2,
            "linecolor": "white",
            "showbackground": true,
            "ticks": "",
            "zerolinecolor": "white"
           },
           "zaxis": {
            "backgroundcolor": "#E5ECF6",
            "gridcolor": "white",
            "gridwidth": 2,
            "linecolor": "white",
            "showbackground": true,
            "ticks": "",
            "zerolinecolor": "white"
           }
          },
          "shapedefaults": {
           "line": {
            "color": "#2a3f5f"
           }
          },
          "ternary": {
           "aaxis": {
            "gridcolor": "white",
            "linecolor": "white",
            "ticks": ""
           },
           "baxis": {
            "gridcolor": "white",
            "linecolor": "white",
            "ticks": ""
           },
           "bgcolor": "#E5ECF6",
           "caxis": {
            "gridcolor": "white",
            "linecolor": "white",
            "ticks": ""
           }
          },
          "title": {
           "x": 0.05
          },
          "xaxis": {
           "automargin": true,
           "gridcolor": "white",
           "linecolor": "white",
           "ticks": "",
           "title": {
            "standoff": 15
           },
           "zerolinecolor": "white",
           "zerolinewidth": 2
          },
          "yaxis": {
           "automargin": true,
           "gridcolor": "white",
           "linecolor": "white",
           "ticks": "",
           "title": {
            "standoff": 15
           },
           "zerolinecolor": "white",
           "zerolinewidth": 2
          }
         }
        },
        "title": {
         "text": "Trainings- & Validierungs-MAE"
        },
        "xaxis": {
         "anchor": "y",
         "domain": [
          0,
          1
         ],
         "title": {
          "text": "epoch"
         }
        },
        "yaxis": {
         "anchor": "x",
         "domain": [
          0,
          1
         ],
         "title": {
          "text": "Mean Absolute Error"
         }
        }
       }
      }
     },
     "metadata": {},
     "output_type": "display_data"
    }
   ],
   "source": [
    "# Erstelle einen DataFrame aus der Trainingshistorie\n",
    "history_df = pd.DataFrame(history.history)\n",
    "history_df[\"epoch\"] = history_df.index + 1\n",
    "\n",
    "# Plotte die Loss (Mean Squared Error)\n",
    "fig_loss = px.line(\n",
    "    history_df,\n",
    "    x=\"epoch\",\n",
    "    y=[\"loss\", \"val_loss\"],\n",
    "    title=\"Trainings- & Validierungs-Loss (MSE)\",\n",
    "    labels={\"value\": \"Loss (MSE)\", \"variable\": \"Datensatz\"},\n",
    ")\n",
    "fig_loss.show()\n",
    "\n",
    "# Plotte die Metrik (Mean Absolute Error)\n",
    "fig_mae = px.line(\n",
    "    history_df,\n",
    "    x=\"epoch\",\n",
    "    y=[\"mean_absolute_error\", \"val_mean_absolute_error\"],\n",
    "    title=\"Trainings- & Validierungs-MAE\",\n",
    "    labels={\"value\": \"Mean Absolute Error\", \"variable\": \"Datensatz\"},\n",
    ")\n",
    "fig_mae.show()"
   ]
  },
  {
   "cell_type": "markdown",
   "id": "bae88881",
   "metadata": {},
   "source": [
    "<br>"
   ]
  },
  {
   "cell_type": "markdown",
   "id": "b25985f5",
   "metadata": {},
   "source": [
    "## Wahl des besten Modells + Evaluierung"
   ]
  },
  {
   "cell_type": "code",
   "execution_count": 13,
   "id": "b18b772d",
   "metadata": {},
   "outputs": [
    {
     "name": "stdout",
     "output_type": "stream",
     "text": [
      "Lade das beste gespeicherte Modell 'best_model.keras'...\n",
      "Modell geladen.\n",
      "\n",
      "Starte die Evaluierung der Vorhersagegenauigkeit in Abhängigkeit vom Batch-Fortschritt...\n"
     ]
    },
    {
     "name": "stderr",
     "output_type": "stream",
     "text": [
      "c:\\Users\\sinan\\AppData\\Local\\Programs\\Python\\Python311\\Lib\\site-packages\\keras\\src\\layers\\layer.py:421: UserWarning:\n",
      "\n",
      "`build()` was called on layer 'spatial_attention', however the layer does not have a `build()` method implemented and it looks like it has unbuilt state. This will cause the layer to be marked as built, despite not being actually built, which may cause failures down the line. Make sure to implement a proper `build()` method.\n",
      "\n",
      "c:\\Users\\sinan\\AppData\\Local\\Programs\\Python\\Python311\\Lib\\site-packages\\keras\\src\\layers\\layer.py:421: UserWarning:\n",
      "\n",
      "`build()` was called on layer 'temporal_attention', however the layer does not have a `build()` method implemented and it looks like it has unbuilt state. This will cause the layer to be marked as built, despite not being actually built, which may cause failures down the line. Make sure to implement a proper `build()` method.\n",
      "\n"
     ]
    },
    {
     "name": "stdout",
     "output_type": "stream",
     "text": [
      "\u001b[1m1/1\u001b[0m \u001b[32m━━━━━━━━━━━━━━━━━━━━\u001b[0m\u001b[37m\u001b[0m \u001b[1m0s\u001b[0m 195ms/step\n",
      "Fortschritt: 10% (14 Zeitschritte) -> MAE: 0.1583\n",
      "\u001b[1m1/1\u001b[0m \u001b[32m━━━━━━━━━━━━━━━━━━━━\u001b[0m\u001b[37m\u001b[0m \u001b[1m0s\u001b[0m 51ms/step\n",
      "Fortschritt: 20% (28 Zeitschritte) -> MAE: 0.1533\n",
      "\u001b[1m1/1\u001b[0m \u001b[32m━━━━━━━━━━━━━━━━━━━━\u001b[0m\u001b[37m\u001b[0m \u001b[1m0s\u001b[0m 49ms/step\n",
      "Fortschritt: 30% (42 Zeitschritte) -> MAE: 0.1523\n",
      "\u001b[1m1/1\u001b[0m \u001b[32m━━━━━━━━━━━━━━━━━━━━\u001b[0m\u001b[37m\u001b[0m \u001b[1m0s\u001b[0m 49ms/step\n",
      "Fortschritt: 40% (56 Zeitschritte) -> MAE: 0.1463\n",
      "\u001b[1m1/1\u001b[0m \u001b[32m━━━━━━━━━━━━━━━━━━━━\u001b[0m\u001b[37m\u001b[0m \u001b[1m0s\u001b[0m 52ms/step\n",
      "Fortschritt: 50% (70 Zeitschritte) -> MAE: 0.1362\n",
      "\u001b[1m1/1\u001b[0m \u001b[32m━━━━━━━━━━━━━━━━━━━━\u001b[0m\u001b[37m\u001b[0m \u001b[1m0s\u001b[0m 51ms/step\n",
      "Fortschritt: 60% (84 Zeitschritte) -> MAE: 0.1236\n",
      "\u001b[1m1/1\u001b[0m \u001b[32m━━━━━━━━━━━━━━━━━━━━\u001b[0m\u001b[37m\u001b[0m \u001b[1m0s\u001b[0m 43ms/step\n",
      "Fortschritt: 70% (98 Zeitschritte) -> MAE: 0.1034\n",
      "\u001b[1m1/1\u001b[0m \u001b[32m━━━━━━━━━━━━━━━━━━━━\u001b[0m\u001b[37m\u001b[0m \u001b[1m0s\u001b[0m 41ms/step\n",
      "Fortschritt: 80% (112 Zeitschritte) -> MAE: 0.0788\n",
      "\u001b[1m1/1\u001b[0m \u001b[32m━━━━━━━━━━━━━━━━━━━━\u001b[0m\u001b[37m\u001b[0m \u001b[1m0s\u001b[0m 38ms/step\n",
      "Fortschritt: 90% (126 Zeitschritte) -> MAE: 0.0450\n",
      "\u001b[1m1/1\u001b[0m \u001b[32m━━━━━━━━━━━━━━━━━━━━\u001b[0m\u001b[37m\u001b[0m \u001b[1m0s\u001b[0m 31ms/step\n",
      "Fortschritt: 100% (140 Zeitschritte) -> MAE: 0.0056\n",
      "\n",
      "Evaluierung abgeschlossen.\n"
     ]
    },
    {
     "data": {
      "application/vnd.plotly.v1+json": {
       "config": {
        "plotlyServerURL": "https://plot.ly"
       },
       "data": [
        {
         "hovertemplate": "Batch-Fortschritt (%)=%{x}<br>Mean Absolute Percent Error (MAPE)=%{y}<extra></extra>",
         "legendgroup": "",
         "line": {
          "color": "#636efa",
          "dash": "solid"
         },
         "marker": {
          "symbol": "circle"
         },
         "mode": "lines+markers",
         "name": "",
         "orientation": "v",
         "showlegend": false,
         "type": "scatter",
         "x": {
          "bdata": "AAAAAAAAJEAAAAAAAAA0QAEAAAAAAD5AAAAAAAAAREAAAAAAAABJQAAAAAAAAE5AAAAAAACAUUAAAAAAAABUQAAAAAAAgFZAAAAAAAAAWUA=",
          "dtype": "f8"
         },
         "xaxis": "x",
         "y": {
          "bdata": "1h0hVK1BxD/qunekWqDDP4F6ceHif8M/asnbcYa5wj/kmJsbzG7BP32CxykDpL8/m40RpUV5uj+iHKI4dyu0P05I+NJ5Dqc/cF06xg0Vdz8=",
          "dtype": "f8"
         },
         "yaxis": "y"
        }
       ],
       "layout": {
        "legend": {
         "tracegroupgap": 0
        },
        "template": {
         "data": {
          "bar": [
           {
            "error_x": {
             "color": "#2a3f5f"
            },
            "error_y": {
             "color": "#2a3f5f"
            },
            "marker": {
             "line": {
              "color": "#E5ECF6",
              "width": 0.5
             },
             "pattern": {
              "fillmode": "overlay",
              "size": 10,
              "solidity": 0.2
             }
            },
            "type": "bar"
           }
          ],
          "barpolar": [
           {
            "marker": {
             "line": {
              "color": "#E5ECF6",
              "width": 0.5
             },
             "pattern": {
              "fillmode": "overlay",
              "size": 10,
              "solidity": 0.2
             }
            },
            "type": "barpolar"
           }
          ],
          "carpet": [
           {
            "aaxis": {
             "endlinecolor": "#2a3f5f",
             "gridcolor": "white",
             "linecolor": "white",
             "minorgridcolor": "white",
             "startlinecolor": "#2a3f5f"
            },
            "baxis": {
             "endlinecolor": "#2a3f5f",
             "gridcolor": "white",
             "linecolor": "white",
             "minorgridcolor": "white",
             "startlinecolor": "#2a3f5f"
            },
            "type": "carpet"
           }
          ],
          "choropleth": [
           {
            "colorbar": {
             "outlinewidth": 0,
             "ticks": ""
            },
            "type": "choropleth"
           }
          ],
          "contour": [
           {
            "colorbar": {
             "outlinewidth": 0,
             "ticks": ""
            },
            "colorscale": [
             [
              0,
              "#0d0887"
             ],
             [
              0.1111111111111111,
              "#46039f"
             ],
             [
              0.2222222222222222,
              "#7201a8"
             ],
             [
              0.3333333333333333,
              "#9c179e"
             ],
             [
              0.4444444444444444,
              "#bd3786"
             ],
             [
              0.5555555555555556,
              "#d8576b"
             ],
             [
              0.6666666666666666,
              "#ed7953"
             ],
             [
              0.7777777777777778,
              "#fb9f3a"
             ],
             [
              0.8888888888888888,
              "#fdca26"
             ],
             [
              1,
              "#f0f921"
             ]
            ],
            "type": "contour"
           }
          ],
          "contourcarpet": [
           {
            "colorbar": {
             "outlinewidth": 0,
             "ticks": ""
            },
            "type": "contourcarpet"
           }
          ],
          "heatmap": [
           {
            "colorbar": {
             "outlinewidth": 0,
             "ticks": ""
            },
            "colorscale": [
             [
              0,
              "#0d0887"
             ],
             [
              0.1111111111111111,
              "#46039f"
             ],
             [
              0.2222222222222222,
              "#7201a8"
             ],
             [
              0.3333333333333333,
              "#9c179e"
             ],
             [
              0.4444444444444444,
              "#bd3786"
             ],
             [
              0.5555555555555556,
              "#d8576b"
             ],
             [
              0.6666666666666666,
              "#ed7953"
             ],
             [
              0.7777777777777778,
              "#fb9f3a"
             ],
             [
              0.8888888888888888,
              "#fdca26"
             ],
             [
              1,
              "#f0f921"
             ]
            ],
            "type": "heatmap"
           }
          ],
          "histogram": [
           {
            "marker": {
             "pattern": {
              "fillmode": "overlay",
              "size": 10,
              "solidity": 0.2
             }
            },
            "type": "histogram"
           }
          ],
          "histogram2d": [
           {
            "colorbar": {
             "outlinewidth": 0,
             "ticks": ""
            },
            "colorscale": [
             [
              0,
              "#0d0887"
             ],
             [
              0.1111111111111111,
              "#46039f"
             ],
             [
              0.2222222222222222,
              "#7201a8"
             ],
             [
              0.3333333333333333,
              "#9c179e"
             ],
             [
              0.4444444444444444,
              "#bd3786"
             ],
             [
              0.5555555555555556,
              "#d8576b"
             ],
             [
              0.6666666666666666,
              "#ed7953"
             ],
             [
              0.7777777777777778,
              "#fb9f3a"
             ],
             [
              0.8888888888888888,
              "#fdca26"
             ],
             [
              1,
              "#f0f921"
             ]
            ],
            "type": "histogram2d"
           }
          ],
          "histogram2dcontour": [
           {
            "colorbar": {
             "outlinewidth": 0,
             "ticks": ""
            },
            "colorscale": [
             [
              0,
              "#0d0887"
             ],
             [
              0.1111111111111111,
              "#46039f"
             ],
             [
              0.2222222222222222,
              "#7201a8"
             ],
             [
              0.3333333333333333,
              "#9c179e"
             ],
             [
              0.4444444444444444,
              "#bd3786"
             ],
             [
              0.5555555555555556,
              "#d8576b"
             ],
             [
              0.6666666666666666,
              "#ed7953"
             ],
             [
              0.7777777777777778,
              "#fb9f3a"
             ],
             [
              0.8888888888888888,
              "#fdca26"
             ],
             [
              1,
              "#f0f921"
             ]
            ],
            "type": "histogram2dcontour"
           }
          ],
          "mesh3d": [
           {
            "colorbar": {
             "outlinewidth": 0,
             "ticks": ""
            },
            "type": "mesh3d"
           }
          ],
          "parcoords": [
           {
            "line": {
             "colorbar": {
              "outlinewidth": 0,
              "ticks": ""
             }
            },
            "type": "parcoords"
           }
          ],
          "pie": [
           {
            "automargin": true,
            "type": "pie"
           }
          ],
          "scatter": [
           {
            "fillpattern": {
             "fillmode": "overlay",
             "size": 10,
             "solidity": 0.2
            },
            "type": "scatter"
           }
          ],
          "scatter3d": [
           {
            "line": {
             "colorbar": {
              "outlinewidth": 0,
              "ticks": ""
             }
            },
            "marker": {
             "colorbar": {
              "outlinewidth": 0,
              "ticks": ""
             }
            },
            "type": "scatter3d"
           }
          ],
          "scattercarpet": [
           {
            "marker": {
             "colorbar": {
              "outlinewidth": 0,
              "ticks": ""
             }
            },
            "type": "scattercarpet"
           }
          ],
          "scattergeo": [
           {
            "marker": {
             "colorbar": {
              "outlinewidth": 0,
              "ticks": ""
             }
            },
            "type": "scattergeo"
           }
          ],
          "scattergl": [
           {
            "marker": {
             "colorbar": {
              "outlinewidth": 0,
              "ticks": ""
             }
            },
            "type": "scattergl"
           }
          ],
          "scattermap": [
           {
            "marker": {
             "colorbar": {
              "outlinewidth": 0,
              "ticks": ""
             }
            },
            "type": "scattermap"
           }
          ],
          "scattermapbox": [
           {
            "marker": {
             "colorbar": {
              "outlinewidth": 0,
              "ticks": ""
             }
            },
            "type": "scattermapbox"
           }
          ],
          "scatterpolar": [
           {
            "marker": {
             "colorbar": {
              "outlinewidth": 0,
              "ticks": ""
             }
            },
            "type": "scatterpolar"
           }
          ],
          "scatterpolargl": [
           {
            "marker": {
             "colorbar": {
              "outlinewidth": 0,
              "ticks": ""
             }
            },
            "type": "scatterpolargl"
           }
          ],
          "scatterternary": [
           {
            "marker": {
             "colorbar": {
              "outlinewidth": 0,
              "ticks": ""
             }
            },
            "type": "scatterternary"
           }
          ],
          "surface": [
           {
            "colorbar": {
             "outlinewidth": 0,
             "ticks": ""
            },
            "colorscale": [
             [
              0,
              "#0d0887"
             ],
             [
              0.1111111111111111,
              "#46039f"
             ],
             [
              0.2222222222222222,
              "#7201a8"
             ],
             [
              0.3333333333333333,
              "#9c179e"
             ],
             [
              0.4444444444444444,
              "#bd3786"
             ],
             [
              0.5555555555555556,
              "#d8576b"
             ],
             [
              0.6666666666666666,
              "#ed7953"
             ],
             [
              0.7777777777777778,
              "#fb9f3a"
             ],
             [
              0.8888888888888888,
              "#fdca26"
             ],
             [
              1,
              "#f0f921"
             ]
            ],
            "type": "surface"
           }
          ],
          "table": [
           {
            "cells": {
             "fill": {
              "color": "#EBF0F8"
             },
             "line": {
              "color": "white"
             }
            },
            "header": {
             "fill": {
              "color": "#C8D4E3"
             },
             "line": {
              "color": "white"
             }
            },
            "type": "table"
           }
          ]
         },
         "layout": {
          "annotationdefaults": {
           "arrowcolor": "#2a3f5f",
           "arrowhead": 0,
           "arrowwidth": 1
          },
          "autotypenumbers": "strict",
          "coloraxis": {
           "colorbar": {
            "outlinewidth": 0,
            "ticks": ""
           }
          },
          "colorscale": {
           "diverging": [
            [
             0,
             "#8e0152"
            ],
            [
             0.1,
             "#c51b7d"
            ],
            [
             0.2,
             "#de77ae"
            ],
            [
             0.3,
             "#f1b6da"
            ],
            [
             0.4,
             "#fde0ef"
            ],
            [
             0.5,
             "#f7f7f7"
            ],
            [
             0.6,
             "#e6f5d0"
            ],
            [
             0.7,
             "#b8e186"
            ],
            [
             0.8,
             "#7fbc41"
            ],
            [
             0.9,
             "#4d9221"
            ],
            [
             1,
             "#276419"
            ]
           ],
           "sequential": [
            [
             0,
             "#0d0887"
            ],
            [
             0.1111111111111111,
             "#46039f"
            ],
            [
             0.2222222222222222,
             "#7201a8"
            ],
            [
             0.3333333333333333,
             "#9c179e"
            ],
            [
             0.4444444444444444,
             "#bd3786"
            ],
            [
             0.5555555555555556,
             "#d8576b"
            ],
            [
             0.6666666666666666,
             "#ed7953"
            ],
            [
             0.7777777777777778,
             "#fb9f3a"
            ],
            [
             0.8888888888888888,
             "#fdca26"
            ],
            [
             1,
             "#f0f921"
            ]
           ],
           "sequentialminus": [
            [
             0,
             "#0d0887"
            ],
            [
             0.1111111111111111,
             "#46039f"
            ],
            [
             0.2222222222222222,
             "#7201a8"
            ],
            [
             0.3333333333333333,
             "#9c179e"
            ],
            [
             0.4444444444444444,
             "#bd3786"
            ],
            [
             0.5555555555555556,
             "#d8576b"
            ],
            [
             0.6666666666666666,
             "#ed7953"
            ],
            [
             0.7777777777777778,
             "#fb9f3a"
            ],
            [
             0.8888888888888888,
             "#fdca26"
            ],
            [
             1,
             "#f0f921"
            ]
           ]
          },
          "colorway": [
           "#636efa",
           "#EF553B",
           "#00cc96",
           "#ab63fa",
           "#FFA15A",
           "#19d3f3",
           "#FF6692",
           "#B6E880",
           "#FF97FF",
           "#FECB52"
          ],
          "font": {
           "color": "#2a3f5f"
          },
          "geo": {
           "bgcolor": "white",
           "lakecolor": "white",
           "landcolor": "#E5ECF6",
           "showlakes": true,
           "showland": true,
           "subunitcolor": "white"
          },
          "hoverlabel": {
           "align": "left"
          },
          "hovermode": "closest",
          "mapbox": {
           "style": "light"
          },
          "paper_bgcolor": "white",
          "plot_bgcolor": "#E5ECF6",
          "polar": {
           "angularaxis": {
            "gridcolor": "white",
            "linecolor": "white",
            "ticks": ""
           },
           "bgcolor": "#E5ECF6",
           "radialaxis": {
            "gridcolor": "white",
            "linecolor": "white",
            "ticks": ""
           }
          },
          "scene": {
           "xaxis": {
            "backgroundcolor": "#E5ECF6",
            "gridcolor": "white",
            "gridwidth": 2,
            "linecolor": "white",
            "showbackground": true,
            "ticks": "",
            "zerolinecolor": "white"
           },
           "yaxis": {
            "backgroundcolor": "#E5ECF6",
            "gridcolor": "white",
            "gridwidth": 2,
            "linecolor": "white",
            "showbackground": true,
            "ticks": "",
            "zerolinecolor": "white"
           },
           "zaxis": {
            "backgroundcolor": "#E5ECF6",
            "gridcolor": "white",
            "gridwidth": 2,
            "linecolor": "white",
            "showbackground": true,
            "ticks": "",
            "zerolinecolor": "white"
           }
          },
          "shapedefaults": {
           "line": {
            "color": "#2a3f5f"
           }
          },
          "ternary": {
           "aaxis": {
            "gridcolor": "white",
            "linecolor": "white",
            "ticks": ""
           },
           "baxis": {
            "gridcolor": "white",
            "linecolor": "white",
            "ticks": ""
           },
           "bgcolor": "#E5ECF6",
           "caxis": {
            "gridcolor": "white",
            "linecolor": "white",
            "ticks": ""
           }
          },
          "title": {
           "x": 0.05
          },
          "xaxis": {
           "automargin": true,
           "gridcolor": "white",
           "linecolor": "white",
           "ticks": "",
           "title": {
            "standoff": 15
           },
           "zerolinecolor": "white",
           "zerolinewidth": 2
          },
          "yaxis": {
           "automargin": true,
           "gridcolor": "white",
           "linecolor": "white",
           "ticks": "",
           "title": {
            "standoff": 15
           },
           "zerolinecolor": "white",
           "zerolinewidth": 2
          }
         }
        },
        "title": {
         "text": "Soft-Sensor-Genauigkeit während des Batches"
        },
        "xaxis": {
         "anchor": "y",
         "domain": [
          0,
          1
         ],
         "title": {
          "text": "Verfügbare Daten vom Batch (%)"
         }
        },
        "yaxis": {
         "anchor": "x",
         "domain": [
          0,
          1
         ],
         "title": {
          "text": "Vorhersagefehler (MAPE) auf dem Testset"
         }
        }
       }
      }
     },
     "metadata": {},
     "output_type": "display_data"
    }
   ],
   "source": [
    "# EVALUIERUNG\n",
    "\n",
    "\n",
    "# 1. Lade das beste Modell, das während des Trainings gespeichert wurde\n",
    "print(\"Lade das beste gespeicherte Modell 'best_model.keras'...\")\n",
    "#best_model = load_model(\"best_model.keras\")\n",
    "best_model = load_model(\n",
    "    \"best_model.keras\",\n",
    "    custom_objects={\n",
    "        \"SpatialAttention\": SpatialAttention,\n",
    "        \"TemporalAttention\": TemporalAttention\n",
    "    }\n",
    ")\n",
    "\n",
    "print(\"Modell geladen.\")\n",
    "\n",
    "# 2. Definiere die Schritte für die Evaluierung (z.B. in 10%-Schritten)\n",
    "evaluation_points = np.linspace(0.1, 1.0, 10)  # 10%, 20%, ..., 100%\n",
    "timesteps = X_test_scaled.shape[1]  # 140\n",
    "mae_per_step = []\n",
    "\n",
    "print(\n",
    "    \"\\nStarte die Evaluierung der Vorhersagegenauigkeit in Abhängigkeit vom Batch-Fortschritt...\"\n",
    ")\n",
    "\n",
    "for progress in evaluation_points:\n",
    "    # Berechne, wie viele Zeitschritte dem aktuellen Fortschritt entsprechen\n",
    "    current_timesteps = int(timesteps * progress)\n",
    "\n",
    "    # Erstelle eine temporäre, verkürzte Version des Testsets\n",
    "    X_test_partial = X_test_scaled[:, :current_timesteps, :]\n",
    "\n",
    "    # Padde die Sequenzen von vorne mit Nullen, damit sie die volle Länge haben\n",
    "    # Das ist wichtig, da das LSTM eine feste Input-Länge erwartet.\n",
    "    # 'pre'-padding ist üblich für Zeitreihen.\n",
    "    X_test_padded = pad_sequences(\n",
    "        X_test_partial,\n",
    "        maxlen=timesteps,\n",
    "        dtype=\"float32\",\n",
    "        padding=\"pre\",\n",
    "        truncating=\"pre\",\n",
    "    )\n",
    "\n",
    "    # Mache Vorhersagen mit dem Modell auf den (skalierten) gepaddeten Daten\n",
    "    y_pred_scaled = best_model.predict(X_test_padded)\n",
    "\n",
    "    # Rück-Transformation der Vorhersagen und der wahren Werte in die Originalskala\n",
    "    y_pred = scaler_y.inverse_transform(y_pred_scaled)\n",
    "    y_true = scaler_y.inverse_transform(\n",
    "        y_test_scaled\n",
    "    )  # y_test_scaled sind die Targets für X_test_scaled\n",
    "\n",
    "    # Berechne den Mean Absolute Error für diesen Fortschrittsschritt\n",
    "    mae = mean_absolute_percentage_error(y_true, y_pred)\n",
    "    mae_per_step.append(mae)\n",
    "\n",
    "    print(\n",
    "        f\"Fortschritt: {progress*100:.0f}% ({current_timesteps} Zeitschritte) -> MAE: {mae:.4f}\"\n",
    "    )\n",
    "\n",
    "print(\"\\nEvaluierung abgeschlossen.\")\n",
    "\n",
    "\n",
    "# 3. Visualisierung des Ergebnisses\n",
    "eval_df = pd.DataFrame(\n",
    "    {\n",
    "        \"Batch-Fortschritt (%)\": evaluation_points * 100,\n",
    "        \"Mean Absolute Percent Error (MAPE)\": mae_per_step,\n",
    "    }\n",
    ")\n",
    "\n",
    "fig_eval = px.line(\n",
    "    eval_df,\n",
    "    x=\"Batch-Fortschritt (%)\",\n",
    "    y=\"Mean Absolute Percent Error (MAPE)\",\n",
    "    title=\"Soft-Sensor-Genauigkeit während des Batches\",\n",
    "    markers=True,\n",
    ")\n",
    "\n",
    "fig_eval.update_layout(\n",
    "    yaxis_title=\"Vorhersagefehler (MAPE) auf dem Testset\",\n",
    "    xaxis_title=\"Verfügbare Daten vom Batch (%)\",\n",
    ")\n",
    "fig_eval.show()"
   ]
  },
  {
   "cell_type": "markdown",
   "id": "90775c76",
   "metadata": {},
   "source": [
    "<br>"
   ]
  },
  {
   "cell_type": "markdown",
   "id": "b78626c7",
   "metadata": {},
   "source": [
    "## Unsicherheit der Vorhersage während eines Batchverlaufs"
   ]
  },
  {
   "cell_type": "code",
   "execution_count": 14,
   "id": "cc229fb8",
   "metadata": {},
   "outputs": [
    {
     "name": "stderr",
     "output_type": "stream",
     "text": [
      "c:\\Users\\sinan\\AppData\\Local\\Programs\\Python\\Python311\\Lib\\site-packages\\keras\\src\\models\\functional.py:241: UserWarning:\n",
      "\n",
      "The structure of `inputs` doesn't match the expected structure.\n",
      "Expected: ['input_layer']\n",
      "Received: inputs=Tensor(shape=(1, 140, 5))\n",
      "\n",
      "c:\\Users\\sinan\\AppData\\Local\\Programs\\Python\\Python311\\Lib\\site-packages\\keras\\src\\models\\functional.py:241: UserWarning:\n",
      "\n",
      "The structure of `inputs` doesn't match the expected structure.\n",
      "Expected: ['input_layer']\n",
      "Received: inputs=Tensor(shape=(1, 140, 5))\n",
      "\n",
      "c:\\Users\\sinan\\AppData\\Local\\Programs\\Python\\Python311\\Lib\\site-packages\\keras\\src\\models\\functional.py:241: UserWarning:\n",
      "\n",
      "The structure of `inputs` doesn't match the expected structure.\n",
      "Expected: ['input_layer']\n",
      "Received: inputs=Tensor(shape=(1, 140, 5))\n",
      "\n"
     ]
    },
    {
     "ename": "KeyboardInterrupt",
     "evalue": "",
     "output_type": "error",
     "traceback": [
      "\u001b[31m---------------------------------------------------------------------------\u001b[39m",
      "\u001b[31mKeyboardInterrupt\u001b[39m                         Traceback (most recent call last)",
      "\u001b[32m~\\AppData\\Local\\Temp\\ipykernel_22296\\14171817.py\u001b[39m in \u001b[36m?\u001b[39m\u001b[34m()\u001b[39m\n\u001b[32m     15\u001b[39m     X_batch = X_test_scaled[batch_idx:batch_idx+\u001b[32m1\u001b[39m, :t_cut, :]\n\u001b[32m     16\u001b[39m     X_padded = pad_sequences(\n\u001b[32m     17\u001b[39m         X_batch, maxlen=timesteps, dtype=\u001b[33m\"float32\"\u001b[39m, padding=\u001b[33m\"pre\"\u001b[39m, truncating=\u001b[33m\"pre\"\u001b[39m\n\u001b[32m     18\u001b[39m     )\n\u001b[32m---> \u001b[39m\u001b[32m19\u001b[39m     m, s = mc_dropout_predictions(best_model, X_padded, n_iter=\u001b[32m50\u001b[39m)\n\u001b[32m     20\u001b[39m     mean_preds.append(scaler_y.inverse_transform(m.reshape(-\u001b[32m1\u001b[39m, \u001b[32m1\u001b[39m)).flatten()[\u001b[32m0\u001b[39m])\n\u001b[32m     21\u001b[39m     std_preds.append(s * scaler_y.scale_[\u001b[32m0\u001b[39m])\n\u001b[32m     22\u001b[39m timesteps_list = list(range(\u001b[32m10\u001b[39m, timesteps + \u001b[32m1\u001b[39m, \u001b[32m10\u001b[39m))\n",
      "\u001b[32m~\\AppData\\Local\\Temp\\ipykernel_22296\\14171817.py\u001b[39m in \u001b[36m?\u001b[39m\u001b[34m(model, X, n_iter)\u001b[39m\n\u001b[32m      5\u001b[39m \u001b[38;5;28;01mdef\u001b[39;00m mc_dropout_predictions(model, X, n_iter=\u001b[32m50\u001b[39m):\n\u001b[32m      6\u001b[39m     preds = []\n\u001b[32m      7\u001b[39m     \u001b[38;5;28;01mfor\u001b[39;00m _ \u001b[38;5;28;01min\u001b[39;00m range(n_iter):\n\u001b[32m----> \u001b[39m\u001b[32m8\u001b[39m         preds.append(model(X, training=\u001b[38;5;28;01mTrue\u001b[39;00m).numpy().squeeze())     \u001b[38;5;66;03m#Modellvorhersage mit aktiviertem Dropout, um Unsicherheit zu schätzen (training=True)\u001b[39;00m\n\u001b[32m      9\u001b[39m     preds = np.array(preds)\n\u001b[32m     10\u001b[39m     mean = preds.mean(axis=\u001b[32m0\u001b[39m)\n\u001b[32m     11\u001b[39m     std = preds.std(axis=\u001b[32m0\u001b[39m)\n",
      "\u001b[32mc:\\Users\\sinan\\AppData\\Local\\Programs\\Python\\Python311\\Lib\\site-packages\\keras\\src\\utils\\traceback_utils.py\u001b[39m in \u001b[36m?\u001b[39m\u001b[34m(*args, **kwargs)\u001b[39m\n\u001b[32m    120\u001b[39m             \u001b[38;5;66;03m# To get the full stack trace, call:\u001b[39;00m\n\u001b[32m    121\u001b[39m             \u001b[38;5;66;03m# `keras.config.disable_traceback_filtering()`\u001b[39;00m\n\u001b[32m    122\u001b[39m             \u001b[38;5;28;01mraise\u001b[39;00m e.with_traceback(filtered_tb) \u001b[38;5;28;01mfrom\u001b[39;00m \u001b[38;5;28;01mNone\u001b[39;00m\n\u001b[32m    123\u001b[39m         \u001b[38;5;28;01mfinally\u001b[39;00m:\n\u001b[32m--> \u001b[39m\u001b[32m124\u001b[39m             \u001b[38;5;28;01mdel\u001b[39;00m filtered_tb\n",
      "\u001b[32mc:\\Users\\sinan\\AppData\\Local\\Programs\\Python\\Python311\\Lib\\site-packages\\keras\\src\\layers\\layer.py\u001b[39m in \u001b[36m?\u001b[39m\u001b[34m(self, *args, **kwargs)\u001b[39m\n\u001b[32m    970\u001b[39m                     \u001b[33m\"layers will not see the mask.\"\u001b[39m\n\u001b[32m    971\u001b[39m                 )\n\u001b[32m    972\u001b[39m         \u001b[38;5;28;01mfinally\u001b[39;00m:\n\u001b[32m    973\u001b[39m             \u001b[38;5;66;03m# Destroy call context if we created it\u001b[39;00m\n\u001b[32m--> \u001b[39m\u001b[32m974\u001b[39m             self._maybe_reset_call_context()\n\u001b[32m    975\u001b[39m \n\u001b[32m    976\u001b[39m         \u001b[38;5;66;03m################################################\u001b[39;00m\n\u001b[32m    977\u001b[39m         \u001b[38;5;66;03m# 8. Add a node in the graph for symbolic calls.\u001b[39;00m\n",
      "\u001b[32mc:\\Users\\sinan\\AppData\\Local\\Programs\\Python\\Python311\\Lib\\site-packages\\keras\\src\\utils\\traceback_utils.py\u001b[39m in \u001b[36m?\u001b[39m\u001b[34m(*args, **kwargs)\u001b[39m\n\u001b[32m    120\u001b[39m             \u001b[38;5;66;03m# To get the full stack trace, call:\u001b[39;00m\n\u001b[32m    121\u001b[39m             \u001b[38;5;66;03m# `keras.config.disable_traceback_filtering()`\u001b[39;00m\n\u001b[32m    122\u001b[39m             \u001b[38;5;28;01mraise\u001b[39;00m e.with_traceback(filtered_tb) \u001b[38;5;28;01mfrom\u001b[39;00m \u001b[38;5;28;01mNone\u001b[39;00m\n\u001b[32m    123\u001b[39m         \u001b[38;5;28;01mfinally\u001b[39;00m:\n\u001b[32m--> \u001b[39m\u001b[32m124\u001b[39m             \u001b[38;5;28;01mdel\u001b[39;00m filtered_tb\n",
      "\u001b[32mc:\\Users\\sinan\\AppData\\Local\\Programs\\Python\\Python311\\Lib\\site-packages\\keras\\src\\ops\\operation.py\u001b[39m in \u001b[36m?\u001b[39m\u001b[34m(self, *args, **kwargs)\u001b[39m\n\u001b[32m     54\u001b[39m             call_fn = traceback_utils.inject_argument_info_in_traceback(\n\u001b[32m     55\u001b[39m                 call_fn,\n\u001b[32m     56\u001b[39m                 object_name=(\u001b[33mf\"{self.__class__.__name__}.call()\"\u001b[39m),\n\u001b[32m     57\u001b[39m             )\n\u001b[32m---> \u001b[39m\u001b[32m58\u001b[39m             \u001b[38;5;28;01mreturn\u001b[39;00m call_fn(*args, **kwargs)\n\u001b[32m     59\u001b[39m \n\u001b[32m     60\u001b[39m         \u001b[38;5;66;03m# Plain flow.\u001b[39;00m\n\u001b[32m     61\u001b[39m         \u001b[38;5;28;01mif\u001b[39;00m any_symbolic_tensors(args, kwargs):\n",
      "\u001b[32mc:\\Users\\sinan\\AppData\\Local\\Programs\\Python\\Python311\\Lib\\site-packages\\keras\\src\\utils\\traceback_utils.py\u001b[39m in \u001b[36m?\u001b[39m\u001b[34m(*args, **kwargs)\u001b[39m\n\u001b[32m    213\u001b[39m                 new_e = e\n\u001b[32m    214\u001b[39m             \u001b[38;5;28;01mraise\u001b[39;00m new_e.with_traceback(e.__traceback__) \u001b[38;5;28;01mfrom\u001b[39;00m \u001b[38;5;28;01mNone\u001b[39;00m\n\u001b[32m    215\u001b[39m         \u001b[38;5;28;01mfinally\u001b[39;00m:\n\u001b[32m    216\u001b[39m             \u001b[38;5;28;01mdel\u001b[39;00m signature\n\u001b[32m--> \u001b[39m\u001b[32m217\u001b[39m             \u001b[38;5;28;01mdel\u001b[39;00m bound_signature\n",
      "\u001b[32mc:\\Users\\sinan\\AppData\\Local\\Programs\\Python\\Python311\\Lib\\site-packages\\keras\\src\\models\\functional.py\u001b[39m in \u001b[36m?\u001b[39m\u001b[34m(self, inputs, training, mask, **kwargs)\u001b[39m\n\u001b[32m    179\u001b[39m             masks = tree.flatten(mask)\n\u001b[32m    180\u001b[39m             \u001b[38;5;28;01mfor\u001b[39;00m x, mask \u001b[38;5;28;01min\u001b[39;00m zip(inputs, masks):\n\u001b[32m    181\u001b[39m                 \u001b[38;5;28;01mif\u001b[39;00m mask \u001b[38;5;28;01mis\u001b[39;00m \u001b[38;5;28;01mnot\u001b[39;00m \u001b[38;5;28;01mNone\u001b[39;00m:\n\u001b[32m    182\u001b[39m                     backend.set_keras_mask(x, mask)\n\u001b[32m--> \u001b[39m\u001b[32m183\u001b[39m         outputs = self._run_through_graph(\n\u001b[32m    184\u001b[39m             inputs,\n\u001b[32m    185\u001b[39m             operation_fn=lambda op: operation_fn(\n\u001b[32m    186\u001b[39m                 op, training=training, **kwargs\n",
      "\u001b[32mc:\\Users\\sinan\\AppData\\Local\\Programs\\Python\\Python311\\Lib\\site-packages\\keras\\src\\ops\\function.py\u001b[39m in \u001b[36m?\u001b[39m\u001b[34m(self, inputs, operation_fn, call_fn)\u001b[39m\n\u001b[32m    173\u001b[39m                 op = operation_fn(node.operation)\n\u001b[32m    174\u001b[39m                 \u001b[38;5;28;01mif\u001b[39;00m call_fn \u001b[38;5;28;01mis\u001b[39;00m \u001b[38;5;28;01mnot\u001b[39;00m \u001b[38;5;28;01mNone\u001b[39;00m:\n\u001b[32m    175\u001b[39m                     outputs = call_fn(op, *args, **kwargs)\n\u001b[32m    176\u001b[39m                 \u001b[38;5;28;01melse\u001b[39;00m:\n\u001b[32m--> \u001b[39m\u001b[32m177\u001b[39m                     outputs = op(*args, **kwargs)\n\u001b[32m    178\u001b[39m \n\u001b[32m    179\u001b[39m                 \u001b[38;5;66;03m# Update tensor_dict.\u001b[39;00m\n\u001b[32m    180\u001b[39m                 \u001b[38;5;28;01mfor\u001b[39;00m x, y \u001b[38;5;28;01min\u001b[39;00m zip(node.outputs, tree.flatten(outputs)):\n",
      "\u001b[32mc:\\Users\\sinan\\AppData\\Local\\Programs\\Python\\Python311\\Lib\\site-packages\\keras\\src\\models\\functional.py\u001b[39m in \u001b[36m?\u001b[39m\u001b[34m(*args, **kwargs)\u001b[39m\n\u001b[32m    644\u001b[39m                 \u001b[38;5;28;01mand\u001b[39;00m value \u001b[38;5;28;01mis\u001b[39;00m \u001b[38;5;28;01mnot\u001b[39;00m \u001b[38;5;28;01mNone\u001b[39;00m\n\u001b[32m    645\u001b[39m             ):\n\u001b[32m    646\u001b[39m                 kwargs[name] = value\n\u001b[32m    647\u001b[39m \n\u001b[32m--> \u001b[39m\u001b[32m648\u001b[39m         \u001b[38;5;28;01mreturn\u001b[39;00m operation(*args, **kwargs)\n",
      "\u001b[32mc:\\Users\\sinan\\AppData\\Local\\Programs\\Python\\Python311\\Lib\\site-packages\\keras\\src\\utils\\traceback_utils.py\u001b[39m in \u001b[36m?\u001b[39m\u001b[34m(*args, **kwargs)\u001b[39m\n\u001b[32m    120\u001b[39m             \u001b[38;5;66;03m# To get the full stack trace, call:\u001b[39;00m\n\u001b[32m    121\u001b[39m             \u001b[38;5;66;03m# `keras.config.disable_traceback_filtering()`\u001b[39;00m\n\u001b[32m    122\u001b[39m             \u001b[38;5;28;01mraise\u001b[39;00m e.with_traceback(filtered_tb) \u001b[38;5;28;01mfrom\u001b[39;00m \u001b[38;5;28;01mNone\u001b[39;00m\n\u001b[32m    123\u001b[39m         \u001b[38;5;28;01mfinally\u001b[39;00m:\n\u001b[32m--> \u001b[39m\u001b[32m124\u001b[39m             \u001b[38;5;28;01mdel\u001b[39;00m filtered_tb\n",
      "\u001b[32mc:\\Users\\sinan\\AppData\\Local\\Programs\\Python\\Python311\\Lib\\site-packages\\keras\\src\\layers\\layer.py\u001b[39m in \u001b[36m?\u001b[39m\u001b[34m(self, *args, **kwargs)\u001b[39m\n\u001b[32m    970\u001b[39m                     \u001b[33m\"layers will not see the mask.\"\u001b[39m\n\u001b[32m    971\u001b[39m                 )\n\u001b[32m    972\u001b[39m         \u001b[38;5;28;01mfinally\u001b[39;00m:\n\u001b[32m    973\u001b[39m             \u001b[38;5;66;03m# Destroy call context if we created it\u001b[39;00m\n\u001b[32m--> \u001b[39m\u001b[32m974\u001b[39m             self._maybe_reset_call_context()\n\u001b[32m    975\u001b[39m \n\u001b[32m    976\u001b[39m         \u001b[38;5;66;03m################################################\u001b[39;00m\n\u001b[32m    977\u001b[39m         \u001b[38;5;66;03m# 8. Add a node in the graph for symbolic calls.\u001b[39;00m\n",
      "\u001b[32mc:\\Users\\sinan\\AppData\\Local\\Programs\\Python\\Python311\\Lib\\site-packages\\keras\\src\\utils\\traceback_utils.py\u001b[39m in \u001b[36m?\u001b[39m\u001b[34m(*args, **kwargs)\u001b[39m\n\u001b[32m    120\u001b[39m             \u001b[38;5;66;03m# To get the full stack trace, call:\u001b[39;00m\n\u001b[32m    121\u001b[39m             \u001b[38;5;66;03m# `keras.config.disable_traceback_filtering()`\u001b[39;00m\n\u001b[32m    122\u001b[39m             \u001b[38;5;28;01mraise\u001b[39;00m e.with_traceback(filtered_tb) \u001b[38;5;28;01mfrom\u001b[39;00m \u001b[38;5;28;01mNone\u001b[39;00m\n\u001b[32m    123\u001b[39m         \u001b[38;5;28;01mfinally\u001b[39;00m:\n\u001b[32m--> \u001b[39m\u001b[32m124\u001b[39m             \u001b[38;5;28;01mdel\u001b[39;00m filtered_tb\n",
      "\u001b[32mc:\\Users\\sinan\\AppData\\Local\\Programs\\Python\\Python311\\Lib\\site-packages\\keras\\src\\ops\\operation.py\u001b[39m in \u001b[36m?\u001b[39m\u001b[34m(self, *args, **kwargs)\u001b[39m\n\u001b[32m     54\u001b[39m             call_fn = traceback_utils.inject_argument_info_in_traceback(\n\u001b[32m     55\u001b[39m                 call_fn,\n\u001b[32m     56\u001b[39m                 object_name=(\u001b[33mf\"{self.__class__.__name__}.call()\"\u001b[39m),\n\u001b[32m     57\u001b[39m             )\n\u001b[32m---> \u001b[39m\u001b[32m58\u001b[39m             \u001b[38;5;28;01mreturn\u001b[39;00m call_fn(*args, **kwargs)\n\u001b[32m     59\u001b[39m \n\u001b[32m     60\u001b[39m         \u001b[38;5;66;03m# Plain flow.\u001b[39;00m\n\u001b[32m     61\u001b[39m         \u001b[38;5;28;01mif\u001b[39;00m any_symbolic_tensors(args, kwargs):\n",
      "\u001b[32mc:\\Users\\sinan\\AppData\\Local\\Programs\\Python\\Python311\\Lib\\site-packages\\keras\\src\\utils\\traceback_utils.py\u001b[39m in \u001b[36m?\u001b[39m\u001b[34m(*args, **kwargs)\u001b[39m\n\u001b[32m    213\u001b[39m                 new_e = e\n\u001b[32m    214\u001b[39m             \u001b[38;5;28;01mraise\u001b[39;00m new_e.with_traceback(e.__traceback__) \u001b[38;5;28;01mfrom\u001b[39;00m \u001b[38;5;28;01mNone\u001b[39;00m\n\u001b[32m    215\u001b[39m         \u001b[38;5;28;01mfinally\u001b[39;00m:\n\u001b[32m    216\u001b[39m             \u001b[38;5;28;01mdel\u001b[39;00m signature\n\u001b[32m--> \u001b[39m\u001b[32m217\u001b[39m             \u001b[38;5;28;01mdel\u001b[39;00m bound_signature\n",
      "\u001b[32mc:\\Users\\sinan\\AppData\\Local\\Programs\\Python\\Python311\\Lib\\site-packages\\keras\\src\\layers\\rnn\\lstm.py\u001b[39m in \u001b[36m?\u001b[39m\u001b[34m(self, sequences, initial_state, mask, training)\u001b[39m\n\u001b[32m    582\u001b[39m     \u001b[38;5;28;01mdef\u001b[39;00m call(self, sequences, initial_state=\u001b[38;5;28;01mNone\u001b[39;00m, mask=\u001b[38;5;28;01mNone\u001b[39;00m, training=\u001b[38;5;28;01mFalse\u001b[39;00m):\n\u001b[32m--> \u001b[39m\u001b[32m583\u001b[39m         return super().call(\n\u001b[32m    584\u001b[39m             sequences, mask=mask, training=training, initial_state=initial_state\n\u001b[32m    585\u001b[39m         )\n",
      "\u001b[32mc:\\Users\\sinan\\AppData\\Local\\Programs\\Python\\Python311\\Lib\\site-packages\\keras\\src\\layers\\rnn\\rnn.py\u001b[39m in \u001b[36m?\u001b[39m\u001b[34m(self, sequences, initial_state, mask, training)\u001b[39m\n\u001b[32m    402\u001b[39m         self._maybe_config_dropout_masks(\n\u001b[32m    403\u001b[39m             self.cell, sequences[:, \u001b[32m0\u001b[39m, :], initial_state\n\u001b[32m    404\u001b[39m         )\n\u001b[32m    405\u001b[39m \n\u001b[32m--> \u001b[39m\u001b[32m406\u001b[39m         last_output, outputs, states = self.inner_loop(\n\u001b[32m    407\u001b[39m             sequences=sequences,\n\u001b[32m    408\u001b[39m             initial_state=initial_state,\n\u001b[32m    409\u001b[39m             mask=mask,\n",
      "\u001b[32mc:\\Users\\sinan\\AppData\\Local\\Programs\\Python\\Python311\\Lib\\site-packages\\keras\\src\\layers\\rnn\\lstm.py\u001b[39m in \u001b[36m?\u001b[39m\u001b[34m(self, sequences, initial_state, mask, training)\u001b[39m\n\u001b[32m    574\u001b[39m                 \u001b[33m\"but cuDNN is not supported for this layer configuration \"\u001b[39m\n\u001b[32m    575\u001b[39m                 \u001b[33m\"with this backend. Pass use_cudnn='auto' to fallback \"\u001b[39m\n\u001b[32m    576\u001b[39m                 \u001b[33m\"to a non-cuDNN implementation.\"\u001b[39m\n\u001b[32m    577\u001b[39m             )\n\u001b[32m--> \u001b[39m\u001b[32m578\u001b[39m         return super().inner_loop(\n\u001b[32m    579\u001b[39m             sequences, initial_state, mask=mask, training=training\n\u001b[32m    580\u001b[39m         )\n",
      "\u001b[32mc:\\Users\\sinan\\AppData\\Local\\Programs\\Python\\Python311\\Lib\\site-packages\\keras\\src\\layers\\rnn\\rnn.py\u001b[39m in \u001b[36m?\u001b[39m\u001b[34m(self, sequences, initial_state, mask, training)\u001b[39m\n\u001b[32m    342\u001b[39m \n\u001b[32m    343\u001b[39m         \u001b[38;5;28;01mif\u001b[39;00m \u001b[38;5;28;01mnot\u001b[39;00m tree.is_nested(initial_state):\n\u001b[32m    344\u001b[39m             initial_state = [initial_state]\n\u001b[32m    345\u001b[39m \n\u001b[32m--> \u001b[39m\u001b[32m346\u001b[39m         return backend.rnn(\n\u001b[32m    347\u001b[39m             step,\n\u001b[32m    348\u001b[39m             sequences,\n\u001b[32m    349\u001b[39m             initial_state,\n",
      "\u001b[32mc:\\Users\\sinan\\AppData\\Local\\Programs\\Python\\Python311\\Lib\\site-packages\\keras\\src\\backend\\tensorflow\\rnn.py\u001b[39m in \u001b[36m?\u001b[39m\u001b[34m(step_function, inputs, initial_states, go_backwards, mask, constants, unroll, input_length, time_major, zero_output_for_mask, return_all_outputs)\u001b[39m\n\u001b[32m    424\u001b[39m                     initial_states, flat_new_state\n\u001b[32m    425\u001b[39m                 )\n\u001b[32m    426\u001b[39m                 \u001b[38;5;28;01mreturn\u001b[39;00m (time + \u001b[32m1\u001b[39m, output_ta_t) + tuple(new_states)\n\u001b[32m    427\u001b[39m \n\u001b[32m--> \u001b[39m\u001b[32m428\u001b[39m             final_outputs = tf.while_loop(\n\u001b[32m    429\u001b[39m                 body=_step,\n\u001b[32m    430\u001b[39m                 loop_vars=(time, output_ta) + states,\n\u001b[32m    431\u001b[39m                 **while_loop_kwargs,\n",
      "\u001b[32mc:\\Users\\sinan\\AppData\\Local\\Programs\\Python\\Python311\\Lib\\site-packages\\tensorflow\\python\\util\\deprecation.py\u001b[39m in \u001b[36m?\u001b[39m\u001b[34m(*args, **kwargs)\u001b[39m\n\u001b[32m    656\u001b[39m                   _call_location(), decorator_utils.get_qualified_name(func),\n\u001b[32m    657\u001b[39m                   func.__module__, arg_name, arg_value,\n\u001b[32m    658\u001b[39m                   \u001b[33m'in a future version'\u001b[39m \u001b[38;5;28;01mif\u001b[39;00m date \u001b[38;5;28;01mis\u001b[39;00m \u001b[38;5;28;01mNone\u001b[39;00m \u001b[38;5;28;01melse\u001b[39;00m\n\u001b[32m    659\u001b[39m                   ('after %s' % date), instructions)\n\u001b[32m--> \u001b[39m\u001b[32m660\u001b[39m       \u001b[38;5;28;01mreturn\u001b[39;00m func(*args, **kwargs)\n",
      "\u001b[32mc:\\Users\\sinan\\AppData\\Local\\Programs\\Python\\Python311\\Lib\\site-packages\\tensorflow\\python\\ops\\while_loop.py\u001b[39m in \u001b[36m?\u001b[39m\u001b[34m(cond, body, loop_vars, shape_invariants, parallel_iterations, back_prop, swap_memory, maximum_iterations, name)\u001b[39m\n\u001b[32m    237\u001b[39m   ...   print(sess.run(x_out).shape)\n\u001b[32m    238\u001b[39m   (\u001b[32m1000\u001b[39m, \u001b[32m100\u001b[39m)\n\u001b[32m    239\u001b[39m \n\u001b[32m    240\u001b[39m   \"\"\"\n\u001b[32m--> \u001b[39m\u001b[32m241\u001b[39m   return while_loop(\n\u001b[32m    242\u001b[39m       cond=cond,\n\u001b[32m    243\u001b[39m       body=body,\n\u001b[32m    244\u001b[39m       loop_vars=loop_vars,\n",
      "\u001b[32mc:\\Users\\sinan\\AppData\\Local\\Programs\\Python\\Python311\\Lib\\site-packages\\tensorflow\\python\\ops\\while_loop.py\u001b[39m in \u001b[36m?\u001b[39m\u001b[34m(cond, body, loop_vars, shape_invariants, parallel_iterations, back_prop, swap_memory, name, maximum_iterations, return_same_structure)\u001b[39m\n\u001b[32m    484\u001b[39m \n\u001b[32m    485\u001b[39m       loop_var_structure = nest.map_structure(type_spec.type_spec_from_value,\n\u001b[32m    486\u001b[39m                                               list(loop_vars))\n\u001b[32m    487\u001b[39m       \u001b[38;5;28;01mwhile\u001b[39;00m cond(*loop_vars):\n\u001b[32m--> \u001b[39m\u001b[32m488\u001b[39m         loop_vars = body(*loop_vars)\n\u001b[32m    489\u001b[39m         \u001b[38;5;28;01mif\u001b[39;00m try_to_pack \u001b[38;5;28;01mand\u001b[39;00m \u001b[38;5;28;01mnot\u001b[39;00m isinstance(loop_vars, (list, tuple)):\n\u001b[32m    490\u001b[39m           packed = \u001b[38;5;28;01mTrue\u001b[39;00m\n\u001b[32m    491\u001b[39m           loop_vars = (loop_vars,)\n",
      "\u001b[32mc:\\Users\\sinan\\AppData\\Local\\Programs\\Python\\Python311\\Lib\\site-packages\\tensorflow\\python\\ops\\while_loop.py\u001b[39m in \u001b[36m?\u001b[39m\u001b[34m(i, lv)\u001b[39m\n\u001b[32m--> \u001b[39m\u001b[32m479\u001b[39m         body = \u001b[38;5;28;01mlambda\u001b[39;00m i, lv: (i + \u001b[32m1\u001b[39m, orig_body(*lv))\n",
      "\u001b[32mc:\\Users\\sinan\\AppData\\Local\\Programs\\Python\\Python311\\Lib\\site-packages\\keras\\src\\backend\\tensorflow\\rnn.py\u001b[39m in \u001b[36m?\u001b[39m\u001b[34m(time, output_ta_t, *states)\u001b[39m\n\u001b[32m    422\u001b[39m \n\u001b[32m    423\u001b[39m                 new_states = tree.pack_sequence_as(\n\u001b[32m    424\u001b[39m                     initial_states, flat_new_state\n\u001b[32m    425\u001b[39m                 )\n\u001b[32m--> \u001b[39m\u001b[32m426\u001b[39m                 \u001b[38;5;28;01mreturn\u001b[39;00m (time + \u001b[32m1\u001b[39m, output_ta_t) + tuple(new_states)\n",
      "\u001b[32mc:\\Users\\sinan\\AppData\\Local\\Programs\\Python\\Python311\\Lib\\site-packages\\tensorflow\\python\\util\\traceback_utils.py\u001b[39m in \u001b[36m?\u001b[39m\u001b[34m(*args, **kwargs)\u001b[39m\n\u001b[32m    151\u001b[39m     \u001b[38;5;28;01mexcept\u001b[39;00m Exception \u001b[38;5;28;01mas\u001b[39;00m e:\n\u001b[32m    152\u001b[39m       filtered_tb = _process_traceback_frames(e.__traceback__)\n\u001b[32m    153\u001b[39m       \u001b[38;5;28;01mraise\u001b[39;00m e.with_traceback(filtered_tb) \u001b[38;5;28;01mfrom\u001b[39;00m \u001b[38;5;28;01mNone\u001b[39;00m\n\u001b[32m    154\u001b[39m     \u001b[38;5;28;01mfinally\u001b[39;00m:\n\u001b[32m--> \u001b[39m\u001b[32m155\u001b[39m       \u001b[38;5;28;01mdel\u001b[39;00m filtered_tb\n",
      "\u001b[32mc:\\Users\\sinan\\AppData\\Local\\Programs\\Python\\Python311\\Lib\\site-packages\\tensorflow\\python\\framework\\override_binary_operator.py\u001b[39m in \u001b[36m?\u001b[39m\u001b[34m(x, y)\u001b[39m\n\u001b[32m    110\u001b[39m         \u001b[38;5;66;03m# TODO(b/178860388): Figure out why binary_op_wrapper and\u001b[39;00m\n\u001b[32m    111\u001b[39m         \u001b[38;5;66;03m#   r_binary_op_wrapper use different force_same_dtype values.\u001b[39;00m\n\u001b[32m    112\u001b[39m         x, y = maybe_promote_tensors(x, y)\n\u001b[32m    113\u001b[39m         \u001b[38;5;28;01mreturn\u001b[39;00m func(x, y, name=name)\n\u001b[32m--> \u001b[39m\u001b[32m114\u001b[39m       \u001b[38;5;28;01mexcept\u001b[39;00m (TypeError, ValueError) \u001b[38;5;28;01mas\u001b[39;00m e:\n\u001b[32m    115\u001b[39m         \u001b[38;5;66;03m# Even if dispatching the op failed, the RHS may be a tensor aware\u001b[39;00m\n\u001b[32m    116\u001b[39m         \u001b[38;5;66;03m# object that can implement the operator with knowledge of itself\u001b[39;00m\n\u001b[32m    117\u001b[39m         \u001b[38;5;66;03m# and the tensor.\u001b[39;00m\n",
      "\u001b[32mc:\\Users\\sinan\\AppData\\Local\\Programs\\Python\\Python311\\Lib\\site-packages\\tensorflow\\python\\ops\\tensor_math_operator_overrides.py\u001b[39m in \u001b[36m?\u001b[39m\u001b[34m(x, y, name)\u001b[39m\n\u001b[32m     25\u001b[39m \u001b[38;5;28;01mdef\u001b[39;00m _add_dispatch_factory(x, y, name=\u001b[38;5;28;01mNone\u001b[39;00m):\n\u001b[32m     26\u001b[39m   \u001b[38;5;28;01mfrom\u001b[39;00m tensorflow.python.ops \u001b[38;5;28;01mimport\u001b[39;00m math_ops\n\u001b[32m     27\u001b[39m \n\u001b[32m---> \u001b[39m\u001b[32m28\u001b[39m   \u001b[38;5;28;01mreturn\u001b[39;00m math_ops._add_dispatch(x, y, name=name)  \u001b[38;5;66;03m# pylint: disable=protected-access\u001b[39;00m\n",
      "\u001b[32mc:\\Users\\sinan\\AppData\\Local\\Programs\\Python\\Python311\\Lib\\site-packages\\tensorflow\\python\\util\\traceback_utils.py\u001b[39m in \u001b[36m?\u001b[39m\u001b[34m(*args, **kwargs)\u001b[39m\n\u001b[32m    151\u001b[39m     \u001b[38;5;28;01mexcept\u001b[39;00m Exception \u001b[38;5;28;01mas\u001b[39;00m e:\n\u001b[32m    152\u001b[39m       filtered_tb = _process_traceback_frames(e.__traceback__)\n\u001b[32m    153\u001b[39m       \u001b[38;5;28;01mraise\u001b[39;00m e.with_traceback(filtered_tb) \u001b[38;5;28;01mfrom\u001b[39;00m \u001b[38;5;28;01mNone\u001b[39;00m\n\u001b[32m    154\u001b[39m     \u001b[38;5;28;01mfinally\u001b[39;00m:\n\u001b[32m--> \u001b[39m\u001b[32m155\u001b[39m       \u001b[38;5;28;01mdel\u001b[39;00m filtered_tb\n",
      "\u001b[32mc:\\Users\\sinan\\AppData\\Local\\Programs\\Python\\Python311\\Lib\\site-packages\\tensorflow\\python\\util\\dispatch.py\u001b[39m in \u001b[36m?\u001b[39m\u001b[34m(*args, **kwargs)\u001b[39m\n\u001b[32m   1257\u001b[39m \n\u001b[32m   1258\u001b[39m       \u001b[38;5;66;03m# Fallback dispatch system (dispatch v1):\u001b[39;00m\n\u001b[32m   1259\u001b[39m       \u001b[38;5;28;01mtry\u001b[39;00m:\n\u001b[32m   1260\u001b[39m         \u001b[38;5;28;01mreturn\u001b[39;00m dispatch_target(*args, **kwargs)\n\u001b[32m-> \u001b[39m\u001b[32m1261\u001b[39m       \u001b[38;5;28;01mexcept\u001b[39;00m (TypeError, ValueError):\n\u001b[32m   1262\u001b[39m         \u001b[38;5;66;03m# Note: convert_to_eager_tensor currently raises a ValueError, not a\u001b[39;00m\n\u001b[32m   1263\u001b[39m         \u001b[38;5;66;03m# TypeError, when given unexpected types.  So we need to catch both.\u001b[39;00m\n\u001b[32m   1264\u001b[39m         result = dispatch(op_dispatch_handler, args, kwargs)\n",
      "\u001b[32mc:\\Users\\sinan\\AppData\\Local\\Programs\\Python\\Python311\\Lib\\site-packages\\tensorflow\\python\\ops\\math_ops.py\u001b[39m in \u001b[36m?\u001b[39m\u001b[34m(x, y, name)\u001b[39m\n\u001b[32m   1734\u001b[39m     y = ops.convert_to_tensor(y, dtype_hint=x.dtype.base_dtype, name=\u001b[33m\"y\"\u001b[39m)\n\u001b[32m   1735\u001b[39m   \u001b[38;5;28;01mif\u001b[39;00m x.dtype == dtypes.string:\n\u001b[32m   1736\u001b[39m     \u001b[38;5;28;01mreturn\u001b[39;00m gen_math_ops.add(x, y, name=name)\n\u001b[32m   1737\u001b[39m   \u001b[38;5;28;01melse\u001b[39;00m:\n\u001b[32m-> \u001b[39m\u001b[32m1738\u001b[39m     \u001b[38;5;28;01mreturn\u001b[39;00m gen_math_ops.add_v2(x, y, name=name)\n",
      "\u001b[32mc:\\Users\\sinan\\AppData\\Local\\Programs\\Python\\Python311\\Lib\\site-packages\\tensorflow\\python\\ops\\gen_math_ops.py\u001b[39m in \u001b[36m?\u001b[39m\u001b[34m(x, y, name)\u001b[39m\n\u001b[32m    478\u001b[39m         _ctx, \"AddV2\", name, x, y)\n\u001b[32m    479\u001b[39m       \u001b[38;5;28;01mreturn\u001b[39;00m _result\n\u001b[32m    480\u001b[39m     \u001b[38;5;28;01mexcept\u001b[39;00m _core._NotOkStatusException \u001b[38;5;28;01mas\u001b[39;00m e:\n\u001b[32m    481\u001b[39m       _ops.raise_from_not_ok_status(e, name)\n\u001b[32m--> \u001b[39m\u001b[32m482\u001b[39m     \u001b[38;5;28;01mexcept\u001b[39;00m _core._FallbackException:\n\u001b[32m    483\u001b[39m       \u001b[38;5;28;01mpass\u001b[39;00m\n\u001b[32m    484\u001b[39m     \u001b[38;5;28;01mtry\u001b[39;00m:\n\u001b[32m    485\u001b[39m       return add_v2_eager_fallback(\n",
      "\u001b[31mKeyboardInterrupt\u001b[39m: "
     ]
    }
   ],
   "source": [
    "batch_idx = 5  # Ein Beispiel-Batch (kannst du auch random wählen)\n",
    "mean_preds = []\n",
    "std_preds = []\n",
    "\n",
    "def mc_dropout_predictions(model, X, n_iter=50):\n",
    "    preds = []\n",
    "    for _ in range(n_iter):\n",
    "        preds.append(model(X, training=True).numpy().squeeze())     #Modellvorhersage mit aktiviertem Dropout, um Unsicherheit zu schätzen (training=True)\n",
    "    preds = np.array(preds)\n",
    "    mean = preds.mean(axis=0)\n",
    "    std = preds.std(axis=0)\n",
    "    return mean, std\n",
    "\n",
    "for t_cut in range(10, timesteps + 1, 10):\n",
    "    X_batch = X_test_scaled[batch_idx:batch_idx+1, :t_cut, :]\n",
    "    X_padded = pad_sequences(\n",
    "        X_batch, maxlen=timesteps, dtype=\"float32\", padding=\"pre\", truncating=\"pre\"\n",
    "    )\n",
    "    m, s = mc_dropout_predictions(best_model, X_padded, n_iter=50)\n",
    "    mean_preds.append(scaler_y.inverse_transform(m.reshape(-1, 1)).flatten()[0])\n",
    "    std_preds.append(s * scaler_y.scale_[0])\n",
    "timesteps_list = list(range(10, timesteps + 1, 10))\n",
    "\n",
    "fig4 = go.Figure()\n",
    "fig4.add_trace(go.Scatter(\n",
    "    x=timesteps_list,\n",
    "    y=mean_preds,\n",
    "    mode='lines+markers',\n",
    "    name=\"Vorhersage\"\n",
    "))\n",
    "fig4.add_trace(go.Scatter(\n",
    "    x=timesteps_list,\n",
    "    y=np.array(mean_preds) + np.array(std_preds),\n",
    "    fill=None,\n",
    "    mode='lines',\n",
    "    line_color='lightblue',\n",
    "    showlegend=False\n",
    "))\n",
    "fig4.add_trace(go.Scatter(\n",
    "    x=timesteps_list,\n",
    "    y=np.array(mean_preds) - np.array(std_preds),\n",
    "    fill='tonexty',\n",
    "    mode='lines',\n",
    "    line_color='lightblue',\n",
    "    fillcolor='rgba(135,206,250,0.2)',\n",
    "    name=\"Unsicherheitsband (±1 StdAbw.)\"\n",
    "))\n",
    "fig4.update_layout(\n",
    "    title=\"Vorhersage und Unsicherheitsband für einen Beispiel-Batch\",\n",
    "    xaxis_title=\"Zeitschritt\",\n",
    "    yaxis_title=\"Vorhergesagte Qualitätsvariable (Originalskala)\"\n",
    ")\n",
    "fig4.show()\n"
   ]
  },
  {
   "cell_type": "markdown",
   "id": "1334a7b6",
   "metadata": {},
   "source": [
    "<br>"
   ]
  },
  {
   "cell_type": "markdown",
   "id": "a59adac0",
   "metadata": {},
   "source": [
    "## Simulation eines neuen, unbekannten Batches"
   ]
  },
  {
   "cell_type": "markdown",
   "id": "e500fe69",
   "metadata": {},
   "source": [
    "1. Wir wählen einen Beispiel-Batch aus unserem Testset (dies simuliert einen \"neuen, unbekannten\" Batch).\n",
    "2. Wir \"spulen die Zeit vor\": Wir nehmen zuerst nur die ersten 10% der Daten dieses Batches, dann die ersten 20%, und so weiter.\n",
    "3. Wir füttern das Modell mit diesen unvollständigen Daten und lassen es eine Vorhersage für den Endwert treffen.\n",
    "4. Wir vergleichen die Vorhersage mit dem wahren, aber eigentlich \"unbekannten\" Endwert dieses Batches."
   ]
  },
  {
   "cell_type": "code",
   "execution_count": null,
   "id": "04d20d99",
   "metadata": {},
   "outputs": [
    {
     "name": "stderr",
     "output_type": "stream",
     "text": [
      "c:\\Users\\sinan\\AppData\\Local\\Programs\\Python\\Python311\\Lib\\site-packages\\keras\\src\\layers\\layer.py:421: UserWarning:\n",
      "\n",
      "`build()` was called on layer 'spatial_attention_1', however the layer does not have a `build()` method implemented and it looks like it has unbuilt state. This will cause the layer to be marked as built, despite not being actually built, which may cause failures down the line. Make sure to implement a proper `build()` method.\n",
      "\n",
      "c:\\Users\\sinan\\AppData\\Local\\Programs\\Python\\Python311\\Lib\\site-packages\\keras\\src\\layers\\layer.py:421: UserWarning:\n",
      "\n",
      "`build()` was called on layer 'temporal_attention_1', however the layer does not have a `build()` method implemented and it looks like it has unbuilt state. This will cause the layer to be marked as built, despite not being actually built, which may cause failures down the line. Make sure to implement a proper `build()` method.\n",
      "\n"
     ]
    },
    {
     "name": "stdout",
     "output_type": "stream",
     "text": [
      "Demonstration für einen einzelnen Batch aus dem Testset.\n",
      "Der wahre Endwert (Qualitätsvariable) für diesen Batch ist: 1037.05\n",
      "--------------------------------------------------\n",
      "\u001b[1m1/1\u001b[0m \u001b[32m━━━━━━━━━━━━━━━━━━━━\u001b[0m\u001b[37m\u001b[0m \u001b[1m0s\u001b[0m 196ms/step\n",
      "Nach 10% des Batches: Vorhersage für Endwert = 839.08\n",
      "\u001b[1m1/1\u001b[0m \u001b[32m━━━━━━━━━━━━━━━━━━━━\u001b[0m\u001b[37m\u001b[0m \u001b[1m0s\u001b[0m 42ms/step\n",
      "Nach 20% des Batches: Vorhersage für Endwert = 818.71\n",
      "\u001b[1m1/1\u001b[0m \u001b[32m━━━━━━━━━━━━━━━━━━━━\u001b[0m\u001b[37m\u001b[0m \u001b[1m0s\u001b[0m 50ms/step\n",
      "Nach 30% des Batches: Vorhersage für Endwert = 819.65\n",
      "\u001b[1m1/1\u001b[0m \u001b[32m━━━━━━━━━━━━━━━━━━━━\u001b[0m\u001b[37m\u001b[0m \u001b[1m0s\u001b[0m 42ms/step\n",
      "Nach 40% des Batches: Vorhersage für Endwert = 833.56\n",
      "\u001b[1m1/1\u001b[0m \u001b[32m━━━━━━━━━━━━━━━━━━━━\u001b[0m\u001b[37m\u001b[0m \u001b[1m0s\u001b[0m 41ms/step\n",
      "Nach 50% des Batches: Vorhersage für Endwert = 848.24\n",
      "\u001b[1m1/1\u001b[0m \u001b[32m━━━━━━━━━━━━━━━━━━━━\u001b[0m\u001b[37m\u001b[0m \u001b[1m0s\u001b[0m 50ms/step\n",
      "Nach 60% des Batches: Vorhersage für Endwert = 871.21\n",
      "\u001b[1m1/1\u001b[0m \u001b[32m━━━━━━━━━━━━━━━━━━━━\u001b[0m\u001b[37m\u001b[0m \u001b[1m0s\u001b[0m 42ms/step\n",
      "Nach 70% des Batches: Vorhersage für Endwert = 899.99\n",
      "\u001b[1m1/1\u001b[0m \u001b[32m━━━━━━━━━━━━━━━━━━━━\u001b[0m\u001b[37m\u001b[0m \u001b[1m0s\u001b[0m 44ms/step\n",
      "Nach 80% des Batches: Vorhersage für Endwert = 941.00\n",
      "\u001b[1m1/1\u001b[0m \u001b[32m━━━━━━━━━━━━━━━━━━━━\u001b[0m\u001b[37m\u001b[0m \u001b[1m0s\u001b[0m 44ms/step\n",
      "Nach 90% des Batches: Vorhersage für Endwert = 988.83\n",
      "\u001b[1m1/1\u001b[0m \u001b[32m━━━━━━━━━━━━━━━━━━━━\u001b[0m\u001b[37m\u001b[0m \u001b[1m0s\u001b[0m 47ms/step\n",
      "Nach 100% des Batches: Vorhersage für Endwert = 1035.40\n"
     ]
    },
    {
     "data": {
      "application/vnd.plotly.v1+json": {
       "config": {
        "plotlyServerURL": "https://plot.ly"
       },
       "data": [
        {
         "mode": "lines+markers",
         "name": "Soft-Sensor-Vorhersage",
         "type": "scatter",
         "x": {
          "bdata": "AAAAAAAAJEAAAAAAAAA0QAEAAAAAAD5AAAAAAAAAREAAAAAAAABJQAAAAAAAAE5AAAAAAACAUUAAAAAAAABUQAAAAAAAgFZAAAAAAAAAWUA=",
          "dtype": "f8"
         },
         "y": {
          "bdata": "voC33ag4ikCCxrvsrpWJQL3IYCswnYlA5ZhSzn8MikDrA11p54GKQLcM5Ju2OYtAl4RvCO8fjEDvy4XH9WeNQKTzgtya5o5AWHRms5QtkEA=",
          "dtype": "f8"
         }
        }
       ],
       "layout": {
        "annotations": [
         {
          "showarrow": false,
          "text": "Wahrer Endwert: 1037.0501055403201",
          "x": 1,
          "xanchor": "right",
          "xref": "x domain",
          "y": 1037.0501055403201,
          "yanchor": "top",
          "yref": "y"
         }
        ],
        "shapes": [
         {
          "line": {
           "color": "red",
           "dash": "dash"
          },
          "type": "line",
          "x0": 0,
          "x1": 1,
          "xref": "x domain",
          "y0": 1037.0501055403201,
          "y1": 1037.0501055403201,
          "yref": "y"
         }
        ],
        "template": {
         "data": {
          "bar": [
           {
            "error_x": {
             "color": "#2a3f5f"
            },
            "error_y": {
             "color": "#2a3f5f"
            },
            "marker": {
             "line": {
              "color": "#E5ECF6",
              "width": 0.5
             },
             "pattern": {
              "fillmode": "overlay",
              "size": 10,
              "solidity": 0.2
             }
            },
            "type": "bar"
           }
          ],
          "barpolar": [
           {
            "marker": {
             "line": {
              "color": "#E5ECF6",
              "width": 0.5
             },
             "pattern": {
              "fillmode": "overlay",
              "size": 10,
              "solidity": 0.2
             }
            },
            "type": "barpolar"
           }
          ],
          "carpet": [
           {
            "aaxis": {
             "endlinecolor": "#2a3f5f",
             "gridcolor": "white",
             "linecolor": "white",
             "minorgridcolor": "white",
             "startlinecolor": "#2a3f5f"
            },
            "baxis": {
             "endlinecolor": "#2a3f5f",
             "gridcolor": "white",
             "linecolor": "white",
             "minorgridcolor": "white",
             "startlinecolor": "#2a3f5f"
            },
            "type": "carpet"
           }
          ],
          "choropleth": [
           {
            "colorbar": {
             "outlinewidth": 0,
             "ticks": ""
            },
            "type": "choropleth"
           }
          ],
          "contour": [
           {
            "colorbar": {
             "outlinewidth": 0,
             "ticks": ""
            },
            "colorscale": [
             [
              0,
              "#0d0887"
             ],
             [
              0.1111111111111111,
              "#46039f"
             ],
             [
              0.2222222222222222,
              "#7201a8"
             ],
             [
              0.3333333333333333,
              "#9c179e"
             ],
             [
              0.4444444444444444,
              "#bd3786"
             ],
             [
              0.5555555555555556,
              "#d8576b"
             ],
             [
              0.6666666666666666,
              "#ed7953"
             ],
             [
              0.7777777777777778,
              "#fb9f3a"
             ],
             [
              0.8888888888888888,
              "#fdca26"
             ],
             [
              1,
              "#f0f921"
             ]
            ],
            "type": "contour"
           }
          ],
          "contourcarpet": [
           {
            "colorbar": {
             "outlinewidth": 0,
             "ticks": ""
            },
            "type": "contourcarpet"
           }
          ],
          "heatmap": [
           {
            "colorbar": {
             "outlinewidth": 0,
             "ticks": ""
            },
            "colorscale": [
             [
              0,
              "#0d0887"
             ],
             [
              0.1111111111111111,
              "#46039f"
             ],
             [
              0.2222222222222222,
              "#7201a8"
             ],
             [
              0.3333333333333333,
              "#9c179e"
             ],
             [
              0.4444444444444444,
              "#bd3786"
             ],
             [
              0.5555555555555556,
              "#d8576b"
             ],
             [
              0.6666666666666666,
              "#ed7953"
             ],
             [
              0.7777777777777778,
              "#fb9f3a"
             ],
             [
              0.8888888888888888,
              "#fdca26"
             ],
             [
              1,
              "#f0f921"
             ]
            ],
            "type": "heatmap"
           }
          ],
          "histogram": [
           {
            "marker": {
             "pattern": {
              "fillmode": "overlay",
              "size": 10,
              "solidity": 0.2
             }
            },
            "type": "histogram"
           }
          ],
          "histogram2d": [
           {
            "colorbar": {
             "outlinewidth": 0,
             "ticks": ""
            },
            "colorscale": [
             [
              0,
              "#0d0887"
             ],
             [
              0.1111111111111111,
              "#46039f"
             ],
             [
              0.2222222222222222,
              "#7201a8"
             ],
             [
              0.3333333333333333,
              "#9c179e"
             ],
             [
              0.4444444444444444,
              "#bd3786"
             ],
             [
              0.5555555555555556,
              "#d8576b"
             ],
             [
              0.6666666666666666,
              "#ed7953"
             ],
             [
              0.7777777777777778,
              "#fb9f3a"
             ],
             [
              0.8888888888888888,
              "#fdca26"
             ],
             [
              1,
              "#f0f921"
             ]
            ],
            "type": "histogram2d"
           }
          ],
          "histogram2dcontour": [
           {
            "colorbar": {
             "outlinewidth": 0,
             "ticks": ""
            },
            "colorscale": [
             [
              0,
              "#0d0887"
             ],
             [
              0.1111111111111111,
              "#46039f"
             ],
             [
              0.2222222222222222,
              "#7201a8"
             ],
             [
              0.3333333333333333,
              "#9c179e"
             ],
             [
              0.4444444444444444,
              "#bd3786"
             ],
             [
              0.5555555555555556,
              "#d8576b"
             ],
             [
              0.6666666666666666,
              "#ed7953"
             ],
             [
              0.7777777777777778,
              "#fb9f3a"
             ],
             [
              0.8888888888888888,
              "#fdca26"
             ],
             [
              1,
              "#f0f921"
             ]
            ],
            "type": "histogram2dcontour"
           }
          ],
          "mesh3d": [
           {
            "colorbar": {
             "outlinewidth": 0,
             "ticks": ""
            },
            "type": "mesh3d"
           }
          ],
          "parcoords": [
           {
            "line": {
             "colorbar": {
              "outlinewidth": 0,
              "ticks": ""
             }
            },
            "type": "parcoords"
           }
          ],
          "pie": [
           {
            "automargin": true,
            "type": "pie"
           }
          ],
          "scatter": [
           {
            "fillpattern": {
             "fillmode": "overlay",
             "size": 10,
             "solidity": 0.2
            },
            "type": "scatter"
           }
          ],
          "scatter3d": [
           {
            "line": {
             "colorbar": {
              "outlinewidth": 0,
              "ticks": ""
             }
            },
            "marker": {
             "colorbar": {
              "outlinewidth": 0,
              "ticks": ""
             }
            },
            "type": "scatter3d"
           }
          ],
          "scattercarpet": [
           {
            "marker": {
             "colorbar": {
              "outlinewidth": 0,
              "ticks": ""
             }
            },
            "type": "scattercarpet"
           }
          ],
          "scattergeo": [
           {
            "marker": {
             "colorbar": {
              "outlinewidth": 0,
              "ticks": ""
             }
            },
            "type": "scattergeo"
           }
          ],
          "scattergl": [
           {
            "marker": {
             "colorbar": {
              "outlinewidth": 0,
              "ticks": ""
             }
            },
            "type": "scattergl"
           }
          ],
          "scattermap": [
           {
            "marker": {
             "colorbar": {
              "outlinewidth": 0,
              "ticks": ""
             }
            },
            "type": "scattermap"
           }
          ],
          "scattermapbox": [
           {
            "marker": {
             "colorbar": {
              "outlinewidth": 0,
              "ticks": ""
             }
            },
            "type": "scattermapbox"
           }
          ],
          "scatterpolar": [
           {
            "marker": {
             "colorbar": {
              "outlinewidth": 0,
              "ticks": ""
             }
            },
            "type": "scatterpolar"
           }
          ],
          "scatterpolargl": [
           {
            "marker": {
             "colorbar": {
              "outlinewidth": 0,
              "ticks": ""
             }
            },
            "type": "scatterpolargl"
           }
          ],
          "scatterternary": [
           {
            "marker": {
             "colorbar": {
              "outlinewidth": 0,
              "ticks": ""
             }
            },
            "type": "scatterternary"
           }
          ],
          "surface": [
           {
            "colorbar": {
             "outlinewidth": 0,
             "ticks": ""
            },
            "colorscale": [
             [
              0,
              "#0d0887"
             ],
             [
              0.1111111111111111,
              "#46039f"
             ],
             [
              0.2222222222222222,
              "#7201a8"
             ],
             [
              0.3333333333333333,
              "#9c179e"
             ],
             [
              0.4444444444444444,
              "#bd3786"
             ],
             [
              0.5555555555555556,
              "#d8576b"
             ],
             [
              0.6666666666666666,
              "#ed7953"
             ],
             [
              0.7777777777777778,
              "#fb9f3a"
             ],
             [
              0.8888888888888888,
              "#fdca26"
             ],
             [
              1,
              "#f0f921"
             ]
            ],
            "type": "surface"
           }
          ],
          "table": [
           {
            "cells": {
             "fill": {
              "color": "#EBF0F8"
             },
             "line": {
              "color": "white"
             }
            },
            "header": {
             "fill": {
              "color": "#C8D4E3"
             },
             "line": {
              "color": "white"
             }
            },
            "type": "table"
           }
          ]
         },
         "layout": {
          "annotationdefaults": {
           "arrowcolor": "#2a3f5f",
           "arrowhead": 0,
           "arrowwidth": 1
          },
          "autotypenumbers": "strict",
          "coloraxis": {
           "colorbar": {
            "outlinewidth": 0,
            "ticks": ""
           }
          },
          "colorscale": {
           "diverging": [
            [
             0,
             "#8e0152"
            ],
            [
             0.1,
             "#c51b7d"
            ],
            [
             0.2,
             "#de77ae"
            ],
            [
             0.3,
             "#f1b6da"
            ],
            [
             0.4,
             "#fde0ef"
            ],
            [
             0.5,
             "#f7f7f7"
            ],
            [
             0.6,
             "#e6f5d0"
            ],
            [
             0.7,
             "#b8e186"
            ],
            [
             0.8,
             "#7fbc41"
            ],
            [
             0.9,
             "#4d9221"
            ],
            [
             1,
             "#276419"
            ]
           ],
           "sequential": [
            [
             0,
             "#0d0887"
            ],
            [
             0.1111111111111111,
             "#46039f"
            ],
            [
             0.2222222222222222,
             "#7201a8"
            ],
            [
             0.3333333333333333,
             "#9c179e"
            ],
            [
             0.4444444444444444,
             "#bd3786"
            ],
            [
             0.5555555555555556,
             "#d8576b"
            ],
            [
             0.6666666666666666,
             "#ed7953"
            ],
            [
             0.7777777777777778,
             "#fb9f3a"
            ],
            [
             0.8888888888888888,
             "#fdca26"
            ],
            [
             1,
             "#f0f921"
            ]
           ],
           "sequentialminus": [
            [
             0,
             "#0d0887"
            ],
            [
             0.1111111111111111,
             "#46039f"
            ],
            [
             0.2222222222222222,
             "#7201a8"
            ],
            [
             0.3333333333333333,
             "#9c179e"
            ],
            [
             0.4444444444444444,
             "#bd3786"
            ],
            [
             0.5555555555555556,
             "#d8576b"
            ],
            [
             0.6666666666666666,
             "#ed7953"
            ],
            [
             0.7777777777777778,
             "#fb9f3a"
            ],
            [
             0.8888888888888888,
             "#fdca26"
            ],
            [
             1,
             "#f0f921"
            ]
           ]
          },
          "colorway": [
           "#636efa",
           "#EF553B",
           "#00cc96",
           "#ab63fa",
           "#FFA15A",
           "#19d3f3",
           "#FF6692",
           "#B6E880",
           "#FF97FF",
           "#FECB52"
          ],
          "font": {
           "color": "#2a3f5f"
          },
          "geo": {
           "bgcolor": "white",
           "lakecolor": "white",
           "landcolor": "#E5ECF6",
           "showlakes": true,
           "showland": true,
           "subunitcolor": "white"
          },
          "hoverlabel": {
           "align": "left"
          },
          "hovermode": "closest",
          "mapbox": {
           "style": "light"
          },
          "paper_bgcolor": "white",
          "plot_bgcolor": "#E5ECF6",
          "polar": {
           "angularaxis": {
            "gridcolor": "white",
            "linecolor": "white",
            "ticks": ""
           },
           "bgcolor": "#E5ECF6",
           "radialaxis": {
            "gridcolor": "white",
            "linecolor": "white",
            "ticks": ""
           }
          },
          "scene": {
           "xaxis": {
            "backgroundcolor": "#E5ECF6",
            "gridcolor": "white",
            "gridwidth": 2,
            "linecolor": "white",
            "showbackground": true,
            "ticks": "",
            "zerolinecolor": "white"
           },
           "yaxis": {
            "backgroundcolor": "#E5ECF6",
            "gridcolor": "white",
            "gridwidth": 2,
            "linecolor": "white",
            "showbackground": true,
            "ticks": "",
            "zerolinecolor": "white"
           },
           "zaxis": {
            "backgroundcolor": "#E5ECF6",
            "gridcolor": "white",
            "gridwidth": 2,
            "linecolor": "white",
            "showbackground": true,
            "ticks": "",
            "zerolinecolor": "white"
           }
          },
          "shapedefaults": {
           "line": {
            "color": "#2a3f5f"
           }
          },
          "ternary": {
           "aaxis": {
            "gridcolor": "white",
            "linecolor": "white",
            "ticks": ""
           },
           "baxis": {
            "gridcolor": "white",
            "linecolor": "white",
            "ticks": ""
           },
           "bgcolor": "#E5ECF6",
           "caxis": {
            "gridcolor": "white",
            "linecolor": "white",
            "ticks": ""
           }
          },
          "title": {
           "x": 0.05
          },
          "xaxis": {
           "automargin": true,
           "gridcolor": "white",
           "linecolor": "white",
           "ticks": "",
           "title": {
            "standoff": 15
           },
           "zerolinecolor": "white",
           "zerolinewidth": 2
          },
          "yaxis": {
           "automargin": true,
           "gridcolor": "white",
           "linecolor": "white",
           "ticks": "",
           "title": {
            "standoff": 15
           },
           "zerolinecolor": "white",
           "zerolinewidth": 2
          }
         }
        },
        "title": {
         "text": "Live-Vorhersage des Soft Sensors für einen einzelnen Batch"
        },
        "xaxis": {
         "title": {
          "text": "Verfügbare Daten vom Batch (%)"
         }
        },
        "yaxis": {
         "title": {
          "text": "Vorhergesagtes Gesamtvolumen V_total_out"
         }
        }
       }
      }
     },
     "metadata": {},
     "output_type": "display_data"
    }
   ],
   "source": [
    "# VORHERSAGE WÄHREND EINES BATCHES\n",
    "\n",
    "\n",
    "# 1. SETUP: Lade Modell und Scaler und wähle einen Beispiel-Batch aus\n",
    "# Lade das trainierte Modell und die Scaler (stelle sicher, dass die vorherigen Zellen gelaufen sind)\n",
    "best_model = load_model(\n",
    "    \"best_model.keras\",\n",
    "    custom_objects={\n",
    "        \"SpatialAttention\": SpatialAttention,\n",
    "        \"TemporalAttention\": TemporalAttention\n",
    "    }\n",
    ")# scaler_X und scaler_y sind bereits aus der Pipeline-Zelle im Speicher\n",
    "\n",
    "# Wähle einen zufälligen Batch aus dem Testset für unsere Demonstration\n",
    "# Wir nehmen den Batch mit dem Index 5 aus dem Testset (indices_test[5])\n",
    "# Sie können hier jeden Index von 0 bis len(X_test_scaled)-1 wählen\n",
    "sample_index = 5\n",
    "# sample_index = random.randint(0, len(X_test_scaled) - 1)\n",
    "sample_batch_scaled = X_test_scaled[sample_index]\n",
    "sample_target_scaled = y_test_scaled[sample_index]\n",
    "\n",
    "# Hol den wahren Endwert und skaliere ihn zurück, um ihn später vergleichen zu können\n",
    "true_final_value = scaler_y.inverse_transform(sample_target_scaled.reshape(1, -1))[0, 0]\n",
    "\n",
    "print(f\"Demonstration für einen einzelnen Batch aus dem Testset.\")\n",
    "print(\n",
    "    f\"Der wahre Endwert (Qualitätsvariable) für diesen Batch ist: {true_final_value:.2f}\"\n",
    ")\n",
    "print(\"-\" * 50)\n",
    "\n",
    "\n",
    "# 2. DER VORHERSAGE-PROZESS\n",
    "\n",
    "# Wir machen Vorhersagen zu verschiedenen Zeitpunkten\n",
    "evaluation_points = np.linspace(0.1, 1.0, 10)  # 10%, 20%, ..., 100%\n",
    "timesteps = sample_batch_scaled.shape[0]  # 140\n",
    "predictions_over_time = []\n",
    "\n",
    "for progress in evaluation_points:\n",
    "    # Nimm nur die bisher verfügbaren Daten des Batches\n",
    "    current_timesteps = int(timesteps * progress)\n",
    "    partial_sequence = sample_batch_scaled[:current_timesteps, :]\n",
    "\n",
    "    # Das Modell erwartet immer einen Input der Länge 140.\n",
    "    # Wir müssen die unvollständige Sequenz mit Nullen auffüllen (Padding).\n",
    "    # Wir fügen die Nullen am Anfang hinzu ('pre'), da die neuesten Daten am wichtigsten sind.\n",
    "    padded_sequence = pad_sequences(\n",
    "        [partial_sequence],  # Muss in einer Liste sein\n",
    "        maxlen=timesteps,\n",
    "        dtype=\"float32\",\n",
    "        padding=\"pre\",\n",
    "    )\n",
    "\n",
    "    # Mache die Vorhersage. Das `[0, 0]` am Ende extrahiert den einzelnen Zahlenwert.\n",
    "    prediction_scaled = model.predict(padded_sequence)[0, 0]\n",
    "\n",
    "    # Skaliere die Vorhersage zurück in die ursprüngliche, interpretierbare Einheit\n",
    "    prediction_real_value = scaler_y.inverse_transform([[prediction_scaled]])[0, 0]\n",
    "\n",
    "    predictions_over_time.append(prediction_real_value)\n",
    "\n",
    "    print(\n",
    "        f\"Nach {progress*100:.0f}% des Batches: Vorhersage für Endwert = {prediction_real_value:.2f}\"\n",
    "    )\n",
    "\n",
    "\n",
    "# 3. VISUALISIERUNG DES ERGEBNISSES\n",
    "\n",
    "# Erstelle ein DataFrame für den Plot\n",
    "prediction_df = pd.DataFrame(\n",
    "    {\n",
    "        \"Batch-Fortschritt (%)\": evaluation_points * 100,\n",
    "        \"Vorhergesagter Endwert\": predictions_over_time,\n",
    "    }\n",
    ")\n",
    "\n",
    "# Erstelle die Figur\n",
    "fig = go.Figure()\n",
    "\n",
    "# Füge die Linie für die Vorhersagen hinzu\n",
    "fig.add_trace(\n",
    "    go.Scatter(\n",
    "        x=prediction_df[\"Batch-Fortschritt (%)\"],\n",
    "        y=prediction_df[\"Vorhergesagter Endwert\"],\n",
    "        mode=\"lines+markers\",\n",
    "        name=\"Soft-Sensor-Vorhersage\",\n",
    "    )\n",
    ")\n",
    "\n",
    "# Füge eine horizontale Linie für den wahren Endwert hinzu\n",
    "fig.add_hline(\n",
    "    y=true_final_value,\n",
    "    line_dash=\"dash\",\n",
    "    line_color=\"red\",\n",
    "    annotation_text=f\"Wahrer Endwert: {true_final_value}\",\n",
    "    annotation_position=\"bottom right\",\n",
    ")\n",
    "\n",
    "fig.update_layout(\n",
    "    title=\"Live-Vorhersage des Soft Sensors für einen einzelnen Batch\",\n",
    "    xaxis_title=\"Verfügbare Daten vom Batch (%)\",\n",
    "    yaxis_title=\"Vorhergesagtes Gesamtvolumen V_total_out\",\n",
    ")\n",
    "\n",
    "fig.show()"
   ]
  }
 ],
 "metadata": {
  "kernelspec": {
   "display_name": "Python 3",
   "language": "python",
   "name": "python3"
  },
  "language_info": {
   "codemirror_mode": {
    "name": "ipython",
    "version": 3
   },
   "file_extension": ".py",
   "mimetype": "text/x-python",
   "name": "python",
   "nbconvert_exporter": "python",
   "pygments_lexer": "ipython3",
   "version": "3.11.9"
  }
 },
 "nbformat": 4,
 "nbformat_minor": 5
}
