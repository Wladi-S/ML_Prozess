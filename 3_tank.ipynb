{
 "cells": [
  {
   "cell_type": "code",
   "execution_count": 17,
   "id": "133ac073",
   "metadata": {},
   "outputs": [],
   "source": [
    "import pandas as pd\n",
    "import numpy as np\n",
    "import plotly.express as px\n",
    "import plotly.graph_objects as go\n",
    "\n",
    "from sklearn.preprocessing import StandardScaler\n",
    "from sklearn.model_selection import train_test_split\n",
    "from sklearn.metrics import (\n",
    "    mean_absolute_error,\n",
    "    mean_squared_error,\n",
    "    mean_absolute_percentage_error,\n",
    ")\n",
    "\n",
    "import tensorflow as tf\n",
    "from tensorflow.keras.models import Model, load_model\n",
    "from tensorflow.keras.layers import Input, LSTM, Dense\n",
    "from tensorflow.keras.optimizers import Adam\n",
    "from tensorflow.keras.callbacks import EarlyStopping, ModelCheckpoint\n",
    "from tensorflow.keras.preprocessing.sequence import pad_sequences"
   ]
  },
  {
   "cell_type": "markdown",
   "id": "aa5e0240",
   "metadata": {},
   "source": [
    "# Quality Variables"
   ]
  },
  {
   "cell_type": "markdown",
   "id": "63f07515",
   "metadata": {},
   "source": [
    "- Gesamtes abgelaufenes Volumen (Für jeden Batch die kumulative Summe von v(t))\n",
    "- Durchschnittlicher Füllstand von Tank 2 (jeden Batch den Mittelwert der Spalte x2(t))"
   ]
  },
  {
   "cell_type": "code",
   "execution_count": 2,
   "id": "2d018917",
   "metadata": {},
   "outputs": [],
   "source": [
    "res = pd.read_csv(\"3Tank_Experiment_Batch.csv\")"
   ]
  },
  {
   "cell_type": "code",
   "execution_count": 3,
   "id": "2b6a6e9a",
   "metadata": {},
   "outputs": [
    {
     "data": {
      "application/vnd.microsoft.datawrangler.viewer.v0+json": {
       "columns": [
        {
         "name": "index",
         "rawType": "int64",
         "type": "integer"
        },
        {
         "name": "t",
         "rawType": "int64",
         "type": "integer"
        },
        {
         "name": "Sequenz",
         "rawType": "int64",
         "type": "integer"
        },
        {
         "name": "u1(t)",
         "rawType": "float64",
         "type": "float"
        },
        {
         "name": "u2(t)",
         "rawType": "float64",
         "type": "float"
        },
        {
         "name": "x1(t)",
         "rawType": "float64",
         "type": "float"
        },
        {
         "name": "x2(t)",
         "rawType": "float64",
         "type": "float"
        },
        {
         "name": "x3(t)",
         "rawType": "float64",
         "type": "float"
        },
        {
         "name": "v(t)",
         "rawType": "float64",
         "type": "float"
        }
       ],
       "ref": "2136321c-70fd-45a8-b3d4-8bc13c1c42d7",
       "rows": [
        [
         "0",
         "0",
         "1",
         "0.0",
         "0.0",
         "4.842330502130053",
         "4.0100933863672665",
         "4.561483278486395",
         "9.36471094262273"
        ],
        [
         "1",
         "1",
         "1",
         "5.361919611731209",
         "3.086491592412651",
         "4.651300646125803",
         "4.667350555685601",
         "4.650984232036872",
         "9.151475712680588"
        ],
        [
         "2",
         "2",
         "1",
         "9.621660411885705",
         "5.754045761299233",
         "4.503402532413944",
         "4.278377230477334",
         "4.703018031369551",
         "9.224274886914207"
        ],
        [
         "3",
         "3",
         "1",
         "12.934531609121583",
         "8.040007197681923",
         "4.714889333698733",
         "4.5278587275504485",
         "4.54164376152364",
         "9.34534958945646"
        ],
        [
         "4",
         "4",
         "1",
         "15.444612619140004",
         "9.980081393958375",
         "4.884474620637849",
         "4.885002024422883",
         "4.7689431968299525",
         "9.94972431028086"
        ],
        [
         "5",
         "5",
         "1",
         "17.284671586731218",
         "11.60831533188593",
         "5.263086004552095",
         "5.420828793076127",
         "5.375953769768248",
         "10.273288680412014"
        ],
        [
         "6",
         "6",
         "1",
         "18.57609874048995",
         "12.957080404945897",
         "5.689838274265838",
         "5.232196422466529",
         "5.566106102885032",
         "10.579028057809516"
        ],
        [
         "7",
         "7",
         "1",
         "19.428854580200117",
         "14.057057575087988",
         "5.83301957354564",
         "5.768185369263451",
         "5.560637092484402",
         "10.51948673896251"
        ],
        [
         "8",
         "8",
         "1",
         "19.94143289688875",
         "14.93722476385485",
         "6.332772452656291",
         "6.223197733897706",
         "6.1923934206536595",
         "10.783485524857031"
        ],
        [
         "9",
         "9",
         "1",
         "20.2008386255494",
         "15.624846477886688",
         "6.3917535097809335",
         "6.000852378757154",
         "5.984834185975048",
         "10.893187301215711"
        ],
        [
         "10",
         "10",
         "1",
         "20.282580530534716",
         "16.145465668806033",
         "6.546210398409091",
         "6.438601834191024",
         "6.540854927155982",
         "11.203044318940222"
        ],
        [
         "11",
         "11",
         "1",
         "20.25067872361842",
         "16.52289782748261",
         "6.975412741102867",
         "6.4572011811893",
         "6.433130236541654",
         "11.677476145942215"
        ],
        [
         "12",
         "12",
         "1",
         "20.157687014726484",
         "16.77922731267829",
         "6.856076651487082",
         "6.842175183735521",
         "6.868084549096614",
         "11.550305344722942"
        ],
        [
         "13",
         "13",
         "1",
         "20.044730095337904",
         "16.934805914072218",
         "7.235974560809037",
         "7.1245878627805626",
         "7.179116878498033",
         "11.96559439193324"
        ],
        [
         "14",
         "14",
         "1",
         "19.94155555455434",
         "17.00825364966597",
         "7.486593143166597",
         "7.325781794749355",
         "6.83761502894464",
         "11.762309164404918"
        ],
        [
         "15",
         "15",
         "1",
         "19.866600727839483",
         "17.016461797568923",
         "7.770756790847153",
         "7.2566709799396625",
         "7.027066080470788",
         "12.01912684375268"
        ],
        [
         "16",
         "16",
         "1",
         "19.82707437842761",
         "16.974598162163595",
         "7.613209137862325",
         "7.628391181957915",
         "7.229613296324266",
         "11.842779715347694"
        ],
        [
         "17",
         "17",
         "1",
         "19.819053211401226",
         "16.896114574651286",
         "7.730499458573299",
         "7.397114568852149",
         "7.379198403105503",
         "12.04709198049392"
        ],
        [
         "18",
         "18",
         "1",
         "19.827593220438388",
         "16.79275662797763",
         "8.014423093789189",
         "7.488511095248208",
         "7.471887244772218",
         "12.153669623993515"
        ],
        [
         "19",
         "19",
         "1",
         "19.826855867229185",
         "16.674575646138436",
         "8.237338288606871",
         "7.705406674960754",
         "7.552385361562671",
         "11.960690035054764"
        ],
        [
         "20",
         "20",
         "1",
         "19.780249093561338",
         "16.54994288786549",
         "8.024090458096017",
         "8.053736465523315",
         "7.726899267118586",
         "12.228179234187262"
        ],
        [
         "21",
         "21",
         "1",
         "19.64058316607543",
         "16.425565984692625",
         "8.025956039267246",
         "8.136508112565586",
         "7.401647772134449",
         "12.224399034154484"
        ],
        [
         "22",
         "22",
         "1",
         "19.350241353689484",
         "16.306507613401678",
         "8.169780275578344",
         "8.154765464067113",
         "7.363638660192222",
         "12.024421339785814"
        ],
        [
         "23",
         "23",
         "1",
         "18.84136543769216",
         "16.1962064028489",
         "8.597703601378111",
         "8.232398410650552",
         "7.634083534823216",
         "11.954861023747318"
        ],
        [
         "24",
         "24",
         "1",
         "18.036056054506417",
         "16.09650007517108",
         "8.326943491484021",
         "8.212386940085805",
         "7.218174655092853",
         "12.293394042612428"
        ],
        [
         "25",
         "25",
         "1",
         "16.846587871121642",
         "16.00765082137208",
         "8.451296657109804",
         "8.0085646112083",
         "7.23981369916951",
         "12.29529650523038"
        ],
        [
         "26",
         "26",
         "1",
         "15.175639593194916",
         "15.928372911289388",
         "8.438848455584992",
         "8.121733147078935",
         "7.146369379691632",
         "12.16483562053202"
        ],
        [
         "27",
         "27",
         "1",
         "12.916538805822595",
         "15.855862537940707",
         "8.260371557974036",
         "8.224899717535592",
         "7.341145875563404",
         "11.795006538288836"
        ],
        [
         "28",
         "28",
         "1",
         "9.953521646980448",
         "15.785829896250846",
         "8.495675463800424",
         "7.949554978234933",
         "6.981462388815359",
         "11.97551265894158"
        ],
        [
         "29",
         "29",
         "1",
         "6.162007313632984",
         "15.712533496158445",
         "8.434910396006098",
         "8.323872306698807",
         "6.764072109643826",
         "11.68491478242652"
        ],
        [
         "30",
         "30",
         "1",
         "1.408887400512583",
         "15.628816710103024",
         "8.36578185687405",
         "7.83027991665081",
         "6.369038938941584",
         "11.627802679152838"
        ],
        [
         "31",
         "31",
         "1",
         "2.139601132385421",
         "15.526146554892136",
         "7.896160254958907",
         "7.986970493643064",
         "6.171755866637568",
         "11.311381409847993"
        ],
        [
         "32",
         "32",
         "1",
         "0.77560965415865",
         "15.394654707948646",
         "8.061994440432136",
         "7.871930063996125",
         "5.922699601087267",
         "11.171643255709808"
        ],
        [
         "33",
         "33",
         "1",
         "1.0316114709014106",
         "15.223180757937826",
         "7.9748919015496575",
         "7.972317040875131",
         "5.99534055163103",
         "10.682646899311496"
        ],
        [
         "34",
         "34",
         "1",
         "0.5476300504963296",
         "14.999317689775012",
         "7.776170993004249",
         "7.528252788264799",
         "5.401122468705994",
         "10.418654986568368"
        ],
        [
         "35",
         "35",
         "1",
         "2.01426378572531",
         "14.709459604012991",
         "7.587484519049483",
         "7.61293605440433",
         "5.133234138701016",
         "10.272362230941445"
        ],
        [
         "36",
         "36",
         "1",
         "2.33639873712268",
         "14.338851670609955",
         "7.383848120780416",
         "7.288428692429093",
         "5.134714577853788",
         "9.93009595277104"
        ],
        [
         "37",
         "37",
         "1",
         "2.1172056354741597",
         "13.871642317076905",
         "7.319534998928141",
         "7.101258781363853",
         "4.61201700224967",
         "9.533937589861088"
        ],
        [
         "38",
         "38",
         "1",
         "1.7658771881263151",
         "13.290937651005706",
         "7.341567102712383",
         "7.353365383949371",
         "4.486227262066141",
         "9.2520206985538"
        ],
        [
         "39",
         "39",
         "1",
         "2.3063592250156653",
         "12.57885811697713",
         "6.9745846492188",
         "7.310173598564563",
         "3.873580495293621",
         "8.773154377889558"
        ],
        [
         "40",
         "40",
         "1",
         "0.3746583325154307",
         "11.716597387849106",
         "6.985858734485301",
         "7.32205961893722",
         "3.386367515972288",
         "8.03726184004732"
        ],
        [
         "41",
         "41",
         "1",
         "0.0641584966247067",
         "10.68448349042447",
         "7.341249984753231",
         "7.134110259806472",
         "3.066596156557688",
         "7.534753761651803"
        ],
        [
         "42",
         "42",
         "1",
         "2.811603088944404",
         "9.46204216549981",
         "7.249761208480613",
         "7.132895854851442",
         "2.9259757145010994",
         "7.220265486642436"
        ],
        [
         "43",
         "43",
         "1",
         "2.556014643122058",
         "8.028062462293661",
         "6.867702961416796",
         "7.13071799936813",
         "2.370285802169543",
         "6.743811611317821"
        ],
        [
         "44",
         "44",
         "1",
         "2.896233982796514",
         "6.360664567254901",
         "6.9993381302760715",
         "6.807927170509517",
         "2.1869932025619843",
         "6.216599538381287"
        ],
        [
         "45",
         "45",
         "1",
         "0.4715382294693415",
         "4.437369867252187",
         "7.226146978323269",
         "6.833537434762561",
         "1.6615407629702637",
         "5.460390200469873"
        ],
        [
         "46",
         "46",
         "1",
         "0.8458258175717246",
         "2.235173247141489",
         "7.2236215601261",
         "7.1363558404265275",
         "1.2978272575486731",
         "4.505169075806445"
        ],
        [
         "47",
         "47",
         "1",
         "1.940023366263772",
         "0.2411221171396654",
         "6.766979592126792",
         "6.930438926646823",
         "1.0938817799141565",
         "4.085650180186993"
        ],
        [
         "48",
         "48",
         "1",
         "1.0987553224380922",
         "1.9556499809107",
         "7.04564826157923",
         "7.056575507303822",
         "0.3353676668567851",
         "2.892212722369607"
        ],
        [
         "49",
         "49",
         "1",
         "2.3353038798967316",
         "2.7192445228139457",
         "7.1789387614234155",
         "7.038963908885152",
         "0.4026431951436649",
         "1.8636346981951997"
        ]
       ],
       "shape": {
        "columns": 8,
        "rows": 28000
       }
      },
      "text/html": [
       "<div>\n",
       "<style scoped>\n",
       "    .dataframe tbody tr th:only-of-type {\n",
       "        vertical-align: middle;\n",
       "    }\n",
       "\n",
       "    .dataframe tbody tr th {\n",
       "        vertical-align: top;\n",
       "    }\n",
       "\n",
       "    .dataframe thead th {\n",
       "        text-align: right;\n",
       "    }\n",
       "</style>\n",
       "<table border=\"1\" class=\"dataframe\">\n",
       "  <thead>\n",
       "    <tr style=\"text-align: right;\">\n",
       "      <th></th>\n",
       "      <th>t</th>\n",
       "      <th>Sequenz</th>\n",
       "      <th>u1(t)</th>\n",
       "      <th>u2(t)</th>\n",
       "      <th>x1(t)</th>\n",
       "      <th>x2(t)</th>\n",
       "      <th>x3(t)</th>\n",
       "      <th>v(t)</th>\n",
       "    </tr>\n",
       "  </thead>\n",
       "  <tbody>\n",
       "    <tr>\n",
       "      <th>0</th>\n",
       "      <td>0</td>\n",
       "      <td>1</td>\n",
       "      <td>0.000000</td>\n",
       "      <td>0.000000</td>\n",
       "      <td>4.842331</td>\n",
       "      <td>4.010093</td>\n",
       "      <td>4.561483</td>\n",
       "      <td>9.364711</td>\n",
       "    </tr>\n",
       "    <tr>\n",
       "      <th>1</th>\n",
       "      <td>1</td>\n",
       "      <td>1</td>\n",
       "      <td>5.361920</td>\n",
       "      <td>3.086492</td>\n",
       "      <td>4.651301</td>\n",
       "      <td>4.667351</td>\n",
       "      <td>4.650984</td>\n",
       "      <td>9.151476</td>\n",
       "    </tr>\n",
       "    <tr>\n",
       "      <th>2</th>\n",
       "      <td>2</td>\n",
       "      <td>1</td>\n",
       "      <td>9.621660</td>\n",
       "      <td>5.754046</td>\n",
       "      <td>4.503403</td>\n",
       "      <td>4.278377</td>\n",
       "      <td>4.703018</td>\n",
       "      <td>9.224275</td>\n",
       "    </tr>\n",
       "    <tr>\n",
       "      <th>3</th>\n",
       "      <td>3</td>\n",
       "      <td>1</td>\n",
       "      <td>12.934532</td>\n",
       "      <td>8.040007</td>\n",
       "      <td>4.714889</td>\n",
       "      <td>4.527859</td>\n",
       "      <td>4.541644</td>\n",
       "      <td>9.345350</td>\n",
       "    </tr>\n",
       "    <tr>\n",
       "      <th>4</th>\n",
       "      <td>4</td>\n",
       "      <td>1</td>\n",
       "      <td>15.444613</td>\n",
       "      <td>9.980081</td>\n",
       "      <td>4.884475</td>\n",
       "      <td>4.885002</td>\n",
       "      <td>4.768943</td>\n",
       "      <td>9.949724</td>\n",
       "    </tr>\n",
       "    <tr>\n",
       "      <th>...</th>\n",
       "      <td>...</td>\n",
       "      <td>...</td>\n",
       "      <td>...</td>\n",
       "      <td>...</td>\n",
       "      <td>...</td>\n",
       "      <td>...</td>\n",
       "      <td>...</td>\n",
       "      <td>...</td>\n",
       "    </tr>\n",
       "    <tr>\n",
       "      <th>27995</th>\n",
       "      <td>135</td>\n",
       "      <td>200</td>\n",
       "      <td>25.000000</td>\n",
       "      <td>6.088392</td>\n",
       "      <td>7.664921</td>\n",
       "      <td>6.772946</td>\n",
       "      <td>0.878545</td>\n",
       "      <td>4.099904</td>\n",
       "    </tr>\n",
       "    <tr>\n",
       "      <th>27996</th>\n",
       "      <td>136</td>\n",
       "      <td>200</td>\n",
       "      <td>25.000000</td>\n",
       "      <td>5.493404</td>\n",
       "      <td>7.846334</td>\n",
       "      <td>7.237114</td>\n",
       "      <td>1.043541</td>\n",
       "      <td>4.142338</td>\n",
       "    </tr>\n",
       "    <tr>\n",
       "      <th>27997</th>\n",
       "      <td>137</td>\n",
       "      <td>200</td>\n",
       "      <td>25.000000</td>\n",
       "      <td>4.855503</td>\n",
       "      <td>7.927747</td>\n",
       "      <td>7.172953</td>\n",
       "      <td>0.864453</td>\n",
       "      <td>3.404311</td>\n",
       "    </tr>\n",
       "    <tr>\n",
       "      <th>27998</th>\n",
       "      <td>138</td>\n",
       "      <td>200</td>\n",
       "      <td>25.000000</td>\n",
       "      <td>4.172510</td>\n",
       "      <td>8.215693</td>\n",
       "      <td>7.258894</td>\n",
       "      <td>0.856796</td>\n",
       "      <td>3.257938</td>\n",
       "    </tr>\n",
       "    <tr>\n",
       "      <th>27999</th>\n",
       "      <td>139</td>\n",
       "      <td>200</td>\n",
       "      <td>25.000000</td>\n",
       "      <td>3.442178</td>\n",
       "      <td>8.523691</td>\n",
       "      <td>7.554539</td>\n",
       "      <td>0.773805</td>\n",
       "      <td>2.759615</td>\n",
       "    </tr>\n",
       "  </tbody>\n",
       "</table>\n",
       "<p>28000 rows × 8 columns</p>\n",
       "</div>"
      ],
      "text/plain": [
       "         t  Sequenz      u1(t)     u2(t)     x1(t)     x2(t)     x3(t)  \\\n",
       "0        0        1   0.000000  0.000000  4.842331  4.010093  4.561483   \n",
       "1        1        1   5.361920  3.086492  4.651301  4.667351  4.650984   \n",
       "2        2        1   9.621660  5.754046  4.503403  4.278377  4.703018   \n",
       "3        3        1  12.934532  8.040007  4.714889  4.527859  4.541644   \n",
       "4        4        1  15.444613  9.980081  4.884475  4.885002  4.768943   \n",
       "...    ...      ...        ...       ...       ...       ...       ...   \n",
       "27995  135      200  25.000000  6.088392  7.664921  6.772946  0.878545   \n",
       "27996  136      200  25.000000  5.493404  7.846334  7.237114  1.043541   \n",
       "27997  137      200  25.000000  4.855503  7.927747  7.172953  0.864453   \n",
       "27998  138      200  25.000000  4.172510  8.215693  7.258894  0.856796   \n",
       "27999  139      200  25.000000  3.442178  8.523691  7.554539  0.773805   \n",
       "\n",
       "           v(t)  \n",
       "0      9.364711  \n",
       "1      9.151476  \n",
       "2      9.224275  \n",
       "3      9.345350  \n",
       "4      9.949724  \n",
       "...         ...  \n",
       "27995  4.099904  \n",
       "27996  4.142338  \n",
       "27997  3.404311  \n",
       "27998  3.257938  \n",
       "27999  2.759615  \n",
       "\n",
       "[28000 rows x 8 columns]"
      ]
     },
     "execution_count": 3,
     "metadata": {},
     "output_type": "execute_result"
    }
   ],
   "source": [
    "res"
   ]
  },
  {
   "cell_type": "code",
   "execution_count": 13,
   "id": "4ce7343e",
   "metadata": {},
   "outputs": [
    {
     "data": {
      "application/vnd.plotly.v1+json": {
       "config": {
        "plotlyServerURL": "https://plot.ly"
       },
       "data": [
        {
         "hovertemplate": "Sequenz=1<br>t=%{x}<br>v(t)=%{y}<extra></extra>",
         "legendgroup": "1",
         "line": {
          "color": "#636efa",
          "dash": "solid"
         },
         "marker": {
          "symbol": "circle"
         },
         "mode": "lines",
         "name": "1",
         "showlegend": true,
         "type": "scattergl",
         "x": {
          "bdata": "AAABAAIAAwAEAAUABgAHAAgACQAKAAsADAANAA4ADwAQABEAEgATABQAFQAWABcAGAAZABoAGwAcAB0AHgAfACAAIQAiACMAJAAlACYAJwAoACkAKgArACwALQAuAC8AMAAxADIAMwA0ADUANgA3ADgAOQA6ADsAPAA9AD4APwBAAEEAQgBDAEQARQBGAEcASABJAEoASwBMAE0ATgBPAFAAUQBSAFMAVABVAFYAVwBYAFkAWgBbAFwAXQBeAF8AYABhAGIAYwBkAGUAZgBnAGgAaQBqAGsAbABtAG4AbwBwAHEAcgBzAHQAdQB2AHcAeAB5AHoAewB8AH0AfgB/AIAAgQCCAIMAhACFAIYAhwCIAIkAigCLAA==",
          "dtype": "i2"
         },
         "xaxis": "x",
         "y": {
          "bdata": "rR2GZLu6IkDtM4A5jk0iQKM4cSjUciJAF85QqdGwIkCyvslDQuYjQCN5cX7siyRAPISXXXYoJUBuGXUq+gklQPpMxAMlkSVAFNmP2E/JJUBE+cps9WcmQKxIRSfeWidAT8xEn8EZJ0DKG11jYu4nQNQeBWNNhidAdMlg/soJKEATTabSgK8nQCJAqHAcGChArOHyyK1OKEB+TnSQ3+snQNbrmOjTdChAHuUhbuRyKEC+aC/0gAwoQItwSovj6CdAJblzvjeWKEDXLIEaMZcoQELNnlVlVChACx3UGAuXJ0Dn+S1ldvMnQEEjfiatXidA8ZpOWm9BJ0BOwldibZ8mQIe085/hVyZAcoT25INdJUCnPEfyWdYkQEMe9Q9ziyRAUJZmiTXcI0DrHY1EYBEjQERoZNsIgSJA+pb/49qLIUC3yOD7ExMgQHTUdn2WIx5AZESWRo3hHED9+kPAqfkaQI609kTM3RhA/6pZh3DXFUArKM4KSwUSQNUyS660VxBAgTh9bEAjB0AEBweectH9P3DvJGQbCfw/qXy1DIx/9j/sghs2SMj0P5qjqVnysPU/GwNBTgAZ+T/jjB7uNZH+PzphUDUfSf8/VOVO2sgxBkDGz+0HTV0HQGV0Fz3McAlA9ZnXV+T1CEAtjMFS68cNQDYceHc/tA9As2oVymVcEUACLNIyadURQOGZIzqS4xFAQ1YzDU+gE0Af3+zwsIMSQMAxPEBprBRAYf8J6W2cFECyvyjVySoUQBQA7NiOlRJAIJ1+XUyiEkB0qTlc6fAQQHwu+7uQYRFAKatB8ue3D0CST7louokOQGijrM3J4AlAJkURWBlPCUBusihhmbkFQJVVUj++hQVAt/Z2cWeIBkBYBAwCHPgEQL6HPjFEoARA0s7zTx0UBUD1RuetO5oFQMqCx921igVASEvfTkv7B0DRt6Xsh+EIQGRQMyTYWwhABpjTTREtCEBDLf+JGVYMQKQe73aIbQxAs8kEoB/FC0CyCCDbvZcOQBxYVqho1A5AEzfcQ87DDkAdI4CeJnsOQMhxwjyJ4gtAo4Ch8TcQC0Bk2+HPSckJQJqRpkOzMAtA66N8j6ppB0AuVLrxbkoHQJY//d3TsQRANbWMDEe0BUAs1UqSQMMEQA9Rz1zO9AFA1fDTIWy6/D/SvIhR3zP/PySTX7GRzvo/R4QBOfEI/D86x0myqyn6P0TkJb3egPY/JJaL9whV9T9AyEiuG1PyPyDRXfyDcfI/XeoXuVgR8z8lmG9rQirpP1FFMf26jfA/zuYpMf9j8j9MhQWRCY7rP8UxJ9h9g/A/iocLdjpL7T9wr5dY+5rbP8zzH/Qoh+A/DNtOIuEM6j+YwL20d9vlP60HN6faPdQ/NLf8B70Y5j9yVXvLdzPsP/eJF6lym+0/oN1agVyC6z/0ZA/C9wvWP0isSAB0eOk/MXuljHL83D8BbdIb73LlP4bujubP1gZAhUlk7sI1DECgLf3iyVAMQA==",
          "dtype": "f8"
         },
         "yaxis": "y"
        },
        {
         "hovertemplate": "Sequenz=2<br>t=%{x}<br>v(t)=%{y}<extra></extra>",
         "legendgroup": "2",
         "line": {
          "color": "#EF553B",
          "dash": "solid"
         },
         "marker": {
          "symbol": "circle"
         },
         "mode": "lines",
         "name": "2",
         "showlegend": true,
         "type": "scattergl",
         "x": {
          "bdata": "AAABAAIAAwAEAAUABgAHAAgACQAKAAsADAANAA4ADwAQABEAEgATABQAFQAWABcAGAAZABoAGwAcAB0AHgAfACAAIQAiACMAJAAlACYAJwAoACkAKgArACwALQAuAC8AMAAxADIAMwA0ADUANgA3ADgAOQA6ADsAPAA9AD4APwBAAEEAQgBDAEQARQBGAEcASABJAEoASwBMAE0ATgBPAFAAUQBSAFMAVABVAFYAVwBYAFkAWgBbAFwAXQBeAF8AYABhAGIAYwBkAGUAZgBnAGgAaQBqAGsAbABtAG4AbwBwAHEAcgBzAHQAdQB2AHcAeAB5AHoAewB8AH0AfgB/AIAAgQCCAIMAhACFAIYAhwCIAIkAigCLAA==",
          "dtype": "i2"
         },
         "xaxis": "x",
         "y": {
          "bdata": "42nIpJ+DJUBEyBWaqPcjQC3HneWu8SNAqvlMhkmfJECZvw7w2twjQFD+f+eIpCRAdvsoOBruJECAfHxIau0kQHp1IFQFQyVAnj4QnXnNJEAZPXrGMOskQNCCNIUEICVANzkrt/nKJEA9ZzmZ200lQLJcIW8wNiVAl3tfZ0eQJUDMgn3mqpMlQDHNXSulKyVA3Hr4jhDmJEBCb6fv+BwlQIbFantyHyVArnuIhR55JEArxN8JbwIlQBe85BSDAiRAWttN7KdeJEBWKxjPEk0kQK7DPAFtVCRAo7QSZOqlI0Bp+3IeKI0jQML+lIHFcCNAxLrAFsPgI0AIAKkjgfciQKaOug16iSJAiMpBk61FIkCY5cQDjW4iQJq/j51dXSJASo8dqOptIUC6qmn9VoQhQG7Pfg5zuCBApaRoqEZeIEBW9UCvhHQeQLNFQvjXph5AwPBLagMpHUAlvbmR/nIbQMNjiArmdBtATvRPT5SqGUBh2rTWY4cYQCw8KAolqhZAS0wbzZdTFUBuWHtRsKQTQAZ1KX7bnxJABG2MfcvsD0A+XYvToWQOQMRznGx0iglA6WDz+BuyBkDhSCdM99kCQJP074SixAZApTIX2gebCED6dI75oSwLQE/VB5bIVApAy4tlffOcC0AcNCAUCEoQQFqJCz/q7w9AzzpbLgD4EEAMQT+xfvgSQDo2LRgmoRNAdpbn3ttRFUA7nuS/ABsWQEOm014K4hVAvQ6MA6SBFUArRxCBHp4VQApb0ncMXhZADnOUBqL4FkCR5VK9gP4UQLAZAUqQVRRA8KPURMiSE0AXX3QhjjoTQAZhB4IgahFADi2tW1J/EUCWdqFDYrcQQKRh2V2TWg9AycF82fVaD0D3pL1cmeANQOczyfhj0A1AZJ8qONiADkAXLewsVNsPQId1XYX4xg9AFr+ff8/CEEC+eSIq50YRQChGw90i7RFARDDUg5hDEkCSawPjRX0TQFal/daWWRRAJKqKbehbFkCwHOf/lL4VQAtZIsvqwhZA5j1vq2bLGECn+39dsqUYQK2WJDetGxpAOELaFClHGkC6sR7msjIbQLHU9uWmrhtAtLlegWy5HEAG2fHaUcYdQKo/7b5krRxAmfiG2VzeHUD9nbQu7oEdQL3EtUx2kh5APJnZfwa6HkDV3lGSAW0eQArUFK/+yR1ADJ4Gkp3pHEA5dWx8F2EcQDAlzj0dZhtAelt3aZUuG0BBOktn5kIbQK7bmfz7rRpAcDweMy+dGUAdlIxDjyAYQOei4Z1wqBhAUDb7AnQMGEDHiyn8wDEWQNgUrNv3tBVAo8pn4ofbFEBPDr9ZuZsTQEcpVT8TNRJA7U3kC4qUEUC6uwvKRjoPQPqsUXc1hgxAYehjlquQC0CXkW0leEwIQOypPYklzAhA9dR5YkHKBECfdjj8VsYFQC87x3jKqwJAA26wrHhLAUDK5GKLRFL7Px++FA/Vuvg/YZNEG2oO8z/LuC9vE/PwPw==",
          "dtype": "f8"
         },
         "yaxis": "y"
        },
        {
         "hovertemplate": "Sequenz=3<br>t=%{x}<br>v(t)=%{y}<extra></extra>",
         "legendgroup": "3",
         "line": {
          "color": "#00cc96",
          "dash": "solid"
         },
         "marker": {
          "symbol": "circle"
         },
         "mode": "lines",
         "name": "3",
         "showlegend": true,
         "type": "scattergl",
         "x": {
          "bdata": "AAABAAIAAwAEAAUABgAHAAgACQAKAAsADAANAA4ADwAQABEAEgATABQAFQAWABcAGAAZABoAGwAcAB0AHgAfACAAIQAiACMAJAAlACYAJwAoACkAKgArACwALQAuAC8AMAAxADIAMwA0ADUANgA3ADgAOQA6ADsAPAA9AD4APwBAAEEAQgBDAEQARQBGAEcASABJAEoASwBMAE0ATgBPAFAAUQBSAFMAVABVAFYAVwBYAFkAWgBbAFwAXQBeAF8AYABhAGIAYwBkAGUAZgBnAGgAaQBqAGsAbABtAG4AbwBwAHEAcgBzAHQAdQB2AHcAeAB5AHoAewB8AH0AfgB/AIAAgQCCAIMAhACFAIYAhwCIAIkAigCLAA==",
          "dtype": "i2"
         },
         "xaxis": "x",
         "y": {
          "bdata": "YpT/KsepB0BsK+Ibf8kQQONtb3LG7hFA/JMyjfUtFEC+rA8AoLQVQM6NKxjt4BdAyTV+kyRgG0DLEWU00YgbQBEmFerhPx1AKWTSNUouH0BlzOqAN18fQLubY8k81R9AnErzS6hXIEC30YCLV7cfQO9HBIH5giBA0/M6EwtXH0CPraVhgmAgQOR5KrG5PiBA2jVpQ6IiH0CyScQZ/DMgQC6wpCO21R9AI8FrEr0ZH0CwzMURfaAeQFhMXXSBmh5AZVMKrfUeH0CMgARCMPQeQHD+tL6nIh5AvGpUnK2cHUAdm3FBmg8cQMo7Wvg6kR1Agip+s4ymHUAlfk1uPucdQJ/k2/JnFh9AT+Z3vY7PHkDtdz1o/hwgQDY50imLZx9Ae0DSABepIECVWEcgdCogQPPebqeaXSBATd4lohp3IEAYNgyp/A8gQKXNEpjC/B5AF5IsjGByG0AF2ljsPUUYQAPdautwpxRAZCjFfzhMEECZMY8u/+YGQLBBN6ik/wBAkln2wxZx+j9LtBZsgMHoPyS9Sdy6b/M/X4/FAaJT9T9yp8skY8v5P7BqbD0mSvw/hfGJVM5UAUBmOpXfy3D+Pz6Q6JrkgANAHLoTCPHhAkC6MVSbeWwGQBY8NSAKewlAuxh+VEaPC0CUvnGR4m8LQJPiafLz/Q5A7Mg/hsK/EEDQikdDRZkRQFirbkaE9xNAYgVrsMOiFEAKGcWuCpMUQH6Rfs8tyhZA+Yz2sa3BFkBn3rzByg0WQKP9/eJmFxZArmYWEZvVFUABiuDhOE4WQP2gIxDQ/BNAfzcHNzU5E0Dn0jj+ofoRQKn5RKqFpBFA/nLMoc9qD0CZBRW+Hn0MQIlzbBJr0A5A3eLEDWWrCkDGMFsI2BQJQG7FPUfnnQlAgkvNsIsnCUCvbO+0vAULQFuJ7R4o8glAv3jlFRNnC0AApUNrPCcMQMgPVJ8Y4g5AYm6VVqdcD0C5JSXD2RAPQPBWCWst7hBAT5aUHeuXEEARlXHU69MQQKWRO77eOBJADULNcqKEEUDFd/IuGtkSQA+LDXpg7xBAidFIKWpREUCtAjy7EVwQQAQ2Bu1y0xBA1fY8Ld+hEEBZ0gfu5j0PQJTHBOaW9AtACq37UqZqCkD0Tav5mhEKQFDe2GAA0wdA4c8znufQB0C/BjH/MPAHQHyE7ur6CANAtxZPDtP4AUAirWoKVxsCQKAdKZZxpP8/IytU08rP/j+IZgOS0cb3PxSa3gTxM/k/dTc2LfpZ9j8E3aZ15wDxP0+GNAlIZPQ/v0wdiXe/8D/XzlMyVtvzP4od/RkfePM/q1tvd7D57T+SgV64AXbqPx8eJdsxfes/oPiYVCx74j9U+guSRg7pP3Yc2hF6TeY/3CYgteTA0z9+KU1GfW3pP74fhq1UdNU/9BOU2Ka/6z+QRtcvR0rSP04juyd8zOM/NAobrjyK4T9EvLEBUUHqP5javIxBdeQ/x+1LKPD33D93C+1TaybgPw==",
          "dtype": "f8"
         },
         "yaxis": "y"
        },
        {
         "hovertemplate": "Sequenz=4<br>t=%{x}<br>v(t)=%{y}<extra></extra>",
         "legendgroup": "4",
         "line": {
          "color": "#ab63fa",
          "dash": "solid"
         },
         "marker": {
          "symbol": "circle"
         },
         "mode": "lines",
         "name": "4",
         "showlegend": true,
         "type": "scattergl",
         "x": {
          "bdata": "AAABAAIAAwAEAAUABgAHAAgACQAKAAsADAANAA4ADwAQABEAEgATABQAFQAWABcAGAAZABoAGwAcAB0AHgAfACAAIQAiACMAJAAlACYAJwAoACkAKgArACwALQAuAC8AMAAxADIAMwA0ADUANgA3ADgAOQA6ADsAPAA9AD4APwBAAEEAQgBDAEQARQBGAEcASABJAEoASwBMAE0ATgBPAFAAUQBSAFMAVABVAFYAVwBYAFkAWgBbAFwAXQBeAF8AYABhAGIAYwBkAGUAZgBnAGgAaQBqAGsAbABtAG4AbwBwAHEAcgBzAHQAdQB2AHcAeAB5AHoAewB8AH0AfgB/AIAAgQCCAIMAhACFAIYAhwCIAIkAigCLAA==",
          "dtype": "i2"
         },
         "xaxis": "x",
         "y": {
          "bdata": "KYPTRqoGF0BEoNyKKJMZQBR5v86GNBhAQX/EG/8qGEBjMJbc4H0ZQKBpBdaB6hhApq2X/X6eGEAizwweCpAZQOp5YUl06RlAeK2GY9lbGUACXhErs8IaQNjobvimJxtAn1sKVX5EG0BClU88AYoZQJHgU+4skxpAu6llwi8/GkBnKhHHpqYbQB7Pf/SZHBxA6zfdl7pPG0CumHLH+W0aQDzArRFG6BpAFA9ikKSmGkB/e7WkmKwZQHCPlgVxwBlAPniQNzOQGkB2Gkl9imQZQJuQKFHPIRpAFqZRJbiDGEA9/XATCp4YQMuMjPQ8/BdAWq2u/zmPFkA/kFq9GXYWQG+G320IcxVAOL7ms26MFUCh8by4Rl8TQK38uj4CRhJA0ZPYLjdCEEDy5a6HTcAOQLFOOKKcqQ1ABnZF2S9tCUCSmAXtTBoGQIPYM+gSGAdALL2wbF1WAkDIfIXBLM7/P4bqtAHl6vo/NmNCwJ4XAUBowstwK8cAQJcU4QuXuPs/gGTycNBT7D/6a30N0QTzP++avDWtOvY/jcicl2yK9D90Cx8enknzP+8wgpWQIAFArL2PtmESAEBHzTNPG70CQBJuK1XnCQVAojrkE4rmB0C6pZiBvy0NQHiZ8RkLpRBA8EDmNZbyEkC9Y5m95lMSQG0mz37WKRRA3XARhkq6FkCcwZM2kOgXQLIDWre0ghhA+1ALimzgF0B2vNMCQkkZQNQ1waf3BhpA5ZEJa6PIGkB+U2/AiAsbQCDpS/pc0RlA+LgqW+eSGkB1R+b6JcAZQOUbyCcZkxhAwu/wNK/RF0ACnF0JrbQYQONIq5TICRdAHPxle6lQGEAYuzmK4NAXQPCFcr60fhZAdRUHVAJ4F0C8hHsHjjQYQDwNYFrrWxlAd6atHBk3GEAAp0LGca4YQLR2WkwjmRpAjv5eM3c1GkAe5L9PkPkbQIyPnPH0extAvxEIw58XHUBjT/5TlOQdQL0ehn7M7B5A08kdF4tUIEDHPSuIeB4gQERyGDm9MyBANKLjGyJqIUA9Lqx5n2chQByuhCH+fiFA/2nL1PNHIkBs9Q1nADUiQKfH1QZb+CFAWD9smhQ4IkCmKIfWNoIiQL1WbKmbdiJAqOXfXK1UI0DSeHJMp4ciQOFqDQeDciJAh649vimaIkBnR65RGrAiQDg9Lv07UiJASxPMtIDQIkD/4/F7rEUiQErqnGudViJALfvo/GxMIkBl5ZPdY2whQKvruFyMZiFAh5XkgIKrIEBWHmRMrs0gQGz9rJPACiBAMWR8MKlRIEDC5nJ6sykgQITwQHH+AB9AZaSxfIs2HkB6pgH1IKYdQDf8eDF+PR1Ab/iyTpiXGkB+liT8wtsaQMzp6GvYqhlAqvBLpaMjF0BSTnWSl3wWQHX7rkiTnBVAK0y18aEVFUDlwfiAv84TQDLKpVTIKxNATP6lYvnbEUCmsoNGxCMPQNl1mLPjzAxAce2XUuDfBUBh9TW2DK0CQA==",
          "dtype": "f8"
         },
         "yaxis": "y"
        },
        {
         "hovertemplate": "Sequenz=5<br>t=%{x}<br>v(t)=%{y}<extra></extra>",
         "legendgroup": "5",
         "line": {
          "color": "#FFA15A",
          "dash": "solid"
         },
         "marker": {
          "symbol": "circle"
         },
         "mode": "lines",
         "name": "5",
         "showlegend": true,
         "type": "scattergl",
         "x": {
          "bdata": "AAABAAIAAwAEAAUABgAHAAgACQAKAAsADAANAA4ADwAQABEAEgATABQAFQAWABcAGAAZABoAGwAcAB0AHgAfACAAIQAiACMAJAAlACYAJwAoACkAKgArACwALQAuAC8AMAAxADIAMwA0ADUANgA3ADgAOQA6ADsAPAA9AD4APwBAAEEAQgBDAEQARQBGAEcASABJAEoASwBMAE0ATgBPAFAAUQBSAFMAVABVAFYAVwBYAFkAWgBbAFwAXQBeAF8AYABhAGIAYwBkAGUAZgBnAGgAaQBqAGsAbABtAG4AbwBwAHEAcgBzAHQAdQB2AHcAeAB5AHoAewB8AH0AfgB/AIAAgQCCAIMAhACFAIYAhwCIAIkAigCLAA==",
          "dtype": "i2"
         },
         "xaxis": "x",
         "y": {
          "bdata": "DFumt6X+IEDQYNsvwiIgQBgEKWLYgSBAGCqt8kglIED4DWVwaicgQFPNyo4p9yBAVZfzaCAOIUDaLt+iNVEhQMTis6+ooSFAvzbrXH/gIUB7zdLabnMhQK1X8IkjDSJA+kQ5ykXPIUDWjOvpGE0iQGoDpGw8CSNA63CYTZ7HIkBLbzIkNM0iQL6A/5ivpCJAva/GBlxxI0Bpic1NZHIjQHlnGHHipyNACYDwsKFKI0D7ZtaQjLMjQOlZEnL5uiNADPKlSdQMJEC3e8iVY18jQHaFJayLmiNAOlzxQdJPI0AEY1Erj0QjQFRT0jvQSiNAMlP0lN4dI0Bc2AvP9wEiQFjm2U50YyJAfpu4SnvXIUDgwNJPmOUhQDqgJ9KR3SBAODh02zr5IEBZJhKYN14gQALyPykn1h9AnX7ie01/HUB9ND+UGCwcQDYtx6PJiRtAp2VFti6EGUC1fgAqHM8WQIPyzrsnDRVABN/gj5EMFEAetEvnKDATQE4WrFmKzhFAphKA5f4REEDeCbni0q0NQKK13FeJSRBAd+NTQgFOD0DGhQy5HzkOQGafDF1/BA9Aj26qomfnD0B9FfTVYwoRQMmQdY5STxBAtRadCgLlEEBQEwN078ITQHHdGAbHoxNAeQtbps8kFkAWBkIC/6cXQAr3HMohkBhAumG8tNXOGUC66f+CDJUZQHmPAoa4+hpANvSOcup3G0AEZuGS2dAbQGE4rwm+ix1AJGkszZl/HkBx0on6QVIeQP7xbBadXBxA8itsu3RPHUCJ0vG3G1ocQDQcDg/nxRxAz8y8PP9zHEApVKrvkCYbQKTeEcRf1htA3vhTxBmNGkAwPtKXR4EZQOgHgmXRmhlAJVMqDnAkGUBjMMfxYYEYQAnF4kLI4xhAassGj4/4GUCdAd+BzEkaQNK9wQIrzRpAaClFTlcDGkCf/30j9Q8bQPjW2Zdp5BxAaduW3hZ3HECMiRe6vwMeQMT098qeFx5Aevxy8rT3HkDJ+D6pkhggQCHhkkfQZSBAg74FQFKIIEDCtK5KMRohQBOLyIrQWSFAEIWWXIIeIkDswsJeWukhQPvqOSXn9SFAnL8qdzUGIkDuSLtt7VEiQMI9tK4C2yJAoD4phaHtIkDSylva9EwiQPQU0MJhkSJAtzEyyQWRIkBsscJlR3AiQIqtiiyCgyJA90bNCu8KIkANCC2wsEQiQCO6lHb8zSFANFVV4NPcIEC0ocYyDGQgQDOD/n2wOSBAs6C0O2tKH0AveGzSZ/geQFUqYm1rnh5AVBVlMusxHUBwhIn8WoccQOciZeUaUBtAHt8X1psLG0Cj8w/UEYYYQHwL6yjL6xhAHTuZP3wUF0DWxi3D4G8WQJFBMqdXXBNAI2Ow4aWnEUBNeken/aURQPxZ+oHZ6g1AAXe4Z/OFC0DG0XnVkKwHQEpf8YkjygRAJqvfG2tiAECDeDcNPuj9P9WUtzOAq/U/sO+ZnbbR8T9hg07j+SHxPw==",
          "dtype": "f8"
         },
         "yaxis": "y"
        },
        {
         "hovertemplate": "Sequenz=6<br>t=%{x}<br>v(t)=%{y}<extra></extra>",
         "legendgroup": "6",
         "line": {
          "color": "#19d3f3",
          "dash": "solid"
         },
         "marker": {
          "symbol": "circle"
         },
         "mode": "lines",
         "name": "6",
         "showlegend": true,
         "type": "scattergl",
         "x": {
          "bdata": "AAABAAIAAwAEAAUABgAHAAgACQAKAAsADAANAA4ADwAQABEAEgATABQAFQAWABcAGAAZABoAGwAcAB0AHgAfACAAIQAiACMAJAAlACYAJwAoACkAKgArACwALQAuAC8AMAAxADIAMwA0ADUANgA3ADgAOQA6ADsAPAA9AD4APwBAAEEAQgBDAEQARQBGAEcASABJAEoASwBMAE0ATgBPAFAAUQBSAFMAVABVAFYAVwBYAFkAWgBbAFwAXQBeAF8AYABhAGIAYwBkAGUAZgBnAGgAaQBqAGsAbABtAG4AbwBwAHEAcgBzAHQAdQB2AHcAeAB5AHoAewB8AH0AfgB/AIAAgQCCAIMAhACFAIYAhwCIAIkAigCLAA==",
          "dtype": "i2"
         },
         "xaxis": "x",
         "y": {
          "bdata": "98sRwpYuDUBmUzTTPRkVQGYIXDhC6hdAcTLtqxaGGUC4VbGBDaoaQOgUrOGmwBtAiDr1rEDlGkDyX/b/WT4cQEqAD9f1OBxAMD3CnE5XHkC2gwaKnE0eQAu6oBU+wx5ACb5hc1dVH0C6QVQ7ORQeQPhs8oftsB9A5XE39UPZHkB0swIiRlQfQNw7NfnVCh5AsX+OVRckHUB7d2S1SR4cQLan+/HiRxtAuuGbPKG2GUDAw6j3yc4ZQPnwO6LRSBhAKBclwU1iF0B4gjxbt1cWQKpC3yaBNBZAEmZ9BMAMFUAIGJOwq9ATQG0v+b1CRhJAqh+ZAD1tEkA2I0A9J/sQQAhU+zIK4A5Ao6BpJ4NRDEDsyDkdSEUMQJH/ikjbZwlAfeI0xX+iCEC7PLIuk1ABQLNogNgR6fo/Yzmnyh8GAUDoOdNlufv6PwrUKIp6bvM/mMmNSzyd7j+Ug6mjTXryPz02APOFY+Q/QrQni/ZH8T/nGdlZOaT2P1cqWNQ17ew/Vewb/WNv8j/7kv2lBtfwP7AlRO+xgew/K1BH+89l9D9XPLdrw4XzP4QyuOj+3/g/Z05m4IP+9j9SH3/3IdP4P/eU/h2R6fo/N2wAVxHaAUCh4J0tS0UAQHNvMSjjGARACO7RATJ7A0B637cwlTQGQK4JZSX8HgtAJeO9ZIssEEDs8UAj9CkRQHmFOE1KnBFASyFszF2kEkAjGfslfa8UQJxVRMir3xRAoPUdvqzrFECA6w7A2M8VQPsOaFt17RRASn5LBLqGFUDZN6SX5IgUQGBVoejNURVAtNoznBVlFkBmPdD+w/QUQLwm84z6bxVAa8Isy0fkFUCWvswrB1QWQKnWP8LuxBVAJEgUamINFkACr4hWXLMVQLSMux5uXhZAu0ZF6/bpFUDhjV+z2m8TQGT2PVwisRJAmkH/4YCMEkBBOLYlN24SQDSGqoX2LBFAgxC8L2zkDUDuVIZRfRwNQNIKfj0waw5AgxH7KgzhDEDNy6k2NsQJQKp3KxXjMQtAvLAa3Nb3BkB88mX7KUIHQALW6ceptwRA5SDkvP1kBkC3WxiblQcGQENKecmoaANAdGwc5sFKAkDTZHxGBuz8P1KKptwflvo/XAyGUulp+D/2vBTP4+X3PwITBRrP3vU/l7MAGjGA9T8f5YaNyQr3PxbaxIsFVvE/3j20KNCd6z8Ms+J83gHuPypGUIy1gOc/NJe35Ydw5j8ugVU5CbLpP0p/888Xr+o/FA9v9mbI7D/V4U7sqgzuP6bO07MDsPE/PzHUinBb7z+RXOW2eCrxP/rEgjPkGPI/GCBCshXx6D8f6h0FYw/sP+h5yXqYweo/Aq7q/Z7F8D/ZVfFI1+jnP+Y4zHwdw+E/iRKhAZC27T90kjwBaivpPznH8AQhC9w/YLPF2dlX7z9I/azt3V7sPy6gjel4FeA/MpKqDCdh3T/L9iG/AW7dP/kZlq23M9Q/mXVEI7ff7j8K+HuOqUrJPw==",
          "dtype": "f8"
         },
         "yaxis": "y"
        },
        {
         "hovertemplate": "Sequenz=7<br>t=%{x}<br>v(t)=%{y}<extra></extra>",
         "legendgroup": "7",
         "line": {
          "color": "#FF6692",
          "dash": "solid"
         },
         "marker": {
          "symbol": "circle"
         },
         "mode": "lines",
         "name": "7",
         "showlegend": true,
         "type": "scattergl",
         "x": {
          "bdata": "AAABAAIAAwAEAAUABgAHAAgACQAKAAsADAANAA4ADwAQABEAEgATABQAFQAWABcAGAAZABoAGwAcAB0AHgAfACAAIQAiACMAJAAlACYAJwAoACkAKgArACwALQAuAC8AMAAxADIAMwA0ADUANgA3ADgAOQA6ADsAPAA9AD4APwBAAEEAQgBDAEQARQBGAEcASABJAEoASwBMAE0ATgBPAFAAUQBSAFMAVABVAFYAVwBYAFkAWgBbAFwAXQBeAF8AYABhAGIAYwBkAGUAZgBnAGgAaQBqAGsAbABtAG4AbwBwAHEAcgBzAHQAdQB2AHcAeAB5AHoAewB8AH0AfgB/AIAAgQCCAIMAhACFAIYAhwCIAIkAigCLAA==",
          "dtype": "i2"
         },
         "xaxis": "x",
         "y": {
          "bdata": "RN4XdIcDIUC/X8nmKrwgQMO7o4TD5yBANySonux1IUDGsN31g1MhQLdCgO0ZXSFAbXv31qQgIUAtur20ZxMhQGqWzDWDQyFAk+Qbt0SMIUCFoGIL7n0hQIVdzaa24iFAybtzzwMyIkBhLnNmOmgiQGcTqNRAKiJApiih2hD4IkAipg6eytgiQK/sFvnmGCJAeOLCIQF3IkB1Kp196bIiQK9MGHr6ySJAuLqCFKPZIUBuELZdDjEiQFn3VoXDjCFAujYhW2aJIUB+W6b0p/0hQK9VfukWKSFApZ2+6eRZIUCznYNTXmYgQPuVOnQI/B9Aak/UIC82H0Bv8MArwvMfQGaxMyL9AR9A+FW2UGEwHED64RiauRkcQNq4sBj7nBpAqHXadiLSGEBfTU2MGVIYQLvosVqnQRZAlfH5YYJwFEBCJyuAiF8TQLxRm5hyUhJARAV/mQ6wEUC9WA04cEcSQMie8SsHZA9AlgXpE83ND0AuJeDRn18PQCHVIxjD3w1AqoHvW9ZOEEA7digl6l8RQKW6vpqowxBA1ryIXw0bEkAnqqM0EVcRQA6APs4WpRNA+7JuVOZqE0DhhPPOnvQUQI+U5+5HfRdADqSmjFStGED6Y4A9YlcZQBV8w5lfkhpA7Yro2/eyG0CDNp080WYcQJVMgkHEBB5A6EPe8Sd1HkClh91GBRsgQBTNt6d1VCBApFYiXMbkIEAQuEZuPP0gQPncARWmmCBA7G8pAbYYIUDBR+6G/GUgQIi8pwhMTCBAWZZiJvlWIECSmRd2JeYeQCAiQBYWUh9APtzwOE8SHkCtZ60A/ewdQHy00cELthxADb4PfXzpGkB0laFqGAQZQIGI/SRd4xhAs0lwc+qvFkChza/1NroWQJgluPUJPBZA4NhKQANkFkClH1+Ft14VQJZ5KY5BWxVAEwPioGMlFkBFS7PPo9oVQIJncQ94XxdAeeYIRliGF0DjXJDbstMZQBPDyJvDMBpA+PMDAM+9GUCry47Pnu8bQNlEpnLlYhtAwaOya1BwHUBC9Z8il4gcQAdB0lepUh1Aet9MnClkH0CThRt7gKcfQIDGo8ROgyBA/yThoY5dIEB2mSqsIWggQO0fWn4NTSFAMASMQnanIEAe0Z73Gm4hQBHHlycr1CBA9NmdEJ3eIEAK03VEHNEgQIRCTUzWJyFAaC99uY6ZIEBVcuF1XV4gQDekt7grjyBAA4EvdOK8IEBKTcn4quUgQCZGwRAZkh9ADS9ptlQgH0CS2vWGJVkeQJYOAQC8Ix5AP306O2YeHUDXG6n5NzAdQPkXl8htRBxAgvRaHnA/G0Dm8AIJhvEZQJiF61/hfxhAMIyS/KuwGEBN9SdzK9YXQAQkI1VFEhZAf4zpDHKeE0BYGXE9HC4UQIB34uwbIBFAjCYySFIcEEAaJ46w+ZoPQO4HNM6CCwxAJGyqmgs3BkDMXM0X2xcFQMcJ01r3pf4/qarI5xVd+z8MiO5OgRD8Pw==",
          "dtype": "f8"
         },
         "yaxis": "y"
        },
        {
         "hovertemplate": "Sequenz=8<br>t=%{x}<br>v(t)=%{y}<extra></extra>",
         "legendgroup": "8",
         "line": {
          "color": "#B6E880",
          "dash": "solid"
         },
         "marker": {
          "symbol": "circle"
         },
         "mode": "lines",
         "name": "8",
         "showlegend": true,
         "type": "scattergl",
         "x": {
          "bdata": "AAABAAIAAwAEAAUABgAHAAgACQAKAAsADAANAA4ADwAQABEAEgATABQAFQAWABcAGAAZABoAGwAcAB0AHgAfACAAIQAiACMAJAAlACYAJwAoACkAKgArACwALQAuAC8AMAAxADIAMwA0ADUANgA3ADgAOQA6ADsAPAA9AD4APwBAAEEAQgBDAEQARQBGAEcASABJAEoASwBMAE0ATgBPAFAAUQBSAFMAVABVAFYAVwBYAFkAWgBbAFwAXQBeAF8AYABhAGIAYwBkAGUAZgBnAGgAaQBqAGsAbABtAG4AbwBwAHEAcgBzAHQAdQB2AHcAeAB5AHoAewB8AH0AfgB/AIAAgQCCAIMAhACFAIYAhwCIAIkAigCLAA==",
          "dtype": "i2"
         },
         "xaxis": "x",
         "y": {
          "bdata": "TcW5Psv/FkDhk6gR0/4XQFCV3Bv2PxtADnECwCThG0CbfzOFo64dQEGS04Mo3R1AfTu97YUpH0BJ6P/sxGogQLG4ak3FMCBAOL4u9wdOIECEfbWL0XMgQCkuEOA8aSBAIF48KgiRIECWcRv5MaAeQOmcKl6e+R5AAPDKBDn+HkBLdHSXxWUdQFP/kV5cJRtAOaoBaISBGkBH3uDtPhEbQON81etKKRpAJiZKhp17GECub3ooiagYQOCgc9JhfxZAVAlAi/xIF0DW0joCQrgUQHPXctG1URRApsf7j6YWFEAaQaV/7GgSQLAd5JzJJhFAi+J2gl5PEUBfV+GBJlMQQAwJSbhvqgxAkBjrfg2rCkCKZ1bnjJAJQOeQIlb2NwdAkf4oE6JrAkB7/4Fs6yYFQM+JnLerIP8//UeiwZKI/D/4d6ZIK0X7PybIYw77Mfk/2lQ4xdPc8z/5UeHaz7fxP4J7btdwz/A/uYqIM7gG9T8+tuHVi+PqP/kS3c9IOe4/c1i1FqpC3D9oWa/JVH31P0K5bnVOsO8/DYjK8Nw85T9w3D2KE6zhP8I0gZkzivQ/3zZwnj/C7z85m68IKKnyP3sFSQ3syfc/44s0C6s8/T9oYiRXkgkAQPL60B0rhgBA6TC7I1MuAEAyCW74s0sEQAJZnTDEBwVAZGXocKIJBUANezZAqxkGQJpachro2QVA9Ahidz8iBUADp+qba80HQJZMLYls2gZA3JoymHpRBkATc2+GnHAFQHMyJmB8NgVAfhzs75+LAkDAUdBfYKwBQGUVLJDRof8/D1NcnAxC+D/w0HmTe7T2P38cN569ovU/LXeNHCPN9j+GJ4H5GR73PwhJwAAubfY/ZEibhc3y+T/wcRBFlLH7P1K3VsLSAABAEMdXtTNbAUCbtwE7IUICQDekxUfGRANAFobj5SY9BECp6KC2br4GQOk2QbeT1gdAsWh827QzBkAGLmulQ+IHQMaxsGY3PApAWUQufuB8B0D7p9PYBlsHQNI9blqa4ghAgHpVgFMyCEBYyH8SHd0HQGS2m9oxxQZAnLxoOX3IBEAe9WoOSQoDQPRaxmoVjwFAy6HvQG+RAkBiOkyX4HD/P0V8IP8vlP0/Iuk2/7DG+j/gd5lVbB74P+aQtK51I/g/FLulvnKX9z86d/POzo30P/G+OJA1m+0/aa6V7M8q8j+s6kq9YWTsP7g2VM7yw/Q/NS3w2E4L9j/rnLGnBLT8P1uQp3oC+QBA7yqoRa6NAED+MvYIC60DQKRq/eE2FQZA9mqsYeuUBUD+WpGYSfAFQHyFWGp5ZAhAVN0cLyAsCEBOvRy8/50KQB67Ie4BTwlATQbM9xQ0DEBmfTwPbZ4KQFluvXFLcwpAcRpHhGLyCUDo1LV12FMLQAyMM6c4uApAm0s6WxMoCUC8pnWGIc8DQFeIKS6DfQNAJd+9nK2U+z9Rwhk0pAD5P4q+w9GJdfA/E32YFWeD8T86Auz7abPkPw==",
          "dtype": "f8"
         },
         "yaxis": "y"
        },
        {
         "hovertemplate": "Sequenz=9<br>t=%{x}<br>v(t)=%{y}<extra></extra>",
         "legendgroup": "9",
         "line": {
          "color": "#FF97FF",
          "dash": "solid"
         },
         "marker": {
          "symbol": "circle"
         },
         "mode": "lines",
         "name": "9",
         "showlegend": true,
         "type": "scattergl",
         "x": {
          "bdata": "AAABAAIAAwAEAAUABgAHAAgACQAKAAsADAANAA4ADwAQABEAEgATABQAFQAWABcAGAAZABoAGwAcAB0AHgAfACAAIQAiACMAJAAlACYAJwAoACkAKgArACwALQAuAC8AMAAxADIAMwA0ADUANgA3ADgAOQA6ADsAPAA9AD4APwBAAEEAQgBDAEQARQBGAEcASABJAEoASwBMAE0ATgBPAFAAUQBSAFMAVABVAFYAVwBYAFkAWgBbAFwAXQBeAF8AYABhAGIAYwBkAGUAZgBnAGgAaQBqAGsAbABtAG4AbwBwAHEAcgBzAHQAdQB2AHcAeAB5AHoAewB8AH0AfgB/AIAAgQCCAIMAhACFAIYAhwCIAIkAigCLAA==",
          "dtype": "i2"
         },
         "xaxis": "x",
         "y": {
          "bdata": "VYBP7luHCkDgz3XTf6YQQHTnMZJAphJA/Mhu9WcYE0APuwzmh9gUQBI5bU3qchZACvdK2utPF0BcahIRE9EYQE/N7KojyxhAqeN7l4kJG0B0R6sPY6EaQCmCqvH8DR1Ah+yACXEhHUB3lTld7ZoeQLDgfVzdWx5AxSSrHaCsHkD+LmpYS/wfQH2BRIbINSBAoR23YwmnH0CKndFL9YofQE9DPnIArCBAdZ1NLgzyH0AFktF2H9EgQPr2r1JV6h9AIyIKb3vVIED/rxXfg68fQFsP+ROcECBAiOX1dxuNH0DYxftk1+wfQCsnqhhgPx9AITFKxLwoIECouTm0VW4fQA/1S9eLSR9ALcVEAtL8H0AmKvu0yskeQF0A/zPY0x1AWF18fnf+HUDHbfHhyNMcQD8PChIHNh1A8pwqre0pHUAHMhb5994bQBuL4c1CDRxAT4iblOPFGkBtINKT7/gaQBYaEiYX5hlAmYS/0fFwGEC4K/Fra9gXQBLRdQ2r9RZAJzY4K6QEFkCWs443gpUUQGFf2TIMRhRAyupfd6TsFEAy9pQ7T6ITQBE0y0zfHBRAdFoZIgTdFEDu3fulrSgTQEpAwEToYBNAaega9FwFE0CYl13c9eERQHy/RxhW1BBAXL02wAwuEEA4he9BmGIPQOJpb/J+uBFApdLIPj/bEEBaZA2co14RQPCGf+tykhJAcTj145LRE0B319UBwkQUQIudk6aNThRApOjprWBwFEBrW6OpLfsUQLZfwPnrDxVALQgvqFvwEkAsle0L57sSQD5/y/XypxFAzHfjsOwYEUD+VUx3wSsQQIHvA7koxQxAhaoOH9+HCkAqi3iMkqwIQBNdyxqN4QdAcBFKaYQJBUAwhi2SigQGQAshTIyZLAdAmm3dluAjBkBq2d5lnCUIQBiRwaQ6XgdAOXXTbOKKC0DKi7sP1CQKQIIghwuP0QxAyxfUQDa9CkAR4eNU474LQAYKmLgY6Q5Apk68rTO1DkABDWDKVAkNQEGCTOwg/A9Ar0U8UYEQEECjUUqkVTcQQHAHEtCZoA1ANYdgBw3ODUA5XIxzbiIPQMK0PbtGQw1A6KGe/GwqCUDwQ2FOnLoJQBLb0PkJbQlAs1jqD4VkBECQfAx990MEQDIcRVn6fANAZO7mNx0hAUCrK6WDmxoAQIPubHiGK/s/zmiic/AR+D8HZSTOj2/3P1YXAkdw8vY/5alUZ5KJ9D+yWso2GHDxP1YKxyCBufA/OLU38U2m6j8WvMmlm0rxP4JmOKdjr+k/KOvvTUBL6z8MtVxKdansPwMCJFCHte8/3W6Olm9Z8D+wh3SIJwPsP0Irt1+n1vA/4R+/eGQv4j8WBA5W9bPlP9vJgSWh2+w/bsLi9jbd5j+maN7zzZfZP+qnpEP+qvA/ceXARrYv2z/XeuqBGu/mP9NzSJ+g3+Y/uvoKi4Yr5D+IrFbZJ4HiP6KYqTQqXOA/EMKzLUYC4T+FdCE7bjDlPw==",
          "dtype": "f8"
         },
         "yaxis": "y"
        },
        {
         "hovertemplate": "Sequenz=10<br>t=%{x}<br>v(t)=%{y}<extra></extra>",
         "legendgroup": "10",
         "line": {
          "color": "#FECB52",
          "dash": "solid"
         },
         "marker": {
          "symbol": "circle"
         },
         "mode": "lines",
         "name": "10",
         "showlegend": true,
         "type": "scattergl",
         "x": {
          "bdata": "AAABAAIAAwAEAAUABgAHAAgACQAKAAsADAANAA4ADwAQABEAEgATABQAFQAWABcAGAAZABoAGwAcAB0AHgAfACAAIQAiACMAJAAlACYAJwAoACkAKgArACwALQAuAC8AMAAxADIAMwA0ADUANgA3ADgAOQA6ADsAPAA9AD4APwBAAEEAQgBDAEQARQBGAEcASABJAEoASwBMAE0ATgBPAFAAUQBSAFMAVABVAFYAVwBYAFkAWgBbAFwAXQBeAF8AYABhAGIAYwBkAGUAZgBnAGgAaQBqAGsAbABtAG4AbwBwAHEAcgBzAHQAdQB2AHcAeAB5AHoAewB8AH0AfgB/AIAAgQCCAIMAhACFAIYAhwCIAIkAigCLAA==",
          "dtype": "i2"
         },
         "xaxis": "x",
         "y": {
          "bdata": "2Z48922bDUDfPMKOgLcVQFlGeChsSRdAPdXF2tRdGUCa0lNKz+MaQKzmUiwsvRxAKiKcASI6HUC+zLCoMDQeQKuVOfeq9RxAzRYg3VxRHkBwjnBf4WIeQAM77o0Tbh5AUgkY482YH0Cfv1QrRP0fQCzsuZdAGh9AAeaU9pzrHkCBo8Ioa/weQMQxshgYEyBAP9llBOY5H0DjgULA+l4gQOvsLnz/Px9AqUbT+cKTH0BAFR9XrZEfQDrKJrgM+h5AdbKdtTQHIEAedKD1dTAgQKiiAVhkjB9A+0VDu7IEIEBLkUCbQdEfQKmfIi6EvB5AMfTF37JgHkA2dagEtTYfQF0tpcNZ9h5A4r3UM1wrHkCKqCEqjZwcQCoCggUHMBxAfNDARoThG0DI/lD0T2IcQEUtp8yxmhtAx6Srrhx8GUAOSirxbNoZQDMyeeePmhhAY4OQFKWkF0DtQMSFz/4XQKMuFtDd8hZAqgmrhEavFUDGwjcDTqcWQD7eX4d+jRRAmx3SwmzvE0DBJKyh3f4SQG1xJEP0whNAgDVjEm3EE0Bo5ZuGf/sTQGe16Y5XfBNAZKlGpUGEE0BRmzQI/vASQF5Z6Q0U6RJAoERhVETwEUA1vlT+QxQTQK+L4T3faxJA9HeB0KzlE0D8CnF2z6wSQOna8qolGhNA+SjwFlpHE0AkjjtzDMYSQOnX5Gb+lRJA5GObmwjUEkCFT9Iws+cSQMvVAKVUShFAAj34vRbpEECb2tLu3AMSQGg/N8i4NxFAW6YMJFimDUDI+toZEbkNQHZpoIEffQtA0Gb4F773CkC3yMwY3LQJQBix+E7RGQdAk83rf5OwBEA6R6WznekDQDfp3B/fVP8/PAVvEGDI/z+xvrNyEc3+Pw3EHFXxbQBABs8kBMLsAUAjFdsV3A/8P3hjfCOiVvs/FL//hQcl/j+eO0yYUpEAQP+qXCnB9vw/5j3Xrjz1AkAhbuXaXq8BQAWDiRpN9f8/IJjAmdPzAEBcxnDxqV8BQG57aAE6yQFAlLuKB140/D/fabEfnKf8P2Qp/NWr6vw/HrRavK+a9T8Y32/iY+P0P26vMKOlgO8/scGFnr1i8z/6WFiea8PyPyxzSUOc2/U/elkgEPPR8j+YJrueerHlP3UhXdWoBeM/XOOpfUxP5z/BLUZlISbxPwRTvaPCce0/ZhSh1hb16T8cSeZ61k3rP6MslR48cuo/RJTdyOH06T+2DeoGmfflP0QMKv1OzOI/mk4jC4qb3T8QGBFe7n3gPw4eg7/6/Og/Wk6YF6zY6j+dbNnIEXjyP+wRn3wbvPs/4XSVvTW2+z+2XSJ3hLUAQKMl8mHOKwFAFNxlma3IAEDnlUmyW4ECQMCwM5syDQBAKncEjYke/D+4FcYWcBYAQIYWeGkS1fw/0+XRjsnN/T/dQq9yilb9P5n25NNg+/k/FDoIkRge9j/ht/MpbFr1PyETi2ccsPA/Iyvuk9lP8z+YcM5NH7jsPw==",
          "dtype": "f8"
         },
         "yaxis": "y"
        },
        {
         "hovertemplate": "Sequenz=11<br>t=%{x}<br>v(t)=%{y}<extra></extra>",
         "legendgroup": "11",
         "line": {
          "color": "#636efa",
          "dash": "solid"
         },
         "marker": {
          "symbol": "circle"
         },
         "mode": "lines",
         "name": "11",
         "showlegend": true,
         "type": "scattergl",
         "x": {
          "bdata": "AAABAAIAAwAEAAUABgAHAAgACQAKAAsADAANAA4ADwAQABEAEgATABQAFQAWABcAGAAZABoAGwAcAB0AHgAfACAAIQAiACMAJAAlACYAJwAoACkAKgArACwALQAuAC8AMAAxADIAMwA0ADUANgA3ADgAOQA6ADsAPAA9AD4APwBAAEEAQgBDAEQARQBGAEcASABJAEoASwBMAE0ATgBPAFAAUQBSAFMAVABVAFYAVwBYAFkAWgBbAFwAXQBeAF8AYABhAGIAYwBkAGUAZgBnAGgAaQBqAGsAbABtAG4AbwBwAHEAcgBzAHQAdQB2AHcAeAB5AHoAewB8AH0AfgB/AIAAgQCCAIMAhACFAIYAhwCIAIkAigCLAA==",
          "dtype": "i2"
         },
         "xaxis": "x",
         "y": {
          "bdata": "5jbc7kggDEAbXgsJtUANQFNg/yRzwxBApz2kWXnIE0DpK6iitUIVQONNm1IPnxZAecPI+LzWGUA8MwMaOCIaQA38g8gn0hxA5AGiGmPGHEAfGij5sJ0eQIKUnSMVSh5AEOdd2I5/HkBKmHoRcNAeQAiUb49UciBAoshxcF2rH0BhcEVoVHggQOf/YFy+eCBAmmZpA31PIECTKIvC/I0fQDphXYxJtx9AaZSeoMo0IEAoYgNsQ3EgQBExNTZF6h5AxDWZYTleHkDcTk25s0keQF9jwJaA1h1ABDQ4XUO3HUAqhXcaG+0cQOIvML71FhxAsewNxoIbHECL6X7MG7AbQNY5EIwtZRtACl5OAibCGkBebjIfLKAYQDCLbBeXMhhA+AmfEdRfF0CGiJafZHAVQAnPyF0KFBRAv+8/PjTpEUC5j6Z0N4gRQBTlKwQ7zA5AheuSvlVDDUDlHUJ8cBgKQGoidG1r4QVACKbiASun/T/Ju+gzXk/zP5uChbx2e+0/Lx5/AIb38D8m6rS+21TrP6AlAsNm6/I/WF8wvvUF+z+Eg+hpOpX2P1MNAgX+Gfg/dJwYU0459T+n5mIJJsr1P1hNf7NDGfc/PrC9L2e6/z+vknsHZqkDQC0C/PyAJgVARBuAwjtUBkCYtNuhZ7MGQESTbl1u0ApAQdCHo/nJCUABpa8domAMQLL1jnv4kg9AK4/53DOnD0DqK7fHpWkQQK6/19exeQ1AibrIU8/6C0DmpikXhe0LQPKVLUB1zQhAG6et/NwCCkBtot0/tCgGQNqtNE64YAVAMt1iVhguBUBxP7Lw3eoBQEJu3ZLOuwJALf1HtH2lAEAK1lXTZsoCQGbtU7R8EgVANJaMX2BpBkDhxt83kikFQM4pFZ9R8QZAY3tWfGJECUB2zrJxLIgLQJzU6MM5ygtAtji/TTEuDkACnDLESv8NQIPQjOibNRBAWoCRwBrDD0AOFVnRJK4QQLE1WrnASBFAYSz1dj0oEUADH+AsayQSQJeoUJMfXRNAqjbS4a4nEkBVkO1xjIUTQJEWMZjdbRJAYkeObXgVEkAT0x1/43ISQDJ0GzxiwRJA+JD7raWvEkCNND0GV78RQLaI+KPe7RJAMT9eODsJEUCUS7KaxnYSQFy1ZMXzIBJAZoVQBkOeEkA/3DU+sJQSQH9VPktMuxFAtZvLE8KSEUDHuYuhLOkQQBmejoiwNxFAZM8GC2h+EUDdxPT97OwQQFqfYG6TpBBAEqGN5MKwEEBpL5MNAJIPQIDJIXp+wRBAjGmLLaXYDkCpRvr1c1cNQEucyHLbjAxAtteQ9qOTDkC8cwKVzxoLQOuykHWYqwxAGtJdYx7CC0Bqhu17rsUKQOAXMMnQ5QhAHv0fdZCbBEDpioQgT7MCQKOSn1UVwANA1kohJrHoAUDqlDD597r7P6+gjsUFn/w/dn41JH+O8T9GAY5LvcjxP6KaU5YwoOc/hfNG7WXY6T+WICIlz+LhPw==",
          "dtype": "f8"
         },
         "yaxis": "y"
        },
        {
         "hovertemplate": "Sequenz=12<br>t=%{x}<br>v(t)=%{y}<extra></extra>",
         "legendgroup": "12",
         "line": {
          "color": "#EF553B",
          "dash": "solid"
         },
         "marker": {
          "symbol": "circle"
         },
         "mode": "lines",
         "name": "12",
         "showlegend": true,
         "type": "scattergl",
         "x": {
          "bdata": "AAABAAIAAwAEAAUABgAHAAgACQAKAAsADAANAA4ADwAQABEAEgATABQAFQAWABcAGAAZABoAGwAcAB0AHgAfACAAIQAiACMAJAAlACYAJwAoACkAKgArACwALQAuAC8AMAAxADIAMwA0ADUANgA3ADgAOQA6ADsAPAA9AD4APwBAAEEAQgBDAEQARQBGAEcASABJAEoASwBMAE0ATgBPAFAAUQBSAFMAVABVAFYAVwBYAFkAWgBbAFwAXQBeAF8AYABhAGIAYwBkAGUAZgBnAGgAaQBqAGsAbABtAG4AbwBwAHEAcgBzAHQAdQB2AHcAeAB5AHoAewB8AH0AfgB/AIAAgQCCAIMAhACFAIYAhwCIAIkAigCLAA==",
          "dtype": "i2"
         },
         "xaxis": "x",
         "y": {
          "bdata": "OUwC46QTHUBNrLnMoSsdQH6QIuFqYx1A5AL0l4KsHUAid2R41lofQGk77qMnYx9A1OccxDmPH0DjkLV6ebofQNruQ//IHCBArYq7fxv0IEBTx8XsUUIhQAy/Q83kuSBAYIQ7SfvbIUDjJBYxRUAhQAT1mZfiPSJAIVNjEYuEIkBc3pg98uYhQALudJvsqSJAdyVQnwDnIUABFOkKv9AiQHlRF7pZcCJA9XxGVe6gIkBeUoXa/4giQL7aeAgGwyFAnMPBGb5zIkCfyKGYTHkiQD/E1vnQMSJAQlfhYrWuIUCkWDGFS+UhQLVqCYwEriFAMKIlb1BqIUDBZoyxUBshQLME/5DJgSBAEfPlU7i7H0D0W/O77D0fQBX1C/MIOh5AzdExRLceHUAXHSccvEIdQH4vfeRQFxxAjcy1lI++G0DS3D9viKkbQCq0UJM3HBpAWOzE6dlIG0BOmp5v+U0ZQBLRLbi0qxhAkWF+TP0yGEBkKSi+6PAYQLWuhR8icxdAB2XtYIubF0BgRO/L/p8XQPzLWpLWUBdA/wofkKjFF0C5K7qVw/8WQJ55N2+uixZAr63vksmtFkDSdgi+tWoXQDWFVImUkBZA7c4qKtLbFUC06yx/3z0WQCher+4CxhVAx1lRTbhWFkAkgmJL3q8WQLK8UKcyABdAVK8B3LnYFUDF6A8050MVQPdpbYUb5xRAfJdoKLHzFEAf7VTnRUUWQN7wQg7r0xVAoFb4DVR1FUAWXO5CkpgVQGC2PTLPgRZAmMtVSMQFFUCkifipnBMUQLXfBZZc2xNAeEa0c1/CE0DcjZ/MzY8TQD2RJopsSBFAMPE/aZQHEkA0FygPYt8QQCn/PEE1KRBA7DupW6DLDkCZuzksdv0PQBAc97oncxBAE13Wut4VEECOMzZk/FQQQP91Yl6tkxJAns9ibiT/EkDbkFUtStkSQPzumc3OuxNAJDvJA+iaFEDgtiBytjQWQGIz8MpxnBZAolTalMX8GEBR+otBbdkZQDhUymsnVRpAynD5rJT+GkDe3nbC32AbQImCuoztCx1A8PdJSyIoHkDCgxdV2tAdQDPpQyoJkx9AdqPZbvJBH0DcVJ5B6U0gQK+cPwykfCBAa9tkvLmQIEA5WsnlKMAgQJlVzemlIiBAw/5OeHS8IEA9gT3GOvsgQKvvc3yfIyFA+MxJ9qttIEDJhMkfZS4gQKc0xnpyUyBAM+nUoJ0BIEBWYk1AXpAeQKqm6BzIFh5AsBSKEKboHkDxSYm9HwceQBQ/kmw/Rh1AdRg4Jy2IHED4ftLyRBscQKR201yy1RpAuAoPTLkDGkDogV/wrAcYQODj//zYcxdAqzOSdS6NFkDFEeZjcCMVQCKsyIrWdhVABrrvpK4IFEDRqkxA7RITQKvv7/9E/w9AkQJr/cr3DEAbwq+ULW0JQKNeXdyWNglAMWUfgIVEBEC/7KdJpxQDQGIZksuOSP8/h0DHcFVYAkC69ZbULvH8Pw==",
          "dtype": "f8"
         },
         "yaxis": "y"
        },
        {
         "hovertemplate": "Sequenz=13<br>t=%{x}<br>v(t)=%{y}<extra></extra>",
         "legendgroup": "13",
         "line": {
          "color": "#00cc96",
          "dash": "solid"
         },
         "marker": {
          "symbol": "circle"
         },
         "mode": "lines",
         "name": "13",
         "showlegend": true,
         "type": "scattergl",
         "x": {
          "bdata": "AAABAAIAAwAEAAUABgAHAAgACQAKAAsADAANAA4ADwAQABEAEgATABQAFQAWABcAGAAZABoAGwAcAB0AHgAfACAAIQAiACMAJAAlACYAJwAoACkAKgArACwALQAuAC8AMAAxADIAMwA0ADUANgA3ADgAOQA6ADsAPAA9AD4APwBAAEEAQgBDAEQARQBGAEcASABJAEoASwBMAE0ATgBPAFAAUQBSAFMAVABVAFYAVwBYAFkAWgBbAFwAXQBeAF8AYABhAGIAYwBkAGUAZgBnAGgAaQBqAGsAbABtAG4AbwBwAHEAcgBzAHQAdQB2AHcAeAB5AHoAewB8AH0AfgB/AIAAgQCCAIMAhACFAIYAhwCIAIkAigCLAA==",
          "dtype": "i2"
         },
         "xaxis": "x",
         "y": {
          "bdata": "pf2JPn9VIEDQXbKx7NceQAC4uMjcrx5A5L/EH0+ZH0B+4BiE5yMfQB/dPCuL4B9Ab7yySzLTH0C4Nv7aeXkgQJt8nU3x7CBAeYEwWyNSIEA6bOAodQchQA+jy/hp1SBAXnwLBO8zIUC7G5RVqzghQF42iLWioSBAut1WEUiyIEBq7f8J5nchQOZ7LF2OICFAcmQ/5TdQIUBsWNLaF/AgQPOqOmbHsiBAIuQY53CqIEAHHgACkUIhQLMiWpGCyyBAp4QjhFlsIEDvApcghNYgQH5+pUF1vCBAjPKIlmu+IEBSjDjlOdsgQD1y1LRhcCBAbK61okhPIEB3m56ZUtAgQN2oLu1eOyBAwWX2l8xCIEBdE0CyDS0gQLIOhOy+Jh9AbSwXJlgyIEBTaCoDKKUfQAu/eOFPCSBAMGzglJXjHUAIxnDiHrYeQGzD0ZZAox1AHVg+27IHHUB1wEr+cB8dQKjI3H8o/BtAhP4ERW8gHECPnGj+YkMaQFjKjNgD5BhAEkvkFgLIF0AQAVe/nI0VQF/uSXjISBVAeeVtGEzyE0DOVzOpsvgQQAJB3mYKjg9AVO+QF4CHDUBYrYOIBAYIQPK6NspT8QZA8xUULOFFBkD4eU2BfH4HQNV/p9iQAAxAE32Dz66tC0CwjEjCnEgQQD3bpoKEaRBAAPbP/hcqEEAvCZAwzmwRQC98xiuEQhJAPKV8tmlQE0BQs2civRMTQHa+bXwqfBRAMvnCZ99pFEAK2lGPe7UUQFMBGESmihNAeIDh6wMhFEBfvlpVUPwSQOD/tPSc4BBA0L+nx/M/D0ArDJJnOy0OQGnwYWtBIgxArlQGKwXLCkC3K/IjZDoIQH2Nd/idnAVAf9J58IQYCEA/lgq7mHAGQHBoeLYANwdAB5YdyDLCC0Dg08xms1ANQPOZcr7tpA1AQij5ru5HD0AqX/7+e3kRQA9wkWmRBxJA4+Z0VEbqEUBu3c/IqC4UQJuX4n9PJRNANQDal+BRFUAjyOnrPVAVQEtLCbQQoxVAETAAwXP3FkByIlJI9ZYYQPo9lir9dhhAqE28L3QvGEBg6Vymg/AYQP5GRwSA8RhAJhHVSHCyGUDfpdi7dmIaQD7tINCe9hhAnFxVnIQJGkAYftQiWYAaQAOSZTybgBlA2jQlmFVcGkDDYWQhMAUZQBHtazJbnxdArBiW5Ak2F0Bx3d2yi+UXQA2y/DZkQBdA8dx8GSFkF0BSrddc2RYVQBya9yG/YhVAfpnS8Nu+FECLJ0Z11VAUQKU9RUz6UxNAe+O/gc23EkCO3rdgnrwRQLlyPTHaYxFAKn2+j4pmDUC1vbM1ntsPQK3yMO5zWwtA5dBogIPyCECZ0wIgVXcIQDdwuvucqghA6AsRAEryBkA89Wze13kBQCoLwAiUOgNAIIqRGTCKAEBNLvhoHqH8PyQ+fFv7Ifo/jRoe9FS99D+XLn3sxsH1P3YsMgMD3wlADqgAeA98DEDuP9PqWYkOQA==",
          "dtype": "f8"
         },
         "yaxis": "y"
        },
        {
         "hovertemplate": "Sequenz=14<br>t=%{x}<br>v(t)=%{y}<extra></extra>",
         "legendgroup": "14",
         "line": {
          "color": "#ab63fa",
          "dash": "solid"
         },
         "marker": {
          "symbol": "circle"
         },
         "mode": "lines",
         "name": "14",
         "showlegend": true,
         "type": "scattergl",
         "x": {
          "bdata": "AAABAAIAAwAEAAUABgAHAAgACQAKAAsADAANAA4ADwAQABEAEgATABQAFQAWABcAGAAZABoAGwAcAB0AHgAfACAAIQAiACMAJAAlACYAJwAoACkAKgArACwALQAuAC8AMAAxADIAMwA0ADUANgA3ADgAOQA6ADsAPAA9AD4APwBAAEEAQgBDAEQARQBGAEcASABJAEoASwBMAE0ATgBPAFAAUQBSAFMAVABVAFYAVwBYAFkAWgBbAFwAXQBeAF8AYABhAGIAYwBkAGUAZgBnAGgAaQBqAGsAbABtAG4AbwBwAHEAcgBzAHQAdQB2AHcAeAB5AHoAewB8AH0AfgB/AIAAgQCCAIMAhACFAIYAhwCIAIkAigCLAA==",
          "dtype": "i2"
         },
         "xaxis": "x",
         "y": {
          "bdata": "miSGIbVWIkDIZ9IBvJohQJtLZZGnwCFAA1JkXHg+IkCcW6na7Y8iQDNp4+xVISJACnbgWyleIkCoPZRPUvQhQMh3rMYigSJA+CH70Y1AIkDwwU+kZOQiQCnxcwuf9yFAI/df7qVJIkAfNN8BnGwiQDihAXtICCJAk5BHcJpOIkBBm5Fno3UhQJBo6UKnNCFAAGk1e3XXIEAk7Bdii7EgQOwEawNmnB9AWAE9sbSHHkABMbmuIcEeQNOAAbSPwxxAuI4dh1dBHUDOKnrs4G4aQFlBD3eNNRtARUDa7qHfGUA2kbnfQoMYQJMK+mi4QRdAjpiO9Ye+FEAd74UgJW0UQBfKBmjsLxNAjf2CRwCyEUB92Y6dsgERQMFMMmK59Q5AMf7aVYpKDUBSyEtHQoAKQDA5rWiNgQdAMzikYXpzB0DnAlRJmDsGQCZYeg5BSAZATs/3pMWdAkC5vC/peksBQFwdGt+wXAFARN2Skp55AkAbJfW6T8cAQGPY6XUaSQVAMel+7nTMBEAjHnubNagEQNx6fSHD0wNAvL2Rk976BkBEVJverbsFQMo1Vt9TMghACnqSK9ufCUCP5wWUucQJQB4UyZVWYgtANysTSFUIC0ABWrsqC0EOQPbFV0GtbAxAOQnIygkdDkA3ONRRlxcQQKbjjpmVPRFACX2iHHO3D0CEB5VRkjIQQIUaxcnYdQ9AAoADwMj8EEDQzSX9VckQQHYYfw5SwQ1AeGayUIuQDkA5rnhM/hsNQFsNogzQ0w1AzEcp23ALD0AXU1ITzQ4OQEbAL/xZWw9AHXiJF76ODkAyZfUu3wcMQMKCR+SNCAxAUcXr+60iDUDmIpKCmMgNQFqEGuWGWAxAfFwjKUUvEEC8U2jojQIPQPml2eRbQA5AArEkO1EBEEA64drHsJgOQP4HtalFeRBAZMEsyHPuDUA4GhMH6r0PQH4pZup0xQ9AKJ5Q97imEEDCZDUugBwQQP5GHE7EQxBACd0kZutKD0ChHnRhnRQOQN2om8+SPw1AxhMgka2NDkDcimzyL6wOQNLmJyT1uAxAEjl7dv5FEECm6e7X31YQQM/nMnxZYBBA+gjlv0agDkBUU+RuOfoQQJ2rFK/33BBAzHDbW7bGEUAp67AjqIUQQJq0JAJewRBAzEnHIACJEkCNJ4rUuKcSQJm06jZBLBFAFCmyqjh9EUCfS8bl5ZsRQLZaTGP0BBNAcmSnCwKNEUCTHPHQjfYQQN7BC0+9ZhJAIqutlyltEEDnv88HrUIQQNHExVibUhBAcFHQN9lhEEAFTXlkLBYOQI3Idqyy9QxAcuY3Bd1RDkAksLLbV4AMQIdh/58NFQpABOm5935ICEAYJWuLJB4JQNAPYi2uOwdAzKjsiPQMA0ALWZJsFD4DQPv4H6vUvANAcAAhc+OVAECCwenNprsBQLf4Km/6//o/OPMHFTqC9j+k/4OSL+L5P7AsnsgRmPM/PJlL0OtS9D+t/HtbbsDuPw==",
          "dtype": "f8"
         },
         "yaxis": "y"
        },
        {
         "hovertemplate": "Sequenz=15<br>t=%{x}<br>v(t)=%{y}<extra></extra>",
         "legendgroup": "15",
         "line": {
          "color": "#FFA15A",
          "dash": "solid"
         },
         "marker": {
          "symbol": "circle"
         },
         "mode": "lines",
         "name": "15",
         "showlegend": true,
         "type": "scattergl",
         "x": {
          "bdata": "AAABAAIAAwAEAAUABgAHAAgACQAKAAsADAANAA4ADwAQABEAEgATABQAFQAWABcAGAAZABoAGwAcAB0AHgAfACAAIQAiACMAJAAlACYAJwAoACkAKgArACwALQAuAC8AMAAxADIAMwA0ADUANgA3ADgAOQA6ADsAPAA9AD4APwBAAEEAQgBDAEQARQBGAEcASABJAEoASwBMAE0ATgBPAFAAUQBSAFMAVABVAFYAVwBYAFkAWgBbAFwAXQBeAF8AYABhAGIAYwBkAGUAZgBnAGgAaQBqAGsAbABtAG4AbwBwAHEAcgBzAHQAdQB2AHcAeAB5AHoAewB8AH0AfgB/AIAAgQCCAIMAhACFAIYAhwCIAIkAigCLAA==",
          "dtype": "i2"
         },
         "xaxis": "x",
         "y": {
          "bdata": "a4DCrPtLG0B0j1z6G+kaQOgdkI6rqhpAv/NNptOFHEDPjSCn0HsbQM3E8ZLTKRxAfnkm2qMbHUAf2ZSTKIYcQGXEkFeIRh5AgM/67CuTHUCUxRRjwMMfQNZzXNnhsh5AONjFCKeqH0AUhZDFaM8gQHYPKXzD+yBAoDpn4PwUIUCuA4R5FWMhQB6D8ApF0yBASG6f2ZLfIUBOZfYKp64hQLi5pFqznSFA+EkwCaj0IUD+C+l9fg8iQGg+cd4rOyJAvSX+RQjuIkCPHQJ29/oiQGDQTk3eEyNAETWJCeh0IkBbZvgGT8IiQD0WdEExbSNAynamwSboIkDc6Me3eqMiQK9fzHpWIiJAZk0jblWQIUDZT/zScSMhQMviAzB9SiFAbngJzqAcIUDTabXI+lggQBXRbaHityBAntMxOVhjH0AQC4eGf2keQA4oAR2U+BxAZTPjkNG2G0B/Kv1UDXcbQPYOaKr+vBlAXviIKUC9GEBELj1Mng0YQMJhv0iI2BZAqEBCKdvuFUD1R9AfohwVQJOqyaQ+jBNA0dCW+UmvEkBplOVeqQ4UQNVLa/X74BNAqeLSalGPE0B43EfzPOgTQDRdOFraxhVAwPukUFx1FED66joqx4oVQMK4LC5kDRdARMUFaOzqF0DJmxc+WlIYQDZqQBSavxlA5kP9bPqfGUCJhZFnXWoZQMC0cdUzzxtA2pVMZSNlHEDd3Io7OJIcQBuk1gL3BhxAXdIty3E6HUCrKU4ZVYMcQIokgOB5JxxAWtP8B/VWHEAOlTU1WRQcQKdtD2ZEpxtAVspdGwrDGUAsz/FWKhkZQB5vN7HNEBhAYUr1nGwpFkAY9w/yPVoWQJkP2eeTWBVAHK7WG96nE0DheN1gK78TQHKUx615XRNApwJFvyQ+E0CJ/rFNd40TQG7oiHd7mRJADgA8m0soFEB/dOkzoe4UQC1gz56XVBVAFrTwoum5FUBM4RrzR0IXQP0MBtohwBdAacepuPMAGkADG12lndcaQE467n8YMBtAjuSVicPWG0DI9HBY9bccQN+3LrxhXx1AeO6LYafpHkCionDeNCIgQF+474OldCBAStn9X3InIEC0VHjVwbsgQCFittFiSSFA4QCR6/x9IUB4luixTIEhQPlDoq1c0iBAaQje+jlUIUCCgrlAaRAhQHfKgoaM6SBAHSQL40UaIUDQLJMfnX4gQEfE9zoQ0yBAgA97E4S6IECXEOA9/FsgQFQV/zuCtB9Aic3m9yaSHkAa7LouqUgfQP8HggupPR1AMqcmYM4vHED121wtCYIbQIboCHszRBtAfBsPg5OKGkAvufS9QfMZQNx4chsISRhAAyCQN8c5GEBypN8jkhwVQN+QVVLRlRRA0HO8lVkxE0CRPxgSWRASQLHLSzq+SRBAV/Ji0NkBEEAl672NusMOQLw/Whjt4QxA+F1HcQ4/CEDyQqWOlf4GQIBE8DcTjQNAaoMZYxIm/T+XJVY7SWb1Pw==",
          "dtype": "f8"
         },
         "yaxis": "y"
        },
        {
         "hovertemplate": "Sequenz=16<br>t=%{x}<br>v(t)=%{y}<extra></extra>",
         "legendgroup": "16",
         "line": {
          "color": "#19d3f3",
          "dash": "solid"
         },
         "marker": {
          "symbol": "circle"
         },
         "mode": "lines",
         "name": "16",
         "showlegend": true,
         "type": "scattergl",
         "x": {
          "bdata": "AAABAAIAAwAEAAUABgAHAAgACQAKAAsADAANAA4ADwAQABEAEgATABQAFQAWABcAGAAZABoAGwAcAB0AHgAfACAAIQAiACMAJAAlACYAJwAoACkAKgArACwALQAuAC8AMAAxADIAMwA0ADUANgA3ADgAOQA6ADsAPAA9AD4APwBAAEEAQgBDAEQARQBGAEcASABJAEoASwBMAE0ATgBPAFAAUQBSAFMAVABVAFYAVwBYAFkAWgBbAFwAXQBeAF8AYABhAGIAYwBkAGUAZgBnAGgAaQBqAGsAbABtAG4AbwBwAHEAcgBzAHQAdQB2AHcAeAB5AHoAewB8AH0AfgB/AIAAgQCCAIMAhACFAIYAhwCIAIkAigCLAA==",
          "dtype": "i2"
         },
         "xaxis": "x",
         "y": {
          "bdata": "9qawFQjRIkBFJEVXWHgiQFqokHhNEiJARR+5/OgqI0DKnRdV2j8jQGc8jRYDSCNATvdiVLXMI0CEUhOXY8QjQGKpmYt45iNA6GEil3NKJEAy+Vlg2CUkQID4bcFqIyNAcMVzYSqQIkC3xSj57MoiQKUvnkZn5yFAZrKqtj/HIUA0QH4EdIYhQJifIk8mbiFAhDpXAnqNIEAu1IEFII4fQJaWi6KCPSBAyZ2C52ofIEAU1wl5xKkeQEBaAVI3NB5ATMepzIKMHkDOtRMcfUQdQKExfytIiB1AKR2czXWeHEAEXbxTkgAdQPLLVp9TqBtAbHVsWZKmGUDSwe/EDHAXQOnvleGdcBZA6T/xoiUZE0Ap5OO62ncTQCV+5W260BFAnMn/wdtND0C65zFlka0NQG63UH218wpAHuV6N6RhBEAJf8wBCGUAQNBFpVOdOf8/zOgarH4O/j+RGjSMKMnyP8ynaJWsJPM/3sdE6Krg7z/sB/ImhR3uP454yk8mg/c/cH6MKzT3+T8rdC2yfKzlP23KvanaEtw/YQnB49Cx9T8sPukQihLwP70m3jcGru8/O9FKJbgv9j+nZ8dcZHL5P7bqEQbxOPk/XNBqJmhgAEBzQSbtx/ICQNUtJODXRQJAMsbYyrYMBEB7ZH7JMGMGQBL/L1+XFgpAIbNuE49aCkBQC3OrDaoLQN0nr4RcQw1AoXEp+cnJC0Anu07hxPsNQCReLzO3Lg5A1byBB2xwDkD12HnoPOQKQNr16d8/vQtA/TcOIIofB0BkiGR4DU0HQCBA3EP5PgdAvcW7zmN3AkDlrZHUCaMAQAYkXSXsMf8/8wc6tj/QAUCGEIU7uBUBQM7kDUAIfAFAIZLuDDASAkAxet9f70IDQF9IacaAsQVA+TKyhz+YAkAEBwDrI3gFQOiFbXcgPQdAlgOfxqFUBEC7npup9kgHQAanQ8WuJwlAADkEgN+1CUDK4JpNnf4JQBOf7jZkXQtAXtWBzy/4DEBVGqzxHKkNQGl2ydHvTg1ARMwJcySFEECHn3CjJS4RQEDJPFBKQBFAPyQgi+rvEUAlGUuMXAASQK/CxlLykBJAOY1BVhg7EkAqlH2EGSkTQHcXq7hwrBNAsAQ8gfFpFED8YMuVFEcVQGvtV8VoBxRAosN7lOPaFECJbk17ULIVQCIsy5S2LBVArZSs1BPzE0Aoh8k1+pAUQEaBy2QvdBVAro60867YE0B18V3izokTQEoZduzXphRAHcePAAfJE0BF/PCmcn0UQBqoOpRLMhNA3CN2mFSAEkC/CalWMjgSQLjBBG+gIRNAx4OWEu9VEUBe/7wtWggSQMrpQ6JGfw9Alt0ZpeKdEEAnZAFLY44PQLtAvcy2pQ1Aa/f9b40eDkDiTbQY1pcIQGmi4bB1JwlAm4bqhHkOBkD4J+u59icEQJjmdOhtowRAItPhMrcsAUDfW1rSnir8P3jfcmT9L/s/ItbJXS3U+D8qZAeKWQbpPw==",
          "dtype": "f8"
         },
         "yaxis": "y"
        },
        {
         "hovertemplate": "Sequenz=17<br>t=%{x}<br>v(t)=%{y}<extra></extra>",
         "legendgroup": "17",
         "line": {
          "color": "#FF6692",
          "dash": "solid"
         },
         "marker": {
          "symbol": "circle"
         },
         "mode": "lines",
         "name": "17",
         "showlegend": true,
         "type": "scattergl",
         "x": {
          "bdata": "AAABAAIAAwAEAAUABgAHAAgACQAKAAsADAANAA4ADwAQABEAEgATABQAFQAWABcAGAAZABoAGwAcAB0AHgAfACAAIQAiACMAJAAlACYAJwAoACkAKgArACwALQAuAC8AMAAxADIAMwA0ADUANgA3ADgAOQA6ADsAPAA9AD4APwBAAEEAQgBDAEQARQBGAEcASABJAEoASwBMAE0ATgBPAFAAUQBSAFMAVABVAFYAVwBYAFkAWgBbAFwAXQBeAF8AYABhAGIAYwBkAGUAZgBnAGgAaQBqAGsAbABtAG4AbwBwAHEAcgBzAHQAdQB2AHcAeAB5AHoAewB8AH0AfgB/AIAAgQCCAIMAhACFAIYAhwCIAIkAigCLAA==",
          "dtype": "i2"
         },
         "xaxis": "x",
         "y": {
          "bdata": "H5TNDGrjFkCSuE+w+joZQKPKo9eHWBpAA1KwSUm6G0BTAj0KFAkfQDq694Rwux5Aeh/zD/t2HkBvqffVxrAeQJiDmW+yUB5Atkjajl0zH0DGgQy7PLEfQMBddTJ64R5ADHe1+AAvIEB++iTnbb0fQBdpMfOi+R5AeQbgJtzaH0CtzPv3W1EgQITp60sDWSBAS3yuqvEsIEAzGN4gXcEfQB70e5Htux9AQI/g6EP9HkB7n5AujXcfQNWtWgHxAh9AyLFrp2sKIEC8hjsVO+0fQJeA2bL87x9AnATleorWHkANb664mfUdQCvnXO2EWR9ATxX4NXS1HkDoNuxOPCodQEAQl7vY+h1Ad5jN8uktHED+5JI4fOYbQNwgdOZTPRxA/Ma/xxhTHED7TLft0YUbQHex9Ue6rxlANUFZ5riyGUC2NWVzBeMYQMkkKP4DKhdA79Aqi0GUFkAn4z0Sr80VQMRlQLxvsBVA4LN9SpvgFEAOMJRETwAVQK1PfO5K6RNAXVMx/lgfFECXK3Duju4TQKjrZpXSLhNASHOWD+U6FEC5zYsVJhYTQLup+fPwrxNAUle/mN+QFECLOMYFGQQUQJF90EjvixRArD3ZmuwWFEAu0XB4N6EVQILO943VShZAGhTBDkBlFkARY+6g5AgXQBjqCwe1GBhAApLNNJMUGkB87ojD28EZQHJMiChKlhpAVr0TNc8EG0CQecDAuo4ZQOAZ8XMv0RlAD4JImMM5GkCI/aMqUlcaQBL6tTMGFhpAKJLfL2SwGECoZtiDJaIZQEaGNuBR1RdAmlprmXmqF0ADZ9SOgaUXQHWkOqBUJhZABLhCLWAnF0BaJLMiH8gWQGQUjBMC3BVAyiUv2q8OFkA6duhDu+sVQIAZ2/MA2xVApMN6TXAjFUDo0Do5gjsVQAHXyB64/hVALie5pwgEF0BTulcPd+gVQAfS0T+06hVAPo9N6ZHDFUB1IBGRVPgWQKb1sjWBBxZAFNCPFZu8FUB8vSjcnTgVQLQ5fn4y+RVA8Ictiu2xFEAm0nedtBQUQMSr3DQG4xRAyQuhWgmlFECNc5QQXLETQPgHg2vKGxJALtcMeNGZEUCtfDqXgZkRQAYatYMHORBAZK6hJ5V/EEBLl0nvO3ENQDjkAh3DwwtA1OOepOtACEBJX8jp6tgIQGGS3p+eigRAlpN3NAJEBkDY22JDeukBQD2ZZVZALABAGBjY5Tw2/T8RANxVQLD+Pw+jm4hkSvg/Xg4s0koZ9j8yXf3FLDLzP+L/cU+02PI/qgADWvcF6j+TrO/IOYjyP6zb1WFtFu0/y4K46a4o5T9by52cXTjzP0lv8V3HWe8/4UY6vTyv6T/Tv9gL+MXkP4K7nBS8SPA/riRpkKvL4D/a3L/JTHXqP8BsRj8K7ug/VgE702bY5z+qZKmUNgfqP92/NvVfG+c/C6dNnC2v3j8VlNEPwuLoP9UxEWFdUeo/P7KRkCdz5D+qBiMwahDkPw==",
          "dtype": "f8"
         },
         "yaxis": "y"
        },
        {
         "hovertemplate": "Sequenz=18<br>t=%{x}<br>v(t)=%{y}<extra></extra>",
         "legendgroup": "18",
         "line": {
          "color": "#B6E880",
          "dash": "solid"
         },
         "marker": {
          "symbol": "circle"
         },
         "mode": "lines",
         "name": "18",
         "showlegend": true,
         "type": "scattergl",
         "x": {
          "bdata": "AAABAAIAAwAEAAUABgAHAAgACQAKAAsADAANAA4ADwAQABEAEgATABQAFQAWABcAGAAZABoAGwAcAB0AHgAfACAAIQAiACMAJAAlACYAJwAoACkAKgArACwALQAuAC8AMAAxADIAMwA0ADUANgA3ADgAOQA6ADsAPAA9AD4APwBAAEEAQgBDAEQARQBGAEcASABJAEoASwBMAE0ATgBPAFAAUQBSAFMAVABVAFYAVwBYAFkAWgBbAFwAXQBeAF8AYABhAGIAYwBkAGUAZgBnAGgAaQBqAGsAbABtAG4AbwBwAHEAcgBzAHQAdQB2AHcAeAB5AHoAewB8AH0AfgB/AIAAgQCCAIMAhACFAIYAhwCIAIkAigCLAA==",
          "dtype": "i2"
         },
         "xaxis": "x",
         "y": {
          "bdata": "e6uvQkPuEkAlEwT8ZDgUQCaETid8QBVAglx7Rki/FEBVlZq/8awWQFaMOXtALxhAEXXyG7rCGUBRmblTsQMaQBirQ1MztRpAqmUJYmWiHEBJ2sXmsY4cQGIgUxDfmB5A2vU7+t9FH0DMdm223oEfQOZk3j2FKSBAIGohtj00IUCo1M2Y96cgQFwI5CvaFSFAaN1PFSZ/IUApewQdW9shQL3vFctkAyJAypHnXNiRIUAo37MBL/khQA5OfEoA8SFA84sBKTRkIkAV8dd4NQ8iQE2gO1V1KyJA4h3MBdngIUD93M/6y+0hQCWTkOyOwiFAX4Z0HBGxIUChVqZ7+HMhQMi1U0JTsyFA+BlIoXyNIUC9FUkgrH8gQNV5ayVqbyBAoqV0jZKkHkC2slrWgBMeQD4ivfoN9h1AosRzfdImG0D/56iTQz0aQKY/DxbP4BZACdqrewhYE0B9LAFvsdoQQPWhof1GygpAG01yT+j4AkA/f6auFcn3PxLNXGlZifg/lbQm9+u2/T/vxwGNvK71P2yzRzGVYv0/jh2PkLKP9T8hOQ4lKMT6P+F2rVEwz/Y/5vCdrJLt9T84FnWEsNn7P06rDcbwxwBAwYUo/r46BUCSuqyxWpoJQKOiaqVBdwlALLHMT9r4CUBPYcnjKpEMQAi5YE3JgA5AuLulTdZ5EEATnF8hPR4TQFLdDuupIBJAKW+afhzoFEBynd9g7ZAUQAKOFL2+GBVA9YwvR/0dFECeWLhyMZsVQKWmGfA8MxRAh+fzsZ+CFEDg1mK9spcTQE7SzEMAVRNA0qQ5YHVMEkDpUSTgNLEQQGwT+2m9yRBAAauT9pC8DUCiqIJsK4wPQM1IidFDyQpA+BFMMDcZC0A6DOiueSAMQOEuW+naXgxAiLLCrWY8DUB2fbf7azsMQFnQdI1avgtApi9i5rtIDkD08MsBBzYQQAcu0S+t0BBAme+2jvs9EUA1g5ZLriwSQHZtNYY7CBRAzTiTomBBFUD7+HO6tVgVQJIZdfWU+hVAGC6h7jWjF0DO70oYiG4XQIyv4L3NBBlA/WoasB2/GED27oFTq3gaQKA2jHEjqxpAUA5qusueGkDk3XajpvEZQD8+KFyFKBpAWJbOiD23GkBTgU7R5uQbQBPmo0WJTxpAK2n4JZK7GkBf3d81ZrgbQFugdJNmKxtAiN4p1JanGUCW+vOy+owZQJGZff2rThpA6jpP/MG6GED+z9pfZmwYQE8gH97lxxhAtmtS1G5mF0CYl6ARvpQWQL17lwEsnBdAjatZRNDzFkAaPsvhJpQWQNZm0dPgDRRAM+ESKyjzE0AG5dXtYfQTQHFBHWdSSxJAKFrxin1ZEkDrSMC0AIYQQBUP2Nd7nxBAeN7o3io5DkBHo6hk+JAOQKGg7PeVUAlA57R/MJW1CUDfBDZvazYHQAhb8biwbwFAQpYuWUq9AECPG2EVW0kCQKyz1KH2/QBAtNwg9HSE+j8MKWlqHp7yPw==",
          "dtype": "f8"
         },
         "yaxis": "y"
        },
        {
         "hovertemplate": "Sequenz=19<br>t=%{x}<br>v(t)=%{y}<extra></extra>",
         "legendgroup": "19",
         "line": {
          "color": "#FF97FF",
          "dash": "solid"
         },
         "marker": {
          "symbol": "circle"
         },
         "mode": "lines",
         "name": "19",
         "showlegend": true,
         "type": "scattergl",
         "x": {
          "bdata": "AAABAAIAAwAEAAUABgAHAAgACQAKAAsADAANAA4ADwAQABEAEgATABQAFQAWABcAGAAZABoAGwAcAB0AHgAfACAAIQAiACMAJAAlACYAJwAoACkAKgArACwALQAuAC8AMAAxADIAMwA0ADUANgA3ADgAOQA6ADsAPAA9AD4APwBAAEEAQgBDAEQARQBGAEcASABJAEoASwBMAE0ATgBPAFAAUQBSAFMAVABVAFYAVwBYAFkAWgBbAFwAXQBeAF8AYABhAGIAYwBkAGUAZgBnAGgAaQBqAGsAbABtAG4AbwBwAHEAcgBzAHQAdQB2AHcAeAB5AHoAewB8AH0AfgB/AIAAgQCCAIMAhACFAIYAhwCIAIkAigCLAA==",
          "dtype": "i2"
         },
         "xaxis": "x",
         "y": {
          "bdata": "IazK4Ey8I0DOBZ7dQuMjQCo2F7w82CNAB0GwKUf7I0D68hMJQG4kQLcXAA1woSVAlnQJlEFBJkDNEslWe5olQOWky20BgCZAHsz8wi5ZJkCGFOEIHfwlQJ3O6zM0bCVAoBMFuCzUJECs6dEWJYEkQIB7CkYG+SRA2JrgsS/0I0CufstiqrsjQKAbiPc9DSNAyzA8powMI0BLa1oEXb8iQLg20Q6TgCJAflKMd5B3IUDIP7Amx9IgQJciaLZqyyBAF7Y+gIg4IECxx8/uFNIdQNCbP8LkAR5APijwGMBMHEDSOshy5ekaQGS+r8v/GhlALAz0PudtF0B2XSK9QKYWQPbC2e4V/xVAFV9mWZL7E0BmbwcKZNkRQG+TB97R9hBAQHo2F1XdDUCK9i/rhpUNQErDYsqoXAtA+YBzDrkdBUA7ycqBeZ4CQMXPzsIjVfo/JsmfiihWAUD+aq15dwb/P8j8X0N+wPU/FPrwXvlm+z9fXNk02HAAQJbKBVq+2PI/dt30sfzs9j9YTcyAvtT6P61FsygKIew/LkfoxHzH/D+a9h+AE7f1PzPYi870KvI/zr0tCfXX+z81ZLuvCD4CQGuBsU6MkARAA60Xp6UBAkAKCPMugBoFQLwmoZ3JYAdA029xv41UCECVkiKyDQAIQIj+BqncXAtAec2N3ndyDUBmSHeSNvgPQFubh5QF6BBA1fpzzhmsD0BN90Tp/S4PQJ4fHVL7OBBABsUrbVJbD0D+h9nTZMAMQOAS8gg4Gw5AaGj4szkiCUCqw5FZjv4KQNJfD+ZpHAlAM338mwhlBUCKzMg0+uYFQIA2HvnmawRAlxRMCOdxAUBDO6nXsm3+P/NYb81IsQJABUfryJfFA0ACSovMjQwDQCkS3KJ2YAVAZkQmT6LUB0D586a9Z7UMQHtnVkEQBA5A4k0bwyajDkAY/oQ9a7wQQDb9cSmighJA7P54oXD2EkAFedDN/eASQHv0Ex7TbBNArmH2PjtbFEBEOBqLk+sUQGNalUo3/xRA4xgiuLeqFEB7e1PvRN0SQLSDuWz9DRNA+v+0CLujEUDxGrKCS1EOQMGB+U66DQ1AYL7HjFYYC0ChdqWXd5wJQJBt07S2IApA4FK2TPjPBUBgPTajBi0FQMTfZ5WLCgNAeY8y2sLLAkDwq8NLVIMAQB5WpA6iCABAstFLKKWR/D9JIRlfDB31PxBTB08lffY/GREGP1FP+T8YjWKbbxz4PwRc9CB/4PE/FWQoJ6jA9D/qzFtfDVLyP607fAX3LfM/JWTnRwl98T9WinvCjXvkPyeTLM3p7uE/uak/ZYwK2z+tb3rAID/dP8IQJu+E4OQ//ji+/QsP8T/QOoQ8LPXtP1A3DuykJOo/qjMt3xLp4j8TgckfenTuP7V2hctZl94/CmiVencw4D+Kbl8ARhLqP4mgp0dHreQ/KOY2lQyK2j/sByI1nU7mPyYbeTH6UNI/apULT7DOA0DdGPypqN8LQA==",
          "dtype": "f8"
         },
         "yaxis": "y"
        },
        {
         "hovertemplate": "Sequenz=20<br>t=%{x}<br>v(t)=%{y}<extra></extra>",
         "legendgroup": "20",
         "line": {
          "color": "#FECB52",
          "dash": "solid"
         },
         "marker": {
          "symbol": "circle"
         },
         "mode": "lines",
         "name": "20",
         "showlegend": true,
         "type": "scattergl",
         "x": {
          "bdata": "AAABAAIAAwAEAAUABgAHAAgACQAKAAsADAANAA4ADwAQABEAEgATABQAFQAWABcAGAAZABoAGwAcAB0AHgAfACAAIQAiACMAJAAlACYAJwAoACkAKgArACwALQAuAC8AMAAxADIAMwA0ADUANgA3ADgAOQA6ADsAPAA9AD4APwBAAEEAQgBDAEQARQBGAEcASABJAEoASwBMAE0ATgBPAFAAUQBSAFMAVABVAFYAVwBYAFkAWgBbAFwAXQBeAF8AYABhAGIAYwBkAGUAZgBnAGgAaQBqAGsAbABtAG4AbwBwAHEAcgBzAHQAdQB2AHcAeAB5AHoAewB8AH0AfgB/AIAAgQCCAIMAhACFAIYAhwCIAIkAigCLAA==",
          "dtype": "i2"
         },
         "xaxis": "x",
         "y": {
          "bdata": "nDn5ElHNFEBQbkNnwAkUQOZmPA4MMBZATn8XWpx3GECG30QUJm4aQJ1drbdxQxxAW02ONG2NHUDQPmI8vBIeQFbySp2kRyBAiVIloHKiIEDC4M0Khk8hQNA0eLSwEyJAO8itatVMIkAJNP5HmpIiQN5ZJUkWZiNAugw2sbrvIkBb8XNCwgwjQM2rO3DESSNANeZIiRAvI0C9qpgWWvsjQBMZT6Jl8CNAx0LBqreGI0CLMHdRCk0jQFTUCyeRmyNAe1W4BbdEI0CTiTyIZ2wjQPjcFI/MjyNA9oqvF+bYI0BV531hoc0jQMWgVh+o5yNAqZT/ErsKI0Cp1vNm/+EjQLVPyTdMdyNA7w1a6SmNI0APd2PVPuIiQHPwGNNC1CJA2DAM9+LKIkABywEXdtkhQKob78z/0SBAWZ9FumSiHkDWr0fL5bgbQJYVYH6GyxhAr4eXGDu8FECh2j2CjpYRQNuvPiYHvgtA6YFUaE4UB0DeuyspmhcBQOPLes4ztgFA7rRroPRz/j+o192ncVb2Pyg7xDMUpvY/1bDQCR6+8j+7CofT0b72P5poYjXWtPc/wX0CRwlUA0BbUHSb2zAFQDlBctAEZAZA4OF97OjKB0D4fpe+6YgKQF66KUkDuAlAPyp5GJp3DkCvo7LwY/8QQIZnvNFJDhNAqoZmuPhdE0C8cXZmWRkVQIqIpgO5ABZAg7R7VMIRGEApXxInU68WQG5gAf4zGhlAfm2qV/epGUDJTO+S3q4YQPWDmOWsyRhAuptLggZlGUCQHzMBU7oXQPr7QXtbyBdAXxTmC3kEGECaq4rXYRQVQHRl0Fop7BVA5iIDjvXYEkCDufGA768SQHE7UKF/9RJA+GFf+Hg9EUC9kHfrs7sRQONvR6NBfBBAdJgPCImAEEDxIFYqxw0RQFqEvtffKhFAfDse38IvEEAtIswCY7kRQKvPl8V7iRFAVTQ6OSFxE0CNqKXCYN0RQAKzxR68qxNA0xgx47I+FED3Z0OfYCoTQD23dlH6IhRAxfE5optwFUBD716kwwYUQAms2gPI+BRAcKRGA8XEFED/ctPT/3gUQObJQPeDqRRAqep059PEFEBpihstkSsTQHHqk8inyRNAfRXjqxU0EkDuUXr19gwRQEc7X01VaBBAVXZC7VzVEEBLvIevJ3gQQJ4n5rMO8gxAl1ipbrj+CkBchvzCphkKQBURnyQLvghAIJJyozxdB0CNLU42IvAEQIaXUZRTrABA0dUTg4Qq/z9ov84oLmQBQJ0LJMsWpABAlEigf2m3+D8I7xVT1Fb0P0BFzOcTpfU/DYuMGEyq9D+kXJR7JYbyP+5E+PaL1vI/tuk380fm8j9oSUV0u+jpP/9ITRunRu0/Uk23a8rj8j8iObKTdcLlP8wFeXRGeOY/LlvUSD+c3T+UHsQHwNPlPw6wjzS2YOo/q567kAlj4T/yA9hdX5bQPy7Tdx93TAdA/CxWLWqtDECcT2al/ZEMQA==",
          "dtype": "f8"
         },
         "yaxis": "y"
        },
        {
         "hovertemplate": "Sequenz=21<br>t=%{x}<br>v(t)=%{y}<extra></extra>",
         "legendgroup": "21",
         "line": {
          "color": "#636efa",
          "dash": "solid"
         },
         "marker": {
          "symbol": "circle"
         },
         "mode": "lines",
         "name": "21",
         "showlegend": true,
         "type": "scattergl",
         "x": {
          "bdata": "AAABAAIAAwAEAAUABgAHAAgACQAKAAsADAANAA4ADwAQABEAEgATABQAFQAWABcAGAAZABoAGwAcAB0AHgAfACAAIQAiACMAJAAlACYAJwAoACkAKgArACwALQAuAC8AMAAxADIAMwA0ADUANgA3ADgAOQA6ADsAPAA9AD4APwBAAEEAQgBDAEQARQBGAEcASABJAEoASwBMAE0ATgBPAFAAUQBSAFMAVABVAFYAVwBYAFkAWgBbAFwAXQBeAF8AYABhAGIAYwBkAGUAZgBnAGgAaQBqAGsAbABtAG4AbwBwAHEAcgBzAHQAdQB2AHcAeAB5AHoAewB8AH0AfgB/AIAAgQCCAIMAhACFAIYAhwCIAIkAigCLAA==",
          "dtype": "i2"
         },
         "xaxis": "x",
         "y": {
          "bdata": "ZYL3r8j3IUDjotJAKZwiQH7qE4brsSJA2Ho0ROLiIkDnugZlXUsjQKdrD86YCCRA4q95XmtWJEDYcL7FmqMkQENQApMl4SRAv/NssLlFJUDS5Ypd/90lQIllNlfPEyZAjE1+CDk6JkDcW4bHIYkmQLCXjNV/+iVAAC3LdgAWJkCcnOzBtPImQJAC62ZJPSZA2evuSZqtJkDlpXbiC+wmQK4nyPtYmCZAj6ppu6g3JkDV6BqSVP0lQPOMbjBAICZAdmPCakMLJkAq+8JQgicmQIKRqFTFVCZAgf4ZKfCEJkDG9DbU9KEmQPYilNeq3SZAddp0+LxGJkA0l4doQ4EmQATdxrAlUCZAEMe75Du6JUDA4hPO8UslQDWpZbee/iVAnf1fh6ikJEANEpsWzaMkQMORu3R6+iRA8LmUB/5uJEAvODuGdAEkQBFxvRZqAyNATFjjVnHtIkB0cwvEWCsiQPsicdzvKyJAIoIg6hOTIUCfAyAgz3whQOu887w7cCFA9DAC5F1cIEB2IZfkdnYfQFiWcnxxvB9AwrVpDslkH0AMEvCszu8fQFt9bOBnYx9AFq7ukrTZHkB1eVYKiP4eQFXaxGt1jx5A5KU0WKgvH0Dn0QWEgnQdQGmH1PYPNR9A8OEU1WW1HkDSXfLDruQdQMh/czhz5x5AvFRAKFPDHkCDzfnpwyMgQDAgJJEUoh5Aqg2C+RmWIEC/lX6BK18gQO4yAlPV1SBALm58PkDGIEA4n3k22wIgQEPEB9ZOAyBAdOJqjYuEIEBCskx2M1IeQOdN4M9Dmx5AgTOAa/+gHUB2aENIhV8cQOjiBI2nGh1AWKEqkYy6G0CSU+xgZlUbQNKJT+zuwBpAD/I5xelcGkDwPSUkbbQaQI5+6HsN4xhAVacnVPsQGkAu4VrRQjMbQOnHsflUIBpA7pvjztDUGkCOEfbwTxcdQFISF5hHPB1A4oNxOmQaHkCPnoNJxDMeQH+u8Y2fjx5A2jwp0Bp1IEBuoCJikXAgQN/ut7bAACFAytZWHayXIUD1CYpLTXkiQAL/F2wxhCJAMhzLvTAFI0DxGe+KuJcjQIxWgxh84CNA5xcawYa0I0D6Fem9tKckQE5Lhpjo8SRAMRmtISbyJEBth3OZCCQlQCY3LXR/qyRAbESynCVUJUAEZChjDAYlQIUGlsgWjyVAbJ7rtSogJUAjUS/WnaskQKuHgo7MjSRAxoVPqRnbJECKsXbbSAslQDC6EFlYqyRAD2SvOzlgJECTnwb3EGIkQN0lVVgXFyRAOYFFOB0LJECCxR4SPoUjQAdkt+RvgSJAapmMJGWOIkCMfUOl7CEiQCPaHnvhkCFA3PImska1IEBKT3r+0KcgQI7hdz4GsR9AAgMy4+axHUBInriUR78cQDWw/sfd2RpAWxuKvTJzGUBbZpOISs0XQKfs9JWnlBVAbs+2q2E/FEAN2nEoftUSQB8BLEg5RRBARBifYlw3DECIKVrUGpcJQA==",
          "dtype": "f8"
         },
         "yaxis": "y"
        },
        {
         "hovertemplate": "Sequenz=22<br>t=%{x}<br>v(t)=%{y}<extra></extra>",
         "legendgroup": "22",
         "line": {
          "color": "#EF553B",
          "dash": "solid"
         },
         "marker": {
          "symbol": "circle"
         },
         "mode": "lines",
         "name": "22",
         "showlegend": true,
         "type": "scattergl",
         "x": {
          "bdata": "AAABAAIAAwAEAAUABgAHAAgACQAKAAsADAANAA4ADwAQABEAEgATABQAFQAWABcAGAAZABoAGwAcAB0AHgAfACAAIQAiACMAJAAlACYAJwAoACkAKgArACwALQAuAC8AMAAxADIAMwA0ADUANgA3ADgAOQA6ADsAPAA9AD4APwBAAEEAQgBDAEQARQBGAEcASABJAEoASwBMAE0ATgBPAFAAUQBSAFMAVABVAFYAVwBYAFkAWgBbAFwAXQBeAF8AYABhAGIAYwBkAGUAZgBnAGgAaQBqAGsAbABtAG4AbwBwAHEAcgBzAHQAdQB2AHcAeAB5AHoAewB8AH0AfgB/AIAAgQCCAIMAhACFAIYAhwCIAIkAigCLAA==",
          "dtype": "i2"
         },
         "xaxis": "x",
         "y": {
          "bdata": "/BrRgCReCkB8QJQHa0QLQIfXEAcCAg5AeUVTcFLhEkBXa9IlODcVQER5qf0TARdASSf+11eNGkBew8jcLmccQCD7dfEQGR5AM+8xBK9ZH0DXYUHLQ0MgQPd/vmOXgyBAbGgwF2GgIUD9+T4nVc4hQJHDp3z/NCJAecKdQ1M5IkCMmAzS6ZUhQCdTntQLjSFAPLmpG+doIUAZBM3/F2YhQJ3j3X8wyCFAU81ajckFIkDvYqlEI0kiQCMBoRL9NyFAtdShZcCHIUDz9t3QDSIhQL1I5jBTTSFAqaeMMAQwIEDhs1b3ZiggQHPPjse7nB9AZfMK2yYAIECoCrH+/eIdQDMaRCILSB1AjzZSqw/vGkAqgdZqCAkbQHaej7t+qBhA4x32FOpFGEAfVk2vUFoVQNrrxGdvVRVA9eiGnlzIEkDdkwwyQYoRQO4/FkVCkw1AisHHz62rCkAjSndwuhEGQKSrFnOIsQJAUL3NVZwLAkCR6EN0zTb7P9gGKMQnVfI/qRfzAFws/T+91Kl2QEjzP4eX1oz9bfM/y8EZfV759j96sDSL+tv6P3hFLA3R9f0/GhEHXsDz/D+LDZpUSEcCQJKNo1HXugNAvKTC8fULBECrwhhuigAFQCo9gR/n+ghAUfKefXbrDUDX8QU0xroQQDY7mWOZphJAqkCxpekHE0DL99F0LVASQGLg3KfZMxRAdbNzB/MCFkAZC/GmP04VQE6KBeFwqRVA0RBqpTupFUDdV13xDbcWQF+7AA3KSBdA4g1dBV04FkAp5prEVEIWQAm+pQdBJRVAyBnhMdeFFEDC1E1U9uUSQKL8VUYfcBJAalwxlZYsEUBymsezCfYNQAVmH3nSYg5AKlRtVF6oCkBtQYwSXTINQOShMl6YdAtAkcb4W3FDC0D7hvVulgIMQH3Hc7NseA1AGCFX3bTODkCtqAjIczEQQNce5ArauA9ArwcJgqxiEEAlsIT4vxEQQOOnr2FYhhBAA0MrVgILE0DbT2Jpp5wTQNh3r7LdVRVA/mTe/x6VFUCRhPFgVhAXQE0saMuRRhdAUtg+IjqrFkCe56OiAE4XQLCyZZRMhBhAWH4DTCwQF0Cqr42EJ/UWQMDlKmqfEhdAwQwhqW8uF0AMwKVr/sUXQP4/hQ/WchdA1u9IyJv5FUDBVzlWbZ4WQMhTRIloKBVA1Q0VrV+/FUB9FfIVu2oUQD2sTldAuxNA7oH03qP4EkDQq8P6m98PQIxaPx0SJg1AjaAcGN3rDUAUixtAIVIJQBTMOl8lEwpA3oEQoeP7BkCDkk4EC8wEQMCK+MGsbQJAwECqGCz/AUAw+GgkeG8AQKWXpYAsT/w/Sn5f2q/S+j/HVG9FX133P4sKwHAJZPk/ZF2Y09zZ+D86IHX4FunzP6no0Q5VrOs/TFwg3TZV6j8Nkcl6baDxPzT5rQZIp+w/nM0HfLDA6T9QDUGxI7DiP3h8uo1GQuY/TBjgsPfe4T8SLmpb74LkPw==",
          "dtype": "f8"
         },
         "yaxis": "y"
        },
        {
         "hovertemplate": "Sequenz=23<br>t=%{x}<br>v(t)=%{y}<extra></extra>",
         "legendgroup": "23",
         "line": {
          "color": "#00cc96",
          "dash": "solid"
         },
         "marker": {
          "symbol": "circle"
         },
         "mode": "lines",
         "name": "23",
         "showlegend": true,
         "type": "scattergl",
         "x": {
          "bdata": "AAABAAIAAwAEAAUABgAHAAgACQAKAAsADAANAA4ADwAQABEAEgATABQAFQAWABcAGAAZABoAGwAcAB0AHgAfACAAIQAiACMAJAAlACYAJwAoACkAKgArACwALQAuAC8AMAAxADIAMwA0ADUANgA3ADgAOQA6ADsAPAA9AD4APwBAAEEAQgBDAEQARQBGAEcASABJAEoASwBMAE0ATgBPAFAAUQBSAFMAVABVAFYAVwBYAFkAWgBbAFwAXQBeAF8AYABhAGIAYwBkAGUAZgBnAGgAaQBqAGsAbABtAG4AbwBwAHEAcgBzAHQAdQB2AHcAeAB5AHoAewB8AH0AfgB/AIAAgQCCAIMAhACFAIYAhwCIAIkAigCLAA==",
          "dtype": "i2"
         },
         "xaxis": "x",
         "y": {
          "bdata": "HCvhrWriHUDRtvZzCgMgQOn9Rdg/ah9ACi8szfIZHkBtsWKpQaEeQGLYQLm2xh1ASYq94ySIHUCabqnwizkdQOxdD8aGqhxARaFBz6aUHUAVldNR7zYcQOsAgbQk9htAl0HGEWBbHEDLJTGZxyYcQFFoAWJl5xxAAWV8IYcWHUBasNsym7AcQAoCXBHUtxtAlwdWa25nHEDo6S5gt0EcQJ9Im1+bmhxA6D9rnVqmHEDmCifolNccQPABFuYCnx5AqoRjoLnIHECxUPGMZdwdQHq9DTNVCR1APLoOViBbHkDvnb8Koj0eQBzaUSyDgh1AhOZCgI/QHkDvwL1KsVgeQNjHlGbK1BxAmggW+0+cHUA4z9aOPEUdQPcXnQ2mJBxA7hn1TRnKG0A8xRmaiewbQBkF6iOE/BtAIGGptMFtGkAo4foB9BkaQLhlJikHEhlAR5tsbptIF0AbnTTM1qMXQIGXYvCP8hVABAbRYZ2AFUD42gAaahYVQKRMbklSCxRABpeEb6c4E0BqxDSsuJAUQNHMKLlYhhRAgW7/T89rFEAyWn8cV5UTQBw/Uy5wcRRA554HUuiuFECCVAAj1UsVQLPZUgycgxZAwBZcM/C/F0CQnsh+TykYQPuBbVSumxpAL2sLx+SMHEC+c5LXFwYdQDiphjVjkR9ANlMm5A1JIECp2bddOjcgQFT3XKUz6SBAA2tutsxkIED+ROfCHz8hQBDowWOEvSBA8X5zZr91IEAA+h5vpo4gQJlfZ5nFoSBA0AQTysi6IEAu7ixixpsgQCnVtsHfkB9ALhByJLEMH0CkQItNZrweQCFntC/OFR5An9xwg/wlH0B6tbfNnKgeQPvvJbrE6x1ARCNJ2x8tH0AXqA3/F+4dQJ/mtQKdWB9A/heshMJsHkC8+WReq98eQMfmECB8LCBAB7RVxaFJIECFgKfNkQwhQNdC9KyYmyBAZPzTTtF8IUDhDD7Hq0khQInk9Vc5eiJAotlhfzWJIkC5EQT7+1siQOa8y+Md9SJADm2Wwk6VI0B35V7GoPkiQLYnIGbrcyNAdIbHQhD5I0BWiinrwsIjQK9xfW2xhiRAV2hpFyrrJEDRgGXtKsMkQN7mV6CIOSRAxGHWBOSaJEBsvCfzvZwkQMam2PVO2SRADZEAS6cVJEAdNsxc3UEkQHT4kdxt7SNAj3qKMBa6I0CzmFlNqzEkQMLB/66YTCNAT9CscITKI0C3OX4p2aEjQHtf2GP4PCNAZN1bEqnbIkBIazFYbN4iQAM/bWDdFCJA4A5m9PeQIkAXOsQm6cohQHjydMxWrCFAZJdwU5gEIkD7Vsi35oohQKP7JEBSiiBAa3l0mA+VIEDEutWPDhAhQHoFI760dx9AelEYM/QiIEDxld7HAGsfQBoy8jXX4x1AJV/QG9LvHkDSAK5aSSAdQHTjGckusx1AgDHcn199HED+pK7pYiQbQIP6iItNbhpARQ9aHFlJG0D91wDO21cZQA==",
          "dtype": "f8"
         },
         "yaxis": "y"
        },
        {
         "hovertemplate": "Sequenz=24<br>t=%{x}<br>v(t)=%{y}<extra></extra>",
         "legendgroup": "24",
         "line": {
          "color": "#ab63fa",
          "dash": "solid"
         },
         "marker": {
          "symbol": "circle"
         },
         "mode": "lines",
         "name": "24",
         "showlegend": true,
         "type": "scattergl",
         "x": {
          "bdata": "AAABAAIAAwAEAAUABgAHAAgACQAKAAsADAANAA4ADwAQABEAEgATABQAFQAWABcAGAAZABoAGwAcAB0AHgAfACAAIQAiACMAJAAlACYAJwAoACkAKgArACwALQAuAC8AMAAxADIAMwA0ADUANgA3ADgAOQA6ADsAPAA9AD4APwBAAEEAQgBDAEQARQBGAEcASABJAEoASwBMAE0ATgBPAFAAUQBSAFMAVABVAFYAVwBYAFkAWgBbAFwAXQBeAF8AYABhAGIAYwBkAGUAZgBnAGgAaQBqAGsAbABtAG4AbwBwAHEAcgBzAHQAdQB2AHcAeAB5AHoAewB8AH0AfgB/AIAAgQCCAIMAhACFAIYAhwCIAIkAigCLAA==",
          "dtype": "i2"
         },
         "xaxis": "x",
         "y": {
          "bdata": "ae4+L3znFkBoIF87/DYYQMPKsP+EuRZAdhgYJMk8FkBX6YX85pEXQCNuRFxCHxdAIhw5jy+RGEANoc3Qc8cYQL9VPoH/KRlAAdrP03N1GUCVAWFw2f0ZQDa6aLqNHhlAr08I8azeGkB/0ZwacXkaQAXylFOPgBtAV68xBSzlGkBDhobQt9MaQGdeHIQPWxtAyJ7VnwTWHECXEPgajoIcQEo2iPWh8hxApkf1fUO6HUAzpDz1PLkdQJtScXHH5h5AAqUZYXF+HkCXCd7temseQIM1rv9Otx5AjoPv6vHpHkD4XhgxnH0fQNDlre+qwB5AoW2zKP/7HkCp4U689cwfQDYG2T1xFCBAJwO/oDgEIEBi42K5OMgfQGoQqaYXaR5A1sC8i+jrHkAY21CkN2wdQNrEmlhaAx5AOSz+WlGCHUB6w5kPG+IbQAdiG4MDyxtAbZTUrdpNG0AtjwwFr2cbQBI4kM1HyhlAdFZT/wxiGEBnVUupLJ4XQOzlpt2rXRhApIsBQ8ncFkCTJsV+A9MWQJE36hoohxVARM4guP7mFEAtStn0woEVQAngW5C4TBdAlS+2VhGZFUC9IxqfueYVQOFLMtn87xVADz1lYwTXF0CIncaKDUkXQNFht2cUMhlA0Jg3ZsDPGUC73DVO1wUaQAZMH9ZpyBlAKqKrQYLSGkCXvWFcGWscQM3V8MCd6RtAblaKfi/qHEC/2OSeizQdQNdxIjILFx5AdrybdfpdHUC3Adgp3e0dQG3dzEr1Cx5ANhBugXBDHEB12XOV4xkcQPtKR7//SRxAd6oIBdxfHEDOOAagb18bQG5lDUjRXRtAKk57vro7GkDQrQJi68gZQOxytXpbhRpADnyc/huZGkCMheaxY2UaQMVI3ta0nxlAoVnum7NgGkD+z6GLAUkaQCr1r7HoOxxA5fnQobc1G0AiXcMc5FAdQKa05eT1JB5AmIKu739uHkAU4sj95ZgeQPwMXrYJBCBAqMQgokQsIEBGD5ePYRIgQF9Ql9OwrCBAyFP4OjgLIUDZyl0Mu1AhQFss2Cc0hSFASWCmjn38IUDvOiZ4g8whQHDgrNHWdSJALtbGb4x7IkAozAVK1qshQA1Qoh0yyCFAe++c6hE9IkBFyIt+Jm0iQJBDtJyXsCFAcSzpR1AzIkBL9Z6WeFshQFupJhb0ryFANqX7QksYIkC0O3IXQychQH9W/5BiDyFAYfTV1jFHIUAM2qkdwk4hQDecvbDGGyFAuMB87IiAIEDjGrnN7BMhQPfS4ulh2CBAjE8fpjFAIECQLsBOpH8gQByHfuIDJiBABZ24BwMfH0DsOHmrzZ8eQIGFcqwA9x9AV1AER2n4HkA2k+ARJ98dQJE2+q8EuB1AU8VuPRN7HEDIwGZ9RjgdQARXfE5//hpAJLI76L6rGUDt2/kn7H0YQJxjphYG0hhAbGdBi2CTF0BkNS++FJUUQDCyg7gtgBNAIT3So3uJEkBXJgSIvOINQA==",
          "dtype": "f8"
         },
         "yaxis": "y"
        },
        {
         "hovertemplate": "Sequenz=25<br>t=%{x}<br>v(t)=%{y}<extra></extra>",
         "legendgroup": "25",
         "line": {
          "color": "#FFA15A",
          "dash": "solid"
         },
         "marker": {
          "symbol": "circle"
         },
         "mode": "lines",
         "name": "25",
         "showlegend": true,
         "type": "scattergl",
         "x": {
          "bdata": "AAABAAIAAwAEAAUABgAHAAgACQAKAAsADAANAA4ADwAQABEAEgATABQAFQAWABcAGAAZABoAGwAcAB0AHgAfACAAIQAiACMAJAAlACYAJwAoACkAKgArACwALQAuAC8AMAAxADIAMwA0ADUANgA3ADgAOQA6ADsAPAA9AD4APwBAAEEAQgBDAEQARQBGAEcASABJAEoASwBMAE0ATgBPAFAAUQBSAFMAVABVAFYAVwBYAFkAWgBbAFwAXQBeAF8AYABhAGIAYwBkAGUAZgBnAGgAaQBqAGsAbABtAG4AbwBwAHEAcgBzAHQAdQB2AHcAeAB5AHoAewB8AH0AfgB/AIAAgQCCAIMAhACFAIYAhwCIAIkAigCLAA==",
          "dtype": "i2"
         },
         "xaxis": "x",
         "y": {
          "bdata": "Oclu11FZI0ByegFcywgjQFX27jc7fiNAG+ST5k+2I0A5RZmOwuUkQN/rVAfoPyVALiTUIKW3JUCT+paTaSsmQB9RlLa3ayZACSbB7eAXJkDHEiznmd4mQNDe+jNI7yZAspxuDkK0JkD6aCrLGCsnQHCb24SrJidA1rmbVonsJkCz/uUQb5cmQOvr17Qj/iVAwpIcEXU7JUA23UvhcyMlQPUXJCp9bCVA6qor5GmjJEASmxTyTcwjQL3xgIxlHiRAKqKGF/cDI0CQL5gTSX8jQGITp512ASNAUR8BeFO0IkC9I+FmDHciQFa5hcf1UyFAZ5j6vfObIUDU74yKGNYgQKdi06L4BCFAXxnJ8oJ5IEAwjrDqPEIfQHA/pr4jbx5A5PF2eBmUHEBCeLpAhRIbQAi67SuznRpA4FLHrujQGkAf5LvLp+gYQJJCE/zVzhdAByFEoI7wFkBhdrKfMx8VQODkH+zfghRAtYrDeoSME0Cg6WiIG7YSQHx3ihsnBRNAzWtmQS/GEUC/IJNuETQRQMVFXkXL7BFAECoEPc7lEUDME4gchjgQQE3udTMH8hFAWV8uTBQ2EUAh2et2xP8RQBqpGU+KeRFA+7eVkYGsEkAfm+VEw2ETQP1YbR7g8BJAxpO/SA8zFEBq2xOvl5MTQA7Rj2SvuhRAsjfgw7Q1FUCdqSzekDUUQJ2MO7FRjxVAE06vN90PFkD0cu6FJTsUQHHIlLLkihVAXvD0ofMRFUBPS+RbHw0VQNVej3/lpxNAUjYa3m+REkB/YhZGLR0TQK15JoExJhJAVI0INywREUA1fUMIJCQSQJD4zkTpdBFA9gjoM4QCEEB29bbi3LQQQMEyWtysVhBAknbrZ/72DUDt8EUtAvsOQM71Qpal/g1A7dVLyaTZD0DP0NKXU8kNQJjiwYhmSA9AIcwRu/KtEEBYHXcEISsRQNvYxA+GjQ9AacTaNS8FEEB3jCiEZ1ERQBMA/O+HmhFAiwX5J1qKEUA9w6B3bQYQQIsBpcsjiBBA1hfyxitDEEBe14HEs/cOQHx6x2LoyA5AO0Za+uzTDUBjTM0QW6gNQGlYVGtTtw1AvKxR1NuCDEArm9nO2cMIQIwba2GCAglAeJn378CgBkCVE2JrwiUJQG1suu9wwgdAM6GF7fUNBkCgaVk/7yIFQJI3KzEDJQVAy70bErT4BECbl00loI8DQCtF3peDqgBAeifam5Tv/z/0PnwaMzYBQDW92e4NjPw/fi4bMIoj/j+6S5m13Kn9PwSwnttBkP8/+Y33XrtS+T9Kd89h5z38P+WxVxQNNfs/oj+WHroF+D/aMgyJp7P3PwRJul3af/M/118K/yab9D/Tg7dgRar2P6kDivCP8/Y/AIQvK60e7j/alX7Ew2DtP3ad8DaEvvA/8k1aNHoO6z+GUhckmaLmPzjJDkXiR94/hHyY0JDj3j8I8La8zdXlP2uZT37rBOA/SKNe+w2M5D8ROI6Xg6zuPw==",
          "dtype": "f8"
         },
         "yaxis": "y"
        },
        {
         "hovertemplate": "Sequenz=26<br>t=%{x}<br>v(t)=%{y}<extra></extra>",
         "legendgroup": "26",
         "line": {
          "color": "#19d3f3",
          "dash": "solid"
         },
         "marker": {
          "symbol": "circle"
         },
         "mode": "lines",
         "name": "26",
         "showlegend": true,
         "type": "scattergl",
         "x": {
          "bdata": "AAABAAIAAwAEAAUABgAHAAgACQAKAAsADAANAA4ADwAQABEAEgATABQAFQAWABcAGAAZABoAGwAcAB0AHgAfACAAIQAiACMAJAAlACYAJwAoACkAKgArACwALQAuAC8AMAAxADIAMwA0ADUANgA3ADgAOQA6ADsAPAA9AD4APwBAAEEAQgBDAEQARQBGAEcASABJAEoASwBMAE0ATgBPAFAAUQBSAFMAVABVAFYAVwBYAFkAWgBbAFwAXQBeAF8AYABhAGIAYwBkAGUAZgBnAGgAaQBqAGsAbABtAG4AbwBwAHEAcgBzAHQAdQB2AHcAeAB5AHoAewB8AH0AfgB/AIAAgQCCAIMAhACFAIYAhwCIAIkAigCLAA==",
          "dtype": "i2"
         },
         "xaxis": "x",
         "y": {
          "bdata": "2dlr4MEIHUC6+oMhSHkdQBnp6QAURB9AIH43ogBUHkAmyIQInf4eQLgB5ZFNxR1AXRVfVfj6HEA3mmzekXUdQAt790wEIx1AY0P1iWx9HkA6xPCBbPAdQDbIueGsvx1A3OFofi+IHUCPdCCRZegdQKNgKmWXgBxA8JnsEK5rHUCh3Tqt2tEdQAE32/wEgxxAP8W3T43jHECezTrkM4wbQD/nPHFyqRtAB2sUcXJNHEAoAvDxI2EaQI/Yn4ezkxpAYUso+EZUG0BtG0/yrwQbQPAdcMgqOBtAD6gvqoiTGUCtmQvL0SgZQED01lyv5xlAWqhZZlVQGkAvslr0t8cYQIJKApPKzxhA+HX+J6OrF0D5Ncfm5vcXQHcCrbKflhdAOqk3EhZCF0AbqgiFl3UWQE1BNdMi2xZAn2actWXcFUCdiJUfRWsVQNNfYqAqhxRAvBj+PtF4EkDILF2uBIgSQGzL5ugmbBBACB2zF3g2EEBfojj6Ru4PQGnZCt/ZqxBApGQUH26cEECT87zaxqwQQDuF3KDzThFAzVkPGIhdEEAtg2bBi2ISQIL0O01IhBJAUROZykwlEkDZSdjnD4AUQGFNDLy2ABVAyV3gi9/oFUC9L0sXVVYXQEUuqfvvexhAeFQZSsOOGECFwAl/RV8aQGGc1CgbaBpAElqpVt7sG0DKhk45AnscQFhwMuaMDh5AFUGjtssCHkDIqxRLDWwcQCYuJ+i95R1AnuHay6J8HEDCednksuIbQJnUKfp9Ax1AOXS8et1VG0C7SE1aNdsbQHe/0t26DBxAbNgfvvX0GkBdsnlzs2caQKjNA1vZWRpAnVFQbCT0G0Aw0wMKZtEbQFYtLV7/fhtARMvQPE+BGkAkfaCOIYkcQDQwzhFH7RxAj+v2dKe0G0AflHzIVG0cQEV+u89szRxAoGXr3UE7HkAQO3SrDJweQOEhU3a1FB9A0g5EZbHWHkDZ+G7vKaMfQBGoZH1ypyBAvTsG++m7IEDWUwmNYesgQN/TqkaksyFA1isuupW+IUCD4pkVwnEiQOPW/eoExSJAaCqtDoyEIkCRjZJdK0sjQCeUCYywRiNAExbkBtm5I0BdaJ9tTpcjQKBhKtN2kyNA4FdsJM6fI0AAuTJT63UkQMbUOabTmiRAzO/S9l3CJECP6Hbj7EwkQMdLyam3MyRA5hUZh7YtJEDJcCUmlkIkQBq9/q/PiiRA8JB9L8QqJEAq4R+jo50kQG89lxztCyRAVWoOszWzI0CzjPmyee0jQH+8yfgejyNA6YFbwi5lI0BXcgVGAvIjQKC78PeXWCNAYeDebHfOIkD+VyMVhRgjQJ+Lm2G+uCJABOYigCO4IkBXuHfVb4wiQK0vyOs3giJA2dRmgfwUIkCJNsY4+DIhQHXd+y+wgiFAg3fvlXTkIECe2HG6lW0gQJBY8j9JMh9AGliLq83PHUAtasxph2YcQLc/pHBQ9RtAK//PBb6fHEBBXzi+46AaQA==",
          "dtype": "f8"
         },
         "yaxis": "y"
        },
        {
         "hovertemplate": "Sequenz=27<br>t=%{x}<br>v(t)=%{y}<extra></extra>",
         "legendgroup": "27",
         "line": {
          "color": "#FF6692",
          "dash": "solid"
         },
         "marker": {
          "symbol": "circle"
         },
         "mode": "lines",
         "name": "27",
         "showlegend": true,
         "type": "scattergl",
         "x": {
          "bdata": "AAABAAIAAwAEAAUABgAHAAgACQAKAAsADAANAA4ADwAQABEAEgATABQAFQAWABcAGAAZABoAGwAcAB0AHgAfACAAIQAiACMAJAAlACYAJwAoACkAKgArACwALQAuAC8AMAAxADIAMwA0ADUANgA3ADgAOQA6ADsAPAA9AD4APwBAAEEAQgBDAEQARQBGAEcASABJAEoASwBMAE0ATgBPAFAAUQBSAFMAVABVAFYAVwBYAFkAWgBbAFwAXQBeAF8AYABhAGIAYwBkAGUAZgBnAGgAaQBqAGsAbABtAG4AbwBwAHEAcgBzAHQAdQB2AHcAeAB5AHoAewB8AH0AfgB/AIAAgQCCAIMAhACFAIYAhwCIAIkAigCLAA==",
          "dtype": "i2"
         },
         "xaxis": "x",
         "y": {
          "bdata": "+SfNHjb4IUCEtxwUgJMhQMOq3DwA7iFAR1Hj7Co/IUCOMTbEax8hQFdqw+qDKSFA2QSH35W/IEACza1IfWUgQNuZUxYwYiBAaS84L+T3H0BferkrVy0gQEZbZM/yNh9AL5ItD5zKH0BwMWTr50kfQJvJeEd9BR5AjiEU7ynmHkA4SUC0T9YeQADJuHVnBx1A76BMsUlwHUAY9aFzFRkcQPybbShLxRxA6v858n1WHECFQ8cJHDEbQPJqx6LX7BpApzBa8OZtG0A8s4bcGigaQF3fsnBQ/hlAznx5XTadGkBYK4ezipgZQJ53kJutPxlA1VhVjto2GUALP0EUa3wXQAVFCWtVSRhAPgKDtvHaFUAbkI6YhVoXQA6thTiEfhZAVAzjk/2EFUCrM21+23YVQK+i8rVqBRVA8Q2PuKWbFUD36I2nBSUTQEJK7hYe4RNARZZeYckEEkBrVIE8CT0TQFk/k/RU9BBA+5tmgH1yEEBqjLdsWsEPQDy/Mm2DHA5AaMuS2Z7TDUDq5Zfhu/cPQJ56z6VcZAxAf6xRpCmHD0DOs1Qe3DgMQEJXYIGDfhBAtp+nNKIXD0BaR1qa0TwNQLx9yOxhpg5AFaDUJ95qEEA8Oz3Ei1URQF0yLTOWoRFAuGfjd3EoEkDTeRJ8so0SQIogbEGxjxRA/tbxu+rdFED4gHc2b8cTQEloU76bURVAfEoP1GVgFUBuaYMks80VQMe5Vy3OvBRAwj3VgZ2+E0CUWFhXaSUVQOWczMosNhNAC2Dqg+Q3FEBtbRvrXoQSQHxehE7yHxJARrNlACQqEkBy73Xj0u8RQCTNR3yxfRBAaBtcWQUGEEAxMHfsObcPQJbHUqCfPg9AkFRi3RScD0DcAv5r6+EPQMc2aurxJhJA+V4AUQi3EEAL5MzjV+URQDkepTXVdRNActeQWDEUFECHqKyYBMwUQMV7nzpyjhRAhurR2PBtFkAVmjzRVowWQOSUlzQlXBdAGyhiCO7CF0AGQVfnXrIYQPRjFydzohpAc2GtkzdwHEDqtuV955sbQPiC+GxIGR1Ail9U+viEHUDinzgD0YwfQFjzK7j7zR5A1nztSFhhIEC2B4y8GAsgQOT5kcBK/iBAMnVczJDUIEDqqcxxqQYhQNX2EK1p3iFAP+sMJKzzIUDWQ1brBM4hQMRVZLyjYiFAaVmdXApBIkBjSu1U3nIiQL1srUwLQyJAyKz7vvH9IUAFcw8dQeIhQL/IYXrhXyJAbRwDvUqaIUCt8ehce/AhQAaX7cx6SSJA1tBPyRGSIUDA/TGzV/chQOl/Z/1rjiFASXulK/RBIkA4Xi28IDQhQI5KkY/PJiFAPElm9aSyIUDPNWge8gohQKQAJNbDXyFAkw+mtos0IECPnZq0L/0fQOzCfTDRYB9A2wRriB0XH0Bavu4/LbceQEzXlewZUR5AJH2gbg6pHkDm973tXlYcQNqiHLcvdhtA0LTtFvP5G0A6iJ7xtIQaQA==",
          "dtype": "f8"
         },
         "yaxis": "y"
        },
        {
         "hovertemplate": "Sequenz=28<br>t=%{x}<br>v(t)=%{y}<extra></extra>",
         "legendgroup": "28",
         "line": {
          "color": "#B6E880",
          "dash": "solid"
         },
         "marker": {
          "symbol": "circle"
         },
         "mode": "lines",
         "name": "28",
         "showlegend": true,
         "type": "scattergl",
         "x": {
          "bdata": "AAABAAIAAwAEAAUABgAHAAgACQAKAAsADAANAA4ADwAQABEAEgATABQAFQAWABcAGAAZABoAGwAcAB0AHgAfACAAIQAiACMAJAAlACYAJwAoACkAKgArACwALQAuAC8AMAAxADIAMwA0ADUANgA3ADgAOQA6ADsAPAA9AD4APwBAAEEAQgBDAEQARQBGAEcASABJAEoASwBMAE0ATgBPAFAAUQBSAFMAVABVAFYAVwBYAFkAWgBbAFwAXQBeAF8AYABhAGIAYwBkAGUAZgBnAGgAaQBqAGsAbABtAG4AbwBwAHEAcgBzAHQAdQB2AHcAeAB5AHoAewB8AH0AfgB/AIAAgQCCAIMAhACFAIYAhwCIAIkAigCLAA==",
          "dtype": "i2"
         },
         "xaxis": "x",
         "y": {
          "bdata": "BHCQQNT/IEBJnhV4TA8hQMGaRT99iiFA99+wAYgjIkBpU2QpgJkhQEKiiOMLiiJAecYTJ/9ZIkAw8ZGtm1YiQKWn1ePTCCJAYoxIcdhpIkDm3Dwg3FkiQPFx/lt9RyNAWarUKb0RIkCyV0HbgAciQJIdCd618yFAS274gxJoIkD2Rpw1H1ghQEJnlByg2iBAwueo2fAgIUA7zbrTfDggQGvTtFhe0x9AlU1i840nIED1Q8qyUSggQLfoNSsWByBAeSpu9Ep+HkDUE/k06A4cQPQEFsc9WhxABEs/QQo7G0DgV9f9TD0aQFlZ0jIRGhlA4Bfq252FFkDTGnutcwoWQHGNmyNm2xNARgpe6XIuE0ANDbar23URQL9cHbdPMBBA6gr9BQQDD0DfNsrTD6MKQCx3dgrqXgVAtgFus3VqBkDrkK7UXF4BQHzgBU0FWgBA7xvzwHLfAEDaidqvNR4AQFuRvB9ZVP0/GFaj2Rgt8D+r7k5tJQLtP9Cf6JvpS/Y/GEljYTYi9j+QwvSf06n3P7boPOHeavQ/0lNKmQYn9T8t/d24wNP3PzaViuNyMvA/4kmxeaOT+j9usNsY5232P5Io7mItOP0/OKJLJbbF/D+9yBAQdgMEQHWGRP59hwZAOd1wymLTBUB6tUH+BRkFQIozToaYlApAycGk/GilDUBN0I4ak2sOQBMgEI69dg5AyOl4U3apDECVbJG1P2sOQGZuecqgiAxAtuSD3k32DUCs36XLbdALQPHoZWbcnQtAxw6qMLakCkDWkTRrIucGQN3BevwELAdA9N95tzK/BEDQGQkTDLgDQLvaUevJBv8/Cqs4HtTw/D/CsNtWTWv7PxGyQvx6/wBA7iAwivOd/D9C+Y65z8UBQJb+o5us5gNAcEBMrsP4A0BeNJDUQB0DQJ2DUFrkLQVAZzD3Qi7xBEAUdDx+Pp0EQN6ZqlxZkwdA9D3ZDDG9BkByRCZSypcIQJCo2eG2wAhAUbBjWbV8CUA+OWTAIa0MQDuEdKBMZw1AYNC4qM7bCkDN+WHtKJoLQAdD5y2fVwpAqlplj8X7C0Cltv9l0iMLQM9qE0mk7QhA/gSvDD5hBkA2wZ04Iu8EQP0eG+uaPQNAOotjQI1rAEDX+L53hZ0BQDjeBo1bR/k/qCqV5uV9+z8uOZwTlmz2PzRfaL1X7/g/pk3eiLhr9z8V/ruh9l7xPy0znGPo++0/KxbNZF8j8T9OYq3dJVPpP7ozEzYcx+k/7JddclNy8D/yhFTcSJbnP8dkxXB+7+U/oS+iKcuq7T+LNcTexGHvP8J1UHcWs/E/cm0tfMja6T9c96eAppLpP8VySiHU8Nk/eBSEU1sI4z/qFlZaat7mP+iaIFUqbuk/DUqLH2D06T/Z6zce5OXuP9S0tk1RbuM/1Yu/cz+H6D9iJZXrf2nwP9CVcG/DruQ/PHTbhahJ4j9rVnUjld3kP5CSeGpJouM/KdrsbRr+8D/gM1Ag1qO9Pw==",
          "dtype": "f8"
         },
         "yaxis": "y"
        },
        {
         "hovertemplate": "Sequenz=29<br>t=%{x}<br>v(t)=%{y}<extra></extra>",
         "legendgroup": "29",
         "line": {
          "color": "#FF97FF",
          "dash": "solid"
         },
         "marker": {
          "symbol": "circle"
         },
         "mode": "lines",
         "name": "29",
         "showlegend": true,
         "type": "scattergl",
         "x": {
          "bdata": "AAABAAIAAwAEAAUABgAHAAgACQAKAAsADAANAA4ADwAQABEAEgATABQAFQAWABcAGAAZABoAGwAcAB0AHgAfACAAIQAiACMAJAAlACYAJwAoACkAKgArACwALQAuAC8AMAAxADIAMwA0ADUANgA3ADgAOQA6ADsAPAA9AD4APwBAAEEAQgBDAEQARQBGAEcASABJAEoASwBMAE0ATgBPAFAAUQBSAFMAVABVAFYAVwBYAFkAWgBbAFwAXQBeAF8AYABhAGIAYwBkAGUAZgBnAGgAaQBqAGsAbABtAG4AbwBwAHEAcgBzAHQAdQB2AHcAeAB5AHoAewB8AH0AfgB/AIAAgQCCAIMAhACFAIYAhwCIAIkAigCLAA==",
          "dtype": "i2"
         },
         "xaxis": "x",
         "y": {
          "bdata": "f5a8yu+LJEAHgdRszIskQKahKUSgeCRA0o4ZImJBJEDGvi3/IQslQAo72gY9hiVAD2mXxBk8JUAHGnwWmiglQJuE/+eLdyVAFv5Hs5GIJkAIxAK8bgYmQK2j9oOPQSZAhtOduiqnJkDKQCl4d3MnQNM7A/hXqiZA4cSSLt1mJ0B7YYtxy7UnQJpVrJrWoSdAYIJinIOCJ0DbZYpyPcgmQLOPpNyd2CZA61vuKBwyJ0DQj/0+ZtUmQJnKVG0FNyZAn3qxPL48JkBhOp9iI8IlQKV4P3qfgiZApLsj5OC9JUAcvguPY6UlQJX2HzFO8yVA7wEWbTXHJUBal8XQXgMlQE2fyvbtfiVAvMvZuePhJEBUifCaLawkQK8Iz/CxXyRAKgmhQ3BxJEDrwU/ufsIjQFUWj1VXDSNAmMbkAgLiIkDyJbaV4bohQNWcIkcODCFAZPmE94yWIEBk8znOD9IfQNc3wso4JiBAwe1k0yn7HUB7sCWMRk4eQGf+1K8hMhxAlzuar4kCG0Bi5hLoG28ZQOZO7cEuPBpAsKtCdCkKGUA6WLq2tXsYQJVRhlWzShhAilszqJjtF0CH2iK2NHwXQErr3sFfhxdAk3o9mQ4zGEAYk06eJZ4YQBa1C6OWqRlAqHmdgibPGkCS4sOVcOoaQOSRDUsqQRpA5gX9UVesGkCmhlS8bjcaQNBV1qaEdxlAORmLoWLUGUCKWEVuoAIbQF83FbD76BpA42UVylPIGkAVlhVaRs4ZQOpzPiTRxxdAJ0pZlyRbF0D03jSJqT8XQGxeLp8YERZA9ggf21qRFkCKLteOJp8VQLotrJP7gxNAdyze21DzE0BcaoCDrSoSQNNpD29BbhJAxM+ro1GqEUA02jI2dnsQQKqk5WfzRxFAnB9M3K0KEUCRYu4W8RUPQPwWinbtlw5A3TAnXTaKDkBzhwQlTIAOQOfoSW4XQQ9Am8W7KzmhDUBQX/N+2UoKQP18QOSeWwtAS3nWLsHjDEAj+pzjC6kNQJnrv6HH8ApAdp03TW8aDkDouVlY1xANQDa9E6051gtAnhzr6LXxDUApG+S8kGUOQAaaX8FBpQ9APFstT+LMDkC+B4BXTO0MQAs6uCcaewxAQPai4H6jD0BQh28xsfENQDt8Y4p/Sg5AtO6/Xh/8DkCgBqAoxN0MQN/1GMCU9A5AhgPRyKgkDEAVv5eDO+cJQLXd3yTl1AhAotwtCErZCkDILXB4p4MIQAzX0O3wrQZA+weBTt80BkBwiQ02+2gBQMB5NHpcawBAB96C05iS/j/eDTjoJhEBQEiHWr60bfs/zSF1hCGe+D/RZIlqyST2Pzsjg7bkoPU/clUk4D87+D83Jhh1GCr0P87zikFE2/E/HtlgpKtj7T9YhTCElUfxP8anXF72cuE/8KnjiCSB4D/237O68MHlP1CaRlnUx+g/L4DJ6B1R7T9pzHVLYcjeP+j8pJ0qpto/pKkJNEK96D8B2bJRzdXkPw==",
          "dtype": "f8"
         },
         "yaxis": "y"
        },
        {
         "hovertemplate": "Sequenz=30<br>t=%{x}<br>v(t)=%{y}<extra></extra>",
         "legendgroup": "30",
         "line": {
          "color": "#FECB52",
          "dash": "solid"
         },
         "marker": {
          "symbol": "circle"
         },
         "mode": "lines",
         "name": "30",
         "showlegend": true,
         "type": "scattergl",
         "x": {
          "bdata": "AAABAAIAAwAEAAUABgAHAAgACQAKAAsADAANAA4ADwAQABEAEgATABQAFQAWABcAGAAZABoAGwAcAB0AHgAfACAAIQAiACMAJAAlACYAJwAoACkAKgArACwALQAuAC8AMAAxADIAMwA0ADUANgA3ADgAOQA6ADsAPAA9AD4APwBAAEEAQgBDAEQARQBGAEcASABJAEoASwBMAE0ATgBPAFAAUQBSAFMAVABVAFYAVwBYAFkAWgBbAFwAXQBeAF8AYABhAGIAYwBkAGUAZgBnAGgAaQBqAGsAbABtAG4AbwBwAHEAcgBzAHQAdQB2AHcAeAB5AHoAewB8AH0AfgB/AIAAgQCCAIMAhACFAIYAhwCIAIkAigCLAA==",
          "dtype": "i2"
         },
         "xaxis": "x",
         "y": {
          "bdata": "GMKqkQOWIkDbGvjpx6IiQJ8l/jYn3SFAz/MHUYtnIkAevsgzOqoiQNeaF4vhFCNAq71OAm6sIkDX3wf9jsoiQAInMOQNhSNA1z1hrnm3I0DdgKQysw0kQKKg9JtYySNAhc+hybsQJEAJ9FYN7C4kQAIRmGJxgCRAnOpsgNGAJEDtvTUFhZUkQDQ0+2GAmiVAPBQyi41sJUAOrpuPBKQlQBttjYpkZSVAuRff+fypJUB0lfrWz3UlQOURj4D4TCVAqhO0/2/kJEDJg7ZXVn8lQDTxFg38+CRApNnkZzpfJUAT45T6gxglQKvOsjMZ9CNAwOV90xEPJECYGzBgENkjQE/rP4DePyNAtaBcHs5FI0D0WfCDg2MjQA/F09NweSJAP+hHXWLMIUDp5AE3rnMhQO3V0DPEaCFA5Na6+fTWIEDxYlxoOrMgQJu6pJPwgh9A0bS/LvWSHUCaDU20/kweQLytkGEcoR1A2zr06oYYHUC9TQ+gtN8aQAb4IV3X9RlAUynm2czIGUAG6VKrSFsZQDnRdpkeahlAiXNkjfW3GEC49dEWjecXQGTtJs1SlxdARvqMgHn/GECjghgeavsZQHIY+jcfWBpAOWHuyTPoGUAgneGJCIAaQIsz2myTuRtAFCm9tJtiHEB1n/IA5eQdQJnabtyYsx1A+WM8idUzH0DuKzrNnzsfQDqR6DcqRR9ASZfcdl/BHkCm9At80VwfQA7q2WHi0R1AfHqfXkQAHEAnADNg2uscQOsv+40JEBxAtKVbiTC2G0ASNbD9/LkaQG5VxkaNFhlAQn6JBocZGEDoBCzRMwkZQMJrrSN2RBdAplmWVOmoF0D8yOKCw3gVQBCyTy4gBBVAmFVPu3AaFUA4lMrNy3kTQIWQy36bSxNAet4HChpZFEBLrAT9Zo4UQAl4weTOcRRA+r613mw3FED6m+WW6rYVQMXirBIAchdAYZNlTRMyGEC/zSbDqzYZQLlrP3CVIBlAsoR+tFgNG0APr/Mdx5IaQNLeDWMcdxtAG9HnGB+dHUC0y5r/uaYdQN+hWz2zACBAhpsiHAmQH0Br+vHqRpMgQEGLKM/NISFA8jZWn26hIUDGKgMvIKohQONm99E+sCFAAVEJuiQ8IkC8a9r6gWMiQBq7u1HfSyJA0SYNhYFiIkBdc7NwupwiQGTOu2kJjCJAiQHOcEajIkAIsr+r4iQiQIaurjGgoyFA4sa7PKMgIUAf6z5rWYohQP0EP65ZJyFAnw9MlW7bIEBilooj1RMgQFbqIJCFsh9AA7NSW91LH0CesIlpf+EdQKGhUwP3ZBxAiA+RVizUHEB6NIsDBNEaQFbp+s5aERpAdb4gEexgGkCt1PapzgsZQLzUyQE0PxZAVHlF0F7SFUB4QJhbqf0SQLaYtqfiCBJAQicjqUsrEEAkhF2jQvoMQHRP1o7r9QlAa+CG19VMB0B/ewDsuzgGQPjvrqkuigNAAg0gvWc/AkCZUw44H5L5Pw==",
          "dtype": "f8"
         },
         "yaxis": "y"
        },
        {
         "hovertemplate": "Sequenz=31<br>t=%{x}<br>v(t)=%{y}<extra></extra>",
         "legendgroup": "31",
         "line": {
          "color": "#636efa",
          "dash": "solid"
         },
         "marker": {
          "symbol": "circle"
         },
         "mode": "lines",
         "name": "31",
         "showlegend": true,
         "type": "scattergl",
         "x": {
          "bdata": "AAABAAIAAwAEAAUABgAHAAgACQAKAAsADAANAA4ADwAQABEAEgATABQAFQAWABcAGAAZABoAGwAcAB0AHgAfACAAIQAiACMAJAAlACYAJwAoACkAKgArACwALQAuAC8AMAAxADIAMwA0ADUANgA3ADgAOQA6ADsAPAA9AD4APwBAAEEAQgBDAEQARQBGAEcASABJAEoASwBMAE0ATgBPAFAAUQBSAFMAVABVAFYAVwBYAFkAWgBbAFwAXQBeAF8AYABhAGIAYwBkAGUAZgBnAGgAaQBqAGsAbABtAG4AbwBwAHEAcgBzAHQAdQB2AHcAeAB5AHoAewB8AH0AfgB/AIAAgQCCAIMAhACFAIYAhwCIAIkAigCLAA==",
          "dtype": "i2"
         },
         "xaxis": "x",
         "y": {
          "bdata": "1/ZEevEVEUClykgAK0YSQPQLWaboIxJAgC4zUH6uEkDHPnMJG1ASQDwE7fySXBJAsOMGymqpE0B5e+xKIKITQJa87QBbPRNAP6B7km1PFUAVCZRAtYkUQGnjJB/loRVA+qSNHzsuFkDrFTqEm94VQCn9VeJ1LhVA2y3ltf6PFkCW7nAWRyAWQN+3uraxtRZAfqjnFPmuFUAqJyixY7AVQFbzF0GjBBdAfhrt4w1pF0ANjWxoYI8XQHehxdaJaxZAcDCZiLh8F0BHJFcVH/4WQNOLBeraphZAD8qi9oNfF0DmXmFs1c4WQEJWez7hjhZAsHraOh6AFkBxhFbhsowWQMXbOMelFRdA13ICtE5RFkC8j+xzg/EWQPRjylfxxBVAytE6bcu7FEDmhbFQDjAUQGWdHYfOaBVAMQ410ua2E0A+ZDcTad4TQGWUP9fR3hFA0a9bpgrLEkBk5LywBLEQQG19NHhiaRFAXhGq+nmAEEDC+Y8vIycNQFY0D6drNA9AOQzyt3MfDkAAkFsWDd0OQD2wDVh7KBBAFO67LadIDkAVT3MjfC4NQJ5FlPRLeg1AL6tUgpmRD0AsKYJ9wHYQQHmTLY/4TxJA+dRFPdb+EkDlst7DKc4TQJPajQM0/BJAmvGl9IttFED1/raUzQgVQEmbVC++phdAyT5FLX+KF0Bu79X9eowXQPneqXSiABpA0+lVlyQpGkBdq+8juboZQHJmg1JG2BlAIM3fAsP4GkCSbVbGkLwaQAzH9kUjgRlApjGvN7bvGECJDpZk+SYZQAF/DTk9ahlATN6nxi5AGEDXsJ304T4ZQGqw6q2WSBhA/zsMO4HdGUASyhDof3YZQAp4D7b1cxlAb068w6yuGEAdx+XWADIZQPPvUnnyeBpALQWfA0NnGUDGv1qko0sbQLW/RNyG7hpAzXojYP2iHEB7SzKIDVodQDdFVqTg0B1A/HsQq/EZH0BaUjnYXlUfQD505y2qJyBAlMbjP3CmIECifu9l4WQhQGpEqLzF5SFA1IZBGmgKIkAMyVLv9aYiQGZQmhSuByNAqJoykmwZI0DGdvGvWfEiQCro5Heo3CJAOTkpKhNPI0A/vOnFhFcjQNokXAnwTSNAzyF0ID3GI0CE4by2yK4jQFt4oDkuyiNAC6VilgeYI0CxMcvMDG0iQGXrZPCkliJAgXRXYVLnIUAICmEpvv8hQBUvTEWj5CFAI4wdrZR1IUCwR3TNKyUhQNBdFrnLICFAy/UoesdFIECpiFbKpAkfQBsy6WSJOx9AW+uMF5NTHkAL0ATGdTEdQKT3d+fqeB1AiJslsySMHEDXtVvvE3wbQGbfDPAmSRpArMAvQTpiF0DTgeCSsrYWQBwJekJGhRZAPS/zM3y7FECmonPfEBYUQCdUFYdmQxJA4HQMEhrmDkBOhzfde5cNQExQBmTRQgdAT4CZIey8BkDaGqUStmEDQLH4i2SuV/8/MtZJYdVR+z+GoZAmEpP2Pw==",
          "dtype": "f8"
         },
         "yaxis": "y"
        },
        {
         "hovertemplate": "Sequenz=32<br>t=%{x}<br>v(t)=%{y}<extra></extra>",
         "legendgroup": "32",
         "line": {
          "color": "#EF553B",
          "dash": "solid"
         },
         "marker": {
          "symbol": "circle"
         },
         "mode": "lines",
         "name": "32",
         "showlegend": true,
         "type": "scattergl",
         "x": {
          "bdata": "AAABAAIAAwAEAAUABgAHAAgACQAKAAsADAANAA4ADwAQABEAEgATABQAFQAWABcAGAAZABoAGwAcAB0AHgAfACAAIQAiACMAJAAlACYAJwAoACkAKgArACwALQAuAC8AMAAxADIAMwA0ADUANgA3ADgAOQA6ADsAPAA9AD4APwBAAEEAQgBDAEQARQBGAEcASABJAEoASwBMAE0ATgBPAFAAUQBSAFMAVABVAFYAVwBYAFkAWgBbAFwAXQBeAF8AYABhAGIAYwBkAGUAZgBnAGgAaQBqAGsAbABtAG4AbwBwAHEAcgBzAHQAdQB2AHcAeAB5AHoAewB8AH0AfgB/AIAAgQCCAIMAhACFAIYAhwCIAIkAigCLAA==",
          "dtype": "i2"
         },
         "xaxis": "x",
         "y": {
          "bdata": "9c1qIuVcH0AziJnirkYgQBlmTbYP8R9A9Tu2WcV+IECA3ylp5yEiQMbmsf4jySJA8YhreI1II0C+XnDz/TwkQMb0HBYZTSVAHjw1+w9TJUCtmadJgrUlQH3LsOjgYiZAlro2DRHQJkBxqW+VyjonQLyFra4dPidAv76WpNwJKEBGtbMWidknQCIuQRGg6idAeXmhCkBfKEDypXKMLnEoQKwt+NB0oSdAgP3NO2nwJ0B+S3Ur3f4nQG2PIFPjuidAMTVXqTJMJ0DBTSJVgOUmQNglUztz7SVAi4IaCin3JUDqGDn3S9wlQI6jO9f/yiRAxz7AKRrvJEC/XHfnueojQMJVixmJPSNAtysipddnIkB1UBqmtsEhQHDFvHV01yBAt4Csy1C6IEBGKhwD4B4gQIZWFj3NUB5AaRvZAfoXHEBNN726bnIbQJSfemPi1BlAsCgAnY6tGEBnEjV+QEEXQM6SXIlwWhdA1o9Nqt1PFkAjo3KuyGcWQKXdYy9GIBZAhkIMGR6yFUCuYvmXxBIWQD/IZEkmpxVAtSqCeU01F0AlivbBI4YWQM7nWxx62hVA43B88RSvF0AXBzaUuecYQPqcgJho9hdA+y08xV2EGUBDoN9JT94YQJz3aGamNRlAtRING8FCGkD6A7eu8BkZQDaMOr4gSRlAcBZbmz45GUBs+0E+6DwYQH66/nN0shZARHQfdEYuFkBH0hso1TcWQAitt6ClrhVA6f3bP9WDFUC+UNoQ8fAVQJKcmnpZaBZALzzlQl+IFEAFYDH5hMITQLwCG2m+OhJASBvU3DWpEUBjnYDWugcRQMEZL5Hu5g5ArI2LrZUXEEAK69Si0S0LQJ90TyfQxAxAg6daXyC7CUC6Aor+nHIIQD7dsEnpRghAdeKpku+EB0CXxwxcjSEKQH5sGOaTLghAFkvMbiwNDEBoXAErSRkKQF8IPvYPuwxAVqq8T+phCkC4AU2lGTIPQC1aKXcMrA5A8J9jdf7SD0DLyk0PXbwPQMUQxREskQ1A6N+2PapvDUCloFdqmJANQNeNYfFFDA9AxOk+AX7YC0CqThvBP54NQBugv9Bq+QlA4MUS3EEfCkDY64NGongIQFnDZwyV+ARAVGZfnl8iB0BcHjvPPwcGQMANBbuLsgFA5AV/jkCS/j+SaqyFeusAQOpMYNuuX/o/QiTOypdp+j+mM5X5p0D1PyxEdbiRgPc/K6mIZKOy9j+vs2/t+br2P87ptD1G9/Y/AgW0cG/X8j+FoOjHLvjwP5gYEqNNPd0/Ki0g2Ber4D/CvygcxwvlP8uaFXrntek/0gsXO/c/7D8o41sKfGPtP+fNs1/Lc+A/ZrR7GUaE7z/JnJGctgThPwqaEtlVEuI/D+ESh2Oe6T9dhKwlyIfgP36kmF1fvOA/fks+sSz34T8VH5Lcq7nePxfEpovZFeY/qNkEqgFj5T+SEtxNwCLhP6U33qPgROM/VmWgtjk95z9AtauY5SDnPw==",
          "dtype": "f8"
         },
         "yaxis": "y"
        },
        {
         "hovertemplate": "Sequenz=33<br>t=%{x}<br>v(t)=%{y}<extra></extra>",
         "legendgroup": "33",
         "line": {
          "color": "#00cc96",
          "dash": "solid"
         },
         "marker": {
          "symbol": "circle"
         },
         "mode": "lines",
         "name": "33",
         "showlegend": true,
         "type": "scattergl",
         "x": {
          "bdata": "AAABAAIAAwAEAAUABgAHAAgACQAKAAsADAANAA4ADwAQABEAEgATABQAFQAWABcAGAAZABoAGwAcAB0AHgAfACAAIQAiACMAJAAlACYAJwAoACkAKgArACwALQAuAC8AMAAxADIAMwA0ADUANgA3ADgAOQA6ADsAPAA9AD4APwBAAEEAQgBDAEQARQBGAEcASABJAEoASwBMAE0ATgBPAFAAUQBSAFMAVABVAFYAVwBYAFkAWgBbAFwAXQBeAF8AYABhAGIAYwBkAGUAZgBnAGgAaQBqAGsAbABtAG4AbwBwAHEAcgBzAHQAdQB2AHcAeAB5AHoAewB8AH0AfgB/AIAAgQCCAIMAhACFAIYAhwCIAIkAigCLAA==",
          "dtype": "i2"
         },
         "xaxis": "x",
         "y": {
          "bdata": "ILsEyh67IkCOzRoi6QAiQA8Im7wQxyJAqp2ZKgO0IkC2P254zDcjQJ0WEdm3DiNApZ5inqImI0BU+OUpdz8jQPl1Z21TMSNAzNtEP7wMI0BzftUnDg8jQNnI3DWhBSJAbRK3pRSMIkCp8y4aV/AhQDeUeMrxdiJAhEVb5AgLIkD0cONZNMkhQJiF9E1EpSFACFkYjOt3IUC75RrbNMQhQA/HIGVAmSFAjUbYa8xYIUDwRrtQnRghQEelLLX3JSFAJEXmGYQrIECVno3AhjggQLTaVkdz3R5ABPkWgG3yHUCsDmXgO9YcQEyaLNQrQh1ANucKcg7SG0CkdV26+GgbQCpd82yEHhlAobAAABuzGECU9pS4sp0WQDnbI84YPBZABlkVQhbsFEB7p2KrmU4VQLL9/O5UxhdABuXosa9JG0D/9XOf7MscQLU76kqRbxxANBK9z08AHUAL1Wqph3wdQNcGZ7tM7x1AXqxA/aCWGUCYIO4Ug7UUQH74Fin+WxBAd+mva6EPCUC2bgTCV4ADQFvInaf7Lfc/0tvnXo/s+D+4IoaKTq71P4vhhDH2iwJA61i+2f0OAkB5JmASTlgCQD/xCaCe6wJAW9Mo9nCpBUB/L4Q82bAGQBJxJ2JAgQpAxedhnj+NDkBbRPuBklcQQL1bGLibWBFAAMv2fHKOEUD3qMNJXqsTQOLrh7/1ohJAvRDqNPzcFEDW1YxlwQwVQO6XYfan2xNA2XJUw4QLFkCWRVYqEZIVQDcfB4/QbRVAbKME3jNcFUB35ZTRFFwUQFIhSmnMHBNAkDgvrDu+E0AwukVwBYwSQGjWW5nROhBA+tlDiQkuD0CA2SDyyisNQCbQYvwQ/AtASITuKlH7C0B6d2OHv6gMQBT19xH29A1AAmoHmsiCDUADRg+lRIcQQNqHjoR6IhFA+s56X+MTEkAT33R4jMQTQGDzbfEWxxNABsSLnPpOFEDjzLEw64gWQHA7Uc0g9xVAxqdCz+SiFkA6rYzzb9wYQJAvmPO8mhpApwQ8dARCGkBQxsIveQwcQAJ9gULZRhxA8GrVB9rGHUCWTU0n6xAfQGqKGnH8tx5AE2AyksgHIEDOoms7lDYfQNqtCASspSBASrgJSNIjIEBw4W5sBqYgQFbr21sf5CBAaND5HP/fIEDs8NENdP8gQGMiEMDhYiBAZ3V6ip8bIEAQwDXQAo8gQJvcz60/oSBAUfZlk1ZYH0DqMlQBolsgQNmqtOfHICBAj5OJRjh+H0D7RqhFJyoeQKmTN1hN8xxALPbllV7vHED9TvLuwiocQMBUnhv/9RlAvTHLEZhzGUB0Zxo1XA0ZQEHecLNgARdAk9g5X0whF0DCMiq1b4MVQI28xFPwAxVABmeN231QEkCQsORtNoERQJDWOocj0xBARkMjOk8uDkBV/Ab5XRoNQH8YGyeVtAhAATkWrTl/BUDI3fxPD0UBQBzf+V1Zlv0/We5H1LHC/T98N7aMxY/5Pw==",
          "dtype": "f8"
         },
         "yaxis": "y"
        },
        {
         "hovertemplate": "Sequenz=34<br>t=%{x}<br>v(t)=%{y}<extra></extra>",
         "legendgroup": "34",
         "line": {
          "color": "#ab63fa",
          "dash": "solid"
         },
         "marker": {
          "symbol": "circle"
         },
         "mode": "lines",
         "name": "34",
         "showlegend": true,
         "type": "scattergl",
         "x": {
          "bdata": "AAABAAIAAwAEAAUABgAHAAgACQAKAAsADAANAA4ADwAQABEAEgATABQAFQAWABcAGAAZABoAGwAcAB0AHgAfACAAIQAiACMAJAAlACYAJwAoACkAKgArACwALQAuAC8AMAAxADIAMwA0ADUANgA3ADgAOQA6ADsAPAA9AD4APwBAAEEAQgBDAEQARQBGAEcASABJAEoASwBMAE0ATgBPAFAAUQBSAFMAVABVAFYAVwBYAFkAWgBbAFwAXQBeAF8AYABhAGIAYwBkAGUAZgBnAGgAaQBqAGsAbABtAG4AbwBwAHEAcgBzAHQAdQB2AHcAeAB5AHoAewB8AH0AfgB/AIAAgQCCAIMAhACFAIYAhwCIAIkAigCLAA==",
          "dtype": "i2"
         },
         "xaxis": "x",
         "y": {
          "bdata": "OB8ZGKONGUAmsQyWb0kaQKfD9+ydABtAj1YCPhH7GUAeOf0vvrQZQDhtzI6G1hpAtPQBScKJGUBN0hjA3VYaQB9tSjvreBpAyIkilPjiGEDRVBUz0GEaQKZF6r2lBxpAY/pnnyc1GUBZPCeCboEZQNOwN0qAsxhAO73xduo8GUD9h/uUI70YQMBQA8ItMxdAl5yHVyfkF0BHjZpt3aoXQPrIlP3K9RdA2XBUF8l/F0Av2MeBxaAWQND5aKR31hZA2w2KCMdcFEDSOQjOmH4UQJlAqR5RihRA53Ok+dRWFUBQ7OOLwHkUQINsmn8psxNA0S19Bsi9EUDUnilmyO8RQH0At1BCqBJAz04h9YR0EUAvYF+JfKoQQI1gXvZuxA9APFrZr3WiDkBNW45vH+gMQO2tUCpQnA1A+0QU47ZJDUDFwRW/q0ILQA2fCZuKKw1A7tb0aBQiDEAR1UAIebAHQLZPL8k0rgdAmitpFprFCECa30Vd7xcIQLNX+vMBKQdA8qJ/Q8YpCEA0m5KcvwwHQFYbsqDn2ghAU+EcBQo/CUB9cX+hwt8JQIHPtlh2gwpAFUFBAMOqC0BcmbmPAHcNQHACBFIcqhBAsqmU3k5LD0Bb7TtxiY8QQDDTv0DktBJArfRB5Zl7FEDjgyUJ8wwUQKa2+lt6SRVAwsCWVb8VFkD0xvf3lZcXQKu6s9wf9xdAUz73HY6RGUCJTPRNgtcZQKapIFZYShlAWOUXijk0GEDGEn16HV4ZQDqgnCg+YhlA36W4oZGYF0D0DNQO6McWQMu7w5WtNBdAEJpTIpntFkDFj7POyXkXQOfTKg9hKhdAl+GXH348FkCQ5JFeKkEWQBNch/vwIhVA+7mVvjYjFkDycdtf5c8VQNmFV+zEfBZArFN8oCPUFkANy4+Rda0XQKWMw/jBjBdA4hiM1gygGED4Fh63l9QYQGh3TAjyHBpAHmVqXJb9GkCe7KaQgyAbQBUDPaPnSh1ActA7mOgXHUBaZlHuda8dQEdPlj5qsh5AupAkbiLEH0DthlbgMgUgQAw0b6farx9AYPx48Jm8IEAhWxQtndUgQPcQF/eMTCBA4d+m5olBIECVNdAvDb8gQGvKn2Gd3SBAPi5UMgL0IEAdyBBhRwMhQLS8GFzU9yBAcCCdXVmqIEASCYHvcRMgQHIymOoaJyBALE2RBUU+IEDHTMHTPk4fQEKnkU8DByBAfSNQZ47zH0DzuUMn1kIeQHtgS8htxB9AK7Dpojv2HkC63YDqUvkdQGN5DtucSh5A0d79F91HHkBtzmeemZ0dQJ3B8qV4thtAyCbYFpuwG0ABVozA+HobQBHiUwwg1xlAF+GjI14+GUDe7bxFh1YYQHyzOO8DexhAVT9jbQhuF0BujI8DnfkWQN3lMVOY8xVAJAjZloQfFUCOjEL1I5wVQOLtCod1YxRA2MyHjpmeEkBVO0vDXmARQE2msy2q8w5ASa50uEQrD0BEpsJMX3kIQA==",
          "dtype": "f8"
         },
         "yaxis": "y"
        },
        {
         "hovertemplate": "Sequenz=35<br>t=%{x}<br>v(t)=%{y}<extra></extra>",
         "legendgroup": "35",
         "line": {
          "color": "#FFA15A",
          "dash": "solid"
         },
         "marker": {
          "symbol": "circle"
         },
         "mode": "lines",
         "name": "35",
         "showlegend": true,
         "type": "scattergl",
         "x": {
          "bdata": "AAABAAIAAwAEAAUABgAHAAgACQAKAAsADAANAA4ADwAQABEAEgATABQAFQAWABcAGAAZABoAGwAcAB0AHgAfACAAIQAiACMAJAAlACYAJwAoACkAKgArACwALQAuAC8AMAAxADIAMwA0ADUANgA3ADgAOQA6ADsAPAA9AD4APwBAAEEAQgBDAEQARQBGAEcASABJAEoASwBMAE0ATgBPAFAAUQBSAFMAVABVAFYAVwBYAFkAWgBbAFwAXQBeAF8AYABhAGIAYwBkAGUAZgBnAGgAaQBqAGsAbABtAG4AbwBwAHEAcgBzAHQAdQB2AHcAeAB5AHoAewB8AH0AfgB/AIAAgQCCAIMAhACFAIYAhwCIAIkAigCLAA==",
          "dtype": "i2"
         },
         "xaxis": "x",
         "y": {
          "bdata": "eEOlu7VhGEB5CNYhM8EWQHJoB3GpaRdAj40iXQMDGEBedXbcF50YQHphQe/2ghdAdD4RdmLPF0DW1quVic0YQAvF9u//7xdA/zFZatznFkC9F13W5vQVQIjcpw2VyBZAuECZO14pFUClLFzzw8sVQNiuGP9MCBVAd1HqSKJJFEACkBFymAwUQCu5Gt9ggBJAqfaebooDEkDiGjNuMj8RQB9r+2zSnBBA+UtWq5YJEEApzpMykwcQQPcqi32C5QtAvhG9pajjDUDKtd3uakAKQGWfrtyOfghApGM3Te5tCEBTQxybf5UEQFSQNd6azgNARjPjACnUAkC2amCy/zz9P0/aTkq9ev4/4roUG+nU/z9E3NBLRbb4P97Tds7skvk/rlOQNWKJ9z+ZgrHAStf3P4z/KYxlmPs/wOK5JlZQAkDe2fjWVVIBQA7FFLIc0gJAYqkQaAIiBEDUcxGh49UFQNY0fQixXwdAWfMSa+bjB0AdUsZDuXAJQEJwkh7KPgtAMtFkUbapDEB3XyCRGtUQQNNy6EzTORBAiXisWJtAEUAFm3N1sAoTQP3Hdkbn7hJAVuVE0QhmEkC/Xz4kFqcTQF/AfzboEBNAEyt9hvvEE0DDzKh++bMUQPL3pxKN/RVAARK5l7+cFUBwy5zfZe0WQOMc5YH40hVASgryEeSEF0DVDWDK6coVQFhxhamYYBdAyVsehddNF0Cn5jiQU5wVQPAn73cajBRAxep4js8oFUDEK5DkzR4VQHHljCPcaRRAup4DOjIcFUDa64O02fcTQGdV2u9zWBRAk0BSNZExE0BQ3HTOBXUTQO7qN1GeTRJAcOmJx4OmEUDJGp3FeKMRQFSB431/eBJANxttnlM8EUAvJt6xyQASQIzRArU8jhFAhAT4XZYxEkBuNL8+VgQSQNfAvq78wxFArAkuyq0WEUD7hBcvNccSQDe2Efpf8BFAiHw7qswtEkDqVYEFIrQSQJLpk3o7qRFAkw2pygeaEUAHAn34PNcRQFWFGaKlwxJAbPBRwj4lEkDp7lv/XkQSQMtWPNMighJAQmU7Bnm3EUD0UE0gTuwRQBf4g7Tk1hFAAlozipIcE0BChiz87SQSQGINvOekwBNAfmHS90ymE0B75tMQdesSQDHDhQI0VBNAYcPnCBQ0FED3TFRKU5oTQI1pVlXRWxNA5ksFp8OuFEBKqBNpwTMTQNQgc9ADxxNAiQuyJDjuE0B9tCFlC9sUQPiMLIqtGhVAus4qESIxFEDFFswhmFkUQEfQuIs0LBRAuWNnFK9cFEBe1f3iXJgUQJ80N0ykzBRAhGVdv7qWFUCmt759mXYUQEUbF2ygEhVAiv/Ka+L3FEBm71ZoyU0UQETGEf8GShRAOjsx2vQ/FUAqE+xLejsUQCZLOqn87xRAszTT3X97FUBMnVBUvbMVQF4riZyR3xVAKTMCh64MFkCcTr39oUQUQPaapVfm7BVAH7rfS7U1FUDhYXFBDnsUQA==",
          "dtype": "f8"
         },
         "yaxis": "y"
        },
        {
         "hovertemplate": "Sequenz=36<br>t=%{x}<br>v(t)=%{y}<extra></extra>",
         "legendgroup": "36",
         "line": {
          "color": "#19d3f3",
          "dash": "solid"
         },
         "marker": {
          "symbol": "circle"
         },
         "mode": "lines",
         "name": "36",
         "showlegend": true,
         "type": "scattergl",
         "x": {
          "bdata": "AAABAAIAAwAEAAUABgAHAAgACQAKAAsADAANAA4ADwAQABEAEgATABQAFQAWABcAGAAZABoAGwAcAB0AHgAfACAAIQAiACMAJAAlACYAJwAoACkAKgArACwALQAuAC8AMAAxADIAMwA0ADUANgA3ADgAOQA6ADsAPAA9AD4APwBAAEEAQgBDAEQARQBGAEcASABJAEoASwBMAE0ATgBPAFAAUQBSAFMAVABVAFYAVwBYAFkAWgBbAFwAXQBeAF8AYABhAGIAYwBkAGUAZgBnAGgAaQBqAGsAbABtAG4AbwBwAHEAcgBzAHQAdQB2AHcAeAB5AHoAewB8AH0AfgB/AIAAgQCCAIMAhACFAIYAhwCIAIkAigCLAA==",
          "dtype": "i2"
         },
         "xaxis": "x",
         "y": {
          "bdata": "aa9XD/i7BkDwzwa0CQAPQO7xdEW7DBNATudYBsGwF0Bdsq0E/9EYQFbM+SWb8BhAzr6DOdK0GUCWW44iVOYaQK/ZZkstBxpAzt0jEky5GUDKHmlMEXcbQKuSSpMjYRpA0ggdIcF/GkCsYJR+kEsaQNenq9jV4BlAfDfUiJ0+G0DAk3enHP0ZQFUmiMCixRpA2uC0/oUrG0Bo6SQBfcgZQC7tR9PfmhlA0sa5JhmrGkBS0tGDUt4aQA/u9/zGxxhAuDvmywDNGEC56laRBxwYQM38dhfzlhlAz86up21tF0B6cYfa6YsYQEJSxtBM7BdAIGJ3TvvPFUACVNlkMd8WQAL/b+WVEhZANTrEn3GEFUBoOIE74w0VQFOcy06kURRAG4oftu/qE0DxaYkr3UYTQEnuxHWJORJAq7K3A1ugEUDgax5TiuARQBH8IiiEWRFAdOiq5/1hEECFSSFp9GYOQC1njNgRuA9AN6pdZZhMD0BT4k3BkREQQIGS3VE2Lw1AjpQ066ITC0DuzSaPDLcLQFhKOLNsyQ1AuwGHUz1kDECvLouMt3oMQEKzRCtQ3w5AX3NJ854vEEDS4xoG9CsQQGhka1CMAA5AuIqQqNE3D0C22Nsd7xURQHyZPyPBrxBAc9K4FOUUEkDBATC5oAkSQPwHuVy6SBJAuJ5B4JreEEBV+2jTRoQSQG9wmeNGvRJAC+SYf5vAEUDFiVnXiSARQLEPuT4BDxFAPvQ6WBaMEEBi59/sH7sQQIN0G2luABFAuAsfQjYGD0DRMkpQhk0QQK3PpJWQ1w5AepzmzdgyDkBQRScbQEYLQB1j4TnF7gpA0ZDsV9k6C0AT22r0NVALQCxzkQIBewpAdjMDB3BuCEAGYih1n/8HQHgmGHz2CQRATRlJZVB2AUCdFnyBZ5YCQKt8IY4m6P4/YN+QyKucAUCemhQEi8H/Py/Nu7B2sv0/jPsF2tEBAUDjvbkFtQn/P/wkqj1yj/4/6Zk/CdJdAEBEV9eq9lD7P+V9kygH3/s/Ir2UGcfC+z+3OxvD8Dr1P9wfIDAfePw/TyY9eKf59T+ExEJD3YrwP6umE3cIGfM/tPz45mco+D8nWm7v2//vP8rrbemOAfQ/S7Pt266z7T+Dz0GxEU7vP/4/7sGKe+Q/e9G+X6Se5D+/qM5KTfTlP3SGOma2lOg/uaHA+Wx67T+fr8BymxDkP+xH1c5iDuY/WE8OziXI7T86zKDcBljoPyKTpM7Ch/E/9G2Ee4FT6j8cDIGSVjrmP/TNU/AQVPI/sLRIzAyW8D+Em39i5XTxP7o7TzrAoOI/CTG6xG7W5T/BaZY/FEPrP67TxY3V6OU/vcpimrVG6j+7SPaornnmPybQtfjNUuU/VGXAc9N+6T8IE3CZWpnlP3owwGY10+0/+TbEreY56z+wRj/VY6fmP7YJCOjip+g/nbKG9Tgz0z8wZJUpO+bmP6O8NQhpiN4/QIaJ5j9w6j88wb4GEyLiPw==",
          "dtype": "f8"
         },
         "yaxis": "y"
        },
        {
         "hovertemplate": "Sequenz=37<br>t=%{x}<br>v(t)=%{y}<extra></extra>",
         "legendgroup": "37",
         "line": {
          "color": "#FF6692",
          "dash": "solid"
         },
         "marker": {
          "symbol": "circle"
         },
         "mode": "lines",
         "name": "37",
         "showlegend": true,
         "type": "scattergl",
         "x": {
          "bdata": "AAABAAIAAwAEAAUABgAHAAgACQAKAAsADAANAA4ADwAQABEAEgATABQAFQAWABcAGAAZABoAGwAcAB0AHgAfACAAIQAiACMAJAAlACYAJwAoACkAKgArACwALQAuAC8AMAAxADIAMwA0ADUANgA3ADgAOQA6ADsAPAA9AD4APwBAAEEAQgBDAEQARQBGAEcASABJAEoASwBMAE0ATgBPAFAAUQBSAFMAVABVAFYAVwBYAFkAWgBbAFwAXQBeAF8AYABhAGIAYwBkAGUAZgBnAGgAaQBqAGsAbABtAG4AbwBwAHEAcgBzAHQAdQB2AHcAeAB5AHoAewB8AH0AfgB/AIAAgQCCAIMAhACFAIYAhwCIAIkAigCLAA==",
          "dtype": "i2"
         },
         "xaxis": "x",
         "y": {
          "bdata": "Dc4ZKEDPJUBS9IWN9MIkQIafsXR6fyVAwigtZ+3vJEDDQe2KLLQlQJdywuWiviVAzxK2a5biJUAzyIeGlqMmQIgvbSL3PyZAvFjzqaDFJkAHxJL9H8UmQEf7l0FbuydAHRSMQsJvJ0CsnMuwBFwnQMvfHHydaChAsfFkfjoQKEBXHevxre8nQMELQ4UZNShA85SWjjo8KECCYOQtXMEnQPebXnoeLihAooLvc8G3KEA+BLQvfrcnQOSjbPkJFyhA/C71UiMyKEDUYISWq94nQHW9q/QMzCdABDXxl5wLJ0D5O1ICoZ0mQDj/Kz81miZACAKHOMqlJkDUZbx0EsclQElQ4ds7qCVASZEhdH0VJUChNpAqz9gkQIk025z9PyRAMWqO7KjdI0C/n4JPy+EjQKiPJxC2cyNAeIEA8JWbIkCN6QGpWOkhQGO1Xea+0iFA3sLP1rq6IEBm++xsE6YgQNXgKCh3aR9ATmhAwT7PHkBMg0G/nysfQMs4JXd0gBxA0lvk5c+WHEBp4svgy3QaQOaANZLlWxpAhSc9qq9EGUBArztKGfUYQGF+9QmCMxpA0Dm+6rQzGUBWcyX75HoaQLnqBg/XXhhAhocg4utiGUALLkvmJGoXQBcAcWqPmxhAyzvpDPq6GEAathovINkXQF7x31RWdBdA/T8+GwbMF0AwgC+zdloXQJkzNmpPixdASOOotBf6GEAMic6R2M4YQE/TgOq46xpAADHLNpC8GkAJ4DZ0Q9caQPpTHPLIEBtAUD1Z0AKSGUAIOyYVVl0ZQCQF38lHnRhAMl9sZ47zFkDwyPxn/6AWQIv1+MzVQBVAmVQ2RDb5FECxzLm9144TQBcGhqBHCxRA8jrS2cBJEkDZtyTDcUwRQDX3xt/Q1BFAzJxitxQgEUDdPLZXcSIQQEPV3nW+vRBAg9Uh1p+9DkBkvqhYnQ8QQCgKozdRuhFA3NFtEa39EUCKU8/89aIRQNR/p7nRPxJA91+rY5wqFEBPVd59TVgUQOJwJZqORxRAqauDRxGMFECAHVM03xcUQL17xA0mdRNAhMokJTdiE0CjVb5ra4sUQOAMy0cFdhNA7s1Xx/VhE0DDJED1Dn8SQBlgo2MUmBJAidw8EkuiEUBoIVWaph8RQJBbUfH+BA9AXu20cmu/DkC3xeHnRk4LQGZFdHXziwlAwyaBYlLmCkDlbIrKUywHQBUTue5LJARAW5Rnm2QwBEDiOV+YbfoBQJn5JbelqwJAvpsQO4AoAUCcj5NoXx78PximHQEVaPk/8H84clGd+D+8Vh3wTFXxP1sfs4qApPM/CDCRM51X8j/qbkw4mCf1P69Lhz20Mec/BhDMgzPf5j/8Re8hKeXmP3BtHSc7h+0/ivf3dpQC5j/VzJK7C4nlP/Oyk/1UTO8/ZNDjzv4f8j+4C29HsuXyP+dx6MCPg+4/htNteJ3c8D8Q/LgY4RLmP3Q8qvmIFOA/OBDd8n6t5D+W4MkZ56zbPw==",
          "dtype": "f8"
         },
         "yaxis": "y"
        },
        {
         "hovertemplate": "Sequenz=38<br>t=%{x}<br>v(t)=%{y}<extra></extra>",
         "legendgroup": "38",
         "line": {
          "color": "#B6E880",
          "dash": "solid"
         },
         "marker": {
          "symbol": "circle"
         },
         "mode": "lines",
         "name": "38",
         "showlegend": true,
         "type": "scattergl",
         "x": {
          "bdata": "AAABAAIAAwAEAAUABgAHAAgACQAKAAsADAANAA4ADwAQABEAEgATABQAFQAWABcAGAAZABoAGwAcAB0AHgAfACAAIQAiACMAJAAlACYAJwAoACkAKgArACwALQAuAC8AMAAxADIAMwA0ADUANgA3ADgAOQA6ADsAPAA9AD4APwBAAEEAQgBDAEQARQBGAEcASABJAEoASwBMAE0ATgBPAFAAUQBSAFMAVABVAFYAVwBYAFkAWgBbAFwAXQBeAF8AYABhAGIAYwBkAGUAZgBnAGgAaQBqAGsAbABtAG4AbwBwAHEAcgBzAHQAdQB2AHcAeAB5AHoAewB8AH0AfgB/AIAAgQCCAIMAhACFAIYAhwCIAIkAigCLAA==",
          "dtype": "i2"
         },
         "xaxis": "x",
         "y": {
          "bdata": "olnqqBELI0CFTJ+jnq0iQBL0MvKcWCNAblpaF9O8JEDGesvLKI8lQBJ9QNNP/SRAhjjwlZ0LJUB6+pDD7L0lQGIJ1jNJVSVA3zfZ68EYJUCXsp43A4ElQDqJzpfRVCVA2YNCL6C9JUAg5u6hT0ElQFlZ+JCDYyVAAbpgBPojJEBH/w4gIQQkQBqwO6xzZyNA+JyYvB55I0CvC8L+t64iQLyddAgQwCFAPjf8T/fBIUDxBD1H0k0hQIKUC86N7SBAPTyogBgbIEBzZKIFi6QfQIU6i4o78h1A9dlUeTRNHUBdr2+D6ckbQOSWFA2ywxlA6+k1GmBYGUAlgxNNbGEXQOhuAl8/6BRAR+zehL4UFUDNFGplV/0SQEE1UN/erBJAp0oyqwfkD0C/gthsID4NQLLfB9NXuAhAWzR5mdL4CEBwLDRzFnsDQIILuO0W4wVAid/MupLuAEDxhICUhcj4P9gfaSq7IvI/JoPRa9ds9j87eCAGCVbwP2tt0Rv+iPI/mAuSC6EG6T/9vEP/kzLyP6DdWBLkP/E/JdUGnUEq+D/5CS8GQ0TwPwTlzOvobvA/rtIlP0Cj9D+O0mKIYff3Px2NQkmIYfY/MpANa62p+T/MZVy3oMv6P/tX6OSQk/s/UAZAMQ3KAUC1IVWPS//+P2aLRY2ofQFARdlWI9qp/z8fa++gTbYCQBcGDkhNqgRAYweJFSg7A0AatzJjsCECQIqFrkN8AgNAXkZKCLaJ/z/TOqPjeLj/P8z+Pz2yX/g/WyRcBeUm9z/gBkHPS0/3P4kU+wWeLvM/NH8Jx1KU8z997a/3dybuP5BGkxYa4es/ohskd27p8j8iCCQpidL0P/jXte/brPc/ZhPR/nQX+j+kqytzUh8AQCJ0LG+nOgJAl49GE6r+AkAngy4HGtMGQKZK9x5GdwZAT+jWjnpBB0DBImhzGwoJQMCUD5eYIQ1AMRvJ/IB7C0C9zAuQ8G0NQCoMJKKp9g5A2J8cufMxEEAsMA1UgpoQQAeXSuYZDRFA8iCUjOl1EUD5Z/ROb40SQOeocXkLEhJAz7AetIKuEUD2349Qf6MRQN/G9SXwiRFAJija2pCxEEDfQq+1KRMOQC8mApgJWQxA7t8310QSDUA8jnUn3BwJQATfnK16pAlAH21pa8myBkDKy4zfEc8HQOQr48wk7QNACw9eYC3BA0AE17umWjr9P4nowRveNvw/EvrSrFPd/T9X4DFPhX/9PwJgtr///Pc/VWl8AUkv9j9KTFjqYp3yP7ubsA/g5fA/T3HauoUu9T8wXMPyRUPuP8eIpWFoVe0/5rzQesRA6j9QLq7RTVjnPzxp5jAQ8+8/sst+y0CS8T8rE3/P/prjPx2nTz9gItc/h69lP/dO8j9nwKNVRZfuP1mAlfXbye4/X3iUJwD75z/q8ggqoI/jP8aeGw4RIu8/qAy5Gz016D/CIcSA9kvrP8+1a3XbOfE/e8NHXyA83D+NmdZR3yrhPw==",
          "dtype": "f8"
         },
         "yaxis": "y"
        },
        {
         "hovertemplate": "Sequenz=39<br>t=%{x}<br>v(t)=%{y}<extra></extra>",
         "legendgroup": "39",
         "line": {
          "color": "#FF97FF",
          "dash": "solid"
         },
         "marker": {
          "symbol": "circle"
         },
         "mode": "lines",
         "name": "39",
         "showlegend": true,
         "type": "scattergl",
         "x": {
          "bdata": "AAABAAIAAwAEAAUABgAHAAgACQAKAAsADAANAA4ADwAQABEAEgATABQAFQAWABcAGAAZABoAGwAcAB0AHgAfACAAIQAiACMAJAAlACYAJwAoACkAKgArACwALQAuAC8AMAAxADIAMwA0ADUANgA3ADgAOQA6ADsAPAA9AD4APwBAAEEAQgBDAEQARQBGAEcASABJAEoASwBMAE0ATgBPAFAAUQBSAFMAVABVAFYAVwBYAFkAWgBbAFwAXQBeAF8AYABhAGIAYwBkAGUAZgBnAGgAaQBqAGsAbABtAG4AbwBwAHEAcgBzAHQAdQB2AHcAeAB5AHoAewB8AH0AfgB/AIAAgQCCAIMAhACFAIYAhwCIAIkAigCLAA==",
          "dtype": "i2"
         },
         "xaxis": "x",
         "y": {
          "bdata": "cafhDqqAGkCWSNqOEgYaQA1vIU1cmRpAyFMs6yfNGUAQ8WWyvv8aQAtb+tI/pxtAkYf6m+RuHUBp3/LufSceQHgOCx70UB5AVIT3BtGxHkA8l6fHTnwfQJluRtwpHiBA5k3FBEKRIEAIobjrXQAhQHOdXBoojyFAjI+5pqOiIUBOXsbM/A0iQNZX9OEzuiJA95Xc4Lx+IkAxhawKmOMiQDK0dFSy7iJAwTStYFe9I0Ao+HTyCs0jQOYiMOSacyNALAwTbbOdI0DAN2h98NIjQHkGqj5lWSNAuOggnQ2tI0BNOMResxwkQAwZFk+P/SNASHG6l8ahI0DKqnVjua4jQEknt4chaCNAcdVnPKVLIkBrdlZA+BsiQLQbTovmlyFAGkQ9XolZIUCHlo7Ujt4hQBD32fPGYSFAqcWlM9pVIEB7Ufnr+jAfQCyF9U0Cnx5Ah99NFHOIHkCQUqeg4sYdQMqX89WRUBxArfD/e4jOGkAerqciigEcQMNEsDZ5oxpA1dslq8G7GUDs26InpZsbQAf5vPUGthtA4/AbXImUGkBZo7W2mFsbQNrfvytFyBtA7yE92Q+CG0DJy53F0XcbQGNNgP3qERxAtnhf8ChrHUBRZmVcUBIdQB1Aa4y1Oh9An6VSUz7wH0DQEMVrxsogQGMdtIt9oCBAO3CItdHeIEAmgq2bw4EhQE3NIYDA9CFAzTNOWFwiIkCbhkfQgWYiQBbf/s50kCJAHQGq11D1IUCCWGXmDLAiQB4SYWifFyJAb0uPkFNVIkC/l5P61ZQhQBeubNLZkyFA+Rdg4M3qIECVq9c5028hQPYF7xRX3CBAwWKhVO4oIECSmRvfCzMgQFWwDWtspSBAzjmr9RXAH0DM8giv+G8gQF0b1w+DKh9AxKp5teorIEA+9U5je6IfQCSyclkgYiBAHRWoq98QIEAobgi8PwMgQJgkPWQhQSBAPcbNfEVLIEDIhBGWw64fQA6pUlASVCBArnDwhDPfIEBmrjpiBq4gQP9Oqn68NiBAjtvDc8SSIEDhB6SZBN0gQGCo7iG98yBA4Ze/C4YbIECm7c8Q67cgQBthmdv7CiBAcl6YtyNdIEAiVSPwT0kgQLawPj0utx5ADL7ciP1cH0D2pjx5HhAeQCvkSbzKyh5A9D5VJAy2HkAcSC9gDHwdQBZp6UIrRh1Ari+XN+7aG0AC94WAbKEbQOc4xoxSkxxAcQgIPBRnHEDUHoVSyCccQMOJ2LFhoxpA44miUiIYG0Ay+Xlqm7caQBMVxpEDrRlAnzV+l47RGkAQlxfieS4aQNL6GjW7KxlAg6Iz8WAfGUAr5vmrkVUaQPC3q9x9/xhAbiKuUMpoGED3ypH1q54ZQDysVKl0fhhAti4kT2bgGEAkVM3NQ8MYQA4Bhw7yzxZAQa/fXuo3GEDNqoYzt6wWQH8565TUfRZAa9Y4El1bF0CNKV2eYfgVQD3qlJVYlhdAhoTos1yeFkChcYGBRXEVQA==",
          "dtype": "f8"
         },
         "yaxis": "y"
        },
        {
         "hovertemplate": "Sequenz=40<br>t=%{x}<br>v(t)=%{y}<extra></extra>",
         "legendgroup": "40",
         "line": {
          "color": "#FECB52",
          "dash": "solid"
         },
         "marker": {
          "symbol": "circle"
         },
         "mode": "lines",
         "name": "40",
         "showlegend": true,
         "type": "scattergl",
         "x": {
          "bdata": "AAABAAIAAwAEAAUABgAHAAgACQAKAAsADAANAA4ADwAQABEAEgATABQAFQAWABcAGAAZABoAGwAcAB0AHgAfACAAIQAiACMAJAAlACYAJwAoACkAKgArACwALQAuAC8AMAAxADIAMwA0ADUANgA3ADgAOQA6ADsAPAA9AD4APwBAAEEAQgBDAEQARQBGAEcASABJAEoASwBMAE0ATgBPAFAAUQBSAFMAVABVAFYAVwBYAFkAWgBbAFwAXQBeAF8AYABhAGIAYwBkAGUAZgBnAGgAaQBqAGsAbABtAG4AbwBwAHEAcgBzAHQAdQB2AHcAeAB5AHoAewB8AH0AfgB/AIAAgQCCAIMAhACFAIYAhwCIAIkAigCLAA==",
          "dtype": "i2"
         },
         "xaxis": "x",
         "y": {
          "bdata": "AlNCbWU1JkCBwiNZIZwkQPQTubURqSRAaqibCoVSJUDj2uhQc1MlQBleW8wwtSVAzGYn4hRdJkALvI1D4eImQFupT0G9xCZAUQsOetBWJ0CPbCwfFWcnQGHIEK8PyydA89ATpfU8KECMY+nD+tIoQNNgISqlaClAnVon0HYZKUAuGEZn92cpQFbxZ1Bx8ylAcUtTUMi7KUD1z9PT/ckqQOHjBvD1KSpAb9yqOIoOKkBLQgq6ilAqQJq2TFHM/ypAsnNhS1HPKkBd/7w7xW8qQOfKxhROwCpAF14qxv/jKkCGOf75i2kqQAeuDelyISpARi6dijM0KkCK41P8RPspQAJNuzzCfSlAVQAJGt6tKUCDJcJKyT8pQC9JZoL65ShAOm/6gHbFJ0AhaAgtEk0nQOhdZ6i1YidAa4Z1vPpoJkAY7IT4ELYlQDkd1KFhViVAynqtyNI/JUCTiX4dFxYkQDwmT+VNtCNAFgzxwpYVI0CBgnjCpWUiQBE1mwYCNiJAKocSxhYvIkDETgs3/qMhQMit2w+yJSFAa6jcuoMLIEBAWOxMN+seQKQOOr37MB9Ar0R6hx2PHkABrGes5yweQMQ2XPGQcB1AJNatkhLcHUBgKsC9BigeQAhkZYb/lR5Ae+sTnsbyHkAOotHZu5YeQHo7LP3WJCBAh+ELQJ81IEA2RglqjaAgQEg3pmNm/SBANY/dtyfYIEBpdfzMn7YgQE1mKNPXlSFAku0nAHWsIUCoufTCnJwhQKKB0gT9dyFA43uRkiImIUDguMiEQp4gQO/IVJhrlyBAAQacT8YQH0Dz4mSxtAYfQAoLRBKwZh5A2K7SATqtHEA/bvSsLOQaQPHM+qI1VRpAXiXFaFO/F0BneNhgB6YWQFbkw7BRGxdAp/ca3hXuFkDDzH+VlkwWQFOAqBX5qBZAFX7fpWZdFkAkOspvdxMWQBILZvbo1BZAmCXNxDaCGEAJ3LIzM5gYQCKVKFY33hlAD721kGFSGUDhV6tuQ5YaQNmNiPvANRtAJGTDsj4eHEAyC4c91mkdQDpJS1xMjh1AnLdfZqbJHECJ4WID89UeQHp0PYBG7R1AB8vVm9BRH0Cul85dbNIeQE9sHcmdGB9AT9GBUUvmHUBTPENkpdYeQLfdVkI03x1AoxFSx8POHUAJeu4PMpMdQKlXwZ7DKR1AJvutXA0wHEDo2TgJdOscQJ/rzUgcyBtACoM0CkPuGUBr1+22OoMZQIc1ZknDXRlAAQit38XAFkBmkiqjnYUWQBAXu9DS4RRA4XwDSDFRFUBsdRkW0s0SQB9+xnF6HxJAh2ypMCTTEEBhnlCGeZ8OQNyYEnPdyg5AKNy3IXPqCUAAsaOx694HQGwWu9z3pgZACE9ih6YMBECSIEWrwsICQCl9JbC+Tv8/YfUggyzi/j8+X0a/5bT+Pyrqafgdi/Y/GKnTBj8x9D9+7zvJ9J/0P4odK8G+9us/08Bzuzzo9j/2z4RFeafoPw==",
          "dtype": "f8"
         },
         "yaxis": "y"
        },
        {
         "hovertemplate": "Sequenz=41<br>t=%{x}<br>v(t)=%{y}<extra></extra>",
         "legendgroup": "41",
         "line": {
          "color": "#636efa",
          "dash": "solid"
         },
         "marker": {
          "symbol": "circle"
         },
         "mode": "lines",
         "name": "41",
         "showlegend": true,
         "type": "scattergl",
         "x": {
          "bdata": "AAABAAIAAwAEAAUABgAHAAgACQAKAAsADAANAA4ADwAQABEAEgATABQAFQAWABcAGAAZABoAGwAcAB0AHgAfACAAIQAiACMAJAAlACYAJwAoACkAKgArACwALQAuAC8AMAAxADIAMwA0ADUANgA3ADgAOQA6ADsAPAA9AD4APwBAAEEAQgBDAEQARQBGAEcASABJAEoASwBMAE0ATgBPAFAAUQBSAFMAVABVAFYAVwBYAFkAWgBbAFwAXQBeAF8AYABhAGIAYwBkAGUAZgBnAGgAaQBqAGsAbABtAG4AbwBwAHEAcgBzAHQAdQB2AHcAeAB5AHoAewB8AH0AfgB/AIAAgQCCAIMAhACFAIYAhwCIAIkAigCLAA==",
          "dtype": "i2"
         },
         "xaxis": "x",
         "y": {
          "bdata": "WuCbr6gCIECP2JNs0ekeQGAOvxge6h5A7oJskBMtIEBE/PvRQg4gQA3K+2H2nx9ALXGpKwwpIEABnc23lP0eQJi1u2cTQh9AQ2y2QYM3H0DNUsHhlZYeQA2CzS/OfR9An/M292ptH0DkIXlzopIeQCSdmdmtAB9A9yaQSWeZH0AS9Q77PGofQHlrIrFseB9A4zSQGi0EH0At2VJY1RcfQDkS38jlTh1AqJz2rk2xHUAN8QaWm7ccQHKTVEzYOxxAJA95tWmlHEDzLGi2sFYbQPXgihDcOBxAm4jVFfDUGkBX90nF9vMaQA6Ed4eVFhpAhZ4oevASGUBLlbN/XewXQIRWMsUqTRlA6YJlnDosGECdZgoRjvQWQASqZSrDmRZAcr+Zd4yMFkA8FK/KKH0VQDVuU1dELRVA4vLE1F50FEDfg+k9hhgUQGpx8WlD7BJAEQy88BZHEUAwZLaMPwARQH+vrZDDFBJAKgf1+nCwEEAHSKia/voQQDPDOJPeNxBA2oFmMRORD0BT0XqcpHIPQDAZrvknlxFARPPSkJcLEUBsZOqDCAoRQNVGsUPB+hFA3lTTCqxUE0AqVJBEhygTQFDbdqzbqhJAzyeTZKqCFEAGiEJrtmwUQEUt86zkXRVAF4LLHPQsFUB57p/C/zMWQAx9fwSdKhVAoqUPe1qdFkBcj9IpRYwWQKH032DLcxVAZdqcG6fXFkDwCuzsBFYVQAqHBmmc7BVA7ps9R429FkCV2fetoh0VQKGm0yInUBVAyjoOczDoFUCp30w3kdsUQJiuCGB92BVAAFfZXY4IFUAv5TtfWd0UQAQTml9ImRRAzepXn403FUAo4iBvYnYUQOjjItzEexRAEuURr18gFUAvHBQFa0cUQMLQYyxzuhRAoLd5OkSzE0BBRRFl37MUQDut6UsZxRRATm+9E/EHFECZqIqOqpYUQBIwK1ZayhNAXtUUZaBOFUA+VFRAjO8UQIt7OSZWcBVAksSHxKEHFkBtHSlRFGkXQKdgirE4ahdA619C0fMuGEDFjVEsQmEXQK2jegVbdRhAONHuRvShGEAhswoABp8ZQJFeTl7ZXxpAMpxxdjl9G0A8DLNL9SEbQEpWKANzUhpACAHA5qa5G0CaWpLHt8QaQNb0vVNy9xlAhZ+CYxbzGkBwl41H62AaQAwXECzWJRlABQyPlxFFGECTCByfe2cZQEn/7c8+UhdAm5UQmBGKFkBj+ZmVvwQWQHnZsmDUUBZAjf3ALldgFEDJHb285QUVQAREz9Oo/BJAzFxNCFKIEkCkuugr6mIRQLuuTxGsJBBAwGqQGNkDD0B4eMiJHSUQQB9NUfrGCAtA3NsgoCJvCUBT+qYUumsJQHxqmg48mQhAJDHKxse/A0AvXe5xPbAEQHwEilSDQf8/GhoqhviE/z8NUdtJyQD/P6iwzdkpWfk/q6PSH6AO/D/ObmV27ED1P/AHDAw3JO8/pLXcRawO7T+kNxip2/HqPw==",
          "dtype": "f8"
         },
         "yaxis": "y"
        },
        {
         "hovertemplate": "Sequenz=42<br>t=%{x}<br>v(t)=%{y}<extra></extra>",
         "legendgroup": "42",
         "line": {
          "color": "#EF553B",
          "dash": "solid"
         },
         "marker": {
          "symbol": "circle"
         },
         "mode": "lines",
         "name": "42",
         "showlegend": true,
         "type": "scattergl",
         "x": {
          "bdata": "AAABAAIAAwAEAAUABgAHAAgACQAKAAsADAANAA4ADwAQABEAEgATABQAFQAWABcAGAAZABoAGwAcAB0AHgAfACAAIQAiACMAJAAlACYAJwAoACkAKgArACwALQAuAC8AMAAxADIAMwA0ADUANgA3ADgAOQA6ADsAPAA9AD4APwBAAEEAQgBDAEQARQBGAEcASABJAEoASwBMAE0ATgBPAFAAUQBSAFMAVABVAFYAVwBYAFkAWgBbAFwAXQBeAF8AYABhAGIAYwBkAGUAZgBnAGgAaQBqAGsAbABtAG4AbwBwAHEAcgBzAHQAdQB2AHcAeAB5AHoAewB8AH0AfgB/AIAAgQCCAIMAhACFAIYAhwCIAIkAigCLAA==",
          "dtype": "i2"
         },
         "xaxis": "x",
         "y": {
          "bdata": "IfCJzFeuHEBY7px1fTgdQIBXSF5LuR1A8LM77qkJHEAue7gN4wYcQGfvG+pxKB1AkWhw1eLZHUDTgwuXbK4cQBR/X1VmzB1A5MvxaAg8HUBZxkWCLJUeQLs4od2Lzx5AFDTYnIcWHkDSQiRPRJAeQFR6IJbakh9Af1ynw1YrH0DmPF2gxVYgQNHmLrC1XR9AEzG9IhxvH0CcDfO5GTQgQDmrPXL4wiBAdsZUqZdCIEAU0dm8hYYgQBdwP5WmjiBAwbpPWujnIEDmcqx+MHwhQBxp9Z/h0iBA4mKdC/WBIUA0uJmY6L0gQKq2WTnjmyBAilGyueSDIEDeUutToYYgQLv/pyACNCBAeZgBdj90IEBfS1c/K2cgQO1iGvIDkh9AHkTfc1Y8IEDxunGJcAAgQB1fRDgKLR9AaEPgWycwHkDxT2XZX58dQDt/cKkuNBtAR3YtW7rKG0DDjMC/9BwaQDDpgQGCxxpAJyg+OH8hGUAUm8dA6AwaQGyndpvp0RhAfdMVW9ekF0AY+LumW/wVQN5W+Om9JxdAuIw559uPFUCRPM1gGdsUQMJHBwt1KxZAqGMWPMZbFkBpwILv1x0VQJ3+7FNAhRZAVJEMbtTdFkAFKiGQk9IWQBmFEf2SehhASkaaKme3GUBeLvfhbxcaQPiEnMMC6BpA3vo1Sn+pG0CgSqwycOAcQM3HlqSqth1AWmxJpVsbHUDhoIUp1MMeQNHq4foGCR5AXZ/aRxEuHkC/uKPpILMfQBXsFtekTR5AIAsY30y0HkAEhpm3xh0eQPgu8DmyvRxAvRbZcivxG0APLL1H1g8cQEt6CPFmGxxABb+NmR/hG0CwOqJKvGUbQNm6P/XZrhlAfY1gqobAGUCQdBHZIVIZQCby3S4+SBtALYtr5kskG0DjatNtrLobQHCYbk2UFBxAJl8Hc86rG0AT7adZnpcdQEAD4phbzhxAWr5QnfmIHkDgODRuw7oeQEyi759QCR9ARC9NpyUfIECUWRd79l8gQF5VP1r9ayBAUWx11l/dIECS72ENl2whQPADqQz4ASJAPdqsA5Q/IkDQM95BogojQF2+oDlI7iJAZ33BUb09I0CvZByHR8YjQNoeBebyXCNABpVgtysUJECiKtnfw90jQJRp8YBpXyRAY1Y9SvCjJEDexlR2HCkkQCXy9GB9qSNABPaxlk9jJEDGK4gmUGIjQJaLL3YjpSNAs/MjqxB6I0BXk+A+kzgjQAQFmKjKSCNAaWfWR6MaI0BM5TxkO2EiQBapInrJYiJAIU9a9GfQIUCXLqqWKlIhQAmD+F0EgiFA5cF3a0acIECFSQ9hS4sgQMlXQRjgPh9AhmOK6M/zHkAx0jSzMc0cQOH32YKaMxxAxUeA2627G0CEu8o9oKsYQKOvdrekQhhAcJO2ioUKFkDwg3xTOXUUQIH/FJ9sRBNAoL2NupjMEUC5qTQfg5EPQJcavsfKtQpABOPYA4VOA0DTVu+52QMBQA==",
          "dtype": "f8"
         },
         "yaxis": "y"
        },
        {
         "hovertemplate": "Sequenz=43<br>t=%{x}<br>v(t)=%{y}<extra></extra>",
         "legendgroup": "43",
         "line": {
          "color": "#00cc96",
          "dash": "solid"
         },
         "marker": {
          "symbol": "circle"
         },
         "mode": "lines",
         "name": "43",
         "showlegend": true,
         "type": "scattergl",
         "x": {
          "bdata": "AAABAAIAAwAEAAUABgAHAAgACQAKAAsADAANAA4ADwAQABEAEgATABQAFQAWABcAGAAZABoAGwAcAB0AHgAfACAAIQAiACMAJAAlACYAJwAoACkAKgArACwALQAuAC8AMAAxADIAMwA0ADUANgA3ADgAOQA6ADsAPAA9AD4APwBAAEEAQgBDAEQARQBGAEcASABJAEoASwBMAE0ATgBPAFAAUQBSAFMAVABVAFYAVwBYAFkAWgBbAFwAXQBeAF8AYABhAGIAYwBkAGUAZgBnAGgAaQBqAGsAbABtAG4AbwBwAHEAcgBzAHQAdQB2AHcAeAB5AHoAewB8AH0AfgB/AIAAgQCCAIMAhACFAIYAhwCIAIkAigCLAA==",
          "dtype": "i2"
         },
         "xaxis": "x",
         "y": {
          "bdata": "nFaNOFVgGkB87fid6L8aQAmGG8FCYxtAAY/+0yVzGkCvaYSikxQaQEnrkKvM0RtA+yTvWKH/G0BPTEBiCR8bQFJwm7GfzRtAJiDYykReG0BIcAKC6scbQFRYjuteLRxAkWp/EQQdHECJGBEh1pobQLARVdY2phxAaLcwJ2haG0A1GMG9OVQaQFycxvmvBRpAPjTgbyHuGkCEvreTSmsbQBXRlovCjRxArBI/eejkG0BbNIq/OMQaQLkD4D9zKRtAf5/pOXBNG0CIMi+VNAIdQC4U0VtBrBxAtoDvz0xfHECvAkzBEy8cQGntad+1ZR1AzzFsHe+oHEBjrf3LC7MdQJVXDpU+xB1An0CXmjPDHEDHlJhOz5MdQMsT7HyAwh1A8zgaXdo3HUB9VZW9Q+8bQMx3O7FPpxtA8OIGqwVoHEDlUH2/tuAcQCQST7jwjBtAUvBchVfHHEAqgjbk/awbQGisNb83BBtAhxL1HhlNG0DilyJFKmwaQG0xp2A9chpAu6tALkGkGUBOk5ETo0IYQMoeZK57aBhAYpfeNcxcF0AuviGiWooYQBmGscAt8RdAJvXQg6aZFkBgFbQDFSMXQJQCzK1LOxhADrkFT9acGEAE5EefEHkXQImoPmqi1xdA7ro6f6cGGkDTMx8/OeAYQA7C2f7YqBlAJROldwTOGUD38yfUk+YZQMvheXG+cxtATYRXHSjbGkAQPzAS7jUbQKamMT3KkxxAuQFkXC4AHUBv9eHseT8bQC58axfCMBxA1wJ/E9PZG0CSqz2W4vMaQOb0OEfWNxpAXGqBT8LMGED95GoWp00YQI6t2QnLVBhA4GqsOIFMGUDCi5vT2fcXQHoJaJV64BhAwmAal0VvF0AIrm1jsV4YQK32F0g5fxlA3/mWtBmSGkCMucc7SVwaQIYUMRP82htAAt0ZTZ5yG0CtSRDVCuYcQKyf+uInWR1AxYAxxfFGHUC671R7QvkeQMDAbX+xnh5A1YtG1kkzIEBI3+T/PGkfQL1Pw++phCBAMk5oVZyEIECyoxJFkasfQGAQyIF6zh9AyS8MOLgoIEBcCD6Jxh8gQKAzBrom2B9AmneKErMCIEBm81zTsYEfQP6XoqJcdx9AhN8gQs8QIECkgBA5HWMeQBV2iNRTPh5Aec/yaMR4HkCFkfsp3IsdQBSU0iPWzR1APReDNXEmHkAZV9aA2LcdQKpb+fYEKx1ALV1Y5dbXG0DS76tTxpAbQJ51WiREmRtACBxPl0c6G0Bm7Ic9a4kaQPSHP9lNRhpAoZ6peqoXG0Dff6Fnt10aQPPBXtN0jhpAC7wtu2NuGUD0XHPE5PIYQBqW0ScqmxlAHUzXe45NGEAybFtOEFMZQNW6oDq1hBlAfkBCkLNqGUBBSeKE/FkXQP6R3OaW9hdA8FTuTeVZF0BaiwA2McwXQEP3zVEQ8xZAPlNYgzzgFUBT+ENF/poWQAk31nbeuRVAcbniG+TsFUBQiJcaXzwVQA==",
          "dtype": "f8"
         },
         "yaxis": "y"
        },
        {
         "hovertemplate": "Sequenz=44<br>t=%{x}<br>v(t)=%{y}<extra></extra>",
         "legendgroup": "44",
         "line": {
          "color": "#ab63fa",
          "dash": "solid"
         },
         "marker": {
          "symbol": "circle"
         },
         "mode": "lines",
         "name": "44",
         "showlegend": true,
         "type": "scattergl",
         "x": {
          "bdata": "AAABAAIAAwAEAAUABgAHAAgACQAKAAsADAANAA4ADwAQABEAEgATABQAFQAWABcAGAAZABoAGwAcAB0AHgAfACAAIQAiACMAJAAlACYAJwAoACkAKgArACwALQAuAC8AMAAxADIAMwA0ADUANgA3ADgAOQA6ADsAPAA9AD4APwBAAEEAQgBDAEQARQBGAEcASABJAEoASwBMAE0ATgBPAFAAUQBSAFMAVABVAFYAVwBYAFkAWgBbAFwAXQBeAF8AYABhAGIAYwBkAGUAZgBnAGgAaQBqAGsAbABtAG4AbwBwAHEAcgBzAHQAdQB2AHcAeAB5AHoAewB8AH0AfgB/AIAAgQCCAIMAhACFAIYAhwCIAIkAigCLAA==",
          "dtype": "i2"
         },
         "xaxis": "x",
         "y": {
          "bdata": "01Faq0tuI0DhVqPzcpQjQPsG9w1gwSNA1JolqudfI0BbY7tpMNkjQBCODDlo5iRAKdP/FhTrJECKsZF/wYYlQLf1as2I9CVA501zfTR5JUDoheZaAZImQB9iNtqBKSZAscM4IvVMJkDTW+YsAmYmQNu0WrM6siZAupwfXUHgJkClUf6d2ZsmQNyOnGSuziZAMuHzx7RfJ0CcGt8/sIQmQLa/qNgTiyZA+uvQyYREJ0DMiW0q+nImQKMhLXGfXyZAxk3jsmgpJkCeSs6v4wUmQAbMWLoV9yVA4J8X/RoOJkBurR9kF8IlQADARCZOOyVAxEw5swJyJUAro/717Y0kQB9i3T+2cCRAZPI5BTtzI0BMKAnMatwiQG1j11lt/yFA9NqNv9B9IUB0K3DaXDkhQEb24BzArSBAklLgxhOKH0A2FyiCmw4gQGu5umL74R1APcT+IZJoHUDX53nV4tobQPaOd8bBXhpARjN3XvLKGEC8uve8pSYZQAQ8KsbzbBhA8srAgxmxFkB0Vb4m5ugWQKHKpGy++BVAXXLsV8PTFkBJ9po+xOkWQGrHyBzdDxZANanYsCguGECiadU/rqMYQKnqHTdFYBhAbJ0w33PKGUDx1OyZ/HUbQClUxYNPIxtAikgGcmeQHECSIvmliSEcQFT7rAztNh1AXmdL51ccHUDPizUnEJ0eQOXb9QJg9B5A1h0pQQEZHUC6EWnzXwceQEKjGFh1Fx1AnTNEUB9AHUDwlW5TbeQcQC5uXU9lJh1ACDhGe9CTGkD0cQroXhgaQPhrX2bXVBhAC1ovN/RAGEAIqinTLBsYQHy68fCOCRVA55fW3i4vFUAom+D0aOsTQDeqYrjUYxJADhrzd1qLEUCOOP5fAaIQQD1gO2Az0w5AT/p1KbdYDUCVd9FpW+8NQLdSJLvEAQxAigYScDyqCkDf5sdgov8KQIUVcA/5tgtAgKmsxoUICkDcic1XWRwMQIJwyJKWHApAK6lRikl+DECjKt+LdqcKQE+Jyq4asA1AKerbIGF4C0CGgBS6/CMMQCLvhhzPjAlAp/Jtd+6+CEDdaQBzW/MJQFzZ8BHupAlApQPUz/ytBkC8q3L8qRYGQAjrLiP0nAJAvFWhU73cAEDu2ClGn5UAQFATnHsdCf8/N/5n9DP0/T+8sOZFmKT7Pw0Oo4eS5fk/5E+NScCi9T/9RwMD4aPwP321TlLiBPc/GEuEFXs49D9s1KEIvorxP43m69vJlPU/UJwZAh7d8j8MxUItWrTqP+Amc6KbTec/YO8zUIzT6T9RbpOZyT3rP5rNPJwnaOM/IuInK0Dn7z8Op59GjXvjP0Yv3hxPYeQ/Jhdp+3qx5T88DIoOsEDnPyrOVuZ/H/A/xKmlpvyC7j/2ZBIcqYThP+UNFLMTRu8/LNavXgQw6T9gxJGEf2TsP2Kl2v7WEOQ/jhfGWcie0D+c4WODDnrdP/CJn+/UKfE/WhzDjU187T8dhQz2nS7VPw==",
          "dtype": "f8"
         },
         "yaxis": "y"
        },
        {
         "hovertemplate": "Sequenz=45<br>t=%{x}<br>v(t)=%{y}<extra></extra>",
         "legendgroup": "45",
         "line": {
          "color": "#FFA15A",
          "dash": "solid"
         },
         "marker": {
          "symbol": "circle"
         },
         "mode": "lines",
         "name": "45",
         "showlegend": true,
         "type": "scattergl",
         "x": {
          "bdata": "AAABAAIAAwAEAAUABgAHAAgACQAKAAsADAANAA4ADwAQABEAEgATABQAFQAWABcAGAAZABoAGwAcAB0AHgAfACAAIQAiACMAJAAlACYAJwAoACkAKgArACwALQAuAC8AMAAxADIAMwA0ADUANgA3ADgAOQA6ADsAPAA9AD4APwBAAEEAQgBDAEQARQBGAEcASABJAEoASwBMAE0ATgBPAFAAUQBSAFMAVABVAFYAVwBYAFkAWgBbAFwAXQBeAF8AYABhAGIAYwBkAGUAZgBnAGgAaQBqAGsAbABtAG4AbwBwAHEAcgBzAHQAdQB2AHcAeAB5AHoAewB8AH0AfgB/AIAAgQCCAIMAhACFAIYAhwCIAIkAigCLAA==",
          "dtype": "i2"
         },
         "xaxis": "x",
         "y": {
          "bdata": "WLr1hnExJUAWemU9PfAjQFffEOCNciNAKyjuZ+ahI0AS2w8zaVAjQMHhrbwG3CJATdBEkopoI0CGFoYS0ysjQE2vMx6UMCJAkgMoFtaqIkA9vtrRvyciQEgB39YECyJA0nlcTZzhIUDp9g9fnZwhQBlWe6KYkyFA0jwFtjtJIkBJpgtDdCgiQJUZKh6OViFAEt/7hvS3IUBB1/JsKlAhQFmfIs6PmyFAsmVaOuzLIUCYEMBKatAhQMNx7udonSFA7o6flAOAIUD8FVNsdGghQML9lZvrLCJAyYIh05E3IUASC+R2BvggQFWlPlw5MiFAv/omT82cIUB6sUDeDqsgQPDXItBy4iBAL3XdSoI7IECJlqH/paggQB5mmaD+2R9AFcgTAxEqIECOit/PpeUeQF21gs0UFh9AvNJ2GUGAH0D55+B/BGYfQHgtwJJIhCBAxRilGvBiIEBZ+WblSkAgQEuHw5sIih5A60VX4ZVRHkAtIbnXP5UeQE3ISxPBkB5AoWdQ944DHUAab7BMFZAcQG+OSGft3R1ArRPJJy0VHUDfegugNw8dQBfUiNkW/BxAEkNiB8wtHUB4jtb7HZgcQLeu+MY+hx1AYhi/p69cHUDVW1FYq8UdQIUIX8/6vR5A2xFpBCx/HkBi/y+rEEUgQFKbuEBcaCBAEAH03ofGIEAJaBIdWcMhQBAH3TFX+SFA5P1JI73nIUAEQeaKg5QhQATuqe5R6yFA9b7JYgCWIkDhX63zZAwiQK9C23CfCyJAC1UwquGgIUBf9he/GH8hQG00RQQLtyFAUAjG0JKLIUC7J3oe5vMgQMldptGqwiBAiSqaGfD4IEC8n+tsvSsgQMOn44YfAiFAdmi+kqpsIEDSPxKwLGAgQOzQCVDpdCBAf9FSIFO4IEBgd6RtzBohQHjcpqRr9SBASvefXzGhIUDD38HQLy8hQPsxIgg4FyFAzmDcGqh6IUCBtw/vXE0iQMjyRlN60yJAva+Gf6fJIkAvji/edhgjQHVtoI2EqCNAO2sbryy6I0DtCU909M8jQO5hAwHmfyRASMIOgZ1qJEA+2sVoKN8kQFTyoKkNIyVArpwqvc7WJUDnkfJewc0lQLAwvjtEPyZAAc+BWGyFJkA2eJYobFsmQLrI3SjTISZAKFQe2sINJ0CacpIXdAAnQIUkyBUXUCZAt/QkeUaPJkBQV5baIc8mQDERMXJHmiZAtsFpDWyrJkAxl5SCUsgmQGnqhignWyZAXoG5QQ6tJUBwEKtuyAEmQCNHZ97ScyVACvc/nOFhJUCdaeRmjWolQG7sXs9yaSVAbPpSIxTCJECLDb8GMT0kQJN64vPOoiRAm3DG893XI0BW/xaMoKojQBz7l9RhLiNAEZ5EkOewIkAjVnAgXyUiQEfa5BsUNSJAspZA5Pz0IUCy73gw7OEgQIVFNP3OWiBAfCEY1+zbIEAe5oIIdgEeQOmEGowQpBpAqUcu+on2GEDbGZLX2e4UQA==",
          "dtype": "f8"
         },
         "yaxis": "y"
        },
        {
         "hovertemplate": "Sequenz=46<br>t=%{x}<br>v(t)=%{y}<extra></extra>",
         "legendgroup": "46",
         "line": {
          "color": "#19d3f3",
          "dash": "solid"
         },
         "marker": {
          "symbol": "circle"
         },
         "mode": "lines",
         "name": "46",
         "showlegend": true,
         "type": "scattergl",
         "x": {
          "bdata": "AAABAAIAAwAEAAUABgAHAAgACQAKAAsADAANAA4ADwAQABEAEgATABQAFQAWABcAGAAZABoAGwAcAB0AHgAfACAAIQAiACMAJAAlACYAJwAoACkAKgArACwALQAuAC8AMAAxADIAMwA0ADUANgA3ADgAOQA6ADsAPAA9AD4APwBAAEEAQgBDAEQARQBGAEcASABJAEoASwBMAE0ATgBPAFAAUQBSAFMAVABVAFYAVwBYAFkAWgBbAFwAXQBeAF8AYABhAGIAYwBkAGUAZgBnAGgAaQBqAGsAbABtAG4AbwBwAHEAcgBzAHQAdQB2AHcAeAB5AHoAewB8AH0AfgB/AIAAgQCCAIMAhACFAIYAhwCIAIkAigCLAA==",
          "dtype": "i2"
         },
         "xaxis": "x",
         "y": {
          "bdata": "bmtZwpdLGECDAI10SakZQC6w2fNG+RpAw7pn1n1FGUDeBGR78JkaQAtgZuvjThpAb+v2XVd9G0BSD1EL9PsbQCUhktsQyxpAubRQ99zzHEDy+Z+AykUcQMjGKHhN/RxADbvGG6k3HUDGVkD6hYcdQO0qo/dYCx5AEC10O4LBHUCGVjkxESIeQBeod8aqbB9Ak+GNJGTGHkCBhivFcc4eQJb9dnL8ch5AJR3Ig9O6HkAgEdHWStMeQBXn68qQNh9Ag/LitBwlIECDqjTfohcfQKPumAM9bx9AklOQiXeRH0CSyq062HIfQCLwzhkk/h5AkQer2ih2HkCcUeY48SQeQJ/mkj+eQB5AIjdkVlu2HUA0qlT/VTseQAHfrtBfoBxAYjkiWgpbHEA4nisKD/YcQCP0GnrapxpA2h5jviXsGUA+FQ0IvmIaQJ/yr0zazBlA40WQk4WMGUDff9jGGQMYQO7TYZg8XhZA7omV1WWHFkAPADr3zrUWQJu8izkYlRVAzI/DrrpxE0BGIe97pAoUQCSAF5+4GxVApsLwUgg6FEAHg+Chc0MVQM8OFYaF9RVAegSQ7wbwFUAG5v/l+F4WQALYlZR7uxZA4CYDhHh5FkDcnWYIVbgXQPbFGdKUDxhAMJnnNUaoGECaM1w07ocYQOb5BaGf4xpA5PRHy4ZuGkDnxJhd/dIbQHoYmMYHJhxADDDRtQBkHEDHsqt4j4gdQEsosuDfgxxAbgd3vjnwHECP/DtJcgMdQH/5uONANhxAcLZT5uAmG0B9U+A2WIAbQJk2fQBZRhtAR3nPiG9DGkDb/BFiWBIaQCMHy4+l4RhA8UrgbiOjGEB+pyWr2I0YQAZJhJGwwhhAGLvgwZDbGEBFjXlXBUQXQL7CtCUIlRhA6U8G7xR2GEBQDdKRgsMYQJmbQBff9hhA01mMfYrcGUAduVWGUasZQDtzSD5GvBlAwQkrm/wMGkCUmYAFwAwbQCrZ/EMCJBxAGxUXoR1UHEDazsuEd6gcQMRItlJwyBtA2PkPJ+9EHEC50BzqHfEdQCkcUhzf8xxAkeqEzvkGHkDAaHDeAiAeQNVz34Ax6x1A3kEVM749HUDLvVORXkgcQO5lo9DhGxtAXboEGhNtG0BlQxJzaSAaQOmQjBoqHRpA0XhSohT9GUDsS2vNxloYQJLXoQe6pBdAEcSnXlcpF0CBkR1OnwgWQKRjWGPEbxZADSRaLsmOFEDbmIleALMUQLlsXouQlBJAkJ1oAgSKE0DkWtw4vOARQHXw5+2ruBFA6nKeVTOgD0A1hZaLnn8OQGE25alAog5AhAb0K6wZDkC3ni2AqO4KQC1XJyNddAlAaNsnPO9ZCkB7oM8ToXQHQK+PcXTnSgRA7NSEbPD8A0AD9q4MG8sDQHFbgtJZS/8/FlQ29o1fAkCpESrWIy0AQOLcZ0BW9/g//Z6umJSh9z/g/lXoXxz1P9KRPDKtyPY/unmagby88T+AmZpZr4DxPw==",
          "dtype": "f8"
         },
         "yaxis": "y"
        },
        {
         "hovertemplate": "Sequenz=47<br>t=%{x}<br>v(t)=%{y}<extra></extra>",
         "legendgroup": "47",
         "line": {
          "color": "#FF6692",
          "dash": "solid"
         },
         "marker": {
          "symbol": "circle"
         },
         "mode": "lines",
         "name": "47",
         "showlegend": true,
         "type": "scattergl",
         "x": {
          "bdata": "AAABAAIAAwAEAAUABgAHAAgACQAKAAsADAANAA4ADwAQABEAEgATABQAFQAWABcAGAAZABoAGwAcAB0AHgAfACAAIQAiACMAJAAlACYAJwAoACkAKgArACwALQAuAC8AMAAxADIAMwA0ADUANgA3ADgAOQA6ADsAPAA9AD4APwBAAEEAQgBDAEQARQBGAEcASABJAEoASwBMAE0ATgBPAFAAUQBSAFMAVABVAFYAVwBYAFkAWgBbAFwAXQBeAF8AYABhAGIAYwBkAGUAZgBnAGgAaQBqAGsAbABtAG4AbwBwAHEAcgBzAHQAdQB2AHcAeAB5AHoAewB8AH0AfgB/AIAAgQCCAIMAhACFAIYAhwCIAIkAigCLAA==",
          "dtype": "i2"
         },
         "xaxis": "x",
         "y": {
          "bdata": "H7iwekBAGkDLaEVpLnUbQORCvK6R8htA0W2N4n1zHEDO5xiQ0OgdQPKHEd2duh9AcSz2qaU4IECCufyaXaYgQF1m2raHiCBA5NMPik0tIUDA9Ig3cRYhQJ765bN7TCFA8lvQLBieIUA7wA82xLchQAU71AAlwiJA2Vx2jKBbIkBuQ6VtDsMiQMKKKHGN/iJAq33k3F5UIkAdfgI5C4QiQGgnIhybCyNAndgxpAyTIkAGant6AsIiQBRfHZ8kfiJAxY7Ysyt5IkCJguUBi3ghQP/fWPmhfSFAn/nFtrNQIUD0uBIrYQwiQBNbac3fwyFAvo7wOOohIUAUiSYAHVchQIYjABTkuyBAv/MnQy46IEAUFnx6KnMgQEgq5Lk4cSBADBrPNKiUH0D2ZOzJpzkeQAXXQK+I7x1AC2jDOMytHkAOYOpCF+gdQP8PIsrmZxxAgK1iHOf0G0BNvqatK4cbQHVRDzIEhRtAapazpxp+GkDisz+Az5AYQFPOqqyTxRZAUAVDcXdjFkD7GePVYvMTQJdqpjxVWhJAro8x8es9DkDzi+cR4+AEQDVyktWVLQBAp84T45UqAECruOMmesr/P/IE2Xs5+Ps/HEif1F8+BEAceQtIsj8FQLXqx97+5gRA5aJx87gjB0CyvlSSVwsGQHTg+l6vMglAYBmf4J5QC0Dl+7VQ3GAPQJu+psEcrRBAKVh23PojDkCTIynvMCwQQC8Q1UETjBBAJi/EZVdLEEAYBe40lkwMQLqb077MpAtApuraSJ9VCkCDfiujDXMKQFoMy8VgWQlAz8DwWibFBUCyL8A8F0oGQOQgKIulJQVA05T2mYBRBEA9ntpL3McFQHnH5IN29gRAeWtsJAWYAkDFq5SiEuQGQASTh0LQlwVA/fcYgkA4CUDnCEq1v1IKQJpvkEdUwAtAXCXoV5+wDEDy+Y43YGwPQMLrFhObeRBA9TXu1IK0EEC0UKCZgFMQQDJnqIlupBJAoYw3p7ryEUBJUuXodWMTQDMTnYOWhRNA0O0lQtbMEkAANBxABWcVQHzj8rVMVBRAE26LNKNcFUACG8cJNwEWQIuBTjCTHRVA5PtDzd+9E0BOBAnSNFwTQOEot5oMBhNAolx7tAlCEkBelllvg/ERQM5a37wAURFA8QCfncdhEECnJTW2/IcPQLe7uMAtLQ1ANKzZT6QlC0CNk39W3xcJQEn2XmkMEwVAf3xubeFIBUCtvWSpzYwDQPhLvIbo6wNAB0e8erP6AUC75LxA33kAQC//UUsLNQBAWjZ/hUje+T8PXrDs/fv1P7QZbXFSDfo/Hw3FczPF9T/rYps9B/HwP5uuQELeEvM/1PnCFVvm5z+a+Me199byPyIrUpXpO+Y/r7SEPN497T9qkrcuKPv0P99Wsfahjes/Mnf4JfoH4D9ugkUfJXHgPy98kKCQ9uk/uE3J8xVm5z+K0www9S3iPzKHb7dztwRAlIX0xDAAC0AEzx4Mv8YPQA==",
          "dtype": "f8"
         },
         "yaxis": "y"
        },
        {
         "hovertemplate": "Sequenz=48<br>t=%{x}<br>v(t)=%{y}<extra></extra>",
         "legendgroup": "48",
         "line": {
          "color": "#B6E880",
          "dash": "solid"
         },
         "marker": {
          "symbol": "circle"
         },
         "mode": "lines",
         "name": "48",
         "showlegend": true,
         "type": "scattergl",
         "x": {
          "bdata": "AAABAAIAAwAEAAUABgAHAAgACQAKAAsADAANAA4ADwAQABEAEgATABQAFQAWABcAGAAZABoAGwAcAB0AHgAfACAAIQAiACMAJAAlACYAJwAoACkAKgArACwALQAuAC8AMAAxADIAMwA0ADUANgA3ADgAOQA6ADsAPAA9AD4APwBAAEEAQgBDAEQARQBGAEcASABJAEoASwBMAE0ATgBPAFAAUQBSAFMAVABVAFYAVwBYAFkAWgBbAFwAXQBeAF8AYABhAGIAYwBkAGUAZgBnAGgAaQBqAGsAbABtAG4AbwBwAHEAcgBzAHQAdQB2AHcAeAB5AHoAewB8AH0AfgB/AIAAgQCCAIMAhACFAIYAhwCIAIkAigCLAA==",
          "dtype": "i2"
         },
         "xaxis": "x",
         "y": {
          "bdata": "5J3d/xJ6G0BB3H/6WQ0bQDR6NVQTyhpAOtHBy7xPGkAm7kMQZnEaQHbvo7C8ZhpArOb8M7DzGUCbDe0HchYbQL2QA80kextAqGOsrOGfG0BbqyzT1yEbQKmZAqRtKRtASphuCJzSG0DeJC0TFg8dQItZ5nIy+htAfp0C2snGHEAk+7tlJO0cQHLgOSMP3RxAOzrJSOVfHUDYIuE9PPYcQCQ+7J4FjR1ARtUJ7cgZHkDWYHs1UR4dQOckb15mCh5Aj5TJ230xHUAPKrgEUModQKYqlvEZzB5A3Or1m/SrHUCUBYQVtgQeQJGEdsnMGh5AGTW+Nu8cHkCEvKML8OwdQOThmmXzMhxAwB5GMgMTHUC2v4Xay0YcQH5SPr8ryhxAWsEQvwVYG0DjhdnPvWQbQN9fHDggPRtANH/T32ZfGUDc3w5TFVoYQBz19bUazhhABobihoiSF0A17mhJRAQXQGXF9BLrfxZAhQaFq4D2FEAy1SSzuTUVQLS6XTxXJBRApeRN+5ikE0DT3748X70TQK0tsN9nExJAXD4lKDFnEUDCt+a4ZWsSQAMr1J7LLhJAdm988pQOEkAUN/q/0z4TQPbFMrAFiRJAK20zw8ldE0AMy7YeBvsUQB8r4L51DxVAkG7Hj+aSFkBMEBzMpEoWQF+6x57m+BdAd+S1iYmtGEAdOWHqJ34ZQKGp9hHAGRlArm/fCwDoGkB2uDPR7swbQJFeYf/FShxAPIVxAUCUHECpxWOKSQQcQOTXu+SrDBtAdWSx5RqGG0D6D5A1XvYaQDGv2PiEAxtA/oLs93lRGUCz/1Xic8gZQNWBApHrsRhATlv8BUbXGEBYEnT6R34WQHKV/q/pxRdAqEZ/BTz6FkCFxoVM4qsVQHuKBZ6rexZAkV1/qItUF0AxqSikVW0WQNrOoRNtOxdAtmUHhpZkGUC/U12xx10YQDK+pCz9YRpAoEi0WYugGkCSRwZVtakbQJld8z6VmRxAkHkTeY0WHECGSku+lNUcQKoPShMYih5A1YwTRT/xHkAOFEwIusUeQIJieRedDiBAGUj1y+KNIECAfSHAGVogQLuGmCzd9CBA6kcEM2e7IEA8bXp0FzUhQH15c9UwbCFACm6io7x6IUBjBFB+WnwhQBOQfyHJUyFAcGqVc3pSIUDyFJW9y40gQI75IeLU2CBAldmGGOdVIEC/HURid2EgQDhl3XMmyx9AJzTWjzn+H0AFdiW5Q0cfQAJXp5ZQQh9Au9bUc9IiH0D72YO3OC0dQKC2DaFL/RxAmRCZEGd0HUAvOxWJPdUcQFowTP6CCxtABpl6c10oGkAtdn6KYakZQJiieu4T/xlAALMdijmfF0A8HJQvjqQXQEsbY9lcQhZAX3aDoPJfFUB0rrZvupYUQKdKvyJM7hNA9imyOJMSEkADh9l98XMRQPirNZMm4w9AEk7IUDPCDkCU4g2UOWULQCiZpv0rkwhAwNupFNi9B0CDinEpJs8BQA==",
          "dtype": "f8"
         },
         "yaxis": "y"
        },
        {
         "hovertemplate": "Sequenz=49<br>t=%{x}<br>v(t)=%{y}<extra></extra>",
         "legendgroup": "49",
         "line": {
          "color": "#FF97FF",
          "dash": "solid"
         },
         "marker": {
          "symbol": "circle"
         },
         "mode": "lines",
         "name": "49",
         "showlegend": true,
         "type": "scattergl",
         "x": {
          "bdata": "AAABAAIAAwAEAAUABgAHAAgACQAKAAsADAANAA4ADwAQABEAEgATABQAFQAWABcAGAAZABoAGwAcAB0AHgAfACAAIQAiACMAJAAlACYAJwAoACkAKgArACwALQAuAC8AMAAxADIAMwA0ADUANgA3ADgAOQA6ADsAPAA9AD4APwBAAEEAQgBDAEQARQBGAEcASABJAEoASwBMAE0ATgBPAFAAUQBSAFMAVABVAFYAVwBYAFkAWgBbAFwAXQBeAF8AYABhAGIAYwBkAGUAZgBnAGgAaQBqAGsAbABtAG4AbwBwAHEAcgBzAHQAdQB2AHcAeAB5AHoAewB8AH0AfgB/AIAAgQCCAIMAhACFAIYAhwCIAIkAigCLAA==",
          "dtype": "i2"
         },
         "xaxis": "x",
         "y": {
          "bdata": "n+8wtPCmE0D91/dcqZ4VQGLMymbb/RdAj75thQpgGkCPO4wb8IIcQMBLa6h0BB9A9oQYuFj2H0Ca/fuvg1ogQBf320F+oiBA4C6USIFXIUCaTxx4PWgiQM/iBpCuayJA+eZI7xLxIkDZuv6pbWgiQOcqQ9aU2SJAfOVc6KcZI0DnadJQjXEjQC58E1WbVCNAyrCthd8mI0ChybUaBDQjQNVpvYCOVCNA7lLCWwW3IkCoSzfUJ0cjQP+fm1o5RiNA7/hqVvP8IUCeSjeAX+QhQAS+hjw4ayFAWqSOnm+GIUBlNt+Wqg4hQFyaoqNSeCBAMfYe7WnPIEDEc3ol6q0fQLiKRiGiyR9AuD7GVRyPHkDKWDR4EIgeQETdqwKskhtAftidI8e1G0CARcNz+0AbQD1d1JWBIBlAjluAhQpcGEAaPhRuIYIYQGmN1KzZIBZAyNusjG+uFUD5sO+5tSMVQJ3AInqiYxRA5ztKL98gE0AhXvMOHKgSQLv7x8KkwRJAnHeYCw/EEEBDdqfCPAwRQPYIAzWCSxJATHnsxdgGEkA94Jsa2QgSQBbydyi5kxFAuAtY0rnUEkDyP1ipHYgRQBYKpNIrkhJA8EzFFceMEUAiSjbdHKoSQADIh05zvxNAR4TNeUOmFECCaj2nZPEUQEghlyPBwRVAgzBSistMFUDqJrkE/YsWQEku4JKLShVAya2TLawqFUDhPFcMvpUVQEXfaGcYxRVAt5CR2LVCFUBXi46U8doUQADb0boe1hNAfptdoABEFECwizoxTIkTQKh7dMv0+hJAU5m4TjxpEkDZoV4eEgQTQJ/f3NE0AxNAq19zwBTPEkCRwxQH1PcSQAKgC4R9ZBFA17nkXHg1EkBJaM2TVJERQMaGDa2YJBNAt6eGiF/REkAGGIkiAiQSQA2XPQYP3hNAiWz5OLTlE0BI3HPQ4boTQNqxziyS9BRADGJSaFY0FUDlFonXL20TQLwWXjCH/xNAgFqqFntbFEC2YSG6r9oUQCcBQmhXLBVA3PM07r+aFEAZx3csSZsUQFkECQ1ZMRNAriKjpTURFUA241n01igUQN9EPT8YghRA4yE4jN5jFEBj/A4BazETQCaQ5XP7GRNAqmtUqea6FED3Bape14IUQNoShbDG5hNApvFLmzkCE0BPnKd13aATQHLvw5RjwhRA40FzPFLcE0CNeIt9xakUQOpZcT4m7BNA7cPh/QonE0DJ5q3sMowUQF/8WIAEAxVAvI1XKWlFFEBFtNDeyE0UQAFndw0KZBRAzXPdo/RBFUCBAjH9eJcUQG4ruraZjBVA/txVVB22E0BypDqriIAUQEIlKA9BcRVAemA7g4zIFEA0GQtuFbgTQIKhps3SnBNANdstxiTVE0AvHkjo8fMUQPqBRRbSyRRAu2Tgz1jvEkAiaGzH4XkTQEj3bMoRdhJAnNrjIsJEEkDojxwidVMRQMRxf+qhEBJA9NeiLW5SEUDyUGzh4LUQQA==",
          "dtype": "f8"
         },
         "yaxis": "y"
        },
        {
         "hovertemplate": "Sequenz=50<br>t=%{x}<br>v(t)=%{y}<extra></extra>",
         "legendgroup": "50",
         "line": {
          "color": "#FECB52",
          "dash": "solid"
         },
         "marker": {
          "symbol": "circle"
         },
         "mode": "lines",
         "name": "50",
         "showlegend": true,
         "type": "scattergl",
         "x": {
          "bdata": "AAABAAIAAwAEAAUABgAHAAgACQAKAAsADAANAA4ADwAQABEAEgATABQAFQAWABcAGAAZABoAGwAcAB0AHgAfACAAIQAiACMAJAAlACYAJwAoACkAKgArACwALQAuAC8AMAAxADIAMwA0ADUANgA3ADgAOQA6ADsAPAA9AD4APwBAAEEAQgBDAEQARQBGAEcASABJAEoASwBMAE0ATgBPAFAAUQBSAFMAVABVAFYAVwBYAFkAWgBbAFwAXQBeAF8AYABhAGIAYwBkAGUAZgBnAGgAaQBqAGsAbABtAG4AbwBwAHEAcgBzAHQAdQB2AHcAeAB5AHoAewB8AH0AfgB/AIAAgQCCAIMAhACFAIYAhwCIAIkAigCLAA==",
          "dtype": "i2"
         },
         "xaxis": "x",
         "y": {
          "bdata": "MJisuJgKJUD7DFqq+lMkQJPF7uddoyRAOXz4zr3/I0DFLqGnWGskQGmeXiQD4yRAJd9zFOV8JEBUI+e1+SolQKkSKGu3cSRARD8I3eCIJEAS816lZ+4kQFpBg5l1JCVAhboQPuwwJUAqnb9S6nYkQBdXH2kIoCRAPF+ETEUfJUAOOl9UxoYkQAyP5RVtQiRAMTtMUvEWJEDA3gTaXIQkQC4CAPt3TyRAxtNA1tXiI0Bvay2kQ8YjQH6kPQyauCJA/dTnVjxPIkCbaXbzRNMhQLUk0s2gJCJA+bz0SkMuIkC3dxLFWZQhQCtwk9Mt3SBAjlXY2mKJIEAS6CK05I0dQMk3plS0vhxAxw2fOXOxG0DmzwBjyUkdQPrv9VJz3B5AXDy+ebh/IECCbAeasQogQJ/xGbx+tRxAUZjz87zfGUDgpLWv0xYYQHAIaShEORVAAIQnFyMxEkBi0cYCkZwMQABvDpjrmAlAqvuEzu8FA0CD/0lkiAj6PyHX7nylp+w/sHFWLzyc9z9qpRi20ZP3P0uHI/s2BPg/qHHSPfuk8j89eBPJgWDwPwDKSCI0mv0/39eCd8YO+T9DGFjCOo/zPyLFStE0yQBArC67+qH1AECgR2p6n2MDQKYFCFP3jQJAdfDq96MpBkCz3oDyKCcKQNViqId8sglApARciBqNDECMR+dogzANQM1liJLnPBBAMaBNmh09EEDgUXDYMiMQQI/KE8r23A9AnSCk5BMFEEA/tohxvvsLQOx5nFcc8gtAwbCbFthsDEBtTMC9c/UKQBVcLFsAGwpAVUgmChbHBUAG7fgtzTcEQAyMO9UkfARAH0keFIbgAEBHHW4bNLEAQEnufHaibwJAy9+7VxpsAEDX8ayVSzT8P2co6Kb9xP0/W5B4aQvV/z88lbmXKf0BQGtkv98uKQBAHMwfvYfPAkCKRPaknewEQJEKVXgBZwVA9amNwkMyA0CC78xcdfYFQMsz463EwwdAghILu09uBUCUuBvVO34FQGOHTRIqcghAmjrsHJC/BECsPIuXN9oEQLPb8wxNDgNAO69oXzfZA0AqXn5ZVLwCQGNAflh9jv0/yXTaqyj+/j8O5i60fQD8P75s7etc2vg/8/fUg2SH+T/BfzwP8/D4P1dq9JBjZe8/YoRbwdKh9T+CLihKpXvwP67ntiVVyek/zub6DU0/4j+iNqRpwaPmP2gLoudmAug/Sl3O1Aqd8z84wk1wWbjzPyey3uAFl+0/TDMKayTv8D/04o/xgVDwP4eNIUQMaO4/PsL/cnDO6j+mo7xx4KTjP5DGTb1jW+Y/RsMvtUGD4j/Zgeq72sXsPwAZwW3TyOs/9gA9IlCR6j+s9E3IkLLnP1IUcTnmAOc/cYkFxaZQ8j9Jetb4JuHlP/K7PDv+/ek/gIFSaHGT6z9bWR6gdKTjP5+EGPK+Oto/BFmLO+eH1T8iePpHVH3tP8eeypdM2OQ/OIzq4dwW6z+Q8TeVteHhPw==",
          "dtype": "f8"
         },
         "yaxis": "y"
        },
        {
         "hovertemplate": "Sequenz=51<br>t=%{x}<br>v(t)=%{y}<extra></extra>",
         "legendgroup": "51",
         "line": {
          "color": "#636efa",
          "dash": "solid"
         },
         "marker": {
          "symbol": "circle"
         },
         "mode": "lines",
         "name": "51",
         "showlegend": true,
         "type": "scattergl",
         "x": {
          "bdata": "AAABAAIAAwAEAAUABgAHAAgACQAKAAsADAANAA4ADwAQABEAEgATABQAFQAWABcAGAAZABoAGwAcAB0AHgAfACAAIQAiACMAJAAlACYAJwAoACkAKgArACwALQAuAC8AMAAxADIAMwA0ADUANgA3ADgAOQA6ADsAPAA9AD4APwBAAEEAQgBDAEQARQBGAEcASABJAEoASwBMAE0ATgBPAFAAUQBSAFMAVABVAFYAVwBYAFkAWgBbAFwAXQBeAF8AYABhAGIAYwBkAGUAZgBnAGgAaQBqAGsAbABtAG4AbwBwAHEAcgBzAHQAdQB2AHcAeAB5AHoAewB8AH0AfgB/AIAAgQCCAIMAhACFAIYAhwCIAIkAigCLAA==",
          "dtype": "i2"
         },
         "xaxis": "x",
         "y": {
          "bdata": "uw29jH33IECcdqaosa8gQGB3shJ3yyBAPcitKFPwIEBG88HQcJ0hQO5yU7kYxyBAvXw4a1WiIUBNtRCV7ssgQKbPzimrxCBAXNSKGmm7IEB4HRLy5ashQLoFRbXIcCFAO59YyiZVIUDRiGr6fnwhQNL2+8JSWiFAelvUYm6iIUBQXR58g7YhQPXGETEm1yFAnRSImsvDIUB+x7UsUlAiQJbb2VwvuSFA93Axi8o3IkBVqL1GhFoiQFHA8EOv+yFAzgXTBA0/IkD3oYazoBoiQL6xyuPBViJAimaEFlT3IUCFkFqgsKoiQIQadMyyzCFA5kv9tSVjIUCwGyQLtkghQPa7aLdfUSFAHALQBV01IUAK4GcF7VUgQB7ROrYt9SBAZadsg8tMIEC0ITvjSxQgQJE0mvSEbR5ANeNoALCaHkDUtNwwkfEeQAeaXAeNMhxAmqjeJWrBG0D6lp/uJIEaQHdFax5sIBpA57VmtiHcGUAf6/NrFg0YQLKzegglwhdAEULdqpBWF0Blh4vNBWUWQKIKhJVEUBVACQC7k90ZFUA9p8UJ4IwWQFgnI2dBARVAmFBZJ+XYFkATRAf6Wt8WQGVWWu8hRxdA4C43RuXAGEAYNrqgUN8ZQBvjHWZFyhpAYh/65C0eG0CVYtBKS8gbQAyZMGw7QR1ABeKsB49WHEDKSUU5mksdQCHB/SC99h1AJKchmlO+HUDtq8K1dJweQEfZTz23Ih9ALmwftrYJH0CvwgKAQMYfQKiT1S8ysB5AhXfC9EHJHkBkQWHX948eQCg24VqnJR1AVroxKto4HUADOBV2EhocQH58+4n21htAV52o5zNwGkDz7XDwOt0ZQMQICW48/hpAu9y/sd5xGkD/UBtorYYZQFB3v0j4nhlAm1dg1I18GkBeWfChf9cZQLOdb47FShlAZeibMMN/GkBRXt+OoesaQJ2JMopIbRtAwcJlxF9LG0ASTu45cwIcQDHBNjrfBxxAGng69AKdHEBkd+IjH24dQEKza4EgvB1ADJyO+Vr+G0DneW/gsxIeQKU/abAouR1AMX96KtTeHUCNssFm4y0dQG231bSg3RxAlXevtFY6HECyDO14eTkcQAqgL07rxxxAWlzWxp+dG0CJ/OU9+HAbQHJqKqdSPxxAtZ17LuUoG0Bmf6L7AdEaQCo7nEdf5RpAjDZltxUmG0D+Ib+egL4aQCu0obXNlBpArIBro1b8GUAFlKhcwisZQBIyLMV6TBlA0+r90wteGUBBEZJnKRoYQGk/Sk87whhAU5Q8nYD7F0CMl78y0HsYQC57t/Vg6BhAqs8fNye/F0BA1enmblYXQOni5Y6imBhAkq7sWmZWGECwz3ogb+AWQPvljIwiSRdA8paj4x+0FkCtrMbmO78XQIPiMeselRZAA6jgZTWaFEDK+Biey/8TQLzVFczwZhJAV1wLQNnuEECZUU2qwY8OQHJNd8XEXgZAIkDq6NZNAECf6PixUxf0Pw==",
          "dtype": "f8"
         },
         "yaxis": "y"
        },
        {
         "hovertemplate": "Sequenz=52<br>t=%{x}<br>v(t)=%{y}<extra></extra>",
         "legendgroup": "52",
         "line": {
          "color": "#EF553B",
          "dash": "solid"
         },
         "marker": {
          "symbol": "circle"
         },
         "mode": "lines",
         "name": "52",
         "showlegend": true,
         "type": "scattergl",
         "x": {
          "bdata": "AAABAAIAAwAEAAUABgAHAAgACQAKAAsADAANAA4ADwAQABEAEgATABQAFQAWABcAGAAZABoAGwAcAB0AHgAfACAAIQAiACMAJAAlACYAJwAoACkAKgArACwALQAuAC8AMAAxADIAMwA0ADUANgA3ADgAOQA6ADsAPAA9AD4APwBAAEEAQgBDAEQARQBGAEcASABJAEoASwBMAE0ATgBPAFAAUQBSAFMAVABVAFYAVwBYAFkAWgBbAFwAXQBeAF8AYABhAGIAYwBkAGUAZgBnAGgAaQBqAGsAbABtAG4AbwBwAHEAcgBzAHQAdQB2AHcAeAB5AHoAewB8AH0AfgB/AIAAgQCCAIMAhACFAIYAhwCIAIkAigCLAA==",
          "dtype": "i2"
         },
         "xaxis": "x",
         "y": {
          "bdata": "XUlPuEBVJkAYpevcg6sjQPsxYmWcpSNAKSzA2w4fJED1Qq5tNJskQKERvOyblCRAiDn3ns+lJUAE95nWDSIlQCyVoO7MZyVAG7HLfsG4JUD1wqt3gQ4mQIKn3QECJCVA7j2evR7WJUAy76wGekklQMYuReuM3CRA7dnZJzBiJUBN+HV+Ru0kQEdUklSAxyRA499MZyN4JECiDZk0YmUkQIdjtgBYOiRAUanJvL7FI0AUYsoBskojQIcv9hCpMSNAZpNh9tPKIkCLZyuOxoEiQJv2cwD4DyJAn9xUQbd8IUC9eFHuVrchQIhmpivOySFAYqK4+3mIIUDK93WcFUMhQAUVCwR6HyFAOr+Jzr4xIUB+CCrREaYgQNWRQ3KAjiBAoH4KuBulIEAsxorBtcwfQKljMoQ1mR9AYPA6scnXHUAYfQ4+dsMbQOIJQBixXBlADEERDXwnGEB6HX0QZhUTQB6G77FRQw9AHEDeITipCUAjZu+AomgFQGe4WijayPg/f0QFjflA8T8cJMbn5gH6P5gLJ5ACsu8/sjBZuBN++T8Uyy8t3Q73P17jVF5ESPk/rMyoGWTHAEDooiTS1W76Pyyil2a50wBAceFmwNKMBUBOvM+DcNQHQBOAik2wMAdA8DaG7yeIB0AIC8vRGGQKQOFt6+qbYwxA/mvB532/DED86iISTl4PQNJMTJWQlRFAbXtHo/Q9EUD0UqXdzagQQOv+o7h17hBAxMcHSW+VEUADmeiNgK4QQCxKeNivUw9AfPvbGxRcD0AnUmwOyAENQOk4W1DMKQxAYnRegTRTCkAEx6Qsx+8JQGTj19tT9whA7pcQ9PSEBkCzy7kadloHQExtdbNqsgZA/0w5pZbWAkCtvEImcgEEQK9MHoXvCwZAYnxmAqavB0CxCFYWdYIGQE1s5pR45QlA1mwb9xO8DECiAcyZTuMMQNlHr74A5g1A12eaiq5EEUDl+rffJJgRQOq7ACYdchJAoOByxCVmEkDUdPrutg0TQG0BZB5U/BJAYTHpinHTE0CL+RKPWFIVQLMdJfMj+RVAthG7FuVEFUA20zjfqOgWQJxVwYs/DhZAffCCazvjFkBia4qXLcAWQHS8WDaTrBdADbHAHvgIGEA0ttDorAQXQATUi57zRRdArJtgMk7CFUA90S9rZsIWQLmQRbX+lBZAv8nNuWtbFkBzJSEFvE4WQLEj/VSNnBRAAbUqMSg6FUAECp3hNdMTQK6L1JyhUxJAPDUSckKtE0BaxbPbqooRQIOhx6tUAhJAtk+Z5/oVEUAzKe4PzXcQQGz4PC93eA9AVL8mPdyTD0AmOjGGe2UNQHyJB+GTRQpAtFIlWv5pDEBg42UpVnULQBieis/PlApAxQvMA4tcBEA/wDuP+o8CQMWwatZd9AFAbXk2dsuwAkBnrHSekgkDQJDJsPMRW/4/a/Rb+7ZjAEAbliujsOv2Pw/4bC+tofU/Jqntm75H6j9VA+VULIbpPw==",
          "dtype": "f8"
         },
         "yaxis": "y"
        },
        {
         "hovertemplate": "Sequenz=53<br>t=%{x}<br>v(t)=%{y}<extra></extra>",
         "legendgroup": "53",
         "line": {
          "color": "#00cc96",
          "dash": "solid"
         },
         "marker": {
          "symbol": "circle"
         },
         "mode": "lines",
         "name": "53",
         "showlegend": true,
         "type": "scattergl",
         "x": {
          "bdata": "AAABAAIAAwAEAAUABgAHAAgACQAKAAsADAANAA4ADwAQABEAEgATABQAFQAWABcAGAAZABoAGwAcAB0AHgAfACAAIQAiACMAJAAlACYAJwAoACkAKgArACwALQAuAC8AMAAxADIAMwA0ADUANgA3ADgAOQA6ADsAPAA9AD4APwBAAEEAQgBDAEQARQBGAEcASABJAEoASwBMAE0ATgBPAFAAUQBSAFMAVABVAFYAVwBYAFkAWgBbAFwAXQBeAF8AYABhAGIAYwBkAGUAZgBnAGgAaQBqAGsAbABtAG4AbwBwAHEAcgBzAHQAdQB2AHcAeAB5AHoAewB8AH0AfgB/AIAAgQCCAIMAhACFAIYAhwCIAIkAigCLAA==",
          "dtype": "i2"
         },
         "xaxis": "x",
         "y": {
          "bdata": "dC140udzI0CyH6q8j34jQByVI2UwjSNADQpFtZqYI0DGNjvHF0gjQIe5n9DYDiRA3xjNEoNuJEDMYSst1awjQOEPK9xiLCRACnf7qy+pI0Ay9bdkdXgjQPsmH8gcxiNAFcybFGloI0Dq05siqu4jQK5RdUeEoiNA4r0sclpFI0ARZnnxao0jQPb0t5+zbiJA5oF9o73UIkCqzS3pTPciQDAB60AxtCJAVf0ywiVKIkBlMRbtSKEhQKeYjiURzSFAKBCY2kguIkBMBps2ucwhQM/UfTqOvyFA/+/uQO3pIED9uzkrvbUgQMRPe7a+dSBAZkWwKyTbIED9HzaJIdIfQKDwv7ND7R5AF5xmkzmPHkCthe2q2LofQEUaPCqT0x5A94nOlyPkHkDzi3zlRpsdQOdpkcScbh1AQPp5/+9MHEAOsjmfF4sbQLPByArYiBtACim3gPu9GkCdWG8HyJQZQB8QM17CExlAfFoqpGs3F0BHVT21WTkYQIQbhftPShdAmKMLno57F0Ai9pe9+0cWQPzVcIoLixZAPn0+PfdkFkCMNf+i6ecUQBxZ0kC7oxVAvZ5ky6S8FED/og/MSaUVQNkCzEo0yBZAD8gjNw/lFkAxHgwkG7oXQGzy+7ATFRhA/zIWQBvUGEBv0iJcJQIZQLj03Xd3IxpA0PE5tJNdGkC9N0BP98IaQLchUDM8fhpAug3pF/KoHEAHRTzUwb0bQLyMPSJlKBxAdLrafYM8HEDt5q7pKx0cQACiMGri6htAuDgsmNCqGkCz89M65DMaQISuwtVc7RlAcnTYnFjhGEA/0XJmuZAYQIjGMpgm5BdApotudQADGEBy67ZIOlkYQDdE2lHKTRhAmbzEXnxhGEDsHF9NY8QXQCZxk6LFbxdAeKEtv/UPF0BqLcDq3jgYQPU3sLMecRhApl1MjLlWGUCu80I9+l8ZQCqA4h3AOBhAdbrwbdYOGUC1YosAiz8ZQPasmwjT/xhAvo0i0RIiGkAma8k2YZkZQOjYcpIwGxpARTzMY4xzGUA0BKJFquEZQLTvdXNUVRpAFKABgTqUGkA8lhqSlYUaQDEDSizASxpAVaiCqpSUGEDJJkCn8msZQKYnOIxhoRlAciAwoyBZGED3rwEBiB0YQA1rRKwykxhABM+P78qJGECnK6Nr+2EXQGusKQerNhdAFrx4W6aJF0BcxgP16UwYQB761N44ZhdAxzExjTX/FkAYrGj2qJUXQOeHYiyZgBZAw01l7UrEFkD+8J3uRBUYQP3zY9WHWBZA5flB5WAuF0Bimc3vnJsWQDoY+vcNOBZArk56TolAFkBx35uJzikXQKiy3vaD3RVAAvf2JZxgFkB0zQL86ZIXQPY/bVa4txVAYTzLLG3yFkD7qr7oiEQWQIDym4GU6xVAMoMSNw8/FkCCZ+6JwzAWQLmieW54cBVAQjeynEd5FUDA9q5qnAUVQDE8ComBVRNA3BYuf/ASE0Ac/7WeeNsRQA==",
          "dtype": "f8"
         },
         "yaxis": "y"
        },
        {
         "hovertemplate": "Sequenz=54<br>t=%{x}<br>v(t)=%{y}<extra></extra>",
         "legendgroup": "54",
         "line": {
          "color": "#ab63fa",
          "dash": "solid"
         },
         "marker": {
          "symbol": "circle"
         },
         "mode": "lines",
         "name": "54",
         "showlegend": true,
         "type": "scattergl",
         "x": {
          "bdata": "AAABAAIAAwAEAAUABgAHAAgACQAKAAsADAANAA4ADwAQABEAEgATABQAFQAWABcAGAAZABoAGwAcAB0AHgAfACAAIQAiACMAJAAlACYAJwAoACkAKgArACwALQAuAC8AMAAxADIAMwA0ADUANgA3ADgAOQA6ADsAPAA9AD4APwBAAEEAQgBDAEQARQBGAEcASABJAEoASwBMAE0ATgBPAFAAUQBSAFMAVABVAFYAVwBYAFkAWgBbAFwAXQBeAF8AYABhAGIAYwBkAGUAZgBnAGgAaQBqAGsAbABtAG4AbwBwAHEAcgBzAHQAdQB2AHcAeAB5AHoAewB8AH0AfgB/AIAAgQCCAIMAhACFAIYAhwCIAIkAigCLAA==",
          "dtype": "i2"
         },
         "xaxis": "x",
         "y": {
          "bdata": "SskRAdMyHkAQo5xEOCEdQA11G411BB1Am+ti9ZjwHEBsRif6O9sdQDzbJpq2rB5A6EttHVkgIEBfhYZzBVogQJVnli1/4x9Apo90n1mkH0CexmC0q38gQMsBWSAzpyBAoZJed0sLIUDPKBqvYLAhQB5ls9xIVCFA9/xhfEisIUAZLuMLH1EhQMw1LYjubSFAsEwGvwf5IEAMOvrF/iMhQLI4hfmvgyFAqPhRGDTRIEBA/u/8gD0hQOCYj4IUSiFAyEyTXdY9IEDvfNerjYIfQFqHLDvuDiBAO1oVUYruHkDR/OeZfJ4fQLxMDoNm5RxA+SCIR21kHEBiE3xWwaAcQELSNzragRlAvtw9tO65GECc0HN804kZQOKEChXMIhdAVtgis7m5FEDTm53XSzQSQMLtfoN+rBFAGAQgAhwLEUDACcda7U0OQESPKQRZtg5Ae8WSZrpMC0CxAlDeMV4KQNiOZrqcmwtAo8IPiNKJDEDB5lZ/fLoKQAh/PeX4XgtAmuavkVH0DEDox3HlH+ENQLMh1pcR9w1AYABl9xuVDEB0H/iIJvwPQM2dmeYEdBBAVzffdHunEUCkax+a8vkSQOMrlUcfxRRAlfVsg5sMFkBlk1qHxjEXQAWo4hwh3hhAtbXcFo4GG0CeQ0m1F0AbQPp3oQIOthpAir/ZIetZG0BOlq+JBAYdQGwD7t97uRxADpNdqy9FHECgo6E+LzEcQEp3Tlva9BpAO5mRF6zWGkCCTT1jdqEbQFzUeOvVphpAAEjDelv8GUA+Nl6xHBsaQExibsEs4RpA7iYpV0UiGkApU6pTVcwZQMrgRUfFaBlA/vtAtH0gGUDEzaZyR2gZQHYvXMTZvBhAxyzsJpWpGEBFYZN28PoZQOkms62YRxpAFL2pz6xdGUBzr1ySdoYZQBCimI4qOBlALffOCYOdGkCdnEfkmy4aQLgoKe7EgRpAI5i27bPpGUCxVCLn6pcaQD6pGXXlCBlAX3i7RWUcGUAf9c7r/OUYQJveqbJvmhpA+v5B0XA5GUDSXz4EAVQZQPqUrvJExBhAklqI9vkcGkBRicyu/9gZQExwLQTp5xhAB134CXqqGUCDGp85IKgZQF5dwbCihBhAZPgtC7UEGEBGfjPfbnIYQDPEQaCDIhhAOmeItQZYF0CclLR1mCcYQMNi2UOEfRdAG254xMCSGECIlet1E5QWQDG0UoIiFRhA+jhy3HTCF0CE4AeyaE0WQC3r0syOQhZAfHNf08IPF0AFo5y6U3AWQN7SVisneBZAwtql93HpFkCOce9PBmsWQPYQK9M3shVAq0ME+I22FUDo0B87iHEVQKZdE9mJMhdAl+UBWdA9F0CqyVsMnzgXQJ6OvewoVxZACWb9xmpkFUDWDJBO6JgWQJlq+WBjJxdAPmjpU5oTFkBuauRjgEkVQAeOnFi+FRZAobmIjbc1FUAj6bH7szIVQOqrph77DBZAWczUBNVCFEBkMQ1CFGgUQA==",
          "dtype": "f8"
         },
         "yaxis": "y"
        },
        {
         "hovertemplate": "Sequenz=55<br>t=%{x}<br>v(t)=%{y}<extra></extra>",
         "legendgroup": "55",
         "line": {
          "color": "#FFA15A",
          "dash": "solid"
         },
         "marker": {
          "symbol": "circle"
         },
         "mode": "lines",
         "name": "55",
         "showlegend": true,
         "type": "scattergl",
         "x": {
          "bdata": "AAABAAIAAwAEAAUABgAHAAgACQAKAAsADAANAA4ADwAQABEAEgATABQAFQAWABcAGAAZABoAGwAcAB0AHgAfACAAIQAiACMAJAAlACYAJwAoACkAKgArACwALQAuAC8AMAAxADIAMwA0ADUANgA3ADgAOQA6ADsAPAA9AD4APwBAAEEAQgBDAEQARQBGAEcASABJAEoASwBMAE0ATgBPAFAAUQBSAFMAVABVAFYAVwBYAFkAWgBbAFwAXQBeAF8AYABhAGIAYwBkAGUAZgBnAGgAaQBqAGsAbABtAG4AbwBwAHEAcgBzAHQAdQB2AHcAeAB5AHoAewB8AH0AfgB/AIAAgQCCAIMAhACFAIYAhwCIAIkAigCLAA==",
          "dtype": "i2"
         },
         "xaxis": "x",
         "y": {
          "bdata": "kiIaJHoKIUBKzgoUOsIgQHe4pYPZ2yBArAEQQc/oIECzLU+b2uAgQLcXLHw6aiFAOliVhL5AIUBLtYf5tccgQNIDrFWNUyFAw43jmWKtIUDrI7nXcy4hQCuwLhbDPyFAQho5/NJLIUAtCABpjm4hQMTiNA9mtiBAtnx4AETdIEDz01YffOMgQLXtocl6DSFAkdjSWXq3IEDZS3At8iMhQDhkFfd0vyBAtCXtkdMNIUD3GOhZIysgQKy8gi0mZyBACe/yvkNbIEAwga8qXBogQDC8KRqJiSBAZR/cZUWIH0CaOCeYTE0gQORQ5gqWhR5A3ti3MaAMHkC2wiCpNxEdQCc75pVSIx1ACoM1ImYxHUBfImghV3sbQM8Fxu5F3htAlvhD4/UPHEBQNAIN4n4aQJ9LyCwoWxlAMkJdkv8OGECnB9+z6M8YQEbbPARauRZAv/AakH/MFkD9YhVZwH8VQNqK28roaRNAC3dGiRpkEkCfHyA1vjISQEzVM9C1hhFAfZnwhD4rD0CM3/Cbe2QPQJsSr7b8rw9AlytsoQ4QDkD/VwLyvc4OQKpP3JNQNAxAJhQXTOYPEECMeSd8cxUNQPIbRwbNyg5AlTpoDi7QEEA602H6dr4QQJ8PBPGB4A9AnrOa6nTkEECTcwtbvQgTQHwLarsZlBJAcR6e0FY/FECbr9GWznwUQJbmDHfoqBRA8q188jYyFUDMXH74GCcUQP77Otdz+hNAagM0AC9DFUCMsaGvQDgVQJSsOc/GhxRAOVmez2VeFEBsRKsr1OESQAfCjnGUvBNAeWD2bcdtE0CVKg43a04SQPeOo3oC2xJAw75KmkCuEUC+60U9c0gSQCAMWRgl8BFAJK+SfbFbE0BiuwMluS8UQHcyX+xYJRRA+ygTgPffE0AqKthP15IVQKlJTjmtWhZAiyaA+4ykFkBXx5SvheoWQADLlZ1lgRdAFuVUDcb8F0DRNVX0KAUZQCuUUrrKPhpAxzA4o/1qGkAj8lJ6l+UaQCfIAiI9KhtArdKkepodHUDSD/Nt9aAdQMZ4lwFP7R1AT4Bx1sDpHUCMG9SiSskeQDj4GPIh9R5AkvwB9zTFHkCXO2lTsksfQD3i017jWh9Acdra1aodH0CDplJRTiwfQImOwoVeph5Aj4LHkioHHkDTZOBi4o8eQNTfD8VKUBxA0KneNvluHUD228UW8xwdQJBNgRKiehtAMg6m+OhnGkD9n6UxYzYaQHV5ExTLEBtAEznJ1TKYGUCVX2HcxY8ZQKQsZ85bYxdA3VILGQpcFkBUwunoNfgWQHgu46WGrBRAjk6QSsnkFEBYa8n2kAYTQGBGMrNydBNAJEtpXlfqEEBep4uC/ToQQEYWkV+iMRBAZAlBx6o2DEDbsQlpcmYLQIBh+5ka3glAa5veX7irBUB2qg2+SkMFQLVVfy36aQFArrAeR3J3AEBC562KhKr7PyV2EZUVD/k/Zw9XG1Pj8j9AyrvuadXzPw==",
          "dtype": "f8"
         },
         "yaxis": "y"
        },
        {
         "hovertemplate": "Sequenz=56<br>t=%{x}<br>v(t)=%{y}<extra></extra>",
         "legendgroup": "56",
         "line": {
          "color": "#19d3f3",
          "dash": "solid"
         },
         "marker": {
          "symbol": "circle"
         },
         "mode": "lines",
         "name": "56",
         "showlegend": true,
         "type": "scattergl",
         "x": {
          "bdata": "AAABAAIAAwAEAAUABgAHAAgACQAKAAsADAANAA4ADwAQABEAEgATABQAFQAWABcAGAAZABoAGwAcAB0AHgAfACAAIQAiACMAJAAlACYAJwAoACkAKgArACwALQAuAC8AMAAxADIAMwA0ADUANgA3ADgAOQA6ADsAPAA9AD4APwBAAEEAQgBDAEQARQBGAEcASABJAEoASwBMAE0ATgBPAFAAUQBSAFMAVABVAFYAVwBYAFkAWgBbAFwAXQBeAF8AYABhAGIAYwBkAGUAZgBnAGgAaQBqAGsAbABtAG4AbwBwAHEAcgBzAHQAdQB2AHcAeAB5AHoAewB8AH0AfgB/AIAAgQCCAIMAhACFAIYAhwCIAIkAigCLAA==",
          "dtype": "i2"
         },
         "xaxis": "x",
         "y": {
          "bdata": "+egTOLBNF0C7nmJIifQYQN9Bsp8AyBdANzeyCGE2GUDZAWFUNh4aQANAB4HXXRtAgNsE/A/fG0CbFoK2HtEcQOU6415Yax9A+NH2Mhd0H0CNzeoTwrQgQL7hGfNicSFAqFhpQwc9IkAOqfuqRhAiQGdTCDPJcSNAgktvxV/wIkAd2wOsLpojQHgkY+WnCiRAsyhNUBrYJEBLn+TCM8UkQChxORALOiVAOP607DgbJkBvGla8cuIlQAvEhPkSrSVAphP8o7jzJUBcZKbzLAQmQM4hPIRhYiZAmAWPUvEpJkDvVo3il6QmQFVCNQ63rCZAY0NV0kqIJkCMKmHS304mQKmGoFWQTSZA+royXMs7JkBLHMZq5nAlQKsqjTPNGiVAfM5B5bwIJUDb5qJNng8kQIhfFjCZkSNAtThDBQMmI0Cc9V55OC0iQBc/JxJDZCJAUkhXY7WVIUCb8MJp6isgQAZZvx/zeR9ADa8S2I86HkA3WLLcbKIcQAKiAvmeMxtAW0r31fHfGUC4kA+i37YaQHL+aahHmxlAyMDZpXZXF0DbnXAdCksYQId4Ej00BxdAnjP0hSxTGEAG5mMDOncXQEt3Up6GkBhAyfBQQuPhGEAi3zmNnz4YQL69nEnMcxhARacK9YD8GUCY5OYwWwkcQNyxoBrCMxxAHFWsMPejHkDHE7+py7seQMiKYTCBWx9A/PC/slN0IEBOEf07rVkgQCtudnVCcyBAh4aaIaVVIUBCFAsnddIgQFhllBAvOSFAIQNngKA6IUD7JLHV7LwgQBmk910EVyBAkCKXLGMyIEBJacQKEWcgQMsuU7XR+R9AGP86KCapH0C7VQROfWoeQDZ3gkyGzx1AWmg54S5tHkAXHM2uNX0eQNQLCalcih9A9c89BXXUHUDZGRJ/WFAfQOxdmWohwR9ANc8JQ7L2H0BpBIpyjU8gQERPx+iOtyBADTdw09SlIEAb+yfMK3sgQGYCx2Np+iBAMng58JeLIUCV7zatyiUiQMf2sqlMYyJAqnPrxhI6IkBKMIZNea0iQHUoMlWjTCJA+FpdZI3SIkBfY2xk2dAiQArSEk04uCJAjAzpjs9wI0DTaeLsTGYjQPSlVGcvZSNAffmYUt8mI0A5Obid/5IiQAvuRVcgESNA1HPeIwL2IkBd49+7SLYiQGnKhHDPAyJA7qteBFHzIUAVC/9oDsohQMQaZU8PzyBAaHTkRtcUIUAfMaz+nA8gQF0AMxv1Rx9A9kf9widTHkCmFmUmkM8dQK+ptNsyvBxAnqNS2YvdGkCXdqAHzx4ZQCYS4PLv+RhAcVga2b6pFkAhyhYqEGEVQEqUyl6w8BNAFezal/EwE0BNCWOo8qcRQP+1KnaguA9AEK6I2utAEEAsZx/A3toLQGoG1WkFswdAoCOd1HghBUB5tAlwJtgEQCA6I4RTRAFA1Yhv0ddf+z8Xl3WqcSX+PyBCAnbQQvE/kzgC0+1S9T/kKLIT8WjxPw==",
          "dtype": "f8"
         },
         "yaxis": "y"
        },
        {
         "hovertemplate": "Sequenz=57<br>t=%{x}<br>v(t)=%{y}<extra></extra>",
         "legendgroup": "57",
         "line": {
          "color": "#FF6692",
          "dash": "solid"
         },
         "marker": {
          "symbol": "circle"
         },
         "mode": "lines",
         "name": "57",
         "showlegend": true,
         "type": "scattergl",
         "x": {
          "bdata": "AAABAAIAAwAEAAUABgAHAAgACQAKAAsADAANAA4ADwAQABEAEgATABQAFQAWABcAGAAZABoAGwAcAB0AHgAfACAAIQAiACMAJAAlACYAJwAoACkAKgArACwALQAuAC8AMAAxADIAMwA0ADUANgA3ADgAOQA6ADsAPAA9AD4APwBAAEEAQgBDAEQARQBGAEcASABJAEoASwBMAE0ATgBPAFAAUQBSAFMAVABVAFYAVwBYAFkAWgBbAFwAXQBeAF8AYABhAGIAYwBkAGUAZgBnAGgAaQBqAGsAbABtAG4AbwBwAHEAcgBzAHQAdQB2AHcAeAB5AHoAewB8AH0AfgB/AIAAgQCCAIMAhACFAIYAhwCIAIkAigCLAA==",
          "dtype": "i2"
         },
         "xaxis": "x",
         "y": {
          "bdata": "MO4z/PfoIECofRSHjw8iQK6DDw6FOyFAVnj2L/mKIUBufShWJx4iQBE91OV+yiFAoyilCmt+IUDsTsr7JDoiQMUraiLxCyJABkSkCeBOIkB/n4poiKkhQCn7WY0X7yFAVsCMvT2ZIUBmeDQQENIhQMIPM0w0KSJAYgljCC+LIkCeexBjRRUiQAEXmG1ULSJAEEID68yDIUCu9gBb4o4hQB68wykUDSJAxgJSh1BBIkC59DD0nQYiQCGwD7OxmyFAWzHxctLYIUD6hxA7eAEiQC++OrIPCyJA1jvkadwVIkD+OzrE6RshQOsUFOlFiiFA2Oc4LQE3IUAJ6nVmVf8hQDcgrpZnFSFAwS2nG7MHIUAVovbxJIshQBxNbCWYcSFA8u3SesTJIEAxSic97hwhQLtu1ki4YCBAVT8LfHKDH0CEpK7moykgQCSjIomctR5AZ5fKAg0JH0B4YQ36m38cQC23tInkfRxALfXKoXKAG0AcdB5+DgsZQAJZhkqxLxdADvG3ptjGF0CUOh2QaVgVQP1PN1RpvhRAeBhDhWP4FECqBi5A3hgUQDRmMlunqBJA3NIBPLqREUAjKAMFUyETQJkyV8QC7xFAdkYx+AcFFEDyNZqhGEgUQL42FnG+HxRA9pKMG+7iFUDzsEsZNhcWQMr0rJffqRdAUCnLVgfDF0COEDWttUQaQH0PXB974hpAFS7TnAB6GkA1lnppTOMbQIruru986B1A5Wiplg0cHUDLEJ/zGScdQB0JcVvWmx1Aay7l57U2HkAo6HtxthgcQHbBNwn65BxARjiGj3gnHUAfYOZM2AIbQPz1xrYhvRtA9myU5zr8GkD6af17phIcQDt/2wenQBxAVoPs/PdXGkDvik6zN4sbQIXfHfedkhtAs6oyxO3/GkC4T8pl/vYbQI/RcIfs6xtA+cQgR8EVHEBqaFw2jFUbQE6JJYV6jhxAF7C8khURHUCkGdZNcKEbQOzmQKM3vxxA+lpNKOT3HECAylyGUeEcQFhIXvb+vhtATvE4jmKBG0CfKZP8dI0bQHj/KNGRCxxAba/7wsrvGkD6jzQCGdkaQPlKwrr1GhxA0J+RuAzZG0BqSyE7hxsbQDuW6N8Q0BpAWXjzaTGzGkCKsBB1rXoaQEQGtVwQ2hlAHJpfy3XHGEDTRbtjB5cYQMovCbsIExpATgT3LWPLGUClOebqANoYQP/3qHzVSRhAxPZrYVJ8GUDbiIZS0+gYQNlkpMwTRhhAOUaa2b6XGEBZooGu9qAYQP8/LHLWTRdAMHpJjIK1F0BWGphHThYXQEj7LaKvdBdAYTv2JjXcFkCKbK3GvD0XQARA3a2AuxdAVpnd2d07F0AXxe4aWAUWQPuA5PBxRRZAZTd1QBwMFkCa22TicZYVQEdbg9sN1hZA3cJvGo9EFUBbyi1ayu0VQBqFE0SKYhVADc1zhq5xFUCZxSnlPkYVQNqNs8yF0RRA6aUX/IiMFUD+X7HSEtUVQA==",
          "dtype": "f8"
         },
         "yaxis": "y"
        },
        {
         "hovertemplate": "Sequenz=58<br>t=%{x}<br>v(t)=%{y}<extra></extra>",
         "legendgroup": "58",
         "line": {
          "color": "#B6E880",
          "dash": "solid"
         },
         "marker": {
          "symbol": "circle"
         },
         "mode": "lines",
         "name": "58",
         "showlegend": true,
         "type": "scattergl",
         "x": {
          "bdata": "AAABAAIAAwAEAAUABgAHAAgACQAKAAsADAANAA4ADwAQABEAEgATABQAFQAWABcAGAAZABoAGwAcAB0AHgAfACAAIQAiACMAJAAlACYAJwAoACkAKgArACwALQAuAC8AMAAxADIAMwA0ADUANgA3ADgAOQA6ADsAPAA9AD4APwBAAEEAQgBDAEQARQBGAEcASABJAEoASwBMAE0ATgBPAFAAUQBSAFMAVABVAFYAVwBYAFkAWgBbAFwAXQBeAF8AYABhAGIAYwBkAGUAZgBnAGgAaQBqAGsAbABtAG4AbwBwAHEAcgBzAHQAdQB2AHcAeAB5AHoAewB8AH0AfgB/AIAAgQCCAIMAhACFAIYAhwCIAIkAigCLAA==",
          "dtype": "i2"
         },
         "xaxis": "x",
         "y": {
          "bdata": "g1XgW8C7I0C7fZHnfGkiQFLrg9MztSJA1vPLYTijIkBOmVaQUL4iQPqFMB9B0CNAJ7lsNEcaI0B2npn2V1ojQDlFjRINMiNAKpM0AAWuIkC4d54VyxYjQDkQYVPn6iJAK7fFSKHtIkAtpO7MtWYiQBsF4TKJkiJAXy0XPu9sIkBS0uTMnvkiQCEq3zZ6vCJA+mlKbGDkIkCCZKqXjMkiQNJ0qBFJHyJA5NYErunrIUBJUu0NlJkiQNcmxcyLDyJAWhLGAmmbIUAr5cT40/YhQDnFyVaZpyFACTSQ1u0oIUB/5a5fgKMhQKrVvulHGyFA4UdMLUeYIEBkuFmrckchQIpi+5QN3iBAlVIZOwSNIEBvcAeWwXogQLJRU5wLAR9A/Cr5052xHkBPxXCwNdkdQAr3H0Dm1x1A6AGTOjD9HECs6hy6aA4dQGuMaKRVxRtAES4PY1N4GkC+Vc2vWpoZQLUpM9UzOhlA80CRsUqFGkDN4+zSi0sYQNPLUYUnKhlAeGC2wlFnGEBrTCU5y/oXQCDehn5nRBhAhJRnMcHIF0AWBqKMas0WQK4T++AqpxdAbg9nnFMZF0AuYyEHBvEVQPXLAiu90RVAHPJMrNG9FkCByE+9J6sWQExkK/cXHxdAPK+aFPF0FkDlffLqaZoWQCWSC1N/3hZA9X2alkoJF0Cezky+UVoXQHq51vH+QxhAwl9CJnSVF0C1N74Cnb0WQJSNwg1uiBdAB8i73BY0GEDLcT05X+QWQNdYI+DaRBVAT+0494nnFEBEKmE4lYEVQPFUdoEk9xRATJuQ+Fr0FEA4aAXKdjcTQBgpNoAVHhRARE1E616UEkBblVuTAD8TQOhqdzt6MBNAqLAUgG87EkAqnp6RI54TQPzB5626VRNAx1d7HQFsE0C2O550RfQSQFZD//tPWRNAWyPtSmi8E0Df5I0G0M8TQLIw+pt4rxRAoKguIb4IFEBKZpm7+pQTQNINZ+pfNxNAz66czRz/EkDjTUMhAPMTQMlxGQm5ZBNAaw2AsezFFEBCj/5OWVkUQOzwCjPFohJAjqRyhzsFFECWMAT7kd0TQOuwN5GLxRJAq/PCTp9QEkACDHqVagASQKSHsci7VhJAl3z39JVOEkA6pNTuTX0RQKws7UlUJBJAcRFjJHO4EUCtit/XEyISQABRGSeCahJAdNIDca7gEUDmyuDRa2YRQDMYlBmN8RJA5jUCMciLEkASr+LtzcYRQABxYgajlRNA7cxiid2RE0CTD5yxlMgSQC6/+uXOxhJAnx5FOyW2EkAL3o7Om/cSQP3ItxYGghNAKxNul+rEE0CPXF0mUQkTQOwcpBylgxNAhifqkYv3EkBsFTEAFpESQBiog/jCkhNAfkNEl2YAE0AOe4WkucITQOrOoHPHHxRAQHkOwFijEkBmA95uqPsSQBuD5bVoEBNA6wufjQP7EUDXWyi9fyUSQAw3/YsenhFAOJ5Um1nNEEDa7U0ZNmIRQA==",
          "dtype": "f8"
         },
         "yaxis": "y"
        },
        {
         "hovertemplate": "Sequenz=59<br>t=%{x}<br>v(t)=%{y}<extra></extra>",
         "legendgroup": "59",
         "line": {
          "color": "#FF97FF",
          "dash": "solid"
         },
         "marker": {
          "symbol": "circle"
         },
         "mode": "lines",
         "name": "59",
         "showlegend": true,
         "type": "scattergl",
         "x": {
          "bdata": "AAABAAIAAwAEAAUABgAHAAgACQAKAAsADAANAA4ADwAQABEAEgATABQAFQAWABcAGAAZABoAGwAcAB0AHgAfACAAIQAiACMAJAAlACYAJwAoACkAKgArACwALQAuAC8AMAAxADIAMwA0ADUANgA3ADgAOQA6ADsAPAA9AD4APwBAAEEAQgBDAEQARQBGAEcASABJAEoASwBMAE0ATgBPAFAAUQBSAFMAVABVAFYAVwBYAFkAWgBbAFwAXQBeAF8AYABhAGIAYwBkAGUAZgBnAGgAaQBqAGsAbABtAG4AbwBwAHEAcgBzAHQAdQB2AHcAeAB5AHoAewB8AH0AfgB/AIAAgQCCAIMAhACFAIYAhwCIAIkAigCLAA==",
          "dtype": "i2"
         },
         "xaxis": "x",
         "y": {
          "bdata": "oqDZGcYdJkB8hGttcdokQGAxJiVFuCVAdZ4P0pJpJUCt+g2lTrokQBtDmIiFfiRAv5GBuS9LJECw2D/clRskQJjoBixnuyNAnJ8FfqzuI0DodorxdZUjQBHukO0wniNAqiI66h/0IkCacnJnDs0iQIzGAHU5kyNA8uc4JRPDIkAWgVS9NgUiQGhYnrLubCJA2JORjYwpIkCBYUubcv0hQIC7Vi7qZiFAECZqp4IOIkB4ABdRj5QhQOfMBXzEKCFAaeAw12dQIUDFY67ULoIgQMsYujAZYiBAYLplhxuGIEAUNO6oN6MfQFPxFARL8x5AH1oZCkN9HkCKudsjG5geQPlIEhl1fR5AEPL7lcrcHUAmFjBkWJkcQF4K90M3JxtAKyEyxrkeGkDckvqo2r4aQCqdlHm5zRhAbPIzhBOLF0BdwvM41D0WQKKZMZ6ttxZAPzekNAtLFUC22WUsDAwVQOj9YHseWxNA30Xv8E6kEkBwTW2Yl74RQIBIqUB9ixBAKtmci7UIEEAZNfiHBM8NQEkKkbRCFw5Ae97f1o35DkA+9fiPstMPQJUEJsMSAhBAMqfo2CMCD0BMzhHFlcwQQJrQJALwghJAG5j8jtIcE0DRTNs8YyUTQM7UrQh5gRNAaX6+DKj0FEAh6OGy4zYVQEw0HcswjhdA25aJXRoAF0AoZsntpyUYQDImPTBraxlACe5waZlSGkBUMbJKBY4bQJTg03iVqxtA3FKk6/JaGkD6t8zga7gbQLOrhtACzxlApSriDU27GkAhPUM/khQZQDC3VWpXoRhA4ZOiaGyvGUArrP13ZK8YQM37lnlWjRhA0Z2boohFGEC3o2qBAkAYQG90G1YDYRdAdkJscvEiF0Dd2ICslqUWQI+quq0wNhdA7YkHTdzPF0BTwAmnJEIYQEOo6jnItRdAs0stODYBGEB1IchrG+EYQHJlfbyQhhpASp9VCc8GGkBdUGcISCsaQLyaccIi2xxAClaf7RiMHECM/RrrM+kdQItDwhuuZx5AuNLNn5MTIEB3p5LBuyEgQCXemCbRmiBAbfwAPnL5IECGsp2q5ukhQKMVCPKkFCJAenqTUroDIkA6OpdMmH0iQPKlJO41kyJAg146RXWzIkDzOJYcrrkiQMN71FAQNyNASBh7ZXutIkDbbWxdzJ4iQGbpTBkjeyJA1NmrtAwpI0B4adTSzxcjQGOHC1KTmSJASuyVT02rIkBmm6CS0AwiQIjHNkAqpSFAPyamgBi+IUC8cEUr3nwhQKNuoj09nSFANFx5OOh/IEDOfeURIN4gQAcBMyHaih9ANtIbr4ocIEBifNpX8FMeQAHAWSF2Xx1Aii7CXXt5HUD/n9wlb84bQOpzLFh80BpAgtyBBxNsGUAgPz/SPOMXQIQTSw/zKxdAG0gUSeJ3FECuKi8RAvASQIHaSPTZ+BJA2jGvIkwIEUC/n6pHKUMOQD+aEqwymQpAOO4nCHM/CEDIL89RBvECQA==",
          "dtype": "f8"
         },
         "yaxis": "y"
        },
        {
         "hovertemplate": "Sequenz=60<br>t=%{x}<br>v(t)=%{y}<extra></extra>",
         "legendgroup": "60",
         "line": {
          "color": "#FECB52",
          "dash": "solid"
         },
         "marker": {
          "symbol": "circle"
         },
         "mode": "lines",
         "name": "60",
         "showlegend": true,
         "type": "scattergl",
         "x": {
          "bdata": "AAABAAIAAwAEAAUABgAHAAgACQAKAAsADAANAA4ADwAQABEAEgATABQAFQAWABcAGAAZABoAGwAcAB0AHgAfACAAIQAiACMAJAAlACYAJwAoACkAKgArACwALQAuAC8AMAAxADIAMwA0ADUANgA3ADgAOQA6ADsAPAA9AD4APwBAAEEAQgBDAEQARQBGAEcASABJAEoASwBMAE0ATgBPAFAAUQBSAFMAVABVAFYAVwBYAFkAWgBbAFwAXQBeAF8AYABhAGIAYwBkAGUAZgBnAGgAaQBqAGsAbABtAG4AbwBwAHEAcgBzAHQAdQB2AHcAeAB5AHoAewB8AH0AfgB/AIAAgQCCAIMAhACFAIYAhwCIAIkAigCLAA==",
          "dtype": "i2"
         },
         "xaxis": "x",
         "y": {
          "bdata": "5yz3+KWFEEBRam9Gz94RQLiLmkjL3xNAD704WAjRFUBBFA9vtuAWQJ8K00Xz6RZAJZ+Jr1uqGEDj9Xj/a/IXQFnPXROodxhA8Ra4QpeiGUC5BsSBWoQZQHOh1muQrBpA213TWmzCGUCZUpsONewaQARfoigYkxtA9cMVSdEYHEAsSj38db0aQEBhU/ppARxAghbzV7K+G0AmRzvkL5kbQCOexPi32htAHPGrbG8iG0AqwiDgDKsbQOlhkZ1QmhpAARsL0RCOGkBuAcE9R1wbQI6wvtbfkhpAg0RkQysaGkBognXuQC4ZQMhNrLzKBRlALOKyh90UGkArD7mb1FAZQETYyrJQdBhAW/DzgNAaGUB13rCT+NQZQD85NFmlURlAFPlMKAjCGECwazE8TdAXQMCozAaxmBhAIG/oRaAeGEC68Nyvym4XQHlIg0Q2HxhAQb4EVCk+GEBw31EQtTsXQD8A5eVUGxdAiNRwcc4aF0DfXO/vhWAXQM2cNEzL2BZA793Z+tCkGEBYgS5DixYXQMbw5bvlDRhALfgd0vytFkCRij/sfEIXQLAXgSIXRRZAy1NIeaWUFkCpy+EnU04VQFNlgLCISRZAjO3R5d8rFECHW2owXkcTQFM4bb74WBRAMI2ZTFNmEkDUlaIqjKMRQG3atHdkzQ9AZyT/zA/mDUA8xWJDnzsMQHF/HhGqYwlAcVS5dkRXCEAiQkvZHzYFQNgUYEAiQQdAqCU30pB+BkAG05tYLc8BQPhHMrDvBQFAlQOvtc/M/z9A/HV1tmH8P/SmmO47Iv4/tVVEcKLh9z9Lk6ojBDT3P7DC3mCerPY/3mV+w8Tu/T/10gdErCv8P89SFQvCi/w/C3Jyhrt5+j+CCOc/hB8AQE8eAE5HqgNASOU0fh4uBUBRtcrfb1MHQGA78ep1wwhA6rjH8Ey9CUCbkD9PMmwMQFqtUp2U4g1ATn+m32mfDkA2bqHOHnwOQNfE3WsUExBATgAYmtmUDkDYgcbyGWkPQBUdeFlN3xBAdElN4MI+EUDCYIIO/GgRQOSFE4RD8RFAQZcgRTI7EkAk/F39YCsRQDqu15KVoBBAdig+DrsyEECJ9QiK9DkQQNAZTtdEPg5A0DfSzqEEDUCYJ7IognoJQACTl28ZFQdAKfAnyhRfCEAzDZgQrDQGQA2Azd9+8gVAyVkOAZYoA0DqSYfZrYYCQGT4uJd/Zf8/k30gwRZE+z/0m/4gwLLzP56ftNarv/Q/sKqMxfDI9T+f3x5Ay6H2P4FOsTHgM/U/CPznWcBm8T/TmRDJqMPvP6MU7vJxK/U/ERMopmU+8j9Lj0KxzzXrP8C3f/h7Meg/fAE+/dkZ6j/gESJtDWryP1DiLIIbxuc/7A3AYCXL7T9T9vKDgardP52wm/fs3vA/nF4Y9HZ94j/XcwwQbn/jP3GEgImxeOQ/2b3CEiO51j/lEIU69AvYP554EpDmFtI/wWHtIAce5z9jdg8dixPkPw==",
          "dtype": "f8"
         },
         "yaxis": "y"
        },
        {
         "hovertemplate": "Sequenz=61<br>t=%{x}<br>v(t)=%{y}<extra></extra>",
         "legendgroup": "61",
         "line": {
          "color": "#636efa",
          "dash": "solid"
         },
         "marker": {
          "symbol": "circle"
         },
         "mode": "lines",
         "name": "61",
         "showlegend": true,
         "type": "scattergl",
         "x": {
          "bdata": "AAABAAIAAwAEAAUABgAHAAgACQAKAAsADAANAA4ADwAQABEAEgATABQAFQAWABcAGAAZABoAGwAcAB0AHgAfACAAIQAiACMAJAAlACYAJwAoACkAKgArACwALQAuAC8AMAAxADIAMwA0ADUANgA3ADgAOQA6ADsAPAA9AD4APwBAAEEAQgBDAEQARQBGAEcASABJAEoASwBMAE0ATgBPAFAAUQBSAFMAVABVAFYAVwBYAFkAWgBbAFwAXQBeAF8AYABhAGIAYwBkAGUAZgBnAGgAaQBqAGsAbABtAG4AbwBwAHEAcgBzAHQAdQB2AHcAeAB5AHoAewB8AH0AfgB/AIAAgQCCAIMAhACFAIYAhwCIAIkAigCLAA==",
          "dtype": "i2"
         },
         "xaxis": "x",
         "y": {
          "bdata": "bS2n7sw/IEDQqVxb9lweQDjiKAlcJh9AtbJrA9VOH0BTxPtXhvgfQGIBFl8ifh9A49bopm8CIEBebdDwHmweQFPqs9AjIB9Au+fnCg2eH0C3l9Ha6soeQC+tiLDvYB5A/sRWuszyHUDf2lidbm8fQC6igWb8ex9Ag03MIuR7HkCoFyHtISkeQIJvyH5KLx5AFlcPa1FTHkDzLc78h9YcQHRJYFC7tRxAPLnCp3wEHECV0SubAaIcQMI4ExddvhtAXn0RHOviGkAtEn9OEmgaQB45xsxbIhtAYn+XZpPAGUDzzkXjOK0aQPRNjYqwVhlAC3Lq6SewF0CMwG1a70wXQLGfT9PmthZACRaSQc4qFkC/dP25idAVQIjiOLnmJRVAadJkRwFHFUCk0EeKzI4TQN6gR/xZYxFAsRdr5LRQEkCHauTDQSERQIasE8fouQ9AzoZ+f21nDEAfjm/vSOILQG4NTMJ57w1A5sEeU2mODUDoE9jcLosMQL2p0gR+WQpApL6jha7lCUBRISrGPJULQNzH93KjHg1ASg0UD988DEAbuwOXwn8KQA94H97cnwpAetm1oQn+DUB/2K/ZxkgNQB8gVul8wxBABEic640NEUAxKfP8gMkRQBCwH5X4wRNAQmXUxR1bE0AZTSr5c/0UQEQbI0FLbhRAdrFNJdSNFUBTIBdKwkYXQL2GJa145xdAd+jpBMvdGEB05F4rGl4ZQM4ZhS2aJRhAqH/tPLjpGECltZ1FSy0ZQBEly70ysBdAGMBhwkuWGEBxf52fQHcXQEB7KgNZEhdAtwOy8DxHFUAfNrRD2XgVQHh67J6kVBRA8HHPQxoMFUCsWVM96rcVQMYEgCaNoxRAo/qSI5zNE0ACuD1lKpYVQNVdWRjvVhVAHY3cuAuSFEDla8++FAsVQLPrvPc+sBZAlgv53bZAF0D0lSvHIcgXQAfSD+SAihhABmHaawacF0DyQ1ZRa0saQMyck0u0eBlASFQ1ggBcGkBiSbO66YMaQNiigCyTjxxA60t8T4biHEAW/XysHsAdQByC2afOKR1AELSonVTAHUAqnAGS4BUeQKQDsOiouh5Ayrc1lXmzHkCAwzjA/BAgQMqKoHe+3h9Ax1JEkUc9HkAlPxyfuGofQH6ft/q5CB9Az6WyWWPwHUBcqfGOJPYcQFellutg9RtAs7VlcifyHEAqTZSJ7BccQDYjPuWQERtAFgOzKaQ/GUAvmo0aGhYaQNG/cSmOJxlAl4M2sgsIGEAZWBlqgf4XQK2/BTFOBBZAyXJmEuucFUC+Kevq82MVQJHnkmYX3hVAa2Z3aFIiFUAfrXEcnpwUQKGcWpyqJBRAMy/Aka0lFEAZAacMQboTQNcB0hMpGBNA7oGHfJuHEkAmF2/IjmARQCXf4XnSNBFAUJ9tfg9pEEAvvYVbj5oMQPj+d+443w1Aw22hJAj5CUB/WpzDpHMLQAiuRTvX3wdARm3UxxjQBUC2I6va6GwHQA==",
          "dtype": "f8"
         },
         "yaxis": "y"
        },
        {
         "hovertemplate": "Sequenz=62<br>t=%{x}<br>v(t)=%{y}<extra></extra>",
         "legendgroup": "62",
         "line": {
          "color": "#EF553B",
          "dash": "solid"
         },
         "marker": {
          "symbol": "circle"
         },
         "mode": "lines",
         "name": "62",
         "showlegend": true,
         "type": "scattergl",
         "x": {
          "bdata": "AAABAAIAAwAEAAUABgAHAAgACQAKAAsADAANAA4ADwAQABEAEgATABQAFQAWABcAGAAZABoAGwAcAB0AHgAfACAAIQAiACMAJAAlACYAJwAoACkAKgArACwALQAuAC8AMAAxADIAMwA0ADUANgA3ADgAOQA6ADsAPAA9AD4APwBAAEEAQgBDAEQARQBGAEcASABJAEoASwBMAE0ATgBPAFAAUQBSAFMAVABVAFYAVwBYAFkAWgBbAFwAXQBeAF8AYABhAGIAYwBkAGUAZgBnAGgAaQBqAGsAbABtAG4AbwBwAHEAcgBzAHQAdQB2AHcAeAB5AHoAewB8AH0AfgB/AIAAgQCCAIMAhACFAIYAhwCIAIkAigCLAA==",
          "dtype": "i2"
         },
         "xaxis": "x",
         "y": {
          "bdata": "xbtZjHMsI0B2Ik9u4xYiQL8mX5TZGSNAWbDZjvNbJEC1peIn8w0lQIMeUOxZ5SVA9c2kob+WJUBrkGb0MSMmQCLaZYDRUiZArHZE5P1ZJkA4oJ4/EnwmQCekfcoKaSdAxLl31g95J0C+2XxYAvwmQCrqBNM+wCdAC9fNNT/sJkBz+TU/nO4mQOd0RUT8OCdA0FnHVaO0JkD8sXbIxbEmQO0+YOPqGyZAyjBifNCpJUDpgwzzHhYkQNQtsv6AQSRAxQJBwuR5I0C/CRcuSHAiQOiKEHTC9CFACRQTVUhyIUAQIe7rUEghQMiYvvWNpSBAixSJSH4oH0BvtRFp6W0dQD+iy0ksnRtAxSKUy711GUAdQ1buUCwaQKUxGdS/yhdAhg5Zc6WnFkDLJ6L6ROQTQCUrtHgozhFAiqyaCfu8EEAHzvhn+0YMQEo19aYseQpAvWx93Z13AkDULHD8id4BQNJ8GEI+pABAtwCKwqqA/z/NMvN/V9n3PyfkALplF/s/51iBDZEV7D/9V4p7sjD1P0oc1tmjUfc/BLB8ONs48T+cw8AJkHbzPxaeh+hHb/c/S/kN9K4z+j+yQ5Vup/z0P4cEAi5vEv0/jmkBtb0mBUC2zGs6SMEFQEuS6bYDOwdA+KqB/J0tCUDP4ePNthMMQGRuxnthtg9Az1hEQ/O0DkDIaFwFG/gQQKxCZP9RwBBAHRQg8TwhEkBAhf5LhjYRQIaAwruXHhJAsZy0tC6MEECFja/iS+wRQHi5puJ/aRBAFBxv1mCnD0D3Ct2f8iYOQArP6nkU/w1AxFP+8hFjCkAPboXggz8HQHTkYak4CgVAUd54vb7+BkD2/mF/nuoFQHLKAA1nNwVAMoa7X+RpBUCA1EF6egUGQGgqiIbzIwNA2RaNveWAB0DHAYAxtjoHQN2dBAm4dApAj+8qzzCfCkC+4XuUgakPQOd+CJVqTRBAQNSj08+bEUC0ZZUevKwRQECXAe755hJAXNcVpow1FUC+dAC5i8oVQFybihaNSRZAz/TkRHL3FkCcnuNRYRwXQKxgfXVQcRhAb2stIL3nGED8JfdkgZsZQBnY5sqY/xlAkkN+zmHUGUCgpUaNdyYaQKZnODUibBpAQLyqKYJjGUC9BKq1wS8YQFB1qzchNRlAzhfo26dpGUDObnrGkUIYQBlxbrJhdxZAXSIkS5xbFkBJjySZB0EWQJ9GC6k7KhVAzkAGBx6uFEAInpiZm3MVQH4RbPYnKBRAQ+oPZqZrEkAX7W91xuoRQPZ52EEQQxFAVzhwOI2aEEDJ5naZAhEPQDBC0HmBIw9A5VA67olXDEB7Sq8GxlEOQFOoViRbogxAyecnnXY4DEBIIac7jjEIQJjmq3hh3AhA1tG2K35nB0BfhSA+qy4DQHldWV/txQFAidmIaejMAEB8MP9iul3/P8T/MpGKvfk/jMXxMjIo7z8QKrykjG7vP4B49Y/HF/A/hAUaY1ci9z8e6UgpKWTuPw==",
          "dtype": "f8"
         },
         "yaxis": "y"
        },
        {
         "hovertemplate": "Sequenz=63<br>t=%{x}<br>v(t)=%{y}<extra></extra>",
         "legendgroup": "63",
         "line": {
          "color": "#00cc96",
          "dash": "solid"
         },
         "marker": {
          "symbol": "circle"
         },
         "mode": "lines",
         "name": "63",
         "showlegend": true,
         "type": "scattergl",
         "x": {
          "bdata": "AAABAAIAAwAEAAUABgAHAAgACQAKAAsADAANAA4ADwAQABEAEgATABQAFQAWABcAGAAZABoAGwAcAB0AHgAfACAAIQAiACMAJAAlACYAJwAoACkAKgArACwALQAuAC8AMAAxADIAMwA0ADUANgA3ADgAOQA6ADsAPAA9AD4APwBAAEEAQgBDAEQARQBGAEcASABJAEoASwBMAE0ATgBPAFAAUQBSAFMAVABVAFYAVwBYAFkAWgBbAFwAXQBeAF8AYABhAGIAYwBkAGUAZgBnAGgAaQBqAGsAbABtAG4AbwBwAHEAcgBzAHQAdQB2AHcAeAB5AHoAewB8AH0AfgB/AIAAgQCCAIMAhACFAIYAhwCIAIkAigCLAA==",
          "dtype": "i2"
         },
         "xaxis": "x",
         "y": {
          "bdata": "SwPED8XWHEAkY//MfP8dQEk6Yvvk+B5AvFijDtYVIEC0pYDk0dsgQE0hmdOgsiBAX61T/4R1IUDIkHO3eVUhQCgJMSDueCJAU62Oj6FWIkCP/fMNB2AiQHRG2QxtRSNAidv+5o5tI0BTdbcGKs8jQAEDtAzFSyNAVNRc1OCuI0D01MUMz0AjQGmvH2de+iJAMhPECxu7I0CnaYDpVrciQKGOTwgM/iJAmBP8gwqnIkDr2OfWfqoiQNTxYlidRSJAAy+AwQJ7IUDFOw6CAhQiQA5Z1hoRVyFAGMYLZ6eDIEAw+tb3z4kgQJh6F0IOgx9Awh8XVW08H0DonqNy2C8fQM4gR6u9RB5A1YxzlkBBHUDUOsuI00gdQGN5NsvOkB1AmCGxYiySHkDVwCBqWy0dQGhQqrjKjh1ADv8pr7bMHkCrBqOEmqgeQDbYAWRYyR1AAkv9MPO6HUAH/j/S08oeQEPLZ0XdDB5Ac66xOrAxHkAcPN8ykcQdQNBXOLIBixxAq420475uG0Bc1AWxRf8ZQMbtg1XE1hhAFAdKovzdFkCu6YwKakMVQKnNAO64jRNA+s9M4GH1D0CQ/Lodq6MNQNRZUrghDglAl+Znt2MyCECqEHgj5t4JQAVULuN1AApA58wmh6KHC0Ci4WCxu2sPQH+rZYDB3g5AWFKeggKrEUBPL4o8z38TQNjdgZKvOhRAgCXAEbr8FEBC8mZSFI8VQAOKwTcfdhVAnyxarct4F0Baz4/puwwXQMUCKdBKZhVA0UV2auSxFUB3nzo10H0VQBDdVL7DoxRAh+Hg5ch8EkAxO0oXTR8RQPgTS1/xRw9AEn3QoaJOEEDvUkEqc1AOQBgd8CiTlw1Au/FqQ7ImDUDVbLMTv2ENQBJYwWOb6wtAvUS6tQvPDkArZHQztW8PQLbB2Pph8AtAu0QMPcUnDECORfCquVsPQA2iCUjexQ5Au90RkSieEECxNvytk94RQJtSxU3EXBBAoet8quDQEkABqOKmIKMSQCcTvhMVCRRATOeBYeaOE0DtB8GVg84SQPNBWbG4oRNA69JGlRvCE0CHvavL4s4UQDPNDGEeVBRA1aXYQonPE0BfFqagy1ISQIoJF58jLxNA8BUsF9bLEEBlmkY6w0ERQK9nNYXf5w5AVO4FBHg9D0DxXntwl8YOQA7/qQ1Y+glAZUEkIBftCUCo6C/7hnYIQJnrdLIFIgZAT7b2W5e6BEBHwVU44GsDQB1eP3Qf1v0/fXTq51p+AUBb8QUsihj8P+EPYMdgZv4/l6ZuqRG39z8pVBowABX1P6RAiYNl1fU/FYDxWX7K7j9q4zPVjNXzPwpL2T3TyfM/vS/eER9c7j91pKJ6dUXsP6+SKXDXOvE/A0HRo7Id5j924I0tQYbhP0hbhyYmqd8/SI1T8iwZ7D/QhXHmic7qP3TMEGpC9ug/VE6/hc294D9L6WvQ0yHwP7zPGEf2WuQ/YNZOED7l5j/4tJIRHYjmPw==",
          "dtype": "f8"
         },
         "yaxis": "y"
        },
        {
         "hovertemplate": "Sequenz=64<br>t=%{x}<br>v(t)=%{y}<extra></extra>",
         "legendgroup": "64",
         "line": {
          "color": "#ab63fa",
          "dash": "solid"
         },
         "marker": {
          "symbol": "circle"
         },
         "mode": "lines",
         "name": "64",
         "showlegend": true,
         "type": "scattergl",
         "x": {
          "bdata": "AAABAAIAAwAEAAUABgAHAAgACQAKAAsADAANAA4ADwAQABEAEgATABQAFQAWABcAGAAZABoAGwAcAB0AHgAfACAAIQAiACMAJAAlACYAJwAoACkAKgArACwALQAuAC8AMAAxADIAMwA0ADUANgA3ADgAOQA6ADsAPAA9AD4APwBAAEEAQgBDAEQARQBGAEcASABJAEoASwBMAE0ATgBPAFAAUQBSAFMAVABVAFYAVwBYAFkAWgBbAFwAXQBeAF8AYABhAGIAYwBkAGUAZgBnAGgAaQBqAGsAbABtAG4AbwBwAHEAcgBzAHQAdQB2AHcAeAB5AHoAewB8AH0AfgB/AIAAgQCCAIMAhACFAIYAhwCIAIkAigCLAA==",
          "dtype": "i2"
         },
         "xaxis": "x",
         "y": {
          "bdata": "1jTkmjkQE0BhdZdrx4EUQMYn9mTMBBRA0lAV2C5TFkCizaLLUs0WQNDdzx6ZxRdAxyOQ+hjtGUD6k8Pw/z8aQNuKozTKrxpAiLvubA2wG0CmYv0dMCsdQIzgfu6LnR1AjEWDURjLHUAx9LFQNvEcQJIA4rM1UB1A2JDPacbJHUCbXP0cFb8eQHbAevRH6h1AuP+92ycmHUAZnx0tCzEdQCpIe0jUQhtAj2BrWg4yHEAJRu6Ec1kbQL90AK6IlRpAA4HywnPjGkDlVyYzUpcZQHVP25DmWhlA0SP/q1ojGUA3ozAOAV8XQJvExZmEGBdAbMcWGM7xFkDyab2m0boWQAs1O2FkwxRA2Bs+DRgiFUAZ+Xz+PtETQHtegPJ89BJAflHqe+c4EUCjbYLNYbgRQCrC6PdD9BFA9YqMUqo/E0BVlska5dkSQDDZWBxwgxRAG16cQ5s5FEDBUK/j6cEVQAXs2um75RVAg0s/kjnhFkA0CR6jg8QWQLTOMl+9yRhAb2hgK6iBGEDeyuRbiXYZQOz7v9avJxlARV4mIIYYGkCcv3ECGKMZQKtRAWQ60xhAfWn0u8+fGUBjIfleIv8YQC9nLVpH/BZAqdaexLHNFkAMxcgaxmQUQLGe8S1zjhJA6waYeVf8EUDa3bQZt0QRQDoTt3JCQxBAt0OWF1nCEEDwKXTDC/8QQKwMoPey8BBAFIJoYM+gEkATxwnPAsISQBF4rNonlhJAVV8C7+3eEkCaDOdIZpUTQMo8lNNv1BNAZpnkcEN6EkCq2iw6eGISQJ9Su3K4+xBAxwR/IyfXEEBpnUvfn9QNQDl8GhZ4kg1AJvQeSCh3CUDXe2d244UIQHlQ8/NvQgpA/JyOf2ANC0CNzqGZmlMKQOkXLL/PzQhAmrmILS50CUAtezhSwGALQGOchJPXKwtA2LjqM+GMDUDbcCB87ZQQQHu227RURRBA0eW0zA4eEUA3LL2+t50RQMJGxZk+ZRJATn3IizKkE0D1soHdJqcUQBTX7CYvZxZAqRoUqZdtFkAZa0UxQ5oXQIDHTqIF7xZApn/4H91oF0AkpvJQwUIYQHpnJ6yhThhAl8Nwdqo0GUC0n2sRbNYYQJgtcnnJzRdATQVc6pXTF0C2Uks15M4YQMQYdviohRhAGMHw6c3nF0BEU/IoFAEXQMYz77wjmxZAUUIFGIUzFkBdqYRKbkQUQOJHsfvC+hNAH4vVC8Q1EkCVLQ/85pYRQIZqHcN24hBA6u59GyC0EEDrQcBNN54QQGarT+JHiwxAHMX+yO5/DEBC8ffs29EIQI2IMpM8EglAd7OXBgS3B0CX/2WUV/oFQK5nSAvKyARA/VOeWeu+AUBbw7ItD8QCQGWpYzLgRgFASiOhwiZj/j+I0yryIdP6P7FyQImcSfU/iFzirkOj8D/jm5P09A70PwWSzGi8+O8/iktnYGBr6D+H1tg/1kzuP+TTeOWoauY/LLk3mbxFCECEieWynHINQA==",
          "dtype": "f8"
         },
         "yaxis": "y"
        },
        {
         "hovertemplate": "Sequenz=65<br>t=%{x}<br>v(t)=%{y}<extra></extra>",
         "legendgroup": "65",
         "line": {
          "color": "#FFA15A",
          "dash": "solid"
         },
         "marker": {
          "symbol": "circle"
         },
         "mode": "lines",
         "name": "65",
         "showlegend": true,
         "type": "scattergl",
         "x": {
          "bdata": "AAABAAIAAwAEAAUABgAHAAgACQAKAAsADAANAA4ADwAQABEAEgATABQAFQAWABcAGAAZABoAGwAcAB0AHgAfACAAIQAiACMAJAAlACYAJwAoACkAKgArACwALQAuAC8AMAAxADIAMwA0ADUANgA3ADgAOQA6ADsAPAA9AD4APwBAAEEAQgBDAEQARQBGAEcASABJAEoASwBMAE0ATgBPAFAAUQBSAFMAVABVAFYAVwBYAFkAWgBbAFwAXQBeAF8AYABhAGIAYwBkAGUAZgBnAGgAaQBqAGsAbABtAG4AbwBwAHEAcgBzAHQAdQB2AHcAeAB5AHoAewB8AH0AfgB/AIAAgQCCAIMAhACFAIYAhwCIAIkAigCLAA==",
          "dtype": "i2"
         },
         "xaxis": "x",
         "y": {
          "bdata": "X5ZuiNUwJUCUuF8apT0kQDcWwnDeoyNAM9q3pm4jJEA7ges/zYgkQO9VMIt1YSRAsylX5O/GJEDNKzz1S0wkQA1zT9nHUiRAoHR4JZPrI0DWbBRGDSAjQMYHkqimeCNATpiw+DZrIkCrSNishPsiQOVPrbK3uCFAPxKxuSoQIkCsf4fpAnYhQFl7MfVP/CBAECpNXJLLIEBzkA5nigAgQKtXT9vYWSBAdTKSgVoOH0COhdVfUm8eQKH0CHUwkxxA+uczXEITHEDBJSNGm2EbQHH0edhaoRlA5lT31T/eGECrmqiEbVMYQPs9aCVFAhZAcXl8i+86FUB098OW2iEUQGWtJ3+BtxJAtGzLXs/1EUCw6JSTNIIQQN+v92JL4Q1AjdPnA14jCkBI6aaHBtcKQErwkTXYRANAQzDmn2xwBUDQm4Euf2T/PyKTRceASgBA8UyEJuP1/T/gQDEhxa72P/U3p06frO8/8g8kp/gP7D8zYAkOPvXzPzzhj/Msyec/qXevVKUz8z/ltjFtPzPwP4uBaby+zdU//uEG7R0q8j9ilXwluLz0P5uUpO41uvg/1cnzrk3W9z+NTq/m8fH3Pw00conVHPk/b57YYIpL8z+pRAs/VMn4P6NRzH18C/s/F1inaoh/+D9slbV82IUCQE2OnxHbrgRAB143A/BMBUD6wNJjOrAEQKPuNZk2awRAT/nHO9wNA0BiCj3BGk4BQBVJJnNRGQNAxoVut40uA0DHEhls1CMCQDYc32u3Ovw/ZtfkLkN//j8tx6+xE+H9P1i4hwmCcfY/8m/Q0koq+D8SQbocqYDwP4ySXMgrTvQ/9gqLfq5K+D8vXApB7+f2P/kwN1aesPw/My/IMvX2/j8uZrtmd1L9P283AKFTFP0/p2b/U4kZAkApplU+ec8CQIz1Lh6tzQJAzEr+31yaB0DXAXJbV5oHQAyVQJTMKAtA07gh73MlC0Apyet6Qj4LQI5kM5TDTA9Avb/UvbOcEEBXE8DFDcoQQCsEjTlxeRJAooavfWmFEUBmmYPUYLMTQHzgvGJjwBNAwB14IO2uFEBV7RxpaDcVQMzXtZ29RBZAhjKLAOMkFUCfaLd3l/gWQBHIXdiHoxVAe+G9lA3pFkAV3TRAlaAWQEQnwFdtYBhATYBBlRK8F0CYqFZVHRwYQPguq7jR1xlArpAdJrkuGUAlGjJ4JsEZQCjGkBMxCxtA8uiZ/RMJGkCchaSH4ecbQJp7sfe+NxtAujNQ221EG0C4yuV0d/QZQN4JT6nCjRhABQQf7sQmF0B7I8SWXHIXQAiyaxtgWBZAozOicQQaFkC+zlcmVxYUQK+QGpWqxhRAzrAnY8iDEkCOuEBnNkESQMV2I8hkQhFAvhDHDBQYEEA4ksjgOpAMQKBGoTMsGQpAXO+bbFlxBkBPuHv+pLQGQBa4lydk8gJAFnxNKOrGAkBLkS+TuJ3/P6iqh9/PYf0/RPdxX+aA+D/iAAGxniz9Pw==",
          "dtype": "f8"
         },
         "yaxis": "y"
        },
        {
         "hovertemplate": "Sequenz=66<br>t=%{x}<br>v(t)=%{y}<extra></extra>",
         "legendgroup": "66",
         "line": {
          "color": "#19d3f3",
          "dash": "solid"
         },
         "marker": {
          "symbol": "circle"
         },
         "mode": "lines",
         "name": "66",
         "showlegend": true,
         "type": "scattergl",
         "x": {
          "bdata": "AAABAAIAAwAEAAUABgAHAAgACQAKAAsADAANAA4ADwAQABEAEgATABQAFQAWABcAGAAZABoAGwAcAB0AHgAfACAAIQAiACMAJAAlACYAJwAoACkAKgArACwALQAuAC8AMAAxADIAMwA0ADUANgA3ADgAOQA6ADsAPAA9AD4APwBAAEEAQgBDAEQARQBGAEcASABJAEoASwBMAE0ATgBPAFAAUQBSAFMAVABVAFYAVwBYAFkAWgBbAFwAXQBeAF8AYABhAGIAYwBkAGUAZgBnAGgAaQBqAGsAbABtAG4AbwBwAHEAcgBzAHQAdQB2AHcAeAB5AHoAewB8AH0AfgB/AIAAgQCCAIMAhACFAIYAhwCIAIkAigCLAA==",
          "dtype": "i2"
         },
         "xaxis": "x",
         "y": {
          "bdata": "cfUmAbPuDkBlaUALQoITQG887+5LvxNAzzN8bzgQFkBwqZt0az0YQCbFxk1S7hlAZ+8uCOtWGkCZV3viuMsbQKrnzaKnXx5AGgSR8HCTHkCTYA2LXgsgQD77UorHyyBAA7kDJGu2IEAIcdFrFPUgQMqVNJ/BDiFA661QCokTIkAgc2Sq7/whQLSSPQT30iFAlt8/MkNpIkAqlebnwtYhQDheMM+zLiJANXd8VH0qIkArZcW015EiQDXXRRP1XSJAiYS9LS7eIUCNap/kfGMiQDIjgt5YWyJAO1TrP7DFIUAXAfANWjkiQGgt7pkO2iFAlA2WQ8fOIUDvEFakw8shQCICAzpN8SBAuoSflO29IEB9efXld5QgQNSYpk0pAx9AOCm1vnqRHUBfmoa2Hf0cQDzBi+xkmBpAWPXaL/D2GkCcfy8OYTEaQHThJ+ONyxdAkucNRfKIFkA8Yk60AUYXQJMX7c9v+hRAl+9RIb+GFEDusjpUuqsTQDJPNbSbfBFA6n20wLOgEkDzzcvWIm4RQMM2nXk+IhBA3eYVdnCpD0C1VnT2WC4PQAsNMFGR4A9A1jXICMCVD0DUqkVTyQwQQIUSeOGwvhBAZrqq4vpaEUD+ZTYy3hgUQA4gc+bxyBVA3eWnN+VmFkBjxJ9R0BcXQBDmYuc0ixlAdGJEs0NVGUALG+MOkXAaQIZ7O3wMQBxAT8JFpja2HEBgvzFbSgweQGHuOvOYmh5AWWX1KrzDHkBa4WiyfhkeQHnPOV3LsB9Arm9ouYtSH0BZUdvt/iEfQEEOi0LEYB1AmqsogAThHEAhPtNT9dMcQB+5pIP27RpAj5bDA/gNG0AYMURt7R0aQBmjjyI3yBlApfBVWyfKGECQDGHMpjIZQDAVb3z7FBlAZlV/ia8+GkCKX1UvuCwZQIH3VI7hARpAxbqw3U6qGUC4JVsrzwYbQCOK0wRaBRpATJDxSnoZGkDsKbprRl8bQOG6k7+0mxtAq4jFVxMdHEDRtTd0cX4dQAetdT5kNB5AqNcfgIsWIEAtd9/UCSkgQEkDU7OlbSBAiFCZxI7NIEDw/9b4bNkgQELXDFPFkyFAy8NIotm+IUCino1BqD4iQCMOypM2syFAAqjXu1V0IUAVWosXSu8hQH2QgZ9alSFArS3OY+zcIUDpEzt9cxUiQCKIZ3S6RSJAA5QN0jinIUCAPMhrq4shQNFGxm+vFCFAW2bJ6uRrIUDz59GaqLogQAsUn+xOIiFADfpn/3wvIEBXpI0zIy8gQDIdVvu/rx5AoGeKsqX/HUDcXBMBk0kdQBKnlJSEBR1AM1TNgPhwG0Cd3JZ1VnQbQCqCYO3KFRtA8sA7VzWDGUAQKAmWVsMWQIrzYWB23RVA4ZMl0BjkFEBYwMLYsDMTQLQtzzpMahFAyKMELmVkEEAR3Na5+vgPQPksgj5B/g1AJlJ/8dSiC0B28sS88BoGQBCJEr+M/wZAvD0MX7e0A0BbADkFF60BQA==",
          "dtype": "f8"
         },
         "yaxis": "y"
        },
        {
         "hovertemplate": "Sequenz=67<br>t=%{x}<br>v(t)=%{y}<extra></extra>",
         "legendgroup": "67",
         "line": {
          "color": "#FF6692",
          "dash": "solid"
         },
         "marker": {
          "symbol": "circle"
         },
         "mode": "lines",
         "name": "67",
         "showlegend": true,
         "type": "scattergl",
         "x": {
          "bdata": "AAABAAIAAwAEAAUABgAHAAgACQAKAAsADAANAA4ADwAQABEAEgATABQAFQAWABcAGAAZABoAGwAcAB0AHgAfACAAIQAiACMAJAAlACYAJwAoACkAKgArACwALQAuAC8AMAAxADIAMwA0ADUANgA3ADgAOQA6ADsAPAA9AD4APwBAAEEAQgBDAEQARQBGAEcASABJAEoASwBMAE0ATgBPAFAAUQBSAFMAVABVAFYAVwBYAFkAWgBbAFwAXQBeAF8AYABhAGIAYwBkAGUAZgBnAGgAaQBqAGsAbABtAG4AbwBwAHEAcgBzAHQAdQB2AHcAeAB5AHoAewB8AH0AfgB/AIAAgQCCAIMAhACFAIYAhwCIAIkAigCLAA==",
          "dtype": "i2"
         },
         "xaxis": "x",
         "y": {
          "bdata": "1U8yPpT0GEA0LXNYDscZQIzrQjChMxlA//LfUh89GkDaoNXzOI4ZQMKnaNMILRpAsnmiZ2m8GkAsBZ/ZsM8ZQPl2LAlBjhpAMDA+9xcpGkAyQTQ4UfEYQHxTut5CNRlA9sRV9/VXGUDYq5b0u/QZQDdRsW05RhhAvNJtLc2vF0DkpJ69tWcZQHdWevID+xdAcN1E2HjKGEAcupJD570XQKiF+nUocBdA/Us04fkfF0AqsbtMiWsXQILeeBmCGRVA4K2GTQe+FkBLCywArnAVQDjTciKrWBVAd/hPolnvE0DvV1EoG4AUQFKYgzFlXxNAnvkCKXYxEkCjXSGh1TkQQAteoWJFHxFAgHd0gQAlEUALXVz/e1wNQCfOcSOsTw5AcqpLZIi1DECS2XhVP+gKQGjUbmRpOwlAABjKbo62BUAhj4KDYRUBQEmYMqhAffw/9tEoU28t+D/2kLFPWq77P7+7YRi8ifU/5ata1BXA7T+8IAZYdFPzP52f0dq+A/s/7lJkznxV+D9BvH0lm3/+P0oB4GJyvQFAHCtSM+NNBECqtI1Ti/YDQDcV7+KDoQVAjXxdSwzrCEDoweDclt8KQFT/20lzfw5A6LvmKVHhDUChN/2J5xgRQFkzSTM8rRJAJvTYzIpCEkCCGcHxccYSQKVZS2IwSxVAdxZuekUdFUBQb0JAb6kWQPX4PXOJgxZA3GgSfvt2FkBciU/LykQXQDbcmUmIJxhAzYtbz2tCF0DaC0cH/MUWQKAWuDWVFxdAFpdaSpOzFUCbfm5FABIWQDWKkiXMmBZA0TuYRzpqFUDkvA+bWfMUQPPh51apGRVAK3Ws51wuFUDziyiltZ0VQEebpqbJmRVAgAhf1GvYFkA9NVkThu4WQDTonW6jbRZA7lePKZbjFkCxZskOhuQXQDEBUH0E3BdA8iyszYHUGEDQrKb9kE4YQAAGUbsZ1xhAUv+vDGApGkCTYmD6rXYcQMk7/FHQBx1AJCbiBP9bHUBe6CRWFvcdQLUX4P++aB5AM2cd8wqSH0BfgYizNwYgQNMjedtXAyBA3nds0rnBIEBoodMWg3QgQHMO5IZF2SBALNjMb4KqIEA5uVDl8fEgQLJFpubBWCFAvScjTAQ1IUBhxv3AtlkhQAHMNkwu2SBAKGgMeNfQIEC5O14RjtMgQPd0XD/RvSBATfHQRAioIEARIZCz0KggQFyU9g+/iyBAk4H3tNlfIEDjOX29HnEgQAmy1ghLwB5ACn0+c0JVH0CaKFZ3vQAeQJslM3PzQR1AGeHy3mLRHEDya9hL21odQEH/ohNTFBxA2Adwbu2VG0BcZVL2VX4aQD/2ShkfWRhA5Al1aELrF0COf0Un0l8WQFNYKvS7pRZAgfFIaVG1FECUP46q5rYSQH0IFXwMvxFAN8/NWWzeEEAsi82b3HYNQDecJO/HHQpAOaGqXlGMCEBoNYheaKEFQGS1az5suQBAcmt7YECl+z90GPF2dyfwPw==",
          "dtype": "f8"
         },
         "yaxis": "y"
        },
        {
         "hovertemplate": "Sequenz=68<br>t=%{x}<br>v(t)=%{y}<extra></extra>",
         "legendgroup": "68",
         "line": {
          "color": "#B6E880",
          "dash": "solid"
         },
         "marker": {
          "symbol": "circle"
         },
         "mode": "lines",
         "name": "68",
         "showlegend": true,
         "type": "scattergl",
         "x": {
          "bdata": "AAABAAIAAwAEAAUABgAHAAgACQAKAAsADAANAA4ADwAQABEAEgATABQAFQAWABcAGAAZABoAGwAcAB0AHgAfACAAIQAiACMAJAAlACYAJwAoACkAKgArACwALQAuAC8AMAAxADIAMwA0ADUANgA3ADgAOQA6ADsAPAA9AD4APwBAAEEAQgBDAEQARQBGAEcASABJAEoASwBMAE0ATgBPAFAAUQBSAFMAVABVAFYAVwBYAFkAWgBbAFwAXQBeAF8AYABhAGIAYwBkAGUAZgBnAGgAaQBqAGsAbABtAG4AbwBwAHEAcgBzAHQAdQB2AHcAeAB5AHoAewB8AH0AfgB/AIAAgQCCAIMAhACFAIYAhwCIAIkAigCLAA==",
          "dtype": "i2"
         },
         "xaxis": "x",
         "y": {
          "bdata": "V/cV4yFMF0Ce1qbVPM4WQJksN1QJSBdAquj5GOTiF0Db8wmJlSkYQDu+9HThfhhAOeygFAmKGUAt0pP838oaQCWK4C7BARpA24yLFg2zGUBLjiFZ9TAaQA+DWuE66BlAAYmbybS9GkBZdB1IolkbQA0SKMd4KBtAksMzlL0mHEAaf8P1xJscQKf4IUrZihtAj/vnuHQrHEAHVEM/uEUcQFiewBV6MBxADWUEKb8mG0CWPMTMjj0bQBMxMqT0VxtAJhv794urG0Dn/F21yR0cQPHsRSvIHhxAU9uJxAAPHEDG0AD9ceEaQNBwgm46/RpAz5Fm9uUeGkB/QpA/D0kaQJQZyZi8FxpAhHX3zACJGEAYCu9b2asYQBDIOUdrDxdAo2zBzLHuF0Cjk/AtvhIXQFxBoPrNBhVAB0I3ABJJFEAiTQWBKx4TQFRvBbZU4xJAz7R32YObEUA1OE41g+sQQOqX4b8oag9AolIS1xmyEEDkiOGW1RgPQOXTQTKWiQ5Ap1ryh2MmEEBGp9TSebEQQItKXb1A6hBAJL2Uc3xREUBFPS4vCRcSQGeFrhbkrxFAnkQsCxY8EkAPterlKTgTQGzeLFNK0xJABbUFKPPtFEDdMypR46cVQLGSAWmRMhdAvyKNL4IKF0Di+I3VaHQYQOvFyqdy+hdAhMgIWqjIGUAzD5nbPqMZQAj0Z4kQJBpA348RHtKgG0ADSK8t4BAcQOam4LdTIRxASwICqUSiG0DiHynW5TIbQBtMLyCxKxtA/DQMYbIPG0BEXxVfS5gaQIs3SGqESBlAI7elHh8EGkChSOHi2fYXQOP+7qJtRRhAliIRXm6JGECsJtD4OG4ZQEHs3qYSKBhAWvVXm84TGED/tc1qqd4XQNOD+CG9EhhA3v1knE8FGUDWG2XeHCUYQBdSByQDRBpAAzVurIGLGkAHCxVWtgUbQOUSYxfL7RtAtj5haS2aG0Cy4JPKbe8cQKhF0pKuuRxAmkYkz582HUC5UJUqvY4eQDWYLvCE6h9APgVb/MZxIEASzue3DmcgQCp6YDSxNCBAzwFp/7HuIEAZk5fx0g4hQEfclsz4uSFAZ/FhTuH+IUDrVdOOYQUiQKb/A5M18CFAjU6TWfNMIkAx9nl7HLkhQLzW4jJneSJA1BP+wjviIUC3tQHtq3EiQGGRaTxJoCFAxUGa2/VrIkBH+SxqihIiQDFONiwB+yFAYl0JCWUeIUDhhhjn4/ogQK0gszE5lCBAKiTOG00MIEB0rzga1EcgQGD1UrfM/x5ACRqS5UQWHkCnDFibofUeQHhoIQ0CAB5AiHpZ2W2JG0BO/s0PxfMbQH7giYN5/hlAJIMlwl7sGUBelDsdmZ4XQFMN+EsdpxdAj/oE2rHKFkD6MDtZl2UVQJqFVo4r5hNA/zqF0F47EkBQfbr1pbAPQGkVT8am/A9AUCDQdUqkCUDXLnZSbr0HQKC0mG31FQRA4OzFTKLyAkBgcoEOjxL/Pw==",
          "dtype": "f8"
         },
         "yaxis": "y"
        },
        {
         "hovertemplate": "Sequenz=69<br>t=%{x}<br>v(t)=%{y}<extra></extra>",
         "legendgroup": "69",
         "line": {
          "color": "#FF97FF",
          "dash": "solid"
         },
         "marker": {
          "symbol": "circle"
         },
         "mode": "lines",
         "name": "69",
         "showlegend": true,
         "type": "scattergl",
         "x": {
          "bdata": "AAABAAIAAwAEAAUABgAHAAgACQAKAAsADAANAA4ADwAQABEAEgATABQAFQAWABcAGAAZABoAGwAcAB0AHgAfACAAIQAiACMAJAAlACYAJwAoACkAKgArACwALQAuAC8AMAAxADIAMwA0ADUANgA3ADgAOQA6ADsAPAA9AD4APwBAAEEAQgBDAEQARQBGAEcASABJAEoASwBMAE0ATgBPAFAAUQBSAFMAVABVAFYAVwBYAFkAWgBbAFwAXQBeAF8AYABhAGIAYwBkAGUAZgBnAGgAaQBqAGsAbABtAG4AbwBwAHEAcgBzAHQAdQB2AHcAeAB5AHoAewB8AH0AfgB/AIAAgQCCAIMAhACFAIYAhwCIAIkAigCLAA==",
          "dtype": "i2"
         },
         "xaxis": "x",
         "y": {
          "bdata": "KhQFDyF5HkA7+Xsa5/YfQD3bzSMn7h9AeHolYwOWH0DpIqVuyRchQLgI4Xj/riFAl1x3NaejIUCT1iXmHOohQJnCCPqKGCNANRIs2nQ0I0CidObWKIwjQEyemdGrlyNAaW46UzmII0BWGxEF8uIjQN2Q7erEJiNAyqXo9S86I0C5O6KNNYEjQASU3+SDsiNApsi3E/o0I0BDo7mJTrEiQKHm1se4YyJAYZD74FB+IkCa95tIpa8iQOUkxSqcZyJAMIGRpViSIUCp49ZPAvohQHElVN43KyFALExw8cjpIEAM7IyeByIhQDR7mYVj6SBAo+FHBMpdIEA+n/jkVQwgQNUHiQE31B9Adjkywb/4HkD5xKkJvk0eQG7D3TPrlx1A6ft0SfZEG0Cbn2kcckkaQCCpTZ1KnRpA38MlR3bFGEDBrQDhWSUYQNNRcXpGxBZAn4ez9vGEFECJuW+iBU0TQOGV0avFMRNAu2QrYG2OEkBDUHED7VQSQAiNdXzpshBA8t1hTJOTD0AbbSQfNMQOQOHY21FiVgxAR85KLO2FCkASz/f9HMkJQJ7S6Re67QVApjDpf8MzBEBVblzWS+kAQBnxak5kLABARGGdVskfA0AUjw5xK9QEQOe6+W880ANA0hvvGANaBUDxjf8XZTwGQJvipaZhrQpA57KX9RweCkDUBYv/+TANQAJeWMrBgAtAfWJXUFKCDEB9bpTCN5IMQB5XoHxQ2w5AK0sF9QE3C0BV15K2fOUJQFQZxVMapQlAXS9CofcxCEB5yhVWEeYFQOZXO/4gSgdAmAZr7YQEAkAjQsyBx5EEQGWBYKootP4/9VicRelTAUDzQoXHrnwBQMFKqKJuY/0/7MuL4fBwAEBP9u70hjoDQBDYFIsXrwVAFX6dPVMgBkCSgJpe5WcGQKgRT5rs8QZAnaKj/BhqC0Aq+BfXAa0LQM3VEpfCZA5AZHDUmxUgDkDtXPuD/8APQFiD2if+QRFADTAIFTu2EEDXVFUxIIARQDSLLlAV9xJAIafwHmD3EUBlcotreKMSQD2K4PPsNRNAQC9F9Mr0EkBl1ltqlf4TQNB96rLiRBNAjoWg9Hs1EkAxda5GHDQRQLv0eV5ViBFAbk2UGIotEUBa2D8y/hoQQP7XqtNXIhBAfmr3EK0iDEDLPoTkUVoMQAYrpTlFJQpAqxQTuB3SB0C6wzypAGsGQERXHyofSwJA2wd10V/gA0BFeRBNn78BQJin+rOKFABA3GKGrgFG/T/+t1eStan2P1fUc2A1gfY/r5Nvel478j91JL9MCLjxP1xejctuG/M/x3ZdR+Lr6j9Ff2KMQpzsP+NZ/ACgQ+o/aER8xexg6z/bI2Q+h1rnP9bKvw7CPek/KtYOHWql6j+Fc2RCJSbpP6TfAfmPxNs/MJH4AFVM6T9eQral5QXsPxoYQj/sueI/nqqYcNpA4T+WzDrky0HpP7jLTL1LWu0/6Ac4XfEE4z8Sicp6TDzbPw==",
          "dtype": "f8"
         },
         "yaxis": "y"
        },
        {
         "hovertemplate": "Sequenz=70<br>t=%{x}<br>v(t)=%{y}<extra></extra>",
         "legendgroup": "70",
         "line": {
          "color": "#FECB52",
          "dash": "solid"
         },
         "marker": {
          "symbol": "circle"
         },
         "mode": "lines",
         "name": "70",
         "showlegend": true,
         "type": "scattergl",
         "x": {
          "bdata": "AAABAAIAAwAEAAUABgAHAAgACQAKAAsADAANAA4ADwAQABEAEgATABQAFQAWABcAGAAZABoAGwAcAB0AHgAfACAAIQAiACMAJAAlACYAJwAoACkAKgArACwALQAuAC8AMAAxADIAMwA0ADUANgA3ADgAOQA6ADsAPAA9AD4APwBAAEEAQgBDAEQARQBGAEcASABJAEoASwBMAE0ATgBPAFAAUQBSAFMAVABVAFYAVwBYAFkAWgBbAFwAXQBeAF8AYABhAGIAYwBkAGUAZgBnAGgAaQBqAGsAbABtAG4AbwBwAHEAcgBzAHQAdQB2AHcAeAB5AHoAewB8AH0AfgB/AIAAgQCCAIMAhACFAIYAhwCIAIkAigCLAA==",
          "dtype": "i2"
         },
         "xaxis": "x",
         "y": {
          "bdata": "XQBs9bvuI0DDxhbupyQkQCp+ouIblyRA50SgaL2VJEB/FVZMxIkkQKOVPmh5nCRAQjpTmdFTJUBu3la7veolQFnRybht6SVAMZxPRr0PJUDhjB9zBcokQDX5bFphuiRAHW/uMCiOJEAnIMsksx4lQNN29YsQLCRAgpgTNIqMJEAFzmBwKdQjQMiG2vE63SNALfapYTxyI0DzmLEX/5UjQFN2E/sC9iJANDRFZ42xIkC488zNYPQiQEZbQ8T0lSJAWkVQlvZ/IkDodNAzRH0hQFiX/QlG1SFA/XoVw+ENIUCKoxleJUAhQOBvy5oLmiBAtDVQtfHXHkBrXJ4X07MeQDJ3GL9snhxAFDmIXdANHEAEPJfXz5UaQEUTofbr9RhAK1w+MbOCGEBGxcQu3IAWQISzVUO5QhRAA7B4jmppE0AclsjGt2gRQPNGQPixxg5AFhHeUYmLC0ANevZgbfkGQG/s52B9MwRAf2KG50eu/j8TXZ1R3nf3P8hOwV2JEuw/aEKhq9+l8D8tFmEZmTv3P2S6FuUDRPk/NAfrqfU5AEAI+frDYr4AQE0t0kAy3wFAkioSD27VAEAOBYNQeIgDQByWa2+GbwFAtfaHS/mNBEDCvdDzbMAEQIDyugu34glAb9VcLD2rDUDh8pFGXOkOQNyjwOKQxhBAwbh2YuH7EkA3VxNvu5MRQEQ88eceYhNAtpgVM+qNE0CO8Bl/1vQVQBXlHw9k8xVA8GEDiCEEFkDzKcJ7qaUWQN92MEJLrBVAdlvexNhfFkDqvKFD+IgVQKZUX8I6/xRAfVfny3sJFUAqDHzAnJYUQGbqGMF+shJAZYOo1wdNEUB00jkCI5EPQC1+pb8uXA1AHu1zlzo9D0BHmDmUGPoLQEwnW//oFw9A/VnbboiWC0DgnJS2ApYMQM72Ut1eFBBAE2QbJK+fD0AkQjqq1dIPQExA3xmYzhFA3wOPrmNCEkD5u4vCZTcTQGYk1WOUkxNAwAKxxtx3FUA8yhQ8Jl8WQBH8VZ3I7hdAXODnieVyF0BK8aGrAmcYQD2b77DzzxhAYB4UKfU9GkAZPgutz1waQHSk7mlv6xxAnFwCp+YEHUBA7LGdPX0fQFcPM9snvB9ASXbN5N7+H0AtdvUAmbEgQKaOAIWiYiBAqoCU4ajOIEANxUAhltggQGTNjyDxYyFAgtP3/M9QIUB7bBO7sK8gQJE4nn1V2yBAgVwEBkshIEByeq3guKMfQAtEZ2T1UR1ALzCzFB+hHEASX0Rng1UdQBxDi1QPYhtAcFvJf4XjGkAuU8U19z4aQBHtYaYe1RhA3IBASocAGUDeyIXfRLYXQAMqb9JY9BVAc7ZbTGCHFUACHpF6U3YUQJUOjRgBOhNAQVFb0T+5EUBl3QMBWsgRQBPtDwarNg9ACkp1QUdjDECofDmiYXsMQLIr7tRWYgdA9pTU5JuEA0AXUuhUxgoEQGdlKPST6v8/vVzqiWJF/j+gUGHKcdX4Pw==",
          "dtype": "f8"
         },
         "yaxis": "y"
        },
        {
         "hovertemplate": "Sequenz=71<br>t=%{x}<br>v(t)=%{y}<extra></extra>",
         "legendgroup": "71",
         "line": {
          "color": "#636efa",
          "dash": "solid"
         },
         "marker": {
          "symbol": "circle"
         },
         "mode": "lines",
         "name": "71",
         "showlegend": true,
         "type": "scattergl",
         "x": {
          "bdata": "AAABAAIAAwAEAAUABgAHAAgACQAKAAsADAANAA4ADwAQABEAEgATABQAFQAWABcAGAAZABoAGwAcAB0AHgAfACAAIQAiACMAJAAlACYAJwAoACkAKgArACwALQAuAC8AMAAxADIAMwA0ADUANgA3ADgAOQA6ADsAPAA9AD4APwBAAEEAQgBDAEQARQBGAEcASABJAEoASwBMAE0ATgBPAFAAUQBSAFMAVABVAFYAVwBYAFkAWgBbAFwAXQBeAF8AYABhAGIAYwBkAGUAZgBnAGgAaQBqAGsAbABtAG4AbwBwAHEAcgBzAHQAdQB2AHcAeAB5AHoAewB8AH0AfgB/AIAAgQCCAIMAhACFAIYAhwCIAIkAigCLAA==",
          "dtype": "i2"
         },
         "xaxis": "x",
         "y": {
          "bdata": "LhDuirOjJEB3lj11L7wjQGXarIvfxCNAx8brLDnkIkAit2ilb/QiQCcFVf5kryNAoqXWCsKJI0Ce/1Kwd8ciQGLnMXshyiJAERbGDxHWIkDblyneE0MjQIwxZaa1kyJAYtdkDyBHIkCFivxoLKAiQEFOCGe0kCJAzmEIHO45IkAhLH3uppMhQP2DjZu7JyJAvCMeHikmIUALzN+amS0hQNZX9aKnuyFAs10dhYvdIECr6o3RWVQgQOawXszkbCBAgCmeWGSKIEAcDWBTjtwfQFKnSMegKR5AqvTfzQ/oHECYK4Rv8JIcQFeTCu9seRxAPlNF7a8WHEDyPpCDy3oZQGSyfmiJPBlAQi45kMyqF0DpR9Jk9ggWQO8+OhM+bRVAayK/5ayhFkAf8P8A8WQWQPJLjhJCCxpAjXp9hDP6G0A07czrcA4dQH1ERKtiTRxAEo9GOkBUHUCgC1ARlpkcQMJgKk2Qpx1AyJyrFf0XHUCC3Vb8wCEdQPRGLzVRHB1A8FruHlU4HUBPcFixEnIcQItw0g51qBxAJRSDQrMIG0A4urIknuIcQJPG0EsXMRxAhvzWeOY0G0DcgmPZoZ8cQCdg15BgHhtA8aDUB4NTHED5oGhcp5ocQBiJ0AWi7B1Ad3DfafGUHUDxijjSiK0eQKjOf+EnUB5AMZrzSFdYH0BwVVeCWmEgQDPItpcFVCBA2CmUKS/rH0BVIETIYLwfQFTejhWuFSBARk9Z8mJtH0Dl/oHNC6YfQIb9NTA8Zx9ABqI18nhLH0D2HBPpUAcfQG7aVs1DNB9A8R47yrhYHkDa41yxpF0fQEtUqjH9fR5AOvUhbn//HUBVjgCLUW4dQCM0vYXkSh1A710lrYyoHEA+hRZQRgkeQC5AxMdtOB5A4uVdfmX8HUAikUU1uP0eQOqvm4kIVR9A13HudIq8HkDU10AuFt4eQH8HSyDdPCBAj6lPQHVTIEBu0zlJdEkgQGMnETsW0yBAtR/7On6UIUBLUnGl4RkhQLBKAKrsXyFA0d6vIexJIkDGUfOl9GoiQMZb7VdsLCJA+9NO4oUOIkB88OQpbr8iQEXJAAEi5yJAE1aUqjDnIkCKn6nGcH4iQH+FCtNqIyJAB+GFWe7PIkDqz0weTpciQM3LgsTiDCJALRL7DGnFIUA5f5AsRMAhQGIjlqFzZyFAfutBlWi2IUB+4q/CnQAhQJmmSBYaRyBATbTi1/oZIECKKGBoQdAfQES2kqDrVh9Aj1uWB4YbIEAp9g81u3oeQLKG4M4McB5AOHg8YRsEH0BDdNPxYv8cQHqH4nhTKRxA/d+EA71mHUAwPzP3PckbQDcRCvTofxtA5i9x3KiUGkBEOxRAlw4bQABBrNFcPxpAr16qmCz0GUAKi9+uiDgaQCwgUTbZ6xlAC3lGFedtGECBeDUqJPIYQKIHEBaJNhlAkNWcvDivF0Ai/6PdFJYXQFdBKYbr9RZAJ7pZVUeKF0AeBAWLRzUXQA==",
          "dtype": "f8"
         },
         "yaxis": "y"
        },
        {
         "hovertemplate": "Sequenz=72<br>t=%{x}<br>v(t)=%{y}<extra></extra>",
         "legendgroup": "72",
         "line": {
          "color": "#EF553B",
          "dash": "solid"
         },
         "marker": {
          "symbol": "circle"
         },
         "mode": "lines",
         "name": "72",
         "showlegend": true,
         "type": "scattergl",
         "x": {
          "bdata": "AAABAAIAAwAEAAUABgAHAAgACQAKAAsADAANAA4ADwAQABEAEgATABQAFQAWABcAGAAZABoAGwAcAB0AHgAfACAAIQAiACMAJAAlACYAJwAoACkAKgArACwALQAuAC8AMAAxADIAMwA0ADUANgA3ADgAOQA6ADsAPAA9AD4APwBAAEEAQgBDAEQARQBGAEcASABJAEoASwBMAE0ATgBPAFAAUQBSAFMAVABVAFYAVwBYAFkAWgBbAFwAXQBeAF8AYABhAGIAYwBkAGUAZgBnAGgAaQBqAGsAbABtAG4AbwBwAHEAcgBzAHQAdQB2AHcAeAB5AHoAewB8AH0AfgB/AIAAgQCCAIMAhACFAIYAhwCIAIkAigCLAA==",
          "dtype": "i2"
         },
         "xaxis": "x",
         "y": {
          "bdata": "2lRD7QpqA0B/k2LW+S8QQK/n9E8i+BFAtqpQ5o+MEkB65Kc5MzoSQAGc6WImIhVAPmox+P03FkC7eTQhic4WQFSzswBvoxdAkWnPWZ5jGEAcruLjxxkaQNTXV7LIWxpAuEJAlg5dHECAKzlpzJEcQIawD4+u5h1AtvkrKRUiH0ADdI86bV8fQJA6spgApx9AVWMp+QAeH0C/MCdTqIMgQJglgJmHBSBAnOOm1t/VH0DuEtPutNIgQPwyNLxzKSBA+8HSf/V+IEA4IA6vISkgQOp0ADRacCBAJXRDtjUOIECBgJkdU4UgQKFqgeYlDCBAHO9bsmdbIEA8DR2hi4QfQE5hc5+sNB9AbI3ZRdnaHkDfQjghM2QdQHtq3+pzKx1A4P/R8qf2HEBWqmSfSGobQOXzPCFMYBtANzVrsBQeGkCi4fH/DqkaQLW6L+u+phlAcPfKhONcGkB9oGIb2GkZQJ5hFvBpYRhAUrBe9xd4F0CjzrbYwEsWQJc4VJsWqhZAYXvXj5qHFkBATrn5Mg8VQAKxcAPWgBRAFpVu5D04FkDWmUmbQGEWQAkihM5RGRVAieBSdkJdFECYv1LDGtkWQCBYitZgoBdAV4QX0F/gFkARoPueQXgYQDxBLAc3CBhAq9pDcIK7GUB8e6HnEx8bQHH3puwJwxpA0kDx1S3xGkBcbmiZQT0dQCBccJxEax1A9kFHjZpMHEAiaPLhSMkdQHCKb3TzMR5Asthi/1LXHUBocT+AuNAcQG4N54SR2R1AhnagA6jvHUDPqUji0xEcQJkNuASE+htAPUfc+V5bHEBjhNIsyikcQH4WfQAQlRtA/X0G9x4lGkANf3ZEx2gZQEhXjHqu5hhAW0rZm9KrGECpl2vDipsYQAISh9c8FxpAaJGn+/tgGkCIO6953ZwZQH8dXZZGEhpAnXLcoqhaGUAmQdCkK2EZQBE+rL3EGhtAIwMGyQUwGkAgmCrmx6kaQDmsARsaiRpA8b1rezPpGkAkcQoiyZ8bQE2/LLvB+htA8k0tcfdZHEBgWTg/U7YcQPZiUfXI1RtA0geJy0sUHECHTW4BEh0cQOrHe3Wj2BtAh9iHr03fG0AcxdoBiboaQA2T6yhLbxpAGQBU1cZSGUAx/qj6THkYQACY0lh2jRdAwif0DKWwF0B/UQbvTwsXQOeMrjDZ7hRAXYh3AML6FEDmdoRpO8oUQPfvxdZyThNAZVGPqLZ2E0DClrZtk0gTQMZ4b1w5KBFAariLqnzjEEBi3vFZiaAQQDbRbsy1+hBA8oSaaBUSEECj/Gyz8NEMQHNMjY+uHQtAWM+LgxReCkBLOJU2wXwHQBJtoH04dwhATnr3/e0zB0Dr40pxM3sGQCKF6QQ0HwNAaVskfNfCAkC2rB7B35n9P6TO2NyWCv8/1H0AWjZpAECqCn/Fxc77P9xY/TLcAfk/fySizLSA9z/5vh3P14nzP69LteZRNfA/i4DfmCY/4z/VSHD3oH7ePw==",
          "dtype": "f8"
         },
         "yaxis": "y"
        },
        {
         "hovertemplate": "Sequenz=73<br>t=%{x}<br>v(t)=%{y}<extra></extra>",
         "legendgroup": "73",
         "line": {
          "color": "#00cc96",
          "dash": "solid"
         },
         "marker": {
          "symbol": "circle"
         },
         "mode": "lines",
         "name": "73",
         "showlegend": true,
         "type": "scattergl",
         "x": {
          "bdata": "AAABAAIAAwAEAAUABgAHAAgACQAKAAsADAANAA4ADwAQABEAEgATABQAFQAWABcAGAAZABoAGwAcAB0AHgAfACAAIQAiACMAJAAlACYAJwAoACkAKgArACwALQAuAC8AMAAxADIAMwA0ADUANgA3ADgAOQA6ADsAPAA9AD4APwBAAEEAQgBDAEQARQBGAEcASABJAEoASwBMAE0ATgBPAFAAUQBSAFMAVABVAFYAVwBYAFkAWgBbAFwAXQBeAF8AYABhAGIAYwBkAGUAZgBnAGgAaQBqAGsAbABtAG4AbwBwAHEAcgBzAHQAdQB2AHcAeAB5AHoAewB8AH0AfgB/AIAAgQCCAIMAhACFAIYAhwCIAIkAigCLAA==",
          "dtype": "i2"
         },
         "xaxis": "x",
         "y": {
          "bdata": "Ot78AggiI0DlLWOnSQwjQPgVG6XNGyNAC+nuyVDwIkCQHujXuDwiQAoCjUIRCSJAJJt0GDacIkDrqkWNbjYiQOapcn1W9CFA3bQGqJkFIUAzkQOqJyghQGsYjL3YjCBAsXE1NkpeIEDsa4hz9YwgQBYttqj7gB5AV/SK7ChbHkDhYq8xpJMeQImBLBhy7xxAjMJKVK61HUAEFUA8pTccQFFEuK536xtA/2qgeJ8MG0C5QjhdyTIZQEXhk1gXZxhAH+vtXeDQF0DrtssbFUUXQJBxtWPopRVArIKjZ448FUCbBGJ1mTEUQLgJFr9svRNAXx5erC1FEkD+UoqyyEgRQK5n2uaz5BFA8bETcIEDEkAlBXCwBngPQEd/wW5ZhA9AukvQ8V/HDUDL3iE6+b8OQLix3jApVQxAlyUumi8uC0D5fg6dFKUJQIKNEFEuVwpAzYkBxfOICUBXvCBrtvYJQMX4CU238whA/bMq2e8gCUAJnAL6U64LQNQ4PB4nRwtAz2O099+jC0A85k4mahkMQB0NKDvMKQpAIBxczTOCDUBBEaP7i+IKQFWNh9SmFg5ALipLGHGtEEBbKt1zP9QPQLceh7nt3BBAXtNLAJilEEDo+PVwc7ASQA5yT7RbXhRAf657whaNFEBqs9LAfLUVQBimdFe/aBZAGcWbVwkGF0A4oJgHuCsXQCyrPWlHXBdAu5OHJdJbF0Ab/XJGmxsYQM5Sg7NONBdA0ofmYKJIF0BFfw4xI3sXQDIPKRgMLhdA9GHadBZQF0D/piPZ1mYYQA76Y2wSAxdAHjqqa9APGEDKPS7D6ioZQO0me+AjBhlAHFun3Io5GEDi+KhwSE8YQEAI9G9g9RhAXvxbKWuPGEC2zs+SsIsZQMa/6iRizhhAKHAhva3JGUD3fYpWNwcbQIJ1yK492xlAL9CY4fwiG0A75AfkgB4bQId/ePgnNxxA0XvTIxJwHUBtGN7y9E4eQGDHTJdoDB9Arr6IcDajHUDfNhWSCF4eQA++8Kyt0R9AhrS8c/tbIEAkTHBfaVQfQP59a0nzxCBAJCzb5GBhIEBpiW76rYYgQEauX5vEiiBA7PwRXrRCIUDa6bM543UgQCSJJq+7iCBA+p7ySNvNIEDu8dL+s8kgQL9kwSz+mSBAtwj0luDKIECluOjwGbMgQMD3h/l67SBA6LhdrWzXIED2pmwEzL4gQDKZbAYR2iBAP9q1XnXhIECtNzS4Y5MgQD9hd+OtmiBAnnt3CCpOIEAvfuFDER8gQHEsRX/vhSBAKmMbSS6TIEDO7jPcveUfQF0sUByLrR9ANfbAekaLH0DeQvYomnIgQOJJJFVtSSBA/kaJ2rvnH0Dd3pOmFnEeQIagy5dYyR9AeqOucL8XH0CMyrvhi38eQNvl+tfnZh5Am9YqKzkKHUAybb+LowYdQJwKfZ325RtA0XTfFJrNGkCjPJFTpJgaQHYQUqtRDxpAngLMEi/EGUD4ZNhnNfQXQA==",
          "dtype": "f8"
         },
         "yaxis": "y"
        },
        {
         "hovertemplate": "Sequenz=74<br>t=%{x}<br>v(t)=%{y}<extra></extra>",
         "legendgroup": "74",
         "line": {
          "color": "#ab63fa",
          "dash": "solid"
         },
         "marker": {
          "symbol": "circle"
         },
         "mode": "lines",
         "name": "74",
         "showlegend": true,
         "type": "scattergl",
         "x": {
          "bdata": "AAABAAIAAwAEAAUABgAHAAgACQAKAAsADAANAA4ADwAQABEAEgATABQAFQAWABcAGAAZABoAGwAcAB0AHgAfACAAIQAiACMAJAAlACYAJwAoACkAKgArACwALQAuAC8AMAAxADIAMwA0ADUANgA3ADgAOQA6ADsAPAA9AD4APwBAAEEAQgBDAEQARQBGAEcASABJAEoASwBMAE0ATgBPAFAAUQBSAFMAVABVAFYAVwBYAFkAWgBbAFwAXQBeAF8AYABhAGIAYwBkAGUAZgBnAGgAaQBqAGsAbABtAG4AbwBwAHEAcgBzAHQAdQB2AHcAeAB5AHoAewB8AH0AfgB/AIAAgQCCAIMAhACFAIYAhwCIAIkAigCLAA==",
          "dtype": "i2"
         },
         "xaxis": "x",
         "y": {
          "bdata": "WgUts0LrC0BYcGuTn78SQIlT6BHjYxNA4yoZG9pvFkCtDn0cLAoYQC6ciRNylRlAmYx92kq6GkAua1MnEI8cQKVL67g3UR1AyoduxWwhH0B+d5HwD+QfQA2bzgJDACFA1+iao3ILIUCzrk/Q6wYhQLVLFEOFGCFAZobvfOMiIUAjRIFgC8MgQEg0DNzPfyBAeIZvxgM/IEDNa8hPajkgQNslM8YlFSBAdP4uLBdgIEAfYY7OIB0gQFgJUr6Grh9A29Kf5ndcHkB41/yue3oeQAL2NKkWpBxAOLH4ygBmHEA4PElZieEbQJ9DZZ/hOhtAqk+/2LNFGkA8T3+7HFYZQPoCRu/zzhdArtFMz47IFkDeoyUp1WsTQLZHJ3CBrhNAgGEuDy86E0BJR/X7IlgRQLW4NKc+fg5A5772AhUBDEAKrGO/950HQFp5pC9t2wZANKlETXXMA0Bodooy2V0AQBeZNwj0R/g/9NkT52139D+t3wv0Gkf3Pxz5wuVe3/c/9G1XUmQ99j/XcjToBh3tP9PbOUGn+8w/LmRP3Knx8j/p8CLaB1L4P2vdtF0IHvk/9+Q6pRaE9j+CZqeVfeX5P3ABJJwLfPs/ogl+hZsP/j8ayS/n27IDQHalRnW3KARA8oaNkHKXCEADyrtmG5gJQDsnMpIOjQtApGpfd+73DkABgp4/owsNQKyKkgDoTA9AC1NEJj9zD0BLknHrC4AQQFGrEo4ZQA9AvPWTuLTAD0BVe71SYYIPQPYFAL/adBFAudfA1Pq1EEC0NtmYSekQQHqlcQpwLRJAiMWhKS+7EkBaLD3ugjUSQOMgF/l6xRNA9g8AngMeFUBLqXH4OugUQCL7BTB16hVApXwToWgdF0D/pDaGzpAYQMgQHWcTIRlAXswy9p28GEB0RanAkA0aQMSsb54NCBtAXao5rLpCG0AVT2u91nMbQGIcKCsN2RxA15QFQql3HEABNQ8xB8cdQG2MvwVQ1hxAQkvVoyeGHUAaeJIDXL0dQER5SYH2LBxAxrubjLvJHUD1fhKohLQdQGI7o6NSfh1Avcc1ecKpHEDiVcJhnAocQMVFbL5EER1Ax26vudr+HEBYY3PcQXAcQFPgmmKQmRtAvX0IHjfcGkB6uZTKMGsaQKq1IJY7ZxlAgALQE2tqGUCXUYmaPVoYQJpJke+XIxdA9t7fWVXNFUC2nBaeE2gWQJw5/UFGMBRAb+ajBwOFEkDTKSbMMYsSQGp0FPsqaBFAop57DVCgDkBrnJglXFYPQBs2WBBOxQtAJF5EDF2yDEDm4y0nn88HQIIqPOHU5AdACSWy4QUvB0ApEizT3G4DQPZ3G6QB0QFAWkVYSP8kAkCtOsv3OVoAQAaPtKrZrPg/QXkBrxI/9z+C7otEomv6P0ljX4F13/I/Yks4EkWi8T8gVV+eU/HyP7qnOlVQOOo//ISCcbPD5z8p6MxGgQLuP7UWRjXYKQZArXFsDoKwDUDRtglFaeUOQA==",
          "dtype": "f8"
         },
         "yaxis": "y"
        },
        {
         "hovertemplate": "Sequenz=75<br>t=%{x}<br>v(t)=%{y}<extra></extra>",
         "legendgroup": "75",
         "line": {
          "color": "#FFA15A",
          "dash": "solid"
         },
         "marker": {
          "symbol": "circle"
         },
         "mode": "lines",
         "name": "75",
         "showlegend": true,
         "type": "scattergl",
         "x": {
          "bdata": "AAABAAIAAwAEAAUABgAHAAgACQAKAAsADAANAA4ADwAQABEAEgATABQAFQAWABcAGAAZABoAGwAcAB0AHgAfACAAIQAiACMAJAAlACYAJwAoACkAKgArACwALQAuAC8AMAAxADIAMwA0ADUANgA3ADgAOQA6ADsAPAA9AD4APwBAAEEAQgBDAEQARQBGAEcASABJAEoASwBMAE0ATgBPAFAAUQBSAFMAVABVAFYAVwBYAFkAWgBbAFwAXQBeAF8AYABhAGIAYwBkAGUAZgBnAGgAaQBqAGsAbABtAG4AbwBwAHEAcgBzAHQAdQB2AHcAeAB5AHoAewB8AH0AfgB/AIAAgQCCAIMAhACFAIYAhwCIAIkAigCLAA==",
          "dtype": "i2"
         },
         "xaxis": "x",
         "y": {
          "bdata": "8wfvM/grFEDkdsf77+wXQGjpLyxoWhhAOpp3Y0MWGEBEzk0JON4YQIty2oZoFhlAFD0p64gcGkBonmB+dJ4aQJQXLavkMhtAhjtfGElaG0D4fc9utAkaQJLDecDKyBtAviuZjj8qG0B43ADA9HkbQC4KYVOVqxxA5w9mZalbHUA9XiuW/AIcQBggo2BKMh1ARccNjo+WHUBoyoNi0nocQDaSkc/IcBxAHHJb9U7sHUDaZGCR4+4dQDYTbkKyvR1AVgv3qjyPHUDFdVGbw1UcQPeCDHDcmRxAidDYCu7sG0At+NQN5dEbQCKFoNuyfhtAXXEUocVxG0Cq3/4fvskbQI9go99AfRpAKDNDUsZWGUA9xb9qYAQZQBw646+d7hhAEso11w2HGEAKYcwwqPIXQK6nL9dboBZAOhA74IUDFkBS/5HotoMVQFj5zm/jjBRAWCoqN53XFEDcYg97YmUTQD+QbQHHQxJAkuBmnE3uEUBDML3NxhARQABpuIYk5hFAx1w8Oo1yD0D7nlLc50wOQCBOl7tTSQ5AYnsPRpDyDkC31ur34tQOQFUykKwNyw9AOnrz5O9vDkAIrG7fpU0PQJn03ix+6xBA7QU2763pEUCNp5Z58SoTQGO2qxkvKhRAUTNJPRV+FEAaoRdMFmwVQPWnPoPHTBZAg9/R6MRGF0DocctHXIMXQMaW6mdPIBdAC9XN3ZP5F0AKrjbUp3oZQM2jq89YcxhAiGyqwIMIGED8IGdFMc0YQG6hOV2rqRdAU/g/i1a9F0D+F+QZMecWQL/lc4lolBdARvN6xLMpFUAMb9sevFsVQNWxQ4Q77RRABO7U2R+iFEDDvvYFVKQTQHmKulIlqxNAR2QOg1DYE0A0YXhSfRUTQKV7qUw9CRNAcls/6dExE0AJZBu/kLEUQGYq/uqbSRRApM+A+u80FUB3U/ppUesTQP6cWEl64BRAy54HfYE0FUBKqfWChbsVQB/UKQDNjBVAAgbAVsEaFkBSqcJuwUUVQMLvxICCYBdAs88G+B7tFkCyPtlXcV4VQFLWzrrrvBVAYbx0xdPDFEDxuiw/MLwVQPld0Cl7URRA++VgEiqiFEALyRDPc2YTQNEOqz6cixNA3ErHO5lBEkCb+iJ9GE4RQJiVWl6/wBFAjDKIc4lHEEC7asAZjZcRQMLjVUGVmw5AbXad+kp6DUA1c6WxnB8PQFmMF/wdtwtAb5Y0CKvcCkDXoaZQWkkLQP82ZJet9glALecFlFXlBkCY9A+XLvwGQN4CTnFSsgdA2e1UvHPKBkBkVz8tcgIDQCQWvwcCEwNAVVBWv9+1BEBLVsvwYXMDQPL7PPotFgJAqNk13PRgAECIuYLR1wwAQJ6a85wwPQFAoMU//5r6+D9Cb/ZUb1r9Py/rG/KlIfw/LkJ0Bj0A9j/yfzNdbAf2P8QvBpKN7Pg/FtBvJGgU9T/a8jztXw/yP6pXUHhrnPE/5pXSmyr06D8eBbE3iwPlPw==",
          "dtype": "f8"
         },
         "yaxis": "y"
        },
        {
         "hovertemplate": "Sequenz=76<br>t=%{x}<br>v(t)=%{y}<extra></extra>",
         "legendgroup": "76",
         "line": {
          "color": "#19d3f3",
          "dash": "solid"
         },
         "marker": {
          "symbol": "circle"
         },
         "mode": "lines",
         "name": "76",
         "showlegend": true,
         "type": "scattergl",
         "x": {
          "bdata": "AAABAAIAAwAEAAUABgAHAAgACQAKAAsADAANAA4ADwAQABEAEgATABQAFQAWABcAGAAZABoAGwAcAB0AHgAfACAAIQAiACMAJAAlACYAJwAoACkAKgArACwALQAuAC8AMAAxADIAMwA0ADUANgA3ADgAOQA6ADsAPAA9AD4APwBAAEEAQgBDAEQARQBGAEcASABJAEoASwBMAE0ATgBPAFAAUQBSAFMAVABVAFYAVwBYAFkAWgBbAFwAXQBeAF8AYABhAGIAYwBkAGUAZgBnAGgAaQBqAGsAbABtAG4AbwBwAHEAcgBzAHQAdQB2AHcAeAB5AHoAewB8AH0AfgB/AIAAgQCCAIMAhACFAIYAhwCIAIkAigCLAA==",
          "dtype": "i2"
         },
         "xaxis": "x",
         "y": {
          "bdata": "uD6zbpYPFEDI9rXIh5cVQMViJakRfxRA3eS+BZcaFUDwXVEiyQUWQLf4w9E+KRVAcxAfifIjFUCgkb9BAxkUQGTqlSTxxhRA1aitaXp0FEDEWrWDdtUTQIBQnUt2GhNA0747iPRSEkDW+YBYu1IRQHM/GvUVxBFANRbKDU/hEkBrUa4FSQURQG7Ags/krRFA2eO8wbNNEkACEjengm4QQE0xf//HwRBAYZHx/JjVEEAePXzvzmIRQBdEgeAOhRFAW7NCiPKnD0Am9gEmdekQQCRkqDtmSA9AbtZEI0t+DkBM9yGoFZQOQC3wBbPueQ1AvJtpksOYDED6MGDXeY4LQBWo2c1iaQ1ApfsBAN23CUCdHBlDVbwIQM7QL+HSnghAxPFrWPM0B0AZ/w3biRQHQGF9gzEAIgdA5EgHfQ/tB0BumktGY9cKQEgr1P9PdgpAlrsfD0XhC0AmC6/n+J8KQFS/WAc6Eg9AeltTXp+lDkBjtyxzu68QQFsMmCifWA9AiSbZpS6XEEAfGH04QrkRQB6xdX2j6RJAUQdXxYStE0A5J5K8rsMUQO8WHP3TFhZAsoupr/hyGEB58BsKKyMYQKNhtrknHxpABQfSRyLDGEDBXHWbwnIaQG0dS7uGkRtAS59YZx+DGkDiyqYa1u0bQKaNTmnMMRxAH1vNBosZHEBH1gvsXIwcQHk9XMVfZB1ARc9Dhy6mG0DXhxk0j58cQNhQ+isf6xtAyV1pL4ivHUCFNIvHZ/kcQOWkdm5AKR1AVHlcZccVHUCoqesxwYocQA4DyjQlPhtAk0RDiSnvG0C3vu8f4vAaQFpJFF7qtRxAM0MKCZcZG0BKzFt3AmcbQJs/IucH3hpAnBFQIzHNGkDGe7EPf0sbQD1M+gxMcRxAWdbw6Gh1HUA6VO7youwdQKzxuH46VB5A+zZbSOmvHkBLIrPBVwsfQAK+uX5egSBAPdnrXbtcIEACvnAcEXkgQDZamiqlxyBA5tdqXQrMIUAw3jEbL3EiQAKwhRfEJyJAG5RHui4yI0CsXbx7rpwjQBBfwzWyUSRAzL3P2xFYJEDNP4QCEJUkQKspxdky4yRAjXHNRZkEJUBlF23Mq+YkQC1mKsLfPyVAVPrZDULsJUDHit7BnO4lQLs0WrtFkiVA+xLCBMHpJUA2c/0nQoEmQBnb/TxA/CVADGmNlA+XJUAYXQjWZX4lQN+yGD6SPSZAs9VjCNxUJkDEU2YC9gcmQIlfWsIUuiVAq6W1HCY1JUBp2a1BYSYlQK3vD0p7aCVAJQQw2qgrJUAVwaPkX/ckQE56IaL2ByVACdVdUIsFJEA5SdqzOygkQIlZbQgxPiRARapxQeo8I0DbDaoxVKAjQLfGHg0lZSNABYtbqfVNI0DgRGb8yLoiQCfU/fQ4CiJAfWGLR9KSIUCuHfw08tsgQONwMv9VZSBAn/C35RS0IEAencsh/DwfQHD5SSJRhh5AVZzKBYkVHUB/VpG7bcMdQA==",
          "dtype": "f8"
         },
         "yaxis": "y"
        },
        {
         "hovertemplate": "Sequenz=77<br>t=%{x}<br>v(t)=%{y}<extra></extra>",
         "legendgroup": "77",
         "line": {
          "color": "#FF6692",
          "dash": "solid"
         },
         "marker": {
          "symbol": "circle"
         },
         "mode": "lines",
         "name": "77",
         "showlegend": true,
         "type": "scattergl",
         "x": {
          "bdata": "AAABAAIAAwAEAAUABgAHAAgACQAKAAsADAANAA4ADwAQABEAEgATABQAFQAWABcAGAAZABoAGwAcAB0AHgAfACAAIQAiACMAJAAlACYAJwAoACkAKgArACwALQAuAC8AMAAxADIAMwA0ADUANgA3ADgAOQA6ADsAPAA9AD4APwBAAEEAQgBDAEQARQBGAEcASABJAEoASwBMAE0ATgBPAFAAUQBSAFMAVABVAFYAVwBYAFkAWgBbAFwAXQBeAF8AYABhAGIAYwBkAGUAZgBnAGgAaQBqAGsAbABtAG4AbwBwAHEAcgBzAHQAdQB2AHcAeAB5AHoAewB8AH0AfgB/AIAAgQCCAIMAhACFAIYAhwCIAIkAigCLAA==",
          "dtype": "i2"
         },
         "xaxis": "x",
         "y": {
          "bdata": "0rFTAZOzJEDkLviFm6gjQBQ5kgvJXiNAJh80f6OFIkBasV1BAhEjQCF7S8ihaSJAl2X4awJeIkCDIy0s6zIiQDrgcRrzUiJAhlIc+7+EIkA+TnXWqKAhQCTnTlcZWiFALrSF+mA/IUCOmO4KkTYhQArmXbMFKyFA2jIZG/GqIEDOhZCa+a8gQCSM6c2OxiBAnnFx35Y3IEC8r9DCurggQGUakqTkjSBA9F2WVmjhH0D0pmZ9nMkfQB2sW196PiBAzf3QzBCbIEB+3GbvZPkfQP2Ef9h3yh9AWwpgocxnIEBnLhad2zggQH6iFuAK+x9Ae6S0HvSFH0DQLUDu0C8gQKn6X1SmZB9A6Z4uspSVH0CVyvf2COkdQJe5Iqn9eR5A+PJb8qRyHECnOnOSTC0dQGHSEvYJARxA6xpo6Pi6GkA3vg70N0QaQIFGxvdy/xhADOw77bljF0BHb2iPYoIXQGH60bxJ5RVA38TQ7JZ/FUB3UPn/OjAUQEAGmkrtoRRAjCxzljRwFEDQsrzz9HMSQPzutT8QqxJAOpgj4U1OE0AnzmxxXO4SQD6HS0cpnRJAmeyX5dT7EkBAJjUdqMYSQCqnnKAcohJAoagwJgDCE0Do9N/LmgsVQCLpDbOlTRVA89ONEOEeFUDEIjQ2dd4WQL616EhBmxhApBEuY68+GUBAHYJ+K60ZQEFFn797GxpAviWCauUoG0Aar7Qh8kYbQMZrx9KDYhxAbDQDkrUSHEBqhX1obTocQD8+1kWXYxxAW1sMrbohG0CxBu6dQogaQFjcVja13BpA3l0Oj/IGGUDT50O7VzEZQLDZUQHv4xdAUbIyZTrdF0BuUYY7aKsXQEEP7+SYWxZA3mK9HIsLFkCYauSON5MXQNTLZa3soxZA4nJz1aH8FkC0LqvwV0gXQD0JHxqWHhhARCon9kzqGUAseVn3YoMaQLt4Epc0txlAWQTjJ3t2GkCL/xQMtEscQHVbtIJV2BxAw9CWor4jHkAdSThJX5MfQHVYhkiKACBAR6C408D6H0CG1/jSlgUhQLUnRPuCGiFALvWpkb+/IUCP7N1h1Q8iQFN4zI5gcyJALc+z4xpoIkB4fBHqfxMjQDgRLZuTGSNAw1w795c2I0BSyw6QZ5UjQE90DuSJNCNAlhFnjNHBI0Aldz78UxsjQNQbZJZ2tSNAUIMpxY4CI0AjpZO2jfMiQCN1hOvkLCNAHWBC4xXqIkApq3XDq+YiQMci6pQTniJArUjHKiqLIUBle4HIddEhQLldOklVWCFAU5DO6njcIEDGYYTeLtggQAUxogm4pB9ADFYNrFjQHkB9vp3uVIYeQIQCe00doBxAdNWY/uz7HECjHGzh6/AaQPNAnd7ROBpAUKXsPamMGUChy8AMpbIXQCvN5qEtmhZAo2OjeSV3E0Bibx7/B/kSQPhVcAOpyBFAOXzI7R98DkDHt3VseLkNQC5fYXq4EwpAyUAac9UHCUDAT6UWH5wCQA==",
          "dtype": "f8"
         },
         "yaxis": "y"
        },
        {
         "hovertemplate": "Sequenz=78<br>t=%{x}<br>v(t)=%{y}<extra></extra>",
         "legendgroup": "78",
         "line": {
          "color": "#B6E880",
          "dash": "solid"
         },
         "marker": {
          "symbol": "circle"
         },
         "mode": "lines",
         "name": "78",
         "showlegend": true,
         "type": "scattergl",
         "x": {
          "bdata": "AAABAAIAAwAEAAUABgAHAAgACQAKAAsADAANAA4ADwAQABEAEgATABQAFQAWABcAGAAZABoAGwAcAB0AHgAfACAAIQAiACMAJAAlACYAJwAoACkAKgArACwALQAuAC8AMAAxADIAMwA0ADUANgA3ADgAOQA6ADsAPAA9AD4APwBAAEEAQgBDAEQARQBGAEcASABJAEoASwBMAE0ATgBPAFAAUQBSAFMAVABVAFYAVwBYAFkAWgBbAFwAXQBeAF8AYABhAGIAYwBkAGUAZgBnAGgAaQBqAGsAbABtAG4AbwBwAHEAcgBzAHQAdQB2AHcAeAB5AHoAewB8AH0AfgB/AIAAgQCCAIMAhACFAIYAhwCIAIkAigCLAA==",
          "dtype": "i2"
         },
         "xaxis": "x",
         "y": {
          "bdata": "GPTt4YgVIkAsCKx7cB4hQMWg8RWuiCFAA3on/nCnIUALjMp67U4hQD88oSuIQyFADM9E9mJ7IUAr7SfkhIYhQNSrS7avCyFAbbwjTmXGIECdvtKkT1IhQEEX7xlQ8SBAQiIoJJQPIUArzGII2IYgQJoC8+pNmyBAiEYeppWgIEABGxDdXzkhQFvP0TmrIiFA8ShWyzC0IECLSGevgosgQMwNEBO+8yBAe64lKb80IEBHBzt8BZEfQPMtwijpNiBAGkJbcC8QIEAWbmD2w7gfQJytQ1sOhh9AUnPZA/kKIEDkkXwBnoEeQNJjBy6PfR9AzcT2mlzsHUA2I8ztXCIfQFwNTKwJ2R1AXJkyhf8VHUDCMtIFg3keQGUPUuCUXB1AWxV9YyhcHUBjEwushmobQFRbv1gv0RpANBdGtpUQG0D5XGS/xNEZQMEyVAhJDRlAaKfJHyeSF0BEguXTYswYQPYHZYVhPxhAfhWyDIv7F0DAZi4j3E4XQEv3bCMBARZAWkgWoK8MFUBeC/LIlKwVQGcJY3yl0BRAzdTZ2mJbE0BiKxdQW/ETQEfeIGPjYBRAh0pit3LQE0A3ir2ulI0UQLmcOYV3JRRANHxaGId5FEC85RISLL4VQPYgFmjJrhdAtc3N3JktF0CITunkpR8YQP7BC3qkFBlAREQa5Z/1GEA0NcAaSyIZQMC2Z4qFRxlAIOl2wVhJGUBhbEcu+eEaQKMJ0AynHBtAG1TeG8b4GUA8r492vGIbQInvYyZz7BlAj5V5GDcIGkBqVk12nbwaQOycdeOd8xpAvWktUYxBGUCf+T1eplAZQIKtw8ApTBpAkBYJDc9pGUA1SvROHucZQPMZpC+hvhpATWQrjdOSG0AcaVZGsDobQFbznSdyRBtAe+WQEyD+G0A/n/kvV70cQOFqw5zzbx5AjP+zx2vZHkBWU/y0OOMeQDUOB6c5vh9A45PirXCSH0DiAHKFF2ggQEAcGnOYyiBAAAKEkuDtIEAPi9hTkJ0hQEyrnko7oiFASNyqdsy5IkCwd41JqZ4iQCGKZFWW+SJA4lZQciTfIkBK2NfmmEYjQNJY4l7hLyNAN7TkOAi6I0Cz8zq3TAokQDfaPx0npCNAYQ7KUtrfI0C9yH5bu8IjQJ1cdQDaKSRATu6sFCqXI0CX95XdbHcjQL+nKI2/nSNAeEOocil8I0Cyo/fXuyEjQOa4BC/kACNAm2xWzCbjIkC708sEUN8iQH5Pd3gZQyNApg+RO52EIkAfe9jh87kiQFLDZsdtaiJA4KMYhXJMIkBESPfZe/chQEEeuqOOzyFAlsq5A2IUIkC2l1A26AEiQCjkSF2gIiFAHmyk3if0IECVUreg6v8gQPEyo9TiCSBABVF4U/DNH0Dd64dPVKgfQFFMYLgTjR9AyxDwinbSHUBHBfaWbZ0eQC8/XKWtShxAh0xsQkGsHEChTCPgINkbQOI/ugB2WBtADe6+wzZOG0A07A1BpC4ZQA==",
          "dtype": "f8"
         },
         "yaxis": "y"
        },
        {
         "hovertemplate": "Sequenz=79<br>t=%{x}<br>v(t)=%{y}<extra></extra>",
         "legendgroup": "79",
         "line": {
          "color": "#FF97FF",
          "dash": "solid"
         },
         "marker": {
          "symbol": "circle"
         },
         "mode": "lines",
         "name": "79",
         "showlegend": true,
         "type": "scattergl",
         "x": {
          "bdata": "AAABAAIAAwAEAAUABgAHAAgACQAKAAsADAANAA4ADwAQABEAEgATABQAFQAWABcAGAAZABoAGwAcAB0AHgAfACAAIQAiACMAJAAlACYAJwAoACkAKgArACwALQAuAC8AMAAxADIAMwA0ADUANgA3ADgAOQA6ADsAPAA9AD4APwBAAEEAQgBDAEQARQBGAEcASABJAEoASwBMAE0ATgBPAFAAUQBSAFMAVABVAFYAVwBYAFkAWgBbAFwAXQBeAF8AYABhAGIAYwBkAGUAZgBnAGgAaQBqAGsAbABtAG4AbwBwAHEAcgBzAHQAdQB2AHcAeAB5AHoAewB8AH0AfgB/AIAAgQCCAIMAhACFAIYAhwCIAIkAigCLAA==",
          "dtype": "i2"
         },
         "xaxis": "x",
         "y": {
          "bdata": "Xd4HGAhJJEA1tfvIOzYjQIpkndHUNyNAVeFlxsd8I0As7lQBfNMkQIz33lXPLSVAO2/NmYpTJUAJWh/qRjklQPPLD/5jsiRA+vkRlRdNJUCirFspCwwlQJLLULB0ASVAl0MMD68bJUDYmcba2Y4kQCHxNVc1syRA0i5NMOwvJECI9YP9u34jQLHCLDa7sSNAw7f2hqx4I0AqZ2hUCYYjQAIyfF5U8yJA4NiN8Gb3IUA21XRR4wkiQLbM+72SdCJAWgLselYxIkBSKSzxsbgiQCZU3K65IiJA+h/NDOyRIkCnau7awV0iQFcAmWxlJSFA91SfV6wwIEDKyRbdz48eQDk+BrzpZBxAf6z5CZ/MGkCF8Bx1ycQYQMm+2UkIFRhAsN0NVmNiFUCnhzDsItoTQAnJ6temcxJATMF8NEaVD0CAilYQtFUNQOGbKa/0gQlARGF+wic2B0BeQ12C7WEDQIYWUrpwRvw/hXGoFKAK/z+jpz9Hu0QBQL8waOoRc/Y/HmQTweX47T/zsJTIHEL4P0acNHubrug/rODxPP8F8j+zX4H613n6P7D3jfiR6wBAnG/+nXx9/D8uzc2Cm+QBQOrlqIMSzwJABP1ERMXIAUB9n8/IP+0DQAuYPFNDzQdAFEejCO9cCkB3ERMWEbwMQC12vHhoCBFA5w6TAHK6EkBkU7b8J9kRQCeL6hPO5hNAlA5QX42sE0Cxcm+FS4ATQCzNA+rTLRNAckYxnzrtEkAeeFwB9KITQEtrTRT3IRNAN5htCAo+E0AAI/beez8RQM1UIKQB5xFAKGlPmp6rDkB53ct3UCQNQKApOuMziw1AmAHGMlMPCEAOW+h/yNMJQCDgzJxHkwlAgtMSNJEMBUB6Kz09RMUHQEenNYFtTwZA2Tzva98vB0B9JLjX5+cFQJsE6M3R3AhAOoNlQVvMCECyD/exZVMKQHvH+9qaWAtAI6pxVi2pC0CacLcvaJULQNBZjgDMLQ5ABo66Ov0ADUAg89HJvwQLQMO52FdxPQ9AsStv8ungDUAag8xxhhcMQKZMtRWgow1AsgqR1RNtCkD99il9EMQJQDM6m8nCFwlA6OKRc3ekCUBf4e/p+HcEQAx1TfLGogNAqDWHRvMGBECSrZAgH4QDQMdW9XkFY/4/zHr4hvh6AED28Fa4GDv6PwHnKYRVsvQ/juG3d1GG+T+TIA2VHPH1PzRqyUPtqfQ/tm2XPqnA8T/RV824qnPtP7qP9/i61+o/XD9biHpO7j/08vXuDXvhP2gJiWTZ4PI/uyHL6NFA5T962ATx+0TePyBW+CTvPuk/6sV7t20/6D9pi06qw73tPxdsPhSTNuA/Ijcvfw2R8T+Ys1PBYmrqP9/tzXvQae8/iVY3Vc1H8T983SUryJrqPywnFXdPxOo/goWd18Sy7T8sRKJXnljwP6fjUH9nf9k/3QHAKm/z0T/3z7y5BO7XPygeC8YvJ+A/0wJLCoUU3j9PSkgPPKHbPw==",
          "dtype": "f8"
         },
         "yaxis": "y"
        },
        {
         "hovertemplate": "Sequenz=80<br>t=%{x}<br>v(t)=%{y}<extra></extra>",
         "legendgroup": "80",
         "line": {
          "color": "#FECB52",
          "dash": "solid"
         },
         "marker": {
          "symbol": "circle"
         },
         "mode": "lines",
         "name": "80",
         "showlegend": true,
         "type": "scattergl",
         "x": {
          "bdata": "AAABAAIAAwAEAAUABgAHAAgACQAKAAsADAANAA4ADwAQABEAEgATABQAFQAWABcAGAAZABoAGwAcAB0AHgAfACAAIQAiACMAJAAlACYAJwAoACkAKgArACwALQAuAC8AMAAxADIAMwA0ADUANgA3ADgAOQA6ADsAPAA9AD4APwBAAEEAQgBDAEQARQBGAEcASABJAEoASwBMAE0ATgBPAFAAUQBSAFMAVABVAFYAVwBYAFkAWgBbAFwAXQBeAF8AYABhAGIAYwBkAGUAZgBnAGgAaQBqAGsAbABtAG4AbwBwAHEAcgBzAHQAdQB2AHcAeAB5AHoAewB8AH0AfgB/AIAAgQCCAIMAhACFAIYAhwCIAIkAigCLAA==",
          "dtype": "i2"
         },
         "xaxis": "x",
         "y": {
          "bdata": "qqwHWmfPC0CTzsYincYQQIkOF3We7RBADf0ZMjzSEEBqSMKiwK8RQANwYLcd5BNA4OVu0PbkEkAJO6CegvgUQI1Ht6MjtxRAQ/GKJ0aCFUDWHubeipUWQN8xlg0mGRZABhMrN0+bF0BxEkWKr+0XQGiKSRlhDBdAbvq09cskGEAsu9s2iZUZQIE+rHJq9xdAKluZj4pZGEBg1Vb69wUZQKXU9y3V2RhA7ETLqKZHGEAbFaFBs8AYQDvgIXMWZBlA2wHUPIQJGUBPKZylFHAYQOPlj/G8eRhA0yJ5N8bJGEAZ6jMg29EYQM6fVNmuFBdAy0UHn8JmF0AxqU/uCDIXQEhQWp9EaxVAkiPG0E0HFEB+paZEMJQUQKLWh5F9WxJALAs6czPfD0Brc5I/NtkPQAESOjw9lQxAXAs70ZYwCkCe3mrszCkHQHmr73L37gJA4CBr6kzd/z/hU7FG4838P4ZA6by+oe0/zWQUxngJ+T/JuwZ0tBX2P568lNKxKvU/cyCbnU029z/YgiO8gC75P8q6t7HaygBAIjIE0jEMA0A0oCJzJTkLQLi4J9GK+Q1AMaOG1ecZEUD5RymPMe4TQE2VePdI7BVAtRbeYNHbGED48ZvVqsEZQK0xCKd9mBxAk2t9DQRKHUBrvWm6nEAdQJVvL2y53B5AGYSfQ1MPIEBXCZiBkZ0gQEfgUatadiBAoTj/ZEcxIEDPn7uAdgIhQKqBROrriSBAtWOQZ2zZIEDVJ7iU6nEgQIETWHBVPyBAh+6F9tpuIEBn30QoDwMgQJ061v4jhx9AK5OQHTX6H0A8dJJ5jU0gQBS2NGfPCiBAzggydDXvHkC/RTzaRrIfQG8eEgu5ax5AzYBPthtpH0DYHxVp58kfQDgqnpcJdR9AYNJLPc1kH0ADG1CEpTkgQPcDykynJiBA373NordBIEBnToiwjEkgQAjlfCvzGiBAREpSXuk3IEDPsYzgg48gQPCTuzMv+yBA0VCefWvGIEAt75G83eIgQCvkWN5rUSFA2o/N8VjRIUDA175BkFkhQAKzFoZZEiJABgVQl01zIUD+daF6ZjwhQLUF3MIn1SFAO35pSy0CIUCQ5FEqd7khQMJRfJGs2SBAtbqDt8mBIEBQbgaUfvwgQPRYH9ZYtyBAAtfRTOyvIEC9y4J0kjwfQPsiZKFuVh9AcK5gCg00H0DKlin25S8eQH7wJZmCHx5AvuKt8aHhHkBJCBeaNRIdQBLY33co9RxAXzwSQQ2SHEBAg0Io6iMdQPZ3UqfTvRxAHHKa9y9mHEDXdEVYryQcQDQp+PjsVRtAncPWI1qlGkDEYaS9DUsaQKj8TCpK3hlA/KXZtZ15GkCiNIBx5mEZQCeTtUOhwRlA878lLn8nGUDRA4EpjisYQFXMB9UdHRlAORQHSwfNF0D0592WMSMYQEs584neFBdAJBdG6yMhF0CSRU+Try4XQPehB8sheRdAS6dFkb12F0Aw0FZ28ewWQA==",
          "dtype": "f8"
         },
         "yaxis": "y"
        },
        {
         "hovertemplate": "Sequenz=81<br>t=%{x}<br>v(t)=%{y}<extra></extra>",
         "legendgroup": "81",
         "line": {
          "color": "#636efa",
          "dash": "solid"
         },
         "marker": {
          "symbol": "circle"
         },
         "mode": "lines",
         "name": "81",
         "showlegend": true,
         "type": "scattergl",
         "x": {
          "bdata": "AAABAAIAAwAEAAUABgAHAAgACQAKAAsADAANAA4ADwAQABEAEgATABQAFQAWABcAGAAZABoAGwAcAB0AHgAfACAAIQAiACMAJAAlACYAJwAoACkAKgArACwALQAuAC8AMAAxADIAMwA0ADUANgA3ADgAOQA6ADsAPAA9AD4APwBAAEEAQgBDAEQARQBGAEcASABJAEoASwBMAE0ATgBPAFAAUQBSAFMAVABVAFYAVwBYAFkAWgBbAFwAXQBeAF8AYABhAGIAYwBkAGUAZgBnAGgAaQBqAGsAbABtAG4AbwBwAHEAcgBzAHQAdQB2AHcAeAB5AHoAewB8AH0AfgB/AIAAgQCCAIMAhACFAIYAhwCIAIkAigCLAA==",
          "dtype": "i2"
         },
         "xaxis": "x",
         "y": {
          "bdata": "GgZ+9xoGEkC81zxRZgkWQCibTKjnxBRA6OF/0UksFUAkIb5az5IXQB/cmYpwWhdA7zHIuOe8FkDA2xPqT/UWQGJhn7BpshhA/8GDCkqVGEBpPxNWhqoYQO0/VsM6VhlACaXiKrfgGECJj+zGFi4aQNbsodWCqxlA4ojyjWgAG0AXCX3YP78aQJJNoTLAdBlA848V/d+8GkAZP7Igz6sZQPwDzS7ukBlACzuAw0PDGUAxNC7Pn2MZQM5QzpQBnBhACvYPpbztGUDOZcWnpKYZQK1BwFQffxlAo5PXdpqIGEAVmcj75pMZQFTcgFn4gxdA13b52GzRF0DMSx+bvQwYQCFEayAmdhdAO3S8z8h/FUD2jnGVnScVQIYVDDNIthVALwDgGbB5E0AE5QSJFcISQB3Ki7e0bhJAa7lBg2BlEUDIGurqm1QRQKu+gbIjHxBADaMOYDyyC0CVxt9vDocKQJhYP8SCYghAuJQKUrk7CEDxlBYEsHcJQI0mJUnZ5gVAQ6IsWVLAB0BKXukONrgHQB/3+K8W4AZAgGOBkr5rBUDipBzn5nwIQMqLH7H0ZAhAL158Iw2qCUDqsoBFSeoJQPqJFPvFPQpA/KoZBp7bDUCm9WmeuWIRQOhLU3SQtBFARa+hcxmoEUAzUMLYln8UQDOFDh7KPhVAlxpJsF1bFkCcf/lIyKAWQA6xcN6dzxdAzBT2gAI1GUAHmfNWGxAaQGwjSSb4zxlAerZDImFpGUAouKmxQloZQK596ThoHhpAeX3xDlnxGUAw5j6Y3aUYQIlEV6cD6RhAyx1Z8OZKF0CTZkJkF/0VQDkVtJa5RRZAWssIrWMFFUDTeWMHYagUQE94x1WrlhRAS0WMBjIQFUCZtnY98SwUQI7QSevbDRZA6fLXV05OFkA5BA3AW18WQMXLmeK/uBVA0Au3nMDbF0DRKPlma+kXQOWr4Rip7hdATDL6ZE4qGUCBQH7Z6ZsbQAprHOkMyRpAMctIw7xoG0DU0VB9wTUdQFu+AqQlhh5ACw2yk8s3H0C4wlOItQYgQABaiFIH6B9Aw1AU2trFIEA+6dHZ1e0gQPiz/E4CxyBA5DqMgsAcIUC523t8CuwgQMKJc8l0ayBA2/35V1k9IEDp6sXjzCQgQGgUHmKFwiBAz8MJP34SIEA8AuEdk+geQCCYruk4hB9Ad8ByXYnsHECBdPpP/xEeQO1h0Lvi9BtAQ3tNGi5hG0COx52VOKwaQOSZ5CsDcxpAelrdAwNIGUCki4hMR3gYQAGR/rZ/pxdABAYqoVF7FUBHNFCMYswUQGWDdHtQMBNAxAj7YtitE0DaJ9sJ3ekRQP1oUxq+eBBAT6LmVENfEECb4r5pE2ULQIeIMtaLzApAbDLhpCJBC0D065e9k4AJQIbrrEWVLgNA3xhDbumSAEDtQDsXZr4BQM8+x+1Myvw/++4sopdX9z9kwWqwS6/wP84HUHkXv/E/+b7SaOhS6T+ow6uk1gXuPw==",
          "dtype": "f8"
         },
         "yaxis": "y"
        },
        {
         "hovertemplate": "Sequenz=82<br>t=%{x}<br>v(t)=%{y}<extra></extra>",
         "legendgroup": "82",
         "line": {
          "color": "#EF553B",
          "dash": "solid"
         },
         "marker": {
          "symbol": "circle"
         },
         "mode": "lines",
         "name": "82",
         "showlegend": true,
         "type": "scattergl",
         "x": {
          "bdata": "AAABAAIAAwAEAAUABgAHAAgACQAKAAsADAANAA4ADwAQABEAEgATABQAFQAWABcAGAAZABoAGwAcAB0AHgAfACAAIQAiACMAJAAlACYAJwAoACkAKgArACwALQAuAC8AMAAxADIAMwA0ADUANgA3ADgAOQA6ADsAPAA9AD4APwBAAEEAQgBDAEQARQBGAEcASABJAEoASwBMAE0ATgBPAFAAUQBSAFMAVABVAFYAVwBYAFkAWgBbAFwAXQBeAF8AYABhAGIAYwBkAGUAZgBnAGgAaQBqAGsAbABtAG4AbwBwAHEAcgBzAHQAdQB2AHcAeAB5AHoAewB8AH0AfgB/AIAAgQCCAIMAhACFAIYAhwCIAIkAigCLAA==",
          "dtype": "i2"
         },
         "xaxis": "x",
         "y": {
          "bdata": "5wgIM8yiGECRgxcmaj0aQDRi5J8iExxAcA8M1AmkHUCbmMdStRsgQJokKE+/LCFAUQ+vH9IoIUAqbgZjuUIiQHr+KMh++SFApcnAubsjIkARy4CtmsAiQNPKa3p8nSJAKCikFZP4IkAql1xRzawjQOGiCrWZWyNAakCcKFsZI0D+KOchztQjQL/4JvSBqSNAs/7l4FkDJECusYUPmw8kQMIZ4VH5byNA2mICZBOEI0Adn4rWKGojQH3JA7yGjCJA8tQ1DGIQI0CZXkhW/gkiQHEB00qW9yFAj9HkvqirIUAqpyhoCtwgQKN50OKmnSBApbMBoK5pHkCalpmtt2AcQKlDM65Z4BtANMUYONieGUDdrE7Gjc8XQBb0Ou8DmxVAIVVFW8O4FEAJ4kGAnosRQBcL+OcLrA5A0P29JWJPDEBoelXBEAMIQNhONBjQ4wZAoMnB4j+8AUBII201sij8P1baLoBODPg/50X4edIR9D/3djLEE3vzP2x9E5258PY/LaB8P9bH8D/8YUaG39j0P4J+L/xF2uE/AtCxqe1a2j/N+iMQsrv3PwaXQr4UOPY/yndF0CDE/T9ZrNbZ60z5P/gbqCLoEABAILsWg7K+AUD2II1zfz7/P96clSgAPQRAGOsPsrm1B0CNp0V6Z+AGQIvs6VjXTAlAiNGTqBcdC0CKCePvx6QMQCZ/T2ebVgxANHmNyqXvDkDpnykCDtEMQCdbCUfnpQ5Avd7CEQ1SEEBGoFuAYgsOQP4oAIXSPwxA9x4JL+uQCUAXLckkYgUKQEpnP4HkEgdALEG2CJduBUBsBLJ/IQkDQOITH6qPbQNACpe6/qsCAUBraV8ecgwCQLyGuqtrrf8/oD+3Q+PqAUB85JVoqgkEQPeKb+QlDgRArXyZoKCzAkCfSQM6bH4EQMU7HdFBWwdAqKggq+/mB0AWgUuXc94HQPKL0b/3rgZArN1n6rpuCkDvmpzdsDYIQJnVLeWfywlAS6dJAd4BDEDbN48RSN0LQPiPGqrPwApAJA4tn/U+DUCX+OwwjeMJQBheTDWhFg1AURTzvp47CUBNgpx88/0IQLT5oI9FiQlA9l94J7xJCEBEORaLBg8FQMc7SL2oAwRAHaIhL78bAEDg85Jc6g8BQICBzc6gLABA0mAyCej0+T91p13qTR7zPwKcx1n7pvc/PJySkWlt8j/S8yVJgHzwP4zutyPhtOU/k9rMTGAO5T9igOHwCJ7xP+LF5V7Gpus/vqfa7MP46j+ijFIT/cDwP+bUhUaQPuY/aB6ykeX84j/Qo6lhWB/uPwYWHXn9yO4/ZL1boOwk6D/WkS8rxXbfP1QpcfEHC98/6QIgvKH75j+ic1V7NSbiP/xVpjhKE+Q/WcbggGyc6D8bvlAj5yrnP5Gd9pmtfvA/qNQmQjFv6z8GpVyZ3JLgP7jN4qWb+es/D8GX/9wB7T/sh4e02zvmP9AYL8V8FuE/w3LBEkC14D/UQDNKb9zkPw==",
          "dtype": "f8"
         },
         "yaxis": "y"
        },
        {
         "hovertemplate": "Sequenz=83<br>t=%{x}<br>v(t)=%{y}<extra></extra>",
         "legendgroup": "83",
         "line": {
          "color": "#00cc96",
          "dash": "solid"
         },
         "marker": {
          "symbol": "circle"
         },
         "mode": "lines",
         "name": "83",
         "showlegend": true,
         "type": "scattergl",
         "x": {
          "bdata": "AAABAAIAAwAEAAUABgAHAAgACQAKAAsADAANAA4ADwAQABEAEgATABQAFQAWABcAGAAZABoAGwAcAB0AHgAfACAAIQAiACMAJAAlACYAJwAoACkAKgArACwALQAuAC8AMAAxADIAMwA0ADUANgA3ADgAOQA6ADsAPAA9AD4APwBAAEEAQgBDAEQARQBGAEcASABJAEoASwBMAE0ATgBPAFAAUQBSAFMAVABVAFYAVwBYAFkAWgBbAFwAXQBeAF8AYABhAGIAYwBkAGUAZgBnAGgAaQBqAGsAbABtAG4AbwBwAHEAcgBzAHQAdQB2AHcAeAB5AHoAewB8AH0AfgB/AIAAgQCCAIMAhACFAIYAhwCIAIkAigCLAA==",
          "dtype": "i2"
         },
         "xaxis": "x",
         "y": {
          "bdata": "1StmiLGnI0DL8ihKVc4hQDBTtpWubCJA33eu0GIXIkDSHy8Z+swhQFYl6ZaA4SFAxzIJrvzaIUDewnuHK0kiQK7KVPbj4SFAKgVtx8P5IUBAXDKQxSwiQJLREHsj7SJAX7QWpparIkBhlz8H2JkiQMiWgyBPmCJApBVaSevHIkAOEVy8oJkiQMuPzu6IQiNA9lfCXkkEI0BV0fTha3YjQEHXe5Oz1yNAIcQLPQVlI0CJAbTWJ+sjQLCNy7PfxiNAst0/q4uEI0DPSr5aIVYjQA7YzG80OCNAVj0hrBBvI0BeoQ76Y+oiQI7SW1eZ4CJA3j4eUPSYI0C2DgL0PJkiQFTrxSxrwyJAkaZ3uR5PIkDD/YqJhEEiQBI46sMByyFALdgiRmKrIUDqmZZ1p4whQJ189G22qSBAxGvz6hMfIUDKDeR3AiIgQGLrt2zwyB5As6NEJkhrHkDmGLQ+y2wcQN395c1fLh1AFpPsOAVRG0AlIVN4D7AbQCETBo5JkRpAO0ThyRJwGUDCaGQzj1UYQH5xCT6yhhhAlEkNKFsOGEAg6spt8DkXQBys/CZe1RhA4YCpz5rNF0DSKHdKVk8ZQDHvw+r7SBlA8SFJXh6AGUBYx805SeUYQN+XvwkTrBpAQt3p+dC0G0DrDrTH9N4cQFnZONXnyhxAbtav8zNZHUAoLBb+I1kdQJK294pQJR9APtFvH+VkIEDeg8tsxGQgQKQCyGzAUiBAe9siIuCrIEB/FmTdf9kgQHEJaYlKmCBA+EECiU+zIEBFY1TXwoIgQIhhoGlBMh9AAb0zXIaHHkBGxxsjgXQfQB8MTSRm6h5AVcgoZNN3HUAMk0daw4MeQL7rBnuONh5AiH+X3rObHkCAsbmaPd4cQE2FIGibbB1AbA7XWAfdHEBc5JsL+w4dQO/F7HuwWx1ASl3sUYjcHkBkzRmggc4dQFefd+dm0h5ABAAuC2I4IEB7RFw195IgQMLjZklcRCBApdhWJTILIUB+pY4GCcEgQLWuv1VvpSFAziGJ58ZJIUDYYZzqh9whQBrmL5wHuCFA9QQv1A4zIkAItoqive8hQOhYVnHA8iFAFtDt8/MSI0CRQdwZODwiQF960kvLwCJAqybz7iw0IkA8Qd71MNMhQNARLitkJSJABmaQgQvIIUDgVRfjghYiQEdHXb6/7iFAst7l+307IUBX2k6GaLQgQPgxJ2U9ryBAtt3gtzJtIEAMYdtrrkwgQAwnLlVdLR9AFTXaRrq+HEBYBZbK5QocQP7CX7Yf0BtAU4TYtxw5GkDiI9sqcTIZQNWY/nk4yRdA5sezIQNNF0AdJQOz5isWQIgJ8K4JABVA/pPOg2SKE0BNoHH0398SQCQsFg2DTRFAArkyEokPEUBzVUBxgrQNQAF8RMjUiwpAxPddKVEGCEDC9oa5IswEQAkpVPxHfQRAr19n90HKA0BLeybEUv79P7YlVu72Xvs/wWFeHXda+T9mEZ/d0N/1Pw==",
          "dtype": "f8"
         },
         "yaxis": "y"
        },
        {
         "hovertemplate": "Sequenz=84<br>t=%{x}<br>v(t)=%{y}<extra></extra>",
         "legendgroup": "84",
         "line": {
          "color": "#ab63fa",
          "dash": "solid"
         },
         "marker": {
          "symbol": "circle"
         },
         "mode": "lines",
         "name": "84",
         "showlegend": true,
         "type": "scattergl",
         "x": {
          "bdata": "AAABAAIAAwAEAAUABgAHAAgACQAKAAsADAANAA4ADwAQABEAEgATABQAFQAWABcAGAAZABoAGwAcAB0AHgAfACAAIQAiACMAJAAlACYAJwAoACkAKgArACwALQAuAC8AMAAxADIAMwA0ADUANgA3ADgAOQA6ADsAPAA9AD4APwBAAEEAQgBDAEQARQBGAEcASABJAEoASwBMAE0ATgBPAFAAUQBSAFMAVABVAFYAVwBYAFkAWgBbAFwAXQBeAF8AYABhAGIAYwBkAGUAZgBnAGgAaQBqAGsAbABtAG4AbwBwAHEAcgBzAHQAdQB2AHcAeAB5AHoAewB8AH0AfgB/AIAAgQCCAIMAhACFAIYAhwCIAIkAigCLAA==",
          "dtype": "i2"
         },
         "xaxis": "x",
         "y": {
          "bdata": "MNOxCz53H0Cybl7V/JAfQN1Q7Fv29R1A/GwNd/+4HUBAubQ6oYsdQM0UTQ/3ahxAhMNnNzKWHEAq7XlgT7ccQD4UmMNWsxxArv6XXhHjGkAAQ5W9C7AbQCDlmKr3URpAATdfJestG0DEUXXc7o0aQIu953E+dhpAixN3S2t5GUCIXfiJYP4YQHO53yB47RdA0iFP3IKqF0DCB3mWTiEXQODHOlu77xdA6JPnE8sDF0C6/N/KRsQWQLA31/u2xxdArLie1Ti6FUB3uBnBaUgXQMZCJ3UzrxVAcWJc31myFEC+pNkYntwVQK44/NhGixVAfzg5lxYcFUDyvcr25S0UQK/HDHA9LRRAhARHPIGuE0C0TFEBFDoSQKHsmBesjxJA+vsljrobEkA8d9HEUWkRQAcrAdNfLBJAg3k0PVqgEUD1cW7K36QRQCNqk+vEYBFAGmLaEr+REEA3RDVaEIoPQJf+wKez7w9AFm9pmPQKD0CDnsD2tAYQQDnpbil2KA5AbOkRdL7ZDkBZDi/5V6UMQOvOXu+uhQtA8E+En/w6DUDlMED8NkELQP7WUiq+lQxAPnQE9RN8DUDKs4/EmCcOQHu7Cs4WTA5AQyAsAKANDkDyZXznmMkNQAL+iq582w5A84Fs0vtKEEBm/FoEUHwQQPARX34PsxFANIupWZIWEUB0VIcwutgQQLUXI5m9ZxBAqy00693KEEBCpVv071QRQHu8D/8WPRFAEeXmgnp2EUCUox4sbKAPQESm0UrfjA5A/VaKQALrEECTokwztT8PQEiy8TG+NhBA8RUmVFKwDUBkBZ+aeVwOQGgrynFm7A1AF8we+wubDUB2hsFcy7IQQC8mlWsTQQ5AAm5CheMgEEAa2s9HUN0QQNcFZnr6/RBAuzcrN3FiEUA1dhqMvJ8SQGT+pJ+mmhNA5gECQQ+nFEBY1hNqEnoWQIg3kO+LkhZA0cVBKYFVF0A5A+25orsYQKSwNn6HXRlA1fAnBE6SGkBwU6ic8EMbQKs+C9fjERxAkaVdSyMBHkCmnHWJ9C8eQGdceh8lhh5A7Zl5uMGGH0A+dgFaoSggQHq0SslbSiBA/5evMsCMIEB6jBybPSkhQOKAhbHCVSFAkZ32bmN5IUCYqc4CCvUhQLwRId42ziFAwtG5sATfIUA8xQysxJghQI/1AKpbCyJAOVTtCcCjIUDWrMIwISghQJQuzJFZxyBAyvqg/opzIUDBYUePlvcgQAZQSOHhySBAzO7S84vUIED36k+js/MgQLg4TmLY5CBAWpiK+QQbIEAJ0FthRcAgQA77TVHQaSBAlil9UhVWH0CKYnHFViwgQBFa5oEyLiBAHqgCHRyQH0CCMt56ZJkeQIhHTJGzux5AN4IhIAa5HUCCt7L58jweQMLUROOP0RxA7Ie5oSrBHEDm3M2JgtMaQImCMFSqdRpAWL2FvL5bGkBCr8XcyL8ZQFrNs2/EIRhAW9298Oq+F0BcN2g+X4kWQA==",
          "dtype": "f8"
         },
         "yaxis": "y"
        },
        {
         "hovertemplate": "Sequenz=85<br>t=%{x}<br>v(t)=%{y}<extra></extra>",
         "legendgroup": "85",
         "line": {
          "color": "#FFA15A",
          "dash": "solid"
         },
         "marker": {
          "symbol": "circle"
         },
         "mode": "lines",
         "name": "85",
         "showlegend": true,
         "type": "scattergl",
         "x": {
          "bdata": "AAABAAIAAwAEAAUABgAHAAgACQAKAAsADAANAA4ADwAQABEAEgATABQAFQAWABcAGAAZABoAGwAcAB0AHgAfACAAIQAiACMAJAAlACYAJwAoACkAKgArACwALQAuAC8AMAAxADIAMwA0ADUANgA3ADgAOQA6ADsAPAA9AD4APwBAAEEAQgBDAEQARQBGAEcASABJAEoASwBMAE0ATgBPAFAAUQBSAFMAVABVAFYAVwBYAFkAWgBbAFwAXQBeAF8AYABhAGIAYwBkAGUAZgBnAGgAaQBqAGsAbABtAG4AbwBwAHEAcgBzAHQAdQB2AHcAeAB5AHoAewB8AH0AfgB/AIAAgQCCAIMAhACFAIYAhwCIAIkAigCLAA==",
          "dtype": "i2"
         },
         "xaxis": "x",
         "y": {
          "bdata": "FjL1OjG6/z9ePfoTY9sOQMAGzve8rRBAFNfGtyFjEUAF1UR50MISQFBFQIV6lhJABtNQUO+zEkC7ckG3mjEUQGhJyzN1VhZArSNG+kWpFkAat0YJKPsVQIKjhDDmMxdAn70q8qRlF0AYc9DIjHsZQI25o1lFuRhAqKthGQRjGkB3uiVnXR4aQEIQlClknhpAaR1VGOXcGkAiux8240gbQDoQhQsiextA2nd6NtKQHECaWyQ5fa4bQA0c++bGjRxAtw6mDAmrHECysC6IvbsaQBsdJ7Q9bhxAseld1rywG0AOUTefIz8aQJh8zj7mORtATX4DKkfgGUAujNcNueIYQJ42CHDFORhATrDhdbRTF0CxtYfi8woXQN4mucQqtRVA2aW9k5zVFECh2s4LPswTQD+6pik5hBNAx+f51zIwE0CoKxzGwZ8SQHSUaKK5GxJAb0aAPrQuEUCnLuw0oDkQQBTSxKMP/BBAzguS46d6EUCoqQuo/B0SQKjuVXNOkRJAlJkD7+fQE0BK3YvsV2oVQO5TB7vGABZAstcHUzOEFUBHTG0ZinoXQEalPaS0zhhAp1CTOb8bGEDHBxE5hYwYQO3kd61WzxhAICK3PsreGEDStnaDobsZQMoE79eBSRlA8/sVHZPtGEDOo6MlESkZQFxItrX8hBlAqBGWL/A7GUA7dPRC09gZQJ5V9b8L3hhAL9FJET7dF0Dr+9zeTqAYQPIgC7j+ORhAgw3AoQaIGED1ts1xmeMXQKNWe8vyTxlAOny91NPEGEBSGOGsee0XQJOxBhh37hhAYZGgQoUPGECcud4+dP4WQPZ5wbFa6hdAreZ1X5zxF0Cy53nwg3IXQMk67yxqyhdAo9ZSQgN5GEAuN3Y90FQYQNBRM5c3VxlA9tUi178kGEBr+YtJDswYQGtqp0JQjhhAlEdI818mGkBrDBJC2CwZQM0xflPWHxtAWT/2TIqQGkBdZFiy/JEaQI7MNcXcZBxAxhZXp9VcHEAHzSuwxp4dQHSKRP+uRx1AGT1YDmVKHkBwHP+dixgeQF7MXlEmCx9Aofaxk3Z0IECOBE/2kiogQNNeYPjYQCBA2+6ICUqfIEDDkNhbxPMgQGwGsx9UxiBA7jthMPNhIUDZ2Bu3zPchQCuCP9dWDiJAbPvNlzC6IUCxjejcrqIhQN7Z8roaZiFAe9jVhLO1IUBLXjcbDxwiQBfxgA87MyJA/QMkBHpeIkBB+AIEtwEiQL+bHSj3TCJAxyaw7UNgIUAunfyfdZ8hQGeuf4w8vCFAKE6QoK7XIUDok+DlElghQLUMSyecRCFA+d4qOSQmIUDD0VLJKVQhQJM9PlOVpCFAjr9oQn9OIUBqG7fJykAhQDZSujHE3CBAXx/B37JuIEAXmL++dZMfQJZzkn9vSyBA9hBsRD97HkDwEb4/yX8eQD2RvKqzkB1ALPvlFKGXHUBeYNIOpgQcQAbCqXayRhxAyW1CO2zyGUCpSqbOcM0VQA==",
          "dtype": "f8"
         },
         "yaxis": "y"
        },
        {
         "hovertemplate": "Sequenz=86<br>t=%{x}<br>v(t)=%{y}<extra></extra>",
         "legendgroup": "86",
         "line": {
          "color": "#19d3f3",
          "dash": "solid"
         },
         "marker": {
          "symbol": "circle"
         },
         "mode": "lines",
         "name": "86",
         "showlegend": true,
         "type": "scattergl",
         "x": {
          "bdata": "AAABAAIAAwAEAAUABgAHAAgACQAKAAsADAANAA4ADwAQABEAEgATABQAFQAWABcAGAAZABoAGwAcAB0AHgAfACAAIQAiACMAJAAlACYAJwAoACkAKgArACwALQAuAC8AMAAxADIAMwA0ADUANgA3ADgAOQA6ADsAPAA9AD4APwBAAEEAQgBDAEQARQBGAEcASABJAEoASwBMAE0ATgBPAFAAUQBSAFMAVABVAFYAVwBYAFkAWgBbAFwAXQBeAF8AYABhAGIAYwBkAGUAZgBnAGgAaQBqAGsAbABtAG4AbwBwAHEAcgBzAHQAdQB2AHcAeAB5AHoAewB8AH0AfgB/AIAAgQCCAIMAhACFAIYAhwCIAIkAigCLAA==",
          "dtype": "i2"
         },
         "xaxis": "x",
         "y": {
          "bdata": "tjRJ8YRiGUBYMVz8/n0XQEBaePE2gRdA0ZYCYWHOGED0NSobmXsZQLe6jNENtRtA150S3KYdHEA2120POlIbQEjU7pb0BBtA2L5jK2XCG0BFFckeQckbQG9M8ZKEExpAeIBJDYsXGkBUDPiErpEbQKjgT/bb+BlAQPYRmcfjG0DT9UVlyuQZQHtHxFrpdxlAxgnIvFKbGUCWZd/3DUYaQLxhKP/AthlAUeiARORLGkB6IfkCvYEYQLbiNfcyqRhANAovQmHNF0A7OUOMuUMYQPmkc1bgUBdANfkXebToFkCFGtjtM28XQFC9Cg20pxVAZnZVT0/gFUAW26hnDrEVQKmC3JsptBNAglYQc+OGEkAEbNLhUIMRQLl9ekuj7hFAaQCWlNxkEUBc5QISMh4UQGn2tn7AJhZApp9HhMuSF0C6n7kJPiwZQF1LHHzoLBpAlYyszyuuGkBSHK0WPaocQNsuB98TfRxA7TVCX8vmG0DmnqovjskbQAaSc/++axlAoBWWnQ9bFkD37MiSJygSQPhfVCs6awtAVKrVL+5SAkB8vUMdXPMBQCiCQqLQTvs/B0wPcavuAEAT5Sxa/8n5P8vYmUVt4wBAmZw8U1D+BkCU/Z1a4nkHQClvgT5KIglAU3J3ROziCEBCfrkd5DULQB1Bcz8agg9AK9LinQqgDUB6glvRofMQQB0ZwcQnMRBA4y6qI8UNEkABmCKP5LcRQEOdnyElXRNA607WteOJEkC4bG8g2SQSQL7nj8TNUxFA9mId+A83EUBY3mB4e0gPQP7ZhtoDcwxABomCbTtLDECPvBzloRQKQBISez63RAlA47RPpVtEB0C687mbDtQGQKrIOkP0LgZAWjIPORggB0ACJiQSmMIHQA8AGAWDggZApBbk2BukB0DRyLrSMo4KQGH8EtqMBQ5A9944x5saDEDoRCAbCF0PQH4ZdW1HXxFAvWURd/X4EUC/VtdCLiATQDxyFTa3vhNAFvetAFvBE0BPV5vlLDAVQAM8YsVDFBZAvrs12c5rF0BwoN1BnlYXQH8dOTFSvhhAQ5qKoNgYGEBdl/3zjqYYQGZuDl7gsxlAjxRnhiXHGUC1HxjlzjUaQDnBQ6FevxpApcXy0RqDGkA5UFu6ayMbQHFX4e1ZrBpARWNoZCd6HECg3fVxfF0cQHumG35YyBpAbX6D1+6VGkBFvdURCikbQDYWoJ3UdBtAeKeGRUITG0B4PmyAzokaQIhIbvk1RRpAZRPUrvY7GUDLqfOAB1MZQD5uQSf0wBhAWwEFeuxMGECUTeB1cX8XQDIpCfJrGhZATbn6D98DFUBIPuMJ8lEVQI6UPm4vTBNALGW/QsoYE0Ckj8D6dOwQQFy/aLF54BFAxtGSs4dPEEDpf8AnogcQQOjl7LYvQg1ASv/F8as8CUAZNoene80FQNh+pkAWJwJADJ4iojBuAkDCv++rW7f9P0Qua4sFaf8/+HnprAh2+T/Zx7HEqfDzPw==",
          "dtype": "f8"
         },
         "yaxis": "y"
        },
        {
         "hovertemplate": "Sequenz=87<br>t=%{x}<br>v(t)=%{y}<extra></extra>",
         "legendgroup": "87",
         "line": {
          "color": "#FF6692",
          "dash": "solid"
         },
         "marker": {
          "symbol": "circle"
         },
         "mode": "lines",
         "name": "87",
         "showlegend": true,
         "type": "scattergl",
         "x": {
          "bdata": "AAABAAIAAwAEAAUABgAHAAgACQAKAAsADAANAA4ADwAQABEAEgATABQAFQAWABcAGAAZABoAGwAcAB0AHgAfACAAIQAiACMAJAAlACYAJwAoACkAKgArACwALQAuAC8AMAAxADIAMwA0ADUANgA3ADgAOQA6ADsAPAA9AD4APwBAAEEAQgBDAEQARQBGAEcASABJAEoASwBMAE0ATgBPAFAAUQBSAFMAVABVAFYAVwBYAFkAWgBbAFwAXQBeAF8AYABhAGIAYwBkAGUAZgBnAGgAaQBqAGsAbABtAG4AbwBwAHEAcgBzAHQAdQB2AHcAeAB5AHoAewB8AH0AfgB/AIAAgQCCAIMAhACFAIYAhwCIAIkAigCLAA==",
          "dtype": "i2"
         },
         "xaxis": "x",
         "y": {
          "bdata": "XRbi33UMA0DMa7rpkYYLQIXH9GixYBFA6OdeK7FEEkCVylwzxXoVQDpPnFIRVRlAYkbHjsDVG0D0HVQwQDQeQJSFEPiuNR5A3qaPaaJGIED57QWJvlIhQJZlFLpSVSFAoUgLTqg5IkAgxMV+L2UjQKbdwjLOxCNAZXy34X01JEBaLdKuy/cjQJJbzRRGTyRAqGwZCRhoJUBiK1wSafMkQJ1W3CKRniVA2kyPU4JvJUD2265rb6YlQD2ZhXCzESZARyvfdXA6JkBSr7qGnC8mQC+pFE6w5yVAmj7Gx1LOJUB9DPm3ntQlQAAKBGqyyyVA1m2YhV29JUBs/BkMv5MlQCih9WBJ/iRACKlvWXtEJUCXsoPt6PkkQDAGFxFDCyRAs6bq1NUpJEDPI3lyVf8iQPMiJ/HnhSJAh3lupvs3IkAQpbAWkJMhQKBkraCmmSBA1O1ogUHRH0A9Co7RJnMcQPlJvZC1fhtAwFGeA360GUCO9OH030AYQIjRig9qfRVAwN3aByL2E0C4RO381JsSQP+iCQoZWBJAlRKxxJXlEEDVrp9KvVcQQDHS0aZyDhBAjrPm4eA5EUAydV7c5lUQQPxCAxi4oBFAsN2GHSUDEUDphctDJe0SQGNaVKOdJRNA6Fy34CvvFECWM+jPMF4VQNV1aO+yWhZA2FV69irlF0A64u2AVNIYQK9NenUoihlAinDVu63dGkDr7nCae1gbQNjc2aoT2RtAgJHD7aMFHUD3biqgCfgcQONENdpzbhxAkmoS+QU8HEA64u9YqggbQHUdnCXETxpA6aj0Lib9GUDu8Tf6d5wZQFfpQG+7PRhAJviD6lRrF0AL9jIY8SUYQF4Pdo7esxZAthjCJWozFkCuW75AtRoWQARxW0bRuBdAhZyRB7wKGECWaEaODSMXQKz41EFcTBhAY9DKqSPOFkAGz+nGFlYYQJP9x/cTrhdA0rZyf7OEGEBCV44TpWYYQN3Immn/xRlACl2eJmXbGEAg85ES9WEZQD0H/wGhRxlAMTw8mztiGUDV7AOf9CYbQNKAJUv4LRpAg4G2IWAHG0BUb+19QJgaQFq+/1HoUhpAo+VBu7fFGUC7P4xWKmoYQML5MuHumRhAQ0areGU7F0Au7KIUPm8XQJT558Ny6RZA7IaNTy2PFUAPuSP1y0EVQFyY6E4A0RRAfgAm5Me7FUBodRj+rBcVQAxngrWmAxVAG52TrRA7FEAaZuBzrCsTQBImD+vOTRJACxWHU/YZEkD3LALluH8SQJhfA7WV2RBA/vl66QZ7D0DoqeAQGk4QQIfRTYX4NAtA61edq5RhDECPWfP6qyAJQNzuNLIH/wdAHoQTimU4CEBxmPMS+s0EQMhbgGKPywRAKIEATUFlAUBXDqwF6QkCQHnoluSPrP0/+KcRiUOd+D/4B5/iHCvwP29gRaO9TfI/RMs0g7Nr6T8unAW/0YbnP8qHwv+SfOQ/kZ3E8zA70z8KI8qPQOzRPw==",
          "dtype": "f8"
         },
         "yaxis": "y"
        },
        {
         "hovertemplate": "Sequenz=88<br>t=%{x}<br>v(t)=%{y}<extra></extra>",
         "legendgroup": "88",
         "line": {
          "color": "#B6E880",
          "dash": "solid"
         },
         "marker": {
          "symbol": "circle"
         },
         "mode": "lines",
         "name": "88",
         "showlegend": true,
         "type": "scattergl",
         "x": {
          "bdata": "AAABAAIAAwAEAAUABgAHAAgACQAKAAsADAANAA4ADwAQABEAEgATABQAFQAWABcAGAAZABoAGwAcAB0AHgAfACAAIQAiACMAJAAlACYAJwAoACkAKgArACwALQAuAC8AMAAxADIAMwA0ADUANgA3ADgAOQA6ADsAPAA9AD4APwBAAEEAQgBDAEQARQBGAEcASABJAEoASwBMAE0ATgBPAFAAUQBSAFMAVABVAFYAVwBYAFkAWgBbAFwAXQBeAF8AYABhAGIAYwBkAGUAZgBnAGgAaQBqAGsAbABtAG4AbwBwAHEAcgBzAHQAdQB2AHcAeAB5AHoAewB8AH0AfgB/AIAAgQCCAIMAhACFAIYAhwCIAIkAigCLAA==",
          "dtype": "i2"
         },
         "xaxis": "x",
         "y": {
          "bdata": "Nmp68bUSIkAQMgQbtV4hQPXp1kKM3iBAt0gPkF8VIUAyF2psRBYhQFiNhgqmIyFAqWigR3QiIUBEh2TLgTwhQHPC5UibNSJAxt4eBQckIkDjoxP96TUiQGCFsG1yvSFAQgaiKwvvIUC8AS4xZ3EiQFwtkjZWASNA8MSbXp5BIkAmN33CVuYiQGZmLPxfSSNAm79RDbVqI0Cup02h+MsiQAVBRqzOfSNA0gYGlGqsI0C17557XgQjQCLE+q0wtSNANTJmaSE9I0AeFekjFxIjQHKAEOEegiNAT6jbawewI0AQsag4ZKsjQAts24VatyNARDjIkR0oI0DSGHsUB04jQEo9mspNWCJAAuVJ9SpXIkAnrg8wP80iQO9BzHYHTyJA/4J817t4IUABR2J7+s8hQGdBEE+D2CBAcjjAIEafIEAbjZAagHYfQAX5dxuu2h9ArnKV7WB+HkCA6JNOMZMdQCw/72LXNhxAABcvvmmIG0Dz1IC/xy4aQFyTDC5a4RhAHirONY/RGEAMKAxkbtgYQEjH6XwGshdANCJGPwtLFkAwNn1T2N0UQEgu6c7HSBVALY4IRAWKFkDEntQW/5MVQGLIZjaMdhdA9bWHF4XhF0AGUiLvDkQXQFJnFOt6ABlA5/FCo3KHGEAxpdCs5usaQM3ibfohTBpAjAEmZs6SG0AWmzluGrocQNCmLQ/zgx1AWAHWbimgHUDm1h3jAmIdQN2yx4nlmx9AaaV1g8oLH0B9McYCCP8eQPsbT1lG4h5AW//OazG6HUAF9fauobsdQFq1QsW4iB1AzbYSXWtyHECudU6glokdQB7cY/lWxxtA4Hs1GRQwHEA/6OEupNAbQMl+tFD8+xpAa88jagM0G0CQ1aRnnMAaQNTa9a/JtRpArmqYvM0IG0AuJmkJLqsbQDiG67raYxtAywD6404iHEA0kW9iZMsbQIChb9Pe7BxALOY2syDYG0AZxHmza2YdQMHKFa8Feh1A4QOaXWdQHkBVv8XF59keQPKIdq05Tx5A9ncy8lLdHkCZqnbMvQ0gQNzctDqJciBAXiIKQwW5H0Bt3TNbmEIgQMK3cK/q1SBA5xwUDYm2IEBAcMLduDwgQBLno60yTSBAGKSn2D/iH0AEWb1Bx0wgQAts8ck/8R5Asx/teljbH0AmQGzEpfceQLkOtvfUZx5AeGBixtjTHUCpwPMUheYcQHgzYOMOkBtAqX1z9K4QG0Cm2HTQht4aQBAWzkyhZBlAoHiUh2ALF0CWs9gCLIYWQCQAFvgPXRVA65J2hVdpFECqUpBpLN4TQLrSj+/PtBJAhQ9gLvZxEkAa/zfbK9QQQJtsEcgnCxBAYEhmhDeGDkCOdUa9RCQNQDEFIYErSglASBkPoDA4CUBgFEbeNDAGQGYJEQuQZQRAsiQFSsYzBEDbgRL224L/P4eLfxdzYQBAGbabj6oDAUDGvaKv3XL3P5KljTO+TvM/NUt997hS+j9/UWVW9AvxPw==",
          "dtype": "f8"
         },
         "yaxis": "y"
        },
        {
         "hovertemplate": "Sequenz=89<br>t=%{x}<br>v(t)=%{y}<extra></extra>",
         "legendgroup": "89",
         "line": {
          "color": "#FF97FF",
          "dash": "solid"
         },
         "marker": {
          "symbol": "circle"
         },
         "mode": "lines",
         "name": "89",
         "showlegend": true,
         "type": "scattergl",
         "x": {
          "bdata": "AAABAAIAAwAEAAUABgAHAAgACQAKAAsADAANAA4ADwAQABEAEgATABQAFQAWABcAGAAZABoAGwAcAB0AHgAfACAAIQAiACMAJAAlACYAJwAoACkAKgArACwALQAuAC8AMAAxADIAMwA0ADUANgA3ADgAOQA6ADsAPAA9AD4APwBAAEEAQgBDAEQARQBGAEcASABJAEoASwBMAE0ATgBPAFAAUQBSAFMAVABVAFYAVwBYAFkAWgBbAFwAXQBeAF8AYABhAGIAYwBkAGUAZgBnAGgAaQBqAGsAbABtAG4AbwBwAHEAcgBzAHQAdQB2AHcAeAB5AHoAewB8AH0AfgB/AIAAgQCCAIMAhACFAIYAhwCIAIkAigCLAA==",
          "dtype": "i2"
         },
         "xaxis": "x",
         "y": {
          "bdata": "rJLEgvx3+j97CctIk48DQJZXyvLC5A9ACKBzrbpCFUCOYaUSKYsYQGghDbxcyBxAORaYWtyYHkCZ4g1lXikgQFfK6hXXeSFA8K7ClaN2IkCuUJ55U5kiQA0DP4fJyCNA7nse6x/9I0DQzcuuplkkQHaGPwZflSRA5ciXPyvfJEBURP0ANSUlQEOPO0HKYSVAbok3PuRtJUC4Ouy5eFUmQPjB991pPSZAil2OlSaOJkB1K6bHsOQlQCuO9QZk4SVAGvTR0MnnJkA+cm6n4G4mQNkFX4QSfiZAr237Wk/dJUCajG7w0gImQCelSoVq0iVAC5nUbvhzJUAclxOXxdMlQK3vdnLxWCVAnAArwSQTJUB0rp9VyuMjQPRwik2F8iNAKePBG8maI0DewCsscO0hQP+742JX/yBAwYDNXOD8H0Aq5N13DSEdQIZy3M5mJxpA5rHadEyGFUBiR5eoC84SQE8VptXgdBFA9v8cjCHECkCzekP3xzUHQO7q6aNawgBAcJfSvQho9j83lDVksNoAQG7eBAmZO/Y/V8jIuqDU9j+S9m28dkD9P3pyOXaXwvc/uCVnCYcmA0CtcBEHf34BQOgS6Rhl9gVA+ZZc2+oYC0BCe+eJAvsMQNJFfmdOpw5A2NZhZgjrDkAU0fkpi88RQEaYBxt9lxJAJ7zTSypvFECn2bP1IegUQAHhdW7Z8xdA1KLYjNS8GUBulZV44+UaQK100CVPcRtAhhOUuP0bG0C8Fb4cptcaQIAfSDfhWxtAC4xJPj6ZHED/Nas1T/waQLk1S+quLBtAJIJm+vWjGkCSOtyfjIUaQJsSmgyjpRlAEoBo6yMTGEBqTlU/ZP8XQLHSfaBiexdAx3/KJ0fZFUBJu9ZtwyIVQIdMpJvDNRRA1qOP4pLsFEBhC/w1GhwUQMWX3Iw0sRRAlDv0asvyE0C8WvM/X38TQBkR/hByZxNAZ+UzjHZyFEBAQYWhiaQUQFi08dtFHBZA/jelHk+3FkBIVoQJzU4XQBKvogRx8xZAdfiww6ULF0DwuZ7OI7IWQDD/fsLo5RZASelc/HOpGEDV6ABAfucWQGtP7GsxyhZALyzDGaV/F0DoagVCz1MWQNZ9+hxVbRVAx36FauBMFUDjBWPjWpoVQPs88BeEFBRAQ1O69Yt+E0DdH5i1K6sUQFGVNHrfHRNA65W6BajqEkAS90hONzoSQO7FWeapIRJA+UZSCZapEUCV24syFlgRQCYDbTlk/BFATwIAWs0WEUCAOOsItXkQQCZE2GPMQw5AX10AdzGvDUDWgdt0KGgKQAgjc4DqVQhAm/0OGoumCUAZYa1Sq8EEQJckzN2BzAJAzq90CNYdAEASzX2o+dX+P7ZLBDZhTPg/y+XmuAgh9j8X1D2v6Vz0PyWLuQ1KavE/2w2PoOwr7T8G0A8zAoHwPx6gklRRwO4/XL2ZvozA5j9K0o8j4G3nP1bSipzPFOs/2mZ/j0rz7T9nI3v9QiXkPw==",
          "dtype": "f8"
         },
         "yaxis": "y"
        },
        {
         "hovertemplate": "Sequenz=90<br>t=%{x}<br>v(t)=%{y}<extra></extra>",
         "legendgroup": "90",
         "line": {
          "color": "#FECB52",
          "dash": "solid"
         },
         "marker": {
          "symbol": "circle"
         },
         "mode": "lines",
         "name": "90",
         "showlegend": true,
         "type": "scattergl",
         "x": {
          "bdata": "AAABAAIAAwAEAAUABgAHAAgACQAKAAsADAANAA4ADwAQABEAEgATABQAFQAWABcAGAAZABoAGwAcAB0AHgAfACAAIQAiACMAJAAlACYAJwAoACkAKgArACwALQAuAC8AMAAxADIAMwA0ADUANgA3ADgAOQA6ADsAPAA9AD4APwBAAEEAQgBDAEQARQBGAEcASABJAEoASwBMAE0ATgBPAFAAUQBSAFMAVABVAFYAVwBYAFkAWgBbAFwAXQBeAF8AYABhAGIAYwBkAGUAZgBnAGgAaQBqAGsAbABtAG4AbwBwAHEAcgBzAHQAdQB2AHcAeAB5AHoAewB8AH0AfgB/AIAAgQCCAIMAhACFAIYAhwCIAIkAigCLAA==",
          "dtype": "i2"
         },
         "xaxis": "x",
         "y": {
          "bdata": "+TFyiXbyGkCEFsNcxj0bQHyI11T2PhxAJ2c9Tn5pH0Adxsa/6JMgQOxhdV5+yiFA4gRPasbmIUAXEzTryOghQCR4I7GWJCNA5oHyFgSoI0D6cceefCMjQKWpjL7x4SNAvGHw7ouEI0BkVoArbG4jQBBa+ok6syNAFHwKpvzRI0CqK+a+tWAjQLZpQTvXyiNAk2q/1mAJI0BQo+zoYjUjQObi8aVG8SJAoYEZSv5vIkDyqmUcfAsiQH6SA1zF9yFAZAOE92YjIUB9aMFZ1tIgQDGUDsMwzh9AnqmtsvizHkBwNHcsfiUdQC5CxTiAuBtApmbivIxvG0B1q9zgEDoYQL1Lp3EzxBZA3NjBONfLFUBvmY7wOB8UQI1WY0AYbxJAAueOCk3aEUD+k8iQ8PkMQOQgbHwa7AtAdaSZMzOzCECn7QMrJM0EQJfhBJwMnP4/KtYfDTyi+j/52gXTokb5P3lOmzsCIfg/c2Eika5s5j9uiYaTfTXrPxbzLlq2ou0/UY00fVcM8j/qnRYtiPfnP1y+v4osp+g/EHO1obKD3D8n7UUAd473PyRvx8BMt/c/g377RnPy9T/hvrRjWqT7P3bB7K8/H/0/1/fDo7QxAUB0FX4tMgoBQPwm+rveDwNALlxCrdPlAUAxuk9+WVADQFtoTtxWJgRAl4VWsuj3BkD9c2f8XBoFQE/nF+GlVgRA25jv8zRGA0B+EbNyQr8EQDfX8VI28QBAzhUnjoEuBEB0Nl9XDssAQL7s0a2LEAFA6FBHCZ/X+D9RaWaSpP/5P+IAahi8j/Y/+9lQjcJF+D+0/IYyRvzxP6eK5IxzBfA/7ZePNkH28T+i8qF8Npz4P7/SYBw0Z/o/PvaOzbuz+T8KTm5n6bv+P2DKT4aXav0/UkvjiwkNA0CaCuYczC4HQK7IERhe9QVAPJ0uJaOyBkBJlYorurkIQHbwhq6B+ApAlsXx73RhDUBBy4onAJAOQKBaToBqwhBApl7qtqVoEUBM/zxUkKcTQIlVVTuUBhNA73+CjMVwFEDRk1xWIKUUQBvA6g97jhZAf2NQVXCiF0A8xmh8lC4XQH54LXj78xhAhsUze6zTF0ALDzc2h7wZQL6N5qDI2hlA2NeC74b3GEAJZNFcD5gYQFgd1cwtZhhAX0qnzeotGkCgZKw9ocMYQD7682KlQxlAJn+5m6fNGECltz1xx7AZQFeJenNoWxhAIPPdIvZTGUCUjBMz4FcXQNRaSfeaFBhAljatj8+cF0A+zeZ+7dgXQHpa2dW4LhZAm2RTrYixFUBNfqfP/DIUQKY7qCCiJhRA8e0JHEFjE0AOJtHmkq8RQMLt3J7FOBFAQrW3iYi5DUD423RK8nkNQN4IgJdU+wpA+oP8WMqiB0CUF9ApGfEDQP9QwrS2twVAiColNT3D/z+MtKHlIz4AQKAR88TUsv4/hCDVkUyg+D/nq9rNFMTzPyrHJME9KfY/Life/sAl9j91ZzS+1p3xPw==",
          "dtype": "f8"
         },
         "yaxis": "y"
        },
        {
         "hovertemplate": "Sequenz=91<br>t=%{x}<br>v(t)=%{y}<extra></extra>",
         "legendgroup": "91",
         "line": {
          "color": "#636efa",
          "dash": "solid"
         },
         "marker": {
          "symbol": "circle"
         },
         "mode": "lines",
         "name": "91",
         "showlegend": true,
         "type": "scattergl",
         "x": {
          "bdata": "AAABAAIAAwAEAAUABgAHAAgACQAKAAsADAANAA4ADwAQABEAEgATABQAFQAWABcAGAAZABoAGwAcAB0AHgAfACAAIQAiACMAJAAlACYAJwAoACkAKgArACwALQAuAC8AMAAxADIAMwA0ADUANgA3ADgAOQA6ADsAPAA9AD4APwBAAEEAQgBDAEQARQBGAEcASABJAEoASwBMAE0ATgBPAFAAUQBSAFMAVABVAFYAVwBYAFkAWgBbAFwAXQBeAF8AYABhAGIAYwBkAGUAZgBnAGgAaQBqAGsAbABtAG4AbwBwAHEAcgBzAHQAdQB2AHcAeAB5AHoAewB8AH0AfgB/AIAAgQCCAIMAhACFAIYAhwCIAIkAigCLAA==",
          "dtype": "i2"
         },
         "xaxis": "x",
         "y": {
          "bdata": "ktEp8ag8CEAPIGfqJcQNQH2rIXFP2RBAbu1cAb29EEDrm/gjhvgSQJthyPM9wRNAAvRAQ2K7FEBk7kT++XwUQKWB0qwZYhdAK26+XKZ0F0DweVUzitkXQDjOQ5Q2ZhlAATwhrLPoGUAGEKXZoXYbQKUvm2S0JRtABuTrv4GTG0Ak5qoL2WQdQBT7w9Z1Bh5AvCVOJzwSHkBekkNW/78dQAMGswkieB9ANIi45baLHkCYHMzwlNkeQFNL9GnjBSBAdq3Ut4/QH0BMmv9Kr/0eQMsdCM1gUCBATliae0GMHkAFlg3gSWEfQPiJ2R94yR5AYRJr8MN/HUCGNSrc00kdQL0AVJScZBxAPjRCT3ihHUDBLUS4bpUcQISxzcFczxtAXlqxAMXOGkCHdF3prCsZQPRWXrCfHRlAyN92b4YNGEB9MYZd8w0XQElZUN0RihVAm0i4Y1SYFUByvkmZ6iUUQG9bAcTtWxJAZ09VCK2iEUBo88RZsncQQHT0ny6+Wg9AtY5U5l2DEECwya20qAIPQO1ROBQPpRBAwFug1EwrEUA2wMAuy0IRQJ654RKKHBJA+UPM1hRbEUAevlOiJ8wRQCOygX/UrhRAbvxIEb9JFUAxRctfujIVQAQQdxLwQxdAgdTETdQwGEBOaEiIep8ZQK0xvPHemhpA0bSqI6Q5G0A879qSpWscQAC3U0kL6R1Ai2TVTYlAHkAMEV3ZBtodQPuc+8o8Gh9AQOtSd8UJIEDH/T/c8VkgQFU/+ncPqB9AmGZiRilQH0AGDq04m3AfQJKHX1ucMB5AxYG3188FHkDK4G5oVlUdQERE13p3WB1ALb/BPlyJHUDLj0hFOI0cQIKrUyXc6x1AHwlFcsLCHED1e6qKBnQcQBWwYKnFiB5ACcJTqWkgHkD7/vT4298dQFA0L5yhth5A6Ai+Qen5HUCgypkf0wogQPXvfdHL/B5A/MRhuxsHH0BLlE0rR0MgQLSXJFqGcSBACHilbWNyIEDqJRgbSEMhQJ+zOwqTniFADF2gOFxjIUAk3g5gwFAhQLb/gwVhtiFAgHciOVRqIUCnvDtodzchQEVQ0wdvoyBAe8PzSSu6IEBg1E6H5g8hQCJ4riBG3SBASoF6yeZWIEBzsxY6Q0seQDM4ELRfTR1AbO/yi/ILHUCPqeMxpOQbQLVoH2SC/BtAdS07MrUvGUBeixQX/coZQFwRdm1nLxhADrRknjWXFkBhnyJgBAYVQCIaJoX7ShRAgBvKmziEE0D+UiUXoFIRQINiKewaWRBA+PSctn8rEUDcFiZiAIoOQCDkF/FKvAtApi9fnEkJDEC0FDhLRMIIQGpUQoMtRgdAe+KRAyt9BUDzl+F5upEAQMePoZauTANAGpe/LuUtAUCLs7wAvsj6P5dbY7+91/0/zsYsCv/O+D/3S3Qt7sz0P7AfCjEamfY/GlRn/GhT6j9hWsOpRQbyP9iss5Asde8/tFIbiMvL6j97n8kVae/sPw==",
          "dtype": "f8"
         },
         "yaxis": "y"
        },
        {
         "hovertemplate": "Sequenz=92<br>t=%{x}<br>v(t)=%{y}<extra></extra>",
         "legendgroup": "92",
         "line": {
          "color": "#EF553B",
          "dash": "solid"
         },
         "marker": {
          "symbol": "circle"
         },
         "mode": "lines",
         "name": "92",
         "showlegend": true,
         "type": "scattergl",
         "x": {
          "bdata": "AAABAAIAAwAEAAUABgAHAAgACQAKAAsADAANAA4ADwAQABEAEgATABQAFQAWABcAGAAZABoAGwAcAB0AHgAfACAAIQAiACMAJAAlACYAJwAoACkAKgArACwALQAuAC8AMAAxADIAMwA0ADUANgA3ADgAOQA6ADsAPAA9AD4APwBAAEEAQgBDAEQARQBGAEcASABJAEoASwBMAE0ATgBPAFAAUQBSAFMAVABVAFYAVwBYAFkAWgBbAFwAXQBeAF8AYABhAGIAYwBkAGUAZgBnAGgAaQBqAGsAbABtAG4AbwBwAHEAcgBzAHQAdQB2AHcAeAB5AHoAewB8AH0AfgB/AIAAgQCCAIMAhACFAIYAhwCIAIkAigCLAA==",
          "dtype": "i2"
         },
         "xaxis": "x",
         "y": {
          "bdata": "08WjBLG3GUAViNtJtt8XQGxTK8anWBtAFQufpu7tHUB0xNiEgCweQMFpET3mnR5AT6gfb649IEB8hCX8TAYgQIPpt+bLTB9A5pdQ6QKCH0CfLgYDCXceQMvtdzfIvh1A49b2pKb7HEDc7uEaICsdQF8GAGnQRBtAENp7rWOsG0Cn+P7u1LwZQJ2gx1mdBhtAFo/YnaR9GEA4Dx/PTqcYQF9vFMSU0xdAZBawtAciFkD5DmnD8ugVQIlhk9kJ0RRAmyI6JZ+iE0BfjK4Kp4ESQLQNRzx5ChNAuW29LZMMEEAzoWURrZkQQA7mVA+5VgxATOHjRLpACkBAF3qNzXULQCGGOaNgTAZA5UZUwYXqBEBNGHLgEcoGQGYFMwrC9gJARrLwh0ts/j/AkYwk99sAQMfPEFBvbwBAXcghY+9M+z+QYM7SdVz5Py5p/cn7LPg/Cs9vdv958D9el8EWosTpPx4ldqSYGPA/pOS01WM27T8wVp2aD3v0P4BIKdIXTu4/tKkhfMsF9D8m4CZEIdTyPxLxnmj+Vfs/16r6Flg/6z9S1Ei5oSvzP3NQDnrhRfY/qyfRGFrv9j8S9GIfkhX8P0v1M609+Po/GpWx2KJ5AEAMLQ4kyIMAQMwyDdXb0gNA3yTUuvi9BkDPD66KdjwGQLm/VB4b+AVAeNBrtAU9CUBAKQ+l0eAIQPz6tzaWvwpAXQECZGhKE0AfRpvomO0TQNBg1vNiChVA78TqXyOeFUAoOs20npsWQMoHegb6MhZAxIEeTiEnFkDsVkwECnIWQB+bRYoJqRVA9y6byr+BFUDv/vuhJksWQP/p6W4vDRZAYhM9xPt8FkDuOxVXGMUWQGJP3YU0yxZADqMs77PtFEAASbxHLRAUQKtO72vn7BFAftn0iPbLEUDcC/XfhaIPQAEktzDwKw1AZ5uoXHG2CkBBysdYufkJQNGFB2FvnwhAhywIN+YZCkC8D7W6LtIHQKyvdqtMSghA6e/pjZTHBkBODc43M7sHQMyNjw1I2gdABEHJOyPbB0CyS89hvJ4EQHe2jQsjwwVASilIR9K1A0BkttdXDEMCQGgh2MEangFAzNWCFssw/T/y9vVIbh75P0UQsjhg2/Y/nKDMmQ449j+62VKWNjH3P4ng92J2NvE/nlPrFf6k8D/UHbKcVjbmPwQvYvQOq/I/cLgQ3NTJ9D/euJNRpZrpP22dbZ6lee4/dPdIlWvP8D86tHtOu6zvPy+kxA00bOI/gUh+SOIS3z/GbcBTO5LmP/51GdN829g/SZ6aYxw+4z/VlmPDePnvP2I3N9YuXOM/OBHAVVIx4j+ibjtmMDPjP01DfgxqIO0/tyLFOlY07z9gKbXRoxHlP1StlGFhlOw/dmGNOsji4j9w56eo/+LrP4Cmmyelduc/OR7csAx06z8H025Jqq/qP/0ep2KhSOo/H36p6OXQ1T8z66Bh6+zXP8rrDgSwkgRA+cKOO6uQCUCyfA9IzY8OQA==",
          "dtype": "f8"
         },
         "yaxis": "y"
        },
        {
         "hovertemplate": "Sequenz=93<br>t=%{x}<br>v(t)=%{y}<extra></extra>",
         "legendgroup": "93",
         "line": {
          "color": "#00cc96",
          "dash": "solid"
         },
         "marker": {
          "symbol": "circle"
         },
         "mode": "lines",
         "name": "93",
         "showlegend": true,
         "type": "scattergl",
         "x": {
          "bdata": "AAABAAIAAwAEAAUABgAHAAgACQAKAAsADAANAA4ADwAQABEAEgATABQAFQAWABcAGAAZABoAGwAcAB0AHgAfACAAIQAiACMAJAAlACYAJwAoACkAKgArACwALQAuAC8AMAAxADIAMwA0ADUANgA3ADgAOQA6ADsAPAA9AD4APwBAAEEAQgBDAEQARQBGAEcASABJAEoASwBMAE0ATgBPAFAAUQBSAFMAVABVAFYAVwBYAFkAWgBbAFwAXQBeAF8AYABhAGIAYwBkAGUAZgBnAGgAaQBqAGsAbABtAG4AbwBwAHEAcgBzAHQAdQB2AHcAeAB5AHoAewB8AH0AfgB/AIAAgQCCAIMAhACFAIYAhwCIAIkAigCLAA==",
          "dtype": "i2"
         },
         "xaxis": "x",
         "y": {
          "bdata": "oyR8eQhHJECmcPwSQVwjQEm2msJxkCNA4vobQGrsI0CYMTWYmEEjQK1u2WfhRyNA9fpmHb08I0CJUrzUfFIjQPcjUzpHviJAMrnS7sn3IkCGZIp0xOoiQMaw+/dvHSNAJM8ExLcXI0CK8E9tKTgiQCcT3ANbWSJACQqaRhTIIkCcwh/bISYiQOSXsXgTtyFAxnKpXIjKIUCl1ayC5r4hQMl4kw+anyFAyI+auICsIUBEWw0r0LwgQC+Nd0YsySBA+RmfupQEIEDMkuBHZJ8gQC8Gfaj5KR9A/kqhYgSaH0Du9gfp+gseQLZvX0XhKyBAX65KdxrsIEC0d0oRDFshQFzOIhbGwSFAVKepRVuMIECW0lfLglAeQHxga5/oIxtAWCpmRHdpGkAoM0Kd87AYQKqsnuMwFhZACfee1A2NE0DT1n3ewMwRQPH6uXzohA9AknthrYAyCkBGsYUJqCkGQPHA8OLohwFA3lPm4xey/T+f9M/Ev3r+P9bkS4UjhPs/USxiDW95/D86VOkIytLzP8no3xRWG/s/szRZBgMt/j9XkuHI5WH7P8QZ+Pa9IPk/lCWVCjaeAECm9a+BxQsCQBy+Zq+oQgRAiF9kn1FsAkDam3+myNgIQKDj6DXsWghAzmjv+6DmC0AlIQVurAEOQAPuBwrhrxBAwBoLB1UAEUAPaRMmCHcTQCykorsmUxJATWaRcqtFFUCKzaJCKGAVQKEDAJ3twxRAUrYSN0IbF0BvQ80ad7cVQDlCQ5Jb0BZA5AJrqUI2FkByp7QarTMWQP8y7oawSxRAzOLuJDZEE0A4woeOYKASQJIEUtBbbhFAphuJRFnAEEA/UrFrFEEMQBp6wMJoFw1Au5kugmcsDUBIEw8MXEsOQAMGNK1UBg5A6ZEgw0UVDkCyi9SuAv8NQH3TP59IKxBA6TVE10v5EUBaokBswbUSQD8QlofFnhJAAIliZXoFFUAujY1kKTMWQAMnkqRMZhdADXyaZ4zeGEBTk3c2NagYQBZHVq814xlAclIhZPqUGkB9Mkf9uTcbQCO3YMO6gRxAvXgcRzV/HkBNuxug9aseQJ82JtQKBSBAFkjzhVDEHkDOW/uY6YAgQIW4K1HhUSBAa1eC6o+6IEAqfuQr0tYgQPDbCDXNASFA2w+/aML0IEDsFeNolmAgQG35I3qQJCBAHb+ilZIbIEDQp4k9HecfQOWaKvXLOSBA6akag68fIECxkon0Jh0gQGRWVkL78B1AZ0F3slyiHUDre6ph6YodQMUf0THAVh1AW22haXoIHEAitxNkOfgaQIt6CzTAsBlAas+uNg47GUAWs7ABiZoZQBBQ9DqAIxdA7K+eW0JSF0DQ2xXDPm4VQPAovk5BdRVA8ilrl2zbEkBxE4TNCEoRQBcwLThAaBFAEalApaHmDUDUNYa/p1oOQCYQzcvM0gpAjlx2TY/MBUBDid5XETMFQPDJiivCMg9AKus/JaPZEUB6QroqDZkTQA==",
          "dtype": "f8"
         },
         "yaxis": "y"
        },
        {
         "hovertemplate": "Sequenz=94<br>t=%{x}<br>v(t)=%{y}<extra></extra>",
         "legendgroup": "94",
         "line": {
          "color": "#ab63fa",
          "dash": "solid"
         },
         "marker": {
          "symbol": "circle"
         },
         "mode": "lines",
         "name": "94",
         "showlegend": true,
         "type": "scattergl",
         "x": {
          "bdata": "AAABAAIAAwAEAAUABgAHAAgACQAKAAsADAANAA4ADwAQABEAEgATABQAFQAWABcAGAAZABoAGwAcAB0AHgAfACAAIQAiACMAJAAlACYAJwAoACkAKgArACwALQAuAC8AMAAxADIAMwA0ADUANgA3ADgAOQA6ADsAPAA9AD4APwBAAEEAQgBDAEQARQBGAEcASABJAEoASwBMAE0ATgBPAFAAUQBSAFMAVABVAFYAVwBYAFkAWgBbAFwAXQBeAF8AYABhAGIAYwBkAGUAZgBnAGgAaQBqAGsAbABtAG4AbwBwAHEAcgBzAHQAdQB2AHcAeAB5AHoAewB8AH0AfgB/AIAAgQCCAIMAhACFAIYAhwCIAIkAigCLAA==",
          "dtype": "i2"
         },
         "xaxis": "x",
         "y": {
          "bdata": "nzBQJmtsAEDeUb9RgjAHQCokSdGMxgpAL2ZXUNWlDUALTV6d/uIQQA8AviWenhFAR7E/nUfWEkCieFNTsFkUQFyxTyDYBRVAI9t9pCYBFkDVEucv5GEWQGPQW74Q2xZAJ4qEdwHRFkC+lNis2GgXQE8PBJ5zRRhAMKb2G4tQGEB7vLkyrjYYQPUoLADAyBhA4SPhA40ZGkAstgvhAaQZQLFfWSP9bBlABtI/azdPG0CUr0qnLiEaQNzG/czksxlAAd/IW4KuGkBiLP+gCE0aQPiv8iTmhBhAlzhlY+cVGUDghGkL+RAYQCYrDH6Q4BhAUOyCDWyJGEBLOOdn7qkYQL+NZL99XRdAkrsu84DNFkABMccF6tkVQN8L9mdqwBVA8sydK/r7FEA8ojWe0skSQIe8xnHh3RNASPokuq3DEkCp/6fXQZ0SQAXvwc6nsRFADv8Q5xdKEEDbTKW5fmgOQEatSJhGcBBAXY6lN/rzDkAy6a6POQ8OQEJGQsQd8Q5AZpJ+X8Y+EEAK0HzL3a0RQHNthDSUXRFAIkpbHaM7EUCQlfmQ7CITQG0n+qBRxhJAPf00SR5+FEAGGr1Uk+0UQJdS6zvgmhVA0d8Gjyg6GEDX6yRMZRcYQFZwDfOHNxlARXdZ4hkIGkBQIelLWtQaQDkr+LOc4RtA//SlY9fTHECpqYoDB1ocQJqIcI8FNxxAG5noIvRsHUD3ulPUCMkcQKrMu+qSTRtAYquxmUXmGkC2uzqr11IaQLULRy3RDBtAs8sG0FKtGUAxlw5zbhEYQGbndtwC4RVAMCxDUb/kFEDQjkmr64oTQF0eaXZKSxJAwkraq5z5EEAptJQucL4QQEUERVJmxA9AqreJa7UpDUCFQNdRZrgPQK4NXYbceRBAnxdMTwkwEEAbiiMjjp8PQEHrM47lqhFAOHf2QMh3EUDGevuTcsYSQM3FEPCOQxNAHsAtaA4mFEBIKPm2VUMUQIxsynYQrhVAZNGoQbUsGECZ5uTZLo4YQMyXdQAX9BhAvpsTP/E0GUBcgKVXog4aQHjkwaNRrRtAx/I5covmHEC8QEBZBwgdQL3d55wOPx1AV8LF2wyqHUDKBXvM6AAeQCER9YHZ+B9AEEJDF/oiIEATTxBgMlUgQMO7Hi9DTiBAqpNY9/EOIEDhI0jCuMYfQAdnLCRcCCBAZ4gw4cTpH0D4ixOitUsgQIiJKgoHHR9AnttsVJaoH0AMfoxdBaUeQIX4azR4Xh1AgwaarBxLHkCLoBXt3R4eQBWCK/7cDhxAOYhMnduvHECCiUdzSVsaQB0J+Brs3RpAtXXKuHadGUD6aXA4pH8XQEg/g18/GRhAuaKWbobiFkCOo9dCs54VQNl4m86OiBVA4CQudZ0lE0CdmPQgJAsSQC6azFcNZQ9A+VQBq5JLD0AUTiEO9/4IQDeTPPogWAhAyCj783+UA0BByjGk6u4CQGmJ1YSK6AJA45WOBGwN9z/w0fsLd8v3Pw==",
          "dtype": "f8"
         },
         "yaxis": "y"
        },
        {
         "hovertemplate": "Sequenz=95<br>t=%{x}<br>v(t)=%{y}<extra></extra>",
         "legendgroup": "95",
         "line": {
          "color": "#FFA15A",
          "dash": "solid"
         },
         "marker": {
          "symbol": "circle"
         },
         "mode": "lines",
         "name": "95",
         "showlegend": true,
         "type": "scattergl",
         "x": {
          "bdata": "AAABAAIAAwAEAAUABgAHAAgACQAKAAsADAANAA4ADwAQABEAEgATABQAFQAWABcAGAAZABoAGwAcAB0AHgAfACAAIQAiACMAJAAlACYAJwAoACkAKgArACwALQAuAC8AMAAxADIAMwA0ADUANgA3ADgAOQA6ADsAPAA9AD4APwBAAEEAQgBDAEQARQBGAEcASABJAEoASwBMAE0ATgBPAFAAUQBSAFMAVABVAFYAVwBYAFkAWgBbAFwAXQBeAF8AYABhAGIAYwBkAGUAZgBnAGgAaQBqAGsAbABtAG4AbwBwAHEAcgBzAHQAdQB2AHcAeAB5AHoAewB8AH0AfgB/AIAAgQCCAIMAhACFAIYAhwCIAIkAigCLAA==",
          "dtype": "i2"
         },
         "xaxis": "x",
         "y": {
          "bdata": "MgIoCsCRHkB+qf163dscQJ52y6bbYR5At2aEydraHkBwdQNwU+MgQG3wVqLbsiFAQ5wTi841IkAOWa9h4rgiQGLFORMupSJAT+y4c4hqI0C7CqPoMUQkQBgS2kMrayRANS22HujeJEDYQ/huqKAlQApA/bNshyVAPS9GAZ49JUBRScC/eI8lQIRUP+LkESVAhmT9vR89JUDxpKR62jIlQE9dDulasiRA4wbkaDVBJEBrzCQsovojQClAJ2/+LSRAfRQcaYBFI0C+riUemM0iQFjN9nCfayJA2gkPE8asIUB1L1xByjQhQFkbt3rrqSBAjGlDpnlIIEDWPHMAeFEfQA41T6kb+B1A4A+kiKGVG0AhhJvTJfsaQKcIqh+ysRhA93DwDmK4F0Dj8p7hoB8VQFgL7MzIrBNAEG2hGtMPE0AYhgxh0AURQE7Dt1yjwA5APDOTCL/VEED8WTD88lURQLpq49ZliBFA7CV7Cl7fEEAr/qJSrTUSQL1+ZAG6RxJAIR7Xlv4FE0DtERO7Wi0VQCs44NXu2xZA3HKWi3m8GUANu+rojmUZQNPwHiyOchtAsvnho3VKGkAkwa8fx58aQGbBx2Q8hx1Alb0H3V5VHUB2xZp2TiweQFRuK8p8/B1A0jvn2sjXHUDdkdPu5j8cQILE+qqXmxtAB10wCTQUG0AT31O/XW8aQGo1YBpJ0xlAfoHVqlKvGUCc84nhpM0ZQPm+1t07/BlAlucqNf9DGUDzT8mFFHcZQD7njWcbFxlAzsSuUQo9GUDtW1erkDAYQFLzOib+FBhAaOm5eAGSFkB6jderR40UQFOSd7ilAhRA5K8ca5zREkDCHWfk/TESQJiL6LnhABFAAIepak+zEEBiIRrnhYQPQARVHXAPiw1APe328WqADUCLUPHZTWAPQA9zhTxbExBAVG/yF18rDkByW/04BEEOQKQ3M5d7BRBAsRWfUINbEEDi+W/xCO8PQEY14XKH/hFARJbnKSTTEEANKB6qiqURQGtEI4KPnRFAfrHNXcQuE0Cf070clA4TQP2mg8gfjxJAoxj6sNIfEUBGG3e922QRQPC7nM9pfBFADKSvRTL/EUAtZu0ip9QPQLkrqc4odA9AFxHDlidlC0AB/4ZDVCUNQPwzb0eWUQtA29BDYVHzBkCYw2LiekYGQC+12+nnGQRAyF6/DYGKBUCv3AISPVgBQFD88UK9ZwBAgUA9knv4+j9uN+7Z79T4P3h4UcA2V/w/GGt0kokB9T9VFtSq6J7xPyR1OmA/hfM/7H3ElqLN9D/dvORwcCHsPw6O+vc9POc/+mQMwnxM6T8/KkCqRNbvP+zmRpFnxe4//Mh7FJxz5j+Kjxg3ShrwPwRcR0rhTOQ/+RIQuLvi7z/MeVfWoa3fPwGq5sjk5N4/+qePWjfG5D/n7D4LNyflP3IYDtFXLeQ/V56bMvdm2j84nH4uPIblPwQc1IOPquk/WmWep+Oq4j/iH1UBIEfhPw==",
          "dtype": "f8"
         },
         "yaxis": "y"
        },
        {
         "hovertemplate": "Sequenz=96<br>t=%{x}<br>v(t)=%{y}<extra></extra>",
         "legendgroup": "96",
         "line": {
          "color": "#19d3f3",
          "dash": "solid"
         },
         "marker": {
          "symbol": "circle"
         },
         "mode": "lines",
         "name": "96",
         "showlegend": true,
         "type": "scattergl",
         "x": {
          "bdata": "AAABAAIAAwAEAAUABgAHAAgACQAKAAsADAANAA4ADwAQABEAEgATABQAFQAWABcAGAAZABoAGwAcAB0AHgAfACAAIQAiACMAJAAlACYAJwAoACkAKgArACwALQAuAC8AMAAxADIAMwA0ADUANgA3ADgAOQA6ADsAPAA9AD4APwBAAEEAQgBDAEQARQBGAEcASABJAEoASwBMAE0ATgBPAFAAUQBSAFMAVABVAFYAVwBYAFkAWgBbAFwAXQBeAF8AYABhAGIAYwBkAGUAZgBnAGgAaQBqAGsAbABtAG4AbwBwAHEAcgBzAHQAdQB2AHcAeAB5AHoAewB8AH0AfgB/AIAAgQCCAIMAhACFAIYAhwCIAIkAigCLAA==",
          "dtype": "i2"
         },
         "xaxis": "x",
         "y": {
          "bdata": "OIUTrg5AEEAxPR+uArMUQBkRof6gQRdA4WwL8qTyF0BaG+IWz7wZQE5KbZMs4htA5B+9c7rFG0B+Kywf4+EbQPoCyLMKzxlAIu4pru/lGkBZkeK7JUoaQLw1R0KTExpArlAxK7E+GEDudu+n9wwYQHvw5MHlWxdAd7cGXpYZF0BVVv4/UQ8WQJmJfzivMhZAS12uCYraFEAEPLW2EDQTQFP1YRTtlhNAj20o8LPQEkBxoWoQ/1YSQKgLzf5A7hFAw5qGUxElEEB7qdF0fecNQPAOikAmuwxAyh4iinbbC0Bnhs5FeoEHQAjKxW7ehQZAln7ZMjAMBUCrbkTvfnAFQI8IxkxgMwFAWks6V35RA0Dtt1vBh0T/P05BwcLUHPk/pgx/f/08+T9uQVWEKmT7PwPO6flBLfg/HUmikl6J9T/6CegNot7/P8VM1rMceQpA7uA5OsdsEUCXdmEUl/0TQDyLxZIAyBVAJrrrFRPGFkB9LxS1u0IXQGfT2j+FHhdAnHhGfvveF0DW7RtsptoYQOpOPQTkXRhAPLmQP7c+GUDbsk1ZO5gVQGu/ZLIglxBAtfMjKCNXCUABoR8tZZAIQIT8M2GKcwNA7xoKEeb8BEDxmTy6g4wEQJ8gQQJ0HwRAkq1TZHo+B0BK6/QAejoJQJOm2EN++wpAZqgyNNxxCkCeq3FhE+cNQB0UPXO3BA5AzLgeVvBCDkDPQ6KYcF8LQPIkMjbFbg1ATfBkj/fnDUBmAKcvF7cKQHFdb0pAcgpAllpQC+iPBkDbB2lL5OIDQDTyG5H5MAJAYijzM/ddAEBmMNBJCWH/PyHydfCLVf0/xcHJaPOV/D/ToEPwLAP/P9S/NuZrOvw/OIMyTKsU+D83rEDjfPr9Pw+FabFCaABAcJQ0/KGZ/T+8R0cJqvACQFqDmy40PAJATB1nQvtQBUAMc4VS3hEGQGyCaTq+8AVA9gT2UePwCEDeqyBwzAcKQILbsvyMfwpAcL5O9bI+DUBEoHtSfgoQQNF//ekmvhBAGmbinibZEEDKH/j3hl8SQDpLjUrrNRJATqLQywdMEkAgDqJg5iITQOnL4E4EZhRA5HzZuInWFECa3g6/vEgVQL+zDFPqTRVA6ooLT5HTFUD3M54LwZYVQNlRsJ6yKhZAK6dyMa9qFkAK9COUfnEWQBzfv97nDhZAel6Aq2k6FUCsWs1To6UWQK7/nIWaGBZA+5uJYkG5FUAUHC91Z28UQBjyijcOFRRAZ0z367/nFED+l89/x+oTQLdblOYDTxNAwycpLafME0AQOwCmW2oSQBxfcmFFkBFA//A5FAJlEkAIymXVXzQSQGdYx7ygnBFA/Tpxfi92EECCJRnqeLoPQDhPIJBKyw5A+fkmggMrC0DeDmsoDGULQP2iyVqnIwdAVaU8kKPkBUAqaEujGY8DQC1z0jldOQBAgPuS7jeqAED0cSds8M78PwqgH/P4NgpAgumcuSGnD0AprnGndsUQQA==",
          "dtype": "f8"
         },
         "yaxis": "y"
        },
        {
         "hovertemplate": "Sequenz=97<br>t=%{x}<br>v(t)=%{y}<extra></extra>",
         "legendgroup": "97",
         "line": {
          "color": "#FF6692",
          "dash": "solid"
         },
         "marker": {
          "symbol": "circle"
         },
         "mode": "lines",
         "name": "97",
         "showlegend": true,
         "type": "scattergl",
         "x": {
          "bdata": "AAABAAIAAwAEAAUABgAHAAgACQAKAAsADAANAA4ADwAQABEAEgATABQAFQAWABcAGAAZABoAGwAcAB0AHgAfACAAIQAiACMAJAAlACYAJwAoACkAKgArACwALQAuAC8AMAAxADIAMwA0ADUANgA3ADgAOQA6ADsAPAA9AD4APwBAAEEAQgBDAEQARQBGAEcASABJAEoASwBMAE0ATgBPAFAAUQBSAFMAVABVAFYAVwBYAFkAWgBbAFwAXQBeAF8AYABhAGIAYwBkAGUAZgBnAGgAaQBqAGsAbABtAG4AbwBwAHEAcgBzAHQAdQB2AHcAeAB5AHoAewB8AH0AfgB/AIAAgQCCAIMAhACFAIYAhwCIAIkAigCLAA==",
          "dtype": "i2"
         },
         "xaxis": "x",
         "y": {
          "bdata": "NfUv5KaoE0AZTv8VvTwXQPtRQ0LV2RlA9iQaHDtLHEAw6dirXtIeQEhy2YoPOCBApUjKX/o0IUBUSUO422chQC4ldxewWCJAiqea0eS8IkCxof511M8iQGen85AQqyNAaCn2kBl/I0AnZKWek9ojQIP5l9/wOiRAiOtOu3kdJEBfMtCMnUUkQMj/MQEqCSVAABLHTtF+JUDI2xPUiAIlQEuLpbUacyVAsXkGXwHkJUDOUgOgjLYlQL66VUnyuiVAuOdYknTnJUB3Gf6zQDsmQMCzlyyB6yVA3zx+ex3LJUCu+SKOKIElQD/eT7GsjCVA2fFKMJgfJUCYlNWgjqslQH3lZbdlmyVAM2sj0DJnJUBbqJE8Cu8kQNpfccCQQCRALLlDVJxcJEBtlkgIa4EjQDvDPzts5SNAImdv4ubDIkCgh73uAqsiQOY4eLq5kyFACqHh55dpIUAIZFqIFIMgQCmf97AX2x9AElZOMwHLHUBivx4gntIcQCLk4gkCVxtA6AsRY3tdG0DKQz3PsOMaQKSLrEYKLhpAZAs5ywu5F0A44agifOMYQNDOIOQn0hlAi/7YBOjlGUC+qBiaRyQZQCGcpMifRhpA5u51rZokGkDZQySuNLgaQOe0Y+Xx9hpAMVtqTpiHG0BZg/ajegcdQAWkI2kVGB5AgsgAr2J6HkDqUZ4pjAEgQF0Fn9vtyyBABrsxReIoIUAWdTm3nQwhQL1yo0Kf2SFAwV+F0PozIkAekHRLrxEiQL0MN3omNyJATWwLpI7tIUDJ6VE5b+shQKKbnuzEjiFArhDLZN8UIUB0LwShVsogQDkTY7sdCyFAXyWQNUagIECOIbX2pmwgQJpfJwGsyh5A4OszAGWKHkD15HZWVkYfQC2YWZmXNR5AdXkPDch2HkAjRBcr4eYeQMgrjCIN3R5AF8Trf023H0DoE4uBFZ0eQOKPwGrXjx9AmqLvJ82HIEA2RpGDR7wgQLJ+DgDkDCFARdpoqdKSIEBII+w3H7IhQN7FOkT2rCFAPOwyBiDnIUDxEGmdjKIhQB3BaTftZCJAv0+RrlGQIkDX6sg3UG8iQI9JVXxLyyJAPrjxOE4KI0C3DRGj5FoiQN+0oDnx0SJAYj7CIbRFIkDU4mJkSDgiQAxK+SxndSJAcUDlhhHWIkCFFm9r7H0iQMt2I/KZ9iJAm6BnqZUCI0AbtjD7wmsiQKSU9gi+FCJAiw5zKut2IkBePF/FZ9shQCwYZZZ+RCJACDPa8MymIUDSMDtXMmAhQHcaQyBCoSFAJee6++O4IUCq/0Hjn3IhQKZnXz37ZCFA+ohgaBw5IUBXCA+zkTghQA5aQc6vciBAAwTydnrCIECvElGVL4YgQFmknIf8VR9A1yb+58h0H0AAltSK6aseQHBvyR5Gdh1AFx0nEtNcHUD0/aKOm8gcQAP8O1zxjxtAvtG8yakHHECi6P0UhJkbQJ5niwpd1BlAME7yqFAHGkBXAtt0MuUYQA==",
          "dtype": "f8"
         },
         "yaxis": "y"
        },
        {
         "hovertemplate": "Sequenz=98<br>t=%{x}<br>v(t)=%{y}<extra></extra>",
         "legendgroup": "98",
         "line": {
          "color": "#B6E880",
          "dash": "solid"
         },
         "marker": {
          "symbol": "circle"
         },
         "mode": "lines",
         "name": "98",
         "showlegend": true,
         "type": "scattergl",
         "x": {
          "bdata": "AAABAAIAAwAEAAUABgAHAAgACQAKAAsADAANAA4ADwAQABEAEgATABQAFQAWABcAGAAZABoAGwAcAB0AHgAfACAAIQAiACMAJAAlACYAJwAoACkAKgArACwALQAuAC8AMAAxADIAMwA0ADUANgA3ADgAOQA6ADsAPAA9AD4APwBAAEEAQgBDAEQARQBGAEcASABJAEoASwBMAE0ATgBPAFAAUQBSAFMAVABVAFYAVwBYAFkAWgBbAFwAXQBeAF8AYABhAGIAYwBkAGUAZgBnAGgAaQBqAGsAbABtAG4AbwBwAHEAcgBzAHQAdQB2AHcAeAB5AHoAewB8AH0AfgB/AIAAgQCCAIMAhACFAIYAhwCIAIkAigCLAA==",
          "dtype": "i2"
         },
         "xaxis": "x",
         "y": {
          "bdata": "/oKKvA73HUCoEadKC6kfQL3okbZihCBAnw7Z1Z5nIUCg2e6gHTAiQFiXThyRuiJAuUrwvgqIIkDLpbewz+chQFVD9RvSKCJAxnlTaYecIUCycUwE5OkhQMuX07PiPiJAMSVDhAGDIUC9O+Z6O/chQDjnON3acyFAHxSd9cwYIUBJ/eh1It8gQIPwCglE6CBARS7DAOg2IUDa09Xo3RsgQHeyg4HcGiBADIUagkfHH0DaZK/8YoYfQKND6LeCOB9ApbYSO5AZH0CY/OhEHIceQAMK79ouDB5AI7sYXIoDIEBC0C2zfKQgQEj3OXarPyFAJUohzILgIUDr9KpuJE4hQEdKe4x+jyBAzKhL7/YeH0DTdEV22QsdQOtlp4doABtAvh0XFAJoGUC4/jl4aVgWQK29FMYomRRAVC7k3frQEkDZ8xfBtLYPQBq9AaQK2gxAtmO5+CZ9CUB9JMxS8a4FQPAni4cCbv4/CEwd62xo/D+uPpY3rA3+P2nTjDZC4PM/6r3Z9T8Z+z/k6i/ZSwbrP8v511Aq6vY/AqQ1YhsB+j/GRHxwZ3DyP3px5KHFYfw/J2zXoa2tAECTx01PrzUBQHXvgDUxKQBAEsr2MboqBEBJ5W23wX0IQGY8iioNXQhAjBYpc9F5DUDCRkRqmssPQCjbt7O8aBBADUdwd0ZDEUArVXle8KATQPr/1WNLpRNA7VUZuSrKFEDkrtTDYowVQN2dN6Z0MhZAQMswahghFkCfbimuLaIVQCaIPwG1VhVANuN32+IuFUDl9CCcVMQTQPlcH6WcMRRAOUNU06T3EUDtJ20E7IYRQOi9asXZDRBAtFGmg1vbEEBAUFHB5b8PQJ2JpsCR0g9AMrB2FhdaDUB3Qw7+1jYOQFWVwvDHVA5AHe0qwdAODkBDrNCVcg0QQOOED1jMGBBA1wc7ez5KEUArLh2DD8gRQCKALvoWjxJA5f1VC/ZgFEB2sLMZhagVQLQe2M/0yBZAy22uFcdDFkCQ/xvHueEXQBsDb6sKeRhAapGJhew1GkCkKMRxOf4ZQPKYU1W3YhxA8pY97/VhHEAcZyxcWAUeQPPK5cJsZx1AdtDfOa1kHkBlrlt+C0keQFNgijllwR1AviT3o/3YHUB0J+XRWukeQF3TIpHQnB5AZtFpgtFnH0AY8fchKgkfQOXJ4INBAyBAfyLBpG9hH0ASomgL3MYeQKbidtvf7h1AAPWruShvHUBvCeqyPhIeQEbepYXa5x1ADrwv8rquG0BOgyClksIcQCIr5LUMVxtAlngqHldZGkBrvXb8mWwZQKZZgvl7NBlASFGghczHF0AKXRh9f2MXQC1O3NpOPxZAw5yvPhnEFEBb2+acJH8TQK6BC3gYnBNA7CkBwV6wEUCqLHhilsQQQGVwyzVajQ1ARRzbjvu4DEBaw4H8iUoKQIh4BvisdAhAk+guupkTBUAjKqda8ZcCQHgv/DnPBAFAenkcuK18/T8WMvEkadz3Pw==",
          "dtype": "f8"
         },
         "yaxis": "y"
        },
        {
         "hovertemplate": "Sequenz=99<br>t=%{x}<br>v(t)=%{y}<extra></extra>",
         "legendgroup": "99",
         "line": {
          "color": "#FF97FF",
          "dash": "solid"
         },
         "marker": {
          "symbol": "circle"
         },
         "mode": "lines",
         "name": "99",
         "showlegend": true,
         "type": "scattergl",
         "x": {
          "bdata": "AAABAAIAAwAEAAUABgAHAAgACQAKAAsADAANAA4ADwAQABEAEgATABQAFQAWABcAGAAZABoAGwAcAB0AHgAfACAAIQAiACMAJAAlACYAJwAoACkAKgArACwALQAuAC8AMAAxADIAMwA0ADUANgA3ADgAOQA6ADsAPAA9AD4APwBAAEEAQgBDAEQARQBGAEcASABJAEoASwBMAE0ATgBPAFAAUQBSAFMAVABVAFYAVwBYAFkAWgBbAFwAXQBeAF8AYABhAGIAYwBkAGUAZgBnAGgAaQBqAGsAbABtAG4AbwBwAHEAcgBzAHQAdQB2AHcAeAB5AHoAewB8AH0AfgB/AIAAgQCCAIMAhACFAIYAhwCIAIkAigCLAA==",
          "dtype": "i2"
         },
         "xaxis": "x",
         "y": {
          "bdata": "Ajw+U+s0HkA3W8jD3eUcQOMD0LJtqh1AGWRYoQFTHUCQnwGOzcwcQMS86PLtLR1AoNaXkOyNHEDX4L2Xu88cQHyi/IV0NRxAeYzfBfhuG0BmLOVvKqsbQMszRpzNphtAwcVEWKwIG0CmapFoXNIbQEoqQtK6mBtAvpEz5wzhG0ADqmmqwz4aQN1VJaAzXhpAFQJyP/pIGkCEAF9PQ1sZQG4tmW1OIhpAMVIN1D7qGEBpL89SENMYQCb6FAD8PBpApHTZ/AVcGECDt2wATVsZQNCoEwSQTBhA8Nc/AxunGUCoSLvFnlkZQBMHfMtuZBlAim8/xq9wF0D7NcC2D+YWQF6gJTsbJxdAiOb119nNFUD/58bYfd8VQPLCGrdWuBRACISOEHG9FUAHZX5pV6oTQE7BUYwZRxNABKjcR07xEUDONUuGPXISQD6cpztIshBACndUv8ovEEA0A4YsSzgQQMFbSygX7Q1AFqjM397DEEDzfGlSEWgQQENC8o9gfQ1AXq1mLlpGD0DY4Yiw4n0NQKU4pXnNPBBAqFk0VGyUEEB8hNAJ+uwNQNAWp49EDhFAAROdUz3jEEBkR0oXfFMRQC/TzQ+nVhFAvAaSOkF2E0CvDt8Nat4TQEoPaj2zGBVAL5SWEvBMF0C7DkT/UjAYQAsYLUGS+hdAWaPwXcdNGEBQqXJy1B8aQO6I5DMYNRxANynJlrzBGkC68jAgxfcaQAAOJYC/hRtAjZGP1F5bHEDLX8ICifQbQLYL6unavhtA/C5H2DbFG0DGe87pP/0ZQIiZeqa07hlAqsx9uO/8GEDhqzVn6akYQM8KIvq5VxlA/eSWL38kF0Dcgar3Tb4YQLAzDFg3OxdAf8SCOnXMF0BUGyyn3SUYQPYRkUoiDBdArMExU99zGEBYlHiK92IZQMGumOh/6hhAcsFuQzoNGkD0AB2Fe7oYQL5/wwKz0xlAP9LY5if0GUCwPybe/YcbQN0cfGHEPRtA3kmkK2nhG0CICd3zeUwdQCNW3fSiEh1AeNQnpoSbHUAXfBrLXVgeQDii07MhJB5ApaEpftU4H0CGfMZqFfofQDMvhu4ahx5AOmIdhH3WH0Bi45sk8UgfQPZk6o0KSx9Ag48wy2ZzH0ChTLyBL38fQNzo33mTcB9A56bL22qwHUCgwDdOCnYeQFf0dww2rh1A9HLbNZv6G0CYClRbFaQcQJdbM44i7BtAD7uT1Y4iGkAwiQmYQjQaQJ8a/RqupBlAL2GHayS4GUDeohZHIYMYQLG/FtWY0BdArAsYdP7DF0Cj1a9sfDEXQMcRCf9GqBVA9d3gvrsFFkABRR0J6SAUQMfOoVLO0RRAED3Qip+iEkCIoBpQ+z0SQHM6OPCLFxJAbAi3QiEmEUB9QsLR4oYQQP6npBj1AQ9AcYTEUKPjCkB00wRRcRMIQJND1nanXwhAFyciw9RTA0CzMSFwy/oCQJJv+qEpKPk/3o6+vboU8j8ydVjYeHrsPw==",
          "dtype": "f8"
         },
         "yaxis": "y"
        },
        {
         "hovertemplate": "Sequenz=100<br>t=%{x}<br>v(t)=%{y}<extra></extra>",
         "legendgroup": "100",
         "line": {
          "color": "#FECB52",
          "dash": "solid"
         },
         "marker": {
          "symbol": "circle"
         },
         "mode": "lines",
         "name": "100",
         "showlegend": true,
         "type": "scattergl",
         "x": {
          "bdata": "AAABAAIAAwAEAAUABgAHAAgACQAKAAsADAANAA4ADwAQABEAEgATABQAFQAWABcAGAAZABoAGwAcAB0AHgAfACAAIQAiACMAJAAlACYAJwAoACkAKgArACwALQAuAC8AMAAxADIAMwA0ADUANgA3ADgAOQA6ADsAPAA9AD4APwBAAEEAQgBDAEQARQBGAEcASABJAEoASwBMAE0ATgBPAFAAUQBSAFMAVABVAFYAVwBYAFkAWgBbAFwAXQBeAF8AYABhAGIAYwBkAGUAZgBnAGgAaQBqAGsAbABtAG4AbwBwAHEAcgBzAHQAdQB2AHcAeAB5AHoAewB8AH0AfgB/AIAAgQCCAIMAhACFAIYAhwCIAIkAigCLAA==",
          "dtype": "i2"
         },
         "xaxis": "x",
         "y": {
          "bdata": "RNiLaDmmHEDa8yBNO6QbQHWcKVTAihpADbYouVGNGkBBizF7ZB0cQNvLLzCLux1ALcvd2oD/HEBg6UqCGEceQGLg6rNCZB5A8PXLn4M5IECW319ihjwgQIGZI9z1HSBAbpjXyO9cIUBfQ1w2X8QgQGIMPM+xQiFAJMK+T05fIUBNHW1DdEEiQDbL3xsvmCJArzZUfyw8IkCUHDlGJuwiQMa9JVVs0CJAr+Y3mSqvIkCuMQ2b0UIjQPKbwJ84PyNAneu5xBlsI0CnwePQp+wjQPWjNCYkciNA/lU7RUjsI0DZioCHpVkjQCvVAF/1aSNAGInz9DAgI0DIR+3ZVxojQCU7N0PYUCNA+OHNA+hRIkAo4HjNiKQiQMStiW9dNyJAJum26LaDIkDwUZjDZ64hQJm1gfBsICFAq/8xCa05IUCaHdgswpIgQEV96Blwmh5AFmMl/MTlHkByzjHWWcIdQOS7fU+tPBtA1m6jDpqoGkAKNZqmfeQZQBEhVnJgdRhAyuvhfetvF0BAxaLXHmkXQJe6HCKrbxZAjrAhrHG3FUCjlcROzZgWQLaU+d9J+RVAAjtoZvPvFUCUBQjXoi4WQMSoXHmVDhZALJc5+kbcFUDNrq33qGUWQCr010eqsxdAkxN0gq9EGEByLKXBTOQXQOjH5tQ1DBpAhoowow4FGkCc/Er34gIbQNlX8ZXClBtANLM6OJYVHUB1I+TrYmUcQLZtv0Ko7hxAQlDySBL7HECG6kwD/g4eQK8UsXck/BxAAKZqtPRhHEAwhA3zelocQBusRdXxsRtAW3VFeONmG0A0vkrANsUaQD27DxCL5RlA+1xRgeWvGUCHaxxwpMIYQCdrAsyBVxdAt04zdZgnF0AHj2ZW9U0WQEqnSuPnHhdAm/QY0wOMFkDsrTKaaygWQCnY9k93aRZAOv96TvLXF0D9pBPIW1EXQGDNUq46lBhAhiQxyvfHGECMiBZyIcUZQMyHRIl+gBpABBiXI6zNGUB+Ai4YXpQaQLQVJb4dHhtAVgJ1O2S2HEAAzjVXt38dQMvRTUDMFRxA9ha4OjqUHEDxsHB8PCQdQGAHaGqdGRxAYEUGff3CG0DnqphpCQgdQPeRX7LcgRtAsGO+APIgHEBVZy7nsO8ZQNtxHOT6jxlArw8DUwhdGECr/X29pEwXQJbqawX8shZAuO4ZsD0vFkBAajeZficWQCX4REaXOBVACDfoqEpdE0C1ddhLxI0SQPKSo6yi9RBAIZyLYyAOEUBrxOCMOhwNQDbpLWNoIA1AWH91GIgdC0AHMnh4Mw4HQLpgHukkfAZAFxoQg5OBBUCjMfMSMIwDQKdgAZUZzgJAnGYazX6OAkA3CaC78Cj/P2UQjEq0Kf4/elJPSY4z+z/eBMtdbgD4Px9qNSL6F/w/j1LSZT+D9T8FtyjQsEPyPy/0GxOiJfY/OQeeIjVp7z/fYhVfzNrrP2CfZsSoVuo/Ch674QPN8T80aPNdhqbmPw==",
          "dtype": "f8"
         },
         "yaxis": "y"
        },
        {
         "hovertemplate": "Sequenz=101<br>t=%{x}<br>v(t)=%{y}<extra></extra>",
         "legendgroup": "101",
         "line": {
          "color": "#636efa",
          "dash": "solid"
         },
         "marker": {
          "symbol": "circle"
         },
         "mode": "lines",
         "name": "101",
         "showlegend": true,
         "type": "scattergl",
         "x": {
          "bdata": "AAABAAIAAwAEAAUABgAHAAgACQAKAAsADAANAA4ADwAQABEAEgATABQAFQAWABcAGAAZABoAGwAcAB0AHgAfACAAIQAiACMAJAAlACYAJwAoACkAKgArACwALQAuAC8AMAAxADIAMwA0ADUANgA3ADgAOQA6ADsAPAA9AD4APwBAAEEAQgBDAEQARQBGAEcASABJAEoASwBMAE0ATgBPAFAAUQBSAFMAVABVAFYAVwBYAFkAWgBbAFwAXQBeAF8AYABhAGIAYwBkAGUAZgBnAGgAaQBqAGsAbABtAG4AbwBwAHEAcgBzAHQAdQB2AHcAeAB5AHoAewB8AH0AfgB/AIAAgQCCAIMAhACFAIYAhwCIAIkAigCLAA==",
          "dtype": "i2"
         },
         "xaxis": "x",
         "y": {
          "bdata": "hL3cG1VQAEAgjK5B3g0SQB6sjiuacxRAp7OBrIujFkA3iaGQWHEXQHMgWwOi4xdApm4G4N5IGEBguJuVHb4YQDgnLmwtGBdAWzl0XBJtF0CwdywIof4WQAel2eVmGxdAaoE4LPaMFkBi1gw1g7gXQI5O+7q3FhhAmYEKRme9F0BTUN6YLdgXQLeLisMt6BZAgaeCXaXgF0ALGgYVgbsXQPoVVO2mzRZAhxgpdannF0BKlYWhJa0XQK1G+Gh3bhdAxaogx17MFkBdYEvUgRQVQFM3r2djIxVAzweCchI9FUCPZU/FDcoVQPrt7G+V4BNAr4nFZRNfFEAdAj2jX8kSQDLmG44n4BNAitbCst7IFkC7s+Ap6koZQLi/kJWhaRtAkkhjn12CHUB0h0LHRPEdQFEzC1yR7R1Ak/bcID5sG0Cf0p+EHlgXQI5E8JcqiRRA7DDwLxUpEkAF4yMmI8kOQNT9gyaxIAZAvF/SLtOaAEAqwbNDdRf+P4NKLgKHH/g/xlVm3+im+D/LEnu0lyb0P87HoLdN/e0/vdVnFQmF7T98lYxSsB/4P3bI1YFQ/vs/eEOmhpVq/D/Ma4qcDDcAQCtBo4EgPANA812emMa+A0C7MtDPzL4CQPdHwb8gSwZARXfU2LQCCUAfY5h01pYLQDYacd6cnQtAZl7TmR7IDkB6Lgi4o9IOQA/lk7a/BRFAr9r3SszIEUCvCJSrw48SQL2trUxNuRJAbe9xUSHVE0CYMkbKouERQEazKLL+DxJA4PWIgGyaEEB5ZCyfonARQEcLMMoRghBApjDOp+2sDkB5Pm06d4gJQM3dPYhCVwhAEHiC3PlaCUDr3iuUZYEIQKEhTyABHApAWqOPJCqrCECAvyzFEGcHQHtaKlhjSAlACuc/jYNRCkC5R2c5HK4MQJbt9/M0oA1AU/NiKFh4EEB4jLq2w80PQHheXgN1HRJA3tXStISdEkDWuz0NwGQTQL2OtJg6qBRAYl5eDZG5FUAge8X5JV4WQBVVHqMFjRhAuoCG0aN1GECauHgcYpUZQIRHnNTb2hpAOSEhH/k1G0D1mspd8sEaQKk1ual8MB1A2hvZoR5MHUCkubnrMVAcQEiPha6Sbx1AYFY6ygFFHkAUsx9IQ9wcQE+iWyskvR1AUM4a2xaWHUCUIFMpo5odQEjKeRcrSR1AM464NxEBH0CRWL5M2S0eQJ19HIuw2hxA6+ukt4qUHUAL9JLs2mEdQCVoXGxRZRtAUvqYnWa6GkAPJrEFv5YaQPIa/+Y/TRlACYOEFIRyGkCpDHph2YkZQH+RqnbbOBhAMcNHjrPfF0AiDhl2g84XQAsGXIUVrhZAixgpOIcCFEAD1o6BS6gUQHmrWAIpiBJAh37VZ+JCEkCc6/Cp9SgRQHN5yF0BtBBAtyIfJRI7DkAx+iKg3wELQBKPeWgTowZAF7KR+HvEBUB+7U9MTLwCQJ/Yaq8Lefs/9HMMKiPS/T8ESuGDOHf8Pw==",
          "dtype": "f8"
         },
         "yaxis": "y"
        },
        {
         "hovertemplate": "Sequenz=102<br>t=%{x}<br>v(t)=%{y}<extra></extra>",
         "legendgroup": "102",
         "line": {
          "color": "#EF553B",
          "dash": "solid"
         },
         "marker": {
          "symbol": "circle"
         },
         "mode": "lines",
         "name": "102",
         "showlegend": true,
         "type": "scattergl",
         "x": {
          "bdata": "AAABAAIAAwAEAAUABgAHAAgACQAKAAsADAANAA4ADwAQABEAEgATABQAFQAWABcAGAAZABoAGwAcAB0AHgAfACAAIQAiACMAJAAlACYAJwAoACkAKgArACwALQAuAC8AMAAxADIAMwA0ADUANgA3ADgAOQA6ADsAPAA9AD4APwBAAEEAQgBDAEQARQBGAEcASABJAEoASwBMAE0ATgBPAFAAUQBSAFMAVABVAFYAVwBYAFkAWgBbAFwAXQBeAF8AYABhAGIAYwBkAGUAZgBnAGgAaQBqAGsAbABtAG4AbwBwAHEAcgBzAHQAdQB2AHcAeAB5AHoAewB8AH0AfgB/AIAAgQCCAIMAhACFAIYAhwCIAIkAigCLAA==",
          "dtype": "i2"
         },
         "xaxis": "x",
         "y": {
          "bdata": "4esxVN0eHEC80EqE7+8dQHMMTQ4CbBxAgNxBC+nPHEALx2aav3AcQDdRNM3tKRxADReR2B/wHEDTEfJpmMMcQJrXPBjcIxxAPZeJQvPrHEC4FqbbRVkcQO9YtXRxVRxANpHaKSOdHEBOrFOBktobQJMf1fChzxxATRRpj0nGHEBBvGN+Jf8bQNB50InQDR1Ajnweax0fHUBg5n2pXVEdQKepvdxu+RxAMUV8yLthHECu42F+uqIcQLpBua3e+RtA2ghnm2skHEBu443Ia+4cQKpGFJc5mhxAPkqrg0iDHECKH/w/quIcQKF90turmRtAfugpgO72HEBqaVBzTgMbQP3NUPe94hpAD+C8qmKVHECYi7QUsQ4bQABQQxvDFxpAZs/xNCn3GUD2zIX6Q9EZQL2s1Lg+OhpAO3D11tqDGUCUK8wV/fsXQCz+p+HRTBdAWLeQ1kPNF0BDN/G/nvQWQHBQxY4PeBZADHcXI805FkAdCYXudDIVQDwxfsAJiRRAndPom2RKFUB7Zv0CguQUQIJEdpaJeBNACfMUHOTFE0BqWNmnh5UUQOq8TS7dnxRA4QqoQKSTFEDKAbMc/nwVQLH7I4msyxVA/CRYdW92FUDtDlgcO3AUQC21HMObABVA+f8XR0YfF0CGCq5TqR8XQPBOc9zQuRZAN2mwR7mLF0AonqB+RRYZQH5IUvDohBhAD4zjAg7AGEARlMu/fSgYQNLG9ffSKhpA1HVIu0hOGUCw8rKKbdwXQNJ4arE1fhdAskTHeoH9F0AqKnExK2QWQK55KnlyohVAQdZfh8UiFUCKI2zJzXMWQETtFhps4xVAyVR4Th/rFEBF1aQT+AQVQIOWf8IYBhRAXUMxkFIvE0CBLNe+xqUUQLEnpi7uBRVAuFv+56NVFUDcX5bdZ9YUQH8xJhQyaxVAQVWVP1WCFUC2epi/WpMVQAn0yTumHRdALQdK5XvGF0CzFypTnBIYQKoZGKKFXRdAw1/QsgtZGEArgK+TOhIaQIsn2ciZXRlA1VmUnqDwGUDAPtOXY7YaQAqc686XlRpAYaD+4J8WG0AO9O4mtEEbQDlosIcUSBxAoHlrBYwYHEA+4ALASa4cQMIDvT40VxxA05Gn0j5kHEAYXscq3yAcQKwJ43Eg9xtA1zDeTsbWG0DXaMPZZVkbQBUn5aSERhtArRws/2W/GUBel/n/PpYZQEup2GxsARpAmhFy2M4yGUD8pt/gTTYYQE600wciKxlAO3EvfMKpGUAhcswWMhYZQIH38I4BkBdAxyV2MDM9GECCaiR9YKkXQAWSSrttCxZArvQfcgWTFkAIe25QOxUVQC0eD5XeqRRAoDY9DZgHFUBJIhePNxAUQClWd/AiMhJA/Z3hwmEuE0CWBkwi8V0SQFOsnKLVcA9ALHQIjagrEEDbiF0xLqgNQL560Pw9kgdAAbtAZu2xBUDNo0+wHpoDQIKZujVBTgBAd3czYBJV9T8X3eAnFmfxPw==",
          "dtype": "f8"
         },
         "yaxis": "y"
        },
        {
         "hovertemplate": "Sequenz=103<br>t=%{x}<br>v(t)=%{y}<extra></extra>",
         "legendgroup": "103",
         "line": {
          "color": "#00cc96",
          "dash": "solid"
         },
         "marker": {
          "symbol": "circle"
         },
         "mode": "lines",
         "name": "103",
         "showlegend": true,
         "type": "scattergl",
         "x": {
          "bdata": "AAABAAIAAwAEAAUABgAHAAgACQAKAAsADAANAA4ADwAQABEAEgATABQAFQAWABcAGAAZABoAGwAcAB0AHgAfACAAIQAiACMAJAAlACYAJwAoACkAKgArACwALQAuAC8AMAAxADIAMwA0ADUANgA3ADgAOQA6ADsAPAA9AD4APwBAAEEAQgBDAEQARQBGAEcASABJAEoASwBMAE0ATgBPAFAAUQBSAFMAVABVAFYAVwBYAFkAWgBbAFwAXQBeAF8AYABhAGIAYwBkAGUAZgBnAGgAaQBqAGsAbABtAG4AbwBwAHEAcgBzAHQAdQB2AHcAeAB5AHoAewB8AH0AfgB/AIAAgQCCAIMAhACFAIYAhwCIAIkAigCLAA==",
          "dtype": "i2"
         },
         "xaxis": "x",
         "y": {
          "bdata": "35I8c4O1JUCFAYVLg64kQGnqZ5nk+CRAULj8kFkvJUCrRtR3RyclQCzfzjtADCVAYiTWv03lJEB/tfhIzTMlQK71OyekmyRAkucbFQDIJEA7FFiNLogkQC9t5xjNRCVAPrRyIjtlJUAPwcnWtV0lQDUo5ceLaCRARW+R+yeQJEAWnakj6xUlQJ/K1CbPciRAny0BeuYdJUDvW4iTl8gkQHThpwONUyRAigkt9k8iJUAjO+2qQl0kQPasaOd/KSRA9aTv7fAZJEC9rQQZZpYjQCTkp5gPmSNAf4s6wi5lI0DXvbUqY/EiQH4TTQBfuCJAcDeMsz6mIkCJi4U9q5UiQK6ZObFj8CFA7i6VpxOiIUAGwgq4sn8gQMTj55BYHSBAOofvDE4FH0DXq9SzKU4dQC/7FihT3x1AdylFEbEAHECuWWILwmEaQOCsvOFUwhlAdZuOOXqfGED2w+cX03kWQKYP8MVl1hVA/7JzJvAOFEC4Y7gZwNgSQEy9CnffoxJAjOwruXEBEUBkLy1EnHgPQHgSLV5OLRBA770i1np3EEBldC37Vj4NQDI/JMd1cg5AsfbolI8TEEBJRCBv+5gQQLZLmOk7phFAQwc1POlvEkDLLilcZy0SQBTaooRO8xNARjZlC3hdFEDzdId/mgoWQPGLD63P4hdA3JuA7SntF0Co5J1/m6wYQJZ56dCZRRpAHL21+CR4GkDMex/ZkDAbQMS3dQYlFBxAnJiQ28aDGkDgJ/fbUi4cQNwGnECAehtAcEB2cakEGkDTUmPsMMMaQLLGz94wWBpArLVr2efFGEBCjINGp2oYQOSlwT7hDhhACSSkDtqBFUCiKkXau9YVQDhj9DWaFhVArWpz6TJvFUDlnhPiPcgUQCb7MacTeRVA40OmPYeuFEDBGQuIG00UQNPiTjmI1BRApkFYIdmVFUA8ad8CnR4WQLdP+T03DxVATU/Rwa2KFUDhWMZ0LkkWQEYDJ4v+IxdAj3R36PNpF0A31ys7RwAXQNHP6rKWahdAVNzjrgB9F0D/hw9sG1YYQMz58tBD2RZA1GHsvarMF0BEojse7pQXQLlG1tRsXRZANlBUJpYYFkDj0StGJTEWQDerJTIWcBZAbJMl9mCeFEDpivZYlW0VQLl8jlqyNBRAjGFHcwteFEBWVgZsKGEUQBE7KHBxmxNAi41DC/+8EkD6LWZZuHcSQIZZFsKi9BJAqvUJ/kp+EkDS6Yd98t4SQEnCxuMnhhFA/Pvo22xWEkCEkOjvflMRQA1ITryC+hFAwreGIXe/EECbaF/BSYQRQCybuKw5EhFAPppkHFptD0Be3vhnOKgQQHuYgV3YdQ5AdyNnW2QvDUAw+oqQtE0NQM79FxgArwxAeumgc5eFDkCJD1BtCfENQPO3U9J9zglAJrNwqBsLDEApToq2v8AJQMlS3SofBQhAMku+7lojCUAA4choBJEHQCNStwegAgVA6ka/WjswBEB+WsDB8VgBQA==",
          "dtype": "f8"
         },
         "yaxis": "y"
        },
        {
         "hovertemplate": "Sequenz=104<br>t=%{x}<br>v(t)=%{y}<extra></extra>",
         "legendgroup": "104",
         "line": {
          "color": "#ab63fa",
          "dash": "solid"
         },
         "marker": {
          "symbol": "circle"
         },
         "mode": "lines",
         "name": "104",
         "showlegend": true,
         "type": "scattergl",
         "x": {
          "bdata": "AAABAAIAAwAEAAUABgAHAAgACQAKAAsADAANAA4ADwAQABEAEgATABQAFQAWABcAGAAZABoAGwAcAB0AHgAfACAAIQAiACMAJAAlACYAJwAoACkAKgArACwALQAuAC8AMAAxADIAMwA0ADUANgA3ADgAOQA6ADsAPAA9AD4APwBAAEEAQgBDAEQARQBGAEcASABJAEoASwBMAE0ATgBPAFAAUQBSAFMAVABVAFYAVwBYAFkAWgBbAFwAXQBeAF8AYABhAGIAYwBkAGUAZgBnAGgAaQBqAGsAbABtAG4AbwBwAHEAcgBzAHQAdQB2AHcAeAB5AHoAewB8AH0AfgB/AIAAgQCCAIMAhACFAIYAhwCIAIkAigCLAA==",
          "dtype": "i2"
         },
         "xaxis": "x",
         "y": {
          "bdata": "3saLtlNoG0D6om+OswwdQDRZRe+gyx9ASpAWOUuLIUCTPvERNPMhQAzw2bfGnyJAEioXDPuTIkBK6IaxYc8iQNpfIWEb9yNAWDdGub08I0C5DXc8LpIjQBZedMRfkCNAQ4sE00ULJECoGIOj8Y8kQA89pdyxASRAioRdh0o/JEDefHMAF/wjQPNre1ca3SNAvJeYl605JEAiTx7dwj4kQJNWPaeYPCRArf4tqvxRJEAdcQfvc5gkQKtKP7dn+CNA7PScn/eEI0BusIkIZB4jQC8dcbiXuiJAgbjF51S+IkBsg1Vt/XMhQIZK6KW9ACFAsGQDCOd4IEDEHyG38A0gQLvPlT6qdR5AV1OifJkjHkCruzIMQPobQHn0p2jajhpAcCY4NapkGkC5mwmTQssXQFCLLPZQgRZAzlEWjhO/E0CXmbSeB4oRQC89J/C9eRBAjng/ftMRDkCMCN7wx7kKQObLkWreDQVAJcnS8Plf/z97+paqxR75PwaVlNlvDOU/10Rso3OH6D9gKGb1JKv3PyPC4M01pfg/TGEfTTV4AEDmfq0QREP+P8Qe6dOCsABAk9fppdvZAEBCgM7BQG8BQGUGmXfRVBJAYvtS+4ZmFUAQboBQOwYYQPGL9Jz2CxlA1KeYlK0ZHEBGwJEz1AsdQGtL/WZVsh5AJMpIi4WzH0BQtACVvNIgQBeRavgivSFAqzgH80gwIUCkHcRmRq4hQI/AsNitUCJAO5xn7vHOIUBgyk0Nmr4gQDkr25cNsx9AexnKwWgIHkBbJ066IdYcQA8cdhjlkRpA9VgbnLJZGUDMtoiyIDkZQAEhKkALWRZAariiwvONFUAcIiLAfV4VQOzx6dYPBhNAuNJxzXdcE0Co8fQFWx8RQIgylHVYtRFAUbSKzCEuEECprwah1H8QQErMkmbefhBAa8nvaUNKEEAVkaZpV7cNQAdAEhMBXA5A5W3WDnt4DkDWRyEtD7MQQA7whrOHFRFAe6CzjavSEEBeeaz1M2oQQHgTB6VN5hFAZzja68sIEkArL8apkysSQCCDger70hFAsDIQXhYyEkB+hN5KgQIRQCV4TyDffBFA255FexjQD0AvxjWn70IQQJa0L8CA8w5Avsei0GrUDEDtie5GQR0MQB+7xG2NkAdArufKYQI+CEDo6F93dE4DQMRG/CouFwJAJSlWaWDQAUCckDLiELkAQBft+sDlggBA6+JhtqQK+j9VYn90Wxz9P05Xc38scfI/zE1d1DgU9j+Cpy7K687zP2RDRPeeK/A/YwlTJaDs5j+0MinYP/fhPwa8xqbDduQ/wzSzEQq/4D+f/Fm3c0vlPz/NpBlx3eE/TT1EX78F6D9wCzwQxH7hP6iRlEWj3+c/+8SXCs4T5j9IVBITN9vqP9fvu34gq94/K4B5meb40D9zD5bPTYjsP76i3tvWbOE/zzOld+Bx7D/a9gVfn0nmPwg5ZeFrPeU/hrvjSNkc5D/8JKC4xmvuPw==",
          "dtype": "f8"
         },
         "yaxis": "y"
        },
        {
         "hovertemplate": "Sequenz=105<br>t=%{x}<br>v(t)=%{y}<extra></extra>",
         "legendgroup": "105",
         "line": {
          "color": "#FFA15A",
          "dash": "solid"
         },
         "marker": {
          "symbol": "circle"
         },
         "mode": "lines",
         "name": "105",
         "showlegend": true,
         "type": "scattergl",
         "x": {
          "bdata": "AAABAAIAAwAEAAUABgAHAAgACQAKAAsADAANAA4ADwAQABEAEgATABQAFQAWABcAGAAZABoAGwAcAB0AHgAfACAAIQAiACMAJAAlACYAJwAoACkAKgArACwALQAuAC8AMAAxADIAMwA0ADUANgA3ADgAOQA6ADsAPAA9AD4APwBAAEEAQgBDAEQARQBGAEcASABJAEoASwBMAE0ATgBPAFAAUQBSAFMAVABVAFYAVwBYAFkAWgBbAFwAXQBeAF8AYABhAGIAYwBkAGUAZgBnAGgAaQBqAGsAbABtAG4AbwBwAHEAcgBzAHQAdQB2AHcAeAB5AHoAewB8AH0AfgB/AIAAgQCCAIMAhACFAIYAhwCIAIkAigCLAA==",
          "dtype": "i2"
         },
         "xaxis": "x",
         "y": {
          "bdata": "XBXAwKPtIEDYQGCl9HYhQJL3HdOFiyFAxBeIjmVcIUBrm2jw70UiQERmnpUTMyJAGFYsgOb+IUANxHSSS3UiQNA3XVCLvCJAdQZkPxWlI0BLeIfaRBUjQI1Y2okkRSNAZCcBW9MAJED/BsRXmfAjQO19gTsNJCRAsxkHrFA5JED+msUfr4MkQHr71MrwRyRAVt3NH56qJEBsHORfB4wkQKZZOl5+2yRAIP9AgZ7fJEA2RNdcIewjQN1ds/IHCSRAjR52jRc7JEBv7uZXpikkQOWUzrJq1CNAmOA7S7vzI0CHLa3cvyEjQFMkqUmt+iJArVw4IMgUI0Dbu2LDVwYiQCPZD5dhHyJAmccKGLfXIUB6w1I4w4YhQKDGq7SaeCBAIH4vR5jDIEBGnJFZ0xYgQBNNgOlwTR9AseNGlDinHUC1KDZvG1ocQLdIOkFWCRtATm4UgqzmGkDM08xmzv0YQKQtMK9pDRhAwNnmL4tqF0AGHazRDKEWQINtK24nwxVA/ihq0OuEFECv2p3p/gkUQFxYJSctChVA9zDovZQPE0BxD+NWctETQNsgBWV0dhVAi5c+RqAKF0BLBmXLxusVQNi9u5DdGxhAFFnaE+BjF0AFI7O+TrIXQOWSmxXzSRhAi9DeFQSXGUAm5ySoqOkYQH6sr6+cABlABmY6EuHHGEDP7OGiUocZQO5KUn4ovxlAnYcMCZ5SGkCMTrqEp4QZQNkEwH8JyBlAAbhcClnCGUCv4YJmwmgYQKcFOhI11xhAWpBnRrPiGEAMDZm8YLYXQEUEuIuIrBZA8RAGn/0nF0C4OpMuFoEUQN5hHseUbBVAzx5EVueeE0Cs/zniRWQTQNe3FDr33hFAkW8o5NsJEkBQkKZ+6iARQO0khz/OEBJA6FUyVThiEEC75tWzfKEQQCRgcEi7NRBASxoARL/PEEBahvSUdOQQQDPELYUZPBJAE8UUhKc7EkADnmtkRboSQEUADKuiahJAD0qsfAXFE0D2SvLl3EITQJAJvXvL9hNA2pOZf3zyE0ClpmLA7zoUQFDIMS0iRhRAcBkztJZwFEA7zwHZZZgTQAlXRUTpfRJAQ5XdpggtEkCWrIofg8wRQEj6fwH2QhJAFT7YG2y6EEAbzAj+3BwQQE5gLV6L/wtAvsu3E1QzDEAGDbh1lmkKQK2ujEOS7AlAPKAdvFZ/BUCL43oiXNoFQN6AjV3ydwRAOmucrEa9AkCcsZl0sxYCQFB1/zfAvABA/Va3OgCT+T9x71tXuqn6PyAB5jpcJ/s/PKNu0V/G9j/PMboz4X/0P3rYWBAT5/A/FKfLcbm/8j8os5KNKurwPzBi1gRMYvI/ijYtI4xa8j8Szq/CsqTnP5bYRPZltfI/I89a3FI+8D/AgP1YLBflPwpK/VUox+A/ivwNNRqK3T+koZUx3y/nP9uSQCjl8+c/Gmw6wlbu4j+uXeAOz6rkPzTXPFgr3+E/8SOjGIGY6z/EMIQCx5ngPw==",
          "dtype": "f8"
         },
         "yaxis": "y"
        },
        {
         "hovertemplate": "Sequenz=106<br>t=%{x}<br>v(t)=%{y}<extra></extra>",
         "legendgroup": "106",
         "line": {
          "color": "#19d3f3",
          "dash": "solid"
         },
         "marker": {
          "symbol": "circle"
         },
         "mode": "lines",
         "name": "106",
         "showlegend": true,
         "type": "scattergl",
         "x": {
          "bdata": "AAABAAIAAwAEAAUABgAHAAgACQAKAAsADAANAA4ADwAQABEAEgATABQAFQAWABcAGAAZABoAGwAcAB0AHgAfACAAIQAiACMAJAAlACYAJwAoACkAKgArACwALQAuAC8AMAAxADIAMwA0ADUANgA3ADgAOQA6ADsAPAA9AD4APwBAAEEAQgBDAEQARQBGAEcASABJAEoASwBMAE0ATgBPAFAAUQBSAFMAVABVAFYAVwBYAFkAWgBbAFwAXQBeAF8AYABhAGIAYwBkAGUAZgBnAGgAaQBqAGsAbABtAG4AbwBwAHEAcgBzAHQAdQB2AHcAeAB5AHoAewB8AH0AfgB/AIAAgQCCAIMAhACFAIYAhwCIAIkAigCLAA==",
          "dtype": "i2"
         },
         "xaxis": "x",
         "y": {
          "bdata": "8BTADod8I0A109MgGQcjQOy67khJsSJAp7Nwf7jVIkDwFvsIjGYiQKPqLjvaxCFAZIp1WA9uIUDhtm2ycbghQIByFBHTQCFArngsrzMtIUA/oDQgfq8gQEoxkIZegCBAfXm4MIHIIEC950ozf0AgQLJm7kC/ah5AxDwgbo1rH0CSlqkpB5AdQC6E5VNgHx1AdTQ2ktkKHUBtM1/gTj4cQCOFGkv/ZxpAi6RUKd9HG0BhRXn6dCEaQIHsGGtQaxhArBgl3Q2LGECNjVc68fYXQPGetPXblhdA99it+Vs+GECrSVe/qFAWQLr/9tNwUxdAMdXSb+7IFUBQUQKlEp4VQKPir+55lBRAI8BthQ8hFUCX7vVjTS4UQPmHURPIfRNAoBdFauU1FEAOLs4LIIESQHr8C7MktBJA1AInOOfOEkDKainM8Q8SQLkCSA7VsRBAwATKaxokEkATqxyAGfEQQDVgkdVyxxFAoL4HnTQfD0BwX4OAVs8QQOtp1SbBkBBA0hObZHNkEECE2iZgd+QPQBbAnvvCEQ1A4eYabk6kEECmrdMQhnwPQI+dtjpGTRFAmYU45mPUEECG0Q9IeaYQQIqzFVp23RFAFVU2SJPAEUD9dLSNsn8RQHvZUCUoaRJAX9VLYg3UE0CaZdH5PRIUQEbRnPLG4BNAOmvW+J25E0DHwjoIjlwUQJUXdgcNhhRACXUpR8vcE0A5XwFZhpIVQM7eelSsAxVAtDmhdoRUFUBWSZ0RAWQVQAK4UGdS2RRAJFqu6HyuFUDLJcqxMX8VQMHLODv32xZAhfvEesitFUCxqOYWiK0WQBtKa+i9LRdAybDNqLOtFUCCVi+5V9kXQBdW8cNPEhZAS5ev+o+lFkC0ffqrB+MXQFvi6EYdJhdAwgdm85NSGEAGTrlNumAZQCbTzp+fkhlAAAFh5qocGkBIuudym7MZQPKuYYxAKxtAk9K54yIqHEC4bZycuW8cQIx6NzUwZxxA1ZApRxWfG0C9xPmRy8QdQF5npaULUh5AdAm4EaO9HUAuaqQHRIgeQMhmnN7/+h5At8YSEs+kHkA9uNVWwTgfQLM9zXxElR5ABzf2WDdnH0CShC8nJCAgQKAqDP3p0R9AhulMZmZFIEDAdWE5sDYfQA079bkITCBAKIT2XCYYIECDpkqKJhwgQB07rA/DECBAL7zYwWr6H0Aav1R2C0QgQESpxynBKyBAAfbqXlM/IEAXxkup9AkgQKsbFuVAZSBABTMEhvMAIEDuwMUfWUAfQA23m1l5LR9ApnYG3BXzH0DqBYA3hiMgQEKGUg43Cx9AZK4C2ArmHkCrPiIRVFkfQFh2h7TOmh5ATuT3+KgGHUCTEesXST0dQAL+FLPonB1AMp2f9sjDHEDqSQuizxwcQPdm6EQFRxxAHKJM4AF9HECl9SVNCSkcQAmmwRImrxtAEDRcZx9hGkBJpBlweG4ZQH5DMZNsxhhA+GBXe33bGECyhXCfDDUYQA==",
          "dtype": "f8"
         },
         "yaxis": "y"
        },
        {
         "hovertemplate": "Sequenz=107<br>t=%{x}<br>v(t)=%{y}<extra></extra>",
         "legendgroup": "107",
         "line": {
          "color": "#FF6692",
          "dash": "solid"
         },
         "marker": {
          "symbol": "circle"
         },
         "mode": "lines",
         "name": "107",
         "showlegend": true,
         "type": "scattergl",
         "x": {
          "bdata": "AAABAAIAAwAEAAUABgAHAAgACQAKAAsADAANAA4ADwAQABEAEgATABQAFQAWABcAGAAZABoAGwAcAB0AHgAfACAAIQAiACMAJAAlACYAJwAoACkAKgArACwALQAuAC8AMAAxADIAMwA0ADUANgA3ADgAOQA6ADsAPAA9AD4APwBAAEEAQgBDAEQARQBGAEcASABJAEoASwBMAE0ATgBPAFAAUQBSAFMAVABVAFYAVwBYAFkAWgBbAFwAXQBeAF8AYABhAGIAYwBkAGUAZgBnAGgAaQBqAGsAbABtAG4AbwBwAHEAcgBzAHQAdQB2AHcAeAB5AHoAewB8AH0AfgB/AIAAgQCCAIMAhACFAIYAhwCIAIkAigCLAA==",
          "dtype": "i2"
         },
         "xaxis": "x",
         "y": {
          "bdata": "LNNQ7XALIUAGcAnbjGohQF83cgslgyBAOdAHavW1IEB7tEguzrkgQLMxX97hCiFA4rE87h2xIEB00Y8imywgQFWElfO+ViBABuMX6a0aIECqAAPFcYMeQE1ODHfwsh1Atec36Vo3HkAWdEZIVX4eQMZl50wsNBxAGch1Z1QxHUC310ylH5sbQIS8EUhw5xlA+foKV2lkGUDZRPbu8+oYQCcyI+1zFhhAg3P7zU6uF0Aw++WTpiQWQP+UhD3N8hRAW8fAt4WeFECAN8gR9v4TQCBNZFHkmBRAa8jpG/EWE0BcM4h0IhgTQPjizb842hFAmE1sN5wgEkC1SHjI764SQPZyW+WEzBFASHaQCkXZEUC1HzLzPy8RQNjUyZ992BBAN+5ktNYKEkAMSYr+Ut8QQHg4I4s42w9AIslyzNE2D0AlBFU3I/QQQBBo7D9m0hBAogP6d/ImD0C+9YWbZEsQQKdl8ZsQMw1Ao2IMf922DkBZdhTQuHYOQFzU5IpdlQ5AZGuu1DWeDUAiTTOf4s4OQAsPR7VnOwtAdNUp3+ERDUAkud4JENENQJR3M+Wm5gxAyRXaw1EfDkDfbav6+YEQQMtIeA9npRBAU4yJTJW6EkBKvcgh2TcSQMTAY618cRNAbyIb6OBSE0CTN1WLP+kUQGWFHmG/BhVAez7qRB62FEDpuCimaY8WQCBJ/qphjhdA8lZJSD0DF0DYpwGxbl4XQChqRpRKRhdA+Mh2fyDaFkBg2vNqRcAXQIbDhCPqmRVA8/V/SVCRFUBJuUOBuD4UQMtEUS9FQRVA5SD5JpgjFED4W7gAR0MTQL/ZDSUX7hJAB8zvy19KFEBaMCyeBZoUQM8/nViFORNAOjb1ziExFEDwXjTOyqoTQDHD767dNRRA1l1pu/MkFUCYvN+NGWwWQJIRMU0pUxZA9XlzUKgaF0AWY2M4TJgYQDe9/W+M7BhAnH4A1AWZGkBwjcKS9VAbQB61XT/jBBtAJA1otZhhHUCi3qwW09sdQG7di2As5x5AqszJ4z0aH0Azpi8XUNUgQHNWUN2uliBA+etg8iP9IEAoAsYOsXIhQIpZrbOr8SFAVxRUc6MVIkCuCOmPhJAiQAe6oADcmCJAoeFayUWKI0Dr/MOqV8ojQCBwDzoJMyNAd2pYD0ohJEBx3P/ZO7AjQItW/Nn9USRAoCzioEI1JEAt4cyKRt0jQCMaiVqQXiRAPKaeDWybI0AK8wgOGDckQFBHJzFPOSRA4sBtWwyeI0CNlivK4GkjQHHJBtbfWSNA/JhEQFYcI0BMrifcymIjQNdyiiu11SJAb+hXhAzDIkDUR+IL8l4iQIdCmTAaTyJAeidT1YFXIkCqDzIsPbchQJZVA+ieXiFA8qbJqJnTIUCyzZsiF3QhQCWamIhicCBAwVukpUsBIUBsDdPmrtMfQJvZn/TuOB9ABSDsY+5JH0C7/E6KAWseQGlzA6hqRB1ASYpNuOhVHEDPrSLrR7cbQA==",
          "dtype": "f8"
         },
         "yaxis": "y"
        },
        {
         "hovertemplate": "Sequenz=108<br>t=%{x}<br>v(t)=%{y}<extra></extra>",
         "legendgroup": "108",
         "line": {
          "color": "#B6E880",
          "dash": "solid"
         },
         "marker": {
          "symbol": "circle"
         },
         "mode": "lines",
         "name": "108",
         "showlegend": true,
         "type": "scattergl",
         "x": {
          "bdata": "AAABAAIAAwAEAAUABgAHAAgACQAKAAsADAANAA4ADwAQABEAEgATABQAFQAWABcAGAAZABoAGwAcAB0AHgAfACAAIQAiACMAJAAlACYAJwAoACkAKgArACwALQAuAC8AMAAxADIAMwA0ADUANgA3ADgAOQA6ADsAPAA9AD4APwBAAEEAQgBDAEQARQBGAEcASABJAEoASwBMAE0ATgBPAFAAUQBSAFMAVABVAFYAVwBYAFkAWgBbAFwAXQBeAF8AYABhAGIAYwBkAGUAZgBnAGgAaQBqAGsAbABtAG4AbwBwAHEAcgBzAHQAdQB2AHcAeAB5AHoAewB8AH0AfgB/AIAAgQCCAIMAhACFAIYAhwCIAIkAigCLAA==",
          "dtype": "i2"
         },
         "xaxis": "x",
         "y": {
          "bdata": "B2/D0ZvTAkBeF1VoTNULQAM8I1OG3gxAYsqh53MGEUCXZvfgN7gRQDma7t6w+hNAHiu7cYzSFUCCWC43MGYWQA3I/jtKShdAygwEWDU4GkCqSt1ZMdUZQHbvAC4aCRxAuLlJL9AnHEAYzs0rehwdQJ04Vn9f2xxAM6824WvEHUBrewK8tNsdQB+48aHKxB1Ai2RUqhxwHEBYKsPaWJ0dQBcL8rCpiRxAY2wKwrOeHUA127WxS74cQN2SUCZRvhxAFJcNnZhHG0Ao3UDRsW4cQH3eE+FSFhtAMX26Ew28GkBClwcWOsMbQNvRoSNB6BpAti9Y3lMoGUB4gEG94L8ZQB98WETUkRdAF6WqF4d9FkCDM+96dxcXQKhgwP2EDRVAuMsSUSMFE0BM59qj5ZUSQNI6+oZethBASNDK0dziDEAoofDEXCcIQMVVEr8MdwVACuySiqv6A0AAMBZB7gIBQGEZOXV3nAFAeI+BShwiBEAOP/En3zMDQCM3gMp5hwhAyt/Ih9woDUD64nJxjn0MQBtF6FMouw9AS4LiTdCJEEDA73NU43wSQAEU+2ZrqxNAami2I4Y2FED99J/RhUEXQJ4VDy9kARdAgFg5VZkBGEAyTrwgDdMaQHX5z1kxOxxA2adJ0XpDHUDh52A+lrMdQB16QEQYCB5Ates1UK5cHkCSKDxVSiMeQNXXkm2LTh9AAwjy8e89HkBSDpnaWrAeQOInGLiobBxABRN6eMx/HEAG6nhchGEbQHGs3yK90xlAC0xVixjdF0CW9zjUvfgXQDJ7eD5HrBVAazGQyPqMFkA6+c70l8oVQLPrLY1DWBRAaWtw3pchEkAYq14q77YSQM9Z+qMJcxBA+3o7a7vEEUBng8MhW3ERQPaGUqa6JxBAWPIIeETTEEAPXcY192IOQKKgJhyCZBBAZnTYVr+mEECm8CECGx8SQGHsnbvtcBBAHh5cd49KEkCAhTDqliQSQNQGLrsWvBJATB5QD+D6EkDldnv8H4YUQORln4vtshRAXi3a1ohgFEBQyUeMQBAUQF3zBQkKyxNAujfFWkk0FUDuzUznOr0TQPSY71OJ/xNAWdWe8o6HFEC8LPDXELcTQKbJiCc3yRJA+mYAeekuEkAgZYeCPa4RQAVezvM0LBFAzapHu33mEECercpjmBAQQL7x0y2g2AxAPO2TDBnuC0Ah30oEbFUKQKvyIRjaWghAsgCZPETPBUAcllw0fekFQFGdMe1PDgNA6nrKiHMA/z+TP+cpr3D8P96gyflZ2fo/9n5YArU6+D+C+9ah6h77P65o3YQ4S/U/a09+fQ988T/q35TgYDr0P+sdTkqjZfE/izk3forl5z80pbE1i5LrP3q1Y5tjj+w/WtVGFpVy7j+3b6zpC2rxP0gyCqigSO0/YmFadwJy5z/tVbzJnCPpP2PBkpPNC+U/Hi/SN/Sf3T/11EKKwsraP768yTlFVNg/6j/FGbGE5T+WI/0IRtDjPw==",
          "dtype": "f8"
         },
         "yaxis": "y"
        },
        {
         "hovertemplate": "Sequenz=109<br>t=%{x}<br>v(t)=%{y}<extra></extra>",
         "legendgroup": "109",
         "line": {
          "color": "#FF97FF",
          "dash": "solid"
         },
         "marker": {
          "symbol": "circle"
         },
         "mode": "lines",
         "name": "109",
         "showlegend": true,
         "type": "scattergl",
         "x": {
          "bdata": "AAABAAIAAwAEAAUABgAHAAgACQAKAAsADAANAA4ADwAQABEAEgATABQAFQAWABcAGAAZABoAGwAcAB0AHgAfACAAIQAiACMAJAAlACYAJwAoACkAKgArACwALQAuAC8AMAAxADIAMwA0ADUANgA3ADgAOQA6ADsAPAA9AD4APwBAAEEAQgBDAEQARQBGAEcASABJAEoASwBMAE0ATgBPAFAAUQBSAFMAVABVAFYAVwBYAFkAWgBbAFwAXQBeAF8AYABhAGIAYwBkAGUAZgBnAGgAaQBqAGsAbABtAG4AbwBwAHEAcgBzAHQAdQB2AHcAeAB5AHoAewB8AH0AfgB/AIAAgQCCAIMAhACFAIYAhwCIAIkAigCLAA==",
          "dtype": "i2"
         },
         "xaxis": "x",
         "y": {
          "bdata": "cqNAmweHJEAM2PWzo2wkQG+I196cgyRAI8HLcORcJEBEfmlgCsEkQGgVMJ5woCRAxj1AVh02JEBfx9nDcswkQM14Vcof5SRAQZVKZvi3JEA3KoOPSnokQIldK5r3giRA11Hr+JC3I0ARYbFnqFsjQGjKv5mQQCNA7PNRMtnPIkDE1ys9hLQiQBlRy9jCECJAWltAc+ZxIkC8i6xgNZMhQKAAcDryCCFAEqeYHI0LIUBU47hBHUQgQHcDN4wlUCBAEJQPfoaLHkBKsKHv8R0dQIHaiafDlRtAAWvuuzH5G0BCAnI6lGEZQMp85KRdihhAwgiJ6AhJF0DGjuzhLtYVQARns0VSfxRAwHHCcJIoFEBPZ48ACxoSQE70UF+LbhBAywuzYOaYDEAGoGcXTDYKQMAEuAdCagxA4cAcSgWhCUD1c1eUPxkGQN3C7iJiCwFAJvbRjuHCAUD6s4B1vBT3P5CzaNUXxv0/ZxixgqnM9T/j28MgXabzPyPp4PCtv/E/D/LX+/3D8j+902QHVnnwP/SQAQ54V/c/evDDS86c+z8ZgJEN0zj6P4c6DbgTTPI/Jr0YcKrz+T+stKMn+rz6P5v9OsfUQ/w/A+TzcCbOAUB8q5HH8CADQNkJHUJy0QNAUE+riF0nBkCNVHz+KKsHQGwxAdBkHAhAvR1nu0A7DEBX/uArKLMKQCrpics3kg1AMdqN1gkqD0DL9LgJqnEQQNqHCxjwUBFA+8e614OdE0BVyS3fogwUQPzNQgapRBVAlrr0POkJFkBfkKqsNEgVQDIuryhPYxVARzQHd2PMFUABcKS5lPkUQJ/n+Lv36hVAaEZO5Bg5F0AYSNJGIKQVQJ2eeSKdFxdAsnxtNDztF0AbggqGfPYWQGnoVwuAPRhAx7tzI2APF0DvXbaoe1YXQMxkQLsmohdAAolRiTAIGUDu5eo8k+UYQHJ7ZlfxjBlA/szs/DP/GEBmFZnDt18aQFYESCKWjRpAIzdE7ukcGkAN1v1uWpAaQMcJIvFsrBhABm4/C8QeGkDSEZXapwcZQClNJO7VYhhAfMUiddUiGUAe8ZPO9hUYQFOVkyhhRxhARa01x6q9F0Ci/ggvmzUYQFNh8zQU2BdA0YLiDZFVGEAn0WbI/rIXQLNKmEplsBdARqmuxfDVF0AcAglInyEYQNkh8U5mcxdAc7OHhkvWFkB1tlpJCPkWQCnejkIKshVAq8+0qjqSFUAY2FMUC2wVQKxZelW45hJAcIniURdDFECrJv91VowSQJKMZHAu/xFACd3mwwvEEUBXEz1TQbIQQOM4+4TjfRBAB0JbALUKD0DbkG/+ALoLQAextk9QzwlAWIqj8sbFCkBSl4id1YMHQPTGmeHbkQVAWlrNE3IhBUAtZ6vCXPAFQKKtP0mALgNAwbrqPKw+/z+zleLnxQP/P3KYHPuEXPo/mYMq88yB8T+s9Hvtaw/zP5LV/Zk67eQ/jYZBjFs57j/j8mPYXr7nPw==",
          "dtype": "f8"
         },
         "yaxis": "y"
        },
        {
         "hovertemplate": "Sequenz=110<br>t=%{x}<br>v(t)=%{y}<extra></extra>",
         "legendgroup": "110",
         "line": {
          "color": "#FECB52",
          "dash": "solid"
         },
         "marker": {
          "symbol": "circle"
         },
         "mode": "lines",
         "name": "110",
         "showlegend": true,
         "type": "scattergl",
         "x": {
          "bdata": "AAABAAIAAwAEAAUABgAHAAgACQAKAAsADAANAA4ADwAQABEAEgATABQAFQAWABcAGAAZABoAGwAcAB0AHgAfACAAIQAiACMAJAAlACYAJwAoACkAKgArACwALQAuAC8AMAAxADIAMwA0ADUANgA3ADgAOQA6ADsAPAA9AD4APwBAAEEAQgBDAEQARQBGAEcASABJAEoASwBMAE0ATgBPAFAAUQBSAFMAVABVAFYAVwBYAFkAWgBbAFwAXQBeAF8AYABhAGIAYwBkAGUAZgBnAGgAaQBqAGsAbABtAG4AbwBwAHEAcgBzAHQAdQB2AHcAeAB5AHoAewB8AH0AfgB/AIAAgQCCAIMAhACFAIYAhwCIAIkAigCLAA==",
          "dtype": "i2"
         },
         "xaxis": "x",
         "y": {
          "bdata": "48zJ8RFXJkBbWcreeXckQKFC5UdDtyRAuz7Fv+3gJEDdE3ECX4YlQP+c4yc3SiVA2DErRWecJUBZk7G1J1EmQL4iqLvECCZAL+kBBkKyJUB5iZI2va0mQFolaY3UdiZAI+VNaUMeJkAIx+WfH14mQG1B0TjIkiVAs0XS4SarJUAp6j0xCmQlQD8skPRD5iRAtMzAcz5DJEAJRmDqWH4kQPkhdT/mVyNAhwe0znAtI0BqaakGD5kiQNMYOeJQ4iJAZop+GZ0/IkBfwy8EWNwhQFBzv3ABbyFAanpVffx3IEBVDQaRM4wgQDfoytjOcB9AndNvxxmFHkAKO51JZcYdQPtpnw8tiRtA3RAFk45qGkBa733A7CMaQGbzMVYQcRdAYPxryeldFUDofi6IaGMUQMDYXBJKXxRAkVbvCBgPE0BYQloGqvgTQFnEsUO8aBNAA5ac1yW+E0CL4PbPjowUQAFGjuQOXRNAkIARiBh5FEDCsSQ7TMAVQGgpsR/F0BZASA8SKqKSFkC9dAA/wToXQMKJBLGNjhdAiNTCAncyFkD7peMcT18WQJsOXKrEmxVAiSAZR1ZTE0DMM+fUGecSQPuUfZZWuw5AQUNOdhEuD0BgVjz8n4oOQC5rby/83gxAgjBjGN86EEDqAh6TIXoNQJxvVPAO1BBAlKzmbkG8EkAhRcpBkAAUQK4Q8COMcBRA7Pi1MKfOE0DWRBZ0QI0VQHS1u6uEyhVArCWSafX6FkBsNbp+WtYWQGN97duB8BRAoFRpdrHNFUDeLJctqSEVQKVntdXYpBNABW8xz9MpEkBPxPO7QGkRQMsCnCkxnRBAOD9XlhaVDUDx6EF1mwgPQJeoY5/ZKQ1AFGlDvLCWDEARDC6UfYsKQAgndBka4QxAHXV60Ut/D0Azu7rnka8NQP14Dhh+RRBAjAh9y5wREECB/GjQYtwQQKZRqrt3XxJAiBp0QZs5E0Bkpc+zblIVQNFoGdvPWxVAtOdw0mZWFkBVR2MoOwQWQPVE0jPE9RdAVdDz6c0hGUDZBULLsTAZQF+SrtkRcRlAoO9RsmmBGkCK0/MyZ9obQA0HDxAulxxApBDT1h1WG0AziMUzHzIdQGshMX/4uRxAl5FbgJk0HEDzW9fTbWwcQNW5GsSTbRxA67MBaoNcHEBuxYfqR2AcQESLwV4MsBtAd/goq3mSHEB4yv3xVpUaQF1IjTS7oxpAOuuHPVg6GkCy5Yy+hBYZQEHN5CT0XBhAUfjNTMxmGUDk3GUTv9EYQEnBB5lEWhdAfB7z2BzfFkCftwOiJGkVQJbDUveHNBRAwZfYQSx/E0AwvTPpX+8RQE0JKGS8bRJAcc2N1Y3pEED/07l+iokPQHbWkdKGCw9AH7Qd5MuQDED2W68cRD8LQGkBpdmsLglABXESOCcQBUDVp4IQTm0EQKpoMPY12ABACCoy5zfD+j8usUKyjEr8P9ZKykXmrfU/FS6Ou4fs9T9a3Ua3IJ/xPw==",
          "dtype": "f8"
         },
         "yaxis": "y"
        },
        {
         "hovertemplate": "Sequenz=111<br>t=%{x}<br>v(t)=%{y}<extra></extra>",
         "legendgroup": "111",
         "line": {
          "color": "#636efa",
          "dash": "solid"
         },
         "marker": {
          "symbol": "circle"
         },
         "mode": "lines",
         "name": "111",
         "showlegend": true,
         "type": "scattergl",
         "x": {
          "bdata": "AAABAAIAAwAEAAUABgAHAAgACQAKAAsADAANAA4ADwAQABEAEgATABQAFQAWABcAGAAZABoAGwAcAB0AHgAfACAAIQAiACMAJAAlACYAJwAoACkAKgArACwALQAuAC8AMAAxADIAMwA0ADUANgA3ADgAOQA6ADsAPAA9AD4APwBAAEEAQgBDAEQARQBGAEcASABJAEoASwBMAE0ATgBPAFAAUQBSAFMAVABVAFYAVwBYAFkAWgBbAFwAXQBeAF8AYABhAGIAYwBkAGUAZgBnAGgAaQBqAGsAbABtAG4AbwBwAHEAcgBzAHQAdQB2AHcAeAB5AHoAewB8AH0AfgB/AIAAgQCCAIMAhACFAIYAhwCIAIkAigCLAA==",
          "dtype": "i2"
         },
         "xaxis": "x",
         "y": {
          "bdata": "JgwxQ48HJkDszo9hZdwkQNiRk172oCRAh4rr6EznJEC/NffqteUlQMB++TMvSyZAtVvIeCipJkCyQ5uWXVYmQEm8lDz3siZANEOrk5W4JkAXUhWg7nQnQAyF12rGzCdAEHuBhiStJ0C/epJ5diEnQCMMXKBvziZAeqUccfvPJkCz+vPbxIgmQJ6jNQeBkiZAVJlm/WumJkCzzXZyJH4lQHZrmjvZVyVAHbVWJIBTJUA6AguQzwIlQJBnOForcSRApnffIbWUJEC+zX2Tla4jQEGNp/nWKiRAA5qXZSUGI0B0hyDhJTsjQIXSL0DJXCJAn49Kwf/jIUA86iqY0h8hQEvESaNmFiBAqeMMA9ozIEBjLxsKx9QdQFr+ZhAslRxAP7j+/kJ/GkABggXtx2MYQANkST7YkBVAniczuCx4E0Bs2E5ucGcRQFleksbzaQ1ARKkjZUniDECZy8rZDYkGQKH2jRSAHANAevCUICC09z+si2VZFlr5P3qza6CTg/Y/zcq88Z299T+s6U5+JyrvP0HNJj9fOP0/HWRlDXP6+j8Q1edgoo7+P0i4ZW09GABAGeympuUqBkCI9it0ZSMGQDuxHiWlBgVAjEjAnaKLBkD8FJk93ocLQKLBpQazrgxATXIizG6sDkB5QPuu03QRQDeTx9368hRAdMi9MoOXF0AKd2k6e+YZQKRKUVjL/RxArtshwiRXHkCAkpTZKpQgQPTsWTEwJiFAEpVrSv7mIUC01yMKsGkhQI70lBjqyyFAweGhXozIIUA9mEv7Km0hQKHu6y5pgyFArJ5sf55sIUDpk+hJoT0hQKKRD+ZeSyBAVnuPAQWwIEDqzfD6z/IfQOstUkP8sh5AgARCy6p3HkDq5g/Y69sbQCXME2V97RtA7HRL8v4qG0BQGA8sNzkbQJwEbjGOUxtAqkRqOMlmGUCyRwwxkFUbQFFc1/yLlxpAAdI1RQUHG0ABiMwHhR0bQE8bgQKgrhxA18ZyKIi/HUDv1ZOsOdQeQLtGA4pPgx5AhujKFumjHkDeT+yR+YkfQInweLPSGiBAJla0omMkIUBrX3Fj0/IgQCC07OjsDiFAwHoT1FzzIUCkBWc4XBciQCEkWn80+CFApJmSKGV1IkCAZx46DH4iQNSG6fvGxSJApq+fsZAaIkBQPWqcCvghQO4rM24inSJAerbrhVk7IkAgXsrpyz4iQKRxuH/ObyFAQBzE+wHuIUCHbyrYpb0hQA8i3HahsyBA6cOsnbDTIEDD/ZtsLYIgQO3zl8bkVB9A2xeGtm8QH0B+AU95tmQfQLh5eXTMlR1AUosyknROHUCnUYpysbkbQF39luXKMRtAZPAyrU8sGkArrsO35oQXQNuWX5liFBdAJmnXXc/zFEBmACnGH5cUQBqXiVE/1RFAsHRikPRdEEDxoSwk5LoPQONICVJ59Q1AL/s28kJAC0AyW88YRVoGQCezK8lqigFAIj30FSuB+j+XyUIOa33+Pw==",
          "dtype": "f8"
         },
         "yaxis": "y"
        },
        {
         "hovertemplate": "Sequenz=112<br>t=%{x}<br>v(t)=%{y}<extra></extra>",
         "legendgroup": "112",
         "line": {
          "color": "#EF553B",
          "dash": "solid"
         },
         "marker": {
          "symbol": "circle"
         },
         "mode": "lines",
         "name": "112",
         "showlegend": true,
         "type": "scattergl",
         "x": {
          "bdata": "AAABAAIAAwAEAAUABgAHAAgACQAKAAsADAANAA4ADwAQABEAEgATABQAFQAWABcAGAAZABoAGwAcAB0AHgAfACAAIQAiACMAJAAlACYAJwAoACkAKgArACwALQAuAC8AMAAxADIAMwA0ADUANgA3ADgAOQA6ADsAPAA9AD4APwBAAEEAQgBDAEQARQBGAEcASABJAEoASwBMAE0ATgBPAFAAUQBSAFMAVABVAFYAVwBYAFkAWgBbAFwAXQBeAF8AYABhAGIAYwBkAGUAZgBnAGgAaQBqAGsAbABtAG4AbwBwAHEAcgBzAHQAdQB2AHcAeAB5AHoAewB8AH0AfgB/AIAAgQCCAIMAhACFAIYAhwCIAIkAigCLAA==",
          "dtype": "i2"
         },
         "xaxis": "x",
         "y": {
          "bdata": "My2rVhVNGkBZtahQtJUaQFQFkHttsx1Abh6wYzA9IEDjdWjfLxwiQJd+cO99ZiJA6cKWy04EI0BFJlHv3yIjQMDCOMZuHyRAMCYbJrIjJEBvDpWh9QkkQA+gQaPVtyRAj+HapQCuJEB/ndKc9BclQOhE5Bq/gSVAX6wdnUdbJUBSpMIFAyklQLd/jIWHoSVAUQOrO0v0JEAdcAe5mjAlQB87NgQHmCVA3QMeOdT6JEAEe07rvLMlQH+d2eRELSVARv4Au+ueJUAUY0JDenIlQDSy/umoHSVAwIknZZz6JECrzFMcjrckQCinBqzjOCVA+T/jIXq4JEBMr4RwnSkkQFySo2uNziNAxHkoIuREJECu5Tj1+JMjQOMZDY2P7iNAXbodXAwLJEBJWa6Dn2YjQMpXrvLoayJAK4S3kMccIkBgT4Q+sMkhQDUInYok3yFAiaAtGHhlIUCiiz7TPQshQHQ66eYCrSBAQQEFcTvKIEBkN5mCfOofQCoKyBbMsB9A2lSygkcNHkDQeChtw7sbQDh1XPvadxtAsqyynX4LGUBgr4el0RgYQNyc+d8iuRZAzmp2GJ+FFUDSKrLh/MQSQDVsSDQ9cRBAlnCzOztEEEDU7+oiazEPQGe/qYtb3wxAub9vxDasC0BafSY32WYKQI0rIuQ4MA1A630d4dldDkB9Gc07isANQBe862YMXhBAtaxROZUqEkByvorGdCUSQMwS+Y5rqhJAcCU7djrEEUAY6s6w8PQQQKIX7e2+FBJA228PjVOnEUB6OFSnR1oQQP7MRG7S5g9AjOdkpEppDEDo62qgLw0MQPOBFnRFzQpA/Sg0RtZRBkC58sdhE0wIQAXBpQU1PAdAOmBEW5o7CEBgKUWL4GkHQNZE3H1SggdANQydjXgbCEAR5iA9dQsIQMMYir+V7wpA+vNr+TabDECraRffxgsMQMZ9iF5E8A1AE4DChDCbEECSf7G7uC0PQK2inY68oRBAt/2sJJIaEUBihN1NbsUSQIe4qmbBlhJAic1k4M6JEkAcw001uB4UQBwkHqlXNhRAKjlN7GsZE0C3vV2oYhsUQJRSkeVXJRNAMwfIiQTeEUAuXP0mstkRQHoLxaanDRJA/YrgBoQfD0Dr+tZCcXEPQAvXKdoFQQxAsJQ6as/YDED+boCfjeMIQOX5/npL+wZA2eYeuPrAB0B7iFg+QN4EQM349lfhiQNA1hYyeIAmA0DiIK1T4hYBQDkFHt1C0P0/nPyNkRoE+D+FbiaaEAD7PxwWlNXx2vQ/kIKC2Ys39D+wz+6jZG/qP1q7uaQlBPM/BfUXgQru8D9UyMhPO1fvP91OvzYpDfI/BRgDxNKA8z9u8TE7f/DoP2MNtkJ50O0/VNAgkE+k7T/QDnSlKNjxP450MVwdl90/OgLSQKUw3z+16NEPjKPhP3kcsMRXFuk/blVOuKzs5T8ryRetSgvsPxJFnuMoX+k/1+piu6TC5T/sNXJjj6flPw==",
          "dtype": "f8"
         },
         "yaxis": "y"
        },
        {
         "hovertemplate": "Sequenz=113<br>t=%{x}<br>v(t)=%{y}<extra></extra>",
         "legendgroup": "113",
         "line": {
          "color": "#00cc96",
          "dash": "solid"
         },
         "marker": {
          "symbol": "circle"
         },
         "mode": "lines",
         "name": "113",
         "showlegend": true,
         "type": "scattergl",
         "x": {
          "bdata": "AAABAAIAAwAEAAUABgAHAAgACQAKAAsADAANAA4ADwAQABEAEgATABQAFQAWABcAGAAZABoAGwAcAB0AHgAfACAAIQAiACMAJAAlACYAJwAoACkAKgArACwALQAuAC8AMAAxADIAMwA0ADUANgA3ADgAOQA6ADsAPAA9AD4APwBAAEEAQgBDAEQARQBGAEcASABJAEoASwBMAE0ATgBPAFAAUQBSAFMAVABVAFYAVwBYAFkAWgBbAFwAXQBeAF8AYABhAGIAYwBkAGUAZgBnAGgAaQBqAGsAbABtAG4AbwBwAHEAcgBzAHQAdQB2AHcAeAB5AHoAewB8AH0AfgB/AIAAgQCCAIMAhACFAIYAhwCIAIkAigCLAA==",
          "dtype": "i2"
         },
         "xaxis": "x",
         "y": {
          "bdata": "dBCOvORaI0BFuROV3L8iQDrdFyUsKSNA5phDINTXIkBxaq+T0X4iQLlwoSss3CJA3fpnBX8ZI0BAh3Tp9bMiQAvzk9bUkSJA4SRfBMAMI0AVa6wHbsoiQKh8htNNpiJA4zlzg3+vIkDEIelaBdEhQE+GDDlIyyFAyMb76gXTIUCSh3cx374hQO8tc4ncZCJAh68MFhl8IUDuHTTbIAoiQGhF+DQg2yFAbAFg8oJvIUCuM/C78hAhQPr6coSxSiFALihqNwzDIEC/dY+im9UgQCQNYjW8myBANPDnIA+lH0A7wFXMn9IfQP2N5A7ZZx9AId8nBvWHHkD1LsMTMVAfQLoDt6BFAh9AjMHN05OQHkC6QuAgHGkdQGudRoB6wR1AcgbTUDCMG0AwyYrXTI0aQPswpS1+dxpAqor6tzPrGkAWfy3WwoEaQE+CbwZijhlAIxnJysWhF0Ck/KOc3osWQA9NNj8MvRVAZoj8zcK+FUBEvq63UuMTQJw8owtdfRNApogxgfiBFEDYbRuavSASQNN03xvhMBNAPnfX4zdZEkA8j4o3yIETQN0DegpE5xJAfc/upilhE0AiSEM3r14TQFgTJBhdZhNAzw3CxGeCEkBmVUAnzycTQMsMYNmSAxVA03eoaHK/FEDHL+/vP8IVQOot2TbMiRdAgiCLChqBF0A0pc/2JxwXQIK1Ar+t1RdAdOZgkrdpGEAbsqYz64YXQGl0H2k1nxdA1W8cTDRJF0Bmu3kUk8YXQKbuxVwaiRdAV8Nk1II/FkDAqUEJafoVQP+Dk1VDQhZACdJ4aDpaFUDcXh3a7R0WQJRn0YVjYBVAMIXR38JkFUB73GAPFRYVQKh1bOhMjRZAyqjKrvV0FkBL9kRE+WwWQGnHBHh5bBdAWgXxNPpOGEDHZLQTcR8YQKhOXTU7xhdAxECdkE5rGECeJ3UV9y4ZQBxvoQPVzRtAIajAQ3cFHECbrTEk4sMcQBrkUP8CuxxANyE93ZynHUCCd1TxyFAfQOw/xp4kDyBA23/4FMuwIEAUQqLeuUMhQIUcBPGNJiFAZ3UBndpaIUAX1XfAOiAiQIuLgmqB0yFAko3P+d7+IUDXg/eMROsiQP6ne1WjvSJAUs38kpufIkBrzuTbLEMiQDcdewRVYyJAdtSZnhCaIkAMjzzOBjciQJhWAxF72yJA1+eWYi5EIkAFC6EE67QiQP/pSTe+MyJAqrbM9CVuIkAjze5CvKwiQCszCFVp+CFAnyaMvuJwIkClLinva7ohQIj16DpOpiFAqBhFw6qcIUB+yLV/G74hQPi95RWC2yFA2OEMt0dRIUBu222Ee7AgQAQLLnKS1SBAGTpE9Rw/IUD2jakQLbMgQD9ZU7e7FCBAnXHSmmF4H0AnvzmRyKgfQAqpWZgMpR9A11qP/sfzHkDmRTBVn1EdQFt5YoFhOhxAgVA8iRrRGkB+xZbozRUaQNG7aKvBmhlA1mVEP1TWF0B42S+APKEVQA==",
          "dtype": "f8"
         },
         "yaxis": "y"
        },
        {
         "hovertemplate": "Sequenz=114<br>t=%{x}<br>v(t)=%{y}<extra></extra>",
         "legendgroup": "114",
         "line": {
          "color": "#ab63fa",
          "dash": "solid"
         },
         "marker": {
          "symbol": "circle"
         },
         "mode": "lines",
         "name": "114",
         "showlegend": true,
         "type": "scattergl",
         "x": {
          "bdata": "AAABAAIAAwAEAAUABgAHAAgACQAKAAsADAANAA4ADwAQABEAEgATABQAFQAWABcAGAAZABoAGwAcAB0AHgAfACAAIQAiACMAJAAlACYAJwAoACkAKgArACwALQAuAC8AMAAxADIAMwA0ADUANgA3ADgAOQA6ADsAPAA9AD4APwBAAEEAQgBDAEQARQBGAEcASABJAEoASwBMAE0ATgBPAFAAUQBSAFMAVABVAFYAVwBYAFkAWgBbAFwAXQBeAF8AYABhAGIAYwBkAGUAZgBnAGgAaQBqAGsAbABtAG4AbwBwAHEAcgBzAHQAdQB2AHcAeAB5AHoAewB8AH0AfgB/AIAAgQCCAIMAhACFAIYAhwCIAIkAigCLAA==",
          "dtype": "i2"
         },
         "xaxis": "x",
         "y": {
          "bdata": "qu1RKQhBIkBb1REp6E0hQJDGGLB6lyFAle03Rs7lIkAuyR/ueCcjQIn0diPERyNAVrhukyi8IkDpkXmWvFUjQEQ7H/dooCJAwjKGcr7kIkABQKG7s50iQDgo+ORdMCJAXN5nz8eVIkDOwSAOCc4hQNCm/lOr0SFAy1bf9m0UIkC3YQ/MO8khQMXVGxe6YyFArh87Y127IUAfdSCd1WohQD0PgVSzPyFAGJzslLjrIEBIiCDF0tMgQAImlpzKYCBAdjq8wqqrHkBtKWgQ0KofQNBZRQY9EiBAm3a14sjiH0CFAXwPuDghQPAu0eMbmSFAgxrVkQkcIkDELGa+P38hQCjcIXi7LCFAPPvchD0xIEDnVkhYMcAeQHX10YuwpxtA7V6x+uyrGkAT4MBr6ngXQPjai1/bvRRARPwYTDkRFECRuf3VsUkQQDdyFc41fAxASB9EpfkCCUAdwcCupJwFQOSh7i7SkgJAijzwzufi+D8IMDO6lzrvP3pEEbNjE/A/Gt8ET9358j/q/tKpyyHyPyN6JS4iO/c/xvtoJbL79D+hHfDNUYD0P6fzxC7QZP0/gRTTwgJiAUC6BdWxfVYBQMyteMRyiQZAYAuyzF+xBkDminsNAMgGQFO5Wr9CVApAVbq63tDgDEDwsMVmLDUMQHI2I0wOjhBAhD8sqroqEUA5meE4q2ATQA6egkdXDhNA/Dk/e3jXE0DRTdHxW1gVQJXvX2Tp3xRARG2MCur/FUBw8Dc1GLYVQNYreHFsKxRApAURWgmFE0C5jzvqQZoTQIxc2dBSORJA4bHX6mVhEkCz3FnksjsQQFyQIKea0A9Aw/raPCD6DkCoqIxQcVcLQEYEEPM9ngxADYd6pjX7CkDuDZ0nUL4IQA7n/LPLuwlAe6tU4ayODEAws9o3tTYLQPNGJAl8bQ1A4SihXKJAEEBqQy6DqIsRQOke7fUgXxJAveA+sV0vEkCKU5IjLtYTQH7yfZyvpRRAUTL+FIcpFUACs+BJ5y4VQA1+17Gk3RZAse+hNVYEGECoJg6tOmkXQCNKKVrzthhAteI27dPbF0BtD5f+fs8ZQE/HYTFgPBhAd5qebb66GEDtYYmXgWEZQIE2b9X+ixhA5m+qeeQmGEDMeYYz0qwXQEBSbIYdFRdAjtC7zqIFF0BC1Ty0aDQVQGidX+9BZRRA4SXF853fEkBhJCFx3qsRQDtWqrhUuRBAnzZbwCqAEEBk4GJPoo4QQPrhbjpJ7AxAePcOkcFYDEBzMDv+1H0HQI9ouYLsQghA3R5cuNSVB0AOiHeqVJICQC1A2YJoqQBAR7ggYN5gAUChJRNkul36P3dc11FlNQBAvY8sGFDp9z9aDXUFyof1P268MDc2cvs/bNPlzwfY+D/64BjPpJPvP+9N0ZT+gvA/hv2qE5AB4z9d8j1ABdXuP0Ca8DFLE+w/rhurHUBk6T9Xug5gyKrmPyp4y/fO7AdAZ9OSbfhtDECur4eDotEMQA==",
          "dtype": "f8"
         },
         "yaxis": "y"
        },
        {
         "hovertemplate": "Sequenz=115<br>t=%{x}<br>v(t)=%{y}<extra></extra>",
         "legendgroup": "115",
         "line": {
          "color": "#FFA15A",
          "dash": "solid"
         },
         "marker": {
          "symbol": "circle"
         },
         "mode": "lines",
         "name": "115",
         "showlegend": true,
         "type": "scattergl",
         "x": {
          "bdata": "AAABAAIAAwAEAAUABgAHAAgACQAKAAsADAANAA4ADwAQABEAEgATABQAFQAWABcAGAAZABoAGwAcAB0AHgAfACAAIQAiACMAJAAlACYAJwAoACkAKgArACwALQAuAC8AMAAxADIAMwA0ADUANgA3ADgAOQA6ADsAPAA9AD4APwBAAEEAQgBDAEQARQBGAEcASABJAEoASwBMAE0ATgBPAFAAUQBSAFMAVABVAFYAVwBYAFkAWgBbAFwAXQBeAF8AYABhAGIAYwBkAGUAZgBnAGgAaQBqAGsAbABtAG4AbwBwAHEAcgBzAHQAdQB2AHcAeAB5AHoAewB8AH0AfgB/AIAAgQCCAIMAhACFAIYAhwCIAIkAigCLAA==",
          "dtype": "i2"
         },
         "xaxis": "x",
         "y": {
          "bdata": "k2ZLbaAwEkCPNmunUAsWQH3uBy+dmhZA1J+rISTIF0B2L7xv5OMZQKohSBHh+xtAf/KvEnKPHEA0tR4x3accQGVbn3Hfkh5AFtgOISdLHkBkhARoMn8fQPTzFUA3Rx9AbnPzAmHbH0AqeaArNwIgQD2LM/I0KB9AkJolE3cEIEDm47eU+/AfQHttt88VGB9AJLrgy9XOHkCU5J/wZ1cfQB64/x6lTR5AIjCGwGhYHkDXYLhfd8wfQOWZsQ9lVh9A6mCqGr5rHkDyhmn5nkMfQBoZ8+aWOx5AbsEYHFfRHUCjh1DPLkEdQO/DqH6RPR1A1cPOza6BHUB/p9VMiMgbQHDB5WG+ORxApsEj1u1JG0DWi/fzppMaQArrKPFe4xpAWbnxL1mUGUAmZQ9x0dIYQF32tLxd+hhA+/7znBMYF0Db28UR3q0WQLQPaSsyTxRAl9GHnq5oFECeBchf2fUUQPZku9FCwxNA3NpNSu7dEkAaKWAEnUkSQCCglrpwERNAm9/9do2OEUBNON0Kgh8SQEW4j2ElIRJACHz3PsbDEkALnqErVCgRQIiOZrNmmBJAxuKKU8xGE0CmdgkwhdwTQBioECATvBNAGdzr5jUMFUCOz93F6xYWQAMkMlKLxxRAB8yn82SWFUDXT8Qf5QsWQCOTIcdhUBdAHdBf30BtF0AVKwxMPVEYQDityNUFQRhARY+k4ZmEGECGW+xHeWYXQI4l2nGA8xdAIxocysq0F0DHsV+ZYg8XQH2L29VGXBZArYWOgkcVFkDTcNsFHpMVQMnjIi+2mhVA88XaodwaFECekRgpcyUVQNPSRzn8pBNA9cEo2sjpEkD6xDVDpkIUQBZ5GU7RuxNA7A209mi/EUCSdzUDlZQSQNVmNTVvHxBAxheIxcljEEC7ycY/ESQQQBJS9YrNig1AvKilngBGCkA1lOam5LwJQE/4oc77/wdAZRovtGOgB0AcZosojdoIQPoPgjpaGQZAi5FQSpgrBkCIdiWqkNsHQCF74iwetQdAk8iJ8PmeA0B5C1EEdpoCQJ/xVRrSlQFAbb1LVRzyAUAW7x7qJT4AQEImY1bUI/k/WI28CP/F+j9PgtHDBejxPzkDM0cH8/E/Z+3Ar1Aj9z++CuRvcz3yPyuf3/DnCPI/SPMOXT7U8z/Ch70jFoXyP31QK9vo0us/ycViEDP17T/FhVogHIbfP4JBZqzAYfA/i5plURaP7j+MWdecO6HhPxKKHBCHP+0/LLPQn6Ka6D+4Rjcm+2/nP0j7HtvZ3eY/lK5RgOic2j/KFNMRFqvmP7tjzZkFt+w/4Mvwo5hM4z+ecWnCzivoP5L96B+w3+Q/0PNm9ene4T84Ij5VVb3rPxz+OAhXbus/vIwOzz1F7z9cqhx6n1ToP6EEHuL/0uY/cN0UP4/W6D+x25QWrv7cP0bwgtSuduQ/WG2gkYmf6j+gFVNo2wriP0Fvdd21N9s//7X6v7oH4T9c4Zt2pCjhPw==",
          "dtype": "f8"
         },
         "yaxis": "y"
        },
        {
         "hovertemplate": "Sequenz=116<br>t=%{x}<br>v(t)=%{y}<extra></extra>",
         "legendgroup": "116",
         "line": {
          "color": "#19d3f3",
          "dash": "solid"
         },
         "marker": {
          "symbol": "circle"
         },
         "mode": "lines",
         "name": "116",
         "showlegend": true,
         "type": "scattergl",
         "x": {
          "bdata": "AAABAAIAAwAEAAUABgAHAAgACQAKAAsADAANAA4ADwAQABEAEgATABQAFQAWABcAGAAZABoAGwAcAB0AHgAfACAAIQAiACMAJAAlACYAJwAoACkAKgArACwALQAuAC8AMAAxADIAMwA0ADUANgA3ADgAOQA6ADsAPAA9AD4APwBAAEEAQgBDAEQARQBGAEcASABJAEoASwBMAE0ATgBPAFAAUQBSAFMAVABVAFYAVwBYAFkAWgBbAFwAXQBeAF8AYABhAGIAYwBkAGUAZgBnAGgAaQBqAGsAbABtAG4AbwBwAHEAcgBzAHQAdQB2AHcAeAB5AHoAewB8AH0AfgB/AIAAgQCCAIMAhACFAIYAhwCIAIkAigCLAA==",
          "dtype": "i2"
         },
         "xaxis": "x",
         "y": {
          "bdata": "ihnV/K5oJUDjrt3LRS0lQOcEfNDcQSRAn+Y1JMhNJECZ6Z4V0aUkQLivtAmPjCRApRpO+uXRJEAMvU3qzmskQPjWrg/heyRANmjOBABXJEDKy57b2U4kQHpdHEA+MSRAAPylOq+UJEDFBn7wJeIkQE192R1ypyRAkvKR8h+WJEAl3QE4fR4kQCT6Z+SkzCNAtnr+VjE0JECf04gfARUkQLYnRtpNRiRAm4sJAdNnI0AimtPxcp0jQO75WNbSCSNAx/6/eeYPI0DP3hrPfT0jQOl/ZhfxTCJAD5jKCUdfIkB96aUayksiQL5xTRREMyJAE9G5kyHYIUAzUf/8RvEgQEcno6bemiBAaKcAsPZ4IECZtj3YsisgQFn3wD4zuR5APqrojtYNH0DJIUJCbp4dQKOgQZtrzhxApL1Fw3ozHEDenBd1OgMbQA7zaZJrSxlAIWy7/YsMGUCEr89SA8gXQHFfgKCmIBhA3MjLpQTDFkBUuXpaRv0UQLccPtmrvRVApaS3K+ltFECqrZDb1yMVQEBjL+89cBVAQ/kYwRmoE0CP001UVb4SQNsKmZ3PZRRAZgjRNSCvEkBcDDxdUCQUQCXQnvgNJBRAWoZsCAouFUAbVrIEdEcWQHEf4ueQ5xZApsaLT8esFUAOIQg6BXoWQE1CR6tkOBdALShIuw2pF0CIkgmrxFYYQATdC/UWkBlAPa4hCaH8F0BI+BKB86cZQEhaOfV+oxlA1xQeDFQKGEAiFUFbdFUXQHYHyPmukhhAlupqODJFGEB8aDBqsyMWQO2MPIjwbRdA9g92pJDVFkCHd/4+EhkXQLgiomeuJxdAn6zLGjwZFkBJLr1vqQMXQMbQqlhXSxVAHwoZMv7qFkCWtTO4E3MWQMpt6OVIhhdA41i+po4tF0BsykKGPXoYQGpSdWPJWBhA3XyQrNuGGUDUd3KRiPUYQN7plejEGxtAJXyk5TkIG0DRKyJ62L4bQFWfyqmHbR1A6ubuaZj9HUDOnopgx4weQPqIFrz+0h9AwSKsmgqTHkCzJ986/+gfQPuWwKNsVh9AMjHfmt9PIEDtDD6IV/EgQBNW25cHhSBAKN+Jl2uTIEBFYZ+GdrcgQIfz4LBqASBAngBMq8SwH0Bdy8Tj/iAgQIYs/aAFWB5AT0xW4xmsHUDCPoYJHPMeQOYOvj6ZKB1AC9qNQRlUHUDEn2Two0ocQKAXglE+uxtAGuomPPyaG0CH7TffEeYaQDEOc7MgIxtAiN7WMg8oGkD0fIKYSsYZQMxLnCClYhlAsbqnMTRFGED7AmhgPM8XQJfx0Q2fERdAqhrB7XF+FkA8wGc47sIWQIrz8aRmRhVA9+NvCN8qFkAhI6uzPyIUQBxeoapUOhRApY8QJ8brEkA4WUuDVX0TQCaaCZ6u/hBAiMwR0ujiEUAikHKgzZ0QQBFZmTxyLRBAE4m3GuxfC0Dlg9BcUOcLQJiIePn7AAlA4TiOOyuQCEDiJCFLhYcDQA==",
          "dtype": "f8"
         },
         "yaxis": "y"
        },
        {
         "hovertemplate": "Sequenz=117<br>t=%{x}<br>v(t)=%{y}<extra></extra>",
         "legendgroup": "117",
         "line": {
          "color": "#FF6692",
          "dash": "solid"
         },
         "marker": {
          "symbol": "circle"
         },
         "mode": "lines",
         "name": "117",
         "showlegend": true,
         "type": "scattergl",
         "x": {
          "bdata": "AAABAAIAAwAEAAUABgAHAAgACQAKAAsADAANAA4ADwAQABEAEgATABQAFQAWABcAGAAZABoAGwAcAB0AHgAfACAAIQAiACMAJAAlACYAJwAoACkAKgArACwALQAuAC8AMAAxADIAMwA0ADUANgA3ADgAOQA6ADsAPAA9AD4APwBAAEEAQgBDAEQARQBGAEcASABJAEoASwBMAE0ATgBPAFAAUQBSAFMAVABVAFYAVwBYAFkAWgBbAFwAXQBeAF8AYABhAGIAYwBkAGUAZgBnAGgAaQBqAGsAbABtAG4AbwBwAHEAcgBzAHQAdQB2AHcAeAB5AHoAewB8AH0AfgB/AIAAgQCCAIMAhACFAIYAhwCIAIkAigCLAA==",
          "dtype": "i2"
         },
         "xaxis": "x",
         "y": {
          "bdata": "A6izCij+I0DAN8eVL3YjQA8KhuxH2CNANIVx1DJ7I0DRmRNFABAkQHnaqoovnSNAiLxH6AofI0AhsaOZrUYjQGWvKR2n5yJApCSu0DFRI0BSM9BXtpAjQJT2VSkJMyNAzsR93rB8IkBCkKOfcFcjQLYQz3Jd0SJAu6iTxC0SI0A7jZzpa1MiQJ0E6x+e+iFAVTqaxfP6IUDkWFoFLhwiQF1Vmc6S6SFA3J9+FAfyIEB1kzfj/nchQKsYB87XjiBAiBVoes3eIEAkrrBIl88fQJSuQ26buB5A+2nQxVM/H0CFfLVHjHUdQMrpVS43Cx1As6jzAVT+G0Cfyb6h6GwcQGSWBDnIGBxAt6/Zc37NGkBfTaqX5GEbQLjbfoBG9BpANcFnNz1nGkDuGYNDRIUYQMZntBccTBhAaVk8ySdvF0DJl7Qw3okVQJ7cWfELsxRARgQb0EILFEBT1fEmwPcSQLEh1NcWoRJAXEBne+UzEUBGb0SG0SMSQIjo5XHdQhFAeOM9oDJKEECgMqwtt6wPQOYBmJqxFQ5A3bFFBaNwDEBsmnQhSKkMQJJxJK1/DA1AL5pPj0F0D0B34CpCNiQRQG5iQLZNYg9Aw7VhsnmqEUDXYYDzl+0QQKeNQCM6TRFA+YKfgDDmEkA7l3VF6CoVQG6u7x5OxBRAlWZv76sPF0CenFuXZPEXQM4vS1NnaBhAthFSn57RF0D1WAqU/sgZQFiQrddvIhpA0cpZmpe6GUCVP/VFScEaQKyrdIMrCBpAm6HNi26cGUD2luyEVW0aQCVVdHh5jxlA+F1xBKYiGkDa4MEjlBoaQOhqexrnoRhAzErncCeEGkCVoJDEOmgaQHAzbn1GnBlANsO3nxSCGkA5VGWFEf4aQLaXex967BtAF0PdamE6HEAeouImRm8cQGubPzWaDx1A8zJ8XUw2HkAeoeFhnmofQOmYPZfIMyBAgrEFpQBtIEBfS16HAIsgQJ+nhNxeZCFArbYM9aNpIUDUpPjmjB8iQJoTxKr47CFAR6lwUqs7IkCGDTBdPq0iQB04wbj4XSJA/sniyrHsIkC/hcisvHUjQDcsn9/lcyNAnbqvRMhlI0BXeHIpFD8jQDIkYDls3iJAUodlV+eQIkBoVTZ0RMQiQF7RYeCpdCJAaQV1x5+YIkCyzXcesfkhQEBA36TpDCJAfF7KcpFuIUDq3itFBNwhQFJpzmWC6iBAyDGwomCZIEBGpJfi5QQhQDahi6TCRSBAYI04r6CAIEDDwjjkNzIfQN8nYG3Orh5AtS278uPlH0ANoQQDNZYeQBp/IgTUDx9A1xjIQLteHUCjbKigevIdQCKddEmI8xxATemLfi7gG0DkOJBrbdEcQByNgou31BpABnwhF2zwG0CsCXFqOZAbQKmCRm/TQhtACSJj8F0jGUB9In8VNKwZQGDTVNwGHhlALJIragbDGUClvto4JREZQPY7lF5BJhhANgkAvT6dGECiuDbDU0wVQA==",
          "dtype": "f8"
         },
         "yaxis": "y"
        },
        {
         "hovertemplate": "Sequenz=118<br>t=%{x}<br>v(t)=%{y}<extra></extra>",
         "legendgroup": "118",
         "line": {
          "color": "#B6E880",
          "dash": "solid"
         },
         "marker": {
          "symbol": "circle"
         },
         "mode": "lines",
         "name": "118",
         "showlegend": true,
         "type": "scattergl",
         "x": {
          "bdata": "AAABAAIAAwAEAAUABgAHAAgACQAKAAsADAANAA4ADwAQABEAEgATABQAFQAWABcAGAAZABoAGwAcAB0AHgAfACAAIQAiACMAJAAlACYAJwAoACkAKgArACwALQAuAC8AMAAxADIAMwA0ADUANgA3ADgAOQA6ADsAPAA9AD4APwBAAEEAQgBDAEQARQBGAEcASABJAEoASwBMAE0ATgBPAFAAUQBSAFMAVABVAFYAVwBYAFkAWgBbAFwAXQBeAF8AYABhAGIAYwBkAGUAZgBnAGgAaQBqAGsAbABtAG4AbwBwAHEAcgBzAHQAdQB2AHcAeAB5AHoAewB8AH0AfgB/AIAAgQCCAIMAhACFAIYAhwCIAIkAigCLAA==",
          "dtype": "i2"
         },
         "xaxis": "x",
         "y": {
          "bdata": "lTxVHrC5HUBapIKDnYodQA3XHx9zwR5AbIvP0sWLH0CR+nunDSggQL2PuiSKcSFATnv2uQDrIUDIRwbRY/4hQK28OOUiEyNA5ElAu8zeIkCe7xdwXB4kQEFAb1vGtyNAruVG4shxJEAOxLJX+IIkQOd7r5G6FiVAFHzieZOZJUCwnt+7acIlQJ8Qf1jmGiZA293KgACQJkAFVtdtFOkmQLCNFL8LNyZAyrdD34m+JkAyUV+vYewlQJeA8mTjryZABM9MvnAFJkAAh/CQQhcmQLcNKWnf0SVAHoZ2p25nJUABeAdtPBAmQFtXEn8geCVAcl2FTohSJUD73KiObOAkQD+gFXP9HyVABjKpf7GUJEAW5f2V/jIkQAhtiisTIyNAxCM1XhclI0COxn+noQMjQNzyGtF1+yFADmotjDOtIUB9GhlbkmYhQHiX/ajPTyBAplrWiSzBHkAnzRFOGJsdQOhISbU+0BlARqwAaL+nFkDB8BWhDCASQNhaTprECwtAVIu5NQCFB0CmQvu42bsEQKfoYMpvKf4/OV1p0ter9z/UB/N/xToAQDlyT7NH7wBAlE6VAjtDBEBQJ59yBmoEQMOwNen+eARA0WfXgWa0B0C2J8S2WmcKQNcqkOG/Og1AcnEY43CXEEAFUIjnt04SQEaH0Z7GARJAvVdwcxu7FEBomTybVI8VQFzq7joq3hVAfVSBsxr3F0BRs+PsQnEYQNqrTwL0dhlArPvfJ5QXGkDuKov+54MYQP4pVjO20xhAFG3pCNrgGEBFr6Lu3IUYQDSxPv6mEBhA2hBCfraNF0DFC+t2Tp4WQOrOtdJakRZApODFdbqgFUBQyUJUc3MWQPihdnPTvxVAGeAFfhNQFEAT4zWMSx0UQFgnzqq2JRRAihBSnqchFEC7zA51t8YTQKTYA+2C7xNAL9J+s/JxFEAwQF9MPWIWQBrTh2Aq0RVAJlHgQqa3FkBYK9QW6kIXQFqUYyhf0BhAh9j9RDG/GkD7ZTRG5UUaQPzhJnCr1xxA/8ZPIKDkHEC/l97xBqQeQOh78OCqkh9Avi++HkGSH0DsGNvp0wcgQEFOcUzV2CBAaHelQ66wIED1mDS3RNEgQDV6vXVafyFAD+wS6+RtIUBOWAxr6TEhQKlViP6k4yFAXPy6USoLIkBwHr1e4iMiQB0EjrnHjyFAp/2XL5DPIUAU0cxyIVQhQLHyxGqIqyFAqKLrwhbFIEAcBIw3mB4hQD6oznXi3CBAPcWCbfOpIEBZhqDxgxAgQHUdrxJ3ex5AlXvEA4ECH0CQdYy26cccQPPl+GQCehtAZR8iBDfNGUDSS8JP4UsZQDvrm/erNhhAht6MttkKF0CV7ZXewaAVQFEH15Ll5RRAQyWjEy53E0BTyQcT+xoSQDtb357l/Q5AJ1bgPYq9DEAnOP6mk+UGQFpvAh9V6QRA1uwpmLcjA0DmvhY6Xjn9PwAqCpB9e/c/kso1/BRD+T+6cWGSolD5Pw==",
          "dtype": "f8"
         },
         "yaxis": "y"
        },
        {
         "hovertemplate": "Sequenz=119<br>t=%{x}<br>v(t)=%{y}<extra></extra>",
         "legendgroup": "119",
         "line": {
          "color": "#FF97FF",
          "dash": "solid"
         },
         "marker": {
          "symbol": "circle"
         },
         "mode": "lines",
         "name": "119",
         "showlegend": true,
         "type": "scattergl",
         "x": {
          "bdata": "AAABAAIAAwAEAAUABgAHAAgACQAKAAsADAANAA4ADwAQABEAEgATABQAFQAWABcAGAAZABoAGwAcAB0AHgAfACAAIQAiACMAJAAlACYAJwAoACkAKgArACwALQAuAC8AMAAxADIAMwA0ADUANgA3ADgAOQA6ADsAPAA9AD4APwBAAEEAQgBDAEQARQBGAEcASABJAEoASwBMAE0ATgBPAFAAUQBSAFMAVABVAFYAVwBYAFkAWgBbAFwAXQBeAF8AYABhAGIAYwBkAGUAZgBnAGgAaQBqAGsAbABtAG4AbwBwAHEAcgBzAHQAdQB2AHcAeAB5AHoAewB8AH0AfgB/AIAAgQCCAIMAhACFAIYAhwCIAIkAigCLAA==",
          "dtype": "i2"
         },
         "xaxis": "x",
         "y": {
          "bdata": "ZwJs2DD7IECTUTJFGxggQBEaonxBqCFAMzhV1xGaIkARlYn+eMcjQMnr3iNGMSRA2kN0J/dYJUBD/OWDjB8mQORmxlxpziVA5TOqRDJNJkCdjM+MebQnQE0HrWCTMidAPNevGIVXKEC/ZkoOYF4oQLePZ6FzPyhAaYLqZFbEKEA4D6R1ockpQI4d9cbE5ilA8A+IzwyUKUAZXryetYMqQDr5N/WjOypABagDelDjKkDRzb+SkW8qQC3XRtILtSpA6NuEhWPWKkC2aOpR4msqQPR2NlUyUipAE9jVSL6sKkBBEoDJDd0pQONeAYNBhypAY+wDo1B4KUD4smhXY4IpQBY3vXwZ4ilAE2P9sKmMKUAghNV+A+QoQHz9ZHQUbihAhryXVfzNKECSAIfU4BAoQFfi6n6sOyhAS7KXHcEDJ0A4k3zb8nYmQPjsYxv+kiZAZdN1r/w8JUDcYJMRFRglQEl2zs+JkCRApbluuvqmI0D7GV71lCEjQPdRqjh/TCJAPsmPS07BIUDzUPMoC6MhQMeJn2CSDCBAgif59b1IHUCIqbfMvqMYQH++bpupHBdA1rjtdB2hE0AoCmZQPNkQQPYUQeXRHg5AVrTlkZ0TDkDtuQ1oVwoNQJwrJosxLRBAhSsu05UwEkAK7sFBkHgSQPko4vy1RBRAH2F8RWMTFkDTR4lcVooXQEL42UUnTxdAn/IGn06OGEBnYfEW1MoaQAArUQVb0RtABlUYYeudG0AVZUAGhbAaQCs/5IeIthtAS0ZYgfF2G0Dxv2BVMpAcQKNKD4JWpBxAhBiBJa7zGkCuNRH/cNIaQPdS6s4S8xlAggjwb0DDF0ByI5GXuhcXQHKBNj2hvxZAucM5CyOoFUB64XcY80UVQD5kiIswhhRA7TA6FEbWE0A9Hi9aLuUTQEWONsAqOBRAaG9ASVaVEkDJVNLAw9MSQF54vebo6BJAvr53Ly8+FUCs5NwDDuoVQGD3UB6DvBVAygaKbatUFkD332IRhS4WQGLFog8guRVAH2MwhrXgFUAe3eaLobwXQD2W0+Fz5hZApHuTEgzbFkAe44+/qckXQOi11MjKHBdAbM7vP1XgFkBNtbp001YWQOt3EdJP1hVAoYfisH4TFkDCSX1lR30VQDlsDiesfBNA7B7jG0YLEkCvOfLX7M8RQIGYClYY2BBAfcOu1NClEEDni6KgajMNQE+S4pcc7g1Aj+peLhF8CkD8DgkwIk4KQBmlntlguwdAoRipPjxJBkDeauu2gLcCQCmSHH67lQBAl9e2Sf7O/j+t7TzUZsMAQPftndQgB/k/OD42n7e6+T94HvIfBIT4P8QdOPMkv/I/bIceTTO/8T9uDtkgbCTvPy4j+WofTvA/hltEVfVa8D/9wBiUUhLhP2wa5pN8luQ/kxQUAs4J8z9++uZ/OqXlPzwUafrNVNU/opVycBuV8D+s+1UzigTpP6YHgsB4WOg/dGGUelLA0D/UJ2EvHF/pPw==",
          "dtype": "f8"
         },
         "yaxis": "y"
        },
        {
         "hovertemplate": "Sequenz=120<br>t=%{x}<br>v(t)=%{y}<extra></extra>",
         "legendgroup": "120",
         "line": {
          "color": "#FECB52",
          "dash": "solid"
         },
         "marker": {
          "symbol": "circle"
         },
         "mode": "lines",
         "name": "120",
         "showlegend": true,
         "type": "scattergl",
         "x": {
          "bdata": "AAABAAIAAwAEAAUABgAHAAgACQAKAAsADAANAA4ADwAQABEAEgATABQAFQAWABcAGAAZABoAGwAcAB0AHgAfACAAIQAiACMAJAAlACYAJwAoACkAKgArACwALQAuAC8AMAAxADIAMwA0ADUANgA3ADgAOQA6ADsAPAA9AD4APwBAAEEAQgBDAEQARQBGAEcASABJAEoASwBMAE0ATgBPAFAAUQBSAFMAVABVAFYAVwBYAFkAWgBbAFwAXQBeAF8AYABhAGIAYwBkAGUAZgBnAGgAaQBqAGsAbABtAG4AbwBwAHEAcgBzAHQAdQB2AHcAeAB5AHoAewB8AH0AfgB/AIAAgQCCAIMAhACFAIYAhwCIAIkAigCLAA==",
          "dtype": "i2"
         },
         "xaxis": "x",
         "y": {
          "bdata": "8piIGJvJJEBeIcwfRSUkQNkZURkFCSVAkKfCHGe2JEDxbPT5k10lQN7vGiNtTCVAdiJd0vMDJkA+bxlAjG0mQLbYUUE83CZA4UBdo2ErJkC1TMY+mJ0mQBen34PxxCZA+C7hdX1VJkBwbCsj7nsmQJ0s89iB+CZAxCvqGYXKJkAE22CDmKkmQB81sNPyyyVAEPvuxCUuJkDeBHhPxVglQJySzMOxoSVAoEtREMfEJECSyTF78DokQKjk90g0ZyRAy89bpjh6JEDxK7qb9CYkQFGd7pEBlSNAViV77jDNIkAia3sfgmAiQFqDboshYSJAxh/+zQJKIUB75VnsnZUgQMTlFoQibR9Azb/DNqtiHkBiX2U7NRscQGLNLcBqaRhA5YIo87amF0B+9YTZUTQWQDwSrrZeTxNAGEwVS+BhEUCkzRiUJj8MQJRusruj/QZASUpEvwz5BUB2ZCglkF8AQHoOXW8ya/g/J39DAbc08T+gWJVytJznP5iegLN1MvE/DEz84bj49j9O+9hbECzzP9xUaqvgjeU/1AwcbIeq5T+VFcWvyxv1P4fPMNoj2fk/v+cfCyzO9D+zm344oML/PyVSvyqdov8/p8x2csKt/T/JYZMkEZwCQHVgRgG/OQJAT+MUTm1xBEDqF7XMtb0HQHfE8EVyxQZAXy6ZBo25CUATy9HB2NEMQDU5r7RZZAtAQIDfUnEhDkDeZZaL51AOQBYA/qChTQ5Axp4vxQiGCkCeBjh5GOMJQBSIfhn/iwpAjI3+PddUBUASHsuD07oEQBWpjc6eUQVAWFH/9V+HA0CBijctzq4BQHZ9kUY7vgNAiDVA52lzAEBKMX94cqcCQL+STL0/7wJAkfb/6bjXA0BVI7o7MHYFQOIeG+5dPAhAPfQUWX3lCUDVAaudoCIHQJYDbcmitgpAXAAdImoODUA041Oz02INQKpm3R4y8Q9AkNdkjd3YEUAuaGzvEFYTQPYmmnUENRRAWNcHQBcJFUDWH6z3V2QVQOpm5ApuTBZAz+t9l5MvGED5SKK7hSQZQCtzVoFjShpArWJ1a3ngGkDgjxYENtUbQI0MjqhxxRtAcdWYOlhiHEDRFe80SEAcQDuA14QaiBxAETXAG44GHUCPN+jUJNAdQFUDAFqPiBxA1DqmavraHED0Eo58VAseQM6T/ipiyBxAZZ9hcf9OHUCSVMgOdoIcQKN+Xbd8Eh1ACC1WOtqrG0Aq9ZuG8PQaQMvRmWv2vxpAJPUBgYOrGEA+CfVE54QZQO4mmm8KbhdAZXtClB0NGEA9Gjz+YOUVQIniSxRY3hVATwZuOSJGFUBwWIxxG6ITQE1SQsCn9RFAphNOIfiKEkCZ8sw0Gh0RQOJxi5/mmhBAlGS2h3CKDkBjOWxGabwLQGbjqd0/xAdAzelts6kBCEB7hIB8tTkCQPYQKfAjYwNAz3XJI7gN+z/z9IgP3ET0P5b6tvD3Evc/GCuPVx6Z7j+6k20oQSToPw==",
          "dtype": "f8"
         },
         "yaxis": "y"
        },
        {
         "hovertemplate": "Sequenz=121<br>t=%{x}<br>v(t)=%{y}<extra></extra>",
         "legendgroup": "121",
         "line": {
          "color": "#636efa",
          "dash": "solid"
         },
         "marker": {
          "symbol": "circle"
         },
         "mode": "lines",
         "name": "121",
         "showlegend": true,
         "type": "scattergl",
         "x": {
          "bdata": "AAABAAIAAwAEAAUABgAHAAgACQAKAAsADAANAA4ADwAQABEAEgATABQAFQAWABcAGAAZABoAGwAcAB0AHgAfACAAIQAiACMAJAAlACYAJwAoACkAKgArACwALQAuAC8AMAAxADIAMwA0ADUANgA3ADgAOQA6ADsAPAA9AD4APwBAAEEAQgBDAEQARQBGAEcASABJAEoASwBMAE0ATgBPAFAAUQBSAFMAVABVAFYAVwBYAFkAWgBbAFwAXQBeAF8AYABhAGIAYwBkAGUAZgBnAGgAaQBqAGsAbABtAG4AbwBwAHEAcgBzAHQAdQB2AHcAeAB5AHoAewB8AH0AfgB/AIAAgQCCAIMAhACFAIYAhwCIAIkAigCLAA==",
          "dtype": "i2"
         },
         "xaxis": "x",
         "y": {
          "bdata": "OMQOkQMXDUBakDuN9pgQQF9omdbpQhBAjGAXckjUEUAHmnCl6p4TQLFL5BGfWxRA2lHqd34DFUD1DqP/u5wWQL9eQFKkzRZAK2X8MdgxGUCMIZv40IAZQCr5XK2gUxlADH5VOTWOGkBWw/bFzfsZQFiJlTTjYhtAQaTiQbo+G0B7nOnZ1/AaQKvB84+coBtAl9w9hW9xG0CzW4Dqk/sbQKPdgqDxAhxANdJDHjpvHECbmFNoNWkcQKupG7QQIBtAxa8w15PUG0CUmK2TKlQaQJzqkBXHdxpAKqRM4BWVG0Ce+ZgWVF8aQGodkTOv+xlATWBWA+O3G0CElmRDeWkbQBy7hDU4IhtA+LLJSKpGGUDkYgZm/lIaQOwVDfEIHhlAFrwsWTxnGEDYyvM3NBoWQIVBr+IIThNAhScIyjJkEECM68AmQRINQICxbbOk1glADviPZS/9BUC5Qeszmc8AQMT3U+TTlvY/nvcQUu3R+j+VkFRtkVr0P2jsmp4HnPc/1PPDdhlA8z/jvq2RqV3zP7g+TMvBkOw/6V+ChBOP8j9w6ksaYub5P98yx0WvTvY/OTo8JstR9z/KtQyEg731P/w3G1sFnfk/GVTf4aBPAECZRgEksUUFQCIBiDQaTgZATPFzm4mUBkCVN5TAdY4JQOoOh440IghAQcNtEWkoCkAFZEUjyWYLQPRli7xxKw1AAvnYR2seDUDsur0cda4QQLWwwJzj7wxA0fVQ6J/KDEAu+r6KdiUOQOEgUZOXfgtAHk+ocHoBCkDWB/UPojkKQJC0oWhGXAhAvBkrZ9ZSCED/2d754mIDQC/SWwuJnwRACH9qDE1ABUCUZMnf//oCQBLrDzoHcwBAD6/gTojhA0DX4MmZjmUEQAeTNNZCSwNArGTc1he/BEDbISqXpnQHQLFci9pjNwlAb7D/eIn5CkDeA0TyEXcLQGWl7z9Q1QtAuv/i1GxJD0B7knY2dNUQQAtxgaTQIRFACzEuQUdLEUC9FuYk4pgSQE6z4WSsPRNAn0yXrzsGE0BmPbDevwETQGHIBOY6OhRAyQYFPPiCFUDp1jys5DYVQEUfQ9vTbRNAlb7oytEJFUCb3Ltc2zoUQKYP7ABsERRAzfuNYp2QE0D4gJN5AzkTQBxmAEvDWBJAsprMgJQAE0Ck4Twz/1MRQLTC/5b+xBFANNDzG5QwD0BiBhbIxqUPQJCWEre3bw1AMWa8riamDUB3HlMxigoMQFAzjtWd1gtAVp7Npu6sCUAOVR9SnsYGQIjIeY/lzARAQ1s4TpYSA0DvPfLLDYUEQDR8r630TwNACpv4WkVTAUAjBCDUIxYBQBgSeI4akfw/qgNqcPRM+z9YY260/RD3P2ApWakkH/c/Zc1BtYuw+j8hWcmQTXvzP9Szb8TOTfM/P4vSYfsJ9D9xsmuBWpX1P1+rkw31W+Y/ikuOKBE18T++tAJDf5zsP17iJHeR//I/BiVl8pMn7j+tR36+MuHqPw==",
          "dtype": "f8"
         },
         "yaxis": "y"
        },
        {
         "hovertemplate": "Sequenz=122<br>t=%{x}<br>v(t)=%{y}<extra></extra>",
         "legendgroup": "122",
         "line": {
          "color": "#EF553B",
          "dash": "solid"
         },
         "marker": {
          "symbol": "circle"
         },
         "mode": "lines",
         "name": "122",
         "showlegend": true,
         "type": "scattergl",
         "x": {
          "bdata": "AAABAAIAAwAEAAUABgAHAAgACQAKAAsADAANAA4ADwAQABEAEgATABQAFQAWABcAGAAZABoAGwAcAB0AHgAfACAAIQAiACMAJAAlACYAJwAoACkAKgArACwALQAuAC8AMAAxADIAMwA0ADUANgA3ADgAOQA6ADsAPAA9AD4APwBAAEEAQgBDAEQARQBGAEcASABJAEoASwBMAE0ATgBPAFAAUQBSAFMAVABVAFYAVwBYAFkAWgBbAFwAXQBeAF8AYABhAGIAYwBkAGUAZgBnAGgAaQBqAGsAbABtAG4AbwBwAHEAcgBzAHQAdQB2AHcAeAB5AHoAewB8AH0AfgB/AIAAgQCCAIMAhACFAIYAhwCIAIkAigCLAA==",
          "dtype": "i2"
         },
         "xaxis": "x",
         "y": {
          "bdata": "1aamRHHiI0BIfCb78hwjQC4AweYGZyRABbqQ3e5tJUCSY0SVK5EmQIHDcXw2LidAWAjFjfMuJ0C4a9wXZKkoQBoViXXzwChAyua0aNs0KUABfDRXbk8pQP9Wwki3FilAbwqwTIy4KECfRjdjwhgpQDYLCxZqaShA6PzEq8ZzKEAl25C7YTopQLJm5EB4rihAOh1T/+w6KEC4eNvED+cnQDBVIOQRcidApz8RolbjJ0BI3BncfrYnQIYqKPuI4yZABK4z8ow9J0B6MwMNEOomQBqdv18DMCZABwkhYuLtJUD9vyBonOkkQOa2Vs4QPiVAZSP69rF3JECSo1YQ/MIjQD0G0mcMziJA20k6lyRRIkBUZVU++/sgQPEVn4uMoh9AbSMEAgUyIEDxPwHWFSUdQOFIlcou0xpAseUN5TpqGECtbE9dZeMVQNBg0ofMFBRAgCd9gduYEkCRlLPz6cQPQBK5336ZxglA22j1pa2jBkAOUeqKXoEBQDY6G8OCGwJAiFHAsJYb/j+l97wxl0D9P9FMUQXE5gJAD76YHLnTAEA0zXIn1OIDQAMjpJTQEAFAGrngYAu0A0A7LVBTbu0EQPMKGV5iBglAJGmAh57MCEAXcTL/ZBcKQM8AAOL0dg9Ar3iXzQbYD0BJI94g6s8PQJSLx/YuhhJAOCzugjXwE0ADYD5+2/gVQBAn1JiL3hVAFrGJ2iA0F0C6L9N3rLcZQNlO6tiCQxpAcGl5PZ5AGUA7/MdGVfIZQGkEod+VFRxAsLkKN7MfG0C4mpN3t1EbQJl2ZFV9WRtAX3hxw6AVG0CRfhi1wngYQNmdgNLt5xhAbIOCp6xFGEBFF4HZ+uYVQOuJ1G0jPRVAvJIrEN+4E0BeQTy0vCYTQI2s7tRZgBNAQGpGWyM+E0CLMwt7710TQPFhSHl5RxNAb/2L7usJFUDxbubPcmQVQIewxdOxJBZA+EY7Bnb5FEAjzC4gSgAXQBEjpT1x8RZAMPDxEFj0F0AffzgYfXoXQOP4Ktag/RhAaQebnEm8GkCYC4jXk9gaQNTRbe9DwxtAbw8076oAHEDtlV3pLp4bQCHgaIk5UBxALFpkUMWzHEBK1V29PJIdQHOddOs2KR1ARSQ2m4twHUAClAZgDVocQOUdCNy8Tx1ABkoAdk7bG0Cugc5AXE4cQOkdM0QJ5BpA/hW6km4sGkAV7CWtydkaQOyDwPGwyxlATGhlNrkdGUCNAgYKBcUYQDF+Cco72hZAlhPcd1etF0AQKO54yD0VQJg+GieWsxRAl8V4obuRFEC+0FT9qaISQDnGUk8rsRFAitrPAFIcEUDmTiDSDZgPQDwSrAbu3g1AVc5HxOuoDEB66lNcq28LQL3DLTeGzAhARgAA64DiBEAN7nMpM9sEQKqw0otJSwFA5ShJjkPFAEDwR6+8f+L6P4zCsea46/c/MDckJf0c8j+NIwaLwZL5P2q8RyHQv/U/9fZyfpUX8T9rl/u1787wPw==",
          "dtype": "f8"
         },
         "yaxis": "y"
        },
        {
         "hovertemplate": "Sequenz=123<br>t=%{x}<br>v(t)=%{y}<extra></extra>",
         "legendgroup": "123",
         "line": {
          "color": "#00cc96",
          "dash": "solid"
         },
         "marker": {
          "symbol": "circle"
         },
         "mode": "lines",
         "name": "123",
         "showlegend": true,
         "type": "scattergl",
         "x": {
          "bdata": "AAABAAIAAwAEAAUABgAHAAgACQAKAAsADAANAA4ADwAQABEAEgATABQAFQAWABcAGAAZABoAGwAcAB0AHgAfACAAIQAiACMAJAAlACYAJwAoACkAKgArACwALQAuAC8AMAAxADIAMwA0ADUANgA3ADgAOQA6ADsAPAA9AD4APwBAAEEAQgBDAEQARQBGAEcASABJAEoASwBMAE0ATgBPAFAAUQBSAFMAVABVAFYAVwBYAFkAWgBbAFwAXQBeAF8AYABhAGIAYwBkAGUAZgBnAGgAaQBqAGsAbABtAG4AbwBwAHEAcgBzAHQAdQB2AHcAeAB5AHoAewB8AH0AfgB/AIAAgQCCAIMAhACFAIYAhwCIAIkAigCLAA==",
          "dtype": "i2"
         },
         "xaxis": "x",
         "y": {
          "bdata": "yxcsIPKOI0ATMbBDJHkiQMtl42tKkyJApN6c5YLaIkBZnTt/500jQNQ6pkNpTCNAh58uZKYuJEAZme5o6g0kQM5cv9VMYCRAXhfysLNYJEAoue6Y4MckQAYkD5YihSRAZAXibjTcJEAUmMIui5okQCv1SWKqliRAwVxArlKVJEBQbi9eViQkQAKk02h+uyNAiP8Iwm1eI0DZskUetTYjQKbWTmSn3SNACzbHRm2PI0DvdN2vZP8iQDhlYdD+fCJAeB/dTkjMIkDXBXgRV8khQDWDDpAnhSJAcegSsdMWIkBTNKXD68EhQByd5ZsfcyFATXm0FN6UIEB4fTZVxvYfQFB0RB24Eh9Aw90T1lMaHEDHUaz7b3QaQLjAsVH9chlA7BdmNUniF0Avt4+Z09gWQIQyCTw9ThRAo+8UlYi7FEBn5aI+KuIRQEZc6OamORBAFu/SEyOkDEAYvMQbUGoKQExqJhvYJwVAqUA6Kcql+z90EVIacIL4P+qNtaZgZPM/AxnLXudSAEAd3fgWYkH7P9Br9psNwPg/ytFaiY1k9z9p9QQPpe7+P26Bc/h5TANAyudrkWvKA0DFprViqqwAQFIUMerr3gFAFhdRYV4cBUDjXC+nCjEGQLJLL+CZpghAxsy3VHIQC0C4UwtHxQwPQOPWOlC+chFATxMZ8ZZnE0AhuPuCkUISQJdzU0N5vhRAAZrrn8yXFECmwlmnZmYWQNHPuvlJRBZAcCT9oUDnFkD/jTA0Y68WQGHnDfPXuBZAD/sMNR2CFkCn7r18VG4WQNc1vPn/XBZAfOjOgqHuE0DM56AFcwMTQBTf6jmy6RJAKytAhsyQEkBcjFvxI14RQMSK6Ul8rg9AVWpv9+z4DUAz8N92yZcQQJ8ycAmPbxBAZgwqJ98lEED/mJkoF8APQCLjk5tVXBBAQRTTdjptEEDIfL/Zx/YQQOnJkuXDJBJAszROhW6OEkBBRHGKVPwSQO4UJY8n7BNA97+VapUcFEC+63zMX/YUQKGfvPNHYxVAqnvQYFPfFkA2gYKffRUXQFaGZbyXQBhA3woYZI/dFkAJk9ivZwMYQFM+zMUPAhhA8ui/i/WoF0BhyiHW99oXQMPKcL2hVhdAalDverawFkDd5UF/6NwWQAXRQ1kboBVA9EZqgPcVFEBXHgCWBlYUQFaCtuQzcBJAfq7/XsGqEkDcnpeJMhYSQKbEmu6hXhFA+S0kwJ8qEEB5+O5czQgOQJLAIRY7CQ5AGu4xHroADkBo48ctVxoNQPDeP9D4Sg5ALu0dUdHBCkBk3kHkJScMQFMGIhPzIAlAC8wrymSgCUDOHli7l9EIQJu6gTvxSwhAI3Fsw+TvBUAoJmuA8qwEQJD8esnKQgVA85qidFwsAkCNZULj+CwAQAKTFZcoPPs/5q4cEN609T/8viaeS2TxP5nkMT91ifM/lBGp0ehh5D+aL2xnYEbzP14j3R01+eo/M50FEKU43T/yAsoimrnmPw==",
          "dtype": "f8"
         },
         "yaxis": "y"
        },
        {
         "hovertemplate": "Sequenz=124<br>t=%{x}<br>v(t)=%{y}<extra></extra>",
         "legendgroup": "124",
         "line": {
          "color": "#ab63fa",
          "dash": "solid"
         },
         "marker": {
          "symbol": "circle"
         },
         "mode": "lines",
         "name": "124",
         "showlegend": true,
         "type": "scattergl",
         "x": {
          "bdata": "AAABAAIAAwAEAAUABgAHAAgACQAKAAsADAANAA4ADwAQABEAEgATABQAFQAWABcAGAAZABoAGwAcAB0AHgAfACAAIQAiACMAJAAlACYAJwAoACkAKgArACwALQAuAC8AMAAxADIAMwA0ADUANgA3ADgAOQA6ADsAPAA9AD4APwBAAEEAQgBDAEQARQBGAEcASABJAEoASwBMAE0ATgBPAFAAUQBSAFMAVABVAFYAVwBYAFkAWgBbAFwAXQBeAF8AYABhAGIAYwBkAGUAZgBnAGgAaQBqAGsAbABtAG4AbwBwAHEAcgBzAHQAdQB2AHcAeAB5AHoAewB8AH0AfgB/AIAAgQCCAIMAhACFAIYAhwCIAIkAigCLAA==",
          "dtype": "i2"
         },
         "xaxis": "x",
         "y": {
          "bdata": "bFs2VTGXFEBrXJsisuETQLbxRw8m/RNAr4Z+sX60FEDZOtX2UGsVQIxwwm1UnBVAkj1EeKR3FUC+i/56G/IVQEroOrz4aRdAFrfLp9dHF0BPANYZ+sgWQNpnPfLIFBdA5K9m9NamF0BL3JU108gYQF4HE+9rqBlApuLbZBoXGEDE/LlHczIaQDL850PVMRlAcMNgE81iGECHeGdAzCUaQKWiOeUeRhlAOIYam0hGGkAgcenX3M0ZQE32+QR5lhlAfmFNPp4EGUAcG8OMSA8ZQBt8E9rocxlAqfVZMsRjGUDAYGCiKCYaQFzLeyl42BhAUIDy+d+zGEC8nRIGtfIYQN8iUrlF9xdAOtdDAv6xF0BTjykQD6kXQDKG0Wu1PBZAjTPLIQKCFkBmUsTgWmIWQDc6eRZRZhZAy55ZJ/v/E0CeMMEzeMcUQKn+RpFfyhNAmzLk2vVhEkBt/cYrpcoSQH4hLSjNexJAyhuA5QOsEUBQKke+jnIRQIPXTdKbDhBARS+yToVBEUALM3Gtcb8PQLXHuQ/5zQ5AtRKywinQDkCDvdl3WWAQQB5cDCy7dw9AKChdWy0YEkBacoPAQt0SQDGN9XEeiBJASAwVVMQtFEAbHM0FyOAUQCHN7ZDT3RZA11AKPf5iF0C1rop2l6oXQCucMUGQ4BlAlKES4aZTG0Dip8MdpyccQPmR5wv7SB1ASZFXkn/LHEDpPgBWh9AdQDen7oadRh9AzJZ9t5cKH0DqYwbx548eQJ+CCKa8jh9A2I63ZUuWH0COfwEaFf8dQMVNbJI4YB5AaHNQhoYTHkD5FFhkX64eQL8tv7DxtB5A5W167WyiHUD4hcjHK9sdQOCu/ShF1x1AMNGMISWDHUD0FouyCY8eQEcwHUNg9h5AlZSIwkrfHUC1KVh56uQeQL/dIPBROSBAfJM9U9FmIEAI73YIGf0gQLVDsc3aRCFAwJJvZcZFIUCFPO0kzLEhQMdg386CUSJAZy9hMBQEIkC91nOhNjMiQItsGH3YgiJA/oiY6V1MI0BvvRdTWT8jQJZu0szRkSNARUG6eI2IJECJ+N8tsYMkQLGPHWby8yRA5CdBCPBHJEDgmiSWSg4lQIVFPoLykCRAluDa2menJEDgpjpirhkkQJpew43K+CRAB9ilgiCIJECAPA6Z84IkQI8V08PpLyRAZ5gDM8VHI0CgBkLuOp4jQNXp7HW8PCNA+gvAaAmGIkCQYF3jj2ciQMW9CcliLSJAsc4y/QqVIUBJKV18zgUiQHYcSIY1XyFAo6nKbnW7IEBxrkEuXGUgQMuVMQAX0iBA6RBDRYk1IEAGkBXUVykgQBMAuLSkEx9AtpUUB9+eHkA7xuPZirsdQEM7j0um9R1AT4ideYfsHECNlDr+ppwdQFOb/veicxtAhbKD2KjTG0A75YZ1oroaQD2r7aGUnBtACxH5XwaWGkBdRH/1qAgaQI1SubJMahhAC8zjvrI7GEAZ8AyKGYETQA==",
          "dtype": "f8"
         },
         "yaxis": "y"
        },
        {
         "hovertemplate": "Sequenz=125<br>t=%{x}<br>v(t)=%{y}<extra></extra>",
         "legendgroup": "125",
         "line": {
          "color": "#FFA15A",
          "dash": "solid"
         },
         "marker": {
          "symbol": "circle"
         },
         "mode": "lines",
         "name": "125",
         "showlegend": true,
         "type": "scattergl",
         "x": {
          "bdata": "AAABAAIAAwAEAAUABgAHAAgACQAKAAsADAANAA4ADwAQABEAEgATABQAFQAWABcAGAAZABoAGwAcAB0AHgAfACAAIQAiACMAJAAlACYAJwAoACkAKgArACwALQAuAC8AMAAxADIAMwA0ADUANgA3ADgAOQA6ADsAPAA9AD4APwBAAEEAQgBDAEQARQBGAEcASABJAEoASwBMAE0ATgBPAFAAUQBSAFMAVABVAFYAVwBYAFkAWgBbAFwAXQBeAF8AYABhAGIAYwBkAGUAZgBnAGgAaQBqAGsAbABtAG4AbwBwAHEAcgBzAHQAdQB2AHcAeAB5AHoAewB8AH0AfgB/AIAAgQCCAIMAhACFAIYAhwCIAIkAigCLAA==",
          "dtype": "i2"
         },
         "xaxis": "x",
         "y": {
          "bdata": "6mdEmnUuIkDisgdIhA8iQPMT1AFZniFAr4K/LOTcIUAxe12MFkUiQOkU1uPXXCJAto62dhqDIUDD2df+mHkhQG9nEa4fdyFA2MV9H80RIkC94lW9n7ghQN/B2rgpiiFARJvy0W+KIUBAC76UKJYhQH2EFh1/LCJA6/7ZczK8IUBVIY8ksbMhQCFNsDkTiCJANQwtWygBIkATTK43uwoiQPgyXMvmoiJAThDh6Mx+IkCEcsvCKjkiQBO2x5Iy7SJA+4VxHLoYI0BSl69AM5EiQNSNSJKClyJAxD4TGexJIkBK43lf3/giQHs/IfaPMSJAnvMTvQiXIkAU9ZWjTA4iQK8MNPKd3SFAidyEOyyIIUDF5XhojHEhQIgHAeHePyFAge9L88iHIEAOECs1FxIgQPjXbY9wJyBA9ON36Q4xHkDWz3DWfZAcQHESff85qBtAm8IDObwGG0CBQ0VogJIYQKWjHycrRBhA06chVbJaF0AEu77PxBYVQI5j2GsX+hRAThc+nq5VE0AUSwrCFDsTQHXr1IxBbRJAp7tpEQcIEUCFZYB+G2AQQC9r2ol77w5A5CPWcQxgEEC6Gi1KtCoSQJwOLMHlXhJA80y06plfFEALvqvY2MoVQAE/Ow4gGxdA94AJ3ieRGECMRPNOBKwbQCT8RAG01x1AuaepCqOqHkCq30jl4JceQHuAcrAgdSBAHtJvmS0mIUD5TTWUMTQhQPxl2hU96CBAOXyTyHRNIUBpmcJ4j+kgQE1a1GjqsSBAIxf0+rmdIEC5LMY5Mz4gQAa7NoxwnR9AEEEHsNFdIEDzJ5ubghQfQBF+1DISYR9AOdbiZqENH0Du+PIIoX8eQKmKRs0VwB9Ai4x/z+XYH0DflbOF1tsfQLLx1STnvx5ArgyFKzz7HkAwMqwSaTkgQAmAP5x5qx9AdFkjiaM0IEBIigk+FQkgQDVreHitiSBAGzKxECrsIEB7pCDaK9kgQJfF3h4AXiFAD/qOvNyqIUAIXLFD++IhQCznGjX4PyJApuq4KSqCIkDBvJ9/q6IiQCTpBp3DOSNA/sAwZ2aGI0ApzxCjhLUjQE7S/OW9giNAqgTqyaJRI0CgdlKDzKIjQMyzp83w0iNA8f63DKgDJECcLCbewZQjQKgNbsxZtiNAyr5N2JwDJEBaTSYpqHQjQJUh9V0QtiNAnN2o2IaXI0DOyVr2i9ciQGEE4PnzlSJAdLHiNR6KIkBA6fGZtPYiQNHifkv8DSJAjV2208aCIkBbcSnhm5AhQMlmtdzlyiFA+8CZPL0/IUCdbJdV+WwhQIhUqwm93SBA3V15VWVnIUCrDy/WZiwhQDwqnYWLQiBAHLXduTPCH0DJjSRh660eQIROdCtZVR9A+/xsR3apHkBYeckgR/gdQI7Vzo7EwBxAJuQxrxhaHEBqDwUWq/ocQMov3LPCIBxAZ5GBltwoHEAWGnY1rZcZQIWuFLfNkhpA3etkIi9GGEACOQkSv8UYQA==",
          "dtype": "f8"
         },
         "yaxis": "y"
        },
        {
         "hovertemplate": "Sequenz=126<br>t=%{x}<br>v(t)=%{y}<extra></extra>",
         "legendgroup": "126",
         "line": {
          "color": "#19d3f3",
          "dash": "solid"
         },
         "marker": {
          "symbol": "circle"
         },
         "mode": "lines",
         "name": "126",
         "showlegend": true,
         "type": "scattergl",
         "x": {
          "bdata": "AAABAAIAAwAEAAUABgAHAAgACQAKAAsADAANAA4ADwAQABEAEgATABQAFQAWABcAGAAZABoAGwAcAB0AHgAfACAAIQAiACMAJAAlACYAJwAoACkAKgArACwALQAuAC8AMAAxADIAMwA0ADUANgA3ADgAOQA6ADsAPAA9AD4APwBAAEEAQgBDAEQARQBGAEcASABJAEoASwBMAE0ATgBPAFAAUQBSAFMAVABVAFYAVwBYAFkAWgBbAFwAXQBeAF8AYABhAGIAYwBkAGUAZgBnAGgAaQBqAGsAbABtAG4AbwBwAHEAcgBzAHQAdQB2AHcAeAB5AHoAewB8AH0AfgB/AIAAgQCCAIMAhACFAIYAhwCIAIkAigCLAA==",
          "dtype": "i2"
         },
         "xaxis": "x",
         "y": {
          "bdata": "MGmxIlnMGUDPr1gGlZIbQIG6NLZUmhxAZnD6lxSDHkBQ/qvUbrAeQIaOCFZGdiBAt34lTbXSIECTIxJu3HshQALvQ5ImvCJA+9wyOoirIkBkYVGKVDkjQG8m8ZjdWiRAWOEYj+drJEDexC1OMZwkQA7mFJngtiRA/+/zZ4NaJUCQ+gSpu14lQDfA8cM5fiVAJDweo/MQJkBipXpeqn4lQME9tFJmwSVAEa3nomobJUCoMwL0clwlQDR9b3m/DCVA8GrKNT7RJEDPwtp/dh8kQFDLyrIPfyNA5tmqkZZRI0AAL9uUZQMjQNtQrlJswCFA6J3CshuaIEBXpQiSJyogQDxj9DMyGR9AIjgqg1xCHUBBxWUgORobQKcXWG88OhlAQbRLdMM9GECVnRnsOe4WQBJBRMfClxRA3Y0X+Uc7E0BdJzYYnQIRQAFJRcwu1Q1A3UcMWHEnCEBuAw40DQMFQO4K6FVrwgBAJybUVaAiAUDkBjmG/+P9Px6nPLTnSgBA2ioNl047A0Dt/7JZjlQAQP1JY26DMAVAKM2gYws+CUA4Z0Zi0fAJQAjI6TCraQ1Ax2KItjuDDkCCVcmGFEwQQPmOdfmmHRJAlHhHfTmZE0BZLKu+fr0VQKC6OrHAuxZAc/qREr9wGkCS7WOy8dwbQE5EstaiWh1AZFoOsrf7HUB1qzDDlHwfQC/GYA0Bfh5ASj2kFbaxH0Cpy91FTkEgQGKIDJF2qyBAtd1tS53rIEArJvQI0SohQKIS2MYhDiBAX9QY5dLuH0DkAIqHYDAgQMhJ5qmXCyBAUeHY80z/HUDgLof4pOUeQFId2+q71xxAv5Dde5JtG0ArtcejaRIbQBrF2alCYRlAdLYf7HYwF0AmyNXknRYWQCqAxUR5bRVAM6qHFGMCFUCiEtnWn4kUQP19JVBa2xNAcIhb/Ah5E0DXKmUoE/0SQLpyh96M7RFA4DN9G/n5EUByJ08tMI0RQEY5Xp9CihJAqrkwZaNzEkCmgjPvNnESQAmYrSFgbRJAD+YKna0rEUBL7AHc/PIRQBtK9LD8bxFAKBLl1wC3EEBqWjKDVB8PQPNHADoJaBBAptHoKgzKDUDTm1PaUrgLQMMtFS8PpApAhKzYEq9ZB0D83QwMA10GQAcrAcPbuwVAFkhRgbS1BUCMBjAKM4IDQKZFP94LJgBAJqmkBebA+z+T1BbCBhz6P84uG5rvHvs/na8hIiok8z8wjYv5bHf1PxbqZ0Q7RPI/KGkewvWj9T9gY8DiCrvnP7E0pVaBXe8/aU1W8OjK6D+AXEb9IpDxP5SVz5mDKeo/yK3e88ct8T+vZJ9yovPtP00q6g7jY+o/fvDiyG425j8HRW8+6x3yP+j5TPJfEuI/LJJPJ+Du7j+WrfahGMnsPyzdFoZWud8/w9j2CQHn6T/CLxtJjWriP30mIdlN/+c/YJe9ydzm7z+iJqNKgJ7aP6QORVGrK94/5h1+JcOs6j+aRA4eE6PwPw==",
          "dtype": "f8"
         },
         "yaxis": "y"
        },
        {
         "hovertemplate": "Sequenz=127<br>t=%{x}<br>v(t)=%{y}<extra></extra>",
         "legendgroup": "127",
         "line": {
          "color": "#FF6692",
          "dash": "solid"
         },
         "marker": {
          "symbol": "circle"
         },
         "mode": "lines",
         "name": "127",
         "showlegend": true,
         "type": "scattergl",
         "x": {
          "bdata": "AAABAAIAAwAEAAUABgAHAAgACQAKAAsADAANAA4ADwAQABEAEgATABQAFQAWABcAGAAZABoAGwAcAB0AHgAfACAAIQAiACMAJAAlACYAJwAoACkAKgArACwALQAuAC8AMAAxADIAMwA0ADUANgA3ADgAOQA6ADsAPAA9AD4APwBAAEEAQgBDAEQARQBGAEcASABJAEoASwBMAE0ATgBPAFAAUQBSAFMAVABVAFYAVwBYAFkAWgBbAFwAXQBeAF8AYABhAGIAYwBkAGUAZgBnAGgAaQBqAGsAbABtAG4AbwBwAHEAcgBzAHQAdQB2AHcAeAB5AHoAewB8AH0AfgB/AIAAgQCCAIMAhACFAIYAhwCIAIkAigCLAA==",
          "dtype": "i2"
         },
         "xaxis": "x",
         "y": {
          "bdata": "6YRfKK4RCUApDncddQAUQLH0QZa18xJAXZa1gazsEkCbsIwHvGITQBacGVuPOBRAC/8qaEh/FUDtY86oj3kXQOH+ph9mVRdAI/RGO27MF0BoHqFkcUUYQKgdcktRcBpAlJJUXW4sG0DC0+3ooMcbQNXSltTMAxxAMq6w2O0IHUC671lUwWwdQCbKcaIiEx5ATct6CrHcHkBghTBr4WAfQO4pXBwdfR5Af4MJ09Y0IEAuhbH/K1ggQE6iTbKU/CBAwMJJhsxWIED/2j+agcUgQHR2HV6aMSFAS6s2EptMIUCune6llekgQGrjhjgPbSFAHZnvU9ZWIUBiGcxUk2chQMHp9D1B+SBAk9/XhKEgIUAUUfLXrUohQPzT0Mg6qSBAqU73bvZYIEDdRE5LOSggQAkPJ9A1XyBAlRan9E/4HkBQ4V0o+l0eQAR/InuW+RxA2k9nKMsvHECeZ9yj90kcQMKJ+r2J1xpAXAglFW05GUDnb+FTZDMZQJGqm4T8LBhAg0Tb4ponFkDwMLx32sIVQLsTb+UGyxVAnCmlF7ziFEDFXvubQUUVQJyumEhiuRNA1/hWqu7JFEDPYTWVRJoUQF0FHpA8vBRAmt60WcAKFkC1RpZOwX4WQIBgwYFaJxZArCcbRTKDGED6EPHW59EXQEnpNcDqTBlADwrSzA9EGkDonTgDm8oaQLQDQndaJBxAoqCW1b2GHEAyLoy0kPgcQLuEnavYLh5ARToBgd5zHkDN04YOWEAdQIHPJ2tr6R1A+4hlPFskHkCalQo+rnIcQFy0/bpzghxAOumFZowPG0BGA1skyGoaQDQLOlV0DBlAEe/PJU6MGUCXQI+SEqMYQNlAyGCaXhhA/bFOno2fF0CFkx4xYlkXQHBzAzyx+hdAxakSJHlIGEDDp2CcekMXQAECCe9poBhA3SlPAmLcF0BaBicODsQXQLwQ9A+8bRlAns783TvhGEDC1qiyHEwZQOvKyPHFqxpA3p1citWDGkBpgb4t6x4bQFGucFioZBxAm2T0uh/gG0A3YjU2WmIdQK2jzR9ypx1Ax/ABaNCSHkDo2Q66qCcfQAQRazYq5x1Ac5Q/2giSHkCTXRd2md0fQHloqM2XEB9AC+kjL4ffH0CPgw2Wp94dQAAYaskw7x1AfnerAYx7HUDmq2E5DmMeQMIhGyXhGx1Aepi/9mqTHUAtdIfq/4UbQEXafDyT3BtAuCIDDRCJG0DOqUFYElcaQPKoBqwCYhhAfTof/YUOGEDpswij3hoYQJeZQdItsxdAS/MyowwhFUDJK03gz9cUQPHugsHVTBRAFqAa8TOLE0C8uG85zXMTQNmDoju6IBJANmlE+47sEECm4Liz3K0QQGRYMCOJIA5AhagQY6lMCUB+lC9zoqoIQBcL0VKfAgVAkhqmV8U8AUAfgqZPbS8BQD6wwuDrTfs/yRvJJbhj9z8S3selQrH8PxpV9dE6u/M/VeicaJbC9z+OnPDVEfj3Pw==",
          "dtype": "f8"
         },
         "yaxis": "y"
        },
        {
         "hovertemplate": "Sequenz=128<br>t=%{x}<br>v(t)=%{y}<extra></extra>",
         "legendgroup": "128",
         "line": {
          "color": "#B6E880",
          "dash": "solid"
         },
         "marker": {
          "symbol": "circle"
         },
         "mode": "lines",
         "name": "128",
         "showlegend": true,
         "type": "scattergl",
         "x": {
          "bdata": "AAABAAIAAwAEAAUABgAHAAgACQAKAAsADAANAA4ADwAQABEAEgATABQAFQAWABcAGAAZABoAGwAcAB0AHgAfACAAIQAiACMAJAAlACYAJwAoACkAKgArACwALQAuAC8AMAAxADIAMwA0ADUANgA3ADgAOQA6ADsAPAA9AD4APwBAAEEAQgBDAEQARQBGAEcASABJAEoASwBMAE0ATgBPAFAAUQBSAFMAVABVAFYAVwBYAFkAWgBbAFwAXQBeAF8AYABhAGIAYwBkAGUAZgBnAGgAaQBqAGsAbABtAG4AbwBwAHEAcgBzAHQAdQB2AHcAeAB5AHoAewB8AH0AfgB/AIAAgQCCAIMAhACFAIYAhwCIAIkAigCLAA==",
          "dtype": "i2"
         },
         "xaxis": "x",
         "y": {
          "bdata": "SAC3cqAeB0CcSmGeENkFQJhRXZ+UcgpAaZfWo7NZDUDt0cnD3yIRQBp8jk26xxFAJuknFbdCFUBmvFrwodcVQMQjV7IQ/xZAgryUgBVZGECJUdlawjwaQE1y8zcAJxtAhJIfTo90HEA9bWZx/WgdQMryokdZHx5A0TgaZyh/H0C+R0T+7JwgQIe70URaXCBAkmCBYHXyIEBPtKet6I0gQMPQDjqdbiBArijmi8CvIECNbbnfFqAhQAbjGyzBeCFAWuQ21FwDIUAPF0z0xRghQJ2sf0o7ECFAgEjC9zgQIUBLpcJptLogQDaXqNmVmSBAZj9HJrsnIUC2lcuovWkgQNo2v/jELSBAmMvT+knpIEDBo9AZgV4gQBeoamLooh9A3fCpSqeuH0Af0MJIuKkeQLc+2buODB5ADAudexzRHkCtiTtMZRsdQHQTl/s8rR5AJuS0Y8B0HUBjWhVjXh8cQEy5rvCV8RtA3kg+kY9YG0CGLtqAoPoaQO2Ne32OvxlAdq4sovkCGUBd1YDt7bEZQMnTDuY7HBhAQiup5JFrF0ARmHyRBR0XQONLoSa+OhdAiFLKZgwrF0Ayt6HHoQMUQAFwPutf/hJA8d+bbTHTEkAVWNAkYZESQLlN1pFzihFAun1lhusTEkCAALtUup4QQF3H5FxRfBJAMAJY9Uz7EkCPEu3CyxYTQCzsQMln5hNAPToQy/jjFEAHpu/E7eAVQOwCdpE6BxVASuVngxOqFkBkpgSrDXEWQMRT3kSBLBZADQAFYtrJFkC7BP7/j3MVQEh28dBnIhRAKqWS7ywmE0C+pVWzdo0TQKiLceQNfRFAyVz2D82oEEBW4MCMpQ4RQFrxVu+IBRBAUUp8ImoUD0DThV0iD2AQQKTjIbEdOBBADibJqh7YD0BZ1V6QM4wQQKKvxMIbIRJA4aflHGz7EEBTzCPezI4SQA1K342SNRRAp0KOfl5jFUD7/JYgVKQUQIj11KivIxZA9Df47xbpFUA+6A0SeqoWQNDG2ojutxhA9hyMloLyGECuATILQJUYQLhDhnH3iRpAjHAcIsdcGkD5mvnf41kbQEZL0hZTLRpA9vdEy7foGUBCsQvpcrwaQGFwxJm5uRhA6k6Ih+PQGUDj73/T1n4YQIEvCrzJlBdAiVUAUKI3FkAyfxnS6zYWQCF8pUSgCxZAPoP+s/RFFUBP0dAZ7usTQP31fWZfVBJAqg9rRK34EUBSnMfg7L4QQLaesq7K0Q5AhqHCSC8PDEAySoAv4h4LQAfZm0GtqAtA27qWvfHCBUBAMkU6uPIFQOGDb0mH2ANA/vwtbIfKAUCr6j4qlwUCQFwTq+y04P0/z2mAdVTe+D8FHIe+s+j4P5wX/Zq3+vU/N+wUSMqv8z9sGmIpALjyP8IE3zh7a/Y/jgX4mgg26D+bAAmdSCjxP/8V6TQYeeU/bqQwLWky6j+woc8LvSzwPyQIdYIND/A/Xtrrx/dc5T8AhebqprnaPw==",
          "dtype": "f8"
         },
         "yaxis": "y"
        },
        {
         "hovertemplate": "Sequenz=129<br>t=%{x}<br>v(t)=%{y}<extra></extra>",
         "legendgroup": "129",
         "line": {
          "color": "#FF97FF",
          "dash": "solid"
         },
         "marker": {
          "symbol": "circle"
         },
         "mode": "lines",
         "name": "129",
         "showlegend": true,
         "type": "scattergl",
         "x": {
          "bdata": "AAABAAIAAwAEAAUABgAHAAgACQAKAAsADAANAA4ADwAQABEAEgATABQAFQAWABcAGAAZABoAGwAcAB0AHgAfACAAIQAiACMAJAAlACYAJwAoACkAKgArACwALQAuAC8AMAAxADIAMwA0ADUANgA3ADgAOQA6ADsAPAA9AD4APwBAAEEAQgBDAEQARQBGAEcASABJAEoASwBMAE0ATgBPAFAAUQBSAFMAVABVAFYAVwBYAFkAWgBbAFwAXQBeAF8AYABhAGIAYwBkAGUAZgBnAGgAaQBqAGsAbABtAG4AbwBwAHEAcgBzAHQAdQB2AHcAeAB5AHoAewB8AH0AfgB/AIAAgQCCAIMAhACFAIYAhwCIAIkAigCLAA==",
          "dtype": "i2"
         },
         "xaxis": "x",
         "y": {
          "bdata": "dXw8TkLTHUA5V0X65OsdQJmS/Hv01h5AcN9eokfHHkAr9pqpUiweQF0inqdCTh1AvLBrodhAHUCUVHmhCSIdQB/A5Erk8B1AioMDtC2ZHEAeSxpPirUdQGdQZPp+lRxARb06DIh6HEAtb7JsvfUcQHNXuuZpYRtAVw+g07+rGkCmZN/pt+MbQAimifbnZBpAs4BPYJp5GkCn8IiQeQoZQIv4QjqaVhlAnupdARqQGUBBJEKW5yQYQJHfQdsprxdALUAo73dJGEBwReYSHE8XQDwHNIkwkRZAioRAmVspFUCD+m4eMsUVQGXBcw8UYBVA1pzR5BSZFEBsMhMBTTsUQLFTzHJLURNA47cIDmZFE0DZd4FXyqgSQD8/Ss7N5hNAqNxHr5V7E0DUBd4+FMMRQNaQ8F9j+hFAVcA3oA3+EECkY4APxTsRQP4/FN9xkxFAd0tY+PS9EEDTOW8Cp/oOQObffK9UMhFA1S8kx+EVEEAS+C2knOsNQPieCRrc0w1AB5xOI6A+DkAKsBeBdiUNQMrnE7BALRBAst5BQaz3DUDEb/XzJdsOQNPb0vFNJBFAP1aCnoz0EED+ULDyAIQRQLIH6P3qVBJAIwpzwodgE0DlaIfKdeMRQNKiNO2bNRRACwSYO4LuE0BWOH3FLycTQJKQ+MK+QRVA7kWw5wG0FUCpLg4+fTgVQAAFj0b9+BVAjSbs+I87F0C9ARKaWDIXQPEXXwHbeBZANgt+hE4pF0AOHm/kcF4VQP8jsM9pRBZAhqkFqDMvFEAeV+IsQz4VQOBVjN9vaxNAUtvRPs0QE0Av3gAzLSUTQFccIR0C7hFAjX+ks1GjEUAFLnd9rAsRQDqgiMGiVBBAZTM9dAQjEEBxFn96+wURQI7yQhmTTxFA+p4VfSyqEUC3b1zGPIkSQMhebVZUJhRAHLd9ny7oE0C+cjfdM/oUQHVBpKIntBVAotKxYh0SFkDP+zBKJ2YXQAaKlsUahhlAwpX2MFYrGUCEmuC1Ck8aQLaqlEn9ThtAjdSH3XuNHEC9plvy8F8dQOkMc9iJPR9A6tcKusweH0AGMylGD6sgQJpmHEo8RyBAD8hTjwFHIED/ze/cJv8gQCQ+TrDuSiFAPHqQ7SmKIUB+rtpGKU4hQOoY2beglCFADMLCVxivIUDFfvd+WpshQKzPvzeNKyFAE89E9z20IUC69BxfNw8iQLUKRsazqSFAZPbnjaNjIUDkFiGdoQQhQLftYcp1uCFAqV03U0dtIUBLqGWeajQhQMB8dqFo0CBAnidyKqiaIEBfno45TsEgQKKkeuF+fyBA25mhVgBNIEBADVxW7HcgQD/4h6wwmSBA9cnH6ZdXIEAWB/SVLnAfQC88ssUyRyBArZ67UduvH0B4Qp2WtZgdQJyECBREuR5AiT0haTC9HUB91zcplxMcQOMKGgBtjhpACRkqDa0CGEDrGHQJWJwVQJSd1jj59hBA+JqK6PNuDUCqkykEufgFQA==",
          "dtype": "f8"
         },
         "yaxis": "y"
        },
        {
         "hovertemplate": "Sequenz=130<br>t=%{x}<br>v(t)=%{y}<extra></extra>",
         "legendgroup": "130",
         "line": {
          "color": "#FECB52",
          "dash": "solid"
         },
         "marker": {
          "symbol": "circle"
         },
         "mode": "lines",
         "name": "130",
         "showlegend": true,
         "type": "scattergl",
         "x": {
          "bdata": "AAABAAIAAwAEAAUABgAHAAgACQAKAAsADAANAA4ADwAQABEAEgATABQAFQAWABcAGAAZABoAGwAcAB0AHgAfACAAIQAiACMAJAAlACYAJwAoACkAKgArACwALQAuAC8AMAAxADIAMwA0ADUANgA3ADgAOQA6ADsAPAA9AD4APwBAAEEAQgBDAEQARQBGAEcASABJAEoASwBMAE0ATgBPAFAAUQBSAFMAVABVAFYAVwBYAFkAWgBbAFwAXQBeAF8AYABhAGIAYwBkAGUAZgBnAGgAaQBqAGsAbABtAG4AbwBwAHEAcgBzAHQAdQB2AHcAeAB5AHoAewB8AH0AfgB/AIAAgQCCAIMAhACFAIYAhwCIAIkAigCLAA==",
          "dtype": "i2"
         },
         "xaxis": "x",
         "y": {
          "bdata": "UIPwG5wBI0CdlZPn/t4hQLF5x2IlhSJAiaiyixaJIUAFROowtEoiQDb0rM5MbCFADMMrZvHrIUDc+19kRrwhQP9hJXpR6yFAwp42OOr3IEBTv0tA4mchQNRJwmBp4yBAaQgphjVwIEDRHFtcuAQgQHsHTH0dcCBAQ1/QWWJ8HkD72eqxxyceQGmvGFZ0Sx5Aj167XIsGHkB3JBlWf5wdQAUBqpnvOB1AO7FMPmvEG0B3rALt+v0bQKQcCIYSihtAuOdJi+1XGkDg+6rnEoIZQOCvQvY8TxlAdYEkB6fFGUCvUO+fYEIYQAABmdh8nhdA2aqfkN6MFkB2TvKlsOwXQBge8gXSBBdAUmxA5QnaFEAoZY1gF6YVQM68QkgrNRRALtMY+XYTFEAGXvccAgMUQN3J8klnGBJASzyc0lLlEUClJFdn1oERQDqh6Lx0qhFAyqHyCQbhEED9L4gAeUYQQPB7R1k5+Q5A2JdCQsyxC0BELaGNEkgNQPO6GhyglQxA0tbr8R2wCUA7itVBD68JQOFSsyyL4wxAA6PXg1jCC0AiR1uMBwwNQMwIdNYzXQ5AjKCl5YPVC0DhJF6MLBoOQD60xnYWnw1Avi8SAtD6DkADN//i7iIRQCL8CTtmBhFAwNMcxmbDEEDkG3DPxQQRQI9jhzHgzxFAYF42Wl09EkCzPLs955YSQDrI3YTaVBNAhAt2JrI+E0CSGNNEde0SQIlFK9f4jxJAoTksbqoME0A0XzI/FLQSQCGrPh5QPxFAByIhOwXfEUDhi6LoomERQEtXFfIFShFAOjkNwlxUDkBb+QTgRXQQQMxdOt0pSRBAdJ9giB+mDUCzDI37SHUOQCzr5Pdp7w9ArMOcg+mFEECGu94njB8QQCQFpKA9PhFAE8ur/kdXEUAaohcqO6cQQApWIpdQLhFA1rfpWJuNEUCOJFldCJETQEmYRBILnhNAZrOF0Of7E0DoYK87tBgUQL+ZRTavHBVALBa24uIQFkC74mcaoycWQO1pUejqdBdAzLW8QZkjF0DJ+eDJynYYQKge04e7RhhAAD2iFct5GUBcIstUS4EYQHTNWfUSxxhA8m2JhZkIGUB9DjzuuRcaQIQrhriRHBlA+OYFxr4TGEClRNxvxO4YQMCDO5pXShlAekQxuxI3GUDRPcA0/4wYQDWLGRvHShhAF0BzCescFkCPx/ScdKEVQMktve3moBVAoUtCGA25FUAmQ/WtpJ0UQNHIpQgZhhRA+twzCDWQFUAOmOGA0vwUQD4vSKRBvxJAe4UeAJ4LEkBbsereKLQRQKptAJWHAxJAGGeaYIuDEUBu/Dd1ETERQEuld3v+sRBAUxOGmXwaDkBU7nGDfJ4PQA7PdjM5/AxAB9JYGpRhCUCihbsqp4UIQIAoV5XsaQhAngrVdmOzBkBSOjPmissBQMmmj5IbigBAFNXdomaX/T//yofrqaj9P+BbMXLA1fQ/UcYLyPh29D/gU9Nqe3ToPw==",
          "dtype": "f8"
         },
         "yaxis": "y"
        },
        {
         "hovertemplate": "Sequenz=131<br>t=%{x}<br>v(t)=%{y}<extra></extra>",
         "legendgroup": "131",
         "line": {
          "color": "#636efa",
          "dash": "solid"
         },
         "marker": {
          "symbol": "circle"
         },
         "mode": "lines",
         "name": "131",
         "showlegend": true,
         "type": "scattergl",
         "x": {
          "bdata": "AAABAAIAAwAEAAUABgAHAAgACQAKAAsADAANAA4ADwAQABEAEgATABQAFQAWABcAGAAZABoAGwAcAB0AHgAfACAAIQAiACMAJAAlACYAJwAoACkAKgArACwALQAuAC8AMAAxADIAMwA0ADUANgA3ADgAOQA6ADsAPAA9AD4APwBAAEEAQgBDAEQARQBGAEcASABJAEoASwBMAE0ATgBPAFAAUQBSAFMAVABVAFYAVwBYAFkAWgBbAFwAXQBeAF8AYABhAGIAYwBkAGUAZgBnAGgAaQBqAGsAbABtAG4AbwBwAHEAcgBzAHQAdQB2AHcAeAB5AHoAewB8AH0AfgB/AIAAgQCCAIMAhACFAIYAhwCIAIkAigCLAA==",
          "dtype": "i2"
         },
         "xaxis": "x",
         "y": {
          "bdata": "KCR6K8dfIkDJzeChdN0gQI1jOVACvyFAGMiiIToQIUABUvw6G8YhQKAsvzfRACJApgrvkr1JIkArjmhCnE8iQGR4G8nOiSJAAWRe8tYFI0BA2s9dTUYjQPN5pNOwGSRA87u8tGspJECU3aXQqjkkQHh3gRqbviRAHUO0SZSHJEDvr0FMOiElQLB4A5I3pSRA89np/gHfJEBOkbK4GwIlQJ5jAfglhCVAZBqa8pNsJUDLh1VnncolQLEw1720iiVA+WcHourCJUAXDzGGIu0kQBNmBgybCyVABYLuiMx1JUDDUElep4AlQPhW509WoiRAwj82Ud8CJUCc/cgX/5EkQHAwf8iLHyRAUcgAkN0jJECkUVG1JeQjQBNH8qO3ZyNALIpcauZiIkBhbz/geaIhQH5IkFJcwiFAOuk1EY4aIUAtHwf4210gQFNTrWQ0CyBAlps4DOKgHUBTP0Zz0OMcQBl4GtmDNRtAiJhtqqdNGkBrtNfcyS4ZQGn6YwDh7RhANwXe+QGiF0BLpAg9KB0XQNQ+0grc8hVAkxyZ+tpEFUD3k2TrVloUQFu566ZKUhNAdtb84ZSTFEC8mwCbx2IUQHhkRmN48xRAfVCrbsUCFkDyO4DC+tMWQDaGL/Sb0hhAZrAqtcQtGUARkCgJyN8ZQAgFEF9v2BtAJM1jatKSG0DnplF8upYdQL0UKnn5fh1AwMslZs4YH0BWpsGZ6v4fQD2STU+JKiBAcLiIn+WhIECKBR5aL20gQGep8Q7XKCFAgioIq2UQIUD362IuOQ8hQB21BW33mCBAHt0obaLWH0BsTt7nGDIfQP1FCFEFDB9AuMvb9ozNHkC0W2NLJzUfQAB1rbqiXx5AVyzS3+gKH0BxigSyECEeQHXf/i4dxh5A8OHB7YNyH0Don50h4m4fQOKf5JIcKB5AVHV/RDrLHkAN72wEOEQgQKe90CqoNyBAfIy3L8MBIEBsocwfY0QgQOm0vxoLwCBAqRnRTsz7IEDcTrX1HLUgQMO+nAmgsSBAW5RIcILgIEBs3KZbtSghQCchQL/MISFANPaUwA8SIUB+8TWIyxAhQGbuNAgDTiFA2b6bXlWeIECnN+loxRshQDFxwmYTbiBAU4+YSZXwIEBXoHprHmogQINOrXHeACBAcDIKlXFzH0DZTB7XZb4fQFa9aiyoMR5A8F9SdcmLHUAXgVzp1vIeQKhicV4xkR5AnD8lTSdwHUBA7QBXzaQdQFYDYru5TRxAQ313lX0fHUDCnWIiKXscQEsvkBY6pxxA4TMbRaKZG0Ch4JE4ixMbQGEMpn65ZBtA63esBEVpG0C4rUFKNSEaQPCYXD5ClxlArLs49FQ2GUB+5rhIj4YZQPPoV/uCyBlAcKWZNPaGGED4YkptDYYYQCNXbiIFrhdAhvah4BwRGEAFNSKMuoEYQGAGnd1KSxdALZ07qqBaF0AEl2QP+AsYQDqWp+kvlhZA9vq8N+HGFUBRd2JXU+AWQA==",
          "dtype": "f8"
         },
         "yaxis": "y"
        },
        {
         "hovertemplate": "Sequenz=132<br>t=%{x}<br>v(t)=%{y}<extra></extra>",
         "legendgroup": "132",
         "line": {
          "color": "#EF553B",
          "dash": "solid"
         },
         "marker": {
          "symbol": "circle"
         },
         "mode": "lines",
         "name": "132",
         "showlegend": true,
         "type": "scattergl",
         "x": {
          "bdata": "AAABAAIAAwAEAAUABgAHAAgACQAKAAsADAANAA4ADwAQABEAEgATABQAFQAWABcAGAAZABoAGwAcAB0AHgAfACAAIQAiACMAJAAlACYAJwAoACkAKgArACwALQAuAC8AMAAxADIAMwA0ADUANgA3ADgAOQA6ADsAPAA9AD4APwBAAEEAQgBDAEQARQBGAEcASABJAEoASwBMAE0ATgBPAFAAUQBSAFMAVABVAFYAVwBYAFkAWgBbAFwAXQBeAF8AYABhAGIAYwBkAGUAZgBnAGgAaQBqAGsAbABtAG4AbwBwAHEAcgBzAHQAdQB2AHcAeAB5AHoAewB8AH0AfgB/AIAAgQCCAIMAhACFAIYAhwCIAIkAigCLAA==",
          "dtype": "i2"
         },
         "xaxis": "x",
         "y": {
          "bdata": "dEjkqGCbJUB4lHkahpkkQDzSRgQhaSRAv8Lt+Xl5JEBhuXlx0RolQGPdSdFmpiRARBs6aHXVJUB+6ywmctolQEhAcohnjyVAtG4vBTdyJkBUqYJtvIUmQByRNghURiZAFA8hbIOfJkCmJGrDHKEmQIgmoia6fCdApOumYm9nJ0C5U9APWz0nQG+q/r6e4SdA+GtI/O6OJ0Dd/ZtS+OcnQI3bOhqo8ydARKRiTnV5J0B0u4RUrrgnQGmQhy6WfSdAJyommh0jJ0D12p/S1+cmQBIh6Yg0oidAgpGK7NAHJ0Cqtg6jg2wmQOq1ManE/SZAyxuJFAD0JkBZVrDJuoImQJSjIOxhzCVAe4fv09nxJUDPHtE8feQkQOTA7AqgYyRAyRjU3UtBJEDXR+idE5ojQKoiquKbhiNAOsx2HS5iI0Bb1M96b0EiQIr/GzTsgyFAHodH/HmhIECqsuFuJN4gQNcLcqno2x5AxmxfV7IQH0AAgxsOfvkdQK7phBnBxR1AC8W7upiuHEBcA8sXq0ccQCLcV+ge3htAbFfLHQaJGkDx6bMR2fQaQMunbu3nvRlA8V02d1N5GkC2/ZScgRcaQLlXb0iUERpATHfyvk8KG0Carw3kitcaQL/CKlAojRtAAYegG5xaG0Bq7v7s7ygdQIT5aMKluh1ALQb5QW0wHUCsi/FVzvwbQBofVBNtlxxAbZezX3KOG0BLDHBwQ/QcQA7th9cQKRtANXiT1eX8GUD3eWw+gLIZQLQGJmkqWhdAYRVordr2FkCGzny1wPsVQDlmpKGI+RRAK49k1BtkFEApj9AaWvMRQD5USrej1BFAjJd4U6WwDkAJnROVg3APQJ83zdOBegxAZqF2QhpEDEBHl359ESALQDumamW68QhAi6GkkSt+B0BlFHLE/eMHQKVKlRM1pwhA8LOoKtL4CEB21MUn3YAKQOtma0VhWQlATYwbVtjNC0CTff76/MkNQJh13h5suQtAXKOo1x5ADEA2prQsfiYMQMjMAAE6Kg5AIwma9aGcD0AuEM9/ktALQFYiGP2C4AxAx0JEhELcDEA7fA8vH1ENQNJLaXJvpQlAV6PztG9hCkAJd1AZyh8HQH/GdMovQAZALK0pnEIFBkAF+795WtQBQCfqeesvK/0/1ErnUshEAECQiWJMnqr7P2vIU9Ykcfs/z9PxzFTf9T80QvESwt7wP3iriFpYn+4/cKG3Dznc7j9HBzEahy/nPwh8RGm8Hd0/M2QsesFJ0T9ZS7cuJEzpP4C4I3rbPeY/pPe57m4L8T8KS1IzTwvqP5zsSN48+/E/JPNAmnq84T+GB43ob4rcP/s2wLgagO0/FZtR6dCN6z9eKbf96rHlP/aEDz6L4e4/DYw1Os2E5j+ONHaY7kTwP/e4u0HgvuM/2iAM+LEZ1j9H59Rwwr7sP8iXO4uaiOU/zNEIpYxb4D9rINauLgXbP6JQUnRJhO0/sACeaR1B7D8RY2XUfs3qPw==",
          "dtype": "f8"
         },
         "yaxis": "y"
        },
        {
         "hovertemplate": "Sequenz=133<br>t=%{x}<br>v(t)=%{y}<extra></extra>",
         "legendgroup": "133",
         "line": {
          "color": "#00cc96",
          "dash": "solid"
         },
         "marker": {
          "symbol": "circle"
         },
         "mode": "lines",
         "name": "133",
         "showlegend": true,
         "type": "scattergl",
         "x": {
          "bdata": "AAABAAIAAwAEAAUABgAHAAgACQAKAAsADAANAA4ADwAQABEAEgATABQAFQAWABcAGAAZABoAGwAcAB0AHgAfACAAIQAiACMAJAAlACYAJwAoACkAKgArACwALQAuAC8AMAAxADIAMwA0ADUANgA3ADgAOQA6ADsAPAA9AD4APwBAAEEAQgBDAEQARQBGAEcASABJAEoASwBMAE0ATgBPAFAAUQBSAFMAVABVAFYAVwBYAFkAWgBbAFwAXQBeAF8AYABhAGIAYwBkAGUAZgBnAGgAaQBqAGsAbABtAG4AbwBwAHEAcgBzAHQAdQB2AHcAeAB5AHoAewB8AH0AfgB/AIAAgQCCAIMAhACFAIYAhwCIAIkAigCLAA==",
          "dtype": "i2"
         },
         "xaxis": "x",
         "y": {
          "bdata": "U1Ff+dotJUBPilAI/B0kQNFjTclR5CRAo8apUju5JEDxjkrXgS0lQKBaHqiM0yRA89uCzipXJUBs5T6vx0clQMZRl7DjDiVAiXF8ETLiJUBShq43FSslQN+M9AcamyVA+B8T9uphJUBS9iGSPRolQDS51U0tmSRA+3iopfWVJEDtmZkoPP4jQKSfHQe9iCRAjx80hovOI0ByfsDYjeYjQExiqg7awiJABanXVaY8I0D1lN4OEgciQCNs2oJQ8yFAqpWhSJNLIUA+Y1COk4YhQJz472YMpSBA5eOHez1sIECnGTBq8PQfQOEQCal7KSBA+teXPGkPIEB63qswlBgfQPL0dLbs6B9AXpDky/mrHkDJITywzGcfQNtVZdmwER9Ad8T2nlNJHUCCDmeG32wcQP1LXgjzKRxAFKn0yNUGG0AxMr+0fh8aQM5mUOTZPRhA2ZRJQ1dDFkBSnPinXSATQHB5599AcQxAbm60TO0jCkDRj17FWP4DQJVgdQLXaP4/yyyPk8RE+D9Kz188+iL3P+S5J8p91uU/YEAfKTl99j+3hmkj85z3Pzzp64jn1vU/CnbgbJdg+T9ZNEZTJeYCQCHN4WOB9gJAovYgjR46BUD52ML3TWsFQBgszcoFjQlA7p2GfgV9DUAu190hAXoQQJ4zCHA90w9ALdf/SMSYEkCy64acqN4RQBCBDbxTnxJAV29CGW9fFECOLc1jNkwWQKkhbWkkrBZA6UxQpGeOFkBgYtP8LeIWQOkJyosMshVA62cMa9XzFEBLD2GW5tkUQOf6/ptU5xNA3VcDOnIwE0B6EvQaf54TQKZcixueBhFAk1BxAaVzEUDe8OPFDEQRQJ/4MrsrYBBA1i3jjwloDkB+jGXP2sgMQJrURgwMFQ9A8UIYnT/QDkAg4rPda10OQCz+VhCSxhBAv8oBkQ+OEUB7A+4Ed9ASQAVNGerbLhNA/FCdVmSTFEBJV4slKzQUQEZyrO2DBBVAKjc73hXcFUDfCsoYIyMYQLdUqxCcahhA2UScbkI5GEBw2RcvhO0aQKZpxHEbkRpAL6oLNUrmGkDkax9NiZgcQFwmK4SZBB1AIc+ge89yHEAOWvQRGWAdQPoaKgm0khxAaZm3J7LdHECI+YstzZYcQOrupE7b4x1AcEe42INRHUCD/qsHsoAdQEd2GO5qUBtAwdvwHcOhHEBKAnscS4QaQL/bOP5F6RlAnk+y3fCDGkBflebhmcEZQLqUQsprpBdAFHr8kSJsF0B/Ndqu9R0XQAu1HcycsxVA+jgOA7tpFEAddjfjqDcTQO5Emp9vTBJAZeVPefYyEkBE4LZNfckRQKxxDd4xARBABYsOGP2sDkAjZGOGXoULQC9OO8MJHAtASiVoKigTCEDSlLFD+WQGQCg96yWiFQFA3eiGEJmE/z+G11eETlv5Py5jFcU7iABAL+8lxmxG+T9spwrFvW/4PxRdwYQKQfY/S2cOOJGM8D+9dx5qnKnRPw==",
          "dtype": "f8"
         },
         "yaxis": "y"
        },
        {
         "hovertemplate": "Sequenz=134<br>t=%{x}<br>v(t)=%{y}<extra></extra>",
         "legendgroup": "134",
         "line": {
          "color": "#ab63fa",
          "dash": "solid"
         },
         "marker": {
          "symbol": "circle"
         },
         "mode": "lines",
         "name": "134",
         "showlegend": true,
         "type": "scattergl",
         "x": {
          "bdata": "AAABAAIAAwAEAAUABgAHAAgACQAKAAsADAANAA4ADwAQABEAEgATABQAFQAWABcAGAAZABoAGwAcAB0AHgAfACAAIQAiACMAJAAlACYAJwAoACkAKgArACwALQAuAC8AMAAxADIAMwA0ADUANgA3ADgAOQA6ADsAPAA9AD4APwBAAEEAQgBDAEQARQBGAEcASABJAEoASwBMAE0ATgBPAFAAUQBSAFMAVABVAFYAVwBYAFkAWgBbAFwAXQBeAF8AYABhAGIAYwBkAGUAZgBnAGgAaQBqAGsAbABtAG4AbwBwAHEAcgBzAHQAdQB2AHcAeAB5AHoAewB8AH0AfgB/AIAAgQCCAIMAhACFAIYAhwCIAIkAigCLAA==",
          "dtype": "i2"
         },
         "xaxis": "x",
         "y": {
          "bdata": "Otl0At5qHUCG9Zjaix4eQB8cNf7iLh5ApWdQUWu5HkDDfMNfBnEfQC02K85cBiBAnVAh1noAIEDyk7d1SUAfQOMnpIk3NCBALkvTFwQPIEA4BIoUgnEgQLrnLzF8zCBAwJdHg6zfIEDvfYGRV54gQH/z+0lw8CBATNHmg4+vIEA5jNE6e80gQEEpVOELMSFAVDdunfc4IUCxIzqFV84hQE3ANqYKZiFA6bRpM6/+IUBnJ+5LXmohQEcT5dzjPiJAOG5mzXbbIUB+JoCM47IhQB5VoPeKtCFABkUt1Lf2IUCs2Svqyd0hQIPXLDoMfyFASB1W9lq4IUC5xvEv2DchQAmmg/p/+CBAtetd0H90IEDdcWztozEgQPECvReVqCBAhx/UtNZtH0C3nMgpkuAeQEjJr6S1ex9AdjjEgSxOHUBA9tClTvsbQAVseD7t3RpAjKMYluWbGkCoQVeosGEYQJ4DzRBB+BdAXTyQA8pZFUDaj09CVUIUQOohZJp3phRAzOAMdzzvEkDN1xzeiJQSQGOIMDHk8xNAdABCtC4jEkBF4awQw4ATQEy4g9SGuBJA1lPtG5KVE0DcrEUlbgsUQIP6fQw9tRRAKlTGiRG7FECsfemKoxkXQMnldjR+bxZAhB8nGSZxGECXfcLu8doYQJlhuqbn4BlACuRCzmaXGkCLlno6fOEcQHqi53BK+RtAGgDA7uNMHUAXHZVPPBIfQAj9O0Qs7x9AWF0bR88uIEBaFoebqzUgQHqywUy+YiBACIDBl4FFIEDByvYt1zYgQC7MK98ETiBAD1nKUjoTHkDNd4PVWJcfQCf6SIP2TB9AGfwBmv6tHkC1OdGSHBQdQCAbsE/yAR1AaLZj58WXHEAIDDtYcNAdQAMp+uAmGx1AQV3cxogiHkA31QQpr+wcQMdJWUK6iB1AqdXu8feGHkAVUn603d0eQPdkaWKJ1h9Alqqyw5zCIEDa8ISRLwwhQB+nKzTsqiFA84EMDfTpIUBBrxWS9j8iQF6lnJAz1yJA6R5+clfyIkCZZc8x/BsjQJxbsIgT9iNAzFkxGKMQJEAzudGc4hAkQCiYun1ZfCRA7QvHygS3JECnzOpL4LQkQN8kO2wWqiVAVpuKdRbFJECW73+r5uQlQFOOvjKR2SVArtelJdA5JUDbgaobvPYkQOePiSJncSVAKBh1uVRKJUDBVeTsLB4lQDJYWGhO2iRAK7YmN3f6JEADeJMCpzMlQDM2mWSZZCRAyj3TYXmwI0CjV/2j/YUjQH0g2yMGGyNACLPxVSP+IkD43HcIwCgiQPl4hzuEJCJA8MEw/FQwIUCQ57bBAZEgQCUD9e8usSBAlR5ti9DSHkCNK6WTNt8eQGjDYWfIyR1AsnKmss9ZG0BZp06mX2UZQBErqeXmbRdAwe0SZ+uEFECrIqDOo/ETQBxZwa0sXxFAsrsw2HGsD0Dh4lwcwvkKQB8EHtbpjwZA/xq6wRuHAUCE/FHMkGv7Pw==",
          "dtype": "f8"
         },
         "yaxis": "y"
        },
        {
         "hovertemplate": "Sequenz=135<br>t=%{x}<br>v(t)=%{y}<extra></extra>",
         "legendgroup": "135",
         "line": {
          "color": "#FFA15A",
          "dash": "solid"
         },
         "marker": {
          "symbol": "circle"
         },
         "mode": "lines",
         "name": "135",
         "showlegend": true,
         "type": "scattergl",
         "x": {
          "bdata": "AAABAAIAAwAEAAUABgAHAAgACQAKAAsADAANAA4ADwAQABEAEgATABQAFQAWABcAGAAZABoAGwAcAB0AHgAfACAAIQAiACMAJAAlACYAJwAoACkAKgArACwALQAuAC8AMAAxADIAMwA0ADUANgA3ADgAOQA6ADsAPAA9AD4APwBAAEEAQgBDAEQARQBGAEcASABJAEoASwBMAE0ATgBPAFAAUQBSAFMAVABVAFYAVwBYAFkAWgBbAFwAXQBeAF8AYABhAGIAYwBkAGUAZgBnAGgAaQBqAGsAbABtAG4AbwBwAHEAcgBzAHQAdQB2AHcAeAB5AHoAewB8AH0AfgB/AIAAgQCCAIMAhACFAIYAhwCIAIkAigCLAA==",
          "dtype": "i2"
         },
         "xaxis": "x",
         "y": {
          "bdata": "1regOT/xI0D2+UDSaqUiQErn2GxxkiNA6KW7uQXQIkCKaLXVe9cjQFeHS9bsOSNAvn7kRxGxI0AsVi8gg/YjQNHqR9xZuiRA+cEE+5apJEC7eLvIwW0lQJCHEIzu0yVAkECoHlaaJUDNK2uRKgQmQAbKjcGeTSVAUnkyvjv0JUDlvLbufmomQFgJTJaGeyZATYe3C25fJkCYamJe8i8mQG/1jbMSqiVATlsh669HJkDCODbFpc8lQBdOW8S9gCVAe3ZHNL/NJUDUHqePGTUlQLCPElg95yVAp3gI5IweJUB09930AsckQIyeuzSrgyVAhh5fEy06JUAC5EPh58okQBq28O6P7SNAwv/XkrXrI0Apz59YYMojQHCR3S8kWyNAwiHDtSo1I0DFuYyeO8siQN223XuQBiJAo2J81JPiIUAIrfhV6hUhQFQ/CSgxHSBAM/klFBxqH0Dd5VBj5j8fQIV/QvkyyR1AI6leUxuKHUCV4HtUWYobQETKX/rZlRtAjeniwimCGUBHaahZT0MYQIiyeqYJIhlAHU7DWPHSF0BPHzgc7JEYQBm1HzvsmxhA/Vr9EcwoGUBDU4uKX5oZQAoNCpErYxhA81haDKNIGUAcgJS/UrIaQJ6nrxZnRxtAO9bsAb7YGkC3Hi/e7b0cQNX1DJlvgh1ALbWY5QQNHkBX4URYXqUdQEvFquhUtB1A2DOok1sBH0BRG/ex2mMeQKOmrgcLqB5A8tXULqZFH0DlI9XcigweQCjkX4C6BB9AynC+bGm6HECcq88CQgEdQMUobMhG9xxAlxvhK3I5G0BYwkplZE4cQKV7fIDUoRpAm+xzDJinG0BS9JxYCxEbQMW4be/6hxpAm4Q4rvmCGkDeh8X0OvQZQE45pFmeZhpAlIEk9XiRGUBWWzB2A7EZQNa+9ocXeRpAtcEh6pPjGkCq2+pNs3EbQEkgCCvpqRpAXYfqjcz8GkAEMeDQfW0cQA6Y3DUeMBxARcNmMgejHED4DN07v2scQHnBitEgZhxA+n1lnSkXHECFckxlK04cQHtsSArIuBxAO941nGpfHUCY2Nl0OFAcQEks261y2htAuvOstDnEG0CC6iGb57sbQCCEpL4p3hpA+KLZ/56NG0AQN3oJANsZQDbIj8KJRRtA/cwgacqrGkBaEtLebM0ZQIcnnRkm9RhAyt/AIKc+GUCzOrcAdhcZQBqlvXu0ZBlAZGyvqtz6GECM58GBdqYYQO9Acu/RRxhARDP0BlGZGUCPX+mixmMYQB6/qEGF4RdAoWM5hWr1F0CoIArNK1wYQFDzxSKL4BhAPWY5Jy3dF0A5bDV5AgwYQOSQ4ZUXtxdAS/Y0kaoiF0BYNya1xgkYQCGKOIRgKRhAza8mqbqmFkC/zWE5I/QVQLuPa0l5WBZAsiI/nNtIFkBcblxsJa4VQFxeMWRvShVAn1EPcSXlFECNewqpKEkSQF9I6IihcRJAyoR7JJAdEUCGnylRJdcMQA==",
          "dtype": "f8"
         },
         "yaxis": "y"
        },
        {
         "hovertemplate": "Sequenz=136<br>t=%{x}<br>v(t)=%{y}<extra></extra>",
         "legendgroup": "136",
         "line": {
          "color": "#19d3f3",
          "dash": "solid"
         },
         "marker": {
          "symbol": "circle"
         },
         "mode": "lines",
         "name": "136",
         "showlegend": true,
         "type": "scattergl",
         "x": {
          "bdata": "AAABAAIAAwAEAAUABgAHAAgACQAKAAsADAANAA4ADwAQABEAEgATABQAFQAWABcAGAAZABoAGwAcAB0AHgAfACAAIQAiACMAJAAlACYAJwAoACkAKgArACwALQAuAC8AMAAxADIAMwA0ADUANgA3ADgAOQA6ADsAPAA9AD4APwBAAEEAQgBDAEQARQBGAEcASABJAEoASwBMAE0ATgBPAFAAUQBSAFMAVABVAFYAVwBYAFkAWgBbAFwAXQBeAF8AYABhAGIAYwBkAGUAZgBnAGgAaQBqAGsAbABtAG4AbwBwAHEAcgBzAHQAdQB2AHcAeAB5AHoAewB8AH0AfgB/AIAAgQCCAIMAhACFAIYAhwCIAIkAigCLAA==",
          "dtype": "i2"
         },
         "xaxis": "x",
         "y": {
          "bdata": "c1qNR/mIE0B0qbz5cDgXQKN6fpTe0BZAUuaGgWB5GEBfRZunOxIaQJHirO/z0hpAnlSUqF0nG0Cyux0Pf2AdQK1ap4r84BxAcz8rgYHoHkB/C5RWM3YfQI5dT21ItSBATKa/NmxMIUCc94mYAtUgQEGnEea45yFAPHggkb/pIUCw/yTnn+4hQPdL/ajZLyJAVA+kpOFcIkCCkpnCeYgiQKra7rlNRCJAA3mb9QWTIkAhxvO1uSEiQMrZ4hmxWCFAWnX3RybUIUBqqvVCZxkhQGOZQBaHliBASZOYjT9JIEBGqu74HqIfQCr3kY638R5AL+An7iQOH0CcAzZHUegbQEzzp5+8vhpAEf18GlCgGkBFHPoOHNQZQCso135nyRZACT+rMus5FkD/fAX6jiwUQO3F4mFaABRA+Ob2aPGREUDqcyjbY+kQQMDf7ZQxyg9ADLfz7VJECUDGjwIJARIJQNHMb2mtBglAdSid3l83B0B2DQZMIVcJQKSmPO0h1QZAgcSoj7/xCEDwy+mJTegKQIqJZT187wtA70IVc3SqC0BLNQdPutoNQH7hPynowhBAsUAlWbN9EkDaPuOUeMcTQB5xw7NFABVAy9Vi7WcmGEBH+Oa/ODIZQAUpLtYmjBhADmpayqxfGkANcqjSZ8kbQCIavY/McB1ACJST4DVIHkDPhlpbvxIfQLEo1MwKmCBAkCSmY4SLIEA1ewt5IEUhQN9Z29Um7CBAQv1hLeHoIEApEgV4OBYhQCZWnb94SSBAFyU8yqxRIECGFlFqXHQfQCmseuW60R1AZrWekg1uHEA0qepTLFwaQNqbnySisxlAKoB3MS2rF0BeNrG98E8WQAPF2IiPphRA24AFiSLiFEC3sDZG4LMTQERwfAEC2BNA0OadS2w1FUBvSdy8gicUQFiyGhBU8RNAJmJ5nQw4FkBjFcDu54QVQIyk1dOSqhZAvd4oxl7FFkATvU+ghXcYQHdsxhnkURpAJ3cyWQ+OGUBAJ+82ZNMbQJ6Gt/gTGRtAikO9jMiHHEAW0hRagfMcQKX3oGy6Rh5A9PCQ7da/H0DRUg47Oh0gQHSVT0dWpSBAsCkg4whcIEA/z2hbgnshQNehpcfUOiFAD3k02vnwIECB0ND9z0chQAPeObZn/iBAhXI5AfHcIUBHISAMB1YhQMr40HYHNCFAWkDbCjUWIUAwMeb2860hQFmqmnPbrSBAAbD6HlYDIUAmqS76AgghQBQWEe9xQyBAGnyw1gbqH0DdIq9daaEfQPCiXcyjox9AFTV67Y9nHkC2lcZwOEUdQIJMp1dqcxxA4TWgWnsVHEBxfofAoOsaQCPr2abOWxlAvYcqFLkBGEDoRG2nn4oWQBKmEvdEZxdAz4ZltxzAFUDk5R4jImoTQEuZ1xGccxFAVeL2FvrtEEBlWlqhz+YMQB9ZnOgbnApA7Z9874vKCUAVrkKSXE0EQMkko1IhgANATSHpRquvAEAPch1SYTL5Pw==",
          "dtype": "f8"
         },
         "yaxis": "y"
        },
        {
         "hovertemplate": "Sequenz=137<br>t=%{x}<br>v(t)=%{y}<extra></extra>",
         "legendgroup": "137",
         "line": {
          "color": "#FF6692",
          "dash": "solid"
         },
         "marker": {
          "symbol": "circle"
         },
         "mode": "lines",
         "name": "137",
         "showlegend": true,
         "type": "scattergl",
         "x": {
          "bdata": "AAABAAIAAwAEAAUABgAHAAgACQAKAAsADAANAA4ADwAQABEAEgATABQAFQAWABcAGAAZABoAGwAcAB0AHgAfACAAIQAiACMAJAAlACYAJwAoACkAKgArACwALQAuAC8AMAAxADIAMwA0ADUANgA3ADgAOQA6ADsAPAA9AD4APwBAAEEAQgBDAEQARQBGAEcASABJAEoASwBMAE0ATgBPAFAAUQBSAFMAVABVAFYAVwBYAFkAWgBbAFwAXQBeAF8AYABhAGIAYwBkAGUAZgBnAGgAaQBqAGsAbABtAG4AbwBwAHEAcgBzAHQAdQB2AHcAeAB5AHoAewB8AH0AfgB/AIAAgQCCAIMAhACFAIYAhwCIAIkAigCLAA==",
          "dtype": "i2"
         },
         "xaxis": "x",
         "y": {
          "bdata": "D8uZBXrNIUD7QCoYVPYhQCQlKscpECFAPLofes3FIUCbqg4ZPPYgQAhDQcn/MyFAaZfZF59DIUAS/SY64V4hQOe6fPi+cyFAoeY+qKPjIUACQgPEWTAhQPGOZRz7XCFAgY5pUBFfIUCHFdnhgBQiQFCQQVfcpyFAF/NNnjefIUCPEA0dFWQhQNgHD9eRcSFAX16KoVGKIUAucvggZzkiQBnMJXCusyFAy1Y+WWNSIUA36IVH/xAiQH9D5a1RgCFA6yRvZmsgIkDVIGH7PbshQNNUx1EmMiJAc6G1V7MBIkBwF6zJCf8gQD1NQAsHniFAIq3FYLVfIUAdE+6BIJIgQHwMYyxt6yBAecE+NVqFIEDmt6LfWsAgQMGTYqop3R9Ar1vCVqYoH0AODrX19e4fQI4BYQ3h2B1AR4u0Yv7VHUDZEP6z4+QbQHafXHJSAhxA8WbsDrr6GUDYa127Ec0YQOCg6KLOlhZAkOnZMRi/F0B9mlQ/UbsWQJv+ha84uRZA+JLY9FfhFUAwYh7wV7EUQOERZ+01nRRARdw3Sf9/E0BN9XMLEKgTQPijfbpNnxJA0WUGddqaE0C3m9/YiEsTQAD42N63xxNAdXKmiVmLE0ArFKpbr4oUQGiz9yhgAxdAAiG+3R/8FkC0vnMOUMcYQBopJs5VfhlAxtvkt8znGkAec1fwMXccQGJbf5O/ghtACgvZ2dT8G0A6fv40iysdQD38EyN/6hxAKtJifg42HEB5CTd6RFQdQMuY26vMpxxAzDw8BQdiHEAwLkkg1yQdQBiI6pMpuBxAWmhFV7/RG0CwfBaxFPAaQJUz/H4iUxtASfdqcWEVGkDfGl2pz4waQHJz7mtBRhlAQoKoO8PUGECl6JN8a0YaQDm+lg7fBhpAgCrPE/jPGUBcy+IOP2IZQBTGtLLuMRtA2niX5RzKG0Dhro2Z3lQcQOYNy5dFBB1AXerr6h4OHEBJ6CO6NwEeQD+Yv1uCXx9AyKEHyrEsHkC/EoNf9eIeQJqi8MjNHiBAKMvT/6ReIEANG2ZMMh0gQBQuLILtYSBACj/aBmW0IECeWaB/sCMhQGTVv4uDoyBAIQNJJxUNIUBZXa1QhaghQDsxtlFIZiFAVd02ZQNCIUAqzWS4EQchQMV1A2QfnCBAA1wqbTxxIEAMw7ShQ9sfQLNU1mzOYyBA21+Lvr82H0A51hFFPAAfQAWdfZgbTR5AkHxo2OQAHUBlhbFyE8EbQOouasrDVBtA7GcQWpQaGUADlZZuhQoYQLxK5Tmm2xhAKQ6SQMYPGEBtQObmYLYVQGHJ2UN7BBRAKsj1FdArFEDoscy1PU4SQNIo1kDtrhFAg8E1JOSBEEDAcUyXtGAPQP7CgxJNrApAOaMqi967CUB7OsL1LtMIQIw6PrDsDQNA4jL0u9NJAUDzwKqlSan9P/yvazzbX/w/+NE5UGQf+D+5/J2BLkfyP7lBlQSP7uk/mOHKfQBC8D+XKiCq5FjtPw==",
          "dtype": "f8"
         },
         "yaxis": "y"
        },
        {
         "hovertemplate": "Sequenz=138<br>t=%{x}<br>v(t)=%{y}<extra></extra>",
         "legendgroup": "138",
         "line": {
          "color": "#B6E880",
          "dash": "solid"
         },
         "marker": {
          "symbol": "circle"
         },
         "mode": "lines",
         "name": "138",
         "showlegend": true,
         "type": "scattergl",
         "x": {
          "bdata": "AAABAAIAAwAEAAUABgAHAAgACQAKAAsADAANAA4ADwAQABEAEgATABQAFQAWABcAGAAZABoAGwAcAB0AHgAfACAAIQAiACMAJAAlACYAJwAoACkAKgArACwALQAuAC8AMAAxADIAMwA0ADUANgA3ADgAOQA6ADsAPAA9AD4APwBAAEEAQgBDAEQARQBGAEcASABJAEoASwBMAE0ATgBPAFAAUQBSAFMAVABVAFYAVwBYAFkAWgBbAFwAXQBeAF8AYABhAGIAYwBkAGUAZgBnAGgAaQBqAGsAbABtAG4AbwBwAHEAcgBzAHQAdQB2AHcAeAB5AHoAewB8AH0AfgB/AIAAgQCCAIMAhACFAIYAhwCIAIkAigCLAA==",
          "dtype": "i2"
         },
         "xaxis": "x",
         "y": {
          "bdata": "UHItK/80I0Akyla9QKQiQPzRPLpgsyFAomq3VhYoIkDlSxASspwhQEF0MwSz9SFAGCrsPdvoIUA8TkwFCmghQK1PkYGV1iFAYxAOaETqIUCVb74xI48hQLvypSuI7CFAxCeGzvwSIUA9SZN/4uUgQI4z306zViFALEgO4ZzkIEAmINYzgjAhQPtVt9mfByFAHwqCUOcEIUAakEX5FswgQD34lLUXaiBAqyvyN/tnIED2HP7TBZsfQMarUErc+R5AsdPgixe3H0CsOZ6W6D4fQPaT5Fusvh9AmeW3qNbAHkCRfwBdZJodQN3yDs/FDh5AG7AHBW41HUCCOcP80sYcQC8HqxSH6hxAr+sJbz1kHEDKAxJK/ZYaQEX/5na6kBlALTZ7qxKuGkDzw8gX2mcYQIVH6kOH6RhAgcTyncPNGECOfN+EQnoXQJOv4apZlRZAhBnnOsyJFUBYGeAhD6AVQArs/Q56chRAwXcLEuz7E0APwYEr3s0TQN2i/a0lCBJAXEUqNu3tEUBEVloARDQTQK5kP9Z2hRFANt3gRr1oEUDuHEohhLwSQEZJf4jh0BBAH9wL5JU4EkBUvfLdy/AQQKjhbALvPhFA+5ABz6TWEkBlpsaf7qESQEB6CpShoxJA6xb/GQ0AFECHQAmmulITQExcg+e7xhRALXPNTRo7FEDUG1kCXeUVQFYwvlV/oRRAm4LtTer5FECFW9k1b70UQGonXoSwVBVAKw8pDgMjFEC5EQ8Fz8MUQM/mtrodURNADwqw6DbSFECsh7gsVE8TQDXcVTOj7hJAJnrqwBzXE0BrqxDX/38UQLdXgUQECRVA+uNX1Y30FEDn5C/fA1IUQJYnwoOAiRRArdlXBc9uFkA5Vyid3rUWQCER3lcvrBZA8zhMqE2ZFkD+20J4twcXQOt6UA+RUxlAFwpYq4JvGUBZw7JQ+t8YQJy8ZAsrUxtANZZ7RZVgG0D1hRGQs9MbQJpUBpTCSB1AmOncxZDNHEBjxb1VnysfQMASlxGXOB5ADZUYfh/fHkApfuJIvLAfQKeF1m7k9iBADi9kiKvbIEByNKHm+5IhQB/EZXhzlCFAmqRq78++IUCFhud+83AhQE1lA7iM4CFAy1cL38sLIkDK3AwJ/KgiQBm2VwQ3KyJAfQUgUKzyIUAHgKjwQL8iQAKG3+NU1iJAU8ssY0dbIkAcvm+X26YiQIuV7vWEiiJA8faPabcoI0DDbIYTjw8jQKndruYzVyJAra0aDBIGIkAr+RP/13AiQN+iJV4DvCJAmXYmGErUIUCSBLLUAEgiQKSUXxFuiSFAY4tSx7dJIUBck4xq9AshQOAIXzMfkiFATwwOdudZIUAaKWQzIPggQA4KY4XlQSBAGNKK8igsIECrDa+FJTkgQBDG5ln7JSBAhQRokD/UHkDI0Gxe+3wdQICFhqcggR1AVPsjRKhOHED8g10WtEEcQKemkd9ScRpAG54UWjnwGECqnFcl7AUZQA==",
          "dtype": "f8"
         },
         "yaxis": "y"
        },
        {
         "hovertemplate": "Sequenz=139<br>t=%{x}<br>v(t)=%{y}<extra></extra>",
         "legendgroup": "139",
         "line": {
          "color": "#FF97FF",
          "dash": "solid"
         },
         "marker": {
          "symbol": "circle"
         },
         "mode": "lines",
         "name": "139",
         "showlegend": true,
         "type": "scattergl",
         "x": {
          "bdata": "AAABAAIAAwAEAAUABgAHAAgACQAKAAsADAANAA4ADwAQABEAEgATABQAFQAWABcAGAAZABoAGwAcAB0AHgAfACAAIQAiACMAJAAlACYAJwAoACkAKgArACwALQAuAC8AMAAxADIAMwA0ADUANgA3ADgAOQA6ADsAPAA9AD4APwBAAEEAQgBDAEQARQBGAEcASABJAEoASwBMAE0ATgBPAFAAUQBSAFMAVABVAFYAVwBYAFkAWgBbAFwAXQBeAF8AYABhAGIAYwBkAGUAZgBnAGgAaQBqAGsAbABtAG4AbwBwAHEAcgBzAHQAdQB2AHcAeAB5AHoAewB8AH0AfgB/AIAAgQCCAIMAhACFAIYAhwCIAIkAigCLAA==",
          "dtype": "i2"
         },
         "xaxis": "x",
         "y": {
          "bdata": "ek1VYX0NGEBiYPyJYu8YQF1pb/43EBlArlcLduvRGEAccRYjdIgXQMpp6Ys8qBhAF5Nnu9VrGEAhubJxVIMXQC5qo+iBdBZA1Iyzubf2FkCusdXa1i4WQOd5TzfJBhVAHsEu2Q/OFEBAeFmEyBAUQLKa30rrpBNA8kFlM6buFECUWxfnBcoSQNwtBCzsIhJAvcLVJuf3EkDf90SpPMMRQF/GIlJMSRJAAy/Pc1MZEUBvnaPClJ0SQKyOBDpm5xJADAvX4e2wEUAtyDRrg4oQQLAYaZdlmRBAgKFd9EVLEECZybN75loRQAcWUogDzA5AwW6AtL/QDkCWw5Aeb0ENQPsuF3/8XgxAOCLy2xOADUABJW/obtALQEsDp/GjCAtA48YWY5QgDEDc55dHp4UIQHQQa7ck0wlAf4ywaAgICkAmyYrMGaQIQEMmHlN+SgVAdZNOeS1tBkAOJuYJh30IQLJ2asRg6QZAVKtVFrVEBkDiC0XCL8AEQIta44N/EAhAiLEX/4TOCEDxbdp3N8sHQEaNncxo+wdA30ngnRYOCUDRayuZTHAHQNPnA/BHDAtAz0sup6meC0B/hCM7VKsNQFLQgYyu8RBA2ROGH6PUEUDjm4EKv2wRQNQnw9rYQRJAGJ/jcseBE0APn2bIiYcUQAtiQ/vP6hVATCrgc9j7FUCnYbIOHrwWQDuuOsXwAhlAGFWa9+9SGUBWi5KKpPwZQNILKaQGVhpAO+r394uXG0DB18yWwfQZQK6CPfyt3BpAIzEw3NnyGUApdnOa6GkYQI3o8Q6HTBlAMriNx8cTGUCfEtGGXgMYQCS7Jd2HFxhAJ8HDTmknGEDocRQ+VfYXQLarOysqqxhARHnirQ52GkCZoHs0xCAaQBnyVcEf+xpAdACqBlPkGkCwYc5rpf8cQATGsGAvhx1ArSxvYUq0HkAFLwjuZiUeQOEw16/TyR9A+oHtiyoiIECJsFHDbGcgQPLn8URxhiFAb6m+moqAIUC17sjNL84hQBjS0O0H7CJAooiAOflXI0DmiChT5sIjQHADYuRYoSNATK9fo8SLJECsJ5RUBAElQMsfv66r9SRA8cCW3U0YJUCIs64o5VYlQJXq1uRvcCVAdS5vstI2JkDngXNF+QUmQAxTW+khHSZAK2eWZEfaJUBhejE5ieElQDjIshyf6yVA8gUtUh6QJkAuwPC4QK4mQOIeyxbDCyZAa60w1zh+JkBvUfo64XomQFrbo9Q9JyZAcCe+4YH0JUDRhg9qNMMlQC4Y9RbSECZASI3T8JkfJUB8C1VkXzYlQLcH6hgRICVAVCfKznTSJED0VuWQ9LgkQHbxwwAdcyRAsC59u2z7I0BOxMV0e4YjQKjMz5OU/CJAXLePWKaiI0C5ZVQ03RYjQOGLLIGvrCJAxyYqXFFQIkBrIBcPw9YhQFEqWcCAICFASkit3qW1IEA3LXqnfSAgQBvsc1E10R1APHvB1ExnHEBsm0uyFeYYQA==",
          "dtype": "f8"
         },
         "yaxis": "y"
        },
        {
         "hovertemplate": "Sequenz=140<br>t=%{x}<br>v(t)=%{y}<extra></extra>",
         "legendgroup": "140",
         "line": {
          "color": "#FECB52",
          "dash": "solid"
         },
         "marker": {
          "symbol": "circle"
         },
         "mode": "lines",
         "name": "140",
         "showlegend": true,
         "type": "scattergl",
         "x": {
          "bdata": "AAABAAIAAwAEAAUABgAHAAgACQAKAAsADAANAA4ADwAQABEAEgATABQAFQAWABcAGAAZABoAGwAcAB0AHgAfACAAIQAiACMAJAAlACYAJwAoACkAKgArACwALQAuAC8AMAAxADIAMwA0ADUANgA3ADgAOQA6ADsAPAA9AD4APwBAAEEAQgBDAEQARQBGAEcASABJAEoASwBMAE0ATgBPAFAAUQBSAFMAVABVAFYAVwBYAFkAWgBbAFwAXQBeAF8AYABhAGIAYwBkAGUAZgBnAGgAaQBqAGsAbABtAG4AbwBwAHEAcgBzAHQAdQB2AHcAeAB5AHoAewB8AH0AfgB/AIAAgQCCAIMAhACFAIYAhwCIAIkAigCLAA==",
          "dtype": "i2"
         },
         "xaxis": "x",
         "y": {
          "bdata": "UsPpM1lSJEAXLaIhQsEjQFbbaMq74CJAfr0K0XQSI0ArK16h2iIjQKI+P22dciNAJiGTfzPxI0DmD9VUiFckQK80KL/CJiRAYjNpgHQEJECe5kq36vYjQIMh7673qyRAq72WaxTfJEC7bLWDIUglQIqo36DxfCVAQ3nCr84wJUAiR03pRPwkQP4wAHa2nyVAdr8alalLJUBN9aaQE1clQBLkpaxGTiVAt9z3tWmNJUA9WCHO+cwkQEgDgpH5ACVAlpzh9T2yJEDkG86bv3UkQHjJyWpVRSRAOsdy0yoEJEB0L6tzqyAkQC+qyzGZdyNA6773GwECJECmptSNWnojQEvS/Xz5miNAcd7otXMuI0B+3HeNBg8iQA0V5Ewg/CFAhJYN2Rs3IUBeSIFItXsgQAcSsVESASBAozbVPuKKH0A3N7dNc9weQCBpYMkGfxxABZS9ejO7G0BN1QEXXYEcQCtKKEiEdRtAvmwVfX6hGUDoOZHakQ0YQGH+kw6cBRhAqI0fMpAUF0Bgj2MFvRcWQFaZJlARmRZAPM4hCDs2FkCSDOOVri8XQGxetigZvBVAmsmOde8OF0CfECS7hIYVQL7LoTfxzBVABOTy7awuF0DvhBxopLYXQPcGIIvIgxhAypOHPQ2/GECm8aV+rOsZQNU7HzIO7RlA3pMpXYs5GkBwHaaviAIaQEJgJnGeIxtALiuYn5qoGkC+91TpbVQaQBFAeQZjyBpAyBusSIYPGkDsrG7PlcsaQELjxbF8JBpAiAoXh1K4GEDymgIuuZUYQBMSTmXSOxdAAMko5anpF0D2oa/DJFgWQNjQH+B5VBZACTZnpKDvFkASFHAIxQ4WQGXrneMHXRVANf0yhSgeFkAcx+cPMmAWQF5FTo7INRVAewB4HHYLFUBjiqdcnygVQGhioT6b/xVA47HX33y9FUA4paAxoKcVQKVqybsBnxZAMbiRHARPFkD58+uGDyAXQEbuhJCCCRhAiej2PhDtF0A60bSVEaQYQIq/VLZY3BhAyP2/+ZJvGUAU7qc1fB8ZQDGixrCFChlA62Z3iKuiGUArWjgEZyMZQKkK5N+iThpA0HZKxYhyGUCRw5m15TcZQNDOguxhbhlA7ZbxWMuqGECNhaHtUxQZQKso5+vVzBlAOPxMPVFVGUCoTc/VscEYQPcIe4x6cRdAG4x2kpWIF0BAKxVgvqAXQFO4ndvkiBZAmm+J0rZNFUCOF7qKQwQVQOtccEb5thRAgK7dXPT8E0B0eNfcmHoSQDZjHzZZWhFAOewbAEcLEkBWgqKx1iAQQEEoYGATmBBAaLXOppqfD0Dfl6Q+ShIOQJB6GvyOWQ1Arq2chxaaDUARYYuDRSgJQFPO8r/nbQlAYV0h/Wd8CEBL1g56cC0HQNgeLxtDGQRAN992LvKVAkA2LoWWV+oCQMMuwHcnrP8/WOq2uzJM+z9QSXk4kun4P+aNw5pRZfM/tuUxPz249D+r0ElGoJfvPw==",
          "dtype": "f8"
         },
         "yaxis": "y"
        },
        {
         "hovertemplate": "Sequenz=141<br>t=%{x}<br>v(t)=%{y}<extra></extra>",
         "legendgroup": "141",
         "line": {
          "color": "#636efa",
          "dash": "solid"
         },
         "marker": {
          "symbol": "circle"
         },
         "mode": "lines",
         "name": "141",
         "showlegend": true,
         "type": "scattergl",
         "x": {
          "bdata": "AAABAAIAAwAEAAUABgAHAAgACQAKAAsADAANAA4ADwAQABEAEgATABQAFQAWABcAGAAZABoAGwAcAB0AHgAfACAAIQAiACMAJAAlACYAJwAoACkAKgArACwALQAuAC8AMAAxADIAMwA0ADUANgA3ADgAOQA6ADsAPAA9AD4APwBAAEEAQgBDAEQARQBGAEcASABJAEoASwBMAE0ATgBPAFAAUQBSAFMAVABVAFYAVwBYAFkAWgBbAFwAXQBeAF8AYABhAGIAYwBkAGUAZgBnAGgAaQBqAGsAbABtAG4AbwBwAHEAcgBzAHQAdQB2AHcAeAB5AHoAewB8AH0AfgB/AIAAgQCCAIMAhACFAIYAhwCIAIkAigCLAA==",
          "dtype": "i2"
         },
         "xaxis": "x",
         "y": {
          "bdata": "zUMMFnKaGEB5ZpAsoaYaQG7cqQM6PhlAskDvmjDNGUDAJ8Z+U6UYQDz66m1h4xhASz5+13E3GUDXhZ7UNhcZQNgGavTeHhhABua+H1PXFkAKxdJjDNUWQOrPJaZJ5xZAIa2sz4d1FkDAG0KtTBkXQIjjvRvmJxVA+2ZlQr3DFUCGsF2bjXgUQN5j3c4BBRRAVW/uu8bOFEACJ6TYmqATQKVr6U8vvhNA+7KfC96yE0DESPxqmfISQCztYrZuhhJApyt3B7w9EUAy8Td51jwSQMXaDdBSrxBAJJ0LdZd9EUDJa+t2YwMPQE7TCBQRaA5ArAeIju+ADEDcCLEv3DoNQL+62l+4GA5AviBSRY7HCkAEXjBZbicIQFprmSn7jAdAktLF/sNABEAthgwvYywGQKeBo2AEPgRAUBcfbRbyAUAmKzfHJ7T6P1SBqZFJc/8/7cLesEJ8+T9Qez/O19T7P8DGMpHUyvY/PDCI1MHX8z8U470T5gT3P6cN/IpPbvc/3l3f0hQj9j90ZqKWfVTvP7pEJP6THN8/Qzb61cP/7T/Cwo3tnnT1PzQhnX7ZQfU/CAFRTK3m9j9ak9BGHhT0P8iEScs6q/o/alBJlW+VAUB6BPM+phMDQKrgXLBvXgNAntMroCMUA0AjqZJJ9EoFQMHChDwMjQVAHLPYEL39BkBskaWC4D0IQFt+tXLhIwlAMhx/wQmKCkA7lD98JKALQO2dABRmewtAb+f/OiIkCUBY3HT8AawJQO8SJgtXAhBAq+OHnz9xEEBFY+isqX0SQIUPI0xiKhNAIvrIdsGMFEAo5rvEIP4UQKmRRrptuhVAeCSJ1owEFkCYbi6BzvcUQEUA5eE1xhVAx64OMBZAFkAV/uoQOokYQOugumBruBhAH1V1jmAkGUD77JX/O+sYQHzArmg6lxpAqGqobUXCGkBibYEFkIkbQMJxdT+GfBtA7KSIKM77G0AgBPdWsAQdQNUOReN53x1ArtQwcY6mHkDWsxDq9NwfQMTGmmqj+x5AxPJcamSzH0BzhFZeurcgQDMLlUWpgCBALZ1vaieiIECVgFuLEEUhQJBCbpJ6lSFAnvF6PsQLIUCzoZ3rZeYgQFubkZw8RyFAXJarHOrgIUCAtjDhAYYhQPC/IhqE8CFALXSUZhtaIUCF4DUen4whQHLuhChwEyJAg6MDFpHFIUCcRB4tf8khQDcFhgR12CFAo7rUskNvIUCkQkmGYh8hQP3ByZkgFSFAHvDXV2cGIUAblkHfVIUhQBJ9RjUdTyBA1k49oy5AIEDL10ypT7AfQOpaLT32hh1Ah6naAH+wG0CGIPtjuFAaQLw9kk7gjxhAPTK8p+28FkASk/ycm8MWQG3nQXfZyhRA06K1T1gMFEDoLxM7qQYRQH0KaG1VJhBAM6kaPe86DECEZpm4rD8JQN6bZ3vvSAdAacJP2YlYAUAq1Z6l63v+P4bjkNHWD/o/SMDMUsXG+z/sYsNmlRz1Pw==",
          "dtype": "f8"
         },
         "yaxis": "y"
        },
        {
         "hovertemplate": "Sequenz=142<br>t=%{x}<br>v(t)=%{y}<extra></extra>",
         "legendgroup": "142",
         "line": {
          "color": "#EF553B",
          "dash": "solid"
         },
         "marker": {
          "symbol": "circle"
         },
         "mode": "lines",
         "name": "142",
         "showlegend": true,
         "type": "scattergl",
         "x": {
          "bdata": "AAABAAIAAwAEAAUABgAHAAgACQAKAAsADAANAA4ADwAQABEAEgATABQAFQAWABcAGAAZABoAGwAcAB0AHgAfACAAIQAiACMAJAAlACYAJwAoACkAKgArACwALQAuAC8AMAAxADIAMwA0ADUANgA3ADgAOQA6ADsAPAA9AD4APwBAAEEAQgBDAEQARQBGAEcASABJAEoASwBMAE0ATgBPAFAAUQBSAFMAVABVAFYAVwBYAFkAWgBbAFwAXQBeAF8AYABhAGIAYwBkAGUAZgBnAGgAaQBqAGsAbABtAG4AbwBwAHEAcgBzAHQAdQB2AHcAeAB5AHoAewB8AH0AfgB/AIAAgQCCAIMAhACFAIYAhwCIAIkAigCLAA==",
          "dtype": "i2"
         },
         "xaxis": "x",
         "y": {
          "bdata": "zoFFE6u6CkDpPm5E0RwRQM925u31ehFAq6XS0edvEkCtwJrgb1QTQMCyJAyuJBNAxdFXnDKmFEACZARchhkVQDvtgttUDhZA+o9SsBZYFUBGdRO4/lgWQBCIXaIMJRdAJGsgt3wVGEDZ9bLRNiEXQEfQVNnUORhANj5n9v9AF0DSLgW8vxUYQKEvln+taRhAlJKcz6snGUCaYWoMYUEZQEj+ndxYNhhA/S9f5KljGUD5vIhdbQUYQBJ9IGIPGhlAZgsGIN1IGUAukhcAH1sYQPR8a4ImIxhA3poXQXIKGEDXhxM6l84XQO53oTNGNBlAnKVtYD7rF0AQCAz5FmQYQHflRbpfIBhAVbEIAsRRGEDt4gZSykYXQAuwY8zHdRZAc5QbOFfJFUDN8UF9mKoUQCGSlKUpSBRA4i8Rs6eTE0DMSLsrD8ASQP/hOW+f8RJAGhvDCB0EE0AOPo+SSVoSQKFIDwENdRFAoakg4zvREEDRCzQqmhURQOwf77kqLhBAjHpus2mkD0CVjfzI1jsQQEsQScs7Dg9A0OT193pVEEDnwu2XK+QQQN91rVA6whFAHPKTI6ntEUAaMVqkiokSQP90REhY2xJAPV4e3utSFEC6bePA3qYUQBQqoN2bAxZA1Aytd8wlFkARmYOS++oWQMS9hVbgfRdAKl0gDmwCGECV69psD94XQHm8z4MeqxlAqPg35bGQGUDUTzeAiSwaQF7HO4/R4hlAO9sMyCCYGUAiFe897LkZQOs9TC3eJBlAZ+M3Ny6CGEC4GIe3ir4YQBeqDiUVcRhA1CBR3WF7F0ABqXEJ0pAXQLqhHMpWcRhAiMcGLUn8FkBlWO00H6cXQHuQUsF4ExdArSw39oLvF0A4DXMVShkYQIBnI9Cr1hhAGG4d234yGUBZ2yflT3wZQAMHCpirARxAsdqT9hPdHEBPYVi8mG0cQJlUMG55Bh5AMomeqwwNHkBH9Y+8a2MfQFHfD456mSBACJjeYBq7IECUG6KX59AhQAQcGfMyqSFA4amvV83DIUDW4b3Sn7YiQIkENLaMWCNAy72seT6EI0DQQGa026QjQDxDuOROKyRArpuVeiYvJEAPf8prgqwjQJzLM+CcwyRAb2AOGfCNJEBTAfVHgRckQL43L9biaCRAqJNVYuQ1JEBFOHpK9SYkQGUs3ukVxSRALpZQqNFuJEA49jTkGEQkQNatH8oEhyNA11Mp0dKDI0BkitJ3BS4jQEo5eX2ukCNAdPvNsIZsI0AYXX69+2ciQFADGH5vVSJAOt0GwhWWIUD8FgqJO7EhQPx4qX53+SFAKc4w3Qp5IUA9yjIoIZAgQKJ+7oPn3yBA3rtr8JouIECZbDR68Z4fQHkjrJpuICBA82kUTu7rHUCIWxuTCjAeQFCcd2PwDx1A6oan31YUHUAXPJgqdMQcQMG4q2e+8RpADogzdb/aGkCKGrrCLMAYQJSLV6VInBlAa1a3oBv6F0Blw9LSRrkYQA==",
          "dtype": "f8"
         },
         "yaxis": "y"
        },
        {
         "hovertemplate": "Sequenz=143<br>t=%{x}<br>v(t)=%{y}<extra></extra>",
         "legendgroup": "143",
         "line": {
          "color": "#00cc96",
          "dash": "solid"
         },
         "marker": {
          "symbol": "circle"
         },
         "mode": "lines",
         "name": "143",
         "showlegend": true,
         "type": "scattergl",
         "x": {
          "bdata": "AAABAAIAAwAEAAUABgAHAAgACQAKAAsADAANAA4ADwAQABEAEgATABQAFQAWABcAGAAZABoAGwAcAB0AHgAfACAAIQAiACMAJAAlACYAJwAoACkAKgArACwALQAuAC8AMAAxADIAMwA0ADUANgA3ADgAOQA6ADsAPAA9AD4APwBAAEEAQgBDAEQARQBGAEcASABJAEoASwBMAE0ATgBPAFAAUQBSAFMAVABVAFYAVwBYAFkAWgBbAFwAXQBeAF8AYABhAGIAYwBkAGUAZgBnAGgAaQBqAGsAbABtAG4AbwBwAHEAcgBzAHQAdQB2AHcAeAB5AHoAewB8AH0AfgB/AIAAgQCCAIMAhACFAIYAhwCIAIkAigCLAA==",
          "dtype": "i2"
         },
         "xaxis": "x",
         "y": {
          "bdata": "ZoNDe3ZOIECpYBx8U1AgQOvRipmGYiBABB/mhNA5H0C0S5XHXUgfQEDd18KzPyBAJe1PLswHIEBw8KYiPr0gQLfaVq7N/iBAzHpAwJASIUDlBkzJKPcgQJJoHPjrSCFAPmyrk8KDIUCRCRe0ZtQhQM0qhzi8cCJAlb7BN8JUIkB/DXFmKi8iQDkA0lXlcSJALDUv66atIkA3pCY6dnIjQP4XI3klmiNA2NYpLIlQI0ANBL8krfEjQOsVTVK+SSRA9y2CsBZLJEBlt5ViebIjQMVr7f8y8CNA7qrka7oYJEAi3R32IOUjQMb+jnRCWiNAKNYE/QnYI0DipSn7yS4kQE9CTlC7SCNAiTkxL/UzI0DOfMISBdUiQK5K4+JpDiNAoRGt5RYKI0B5KZQVwTEiQCWFuVH+0iFAlX9ztfQrIUCDgN973o4gQI+vC6H1NiBAve5se4+BIEC1x7KxaTAfQGJGZvtlOx1ANCsZv5QWHUDeUHigoiEbQGQ0X9qBYRlAAPp8T+Z+GUB05S1hw6IYQP2yzCwpmxhANePkxAlUF0DnJwQ9ockXQCFM2EPuGBdAMtOSyNoaF0AuNTZ1uFQWQH/GWkqYpRdAm2ioD4fJFkA1QDzjX/sYQEbhl9Wz4BlA6pWWv9kVG0ASGSkZq6EaQBYCvwb98RtAMS0519ulHUAm6SR1kfAeQPv6v/EZ2x5ASApETmruH0ACU8OaXG0gQLFxo/blhyBAj9ICekkuIEDBBLMH8tsgQGHC1O+6lCBAdrlYHSjSIEAafxeFe5UgQDJLImHL1B9AYlI1U5KcH0AmA0Tlf5AeQMKI6rxLgx5ADFpySpqpHUByVaE1+QYdQMb9V9bM7hxAZiClngGgHEDzqTVvI8IbQBUPWp7QPhxA2MdOCyCrG0Ad5TSLXvgcQGQX6d1vbhxAl9BUeLRcHUCY6JbjJPYeQNfiPZJ8tB5AQDsOBn14H0Cb9710yEMfQCcMfa5ChyBALkx42EMKIUAeJCV1MY4hQA5mJBJd4CFAFxWS/MrWIUDtMEE5h4ciQAayP5WJXiNAvnb7NliRI0B/RdYZh/gjQLA3YEe2FCRAGvG7s/04JEDW/KnkjQAkQGpXZxOI5iNA/6Ux3sCdJEACjSU7ehUkQCh1i3R00yRAySVHstA6JEBedJrNTx8kQNJ6Oob7iCRA5pC5kl97JEAM9KbE2VYkQNQ2yqvb9yNAsUEeOm9LJECem6pDMuYjQE0doqfHWiNApWnYdQhEI0CTi4c5zw0jQJ5H+saJfyJAvYBGoygxIUCrrTHiP48hQGUVAQXZaCBAmznFdMqMIEBWnv4pjx8gQOqYvusV3x5A86OKvAxPHUBh2m6Wz30bQL6Mp0WKdRlAOti3u6yEGUCSZ0RWz6IWQOynFAC15BRA6x89cJHcEkCTmY1QqqcSQCWC7hiVZBBAdnAScaoNDUAHh56eYb0KQAA1kw7iuQVA2K43CVYuAkBcf+JRl4T8Pw==",
          "dtype": "f8"
         },
         "yaxis": "y"
        },
        {
         "hovertemplate": "Sequenz=144<br>t=%{x}<br>v(t)=%{y}<extra></extra>",
         "legendgroup": "144",
         "line": {
          "color": "#ab63fa",
          "dash": "solid"
         },
         "marker": {
          "symbol": "circle"
         },
         "mode": "lines",
         "name": "144",
         "showlegend": true,
         "type": "scattergl",
         "x": {
          "bdata": "AAABAAIAAwAEAAUABgAHAAgACQAKAAsADAANAA4ADwAQABEAEgATABQAFQAWABcAGAAZABoAGwAcAB0AHgAfACAAIQAiACMAJAAlACYAJwAoACkAKgArACwALQAuAC8AMAAxADIAMwA0ADUANgA3ADgAOQA6ADsAPAA9AD4APwBAAEEAQgBDAEQARQBGAEcASABJAEoASwBMAE0ATgBPAFAAUQBSAFMAVABVAFYAVwBYAFkAWgBbAFwAXQBeAF8AYABhAGIAYwBkAGUAZgBnAGgAaQBqAGsAbABtAG4AbwBwAHEAcgBzAHQAdQB2AHcAeAB5AHoAewB8AH0AfgB/AIAAgQCCAIMAhACFAIYAhwCIAIkAigCLAA==",
          "dtype": "i2"
         },
         "xaxis": "x",
         "y": {
          "bdata": "sy6JTQavF0A/oqZlaRwYQBJcjcVoCRlAuaNqtfh3GEAgZhvNrLwZQFKBv1AgBxlALG5QatroGUCJO3VlgBEbQOggXSw3PBxAYNc/ugK4HECC+vay8XAdQDEjnXV8cR1AqbUZHTCKHkBON5dXqI0dQDJbR8hDsR5A+X+zRspMHkCJRCOADeQeQC86ecj3tR9A9fx3U5GhH0ATFnPJMYgfQOxLQwDdqB9AaWfygAdmIECzh69+IZYgQKEuKyH4WCBAvv0OvdkRIED6mqjdsBQgQNuNydwkdB9AFzHQlNjkH0Aw1EBGqrcfQMj89cEDfR5AkLdrDBc8HkBRZD2+isYdQLlTII04dxxAq1GitkGWHUBx7u27SRUbQIzbL2IMcRtAcMUaak79GEAmZNm/f7kYQN7IAyvN1xdA6lHsQbyoFkCj/Jge/y4XQPVSApw2JBVA9yRFGY1kE0AY+C2piigSQEYWEEsyFhFAFFd5I2VuEEBqAO2EGkkMQLCJLmZMXwpA1SUutvE7C0BDGf6DZ/gKQB7EQDJfhQlAluwwspmaC0Cc47ev8yMJQH8OW+nBaQpA/WTY+VKVC0DlGwEXj+QMQOqcXCsecg9ApRQGkKn1EEAI6xiArggRQLKKyckXLRJA6e0YbhVrE0BSEAhHJucVQNvoBQc9HRVA6DzUmvS4FkDTo0VU+JEXQD9G3K1OExhAmQb9KwlhGEAj5D3q4rkZQJqs5H68NxpAtV2uRoAHGUBTpfM3UJEZQPraCLZq9BlArdslvKk8GUCzXmcApOcYQLHMBFb2gBhAYEtry0HSF0Bgf/6UL2QWQBrep3PR5RZAflBd9nCMFUA/0h8lz2oVQNnDpkOlJBZAfJTPOou+FUA3r4ObnmMXQEprDFYFqxZAcDKtIhLfGEC1tEZgz50YQKSm7HhWPhlA/WojGEH8GkAsSxdLfZ8bQLYxn2QHlB1ACCW52PR4HkAXURh7j0seQFTuH/LmsR9AP5NYcvqXH0BmIJNN02sgQGyo/BcFzyBAdni2xBo8IUDJxdNSlnMhQBi5bSdFjCJA+s5+WQloIkA67ATtES4jQLkwMEUCJSNAPvti4FJ+I0D8FwBKAqEjQOa0nQSFqCNALKW7A8V0I0DlgR2SVNEiQJBBnH5FjyJALOx6IQvKIkDQ/bP+t6QiQKvJduZtHiJAy645sIxEIUBoat71UC4hQB/ZxWUT4iBALTTHhHvZIEAbhbfbObwfQJSUN9uD5h5AH6qAd3aKHkClh8gfUFIdQMeECLvcEB1A+FO0jW8QHEAhqEtsIr4bQKRN33tdmRpAQF2LDOQHGUDEJHnIJBEZQAU9MjFZNxdA8CD0ZPheF0DMmMHQG44WQI/k251eThRAxHUficmXE0AU5qH0V7cSQKl3VodlCBBAyDL2btwBEEA6DxtpufkJQH6ON9X8HglAoXchaFmRB0CnQNzqeRgCQP+g3U6ryABAenQKh4cv9D9YXrM+3yPrPw==",
          "dtype": "f8"
         },
         "yaxis": "y"
        },
        {
         "hovertemplate": "Sequenz=145<br>t=%{x}<br>v(t)=%{y}<extra></extra>",
         "legendgroup": "145",
         "line": {
          "color": "#FFA15A",
          "dash": "solid"
         },
         "marker": {
          "symbol": "circle"
         },
         "mode": "lines",
         "name": "145",
         "showlegend": true,
         "type": "scattergl",
         "x": {
          "bdata": "AAABAAIAAwAEAAUABgAHAAgACQAKAAsADAANAA4ADwAQABEAEgATABQAFQAWABcAGAAZABoAGwAcAB0AHgAfACAAIQAiACMAJAAlACYAJwAoACkAKgArACwALQAuAC8AMAAxADIAMwA0ADUANgA3ADgAOQA6ADsAPAA9AD4APwBAAEEAQgBDAEQARQBGAEcASABJAEoASwBMAE0ATgBPAFAAUQBSAFMAVABVAFYAVwBYAFkAWgBbAFwAXQBeAF8AYABhAGIAYwBkAGUAZgBnAGgAaQBqAGsAbABtAG4AbwBwAHEAcgBzAHQAdQB2AHcAeAB5AHoAewB8AH0AfgB/AIAAgQCCAIMAhACFAIYAhwCIAIkAigCLAA==",
          "dtype": "i2"
         },
         "xaxis": "x",
         "y": {
          "bdata": "WWb9CbYwIEBDWvgyG8AgQNc08XB2WCBAz8EFoMdyIEAGPm4qIHYgQL69rZ6UQSFANRmfLg+jIUARyswqHjUiQCzYpgYvkSJACCAgyFudIkDdU98F3N8iQLRAMYWagCNAYsdi2bBaI0DbpRX626cjQCgl66b3cCNAquOaGm5pJEAxOjCYljgkQLclnW1nECRAu8+l7HZrJEBHSewMEiAlQGTYab8GTSVAhENu4FwPJUAw9wVpzislQEnWTd1mJSVAhAj9GQ53JECZCDPLD88kQJdY45ZtASRAx7sN/2wDJEAj2B94L3QjQJ2iuZ0h8yNA4aq6i0gnI0AIjRdmbGoiQFZxismRzCJAvUEyv3hyIkAWvs/RxTchQL3bqXwaACFAxF4Ao6gBIUCZ5t5K1TggQC3phoVeoB5An24QFIFQHUAonRWVPt0bQOa5kROa2BpAVtaoiYa6GUDntSxAQDwYQHrp89V8vhZAxlPH4DrmFkBUItkJBe8VQA/5DjDkFBVACqe7PWRUFUDvvZo1G8QVQLHdqiv1sxRAHaWBmW0hFUAPu08SXBkWQMxo3xmNDxZABCRDIbaVFUDtp4Ez9VIYQG0mUTGA9hlAtPseLe+WGkDE7/OUzA8bQCIg38hIJB1AqAmjaLsXHUAEN18TukcfQKnSlQ91rh9AAgrTG05YIEBVubLIDCQgQIA2FIbkFiFAtq0w1WsDIUCSr5mqxwchQGW7a6d5vyBAd4LT/KTCIEClJFZdzMYgQLzuy8+/5SBAF65ksEu5IEBRuzyMj28gQOHALilYAx9AB+BkMRVyHUB7jxu/gdMcQI27IT0zrRtAeuWrOHP5GUDtM+RhvN8ZQKpYELpwGhhAXfPx4kgGF0BcpeRy74oWQI7tjBvD9RRAmrhziL4tFEBx7wJVTuMTQEnK7Ya/VBNAMncW7BNAFEDYIS/ikx8UQL3wgHuhQhVAbW5fQ+eNFEDjjotI3V4WQOmDWTtpoBZArPuKVA9eFkAUrVsjrRUYQJHYK5re2hdAn8ZsXLJzGUBXcBDTxkIaQPQwdiazaxlAdQG82RtqGkBA9/KPTQYaQEqkOGvStBpA9Yysh3S+GkD/2CuULugbQFIv5jfUCxxA65U7GNriG0CtY4zG+gccQPFDBwMWyRpASQF0akGdGkAqxHm/dogaQDPrXfdzDBpAYi5rvJ+bGkAB114JdRYbQGg/Oa5yjhlAgXR1VIsaGUCwAg5dkZ8XQHJBce0DQhdApCFEQo2SFkChbm7+wHoVQLDxjxTi5RRASC+9YrhiFUD2Q/uJhMQUQGR673e86xJATor1mXEMEUAG5uehNoMRQPqlCmiIRRBAs9FvI/CHDUBUYN8IgwgMQABxnWJWWwtAQEH4regkC0Dt7Fj5u9MEQGDYb9hipwRA8BZj4in3AkCpXJuzUML+P/uBB8UmXABAcdbqtugz+z84r0GC0Dj5Pxdy2xrtz/Y/ftkGl2uS8z+EeiASrNboPw==",
          "dtype": "f8"
         },
         "yaxis": "y"
        },
        {
         "hovertemplate": "Sequenz=146<br>t=%{x}<br>v(t)=%{y}<extra></extra>",
         "legendgroup": "146",
         "line": {
          "color": "#19d3f3",
          "dash": "solid"
         },
         "marker": {
          "symbol": "circle"
         },
         "mode": "lines",
         "name": "146",
         "showlegend": true,
         "type": "scattergl",
         "x": {
          "bdata": "AAABAAIAAwAEAAUABgAHAAgACQAKAAsADAANAA4ADwAQABEAEgATABQAFQAWABcAGAAZABoAGwAcAB0AHgAfACAAIQAiACMAJAAlACYAJwAoACkAKgArACwALQAuAC8AMAAxADIAMwA0ADUANgA3ADgAOQA6ADsAPAA9AD4APwBAAEEAQgBDAEQARQBGAEcASABJAEoASwBMAE0ATgBPAFAAUQBSAFMAVABVAFYAVwBYAFkAWgBbAFwAXQBeAF8AYABhAGIAYwBkAGUAZgBnAGgAaQBqAGsAbABtAG4AbwBwAHEAcgBzAHQAdQB2AHcAeAB5AHoAewB8AH0AfgB/AIAAgQCCAIMAhACFAIYAhwCIAIkAigCLAA==",
          "dtype": "i2"
         },
         "xaxis": "x",
         "y": {
          "bdata": "uqcM1aJRB0CHuUNVn0ARQD7+UpakUBJAWOXyrqDfEkDFt4Bs2hwUQCtyZn/a5hNAbHtFeVWWFUBuLQtr1mIXQH/NRxcjnRhAJKtkQqVVGEDjoWoAgKkaQKdbLM8GORpArfiB0kBYGkAeHJnYEj0bQADoc9x1FB1AzXAJa2jeHEBzDtRzqGIeQDnWJgfedB1At/oUOaWDHkCCZ86pUEsfQJTeT6pG6x5AUN3A4drEH0AELfsUSAQfQIFHDWXOdSBAW/1LIssxH0AxacAD6JkgQPnodTXjvB9Auaz9kTaJH0DjnCNmyRMgQIzhVPMWOCBAWgxxd7+SH0CvvayDcUAfQOrYw0I9aB5AHypR1r3KHkAdwMd5do4dQE1aD5Z9Jh1AaWUT6grEHEC452V2kNwZQA0oaRfuvhlA4l+ha+i1GECkYiJmCWUYQIo5DUHzhRdA2f6XtLO9FUAGG2ZCgr8UQDzrbFqKZRRALZsxMx5cFEAL0nj8gGsTQEEOW59wqhJAeq7IlOMKEUDht0snr7sRQP64lUBeXxJAvB/Sxfp9EUAxfgGNjukTQAaihM1FahNA2u9B1hx/E0DCoiy6B2wTQBkbMCOvchVAuRf9LZ6mFUDdWt55pPwWQEKy96VqSxhAb7B9FXE2GEBT5viI3hwbQKmXb2xeUBtAPHMD8QP8G0BC198vMhccQDtAVOYqRx5A5/BEhbtzH0DZA87fVzAeQLrm2wxdlR9ALXSuC7sGH0AzgdG41RsgQK6YIIIIPSBAbxBOMZwcIEDrjpQrblwfQHuwKLQjCh9A1T59Ev+hHkBylUkOWmQdQDG3OXQrmh1AVRiqB6wYHUBBW3adFyIbQEzCu53rJxxAdb8pfXvqGkCPJtZXKj4cQBtK/5gs7RtAjcng6r1AG0DA058kC2ocQD62Cyp+qhtApRh79E3qG0Bu8U9tipocQPm8yuYmfhxAt4lvDVm6HUAO9SE5SZEeQHVHz1U0Xx5AIxfMu5LzHUCO6qzPyfUeQP/VOIA/ECBAAuy2RR0EIED42qxFVpYgQBsXtBgbtyBAD25rWfUyIEBDSVe56EggQFDLNoLDEyFAIwNWzXHrIEDBISQ4OBwhQBCg7A8GhCBAipGmn4VAIUBe2c3eJBshQJYuGrXmSiFATlBXo9dtIUC99wQMVgQhQPVstGNQgCBAosFaebBbIED8EAVL09UgQB2j9ks+HiBAx1/sC9oVIEBmeUYJt/gfQAObb6HfcSBAYnvOJXwiIEBT4iQkz0ceQLB3Klcy3B1AxJqpYW0mH0CIGzBm2RweQOaCXBiCHh5AncIqdGraHUBKR0ceOO4bQBpExGUZmRtA95rpSW0NHEBLh5xkn0waQJgRk9T4chpAVRvV/NVjGEDsir8MC5IYQDOrUMdCTRhA9W2WFW9gFkAWCngsN74VQNgPDf/29BRAltV9tHt9EkDLfXatacQQQDzqM+vWSBBA+lVxzGDuDEBSpJ8ktSQLQA==",
          "dtype": "f8"
         },
         "yaxis": "y"
        },
        {
         "hovertemplate": "Sequenz=147<br>t=%{x}<br>v(t)=%{y}<extra></extra>",
         "legendgroup": "147",
         "line": {
          "color": "#FF6692",
          "dash": "solid"
         },
         "marker": {
          "symbol": "circle"
         },
         "mode": "lines",
         "name": "147",
         "showlegend": true,
         "type": "scattergl",
         "x": {
          "bdata": "AAABAAIAAwAEAAUABgAHAAgACQAKAAsADAANAA4ADwAQABEAEgATABQAFQAWABcAGAAZABoAGwAcAB0AHgAfACAAIQAiACMAJAAlACYAJwAoACkAKgArACwALQAuAC8AMAAxADIAMwA0ADUANgA3ADgAOQA6ADsAPAA9AD4APwBAAEEAQgBDAEQARQBGAEcASABJAEoASwBMAE0ATgBPAFAAUQBSAFMAVABVAFYAVwBYAFkAWgBbAFwAXQBeAF8AYABhAGIAYwBkAGUAZgBnAGgAaQBqAGsAbABtAG4AbwBwAHEAcgBzAHQAdQB2AHcAeAB5AHoAewB8AH0AfgB/AIAAgQCCAIMAhACFAIYAhwCIAIkAigCLAA==",
          "dtype": "i2"
         },
         "xaxis": "x",
         "y": {
          "bdata": "gmoYjrVTEkAGqpun+i8RQM9MGLYc8xJA/MsbQfjaFUDqYM5q80AYQI0Yfe8y4xhAEUyu4x3FGkDsX0j8RO0cQKp9KNv9Vh5AtPsLrnk7H0AD4N1ndXsgQClfFFxIxiBAfprrNyokIUA0OSOUuHkiQO160PNwViJASc5XyI2iIkAAFEUCkjsiQG55TNOKliJAwr2Gl+/EIkAQBDA+480iQD2S41LdBCJAJcYpkQ8HIkAITFKybswiQDmybTm8hyJAGDU6PX+1IkBziTqCeHgiQGgvaTq8ICJAALQLFI45IkBFe9EZx8whQIy3okil2SFAJSUZSh+IIUDJhhsgSn8hQJKlFSzbKiFAOMOx+2vZIEC6BoYIRXwgQLrMzQWMtCBAqs0xpAoaIEDMJbOglT0eQH5GZcuGOB9AJjHJMMyUHUAaV66djbccQHAVzrpu/BxAJqNwQ9oaHEDFnAl57QEbQFr1tCrYvhpAo38c1vNrGkBejOQIOBsaQOrosG/CNxlAdMagxZ6LF0Dl7pjoTmwXQOWFN7ul2hdAci5sa+k1F0B4q32Vh3cXQJkVZpRd9hZArJnWyFTmFkBhPbg4h6sWQMrG8lqFwRZAMGl0/xmHFkBMQH1r/0YWQFFZMdlDuxZAFSPvRAL4F0CQeh9EMToYQPaba3sIAhlAGRBV5ljwGEAFyabdj9MYQF/41qWJ0hdAaevIxxT8F0AfD3BBnZkXQK90ZWyvthZAHNG7XMwYF0BQP+AUeNoVQOIs6p8HNRVANNjt08TuFEB3MoT9xwMTQBgz3EP36hBAMX8TyZrfEEBU6JRbk20MQP2tGambfApA9EC+xB7tB0CYizBldAMGQM6279d7UQVAUhepiPXBA0AxCypbscgAQNRi1X6UkAFAfujp6F/YAUAl0AfWS9oCQGEZFZsDrQBADkdyHmOCAUBBAiZ5qgoDQG9W2E7ZQQNA6oZhNP2gBkBqlFRBbQEHQJ7kPkMtjwZAt/1FJMfnBUDnCarxVMQHQElyXIOngQVAOG7pJ8ntB0ADLSxpkB4HQJkhD6H3ggdALoma11Q3B0A/fKYvFN8HQGsCtkK+GwhAvpc0uAtvCUCaSlxYBOoLQLR4xY4spAxARpZuZF9aCkB/xeHqPFsKQF057qN23g1AWNhDiMpaDUBC+r4fH0MLQGY6TkpYgQtAQ4DUBbrwC0D8O7tkdL0KQHuXvnt+EwhABWFq9GRkBUC0vQGpNccGQPx0pdKJ8QJA372qsWSBA0DqRRlDQ4UAQOgpmQI26P8/3zopRGnn9T8tWCnmMFn2P5SHjwi+pvU/nB2umaBu8z/B68Z45nX2P/QC5ecFBfE/LfeRbdlZ5z9cgLlxBcjnP1wm3JkdTeM/lxgEfyUl5z8kKkKwr+vqP/jd/hMbouY/cxb2rsrZ3j8OsZk2D5vtP4eYKhELb/A/3lBC4dLh4z+tzx2Kc4/ZP5pWxhPw5AJAt54RTlYDCUBV+hH51t0LQA==",
          "dtype": "f8"
         },
         "yaxis": "y"
        },
        {
         "hovertemplate": "Sequenz=148<br>t=%{x}<br>v(t)=%{y}<extra></extra>",
         "legendgroup": "148",
         "line": {
          "color": "#B6E880",
          "dash": "solid"
         },
         "marker": {
          "symbol": "circle"
         },
         "mode": "lines",
         "name": "148",
         "showlegend": true,
         "type": "scattergl",
         "x": {
          "bdata": "AAABAAIAAwAEAAUABgAHAAgACQAKAAsADAANAA4ADwAQABEAEgATABQAFQAWABcAGAAZABoAGwAcAB0AHgAfACAAIQAiACMAJAAlACYAJwAoACkAKgArACwALQAuAC8AMAAxADIAMwA0ADUANgA3ADgAOQA6ADsAPAA9AD4APwBAAEEAQgBDAEQARQBGAEcASABJAEoASwBMAE0ATgBPAFAAUQBSAFMAVABVAFYAVwBYAFkAWgBbAFwAXQBeAF8AYABhAGIAYwBkAGUAZgBnAGgAaQBqAGsAbABtAG4AbwBwAHEAcgBzAHQAdQB2AHcAeAB5AHoAewB8AH0AfgB/AIAAgQCCAIMAhACFAIYAhwCIAIkAigCLAA==",
          "dtype": "i2"
         },
         "xaxis": "x",
         "y": {
          "bdata": "GSQIrWrwGUCiT7ofm2QaQBr165dqxxlA2+oXaFbPG0Abq2ExTqMbQN587WSk7hpAk9kAosdLHEBAEGwzqhodQErxWZsQ6xxAeo3XE/pmHUDdXZ/hK38cQBkrbb6h0xxA0pSe8f3dHEDtpidf7kAeQPX8I5hUtx5AZSsqnhr6HUBx7p0YXKUeQNMIko7gzR5AdHSzUmyVHUDJFA/1+v4dQO3iadUsix5AFxBJMb3JHkDFvvCkCJ8dQOjEwbfqsxxAsojRdJ+0G0AQB+rcFi4bQHR7R3Th5RtAa0neqZ0eGkC5uAB6rLQZQCxT2jaJtBhA0sBAfAZvGEDQhqSrcs0XQGR6yCtJ6BZATUzZvYV+FUAmFuH+eV4UQPgu8g5dGxRAHQsne+J+EkDItPW8PdgRQLn/a3BmExFA3epSKfthDkCwm67fy40MQPAMLB77iAtAy4PvBeD8CED6LIMN6b8FQIUENcgYdwVAakDneOB2AkDGA5VmUBwDQGr2CXdfdQNABfaQnjS2AkCwLrr/XTkEQDzD7AbDqgNANo8lokIgBUAOFQYipswEQN/phcjcBgdAoCRM0ZvGCEBdqAFt04wMQFVvQc4kmgtAMdoTQni6D0ClW7JtO7YQQKPVF7acWBBAGfLfeVt9EEDrYfW1jC4RQOxlsbsHLRJAcMH/a7t+E0ASsd6e2cwSQHJaxgTXgxNAyG+IA+f1EUCnGcghB1oTQIasM7n2xxJAqo95ghx/EkAc0y68ztETQFHTHsq+uhNAyA2DcHI7EkDpaUTsnT0TQHei1gtFdBJAP++PyQ7qEkBQIlFUaysTQN38y29bDBNAHEs/xkZDEkCwishgklESQKTDLrUJxBFAo2QpyP0YEkBu0sNXbyYSQGPmapQczhFActOHT5SSEkAZgACe++YRQEBnKFs0lxBAw81sW2kTEkBTzSRINJcRQBLFEhKHdhBACEI74xTRDkCZmpJHmNwPQLbtmz9rghBAdRqpRZaoD0As3hgINisQQJm+pO7JNxBA3Te/ggg8EEAOrVMomF4SQJ2p5NNSxhFAfPyKVPCHEUAGLvZgD5IRQGR/N7bLxhFAzYSSjrKWEkAoQxQf+qATQK79BFhEJRJA56sdNIHHEkCiLZORZHMSQJoqhjc0LRNAcbPHCnlgEkBtOaAKeTQSQOsVCEqvABNA9wmOmCOHE0AU5VunP6QRQLBfEY/BbBFA8O7ulfZIEkBaXx/azy4SQL9yJmc5bxJAOzr17jpVEUB62xqjSCwRQPSg3LXQohFAXDjNYsbqEEDGk3W2QiwQQBMCzJruNhFA+3gXWmsFEEBcmTXOG6ULQGTfE+KhXgtAXPJwdUmIC0AIjKFdll8LQKqJGqmwbwlAQYW0XoVOCEBqaksDxYAFQOVioBo0VgdAoEmLHgglBUDxBvFBVu4CQCT0bESfgwNA781JkvGqAEAgOoBEihn+P2R6a1wRKfs/RK0Rq19A/z9h59rEjNL4Pw==",
          "dtype": "f8"
         },
         "yaxis": "y"
        },
        {
         "hovertemplate": "Sequenz=149<br>t=%{x}<br>v(t)=%{y}<extra></extra>",
         "legendgroup": "149",
         "line": {
          "color": "#FF97FF",
          "dash": "solid"
         },
         "marker": {
          "symbol": "circle"
         },
         "mode": "lines",
         "name": "149",
         "showlegend": true,
         "type": "scattergl",
         "x": {
          "bdata": "AAABAAIAAwAEAAUABgAHAAgACQAKAAsADAANAA4ADwAQABEAEgATABQAFQAWABcAGAAZABoAGwAcAB0AHgAfACAAIQAiACMAJAAlACYAJwAoACkAKgArACwALQAuAC8AMAAxADIAMwA0ADUANgA3ADgAOQA6ADsAPAA9AD4APwBAAEEAQgBDAEQARQBGAEcASABJAEoASwBMAE0ATgBPAFAAUQBSAFMAVABVAFYAVwBYAFkAWgBbAFwAXQBeAF8AYABhAGIAYwBkAGUAZgBnAGgAaQBqAGsAbABtAG4AbwBwAHEAcgBzAHQAdQB2AHcAeAB5AHoAewB8AH0AfgB/AIAAgQCCAIMAhACFAIYAhwCIAIkAigCLAA==",
          "dtype": "i2"
         },
         "xaxis": "x",
         "y": {
          "bdata": "GAPv4gcrI0AFY+cJB40iQN+kADLjVSJAR0/simR8IkClUuzYAMsiQMMlR07iQiJA/ClD4bvLIkAVky/+j6UiQOPZXxtrVCNAsiRX/UrMIkBOd7M/S78iQJObr1Ig2iNAlYFJtlHKI0Di85SB63wjQMy5u/pXbyNApJsJFupoI0Dk4Jpmb+QjQJujSQCzAiRAC+4yVPpiI0CLQblWMVIkQEKEUjeLYSRA0VK1syLyI0CT3+VFOS4kQBtzBamVsCNA4IK5uCQlJEDP45UbyJUjQNDMclv4wCNAlZ0L/TD4IkBeCPbLjosjQOJ8wXH2QiNA//w/v3tvIkAQYpLr27wiQEE0SiseeSJAk3ZVys1bIkDlXpoVf/QhQMQZeLLf6iBA7d76lOFYIEAdVkYZY3wgQHdFkLbVfB5ACQLgp0orHkCD02r6ixQdQIecgSDkDRtAV3NjaapdGkDyk+ILqqQZQGqWDP95IBlAIPLS/K8UGEAZ733stZMXQE8/Kkc63xVA+qzhcQSvFUCJC7SA8LsTQDaRqnMr/xNAgFHR/dGTEkDFggUciTUTQAfsJKupOBVA+zvKhUiNE0AgcGX2JV4UQAcKGAUTCxVAdL6A39oqF0Aon+FAZt8XQI5QvO85SRhANrwhI/KOGUBuzHlwRpcZQKMwoCpHrRpAoSqZDi5bG0DVX+Gb4rMbQPVcsIwwDR1AYKO9Ue6vHkAAOYue77QdQH0DuPPKjB9Arrp+Raw6HkCyYQiLvuAfQPO8l8DTwx5AGrQcHyTYHUCD3XVcaxEdQFHSTSZBjB1AAzemBO4BG0DwvQ9IFtEZQCZBGvuzLBlA4b4OyHMOGUCyDBaTvfUXQDEYJM1BXRhAjwRAyOutF0CKSCbRcXIVQKf6tvx+6xRA63Vh3j9pFECTEgcoPbcUQALSOk4SxhRAGuGzGcVFFEDh+NDnn/AUQIb5K1w6xRVAEuVpGYQKFkDMO2x5328WQJaVQSqFxxZAsC6BQU6KF0DloxGzck4ZQDPEEdfi9hhAplCoLv+9GkAMPwsvQAgaQPKJtVlvjxtARGSlc/onG0CmL67YKy8dQCEYBEJj2hxAgkYZIi1AHUDN9DMQW5UdQEJjFOtbWB1AjmOnEsk6HUBqySGcPNMcQLpFGdQhWR5ASDdMllnfHEDWbVP4hJUcQIAJLSbIghxAiB0UB1T4HEDUOYZHGmgbQEi4PS7U7BpA1tAB9L3RGUDryrjTePYZQN6oU8KadxhAQV+szX/mFkBM8Cp97SIXQDaMSIvXmhZAK/m1I2mLFED9H8cmrWAUQMakXxvI0BJANTWrajWrEUACcA8/MkARQGhB51YlJBFAEQw4o13dD0Bh0Rhwd90OQGiJhzUASQpAPCu8EGlXC0DogiYI0zAJQG6CRnCmMgRA9G5rUULpA0DebIbkT4QCQG8LcuHOCPw/QCsKgkVb9j/k+mBHihv7Pyu9uzF9PvQ/82V8XL818j/V5exgYP7vPw==",
          "dtype": "f8"
         },
         "yaxis": "y"
        },
        {
         "hovertemplate": "Sequenz=150<br>t=%{x}<br>v(t)=%{y}<extra></extra>",
         "legendgroup": "150",
         "line": {
          "color": "#FECB52",
          "dash": "solid"
         },
         "marker": {
          "symbol": "circle"
         },
         "mode": "lines",
         "name": "150",
         "showlegend": true,
         "type": "scattergl",
         "x": {
          "bdata": "AAABAAIAAwAEAAUABgAHAAgACQAKAAsADAANAA4ADwAQABEAEgATABQAFQAWABcAGAAZABoAGwAcAB0AHgAfACAAIQAiACMAJAAlACYAJwAoACkAKgArACwALQAuAC8AMAAxADIAMwA0ADUANgA3ADgAOQA6ADsAPAA9AD4APwBAAEEAQgBDAEQARQBGAEcASABJAEoASwBMAE0ATgBPAFAAUQBSAFMAVABVAFYAVwBYAFkAWgBbAFwAXQBeAF8AYABhAGIAYwBkAGUAZgBnAGgAaQBqAGsAbABtAG4AbwBwAHEAcgBzAHQAdQB2AHcAeAB5AHoAewB8AH0AfgB/AIAAgQCCAIMAhACFAIYAhwCIAIkAigCLAA==",
          "dtype": "i2"
         },
         "xaxis": "x",
         "y": {
          "bdata": "E3Vk8i9ZIUD7E5ob9AAgQLnQnv/VwiBA+mQDvbJnIUBjtuAmkZIhQOqVLtBn5iFAuyUXObv8IUCGneF4ssYhQHfYf86fkSJAyMb64grDIUCbHZNmzwwiQIiIg+jRHiJAUl4MwnH/IUB6G5ykthMiQGWj0p3bqiJADOgdt/OjIkBvYWzYeNQiQAFfiydLOSJARXEexzQzIkAvxTLT+/ghQKoD0axEASJAl+rQPDddIUDQNFPRGJEhQNzamCG1GyFAWeH0D/20H0CDuvOeCAogQJDjrLfnEh9APt0IJGDBHUA54+rmh1IcQDi+nP/AMhtAE+S+UtGfGkAHh+24/lEYQPk6uxbn2RhAtqF1UH6vFkCke1M8UpQUQNbEeML+xxRA0iZx7TX0EkAE7WmTmbcQQD8bcJLvxwxAG2U5LTpNDECdbIEansIIQH8+SDRElQZAVY2NFBTSAkDt5plbRZgAQIiMdl7wavg/fW9D8V68+T9UmvLSyaHxP+Q5WZHMMfU//OjXJM0b8j+MpGbhzpvhPxBfifh9Bfs/kynYbuyh/j9abUzRytD9P/WIoW9vz/w/40yYr8s6+z8WO1UviuL6P3JqHs3hsf0/P7tuz5YJA0CkXWtJOYcDQGkoyLgweQZAXi4GCcsYCUAlBpNQ1I4JQCTYksYkPgpAwuZ3x4+/DUAtSgB+zvgNQHavx9+ceA9AdgxQZws1D0DRRxWEh4gPQFOlGymrRRBAsxkm/6rUDkDAlJb/smIOQIn1MRzlog1A4t6YOMP8DEBhwZhZsecKQAKKOeoI4gpAjLz+W/NdCECDaqvjsE8GQN1dKm1qYwZAH7rtsIs6BkAfRFaBwewCQFeb9bDc8wNA0Luradh8AkAxhG8uhgEGQOZX85w2PwdAF0hxDgcrBkAxj95gbKUJQNEZCQc0PgpAM5r46QDoCkCgxkC47rILQCxZ+k65yw1AXIb2D8LeEEDmn8qfSgYSQEjObXvKShJACkD3y/j0E0CW+anHh6UUQMMM1mmr1hRAEHfmpGmCFUAZD/A0ViYXQJsY0TJhIRdA6xC6hVFAF0Bqtx3nCzAXQDQ7OX95sRdAiRBXoxTNGUBPs0f8/68YQPMzKlahqxlAuSh7PEsTGUAGVGM+2+kYQM5jhOTflBpAz+/4zH8QGUAclt6u4gwaQBt9N6ULuRlAVqIlKfcpGUBdnQLTX8QXQDEWkkyHExhAUdghdok2F0DHQUMF4RkXQF7KmLPG/BVAMdEiVygzF0APrOG7cDkWQLqmfZGxDBZA+OU+iP36E0AeohnbL08TQEopqQ/WsBNAgcyoqp9HEkC+81YEfIQSQJFhSVMLPhBAqacu73reEEBOJ6zhzRsPQEeqByoXmgtA/2AfjSDfDEBcCc2QdSsJQIyWr5uy3AZAy3PZQIcJBUDU3+bg868BQFU4b92Ukfw/jXyGAt2P/z/Kfk8ovNv4P52PXCU+a/c/RqxF3W5X8j/eONhEuAnzPw==",
          "dtype": "f8"
         },
         "yaxis": "y"
        },
        {
         "hovertemplate": "Sequenz=151<br>t=%{x}<br>v(t)=%{y}<extra></extra>",
         "legendgroup": "151",
         "line": {
          "color": "#636efa",
          "dash": "solid"
         },
         "marker": {
          "symbol": "circle"
         },
         "mode": "lines",
         "name": "151",
         "showlegend": true,
         "type": "scattergl",
         "x": {
          "bdata": "AAABAAIAAwAEAAUABgAHAAgACQAKAAsADAANAA4ADwAQABEAEgATABQAFQAWABcAGAAZABoAGwAcAB0AHgAfACAAIQAiACMAJAAlACYAJwAoACkAKgArACwALQAuAC8AMAAxADIAMwA0ADUANgA3ADgAOQA6ADsAPAA9AD4APwBAAEEAQgBDAEQARQBGAEcASABJAEoASwBMAE0ATgBPAFAAUQBSAFMAVABVAFYAVwBYAFkAWgBbAFwAXQBeAF8AYABhAGIAYwBkAGUAZgBnAGgAaQBqAGsAbABtAG4AbwBwAHEAcgBzAHQAdQB2AHcAeAB5AHoAewB8AH0AfgB/AIAAgQCCAIMAhACFAIYAhwCIAIkAigCLAA==",
          "dtype": "i2"
         },
         "xaxis": "x",
         "y": {
          "bdata": "9DsyaE9eHUDqQXV3BUMcQF2YJd7rYhxAWvzqaLJJHUCvqwTZ/kMeQOaOK2N/ax9ATQdLH1MYIECDJUagV1EgQGepug4GTyFASZpZqAl7IUCO9sLDKaQiQE0MxHtdRSNANTN+gsw9I0CPZNR/K3kkQGDWICFnISRAXcyoqq+kJEAIAmnimq8lQBX+QBdYGCZAINiuQ3A7JkAe0kn/8WomQMP6OvRzXSZAsO78WG/QJkDAOQ1369gmQHTQO8T/XidAX3HaZEc+J0Dqf9yMn1MnQNIGgmzvACdA0fGoSr9KJ0Dwh2647VknQOnd4VfD9yZA0sblRa9TJ0AoXds2VdMmQETqXDGuZyZAvFLyBW/MJUDnW5ZZinglQCPMQx9iMSVAfqxSbvRpJECkCKeOisokQJsv3wf5RCNAWuSLOy7WIkA9tUBGpkgiQDyd1NcqaiFANdPOqISxIEBcQ25F/xMgQG0/iP8Fdh9AHMW4iKC5HkCv/J9bhHIeQGojmhGmSBtAdjzeUB71GUAx7+aAgLUaQK53BMQr1RlAhrAwZYruGECBnWH8u9YYQEY4mcnncxhAwsnctFoAGEBmxpNY97cYQG+jW43hoxpASVZe+MqEG0ARLOJzmtgaQG31qZjfWxxAJ48o4jaAHUCaNc+2BDgeQCv8jhFSch9AKGHzt4JLIEC/t9utEpEgQHjvDFCB4iBA3sKlhXARIUB091J0cechQG+/qsCHhCJA9zWh+5gAIkCYJpi31j8iQAIpfWH+RiJA00vStXamIkD8vyM/GZIiQAvWwpx7nSFAWHMruP1uIUA6Lw48AhUhQG5l0H9G8yBA/7plcBRaIECf+iyHd6YgQAY6+owKEh9AajTek5+uH0D/lgQ92QUgQEXE0Ym9fh5APP0JyfHWHUC+l83mxG8dQJ56c8lZDh1A/Q0xLKizHkCaVpZZiW4eQISQ2W5N1RxAugPqWAI5HkCkOCw1P6odQHpOL3jZ/xxA2iYB02PKHUBz0ED3EvocQLnmiR2ARR5AzuZhSW4VH0AsloZG64keQF/XTDM/4B5AYPC+O0v8HkA5HZOI8GwfQH/+tC7TXyBAxMB7MctpIEBbDmgLFZcgQHaHCLDwfyBAK11juRcGIUBflFOx8lEgQJ6j8TSKHiFAReWr8YC8IEDxl88AAkwgQPvSUQxSLiBAaJTOf2eBIEDY1XNdFXogQO3rYprByx9AtPgigxaqH0AJng2D/sYdQC+kFQS2Ox1A5PQXkJSBHEBMiaSUN4wdQN0QWRuuSBtAD0uZd9UOG0Dvr1Je4/sZQF/s/MxPzxhADg7LUkzLF0B2gBAcZmcWQE2RLLV5UxZA4ljfiyb2FEDIqgACpykUQJdDU3vqpRFAQvZp/STREED2vSoem4INQFfBYrO/SQpAqoo0uthlCUCqZ/U8H3MGQEJA4mLDdwJAloKztPqMAEDWPtw+JhgAQMNrj6aMjPQ/BvDxExeP9T/ER9rjhDnxPw==",
          "dtype": "f8"
         },
         "yaxis": "y"
        },
        {
         "hovertemplate": "Sequenz=152<br>t=%{x}<br>v(t)=%{y}<extra></extra>",
         "legendgroup": "152",
         "line": {
          "color": "#EF553B",
          "dash": "solid"
         },
         "marker": {
          "symbol": "circle"
         },
         "mode": "lines",
         "name": "152",
         "showlegend": true,
         "type": "scattergl",
         "x": {
          "bdata": "AAABAAIAAwAEAAUABgAHAAgACQAKAAsADAANAA4ADwAQABEAEgATABQAFQAWABcAGAAZABoAGwAcAB0AHgAfACAAIQAiACMAJAAlACYAJwAoACkAKgArACwALQAuAC8AMAAxADIAMwA0ADUANgA3ADgAOQA6ADsAPAA9AD4APwBAAEEAQgBDAEQARQBGAEcASABJAEoASwBMAE0ATgBPAFAAUQBSAFMAVABVAFYAVwBYAFkAWgBbAFwAXQBeAF8AYABhAGIAYwBkAGUAZgBnAGgAaQBqAGsAbABtAG4AbwBwAHEAcgBzAHQAdQB2AHcAeAB5AHoAewB8AH0AfgB/AIAAgQCCAIMAhACFAIYAhwCIAIkAigCLAA==",
          "dtype": "i2"
         },
         "xaxis": "x",
         "y": {
          "bdata": "oM2956hWI0DENjneW9oiQKuzYoq0tSNAllsuCk0RJUDvztmKUE8lQLqP9T/v1yVAsRtZMgn0JkD+KG8uViwnQP+aHUSkEyhAkWfErLRdKEBGpvWqTpsnQJj0sKOJnihANiXkqzHxJ0C+mXIUtjUoQL/fGkGo8SdATbNitGq4J0DMu5FCDqwnQNDwLUC5TShAu4EEaBS1J0BiU6XmfmUnQODARzKrgCdANiaOS6pPJ0Cp9Vlmn0YmQNU3uqejVSVAm6Z59oFJJUBg4Cr9aqwkQFdF1UI2liNApw1Vg+8PI0Bj1VTVMkYiQAj7L/JoYCFAoR2ZbpLOIEATVQUk92QgQKyhBDks4B9ABi1Squ8bHUAiG26uWccaQOHek4ADqhhAM849M4e7FkBrNt9I6PQUQGVflZr2bRRA/TRJ7tfREUBCqCSl3ncNQAFLzGKDNwlAa9Bg/+6PA0DwYhhKg5QEQIGsMk1pdPg/5r5+2Y9/+D+2Pbcy7gbyP1Yes9MDc+g/2gbVCXfV9j+03WIVbh/iPzwx1iA6pvQ/fl3StHBE5T+gVFYB83DuP8IsNjdaJPM/EgUa+znz+T+gCZ54zpT8P9TMxSryRgJAvbV8lYahAEB/Pa5AGtgBQDWVxUMUUAZAGDFasGyABUC7h6dXwpgFQBgcu3kYRQpAlHhuiWapC0D/w/FMheUKQM5aIW4tgg1AntlNyA8RDECk3T+7VaUMQNrydd1YGQ5AdH2iQ1GKCkAs/bhgbsMLQMlvl/8LPQpALYVylUhrB0AzT/voCDoHQLRLe3OKBANAkjKIrn8AAEC+9jQIq20BQNCgqdBMAfs/kFNuPTdf/D8goR1x36cAQDEkSD6rvfs/SUHfN6Vp+z+zTE2P/TMAQEiMGZ1q2gNAOK+E0ayNAUCKFivd5hQEQPjMpsoUCghAZLlrcfodCEBxmFCXVbYKQKKPB4q2Sw1A5ldrTTiNDEAZETXdqrUOQGeAFk0YnRBA3dXyMAXgD0DF2Tl6O+gQQEk9gdXfTxFArvkh7cHkEUBf2Z9Gnd8SQEOdvF2RJRNAx+CyZ4h/EkBrCm3CLUQSQCqaMGJWGRNAlnZBC1B8EUBqDfqEAYwRQO6JLEqifBFAKXy6tQT1EECZ7tYN7RYOQDkiBUAztAxAMjXaAv2nCkAM5h5TJyUIQFB3M8jqzwlAeHVLrScHB0DySxSiacIFQCmnBwdIyQFAk4AYT0UUA0AEDHSlrk8BQG/T5hcLTv4/vBxPK9i49j8auUkYdsH0P5Z8uTDDVfU/p8dIocXM9z96kwesiObyP+imLEOwJPM/JXYsbpks8j/ybmkPt9DzP9VcBTtBsO0/hI2OZQ4O9D9qvihI4FrmP9BGubWRbe4/2lOZ7NBX7j9u2S0N7yjgPyRWNrc1b+c/POOijpI/8D9SLdz1rTzqP2UveVR5auY/qncpgwwh4j8KSSc5SfjsP26xN3K8auY/+L5yoajz2z9RrjMC0MAGQA==",
          "dtype": "f8"
         },
         "yaxis": "y"
        },
        {
         "hovertemplate": "Sequenz=153<br>t=%{x}<br>v(t)=%{y}<extra></extra>",
         "legendgroup": "153",
         "line": {
          "color": "#00cc96",
          "dash": "solid"
         },
         "marker": {
          "symbol": "circle"
         },
         "mode": "lines",
         "name": "153",
         "showlegend": true,
         "type": "scattergl",
         "x": {
          "bdata": "AAABAAIAAwAEAAUABgAHAAgACQAKAAsADAANAA4ADwAQABEAEgATABQAFQAWABcAGAAZABoAGwAcAB0AHgAfACAAIQAiACMAJAAlACYAJwAoACkAKgArACwALQAuAC8AMAAxADIAMwA0ADUANgA3ADgAOQA6ADsAPAA9AD4APwBAAEEAQgBDAEQARQBGAEcASABJAEoASwBMAE0ATgBPAFAAUQBSAFMAVABVAFYAVwBYAFkAWgBbAFwAXQBeAF8AYABhAGIAYwBkAGUAZgBnAGgAaQBqAGsAbABtAG4AbwBwAHEAcgBzAHQAdQB2AHcAeAB5AHoAewB8AH0AfgB/AIAAgQCCAIMAhACFAIYAhwCIAIkAigCLAA==",
          "dtype": "i2"
         },
         "xaxis": "x",
         "y": {
          "bdata": "jdgsVnxbC0CVf8zMmC4RQOHzsAgdzBJAoVlgzpDPEkBHnLmXKnETQMd+Rig3pxNA6AXdmjlIE0BU8ZFXdCgUQOh+mNw6YxVAbUgx7/SMFEDCY377/NoVQGY4VRU7YRZAxMWv1fXpFkCqlxY0d9gXQLxXSE/JoxZAOoDDfzANGEDyY1xezzcXQJ9r4GdUcBdA4qHvaE95F0ATiZZRD+0XQCnyXT9IehhAARxU6R8WF0BsGTLH7DMXQC1Sv5GzoBdAGXqLiMgWGEDU42EJkr0XQPMsU1xocxZADihJs+b/F0C4kx+6C60XQOblpALTDxZA7IR4MF5jFUA3VdEH844VQFAvMC1dqxVANUeaYU/dE0AuLsKqSSgUQOpT52a5ehRAdmTjnBK9EkDzNn5OaYARQDemN78s7hBABcW3fPrtD0AHdvj+JhIOQBe5Ip/I6w5ALGI2AbWwDUAuTGQQ9DYLQMCH2kaUGgpABSPgvINbCUC704eMazcIQCVfb4gqTgdAnBSpw+w9BEAP80KU8WwCQDZ8oGnsyQVAcrkWdoHFBEBsPB0oN4EDQCgiTrvllQNAHU5h0VRfBUCp2hxlnkgJQAMy5wQ0pglAQtrRm8V3CkD03UnhPoANQLZfwos3qg1AExOl5vXaEEDvAj3l+FURQAgL+eDU+RBAsk//utGPEUAkN5oJvT4TQO1v/IWNGhNAKH5m2GRyE0CQQJCayf8TQObA3GSpchVAbRnCiKywFED3Wzhq3m8UQMTlJ7s05BRArLFH4e6WE0CqaaFnjHkTQG7Vf7mIrxNAz1VwXevBEkC8O1I/DLISQEc8gHw54hJACcRtT8vvEkC5jWOzEfMSQO8jyTeNqRJAXnrkg0j+FEAq/UyGWk4UQMb7Ni1AWRZA3jFHoC6QFUBPSSRp2m0WQHsGXn/7GRdAO14UEY+5F0AITbkBLSEZQO7Bi4s1xhpAzygoPAZRG0AOyuq57swbQCIHvEMDEx1AR/Gi0oO+HUA44+9zkJwdQPonN4rxHh9A2MeRoONJH0D+mhw3Oo8gQKfRnzl+OCFADfBF78+TIUD4ghvsHfcgQKJgIGFncCFAObhqlMf7IUDGBs4eBMkhQFOA73lq+CFA08fYOcVyIkDFK4s096ciQOEYF2ugxyJATg0Jjfu3IkAVfzAUCJgiQO9wkqml9yFAwaslLRHoIUCQc8CAXnoiQCBCGYP3SiJAklg8zn+0IUCQp1cKdjAhQDAy4KqPeiBA0bBJBjAFIUCAJ6Q6KhYgQKa0pkv67h9A/7jOAu7NHkCHKSIsOWUdQA5BM/x/PR1AgN5DlL1HHEAEdnGwabAaQPr5+a1BGBlA6fyw0DzjF0C+c409eIEVQIzJkpNheBRAYOPCh9oDFUDQX6WQBCwTQOCJ4hlJzxBAx5DM4SUoEEDYzyHBnPIJQGz90UROwwdANZXPLhmbBUBEM94BEvICQIChTbwgVAJAq1MSM9SR/D8Ci7YN22n0Pw==",
          "dtype": "f8"
         },
         "yaxis": "y"
        },
        {
         "hovertemplate": "Sequenz=154<br>t=%{x}<br>v(t)=%{y}<extra></extra>",
         "legendgroup": "154",
         "line": {
          "color": "#ab63fa",
          "dash": "solid"
         },
         "marker": {
          "symbol": "circle"
         },
         "mode": "lines",
         "name": "154",
         "showlegend": true,
         "type": "scattergl",
         "x": {
          "bdata": "AAABAAIAAwAEAAUABgAHAAgACQAKAAsADAANAA4ADwAQABEAEgATABQAFQAWABcAGAAZABoAGwAcAB0AHgAfACAAIQAiACMAJAAlACYAJwAoACkAKgArACwALQAuAC8AMAAxADIAMwA0ADUANgA3ADgAOQA6ADsAPAA9AD4APwBAAEEAQgBDAEQARQBGAEcASABJAEoASwBMAE0ATgBPAFAAUQBSAFMAVABVAFYAVwBYAFkAWgBbAFwAXQBeAF8AYABhAGIAYwBkAGUAZgBnAGgAaQBqAGsAbABtAG4AbwBwAHEAcgBzAHQAdQB2AHcAeAB5AHoAewB8AH0AfgB/AIAAgQCCAIMAhACFAIYAhwCIAIkAigCLAA==",
          "dtype": "i2"
         },
         "xaxis": "x",
         "y": {
          "bdata": "+uPy1LnwFUCKvTUoUz8XQBj3Zl/JVxhAT6cy3HvkGkBOTGRcf38cQGvCdoYJYx1ANE9z4L0eH0DXtvpAH1EeQL+XXDuOEyBAlqt+hObqH0Bb6BfuXrcgQKxQ9eH6pCBA6pidO+oFIEDnAlZqwdgfQAMMF1J6Kx5AUlK8JNNsHUCrjAXndzcdQC1xY9w3px1ASFFx3qZPG0AsGHQTuVgaQCb9bjGf9xlAD/wzAySoGECcYtb0zAgZQJcQ99UHqRdAResCSkc2F0CtjDXvJVkVQI0OtDZSIxVAnbxUNPixFED2u8fTm0UTQJNQap7pFxJApykNvzJ/EkBKUXBjADoQQFLGix6RKg5AoOFBBupMC0AD+kxJZcwGQFSy3gFpYAZA2i2EactiB0B958IFRqcDQGVYDXOQUv4/ZU0Dx+B9+z/cJ0s7tuT5P/SWgcQf3/g/EOmgDXmy8j+jdtOmarj1P1Kg/wRE/fc/S9iay8DC9D8WSuKU7LnxP+W03eUCfNQ/WvSs4cZI7T+ecrG7yzjoP3+4fKZ0yu8/ZOnLkvU5+D+3K53cBgzzPxrnAytRBvk/EA5DUjR07j/6rR+GU4f1PxWxMLlQRfg/kHkbBll6/j/R1qMf1kH6P9uuTgjLIwRAoZZIcpqNCEBJeqRlz1kJQI8UbalPLBBAABhZOZQBEkAxjFSyoYcTQKUc3pQ+CxVAVENUxPU2FkBmq1Hu8wYWQOIFPlPp6xVAiwYu/JYaFkCqbJARFOEXQLt1FtecRhZAWsU8MKepF0CSH0GNmckXQN8x77u9aBhAtRweKURXGECeDps/etwXQJSpfi1yDxhAwpxugjyiF0Aa7rCxWX0WQGSDKXdILBdA8noZtc4mFUABZMbQT0oUQA+kYt2MiBNA63kOl+kUEkBiFhN5QLgRQGV3UC9GGBFAVAdB2llFEEDW2HqZ1Y4QQPpbdQa9wQ9AiG1P7ocKEED4HD2R02MQQCU+rzBvjRFAjS02WJAHEECmVkHVCpAOQBu1WC/B5A5AjkFNh6VKDkDlMLaBJJUOQLgHcaN55AxAljPzoGF3DEAJk/w/EBUNQHZbAizuvgpA5YM8RMm8CEAt/GxsGkEIQDvZfCEo5whA+oZPm+J5BEDso0CzmHoFQIU047aLkAFAIPO4MMhMAkCU7gWP5dD8PzL4ZVSpw/g/fOx88HHh/D/KWjU7DOX4P7lS5C7Rtfc/QCd066M2+D8EGrI4inrzP0gOV2OltfE/8Bvy1ZHC7z/92VtxN1TyP6SBCxE09fA/+WNFNKI45z8QF9bNDIfgP+eWFQZJEug/VrSuyKJZ7D+3TOT1cBnpP5Qy6T4yX/A/p1+K1GbC8D+BywHkwx7pPyAAhpYuIuc/Wqcoze8A6T9+ERK5aLblP9KponYIPt8/V5dBSQfU8T85hC5kTl7sPwKncfqXSeg/aFTndV3P6T9cWxnnT03hP0x/YGB8rgZAvF+QNPjXCUCVFiau1+ULQA==",
          "dtype": "f8"
         },
         "yaxis": "y"
        },
        {
         "hovertemplate": "Sequenz=155<br>t=%{x}<br>v(t)=%{y}<extra></extra>",
         "legendgroup": "155",
         "line": {
          "color": "#FFA15A",
          "dash": "solid"
         },
         "marker": {
          "symbol": "circle"
         },
         "mode": "lines",
         "name": "155",
         "showlegend": true,
         "type": "scattergl",
         "x": {
          "bdata": "AAABAAIAAwAEAAUABgAHAAgACQAKAAsADAANAA4ADwAQABEAEgATABQAFQAWABcAGAAZABoAGwAcAB0AHgAfACAAIQAiACMAJAAlACYAJwAoACkAKgArACwALQAuAC8AMAAxADIAMwA0ADUANgA3ADgAOQA6ADsAPAA9AD4APwBAAEEAQgBDAEQARQBGAEcASABJAEoASwBMAE0ATgBPAFAAUQBSAFMAVABVAFYAVwBYAFkAWgBbAFwAXQBeAF8AYABhAGIAYwBkAGUAZgBnAGgAaQBqAGsAbABtAG4AbwBwAHEAcgBzAHQAdQB2AHcAeAB5AHoAewB8AH0AfgB/AIAAgQCCAIMAhACFAIYAhwCIAIkAigCLAA==",
          "dtype": "i2"
         },
         "xaxis": "x",
         "y": {
          "bdata": "bgt1A1EGI0BBJhEZ4xIjQDi2y7/ItiJASuK/A/NpIkDNt9rM4tQiQL1i9JNNmiJABuyRVh7wIkDXZHfplZcjQE/jskngECRAjpCtsuvlI0CM3TM/Nk8kQI8o7PorViRAK5QS5b8tJED9/AbG/XwkQC2DVMyZ9CNAptg3ponVI0BHwOhgaKokQMzpDn6cGiRAjvI6bwFGJEAPNfoDsAokQMid9n+lMCRA+e3dfyrMI0AGS5fYreYiQCIl6LP5+CJAHPkblq6vIkAJaKVFKzUiQKKjiiRydSJAMle8tZwBIkBFU2EGAy4hQF9+W2m7OSBAkEjRF2syIEDeKN1InooeQHBPXWbraR1Al35BFCPtHED2SGI8xUgbQOH02x1pMhxAwmB9tv1xGkBeK7M4XEsYQOhrVHOoZhhA8kSbXVCpFkAjNr4S65QVQIgP6t7X5RRAQv/ZkGEiE0C0MAF5sTAUQHQrh1qTdxJARiTHwlJDEkB2+Y0w4WkTQDI4DHKjehFAAEIn/gb0EUDoJAE/IEURQP0/h7sobRBAEB3IsMJdEUA+ul3V9dQRQOlE8Oh0WBFAMOF+9yXGEkDDhUOJ+E0TQL+0zHJY7xNAylc7VZu9E0A7SDC8lFQWQJ9dMAftURZAfjvQ4OhOFkBW2cak0GsWQHTeV+ZiyhhAJhMs486gGEDiDlRtoGMZQFRZRkWhHxtA2D8C7QwLG0AkkAAe96YaQLY/3wSv5hpADrIk5Am6GkCJR7ALRZMaQNVFpthkiRlAlIIxM91SGEC/8XRh3L8XQBcOjlQUkxdAQyi7eevuFkDi52Hk1LUVQMQ6RXFJGhdArgnwufH4FEAfIqEzPiIUQHAGc2jsrhRAMz788n2REkAxk5xA8/8TQJoy2ra8uBJA7BUibD7sEkBImJgFOW4SQAkbAdRWaRNAhksG4vOOE0CnlHLjo74TQG+aZE3eSxNAWCUR+QqOFEB6ywtWBngTQKCBUNucDRVAXOVYj7T4FUDK9d663AUVQIhZeIm+QhdAagcg/LqXF0Cu4aLJ2qAWQDwo+bt/eRdAlmso44EGGEDINtG9I2kXQOvwU5fP0RdAejnlvVVtFkBKfDN+PssWQNLzoRL8qBZAqQqqk6sTFkC4BNltgB0WQFxzUlNJ3RRA/l7cOhH+EkBzlg0e7zATQOo2ec2rchJAsj5nxikIEEB9RKGQBOUPQAslH7nJ6Q9Asl2jDfi0DUAJQG4/7AILQDUvgz+SawZAfdv8Cu+qBUDL5hooYicFQMPoahaf5gFA9KrF/JtCAECX4IOivgD+P/Z5flGED/o/PF6naPE1+z8X5rPU50P2P2Dl7zGrr/E/+/QpRWPs8T9jw3SK3LjxP1CEWwrGAvQ/8vOImsHA7D+whOdX6HLjPxrsDDbBge0/mFJNLu1s6z/nLcwfE1LpP5oynY76m+k/DHLn8cub4D/1Jc662YjrP5jvG4WRF98/YdOq281R5T9l0Uf/c1fwPw==",
          "dtype": "f8"
         },
         "yaxis": "y"
        },
        {
         "hovertemplate": "Sequenz=156<br>t=%{x}<br>v(t)=%{y}<extra></extra>",
         "legendgroup": "156",
         "line": {
          "color": "#19d3f3",
          "dash": "solid"
         },
         "marker": {
          "symbol": "circle"
         },
         "mode": "lines",
         "name": "156",
         "showlegend": true,
         "type": "scattergl",
         "x": {
          "bdata": "AAABAAIAAwAEAAUABgAHAAgACQAKAAsADAANAA4ADwAQABEAEgATABQAFQAWABcAGAAZABoAGwAcAB0AHgAfACAAIQAiACMAJAAlACYAJwAoACkAKgArACwALQAuAC8AMAAxADIAMwA0ADUANgA3ADgAOQA6ADsAPAA9AD4APwBAAEEAQgBDAEQARQBGAEcASABJAEoASwBMAE0ATgBPAFAAUQBSAFMAVABVAFYAVwBYAFkAWgBbAFwAXQBeAF8AYABhAGIAYwBkAGUAZgBnAGgAaQBqAGsAbABtAG4AbwBwAHEAcgBzAHQAdQB2AHcAeAB5AHoAewB8AH0AfgB/AIAAgQCCAIMAhACFAIYAhwCIAIkAigCLAA==",
          "dtype": "i2"
         },
         "xaxis": "x",
         "y": {
          "bdata": "7r2qDkJkIUBRhZ1Pe6AgQK7ye4L6OSFAbXag2muPIECzgtIxXrwgQEaPMq/I0CBAfPym+/hYIUC85cnMjqQgQC+ZKZsouyBAkmFJxZEgIUA47p3xUpohQC856gkkRCFAUg7oZ+CJIUBX33YiLN8gQIGOCt6R+yBAjpm3dBFYIED1n42ENjohQF57fMFljyBAkYOvSMmcIEBnvIiG8ZAgQLYhfZMrex9AitYZwT6VH0CwjthWjB0gQGe/mYiy/h1Awvti8H57HkDiflBij/McQGhR+iGW1R1Ay0gyLEMXHUDixNkpOlwbQBlg6baj+RtAx3bgt+QiGkAcAMMBG+EYQDRA9q+knBhA3IDIaFf1FkA2qYmMJSsVQFRVW6O06RRAOAzpxbwOE0Be5R/O5noTQCj7qLoLWRJABKGTOxK6EEBB51mhxYwQQGtND3e09QxA0StVKKQkCkC+P6WR6m4JQMN8vtqk7AVAxUITuDzRBkCuzDFxjEkEQOCMQ8B4GAZA2NUYi9JZAUCKkAENmP8DQDxZXVsXugNAKPQ8+gC9A0A7Y1zVaeYGQFJQhjJ7+wVA7L3reAZvCUD05iXylnUKQAPI8OhJKw1AiHltKrmzD0BV5XMXOxIQQDbDsCw1mRBA/IWMRxQ8EUCjgzaQo6cRQJjdu1UAuRNAG8bV4YpAEkDPSMsprP8TQAdS1adGaBRApcD75W32E0DIXkHHnd8UQMBZSxD2PxVA4LH8l3jDFEBMkApKEmYTQN3F05/2VhRAK8Ib/3rVE0BTHlA7jpMTQOefQxuC/hJAdIDT92EYEUCvo5s8ymURQPwpHoky2xFAKOIWLVYuEUCC6GYGa2gQQHLV9CzTWxBAgHCco++PEEBUmaR/RT8RQGSsrnd0nRBAL9pH0RTfEUA0v84XDvsRQFTtzZQ3RBJA5mY1VfyIEUC0nki5fYUSQLHHDLB1bhJAb1rFzciTEkBk4BLc2B4SQAKwwfW5yhNAOmWNcNXhE0CGDJcwmpkSQCtuxTPFjRNAWmKOC9lYEkAgCpU38BgSQNAtGev8SBJAfvb1qzSjEkCzbYliPg4TQAJ/DElJCxJACzX5NrlVEkDs83SZo+cQQHYZyH964xFAQoEBaMLCEUC8WdWxkV0QQMHpbySL8RBA2LDTvtFcEUD+t5gYmeURQBN3njZMARJAA86PuG3YEEC7YGr5NJkQQCOzbBEPLRJAiSyJqfMWEkCPBe7TQM0QQEPnC4JjZRJAeEpQfqjTEkDsSjxdrpcRQKwRrIJneBJAm/TlpbwpEkBvemZou28TQLn6LQztuBJADB1azWsCE0Cuz9PtIXkTQJrxYdgXaBNA82qGNemQE0DJoLwBzD0SQFzFcr0UkxNAVtEzjcWaE0DeuQXR2SISQGlNEPK0ShNAUe+mcBGeEkBTYg9KD/MRQOBBKOb7KRNAETpR8NU4EkDxy63xjnMRQPLCkJ0VehJAyQsyRuKyEEAP9D6mkJQPQA==",
          "dtype": "f8"
         },
         "yaxis": "y"
        },
        {
         "hovertemplate": "Sequenz=157<br>t=%{x}<br>v(t)=%{y}<extra></extra>",
         "legendgroup": "157",
         "line": {
          "color": "#FF6692",
          "dash": "solid"
         },
         "marker": {
          "symbol": "circle"
         },
         "mode": "lines",
         "name": "157",
         "showlegend": true,
         "type": "scattergl",
         "x": {
          "bdata": "AAABAAIAAwAEAAUABgAHAAgACQAKAAsADAANAA4ADwAQABEAEgATABQAFQAWABcAGAAZABoAGwAcAB0AHgAfACAAIQAiACMAJAAlACYAJwAoACkAKgArACwALQAuAC8AMAAxADIAMwA0ADUANgA3ADgAOQA6ADsAPAA9AD4APwBAAEEAQgBDAEQARQBGAEcASABJAEoASwBMAE0ATgBPAFAAUQBSAFMAVABVAFYAVwBYAFkAWgBbAFwAXQBeAF8AYABhAGIAYwBkAGUAZgBnAGgAaQBqAGsAbABtAG4AbwBwAHEAcgBzAHQAdQB2AHcAeAB5AHoAewB8AH0AfgB/AIAAgQCCAIMAhACFAIYAhwCIAIkAigCLAA==",
          "dtype": "i2"
         },
         "xaxis": "x",
         "y": {
          "bdata": "jhcHzSZoFUCToBZiqYQYQOPoCkJFARpAsRsAb1XkG0DDyKabItMcQINxuJ9cnhtAZ/LXJ2neG0CoGjJ46dIcQDx+onAj4h1Aqi1LFpi4HUAmQAzaE54bQK0uuPiO9RtA686zRavsGkDum+HeZiobQM/vu/p4nhlA5KhR01SnGEAd/760asQYQOiDlggh9hdAGHSqRnJRFkCT+91mPGkWQKzw/vShqRVALnIplHZ2FEBQ8Xia2YkTQNV5tXQFBhNAMTkkq8LVEUA156i9TsUQQFcIHN5msxFAF7+gU0eoEUAbrM+akQsTQCxhVhh47BFAII1aAmzREUBfPKhXbWUSQHCwl1d8jhJAY/L/9MJTEkAdQNkXwkAOQPYLNlzjrApASZIsB0u6BUBvVpyPuVUCQG1KvyEdoARA1vj0GWzoAkBdTDn0ODICQOnpks0iWQBATAWUn44S+j8szljQ3Rn5P3RR674DzPQ/mdQyJmyv9T8WCMzuqeX7P7Q+zAfIUvY/8MhtzPad8j98uJm82GPwP2sK/I2Ax/A/09yR2fH98D+7p3Wa4Xr2P8r3RFUIY/Y/V+M4sXQV8z/MY8ZuWJ3yP9Htc58LyPI/S4qrizoW/j82IJm6yUcAQF01pu+RtAFAZ7cg1XcfAkBgQCRLhh4FQCG8rMlGTQZAqTNWLLr4BUBgLPyCll0JQHbXDb/urAdAfiHy3+yyCkAPgtgxlKYHQJu9X7KCDApAjEtCSBmECkANZKfjgwAJQOMOo/R7qAZAa/J7jcOqBUCIZ97oorEDQKPtgZyqoP4/tSSMD/XJAEB+5dn+OlP4P4/+ZF0IP/s/Y8WwHi8w+z/Db69Y04j1PzXYHvSj5/s/8h5HFoSuAUBy4g8fN2QCQNIQ3n3sVwFArx/RZdnUA0C9d3flnP0GQDkNPSM7cAZAqmMGx9GyB0AQG4wdiWwIQJylezd9YwpAG/7EnfW5DUDN8Us0EO8PQLX4EiQ+NBFAOLJkbgWhEkAf6taUpj4SQGrYAH0mjBJAEXYDVkNTFEB0GZ2HI34VQFTTVDQTHBVAZOGQcmksFkBJHBwD+ukWQAl5ot6S5xhA/mQ8xWtfGUDjs/aQFOQXQDKbCQAkDhlALtbvqeLCGUD4BJfJ2pEaQFzI9+sWdRpAsJNavGFrGUA8IlNX4coZQBkHbWOBxxhAwTEGgtqDGEB4I6QpkSgaQAJQ3YefbxlA6Oskfh7CGUBszQERhvoZQP6bZh95oRlAFLMSaCgfGEADykhMrWUXQCHn43G6yBZAj0W6MvXUFUDKiHL8gw8WQC7LHRnGKBZA3SeqAOdFFUBoAjYwPNESQOK0WRqyfBNA8j3IL0LkEUDlvwwdxLwQQJEpkz6WzBBAOEVB7AX+DkATblCxMn8MQJV0mmTjaAtAsSmjoMCuBUBFXnHq6x4GQLYSQs9FowVAFuirbH3sAUAo8ALMONMAQMqTmlWp4Ps/BQFs6klg+T8w2NISjg76Pw==",
          "dtype": "f8"
         },
         "yaxis": "y"
        },
        {
         "hovertemplate": "Sequenz=158<br>t=%{x}<br>v(t)=%{y}<extra></extra>",
         "legendgroup": "158",
         "line": {
          "color": "#B6E880",
          "dash": "solid"
         },
         "marker": {
          "symbol": "circle"
         },
         "mode": "lines",
         "name": "158",
         "showlegend": true,
         "type": "scattergl",
         "x": {
          "bdata": "AAABAAIAAwAEAAUABgAHAAgACQAKAAsADAANAA4ADwAQABEAEgATABQAFQAWABcAGAAZABoAGwAcAB0AHgAfACAAIQAiACMAJAAlACYAJwAoACkAKgArACwALQAuAC8AMAAxADIAMwA0ADUANgA3ADgAOQA6ADsAPAA9AD4APwBAAEEAQgBDAEQARQBGAEcASABJAEoASwBMAE0ATgBPAFAAUQBSAFMAVABVAFYAVwBYAFkAWgBbAFwAXQBeAF8AYABhAGIAYwBkAGUAZgBnAGgAaQBqAGsAbABtAG4AbwBwAHEAcgBzAHQAdQB2AHcAeAB5AHoAewB8AH0AfgB/AIAAgQCCAIMAhACFAIYAhwCIAIkAigCLAA==",
          "dtype": "i2"
         },
         "xaxis": "x",
         "y": {
          "bdata": "dNedh9mUGUC2aSsuBvkXQJeWeRxnxhlAZK+7AAHFGkCoA3W5HEwbQMGVDFp8uhxAtgNQDNoLHkB0cKzG768dQJ2pon/F7h1AiMEsvcD+HkA4i+2W2NgeQEzc0r2oRCBA3OJwqpeeIECmh0dBjLEgQJWi0mYZViFAd9g/ijyLIUDKXJwRUEAhQIgxr8iq7CFAWLOQKdP8IUBH3B40I8EhQJraZJWApSJAqji5JBPuIUCpxY6s8OIhQH2esCqmaCJAQN0I6vlpIkA83LNEsl4iQO3JjVgftyJAI7WutXTpIUDDVHrewLEhQKMivurE4yFAI+Nv3PQ3IkBHvKuYR50hQIjEcVK3HyJAT4BTxLJlIUDJ8h31FpAhQEtaGwofwCFA9oa3ZZ7WIUBV/EUPaS4hQOV/WhR8eyBAyFTKy1a2IEC7eZIxZQAgQPbs7QJEnyBA2bxnmdobIEAISMYwP8IeQIQB8HhJOB9AsfRt9BTHHkBOgB36HBEfQLMlKXgi1h1Afnh2vKF7HUAHzTrkpv0dQBndqJkrvRxAz5chw2+5G0AzEJ3R0BcdQDrRG+3MhxtAvCWI8DwPHEBT3FWgkYccQPCi3wrb3RpAGIEdZaafHEBLZoHdHNUcQOphhdgHRxxAy7x2whMLHEAcoUMO1WwcQJ6kVSAt5x1ANkIzdfgWHkBMEJwUtWkeQKqfRUZ3Hx5A8dgpeepFHUCJEvct/NgcQIFUXCYnWR5ARcNLbduxHECt0dOlNrkdQLxZkVpHYxxAfTtjxae3G0BC3B2A/H4cQKvZdcx+QRxAlHMsherVGkCTraktOxIcQMRhbHvbnBtALn+DgJ3tG0DUBd5J+FIbQG4v7/vylxpAzbatvaTGHEAS2ndyGjkbQKwCSR0iJR1AdBm+gO/VHEB3c6hTXBkdQPAZLGBorx1AfcZ8n7SDHkArzUVbogcfQKiPspMEDh5AXOIsNRLPHkBOiGvYxkEfQPe0FoaSuB9AR+bfP9lJIECXC8XrnJ8gQMM3SgRcGiBAMWpaNrkEIUDQxTjl8HIgQJES7B8N5yBA2Du/HloNIUBsG+Yv2XggQOcduX7kyyBAqyz9j9imIEBLWo2JwE4gQKPiKAEOXx9AgV3wfDV1H0A4x4m/EnEeQITDAMLjUB9A489ksNVwHkDTGy44a74dQKQrPr94uR5A2seN7uFwHkAsLf5m87YcQC4wgav5uRxA5N9IQZI9HUBEp38RrAMcQCjEiyjhxRxAEBP+qwCrHEDp2ozGybYaQPc3XrQW+BtAz0FKs3Z8GkD4S6mFidAaQKtd//3PMhtAi6pQjExSGUDcRNHIMDsZQI2YOmCjeBhAyjeUVFXmGEC+OI+UMKgZQBfkR4V9cxhA7M/JqQaNGUDBZydHQD8YQCe/PlWmzBdAfraF+Ky8FkD4ZgH+E7AWQEwqg/ZHuhdAHLEHD5fKFUB64BY4tI4SQPXp+1MJBQ5AMJT1Eb7NCECypxYsd5wEQA==",
          "dtype": "f8"
         },
         "yaxis": "y"
        },
        {
         "hovertemplate": "Sequenz=159<br>t=%{x}<br>v(t)=%{y}<extra></extra>",
         "legendgroup": "159",
         "line": {
          "color": "#FF97FF",
          "dash": "solid"
         },
         "marker": {
          "symbol": "circle"
         },
         "mode": "lines",
         "name": "159",
         "showlegend": true,
         "type": "scattergl",
         "x": {
          "bdata": "AAABAAIAAwAEAAUABgAHAAgACQAKAAsADAANAA4ADwAQABEAEgATABQAFQAWABcAGAAZABoAGwAcAB0AHgAfACAAIQAiACMAJAAlACYAJwAoACkAKgArACwALQAuAC8AMAAxADIAMwA0ADUANgA3ADgAOQA6ADsAPAA9AD4APwBAAEEAQgBDAEQARQBGAEcASABJAEoASwBMAE0ATgBPAFAAUQBSAFMAVABVAFYAVwBYAFkAWgBbAFwAXQBeAF8AYABhAGIAYwBkAGUAZgBnAGgAaQBqAGsAbABtAG4AbwBwAHEAcgBzAHQAdQB2AHcAeAB5AHoAewB8AH0AfgB/AIAAgQCCAIMAhACFAIYAhwCIAIkAigCLAA==",
          "dtype": "i2"
         },
         "xaxis": "x",
         "y": {
          "bdata": "z5VjKIZ9E0DmAHYK1IgVQI7kNx+aaxRA5Wdi0NkpFkANtIPqEKYVQA2C4yR1kxdAZstE4vzeF0AthWawchcYQKL8a21wShpAli2Zv986GkB4WDfTE9MbQLo1Q+Dv7xxAJ15Cs7oXHECs6jgOkNYdQApulWOTsR1AbFoQxoUUIEAvsafYazwgQLy0bEcStB9AdorCI1AYIEA0Q1cBrxQhQBREfUljQiFAkzYqH85tIEC0r2zjFX4gQAUfvCRTvCBAq3jU+CSlIEBCI6skvwwhQFdRjr5ytSBAXyvw+b2KIED12j0EYishQDQwHmE9eCBAmwBnLIfEIECutovrfFIgQHzx93+4iSBA/V7WdOcGIEC9dLPZOUgfQC8desc8hR5AXUSG62oZHUDD0TwzRkobQAA0ys58+xpAQg2vGWvPGkDj+o2b1XEZQET6uaY5aRZAGEp7JA6CFkCROkTiOdQVQHZY8cVXpBNAkP+LFe0oEkChA7yJnHQRQP4g4m3VoQ5AxR1gqDJrDUDS7qlPjmwOQAxIvOdyYAxA1bCAJUJTC0A6q0uVjdgIQFbPoEEcEQpAopjNnZeODEAE/c3Z8IgQQGSl0Zx6dRFAdtTO2TtlEkC893VLIOwSQDzVcG4kYxNAakchEJwnFECRd2xn2lsVQB6Pd2UT0RZABXrZM00NGUArSseGQCYZQCD6zu+jJBpAue7r75ZVGkCtrKDxe7QaQDugQIDf6xtAau+/6Ne0GkBcnjCt+2YbQDibOHHbcBtAQ2Vg6p19G0AEtV81O4UaQIKNah3L2RlAz7PRFpPfGUCMhBPbA/0YQDPUBtd3eRhAape7rPYiGUAF5eE382kYQGsbf6zgSBhABiVJKQRfF0DZV2ac4F0YQOvOdPse3hhAYAqEfUniGUB4B7ZNIyIZQPs+jH9aZhpAh2Ne/NDbG0BJAIBqnX0cQGkb77hefhxAlEtOXSJlHkBhypv7zAAeQCxCNrGa6B5AdTtujj42IEAL6MukP2sgQHWM2AF8diFAdBurrf61IUC7E8npB6ohQIsp+soBjSJAxEZPLkZNI0DgFAShX70jQOIImJ6BCiRAF4SGdVY+JEDJcmIRuuIjQImtfvg3xiRAeAp7IAFIJEDxLcy2QOwkQAPVxJT/PSRAWnEZMTQDJEAK6Nfq9RskQLmvEy6S5SNA/ixDZXaTJEBotDhkD/ojQILB8IHJ2CNA0EYn0AUoI0BzJTWc73sjQOjhs/EcpyJAmSUJ1gs9IkDzBrwTXmUiQDIl36LnSiFAMLIITfYLIUCqGvJ5XtEgQIVSmuyWCCBAx7h2Bm5DH0CQvGIXd5sdQC6g1lf4Ex1AroiVdb2BG0C/SiO7uvwZQMmkdTBW1RhA+mch9PwoF0DUR/FnqRcVQI4F9fqyIxNAGOn5oNshEkCKzqpkdGgQQBu6KQvu2QtAz7bD1nomCkDNBRsfoosHQITidPKJcwVAt3Y6e0P3AkBSFSpZRQT+Pw==",
          "dtype": "f8"
         },
         "yaxis": "y"
        },
        {
         "hovertemplate": "Sequenz=160<br>t=%{x}<br>v(t)=%{y}<extra></extra>",
         "legendgroup": "160",
         "line": {
          "color": "#FECB52",
          "dash": "solid"
         },
         "marker": {
          "symbol": "circle"
         },
         "mode": "lines",
         "name": "160",
         "showlegend": true,
         "type": "scattergl",
         "x": {
          "bdata": "AAABAAIAAwAEAAUABgAHAAgACQAKAAsADAANAA4ADwAQABEAEgATABQAFQAWABcAGAAZABoAGwAcAB0AHgAfACAAIQAiACMAJAAlACYAJwAoACkAKgArACwALQAuAC8AMAAxADIAMwA0ADUANgA3ADgAOQA6ADsAPAA9AD4APwBAAEEAQgBDAEQARQBGAEcASABJAEoASwBMAE0ATgBPAFAAUQBSAFMAVABVAFYAVwBYAFkAWgBbAFwAXQBeAF8AYABhAGIAYwBkAGUAZgBnAGgAaQBqAGsAbABtAG4AbwBwAHEAcgBzAHQAdQB2AHcAeAB5AHoAewB8AH0AfgB/AIAAgQCCAIMAhACFAIYAhwCIAIkAigCLAA==",
          "dtype": "i2"
         },
         "xaxis": "x",
         "y": {
          "bdata": "aIszNMMqHEBStnZEt9QcQFJXzbXgCB5Aw+fbfGcqH0B1ctG8/YEfQPgZl7dixyBAwqFc7XvOIUDj47cvT1IiQAfjvS3CUyJAFir1XY97IkCXMdeYMbUiQIqhaMFXtyJANegCsC4yI0A2t2Z7LFUjQFJ+Zn5FsyNA/pLQ4h9BI0Bnt29WoCMjQE/BW8oOqyNAulTTfsHBI0CqXaLM8aUjQHS5q6ZqriNATgnh/0/LIkC0TXhea78iQJ4MNTSLlyJAr1cqiRmxIkC8A74rGHUiQNDbiohSgiJAwL1ySe5uIUB8ojr9H5chQFDxw58qliBA/FiQm5YEIEAgIuzmbK0gQHb4ZPuoSh9AiREPyi+JHkD2VqtJj48eQC5iP/2tix5Adf1KNpJzH0BBaIS1AAogQG0FMgrkWSBAwRNZC0bbIEAWWwffitggQJve5kgTGyFAc5AtMsOEIEDonmLSIW4gQCixDKs5rSBAbVPeH5rSHkBDc9DCqo4cQLt1K7cI+hpAij3NZP/jFkDz5WWl9hcSQNdBINeOUQ1Ax7uiQLUXBUAzmqwYFTAFQLSw1e61tgBAI/Yrn0yNA0CSMdWFejkAQPwmIzq4IANAsmNld7LbBED14eb7tZkJQGxIeS6vcQdAhHRi7cZwDEBLj3d81joNQN1tR9OAIA1APQHXOTaCEUB4GpyrQbgRQJIlgqjTqxJACznOBhgdFUCH8fJ16SMVQLTsGbvnjhVAs1FyjSmJFUCxqL38YgAVQEvjy1vipxVAJTmxBipNFEBVFMXRG/4TQIB5gqw5xxJAZL8NI9I3E0CxKqjmVK4RQJ3p2rGAlhFAMqMckdcxDkChl4hLwCcOQHDs9rY0/gxAwTS5tL1mDkC9PNPRXcgNQB8jE9xFrwxAHLw+otqrCkA3dLCqzUsMQLFndaNl8g9AHINtVHNuD0CeWKRP90YQQC8AYbA/tRFACOpzAv6UEkApwTtdshQSQOSM2D34mxRAcDy70EJaFEBbmy3rJdkVQBMHVMkb/xVATMq6wt6fFkAqhuHNWGsXQNM0HmN+MhhAHVLpodziF0CFiOvs8roYQPXbX09pZhhAD4JaGL7uGEAR4UQ12csYQNBwlJ9TDhhAGMkEaWSTF0Dfnk0/8eMXQAA37lJOQBhAQo/3tpxpF0D7FLYlJxYVQKS1VPrcwRNA8w8HbnxtE0AkbhsorjETQGzWtzdp8BFAirCDrsEREEAbp8/zzVkQQKAExQgbnQ1AqNRAwB3eCUDx43zd2WEKQBL3v1VL5QZAR0SAlkMiCEBx6/oNeWoFQMvFBojdIgJAafal6pryAEDWPnSfKjQBQMk9n9K3//4/IaAy1UuD9z+dGFKlEHP5P3RVPLFNCvk/nyzOtM2p+j+jYoCQP+/wP0LaWQfUNPA/0S9qxHwe5z/oNwxzfR7qP4IqUtC4/ec/A2ANx+6b8z+I14gqejjwP6ogNyi7MwhATeKrJPqyDEBoflERNcEPQA==",
          "dtype": "f8"
         },
         "yaxis": "y"
        },
        {
         "hovertemplate": "Sequenz=161<br>t=%{x}<br>v(t)=%{y}<extra></extra>",
         "legendgroup": "161",
         "line": {
          "color": "#636efa",
          "dash": "solid"
         },
         "marker": {
          "symbol": "circle"
         },
         "mode": "lines",
         "name": "161",
         "showlegend": true,
         "type": "scattergl",
         "x": {
          "bdata": "AAABAAIAAwAEAAUABgAHAAgACQAKAAsADAANAA4ADwAQABEAEgATABQAFQAWABcAGAAZABoAGwAcAB0AHgAfACAAIQAiACMAJAAlACYAJwAoACkAKgArACwALQAuAC8AMAAxADIAMwA0ADUANgA3ADgAOQA6ADsAPAA9AD4APwBAAEEAQgBDAEQARQBGAEcASABJAEoASwBMAE0ATgBPAFAAUQBSAFMAVABVAFYAVwBYAFkAWgBbAFwAXQBeAF8AYABhAGIAYwBkAGUAZgBnAGgAaQBqAGsAbABtAG4AbwBwAHEAcgBzAHQAdQB2AHcAeAB5AHoAewB8AH0AfgB/AIAAgQCCAIMAhACFAIYAhwCIAIkAigCLAA==",
          "dtype": "i2"
         },
         "xaxis": "x",
         "y": {
          "bdata": "lodz+PxwG0A8azUmXIQdQMNriM4KvBxAFVv1uNYFHkDb4CY6BFIfQLyRLu7s0iBAFG7o5GzSIEAgMz7CSmEhQNwSP/auiyFAI1KaLTkrIUCtLwP45uggQCtUxXtqHiFA6X4FZq0uIUBdnq+guvsgQN4z0338WSBAFHSgr91vIEC8kAg9zlAgQN7evAYi7h9Abexcjoq8HkC1FdkKNFYfQJ5hMH+qwB5ApCxRJLgQH0B0B2Ha8WweQBzaUUy3/R5ADTsg5z2sHUCNCBKwNz4eQM5oHybb0RxA/dYmWTRdHUB2H0OUNWMcQAfnI37Z/xpAITEcLDWsGkDAcD7pbxUbQKSW7Mv5XhtAhubpHhIAGkBIkwv80a8ZQKVUWOlrRRhAvge1NtU0GEAwtFtP9mYYQGVqzcSYVxZAyWWKKp3xFkD38mkgQ1gWQKH257j2OBVAFC4U648lFEDaS3MwPM8TQE3qMKo0URRAo3SqHPdMFECCJ7FsraISQFXTc0ZIyhJA0pQrBSU6EkBp+9jVeegSQNrUYw1VlxJASLECaYsrEUC/CikD/MwQQCDkM5VJvhFAP85nlyfsEEAecqebAxoRQGiAoQb9SBFAQTt7QfGsEUCgP1/bkJESQLQ8Pz/7BRRASXQZgyg/FEA7mSSqMqoTQHOAou/XKhRA8FrzG0EMFEBv4HBfpjoUQAJTTWSrgRRAWzNVydm7EkBtiU459jYUQGMwkfCusxNAS89GqdJPE0DrBa82v08SQAMUC1BeRRFAidMSJUR5EkCc/V++epIRQEPo6iDF+RBA4uNfTBGuEUDngATV8woQQKSJb1mSeRFAAXjdzIaNEEBmf3fFikEQQNgGY82shxBAVOmG4nC4EECoGWsEj1YRQB0dYo3/qhFAg5IQIVVCEUCbr6in5dIQQJBG2Nv0chFAzKGktorWEUDafDgwNfkQQD6mMlVz5BFAdncz+dBbEUD2Jzvuv0wSQC6fF0DbVBNAZpUsgqyREUA09Z94wx4SQGbAPP6tMxNACIUItW11EkDQw+lndnwSQAYR7QcjvBJARaHup532EkDE8VyUxPgSQPr0tG4ZGRNA9Oh4qKeOEUA0T93Ci2ASQOVqhHbQKRJAdnFcWdK5EUCPIqlSWfURQBC4N3UDuhFAwD1H0iFFEkC/D7jhr9ISQBpoAtyqexNA2d5mLIihE0Da5HZi2zoTQBHpVnMz+RNANRUTZEE0E0DV/IfyStcUQB69moJ/GxVAghU33ld+FUCrq9/omZwWQJGRgklMmxZAIK1e7rBXFkA11VJ88wcYQFpx2nkQ5hZAAm8fPTeZGEAR0G5PeRAYQO0iced6LRlADoRY102bGEBLyZth+L8YQJteCZfKqRdAE04JDrk6GEDXV+KMXoQXQJje2R0TFxdAjGwwZptqFkA857LleGQVQAgY5HnLOxZAGK2+E1HfFEBJvp86kboTQDn48HUolxFAcCldnuZdEEDtWFdwv5cPQA==",
          "dtype": "f8"
         },
         "yaxis": "y"
        },
        {
         "hovertemplate": "Sequenz=162<br>t=%{x}<br>v(t)=%{y}<extra></extra>",
         "legendgroup": "162",
         "line": {
          "color": "#EF553B",
          "dash": "solid"
         },
         "marker": {
          "symbol": "circle"
         },
         "mode": "lines",
         "name": "162",
         "showlegend": true,
         "type": "scattergl",
         "x": {
          "bdata": "AAABAAIAAwAEAAUABgAHAAgACQAKAAsADAANAA4ADwAQABEAEgATABQAFQAWABcAGAAZABoAGwAcAB0AHgAfACAAIQAiACMAJAAlACYAJwAoACkAKgArACwALQAuAC8AMAAxADIAMwA0ADUANgA3ADgAOQA6ADsAPAA9AD4APwBAAEEAQgBDAEQARQBGAEcASABJAEoASwBMAE0ATgBPAFAAUQBSAFMAVABVAFYAVwBYAFkAWgBbAFwAXQBeAF8AYABhAGIAYwBkAGUAZgBnAGgAaQBqAGsAbABtAG4AbwBwAHEAcgBzAHQAdQB2AHcAeAB5AHoAewB8AH0AfgB/AIAAgQCCAIMAhACFAIYAhwCIAIkAigCLAA==",
          "dtype": "i2"
         },
         "xaxis": "x",
         "y": {
          "bdata": "2NZaUQhdHECdxV2eN3AcQHd1s4GS7RxAkP7aU06/G0B04aXsJ/QbQNdPiF16LRxAYpKhOl5WHEBWJqdBkfwaQC3DtEmK3xpAWf/vroJrG0B+FcPDYbMZQCI/SoV93RlAXnCMk0z4GECTqx99baIXQD5aG0J6NxdA8+Mh7Md/FkA4+YcRTVYXQNPqE3TndBVAyJZDh3hbFUDd+vnm590UQJMTXfSLLxNA7hl18OETEkC7sIsK/joRQPDFTcHTMxBABrqH4ri6EUC1V/QlaUAOQMgxH91S9QxAgWakvOZoC0As7zAogwwKQIiXwSMlMgxAEtJwTdMnBkB0nRNOHuAEQMMaQAm00AJA0hFHApxWAUC4GnyZhs0AQMmAS1kJ9fo/JkKUfmPF+j+0DlV/lTD2P1Hr1MKlmvQ/NfX+Doem9D+QrjrYNKjzPx47yQCcMOw/iI3ffjR/4j9avz8zbJfgP8xLsBe15+w/rGOHP+QC8j+Zprm8DdHzP/ZBLgHcYt8/FOPBzTET4D8W1i4c3BLaP+zUV139fus/T+B3pbUF7z8UGjOjiB3hP65c0/BTF+4/0xIs5d/t7T+uwktddPvvP4eSofc2++k/SP/H17Xb8D8/y1biQGj0P03o09lYufA/I7DPzzvm8D9WeVkMDi3zP5CfAlHb1vE/tkNL5ZUN9z+4Mk7lcobzP1yv6Hn9VvU/LiJeKM8+9z/TWNYOwsr4PxQ/OaEjyvQ/Bj+jyP/P9j9nD2jaqPn8P8JN33foOwFApm/pFwJZAUCFs4V6w7sCQJOLbtgjUgRAF27KEIvlBUCkNuFk94QFQL5xDhSKJwhA1Sq9IQvGCECzl1+8B78KQOuRAdF5kwxAQsKnR0ApEUDq3M9AR+kQQDO6HZF+6hFA19crYiaNE0BEkfZsgjQTQCq+VS+CiBVA3N/nWQVJFUAvT6XfYXIXQHkafUI6ahhAsYrV4pl+GUCPAWjH570ZQCHPZXpJyxlA1gnAB4EUG0DW3aD4NuQaQN0TJcOo6RxAo7k1DNGLHUByvEopU7gdQD0SCQL4lh1Ah7kkOuV9HUBIbljNBm8fQCVJ53uR+h1AIEaTO6j/HkDqaycccD4eQEOXjfFAGCBAR/u6JroVH0CyFGniG8wfQMxiVZ0TBx9AqnZrEOvTH0D9gjUx9ywgQJQPtBBaKiBAK1p/gO4bH0BUOl6yq0cgQNb1ZkI+FiBAo+D+MnEaH0A8UMVmtukeQJiIh7/C0x9ARQ8C69gDIEBEaqB1xeMeQKye/PlQrx5AE+IKV4+yH0C06Akj3bIfQPRPIzRbCx5Ah726G8Z1HkAw8+ID9q8dQFp+y/+O0x5ARC7z2RdoHUCNVlTVaoMdQJJtAGAu4RxAG0am1RF3HUDPVvHsKQodQEavTxi7zBtA2Jo3I7j9GkByXqEC6toaQMCYyHvemRtAABP6XoPLGUCtb9ZSBBUZQG0OcTh4fBlAyuIQVqfgGEB53YSzkQQZQA==",
          "dtype": "f8"
         },
         "yaxis": "y"
        },
        {
         "hovertemplate": "Sequenz=163<br>t=%{x}<br>v(t)=%{y}<extra></extra>",
         "legendgroup": "163",
         "line": {
          "color": "#00cc96",
          "dash": "solid"
         },
         "marker": {
          "symbol": "circle"
         },
         "mode": "lines",
         "name": "163",
         "showlegend": true,
         "type": "scattergl",
         "x": {
          "bdata": "AAABAAIAAwAEAAUABgAHAAgACQAKAAsADAANAA4ADwAQABEAEgATABQAFQAWABcAGAAZABoAGwAcAB0AHgAfACAAIQAiACMAJAAlACYAJwAoACkAKgArACwALQAuAC8AMAAxADIAMwA0ADUANgA3ADgAOQA6ADsAPAA9AD4APwBAAEEAQgBDAEQARQBGAEcASABJAEoASwBMAE0ATgBPAFAAUQBSAFMAVABVAFYAVwBYAFkAWgBbAFwAXQBeAF8AYABhAGIAYwBkAGUAZgBnAGgAaQBqAGsAbABtAG4AbwBwAHEAcgBzAHQAdQB2AHcAeAB5AHoAewB8AH0AfgB/AIAAgQCCAIMAhACFAIYAhwCIAIkAigCLAA==",
          "dtype": "i2"
         },
         "xaxis": "x",
         "y": {
          "bdata": "6/L/Qgy/EEBrZlmDOX0UQMntmlayXhVAJp4pGutqF0DYgi9wgvIaQLEn3UtOgxxAsOTOO66MHkCWcYqlocEeQCSPeEEjCCBAdoXv3HipH0CI8JIEbKUgQMiReK9LUiBA4ocbvzkdIUCeCCEBlWIhQJQuLfjWSiFAnIn+eoNRIUBLkrRb8XUhQB80zyFVASJACXW5FDNtIUBgYho/aoohQC5Zla9EzyFAjhAdTG6kIUAfkc44VuYhQP7rqT6AGyFAGQFZYJxgIUC2VaEWY/gfQCyu0qMb6x5AQ/OwnR42HUCuIGfex9cbQB9aXkheuhpA+6uYTye5GUAfrR+Z+zcYQLAsroXGfxdAE/WHk+qkFEAFcS0BLyYTQJjjdID0kBFAD5CP98rID0DQmV9p7S8NQB6UhTCm+wpA0WlYbcL4CEBnI1qO3wkEQChGclNd7wBA3a8rflG/+z/OhDCu8pP4P3W7xXmRzO4/2gwLTWR47D8x3yucJMLxP/Dy/OmXheA/tr+Vm8T27T/sXvM7xjjcP7zWcVYHVOs/bG596bSP7D9V6gKwBEnxP6yC7YEUvu0/47lUhE+T9T/Q/ek8A+L6P13aDJnVUf0/TNxbE5Ht+z/WuG64dmwAQLw9O2CEgwJAnjIrY3CmAUCCEVZvmU0DQOK7MD3aeQRAhPRlOigNBUA3Wx6wUo0EQFufZdKbUgRAU+nPlh63AkBamExU20wFQBaQUSD9+gVAmJ0SC061AkAIe+PZ6XEBQFdbOIaXvgBA4PQxT+Fl/D9ieB9hjgX6P8kMlEOsUvo/RxVBahgt+j/kuWlkHIn2P6FwA/IwQvQ/VX1+7FFK8z/nnnHWBaXwPwT4YTW8avg/FUZidPVC9j9ohSVB1Wb4P+hGqDIOOP0/fqWlf5RC+T8WgoI93YL+P+juFtn3pv4/+1SYcwOe+D8K4ughV2EAQA6Be4w36f0/+lrh8MrZ/D+VeZD8SiD7PwoTD1+0+Pw/MmXd2oP3+z/IbORjtRD8PxgEOIU2NPg/DPHsXuIm9T/jKt+oHovzP6Schy4i6fM/xC3XrljF9D9Vn9Kk+IzuP1Rdvl3HMvE/FJKzWNHj7z9dEBaDpk/vP3pb2CBEte8/YVQQoAkM7T/iMjBAI5TgP+jskS2I1uM/ruKNUVhK8T8W67tUjanyP9wLXGSt5u0/rtAmQUt68j8up8hliNrkP88IUuvWAeg/Wu7LTRzK5T96CJfgGCHvP4Lykw5dk+g/HpGvLvhv7D/kvXadMC/hP/5uYuKAPuY/FnaidsfB6T98s2Q38vbvP1BwgN+6j+I/6rzik7QD5z+63z+yPt7uPwt5hnRTC+E/uHva44wR8T/ZO+Il4F/uP3qESk8wE9s/RJOcA0or6j/lWNddEGDXP+RXopKDreA/3Qf3M0b38T9Laz/I7G/wP17okTgsj+Y/XZGWdluy4j/1ziEF/KnjP9SKqOsNmuQ/Ymjv9/s83T+rwJxCLPjoPw==",
          "dtype": "f8"
         },
         "yaxis": "y"
        },
        {
         "hovertemplate": "Sequenz=164<br>t=%{x}<br>v(t)=%{y}<extra></extra>",
         "legendgroup": "164",
         "line": {
          "color": "#ab63fa",
          "dash": "solid"
         },
         "marker": {
          "symbol": "circle"
         },
         "mode": "lines",
         "name": "164",
         "showlegend": true,
         "type": "scattergl",
         "x": {
          "bdata": "AAABAAIAAwAEAAUABgAHAAgACQAKAAsADAANAA4ADwAQABEAEgATABQAFQAWABcAGAAZABoAGwAcAB0AHgAfACAAIQAiACMAJAAlACYAJwAoACkAKgArACwALQAuAC8AMAAxADIAMwA0ADUANgA3ADgAOQA6ADsAPAA9AD4APwBAAEEAQgBDAEQARQBGAEcASABJAEoASwBMAE0ATgBPAFAAUQBSAFMAVABVAFYAVwBYAFkAWgBbAFwAXQBeAF8AYABhAGIAYwBkAGUAZgBnAGgAaQBqAGsAbABtAG4AbwBwAHEAcgBzAHQAdQB2AHcAeAB5AHoAewB8AH0AfgB/AIAAgQCCAIMAhACFAIYAhwCIAIkAigCLAA==",
          "dtype": "i2"
         },
         "xaxis": "x",
         "y": {
          "bdata": "zXyLpC5SGUCIsC5+BdMcQB1/vBCs+hxAG2WwRYDQHkBOPV3VB2cfQEJkvhe4IB9AMf05DjrcH0Bm0uRuORchQMBqJB/OeyFATiroMRQFIUAo//Z2yHchQOWsnp+20CJAXqDx8Y+LIkCUYnkVluIiQEixudjhOiNAwIIfl3NmI0Die3JwMnIjQDolfPMp9CJAKXU6Yx7bI0BL9FVBopsjQIDGT50CsyNAe79tzxgVJECrFFQ4imsjQGKAr/ISASRAr8xuWcl6I0BL1Wugz7YjQNBBmAf1ZyRA7ETXkf/DI0Cavq9Qbz4kQCpygBHPaCRAqNQncjjSI0AP1vtRLKgkQElHUZMW/SNA8lmB85RIJECHF4bzgeojQI0XJzLo0CNAjgB4AIhKI0Ct0ZiAAHYjQHNLRlKsyyNAalzmFtNjI0CzNo91SX0iQFv5KWZNMSJAZgd+KfsWIkD2ximWAhAiQNEo1A/yzCFAYwc36Su5IEA525iPpGcgQGPV5iuyaR9AgyclBf2yHkBKTFmH4FEfQFD/im2qAB1AP/3c9hhrHkDMLHC3/fAdQOjkhmqIrhxAv+ufuFRdHUB4RaZdYqccQPThLxzbjR5AVSiPGiSKHUDspDOMYw8eQIGKX/Xpfx5A5Dnj3c8sIEC8CiRLhmAgQAD9q8BAoCBAkGzvMuFDIUCDeZXdRqkgQOPwqf8XxyBAHbBWUYiGIUDyAVmGykshQP4+IlJAkiFA4A/EVf7hIUAUBr/6AdkhQObyGvYq/SBAOfQ0FTBRIUBS4sju2IogQLFw9R+XLiFAiuradAQUIUC1IgD2FUUgQFdtdwfOuB9ATO68lAqgH0B6kg/knpQfQCZm/RjTlx5AtsTm2RjfHkCgg1SRyigeQJdcmD/gGx5A7O48cM2MHkAARmQIemIfQNcbTJlWch5ARGLt/IR6H0AHyzw1atAeQLNgOQoFDSBApJeIyvdLH0CXHnV/teUeQOFktt7Pzh9AiWgzxaOyH0C7C+ByDaAeQCNtcWEhKSBAM3qbp68oIECPPJaejGMfQBSm7VqMkh5ApvmZlTxnHkBy1AXEdRcfQEVGKvE1Lx9A0AzTPy+sHUAfztpR/dgdQK9NwiyrdB5Asc12/XehHEBbbFoFLhAdQNawyLDl8BtAiF0MvuU6G0BYfon7WFQbQApWocMpTBxALcau3QLaG0ArM13YrfkaQEJ5atd24RtAd78XdsJJG0AFZJkcezgaQF5BYIMDfRlA34ja2fVcGkBkL/fmbUwZQIo02Q4rdRlA4gd+kODpGEBb7hANM4sZQHcZeiFoFxlAgWWEM/3hGEC2gHy1YhwZQO314cln3RhAIgfofDAKGEDf5Hp5bugWQPhvQjazShdAW84AZfT+F0BWLvHianAWQExku1aCARhAWRWti0avFkAtga1/uC8WQBtMu/pnshZA3jugBWZUF0D5H2d6fBwWQBIaxWNByxZARkCntm/YFkDWR9o3g74VQA==",
          "dtype": "f8"
         },
         "yaxis": "y"
        },
        {
         "hovertemplate": "Sequenz=165<br>t=%{x}<br>v(t)=%{y}<extra></extra>",
         "legendgroup": "165",
         "line": {
          "color": "#FFA15A",
          "dash": "solid"
         },
         "marker": {
          "symbol": "circle"
         },
         "mode": "lines",
         "name": "165",
         "showlegend": true,
         "type": "scattergl",
         "x": {
          "bdata": "AAABAAIAAwAEAAUABgAHAAgACQAKAAsADAANAA4ADwAQABEAEgATABQAFQAWABcAGAAZABoAGwAcAB0AHgAfACAAIQAiACMAJAAlACYAJwAoACkAKgArACwALQAuAC8AMAAxADIAMwA0ADUANgA3ADgAOQA6ADsAPAA9AD4APwBAAEEAQgBDAEQARQBGAEcASABJAEoASwBMAE0ATgBPAFAAUQBSAFMAVABVAFYAVwBYAFkAWgBbAFwAXQBeAF8AYABhAGIAYwBkAGUAZgBnAGgAaQBqAGsAbABtAG4AbwBwAHEAcgBzAHQAdQB2AHcAeAB5AHoAewB8AH0AfgB/AIAAgQCCAIMAhACFAIYAhwCIAIkAigCLAA==",
          "dtype": "i2"
         },
         "xaxis": "x",
         "y": {
          "bdata": "PrLeX3ZbGkBv6ag845cZQIQmnPPYHRpA50+bP57qG0Bwzb4gifAcQKk8xOptdR9AlOWZ4e7FH0AXSSoaj5kgQANR8jMYyiBAl4nV/Sz2H0Bq0tEY4L0gQJXabwxiHCFAJLwfhcipIEDQ4lKIk1whQBoWyHnXhiFAMLThPEe5IUCn4kqpJVohQLFqJEtJcSFAAIkx/+6+IUBEKMNoVoshQCW7kkA0dCFAGBIb07UHIkBMMdkokR0hQMNlV/I6JCFAxR6DElg7IUCUx9pAbEMhQLU0dOaDAiFA6cP6PL6+IEDzU+SIeVAgQO7IVTOjGh9AHuWJe1dDH0C4kWKlKvUcQC3P6MLItx1AV+qqBSEUHUAZrxLaiesZQOzQFCW2yBhAg2iCtgWzFkCw5I/M6ocVQAOpz0nHJRRAdtHPnpQAFEBKTxNn/2cSQEnxOaZwGg9A5igco9c6DUBocc4MzHYLQF+ot4D7ZAVACgM/a0fOAkDWxxo+FQD0PzYAwedZv/E/TQMQmur56z9yoiTtGBvoP3Tue+0xi+w/Sw5Rp86R9j8T5X6tz9j8P9MJd4DWbv8/shDzmb9xAkC26F9qKc0DQOijw85iLwZATHwWHi1BCEDD51w4QaIIQHH1Y9pPrgpA1OYbXdWcDUDkxaV6YRgPQCINpbjyZBFAdW0FcVDWEkDsmEIXrr4UQPMMxRM3chVAHO94OcShFUDjmZtlKOwXQGB160k94BZAbjDDxagcF0BzxAaYLmoXQA7evF3NpxdA2E+GWAzOF0BK9SNTm/AWQLc0J3jB4hZAJI2l6LQrFkC6wRFB7wwVQH0Jfgmw4BRACVAURLekE0AzDm16wrgRQCzySbyDSRBA/vZnKiC8EEAoIpbWmXYQQEmCoEtPARBAEg26Vn3WEUCN8No7AUIUQA5Pr4YtrBRATyXYnJhkF0DIle8ZIR0ZQNG8sih0DhpAIoacwP2BHEDPutoaDeUdQNBHt13jDR5AgtfmnnaZIEAKGeZrL4cgQDmL0w/6ZCFAcQOlmLsXIkCaFMpsxtciQAfTAU3Q6SJAowcYLIceI0AS8L1B+agiQBeqSW3mDCJAf6Vv/8kVIkBK7Ro/G84hQOQzGbyNXiFALfMabzeFIUDittpL0vAhQDPWjYH4diFAFRwjzIIEIUAWaxsRZNogQGzLIM77miBAIIw9bz8oIEDw9+VBMHMgQDxrWGCuOh9A8oOobrfYHkAbCQRMaeEdQPU/VPJN5RxAreOT1BMWHUDkuRhJoNcaQBNXhH/t/RpAISFRXvnkGEAZ2IBDF18YQN6oQ/IVixZAouipejflFkDiz9k/qtQUQDkpFRXhJBNAHNxX+jSoEkBcFyYSlq0QQEPnr9HxBhBAUrEMLGlCDED48byZb9wIQG5JJbxlVQVAlfaA9sjqAEDKPJgFdvEBQHZpPc7IgQBAvHnhi8M0+D9xgBQ/d8j5P05E+TsWOfo/S/HCW2Tj7j+Dx/IZzHj0Pw==",
          "dtype": "f8"
         },
         "yaxis": "y"
        },
        {
         "hovertemplate": "Sequenz=166<br>t=%{x}<br>v(t)=%{y}<extra></extra>",
         "legendgroup": "166",
         "line": {
          "color": "#19d3f3",
          "dash": "solid"
         },
         "marker": {
          "symbol": "circle"
         },
         "mode": "lines",
         "name": "166",
         "showlegend": true,
         "type": "scattergl",
         "x": {
          "bdata": "AAABAAIAAwAEAAUABgAHAAgACQAKAAsADAANAA4ADwAQABEAEgATABQAFQAWABcAGAAZABoAGwAcAB0AHgAfACAAIQAiACMAJAAlACYAJwAoACkAKgArACwALQAuAC8AMAAxADIAMwA0ADUANgA3ADgAOQA6ADsAPAA9AD4APwBAAEEAQgBDAEQARQBGAEcASABJAEoASwBMAE0ATgBPAFAAUQBSAFMAVABVAFYAVwBYAFkAWgBbAFwAXQBeAF8AYABhAGIAYwBkAGUAZgBnAGgAaQBqAGsAbABtAG4AbwBwAHEAcgBzAHQAdQB2AHcAeAB5AHoAewB8AH0AfgB/AIAAgQCCAIMAhACFAIYAhwCIAIkAigCLAA==",
          "dtype": "i2"
         },
         "xaxis": "x",
         "y": {
          "bdata": "R+lTEAwYGUCuL0nmuIAYQHmRKYvKIBhANl7ZvGy1F0DW7D9ThNgYQLKapHOdNRhA2UWhBwd2GEAcvDt4gOIYQNrR0f3FgxdAfN3rr7n/GEDo2tM/oyEZQH5mRvAEQhlA454K0XxhGUCEMRP/Qc0YQIgLB/l9KBpAEARcMbvqGUCKKkrX0K0aQAo5cJAnQxlA7ynLPZg2G0CAXbIwql4bQKO2H/n2zBlAlMOExW/yGkAsZ/ZGTL4aQLPhYZ9raxpA8pEfJ6pWGkDUnGPDKnUaQDzZtPWfhBpAQWYsM5oHG0CpOoQ0wf4ZQAzAQDwzZxpAIVgAjeAMGkDznRPZN9kZQB0uyDL1rRlAj1cefmKVGUByQcfA8zQZQOA025S/ZBdAaIHiRZ58F0BmdwjWMskVQM60H1htvBZAPB43G2Y4FUBHT+g3cRcVQK2fkWLpzhNA+c931BPkEUCY/oOgqGYRQCeX9GI6PRBA8kyFi0XpDUCSxW+mzG4OQBYm7JgM8Q1ArRN5Njp6CkCDDFo7qekIQCp+zMHudQlAc3Bk2TlKCEDoo+W8sD0KQED+o6oOAA9AlPWlkJrPDEDzSiSdUrUOQEQUtks0dw9AfKfYoxDnD0Cf8qHYrxQRQO+0hExC8xJAeqPFlf0pE0BIrrJfqL0VQOFfUNivzBVAfUotj6nLFUCPPeiJtmYYQLJ1HkiEBRhAwR5RCeTZGUDiwBZtxmMYQNxWcnsx4xhAGIshJS+cGUCIXrUPXAcZQH1n2FVCixpA6TKTaAtCGUCK6NbjM68XQGC7FDCsyhhAQ8OB8m50GEApuw21msEXQJIv7mzifRdAkbIUJZ+SFkBfftJEyF0XQGVp4s/dRRZAwCsYhwmFFUCJBbOUO9IVQNRKTwKh8RVAzcOV9Vk4FkBWcmXzIM4WQHztYJedxBdA2oPcIW1uGEC5JrF1+zQZQDURsAj3ABtABhGNRy3hG0AuJy/m9sIcQP79g5azBxxAPIQaRCM2HUDV7RyFadIeQMN+80lwiB9ATeum90i8IEDDtjEMHVggQBs0vhPrhCBA0Y+LglC9IUAhmWTAa3chQHUmxnkjTyFAdowQprgEIkC3H6TZEgAiQFA0SKXEGiJAvHy43KmkIkBfRlvXcgciQIw6B+BEZCJA8wjH8BZnIkBIFaoKxnEiQP8Kyz1gSCJAg6nuV2ghIkCoz67Gq1shQCruKFeJVSFAaD8gGLLDIEDJ8Se6PXkgQJfFtybF2h9AA6izPV/hH0COqIHzzXcfQN8xfKZFCx5A8hCkV9V6HUCMkzDOUUAeQPwCUDo5eR1AkjQl+4GUG0DRofV7bKsaQEe4sbpzURlAamSOyXZtGECq6sNE714WQGkL9omyUBVAATuvu4GQFEBUREHGYPoRQEE5l6ye7hBAhVw4cyp+EEBg9CxoG1cLQFT5rlWvgwlAnZYyHGF2CED3C21vXUsFQOMM9c8R8QBA/nTeVKPL8z/jA0HvzwnxPw==",
          "dtype": "f8"
         },
         "yaxis": "y"
        },
        {
         "hovertemplate": "Sequenz=167<br>t=%{x}<br>v(t)=%{y}<extra></extra>",
         "legendgroup": "167",
         "line": {
          "color": "#FF6692",
          "dash": "solid"
         },
         "marker": {
          "symbol": "circle"
         },
         "mode": "lines",
         "name": "167",
         "showlegend": true,
         "type": "scattergl",
         "x": {
          "bdata": "AAABAAIAAwAEAAUABgAHAAgACQAKAAsADAANAA4ADwAQABEAEgATABQAFQAWABcAGAAZABoAGwAcAB0AHgAfACAAIQAiACMAJAAlACYAJwAoACkAKgArACwALQAuAC8AMAAxADIAMwA0ADUANgA3ADgAOQA6ADsAPAA9AD4APwBAAEEAQgBDAEQARQBGAEcASABJAEoASwBMAE0ATgBPAFAAUQBSAFMAVABVAFYAVwBYAFkAWgBbAFwAXQBeAF8AYABhAGIAYwBkAGUAZgBnAGgAaQBqAGsAbABtAG4AbwBwAHEAcgBzAHQAdQB2AHcAeAB5AHoAewB8AH0AfgB/AIAAgQCCAIMAhACFAIYAhwCIAIkAigCLAA==",
          "dtype": "i2"
         },
         "xaxis": "x",
         "y": {
          "bdata": "4SoZxE+fE0A7qJp1NxUXQCRGnfyETxZARa7q9YpVGECuoT31xPwYQKHeZO7qJhpANJJO2EEtHEBJdNQAUZodQN8QS58dPh9AuDYJysvaHkBOB7b13MsfQHoASpNKRyBAl/8hSERYIUB6dDOB+xQhQLG0sPjcliFAnTJOh+K7IUBalrNknF8iQHjlk8o+8iFAVh2JhJnWIUBS6WQYgpMiQEGJOq1SUyJAosRJe6ljIkBXRS1koHYiQM+P8tIYaCJA0JR4BODTIkCqykinVikiQCyTVdQ4vCJAu0viPGVIIkA58SBzIRYiQKF2lK477iFABryrVQ61IUCD2M6/njwhQCOoH9/OFCFAYtHaKh3+IEAAaD7iRrAeQIhlLfd9Fh1ATHi1Ehw+G0A5aRwzmeoZQJ7WisaQOxdAADMZNw3/E0Cmo0BoZdkSQFOrzk5z1w9AtDSrle4yDEA6lTi0ERUGQBoG4ApgeQFAQhStYHPDAECOYtDtNjD+P3Axp+Dztvs/bIJmsyW48T/S0saMIdjhP48N210AK90/oVFgDilh7T+3FH1bBSv7P9RYI0LxLPY/BNOXQjE59j//uxvKOVwCQDxNOrF79AZAjDiXEEfpBEBCaOh0PlwFQJ4wBHFtAghAnK1NeYxzCUA9DlkuyNENQF+Zrg0EcQ9A8L93igxLEUDdmvGkA+YSQJ830fdB3RJANLB9JrMKE0BKNEB5M/QTQAD3hWjVeBNAatT3M0SGFEAtDdtiuBQTQN6+xIzqJxRAf/juWv/mE0CpFg83sIoRQLdVC000nhBAPYT+3K8LD0AWkH7oRMQMQCr3naSAjwpAnlhSI/GIC0D8ItYIDywJQJ8eMWwMOwhAA3TXUkE+CUCSX2XcMvUGQPNdCMgdQQpAv/SLzumPCUDPJ0WwoAINQJwgiJlxUAtAlp5R1B3wD0DC2XxVl+UQQPNPz0ScyBFAVBYl+akFEUBPSZ/eUB4UQFAKEeep4xNATMoQBK2FFUDj0nSS2KAUQLfP3kfHLBdAkJBPiklcF0AUGS2++wwXQM21pYysaxhAS2ZV0ir5GEDKnmJAFi4aQJRO4qlgYRlASp1nsVW8GUD7zGEhN4EaQENh9hlIshtACfGSvVH1GkDSHMQqrFgcQKTmU/JN2RtAYpQZ/MU/G0DQj0eRpMEaQLADBEMrIxpASrlgL7slG0A5LOmKvGobQIsgZQQRsRpArUEpcE5bGkDEo9+VGBIZQChp/x2IxhdA99vJJXESGEDiHIy+GLsWQJlIxxISsxZAmftar7iYFEDA3ju5TMsUQKmCBydEqBNAKkaLn0FHE0AImeLmZ3sRQAWSxnqWdxBA4JPYgRTqDUDiSLPCt6ULQBGiS9luFApAX02Jm1nuCEAI+1407HQFQMinC9UxIQRADabYCr39AEBOxZiXah/6P+xUkLlJ9Pg/iXCzo6NA9z9NJLogiZ/xPx3EycZlJ/I/Tg1NJlfS6z/eB7ybYx7lPw==",
          "dtype": "f8"
         },
         "yaxis": "y"
        },
        {
         "hovertemplate": "Sequenz=168<br>t=%{x}<br>v(t)=%{y}<extra></extra>",
         "legendgroup": "168",
         "line": {
          "color": "#B6E880",
          "dash": "solid"
         },
         "marker": {
          "symbol": "circle"
         },
         "mode": "lines",
         "name": "168",
         "showlegend": true,
         "type": "scattergl",
         "x": {
          "bdata": "AAABAAIAAwAEAAUABgAHAAgACQAKAAsADAANAA4ADwAQABEAEgATABQAFQAWABcAGAAZABoAGwAcAB0AHgAfACAAIQAiACMAJAAlACYAJwAoACkAKgArACwALQAuAC8AMAAxADIAMwA0ADUANgA3ADgAOQA6ADsAPAA9AD4APwBAAEEAQgBDAEQARQBGAEcASABJAEoASwBMAE0ATgBPAFAAUQBSAFMAVABVAFYAVwBYAFkAWgBbAFwAXQBeAF8AYABhAGIAYwBkAGUAZgBnAGgAaQBqAGsAbABtAG4AbwBwAHEAcgBzAHQAdQB2AHcAeAB5AHoAewB8AH0AfgB/AIAAgQCCAIMAhACFAIYAhwCIAIkAigCLAA==",
          "dtype": "i2"
         },
         "xaxis": "x",
         "y": {
          "bdata": "LVbW/EYBJkC0+7cB/dEjQJseMgUG1CRASsfrNY11JUD/o7Ic/nkmQIRLWnz4eSZAVHeVf9IJJ0AZtJNXLgUnQG2F8gCvyCZAb+oaTXLMJkBYMq0fAggnQFv21IFaNyZADtFGT8hjJkB1VjdARl0mQO96/0ZoPCZANTz1W7dvJkC6qskTiQImQCeCT2zrgSVAswiZ0x1SJUCvzpCKVsQkQIRwzZbxbiNA9A+NBbrvIkABq0gln8YiQDAuNKhaTiJAvRMzQuz/IUAWJvE6VKkgQC49ng83sSBAokEMGaG/H0DAmYr+n2MfQHd2LiPQQxxAk0/WZibGG0BgbjpFWCgbQAMEmUaAXBpAM/1tO62rGECQOrwxSsYVQBFs7vp7MBVA4ErqNuxiE0DUocV2QUwQQGUWAEY6rA9AkYybVUX/CEBJ/ei5MxwFQEyHKuHV7ANAImd88qU8/T8Quj7S5Lv4Pwg5ifHu7e8/KJ+9YK8n9D+W446jJPvzP148Z+pePeQ/ozdtpETS8j/UPNAtgnPzP0w99h2uOPc/jgupVR1O+D+YJHwCLmzyP7u1Zku/7fU/LauTqblm9T8aYCYZBDn5P1VlwZCfXPo/WT4sR8bs/D9TyETJXwgBQCnhbLZklANAk3EJNAYTA0Bk9CVF89kEQAiAtOnaqQRAn2Frz6GSBUBQCW+W29sIQKEucS1lKAhAUjGHw3MPB0CWZ/7p91sFQGX6dlHM4wZAeJFFGLj4A0Dnl3CGCtwDQITYWl0UAANAXT+UbJOYAECiaThTKlr8P5mZv5Ws5v0/JKslPcGe+D/x8zF9LMr3P+puTqv2RfA/Y8e+HIdF9D/9izCWqI/uP6yVXaCLz/c/Xuuhmyjr+z90fSh9w6f3P7JCIj+ytPs/gICzInc6+T+rkKlurQr7Pw+bggLLMvg/+OJvuDMJ/T+WEANONyUAQPhYYfzcEgFAWKxTlrku/z/l/R+ZmEcAQMpfNg4WNAJA5eUs1CxNAEDqdjGbThUBQCOB3S/VsgBAiI45SAxl/D9TYuF1pKn9PyeNtiDmXvw/BzhnP+ip9z8EhGRguVf1PxjZGhGFi/I/lmDc1d0W9z9caxhBfHPyP/Rog4kpEu8/8y7BWiux7z+i6RpMaIHwP7kFD0R5Auc/aMFFxWjT6T+/6rTcomznP+0nSh038eE/CrLa+NMO7z8m29gW1gfyPxtGCvOLd+8/rPniFKKT7T9ey1rdcRnwP5wva/qeCfw/yPslH4QA/D95vDHJKlwAQMbZTkLwtwBAS4xiroVWBEBzbGjHSmQDQGP5r2VXJwZASRThc7N5BUBCRk9P0TsGQAy6MnRergdA20HiP8A+BEClcoP/W4UEQD7awLVaRgNAJ7j4RQKeA0CXL6hdREgBQDfPyaphXv4/AsxboOdA/j+xGkKkUQT3Py1NnW4Bo/M/v+tGrQLn8z/2cdF96G7wP2Yw1NVORPE/YnsfAymd7j9S7CzTD5PyPw==",
          "dtype": "f8"
         },
         "yaxis": "y"
        },
        {
         "hovertemplate": "Sequenz=169<br>t=%{x}<br>v(t)=%{y}<extra></extra>",
         "legendgroup": "169",
         "line": {
          "color": "#FF97FF",
          "dash": "solid"
         },
         "marker": {
          "symbol": "circle"
         },
         "mode": "lines",
         "name": "169",
         "showlegend": true,
         "type": "scattergl",
         "x": {
          "bdata": "AAABAAIAAwAEAAUABgAHAAgACQAKAAsADAANAA4ADwAQABEAEgATABQAFQAWABcAGAAZABoAGwAcAB0AHgAfACAAIQAiACMAJAAlACYAJwAoACkAKgArACwALQAuAC8AMAAxADIAMwA0ADUANgA3ADgAOQA6ADsAPAA9AD4APwBAAEEAQgBDAEQARQBGAEcASABJAEoASwBMAE0ATgBPAFAAUQBSAFMAVABVAFYAVwBYAFkAWgBbAFwAXQBeAF8AYABhAGIAYwBkAGUAZgBnAGgAaQBqAGsAbABtAG4AbwBwAHEAcgBzAHQAdQB2AHcAeAB5AHoAewB8AH0AfgB/AIAAgQCCAIMAhACFAIYAhwCIAIkAigCLAA==",
          "dtype": "i2"
         },
         "xaxis": "x",
         "y": {
          "bdata": "RlV9vE0qIkCmtl6er0whQM8JmTk/kSBAXOjLjpJJIUBAWmS15vwgQP6oWbDiXiBArhzvilCnIED3O7PVzI0gQFLrFiX5zCBAIJi/I9FnIEC+ufqgUs0gQMwlmfhVwiBALTmZrxJnIEBrg6R9vj0gQH3gwkObDSFAuCRsXOO4IEAGGdtdkNQgQAnAnjt2xh9AIr4FzVSrH0CYXOMQR8gfQL7eWVALpx5AJ3nCpsFXH0C1rRH1oWkfQBy1B3Q54h5ApsV//Q6RHkCL00npLrkeQOR3bD5Qgh1ASpZiWuNPHUBemAKwQV0cQILWHo773BpAqSjE7qKCGkBxJBaEB1AZQJbhhTI70BhAYP2t4PE7GED8SnlQc5oXQHx1jEPyBBdADWO0XCDEFkBuaVqw7MMVQMFAwYuOrxRAszRt+su5EkBnwyS9fWUSQB+ZhxRNKBFA5jw/O9/fEUCDl7AzVbIQQC7XWSVd9A5AjUIBnfftD0A196yf2lUQQM2KgP62lAxAUtW0O3afDEDvZtutP5gLQAxnYmnmOApAR4gZEq3fCEDPt64ud8EIQGp+8gIxdAtATmY1FdE6DkCRbhP5+jIMQGhGY3NHew5AyKq+98hKEECpGOXD6lYNQKXm3KOTnhBAktu9EdcPD0DzcZxpKIAPQITxC1i0URFA2PBwokPpEUDbw/lbcNkRQP0wU8NAcxBAQxdIM1DaEEDtgwyxpuEQQCP6MtgnwhBAWGgYsyMhEECrhWS3F/IPQIKHjYnSgg5AzoXK9E1ODkCl9gnEdCEPQCuK8rw76QxAehOwMTNoDUD+QdVd8jsKQCifCBYdXgpAsPQvNclqDUBH8xwKd30LQLLBDMpWyQxAOJZL6anyDUDLfGChhbQOQAo9wGxspQ1A753FjiYQEEByWT8b3NcOQE/OrNY3HRFAa1qpIsOgEED9WRZ+9SESQFKpMFkjfRJAHoxGzLxrE0C/OmcGaK4TQP2VTP5ozRRA6NaYPvrYFkC+RAzJSEMXQJc72wv7KBhANyA9nTJvGED4tAecuYQXQGFPr2RviBlA8y03ph7zGEDjukmnqiAaQFuHHPLp3RlAEOQvqdKIGUDBqw3RoDEbQMQSipHIIRpAKBBrImwTG0C6jC4QKwEbQD8trnx3VhtAc9U6JRECG0CGPw0QtHUaQNrMH6ZheRlAkglFQTjDGUDZ3T3Lr4YYQLBpbmyDkxhAzg9J2FurFkC2H4oNcS8XQEb4az712xVA1lyJvuKzFEBhu6PpC+8UQKkynY/IlRRA6Eh0NDHQE0DRmJ2piBsSQAwzDXzwNxJA6Np+ZlXUEEDX3jiBhhsSQG3MQ+W2jhFAqfDA185mDkDgYlpMv7oPQAiRTEC6xwxAGR7Mz8mJDECX4Y+LS/wMQBh/QNCgDQlAvMmdIfgtCUBRhju9MkUHQKJ4EIzA6ghAxscabfTwBUAMNSnQ2boFQBLFi4Jk4QRAEfzy39djAUAUkGZitX8BQA==",
          "dtype": "f8"
         },
         "yaxis": "y"
        },
        {
         "hovertemplate": "Sequenz=170<br>t=%{x}<br>v(t)=%{y}<extra></extra>",
         "legendgroup": "170",
         "line": {
          "color": "#FECB52",
          "dash": "solid"
         },
         "marker": {
          "symbol": "circle"
         },
         "mode": "lines",
         "name": "170",
         "showlegend": true,
         "type": "scattergl",
         "x": {
          "bdata": "AAABAAIAAwAEAAUABgAHAAgACQAKAAsADAANAA4ADwAQABEAEgATABQAFQAWABcAGAAZABoAGwAcAB0AHgAfACAAIQAiACMAJAAlACYAJwAoACkAKgArACwALQAuAC8AMAAxADIAMwA0ADUANgA3ADgAOQA6ADsAPAA9AD4APwBAAEEAQgBDAEQARQBGAEcASABJAEoASwBMAE0ATgBPAFAAUQBSAFMAVABVAFYAVwBYAFkAWgBbAFwAXQBeAF8AYABhAGIAYwBkAGUAZgBnAGgAaQBqAGsAbABtAG4AbwBwAHEAcgBzAHQAdQB2AHcAeAB5AHoAewB8AH0AfgB/AIAAgQCCAIMAhACFAIYAhwCIAIkAigCLAA==",
          "dtype": "i2"
         },
         "xaxis": "x",
         "y": {
          "bdata": "fuMPl1U9IUCAM9GzmZcgQGz8HKxcBCBANffI64RfIED2QEp52ZEgQK9FWm120SBAVJQE0PWFIUCDsw5YgswhQBQxX+gQzCFAxU3NR7MpIkAbw7CphpAiQCQjpiVVeCJAnC6wPdD/IkB+UGKMFN4iQFdat8svmCNAKO5+Ldr/IkBibfdQkRIjQKoSk/UsiCNAx9eDjWO3I0Cz4bc/P68jQOkfz19J3CJAJZRM5gMrI0Ateu/xSwkjQOpdt+KetCJAXAsObTHaIUC4MsRMXfMhQLqlNEuv/iFAL9aJfz2jIUBtijW0CiEhQPUWf68YviFAsi2JL0NeIUApQXp/AQ0hQN7zCCIPEiBAy27LyZb1H0C5LjnY+LUfQPyeapgQKh9AYhR39IN2HkA85dJx0d0cQMZx2ne4pBxAAA+YydXFGkAkiYrDkwQbQG6C8XvzHxlA+c0gnULcGEDzcnvpqFgYQOaM7QYp0xVAaOrt6stqFkCZ7nUBKrcVQGlyYG2E+BRAIpRO4MrAE0DxGD9ozeATQO8AOrpTeRFAsRho4cFxEkD/lvgCoaQRQD19Ue7BgBFAPicyVipcEUC8zQWQbDgTQEybREOK2xNAG2L/MdvgE0DlQo13ejsVQJpXH1YgaRVAq5IO0KJlFkBrubgZcOcWQCteXcQTTxlAA/Re9KZWGUCdOSLvbbkaQE7/j9+XURpApUIH6VKFHECuGnZcd/AbQOZlE/zz9RpApJ7wuqXsG0Bl6f0kfxocQJon+HibCRtA1/9yYt5FG0D/UUuQ73obQCScuhxnbBlA6Rpr6LJfGkASAlspLfsYQA1UtP0xBBlAjloG+FeZF0A1Ekqegn8XQMxG+ZtvEBdAnZufQ39jF0AkrWocJEMYQLuncj5R6BZANKjLOo1nGEAw6A9uNW8YQBPphpUOwBhAvhpzWB9AGEAy/rMbhjIYQIMO1JCikxhA6GEYXs0HGkAoK5K4CJYZQC+L1MnbuBpA7SfJwlM1GUA5GP9vGCcaQHSl8QGu/RpAg1xGCRp6G0D0KUXt0xwbQBpPwQFx8BtAo5o7kjE1G0C3EBbAv7UaQIgERuyCbhpAQOrIvBLPGUCfzX066F8aQP61Pq1+qBlAjf8qYfcuGkAmouUwv20aQFMJkTb0aRlAP58UYq5iGEC0jZ2wnVMYQAPG7L72ORhAltgLwxrEGEBVyMcArJ4XQLOZI6yhWBhAU5xgqExHGECn8f3BWrMXQJAQsNN4gRhA7+1AK7KbF0AujXl4FJwYQKQA/uvU6RZAQvO77oPnFkDauEg/jBgYQHE+hZvu7xZA3u9ikP5CFkBcqGakF8wWQGGuDkSquhdAnEdOqDrRF0BTUrTx32oWQAnJyKN8LxdAIAcbB4ORFkB+z3gqrqQXQDVvCJIqahVAENELdk/wFUDaBr00Fr4WQAms6HhQdxVA08T08fBKFkBXujtNm9kVQP9uZqP80RRAsmviQUgyFEBosQsLlG4SQA==",
          "dtype": "f8"
         },
         "yaxis": "y"
        },
        {
         "hovertemplate": "Sequenz=171<br>t=%{x}<br>v(t)=%{y}<extra></extra>",
         "legendgroup": "171",
         "line": {
          "color": "#636efa",
          "dash": "solid"
         },
         "marker": {
          "symbol": "circle"
         },
         "mode": "lines",
         "name": "171",
         "showlegend": true,
         "type": "scattergl",
         "x": {
          "bdata": "AAABAAIAAwAEAAUABgAHAAgACQAKAAsADAANAA4ADwAQABEAEgATABQAFQAWABcAGAAZABoAGwAcAB0AHgAfACAAIQAiACMAJAAlACYAJwAoACkAKgArACwALQAuAC8AMAAxADIAMwA0ADUANgA3ADgAOQA6ADsAPAA9AD4APwBAAEEAQgBDAEQARQBGAEcASABJAEoASwBMAE0ATgBPAFAAUQBSAFMAVABVAFYAVwBYAFkAWgBbAFwAXQBeAF8AYABhAGIAYwBkAGUAZgBnAGgAaQBqAGsAbABtAG4AbwBwAHEAcgBzAHQAdQB2AHcAeAB5AHoAewB8AH0AfgB/AIAAgQCCAIMAhACFAIYAhwCIAIkAigCLAA==",
          "dtype": "i2"
         },
         "xaxis": "x",
         "y": {
          "bdata": "HKh632kAIkCgPNYad7ciQFo/juDrnSJAWePboq2pIkCCXHrSpkkiQIWLbAx1EiJAaOAsFaZeIkB+jN7idbwiQOoH2awJfiJAGPWAaz0AIkAfLcPC4o8iQOIMFlv32iJALgVIZ+CjIkAYj0pFbTUiQPS5GC9lRiJAYIFZwCfBIkChN/8nIckiQN3qfRElmCJATiLe6mVPIkCZwe5dBPghQFqc2or9lSJAxVU94a8sIkA7m+Yucw8iQG5su+pPISJAymDgTM2AIkCODaWgTcgiQFu7ESmNWCJAZKtWpepwIkCRH6V3RbQiQOXUmcGCJCJA4wHZJgMXIkCZuxudAjIiQOnwQs5YgCFA8YmF1el6IUAT69hD+44hQE0v4tedySBA/7BxxbK3IUBkqnm1blYhQF4B31/0gSBA0NrgjYZuIECsC0z5l5UfQJ3bRbZCWR5A9EdcCrT+HEDpZuYf3TIdQM+fV/HQmxtAkjQp+MRgG0AFhoLK3mEZQDI6CVAuiBlARlLA/UruGECM4/6aohYXQE+coESVZxdAamO13ZJQFkDyrnLbo8QXQI/5rWeUIhZAx9Ahe9tJFUDbaavEot8VQNzMoXEHJRdAb+KhTONJF0Bgv/C7SBUYQEH8R02jHRpAiTCZjc10GkAe8IvW3ScbQAUwBYtykhtAQeA0PbgdHUAgYpUCuw8dQOym05jFyB1ARB3AIRkfH0CYY9cum3keQKRgQgNBxR5ARuTMEs9vHkCZTu4XxsAfQP6uByvQox5AMFuNkGl4HUDhoTqdekYcQEgKCmLjKh1AjbtL0bJZHUA5HkPycsUcQKxrovP7LBxAFpeu0AiyGkBg6N3ZpbUaQHbvIrnXqhpAz5UXYH2MGUAaqPHV28YZQCjcsNuyGRpAyCO7iJOYG0CWIgnfF24bQETJDIPAQxxAbrwcFk9HG0CsFFSH/p0dQO5WlzeNeB1ApM/H0oNNH0BgLur9WiQeQDuNtYdBCyBAxPSRhRz3H0Cdys7hfU8gQEQsWAfThiFAxyLNMIkGIkCe7QbHaJchQL0r0541myJAPyD3F2kBI0ADGoWAwGEiQMTmxQIcBCNAQu373PqaI0CZ9azEbLgjQK7mqw9heiNAZtBTXsCMI0AuVdo22lokQBysnRlFoiRAscX2kORPJEBo4G+VoAkkQEmi8wfGcyRAZUDDrZFNJEAb0gPPYbsjQKbZIjUe3CNAn5seccO8I0ClY4ldY34jQNmUh23UESRA7z9E+9PwI0ClXKYN7PEiQEHhP/j0yCJAA0tsZNSgIkA/EPaWvAsjQMeMQwe4pyJAmaTTWMVkIkBDWfhOhysiQAqqytosdSFA6Pp4QdbTIEAmxz/5j2ogQMyVdAbYix9A0Ky5WNPRHUBH+lkhGeQcQIolwX/aDRxARFWEFjf3GUAcZTtcG3gYQGnSopsFmhZAEJ/WaGAuFEABkCeV77IRQC4Iar9pywxA6SDU8IdmB0A2ORHcqd4DQA==",
          "dtype": "f8"
         },
         "yaxis": "y"
        },
        {
         "hovertemplate": "Sequenz=172<br>t=%{x}<br>v(t)=%{y}<extra></extra>",
         "legendgroup": "172",
         "line": {
          "color": "#EF553B",
          "dash": "solid"
         },
         "marker": {
          "symbol": "circle"
         },
         "mode": "lines",
         "name": "172",
         "showlegend": true,
         "type": "scattergl",
         "x": {
          "bdata": "AAABAAIAAwAEAAUABgAHAAgACQAKAAsADAANAA4ADwAQABEAEgATABQAFQAWABcAGAAZABoAGwAcAB0AHgAfACAAIQAiACMAJAAlACYAJwAoACkAKgArACwALQAuAC8AMAAxADIAMwA0ADUANgA3ADgAOQA6ADsAPAA9AD4APwBAAEEAQgBDAEQARQBGAEcASABJAEoASwBMAE0ATgBPAFAAUQBSAFMAVABVAFYAVwBYAFkAWgBbAFwAXQBeAF8AYABhAGIAYwBkAGUAZgBnAGgAaQBqAGsAbABtAG4AbwBwAHEAcgBzAHQAdQB2AHcAeAB5AHoAewB8AH0AfgB/AIAAgQCCAIMAhACFAIYAhwCIAIkAigCLAA==",
          "dtype": "i2"
         },
         "xaxis": "x",
         "y": {
          "bdata": "euDpB1rgIkAih1YJeFghQLKJP+6tEiJA6Sdx8y4sIkCt8n6aRKQiQGO26K01+CJAROQEsAHMI0BCObnPnMckQBsvJ039aSVApFczNkNOJUBD1ilnUfklQCAwUxHJJCZAhPXdx8IWJkB+94FGs0kmQJtjARtTDCdAl+mZJC52J0CVPmXFx28nQKlOpql8uydAeOM3Eym7J0BygARq4+MnQB84er247ydANb2KGro4KEBpOXLWQs8oQHNMfGUuoChAXV8KlXcnKEDi5oSWt0AoQO5vUUwd8ShAuatFaRQxKUAEY5wfwFUoQP0/r+cb1ihAEBLUXDw/KEAA6tlLQ6QnQB8iYhE7/SdASFlTh0gcKEBLsvOL9zsoQFhYtrBXzidA4xWKT11oJ0AV4W1e84QmQFdm4hVCuiZAds+mRCbzJUAryBjOj4glQFeqm2z0VSVAztW1rvO8JEDg3RO92ZYkQBKdO2RetCNAFRfsElNlIkB6ochyuOkhQOPmj3GsLCFAkpre6MTGIECWksJaRFwgQJfDXXeW+R5AHkTaIUfdHUCfLn2ZWSMdQBVDA61plRpA6AvMH503GUBqHbJ8atQYQBJXAWr3/xhAqLbW+QJVGEDfG1v+mSMYQJ7qcG6ucBhAmJ4ZHM+oGECY/tfN19oZQBmPqs2bJRpAH473fzqwGUC8/GYfw8sZQGqzb52zRBlAgfCtjhrhGkAJmi1eE3QbQKOD/k94Eh1AvHbVrCixHEA9fi2qet4bQDUMu1C4Jh1AL6z0ziB3HEBdwBMBY5scQEmkxolh5BpAVBY4IcxSGkCPrAkYxQoaQDoZpN4EQBlABwAgYYBkGEBn1ZOErOsXQMq1VIZ1NRdA6ETNJATvFkDIlQd50VoVQFW2Dbk0sxRAmwkNbOFoFUBcSEbnhvYUQO8huwOH5BVAu9l6jwkVFUAsgoZaZI4WQLsN/WOfehVAM+MXaiWNFkC+yQND+okXQEEhT/iftBhAbSYStfwaGkBzDsmG7PEbQBodq+HjMxxAtSW5D9khHkAnCQzjXR8dQNPVCQeGvB1AN3ysDeEfIEDEcAajtrkgQPoM1Y13cSBATzxf/F3qIECEgsOhfQ8hQCGnoocq4CBATidSjMN8IUBniCkxz1YhQHzdknNyJyJAta9jOWphIUCPeSBe8H8hQAdhGdEl/iFAwGAxT8vUIUDEk7rg8WshQFzdQ6IaASFASOwvoZzMIEDlFdw8o4QhQOOeXfKoSyBA8/6//ioeIEBqCc2Ms3MfQP1TwfiZsR5A1wvKDaFSHkCUfisDbdocQOi61PUGPxxA+IgjmV1BG0CNqv2lUikbQB84Bur6yhhAQZTFqZmqGUBrvrCrKaEXQKE6noHrnBVATdIlM4afFUC0W5HXUOASQG0uvtoDThFAC0IrMd0XEEAYkzLOmvsNQBK9ZpSlDgtAXg4IuOLpB0Ar8ZIc0ncEQK0mM4+j1w1APy+55BKeEEDEMl4dMZQSQA==",
          "dtype": "f8"
         },
         "yaxis": "y"
        },
        {
         "hovertemplate": "Sequenz=173<br>t=%{x}<br>v(t)=%{y}<extra></extra>",
         "legendgroup": "173",
         "line": {
          "color": "#00cc96",
          "dash": "solid"
         },
         "marker": {
          "symbol": "circle"
         },
         "mode": "lines",
         "name": "173",
         "showlegend": true,
         "type": "scattergl",
         "x": {
          "bdata": "AAABAAIAAwAEAAUABgAHAAgACQAKAAsADAANAA4ADwAQABEAEgATABQAFQAWABcAGAAZABoAGwAcAB0AHgAfACAAIQAiACMAJAAlACYAJwAoACkAKgArACwALQAuAC8AMAAxADIAMwA0ADUANgA3ADgAOQA6ADsAPAA9AD4APwBAAEEAQgBDAEQARQBGAEcASABJAEoASwBMAE0ATgBPAFAAUQBSAFMAVABVAFYAVwBYAFkAWgBbAFwAXQBeAF8AYABhAGIAYwBkAGUAZgBnAGgAaQBqAGsAbABtAG4AbwBwAHEAcgBzAHQAdQB2AHcAeAB5AHoAewB8AH0AfgB/AIAAgQCCAIMAhACFAIYAhwCIAIkAigCLAA==",
          "dtype": "i2"
         },
         "xaxis": "x",
         "y": {
          "bdata": "uWcuxUkUJEAF/yj8+vAjQAhSnjdG5CNAcw2I8304I0DTIB7maTYjQIPDK+eh2SNAcTnJTQcGJEAEiGTigJokQHnWIi6MxiRA0faSAhtoJEAOGpmpXyIlQNdSTa+EXyRAExyn+zw5JUBy7dy79f8kQCxGB9BCPSVAPg1GoXnBJEBRj2kqvXQlQEwcG34TaCVA9JaftCIbJUAHQUIm3Q0lQJEV8kB7zSRAqzmHGfhnJECa5PeRRNgkQK1IhYUROCRAXXQYQq+4JED8VJcgd8kkQPwZTaiBSiRAiWO/AjXVI0BfS7LkaIkjQCQAJQ5DOiJAKqfcgRUgIkCo9A27LYEhQLzfkI2sKCFAZgDJi1HhIEApFCLBfQ4gQH159Q4ucx5AMvpfY1ayHUDXonpja98bQHpn44TqJBpA9gda3/HWF0B9uf9dKV8VQDzz4NRxvxRAJeJ+Sv1kEkCMTmL9dxESQDN2ZDESDxBAST1P0XTjDUDzlX/ktJALQOUPcgIzdgpA3VpOm0YeC0ByL5Cig/AJQC7m+a8VOwlAw5Ks7MpPCEBhiuyh5KcLQKmOG82TxA1A+tQD7fL0D0D3YSEvjMkOQEoziHLSOhFA41j4Ei7JEkAPKGn7kzMSQOE3RTpqohNAYqnbxfnOFEB7v6MUZLcVQI1IVTeuhRZAICGLuXw9GEDmifGnNbgYQBbB5BAU6xlAFrJb7rgFHEAfFylGdY8bQLV1g8mXVhxAGL1VAJQmHECWj/QovMgcQDDdnhDdTB1AFtneq4rRHEBETEhLzmocQB4daOh9CxtA9F6zDNIDG0CpmrRr83EaQFghO8jBVhpA4Hl6tm0nG0DC683ZjYUZQDlmjE3d9hpAp5rewKHrGkAq/BqeoqoZQDhf3f2UahlABJxkmEuZGUDIctwIbQYaQIgJOdagFhpAm23KdogBG0DHLfpaqScbQN10p+gIVBxAdCuNEEgKHkB+sr6FSHUcQO9pM8hJER1AxHX/SMkaHkD6JGQ3SYIdQKsr2hsBmR1AeAAwFktbH0BSIO7kj6seQAZ+wh7uxx1AhfSHk70kHkBqguI0shceQKFrC18GYh5AdRbrg8X3HUAvXz+07nwdQKZuEHIVYR5Ake4vkuZFHUDrwxsRYXYdQIG4o9mcVxxA57+PBw4IG0DnV1rQFzEaQLx7LVlNIRpAEltaIYDMGEBrHhgXWmUYQN6wjdDU3xdAhRoLrsARFkCSqPk2Sg8UQONJ7AjboxNAhBBXtMexEUCYrB+mUVMSQEo8jyonFRBA4WejjdljD0BqxzzZIvgKQPHW/OHdbQtA67J7GJceB0CRqaDpB1QHQI51ZHjdigNAEiAcjl01AUBWOpoKswgBQNKyP6ATMQFAiLScgnmk/D/UmUoH2a75P8nV2dA69fY/JwxHrx+99T/MgzcLfG7xPyDhWgQ32vA/NH/3xmU17D/Kij5PROThP3pcy4r73ug/ZkjX26rq7z8xiDsP3CXhPw==",
          "dtype": "f8"
         },
         "yaxis": "y"
        },
        {
         "hovertemplate": "Sequenz=174<br>t=%{x}<br>v(t)=%{y}<extra></extra>",
         "legendgroup": "174",
         "line": {
          "color": "#ab63fa",
          "dash": "solid"
         },
         "marker": {
          "symbol": "circle"
         },
         "mode": "lines",
         "name": "174",
         "showlegend": true,
         "type": "scattergl",
         "x": {
          "bdata": "AAABAAIAAwAEAAUABgAHAAgACQAKAAsADAANAA4ADwAQABEAEgATABQAFQAWABcAGAAZABoAGwAcAB0AHgAfACAAIQAiACMAJAAlACYAJwAoACkAKgArACwALQAuAC8AMAAxADIAMwA0ADUANgA3ADgAOQA6ADsAPAA9AD4APwBAAEEAQgBDAEQARQBGAEcASABJAEoASwBMAE0ATgBPAFAAUQBSAFMAVABVAFYAVwBYAFkAWgBbAFwAXQBeAF8AYABhAGIAYwBkAGUAZgBnAGgAaQBqAGsAbABtAG4AbwBwAHEAcgBzAHQAdQB2AHcAeAB5AHoAewB8AH0AfgB/AIAAgQCCAIMAhACFAIYAhwCIAIkAigCLAA==",
          "dtype": "i2"
         },
         "xaxis": "x",
         "y": {
          "bdata": "J11DuddxF0DYP9kW5KcZQOjxDBITNhpAt/ZEnredGkAJnkO/qDccQAyIhtpo3htAXRrjrt7uHEAzg1uf5SwdQIJiOHrlgh5AkKKejWg6HkAHDnP0LVsfQEpPSJjzbh9AJYh4wOXLH0BSOR2zQl4gQFUlyHUfxiBAMDUxhbp6IEDhyTuPREUgQHSqelrPQSBAJYAcK8RoIEDho/VkDJYgQNH5R/QfsyBAFJ8q23yLH0BhVTT+Pb8eQAIRT4ZVVh9AB8+t12WCHECKO4V3WeUcQIIpdp3cgx1A/ZCrP+slHEAxb0u4yPAaQCEvYLxk1xpAWuWVyISyGECMTOGj0c4XQHuOubqLChdAEb5o0OrcFEAliskaxmsTQIb02g/E2BNAKY9/UvyJEUBA1cr9DUUQQNSRM217lQ5A1PU0SM67DECagH5feEYGQKoR1FXA4QFA2V+Td+LXAEAoDrNsOeD8PzdXL0zgOf0/05N+7Wxu9T9A9RtyrWH2P7YiPpMiHfQ/1TfjcagW9T8KZu5UVZXgP5bM37mpmOM/rAjy7gqo8T8uTwkqt8j0P4A7BfdY6vY/7f0MXipw9j+QNmfX58T2Pxazv3lbbQFAa0noThgiAEAuXYmC6hsFQA3ID7ZMNglAOGo0F9NyB0B5pjsVHN4KQPdPIZNWVA1AqN5vnbezDECoXBcARVIOQJLz2VSx4hBA4/ZrONBZEUA7PSu22UkQQMhiyiwyNBJA4+TjCaXVEEC22dhlassQQIFhI3roWRFA9HvntkUkEEBBnmb5zckQQAvHH1lbhAxAMkzIm20HDUAoZel15jcJQAefY6xIdQZApJY3lrobCUDssDVfNzcJQIXLxC5kqwhAKGO4dg2TBUBs9O4wk9YHQG6eblz+uApA3NHXtIOKDECryOeEOz8NQKC0cg7P7QpA5oBykU16DUBdMNP8Z7cNQDBVPIdGBxFAjnRJBY1sEUA0x1sVHdUTQB3084HHExNAxLpivN7+E0BAoptV5QwWQJgxTdDUEBZAr6BdLC8VFkACp+ha/PwWQMwziKw+HRdAa3wDAwkiGUDI/wAhYlQaQMRWEi7eJBlA9jVeVxxWGkBipJEn5CMbQDZLdkPBUhxA0sTuJG4jHEBl4Z+qRQkcQG8vUAaFZR1A+2xjk8PYHUAoYUuR9M8dQAGdHveF8R1AbpkOW6bXHkDwQ9gdYKseQILz7msumR1Adlb/seMiHkBdREWjFSEdQFjxqQezhx1A4bqQaqNAHkAFF7t6sJ4eQJk4P2RUCh1AtGDIeb+PHUD7zR2nHVscQPElct2b0RpAQVzj219hGkBbStFyVcMYQN7a2IucJRlAiccC6lc7GEB90/7n6vcWQL1clz35NBZAfRRFs3vME0A+uiWQ9pYSQGU8m/Y3+RFAfkVWu4RHD0AYjg6MpAENQLG2fLu7sghAm9f3sl4sBkBIa8bsDWkDQKUUIBrjhQJAunqC5b/K/D+lxSuVLAvzPw==",
          "dtype": "f8"
         },
         "yaxis": "y"
        },
        {
         "hovertemplate": "Sequenz=175<br>t=%{x}<br>v(t)=%{y}<extra></extra>",
         "legendgroup": "175",
         "line": {
          "color": "#FFA15A",
          "dash": "solid"
         },
         "marker": {
          "symbol": "circle"
         },
         "mode": "lines",
         "name": "175",
         "showlegend": true,
         "type": "scattergl",
         "x": {
          "bdata": "AAABAAIAAwAEAAUABgAHAAgACQAKAAsADAANAA4ADwAQABEAEgATABQAFQAWABcAGAAZABoAGwAcAB0AHgAfACAAIQAiACMAJAAlACYAJwAoACkAKgArACwALQAuAC8AMAAxADIAMwA0ADUANgA3ADgAOQA6ADsAPAA9AD4APwBAAEEAQgBDAEQARQBGAEcASABJAEoASwBMAE0ATgBPAFAAUQBSAFMAVABVAFYAVwBYAFkAWgBbAFwAXQBeAF8AYABhAGIAYwBkAGUAZgBnAGgAaQBqAGsAbABtAG4AbwBwAHEAcgBzAHQAdQB2AHcAeAB5AHoAewB8AH0AfgB/AIAAgQCCAIMAhACFAIYAhwCIAIkAigCLAA==",
          "dtype": "i2"
         },
         "xaxis": "x",
         "y": {
          "bdata": "n7TVWHfQJUB7SsBlA/0kQLViQYrcnCRA60bVhWnmJUBCj0niWjgmQN0NnS2mVCdAmyrO46bSJ0Amw0vccqonQFvdR127lShAa+qr3oPHKEAzAFD532wpQCO7qZwu3ilABxR6+dXlKUAWN9RkNgUqQAOUCENf8CpA3R5ovIzvKkD2kAFDk5QqQMUh8t2cAStA8brIYighK0B/2S+T4cQqQN9yvOzY1ypAfP3jc1EMKkDsSZsAWHkqQH5y3bmNDSpAHbSsg9L6KUBmYVkcbu8pQA/A2xGQNylALTrU0w2CKUDL1RiE2zopQAOh/44VTSlAx5StE6UQKEA09T1V8RIoQENtZ8PYcChAHNLHtM/8J0DSzk6/PXknQE5f9ENNRydAyCAsYK5+JkBxUOX2VzYmQD3SJ8IHcSVAhJGNmn26JUA/3k/7oNQkQE4OhQtBvCNAi5E5KXS3I0BOMyNGw2QjQPcsRy3G8CJA6oLTNp4nIkD/7jT2tTwiQDfwS0hY4yFAgh/UkstAIUAwPVmUQgYgQFAuaLztHSBAti7UNvBIIEBN+kLUhqkeQP5ylsPOeB5AX7ENA7uKHUA+c+1+1bUeQFFf6tU3SB5AnX/pA4UkHkDqhy6wl5MfQBpbm2syIyBAtZqPXBPRH0CAXWg+NDwgQFPr182Q2CBAKZCl34TXIEDaeaA1TfYgQAvcSeDcHCFAwWqoqpNoIUAmg/MRwyohQBzOp6p/DiFAH/9adfGAIUCiHdpkxvwgQDLfDCXMUCBA+GgfLU24IEA56gd2JFUfQK5sHw54Yx9Add3p8JcpH0BuEbeb+WgdQAgyTRFe4RxAtmrkwFMsG0DTXcM523waQLNcMTAL+hlAQ0k3cKelGUAjr4c+bXwYQDUMqrbOPRlAR4sujcNJGEDWWhDL1YwWQNiqs29OIxZAGFj/qG4uF0DUWd2tHDkVQEOGfbrYGRVAUhhDlXbWFEAgVWxJrHMUQPi/qjvgSRRAQy0NafP9EkDeTp8xw2sTQFCHySKU4xNAwaQoZ/JpE0AusSIA7yITQFuAtOlmMxFAO0sUX+YHEkCLIEVsukwRQBUj+ePX8RBAJ74OBsSSDkArzFRpjXQPQEvCLazIMwxAFRjrJ3STC0BwkrrrdxAIQEg477zQGwdAkLHjtN/zBEB2HpacoswEQCA+JZZVgQJAgrV/X08i/z/LxYsOvtP+PxwbdGdLWf4/W3syV7Qh/T+f3eQTx6PzP2ylGHzhxPY/oiEvWbH18z8+5pCkqzL1Pyz3ahHjz/I/pTN8Wmpa7D/zk2eG+FLwP4kzDlLbr+4/TQQrRy5Y7D9ESJA8zrHoP8nqM1Y84eY/rsfuXycp4j9mRgCDlwbnPwrNEkJPBOs/GIQFCWev6T+rmlp8/bbfPyT+KiDqUeI/7VoIuqyp6D8gG7KHFlLuP+p2Apz5KeA/2i0t5foz6z8fuHvAaKfTP7K5dh1Fc/A/yLdUGiFG8z8AEz6Q88cAQA==",
          "dtype": "f8"
         },
         "yaxis": "y"
        },
        {
         "hovertemplate": "Sequenz=176<br>t=%{x}<br>v(t)=%{y}<extra></extra>",
         "legendgroup": "176",
         "line": {
          "color": "#19d3f3",
          "dash": "solid"
         },
         "marker": {
          "symbol": "circle"
         },
         "mode": "lines",
         "name": "176",
         "showlegend": true,
         "type": "scattergl",
         "x": {
          "bdata": "AAABAAIAAwAEAAUABgAHAAgACQAKAAsADAANAA4ADwAQABEAEgATABQAFQAWABcAGAAZABoAGwAcAB0AHgAfACAAIQAiACMAJAAlACYAJwAoACkAKgArACwALQAuAC8AMAAxADIAMwA0ADUANgA3ADgAOQA6ADsAPAA9AD4APwBAAEEAQgBDAEQARQBGAEcASABJAEoASwBMAE0ATgBPAFAAUQBSAFMAVABVAFYAVwBYAFkAWgBbAFwAXQBeAF8AYABhAGIAYwBkAGUAZgBnAGgAaQBqAGsAbABtAG4AbwBwAHEAcgBzAHQAdQB2AHcAeAB5AHoAewB8AH0AfgB/AIAAgQCCAIMAhACFAIYAhwCIAIkAigCLAA==",
          "dtype": "i2"
         },
         "xaxis": "x",
         "y": {
          "bdata": "c5UZQDc0IEDz3+J9VwsgQOFMlH5yKCBAwIeHfKTfH0Ci/5eNvsMfQAJpgpveIR9AiQamlvwdIEBuxCCrG3ofQFB3wwC2CiBAxxiMEs+FHkDjpYM3dZYeQNMUkRY4dR5AOowp/ov1HkDeqGnbi/YeQL/o+MdRlR5A3W2EqY04H0AY+s7HHdwfQIzAiXna9B5Aa0YH3BerHkCJcr+sV9UfQDsspryIPh9A7lXiwnDAHkDInHzxyjEgQO1zX5HULCBAa2fHBXuxHkCdBD1rkjUfQK0QnormOB5A5RMucl0pHkAMXyt+KQ0eQHTLpQzP7x5ANqZcgynTHUC3xbBhwXsdQINRhIfKfx1AuQtuL+VtHUD+C8GA9J8bQM8AK2/KpxtAoaFqabd2HEAYbjIF8qUaQCvVjJiyDBpAzrBr5SQtG0AaNXjN/XIZQOlcp/086hdAtfahyFsxF0Dn3i+pT5kWQHDOIL3KFxZAWhC+OJFJFEC96q1KBAsTQLGl7qpIwBJAQQXuivOfE0Bw5vky+vgTQJoKfoFIThNAPpeAvkObFEABddChJJcTQF6cODXuphJAHiWOVlKlE0DYov0iO5gTQJguZWnuzBRAe4iiIwzRFEC8V69OJ58VQFWDI/A7sBZAcW/PYEr3FkAqL85OJOEXQOr6Sbc+VBpAsvxjLjtNG0DukDEOmzAbQFyT16KqZhtA4bL6mcrKG0CT6Ggy+XAcQOSLn/JccR1AvvpLUNhYHEAz4+AWnFEcQCd370zlPR1AWeD3n/gvHECNZnMndZgcQJK0cG0VEBxAuhNbh0VmG0BVQsPr6pYaQAaKmmaYqRlAxRL9XilQGUC0PQjoXh0ZQFyvzm99lRlALry0lxO0GUAZqUlBfT4ZQDX0pDxDTBpAQCWRAxvjGUBmMH0q5/UaQMVQ2AzCcxpA94M3Id8XHEBPQaX1P4AcQPJEE9x9ih1ArL76DT2lHUAKusgHUP4fQHM146EybCBAo1Ipmfd6IEAxOF4VHfAgQBkxBWv4uCFA+aK+O1TAIkCu7E9CkSEjQAfyuDI6wCNAiS9QiX0+I0C196Bta7wjQPVAlxPblyRAwHgniXlZJUAHyeRw0hMlQG/q+9d3AiZAOKgQa55AJkCGzWdr3FcmQNqEI+7UNCZA6rVmfknEJkAlESy/74YmQPKTywt9uyZA7xjxK97NJkDbKnldt2MmQMoy3ikDLSZAmVs/lnYPJkA29n/i4aMmQM2hYxFwxiVAK+ZjYP3YJUDt+APZTVcmQH2oMcdE0CVA3XzFtt1EJUAIMF4WpGclQM432JkUqiVABTZA8WJQJUCTaAaNzNEkQBMUPXLYjyRAr0KOJLcqJEDO/StXO+UjQGmrAhBnsyJAKEZ/b0YoIkDn2AEFrJYhQAKHvMYZBSFAtPUvmeX9H0B09YAwZOweQNRE8ns1DBtAHPSz44rlGEB4aqMxzpsXQIOSLuoXBhRAWZqa4LoqEUBO0xQVz00PQA==",
          "dtype": "f8"
         },
         "yaxis": "y"
        },
        {
         "hovertemplate": "Sequenz=177<br>t=%{x}<br>v(t)=%{y}<extra></extra>",
         "legendgroup": "177",
         "line": {
          "color": "#FF6692",
          "dash": "solid"
         },
         "marker": {
          "symbol": "circle"
         },
         "mode": "lines",
         "name": "177",
         "showlegend": true,
         "type": "scattergl",
         "x": {
          "bdata": "AAABAAIAAwAEAAUABgAHAAgACQAKAAsADAANAA4ADwAQABEAEgATABQAFQAWABcAGAAZABoAGwAcAB0AHgAfACAAIQAiACMAJAAlACYAJwAoACkAKgArACwALQAuAC8AMAAxADIAMwA0ADUANgA3ADgAOQA6ADsAPAA9AD4APwBAAEEAQgBDAEQARQBGAEcASABJAEoASwBMAE0ATgBPAFAAUQBSAFMAVABVAFYAVwBYAFkAWgBbAFwAXQBeAF8AYABhAGIAYwBkAGUAZgBnAGgAaQBqAGsAbABtAG4AbwBwAHEAcgBzAHQAdQB2AHcAeAB5AHoAewB8AH0AfgB/AIAAgQCCAIMAhACFAIYAhwCIAIkAigCLAA==",
          "dtype": "i2"
         },
         "xaxis": "x",
         "y": {
          "bdata": "/D4mXfCWI0AdrXhPfaMiQBqmvl8GvyJANeWXiX8AI0BV7NUGFJgjQHLpZ1GESSRA6pzlLU4KJUAbypz/9/IkQNHb44cysiVA685HujebJUCOuDC5/hUmQF1sWn7n3iVAj7qdQD2KJUAlycyGWu8lQEdznDaxDSVADm4Vjo8RJUC6Idx6HLYkQJgnJX9kGiVAJ7eFBfIhJEB2QuzlPTgkQG7/QMJ/fSNAP+4sKmx1I0BAXf4MjgMiQK85Rh6r0SFA+xjlnGeXIUAy2IotmZogQE1lZ+EJQB9ABVyvlNH4HkCvOkNCJ18dQDc36SOnnRxAmZQ1ftgCG0Ai7iiXK4oZQNJbaiwYOxhA5KAMHnvlF0AiD1LGd0MVQEPpsIXR4xNA1UQpfvCGEkCaEPJjVzUQQIciyLwQjRBAhgzM+rGwDkAj7lflDMcPQKiV3f/XhQ1AVoPHb4l6DkDHipLh5KYOQLboDgKiixFA78Dx380MEkCI9WpA/2ITQI01VgBbtBJAMTLuTvgtFEBPFkytsG8TQCf2GPJs4BRAf01mPUaMFUCr5MRS/awUQBQi9NAeDBVA4/BlX98kFkAQUI0AIh0VQPrhxjxgaxRAar0ullLCFECgcTFDDEETQFtMQgAWHBFAIZig/AmnEEBpPqViMmAPQNzfRefvTg9AYGc0xghCDEDMVymYhzcMQITGvXVneQ5ANIfwkx9qDUDXHZNOYvAOQKhd9IwAAQ5A/sIb39OqDUCoLslPoMoMQJ7t/4MrBQ1AvfIGV2WXDUDAmIEiu+UKQAVx/o1paAtAf+XnR6QNBkC3s4SARgUFQOi4UpkdSQJABP2M41yuAkD2rlow6DL/P8/hBxoxNgNA6fewkQhy/z88IlsKO7YAQLw8qwtFV/8/kJ7vbBIkAkAuXMu9JJwDQLwAnKHJJgVAR9SCWe+bBkD0vtWbP08JQKRDajU0CApAu6wLYHejDEAnEzK+dxUNQEKNZ8uO5Q5A6CpyTtvHDEBDXtxM3okPQFp/rOu9hRBAzbMdHNSHEEByZW/Ac44OQA8T82pxrxBAZ0Uh4n3KDkDGocH7H1oOQM+lNdRGbg5AaLj0JBrlDEDf6kU8xIgJQAKEfk8JugpAekUDwWmqCUCnpQWWwXQEQCdG14IlMgRAHzFK4iLdA0AOgt9URxoBQIcbe7WUbf4/aseLc5c0+T8Ksva43Ob6P+7iGOlB4PY/MJBSoeZS9D/kcC38ghf0P6kIT0XM3/U/T0b15jj77D/1e2fEsezzP8jXehaKs/E/m0AZlJpA8T9Q/HFPnpHnP1uK6eTnm/I/kC6OC1JZ6D+UXxedkWXnPyjV57rvI+w/sG6Hr7Nb4j/voWN4nYLvP76/Fj2Omu4/OyqHXsGT3D/k3QHlYvLfP6/MjEzcwtg/O4qp78BS6z+33YMH4WDwPyjt5v3Y3us/kNjqldlX8T+uAcPTu6bWP4+3uSdyudc/cp4WDq0gzz+8geSywpnQPw==",
          "dtype": "f8"
         },
         "yaxis": "y"
        },
        {
         "hovertemplate": "Sequenz=178<br>t=%{x}<br>v(t)=%{y}<extra></extra>",
         "legendgroup": "178",
         "line": {
          "color": "#B6E880",
          "dash": "solid"
         },
         "marker": {
          "symbol": "circle"
         },
         "mode": "lines",
         "name": "178",
         "showlegend": true,
         "type": "scattergl",
         "x": {
          "bdata": "AAABAAIAAwAEAAUABgAHAAgACQAKAAsADAANAA4ADwAQABEAEgATABQAFQAWABcAGAAZABoAGwAcAB0AHgAfACAAIQAiACMAJAAlACYAJwAoACkAKgArACwALQAuAC8AMAAxADIAMwA0ADUANgA3ADgAOQA6ADsAPAA9AD4APwBAAEEAQgBDAEQARQBGAEcASABJAEoASwBMAE0ATgBPAFAAUQBSAFMAVABVAFYAVwBYAFkAWgBbAFwAXQBeAF8AYABhAGIAYwBkAGUAZgBnAGgAaQBqAGsAbABtAG4AbwBwAHEAcgBzAHQAdQB2AHcAeAB5AHoAewB8AH0AfgB/AIAAgQCCAIMAhACFAIYAhwCIAIkAigCLAA==",
          "dtype": "i2"
         },
         "xaxis": "x",
         "y": {
          "bdata": "7k9DjMxyHUCYoKullNIcQHl7Glm8fBtARmvO4LFTG0BgqUJEQG8cQExqWSZTdBxA+hIMgtweHEBERxrntWMcQHrSetxl5hpAFKoVZ3hFG0DrppGUmkgaQMLuMFidiRpAU6k9seRDGkAUHJgUmoMZQG2TEQwJBhlAZqAtHVYeGUB6rX38uEUYQHyHFvJ9tRhAtfbKKpMuGEBOLMafxs8YQEVAneJo3xhAhHu7nQoZF0BJHludZY0WQPJjMD4dOxdAEjFi2o4pF0DIHC05RmMVQMqeePNWORVA8cOsF5egFUAmxKWlfb0TQHxTnVHNYRRAPvw2KvaUEkAQGi7OOeEQQG5iHKKfgxBA4srmJDZFEEDAz5yaQCIQQKqbvE1vbwxAjdFHhHbqC0CIjc0DtgoJQCjlTc23TQhArbweIbkHB0DuhKtznr0DQHjHQwzdAwFAG7sy7RYv/j945+3FZLvwP39UEBHXWvI/FM+CLAaL8z+0ivhwE1fzP79ZW9Z16e8/BTuq4Ulu7T/mNrpQWl7gP4FzYL/iC/k/qzcH2e0X+T8GM0/PHmkBQM3Z1a675/4/UxZtvpFRAkDOqjkWBCQHQLwPvyCliQdA9tW1H9iRCUAY/oX8jMAMQDuszvpiHg1AehVl0G1JEUBvz58ZzU0RQAk8Tzmz3RJAmIDgUF/OE0AMZHEsF10WQP7bycFCrRZAA8RKD9boFkCzAZQKTJkYQBUvC+ViGRhAluGjyTiEGUA0KW/5UaMXQBRAvsrvLBdA2zgDXQgWF0AmiTHnVg0XQC/N63mIeBZA2nbNbi9sF0BGtr/37y0XQKgaqffzfRVApJSb40WZFkBBTW3Qj14VQAI3ZyKZ+hVAdRnwiLk+FkDqTW/KbQUWQCB/wSI/GRdA/yVp+URFF0AimNbFB7cXQGl9QHXYjRdAmti/SX90GUB/tgfc8nAaQPH0ShMt8xlAAETErl1wGUBWq8dOWtsbQOOt0kCx7BpAB85ROQWAHEDiJWl0bKAbQAmZ1AJZcx1AUv9HM8H+HUChm4WG2ZEeQMSNpLIVzB5AlILQ2L8vH0Dx91tmaD4eQAAH2Dgk+R1ALI4LtGTIHUDk+mP2EzEeQJXxpGjL7x1AL1e9t2GBHUAyruUEsEUdQK9O4V7t1R1AxMBPlaCUHECOKLHuUpsdQCIPyc2CTxxAIMKYD/1ZG0AtFxNTaZ0aQHCbr4rg2BpA3nbId3CXGkBItABkgToZQPoGsMtW9BhAPkldwUcMGUDZG5rXvXEYQNPdsu7ucBZAyKcKt582F0B/G06gNrwWQL464ydhVRVAj9Vo7KBFFUAxBnC4baUUQLAi91RnsRJA9EwVof86E0C9G1/pb94RQKK+b/RGtBFA3HcOTWIqEEB/eyn6FYYQQDipiIQ5qgtAdPk6qzMiDUCTbvI8D8IIQFW/CsGtKgdAap90gfGkBkDEGTf5OkIGQEb4YWFlywNAE290UCGwAECvQFn/1dv9Pw==",
          "dtype": "f8"
         },
         "yaxis": "y"
        },
        {
         "hovertemplate": "Sequenz=179<br>t=%{x}<br>v(t)=%{y}<extra></extra>",
         "legendgroup": "179",
         "line": {
          "color": "#FF97FF",
          "dash": "solid"
         },
         "marker": {
          "symbol": "circle"
         },
         "mode": "lines",
         "name": "179",
         "showlegend": true,
         "type": "scattergl",
         "x": {
          "bdata": "AAABAAIAAwAEAAUABgAHAAgACQAKAAsADAANAA4ADwAQABEAEgATABQAFQAWABcAGAAZABoAGwAcAB0AHgAfACAAIQAiACMAJAAlACYAJwAoACkAKgArACwALQAuAC8AMAAxADIAMwA0ADUANgA3ADgAOQA6ADsAPAA9AD4APwBAAEEAQgBDAEQARQBGAEcASABJAEoASwBMAE0ATgBPAFAAUQBSAFMAVABVAFYAVwBYAFkAWgBbAFwAXQBeAF8AYABhAGIAYwBkAGUAZgBnAGgAaQBqAGsAbABtAG4AbwBwAHEAcgBzAHQAdQB2AHcAeAB5AHoAewB8AH0AfgB/AIAAgQCCAIMAhACFAIYAhwCIAIkAigCLAA==",
          "dtype": "i2"
         },
         "xaxis": "x",
         "y": {
          "bdata": "39v5/L/FGECKC8omYeAYQO8ii8t+zhlA2WoHYiriGUCX04R/VBEaQLRWB5310htAw/F9bbx0G0DDCKprniMcQCAyPZe5qhtAE05e+4n9G0AKR4NpQREeQCHmi4eM1B1ApO53j1vtHUBV7geYI0IdQN0shvFE7hxARvpld05ZHEA0ytUt0HwcQNLTMwOMgx1A/tRLeQPXHEAyHesMWHocQHQ8zT705htAMdlcnjI/GkC26fZ/uaEaQGvtP9BEuhhAyAV2F3WEGUDJ4YYPCm8YQIA3iD0rARlAJGvBovZcF0Dn/sAee+UXQBlnWLOBphZA3HMGJI7QFkCwmkKVQxEUQBS0Wu9CkhRAYE4GUVKkE0CR18kGRG0SQJek69mwbxBAtGw9vz7cEECFXUoy7dcMQLnmX+cTMgxA/LyGEPuACUBsXTEEb0kGQItURQyrzgVAZxTgQD/2+z8QkGqvZnT+PzyGpc2UBPg/w1p4OkOF7T/tT15BYJvyP9zAtlg+lvY/IQUdwMUsAEBHuE4YKvABQJojRs8mtgRAL13OOkKeCEByVXariKALQLU7Yx9uQQ1Ao8nnX4NlEUAnFbvdcpQSQCgSSKe6XhRAxjwYMAFzFkDuMP1u9KsWQIXmA5RPtRhA78d/1P9eGkARYjrq10QcQKczFzsnqB1AEm5y528DH0D2oUiMuz0gQAniX8RLTCBAN1POln3IIEC+fS/SSrkhQMN03/WcyyFAq26ne/lPIUCQsL1WvychQMMLj8WTiSBAuZ2tvHiCIEBBkWFzEdkeQNDTwxYEOR9Ab9G9yVLsHEBWz7ngYAscQLzrqbGsMhtAzfYjLRqRGEBFYQ81Kc4YQNExBUJFUxdAQouSMu63FkDL8Uc61ikUQMqoXOvzRBRAs0xEO2RxFEAm09IVqjAUQPTHZlvFvBVA596yMaArFkC2xqxz+JMWQKod+eC7ARZARIM2fNe1FkBj2rURc1MXQNvFh3V5nxhAw7Q6edH5GEDgPAY2PqUbQBFiC6X+vRtATSw97jycHEAXSELPgj8dQGwdMVEChR5Ann+Aae0SIEDy4CnDwa0fQBSgLJBJdB9A6BCyrmxqIEBTGi893PAgQKCtJkBRXSFAcu+T4+AdIUBgfQwEBOogQFsxsg0DACFACjW5ZondIECk6k1ZMfIgQDNwdL6JzyBABs9bMFsIIUA1AGEwuCAhQGAicp303iBA72q5wxFjIEB20HcdKsEgQICmoffAjB9Ab+lu/Nq2H0DSr+chYJseQP9HfaN1ix5AcjAOdC38HUAgMvDByf4bQBF/523axxxAdj4rNPwHG0BgUwWr0wEZQCp3BZn0LBlAtmL4Gdn5FkBVZxKL+BQWQH3aejoMhxRAB5mxtYeIE0CGG4nHOY8TQJkPO5u4hRFA9U631TVmEEBbJd0bijIPQC2mPQCPuApAf2IbqMVNCEC6TUSqZh8FQJbS4CP2PwNAAnNXA6Fb/j+6cZZO9qf9Pw==",
          "dtype": "f8"
         },
         "yaxis": "y"
        },
        {
         "hovertemplate": "Sequenz=180<br>t=%{x}<br>v(t)=%{y}<extra></extra>",
         "legendgroup": "180",
         "line": {
          "color": "#FECB52",
          "dash": "solid"
         },
         "marker": {
          "symbol": "circle"
         },
         "mode": "lines",
         "name": "180",
         "showlegend": true,
         "type": "scattergl",
         "x": {
          "bdata": "AAABAAIAAwAEAAUABgAHAAgACQAKAAsADAANAA4ADwAQABEAEgATABQAFQAWABcAGAAZABoAGwAcAB0AHgAfACAAIQAiACMAJAAlACYAJwAoACkAKgArACwALQAuAC8AMAAxADIAMwA0ADUANgA3ADgAOQA6ADsAPAA9AD4APwBAAEEAQgBDAEQARQBGAEcASABJAEoASwBMAE0ATgBPAFAAUQBSAFMAVABVAFYAVwBYAFkAWgBbAFwAXQBeAF8AYABhAGIAYwBkAGUAZgBnAGgAaQBqAGsAbABtAG4AbwBwAHEAcgBzAHQAdQB2AHcAeAB5AHoAewB8AH0AfgB/AIAAgQCCAIMAhACFAIYAhwCIAIkAigCLAA==",
          "dtype": "i2"
         },
         "xaxis": "x",
         "y": {
          "bdata": "D3JGt60AEkD3O7tjdagTQPjhzoFzqhNANzjpes3ZFEDwy7yDJ3kWQInmznWEARdA2hu9talKF0Aiv78z4BEXQLUxj9zOkBdAP03fgKVYGED+XhxCR8kYQDttDhPRYBlACe1ygA/dF0CmVe1iPV8YQCwebICPTxhAQ1IABr1CFkDxoIIUq0kXQG81QjGoHRVAMCE9vknsFUBGOQ8mN8AUQEB9v7/gNBRAmicySu1dEkAXeUBKLuoSQEf11yzElxBAeBiDcCiBD0BeHWqQyJEMQDPdWDbetgxAZiGReQv5DEC+eW71Y14KQPSZD70mhwdAVCmhS77LBUBeMI2vl8gEQFY6kHJ1JQVAaZT8tW/7AkBtr6ua8moCQBffLLjOsf0/8yCp1xw6/D9EwL4JS5/6P+vv1eoi3vQ/j8PHp3/E+T8uEY2J5YnqP9UlcHHJTe4/x5WHlNrO7D9Jwji/Byj0P7Tj5zkfZ/Q/Hn/dkYt/4T+fkmGsOWXvP4A78v7UwOs/Ca5Vm1YE2D80/i7rjrzYPzL2Vtq2guU/FmxVpkxm7D/wi7htXgfUP0QmbWZXKvQ/kkSAdlYo6j/TPHdXOj/1PwyiPBim8Oo/yMBozzsQ7T/OWrZN+R33P1A8rbGV6/k/c+w+IfYN/j8hcs+x+N37P3+1dgaXSQFAg3jqUfZ9AEAN2XAGwtsAQP64I2nfYgJAA4+IVL1WA0Cgalmb6HwEQLK21d1HOAVAh3ybCxZzBUBHl7wAeHgFQPaW+sus8QVAVE0XUeaBB0BdqWvpc4YJQGinNtazgApANtDm7OtdCUB1KJAOyDgKQOqfJCLYDQ9AYZYz5GNWDEDYgDWGUhoQQNT+EEGYiA5A13hZuMGTD0Ap6Ab4+mIQQFnysXCBYRFAv0Y4Y9oiE0CyIw+n2V0UQEilCfCwmRNAulHKXsReFEACmdjxSkYWQKA2shp0OBdAabT0kZa9F0Bi3JUycGYYQMPN0vdiLxhAXVRbzzjvGECD4VuSCDEZQHe3NB4bexpAJ5LL+7diG0CGnu0GwgsbQGqVcWc2rBtA9e5b5/P7G0Dd6RrXIXwaQHf8JAlxlRpAirTQ4ouDGkDF9qm01R4aQAHV4pIlDhlA8u8FyC2fGECHsrJ1t5EYQEW3ZsBV3hhA9wpmaXZPF0BAgkdQProXQJCOKD0aWxZAlS/sNspcFkCddI8kt6sVQLAPoLDmVxRA7r4O/NjfE0BS+DjXf2gUQERPwumUGhNA3vAJY8WzE0CS3UKbU+8TQNpheJnnRBNArnt52kamEkAunWyXgYYQQAHaFCXyUxBAiD61ZF2gD0AI6AdSLjwPQIUHOI2Dhw9AgPe+H2OxDEBp79e9ZcYMQH2bbXRBxAtA21xMwnneCUAAfKMHVewGQAS5ssi/4wRAKd340mUeBUC+5eLeb7gCQKHr9Tpywvo/3uxW3ZWX9z/ApFWKLdjxP3mZ2xEfXPI/JA6RJ9Ib7T/yzArN3SjwPw==",
          "dtype": "f8"
         },
         "yaxis": "y"
        },
        {
         "hovertemplate": "Sequenz=181<br>t=%{x}<br>v(t)=%{y}<extra></extra>",
         "legendgroup": "181",
         "line": {
          "color": "#636efa",
          "dash": "solid"
         },
         "marker": {
          "symbol": "circle"
         },
         "mode": "lines",
         "name": "181",
         "showlegend": true,
         "type": "scattergl",
         "x": {
          "bdata": "AAABAAIAAwAEAAUABgAHAAgACQAKAAsADAANAA4ADwAQABEAEgATABQAFQAWABcAGAAZABoAGwAcAB0AHgAfACAAIQAiACMAJAAlACYAJwAoACkAKgArACwALQAuAC8AMAAxADIAMwA0ADUANgA3ADgAOQA6ADsAPAA9AD4APwBAAEEAQgBDAEQARQBGAEcASABJAEoASwBMAE0ATgBPAFAAUQBSAFMAVABVAFYAVwBYAFkAWgBbAFwAXQBeAF8AYABhAGIAYwBkAGUAZgBnAGgAaQBqAGsAbABtAG4AbwBwAHEAcgBzAHQAdQB2AHcAeAB5AHoAewB8AH0AfgB/AIAAgQCCAIMAhACFAIYAhwCIAIkAigCLAA==",
          "dtype": "i2"
         },
         "xaxis": "x",
         "y": {
          "bdata": "hPtkhhv+GUBSuV56UT4aQAFhGyqkLRtA/4agxzaNGkDrd18/988cQEoljyWEYhxAvlDkxmk3HED1CsPv2yMcQF0WJ6yklxxAgVZtLPfiHECXex6rK5YcQKvd7t3RKx1AGIJ/RuIUHUBD34a4OZMbQLgaWg3tYBtAQE9sCxb/G0CRVwMuhaobQKflkCgDGBtAo+gausHzG0AdUnPIbq0aQLpqpzQHsBtAXS9ge0UJGkCtC+NK4ekZQO89QPpfxxpAgwOnC26KGkDUBVoBTK8aQH6AUCbAIxlA+mT5oSx3GUAGrMyiknoYQIfh2Q7MeBhADMS1R/QvFkAAksPlWYQWQIekqYdRtBRAnZG+rj/rFUBEOAp9AM4TQLGaF/VMuRRAWCc0E6mlE0CrUJcWDxESQD1I1QMCMxJApo4ZvozLEkAJvhS++pYSQIiWrHhygxBAXqMRMVZqEEDX7ELoLb0PQKYM8zpmPQ5AveDxrzBmDEAxdq4kL/kLQEmnSGN7cQ1A8xs/tnxcD0BvCnAPMAgNQGZOhjmkRQ5A/8vrnbMTDEBD87C+CasNQJmxUpDEjA1ApHD4Neg7EEBIJ+qLJW4QQCK+qTDChhFAVslQpebBEEDEfGd9+5gSQMVo/zaq0BNA0v0gkD/DE0D08vSgfCUVQKilwwY4PhVAw/Y23xWsFUDNG6/x+JEWQIW3trpdPhZAiwq9GptJFkAY3myuicwWQGPp71i9mBZAg8DT5giNFkBA2vAQVo8WQAherQZRIBZAIa7vm3RzF0APm1//EukVQMgna85J4hVArfno/e7AFkC1X6B0/4YXQHRELyenZhdAyyT2Tg8hFkBDhejOqQgWQKqol4AdjxZAK9t7V/9OFkBsjh/MRHEWQA0JGZLCLxdAmiZ4XOKSF0CHq4JPA6IXQHTx/FsHuhdAVabSL1IuF0CAPzdv1dMWQJsk9vU8YhhAZmXUSsjwFkA7yfEbkxAXQDzihAWHExdAGG0C3LIHF0D8CitH8x8XQHqn9tQ8iRZAymS6Q+uYF0Bcsi9KwVsXQCjkhkscJxZApu1ULv1BFkBD3gHV/vgWQLTuePLXlhZARBhx3tPjFUByREZYKDkWQAEGaYQL7RZArbXESEWeF0CAtuSL350WQDVX0KigwBVAYNjpAXO9FkDNx3NNFQEXQOu4D/48DxZANQjZbz71FUBISQQDKgEXQP0Rlu44BhdA28qj7CrPFkAMJDYKUQQWQH3oX49fYBZAPNlLKOaiFkDlXWPiKdQVQAOoD2IwxBZArcTy+3QMF0CpojeZMg8XQMN1iMB0ARdArBN2xidzFUCrLOS2NzcXQJ3kNIspNxZABdE0LniJFkApPvluCckWQPVL9VELlRZA8sQ3NxF/FUC23GiEfEoVQOQanGL9HhZAwqzpCOr6FEC+8GAmMtYVQDMN1OC5lRRAP44+6lkuFUCmYErHggcVQDrnWPgBWBVA0PJw6Jc2FEC8ohouLiMVQA==",
          "dtype": "f8"
         },
         "yaxis": "y"
        },
        {
         "hovertemplate": "Sequenz=182<br>t=%{x}<br>v(t)=%{y}<extra></extra>",
         "legendgroup": "182",
         "line": {
          "color": "#EF553B",
          "dash": "solid"
         },
         "marker": {
          "symbol": "circle"
         },
         "mode": "lines",
         "name": "182",
         "showlegend": true,
         "type": "scattergl",
         "x": {
          "bdata": "AAABAAIAAwAEAAUABgAHAAgACQAKAAsADAANAA4ADwAQABEAEgATABQAFQAWABcAGAAZABoAGwAcAB0AHgAfACAAIQAiACMAJAAlACYAJwAoACkAKgArACwALQAuAC8AMAAxADIAMwA0ADUANgA3ADgAOQA6ADsAPAA9AD4APwBAAEEAQgBDAEQARQBGAEcASABJAEoASwBMAE0ATgBPAFAAUQBSAFMAVABVAFYAVwBYAFkAWgBbAFwAXQBeAF8AYABhAGIAYwBkAGUAZgBnAGgAaQBqAGsAbABtAG4AbwBwAHEAcgBzAHQAdQB2AHcAeAB5AHoAewB8AH0AfgB/AIAAgQCCAIMAhACFAIYAhwCIAIkAigCLAA==",
          "dtype": "i2"
         },
         "xaxis": "x",
         "y": {
          "bdata": "PaV4/yc0IkDrDwZSqOsiQK3by9jW1yJAN+n7U72OI0AzJLkMwCojQEc6UTIYuCNADI+DCgZAJECMhFrGc5skQO7LyjZLZCRAlom4GHV2JEDT/4/Kk/4kQMhJkcCbJCVAwQlL2KW5JUCaJmyF+IklQGmDpNP51iVAFmzbFUL8JUDOFJuye7IlQDoqcl9qjCVA2daVZKQoJUBNdCxFAxUlQLgtistM1yRA+qOo9fIsJUDjh4lxpIokQPjaZQDO1CRAYM55zpwQJEBd6gDa9M0jQNGAgUjZiyNAdigKulG2IkAD36Mu17siQCTUkQttYiJA0pUclA08IUDDZJZOlJUgQPN8Cs1p1h9ApJF9f2bzH0BEHQ/HSNwdQNuXxHYjBh1A7rfWx7KFHECEmqh5ZJ0ZQGIl5haZIxlACD2Orif2GECYwUZqoUEYQOnwebQCahZAxBjqK31oFEDyY1SWeJMUQIDPqikLUBNAgP/1y+KWEUDEi4LCrSwRQPHKLleNeBFAQwGCLxUMEUABIMN0fBMTQBmj9eX8+xNAHnOiMjBmE0AIvLSVx/oTQGbnrqbyxxRAWD1cqsCRFkAQ5LFuzyoXQMOK05vFXxdA/Pz3G8g5GEAwS9z8//8aQLR0wUf5LRxABv4N2VZlHUC0b2LBNSYeQD66diOrFR9ABEw+wBbcH0B2kJ7yJ1IgQI7hZJuqvSBAf5aPgDf0IEDDPECktnMgQCoNZXYWjiBA1+LbTeu9IEAeOL/hQj4gQKsL2/MVQR9AjRjNw/0TH0BIZs6/hDAdQA3sTdNtxhxA1tOYmLvOGUCyxSs6nwkZQAEAQ8l/ChdAjs49W7OdFkBaZ3pPE3QUQLb7/bbbLhRAtV6mlc7AEkBuSf4CEuwRQKPh3I5OnxFAOxxk25jFEEA2mGVxLVoQQCGu1Xel0hBAsbwPGet0D0D+LfbFNJMRQIbhGYijCRFAbi1GgJAREUAZiztUx4wQQO3vMlnCJBFAYu5g2JmgEkAie/xnN38RQDA9XsHVYBFA/jHKn5ZSEkBAUcXWC30SQCYQiIPdZxNArMR5+cZIEUDeaqFhp/EQQFkWWaQmQBBAEk9DyL8gEECNWiK5P98PQE5xpGssIw9AUqnXounqDkCHGeIfK90LQJAVqj2SYApAao+/gOn+CEBy+2D6nrsFQE7Z1QD94wVAiggz5BNIA0BqrvODES4CQPkpOJLXoP4/neKY8CH0/j/8w7sXe078P/6UWu0Kpfs/UyC5sPQw+T9DOGJYaAn5Pw6n10R7svA/YTxAJb/S9T/vWxB0m9PxPzC81Vo8p+4/UaYszmFv5D+6wsgaqdjrPyBRLCfLGeQ/gGc6X72p6T+W8BmImsTwP3obprBK1OY/kSyF3DQc7z+laePoThbmP6jTXwtg++M/7FRTMwlU6T/Ir0AB+/PiP3o7JGKEbuI/5pZmWctU6D9yIVsTGJDgP2gtuS2sgeU/1vCiHLLM3z9t6bUj417wPw==",
          "dtype": "f8"
         },
         "yaxis": "y"
        },
        {
         "hovertemplate": "Sequenz=183<br>t=%{x}<br>v(t)=%{y}<extra></extra>",
         "legendgroup": "183",
         "line": {
          "color": "#00cc96",
          "dash": "solid"
         },
         "marker": {
          "symbol": "circle"
         },
         "mode": "lines",
         "name": "183",
         "showlegend": true,
         "type": "scattergl",
         "x": {
          "bdata": "AAABAAIAAwAEAAUABgAHAAgACQAKAAsADAANAA4ADwAQABEAEgATABQAFQAWABcAGAAZABoAGwAcAB0AHgAfACAAIQAiACMAJAAlACYAJwAoACkAKgArACwALQAuAC8AMAAxADIAMwA0ADUANgA3ADgAOQA6ADsAPAA9AD4APwBAAEEAQgBDAEQARQBGAEcASABJAEoASwBMAE0ATgBPAFAAUQBSAFMAVABVAFYAVwBYAFkAWgBbAFwAXQBeAF8AYABhAGIAYwBkAGUAZgBnAGgAaQBqAGsAbABtAG4AbwBwAHEAcgBzAHQAdQB2AHcAeAB5AHoAewB8AH0AfgB/AIAAgQCCAIMAhACFAIYAhwCIAIkAigCLAA==",
          "dtype": "i2"
         },
         "xaxis": "x",
         "y": {
          "bdata": "Zt2HCWlfE0APUPPokpAWQLj52zBS5RdAhoYY3IZKGEC0jBPLyeQZQAEEudjXfhlA9Z4fYvR0G0AyIjqpmIscQBL7I4wuQhxA/RrENN3kHEBgGX+CBcEeQMEWONz4Dx5A40e+FffOH0ATayug5rQeQJMsFaCz5h9AnojTA4ifH0D0O+1NyvQfQNJRUAZ5Kx9ABYbg+yCkHkDHSymzmPgdQOLv8XWvFR1AoCNfV1rcHECJ0swbxHYbQH0XUMt4dRtAVwHIYLC6G0B6EO5/zCUbQG8I99ALxBlA+jz8BPDRGUD0lj/usC8ZQBm7WozdpBdATcJpoe2jFkCF7FefDxEYQA8fNB0vABdAIHD5BqRlFUA2ikDxiwoVQK1Aa8e9lxRAoCGbM525FUDWTH9ExBEUQI5M9ySU/RRAC3I8Ygv5FUAOte7xI0QWQGtdptfjiRRASsiC2haeFUDbiIjHBFkWQIodiFRuTRZA5d6CKbtHFUDvuhr7FG0WQJHr2n+QFhVAWqSMKempFUBNgBYsxXkWQKRJZ/B8DhZAce/tfAfrFEDybDue6YEVQIv9+SHxxRRAU/qf5YjSE0Dwmyq+LRARQGDtzVhhsw5AMHYISHH8CkD8QC2Ms+wKQEEz26v1FAlAkDYLDQSkDkCBrltq+eUNQBk3kdW7CA9APm78iG6UDkBV3WisojERQAlBw5j9ABJARHoGQgMXEkBQq19l4jMRQCd1ks3V3xFAvBNCiHa1EkBqq8+rhH8SQOKYOBkG5BFAVuVtew0yE0B8Xu25icISQOqKajs9NxBA9e3sx9JAD0CdMrIWcIkPQMZ7/eRYJA1APuWoHGz8DEDqT1d4saMMQFpjmur5twtARtipUW4zCEBboLUtB0ULQMSOo3mJPwxA3woJgW/BDECeI8cjbV0PQO9CvXYleBBAqyM8L0rfD0BVO5WEnesRQMDvVhXZChNAbDPhubGLFEC7T8AiLBkUQHnZxRvQkxZAuia386LVF0D6n4B6Y1UYQDyQpwY4IBpA9NC9gCo+GkBtN7IrZtIaQJ5xvA/z8BxAiDWxbE8MHkD/ZTUhHZkeQEl34bwcNR9AKB16V6EXH0CzPvZGHwMfQO0WtuLD4B5AyBmiuq9WH0DI7l5BmKkgQHSUQXNnGCBAMB6gu6vtIEBnDKUkWLAgQGKhW7OLYSBAnW8TEojkH0C4OFVr4OgfQK94yLkNOCBAuFTwmJSoHkB6SBoNqYweQHI3RvFD4x5AId1Apf0RHkAjS8m/2X0dQIVzlzZe7hxA5qK1gzlMG0CBIuRgTQsbQLomWlgHiRlAPuCf0x6nGUBXUtrLf6cXQBFvNJ8zuxdAXjQr8+t5FkBO64F6O0gUQOvNC/Me0xNADzIBoMngE0BBfmPT0a8RQDKLsBUPHRBAQE9/DVSsD0BPos/erJ4JQGqgUIqKDApAO0xNz282BEB4b1/DKuAEQFGUGjj6TP0/KfPMRvAC8z/rLUbTkE7mPw==",
          "dtype": "f8"
         },
         "yaxis": "y"
        },
        {
         "hovertemplate": "Sequenz=184<br>t=%{x}<br>v(t)=%{y}<extra></extra>",
         "legendgroup": "184",
         "line": {
          "color": "#ab63fa",
          "dash": "solid"
         },
         "marker": {
          "symbol": "circle"
         },
         "mode": "lines",
         "name": "184",
         "showlegend": true,
         "type": "scattergl",
         "x": {
          "bdata": "AAABAAIAAwAEAAUABgAHAAgACQAKAAsADAANAA4ADwAQABEAEgATABQAFQAWABcAGAAZABoAGwAcAB0AHgAfACAAIQAiACMAJAAlACYAJwAoACkAKgArACwALQAuAC8AMAAxADIAMwA0ADUANgA3ADgAOQA6ADsAPAA9AD4APwBAAEEAQgBDAEQARQBGAEcASABJAEoASwBMAE0ATgBPAFAAUQBSAFMAVABVAFYAVwBYAFkAWgBbAFwAXQBeAF8AYABhAGIAYwBkAGUAZgBnAGgAaQBqAGsAbABtAG4AbwBwAHEAcgBzAHQAdQB2AHcAeAB5AHoAewB8AH0AfgB/AIAAgQCCAIMAhACFAIYAhwCIAIkAigCLAA==",
          "dtype": "i2"
         },
         "xaxis": "x",
         "y": {
          "bdata": "HvNjnkN0JEDmnfaEJWAjQMIJhkLW6SNAU4V0QoJ+JEBfwK2RiX8lQIz2RSyOUSZAUNJHlXp4J0CgkB5nkaAnQBhV2x4VtidAo76pYH0dKUCzw3Ppt7UoQONtSjmbBCpAWA7GY0VwKkA1YP3eONkpQCJuTdF4DitA51Y1/k/GKkCa21B+Nz4rQKJ/iiaVvStA6IfJJd4mLEDf8yEqhTgsQJzeDWkmhCxAMB+PmipJLECI7mCxSUksQOfCREPFNyxAK0MDwZnNLEBV7QHm4eksQJA2PxdxsSxASsN0ud3gLECYw3AHf5YsQHHE2iPPOSxAa/fFSYTqK0Bn4233HbUrQOkOPEHYDStAHeBzEKN7K0BWtrzfvQorQLHkDVN8yipAxlSSDzl1KkBgbPzZiPEpQFfHMdvTTyhAfVSrXd3OKEAcwShLXT4oQJJC456NcSdA+YFszG+FJkDTlaH0I8wlQL75GsXIiyVAo9lge0AVJEB4Ky/YapIjQOyILjuMASNA+9/XnrfIIkCaDhZx9JMiQDj8hXhauCFAcvTWZKqwIUALXBOhUssgQPqgbenzbSBAqnYlbCgGIEAmu+SqTtofQCmV4bYPKCBAlp7UfWXaHkCgKUpwihgfQKWwJ3X41R5ACgakxlJmH0DqDCOMJbMeQIzv1EmAvx9Anb2Wxh5YIEBI7c33YhYhQByGtcmx1yBAQWKqiqH1IEDxiQk77OwgQLbr5vVh9SBA47R/GwV4IUBHvpJhXmoiQKlPN/E3dyJAO4dBtDVZIkA6fQezkashQCCA4NGM8SBAKsXF29AiIUAY1YyqVt0gQCx5QpAJvCBAxRGURDLGH0B+m1+4xjUeQOD3ja2CaB1AJ5DqLtv3G0A0y4BP0PAcQP8ewldd3RtAaGn7fnSLG0CEIxnRtoUbQBciVjxkgxtA1Ceu4LAbG0DC/zr1S1EbQOzyad+rbhtAxFwIh/mJGkCVLjcFf3wcQMpblVsELBxAbM5CsCBSG0AzXSk26JgcQFt8ojUiYx1A4J4uyo8WHUAroUceBI0cQIjbSLykIh5ArzHHFuOCHUAKc0xcZ9wdQMc14YKvoR5A7LRE4JzYHUAkW/3MBDMeQHcLcVq/kR1ANdVVfkfFHUACwy7ZMRsdQOSPIfgRshxAJ6XwdFHKGkD/uZn9ZY8bQP4WY6lQIhtAgHHAUp2GGUC1z4PVVPgYQEf1LS625hhAwzVP336gFkD2khJKz4YXQPuNGN6FoRVAqoIXNL2kFUAbiw9ThXoUQBWP9Ah0NhRARZSHxy47E0Al2eXAFtUSQJm/ckcCnhFAetMi0186EUDkUhaYchsNQMZ5d4z0oQ5At72KRbQ0DUDk3HG2120IQIuYjIOr9ARABMOEZLaIBEDnov9BnwQCQBHfwfJMQAJA7wUbSVJU+j8HM0GxCAT1P/UGxTETmO0/L8cIMqE48D8ljHUOtG3uP6jDqS1zYvE/kkvAzGQX6T99APQdrUHlPw==",
          "dtype": "f8"
         },
         "yaxis": "y"
        },
        {
         "hovertemplate": "Sequenz=185<br>t=%{x}<br>v(t)=%{y}<extra></extra>",
         "legendgroup": "185",
         "line": {
          "color": "#FFA15A",
          "dash": "solid"
         },
         "marker": {
          "symbol": "circle"
         },
         "mode": "lines",
         "name": "185",
         "showlegend": true,
         "type": "scattergl",
         "x": {
          "bdata": "AAABAAIAAwAEAAUABgAHAAgACQAKAAsADAANAA4ADwAQABEAEgATABQAFQAWABcAGAAZABoAGwAcAB0AHgAfACAAIQAiACMAJAAlACYAJwAoACkAKgArACwALQAuAC8AMAAxADIAMwA0ADUANgA3ADgAOQA6ADsAPAA9AD4APwBAAEEAQgBDAEQARQBGAEcASABJAEoASwBMAE0ATgBPAFAAUQBSAFMAVABVAFYAVwBYAFkAWgBbAFwAXQBeAF8AYABhAGIAYwBkAGUAZgBnAGgAaQBqAGsAbABtAG4AbwBwAHEAcgBzAHQAdQB2AHcAeAB5AHoAewB8AH0AfgB/AIAAgQCCAIMAhACFAIYAhwCIAIkAigCLAA==",
          "dtype": "i2"
         },
         "xaxis": "x",
         "y": {
          "bdata": "0hfs8JdsGUCcv6lfY0oXQPan8QlvoRdA2BdOx8qXF0BwYTGJOsoWQA5RETKF7RdAUPGZJGLrF0CEzWek7dUXQLw9vaKp4hZAXB2/qP2nF0Cc16I3fcYWQO9xOJTEXhdA5CrUZmdBF0Bi2y/Q8CwXQAPdqRtxaxZAoxJMfhqlFUDCi7kQ+lcWQClPUgW3tBVA6rJSdFdSFkBk0SRw/KkWQBRhFDUbdhZA12S8ET3dFEDz2J2fq8MVQOeE0KEFFRRAeIQv35MbFkBNsT4JYH4UQKXtriLWmRRAnmd+1WFVFEC2y1AzJjEUQLQE0hIDQRNACH0/jqVFE0B6rlQIC6QTQHxgKp6cERRAZUubFFjGE0DjndhkNr4TQKSwcnNvOBJAolDaGqGYE0BbURfmKswSQP5cJo2/IhJAz8BPyVwjEkCKy/ecc6sRQFQ2PXuOQRFAusAXWuBNEEAdpWBhFtUQQHZ6tT8RWA9Ay2ZTe5gNEUC2mwpv+lEQQEqqaPdHFw9AZ4qBN75VDkCpb0Fjk+sPQG5EXPROLg9AU/gtirUMDEAbvmpLf4oMQDdUIz+NJRBAeT7mzNoCD0CBuChG9aYPQNqHazIsLw9AokprMySYEUD7llikCk8QQL7y+KGnoBFAWhXi2PsaEUAzTyeWz90SQOzR+d3/9hJAuIEFT+WJE0AaKruDIRMTQBQc3VVvuBNA9Ljfd7RwFECkk89BCH0UQEIh+QPImBNA3LRLpx+yEkC7a8cNEsITQF3KOEiWkBJAupdZcXDPEUA5YnT64K4RQDFWdWnGyBFA2j78X83lEUD5G25OGeEQQLqeMr0CuBFAkBIjJ3eBEUBxyYQHOTgRQNLAderG5RFA7ue5tFPfEUA2jxSWhrYRQD7ArrkDRxJA+rIOGd8fE0BWJynTOWMUQB1gwtDCVxVAS/EKXFNAFUCCYEei9PYWQBgEKbn5KRhAcK7uYQZiGECX3i+1KT4YQMManhi9tRpAXZrp2VDmG0DfHe2hxf8aQELI+iYDYB1Al6kLJryhHEAHjMewBPkdQB/MsOIncx5AK+ecFskkIEAZVQUK59YfQPooEdmmpCBAzFm69i6NIEARATdDhAUhQPI+bJ6IESFAIM3/nxdHIUAZnW3LMoshQNgPYR2N/SFAleTMdAMHIkBNCoC+BYkhQFHHq7Q/xCFAyiwFJlyBIkBwjGXJFXIiQKT+pqJqLCJAF3NfbAWFIkCjN/Tan/YhQKhr4qLYNCJAmJJ3A4DzIUBpZbe4MMkhQEy6rJsPBCJA4VhHa6D5IUDT8kpAXIEhQL8UR1F71SBA/kaWY7yPIEDKIRmIFUAgQP9ia0n/kSBA0ml9keMiIECKMjnKtoEfQBVVPnqH2R5AqUowjEChHkBomYqe9NIcQFk5MD00jRtAO9omo9g7G0AJRvLcjekYQIAs9JQ+IxhA2VChrQqIFUBF9T49l40VQCQmm/5JuxJAGi/MNKQTEUBaXsb5BLIMQA==",
          "dtype": "f8"
         },
         "yaxis": "y"
        },
        {
         "hovertemplate": "Sequenz=186<br>t=%{x}<br>v(t)=%{y}<extra></extra>",
         "legendgroup": "186",
         "line": {
          "color": "#19d3f3",
          "dash": "solid"
         },
         "marker": {
          "symbol": "circle"
         },
         "mode": "lines",
         "name": "186",
         "showlegend": true,
         "type": "scattergl",
         "x": {
          "bdata": "AAABAAIAAwAEAAUABgAHAAgACQAKAAsADAANAA4ADwAQABEAEgATABQAFQAWABcAGAAZABoAGwAcAB0AHgAfACAAIQAiACMAJAAlACYAJwAoACkAKgArACwALQAuAC8AMAAxADIAMwA0ADUANgA3ADgAOQA6ADsAPAA9AD4APwBAAEEAQgBDAEQARQBGAEcASABJAEoASwBMAE0ATgBPAFAAUQBSAFMAVABVAFYAVwBYAFkAWgBbAFwAXQBeAF8AYABhAGIAYwBkAGUAZgBnAGgAaQBqAGsAbABtAG4AbwBwAHEAcgBzAHQAdQB2AHcAeAB5AHoAewB8AH0AfgB/AIAAgQCCAIMAhACFAIYAhwCIAIkAigCLAA==",
          "dtype": "i2"
         },
         "xaxis": "x",
         "y": {
          "bdata": "ngKdjlBmHUCJHYMYKSgcQL8cBbrG9hxAKGq6/l3tHEAi0LfGClQbQDWSQYGOrhxAbNZDN7WTHEBZbiNkcBUcQGUx807LRhtAe8GJBmNNHEAo8BzMN+IbQKXaDjl2YxtAxScjBdcDHEDNcMOtFWYaQOx4MM+TIxtAmkd5rspdGkDgY7s3z8saQCr18l9MHxtAkvjoALw3GkBhVWfvc7kaQKyRD895PxtA9TEE8K5oG0BNcYB1mOkZQOZ8v60mVBpAIBNvhLpnG0AFQk+LcK4aQJ9sN6lIsBtAoGQSerbHGkCtUk0rMdwaQHyjTgwsfhxAlHuZXFL0GkDxdYP7jgMcQIVIAyb9pxtAfpjJk5OvGkBMVsKb3uAaQPPsOOW8xRpAyns8xxrYGkAx89cBKSMaQFmU42OVABpA3WWcxfeOGUB/7f5O3McZQGhEfedu8RhA57fxGsJhGEDJ4nF1pCIZQD9yAlYstBdArpbblg6rF0AAvbpuA8MVQOsdbcJ/6RVAPJq3p9BAFUBvwFQ1i0wVQJSUsoT4VxRAj1Data+PFECO5RdfjzMUQO9XeTfyJhVA+LE28nAFFEBSyEQfFN8TQNwhZ2b2cxVA5+h/1MzBFkBgoaOxTS8WQD7JXn04hRdAn3DCuUP8GEAzdFoTce0YQEjQAfWu8hhAFnl/vtF6GUAmG+zd2qMbQD3RiS5ipxpAYmCsd0+KG0DtYvMZzHkcQDWJpWQ6ZRxApDfW2500G0AJU0xhGHkbQAwzbOB7xRtAn7kGV5ZAGkDvXPh62noZQCTXbn5jQRpATwxFpZPYGEAx7f50CtEYQGn/SZfEIBlAWjPhq4mhF0B9nHJGoYUXQJuRlPpgFxhAQaGQNdUgF0DvukAsJeUXQLL7BUbS1BdADnIL8K3sGEBQpotMoRwYQFI9X8LSwRhAq+/HtrfcGUBO6n2qdUEaQOPHoB6OxxtAzXLqvhhqG0Bem8Rr5nUdQIJQ6Ga+oR5ATY8mwPQAHkAQ4An2FsMfQBdqnjVGhCBAvmH6lxtDIECqj9DBlychQLD623PR5CBA3S5Y2v0AIkAZ4PgTHngiQPe2RyhekSJAXaEm7YKIIkAXFIxFW6wiQMPbMrc54CJAoaEPK76wI0BCb8+bK70jQOoAC8h2XSNA22V7jmkzI0BlJzdil7ojQGV8e5TnfSNAxnZB++9zI0AU2epu0hIkQM1CdAKiryNAfV6kVvF+I0BbbEK7aHYjQFju7Kb+HyNA2hfv+u+uI0BppFMXIFkjQKDwSZYhFCNA/TdcrdUFI0Bw9ww0mAEjQJ1zx8GJkSJAtbWf3JrhIUCXm7wlnV4hQLh9/RTfAiFA0OIWZdn0IEA/R++ooakgQPBAPepFliBA0s9LWoaUH0CHt5cxAqcfQOeNIoR68B1AnPBox2ZnHUAdBdUxKHQbQDifsli2uxlAAwOj+yPuGUAs9bmtXTAYQBJsu2RXVhVA62IZwrPvFECs8LX2IRwTQA==",
          "dtype": "f8"
         },
         "yaxis": "y"
        },
        {
         "hovertemplate": "Sequenz=187<br>t=%{x}<br>v(t)=%{y}<extra></extra>",
         "legendgroup": "187",
         "line": {
          "color": "#FF6692",
          "dash": "solid"
         },
         "marker": {
          "symbol": "circle"
         },
         "mode": "lines",
         "name": "187",
         "showlegend": true,
         "type": "scattergl",
         "x": {
          "bdata": "AAABAAIAAwAEAAUABgAHAAgACQAKAAsADAANAA4ADwAQABEAEgATABQAFQAWABcAGAAZABoAGwAcAB0AHgAfACAAIQAiACMAJAAlACYAJwAoACkAKgArACwALQAuAC8AMAAxADIAMwA0ADUANgA3ADgAOQA6ADsAPAA9AD4APwBAAEEAQgBDAEQARQBGAEcASABJAEoASwBMAE0ATgBPAFAAUQBSAFMAVABVAFYAVwBYAFkAWgBbAFwAXQBeAF8AYABhAGIAYwBkAGUAZgBnAGgAaQBqAGsAbABtAG4AbwBwAHEAcgBzAHQAdQB2AHcAeAB5AHoAewB8AH0AfgB/AIAAgQCCAIMAhACFAIYAhwCIAIkAigCLAA==",
          "dtype": "i2"
         },
         "xaxis": "x",
         "y": {
          "bdata": "mb1fihHBIkCbXSm/XnciQCIClg0FJCJAs94iX7L8IUClLIBGxBkiQJ4KFBWwOiJAzgHfEv4PIkB23SuXBSkiQDhzevcQSyJAqDil4XG+IkBeWAob7a4jQJO2SKzu9CJAg4VlFf3WI0AejKW5kgQkQJz4mOfDgyNAMLyo3qPrI0Ab+/3ssIgkQOPKM22RZCRAOUywp6W+JEC/9KaILgIlQOehsqtswyRAQK9BPUo8JEAxJvN9dmQkQDe2WdERZyRA7Gw2VhkfJUAae7SMU/QkQFFKX8zwCCVAhfVfOx7BJEBROaqeYWwkQIzpdurL6CNAiqLishMhJECjFqzR+8sjQCalN1FddSNA1uNpjUb2IkDykspUuNoiQIlcdDOfDiJAslj39FNSIUBR+RnDlC8hQM6FT9CWlCBAxooIpvA7IEDS5fOUwVYfQNCi8Ft9Yx1Ao36aDeiGGkArVyotP54aQF47EJsjQRhAqIcXU39xF0D8K69YT8cVQAJznVThtxRAAItB1dXvE0C3IEPGpwAUQHF3OEZUiRJAs67MTwWpEUB05YEP9fsRQGfWZbFffhNAe+QU39S4E0AuFWy0n0QUQE0XM5yBuRRAjAAYQfY9FkDQmhgUg7wXQNXbSGG9DBlAy/5ZViAlGECKydEzTO8aQBa6Y0pOpBpAcQL9R13sHEAsPTzxlGkcQOjg2c4hux5AAyVgkzN6H0DIJPKw1KkgQDQHYp9pwSBAhP48wjjjIEB5S/OfFj8hQEwyIU9MTiFAkvYygzZQIUCDLSM4BKwgQHgjKXYHjCBAUFWh5deQIEDtJK5WdTEgQCcZAZpOiB9A2GRqhAPfHkBa+x29D+0dQGurW5IT5R5ANTLDDDcsHkAuaGrIl68eQLrk7QK8hR1AMM50EgOgHUA51ckRuBsfQDuOjlM12B5Asy9lPtDOH0DyAAOEcHMgQBY5SyjZkyBATWitkY5FIUBIGmyIUnUhQI7DKx8+biJAL0TMDH9XIkA4daP7zIkjQLMtuv85tyNAufnkZmJbJEC22xvO44AkQH3/XFHXYSRAsChGX+WeJUAF9QsbOislQCO5I+ZhfSVA/TslWLR7JkCPmAztiDomQLE7s+NfXyZASxbfTw3cJkD17yOP4eImQJdUv0REWCdAuj3SqEAVJ0Ax9Z6cWOcmQG8i3wn30SZAUmMCwauTJkA1ysqA2EInQDN5FFv+niZA0zK/vG0cJ0CUfbu5V/QmQK4YQx7CESZA673ahYtzJkAugyIIDCsmQA7Dnyx+BiVAUOUfv9tJJUB4mLpy9wslQN2rfM4NGyRA3r2lMrItJEDzMbaIitcjQASDYvHwRiNA5NIQIfp9IkA2rkmPj2ohQMUX5zadhCBA+HzATGecIEDMWYvqYdEfQDiEvDJ4uh1AxRQRweQuHEAGRQG7PBcbQLbkmLhWcBhAhqTdczVBFkAQg2+H5L8VQBBy5QAr0xJA0vN0S88gEEDbCMgD3pkLQA==",
          "dtype": "f8"
         },
         "yaxis": "y"
        },
        {
         "hovertemplate": "Sequenz=188<br>t=%{x}<br>v(t)=%{y}<extra></extra>",
         "legendgroup": "188",
         "line": {
          "color": "#B6E880",
          "dash": "solid"
         },
         "marker": {
          "symbol": "circle"
         },
         "mode": "lines",
         "name": "188",
         "showlegend": true,
         "type": "scattergl",
         "x": {
          "bdata": "AAABAAIAAwAEAAUABgAHAAgACQAKAAsADAANAA4ADwAQABEAEgATABQAFQAWABcAGAAZABoAGwAcAB0AHgAfACAAIQAiACMAJAAlACYAJwAoACkAKgArACwALQAuAC8AMAAxADIAMwA0ADUANgA3ADgAOQA6ADsAPAA9AD4APwBAAEEAQgBDAEQARQBGAEcASABJAEoASwBMAE0ATgBPAFAAUQBSAFMAVABVAFYAVwBYAFkAWgBbAFwAXQBeAF8AYABhAGIAYwBkAGUAZgBnAGgAaQBqAGsAbABtAG4AbwBwAHEAcgBzAHQAdQB2AHcAeAB5AHoAewB8AH0AfgB/AIAAgQCCAIMAhACFAIYAhwCIAIkAigCLAA==",
          "dtype": "i2"
         },
         "xaxis": "x",
         "y": {
          "bdata": "1e8tBVUEIEDuiePeINQdQMv7CGTsmR9AgnGLk85dIEAAO5GwB7kgQI+SBeYxDyBAseVhcE1ZIEDfNIMGL2cgQMqJpcEcXR9AGuu5qFVEIEAHHG0LPoAfQGvUfKj/eR9AtCNUrkF4H0D+3vsGmpoeQL3oIBStUB5ApA7y4s+6HUD+Em/PWTwdQHCtP5mQzx1ALwMyryGsHUD7m+mB1TEcQDEnhAsFchtA0IR1GvvgG0AmtEMfNjUbQEMTyfjWdxtAsRC3Gi6KGUA46hz5fuAbQPhJo++jJBxAiqoUeEnrHEC/5TRZQuAbQH28abrzcRxA1aiNa6qUG0A7KxLl0vkaQIT8r03TjBdAAS5K8VE4FkA3WuCQ/6kVQBE6pGOTHRNA1/T61eBrE0Dc54B3k98QQN9aChUPQw5AiuPsw2M2CkBW/pmOK0QJQGDebz8ZjQZAD3QdPKFCAkDkCIe01noBQA54dd5GcPg/SauIt/2g/j+MFQs9h6b+P1pQBe02w/o/xbk4BVuf1T+OHOo0FHv5P2ZkHSRo0/8/KRyHedg08z9U4S2gdur2Pwukcz9aOPg/wwRQtt559z9iNz9uhs7+P1rKrwHv9ABAYsJH5+dEAkCqUeNxPBUGQHbaRYnjeAZAaFgcD9xGC0C8B/gvMCQKQOA/nchytg1AYEnJt/G8EEBXC/3UCrcOQNReqkeJTBFAQSEpMnW9EkCcsW/O4J4SQMYUsQRx7xJAdw53nLX6EEDcSRX8iQgSQMpA1vZxORJAuThuZxV0EUATf/KCCQkQQJwM1bTKMg5Awc5NpXxADkD5YwU5wF4KQFFhg9iedQdAR1ij0qGBCUCuZ91OG08FQFtdHIJqtgdAf+2iAY3vCEBV7LBbtCwGQFrsNdboTAlAyG3wzfm9B0DHeo6LeEMKQDPKuMXiBgxAJK3m9wyYDECqk5aJ4w4QQAGfuxgv+xBA0dgk+5OCEECiGm/WgKoRQIXmY2H+UhRAsk3oWt36FED/KdkPHoYWQO7SjeVLIRZAPr/8vXYQFkBkktkHS74XQER/e86f6BdANCmfs65VGEByKRy90hQYQHDme+fxvRhAKwr63XRMGUB2mwPciYsZQApJ1paLkBlAzICUXUYiG0A1JzC3kpcaQEvJd8jydxpAE9Q3UZcuGkBWXD7IKU0ZQFZB05HP/BhAQZzzdO1eGEAPnWo+AgUZQL8adSsa6hdA/1vZXv1BGEBpESFLOY0WQHfXSbqciRVAIm3OFsvDFEDT7J6Su0AVQJHAoQ5vYxRA6u94Gk2eFEC3fFpKCGwSQEXkMtglkBJAnpEf+ampEEAKb83K7ToRQNKQHt7Jtg5A4FyuQbCoDEBmYpqtFnsNQDgs7JDRsgxAlb3qTlhuCEAUfERpehYFQP0B+ICdfANAG1hbKg1xAkDCy0qAHNP9P08bC/22Vv8/8nO/JATc/D/34DJZdP35P2NH820JdQhA6A2sI1VWDUDE6IYgjIEQQA==",
          "dtype": "f8"
         },
         "yaxis": "y"
        },
        {
         "hovertemplate": "Sequenz=189<br>t=%{x}<br>v(t)=%{y}<extra></extra>",
         "legendgroup": "189",
         "line": {
          "color": "#FF97FF",
          "dash": "solid"
         },
         "marker": {
          "symbol": "circle"
         },
         "mode": "lines",
         "name": "189",
         "showlegend": true,
         "type": "scattergl",
         "x": {
          "bdata": "AAABAAIAAwAEAAUABgAHAAgACQAKAAsADAANAA4ADwAQABEAEgATABQAFQAWABcAGAAZABoAGwAcAB0AHgAfACAAIQAiACMAJAAlACYAJwAoACkAKgArACwALQAuAC8AMAAxADIAMwA0ADUANgA3ADgAOQA6ADsAPAA9AD4APwBAAEEAQgBDAEQARQBGAEcASABJAEoASwBMAE0ATgBPAFAAUQBSAFMAVABVAFYAVwBYAFkAWgBbAFwAXQBeAF8AYABhAGIAYwBkAGUAZgBnAGgAaQBqAGsAbABtAG4AbwBwAHEAcgBzAHQAdQB2AHcAeAB5AHoAewB8AH0AfgB/AIAAgQCCAIMAhACFAIYAhwCIAIkAigCLAA==",
          "dtype": "i2"
         },
         "xaxis": "x",
         "y": {
          "bdata": "vHmTcvW9F0BQYfBKTzUaQDMDPAkkABtAcHZUsOKBG0BEYN08og8dQFSGdAwa9hxADfetPcg6HUCQH6Zzx0UdQACSY9NflR1Am+WUCXlNHUCDEM1/OagcQGpjtnCr/B1Am4Lq2vlKHUDbQasi5qYcQF3m94RYLB1AhNo40TfHHEDXlbbOGrsbQHRVCTcVtBtA4F792hf8G0BI+c/qtnEbQH2xKemMDhtARle9U8KKGkBksfAKtTkaQAMP8Fp+txlADDstceEEGUDRLXES9hcYQCXtsjMs9BhAHGscC0n5F0C1XHa2wZ4XQFu+0Z2fdBhAecYv1wV8FkAaXhIKVo8XQGS6hwAtrRZAEzjyr8wvFUAMCmRKgMQUQHnRkHcm2RVAFaB66WD3FEBTZR0vzXsVQEQN6/DFuhRA1380mszPFEBt59fCG0IWQGW5FFITnBRAjjqN0F6cFEBC9lQtAIkUQBPzvh1QkBNAgiJwkHT2EUBdrr5QV28SQKa8RN05lRFAw3cx5PxkEEDN0lM6L8kRQIqy7dW+sRBAP1YAsi9QEEBqayd4tc0QQNFN3TF2oBBA3fzSucxMEUAug7qZresRQGdveHbTtRFAeHU/AGYOEUApR4kTLRwTQLr8NTBRYRJAgCPLSnZZFEC+GSugsWgUQDKhOS5QthNA0Aclxcr5E0BlzdwPtrYUQCm/nVKKJRRApZAlN5YkFUA/HYnR3nYUQNC1q5c2FhVAtZgt7HGRFUBIuqIpq4kTQDTLvSKQAxNA6vyzQDcqE0Dp5HSxl6ASQKjW/gJaOxNAVIa0iFDoEkDGs+89IyQSQBV+aETLuxFAME8T0kBSEUCZBfPoXmYRQAXdoT7jNhBAgRPBFqT3EECWss1B6ZUQQOlXdiGPjRFAUxx/Ul+4EEARXqW+TygSQDURoqpkthJAspoTEFZ/EUBojnQeRYkRQJcssmafYBJApuR+KzobEkB2ZLA2mKoTQAP6EUDDNxJAUUbYKOFfEkBBehhYqXUSQOOEkvo10BJACAEi7vnxEkCFVPcQSYMSQF6H7b8SJBFAXkTxLLyeEUD8MtyNllgRQJGbTbsw5RFA93xqomHqEUArthk4BkQRQFZClg4blBBAUGio5z6DEUDbZovss9QRQNSQBzYWvBFALq+wYU0UEUCBW7h07CYQQHInCrralxBA24p2XwLUEEBtgLczzAwQQN/hcs28AhBAHr8ahUp2EEAkXR8DxlcQQBprOFwSihBAFD2/CeKQEUBRFUbFfh4RQN1lxdTsuRBA4r4acb8ZEUBjIAgxOSMQQODVOMGFKhFAliAaxWg9EEB25TU/eZsQQMR9BPjsBRFARO66+Y+9EECZQsxl2lgQQGVJxKFfXxBAA8tSDSJREEDfIXd9kNYOQHRT1S+cFg1AZnlBly8VEEBnSJAshtQOQB4KiBW8awxAPKJ+QJx4C0CCsEdoOS4LQLOVUCi8RQtAMU6H+wgXB0B4x/rPwbsIQA==",
          "dtype": "f8"
         },
         "yaxis": "y"
        },
        {
         "hovertemplate": "Sequenz=190<br>t=%{x}<br>v(t)=%{y}<extra></extra>",
         "legendgroup": "190",
         "line": {
          "color": "#FECB52",
          "dash": "solid"
         },
         "marker": {
          "symbol": "circle"
         },
         "mode": "lines",
         "name": "190",
         "showlegend": true,
         "type": "scattergl",
         "x": {
          "bdata": "AAABAAIAAwAEAAUABgAHAAgACQAKAAsADAANAA4ADwAQABEAEgATABQAFQAWABcAGAAZABoAGwAcAB0AHgAfACAAIQAiACMAJAAlACYAJwAoACkAKgArACwALQAuAC8AMAAxADIAMwA0ADUANgA3ADgAOQA6ADsAPAA9AD4APwBAAEEAQgBDAEQARQBGAEcASABJAEoASwBMAE0ATgBPAFAAUQBSAFMAVABVAFYAVwBYAFkAWgBbAFwAXQBeAF8AYABhAGIAYwBkAGUAZgBnAGgAaQBqAGsAbABtAG4AbwBwAHEAcgBzAHQAdQB2AHcAeAB5AHoAewB8AH0AfgB/AIAAgQCCAIMAhACFAIYAhwCIAIkAigCLAA==",
          "dtype": "i2"
         },
         "xaxis": "x",
         "y": {
          "bdata": "Rc0vME6NJEB8BbFJOiMkQJXGKGvxEyRAF7X7c3eFI0BKUXy1p3AjQC9PtWdFRiNAPpFOIA0BI0Avq/npNxgjQEx98r9NvyJACxehSIxrIkCYlY8+VHMiQK25+DaLDyJASSXyQd3fIkAHXGcqFXoiQCBVgUP6KyJAbkhy2x+YIUDc5YBLbo4hQLOymM0EMyFADPGOomg7IUB94MufwYQgQBPjVp9yFCFALt04Ppr5IEAETsiFYgYgQGc7Q9zz1yBAVw9wTyWAIEA2iVyyfYgfQFfF2/3XYx5AOhYfB9pgHkB32AufRkEcQBL+NHLeNR1ATkjB4L9OG0CtiUNuQZgZQMvmgcUruhlAcfKaR0KUGUD0R0YGCxIYQODbThICMRVAw1QU1addFUDVxVma9rsRQHj4qwwgkhBAfEtDJF9cD0CZBn2CXSYKQMmrtX5/TApAJPYmXcJ/A0BsVaxOidwFQCqAh0FP0gRAVlAwgbb+A0DD74P4+okEQLsStZCUFwVA7UvedFwq/T/lDP7EliYBQHAEg94U2ARAE3VS2DcoBkCutEgTDHYHQPtsHWIs8wdAPKYtBEV9DUCb9CMjgk8KQH/UR39DuwxA8sp9qmg5DUAal9H9ZTAPQLOCjFt9ChFA7wA/ky5SE0AmXil1bYoUQBpiAWklbRZAdeYVDwUiFkAfK6dFNH0YQCUste11cBdArl9CeoW/GUD2NCJAlSkaQBma+ueZFxpAYTPGUtvvGUDCTXyPAgIZQKxWXpcrHhpAxoDDdLbFGEDn6Oz3HpkYQHD+RvRu7BhAIigIvuhVF0ASzpRQ89MXQOyDhe4RwRZA8MZTR7b3FkA7fRrdQVQVQC01KMkzLBZAPhFHHX2aFkDvCWaUJeQWQOtyPY95AhdAAop2hoQUFkATG+Q9ywwYQCH4t+Vb8hdANC9khirwGEDdFzOYAVkYQBMqT7IDFhpAIH0u95bnGUCgy4P5/+EbQC2IVHt5/RtAcKbD2JOyHUDViLRa8boeQN+/pYCJKR5A01LMyXNdHkCBMQ4PZkUfQF5Xu6ulwyBAqWWOBFVHIECIuJx8w7YgQKhxuQqtpSFAcf+44FSnIUAMSo36T7shQLlQjM3MUyJAo95koFm/IUAur1Bjq2AiQGhXuCoO9iFAZFfyFIOMIkAeuXJ49DwiQL2HyR6DHCJAinci+qCIIkDu5mRHIQgiQFT30R3alyJA6dMjO9Y+IkCmzZH9VDUiQA/Z//kztCFADY2apOWOIUBB8ItaU9ogQGrObOP3RCBAIDc4oLcGIUCAhEnRDqMgQL6h78iAXB9AZi7P59diH0BARFMtdCgfQO6c8XN0xx5A/3kHfjOyHECR9uunt88bQArQ3chqEhpAXvg1XG/ZGEAYEHKB7R8ZQM1UHFeG5RdAqMRFbvD2FEBFf96QFWoUQNviIhEMMhNAfov0oj8eEEBHNu4uRBUOQOK2tLch7wZADpqSmuUIA0Clzd3RVLMBQA==",
          "dtype": "f8"
         },
         "yaxis": "y"
        },
        {
         "hovertemplate": "Sequenz=191<br>t=%{x}<br>v(t)=%{y}<extra></extra>",
         "legendgroup": "191",
         "line": {
          "color": "#636efa",
          "dash": "solid"
         },
         "marker": {
          "symbol": "circle"
         },
         "mode": "lines",
         "name": "191",
         "showlegend": true,
         "type": "scattergl",
         "x": {
          "bdata": "AAABAAIAAwAEAAUABgAHAAgACQAKAAsADAANAA4ADwAQABEAEgATABQAFQAWABcAGAAZABoAGwAcAB0AHgAfACAAIQAiACMAJAAlACYAJwAoACkAKgArACwALQAuAC8AMAAxADIAMwA0ADUANgA3ADgAOQA6ADsAPAA9AD4APwBAAEEAQgBDAEQARQBGAEcASABJAEoASwBMAE0ATgBPAFAAUQBSAFMAVABVAFYAVwBYAFkAWgBbAFwAXQBeAF8AYABhAGIAYwBkAGUAZgBnAGgAaQBqAGsAbABtAG4AbwBwAHEAcgBzAHQAdQB2AHcAeAB5AHoAewB8AH0AfgB/AIAAgQCCAIMAhACFAIYAhwCIAIkAigCLAA==",
          "dtype": "i2"
         },
         "xaxis": "x",
         "y": {
          "bdata": "A3fYWFhEIEBLSJVbTSkhQEQ7Kd+p+CBAAAU+Ytv5IECkhzVcvgkiQP6ae2px1yFALH/5cZ8ZIkDP8ZU1700iQJkOPzTAQCNABHyEfSojI0AzJXI0zPQjQJ/ASha4LCRATMqjEi7NJEAnEQJul3EkQMxa5v8/wyRAC82kwUq1JECSJbUYRUglQCVhBBY72SRASUaMz88WJUDAzlElx9AkQNLy5GccjSVA5OVgvH7IJEBoWFyQNRglQNjf/+sVxSRAQa78HW59JEA29ZlgphYkQKNlCIUldyRAvstV70OzI0Da7oZSKccjQOPTeSN3JSNAp7g9BDljIkCsA4VhtWYiQMWDFNr/GiJAiykj5yr8IEA1Y/OOyEogQFQgOd3ZJSBAa+g0S6aWHkDKn9t6Bk4eQJ35UgNFXB1Airpjj1/2HECXjzzkPygbQGBKG3oxeBlA4kEN39ijGEDQ3CSiugoYQOcLMmGrxBVADYGmC7/mFEAy2zCweaETQE01LryjVBNA2zVDUb7EE0A6a5MhzekSQI0/+r3mgBJAaM/ZZrkqE0AHdocqFmUSQBSF9/rEuxFA0ZjMDk1NEkBhlHHd1dgTQGGUFctP2BNAPafaxSuLFUCqniU8v0sUQH2OM3h5fRVAdI2aP3cGFkCsRIZvw94WQILrp02AsRZAD6nC1sOlGEAIDaiivLIXQCltZs9cHBlAs8gDuKzwGEB95uhMKo8XQGRiQMD/lxhAfoIRRsihF0Aom5MW1OEWQDpE6E5jxRVAitoqGnBJFUB95AEy+ykUQOXjVAfL2hJAmlUe/Pn4EECY3pEjo2QQQOhm3zQFzgxAmiX9XuTRCUB9NfC27mIJQEjrNcay9QZAOAsp4DmhCUCDmDRdRXMHQJgLiS6tNwZA76WQDBmDCEAmjxUkUWUMQKjCC7CzCw1A5x2YZggRDUAOOOJEIm0QQKz66tn7DxBAY58SWXnhEECpecUtuUsQQFXKhCFQXRFAueuIYy7fE0BVx3HVDCAUQOYTZC5rARRAotW8uAQIFEAbweNXwrEUQJh2d4FJZxRAHV6S9dSIFUDIBCw0ge4UQLMmhoYZPBRAyiupyWjkE0DWx5bfO/ATQEyh40kbhBNAst+HzFevE0BKuh+YrNAQQNRBlZYpAxJAa37+uWyND0A1xZINEPwPQHXvHLb3wwxAGF0hbLa+CkDahCPyoEsKQG/1FavE2AhALDXDLng+B0A7e7Ad2GkGQGz1ObOiyAFAu+e5Psr5AUDejRj16mH8P14iijPGpfs/5ijceIoG/D8cTPrEmRH8P+4tnFr7WPU/84go6gHo9j/sKCr+0tb1P+psHXuySPA/RwEb7Cs79D/uGYxdoEPlPyJUCbp7jOY/nshFcaii5j8HNAYjLhjtP3jMBIOA4+o/WQZsbyru5T9am1JewM3rP3rMmP8YP+E/eBWZnt8w3z+zvbIsPGfmP7StiQdDuN8/QfKpoSCZA0CMoi6mZtQHQA==",
          "dtype": "f8"
         },
         "yaxis": "y"
        },
        {
         "hovertemplate": "Sequenz=192<br>t=%{x}<br>v(t)=%{y}<extra></extra>",
         "legendgroup": "192",
         "line": {
          "color": "#EF553B",
          "dash": "solid"
         },
         "marker": {
          "symbol": "circle"
         },
         "mode": "lines",
         "name": "192",
         "showlegend": true,
         "type": "scattergl",
         "x": {
          "bdata": "AAABAAIAAwAEAAUABgAHAAgACQAKAAsADAANAA4ADwAQABEAEgATABQAFQAWABcAGAAZABoAGwAcAB0AHgAfACAAIQAiACMAJAAlACYAJwAoACkAKgArACwALQAuAC8AMAAxADIAMwA0ADUANgA3ADgAOQA6ADsAPAA9AD4APwBAAEEAQgBDAEQARQBGAEcASABJAEoASwBMAE0ATgBPAFAAUQBSAFMAVABVAFYAVwBYAFkAWgBbAFwAXQBeAF8AYABhAGIAYwBkAGUAZgBnAGgAaQBqAGsAbABtAG4AbwBwAHEAcgBzAHQAdQB2AHcAeAB5AHoAewB8AH0AfgB/AIAAgQCCAIMAhACFAIYAhwCIAIkAigCLAA==",
          "dtype": "i2"
         },
         "xaxis": "x",
         "y": {
          "bdata": "YP8Lour9E0CkTzn8eL8VQFAPEPnT+xVAKOAWBhrBF0CXJZLpQ7AXQJXZP4LEyhdA4F9GcZWhGUAoluogYLQaQApyR8cPIBtAkWEGBB4lHECQDwMEcJgdQPx5XNCiRR5AWgnag4fVHUAJzTd9qsMeQEaQBI+59x5AFuI53smtIEDfXAkvoJogQDBHg3E52CBAKa5+KqZjIUDrooE/db0hQD1+SvyqzSFAVtIKFhQPIkAz16/YmjEiQD3pTCdtVSJA+ZR99XISIkC/+Z7DfqoiQOYCuYagUCJAwuMTZ/JcIkBqp8FIZQwiQNObwrcTjiJASJcGLfOCIkD6o0pTzXoiQMiA4f/73CFAQI3+/DgxIkA3dfgFQ9YhQDLsunxqYCFA29zyl5k5IUD1nCtVZXYhQIEGLJTEyCBAJ7ZpnFZ7IECdthj0sHcgQFEHiAZ6Px9A+4rGvce1HkAuZpXUCf0bQBUqbcR2XxxAGcdykDCbG0A2DjHKtZ8aQND2TbwjuhdA63G2hKZCGEArkxbclZsXQFPdBksHYxZAcFtYIbTpFUDRsl2xMp0UQLBi/GYV3BRAx5CDt5lpE0AMBnip8qQUQM7tA51SyRNAhuee6oN0FUAIY9AlEzQVQFX1oM72fhZAZxEOKXPsF0CPt0gpAAAZQN4eEMfv4BdAu50jOVNAGkChdXISJsIYQESpipa6JxpAtBBP7Y8tG0BYnXSaK2kbQONM2PTRZBpALjlr2I+mG0BSv4UZuNkaQL92/xDyExtAffnPXDJNGkAJz5ZeQSMaQBRDDF1J8hdAmZyRDuw+F0BlrKJUXIsWQHe9L4QRYhdAhM6ZFhRiFUBGY2gq/cAWQGJsdsBjehVAM8CYiS5MFUBHgOOibycWQBXbKZOxwRRAElVTTuwZFkBpWzwsBfQVQOxpfqNeJBZAyQFBZ+jyFkAadtAiZQoXQDzhgYz/UhZAVp0sPV5wF0B0hauiA+oXQFXo8zyFuRhAo7uzo55gGUAGGoR5fE0ZQEO4KWGCMRlAsqWV5ENHGUAsE6TJgzUZQBE7XJuExxpAly/BbYpxGUBQBcVQg+UZQC+aGdi5LhpAbMFabl6WGUDzdeCIdgUZQE5fcF03chlAGvmYr9ymGUBs3y645s4ZQFfZ9ew5/xhAJI6R1sIYGEBSt6xGB4AZQJQNfCtnZBlANdMerMCjGEA80rKUc+YYQFVLE9yvtBdAJUy+c3TnGEC5hBtbNtwXQLjahV2m1RdAuCQtQNGZF0Cz2nfshjQXQFEhNZakXhhAa3IVSIRWF0BatrhJI4EXQH/Yl6Z0AhZAitvmEr7BF0D6bthLni0WQFHhf2/cShdAWu0JV5QFF0BHi4b9580WQOqdeBXLFhdAAjJvI+n8FUA60B1PVTEVQAiZM4yswRVAblhtDnYAFkAWgFS84RgVQFXHzT3INBRAs8/gCw0dE0ALEER8IwsSQIlWfok/2hFAwemy5/a3DECYLOtM7pMIQA==",
          "dtype": "f8"
         },
         "yaxis": "y"
        },
        {
         "hovertemplate": "Sequenz=193<br>t=%{x}<br>v(t)=%{y}<extra></extra>",
         "legendgroup": "193",
         "line": {
          "color": "#00cc96",
          "dash": "solid"
         },
         "marker": {
          "symbol": "circle"
         },
         "mode": "lines",
         "name": "193",
         "showlegend": true,
         "type": "scattergl",
         "x": {
          "bdata": "AAABAAIAAwAEAAUABgAHAAgACQAKAAsADAANAA4ADwAQABEAEgATABQAFQAWABcAGAAZABoAGwAcAB0AHgAfACAAIQAiACMAJAAlACYAJwAoACkAKgArACwALQAuAC8AMAAxADIAMwA0ADUANgA3ADgAOQA6ADsAPAA9AD4APwBAAEEAQgBDAEQARQBGAEcASABJAEoASwBMAE0ATgBPAFAAUQBSAFMAVABVAFYAVwBYAFkAWgBbAFwAXQBeAF8AYABhAGIAYwBkAGUAZgBnAGgAaQBqAGsAbABtAG4AbwBwAHEAcgBzAHQAdQB2AHcAeAB5AHoAewB8AH0AfgB/AIAAgQCCAIMAhACFAIYAhwCIAIkAigCLAA==",
          "dtype": "i2"
         },
         "xaxis": "x",
         "y": {
          "bdata": "BGgMpI66I0DjGYJP5ksjQP1eB5PNCyRAwYwJrtjII0C522M9VBQkQLrfpIHqCyVArffFdsZ/JEDqk3IUOgklQLYs7ALZpiRAiLR2B1yZJUBy0bo/3fgkQOoqCqrFuSVAqtfqkN2YJUDs0MA+oVUlQFLRXKBiISZAMWNmwmLaJUDhoFZPM2IlQBvF5vx1fSVAYC3e4vkiJkAxszDbfzomQHXvTlGbHCZAs029rP1ZJUDWiA4IjtAlQA7mBOMqPCVAIddryY5MJUD9gOTH8wYkQMRL5eatoiNALDgURPQnI0A7q2WF7vsiQKZzM3CPtCFA+25dHjE9IUD9p+V10JEgQJbXALFILSFAY5NYURwVIEB43AobsRMeQAl2sLu8FB5A9lh76CBXG0BMM/3hyzkaQM5nVqymLRhAwJWCUXs2FUCXsK8f+7gUQJOc7R8SvhNA5N7o6cBsEED5qnkbr6kQQNp2VpEGpA1AA8tdstupDED4hiA0kpcIQGnTuv9PnAdAShvmDbm8BkCMk4//xngIQKtTVLt6nAhAzrlJkBf6B0CgjC821GsLQJJUANPQAQxAKErScCnED0BPB+4AOE4RQE4T4Z359hFAOHh2WjVsEUCOe3zC/lIUQOijmurjzBRA15nemytVFUAZDzlx6p4WQL+QHOxfjhhADzY5qFhOGkDsdPPZ73YaQN2C0FaaKxtAkPY8RfLNG0CkS9Tqn4ocQNx91J3xwh5Ahxew7rs3HkDPHhweVPYdQLFo/uXoIB9AXGKgTfY1HUA1GBTkPzkdQO6Wcm64LR5Awihx/R8UHECKADOImU8cQDgE5VY1lxpAR85WuIRQGkA88qI2cpgaQMY/L1K9fBpAku2Nt9PLGUCy4JQ43vIYQFcnxJvhHxlAQxge8PLlGUB7hikMRpUZQFDtjQmNaRpApdx3vjxAGkAft6MM4skZQM6EibpI0hpA0DsmGlYfHEBUoil8kbQcQLRRohoj+BtAW9wmpbFmHUBhtPCT/IscQGXPHwnnVB5AWWE/sOplHkCg7uZ58CIeQK5f71sK9R5AseQskAY5HkCsALGGbMcdQLr8toYGLh5AaIWw4vllHUBtN4jjrtgdQAkpA7WvVx5AvWt8V8y5HUAxPmO0zHsbQLUd4vHCaxtAsXMf/cecG0C8E2AerT4bQF/N3yZrOhlAhJeH7xP0GEAdp5UyWCMZQIRXWRzeMxhAZQA/VURgF0C0s8lqr14XQCAV3smINBZAllNOni/mFkBrT50t2dMVQLyHMThPCxRAELaT3BXuE0BHhaxSYDMUQGqWugarSxNAi3uSHZsfEkBOwUnYDEETQPDQ88AFJRFArtwEa2uQEECjGCwcCMkQQPsRNMAXiA9AXRKx0Dk5DkCuHV0HOpwOQApi6UbHdwtAoujXZMI8CkDc66H6wgIJQFpyCDdESgtAFAis/IUaCUCbA+Cj5DQIQBmUFNCZ8gJArXyD5pICAkBNTKd7IlYAQA==",
          "dtype": "f8"
         },
         "yaxis": "y"
        },
        {
         "hovertemplate": "Sequenz=194<br>t=%{x}<br>v(t)=%{y}<extra></extra>",
         "legendgroup": "194",
         "line": {
          "color": "#ab63fa",
          "dash": "solid"
         },
         "marker": {
          "symbol": "circle"
         },
         "mode": "lines",
         "name": "194",
         "showlegend": true,
         "type": "scattergl",
         "x": {
          "bdata": "AAABAAIAAwAEAAUABgAHAAgACQAKAAsADAANAA4ADwAQABEAEgATABQAFQAWABcAGAAZABoAGwAcAB0AHgAfACAAIQAiACMAJAAlACYAJwAoACkAKgArACwALQAuAC8AMAAxADIAMwA0ADUANgA3ADgAOQA6ADsAPAA9AD4APwBAAEEAQgBDAEQARQBGAEcASABJAEoASwBMAE0ATgBPAFAAUQBSAFMAVABVAFYAVwBYAFkAWgBbAFwAXQBeAF8AYABhAGIAYwBkAGUAZgBnAGgAaQBqAGsAbABtAG4AbwBwAHEAcgBzAHQAdQB2AHcAeAB5AHoAewB8AH0AfgB/AIAAgQCCAIMAhACFAIYAhwCIAIkAigCLAA==",
          "dtype": "i2"
         },
         "xaxis": "x",
         "y": {
          "bdata": "4Ph3qrIKBUBYh/6mP38UQHVyRIRsdRZAvjuvD+SRGECqcA3OkEkbQI8lSIRFdR1AGjCCDsl/H0D2KjikywshQB/1CPqJ1iFApBSjl/UdIkAGKh+r6NEiQKWwYSxB7CJAzlKgZQi8I0Ajk3Qml4QjQIHqPMFLQSRAHMrl83P4I0BtgJSsbTwkQPZbN8eXkCRAlhhv0hyFJEDK4h6AqqokQHl8Ho9ctSNAkNvZto0tJEB8hI2EJgckQMLLhJTUECNAFtWVMKwZI0AkZzCIlLMiQKonowRTeCJAFiiqhNd2IkB5iJTD8qghQDHOecNY8CFAIMGkd0OzIECRBg1RLbggQL7FOobN1B9AkRc6eyNHH0BMAPCSexcfQAmV8/aCWBxAn+vQMmoxHEB63SY9smwZQFjKgsVX3RdAbbw3ceeAFkBlOo9+RScSQHDrDUkehg5AMKNq+pnCB0Dg1/+XlVUHQHmXvgLEYf4/1hvRswwS9T9y+JZMKvzePxT18xF3Jto/ToIVMa659j/yGPwatz/0P+bZcD6D4fU/NZv7LWbq8j9887pDkSX0P4hZj5rod/I/stPV2IFe+D/WJ1WJDx/1P6+24EpYAv8/4yD1rLbn/j/QpdY4R+ACQL6Cgao1bAJACnxccTacBUCGVwehnd0DQFh8nXtOCQhANjv30GZPCEB9MKnxKrwIQOyGMT823wtAtrH1HXkSCUBiJyGd+EUMQI2S1NvIBAxA/lzteyM9CUDsGjO3jSQIQNKPRQyFcAZAQGKQ2lPHBEA5pWi2t8cEQFJrAEiMJwJAypXlf6UOAkCbWJSDABcAQCD/fMzx/Ps//exBeqBr/D/AfgePXgD9P0FM0xU0aPc/bxUIa3Om/T8oS0UfnJv4P5Kv/HEESPo/m8fgPmjn/T91YhVu8fP8PzwDoE1nAQBAb0q0A1Is/j8YORnDtO8BQOk+jms9RAFAtYoj67h7AkAEgbmTXKMDQNja4faT+wRA67wn7vLxAkCDkacsIC8CQOhI4XSqnQRAcPVHzI6hAUA3cOYDwjYBQAJscWdnlwFAdIZi/Bf5+T++inC8jjr6P0pRwZMHIvs/MeuYlZBp9z+5MfnnP8j3P9XgrMhbIPE/osPPajh47D/MpFe/Wv3nP8qTfumB6O8/2ZKy1Rp68j/o510OfvrnP6r0eDYKxPI/28v8LZBb6D8NhB+1em3vP56KUelynOg/TG397ZGI7D8wnWp0vjvtP6Ad460uFvE/cWy8h/Rg7z/gbmQyMPvdP2QvjfZ8suY/9MP6DF1m7j9MFdqg+yfnP46rlAK72eM/yIKQwyKz5T8FxmQojXHoP3avmXZ4JO8/GJDTec3L5j/U+IZnx1jnP3pkxkGsQeQ/uGrxYvBx6z9u3eGqPnjpP1ZGTuw95es/Pi28585X5j9+g6Qnb5HtPzAOQbnRzeQ/QasfXD7j4T+el9bDqKnPP/BbjFzng+c/hCIr1DSz5D/TOKOEP/zfPw==",
          "dtype": "f8"
         },
         "yaxis": "y"
        },
        {
         "hovertemplate": "Sequenz=195<br>t=%{x}<br>v(t)=%{y}<extra></extra>",
         "legendgroup": "195",
         "line": {
          "color": "#FFA15A",
          "dash": "solid"
         },
         "marker": {
          "symbol": "circle"
         },
         "mode": "lines",
         "name": "195",
         "showlegend": true,
         "type": "scattergl",
         "x": {
          "bdata": "AAABAAIAAwAEAAUABgAHAAgACQAKAAsADAANAA4ADwAQABEAEgATABQAFQAWABcAGAAZABoAGwAcAB0AHgAfACAAIQAiACMAJAAlACYAJwAoACkAKgArACwALQAuAC8AMAAxADIAMwA0ADUANgA3ADgAOQA6ADsAPAA9AD4APwBAAEEAQgBDAEQARQBGAEcASABJAEoASwBMAE0ATgBPAFAAUQBSAFMAVABVAFYAVwBYAFkAWgBbAFwAXQBeAF8AYABhAGIAYwBkAGUAZgBnAGgAaQBqAGsAbABtAG4AbwBwAHEAcgBzAHQAdQB2AHcAeAB5AHoAewB8AH0AfgB/AIAAgQCCAIMAhACFAIYAhwCIAIkAigCLAA==",
          "dtype": "i2"
         },
         "xaxis": "x",
         "y": {
          "bdata": "b0Bo9hrQBEDxI3aU5pQJQMB/5CfDRQxAx2bgjeQUDkB1Emj+d6INQOSSUOVyYxFArRNhfKhKEkCysS2n5qISQNaQ1+OY2RNAP2EU7pFoFUBycda18dcUQI2Ax3GoFRVAcYuz4z9DFkBvPl10l7wVQMgLHdQeExVALsDl+kclF0CPQNsqt0AXQPQPsHVxEhdArWDa6c0tF0AbRYN0eiAXQCyMPLs+IxdA8Z6hiBB0FUD5eQw0KJ0VQA894mOywRZAYH/i9hrHFkDE19e4fDQWQHOW7b7KNhZAgNWa5mTvFEAbJzkjPVgTQEayFQZbCBRA5/kBUe6OFECpvY4eA1gTQCmfiF5nfhJAd5bGufxAEEDLBpw2VF4OQBnnxMghdQtA/GsNaQsDDEDhsgUhXWEKQHLZT7SMLAVA66FU55F0A0CRDtfBgW0CQJ5LEENizf4/fLyKcNpc+z9OxqAmmMf1PzV8JtprYPg/GJ13/8L56j9KYfwx3V/wPzyotamHavM/KoaXT9Tp8z/8ZLsBiKH0PyjEV/qw1+I/SZmILqgn8D8PDE5apHD6PxceZFpFK/I/mSXhYIXR9D9xjF/BrCTwP3MOqZi67/g/rKo9YbT7/z/qP60mMR38P5JG5id63vk/6i0Yv9m9AEBhw1cfLJUAQNiMDeCzGAVADVI2T/EZCUBnzkqOproMQAVzm41G+wxA9atKEg+4EEBPFXgSOy0PQCcSoTIVSBFAc7Or9/zJEUBejr53+CsSQCv07TlRhhFAVHsQ4NW8EUAkVNW3UuURQN+UOsJ+rRNA9OTu2OIDFEB0Sutj9TIUQFgco1TazhNAFqhd+nyuE0CCjosGbwAUQN8j8CK0tBRAwDGXL3vTFECLUjY68hYVQFBPCEaa9xRAtm900LfvFUAqWz7a41sWQAoztBtjcxZAfw7YhxrTFUDc+ngQA4kVQM1oii040xVALH//JdYHF0AUHtSpbdoWQMpEFA+jqhZAYA51g/agFkAt/x8XdIsWQGsEF8w2UBZAJk5OKanbFUCP3R1Tq5QVQBZOIo7dshZABq1/bDG2FkDXrGILIeoWQG4Q0CaJMxZALr+aq5ceFkAxbB4DbswWQBKSL5S6eBVA72hFaoLJFUDgVmjtafcVQKEJOVXeQRVAemtDfemrFEC2WG7MfP8TQCX8R4eRahRAsLWGWrCFE0CnDmBqtl8TQLXYsQmq7hNA2N8/gZhwEkBdh2dEtEESQPHmSaYUSxNAXuxAceb6EUCk+A3YZG8RQBos4/2qoRFAu/tpQriVEUDK9GYvCY8RQGXPBcjI8xFAvndBeVgqEEC+9AtarFIRQPUJTTBDtxBAQ5NOkztNDkClvfTWzE4QQDj5NtQ2Aw5A99J6YuxDDUAdRNHSxbINQAaTjxlKWg9AvRLTvBX2DEC6Khwq4U0OQLeQM3+zZg1AVeqjd7MLDECwOzz05BwLQKGSIhw8dApApbxE5ZVYC0BkkM+xCwQKQA==",
          "dtype": "f8"
         },
         "yaxis": "y"
        },
        {
         "hovertemplate": "Sequenz=196<br>t=%{x}<br>v(t)=%{y}<extra></extra>",
         "legendgroup": "196",
         "line": {
          "color": "#19d3f3",
          "dash": "solid"
         },
         "marker": {
          "symbol": "circle"
         },
         "mode": "lines",
         "name": "196",
         "showlegend": true,
         "type": "scattergl",
         "x": {
          "bdata": "AAABAAIAAwAEAAUABgAHAAgACQAKAAsADAANAA4ADwAQABEAEgATABQAFQAWABcAGAAZABoAGwAcAB0AHgAfACAAIQAiACMAJAAlACYAJwAoACkAKgArACwALQAuAC8AMAAxADIAMwA0ADUANgA3ADgAOQA6ADsAPAA9AD4APwBAAEEAQgBDAEQARQBGAEcASABJAEoASwBMAE0ATgBPAFAAUQBSAFMAVABVAFYAVwBYAFkAWgBbAFwAXQBeAF8AYABhAGIAYwBkAGUAZgBnAGgAaQBqAGsAbABtAG4AbwBwAHEAcgBzAHQAdQB2AHcAeAB5AHoAewB8AH0AfgB/AIAAgQCCAIMAhACFAIYAhwCIAIkAigCLAA==",
          "dtype": "i2"
         },
         "xaxis": "x",
         "y": {
          "bdata": "Iu6IROYhDkDU3dHTPUISQPlMrDQk0RNAS6C2bjk9E0B0KlCD0CkTQMHHZe7+7BJACfQCz9BAFEDoJQqc2nwUQHZFUU5zJhRA8tJy9ggBFEAstKIiJpMTQAxtbvrIfhNADvTTxkI2E0C+tzh6SfYTQKwVUlCFuBRAI+Ii1qZiFEBPXX/OtI0TQMBHrRdDzhRAVNW3K79oFUB4pfmv3p8VQGZa+/giQBVA8QgI0RhmFEAxWdaQqrMVQOxqCW1cEhZAHhApw7iQFkDENvJ0VsgVQNaJXyb3MBZAWlS0bXLQFUB1xRNid6kUQHR6lB2tYxRAmf4Za1gBFUADaJ6fUI8VQNNq9DhtCRVABPC4SwMXFUBc1hQgW5EUQLQUtGn/5BRAsd0fUprzE0DvSOwSg1MTQO5GOVAh5xJAh2c7j/MOE0AwxxweZS0SQJv1Jfa4+xBAh/eLK8+4EUAVguBQGuAQQKsie9J7uhFAG263wKBqD0Da8Br3E3MPQBsiPdnbxQ9AaR+tQEb0DkAUAdI7yxEPQA7WHGM3Xg1AIcCpUIhYDkAl8wP30qwPQJyC7y3hmw9AiNYUyBm2DUD0/PiWT/IPQI4pWKQssw9A2QSwd4JJD0CRj8oDxSEPQBVEsJdsYRBA3sYroCutEECndJb/FUURQDCTvbrg6w9AsBHdlJOQEEDgZ7GOmHMQQANsdsHKgw9AGx46E63ZD0DoMrXlj5oQQGs7xPW3rw5AVA7dzBthEECo6Ps8850QQBH8ihyvBQ5AlmpBQ/P3D0AAkPkWuGUQQHgGu4IMMhBApw9moX4PDkCq0Ol9fRgPQBpM2IzAKRBA7CAK2tcjEEANHvZpNJcQQDuz+ZsWVRBAPOFrH9hFEEARbPrhFfoRQLOs8lm6OxFAWjAIapfiEUBZlul1ikcSQGIeRDJnWxNAtZZPDLcbE0AVCMdKJQIUQOZUw3pZbRRAVV18A7noE0BB+eMLxNgTQBpXAvvARBRAmSUsOx0YFUCxylVeqn0UQIda75/TAxRA7T+RC5ypFEAze4RxKkEUQCLglyLNfhVA49Ho7vRaFEBujXFI78wVQFwATuIBIhVAmNM8SxghFEAZJ81ycz8UQP/rlT4wnRRAZ8rsz6r+FEBl4oQkBRAVQEtnF1DXAhZAG6gPmUK6FUAm44Fwlt4VQGJZkcft/xRAt15WMVARFkBEeKTEwn4VQPcmLnzySRVAgFn867y3FEA/qvuxvvcUQP8um57QWxRASrqHwHb1FUDr4cD93ccUQODHqPQjBRVA56C86RMRFkAUNjz7EoQVQKPHbOvunhRASJfewqzIFUAxKOMG2sQUQK2lRfjVdhVAdSXUcYgtFUCFJ0dHkMEUQPpJKjZeohVA6B2z06AmFkBMqyIo7H8VQNopfAL/bhVANcNSmDnQFUAjHl8rsPEVQHvpD5rZxhVASCPN2T5sFUBd5fVyrtMVQOiWNESxVhVAs2Aw7TfME0Be0aYtm9kTQA==",
          "dtype": "f8"
         },
         "yaxis": "y"
        },
        {
         "hovertemplate": "Sequenz=197<br>t=%{x}<br>v(t)=%{y}<extra></extra>",
         "legendgroup": "197",
         "line": {
          "color": "#FF6692",
          "dash": "solid"
         },
         "marker": {
          "symbol": "circle"
         },
         "mode": "lines",
         "name": "197",
         "showlegend": true,
         "type": "scattergl",
         "x": {
          "bdata": "AAABAAIAAwAEAAUABgAHAAgACQAKAAsADAANAA4ADwAQABEAEgATABQAFQAWABcAGAAZABoAGwAcAB0AHgAfACAAIQAiACMAJAAlACYAJwAoACkAKgArACwALQAuAC8AMAAxADIAMwA0ADUANgA3ADgAOQA6ADsAPAA9AD4APwBAAEEAQgBDAEQARQBGAEcASABJAEoASwBMAE0ATgBPAFAAUQBSAFMAVABVAFYAVwBYAFkAWgBbAFwAXQBeAF8AYABhAGIAYwBkAGUAZgBnAGgAaQBqAGsAbABtAG4AbwBwAHEAcgBzAHQAdQB2AHcAeAB5AHoAewB8AH0AfgB/AIAAgQCCAIMAhACFAIYAhwCIAIkAigCLAA==",
          "dtype": "i2"
         },
         "xaxis": "x",
         "y": {
          "bdata": "1s8oMICKIkDMmLQ6W9khQPtkL03xXSFAZ7oVyzuOIUAMT0GtXz4iQGdbrHMeASJAitla8aszIkDOX5vSHR8jQECFyVsdRyNAjBKFKWNiI0CdHeuk0+QiQG2Ua1NOiyNA3iu/tV6YI0DbqF3u5JojQDBW1U0O/CNAIkOF8yEaJEAkrUsXQdQjQDPwy8uSIyRApB8LmyKiJEDzISeC1lEkQNirnq2kkyRAlFI0upI5JED6X3e39asjQKrJ8otDBiRAfJmoV1DnI0BAvUQ/rbIkQKm53L+/XSRAjuMuoEj5I0AVMN1qhGEjQB5phmn8BSRAR74/OlflIkByJwWzx54iQHHGBcc+yiJAgaRHLR0oIkDqkEHgcuohQPCOIqPI/yFAon53PyguIUB9MhLh9Q4hQEuwGPGTFCBArp2lmZDOHkCUMw33/+0eQFS3V7PQIx1A8QAR/9KFGkD3o8ifNrIaQK6xru6GTRhA/D6oYUAgF0B9a920DtAVQGiUfxtawhVAXtpGbckUE0Cjgfk1uP4RQA5W5CMKxhFAvpbD6SIxEUCd7KXpy18QQHjoANEYTQ5Ab+ecfPAJEECHaj5wO50SQDN8If+L0xNAWbYi0/HSFEBWxBsglGwWQB9VaymwABhAYrbdqF8tGEDb1jOyD6oZQFV7HWJ03RlAy61NKkE2G0DYPB36eP8bQIOgEhd+gB5AxCd+YWVgH0AVUocXjJogQBympLpixiBA/YBN0Qn3IEA0CME4IYEgQFi0EcjqBCFA2kkX0Zu6IEBkYstGLk0hQGT6xJrsUCFA+mPhsNUiIUCm1/lTEm4gQOujPXRcJCBAQ4cdRqebH0C57howbSIfQERtAs21gB9A3IBM/y6PHkBv3GTXLzEeQMa8YyPTWh9AAxRgbNFEIEDUxKQ+RNIeQIkEuck8LiBAa5tIyNsxIECl+s3/CZIgQHP1Z3kQJyFARbQfX4evIEDMMfZ2C38hQHXU4+1k3CFAeuzQEW5UIkBDF8l21nkiQMJv5+n5dSJAas/vaGEnI0DJGtRsbWQjQKFzxKBrOSRAtM4V8wYqJEA9EfEWxUwlQO+vYBGejSVAbHCsWY9aJUCqsG5uIpMlQHHbFrGnCiZAJbiONLWnJUCuCz1EQbAmQH9lj4CuMiZA3k9LjB6cJkC5A5tSm0EmQPkq4PYRZSZAYCTYYwkyJkD872f6v1gmQFh7EXxOjSVATOI3bLxhJUAYCuNpmYUlQJpjTNFtkSVAg84qHSLeJEBBaIfLsuokQJQBX9FF2iNAIT2l+whkI0Aj5GylbAEjQEGlOZCOwiJAPTiZ8GfiIUCcYNTxIMwhQKucE0ldeSFA9NJLzFAfIEAxtER1z7IeQMLOlwryzh1AhjFV9jvKHEA9FkJTvF8aQLTQOGyOphlAC0r2uxazF0D3Vozh/bcVQJDEoFXWGBNAVEZ1C8EvEUDiR13k2t8NQEurP2lStwdAEylCEZmvAkD0p8fDcvUAQA==",
          "dtype": "f8"
         },
         "yaxis": "y"
        },
        {
         "hovertemplate": "Sequenz=198<br>t=%{x}<br>v(t)=%{y}<extra></extra>",
         "legendgroup": "198",
         "line": {
          "color": "#B6E880",
          "dash": "solid"
         },
         "marker": {
          "symbol": "circle"
         },
         "mode": "lines",
         "name": "198",
         "showlegend": true,
         "type": "scattergl",
         "x": {
          "bdata": "AAABAAIAAwAEAAUABgAHAAgACQAKAAsADAANAA4ADwAQABEAEgATABQAFQAWABcAGAAZABoAGwAcAB0AHgAfACAAIQAiACMAJAAlACYAJwAoACkAKgArACwALQAuAC8AMAAxADIAMwA0ADUANgA3ADgAOQA6ADsAPAA9AD4APwBAAEEAQgBDAEQARQBGAEcASABJAEoASwBMAE0ATgBPAFAAUQBSAFMAVABVAFYAVwBYAFkAWgBbAFwAXQBeAF8AYABhAGIAYwBkAGUAZgBnAGgAaQBqAGsAbABtAG4AbwBwAHEAcgBzAHQAdQB2AHcAeAB5AHoAewB8AH0AfgB/AIAAgQCCAIMAhACFAIYAhwCIAIkAigCLAA==",
          "dtype": "i2"
         },
         "xaxis": "x",
         "y": {
          "bdata": "EvhyPtmGB0DppnKu4XwKQLs7ktBd1wxA/+vJMA0GDkBoPG1dW8ULQO276CTqoQ1AMLszsw0YEUCDVuAkEmIRQDN3he4SihFANy52iGMXEkAlMYqfMVITQCKvPv29pxNAKOTWhvoJFEB1KQMC/8sUQP1xrProuhZAKdEkYxqKFUAAYkhcGCwWQHx0Wczj0xZASoxFs8w7GECyY/ju4F0XQHF6jVYCixlAlwYVyhh+GUC9fJlf1gAaQMhedVIWoBlAIttWO2GqGkBw1fbpxpgZQIoa5ETCiRpADKYDhkN2GUBQpPUm9FsbQPtgQIybnhpA6qTbBIhTGUB+gYUT+PwYQF6+CVu6JxlArh8Ni6u5GUAWXHsOzDAZQJjQn8IgqRdAwq5B704qGEB9y854PIsYQKeXqWT98xZAvnVqdJG2FkDuKaRAkD8WQNqKti0bLRZAnKTBGBu9FkB+9R11P70VQC4GGk03whZA++QoseOCFUCUB4egfFkVQLVx+lKbJBhAZsi/RWDKF0A7Rc/ZKSsZQFtCNsOJXhlAlqlCdCcnGUCRcRwIdiYbQAzw2OXAvRlAMYROoULFGUAxytxGIdsaQPUSF59V9BpA4xqLb+gwHEAnqxFgjYMbQBzhM6o/Mh1A0ZeId+pxHkDhkluyv5IeQG6wZwkeGSBAEgRpB78SIEB7/XQJSUogQDmfN9J4ryBAYAO9N9UUIEDmBVwaU/QgQF4OMl+x1CBAHxr1w4EuIEDJ6iQpW9AgQDzzr7zZZiBAOsLpV2CmIEBCHUCaqvwfQAfY24xqEyBAEtZBNWk+IEBcO+Ye8m4eQD/QRXI6wB5AI10/qnz1HkAYTY7feS0fQGqv+9nzUx5AEYS36dKhHUC/WDUKwYcfQGBC7kymFh9AC/jpy6yUH0CqwpCr1zQgQBxWQ0oRKR9Afo/oVlRnIEDYX1ZzUTsgQIm0dx4kbyBA3HFGhWD4IEAawwO1sfUgQKA9G2nOlCFAEPUPq4e7IUDy5swUlYEiQNCP9nTdOSJAfd/4ZGH3IkCxerZ8SC0jQKXMgdNrSiNA2f9M0YdPJEDVfWBZMYAkQM3vCqMuIiRAh+AX0YFmJECfr/0cq7ckQN0VgVTFQCRA5tgq5K3PJEAxsEJhjOokQCqnalzCDSVAu7BvjcYFJUC2YtFa478kQGjpVyurPiRAvdmqZW3WJEAKEblJL54kQFzaYcn1mCRAL9HRZYylI0DI2MkL3yQkQIF1+eLnAyRAve8SotN2I0DDxAbXOSIjQBM5cQ50rSNAaxotM2dPI0BJ+TwYDzEjQC6ppXUDIiNAGkDzCnymIkCw09057eshQAI/6HSt3iFAEeChJgTHIUBZ6E0ssJghQIqKjcZXXiFAqj3p4WRaIUCfMDhm0dwgQFwf2ubtbyBACYYw/tuDIEDMro7AZ3MfQOr+zykutB1A0pI8IuBkHUAKQy0a+oscQFVCGnDvWB1APrYHzVIUG0Ceaq+xqgYaQA==",
          "dtype": "f8"
         },
         "yaxis": "y"
        },
        {
         "hovertemplate": "Sequenz=199<br>t=%{x}<br>v(t)=%{y}<extra></extra>",
         "legendgroup": "199",
         "line": {
          "color": "#FF97FF",
          "dash": "solid"
         },
         "marker": {
          "symbol": "circle"
         },
         "mode": "lines",
         "name": "199",
         "showlegend": true,
         "type": "scattergl",
         "x": {
          "bdata": "AAABAAIAAwAEAAUABgAHAAgACQAKAAsADAANAA4ADwAQABEAEgATABQAFQAWABcAGAAZABoAGwAcAB0AHgAfACAAIQAiACMAJAAlACYAJwAoACkAKgArACwALQAuAC8AMAAxADIAMwA0ADUANgA3ADgAOQA6ADsAPAA9AD4APwBAAEEAQgBDAEQARQBGAEcASABJAEoASwBMAE0ATgBPAFAAUQBSAFMAVABVAFYAVwBYAFkAWgBbAFwAXQBeAF8AYABhAGIAYwBkAGUAZgBnAGgAaQBqAGsAbABtAG4AbwBwAHEAcgBzAHQAdQB2AHcAeAB5AHoAewB8AH0AfgB/AIAAgQCCAIMAhACFAIYAhwCIAIkAigCLAA==",
          "dtype": "i2"
         },
         "xaxis": "x",
         "y": {
          "bdata": "DTrZe+5fIEB5iTkUHYchQNl5R9azgSFAEeAMYShNIUCiTwu69NchQCv2qYsTfyJAKdJtc69JIkDta8EcWesiQCwBwfkz8SJA1DQATwGdI0BY0jTxDZYjQBEAW+yI5yNAsaO/nIICJUCrKUH3zegkQIKUYqgTkiVAUZvX7gwMJUAFG+WiDgYmQNUf4U9bniVA7rBncEQJJkDtDttnTdUlQOMDWl2MxyVAJa6dlEpqJUD1M8G18CslQH8q2OkfjiVAgythg4LJJUAwpV1beJ8lQOwaAxxSAyZAjfhOYKEzJUAofVRS6J0kQBa5j+qNFiRAB9zeMvhTJEDoJRMyVUIkQEVIrt3JMSNAYzbkb//RIkDq1Vgi/SciQBVlhSecVyJAv2rlowpDIUDCG7k58zMhQDPmM+RlpyBAPl9aV1FuH0DKV8DVfRMeQN1yZn4HVBtAOg8Qr3HEGUC8pO/Ww94YQA6JDKEQkRdAS7tVbq1QFkBblGoQjpsVQPZQhC4m0xRAGdRDXn2DE0BDslZBz0gTQEL1ogRlgBFAp8VQmaWbEUDPO4t/ENgTQJKj1BbMThRAmLSA5YRqFECaZDWMvjwVQIHjN2ZnkBZACYDNasjSFkBl65mNCdkXQAk602nnqxlAd+xaKuryGUAlc04oKe8bQJfB1C4GzRtAKPuz/EeHHEBP4cidqEMdQA4AXig4Zh5AQIUNr1l0IEBBRLXeB/EgQGN2ZHtisyBAQ0fddWsRIUCKRvnzxnogQFLvfuMHQSBA5o7lP1vIIEDXkZgHKsUgQDiTg7NzHR9A2t1uDWN5H0DEeXm7yiceQE+xo0DA2xxAOLEW9jWsGkBIhZ8VjoEZQFTezH0/ohhA4rO27niUGEBc5zoids8XQMEvknvOiBZAk4ngtnyoFUAY6L+VPy4UQPuTfi6gzhNAb4OCCSzKFEC1+iWvhYsUQGNw13yhsxRA1fIOhVCJFEAuuU5Fp34VQCz9GE98aBRAiVTacwYxFECvCWM3GoQUQDMgVK8AcxVAJI68MyRqFUCe3YpUILIVQDi83PBV2xVADGKxAORzFEAJAtVOb04UQDUBWhB3dBRAYWMG4gZwE0ASohtB2uASQOGTnDwXKxJAFomBYxUCE0A8ddJ3YusQQKa0JwP+shBA6tlADDEqD0DHcd/PABoNQNOtjyWSOAxAeSMTySPlCUCfG8j43eIHQFVkfdJACAZA1iD9JR+rBkBYbwsEFysBQPTZEybjwwFAoQDrR9NjAUA6oIlUARf/P+yFWBM4D/k/4FVwA14b+T8JJGfu1Df3P8TNSGGvo/Q/gPzIMZni8z+1GCb0ICD0P6yCGyMAXvQ/5B0SxvXI6z+orvKzaTLuP6MCgyr7yOc/xuwHnKGs7D+k9k2dbDXwP8ARFfADy+Q/Yk2bu4lz8D/fNDC3hczuP2SgVgqpzeQ/cT2jIAsd7T8AQduYFoXrP1NiCe10heM/V0m1rpYA1z80y5dPGDkAQA==",
          "dtype": "f8"
         },
         "yaxis": "y"
        },
        {
         "hovertemplate": "Sequenz=200<br>t=%{x}<br>v(t)=%{y}<extra></extra>",
         "legendgroup": "200",
         "line": {
          "color": "#FECB52",
          "dash": "solid"
         },
         "marker": {
          "symbol": "circle"
         },
         "mode": "lines",
         "name": "200",
         "showlegend": true,
         "type": "scattergl",
         "x": {
          "bdata": "AAABAAIAAwAEAAUABgAHAAgACQAKAAsADAANAA4ADwAQABEAEgATABQAFQAWABcAGAAZABoAGwAcAB0AHgAfACAAIQAiACMAJAAlACYAJwAoACkAKgArACwALQAuAC8AMAAxADIAMwA0ADUANgA3ADgAOQA6ADsAPAA9AD4APwBAAEEAQgBDAEQARQBGAEcASABJAEoASwBMAE0ATgBPAFAAUQBSAFMAVABVAFYAVwBYAFkAWgBbAFwAXQBeAF8AYABhAGIAYwBkAGUAZgBnAGgAaQBqAGsAbABtAG4AbwBwAHEAcgBzAHQAdQB2AHcAeAB5AHoAewB8AH0AfgB/AIAAgQCCAIMAhACFAIYAhwCIAIkAigCLAA==",
          "dtype": "i2"
         },
         "xaxis": "x",
         "y": {
          "bdata": "6fR9MmgVEkCiOIaQLGERQCG5ME3JKRJAtnx/MlcWE0Clo31b0mwTQCaLKBHLtRJA31sUq2w6EkDyIPBzhrsTQHdA6SJ1kRNAKiUI9KrDE0BoVZX+Wi0UQPPg6kSR9RJAnaKSTa1CE0DO1UBWb6cSQMCRtCiFHBRAAmz3zU0RE0CzzySDJnUSQDk9souKphJAZuOEONA8E0DTwcz+qbYTQDW4nhAxHhNA4Mt5TpI6EkACESRrGEcSQCtbP8q5jxFAFbiIygb6EkDo84+SdSkSQDST0YBFFhJAdwgwr3ftEkCVQ5OZV10RQOCOmPwgVBJAJFe+7U+UEkBl+qFFyjESQMNWDGUBFxJABwxHDsfzEUCPhhhsgeoRQHrImohoihJARtI9eJgzEkAxDCiMP/ERQPIra9sMdBJAAfTbX97PEUAUyAoAtpURQId4FltUKRJA19x4BBDmEUBDSDM2hqwQQMX8RGPPjxBAuu0OZVMQEEAp/H9bQf4NQBKmN9/D0Q9A1uUo3x1hD0DubhfzrsMOQLPAwMyi0w5AMCb1Qgp+D0AhHkeSKK0NQGQBbCzw9A9AM8vGl/LsDUBpNAhuX8cQQA+Wvh4UXRBAtOM9vFXrEUCEEXID8pwSQDNO8XtjSxNAlsFfo11rE0BKpSJIFq8TQITMAjEGNhRArwUURFkpFEDYDi1XUCEVQFRw0KqbChVAvO3k6PwiFUAXZKpC99IUQA4+nre05BRAuKOi73J0FEC9mAmgeBkUQEQjVm2AihVAMcSEpBS0FEDZ8oLzbAATQPb4t883ahRA7woBYFYGE0Bud745ndESQHCX+SkLGxJAZRuAqY7ZEUAsZA1wpTwSQJguXRfmzBJASbK9QQ0FEkBQcKVSFsQTQLPGZZ3cjRNAJIbdRjX/FEDl7bEzJIYVQJcKaDVmKxVA8zBNL2PTFUCXlOGWHxQYQCbBdZL33BdAwl4UEBxzGEA+Dr1SUDoaQLzS7I5j1xtALIpLlBG1HEDxkHT4jggdQCZY9B7rex1AtC/oNcPDHkAiUXLozu0eQMRqp+7GOSBA1qUA+Pc3IECXHFe6jSEhQNsn5Vst2CBAyovWjNZqIUB8zubcxAUiQFjh8ze58CFAEYi9FM6EIUDhOppxN+QhQJQFPIDlYiJAarPlXbegIkAOL5S1KuIhQIq4FLxSQiJA6Zs8/5DmIUAt8L/piXciQJZIduy0PyJANK7eQlCbIUBQUaf0eBMiQNGM+CqrgCFAZxeG3FD8IEDGLt+NU48gQEwWNltQASFAF8jI6EjmIED7GJMei8kfQF2pNhzC2h9A9INbackiH0BwNE7AmdkdQKkGmIvqdx5AqA/qbzKjHEBFrF13ZxEcQE1Af/5nhhtA9+uypTLAGUD+AdPCfPwXQNFjHQdiyBdArn/2i2oIFUAPj/a+cBcTQK7tnR0QZRJAB1uWKk1mEEArdykTwZEQQIh745EHPAtAjOiN7UEQCkCkcIE9sRMGQA==",
          "dtype": "f8"
         },
         "yaxis": "y"
        }
       ],
       "layout": {
        "legend": {
         "title": {
          "text": "Sequenz"
         },
         "tracegroupgap": 0
        },
        "template": {
         "data": {
          "bar": [
           {
            "error_x": {
             "color": "#2a3f5f"
            },
            "error_y": {
             "color": "#2a3f5f"
            },
            "marker": {
             "line": {
              "color": "#E5ECF6",
              "width": 0.5
             },
             "pattern": {
              "fillmode": "overlay",
              "size": 10,
              "solidity": 0.2
             }
            },
            "type": "bar"
           }
          ],
          "barpolar": [
           {
            "marker": {
             "line": {
              "color": "#E5ECF6",
              "width": 0.5
             },
             "pattern": {
              "fillmode": "overlay",
              "size": 10,
              "solidity": 0.2
             }
            },
            "type": "barpolar"
           }
          ],
          "carpet": [
           {
            "aaxis": {
             "endlinecolor": "#2a3f5f",
             "gridcolor": "white",
             "linecolor": "white",
             "minorgridcolor": "white",
             "startlinecolor": "#2a3f5f"
            },
            "baxis": {
             "endlinecolor": "#2a3f5f",
             "gridcolor": "white",
             "linecolor": "white",
             "minorgridcolor": "white",
             "startlinecolor": "#2a3f5f"
            },
            "type": "carpet"
           }
          ],
          "choropleth": [
           {
            "colorbar": {
             "outlinewidth": 0,
             "ticks": ""
            },
            "type": "choropleth"
           }
          ],
          "contour": [
           {
            "colorbar": {
             "outlinewidth": 0,
             "ticks": ""
            },
            "colorscale": [
             [
              0,
              "#0d0887"
             ],
             [
              0.1111111111111111,
              "#46039f"
             ],
             [
              0.2222222222222222,
              "#7201a8"
             ],
             [
              0.3333333333333333,
              "#9c179e"
             ],
             [
              0.4444444444444444,
              "#bd3786"
             ],
             [
              0.5555555555555556,
              "#d8576b"
             ],
             [
              0.6666666666666666,
              "#ed7953"
             ],
             [
              0.7777777777777778,
              "#fb9f3a"
             ],
             [
              0.8888888888888888,
              "#fdca26"
             ],
             [
              1,
              "#f0f921"
             ]
            ],
            "type": "contour"
           }
          ],
          "contourcarpet": [
           {
            "colorbar": {
             "outlinewidth": 0,
             "ticks": ""
            },
            "type": "contourcarpet"
           }
          ],
          "heatmap": [
           {
            "colorbar": {
             "outlinewidth": 0,
             "ticks": ""
            },
            "colorscale": [
             [
              0,
              "#0d0887"
             ],
             [
              0.1111111111111111,
              "#46039f"
             ],
             [
              0.2222222222222222,
              "#7201a8"
             ],
             [
              0.3333333333333333,
              "#9c179e"
             ],
             [
              0.4444444444444444,
              "#bd3786"
             ],
             [
              0.5555555555555556,
              "#d8576b"
             ],
             [
              0.6666666666666666,
              "#ed7953"
             ],
             [
              0.7777777777777778,
              "#fb9f3a"
             ],
             [
              0.8888888888888888,
              "#fdca26"
             ],
             [
              1,
              "#f0f921"
             ]
            ],
            "type": "heatmap"
           }
          ],
          "histogram": [
           {
            "marker": {
             "pattern": {
              "fillmode": "overlay",
              "size": 10,
              "solidity": 0.2
             }
            },
            "type": "histogram"
           }
          ],
          "histogram2d": [
           {
            "colorbar": {
             "outlinewidth": 0,
             "ticks": ""
            },
            "colorscale": [
             [
              0,
              "#0d0887"
             ],
             [
              0.1111111111111111,
              "#46039f"
             ],
             [
              0.2222222222222222,
              "#7201a8"
             ],
             [
              0.3333333333333333,
              "#9c179e"
             ],
             [
              0.4444444444444444,
              "#bd3786"
             ],
             [
              0.5555555555555556,
              "#d8576b"
             ],
             [
              0.6666666666666666,
              "#ed7953"
             ],
             [
              0.7777777777777778,
              "#fb9f3a"
             ],
             [
              0.8888888888888888,
              "#fdca26"
             ],
             [
              1,
              "#f0f921"
             ]
            ],
            "type": "histogram2d"
           }
          ],
          "histogram2dcontour": [
           {
            "colorbar": {
             "outlinewidth": 0,
             "ticks": ""
            },
            "colorscale": [
             [
              0,
              "#0d0887"
             ],
             [
              0.1111111111111111,
              "#46039f"
             ],
             [
              0.2222222222222222,
              "#7201a8"
             ],
             [
              0.3333333333333333,
              "#9c179e"
             ],
             [
              0.4444444444444444,
              "#bd3786"
             ],
             [
              0.5555555555555556,
              "#d8576b"
             ],
             [
              0.6666666666666666,
              "#ed7953"
             ],
             [
              0.7777777777777778,
              "#fb9f3a"
             ],
             [
              0.8888888888888888,
              "#fdca26"
             ],
             [
              1,
              "#f0f921"
             ]
            ],
            "type": "histogram2dcontour"
           }
          ],
          "mesh3d": [
           {
            "colorbar": {
             "outlinewidth": 0,
             "ticks": ""
            },
            "type": "mesh3d"
           }
          ],
          "parcoords": [
           {
            "line": {
             "colorbar": {
              "outlinewidth": 0,
              "ticks": ""
             }
            },
            "type": "parcoords"
           }
          ],
          "pie": [
           {
            "automargin": true,
            "type": "pie"
           }
          ],
          "scatter": [
           {
            "fillpattern": {
             "fillmode": "overlay",
             "size": 10,
             "solidity": 0.2
            },
            "type": "scatter"
           }
          ],
          "scatter3d": [
           {
            "line": {
             "colorbar": {
              "outlinewidth": 0,
              "ticks": ""
             }
            },
            "marker": {
             "colorbar": {
              "outlinewidth": 0,
              "ticks": ""
             }
            },
            "type": "scatter3d"
           }
          ],
          "scattercarpet": [
           {
            "marker": {
             "colorbar": {
              "outlinewidth": 0,
              "ticks": ""
             }
            },
            "type": "scattercarpet"
           }
          ],
          "scattergeo": [
           {
            "marker": {
             "colorbar": {
              "outlinewidth": 0,
              "ticks": ""
             }
            },
            "type": "scattergeo"
           }
          ],
          "scattergl": [
           {
            "marker": {
             "colorbar": {
              "outlinewidth": 0,
              "ticks": ""
             }
            },
            "type": "scattergl"
           }
          ],
          "scattermap": [
           {
            "marker": {
             "colorbar": {
              "outlinewidth": 0,
              "ticks": ""
             }
            },
            "type": "scattermap"
           }
          ],
          "scattermapbox": [
           {
            "marker": {
             "colorbar": {
              "outlinewidth": 0,
              "ticks": ""
             }
            },
            "type": "scattermapbox"
           }
          ],
          "scatterpolar": [
           {
            "marker": {
             "colorbar": {
              "outlinewidth": 0,
              "ticks": ""
             }
            },
            "type": "scatterpolar"
           }
          ],
          "scatterpolargl": [
           {
            "marker": {
             "colorbar": {
              "outlinewidth": 0,
              "ticks": ""
             }
            },
            "type": "scatterpolargl"
           }
          ],
          "scatterternary": [
           {
            "marker": {
             "colorbar": {
              "outlinewidth": 0,
              "ticks": ""
             }
            },
            "type": "scatterternary"
           }
          ],
          "surface": [
           {
            "colorbar": {
             "outlinewidth": 0,
             "ticks": ""
            },
            "colorscale": [
             [
              0,
              "#0d0887"
             ],
             [
              0.1111111111111111,
              "#46039f"
             ],
             [
              0.2222222222222222,
              "#7201a8"
             ],
             [
              0.3333333333333333,
              "#9c179e"
             ],
             [
              0.4444444444444444,
              "#bd3786"
             ],
             [
              0.5555555555555556,
              "#d8576b"
             ],
             [
              0.6666666666666666,
              "#ed7953"
             ],
             [
              0.7777777777777778,
              "#fb9f3a"
             ],
             [
              0.8888888888888888,
              "#fdca26"
             ],
             [
              1,
              "#f0f921"
             ]
            ],
            "type": "surface"
           }
          ],
          "table": [
           {
            "cells": {
             "fill": {
              "color": "#EBF0F8"
             },
             "line": {
              "color": "white"
             }
            },
            "header": {
             "fill": {
              "color": "#C8D4E3"
             },
             "line": {
              "color": "white"
             }
            },
            "type": "table"
           }
          ]
         },
         "layout": {
          "annotationdefaults": {
           "arrowcolor": "#2a3f5f",
           "arrowhead": 0,
           "arrowwidth": 1
          },
          "autotypenumbers": "strict",
          "coloraxis": {
           "colorbar": {
            "outlinewidth": 0,
            "ticks": ""
           }
          },
          "colorscale": {
           "diverging": [
            [
             0,
             "#8e0152"
            ],
            [
             0.1,
             "#c51b7d"
            ],
            [
             0.2,
             "#de77ae"
            ],
            [
             0.3,
             "#f1b6da"
            ],
            [
             0.4,
             "#fde0ef"
            ],
            [
             0.5,
             "#f7f7f7"
            ],
            [
             0.6,
             "#e6f5d0"
            ],
            [
             0.7,
             "#b8e186"
            ],
            [
             0.8,
             "#7fbc41"
            ],
            [
             0.9,
             "#4d9221"
            ],
            [
             1,
             "#276419"
            ]
           ],
           "sequential": [
            [
             0,
             "#0d0887"
            ],
            [
             0.1111111111111111,
             "#46039f"
            ],
            [
             0.2222222222222222,
             "#7201a8"
            ],
            [
             0.3333333333333333,
             "#9c179e"
            ],
            [
             0.4444444444444444,
             "#bd3786"
            ],
            [
             0.5555555555555556,
             "#d8576b"
            ],
            [
             0.6666666666666666,
             "#ed7953"
            ],
            [
             0.7777777777777778,
             "#fb9f3a"
            ],
            [
             0.8888888888888888,
             "#fdca26"
            ],
            [
             1,
             "#f0f921"
            ]
           ],
           "sequentialminus": [
            [
             0,
             "#0d0887"
            ],
            [
             0.1111111111111111,
             "#46039f"
            ],
            [
             0.2222222222222222,
             "#7201a8"
            ],
            [
             0.3333333333333333,
             "#9c179e"
            ],
            [
             0.4444444444444444,
             "#bd3786"
            ],
            [
             0.5555555555555556,
             "#d8576b"
            ],
            [
             0.6666666666666666,
             "#ed7953"
            ],
            [
             0.7777777777777778,
             "#fb9f3a"
            ],
            [
             0.8888888888888888,
             "#fdca26"
            ],
            [
             1,
             "#f0f921"
            ]
           ]
          },
          "colorway": [
           "#636efa",
           "#EF553B",
           "#00cc96",
           "#ab63fa",
           "#FFA15A",
           "#19d3f3",
           "#FF6692",
           "#B6E880",
           "#FF97FF",
           "#FECB52"
          ],
          "font": {
           "color": "#2a3f5f"
          },
          "geo": {
           "bgcolor": "white",
           "lakecolor": "white",
           "landcolor": "#E5ECF6",
           "showlakes": true,
           "showland": true,
           "subunitcolor": "white"
          },
          "hoverlabel": {
           "align": "left"
          },
          "hovermode": "closest",
          "mapbox": {
           "style": "light"
          },
          "paper_bgcolor": "white",
          "plot_bgcolor": "#E5ECF6",
          "polar": {
           "angularaxis": {
            "gridcolor": "white",
            "linecolor": "white",
            "ticks": ""
           },
           "bgcolor": "#E5ECF6",
           "radialaxis": {
            "gridcolor": "white",
            "linecolor": "white",
            "ticks": ""
           }
          },
          "scene": {
           "xaxis": {
            "backgroundcolor": "#E5ECF6",
            "gridcolor": "white",
            "gridwidth": 2,
            "linecolor": "white",
            "showbackground": true,
            "ticks": "",
            "zerolinecolor": "white"
           },
           "yaxis": {
            "backgroundcolor": "#E5ECF6",
            "gridcolor": "white",
            "gridwidth": 2,
            "linecolor": "white",
            "showbackground": true,
            "ticks": "",
            "zerolinecolor": "white"
           },
           "zaxis": {
            "backgroundcolor": "#E5ECF6",
            "gridcolor": "white",
            "gridwidth": 2,
            "linecolor": "white",
            "showbackground": true,
            "ticks": "",
            "zerolinecolor": "white"
           }
          },
          "shapedefaults": {
           "line": {
            "color": "#2a3f5f"
           }
          },
          "ternary": {
           "aaxis": {
            "gridcolor": "white",
            "linecolor": "white",
            "ticks": ""
           },
           "baxis": {
            "gridcolor": "white",
            "linecolor": "white",
            "ticks": ""
           },
           "bgcolor": "#E5ECF6",
           "caxis": {
            "gridcolor": "white",
            "linecolor": "white",
            "ticks": ""
           }
          },
          "title": {
           "x": 0.05
          },
          "xaxis": {
           "automargin": true,
           "gridcolor": "white",
           "linecolor": "white",
           "ticks": "",
           "title": {
            "standoff": 15
           },
           "zerolinecolor": "white",
           "zerolinewidth": 2
          },
          "yaxis": {
           "automargin": true,
           "gridcolor": "white",
           "linecolor": "white",
           "ticks": "",
           "title": {
            "standoff": 15
           },
           "zerolinecolor": "white",
           "zerolinewidth": 2
          }
         }
        },
        "title": {
         "text": "Füllstand v(t) über die Zeit"
        },
        "xaxis": {
         "anchor": "y",
         "domain": [
          0,
          1
         ],
         "title": {
          "text": "t"
         }
        },
        "yaxis": {
         "anchor": "x",
         "domain": [
          0,
          1
         ],
         "title": {
          "text": "v(t)"
         }
        }
       }
      }
     },
     "metadata": {},
     "output_type": "display_data"
    }
   ],
   "source": [
    "px.line(res, x=\"t\", y=\"v(t)\", color=\"Sequenz\", title=\"Füllstand v(t) über die Zeit\")"
   ]
  },
  {
   "cell_type": "code",
   "execution_count": 4,
   "id": "b3bf3fda",
   "metadata": {},
   "outputs": [],
   "source": [
    "# QV-ENGINEERING\n",
    "\n",
    "res[\"V_total_out\"] = res.groupby(\"Sequenz\")[\"v(t)\"].transform(\"sum\")"
   ]
  },
  {
   "cell_type": "code",
   "execution_count": 5,
   "id": "71fc90f4",
   "metadata": {},
   "outputs": [
    {
     "name": "stdout",
     "output_type": "stream",
     "text": [
      "Features: ['u1(t)', 'u2(t)', 'v(t)', 'x1(t)', 'x2(t)']\n",
      "Target: V_total_out\n",
      "\n",
      "Erstelle 3D-Tensoren mit der Form (Batches, Zeitschritte, Features)...\n",
      "Form des Feature-Tensors X: (200, 140, 5)\n",
      "Form des Target-Vektors y: (200, 1)\n",
      "\n",
      "Daten aufgeteilt:\n",
      "Trainingsdaten: 160 Batches\n",
      "Validierungsdaten: 20 Batches\n",
      "Testdaten: 20 Batches\n",
      "X_train_scaled: (160, 140, 5), y_train_scaled: (160, 1)\n",
      "X_val_scaled: (20, 140, 5), y_val_scaled: (20, 1)\n",
      "X_test_scaled: (20, 140, 5), y_test_scaled: (20, 1)\n"
     ]
    }
   ],
   "source": [
    "# DATEN-PIPELINE\n",
    "\n",
    "features = [\"u1(t)\", \"u2(t)\", \"v(t)\", \"x1(t)\", \"x2(t)\"]\n",
    "target = \"V_total_out\"\n",
    "\n",
    "print(f\"Features: {features}\")\n",
    "print(f\"Target: {target}\")\n",
    "\n",
    "\n",
    "# Daten in Sequenzen umwandeln\n",
    "unique_sequences = res[\"Sequenz\"].unique()\n",
    "n_sequences = len(unique_sequences)\n",
    "n_timesteps = res.groupby(\"Sequenz\").size().iloc[0]\n",
    "n_features = len(features)\n",
    "\n",
    "# Initialisiere die leeren NumPy-Arrays\n",
    "X = np.zeros((n_sequences, n_timesteps, n_features))\n",
    "y = np.zeros((n_sequences, 1))\n",
    "\n",
    "print(f\"\\nErstelle 3D-Tensoren mit der Form (Batches, Zeitschritte, Features)...\")\n",
    "for i, seq_id in enumerate(unique_sequences):\n",
    "    # Extrahiere die Features für die aktuelle Sequenz\n",
    "    sequence_data = res[res[\"Sequenz\"] == seq_id][features].values\n",
    "    X[i] = sequence_data\n",
    "\n",
    "    # Extrahiere den Zielwert (ist für die ganze Sequenz gleich, also nehmen wir den ersten)\n",
    "    target_value = res[res[\"Sequenz\"] == seq_id][target].iloc[0]\n",
    "    y[i] = target_value\n",
    "\n",
    "print(f\"Form des Feature-Tensors X: {X.shape}\")\n",
    "print(f\"Form des Target-Vektors y: {y.shape}\")\n",
    "\n",
    "\n",
    "# 3. Aufteilen in Trainings-, Validierungs- und Testdaten (Batch-weise)\n",
    "# Wir teilen die Indizes der Batches auf, nicht die einzelnen Zeilen!\n",
    "indices = np.arange(n_sequences)\n",
    "\n",
    "# Zuerst 80% Training und 20% für (Validierung + Test)\n",
    "X_train, X_temp, y_train, y_temp, indices_train, indices_temp = train_test_split(\n",
    "    X, y, indices, test_size=0.2, random_state=42\n",
    ")\n",
    "\n",
    "# Dann die 20% in 10% Validierung und 10% Test aufteilen (50/50 split von temp)\n",
    "X_val, X_test, y_val, y_test, indices_val, indices_test = train_test_split(\n",
    "    X_temp, y_temp, indices_temp, test_size=0.5, random_state=42\n",
    ")\n",
    "\n",
    "print(\"\\nDaten aufgeteilt:\")\n",
    "print(f\"Trainingsdaten: {X_train.shape[0]} Batches\")\n",
    "print(f\"Validierungsdaten: {X_val.shape[0]} Batches\")\n",
    "print(f\"Testdaten: {X_test.shape[0]} Batches\")\n",
    "\n",
    "\n",
    "# 4. Skalierung der Daten\n",
    "\n",
    "# Skalierung für die Features (X)\n",
    "scaler_X = StandardScaler()\n",
    "X_train_reshaped = X_train.reshape(-1, n_features)\n",
    "scaler_X.fit(X_train_reshaped)\n",
    "\n",
    "# Transformation anwenden und zurück in 3D-Form bringen\n",
    "X_train_scaled = scaler_X.transform(X_train_reshaped).reshape(X_train.shape)\n",
    "X_val_scaled = scaler_X.transform(X_val.reshape(-1, n_features)).reshape(X_val.shape)\n",
    "X_test_scaled = scaler_X.transform(X_test.reshape(-1, n_features)).reshape(X_test.shape)\n",
    "\n",
    "# Skalierung für den Zielwert (y)\n",
    "scaler_y = StandardScaler()\n",
    "y_train_scaled = scaler_y.fit_transform(y_train)\n",
    "y_val_scaled = scaler_y.transform(y_val)\n",
    "y_test_scaled = scaler_y.transform(y_test)\n",
    "\n",
    "\n",
    "print(f\"X_train_scaled: {X_train_scaled.shape}, y_train_scaled: {y_train_scaled.shape}\")\n",
    "print(f\"X_val_scaled: {X_val_scaled.shape}, y_val_scaled: {y_val_scaled.shape}\")\n",
    "print(f\"X_test_scaled: {X_test_scaled.shape}, y_test_scaled: {y_test_scaled.shape}\")"
   ]
  },
  {
   "cell_type": "code",
   "execution_count": null,
   "id": "cf66f78b",
   "metadata": {},
   "outputs": [
    {
     "name": "stdout",
     "output_type": "stream",
     "text": [
      "Modellarchitektur:\n"
     ]
    },
    {
     "data": {
      "text/html": [
       "<pre style=\"white-space:pre;overflow-x:auto;line-height:normal;font-family:Menlo,'DejaVu Sans Mono',consolas,'Courier New',monospace\"><span style=\"font-weight: bold\">Model: \"functional\"</span>\n",
       "</pre>\n"
      ],
      "text/plain": [
       "\u001b[1mModel: \"functional\"\u001b[0m\n"
      ]
     },
     "metadata": {},
     "output_type": "display_data"
    },
    {
     "data": {
      "text/html": [
       "<pre style=\"white-space:pre;overflow-x:auto;line-height:normal;font-family:Menlo,'DejaVu Sans Mono',consolas,'Courier New',monospace\">┏━━━━━━━━━━━━━━━━━━━━━━━━━━━━━━━━━┳━━━━━━━━━━━━━━━━━━━━━━━━┳━━━━━━━━━━━━━━━┓\n",
       "┃<span style=\"font-weight: bold\"> Layer (type)                    </span>┃<span style=\"font-weight: bold\"> Output Shape           </span>┃<span style=\"font-weight: bold\">       Param # </span>┃\n",
       "┡━━━━━━━━━━━━━━━━━━━━━━━━━━━━━━━━━╇━━━━━━━━━━━━━━━━━━━━━━━━╇━━━━━━━━━━━━━━━┩\n",
       "│ input_layer (<span style=\"color: #0087ff; text-decoration-color: #0087ff\">InputLayer</span>)        │ (<span style=\"color: #00d7ff; text-decoration-color: #00d7ff\">None</span>, <span style=\"color: #00af00; text-decoration-color: #00af00\">140</span>, <span style=\"color: #00af00; text-decoration-color: #00af00\">5</span>)         │             <span style=\"color: #00af00; text-decoration-color: #00af00\">0</span> │\n",
       "├─────────────────────────────────┼────────────────────────┼───────────────┤\n",
       "│ lstm (<span style=\"color: #0087ff; text-decoration-color: #0087ff\">LSTM</span>)                     │ (<span style=\"color: #00d7ff; text-decoration-color: #00d7ff\">None</span>, <span style=\"color: #00af00; text-decoration-color: #00af00\">64</span>)             │        <span style=\"color: #00af00; text-decoration-color: #00af00\">17,920</span> │\n",
       "├─────────────────────────────────┼────────────────────────┼───────────────┤\n",
       "│ dense (<span style=\"color: #0087ff; text-decoration-color: #0087ff\">Dense</span>)                   │ (<span style=\"color: #00d7ff; text-decoration-color: #00d7ff\">None</span>, <span style=\"color: #00af00; text-decoration-color: #00af00\">1</span>)              │            <span style=\"color: #00af00; text-decoration-color: #00af00\">65</span> │\n",
       "└─────────────────────────────────┴────────────────────────┴───────────────┘\n",
       "</pre>\n"
      ],
      "text/plain": [
       "┏━━━━━━━━━━━━━━━━━━━━━━━━━━━━━━━━━┳━━━━━━━━━━━━━━━━━━━━━━━━┳━━━━━━━━━━━━━━━┓\n",
       "┃\u001b[1m \u001b[0m\u001b[1mLayer (type)                   \u001b[0m\u001b[1m \u001b[0m┃\u001b[1m \u001b[0m\u001b[1mOutput Shape          \u001b[0m\u001b[1m \u001b[0m┃\u001b[1m \u001b[0m\u001b[1m      Param #\u001b[0m\u001b[1m \u001b[0m┃\n",
       "┡━━━━━━━━━━━━━━━━━━━━━━━━━━━━━━━━━╇━━━━━━━━━━━━━━━━━━━━━━━━╇━━━━━━━━━━━━━━━┩\n",
       "│ input_layer (\u001b[38;5;33mInputLayer\u001b[0m)        │ (\u001b[38;5;45mNone\u001b[0m, \u001b[38;5;34m140\u001b[0m, \u001b[38;5;34m5\u001b[0m)         │             \u001b[38;5;34m0\u001b[0m │\n",
       "├─────────────────────────────────┼────────────────────────┼───────────────┤\n",
       "│ lstm (\u001b[38;5;33mLSTM\u001b[0m)                     │ (\u001b[38;5;45mNone\u001b[0m, \u001b[38;5;34m64\u001b[0m)             │        \u001b[38;5;34m17,920\u001b[0m │\n",
       "├─────────────────────────────────┼────────────────────────┼───────────────┤\n",
       "│ dense (\u001b[38;5;33mDense\u001b[0m)                   │ (\u001b[38;5;45mNone\u001b[0m, \u001b[38;5;34m1\u001b[0m)              │            \u001b[38;5;34m65\u001b[0m │\n",
       "└─────────────────────────────────┴────────────────────────┴───────────────┘\n"
      ]
     },
     "metadata": {},
     "output_type": "display_data"
    },
    {
     "data": {
      "text/html": [
       "<pre style=\"white-space:pre;overflow-x:auto;line-height:normal;font-family:Menlo,'DejaVu Sans Mono',consolas,'Courier New',monospace\"><span style=\"font-weight: bold\"> Total params: </span><span style=\"color: #00af00; text-decoration-color: #00af00\">17,985</span> (70.25 KB)\n",
       "</pre>\n"
      ],
      "text/plain": [
       "\u001b[1m Total params: \u001b[0m\u001b[38;5;34m17,985\u001b[0m (70.25 KB)\n"
      ]
     },
     "metadata": {},
     "output_type": "display_data"
    },
    {
     "data": {
      "text/html": [
       "<pre style=\"white-space:pre;overflow-x:auto;line-height:normal;font-family:Menlo,'DejaVu Sans Mono',consolas,'Courier New',monospace\"><span style=\"font-weight: bold\"> Trainable params: </span><span style=\"color: #00af00; text-decoration-color: #00af00\">17,985</span> (70.25 KB)\n",
       "</pre>\n"
      ],
      "text/plain": [
       "\u001b[1m Trainable params: \u001b[0m\u001b[38;5;34m17,985\u001b[0m (70.25 KB)\n"
      ]
     },
     "metadata": {},
     "output_type": "display_data"
    },
    {
     "data": {
      "text/html": [
       "<pre style=\"white-space:pre;overflow-x:auto;line-height:normal;font-family:Menlo,'DejaVu Sans Mono',consolas,'Courier New',monospace\"><span style=\"font-weight: bold\"> Non-trainable params: </span><span style=\"color: #00af00; text-decoration-color: #00af00\">0</span> (0.00 B)\n",
       "</pre>\n"
      ],
      "text/plain": [
       "\u001b[1m Non-trainable params: \u001b[0m\u001b[38;5;34m0\u001b[0m (0.00 B)\n"
      ]
     },
     "metadata": {},
     "output_type": "display_data"
    },
    {
     "name": "stdout",
     "output_type": "stream",
     "text": [
      "\n",
      "Starte das Modelltraining...\n",
      "Epoch 1/50\n",
      "\u001b[1m1/5\u001b[0m \u001b[32m━━━━\u001b[0m\u001b[37m━━━━━━━━━━━━━━━━\u001b[0m \u001b[1m1s\u001b[0m 372ms/step - loss: 1.0383 - mean_absolute_error: 0.8563\n",
      "Epoch 1: val_loss improved from inf to 0.78037, saving model to best_model.keras\n",
      "\u001b[1m5/5\u001b[0m \u001b[32m━━━━━━━━━━━━━━━━━━━━\u001b[0m\u001b[37m\u001b[0m \u001b[1m1s\u001b[0m 40ms/step - loss: 0.9061 - mean_absolute_error: 0.7837 - val_loss: 0.7804 - val_mean_absolute_error: 0.7091\n",
      "Epoch 2/50\n",
      "\u001b[1m1/5\u001b[0m \u001b[32m━━━━\u001b[0m\u001b[37m━━━━━━━━━━━━━━━━\u001b[0m \u001b[1m0s\u001b[0m 18ms/step - loss: 0.9677 - mean_absolute_error: 0.8076\n",
      "Epoch 2: val_loss improved from 0.78037 to 0.69361, saving model to best_model.keras\n",
      "\u001b[1m5/5\u001b[0m \u001b[32m━━━━━━━━━━━━━━━━━━━━\u001b[0m\u001b[37m\u001b[0m \u001b[1m0s\u001b[0m 19ms/step - loss: 0.7384 - mean_absolute_error: 0.6959 - val_loss: 0.6936 - val_mean_absolute_error: 0.6959\n",
      "Epoch 3/50\n",
      "\u001b[1m1/5\u001b[0m \u001b[32m━━━━\u001b[0m\u001b[37m━━━━━━━━━━━━━━━━\u001b[0m \u001b[1m0s\u001b[0m 18ms/step - loss: 0.3818 - mean_absolute_error: 0.4849\n",
      "Epoch 3: val_loss improved from 0.69361 to 0.51369, saving model to best_model.keras\n",
      "\u001b[1m5/5\u001b[0m \u001b[32m━━━━━━━━━━━━━━━━━━━━\u001b[0m\u001b[37m\u001b[0m \u001b[1m0s\u001b[0m 19ms/step - loss: 0.5307 - mean_absolute_error: 0.5873 - val_loss: 0.5137 - val_mean_absolute_error: 0.5833\n",
      "Epoch 4/50\n",
      "\u001b[1m1/5\u001b[0m \u001b[32m━━━━\u001b[0m\u001b[37m━━━━━━━━━━━━━━━━\u001b[0m \u001b[1m0s\u001b[0m 18ms/step - loss: 0.4301 - mean_absolute_error: 0.5285\n",
      "Epoch 4: val_loss improved from 0.51369 to 0.42679, saving model to best_model.keras\n",
      "\u001b[1m5/5\u001b[0m \u001b[32m━━━━━━━━━━━━━━━━━━━━\u001b[0m\u001b[37m\u001b[0m \u001b[1m0s\u001b[0m 19ms/step - loss: 0.5192 - mean_absolute_error: 0.5757 - val_loss: 0.4268 - val_mean_absolute_error: 0.5238\n",
      "Epoch 5/50\n",
      "\u001b[1m1/5\u001b[0m \u001b[32m━━━━\u001b[0m\u001b[37m━━━━━━━━━━━━━━━━\u001b[0m \u001b[1m0s\u001b[0m 18ms/step - loss: 0.4989 - mean_absolute_error: 0.5344\n",
      "Epoch 5: val_loss improved from 0.42679 to 0.37899, saving model to best_model.keras\n",
      "\u001b[1m5/5\u001b[0m \u001b[32m━━━━━━━━━━━━━━━━━━━━\u001b[0m\u001b[37m\u001b[0m \u001b[1m0s\u001b[0m 19ms/step - loss: 0.5293 - mean_absolute_error: 0.5713 - val_loss: 0.3790 - val_mean_absolute_error: 0.4962\n",
      "Epoch 6/50\n",
      "\u001b[1m1/5\u001b[0m \u001b[32m━━━━\u001b[0m\u001b[37m━━━━━━━━━━━━━━━━\u001b[0m \u001b[1m0s\u001b[0m 18ms/step - loss: 0.6494 - mean_absolute_error: 0.6583\n",
      "Epoch 6: val_loss did not improve from 0.37899\n",
      "\u001b[1m5/5\u001b[0m \u001b[32m━━━━━━━━━━━━━━━━━━━━\u001b[0m\u001b[37m\u001b[0m \u001b[1m0s\u001b[0m 18ms/step - loss: 0.5192 - mean_absolute_error: 0.5721 - val_loss: 0.3896 - val_mean_absolute_error: 0.5412\n",
      "Epoch 7/50\n",
      "\u001b[1m1/5\u001b[0m \u001b[32m━━━━\u001b[0m\u001b[37m━━━━━━━━━━━━━━━━\u001b[0m \u001b[1m0s\u001b[0m 17ms/step - loss: 0.3742 - mean_absolute_error: 0.4876\n",
      "Epoch 7: val_loss improved from 0.37899 to 0.32539, saving model to best_model.keras\n",
      "\u001b[1m5/5\u001b[0m \u001b[32m━━━━━━━━━━━━━━━━━━━━\u001b[0m\u001b[37m\u001b[0m \u001b[1m0s\u001b[0m 19ms/step - loss: 0.4256 - mean_absolute_error: 0.5191 - val_loss: 0.3254 - val_mean_absolute_error: 0.5021\n",
      "Epoch 8/50\n",
      "\u001b[1m1/5\u001b[0m \u001b[32m━━━━\u001b[0m\u001b[37m━━━━━━━━━━━━━━━━\u001b[0m \u001b[1m0s\u001b[0m 18ms/step - loss: 0.5344 - mean_absolute_error: 0.5300\n",
      "Epoch 8: val_loss improved from 0.32539 to 0.21993, saving model to best_model.keras\n",
      "\u001b[1m5/5\u001b[0m \u001b[32m━━━━━━━━━━━━━━━━━━━━\u001b[0m\u001b[37m\u001b[0m \u001b[1m0s\u001b[0m 19ms/step - loss: 0.4202 - mean_absolute_error: 0.4894 - val_loss: 0.2199 - val_mean_absolute_error: 0.3970\n",
      "Epoch 9/50\n",
      "\u001b[1m1/5\u001b[0m \u001b[32m━━━━\u001b[0m\u001b[37m━━━━━━━━━━━━━━━━\u001b[0m \u001b[1m0s\u001b[0m 19ms/step - loss: 0.4823 - mean_absolute_error: 0.5460\n",
      "Epoch 9: val_loss did not improve from 0.21993\n",
      "\u001b[1m5/5\u001b[0m \u001b[32m━━━━━━━━━━━━━━━━━━━━\u001b[0m\u001b[37m\u001b[0m \u001b[1m0s\u001b[0m 17ms/step - loss: 0.3572 - mean_absolute_error: 0.4682 - val_loss: 0.2698 - val_mean_absolute_error: 0.4296\n",
      "Epoch 10/50\n",
      "\u001b[1m1/5\u001b[0m \u001b[32m━━━━\u001b[0m\u001b[37m━━━━━━━━━━━━━━━━\u001b[0m \u001b[1m0s\u001b[0m 18ms/step - loss: 0.1869 - mean_absolute_error: 0.3685\n",
      "Epoch 10: val_loss did not improve from 0.21993\n",
      "\u001b[1m5/5\u001b[0m \u001b[32m━━━━━━━━━━━━━━━━━━━━\u001b[0m\u001b[37m\u001b[0m \u001b[1m0s\u001b[0m 17ms/step - loss: 0.2726 - mean_absolute_error: 0.4284 - val_loss: 0.2648 - val_mean_absolute_error: 0.4398\n",
      "Epoch 11/50\n",
      "\u001b[1m1/5\u001b[0m \u001b[32m━━━━\u001b[0m\u001b[37m━━━━━━━━━━━━━━━━\u001b[0m \u001b[1m0s\u001b[0m 18ms/step - loss: 0.2044 - mean_absolute_error: 0.3681\n",
      "Epoch 11: val_loss improved from 0.21993 to 0.18239, saving model to best_model.keras\n",
      "\u001b[1m5/5\u001b[0m \u001b[32m━━━━━━━━━━━━━━━━━━━━\u001b[0m\u001b[37m\u001b[0m \u001b[1m0s\u001b[0m 19ms/step - loss: 0.2441 - mean_absolute_error: 0.3940 - val_loss: 0.1824 - val_mean_absolute_error: 0.3699\n",
      "Epoch 12/50\n",
      "\u001b[1m1/5\u001b[0m \u001b[32m━━━━\u001b[0m\u001b[37m━━━━━━━━━━━━━━━━\u001b[0m \u001b[1m0s\u001b[0m 18ms/step - loss: 0.3078 - mean_absolute_error: 0.4177\n",
      "Epoch 12: val_loss improved from 0.18239 to 0.15156, saving model to best_model.keras\n",
      "\u001b[1m5/5\u001b[0m \u001b[32m━━━━━━━━━━━━━━━━━━━━\u001b[0m\u001b[37m\u001b[0m \u001b[1m0s\u001b[0m 19ms/step - loss: 0.2732 - mean_absolute_error: 0.4116 - val_loss: 0.1516 - val_mean_absolute_error: 0.3332\n",
      "Epoch 13/50\n",
      "\u001b[1m1/5\u001b[0m \u001b[32m━━━━\u001b[0m\u001b[37m━━━━━━━━━━━━━━━━\u001b[0m \u001b[1m0s\u001b[0m 18ms/step - loss: 0.2220 - mean_absolute_error: 0.3681\n",
      "Epoch 13: val_loss did not improve from 0.15156\n",
      "\u001b[1m5/5\u001b[0m \u001b[32m━━━━━━━━━━━━━━━━━━━━\u001b[0m\u001b[37m\u001b[0m \u001b[1m0s\u001b[0m 17ms/step - loss: 0.2315 - mean_absolute_error: 0.3813 - val_loss: 0.1620 - val_mean_absolute_error: 0.3524\n",
      "Epoch 14/50\n",
      "\u001b[1m1/5\u001b[0m \u001b[32m━━━━\u001b[0m\u001b[37m━━━━━━━━━━━━━━━━\u001b[0m \u001b[1m0s\u001b[0m 18ms/step - loss: 0.1822 - mean_absolute_error: 0.3565\n",
      "Epoch 14: val_loss did not improve from 0.15156\n",
      "\u001b[1m5/5\u001b[0m \u001b[32m━━━━━━━━━━━━━━━━━━━━\u001b[0m\u001b[37m\u001b[0m \u001b[1m0s\u001b[0m 17ms/step - loss: 0.2159 - mean_absolute_error: 0.3762 - val_loss: 0.1752 - val_mean_absolute_error: 0.3650\n",
      "Epoch 15/50\n",
      "\u001b[1m1/5\u001b[0m \u001b[32m━━━━\u001b[0m\u001b[37m━━━━━━━━━━━━━━━━\u001b[0m \u001b[1m0s\u001b[0m 18ms/step - loss: 0.1888 - mean_absolute_error: 0.3717\n",
      "Epoch 15: val_loss improved from 0.15156 to 0.15125, saving model to best_model.keras\n",
      "\u001b[1m5/5\u001b[0m \u001b[32m━━━━━━━━━━━━━━━━━━━━\u001b[0m\u001b[37m\u001b[0m \u001b[1m0s\u001b[0m 19ms/step - loss: 0.1806 - mean_absolute_error: 0.3472 - val_loss: 0.1512 - val_mean_absolute_error: 0.3313\n",
      "Epoch 16/50\n",
      "\u001b[1m1/5\u001b[0m \u001b[32m━━━━\u001b[0m\u001b[37m━━━━━━━━━━━━━━━━\u001b[0m \u001b[1m0s\u001b[0m 18ms/step - loss: 0.2870 - mean_absolute_error: 0.4265\n",
      "Epoch 16: val_loss did not improve from 0.15125\n",
      "\u001b[1m5/5\u001b[0m \u001b[32m━━━━━━━━━━━━━━━━━━━━\u001b[0m\u001b[37m\u001b[0m \u001b[1m0s\u001b[0m 18ms/step - loss: 0.2145 - mean_absolute_error: 0.3705 - val_loss: 0.1548 - val_mean_absolute_error: 0.3419\n",
      "Epoch 17/50\n",
      "\u001b[1m1/5\u001b[0m \u001b[32m━━━━\u001b[0m\u001b[37m━━━━━━━━━━━━━━━━\u001b[0m \u001b[1m0s\u001b[0m 18ms/step - loss: 0.2094 - mean_absolute_error: 0.3515\n",
      "Epoch 17: val_loss improved from 0.15125 to 0.13936, saving model to best_model.keras\n",
      "\u001b[1m5/5\u001b[0m \u001b[32m━━━━━━━━━━━━━━━━━━━━\u001b[0m\u001b[37m\u001b[0m \u001b[1m0s\u001b[0m 20ms/step - loss: 0.1869 - mean_absolute_error: 0.3366 - val_loss: 0.1394 - val_mean_absolute_error: 0.3170\n",
      "Epoch 18/50\n",
      "\u001b[1m1/5\u001b[0m \u001b[32m━━━━\u001b[0m\u001b[37m━━━━━━━━━━━━━━━━\u001b[0m \u001b[1m0s\u001b[0m 24ms/step - loss: 0.1226 - mean_absolute_error: 0.2993\n",
      "Epoch 18: val_loss did not improve from 0.13936\n",
      "\u001b[1m5/5\u001b[0m \u001b[32m━━━━━━━━━━━━━━━━━━━━\u001b[0m\u001b[37m\u001b[0m \u001b[1m0s\u001b[0m 18ms/step - loss: 0.1447 - mean_absolute_error: 0.3102 - val_loss: 0.1557 - val_mean_absolute_error: 0.3251\n",
      "Epoch 19/50\n",
      "\u001b[1m1/5\u001b[0m \u001b[32m━━━━\u001b[0m\u001b[37m━━━━━━━━━━━━━━━━\u001b[0m \u001b[1m0s\u001b[0m 18ms/step - loss: 0.1537 - mean_absolute_error: 0.3308\n",
      "Epoch 19: val_loss improved from 0.13936 to 0.13027, saving model to best_model.keras\n",
      "\u001b[1m5/5\u001b[0m \u001b[32m━━━━━━━━━━━━━━━━━━━━\u001b[0m\u001b[37m\u001b[0m \u001b[1m0s\u001b[0m 19ms/step - loss: 0.1413 - mean_absolute_error: 0.3004 - val_loss: 0.1303 - val_mean_absolute_error: 0.2940\n",
      "Epoch 20/50\n",
      "\u001b[1m1/5\u001b[0m \u001b[32m━━━━\u001b[0m\u001b[37m━━━━━━━━━━━━━━━━\u001b[0m \u001b[1m0s\u001b[0m 19ms/step - loss: 0.2148 - mean_absolute_error: 0.3649\n",
      "Epoch 20: val_loss did not improve from 0.13027\n",
      "\u001b[1m5/5\u001b[0m \u001b[32m━━━━━━━━━━━━━━━━━━━━\u001b[0m\u001b[37m\u001b[0m \u001b[1m0s\u001b[0m 18ms/step - loss: 0.1717 - mean_absolute_error: 0.3225 - val_loss: 0.1478 - val_mean_absolute_error: 0.3401\n",
      "Epoch 21/50\n",
      "\u001b[1m1/5\u001b[0m \u001b[32m━━━━\u001b[0m\u001b[37m━━━━━━━━━━━━━━━━\u001b[0m \u001b[1m0s\u001b[0m 18ms/step - loss: 0.2029 - mean_absolute_error: 0.3273\n",
      "Epoch 21: val_loss did not improve from 0.13027\n",
      "\u001b[1m5/5\u001b[0m \u001b[32m━━━━━━━━━━━━━━━━━━━━\u001b[0m\u001b[37m\u001b[0m \u001b[1m0s\u001b[0m 18ms/step - loss: 0.1685 - mean_absolute_error: 0.3072 - val_loss: 0.1379 - val_mean_absolute_error: 0.2981\n",
      "Epoch 22/50\n",
      "\u001b[1m1/5\u001b[0m \u001b[32m━━━━\u001b[0m\u001b[37m━━━━━━━━━━━━━━━━\u001b[0m \u001b[1m0s\u001b[0m 18ms/step - loss: 0.1338 - mean_absolute_error: 0.2868\n",
      "Epoch 22: val_loss improved from 0.13027 to 0.12785, saving model to best_model.keras\n",
      "\u001b[1m5/5\u001b[0m \u001b[32m━━━━━━━━━━━━━━━━━━━━\u001b[0m\u001b[37m\u001b[0m \u001b[1m0s\u001b[0m 19ms/step - loss: 0.1293 - mean_absolute_error: 0.2839 - val_loss: 0.1278 - val_mean_absolute_error: 0.3102\n",
      "Epoch 23/50\n",
      "\u001b[1m1/5\u001b[0m \u001b[32m━━━━\u001b[0m\u001b[37m━━━━━━━━━━━━━━━━\u001b[0m \u001b[1m0s\u001b[0m 18ms/step - loss: 0.1801 - mean_absolute_error: 0.3248\n",
      "Epoch 23: val_loss improved from 0.12785 to 0.12086, saving model to best_model.keras\n",
      "\u001b[1m5/5\u001b[0m \u001b[32m━━━━━━━━━━━━━━━━━━━━\u001b[0m\u001b[37m\u001b[0m \u001b[1m0s\u001b[0m 20ms/step - loss: 0.1418 - mean_absolute_error: 0.2904 - val_loss: 0.1209 - val_mean_absolute_error: 0.2735\n",
      "Epoch 24/50\n",
      "\u001b[1m1/5\u001b[0m \u001b[32m━━━━\u001b[0m\u001b[37m━━━━━━━━━━━━━━━━\u001b[0m \u001b[1m0s\u001b[0m 19ms/step - loss: 0.0897 - mean_absolute_error: 0.2383\n",
      "Epoch 24: val_loss improved from 0.12086 to 0.10504, saving model to best_model.keras\n",
      "\u001b[1m5/5\u001b[0m \u001b[32m━━━━━━━━━━━━━━━━━━━━\u001b[0m\u001b[37m\u001b[0m \u001b[1m0s\u001b[0m 19ms/step - loss: 0.1099 - mean_absolute_error: 0.2619 - val_loss: 0.1050 - val_mean_absolute_error: 0.2759\n",
      "Epoch 25/50\n",
      "\u001b[1m5/5\u001b[0m \u001b[32m━━━━━━━━━━━━━━━━━━━━\u001b[0m\u001b[37m\u001b[0m \u001b[1m0s\u001b[0m 15ms/step - loss: 0.1374 - mean_absolute_error: 0.2780\n",
      "Epoch 25: val_loss improved from 0.10504 to 0.07276, saving model to best_model.keras\n",
      "\u001b[1m5/5\u001b[0m \u001b[32m━━━━━━━━━━━━━━━━━━━━\u001b[0m\u001b[37m\u001b[0m \u001b[1m0s\u001b[0m 22ms/step - loss: 0.1334 - mean_absolute_error: 0.2738 - val_loss: 0.0728 - val_mean_absolute_error: 0.2286\n",
      "Epoch 26/50\n",
      "\u001b[1m5/5\u001b[0m \u001b[32m━━━━━━━━━━━━━━━━━━━━\u001b[0m\u001b[37m\u001b[0m \u001b[1m0s\u001b[0m 13ms/step - loss: 0.1300 - mean_absolute_error: 0.2628\n",
      "Epoch 26: val_loss improved from 0.07276 to 0.06709, saving model to best_model.keras\n",
      "\u001b[1m5/5\u001b[0m \u001b[32m━━━━━━━━━━━━━━━━━━━━\u001b[0m\u001b[37m\u001b[0m \u001b[1m0s\u001b[0m 21ms/step - loss: 0.1266 - mean_absolute_error: 0.2603 - val_loss: 0.0671 - val_mean_absolute_error: 0.2163\n",
      "Epoch 27/50\n",
      "\u001b[1m5/5\u001b[0m \u001b[32m━━━━━━━━━━━━━━━━━━━━\u001b[0m\u001b[37m\u001b[0m \u001b[1m0s\u001b[0m 13ms/step - loss: 0.0849 - mean_absolute_error: 0.2142\n",
      "Epoch 27: val_loss improved from 0.06709 to 0.05268, saving model to best_model.keras\n",
      "\u001b[1m5/5\u001b[0m \u001b[32m━━━━━━━━━━━━━━━━━━━━\u001b[0m\u001b[37m\u001b[0m \u001b[1m0s\u001b[0m 21ms/step - loss: 0.0872 - mean_absolute_error: 0.2168 - val_loss: 0.0527 - val_mean_absolute_error: 0.1912\n",
      "Epoch 28/50\n",
      "\u001b[1m1/5\u001b[0m \u001b[32m━━━━\u001b[0m\u001b[37m━━━━━━━━━━━━━━━━\u001b[0m \u001b[1m0s\u001b[0m 19ms/step - loss: 0.1351 - mean_absolute_error: 0.2457\n",
      "Epoch 28: val_loss improved from 0.05268 to 0.04563, saving model to best_model.keras\n",
      "\u001b[1m5/5\u001b[0m \u001b[32m━━━━━━━━━━━━━━━━━━━━\u001b[0m\u001b[37m\u001b[0m \u001b[1m0s\u001b[0m 21ms/step - loss: 0.1064 - mean_absolute_error: 0.2353 - val_loss: 0.0456 - val_mean_absolute_error: 0.1722\n",
      "Epoch 29/50\n",
      "\u001b[1m5/5\u001b[0m \u001b[32m━━━━━━━━━━━━━━━━━━━━\u001b[0m\u001b[37m\u001b[0m \u001b[1m0s\u001b[0m 13ms/step - loss: 0.0846 - mean_absolute_error: 0.2160\n",
      "Epoch 29: val_loss did not improve from 0.04563\n",
      "\u001b[1m5/5\u001b[0m \u001b[32m━━━━━━━━━━━━━━━━━━━━\u001b[0m\u001b[37m\u001b[0m \u001b[1m0s\u001b[0m 19ms/step - loss: 0.0846 - mean_absolute_error: 0.2155 - val_loss: 0.0831 - val_mean_absolute_error: 0.2558\n",
      "Epoch 30/50\n",
      "\u001b[1m5/5\u001b[0m \u001b[32m━━━━━━━━━━━━━━━━━━━━\u001b[0m\u001b[37m\u001b[0m \u001b[1m0s\u001b[0m 14ms/step - loss: 0.0686 - mean_absolute_error: 0.2100\n",
      "Epoch 30: val_loss improved from 0.04563 to 0.03364, saving model to best_model.keras\n",
      "\u001b[1m5/5\u001b[0m \u001b[32m━━━━━━━━━━━━━━━━━━━━\u001b[0m\u001b[37m\u001b[0m \u001b[1m0s\u001b[0m 22ms/step - loss: 0.0696 - mean_absolute_error: 0.2104 - val_loss: 0.0336 - val_mean_absolute_error: 0.1501\n",
      "Epoch 31/50\n",
      "\u001b[1m5/5\u001b[0m \u001b[32m━━━━━━━━━━━━━━━━━━━━\u001b[0m\u001b[37m\u001b[0m \u001b[1m0s\u001b[0m 13ms/step - loss: 0.1068 - mean_absolute_error: 0.2405\n",
      "Epoch 31: val_loss did not improve from 0.03364\n",
      "\u001b[1m5/5\u001b[0m \u001b[32m━━━━━━━━━━━━━━━━━━━━\u001b[0m\u001b[37m\u001b[0m \u001b[1m0s\u001b[0m 19ms/step - loss: 0.1027 - mean_absolute_error: 0.2353 - val_loss: 0.0682 - val_mean_absolute_error: 0.2170\n",
      "Epoch 32/50\n",
      "\u001b[1m1/5\u001b[0m \u001b[32m━━━━\u001b[0m\u001b[37m━━━━━━━━━━━━━━━━\u001b[0m \u001b[1m0s\u001b[0m 18ms/step - loss: 0.0480 - mean_absolute_error: 0.1667\n",
      "Epoch 32: val_loss did not improve from 0.03364\n",
      "\u001b[1m5/5\u001b[0m \u001b[32m━━━━━━━━━━━━━━━━━━━━\u001b[0m\u001b[37m\u001b[0m \u001b[1m0s\u001b[0m 18ms/step - loss: 0.0640 - mean_absolute_error: 0.1915 - val_loss: 0.0502 - val_mean_absolute_error: 0.1935\n",
      "Epoch 33/50\n",
      "\u001b[1m1/5\u001b[0m \u001b[32m━━━━\u001b[0m\u001b[37m━━━━━━━━━━━━━━━━\u001b[0m \u001b[1m0s\u001b[0m 18ms/step - loss: 0.0541 - mean_absolute_error: 0.1871\n",
      "Epoch 33: val_loss improved from 0.03364 to 0.02614, saving model to best_model.keras\n",
      "\u001b[1m5/5\u001b[0m \u001b[32m━━━━━━━━━━━━━━━━━━━━\u001b[0m\u001b[37m\u001b[0m \u001b[1m0s\u001b[0m 20ms/step - loss: 0.0613 - mean_absolute_error: 0.1935 - val_loss: 0.0261 - val_mean_absolute_error: 0.1286\n",
      "Epoch 34/50\n",
      "\u001b[1m5/5\u001b[0m \u001b[32m━━━━━━━━━━━━━━━━━━━━\u001b[0m\u001b[37m\u001b[0m \u001b[1m0s\u001b[0m 13ms/step - loss: 0.0517 - mean_absolute_error: 0.1710\n",
      "Epoch 34: val_loss did not improve from 0.02614\n",
      "\u001b[1m5/5\u001b[0m \u001b[32m━━━━━━━━━━━━━━━━━━━━\u001b[0m\u001b[37m\u001b[0m \u001b[1m0s\u001b[0m 19ms/step - loss: 0.0524 - mean_absolute_error: 0.1711 - val_loss: 0.0844 - val_mean_absolute_error: 0.2454\n",
      "Epoch 35/50\n",
      "\u001b[1m3/5\u001b[0m \u001b[32m━━━━━━━━━━━━\u001b[0m\u001b[37m━━━━━━━━\u001b[0m \u001b[1m0s\u001b[0m 27ms/step - loss: 0.0430 - mean_absolute_error: 0.1654\n",
      "Epoch 35: val_loss improved from 0.02614 to 0.02590, saving model to best_model.keras\n",
      "\u001b[1m5/5\u001b[0m \u001b[32m━━━━━━━━━━━━━━━━━━━━\u001b[0m\u001b[37m\u001b[0m \u001b[1m0s\u001b[0m 28ms/step - loss: 0.0511 - mean_absolute_error: 0.1763 - val_loss: 0.0259 - val_mean_absolute_error: 0.1381\n",
      "Epoch 36/50\n",
      "\u001b[1m5/5\u001b[0m \u001b[32m━━━━━━━━━━━━━━━━━━━━\u001b[0m\u001b[37m\u001b[0m \u001b[1m0s\u001b[0m 14ms/step - loss: 0.0510 - mean_absolute_error: 0.1899\n",
      "Epoch 36: val_loss did not improve from 0.02590\n",
      "\u001b[1m5/5\u001b[0m \u001b[32m━━━━━━━━━━━━━━━━━━━━\u001b[0m\u001b[37m\u001b[0m \u001b[1m0s\u001b[0m 20ms/step - loss: 0.0533 - mean_absolute_error: 0.1928 - val_loss: 0.0599 - val_mean_absolute_error: 0.2061\n",
      "Epoch 37/50\n",
      "\u001b[1m5/5\u001b[0m \u001b[32m━━━━━━━━━━━━━━━━━━━━\u001b[0m\u001b[37m\u001b[0m \u001b[1m0s\u001b[0m 13ms/step - loss: 0.0505 - mean_absolute_error: 0.1788\n",
      "Epoch 37: val_loss did not improve from 0.02590\n",
      "\u001b[1m5/5\u001b[0m \u001b[32m━━━━━━━━━━━━━━━━━━━━\u001b[0m\u001b[37m\u001b[0m \u001b[1m0s\u001b[0m 19ms/step - loss: 0.0510 - mean_absolute_error: 0.1794 - val_loss: 0.0540 - val_mean_absolute_error: 0.1961\n",
      "Epoch 38/50\n",
      "\u001b[1m5/5\u001b[0m \u001b[32m━━━━━━━━━━━━━━━━━━━━\u001b[0m\u001b[37m\u001b[0m \u001b[1m0s\u001b[0m 13ms/step - loss: 0.0423 - mean_absolute_error: 0.1650\n",
      "Epoch 38: val_loss improved from 0.02590 to 0.01724, saving model to best_model.keras\n",
      "\u001b[1m5/5\u001b[0m \u001b[32m━━━━━━━━━━━━━━━━━━━━\u001b[0m\u001b[37m\u001b[0m \u001b[1m0s\u001b[0m 21ms/step - loss: 0.0431 - mean_absolute_error: 0.1650 - val_loss: 0.0172 - val_mean_absolute_error: 0.1011\n",
      "Epoch 39/50\n",
      "\u001b[1m5/5\u001b[0m \u001b[32m━━━━━━━━━━━━━━━━━━━━\u001b[0m\u001b[37m\u001b[0m \u001b[1m0s\u001b[0m 16ms/step - loss: 0.0423 - mean_absolute_error: 0.1629\n",
      "Epoch 39: val_loss did not improve from 0.01724\n",
      "\u001b[1m5/5\u001b[0m \u001b[32m━━━━━━━━━━━━━━━━━━━━\u001b[0m\u001b[37m\u001b[0m \u001b[1m0s\u001b[0m 22ms/step - loss: 0.0433 - mean_absolute_error: 0.1641 - val_loss: 0.0653 - val_mean_absolute_error: 0.2239\n",
      "Epoch 40/50\n",
      "\u001b[1m1/5\u001b[0m \u001b[32m━━━━\u001b[0m\u001b[37m━━━━━━━━━━━━━━━━\u001b[0m \u001b[1m0s\u001b[0m 19ms/step - loss: 0.0405 - mean_absolute_error: 0.1660\n",
      "Epoch 40: val_loss did not improve from 0.01724\n",
      "\u001b[1m5/5\u001b[0m \u001b[32m━━━━━━━━━━━━━━━━━━━━\u001b[0m\u001b[37m\u001b[0m \u001b[1m0s\u001b[0m 18ms/step - loss: 0.0396 - mean_absolute_error: 0.1528 - val_loss: 0.0678 - val_mean_absolute_error: 0.2286\n",
      "Epoch 41/50\n",
      "\u001b[1m5/5\u001b[0m \u001b[32m━━━━━━━━━━━━━━━━━━━━\u001b[0m\u001b[37m\u001b[0m \u001b[1m0s\u001b[0m 13ms/step - loss: 0.0407 - mean_absolute_error: 0.1483\n",
      "Epoch 41: val_loss did not improve from 0.01724\n",
      "\u001b[1m5/5\u001b[0m \u001b[32m━━━━━━━━━━━━━━━━━━━━\u001b[0m\u001b[37m\u001b[0m \u001b[1m0s\u001b[0m 20ms/step - loss: 0.0406 - mean_absolute_error: 0.1480 - val_loss: 0.0291 - val_mean_absolute_error: 0.1277\n",
      "Epoch 42/50\n",
      "\u001b[1m1/5\u001b[0m \u001b[32m━━━━\u001b[0m\u001b[37m━━━━━━━━━━━━━━━━\u001b[0m \u001b[1m0s\u001b[0m 18ms/step - loss: 0.0559 - mean_absolute_error: 0.1467\n",
      "Epoch 42: val_loss did not improve from 0.01724\n",
      "\u001b[1m5/5\u001b[0m \u001b[32m━━━━━━━━━━━━━━━━━━━━\u001b[0m\u001b[37m\u001b[0m \u001b[1m0s\u001b[0m 18ms/step - loss: 0.0442 - mean_absolute_error: 0.1493 - val_loss: 0.0205 - val_mean_absolute_error: 0.1283\n",
      "Epoch 43/50\n",
      "\u001b[1m5/5\u001b[0m \u001b[32m━━━━━━━━━━━━━━━━━━━━\u001b[0m\u001b[37m\u001b[0m \u001b[1m0s\u001b[0m 13ms/step - loss: 0.0463 - mean_absolute_error: 0.1602\n",
      "Epoch 43: val_loss did not improve from 0.01724\n",
      "\u001b[1m5/5\u001b[0m \u001b[32m━━━━━━━━━━━━━━━━━━━━\u001b[0m\u001b[37m\u001b[0m \u001b[1m0s\u001b[0m 19ms/step - loss: 0.0449 - mean_absolute_error: 0.1580 - val_loss: 0.0393 - val_mean_absolute_error: 0.1557\n",
      "Epoch 44/50\n",
      "\u001b[1m5/5\u001b[0m \u001b[32m━━━━━━━━━━━━━━━━━━━━\u001b[0m\u001b[37m\u001b[0m \u001b[1m0s\u001b[0m 13ms/step - loss: 0.0297 - mean_absolute_error: 0.1252\n",
      "Epoch 44: val_loss did not improve from 0.01724\n",
      "\u001b[1m5/5\u001b[0m \u001b[32m━━━━━━━━━━━━━━━━━━━━\u001b[0m\u001b[37m\u001b[0m \u001b[1m0s\u001b[0m 20ms/step - loss: 0.0301 - mean_absolute_error: 0.1259 - val_loss: 0.0450 - val_mean_absolute_error: 0.1851\n",
      "Epoch 45/50\n",
      "\u001b[1m5/5\u001b[0m \u001b[32m━━━━━━━━━━━━━━━━━━━━\u001b[0m\u001b[37m\u001b[0m \u001b[1m0s\u001b[0m 13ms/step - loss: 0.0259 - mean_absolute_error: 0.1118\n",
      "Epoch 45: val_loss did not improve from 0.01724\n",
      "\u001b[1m5/5\u001b[0m \u001b[32m━━━━━━━━━━━━━━━━━━━━\u001b[0m\u001b[37m\u001b[0m \u001b[1m0s\u001b[0m 19ms/step - loss: 0.0261 - mean_absolute_error: 0.1122 - val_loss: 0.0389 - val_mean_absolute_error: 0.1716\n",
      "Epoch 46/50\n",
      "\u001b[1m5/5\u001b[0m \u001b[32m━━━━━━━━━━━━━━━━━━━━\u001b[0m\u001b[37m\u001b[0m \u001b[1m0s\u001b[0m 13ms/step - loss: 0.0299 - mean_absolute_error: 0.1232\n",
      "Epoch 46: val_loss did not improve from 0.01724\n",
      "\u001b[1m5/5\u001b[0m \u001b[32m━━━━━━━━━━━━━━━━━━━━\u001b[0m\u001b[37m\u001b[0m \u001b[1m0s\u001b[0m 19ms/step - loss: 0.0294 - mean_absolute_error: 0.1227 - val_loss: 0.0241 - val_mean_absolute_error: 0.1226\n",
      "Epoch 47/50\n",
      "\u001b[1m5/5\u001b[0m \u001b[32m━━━━━━━━━━━━━━━━━━━━\u001b[0m\u001b[37m\u001b[0m \u001b[1m0s\u001b[0m 13ms/step - loss: 0.0183 - mean_absolute_error: 0.1020\n",
      "Epoch 47: val_loss did not improve from 0.01724\n",
      "\u001b[1m5/5\u001b[0m \u001b[32m━━━━━━━━━━━━━━━━━━━━\u001b[0m\u001b[37m\u001b[0m \u001b[1m0s\u001b[0m 21ms/step - loss: 0.0190 - mean_absolute_error: 0.1031 - val_loss: 0.0358 - val_mean_absolute_error: 0.1517\n",
      "Epoch 48/50\n",
      "\u001b[1m5/5\u001b[0m \u001b[32m━━━━━━━━━━━━━━━━━━━━\u001b[0m\u001b[37m\u001b[0m \u001b[1m0s\u001b[0m 15ms/step - loss: 0.0178 - mean_absolute_error: 0.1007\n",
      "Epoch 48: val_loss did not improve from 0.01724\n",
      "\u001b[1m5/5\u001b[0m \u001b[32m━━━━━━━━━━━━━━━━━━━━\u001b[0m\u001b[37m\u001b[0m \u001b[1m0s\u001b[0m 22ms/step - loss: 0.0182 - mean_absolute_error: 0.1013 - val_loss: 0.0663 - val_mean_absolute_error: 0.2173\n",
      "Epoch 48: early stopping\n",
      "Restoring model weights from the end of the best epoch: 38.\n",
      "Modelltraining abgeschlossen.\n"
     ]
    }
   ],
   "source": [
    "# MODELL-PROTOTYPING (LSTM)\n",
    "\n",
    "# Funktion zum Erstellen des Modells\n",
    "def build_lstm_model(input_shape):\n",
    "    \"\"\"Baut und kompiliert ein LSTM-Modell für die Sequenz-zu-Wert-Regression.\"\"\"\n",
    "\n",
    "    # Input-Layer, der die Form unserer Sequenzen erwartet\n",
    "    inputs = Input(shape=input_shape)\n",
    "\n",
    "    # LSTM-Layer\n",
    "    lstm_out = LSTM(units=64, return_sequences=False)(inputs)\n",
    "\n",
    "    # Output-Layer\n",
    "    outputs = Dense(units=1)(lstm_out)\n",
    "\n",
    "    # Erstelle das Modell\n",
    "    model = Model(inputs=inputs, outputs=outputs)\n",
    "\n",
    "    # Kompiliere das Modell\n",
    "    model.compile(\n",
    "        optimizer=Adam(learning_rate=0.001),\n",
    "        loss=\"mean_squared_error\",\n",
    "        metrics=[\"mean_absolute_error\"],\n",
    "    )\n",
    "\n",
    "    return model\n",
    "\n",
    "\n",
    "# Definiere die Input-Form basierend auf unseren aufbereiteten Daten\n",
    "input_shape = (X_train_scaled.shape[1], X_train_scaled.shape[2])  # (140, 5)\n",
    "\n",
    "# Baue das Modell und zeige die Architektur an\n",
    "model = build_lstm_model(input_shape)\n",
    "print(\"Modellarchitektur:\")\n",
    "model.summary()\n",
    "\n",
    "\n",
    "# Callbacks für ein besseres Training\n",
    "# 1. EarlyStopping: Beendet das Training, wenn die Validierungs-Loss sich nicht mehr verbessert.\n",
    "early_stopping = EarlyStopping(\n",
    "    monitor=\"val_loss\",  # Überwache die Loss auf den Validierungsdaten\n",
    "    patience=10,  # Anzahl der Epochen ohne Verbesserung, bevor gestoppt wird\n",
    "    verbose=1,\n",
    "    restore_best_weights=True,\n",
    ")  # Stellt die besten Gewichte am Ende wieder her\n",
    "\n",
    "# 2. ModelCheckpoint: Speichert das beste Modell während des Trainings.\n",
    "model_checkpoint = ModelCheckpoint(\n",
    "    \"best_model.keras\",  # Dateipfad\n",
    "    monitor=\"val_loss\",\n",
    "    save_best_only=True,  # Speichere nur, wenn 'val_loss' sich verbessert\n",
    "    verbose=1,\n",
    ")\n",
    "\n",
    "# Trainiere das Modell\n",
    "print(\"\\nStarte das Modelltraining...\")\n",
    "history = model.fit(\n",
    "    X_train_scaled,\n",
    "    y_train_scaled,\n",
    "    epochs=50,\n",
    "    batch_size=32,\n",
    "    validation_data=(X_val_scaled, y_val_scaled),\n",
    "    callbacks=[early_stopping, model_checkpoint],\n",
    "    verbose=1,\n",
    ")\n",
    "print(\"Modelltraining abgeschlossen.\")"
   ]
  },
  {
   "cell_type": "code",
   "execution_count": 8,
   "id": "a8bc3f46",
   "metadata": {},
   "outputs": [
    {
     "data": {
      "application/vnd.plotly.v1+json": {
       "config": {
        "plotlyServerURL": "https://plot.ly"
       },
       "data": [
        {
         "hovertemplate": "Datensatz=loss<br>epoch=%{x}<br>Loss (MSE)=%{y}<extra></extra>",
         "legendgroup": "loss",
         "line": {
          "color": "#636efa",
          "dash": "solid"
         },
         "marker": {
          "symbol": "circle"
         },
         "mode": "lines",
         "name": "loss",
         "orientation": "v",
         "showlegend": true,
         "type": "scatter",
         "x": {
          "bdata": "AQIDBAUGBwgJCgsMDQ4PEBESExQVFhcYGRobHB0eHyAhIiMkJSYnKCkqKywtLi8w",
          "dtype": "i1"
         },
         "xaxis": "x",
         "y": {
          "bdata": "AAAAoBHH6j8AAACgop7kPwAAAGBKIuM/AAAAYHQD4j8AAACAQk3hPwAAAECtdd8/AAAAoE5E3T8AAADgg/rXPwAAAMDiA9Q/AAAAIDZ80z8AAACgIS3RPwAAAMDnLtA/AAAAYFQNzT8AAABABKbKPwAAAIAsH8k/AAAAAMhpxz8AAACgvRbGPwAAAADII8U/AAAAYM35wz8AAAAAKQPEPwAAAOBtWcM/AAAAAFJ8wT8AAABglY3APwAAAGAwTr8/AAAAYGMWvT8AAABgYSa8PwAAAIA4Q7k/AAAAQK6ZuD8AAABgm5K1PwAAACCvG7M/AAAAoDgAtT8AAABglVixPwAAAOD9J7E/AAAAoLWwrD8AAADAMbavPwAAAEC4p7A/AAAAQDGIqz8AAAAAwvunPwAAAODctag/AAAAgPxGpj8AAABAvXakPwAAACDdGaQ/AAAA4PSZoz8AAABAJkCgPwAAAACwjZs/AAAAoO4Xmz8AAACgEduWPwAAAGCHn5Q/",
          "dtype": "f8"
         },
         "yaxis": "y"
        },
        {
         "hovertemplate": "Datensatz=val_loss<br>epoch=%{x}<br>Loss (MSE)=%{y}<extra></extra>",
         "legendgroup": "val_loss",
         "line": {
          "color": "#EF553B",
          "dash": "solid"
         },
         "marker": {
          "symbol": "circle"
         },
         "mode": "lines",
         "name": "val_loss",
         "orientation": "v",
         "showlegend": true,
         "type": "scatter",
         "x": {
          "bdata": "AQIDBAUGBwgJCgsMDQ4PEBESExQVFhcYGRobHB0eHyAhIiMkJSYnKCkqKywtLi8w",
          "dtype": "i1"
         },
         "xaxis": "x",
         "y": {
          "bdata": "AAAAQMD46D8AAACgCjLmPwAAAEAncOA/AAAAoJtQ2z8AAABAUEHYPwAAAMC27tg/AAAAICDT1D8AAAAAgibMPwAAAKB8RNE/AAAAgPjy0D8AAABgeljHPwAAAKBfZsM/AAAAAL69xD8AAADAJm7GPwAAAMAeXMM/AAAAQK/Rwz8AAABAc9bBPwAAACC97sM/AAAAwNWswD8AAADg1urCPwAAAGCHpsE/AAAAwFBdwD8AAABgivC+PwAAAAAw5Lo/AAAAYKGgsj8AAABAnCyxPwAAAACR+Ko/AAAAoFNdpz8AAACgM0i1PwAAAKCdOKE/AAAAYJd4sT8AAABAqLSpPwAAAACow5o/AAAAwFWatT8AAABgZYSaPwAAAMC/qq4/AAAAoCylqz8AAACgOqeRPwAAAIAotrA/AAAAQLldsT8AAABAMcqdPwAAAGCxA5U/AAAAAHYipD8AAACgDw2nPwAAACAS6KM/AAAAwBevmD8AAACAJ1qiPwAAAMBf9rA/",
          "dtype": "f8"
         },
         "yaxis": "y"
        }
       ],
       "layout": {
        "legend": {
         "title": {
          "text": "Datensatz"
         },
         "tracegroupgap": 0
        },
        "template": {
         "data": {
          "bar": [
           {
            "error_x": {
             "color": "#2a3f5f"
            },
            "error_y": {
             "color": "#2a3f5f"
            },
            "marker": {
             "line": {
              "color": "#E5ECF6",
              "width": 0.5
             },
             "pattern": {
              "fillmode": "overlay",
              "size": 10,
              "solidity": 0.2
             }
            },
            "type": "bar"
           }
          ],
          "barpolar": [
           {
            "marker": {
             "line": {
              "color": "#E5ECF6",
              "width": 0.5
             },
             "pattern": {
              "fillmode": "overlay",
              "size": 10,
              "solidity": 0.2
             }
            },
            "type": "barpolar"
           }
          ],
          "carpet": [
           {
            "aaxis": {
             "endlinecolor": "#2a3f5f",
             "gridcolor": "white",
             "linecolor": "white",
             "minorgridcolor": "white",
             "startlinecolor": "#2a3f5f"
            },
            "baxis": {
             "endlinecolor": "#2a3f5f",
             "gridcolor": "white",
             "linecolor": "white",
             "minorgridcolor": "white",
             "startlinecolor": "#2a3f5f"
            },
            "type": "carpet"
           }
          ],
          "choropleth": [
           {
            "colorbar": {
             "outlinewidth": 0,
             "ticks": ""
            },
            "type": "choropleth"
           }
          ],
          "contour": [
           {
            "colorbar": {
             "outlinewidth": 0,
             "ticks": ""
            },
            "colorscale": [
             [
              0,
              "#0d0887"
             ],
             [
              0.1111111111111111,
              "#46039f"
             ],
             [
              0.2222222222222222,
              "#7201a8"
             ],
             [
              0.3333333333333333,
              "#9c179e"
             ],
             [
              0.4444444444444444,
              "#bd3786"
             ],
             [
              0.5555555555555556,
              "#d8576b"
             ],
             [
              0.6666666666666666,
              "#ed7953"
             ],
             [
              0.7777777777777778,
              "#fb9f3a"
             ],
             [
              0.8888888888888888,
              "#fdca26"
             ],
             [
              1,
              "#f0f921"
             ]
            ],
            "type": "contour"
           }
          ],
          "contourcarpet": [
           {
            "colorbar": {
             "outlinewidth": 0,
             "ticks": ""
            },
            "type": "contourcarpet"
           }
          ],
          "heatmap": [
           {
            "colorbar": {
             "outlinewidth": 0,
             "ticks": ""
            },
            "colorscale": [
             [
              0,
              "#0d0887"
             ],
             [
              0.1111111111111111,
              "#46039f"
             ],
             [
              0.2222222222222222,
              "#7201a8"
             ],
             [
              0.3333333333333333,
              "#9c179e"
             ],
             [
              0.4444444444444444,
              "#bd3786"
             ],
             [
              0.5555555555555556,
              "#d8576b"
             ],
             [
              0.6666666666666666,
              "#ed7953"
             ],
             [
              0.7777777777777778,
              "#fb9f3a"
             ],
             [
              0.8888888888888888,
              "#fdca26"
             ],
             [
              1,
              "#f0f921"
             ]
            ],
            "type": "heatmap"
           }
          ],
          "histogram": [
           {
            "marker": {
             "pattern": {
              "fillmode": "overlay",
              "size": 10,
              "solidity": 0.2
             }
            },
            "type": "histogram"
           }
          ],
          "histogram2d": [
           {
            "colorbar": {
             "outlinewidth": 0,
             "ticks": ""
            },
            "colorscale": [
             [
              0,
              "#0d0887"
             ],
             [
              0.1111111111111111,
              "#46039f"
             ],
             [
              0.2222222222222222,
              "#7201a8"
             ],
             [
              0.3333333333333333,
              "#9c179e"
             ],
             [
              0.4444444444444444,
              "#bd3786"
             ],
             [
              0.5555555555555556,
              "#d8576b"
             ],
             [
              0.6666666666666666,
              "#ed7953"
             ],
             [
              0.7777777777777778,
              "#fb9f3a"
             ],
             [
              0.8888888888888888,
              "#fdca26"
             ],
             [
              1,
              "#f0f921"
             ]
            ],
            "type": "histogram2d"
           }
          ],
          "histogram2dcontour": [
           {
            "colorbar": {
             "outlinewidth": 0,
             "ticks": ""
            },
            "colorscale": [
             [
              0,
              "#0d0887"
             ],
             [
              0.1111111111111111,
              "#46039f"
             ],
             [
              0.2222222222222222,
              "#7201a8"
             ],
             [
              0.3333333333333333,
              "#9c179e"
             ],
             [
              0.4444444444444444,
              "#bd3786"
             ],
             [
              0.5555555555555556,
              "#d8576b"
             ],
             [
              0.6666666666666666,
              "#ed7953"
             ],
             [
              0.7777777777777778,
              "#fb9f3a"
             ],
             [
              0.8888888888888888,
              "#fdca26"
             ],
             [
              1,
              "#f0f921"
             ]
            ],
            "type": "histogram2dcontour"
           }
          ],
          "mesh3d": [
           {
            "colorbar": {
             "outlinewidth": 0,
             "ticks": ""
            },
            "type": "mesh3d"
           }
          ],
          "parcoords": [
           {
            "line": {
             "colorbar": {
              "outlinewidth": 0,
              "ticks": ""
             }
            },
            "type": "parcoords"
           }
          ],
          "pie": [
           {
            "automargin": true,
            "type": "pie"
           }
          ],
          "scatter": [
           {
            "fillpattern": {
             "fillmode": "overlay",
             "size": 10,
             "solidity": 0.2
            },
            "type": "scatter"
           }
          ],
          "scatter3d": [
           {
            "line": {
             "colorbar": {
              "outlinewidth": 0,
              "ticks": ""
             }
            },
            "marker": {
             "colorbar": {
              "outlinewidth": 0,
              "ticks": ""
             }
            },
            "type": "scatter3d"
           }
          ],
          "scattercarpet": [
           {
            "marker": {
             "colorbar": {
              "outlinewidth": 0,
              "ticks": ""
             }
            },
            "type": "scattercarpet"
           }
          ],
          "scattergeo": [
           {
            "marker": {
             "colorbar": {
              "outlinewidth": 0,
              "ticks": ""
             }
            },
            "type": "scattergeo"
           }
          ],
          "scattergl": [
           {
            "marker": {
             "colorbar": {
              "outlinewidth": 0,
              "ticks": ""
             }
            },
            "type": "scattergl"
           }
          ],
          "scattermap": [
           {
            "marker": {
             "colorbar": {
              "outlinewidth": 0,
              "ticks": ""
             }
            },
            "type": "scattermap"
           }
          ],
          "scattermapbox": [
           {
            "marker": {
             "colorbar": {
              "outlinewidth": 0,
              "ticks": ""
             }
            },
            "type": "scattermapbox"
           }
          ],
          "scatterpolar": [
           {
            "marker": {
             "colorbar": {
              "outlinewidth": 0,
              "ticks": ""
             }
            },
            "type": "scatterpolar"
           }
          ],
          "scatterpolargl": [
           {
            "marker": {
             "colorbar": {
              "outlinewidth": 0,
              "ticks": ""
             }
            },
            "type": "scatterpolargl"
           }
          ],
          "scatterternary": [
           {
            "marker": {
             "colorbar": {
              "outlinewidth": 0,
              "ticks": ""
             }
            },
            "type": "scatterternary"
           }
          ],
          "surface": [
           {
            "colorbar": {
             "outlinewidth": 0,
             "ticks": ""
            },
            "colorscale": [
             [
              0,
              "#0d0887"
             ],
             [
              0.1111111111111111,
              "#46039f"
             ],
             [
              0.2222222222222222,
              "#7201a8"
             ],
             [
              0.3333333333333333,
              "#9c179e"
             ],
             [
              0.4444444444444444,
              "#bd3786"
             ],
             [
              0.5555555555555556,
              "#d8576b"
             ],
             [
              0.6666666666666666,
              "#ed7953"
             ],
             [
              0.7777777777777778,
              "#fb9f3a"
             ],
             [
              0.8888888888888888,
              "#fdca26"
             ],
             [
              1,
              "#f0f921"
             ]
            ],
            "type": "surface"
           }
          ],
          "table": [
           {
            "cells": {
             "fill": {
              "color": "#EBF0F8"
             },
             "line": {
              "color": "white"
             }
            },
            "header": {
             "fill": {
              "color": "#C8D4E3"
             },
             "line": {
              "color": "white"
             }
            },
            "type": "table"
           }
          ]
         },
         "layout": {
          "annotationdefaults": {
           "arrowcolor": "#2a3f5f",
           "arrowhead": 0,
           "arrowwidth": 1
          },
          "autotypenumbers": "strict",
          "coloraxis": {
           "colorbar": {
            "outlinewidth": 0,
            "ticks": ""
           }
          },
          "colorscale": {
           "diverging": [
            [
             0,
             "#8e0152"
            ],
            [
             0.1,
             "#c51b7d"
            ],
            [
             0.2,
             "#de77ae"
            ],
            [
             0.3,
             "#f1b6da"
            ],
            [
             0.4,
             "#fde0ef"
            ],
            [
             0.5,
             "#f7f7f7"
            ],
            [
             0.6,
             "#e6f5d0"
            ],
            [
             0.7,
             "#b8e186"
            ],
            [
             0.8,
             "#7fbc41"
            ],
            [
             0.9,
             "#4d9221"
            ],
            [
             1,
             "#276419"
            ]
           ],
           "sequential": [
            [
             0,
             "#0d0887"
            ],
            [
             0.1111111111111111,
             "#46039f"
            ],
            [
             0.2222222222222222,
             "#7201a8"
            ],
            [
             0.3333333333333333,
             "#9c179e"
            ],
            [
             0.4444444444444444,
             "#bd3786"
            ],
            [
             0.5555555555555556,
             "#d8576b"
            ],
            [
             0.6666666666666666,
             "#ed7953"
            ],
            [
             0.7777777777777778,
             "#fb9f3a"
            ],
            [
             0.8888888888888888,
             "#fdca26"
            ],
            [
             1,
             "#f0f921"
            ]
           ],
           "sequentialminus": [
            [
             0,
             "#0d0887"
            ],
            [
             0.1111111111111111,
             "#46039f"
            ],
            [
             0.2222222222222222,
             "#7201a8"
            ],
            [
             0.3333333333333333,
             "#9c179e"
            ],
            [
             0.4444444444444444,
             "#bd3786"
            ],
            [
             0.5555555555555556,
             "#d8576b"
            ],
            [
             0.6666666666666666,
             "#ed7953"
            ],
            [
             0.7777777777777778,
             "#fb9f3a"
            ],
            [
             0.8888888888888888,
             "#fdca26"
            ],
            [
             1,
             "#f0f921"
            ]
           ]
          },
          "colorway": [
           "#636efa",
           "#EF553B",
           "#00cc96",
           "#ab63fa",
           "#FFA15A",
           "#19d3f3",
           "#FF6692",
           "#B6E880",
           "#FF97FF",
           "#FECB52"
          ],
          "font": {
           "color": "#2a3f5f"
          },
          "geo": {
           "bgcolor": "white",
           "lakecolor": "white",
           "landcolor": "#E5ECF6",
           "showlakes": true,
           "showland": true,
           "subunitcolor": "white"
          },
          "hoverlabel": {
           "align": "left"
          },
          "hovermode": "closest",
          "mapbox": {
           "style": "light"
          },
          "paper_bgcolor": "white",
          "plot_bgcolor": "#E5ECF6",
          "polar": {
           "angularaxis": {
            "gridcolor": "white",
            "linecolor": "white",
            "ticks": ""
           },
           "bgcolor": "#E5ECF6",
           "radialaxis": {
            "gridcolor": "white",
            "linecolor": "white",
            "ticks": ""
           }
          },
          "scene": {
           "xaxis": {
            "backgroundcolor": "#E5ECF6",
            "gridcolor": "white",
            "gridwidth": 2,
            "linecolor": "white",
            "showbackground": true,
            "ticks": "",
            "zerolinecolor": "white"
           },
           "yaxis": {
            "backgroundcolor": "#E5ECF6",
            "gridcolor": "white",
            "gridwidth": 2,
            "linecolor": "white",
            "showbackground": true,
            "ticks": "",
            "zerolinecolor": "white"
           },
           "zaxis": {
            "backgroundcolor": "#E5ECF6",
            "gridcolor": "white",
            "gridwidth": 2,
            "linecolor": "white",
            "showbackground": true,
            "ticks": "",
            "zerolinecolor": "white"
           }
          },
          "shapedefaults": {
           "line": {
            "color": "#2a3f5f"
           }
          },
          "ternary": {
           "aaxis": {
            "gridcolor": "white",
            "linecolor": "white",
            "ticks": ""
           },
           "baxis": {
            "gridcolor": "white",
            "linecolor": "white",
            "ticks": ""
           },
           "bgcolor": "#E5ECF6",
           "caxis": {
            "gridcolor": "white",
            "linecolor": "white",
            "ticks": ""
           }
          },
          "title": {
           "x": 0.05
          },
          "xaxis": {
           "automargin": true,
           "gridcolor": "white",
           "linecolor": "white",
           "ticks": "",
           "title": {
            "standoff": 15
           },
           "zerolinecolor": "white",
           "zerolinewidth": 2
          },
          "yaxis": {
           "automargin": true,
           "gridcolor": "white",
           "linecolor": "white",
           "ticks": "",
           "title": {
            "standoff": 15
           },
           "zerolinecolor": "white",
           "zerolinewidth": 2
          }
         }
        },
        "title": {
         "text": "Trainings- & Validierungs-Loss (MSE)"
        },
        "xaxis": {
         "anchor": "y",
         "domain": [
          0,
          1
         ],
         "title": {
          "text": "epoch"
         }
        },
        "yaxis": {
         "anchor": "x",
         "domain": [
          0,
          1
         ],
         "title": {
          "text": "Loss (MSE)"
         }
        }
       }
      }
     },
     "metadata": {},
     "output_type": "display_data"
    },
    {
     "data": {
      "application/vnd.plotly.v1+json": {
       "config": {
        "plotlyServerURL": "https://plot.ly"
       },
       "data": [
        {
         "hovertemplate": "Datensatz=mean_absolute_error<br>epoch=%{x}<br>Mean Absolute Error=%{y}<extra></extra>",
         "legendgroup": "mean_absolute_error",
         "line": {
          "color": "#636efa",
          "dash": "solid"
         },
         "marker": {
          "symbol": "circle"
         },
         "mode": "lines",
         "name": "mean_absolute_error",
         "orientation": "v",
         "showlegend": true,
         "type": "scatter",
         "x": {
          "bdata": "AQIDBAUGBwgJCgsMDQ4PEBESExQVFhcYGRobHB0eHyAhIiMkJSYnKCkqKywtLi8w",
          "dtype": "i1"
         },
         "xaxis": "x",
         "y": {
          "bdata": "AAAAwCrq5z8AAADA88XkPwAAAABA+uM/AAAAYHcn4z8AAADAo6HiPwAAAED1zeE/AAAAQHc64T8AAACgTR7ePwAAAKDPIdw/AAAAQKb23D8AAABgD2/aPwAAAGCay9k/AAAAICZK2D8AAACgSa/XPwAAACBBstY/AAAAIC/W1T8AAADAKOvUPwAAAKCJZNQ/AAAAQHh10z8AAABgBajTPwAAAMAMKNM/AAAA4J1y0j8AAABA67bRPwAAAMB4ZNE/AAAAYLAt0D8AAABgYcHPPwAAAAAocM0/AAAAQGb8zT8AAABAbEjLPwAAAACFLMs/AAAAwLfQyj8AAAAA3UnJPwAAAKCmdck/AAAAQLX+xT8AAAAAmEfIPwAAAKBDj8o/AAAAwMdZxz8AAACAcx/FPwAAAABuw8U/AAAAoAvLwz8AAADAw73CPwAAAMAVEcM/AAAAAKzRwj8AAABga4TAPwAAAACsNr0/AAAAwBbJvj8AAABgmdu7PwAAAMBfo7o/",
          "dtype": "f8"
         },
         "yaxis": "y"
        },
        {
         "hovertemplate": "Datensatz=val_mean_absolute_error<br>epoch=%{x}<br>Mean Absolute Error=%{y}<extra></extra>",
         "legendgroup": "val_mean_absolute_error",
         "line": {
          "color": "#EF553B",
          "dash": "solid"
         },
         "marker": {
          "symbol": "circle"
         },
         "mode": "lines",
         "name": "val_mean_absolute_error",
         "orientation": "v",
         "showlegend": true,
         "type": "scatter",
         "x": {
          "bdata": "AQIDBAUGBwgJCgsMDQ4PEBESExQVFhcYGRobHB0eHyAhIiMkJSYnKCkqKywtLi8w",
          "dtype": "i1"
         },
         "xaxis": "x",
         "y": {
          "bdata": "AAAAYByx5j8AAAAAlkTmPwAAAEBSquI/AAAAwAvD4D8AAAAAVcLfPwAAAABaUeE/AAAAYJkR4D8AAABA1mfZPwAAAAAXf9s/AAAAQM8l3D8AAAAgoavXPwAAAMChUtU/AAAAQNaN1j8AAADgh1vXPwAAAEDYM9U/AAAAAGni1T8AAABAekrUPwAAAAD+ztQ/AAAAoEHQ0j8AAABA5MPVPwAAAGByE9M/AAAAoGTa0z8AAABgWYDRPwAAAKCsqNE/AAAAQFFCzT8AAACgVK7LPwAAAAD5d8g/AAAAoOgJxj8AAADAgV/QPwAAAGDENsM/AAAAAF/Fyz8AAACgvsPIPwAAAEBxdMA/AAAAAKpozz8AAAAgSK7BPwAAAMBHYso/AAAAQAAbyT8AAABgnt65PwAAAABSp8w/AAAAYGdCzT8AAADAIFnAPwAAAEA7bMA/AAAAwOnuwz8AAADghrHHPwAAAMAd9sU/AAAAYL9hvz8AAACAk2rDPwAAAGC00cs/",
          "dtype": "f8"
         },
         "yaxis": "y"
        }
       ],
       "layout": {
        "legend": {
         "title": {
          "text": "Datensatz"
         },
         "tracegroupgap": 0
        },
        "template": {
         "data": {
          "bar": [
           {
            "error_x": {
             "color": "#2a3f5f"
            },
            "error_y": {
             "color": "#2a3f5f"
            },
            "marker": {
             "line": {
              "color": "#E5ECF6",
              "width": 0.5
             },
             "pattern": {
              "fillmode": "overlay",
              "size": 10,
              "solidity": 0.2
             }
            },
            "type": "bar"
           }
          ],
          "barpolar": [
           {
            "marker": {
             "line": {
              "color": "#E5ECF6",
              "width": 0.5
             },
             "pattern": {
              "fillmode": "overlay",
              "size": 10,
              "solidity": 0.2
             }
            },
            "type": "barpolar"
           }
          ],
          "carpet": [
           {
            "aaxis": {
             "endlinecolor": "#2a3f5f",
             "gridcolor": "white",
             "linecolor": "white",
             "minorgridcolor": "white",
             "startlinecolor": "#2a3f5f"
            },
            "baxis": {
             "endlinecolor": "#2a3f5f",
             "gridcolor": "white",
             "linecolor": "white",
             "minorgridcolor": "white",
             "startlinecolor": "#2a3f5f"
            },
            "type": "carpet"
           }
          ],
          "choropleth": [
           {
            "colorbar": {
             "outlinewidth": 0,
             "ticks": ""
            },
            "type": "choropleth"
           }
          ],
          "contour": [
           {
            "colorbar": {
             "outlinewidth": 0,
             "ticks": ""
            },
            "colorscale": [
             [
              0,
              "#0d0887"
             ],
             [
              0.1111111111111111,
              "#46039f"
             ],
             [
              0.2222222222222222,
              "#7201a8"
             ],
             [
              0.3333333333333333,
              "#9c179e"
             ],
             [
              0.4444444444444444,
              "#bd3786"
             ],
             [
              0.5555555555555556,
              "#d8576b"
             ],
             [
              0.6666666666666666,
              "#ed7953"
             ],
             [
              0.7777777777777778,
              "#fb9f3a"
             ],
             [
              0.8888888888888888,
              "#fdca26"
             ],
             [
              1,
              "#f0f921"
             ]
            ],
            "type": "contour"
           }
          ],
          "contourcarpet": [
           {
            "colorbar": {
             "outlinewidth": 0,
             "ticks": ""
            },
            "type": "contourcarpet"
           }
          ],
          "heatmap": [
           {
            "colorbar": {
             "outlinewidth": 0,
             "ticks": ""
            },
            "colorscale": [
             [
              0,
              "#0d0887"
             ],
             [
              0.1111111111111111,
              "#46039f"
             ],
             [
              0.2222222222222222,
              "#7201a8"
             ],
             [
              0.3333333333333333,
              "#9c179e"
             ],
             [
              0.4444444444444444,
              "#bd3786"
             ],
             [
              0.5555555555555556,
              "#d8576b"
             ],
             [
              0.6666666666666666,
              "#ed7953"
             ],
             [
              0.7777777777777778,
              "#fb9f3a"
             ],
             [
              0.8888888888888888,
              "#fdca26"
             ],
             [
              1,
              "#f0f921"
             ]
            ],
            "type": "heatmap"
           }
          ],
          "histogram": [
           {
            "marker": {
             "pattern": {
              "fillmode": "overlay",
              "size": 10,
              "solidity": 0.2
             }
            },
            "type": "histogram"
           }
          ],
          "histogram2d": [
           {
            "colorbar": {
             "outlinewidth": 0,
             "ticks": ""
            },
            "colorscale": [
             [
              0,
              "#0d0887"
             ],
             [
              0.1111111111111111,
              "#46039f"
             ],
             [
              0.2222222222222222,
              "#7201a8"
             ],
             [
              0.3333333333333333,
              "#9c179e"
             ],
             [
              0.4444444444444444,
              "#bd3786"
             ],
             [
              0.5555555555555556,
              "#d8576b"
             ],
             [
              0.6666666666666666,
              "#ed7953"
             ],
             [
              0.7777777777777778,
              "#fb9f3a"
             ],
             [
              0.8888888888888888,
              "#fdca26"
             ],
             [
              1,
              "#f0f921"
             ]
            ],
            "type": "histogram2d"
           }
          ],
          "histogram2dcontour": [
           {
            "colorbar": {
             "outlinewidth": 0,
             "ticks": ""
            },
            "colorscale": [
             [
              0,
              "#0d0887"
             ],
             [
              0.1111111111111111,
              "#46039f"
             ],
             [
              0.2222222222222222,
              "#7201a8"
             ],
             [
              0.3333333333333333,
              "#9c179e"
             ],
             [
              0.4444444444444444,
              "#bd3786"
             ],
             [
              0.5555555555555556,
              "#d8576b"
             ],
             [
              0.6666666666666666,
              "#ed7953"
             ],
             [
              0.7777777777777778,
              "#fb9f3a"
             ],
             [
              0.8888888888888888,
              "#fdca26"
             ],
             [
              1,
              "#f0f921"
             ]
            ],
            "type": "histogram2dcontour"
           }
          ],
          "mesh3d": [
           {
            "colorbar": {
             "outlinewidth": 0,
             "ticks": ""
            },
            "type": "mesh3d"
           }
          ],
          "parcoords": [
           {
            "line": {
             "colorbar": {
              "outlinewidth": 0,
              "ticks": ""
             }
            },
            "type": "parcoords"
           }
          ],
          "pie": [
           {
            "automargin": true,
            "type": "pie"
           }
          ],
          "scatter": [
           {
            "fillpattern": {
             "fillmode": "overlay",
             "size": 10,
             "solidity": 0.2
            },
            "type": "scatter"
           }
          ],
          "scatter3d": [
           {
            "line": {
             "colorbar": {
              "outlinewidth": 0,
              "ticks": ""
             }
            },
            "marker": {
             "colorbar": {
              "outlinewidth": 0,
              "ticks": ""
             }
            },
            "type": "scatter3d"
           }
          ],
          "scattercarpet": [
           {
            "marker": {
             "colorbar": {
              "outlinewidth": 0,
              "ticks": ""
             }
            },
            "type": "scattercarpet"
           }
          ],
          "scattergeo": [
           {
            "marker": {
             "colorbar": {
              "outlinewidth": 0,
              "ticks": ""
             }
            },
            "type": "scattergeo"
           }
          ],
          "scattergl": [
           {
            "marker": {
             "colorbar": {
              "outlinewidth": 0,
              "ticks": ""
             }
            },
            "type": "scattergl"
           }
          ],
          "scattermap": [
           {
            "marker": {
             "colorbar": {
              "outlinewidth": 0,
              "ticks": ""
             }
            },
            "type": "scattermap"
           }
          ],
          "scattermapbox": [
           {
            "marker": {
             "colorbar": {
              "outlinewidth": 0,
              "ticks": ""
             }
            },
            "type": "scattermapbox"
           }
          ],
          "scatterpolar": [
           {
            "marker": {
             "colorbar": {
              "outlinewidth": 0,
              "ticks": ""
             }
            },
            "type": "scatterpolar"
           }
          ],
          "scatterpolargl": [
           {
            "marker": {
             "colorbar": {
              "outlinewidth": 0,
              "ticks": ""
             }
            },
            "type": "scatterpolargl"
           }
          ],
          "scatterternary": [
           {
            "marker": {
             "colorbar": {
              "outlinewidth": 0,
              "ticks": ""
             }
            },
            "type": "scatterternary"
           }
          ],
          "surface": [
           {
            "colorbar": {
             "outlinewidth": 0,
             "ticks": ""
            },
            "colorscale": [
             [
              0,
              "#0d0887"
             ],
             [
              0.1111111111111111,
              "#46039f"
             ],
             [
              0.2222222222222222,
              "#7201a8"
             ],
             [
              0.3333333333333333,
              "#9c179e"
             ],
             [
              0.4444444444444444,
              "#bd3786"
             ],
             [
              0.5555555555555556,
              "#d8576b"
             ],
             [
              0.6666666666666666,
              "#ed7953"
             ],
             [
              0.7777777777777778,
              "#fb9f3a"
             ],
             [
              0.8888888888888888,
              "#fdca26"
             ],
             [
              1,
              "#f0f921"
             ]
            ],
            "type": "surface"
           }
          ],
          "table": [
           {
            "cells": {
             "fill": {
              "color": "#EBF0F8"
             },
             "line": {
              "color": "white"
             }
            },
            "header": {
             "fill": {
              "color": "#C8D4E3"
             },
             "line": {
              "color": "white"
             }
            },
            "type": "table"
           }
          ]
         },
         "layout": {
          "annotationdefaults": {
           "arrowcolor": "#2a3f5f",
           "arrowhead": 0,
           "arrowwidth": 1
          },
          "autotypenumbers": "strict",
          "coloraxis": {
           "colorbar": {
            "outlinewidth": 0,
            "ticks": ""
           }
          },
          "colorscale": {
           "diverging": [
            [
             0,
             "#8e0152"
            ],
            [
             0.1,
             "#c51b7d"
            ],
            [
             0.2,
             "#de77ae"
            ],
            [
             0.3,
             "#f1b6da"
            ],
            [
             0.4,
             "#fde0ef"
            ],
            [
             0.5,
             "#f7f7f7"
            ],
            [
             0.6,
             "#e6f5d0"
            ],
            [
             0.7,
             "#b8e186"
            ],
            [
             0.8,
             "#7fbc41"
            ],
            [
             0.9,
             "#4d9221"
            ],
            [
             1,
             "#276419"
            ]
           ],
           "sequential": [
            [
             0,
             "#0d0887"
            ],
            [
             0.1111111111111111,
             "#46039f"
            ],
            [
             0.2222222222222222,
             "#7201a8"
            ],
            [
             0.3333333333333333,
             "#9c179e"
            ],
            [
             0.4444444444444444,
             "#bd3786"
            ],
            [
             0.5555555555555556,
             "#d8576b"
            ],
            [
             0.6666666666666666,
             "#ed7953"
            ],
            [
             0.7777777777777778,
             "#fb9f3a"
            ],
            [
             0.8888888888888888,
             "#fdca26"
            ],
            [
             1,
             "#f0f921"
            ]
           ],
           "sequentialminus": [
            [
             0,
             "#0d0887"
            ],
            [
             0.1111111111111111,
             "#46039f"
            ],
            [
             0.2222222222222222,
             "#7201a8"
            ],
            [
             0.3333333333333333,
             "#9c179e"
            ],
            [
             0.4444444444444444,
             "#bd3786"
            ],
            [
             0.5555555555555556,
             "#d8576b"
            ],
            [
             0.6666666666666666,
             "#ed7953"
            ],
            [
             0.7777777777777778,
             "#fb9f3a"
            ],
            [
             0.8888888888888888,
             "#fdca26"
            ],
            [
             1,
             "#f0f921"
            ]
           ]
          },
          "colorway": [
           "#636efa",
           "#EF553B",
           "#00cc96",
           "#ab63fa",
           "#FFA15A",
           "#19d3f3",
           "#FF6692",
           "#B6E880",
           "#FF97FF",
           "#FECB52"
          ],
          "font": {
           "color": "#2a3f5f"
          },
          "geo": {
           "bgcolor": "white",
           "lakecolor": "white",
           "landcolor": "#E5ECF6",
           "showlakes": true,
           "showland": true,
           "subunitcolor": "white"
          },
          "hoverlabel": {
           "align": "left"
          },
          "hovermode": "closest",
          "mapbox": {
           "style": "light"
          },
          "paper_bgcolor": "white",
          "plot_bgcolor": "#E5ECF6",
          "polar": {
           "angularaxis": {
            "gridcolor": "white",
            "linecolor": "white",
            "ticks": ""
           },
           "bgcolor": "#E5ECF6",
           "radialaxis": {
            "gridcolor": "white",
            "linecolor": "white",
            "ticks": ""
           }
          },
          "scene": {
           "xaxis": {
            "backgroundcolor": "#E5ECF6",
            "gridcolor": "white",
            "gridwidth": 2,
            "linecolor": "white",
            "showbackground": true,
            "ticks": "",
            "zerolinecolor": "white"
           },
           "yaxis": {
            "backgroundcolor": "#E5ECF6",
            "gridcolor": "white",
            "gridwidth": 2,
            "linecolor": "white",
            "showbackground": true,
            "ticks": "",
            "zerolinecolor": "white"
           },
           "zaxis": {
            "backgroundcolor": "#E5ECF6",
            "gridcolor": "white",
            "gridwidth": 2,
            "linecolor": "white",
            "showbackground": true,
            "ticks": "",
            "zerolinecolor": "white"
           }
          },
          "shapedefaults": {
           "line": {
            "color": "#2a3f5f"
           }
          },
          "ternary": {
           "aaxis": {
            "gridcolor": "white",
            "linecolor": "white",
            "ticks": ""
           },
           "baxis": {
            "gridcolor": "white",
            "linecolor": "white",
            "ticks": ""
           },
           "bgcolor": "#E5ECF6",
           "caxis": {
            "gridcolor": "white",
            "linecolor": "white",
            "ticks": ""
           }
          },
          "title": {
           "x": 0.05
          },
          "xaxis": {
           "automargin": true,
           "gridcolor": "white",
           "linecolor": "white",
           "ticks": "",
           "title": {
            "standoff": 15
           },
           "zerolinecolor": "white",
           "zerolinewidth": 2
          },
          "yaxis": {
           "automargin": true,
           "gridcolor": "white",
           "linecolor": "white",
           "ticks": "",
           "title": {
            "standoff": 15
           },
           "zerolinecolor": "white",
           "zerolinewidth": 2
          }
         }
        },
        "title": {
         "text": "Trainings- & Validierungs-MAE"
        },
        "xaxis": {
         "anchor": "y",
         "domain": [
          0,
          1
         ],
         "title": {
          "text": "epoch"
         }
        },
        "yaxis": {
         "anchor": "x",
         "domain": [
          0,
          1
         ],
         "title": {
          "text": "Mean Absolute Error"
         }
        }
       }
      }
     },
     "metadata": {},
     "output_type": "display_data"
    }
   ],
   "source": [
    "# VISUALISIERUNG DES TRAININGSVERLAUFS\n",
    "\n",
    "# Erstelle einen DataFrame aus der Trainingshistorie\n",
    "history_df = pd.DataFrame(history.history)\n",
    "history_df[\"epoch\"] = history_df.index + 1\n",
    "\n",
    "# Plotte die Loss (Mean Squared Error)\n",
    "fig_loss = px.line(\n",
    "    history_df,\n",
    "    x=\"epoch\",\n",
    "    y=[\"loss\", \"val_loss\"],\n",
    "    title=\"Trainings- & Validierungs-Loss (MSE)\",\n",
    "    labels={\"value\": \"Loss (MSE)\", \"variable\": \"Datensatz\"},\n",
    ")\n",
    "fig_loss.show()\n",
    "\n",
    "# Plotte die Metrik (Mean Absolute Error)\n",
    "fig_mae = px.line(\n",
    "    history_df,\n",
    "    x=\"epoch\",\n",
    "    y=[\"mean_absolute_error\", \"val_mean_absolute_error\"],\n",
    "    title=\"Trainings- & Validierungs-MAE\",\n",
    "    labels={\"value\": \"Mean Absolute Error\", \"variable\": \"Datensatz\"},\n",
    ")\n",
    "fig_mae.show()"
   ]
  },
  {
   "cell_type": "code",
   "execution_count": 16,
   "id": "b18b772d",
   "metadata": {},
   "outputs": [
    {
     "name": "stdout",
     "output_type": "stream",
     "text": [
      "Lade das beste gespeicherte Modell 'best_model.keras'...\n",
      "Modell geladen.\n",
      "\n",
      "Starte die Evaluierung der Vorhersagegenauigkeit in Abhängigkeit vom Batch-Fortschritt...\n",
      "\u001b[1m1/1\u001b[0m \u001b[32m━━━━━━━━━━━━━━━━━━━━\u001b[0m\u001b[37m\u001b[0m \u001b[1m0s\u001b[0m 57ms/step\n",
      "Fortschritt: 10% (14 Zeitschritte) -> MAE: 0.2032\n",
      "\u001b[1m1/1\u001b[0m \u001b[32m━━━━━━━━━━━━━━━━━━━━\u001b[0m\u001b[37m\u001b[0m \u001b[1m0s\u001b[0m 14ms/step\n",
      "Fortschritt: 20% (28 Zeitschritte) -> MAE: 0.2223\n",
      "\u001b[1m1/1\u001b[0m \u001b[32m━━━━━━━━━━━━━━━━━━━━\u001b[0m\u001b[37m\u001b[0m \u001b[1m0s\u001b[0m 15ms/step\n",
      "Fortschritt: 30% (42 Zeitschritte) -> MAE: 0.2394\n",
      "\u001b[1m1/1\u001b[0m \u001b[32m━━━━━━━━━━━━━━━━━━━━\u001b[0m\u001b[37m\u001b[0m \u001b[1m0s\u001b[0m 16ms/step\n",
      "Fortschritt: 40% (56 Zeitschritte) -> MAE: 0.2391\n",
      "\u001b[1m1/1\u001b[0m \u001b[32m━━━━━━━━━━━━━━━━━━━━\u001b[0m\u001b[37m\u001b[0m \u001b[1m0s\u001b[0m 15ms/step\n",
      "Fortschritt: 50% (70 Zeitschritte) -> MAE: 0.1708\n",
      "\u001b[1m1/1\u001b[0m \u001b[32m━━━━━━━━━━━━━━━━━━━━\u001b[0m\u001b[37m\u001b[0m \u001b[1m0s\u001b[0m 15ms/step\n",
      "Fortschritt: 60% (84 Zeitschritte) -> MAE: 0.1837\n",
      "\u001b[1m1/1\u001b[0m \u001b[32m━━━━━━━━━━━━━━━━━━━━\u001b[0m\u001b[37m\u001b[0m \u001b[1m0s\u001b[0m 15ms/step\n",
      "Fortschritt: 70% (98 Zeitschritte) -> MAE: 0.1835\n",
      "\u001b[1m1/1\u001b[0m \u001b[32m━━━━━━━━━━━━━━━━━━━━\u001b[0m\u001b[37m\u001b[0m \u001b[1m0s\u001b[0m 16ms/step\n",
      "Fortschritt: 80% (112 Zeitschritte) -> MAE: 0.1355\n",
      "\u001b[1m1/1\u001b[0m \u001b[32m━━━━━━━━━━━━━━━━━━━━\u001b[0m\u001b[37m\u001b[0m \u001b[1m0s\u001b[0m 16ms/step\n",
      "Fortschritt: 90% (126 Zeitschritte) -> MAE: 0.0648\n",
      "\u001b[1m1/1\u001b[0m \u001b[32m━━━━━━━━━━━━━━━━━━━━\u001b[0m\u001b[37m\u001b[0m \u001b[1m0s\u001b[0m 26ms/step\n",
      "Fortschritt: 100% (140 Zeitschritte) -> MAE: 0.0562\n",
      "\n",
      "Evaluierung abgeschlossen.\n"
     ]
    },
    {
     "data": {
      "application/vnd.plotly.v1+json": {
       "config": {
        "plotlyServerURL": "https://plot.ly"
       },
       "data": [
        {
         "hovertemplate": "Batch-Fortschritt (%)=%{x}<br>Mean Absolute Percent Error (MAPE)=%{y}<extra></extra>",
         "legendgroup": "",
         "line": {
          "color": "#636efa",
          "dash": "solid"
         },
         "marker": {
          "symbol": "circle"
         },
         "mode": "lines+markers",
         "name": "",
         "orientation": "v",
         "showlegend": false,
         "type": "scatter",
         "x": {
          "bdata": "AAAAAAAAJEAAAAAAAAA0QAEAAAAAAD5AAAAAAAAAREAAAAAAAABJQAAAAAAAAE5AAAAAAACAUUAAAAAAAABUQAAAAAAAgFZAAAAAAAAAWUA=",
          "dtype": "f8"
         },
         "xaxis": "x",
         "y": {
          "bdata": "lXNlftQByj9KX6s2TXPMP5PFinEVo84/XUcoHA2bzj9PRPT7J9zFP3/nWbEyg8c/rZgKxjN8xz+kRvveeFjBP0wOOIJUmLA/KnRWu9bErD8=",
          "dtype": "f8"
         },
         "yaxis": "y"
        }
       ],
       "layout": {
        "legend": {
         "tracegroupgap": 0
        },
        "template": {
         "data": {
          "bar": [
           {
            "error_x": {
             "color": "#2a3f5f"
            },
            "error_y": {
             "color": "#2a3f5f"
            },
            "marker": {
             "line": {
              "color": "#E5ECF6",
              "width": 0.5
             },
             "pattern": {
              "fillmode": "overlay",
              "size": 10,
              "solidity": 0.2
             }
            },
            "type": "bar"
           }
          ],
          "barpolar": [
           {
            "marker": {
             "line": {
              "color": "#E5ECF6",
              "width": 0.5
             },
             "pattern": {
              "fillmode": "overlay",
              "size": 10,
              "solidity": 0.2
             }
            },
            "type": "barpolar"
           }
          ],
          "carpet": [
           {
            "aaxis": {
             "endlinecolor": "#2a3f5f",
             "gridcolor": "white",
             "linecolor": "white",
             "minorgridcolor": "white",
             "startlinecolor": "#2a3f5f"
            },
            "baxis": {
             "endlinecolor": "#2a3f5f",
             "gridcolor": "white",
             "linecolor": "white",
             "minorgridcolor": "white",
             "startlinecolor": "#2a3f5f"
            },
            "type": "carpet"
           }
          ],
          "choropleth": [
           {
            "colorbar": {
             "outlinewidth": 0,
             "ticks": ""
            },
            "type": "choropleth"
           }
          ],
          "contour": [
           {
            "colorbar": {
             "outlinewidth": 0,
             "ticks": ""
            },
            "colorscale": [
             [
              0,
              "#0d0887"
             ],
             [
              0.1111111111111111,
              "#46039f"
             ],
             [
              0.2222222222222222,
              "#7201a8"
             ],
             [
              0.3333333333333333,
              "#9c179e"
             ],
             [
              0.4444444444444444,
              "#bd3786"
             ],
             [
              0.5555555555555556,
              "#d8576b"
             ],
             [
              0.6666666666666666,
              "#ed7953"
             ],
             [
              0.7777777777777778,
              "#fb9f3a"
             ],
             [
              0.8888888888888888,
              "#fdca26"
             ],
             [
              1,
              "#f0f921"
             ]
            ],
            "type": "contour"
           }
          ],
          "contourcarpet": [
           {
            "colorbar": {
             "outlinewidth": 0,
             "ticks": ""
            },
            "type": "contourcarpet"
           }
          ],
          "heatmap": [
           {
            "colorbar": {
             "outlinewidth": 0,
             "ticks": ""
            },
            "colorscale": [
             [
              0,
              "#0d0887"
             ],
             [
              0.1111111111111111,
              "#46039f"
             ],
             [
              0.2222222222222222,
              "#7201a8"
             ],
             [
              0.3333333333333333,
              "#9c179e"
             ],
             [
              0.4444444444444444,
              "#bd3786"
             ],
             [
              0.5555555555555556,
              "#d8576b"
             ],
             [
              0.6666666666666666,
              "#ed7953"
             ],
             [
              0.7777777777777778,
              "#fb9f3a"
             ],
             [
              0.8888888888888888,
              "#fdca26"
             ],
             [
              1,
              "#f0f921"
             ]
            ],
            "type": "heatmap"
           }
          ],
          "histogram": [
           {
            "marker": {
             "pattern": {
              "fillmode": "overlay",
              "size": 10,
              "solidity": 0.2
             }
            },
            "type": "histogram"
           }
          ],
          "histogram2d": [
           {
            "colorbar": {
             "outlinewidth": 0,
             "ticks": ""
            },
            "colorscale": [
             [
              0,
              "#0d0887"
             ],
             [
              0.1111111111111111,
              "#46039f"
             ],
             [
              0.2222222222222222,
              "#7201a8"
             ],
             [
              0.3333333333333333,
              "#9c179e"
             ],
             [
              0.4444444444444444,
              "#bd3786"
             ],
             [
              0.5555555555555556,
              "#d8576b"
             ],
             [
              0.6666666666666666,
              "#ed7953"
             ],
             [
              0.7777777777777778,
              "#fb9f3a"
             ],
             [
              0.8888888888888888,
              "#fdca26"
             ],
             [
              1,
              "#f0f921"
             ]
            ],
            "type": "histogram2d"
           }
          ],
          "histogram2dcontour": [
           {
            "colorbar": {
             "outlinewidth": 0,
             "ticks": ""
            },
            "colorscale": [
             [
              0,
              "#0d0887"
             ],
             [
              0.1111111111111111,
              "#46039f"
             ],
             [
              0.2222222222222222,
              "#7201a8"
             ],
             [
              0.3333333333333333,
              "#9c179e"
             ],
             [
              0.4444444444444444,
              "#bd3786"
             ],
             [
              0.5555555555555556,
              "#d8576b"
             ],
             [
              0.6666666666666666,
              "#ed7953"
             ],
             [
              0.7777777777777778,
              "#fb9f3a"
             ],
             [
              0.8888888888888888,
              "#fdca26"
             ],
             [
              1,
              "#f0f921"
             ]
            ],
            "type": "histogram2dcontour"
           }
          ],
          "mesh3d": [
           {
            "colorbar": {
             "outlinewidth": 0,
             "ticks": ""
            },
            "type": "mesh3d"
           }
          ],
          "parcoords": [
           {
            "line": {
             "colorbar": {
              "outlinewidth": 0,
              "ticks": ""
             }
            },
            "type": "parcoords"
           }
          ],
          "pie": [
           {
            "automargin": true,
            "type": "pie"
           }
          ],
          "scatter": [
           {
            "fillpattern": {
             "fillmode": "overlay",
             "size": 10,
             "solidity": 0.2
            },
            "type": "scatter"
           }
          ],
          "scatter3d": [
           {
            "line": {
             "colorbar": {
              "outlinewidth": 0,
              "ticks": ""
             }
            },
            "marker": {
             "colorbar": {
              "outlinewidth": 0,
              "ticks": ""
             }
            },
            "type": "scatter3d"
           }
          ],
          "scattercarpet": [
           {
            "marker": {
             "colorbar": {
              "outlinewidth": 0,
              "ticks": ""
             }
            },
            "type": "scattercarpet"
           }
          ],
          "scattergeo": [
           {
            "marker": {
             "colorbar": {
              "outlinewidth": 0,
              "ticks": ""
             }
            },
            "type": "scattergeo"
           }
          ],
          "scattergl": [
           {
            "marker": {
             "colorbar": {
              "outlinewidth": 0,
              "ticks": ""
             }
            },
            "type": "scattergl"
           }
          ],
          "scattermap": [
           {
            "marker": {
             "colorbar": {
              "outlinewidth": 0,
              "ticks": ""
             }
            },
            "type": "scattermap"
           }
          ],
          "scattermapbox": [
           {
            "marker": {
             "colorbar": {
              "outlinewidth": 0,
              "ticks": ""
             }
            },
            "type": "scattermapbox"
           }
          ],
          "scatterpolar": [
           {
            "marker": {
             "colorbar": {
              "outlinewidth": 0,
              "ticks": ""
             }
            },
            "type": "scatterpolar"
           }
          ],
          "scatterpolargl": [
           {
            "marker": {
             "colorbar": {
              "outlinewidth": 0,
              "ticks": ""
             }
            },
            "type": "scatterpolargl"
           }
          ],
          "scatterternary": [
           {
            "marker": {
             "colorbar": {
              "outlinewidth": 0,
              "ticks": ""
             }
            },
            "type": "scatterternary"
           }
          ],
          "surface": [
           {
            "colorbar": {
             "outlinewidth": 0,
             "ticks": ""
            },
            "colorscale": [
             [
              0,
              "#0d0887"
             ],
             [
              0.1111111111111111,
              "#46039f"
             ],
             [
              0.2222222222222222,
              "#7201a8"
             ],
             [
              0.3333333333333333,
              "#9c179e"
             ],
             [
              0.4444444444444444,
              "#bd3786"
             ],
             [
              0.5555555555555556,
              "#d8576b"
             ],
             [
              0.6666666666666666,
              "#ed7953"
             ],
             [
              0.7777777777777778,
              "#fb9f3a"
             ],
             [
              0.8888888888888888,
              "#fdca26"
             ],
             [
              1,
              "#f0f921"
             ]
            ],
            "type": "surface"
           }
          ],
          "table": [
           {
            "cells": {
             "fill": {
              "color": "#EBF0F8"
             },
             "line": {
              "color": "white"
             }
            },
            "header": {
             "fill": {
              "color": "#C8D4E3"
             },
             "line": {
              "color": "white"
             }
            },
            "type": "table"
           }
          ]
         },
         "layout": {
          "annotationdefaults": {
           "arrowcolor": "#2a3f5f",
           "arrowhead": 0,
           "arrowwidth": 1
          },
          "autotypenumbers": "strict",
          "coloraxis": {
           "colorbar": {
            "outlinewidth": 0,
            "ticks": ""
           }
          },
          "colorscale": {
           "diverging": [
            [
             0,
             "#8e0152"
            ],
            [
             0.1,
             "#c51b7d"
            ],
            [
             0.2,
             "#de77ae"
            ],
            [
             0.3,
             "#f1b6da"
            ],
            [
             0.4,
             "#fde0ef"
            ],
            [
             0.5,
             "#f7f7f7"
            ],
            [
             0.6,
             "#e6f5d0"
            ],
            [
             0.7,
             "#b8e186"
            ],
            [
             0.8,
             "#7fbc41"
            ],
            [
             0.9,
             "#4d9221"
            ],
            [
             1,
             "#276419"
            ]
           ],
           "sequential": [
            [
             0,
             "#0d0887"
            ],
            [
             0.1111111111111111,
             "#46039f"
            ],
            [
             0.2222222222222222,
             "#7201a8"
            ],
            [
             0.3333333333333333,
             "#9c179e"
            ],
            [
             0.4444444444444444,
             "#bd3786"
            ],
            [
             0.5555555555555556,
             "#d8576b"
            ],
            [
             0.6666666666666666,
             "#ed7953"
            ],
            [
             0.7777777777777778,
             "#fb9f3a"
            ],
            [
             0.8888888888888888,
             "#fdca26"
            ],
            [
             1,
             "#f0f921"
            ]
           ],
           "sequentialminus": [
            [
             0,
             "#0d0887"
            ],
            [
             0.1111111111111111,
             "#46039f"
            ],
            [
             0.2222222222222222,
             "#7201a8"
            ],
            [
             0.3333333333333333,
             "#9c179e"
            ],
            [
             0.4444444444444444,
             "#bd3786"
            ],
            [
             0.5555555555555556,
             "#d8576b"
            ],
            [
             0.6666666666666666,
             "#ed7953"
            ],
            [
             0.7777777777777778,
             "#fb9f3a"
            ],
            [
             0.8888888888888888,
             "#fdca26"
            ],
            [
             1,
             "#f0f921"
            ]
           ]
          },
          "colorway": [
           "#636efa",
           "#EF553B",
           "#00cc96",
           "#ab63fa",
           "#FFA15A",
           "#19d3f3",
           "#FF6692",
           "#B6E880",
           "#FF97FF",
           "#FECB52"
          ],
          "font": {
           "color": "#2a3f5f"
          },
          "geo": {
           "bgcolor": "white",
           "lakecolor": "white",
           "landcolor": "#E5ECF6",
           "showlakes": true,
           "showland": true,
           "subunitcolor": "white"
          },
          "hoverlabel": {
           "align": "left"
          },
          "hovermode": "closest",
          "mapbox": {
           "style": "light"
          },
          "paper_bgcolor": "white",
          "plot_bgcolor": "#E5ECF6",
          "polar": {
           "angularaxis": {
            "gridcolor": "white",
            "linecolor": "white",
            "ticks": ""
           },
           "bgcolor": "#E5ECF6",
           "radialaxis": {
            "gridcolor": "white",
            "linecolor": "white",
            "ticks": ""
           }
          },
          "scene": {
           "xaxis": {
            "backgroundcolor": "#E5ECF6",
            "gridcolor": "white",
            "gridwidth": 2,
            "linecolor": "white",
            "showbackground": true,
            "ticks": "",
            "zerolinecolor": "white"
           },
           "yaxis": {
            "backgroundcolor": "#E5ECF6",
            "gridcolor": "white",
            "gridwidth": 2,
            "linecolor": "white",
            "showbackground": true,
            "ticks": "",
            "zerolinecolor": "white"
           },
           "zaxis": {
            "backgroundcolor": "#E5ECF6",
            "gridcolor": "white",
            "gridwidth": 2,
            "linecolor": "white",
            "showbackground": true,
            "ticks": "",
            "zerolinecolor": "white"
           }
          },
          "shapedefaults": {
           "line": {
            "color": "#2a3f5f"
           }
          },
          "ternary": {
           "aaxis": {
            "gridcolor": "white",
            "linecolor": "white",
            "ticks": ""
           },
           "baxis": {
            "gridcolor": "white",
            "linecolor": "white",
            "ticks": ""
           },
           "bgcolor": "#E5ECF6",
           "caxis": {
            "gridcolor": "white",
            "linecolor": "white",
            "ticks": ""
           }
          },
          "title": {
           "x": 0.05
          },
          "xaxis": {
           "automargin": true,
           "gridcolor": "white",
           "linecolor": "white",
           "ticks": "",
           "title": {
            "standoff": 15
           },
           "zerolinecolor": "white",
           "zerolinewidth": 2
          },
          "yaxis": {
           "automargin": true,
           "gridcolor": "white",
           "linecolor": "white",
           "ticks": "",
           "title": {
            "standoff": 15
           },
           "zerolinecolor": "white",
           "zerolinewidth": 2
          }
         }
        },
        "title": {
         "text": "Soft-Sensor-Genauigkeit während des Batches"
        },
        "xaxis": {
         "anchor": "y",
         "domain": [
          0,
          1
         ],
         "title": {
          "text": "Verfügbare Daten vom Batch (%)"
         }
        },
        "yaxis": {
         "anchor": "x",
         "domain": [
          0,
          1
         ],
         "title": {
          "text": "Vorhersagefehler (MAPE) auf dem Testset"
         }
        }
       }
      }
     },
     "metadata": {},
     "output_type": "display_data"
    }
   ],
   "source": [
    "# EVALUIERUNG\n",
    "\n",
    "\n",
    "# 1. Lade das beste Modell, das während des Trainings gespeichert wurde\n",
    "print(\"Lade das beste gespeicherte Modell 'best_model.keras'...\")\n",
    "best_model = load_model(\"best_model.keras\")\n",
    "print(\"Modell geladen.\")\n",
    "\n",
    "# 2. Definiere die Schritte für die Evaluierung (z.B. in 10%-Schritten)\n",
    "evaluation_points = np.linspace(0.1, 1.0, 10)  # 10%, 20%, ..., 100%\n",
    "timesteps = X_test_scaled.shape[1]  # 140\n",
    "mae_per_step = []\n",
    "\n",
    "print(\n",
    "    \"\\nStarte die Evaluierung der Vorhersagegenauigkeit in Abhängigkeit vom Batch-Fortschritt...\"\n",
    ")\n",
    "\n",
    "for progress in evaluation_points:\n",
    "    # Berechne, wie viele Zeitschritte dem aktuellen Fortschritt entsprechen\n",
    "    current_timesteps = int(timesteps * progress)\n",
    "\n",
    "    # Erstelle eine temporäre, verkürzte Version des Testsets\n",
    "    X_test_partial = X_test_scaled[:, :current_timesteps, :]\n",
    "\n",
    "    # Padde die Sequenzen von vorne mit Nullen, damit sie die volle Länge haben\n",
    "    # Das ist wichtig, da das LSTM eine feste Input-Länge erwartet.\n",
    "    # 'pre'-padding ist üblich für Zeitreihen.\n",
    "    X_test_padded = pad_sequences(\n",
    "        X_test_partial,\n",
    "        maxlen=timesteps,\n",
    "        dtype=\"float32\",\n",
    "        padding=\"pre\",\n",
    "        truncating=\"pre\",\n",
    "    )\n",
    "\n",
    "    # Mache Vorhersagen mit dem Modell auf den (skalierten) gepaddeten Daten\n",
    "    y_pred_scaled = best_model.predict(X_test_padded)\n",
    "\n",
    "    # Rück-Transformation der Vorhersagen und der wahren Werte in die Originalskala\n",
    "    y_pred = scaler_y.inverse_transform(y_pred_scaled)\n",
    "    y_true = scaler_y.inverse_transform(\n",
    "        y_test_scaled\n",
    "    )  # y_test_scaled sind die Targets für X_test_scaled\n",
    "\n",
    "    # Berechne den Mean Absolute Error für diesen Fortschrittsschritt\n",
    "    mae = mean_absolute_percentage_error(y_true, y_pred)\n",
    "    mae_per_step.append(mae)\n",
    "\n",
    "    print(\n",
    "        f\"Fortschritt: {progress*100:.0f}% ({current_timesteps} Zeitschritte) -> MAE: {mae:.4f}\"\n",
    "    )\n",
    "\n",
    "print(\"\\nEvaluierung abgeschlossen.\")\n",
    "\n",
    "\n",
    "# 3. Visualisierung des Ergebnisses\n",
    "eval_df = pd.DataFrame(\n",
    "    {\n",
    "        \"Batch-Fortschritt (%)\": evaluation_points * 100,\n",
    "        \"Mean Absolute Percent Error (MAPE)\": mae_per_step,\n",
    "    }\n",
    ")\n",
    "\n",
    "fig_eval = px.line(\n",
    "    eval_df,\n",
    "    x=\"Batch-Fortschritt (%)\",\n",
    "    y=\"Mean Absolute Percent Error (MAPE)\",\n",
    "    title=\"Soft-Sensor-Genauigkeit während des Batches\",\n",
    "    markers=True,\n",
    ")\n",
    "\n",
    "fig_eval.update_layout(\n",
    "    yaxis_title=\"Vorhersagefehler (MAPE) auf dem Testset\",\n",
    "    xaxis_title=\"Verfügbare Daten vom Batch (%)\",\n",
    ")\n",
    "fig_eval.show()"
   ]
  },
  {
   "cell_type": "markdown",
   "id": "e500fe69",
   "metadata": {},
   "source": [
    "1. Wir wählen einen Beispiel-Batch aus unserem Testset (dies simuliert einen \"neuen, unbekannten\" Batch).\n",
    "2. Wir \"spulen die Zeit vor\": Wir nehmen zuerst nur die ersten 10% der Daten dieses Batches, dann die ersten 20%, und so weiter.\n",
    "3. Wir füttern das Modell mit diesen unvollständigen Daten und lassen es eine Vorhersage für den Endwert treffen.\n",
    "4. Wir vergleichen die Vorhersage mit dem wahren, aber eigentlich \"unbekannten\" Endwert dieses Batches."
   ]
  },
  {
   "cell_type": "code",
   "execution_count": 24,
   "id": "f203db3f",
   "metadata": {},
   "outputs": [],
   "source": [
    "import random"
   ]
  },
  {
   "cell_type": "code",
   "execution_count": 65,
   "id": "04d20d99",
   "metadata": {},
   "outputs": [
    {
     "name": "stdout",
     "output_type": "stream",
     "text": [
      "Demonstration für einen einzelnen Batch aus dem Testset.\n",
      "Der wahre Endwert (Qualitätsvariable) für diesen Batch ist: 853.83\n",
      "--------------------------------------------------\n",
      "\u001b[1m1/1\u001b[0m \u001b[32m━━━━━━━━━━━━━━━━━━━━\u001b[0m\u001b[37m\u001b[0m \u001b[1m0s\u001b[0m 55ms/step\n",
      "Nach 10% des Batches: Vorhersage für Endwert = 939.87\n",
      "\u001b[1m1/1\u001b[0m \u001b[32m━━━━━━━━━━━━━━━━━━━━\u001b[0m\u001b[37m\u001b[0m \u001b[1m0s\u001b[0m 14ms/step\n",
      "Nach 20% des Batches: Vorhersage für Endwert = 952.70\n",
      "\u001b[1m1/1\u001b[0m \u001b[32m━━━━━━━━━━━━━━━━━━━━\u001b[0m\u001b[37m\u001b[0m \u001b[1m0s\u001b[0m 13ms/step\n",
      "Nach 30% des Batches: Vorhersage für Endwert = 951.49\n",
      "\u001b[1m1/1\u001b[0m \u001b[32m━━━━━━━━━━━━━━━━━━━━\u001b[0m\u001b[37m\u001b[0m \u001b[1m0s\u001b[0m 13ms/step\n",
      "Nach 40% des Batches: Vorhersage für Endwert = 915.95\n",
      "\u001b[1m1/1\u001b[0m \u001b[32m━━━━━━━━━━━━━━━━━━━━\u001b[0m\u001b[37m\u001b[0m \u001b[1m0s\u001b[0m 13ms/step\n",
      "Nach 50% des Batches: Vorhersage für Endwert = 758.40\n",
      "\u001b[1m1/1\u001b[0m \u001b[32m━━━━━━━━━━━━━━━━━━━━\u001b[0m\u001b[37m\u001b[0m \u001b[1m0s\u001b[0m 14ms/step\n",
      "Nach 60% des Batches: Vorhersage für Endwert = 618.87\n",
      "\u001b[1m1/1\u001b[0m \u001b[32m━━━━━━━━━━━━━━━━━━━━\u001b[0m\u001b[37m\u001b[0m \u001b[1m0s\u001b[0m 13ms/step\n",
      "Nach 70% des Batches: Vorhersage für Endwert = 615.73\n",
      "\u001b[1m1/1\u001b[0m \u001b[32m━━━━━━━━━━━━━━━━━━━━\u001b[0m\u001b[37m\u001b[0m \u001b[1m0s\u001b[0m 13ms/step\n",
      "Nach 80% des Batches: Vorhersage für Endwert = 718.75\n",
      "\u001b[1m1/1\u001b[0m \u001b[32m━━━━━━━━━━━━━━━━━━━━\u001b[0m\u001b[37m\u001b[0m \u001b[1m0s\u001b[0m 13ms/step\n",
      "Nach 90% des Batches: Vorhersage für Endwert = 801.01\n",
      "\u001b[1m1/1\u001b[0m \u001b[32m━━━━━━━━━━━━━━━━━━━━\u001b[0m\u001b[37m\u001b[0m \u001b[1m0s\u001b[0m 14ms/step\n",
      "Nach 100% des Batches: Vorhersage für Endwert = 815.92\n"
     ]
    },
    {
     "data": {
      "application/vnd.plotly.v1+json": {
       "config": {
        "plotlyServerURL": "https://plot.ly"
       },
       "data": [
        {
         "mode": "lines+markers",
         "name": "Soft-Sensor-Vorhersage",
         "type": "scatter",
         "x": {
          "bdata": "AAAAAAAAJEAAAAAAAAA0QAEAAAAAAD5AAAAAAAAAREAAAAAAAABJQAAAAAAAAE5AAAAAAACAUUAAAAAAAABUQAAAAAAAgFZAAAAAAAAAWUA=",
          "dtype": "f8"
         },
         "y": {
          "bdata": "sDxIyPlejUBB33Mvl8WNQFZlfd3ju41AsCJUl5SfjEB19bzALbOHQFbOftryVoNAs86endk9g0D+3BSv+nWGQE+sNpcZCIlA6kNn0V5/iUA=",
          "dtype": "f8"
         }
        }
       ],
       "layout": {
        "annotations": [
         {
          "showarrow": false,
          "text": "Wahrer Endwert: 853.8283193238688",
          "x": 1,
          "xanchor": "right",
          "xref": "x domain",
          "y": 853.8283193238688,
          "yanchor": "top",
          "yref": "y"
         }
        ],
        "shapes": [
         {
          "line": {
           "color": "red",
           "dash": "dash"
          },
          "type": "line",
          "x0": 0,
          "x1": 1,
          "xref": "x domain",
          "y0": 853.8283193238688,
          "y1": 853.8283193238688,
          "yref": "y"
         }
        ],
        "template": {
         "data": {
          "bar": [
           {
            "error_x": {
             "color": "#2a3f5f"
            },
            "error_y": {
             "color": "#2a3f5f"
            },
            "marker": {
             "line": {
              "color": "#E5ECF6",
              "width": 0.5
             },
             "pattern": {
              "fillmode": "overlay",
              "size": 10,
              "solidity": 0.2
             }
            },
            "type": "bar"
           }
          ],
          "barpolar": [
           {
            "marker": {
             "line": {
              "color": "#E5ECF6",
              "width": 0.5
             },
             "pattern": {
              "fillmode": "overlay",
              "size": 10,
              "solidity": 0.2
             }
            },
            "type": "barpolar"
           }
          ],
          "carpet": [
           {
            "aaxis": {
             "endlinecolor": "#2a3f5f",
             "gridcolor": "white",
             "linecolor": "white",
             "minorgridcolor": "white",
             "startlinecolor": "#2a3f5f"
            },
            "baxis": {
             "endlinecolor": "#2a3f5f",
             "gridcolor": "white",
             "linecolor": "white",
             "minorgridcolor": "white",
             "startlinecolor": "#2a3f5f"
            },
            "type": "carpet"
           }
          ],
          "choropleth": [
           {
            "colorbar": {
             "outlinewidth": 0,
             "ticks": ""
            },
            "type": "choropleth"
           }
          ],
          "contour": [
           {
            "colorbar": {
             "outlinewidth": 0,
             "ticks": ""
            },
            "colorscale": [
             [
              0,
              "#0d0887"
             ],
             [
              0.1111111111111111,
              "#46039f"
             ],
             [
              0.2222222222222222,
              "#7201a8"
             ],
             [
              0.3333333333333333,
              "#9c179e"
             ],
             [
              0.4444444444444444,
              "#bd3786"
             ],
             [
              0.5555555555555556,
              "#d8576b"
             ],
             [
              0.6666666666666666,
              "#ed7953"
             ],
             [
              0.7777777777777778,
              "#fb9f3a"
             ],
             [
              0.8888888888888888,
              "#fdca26"
             ],
             [
              1,
              "#f0f921"
             ]
            ],
            "type": "contour"
           }
          ],
          "contourcarpet": [
           {
            "colorbar": {
             "outlinewidth": 0,
             "ticks": ""
            },
            "type": "contourcarpet"
           }
          ],
          "heatmap": [
           {
            "colorbar": {
             "outlinewidth": 0,
             "ticks": ""
            },
            "colorscale": [
             [
              0,
              "#0d0887"
             ],
             [
              0.1111111111111111,
              "#46039f"
             ],
             [
              0.2222222222222222,
              "#7201a8"
             ],
             [
              0.3333333333333333,
              "#9c179e"
             ],
             [
              0.4444444444444444,
              "#bd3786"
             ],
             [
              0.5555555555555556,
              "#d8576b"
             ],
             [
              0.6666666666666666,
              "#ed7953"
             ],
             [
              0.7777777777777778,
              "#fb9f3a"
             ],
             [
              0.8888888888888888,
              "#fdca26"
             ],
             [
              1,
              "#f0f921"
             ]
            ],
            "type": "heatmap"
           }
          ],
          "histogram": [
           {
            "marker": {
             "pattern": {
              "fillmode": "overlay",
              "size": 10,
              "solidity": 0.2
             }
            },
            "type": "histogram"
           }
          ],
          "histogram2d": [
           {
            "colorbar": {
             "outlinewidth": 0,
             "ticks": ""
            },
            "colorscale": [
             [
              0,
              "#0d0887"
             ],
             [
              0.1111111111111111,
              "#46039f"
             ],
             [
              0.2222222222222222,
              "#7201a8"
             ],
             [
              0.3333333333333333,
              "#9c179e"
             ],
             [
              0.4444444444444444,
              "#bd3786"
             ],
             [
              0.5555555555555556,
              "#d8576b"
             ],
             [
              0.6666666666666666,
              "#ed7953"
             ],
             [
              0.7777777777777778,
              "#fb9f3a"
             ],
             [
              0.8888888888888888,
              "#fdca26"
             ],
             [
              1,
              "#f0f921"
             ]
            ],
            "type": "histogram2d"
           }
          ],
          "histogram2dcontour": [
           {
            "colorbar": {
             "outlinewidth": 0,
             "ticks": ""
            },
            "colorscale": [
             [
              0,
              "#0d0887"
             ],
             [
              0.1111111111111111,
              "#46039f"
             ],
             [
              0.2222222222222222,
              "#7201a8"
             ],
             [
              0.3333333333333333,
              "#9c179e"
             ],
             [
              0.4444444444444444,
              "#bd3786"
             ],
             [
              0.5555555555555556,
              "#d8576b"
             ],
             [
              0.6666666666666666,
              "#ed7953"
             ],
             [
              0.7777777777777778,
              "#fb9f3a"
             ],
             [
              0.8888888888888888,
              "#fdca26"
             ],
             [
              1,
              "#f0f921"
             ]
            ],
            "type": "histogram2dcontour"
           }
          ],
          "mesh3d": [
           {
            "colorbar": {
             "outlinewidth": 0,
             "ticks": ""
            },
            "type": "mesh3d"
           }
          ],
          "parcoords": [
           {
            "line": {
             "colorbar": {
              "outlinewidth": 0,
              "ticks": ""
             }
            },
            "type": "parcoords"
           }
          ],
          "pie": [
           {
            "automargin": true,
            "type": "pie"
           }
          ],
          "scatter": [
           {
            "fillpattern": {
             "fillmode": "overlay",
             "size": 10,
             "solidity": 0.2
            },
            "type": "scatter"
           }
          ],
          "scatter3d": [
           {
            "line": {
             "colorbar": {
              "outlinewidth": 0,
              "ticks": ""
             }
            },
            "marker": {
             "colorbar": {
              "outlinewidth": 0,
              "ticks": ""
             }
            },
            "type": "scatter3d"
           }
          ],
          "scattercarpet": [
           {
            "marker": {
             "colorbar": {
              "outlinewidth": 0,
              "ticks": ""
             }
            },
            "type": "scattercarpet"
           }
          ],
          "scattergeo": [
           {
            "marker": {
             "colorbar": {
              "outlinewidth": 0,
              "ticks": ""
             }
            },
            "type": "scattergeo"
           }
          ],
          "scattergl": [
           {
            "marker": {
             "colorbar": {
              "outlinewidth": 0,
              "ticks": ""
             }
            },
            "type": "scattergl"
           }
          ],
          "scattermap": [
           {
            "marker": {
             "colorbar": {
              "outlinewidth": 0,
              "ticks": ""
             }
            },
            "type": "scattermap"
           }
          ],
          "scattermapbox": [
           {
            "marker": {
             "colorbar": {
              "outlinewidth": 0,
              "ticks": ""
             }
            },
            "type": "scattermapbox"
           }
          ],
          "scatterpolar": [
           {
            "marker": {
             "colorbar": {
              "outlinewidth": 0,
              "ticks": ""
             }
            },
            "type": "scatterpolar"
           }
          ],
          "scatterpolargl": [
           {
            "marker": {
             "colorbar": {
              "outlinewidth": 0,
              "ticks": ""
             }
            },
            "type": "scatterpolargl"
           }
          ],
          "scatterternary": [
           {
            "marker": {
             "colorbar": {
              "outlinewidth": 0,
              "ticks": ""
             }
            },
            "type": "scatterternary"
           }
          ],
          "surface": [
           {
            "colorbar": {
             "outlinewidth": 0,
             "ticks": ""
            },
            "colorscale": [
             [
              0,
              "#0d0887"
             ],
             [
              0.1111111111111111,
              "#46039f"
             ],
             [
              0.2222222222222222,
              "#7201a8"
             ],
             [
              0.3333333333333333,
              "#9c179e"
             ],
             [
              0.4444444444444444,
              "#bd3786"
             ],
             [
              0.5555555555555556,
              "#d8576b"
             ],
             [
              0.6666666666666666,
              "#ed7953"
             ],
             [
              0.7777777777777778,
              "#fb9f3a"
             ],
             [
              0.8888888888888888,
              "#fdca26"
             ],
             [
              1,
              "#f0f921"
             ]
            ],
            "type": "surface"
           }
          ],
          "table": [
           {
            "cells": {
             "fill": {
              "color": "#EBF0F8"
             },
             "line": {
              "color": "white"
             }
            },
            "header": {
             "fill": {
              "color": "#C8D4E3"
             },
             "line": {
              "color": "white"
             }
            },
            "type": "table"
           }
          ]
         },
         "layout": {
          "annotationdefaults": {
           "arrowcolor": "#2a3f5f",
           "arrowhead": 0,
           "arrowwidth": 1
          },
          "autotypenumbers": "strict",
          "coloraxis": {
           "colorbar": {
            "outlinewidth": 0,
            "ticks": ""
           }
          },
          "colorscale": {
           "diverging": [
            [
             0,
             "#8e0152"
            ],
            [
             0.1,
             "#c51b7d"
            ],
            [
             0.2,
             "#de77ae"
            ],
            [
             0.3,
             "#f1b6da"
            ],
            [
             0.4,
             "#fde0ef"
            ],
            [
             0.5,
             "#f7f7f7"
            ],
            [
             0.6,
             "#e6f5d0"
            ],
            [
             0.7,
             "#b8e186"
            ],
            [
             0.8,
             "#7fbc41"
            ],
            [
             0.9,
             "#4d9221"
            ],
            [
             1,
             "#276419"
            ]
           ],
           "sequential": [
            [
             0,
             "#0d0887"
            ],
            [
             0.1111111111111111,
             "#46039f"
            ],
            [
             0.2222222222222222,
             "#7201a8"
            ],
            [
             0.3333333333333333,
             "#9c179e"
            ],
            [
             0.4444444444444444,
             "#bd3786"
            ],
            [
             0.5555555555555556,
             "#d8576b"
            ],
            [
             0.6666666666666666,
             "#ed7953"
            ],
            [
             0.7777777777777778,
             "#fb9f3a"
            ],
            [
             0.8888888888888888,
             "#fdca26"
            ],
            [
             1,
             "#f0f921"
            ]
           ],
           "sequentialminus": [
            [
             0,
             "#0d0887"
            ],
            [
             0.1111111111111111,
             "#46039f"
            ],
            [
             0.2222222222222222,
             "#7201a8"
            ],
            [
             0.3333333333333333,
             "#9c179e"
            ],
            [
             0.4444444444444444,
             "#bd3786"
            ],
            [
             0.5555555555555556,
             "#d8576b"
            ],
            [
             0.6666666666666666,
             "#ed7953"
            ],
            [
             0.7777777777777778,
             "#fb9f3a"
            ],
            [
             0.8888888888888888,
             "#fdca26"
            ],
            [
             1,
             "#f0f921"
            ]
           ]
          },
          "colorway": [
           "#636efa",
           "#EF553B",
           "#00cc96",
           "#ab63fa",
           "#FFA15A",
           "#19d3f3",
           "#FF6692",
           "#B6E880",
           "#FF97FF",
           "#FECB52"
          ],
          "font": {
           "color": "#2a3f5f"
          },
          "geo": {
           "bgcolor": "white",
           "lakecolor": "white",
           "landcolor": "#E5ECF6",
           "showlakes": true,
           "showland": true,
           "subunitcolor": "white"
          },
          "hoverlabel": {
           "align": "left"
          },
          "hovermode": "closest",
          "mapbox": {
           "style": "light"
          },
          "paper_bgcolor": "white",
          "plot_bgcolor": "#E5ECF6",
          "polar": {
           "angularaxis": {
            "gridcolor": "white",
            "linecolor": "white",
            "ticks": ""
           },
           "bgcolor": "#E5ECF6",
           "radialaxis": {
            "gridcolor": "white",
            "linecolor": "white",
            "ticks": ""
           }
          },
          "scene": {
           "xaxis": {
            "backgroundcolor": "#E5ECF6",
            "gridcolor": "white",
            "gridwidth": 2,
            "linecolor": "white",
            "showbackground": true,
            "ticks": "",
            "zerolinecolor": "white"
           },
           "yaxis": {
            "backgroundcolor": "#E5ECF6",
            "gridcolor": "white",
            "gridwidth": 2,
            "linecolor": "white",
            "showbackground": true,
            "ticks": "",
            "zerolinecolor": "white"
           },
           "zaxis": {
            "backgroundcolor": "#E5ECF6",
            "gridcolor": "white",
            "gridwidth": 2,
            "linecolor": "white",
            "showbackground": true,
            "ticks": "",
            "zerolinecolor": "white"
           }
          },
          "shapedefaults": {
           "line": {
            "color": "#2a3f5f"
           }
          },
          "ternary": {
           "aaxis": {
            "gridcolor": "white",
            "linecolor": "white",
            "ticks": ""
           },
           "baxis": {
            "gridcolor": "white",
            "linecolor": "white",
            "ticks": ""
           },
           "bgcolor": "#E5ECF6",
           "caxis": {
            "gridcolor": "white",
            "linecolor": "white",
            "ticks": ""
           }
          },
          "title": {
           "x": 0.05
          },
          "xaxis": {
           "automargin": true,
           "gridcolor": "white",
           "linecolor": "white",
           "ticks": "",
           "title": {
            "standoff": 15
           },
           "zerolinecolor": "white",
           "zerolinewidth": 2
          },
          "yaxis": {
           "automargin": true,
           "gridcolor": "white",
           "linecolor": "white",
           "ticks": "",
           "title": {
            "standoff": 15
           },
           "zerolinecolor": "white",
           "zerolinewidth": 2
          }
         }
        },
        "title": {
         "text": "Live-Vorhersage des Soft Sensors für einen einzelnen Batch"
        },
        "xaxis": {
         "title": {
          "text": "Verfügbare Daten vom Batch (%)"
         }
        },
        "yaxis": {
         "title": {
          "text": "Vorhergesagtes Gesamtvolumen V_total_out"
         }
        }
       }
      }
     },
     "metadata": {},
     "output_type": "display_data"
    }
   ],
   "source": [
    "# VORHERSAGE WÄHREND EINES BATCHES\n",
    "\n",
    "\n",
    "# 1. SETUP: Lade Modell und Scaler und wähle einen Beispiel-Batch aus\n",
    "\n",
    "# Lade das trainierte Modell und die Scaler (stellen Sie sicher, dass die vorherigen Zellen gelaufen sind)\n",
    "model = load_model(\"best_model.keras\")\n",
    "# scaler_X und scaler_y sind bereits aus der Pipeline-Zelle im Speicher\n",
    "\n",
    "# Wähle einen zufälligen Batch aus dem Testset für unsere Demonstration\n",
    "# Wir nehmen den Batch mit dem Index 5 aus dem Testset (indices_test[5])\n",
    "# Sie können hier jeden Index von 0 bis len(X_test_scaled)-1 wählen\n",
    "sample_index = 5\n",
    "# sample_index = random.randint(0, len(X_test_scaled) - 1)\n",
    "sample_batch_scaled = X_test_scaled[sample_index]\n",
    "sample_target_scaled = y_test_scaled[sample_index]\n",
    "\n",
    "# Hol den wahren Endwert und skaliere ihn zurück, um ihn später vergleichen zu können\n",
    "true_final_value = scaler_y.inverse_transform(sample_target_scaled.reshape(1, -1))[0, 0]\n",
    "\n",
    "print(f\"Demonstration für einen einzelnen Batch aus dem Testset.\")\n",
    "print(\n",
    "    f\"Der wahre Endwert (Qualitätsvariable) für diesen Batch ist: {true_final_value:.2f}\"\n",
    ")\n",
    "print(\"-\" * 50)\n",
    "\n",
    "\n",
    "# 2. DER VORHERSAGE-PROZESS\n",
    "\n",
    "# Wir machen Vorhersagen zu verschiedenen Zeitpunkten\n",
    "evaluation_points = np.linspace(0.1, 1.0, 10)  # 10%, 20%, ..., 100%\n",
    "timesteps = sample_batch_scaled.shape[0]  # 140\n",
    "predictions_over_time = []\n",
    "\n",
    "for progress in evaluation_points:\n",
    "    # Nimm nur die bisher verfügbaren Daten des Batches\n",
    "    current_timesteps = int(timesteps * progress)\n",
    "    partial_sequence = sample_batch_scaled[:current_timesteps, :]\n",
    "\n",
    "    # Das Modell erwartet immer einen Input der Länge 140.\n",
    "    # Wir müssen die unvollständige Sequenz mit Nullen auffüllen (Padding).\n",
    "    # Wir fügen die Nullen am Anfang hinzu ('pre'), da die neuesten Daten am wichtigsten sind.\n",
    "    padded_sequence = pad_sequences(\n",
    "        [partial_sequence],  # Muss in einer Liste sein\n",
    "        maxlen=timesteps,\n",
    "        dtype=\"float32\",\n",
    "        padding=\"pre\",\n",
    "    )\n",
    "\n",
    "    # Mache die Vorhersage. Das `[0, 0]` am Ende extrahiert den einzelnen Zahlenwert.\n",
    "    prediction_scaled = model.predict(padded_sequence)[0, 0]\n",
    "\n",
    "    # Skaliere die Vorhersage zurück in die ursprüngliche, interpretierbare Einheit\n",
    "    prediction_real_value = scaler_y.inverse_transform([[prediction_scaled]])[0, 0]\n",
    "\n",
    "    predictions_over_time.append(prediction_real_value)\n",
    "\n",
    "    print(\n",
    "        f\"Nach {progress*100:.0f}% des Batches: Vorhersage für Endwert = {prediction_real_value:.2f}\"\n",
    "    )\n",
    "\n",
    "\n",
    "# 3. VISUALISIERUNG DES ERGEBNISSES\n",
    "\n",
    "# Erstelle ein DataFrame für den Plot\n",
    "prediction_df = pd.DataFrame(\n",
    "    {\n",
    "        \"Batch-Fortschritt (%)\": evaluation_points * 100,\n",
    "        \"Vorhergesagter Endwert\": predictions_over_time,\n",
    "    }\n",
    ")\n",
    "\n",
    "# Erstelle die Figur\n",
    "fig = go.Figure()\n",
    "\n",
    "# Füge die Linie für die Vorhersagen hinzu\n",
    "fig.add_trace(\n",
    "    go.Scatter(\n",
    "        x=prediction_df[\"Batch-Fortschritt (%)\"],\n",
    "        y=prediction_df[\"Vorhergesagter Endwert\"],\n",
    "        mode=\"lines+markers\",\n",
    "        name=\"Soft-Sensor-Vorhersage\",\n",
    "    )\n",
    ")\n",
    "\n",
    "# Füge eine horizontale Linie für den wahren Endwert hinzu\n",
    "fig.add_hline(\n",
    "    y=true_final_value,\n",
    "    line_dash=\"dash\",\n",
    "    line_color=\"red\",\n",
    "    annotation_text=f\"Wahrer Endwert: {true_final_value}\",\n",
    "    annotation_position=\"bottom right\",\n",
    ")\n",
    "\n",
    "fig.update_layout(\n",
    "    title=\"Live-Vorhersage des Soft Sensors für einen einzelnen Batch\",\n",
    "    xaxis_title=\"Verfügbare Daten vom Batch (%)\",\n",
    "    yaxis_title=\"Vorhergesagtes Gesamtvolumen V_total_out\",\n",
    ")\n",
    "\n",
    "fig.show()"
   ]
  },
  {
   "cell_type": "code",
   "execution_count": 64,
   "id": "05903929",
   "metadata": {},
   "outputs": [
    {
     "data": {
      "application/vnd.microsoft.datawrangler.viewer.v0+json": {
       "columns": [
        {
         "name": "index",
         "rawType": "int64",
         "type": "integer"
        },
        {
         "name": "t",
         "rawType": "int64",
         "type": "integer"
        },
        {
         "name": "Sequenz",
         "rawType": "int64",
         "type": "integer"
        },
        {
         "name": "u1(t)",
         "rawType": "float64",
         "type": "float"
        },
        {
         "name": "u2(t)",
         "rawType": "float64",
         "type": "float"
        },
        {
         "name": "x1(t)",
         "rawType": "float64",
         "type": "float"
        },
        {
         "name": "x2(t)",
         "rawType": "float64",
         "type": "float"
        },
        {
         "name": "x3(t)",
         "rawType": "float64",
         "type": "float"
        },
        {
         "name": "v(t)",
         "rawType": "float64",
         "type": "float"
        },
        {
         "name": "V_total_out",
         "rawType": "float64",
         "type": "float"
        }
       ],
       "ref": "d758fd15-31e2-497a-84d4-9bdc85497af9",
       "rows": [
        [
         "23100",
         "0",
         "166",
         "0.0",
         "0.0",
         "3.324964420608966",
         "0.3149886160364717",
         "1.8954982383660752",
         "6.273483519670044",
         "853.8283193238688"
        ],
        [
         "23101",
         "1",
         "166",
         "0.5290421502719271",
         "1.043325971930226",
         "1.8303731433059791",
         "1.808865402935676",
         "1.9381538697009375",
         "6.12570533582395",
         "853.8283193238688"
        ],
        [
         "23102",
         "2",
         "166",
         "1.0574931967754482",
         "2.0101489118960325",
         "1.8242623526004536",
         "2.1104891538515136",
         "2.0348129137659536",
         "6.032022642528653",
         "853.8283193238688"
        ],
        [
         "23103",
         "3",
         "166",
         "1.5847772668338704",
         "2.903901147655022",
         "2.0921220666532743",
         "1.9895506137017096",
         "2.000469659979403",
         "5.9271726138754754",
         "853.8283193238688"
        ],
        [
         "23104",
         "4",
         "166",
         "2.1103352145115535",
         "3.727952243142869",
         "2.1025248907551584",
         "1.8688836422213055",
         "2.1757506926429064",
         "6.2114422805563745",
         "853.8283193238688"
        ],
        [
         "23105",
         "5",
         "166",
         "2.6336247321113855",
         "4.485608031809094",
         "1.7617438463027448",
         "1.80723587566108",
         "2.127199093265561",
         "6.0523584431854704",
         "853.8283193238688"
        ],
        [
         "23106",
         "6",
         "166",
         "3.154120450058076",
         "5.180109695508595",
         "1.8609210411206376",
         "1.871767886522876",
         "1.7502203066931548",
         "6.115261191576303",
         "853.8283193238688"
        ],
        [
         "23107",
         "7",
         "166",
         "3.6713140251672582",
         "5.814632888948934",
         "2.119381086705103",
         "2.2346241270661196",
         "1.9637910218437389",
         "6.221193197866366",
         "853.8283193238688"
        ],
        [
         "23108",
         "8",
         "166",
         "4.184714217300408",
         "6.392286909693393",
         "2.069685798127016",
         "1.95869052080226",
         "2.0370074103669973",
         "5.878684965068226",
         "853.8283193238688"
        ],
        [
         "23109",
         "9",
         "166",
         "4.693846954405571",
         "6.916113913719781",
         "2.189377008483236",
         "1.9300492874000488",
         "2.1097996812508355",
         "6.24973177792651",
         "853.8283193238688"
        ],
        [
         "23110",
         "10",
         "166",
         "5.198255385943909",
         "7.3890881765350045",
         "2.151342529814822",
         "2.0928251412355774",
         "2.246939720257748",
         "6.282849309259042",
         "853.8283193238688"
        ],
        [
         "23111",
         "11",
         "166",
         "5.6974999247020595",
         "7.81411539984539",
         "1.956349625051598",
         "2.0585063602568883",
         "2.126627969129332",
         "6.314471964165589",
         "853.8283193238688"
        ],
        [
         "23112",
         "12",
         "166",
         "6.191158276990299",
         "8.194032063782775",
         "2.4050501452906565",
         "1.9056045927639125",
         "2.0916745929093774",
         "6.34520269992183",
         "853.8283193238688"
        ],
        [
         "23113",
         "13",
         "166",
         "6.678825461226535",
         "8.531604824686365",
         "2.437965929103046",
         "2.4229617538387624",
         "2.041065441173883",
         "6.200447068735574",
         "853.8283193238688"
        ],
        [
         "23114",
         "14",
         "166",
         "7.160113814906096",
         "8.829529958440322",
         "2.36320876198346",
         "1.9997341044198196",
         "2.4252716807353085",
         "6.539543047957416",
         "853.8283193238688"
        ],
        [
         "23115",
         "15",
         "166",
         "7.634652989957347",
         "9.090432849367144",
         "2.516758854902571",
         "2.1594096883571905",
         "2.226100453482559",
         "6.479229708901599",
         "853.8283193238688"
        ],
        [
         "23116",
         "16",
         "166",
         "8.102089936483107",
         "9.316867524676784",
         "2.5706869342286183",
         "2.3107273517620563",
         "2.2534047606192917",
         "6.669741977597946",
         "853.8283193238688"
        ],
        [
         "23117",
         "17",
         "166",
         "8.562088874887893",
         "9.511316234471538",
         "2.5000719984282593",
         "2.282271238321275",
         "2.1477168680129446",
         "6.3155806129927985",
         "853.8283193238688"
        ],
        [
         "23118",
         "18",
         "166",
         "9.014331256390964",
         "9.676189077306688",
         "2.6341172052321884",
         "2.2224465232948076",
         "2.324544666200458",
         "6.803315129780898",
         "853.8283193238688"
        ],
        [
         "23119",
         "19",
         "166",
         "9.458515711925187",
         "9.813823671306906",
         "2.574234372738006",
         "2.522029026771056",
         "2.1829811799149073",
         "6.842446099173117",
         "853.8283193238688"
        ],
        [
         "23120",
         "20",
         "166",
         "9.894357989421716",
         "9.926484870838411",
         "2.343955356199173",
         "2.6388460194515364",
         "2.5552262307579245",
         "6.450160877762445",
         "853.8283193238688"
        ],
        [
         "23121",
         "21",
         "166",
         "10.321590879480471",
         "10.016364528736904",
         "2.404248442442707",
         "2.3237693439589773",
         "2.1238011277954616",
         "6.73675449965312",
         "853.8283193238688"
        ],
        [
         "23122",
         "22",
         "166",
         "10.739964129426465",
         "10.08558130409124",
         "2.716554639132857",
         "2.700900409592019",
         "2.1538170877084237",
         "6.685837849416014",
         "853.8283193238688"
        ],
        [
         "23123",
         "23",
         "166",
         "11.149244345751884",
         "10.136180515582865",
         "2.840339710840592",
         "2.7790972364238726",
         "2.335157010944668",
         "6.604902735089513",
         "853.8283193238688"
        ],
        [
         "23124",
         "24",
         "166",
         "11.549214884944051",
         "10.170134040381033",
         "2.5415245358085716",
         "2.7365847101950407",
         "2.5691797243953527",
         "6.584633456518064",
         "853.8283193238688"
        ],
        [
         "23125",
         "25",
         "166",
         "11.939675732699165",
         "10.189340258593743",
         "2.892141432195886",
         "2.567067604215515",
         "2.273988808303224",
         "6.614420941309806",
         "853.8283193238688"
        ],
        [
         "23126",
         "26",
         "166",
         "12.320443371521815",
         "10.195624043274496",
         "2.879290584056435",
         "2.827371327044323",
         "2.447183994841732",
         "6.629516448176499",
         "853.8283193238688"
        ],
        [
         "23127",
         "27",
         "166",
         "12.691350636710418",
         "10.190736795984725",
         "2.9677635768666444",
         "2.4786185378968044",
         "2.5851501549220166",
         "6.757424163422514",
         "853.8283193238688"
        ],
        [
         "23128",
         "28",
         "166",
         "13.052246560728342",
         "10.176356527912052",
         "2.8235669206864418",
         "2.785730544576932",
         "2.4685443124709603",
         "6.498783894129397",
         "853.8283193238688"
        ],
        [
         "23129",
         "29",
         "166",
         "13.40299620596094",
         "10.154087986544322",
         "2.9574007437515366",
         "2.6897084657305665",
         "2.243364275596826",
         "6.600781384899175",
         "853.8283193238688"
        ],
        [
         "23130",
         "30",
         "166",
         "13.743480485858338",
         "10.125462827899298",
         "2.876956560447608",
         "2.924865207519451",
         "2.5763985951069164",
         "6.5125753432712665",
         "853.8283193238688"
        ],
        [
         "23131",
         "31",
         "166",
         "14.073595974464068",
         "10.091939834310224",
         "3.0872231814198856",
         "2.959281168766685",
         "2.170891285433735",
         "6.4621271055434475",
         "853.8283193238688"
        ],
        [
         "23132",
         "32",
         "166",
         "14.3932547043295",
         "10.05490517776708",
         "3.2873533121649",
         "3.167620735819622",
         "1.9299241111069243",
         "6.419880670040155",
         "853.8283193238688"
        ],
        [
         "23133",
         "33",
         "166",
         "14.702383952814092",
         "10.015672728813628",
         "3.3174274852338965",
         "2.7832288067278643",
         "1.8080178647811436",
         "6.39588353214448",
         "853.8283193238688"
        ],
        [
         "23134",
         "34",
         "166",
         "15.000926016771457",
         "9.97548441100018",
         "3.0863500749486388",
         "3.164771095995288",
         "1.9794952278184068",
         "6.301711094056701",
         "853.8283193238688"
        ],
        [
         "23135",
         "35",
         "166",
         "15.288837975621233",
         "9.9355106008922",
         "3.2469030199903584",
         "3.0360536499217137",
         "2.132668747677067",
         "5.848387075309091",
         "853.8283193238688"
        ],
        [
         "23136",
         "36",
         "166",
         "15.566091442806764",
         "9.896850573634572",
         "3.500856371058884",
         "2.96396171183174",
         "1.8203269606795651",
         "5.871697513532446",
         "853.8283193238688"
        ],
        [
         "23137",
         "37",
         "166",
         "15.832672305638626",
         "9.860532994071695",
         "3.597809061233368",
         "3.5048399577399874",
         "1.7596142018358678",
         "5.446482986704586",
         "853.8283193238688"
        ],
        [
         "23138",
         "38",
         "166",
         "16.08858045352392",
         "9.827516453423314",
         "3.3786754170871776",
         "3.4906561119670276",
         "1.5294568674376192",
         "5.684010865149686",
         "853.8283193238688"
        ],
        [
         "23139",
         "39",
         "166",
         "16.333829494581423",
         "9.798690051516104",
         "3.627141938219005",
         "3.7456739034704416",
         "1.7186094086623505",
         "5.305077004660742",
         "853.8283193238688"
        ],
        [
         "23140",
         "40",
         "166",
         "16.568446460642487",
         "9.774874024570998",
         "3.87511374148641",
         "3.5225196082749615",
         "1.3898366709569288",
         "5.272892831377084",
         "853.8283193238688"
        ],
        [
         "23141",
         "41",
         "166",
         "16.792471500637856",
         "9.756820418546395",
         "3.943396208777621",
         "3.997211731977673",
         "1.431271513677559",
         "4.9520621682531045",
         "853.8283193238688"
        ],
        [
         "23142",
         "42",
         "166",
         "17.005957562370185",
         "9.74521380803688",
         "4.285947549751558",
         "3.710327482939596",
         "1.380406563532636",
         "4.472731895268219",
         "853.8283193238688"
        ],
        [
         "23143",
         "43",
         "166",
         "17.208970062672446",
         "9.740672060727974",
         "4.5008713927061565",
         "4.012239278041958",
         "1.1714067765149847",
         "4.3502526360095075",
         "853.8283193238688"
        ],
        [
         "23144",
         "44",
         "166",
         "17.40158654595212",
         "9.74374714740651",
         "4.462060040477274",
         "4.087378836858404",
         "0.9442474180812472",
         "4.059793039492241",
         "853.8283193238688"
        ],
        [
         "23145",
         "45",
         "166",
         "17.58389633112119",
         "9.754925997526655",
         "4.5568777605811865",
         "4.1270025568296465",
         "1.0586454969411176",
         "3.738902177815924",
         "853.8283193238688"
        ],
        [
         "23146",
         "46",
         "166",
         "17.756000146911987",
         "9.774631400332012",
         "4.506242236140008",
         "4.540927461029432",
         "0.9039864665808964",
         "3.804101276670459",
         "853.8283193238688"
        ],
        [
         "23147",
         "47",
         "166",
         "17.918009755578815",
         "9.803222951533137",
         "5.054636641254855",
         "4.643533260453194",
         "0.8988437837856176",
         "3.7426998087946783",
         "853.8283193238688"
        ],
        [
         "23148",
         "48",
         "166",
         "18.070047564985387",
         "9.840998045541028",
         "5.219807589921194",
         "4.67828352443004",
         "0.8594443156195767",
         "3.3096813445758557",
         "853.8283193238688"
        ],
        [
         "23149",
         "49",
         "166",
         "18.212246229078108",
         "9.888192913256296",
         "5.099955530372992",
         "4.995453031419282",
         "0.8686855462807423",
         "3.1140923153739677",
         "853.8283193238688"
        ]
       ],
       "shape": {
        "columns": 9,
        "rows": 140
       }
      },
      "text/html": [
       "<div>\n",
       "<style scoped>\n",
       "    .dataframe tbody tr th:only-of-type {\n",
       "        vertical-align: middle;\n",
       "    }\n",
       "\n",
       "    .dataframe tbody tr th {\n",
       "        vertical-align: top;\n",
       "    }\n",
       "\n",
       "    .dataframe thead th {\n",
       "        text-align: right;\n",
       "    }\n",
       "</style>\n",
       "<table border=\"1\" class=\"dataframe\">\n",
       "  <thead>\n",
       "    <tr style=\"text-align: right;\">\n",
       "      <th></th>\n",
       "      <th>t</th>\n",
       "      <th>Sequenz</th>\n",
       "      <th>u1(t)</th>\n",
       "      <th>u2(t)</th>\n",
       "      <th>x1(t)</th>\n",
       "      <th>x2(t)</th>\n",
       "      <th>x3(t)</th>\n",
       "      <th>v(t)</th>\n",
       "      <th>V_total_out</th>\n",
       "    </tr>\n",
       "  </thead>\n",
       "  <tbody>\n",
       "    <tr>\n",
       "      <th>23100</th>\n",
       "      <td>0</td>\n",
       "      <td>166</td>\n",
       "      <td>0.000000</td>\n",
       "      <td>0.000000</td>\n",
       "      <td>3.324964</td>\n",
       "      <td>0.314989</td>\n",
       "      <td>1.895498</td>\n",
       "      <td>6.273484</td>\n",
       "      <td>853.828319</td>\n",
       "    </tr>\n",
       "    <tr>\n",
       "      <th>23101</th>\n",
       "      <td>1</td>\n",
       "      <td>166</td>\n",
       "      <td>0.529042</td>\n",
       "      <td>1.043326</td>\n",
       "      <td>1.830373</td>\n",
       "      <td>1.808865</td>\n",
       "      <td>1.938154</td>\n",
       "      <td>6.125705</td>\n",
       "      <td>853.828319</td>\n",
       "    </tr>\n",
       "    <tr>\n",
       "      <th>23102</th>\n",
       "      <td>2</td>\n",
       "      <td>166</td>\n",
       "      <td>1.057493</td>\n",
       "      <td>2.010149</td>\n",
       "      <td>1.824262</td>\n",
       "      <td>2.110489</td>\n",
       "      <td>2.034813</td>\n",
       "      <td>6.032023</td>\n",
       "      <td>853.828319</td>\n",
       "    </tr>\n",
       "    <tr>\n",
       "      <th>23103</th>\n",
       "      <td>3</td>\n",
       "      <td>166</td>\n",
       "      <td>1.584777</td>\n",
       "      <td>2.903901</td>\n",
       "      <td>2.092122</td>\n",
       "      <td>1.989551</td>\n",
       "      <td>2.000470</td>\n",
       "      <td>5.927173</td>\n",
       "      <td>853.828319</td>\n",
       "    </tr>\n",
       "    <tr>\n",
       "      <th>23104</th>\n",
       "      <td>4</td>\n",
       "      <td>166</td>\n",
       "      <td>2.110335</td>\n",
       "      <td>3.727952</td>\n",
       "      <td>2.102525</td>\n",
       "      <td>1.868884</td>\n",
       "      <td>2.175751</td>\n",
       "      <td>6.211442</td>\n",
       "      <td>853.828319</td>\n",
       "    </tr>\n",
       "    <tr>\n",
       "      <th>...</th>\n",
       "      <td>...</td>\n",
       "      <td>...</td>\n",
       "      <td>...</td>\n",
       "      <td>...</td>\n",
       "      <td>...</td>\n",
       "      <td>...</td>\n",
       "      <td>...</td>\n",
       "      <td>...</td>\n",
       "      <td>...</td>\n",
       "    </tr>\n",
       "    <tr>\n",
       "      <th>23235</th>\n",
       "      <td>135</td>\n",
       "      <td>166</td>\n",
       "      <td>7.906599</td>\n",
       "      <td>1.746841</td>\n",
       "      <td>4.175363</td>\n",
       "      <td>4.122193</td>\n",
       "      <td>0.560810</td>\n",
       "      <td>3.057802</td>\n",
       "      <td>853.828319</td>\n",
       "    </tr>\n",
       "    <tr>\n",
       "      <th>23236</th>\n",
       "      <td>136</td>\n",
       "      <td>166</td>\n",
       "      <td>7.303199</td>\n",
       "      <td>1.342170</td>\n",
       "      <td>4.351235</td>\n",
       "      <td>4.505727</td>\n",
       "      <td>0.704037</td>\n",
       "      <td>2.661799</td>\n",
       "      <td>853.828319</td>\n",
       "    </tr>\n",
       "    <tr>\n",
       "      <th>23237</th>\n",
       "      <td>137</td>\n",
       "      <td>166</td>\n",
       "      <td>6.663780</td>\n",
       "      <td>0.971866</td>\n",
       "      <td>4.583188</td>\n",
       "      <td>4.201297</td>\n",
       "      <td>0.403847</td>\n",
       "      <td>2.117710</td>\n",
       "      <td>853.828319</td>\n",
       "    </tr>\n",
       "    <tr>\n",
       "      <th>23238</th>\n",
       "      <td>138</td>\n",
       "      <td>166</td>\n",
       "      <td>5.986375</td>\n",
       "      <td>0.640411</td>\n",
       "      <td>4.233776</td>\n",
       "      <td>4.387759</td>\n",
       "      <td>0.176325</td>\n",
       "      <td>1.237216</td>\n",
       "      <td>853.828319</td>\n",
       "    </tr>\n",
       "    <tr>\n",
       "      <th>23239</th>\n",
       "      <td>139</td>\n",
       "      <td>166</td>\n",
       "      <td>5.268945</td>\n",
       "      <td>0.352509</td>\n",
       "      <td>4.511093</td>\n",
       "      <td>4.539180</td>\n",
       "      <td>0.198844</td>\n",
       "      <td>1.064896</td>\n",
       "      <td>853.828319</td>\n",
       "    </tr>\n",
       "  </tbody>\n",
       "</table>\n",
       "<p>140 rows × 9 columns</p>\n",
       "</div>"
      ],
      "text/plain": [
       "         t  Sequenz     u1(t)     u2(t)     x1(t)     x2(t)     x3(t)  \\\n",
       "23100    0      166  0.000000  0.000000  3.324964  0.314989  1.895498   \n",
       "23101    1      166  0.529042  1.043326  1.830373  1.808865  1.938154   \n",
       "23102    2      166  1.057493  2.010149  1.824262  2.110489  2.034813   \n",
       "23103    3      166  1.584777  2.903901  2.092122  1.989551  2.000470   \n",
       "23104    4      166  2.110335  3.727952  2.102525  1.868884  2.175751   \n",
       "...    ...      ...       ...       ...       ...       ...       ...   \n",
       "23235  135      166  7.906599  1.746841  4.175363  4.122193  0.560810   \n",
       "23236  136      166  7.303199  1.342170  4.351235  4.505727  0.704037   \n",
       "23237  137      166  6.663780  0.971866  4.583188  4.201297  0.403847   \n",
       "23238  138      166  5.986375  0.640411  4.233776  4.387759  0.176325   \n",
       "23239  139      166  5.268945  0.352509  4.511093  4.539180  0.198844   \n",
       "\n",
       "           v(t)  V_total_out  \n",
       "23100  6.273484   853.828319  \n",
       "23101  6.125705   853.828319  \n",
       "23102  6.032023   853.828319  \n",
       "23103  5.927173   853.828319  \n",
       "23104  6.211442   853.828319  \n",
       "...         ...          ...  \n",
       "23235  3.057802   853.828319  \n",
       "23236  2.661799   853.828319  \n",
       "23237  2.117710   853.828319  \n",
       "23238  1.237216   853.828319  \n",
       "23239  1.064896   853.828319  \n",
       "\n",
       "[140 rows x 9 columns]"
      ]
     },
     "execution_count": 64,
     "metadata": {},
     "output_type": "execute_result"
    }
   ],
   "source": [
    "res[res[\"V_total_out\"] == 853.8283193238688]"
   ]
  },
  {
   "cell_type": "markdown",
   "id": "c7d80a3d",
   "metadata": {},
   "source": [
    "unterschied Differenz Füllstände"
   ]
  }
 ],
 "metadata": {
  "kernelspec": {
   "display_name": ".venv",
   "language": "python",
   "name": "python3"
  },
  "language_info": {
   "codemirror_mode": {
    "name": "ipython",
    "version": 3
   },
   "file_extension": ".py",
   "mimetype": "text/x-python",
   "name": "python",
   "nbconvert_exporter": "python",
   "pygments_lexer": "ipython3",
   "version": "3.11.12"
  }
 },
 "nbformat": 4,
 "nbformat_minor": 5
}
